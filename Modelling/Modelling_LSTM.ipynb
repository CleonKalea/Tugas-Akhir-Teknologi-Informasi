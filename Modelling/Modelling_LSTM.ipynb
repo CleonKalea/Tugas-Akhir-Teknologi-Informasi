{
 "cells": [
  {
   "cell_type": "code",
   "execution_count": 1,
   "metadata": {},
   "outputs": [],
   "source": [
    "import numpy as np\n",
    "import pandas as pd\n",
    "from sklearn.model_selection import train_test_split\n",
    "import tensorflow as tf\n",
    "import nltk\n",
    "from nltk.corpus import stopwords\n",
    "import re\n",
    "from nltk.stem import PorterStemmer\n",
    "import matplotlib.pyplot as plt\n",
    "import pickle"
   ]
  },
  {
   "cell_type": "markdown",
   "metadata": {},
   "source": [
    "## Data Preparation"
   ]
  },
  {
   "cell_type": "code",
   "execution_count": 2,
   "metadata": {},
   "outputs": [],
   "source": [
    "df = pd.read_csv('../Data/STAGE 4 FINAL MERGED DATA/STAGE_4_MERGED_FINAL_ENCODED.csv')"
   ]
  },
  {
   "cell_type": "code",
   "execution_count": 3,
   "metadata": {},
   "outputs": [
    {
     "data": {
      "application/vnd.microsoft.datawrangler.viewer.v0+json": {
       "columns": [
        {
         "name": "index",
         "rawType": "int64",
         "type": "integer"
        },
        {
         "name": "klasifikasi_perkara_encoded",
         "rawType": "int64",
         "type": "integer"
        },
        {
         "name": "penuntut_umum_encoded",
         "rawType": "int64",
         "type": "integer"
        },
        {
         "name": "hakim_encoded",
         "rawType": "int64",
         "type": "integer"
        },
        {
         "name": "jumlah_saksi",
         "rawType": "int64",
         "type": "integer"
        },
        {
         "name": "maks_penjara_berdasarkan_pasal",
         "rawType": "int64",
         "type": "integer"
        },
        {
         "name": "terdakwa",
         "rawType": "object",
         "type": "string"
        },
        {
         "name": "summarized_dakwaan",
         "rawType": "object",
         "type": "string"
        },
        {
         "name": "total_pidana_penjara_bulan",
         "rawType": "float64",
         "type": "float"
        }
       ],
       "conversionMethod": "pd.DataFrame",
       "ref": "e5d55198-1ac3-4c14-a256-918bf41ba627",
       "rows": [
        [
         "0",
         "0",
         "0",
         "0",
         "6",
         "80",
         "GEDE DARMAYASA",
         "Terdakwa Gede Darmayasa didakwa telah melakukan tindak pidana pencurian buah durian di tiga lokasi berbeda di wilayah Kintamani, Kabupaten Bangli, pada bulan Mei 2024. Pada hari Selasa, 21 Mei 2024, sekitar pukul 06.00 hingga 06.30 WITA, terdakwa mencuri sebanyak 37 buah durian dari kebun milik I Wayan Sukerena, SE dan 27 buah durian dari kebun milik I Nyoman Susila. Durian-durian tersebut kemudian dijual sebagian kepada saksi Komang Ayu Anggreni dengan harga Rp4.316.000 dan sisanya dibawa pulang. Selanjutnya, pada hari Kamis, 23 Mei 2024, terdakwa menjual lagi 40 buah durian kepada Komang Sujana, di mana 24 di antaranya merupakan hasil pencurian. Kemudian pada hari Sabtu, 25 Mei 2024, sekitar pukul 06.00 WITA, terdakwa kembali melakukan pencurian sebanyak 20 buah durian dari kebun milik I Ketut Tindih dan menjual 15 buah di antaranya seharga Rp1.485.000. Total durian yang dicuri terdakwa berjumlah 67 buah tanpa seizin pemiliknya, dengan maksud untuk dimiliki secara melawan hukum dan hasil penjualannya digunakan untuk kebutuhan sehari-hari. Akibat perbuatan terdakwa, I Wayan Sukerena mengalami kerugian sebesar Rp3.330.000, I Ketut Tindih sebesar Rp3.500.000, dan I Nyoman Susila sebesar Rp2.000.000. Perbuatan terdakwa diancam pidana berdasarkan Pasal 362 KUHP jo. Pasal 65 Ayat (1) KUHP.",
         "5.0"
        ],
        [
         "1",
         "1",
         "1",
         "1",
         "4",
         "48",
         "IDA BAGUS MADE DARMA WIGUNA",
         "Pada bulan Februari dan Maret 2024, terdakwa Ida Bagus Made Darma Wiguna alias Gus Manik didakwa melakukan tindak pidana penggelapan secara berlanjut terhadap saksi korban Ni Wayan Anik Artini. Berawal dari perkenalan melalui media sosial TikTok pada Desember 2023, terdakwa dan korban menjalin hubungan hingga pada 13 Februari 2024 korban menyerahkan perhiasan kalung emas 21 karat seberat 24,55 gram untuk disimpan di rumah terdakwa. Pada 17 Februari 2024, terdakwa meminjam kalung tersebut untuk digadaikan dengan janji akan menebusnya dalam dua hari. Kalung itu kemudian digadaikan di Kantor Pegadaian Bangli seharga Rp 8.000.000. Namun, tanpa seizin korban, pada 21 Februari 2024 terdakwa kembali ke Pegadaian dan menambah nilai gadai menjadi Rp 19.600.000, menerima pencairan tambahan sebesar Rp 11.397.000, yang seluruhnya digunakan untuk keperluan pribadi. Kemudian, pada 10 Maret 2024, terdakwa meminjam ponsel Samsung Galaxy A04E milik korban dengan alasan untuk komunikasi, namun ponsel tersebut dijual seharga Rp 600.000 dan hasilnya juga dipakai untuk kebutuhan sehari-hari. Meskipun korban telah beberapa kali meminta barang-barangnya dikembalikan, terdakwa selalu mengelak dengan berbagai alasan. Akibat perbuatan terdakwa, korban mengalami kerugian sebesar Rp 26.000.000. Perbuatan Terdakwa didakwa dengan dakwaan primair Pasal 372 jo. 64 Ayat (1) KUHP, dan dakwaan subsidair Pasal 378 jo. 64 Ayat (1) KUHP.",
         "24.0"
        ],
        [
         "2",
         "0",
         "0",
         "2",
         "6",
         "84",
         "HANDRI JOHANAS",
         "Terdakwa Handri Johanes pada Rabu, 24 April 2024 sekitar pukul 03.00 WITA di sebuah kamar di Puri Kanginan, Lingkungan Banjar Puri Kanginan No. 2 Bangli, telah melakukan pencurian satu unit handphone OPPO A53 warna hitam milik I Nengah Sukadana. Kejadian bermula ketika terdakwa yang sebelumnya pernah bekerja di mebel milik Gung Aji Kartika dan terbiasa keluar masuk area puri, datang mencari temannya yang dahulu tinggal di sana. Setelah tidak menemukan temannya dan hendak pulang, terdakwa melihat sebuah handphone sedang diisi daya dalam kamar yang pintunya sedikit terbuka. Ia kemudian mengambil handphone tersebut dengan memasukkan tangan melalui celah pintu. Setelah sampai di bengkel tempat tinggalnya, terdakwa mengetahui bahwa handphone tersebut terkunci, lalu beberapa hari kemudian menjualnya kepada seseorang bernama Denny Firmansyah di Klungkung seharga Rp300.000. Uang hasil penjualan itu kemudian ia kirim ke anaknya di Lombok. Akibat perbuatan tersebut, saksi I Nengah Sukadana mengalami kerugian sebesar Rp3.999.000. Perbuatan terdakwa diancam pidana berdasarkan Pasal 363 Ayat (1) ke-3 KUHP.",
         "4.0"
        ],
        [
         "3",
         "2",
         "2",
         "1",
         "2",
         "144",
         "I GEDE ARIADI alias BERNAD",
         "Pada hari Minggu, 14 April 2024 sekitar pukul 16.35 WITA, terdakwa I Gede Ariadi alias Bernad ditangkap di Jl. Brigjen Ngurah Rai, Kelurahan Kawan, Bangli oleh tim Opsnal Satresnarkoba Polres Bangli karena kedapatan membawa narkotika jenis sabu. Kronologi bermula pada 9 April 2024 saat terdakwa berkenalan dengan seseorang bernama Kadek (DPO) melalui Facebook, lalu berkomunikasi intens melalui WhatsApp dan sepakat untuk menggunakan sabu bersama. Pada 14 April 2024 pagi, terdakwa diberi tahu oleh Mang Donal (DPO) bahwa sabu sudah tersedia dan ditempel di bawah tiang listrik di daerah Bendul, Klungkung. Terdakwa mengambil sabu yang dibungkus dalam tabung micro tube dan menyimpannya di tas selempang. Sore harinya, terdakwa berangkat menuju Bangli sesuai petunjuk lokasi dari Kadek. Setibanya di lokasi, terdakwa diamankan polisi dan saat digeledah ditemukan satu plastik klip berisi kristal sabu seberat 0,20 gram netto beserta barang bukti lainnya seperti handphone dan sepeda motor. Berdasarkan hasil uji laboratorium, kristal tersebut positif mengandung Metamfetamina yang tergolong Narkotika Golongan I. Terdakwa tidak memiliki izin dari Menteri Kesehatan atau instansi terkait untuk memiliki narkotika tersebut. Perbuatan Terdakwa didakwa dengan dakwaan primair Pasal 112 Ayat (1) UU RI No. 35 Tahun 2009 tentang Narkotika, dan dakwaan subsidair Pasal 127 Ayat (1) huruf a Undang-Undang RI No. 35 Tahun 2009 Tentang Narkotika.",
         "14.0"
        ],
        [
         "4",
         "2",
         "3",
         "1",
         "2",
         "144",
         "I GEDE ARIADI alias BERNAD",
         "Pada hari Minggu, 14 April 2024 sekitar pukul 16.35 WITA, terdakwa I Gede Ariadi alias Bernad ditangkap di Jl. Brigjen Ngurah Rai, Kelurahan Kawan, Bangli oleh tim Opsnal Satresnarkoba Polres Bangli karena kedapatan membawa narkotika jenis sabu. Kronologi bermula pada 9 April 2024 saat terdakwa berkenalan dengan seseorang bernama Kadek (DPO) melalui Facebook, lalu berkomunikasi intens melalui WhatsApp dan sepakat untuk menggunakan sabu bersama. Pada 14 April 2024 pagi, terdakwa diberi tahu oleh Mang Donal (DPO) bahwa sabu sudah tersedia dan ditempel di bawah tiang listrik di daerah Bendul, Klungkung. Terdakwa mengambil sabu yang dibungkus dalam tabung micro tube dan menyimpannya di tas selempang. Sore harinya, terdakwa berangkat menuju Bangli sesuai petunjuk lokasi dari Kadek. Setibanya di lokasi, terdakwa diamankan polisi dan saat digeledah ditemukan satu plastik klip berisi kristal sabu seberat 0,20 gram netto beserta barang bukti lainnya seperti handphone dan sepeda motor. Berdasarkan hasil uji laboratorium, kristal tersebut positif mengandung Metamfetamina yang tergolong Narkotika Golongan I. Terdakwa tidak memiliki izin dari Menteri Kesehatan atau instansi terkait untuk memiliki narkotika tersebut. Perbuatan Terdakwa didakwa dengan dakwaan primair Pasal 112 Ayat (1) UU RI No. 35 Tahun 2009 tentang Narkotika, dan dakwaan subsidair Pasal 127 Ayat (1) huruf a Undang-Undang RI No. 35 Tahun 2009 Tentang Narkotika.",
         "14.0"
        ],
        [
         "5",
         "0",
         "4",
         "1",
         "4",
         "60",
         "R. Sabirin",
         "Pada hari Selasa, 26 Maret 2024 sekitar pukul 17.10 WITA, bertempat di pinggir Jalan Raya Kintamani, Desa Kintamani, Kecamatan Kintamani, Kabupaten Bangli, Terdakwa melakukan pencurian dengan mengambil satu unit sepeda motor Honda Scoopy warna merah hitam DK 6384 PQ, yang sebagian atau seluruhnya milik orang lain, dengan maksud untuk dimiliki secara melawan hukum. Sebelumnya, pada 25 Maret 2024 pukul 13.00 WITA, Terdakwa berangkat dari Panarukan, Singaraja menuju Terminal Ubung Denpasar dengan menumpang truk, dengan tujuan mencuri sepeda motor. Tiba di Terminal Ubung sekitar pukul 14.30 WITA, Terdakwa menginap semalam karena hujan deras. Esok harinya, Terdakwa dijemput oleh temannya, WAHYU EKA JAYA (DPO), yang datang mengendarai sepeda motor Yamaha Vixion warna hitam. Mereka lalu pergi ke Kintamani untuk jalan-jalan. Sekitar pukul 17.10 WITA, mereka melihat sebuah motor Honda Scoopy terparkir di pinggir jalan dengan kunci masih tergantung. Setelah WAHYU EKA JAYA pergi meninggalkannya, Terdakwa mendekati motor tersebut, lalu mendorongnya sejauh sekitar 10 meter sebelum akhirnya menyalakan mesin dan melarikan diri menuju Denpasar melalui Payangan, Gianyar. Di daerah Ubud, Terdakwa dihentikan oleh seorang petugas Polsek Kintamani bernama I Gede Dipta Wirama Darma dan tidak dapat menunjukkan STNK kendaraan. Terdakwa kemudian diamankan beserta barang bukti ke Polsek Kintamani. Akibat perbuatan tersebut, korban, Ni Wayan Srimertanadi, mengalami kerugian sekitar Rp20.000.000\\. Perbuatan Terdakwa diatur dan diancam pidana dalam Pasal 362 KUHP.",
         "14.0"
        ],
        [
         "6",
         "2",
         "4",
         "1",
         "4",
         "144",
         "NOVANI ARI HIFNI Alias ARI",
         "Pada Minggu, 17 Maret 2024 sekitar pukul 18.10 WITA, terdakwa Novani Ari Hifni alias Ari ditangkap di pinggir Jalan Merdeka, Tamanbali, Bangli oleh petugas Satresnarkoba Polres Bangli karena kedapatan membawa narkotika jenis sabu. Sebelumnya, terdakwa menghubungi rekannya bernama Wewe (DPO) melalui Facebook untuk mencari sabu, kemudian diarahkan untuk menghubungi Rizal (DPO). Rizal menyanggupi permintaan terdakwa dengan sistem hutang dan mengirimkan lokasi pengambilan barang di Bangli. Terdakwa lalu mengajak temannya, saksi K. M. Sahrijal Jabar, untuk mengantarkan ke lokasi dengan imbalan uang. Setelah mengambil sabu yang disembunyikan di dekat tembok dengan berpura-pura buang air kecil, terdakwa melanjutkan perjalanan, namun akhirnya dihentikan dan diamankan oleh petugas. Saat digeledah, ditemukan satu plastik berisi sabu dalam botol Yakult serta peralatan hisap lainnya di dalam tas terdakwa, sementara pada saksi Sahrijal tidak ditemukan barang terlarang. Hasil pemeriksaan laboratorium terhadap kristal bening dan urine terdakwa menunjukkan keduanya positif mengandung metamfetamina, yang tergolong Narkotika Golongan I. Perbuatan Terdakwa didakwa dengan dakwaan primair Pasal 112 Ayat (1) Undang-Undang RI No. 35 Tahun 2009 tentang Narkotika, dan dakwaan subsidair Pasal 127 Ayat (1) huruf a Undang-Undang RI No. 35 Tahun 2009 tentang Narkotika.",
         "24.0"
        ],
        [
         "7",
         "2",
         "5",
         "1",
         "4",
         "144",
         "NOVANI ARI HIFNI Alias ARI",
         "Pada Minggu, 17 Maret 2024 sekitar pukul 18.10 WITA, terdakwa Novani Ari Hifni alias Ari ditangkap di pinggir Jalan Merdeka, Tamanbali, Bangli oleh petugas Satresnarkoba Polres Bangli karena kedapatan membawa narkotika jenis sabu. Sebelumnya, terdakwa menghubungi rekannya bernama Wewe (DPO) melalui Facebook untuk mencari sabu, kemudian diarahkan untuk menghubungi Rizal (DPO). Rizal menyanggupi permintaan terdakwa dengan sistem hutang dan mengirimkan lokasi pengambilan barang di Bangli. Terdakwa lalu mengajak temannya, saksi K. M. Sahrijal Jabar, untuk mengantarkan ke lokasi dengan imbalan uang. Setelah mengambil sabu yang disembunyikan di dekat tembok dengan berpura-pura buang air kecil, terdakwa melanjutkan perjalanan, namun akhirnya dihentikan dan diamankan oleh petugas. Saat digeledah, ditemukan satu plastik berisi sabu dalam botol Yakult serta peralatan hisap lainnya di dalam tas terdakwa, sementara pada saksi Sahrijal tidak ditemukan barang terlarang. Hasil pemeriksaan laboratorium terhadap kristal bening dan urine terdakwa menunjukkan keduanya positif mengandung metamfetamina, yang tergolong Narkotika Golongan I. Perbuatan Terdakwa didakwa dengan dakwaan primair Pasal 112 Ayat (1) Undang-Undang RI No. 35 Tahun 2009 tentang Narkotika, dan dakwaan subsidair Pasal 127 Ayat (1) huruf a Undang-Undang RI No. 35 Tahun 2009 tentang Narkotika.",
         "24.0"
        ],
        [
         "8",
         "2",
         "6",
         "1",
         "4",
         "240",
         "MULYADI alias MUL",
         "Pada Selasa, 9 Januari 2024 sekitar pukul 17.30 WITA di Jalan Bima, Kelurahan Cempaga, Bangli, terdakwa Mulyadi alias Mul ditangkap karena tanpa hak menawarkan dan membawa narkotika jenis sabu. Sebelumnya, terdakwa dihubungi oleh rekannya, Kadek (DPO), untuk mengantarkan sabu ke Bangli. Setelah bertemu dengan kurir Kadek di Lapangan Lumintang, Denpasar, terdakwa menerima sabu dalam amplop putih, sempat mencicipinya, dan menyimpannya di dashboard mobil lalu berpindah ke tas pinggang. Sekitar pukul 15.00 WITA, terdakwa berangkat ke Bangli dan tiba di lokasi yang diarahkan Kadek. Saat tiba di kos-kosan milik kakak Kadek, terdakwa diamankan oleh polisi. Dalam penggeledahan, ditemukan sabu, alat isap, korek api modifikasi, dan barang bukti lainnya. Berdasarkan hasil laboratorium, kristal yang disita terbukti mengandung metamfetamina yang termasuk Narkotika Golongan I, sedangkan urine terdakwa tidak mengandung narkotika. Perbuatan Terdakwa didakwa dengan dakwaan primair Pasal 114 Ayat (1) UU RI No. 35 Tahun 2009 tentang Narkotika, dan dakwaan subsidair Pasal 112 Ayat (1) UU RI No. 35 tahun 2009 tentang Narkotika.",
         "51.0"
        ],
        [
         "9",
         "0",
         "7",
         "1",
         "6",
         "80",
         "I WAYAN ARTAYASA",
         "Terdakwa I Wayan Artayasa didakwa telah melakukan serangkaian pencurian secara berulang di Pasar Kidul Bangli, dengan sasaran utama dagangan milik ibunya sendiri, Ni Nyoman Suwini, serta milik pedagang lain seperti Ni Luh Utari dan Ni Ketut Suci. Perbuatan tersebut dilakukan sejak Desember 2023 hingga Februari 2024, pada dini hari antara pukul 03.00 hingga 04.00 WITA. Modus operandi yang digunakan adalah dengan masuk ke pasar melalui celah jeruji besi, membuka terpal dagangan, dan mengambil berbagai bahan pokok seperti kemiri, kacang tanah, gula merah, kacang hijau, dan beras. Barang-barang hasil curian tersebut kemudian dijual oleh terdakwa di Pasar Kidul Bangli dan Pasar Singamandawa Kintamani untuk memenuhi kebutuhan sehari-hari. Perbuatan terdakwa dilakukan tanpa seizin atau sepengetahuan para pemilik barang, dan telah menyebabkan kerugian bagi para korban. Berdasarkan perbuatannya tersebut, terdakwa didakwa dengan Pasal 362 KUHP jo. Pasal 65 Ayat (1) KUHP pada dakwaan primair dan Pasal 367 Ayat (2) KUHP jo. Pasal 65 Ayat (1) KUHP untuk dakwaan subsidair.",
         "12.0"
        ],
        [
         "10",
         "0",
         "4",
         "3",
         "4",
         "60",
         "RURY HERAWATI",
         "Terdakwa Rury Herawati pada tanggal 20 November 2023 sekitar pukul 15.15 WITA telah melakukan pencurian di Toko Ari Kebaya, Jalan Nusantara, Bangli. Terdakwa datang dari Denpasar dengan niat mencuri dan setelah mencari toko yang sepi, ia berpura-pura sebagai pembeli. Saat penjaga toko sedang membelakangi untuk mencarikan sandal, Terdakwa membuka lemari yang tidak terkunci dan mengambil tas kain berisi dua dompet dengan total uang Rp16.500.000,- milik saksi Ni Nengah Ngariasi. Setelah mengambil tas, Terdakwa berpura-pura hendak mengambil uang di ATM dan langsung pergi meninggalkan dua selendang yang sudah dibayar. Uang hasil pencurian digunakan untuk membeli berbagai barang seperti HP, emas, pakaian, serta kebutuhan sehari-hari. Sisa uang yang dicuri masih tersisa sebesar Rp5.778.000. Berdasarkan laporan polisi dan penyelidikan, Terdakwa mengakui perbuatannya dan kini telah diamankan bersama barang bukti untuk proses hukum lebih lanjut. Perbuatannya diancam pidana sesuai Pasal 362 KUHP.",
         "16.0"
        ],
        [
         "11",
         "3",
         "7",
         "1",
         "8",
         "48",
         "I KETUT SUPUTRA",
         "Bahwa para Terdakwa, yakni Terdakwa I Ketut Suputra dan Terdakwa II Ni Komang Warsiki, dalam kurun waktu antara bulan Mei 2019 sampai dengan Oktober 2020, bertempat di gudang milik para Terdakwa yang beralamat di Jalan Soekarno, Banjar Dukuh, Desa Bunutin, Kecamatan Bangli, Kabupaten Bangli, telah melakukan perbuatan melawan hukum dengan cara menguasai secara melawan hak barang titipan milik PT. Putra Dewata Sejati. Awalnya, Terdakwa I menjalin kerja sama usaha penjualan produk minuman bermerek Aqua dengan PT. Putra Dewata Sejati di bawah nama usaha UD. Sari Merta berdasarkan Surat Kesepakatan Nomor 002/SP/PDS-BALI/IV/2019 tanggal 6 April 2019. Dalam pelaksanaan kerja sama tersebut, PT. Putra Dewata Sejati menyerahkan sejumlah barang titipan kepada UD. Sari Merta untuk dijual kembali, dengan ketentuan bahwa harga pokok barang harus disetorkan kembali kepada PT. Putra Dewata Sejati setelah barang terjual, sedangkan selisih harga jual menjadi keuntungan bagi UD. Sari Merta. Dalam pelaksanaan usahanya, Terdakwa I selaku penanggung jawab operasional dan Terdakwa II sebagai bagian administrasi bertugas mengelola penjualan, keuangan, dan pembayaran kepada pihak supplier. Akan tetapi, sejak bulan Mei 2019, para Terdakwa mulai tidak menyetorkan secara penuh hasil penjualan barang, dan sejak bulan Oktober 2020 tidak lagi melakukan penyetoran sama sekali, padahal seluruh barang titipan telah terjual. Uang hasil penjualan tersebut justru digunakan oleh para Terdakwa untuk membayar gaji karyawan, menutupi biaya operasional, serta memenuhi kebutuhan hidup pribadi, tanpa seizin atau sepengetahuan PT. Putra Dewata Sejati. Perbuatan para Terdakwa tersebut telah mengakibatkan kerugian keuangan bagi PT. Putra Dewata Sejati sebesar Rp413.883.979,- (empat ratus tiga belas juta delapan ratus delapan puluh tiga ribu sembilan ratus tujuh puluh sembilan rupiah). Perbuatan tersebut dilakukan secara bersama-sama dan berlanjut, serta diatur dan diancam pidana dalam Pasal 372 KUHP jo. Pasal 55 Ayat (1) ke-1 KUHP jo. Pasal 64 Ayat (1) KUHP.",
         "18.0"
        ],
        [
         "12",
         "3",
         "5",
         "1",
         "8",
         "48",
         "I KETUT SUPUTRA",
         "Bahwa para Terdakwa, yakni Terdakwa I Ketut Suputra dan Terdakwa II Ni Komang Warsiki, dalam kurun waktu antara bulan Mei 2019 sampai dengan Oktober 2020, bertempat di gudang milik para Terdakwa yang beralamat di Jalan Soekarno, Banjar Dukuh, Desa Bunutin, Kecamatan Bangli, Kabupaten Bangli, telah melakukan perbuatan melawan hukum dengan cara menguasai secara melawan hak barang titipan milik PT. Putra Dewata Sejati. Awalnya, Terdakwa I menjalin kerja sama usaha penjualan produk minuman bermerek Aqua dengan PT. Putra Dewata Sejati di bawah nama usaha UD. Sari Merta berdasarkan Surat Kesepakatan Nomor 002/SP/PDS-BALI/IV/2019 tanggal 6 April 2019. Dalam pelaksanaan kerja sama tersebut, PT. Putra Dewata Sejati menyerahkan sejumlah barang titipan kepada UD. Sari Merta untuk dijual kembali, dengan ketentuan bahwa harga pokok barang harus disetorkan kembali kepada PT. Putra Dewata Sejati setelah barang terjual, sedangkan selisih harga jual menjadi keuntungan bagi UD. Sari Merta. Dalam pelaksanaan usahanya, Terdakwa I selaku penanggung jawab operasional dan Terdakwa II sebagai bagian administrasi bertugas mengelola penjualan, keuangan, dan pembayaran kepada pihak supplier. Akan tetapi, sejak bulan Mei 2019, para Terdakwa mulai tidak menyetorkan secara penuh hasil penjualan barang, dan sejak bulan Oktober 2020 tidak lagi melakukan penyetoran sama sekali, padahal seluruh barang titipan telah terjual. Uang hasil penjualan tersebut justru digunakan oleh para Terdakwa untuk membayar gaji karyawan, menutupi biaya operasional, serta memenuhi kebutuhan hidup pribadi, tanpa seizin atau sepengetahuan PT. Putra Dewata Sejati. Perbuatan para Terdakwa tersebut telah mengakibatkan kerugian keuangan bagi PT. Putra Dewata Sejati sebesar Rp413.883.979,- (empat ratus tiga belas juta delapan ratus delapan puluh tiga ribu sembilan ratus tujuh puluh sembilan rupiah). Perbuatan tersebut dilakukan secara bersama-sama dan berlanjut, serta diatur dan diancam pidana dalam Pasal 372 KUHP jo. Pasal 55 Ayat (1) ke-1 KUHP jo. Pasal 64 Ayat (1) KUHP.",
         "18.0"
        ],
        [
         "13",
         "3",
         "7",
         "1",
         "8",
         "48",
         "NI KOMANG WARSIKI",
         "Bahwa para Terdakwa, yakni Terdakwa I Ketut Suputra dan Terdakwa II Ni Komang Warsiki, dalam kurun waktu antara bulan Mei 2019 sampai dengan Oktober 2020, bertempat di gudang milik para Terdakwa yang beralamat di Jalan Soekarno, Banjar Dukuh, Desa Bunutin, Kecamatan Bangli, Kabupaten Bangli, telah melakukan perbuatan melawan hukum dengan cara menguasai secara melawan hak barang titipan milik PT. Putra Dewata Sejati. Awalnya, Terdakwa I menjalin kerja sama usaha penjualan produk minuman bermerek Aqua dengan PT. Putra Dewata Sejati di bawah nama usaha UD. Sari Merta berdasarkan Surat Kesepakatan Nomor 002/SP/PDS-BALI/IV/2019 tanggal 6 April 2019. Dalam pelaksanaan kerja sama tersebut, PT. Putra Dewata Sejati menyerahkan sejumlah barang titipan kepada UD. Sari Merta untuk dijual kembali, dengan ketentuan bahwa harga pokok barang harus disetorkan kembali kepada PT. Putra Dewata Sejati setelah barang terjual, sedangkan selisih harga jual menjadi keuntungan bagi UD. Sari Merta. Dalam pelaksanaan usahanya, Terdakwa I selaku penanggung jawab operasional dan Terdakwa II sebagai bagian administrasi bertugas mengelola penjualan, keuangan, dan pembayaran kepada pihak supplier. Akan tetapi, sejak bulan Mei 2019, para Terdakwa mulai tidak menyetorkan secara penuh hasil penjualan barang, dan sejak bulan Oktober 2020 tidak lagi melakukan penyetoran sama sekali, padahal seluruh barang titipan telah terjual. Uang hasil penjualan tersebut justru digunakan oleh para Terdakwa untuk membayar gaji karyawan, menutupi biaya operasional, serta memenuhi kebutuhan hidup pribadi, tanpa seizin atau sepengetahuan PT. Putra Dewata Sejati. Perbuatan para Terdakwa tersebut telah mengakibatkan kerugian keuangan bagi PT. Putra Dewata Sejati sebesar Rp413.883.979,- (empat ratus tiga belas juta delapan ratus delapan puluh tiga ribu sembilan ratus tujuh puluh sembilan rupiah). Perbuatan tersebut dilakukan secara bersama-sama dan berlanjut, serta diatur dan diancam pidana dalam Pasal 372 KUHP jo. Pasal 55 Ayat (1) ke-1 KUHP jo. Pasal 64 Ayat (1) KUHP.",
         "10.0"
        ],
        [
         "14",
         "3",
         "5",
         "1",
         "8",
         "48",
         "NI KOMANG WARSIKI",
         "Bahwa para Terdakwa, yakni Terdakwa I Ketut Suputra dan Terdakwa II Ni Komang Warsiki, dalam kurun waktu antara bulan Mei 2019 sampai dengan Oktober 2020, bertempat di gudang milik para Terdakwa yang beralamat di Jalan Soekarno, Banjar Dukuh, Desa Bunutin, Kecamatan Bangli, Kabupaten Bangli, telah melakukan perbuatan melawan hukum dengan cara menguasai secara melawan hak barang titipan milik PT. Putra Dewata Sejati. Awalnya, Terdakwa I menjalin kerja sama usaha penjualan produk minuman bermerek Aqua dengan PT. Putra Dewata Sejati di bawah nama usaha UD. Sari Merta berdasarkan Surat Kesepakatan Nomor 002/SP/PDS-BALI/IV/2019 tanggal 6 April 2019. Dalam pelaksanaan kerja sama tersebut, PT. Putra Dewata Sejati menyerahkan sejumlah barang titipan kepada UD. Sari Merta untuk dijual kembali, dengan ketentuan bahwa harga pokok barang harus disetorkan kembali kepada PT. Putra Dewata Sejati setelah barang terjual, sedangkan selisih harga jual menjadi keuntungan bagi UD. Sari Merta. Dalam pelaksanaan usahanya, Terdakwa I selaku penanggung jawab operasional dan Terdakwa II sebagai bagian administrasi bertugas mengelola penjualan, keuangan, dan pembayaran kepada pihak supplier. Akan tetapi, sejak bulan Mei 2019, para Terdakwa mulai tidak menyetorkan secara penuh hasil penjualan barang, dan sejak bulan Oktober 2020 tidak lagi melakukan penyetoran sama sekali, padahal seluruh barang titipan telah terjual. Uang hasil penjualan tersebut justru digunakan oleh para Terdakwa untuk membayar gaji karyawan, menutupi biaya operasional, serta memenuhi kebutuhan hidup pribadi, tanpa seizin atau sepengetahuan PT. Putra Dewata Sejati. Perbuatan para Terdakwa tersebut telah mengakibatkan kerugian keuangan bagi PT. Putra Dewata Sejati sebesar Rp413.883.979,- (empat ratus tiga belas juta delapan ratus delapan puluh tiga ribu sembilan ratus tujuh puluh sembilan rupiah). Perbuatan tersebut dilakukan secara bersama-sama dan berlanjut, serta diatur dan diancam pidana dalam Pasal 372 KUHP jo. Pasal 55 Ayat (1) ke-1 KUHP jo. Pasal 64 Ayat (1) KUHP.",
         "10.0"
        ],
        [
         "15",
         "0",
         "8",
         "0",
         "6",
         "144",
         "I KETUT JONI ADNYANA ADI PUTRA",
         "Terdakwa I Ketut Joni Adnyana Adi Putra dan Terdakwa II Rosita Evayanti Dewi melakukan pencurian sepeda motor di dua lokasi berbeda di wilayah Kintamani, Bangli. Aksi pertama dilakukan pada 10 September 2023 sekitar pukul 01.00 WITA di parkiran Sukawana Sunrise, di mana Terdakwa I mengambil sepeda motor Yamaha NMAX DK 3498 PT milik saksi Made Yusa Paramartha dengan cara mendorong motor yang tidak terkunci dan menyalakan mesin menggunakan alat-alat seperti obeng, tang, dan kunci L. Motor hasil curian ini digunakan untuk keperluan sehari-hari. Aksi kedua dilakukan pada 1 Oktober 2023 sekitar pukul 02.00 WITA di parkiran Le Monte Sunrise. Dengan menggunakan mobil sewaan, kedua terdakwa kembali ke Kintamani dan Terdakwa I mencuri motor Yamaha NMAX DK 6992 LB milik I Kadek Indrawan dengan modus serupa. Sepeda motor tersebut kemudian dijual secara daring seharga Rp5.300.000. Akibat perbuatan kedua terdakwa, saksi Made Yusa Paramartha mengalami kerugian sebesar Rp25.500.000,- dan saksi I Kadek Indrawan mengalami kerugian sebesar Rp26.700.000,-. Perbuatan para terdakwa diancam pidana berdasarkan Pasal 363 Ayat (1) ke-4 KUHP jo. Pasal 65 Ayat (1) KUHP.",
         "16.0"
        ],
        [
         "16",
         "0",
         "9",
         "0",
         "6",
         "144",
         "I KETUT JONI ADNYANA ADI PUTRA",
         "Terdakwa I Ketut Joni Adnyana Adi Putra dan Terdakwa II Rosita Evayanti Dewi melakukan pencurian sepeda motor di dua lokasi berbeda di wilayah Kintamani, Bangli. Aksi pertama dilakukan pada 10 September 2023 sekitar pukul 01.00 WITA di parkiran Sukawana Sunrise, di mana Terdakwa I mengambil sepeda motor Yamaha NMAX DK 3498 PT milik saksi Made Yusa Paramartha dengan cara mendorong motor yang tidak terkunci dan menyalakan mesin menggunakan alat-alat seperti obeng, tang, dan kunci L. Motor hasil curian ini digunakan untuk keperluan sehari-hari. Aksi kedua dilakukan pada 1 Oktober 2023 sekitar pukul 02.00 WITA di parkiran Le Monte Sunrise. Dengan menggunakan mobil sewaan, kedua terdakwa kembali ke Kintamani dan Terdakwa I mencuri motor Yamaha NMAX DK 6992 LB milik I Kadek Indrawan dengan modus serupa. Sepeda motor tersebut kemudian dijual secara daring seharga Rp5.300.000. Akibat perbuatan kedua terdakwa, saksi Made Yusa Paramartha mengalami kerugian sebesar Rp25.500.000,- dan saksi I Kadek Indrawan mengalami kerugian sebesar Rp26.700.000,-. Perbuatan para terdakwa diancam pidana berdasarkan Pasal 363 Ayat (1) ke-4 KUHP jo. Pasal 65 Ayat (1) KUHP.",
         "16.0"
        ],
        [
         "17",
         "0",
         "8",
         "0",
         "6",
         "144",
         "ROSITA EVAYANTI DEWI",
         "Terdakwa I Ketut Joni Adnyana Adi Putra dan Terdakwa II Rosita Evayanti Dewi melakukan pencurian sepeda motor di dua lokasi berbeda di wilayah Kintamani, Bangli. Aksi pertama dilakukan pada 10 September 2023 sekitar pukul 01.00 WITA di parkiran Sukawana Sunrise, di mana Terdakwa I mengambil sepeda motor Yamaha NMAX DK 3498 PT milik saksi Made Yusa Paramartha dengan cara mendorong motor yang tidak terkunci dan menyalakan mesin menggunakan alat-alat seperti obeng, tang, dan kunci L. Motor hasil curian ini digunakan untuk keperluan sehari-hari. Aksi kedua dilakukan pada 1 Oktober 2023 sekitar pukul 02.00 WITA di parkiran Le Monte Sunrise. Dengan menggunakan mobil sewaan, kedua terdakwa kembali ke Kintamani dan Terdakwa I mencuri motor Yamaha NMAX DK 6992 LB milik I Kadek Indrawan dengan modus serupa. Sepeda motor tersebut kemudian dijual secara daring seharga Rp5.300.000. Akibat perbuatan kedua terdakwa, saksi Made Yusa Paramartha mengalami kerugian sebesar Rp25.500.000,- dan saksi I Kadek Indrawan mengalami kerugian sebesar Rp26.700.000,-. Perbuatan para terdakwa diancam pidana berdasarkan Pasal 363 Ayat (1) ke-4 KUHP jo. Pasal 65 Ayat (1) KUHP.",
         "14.0"
        ],
        [
         "18",
         "0",
         "9",
         "0",
         "6",
         "144",
         "ROSITA EVAYANTI DEWI",
         "Terdakwa I Ketut Joni Adnyana Adi Putra dan Terdakwa II Rosita Evayanti Dewi melakukan pencurian sepeda motor di dua lokasi berbeda di wilayah Kintamani, Bangli. Aksi pertama dilakukan pada 10 September 2023 sekitar pukul 01.00 WITA di parkiran Sukawana Sunrise, di mana Terdakwa I mengambil sepeda motor Yamaha NMAX DK 3498 PT milik saksi Made Yusa Paramartha dengan cara mendorong motor yang tidak terkunci dan menyalakan mesin menggunakan alat-alat seperti obeng, tang, dan kunci L. Motor hasil curian ini digunakan untuk keperluan sehari-hari. Aksi kedua dilakukan pada 1 Oktober 2023 sekitar pukul 02.00 WITA di parkiran Le Monte Sunrise. Dengan menggunakan mobil sewaan, kedua terdakwa kembali ke Kintamani dan Terdakwa I mencuri motor Yamaha NMAX DK 6992 LB milik I Kadek Indrawan dengan modus serupa. Sepeda motor tersebut kemudian dijual secara daring seharga Rp5.300.000. Akibat perbuatan kedua terdakwa, saksi Made Yusa Paramartha mengalami kerugian sebesar Rp25.500.000,- dan saksi I Kadek Indrawan mengalami kerugian sebesar Rp26.700.000,-. Perbuatan para terdakwa diancam pidana berdasarkan Pasal 363 Ayat (1) ke-4 KUHP jo. Pasal 65 Ayat (1) KUHP.",
         "14.0"
        ],
        [
         "19",
         "0",
         "1",
         "0",
         "4",
         "60",
         "I NYOMAN BUDIAWAN Als. SUMAWAN",
         "Pada hari Rabu, 25 Oktober 2023 sekitar pukul 13.00 WITA, terdakwa I Nyoman Budiawan alias Sumawan melakukan pencurian kartu ATM BRI milik saksi Luh Putu Widiantari di Toko UD. Langsung Jaya, Jalan Raya Kintamani, Desa Kintamani, Kecamatan Kintamani, Kabupaten Bangli. Awalnya, terdakwa datang ke toko tersebut untuk mentransfer uang, namun saat mengetahui mesin BRI Link rusak dan pegawai toko pergi, terdakwa memanfaatkan situasi sepi untuk mengambil kartu ATM yang berada di atas meja kasir. Terdakwa kemudian pulang ke rumahnya dan menggunakan kartu ATM tersebut di mesin ATM BRI Toya Devasya, dengan memasukkan PIN 020202 yang telah ia ketahui sebelumnya karena sering melihat pegawai toko menggunakannya. Terdakwa melakukan penarikan tunai sebanyak empat kali dengan total Rp10.000.000. Setelah menerima laporan dari korban, pihak kepolisian melakukan olah TKP dan berhasil mengamankan terdakwa di rumahnya pada 28 Oktober 2023. Akibat perbuatannya, korban mengalami kerugian sebesar Rp10.000.000. Perbuatan terdakwa diancam pidana berdasarkan Pasal 362 KUHP.",
         "14.0"
        ],
        [
         "20",
         "0",
         "0",
         "0",
         "4",
         "60",
         "I NYOMAN BUDIAWAN Als. SUMAWAN",
         "Pada hari Rabu, 25 Oktober 2023 sekitar pukul 13.00 WITA, terdakwa I Nyoman Budiawan alias Sumawan melakukan pencurian kartu ATM BRI milik saksi Luh Putu Widiantari di Toko UD. Langsung Jaya, Jalan Raya Kintamani, Desa Kintamani, Kecamatan Kintamani, Kabupaten Bangli. Awalnya, terdakwa datang ke toko tersebut untuk mentransfer uang, namun saat mengetahui mesin BRI Link rusak dan pegawai toko pergi, terdakwa memanfaatkan situasi sepi untuk mengambil kartu ATM yang berada di atas meja kasir. Terdakwa kemudian pulang ke rumahnya dan menggunakan kartu ATM tersebut di mesin ATM BRI Toya Devasya, dengan memasukkan PIN 020202 yang telah ia ketahui sebelumnya karena sering melihat pegawai toko menggunakannya. Terdakwa melakukan penarikan tunai sebanyak empat kali dengan total Rp10.000.000. Setelah menerima laporan dari korban, pihak kepolisian melakukan olah TKP dan berhasil mengamankan terdakwa di rumahnya pada 28 Oktober 2023. Akibat perbuatannya, korban mengalami kerugian sebesar Rp10.000.000. Perbuatan terdakwa diancam pidana berdasarkan Pasal 362 KUHP.",
         "14.0"
        ],
        [
         "21",
         "1",
         "10",
         "0",
         "7",
         "48",
         "DESAK MADE CITRAWATI",
         "Pada bulan April 2023, terdakwa Desak Made Citrawati didakwa melakukan tindak pidana penipuan secara berlanjut terhadap dua korban, yaitu I Putu Sutarga dan Pande Ketut Suarca, dengan total kerugian mencapai lebih dari Rp 391 juta. Modus operandi terdakwa adalah membeli telur dan beras dalam jumlah besar dari kedua korban dengan dalih pembayaran menggunakan cek mundur, disertai pernyataan palsu bahwa ia memiliki aset tanah di Singaraja yang sedang dalam proses penjualan. Terdakwa memesan telur sebanyak 4.435 krei dari I Putu Sutarga senilai total Rp 228.600.000, dan beras sebanyak 14.500 kg dari Pande Ketut Suarca dengan total nilai Rp 162.400.000. Setiap transaksi dilakukan secara bertahap pada tanggal 21, 23, 25, dan 28 April 2023. Terdakwa meyakinkan para korban dengan janji pelunasan dan surat pengakuan utang, namun setelah cek jatuh tempo, tidak ada dana yang tersedia. Pemeriksaan terhadap klaim kepemilikan tanah menunjukkan bahwa terdakwa hanya memberikan uang muka atas tanah tersebut dan belum ada kepastian transaksi. Perbuatan Terdakwa didakwa dengan dakwaan primair Pasal 378 jo. Pasal 64 Ayat (1) ke-1 KUHP, dan dakwaan subsidair 379a KUHP Jo. Pasal 64 Ayat (1) ke-1 KUHP.",
         "30.0"
        ],
        [
         "22",
         "0",
         "11",
         "4",
         "3",
         "108",
         "I KETUT DENA",
         "Pada hari Jumat, 5 Februari 2021 sekitar pukul 19.00 WITA, terdakwa I Ketut Dena bersama Dewa Made Sujana (dalam berkas terpisah) melakukan pencurian satu unit sepeda motor Honda Scoopy warna hitam kombinasi merah dengan nomor polisi DK 5807 PS yang terparkir di depan rumah saksi I Nengah Sumerta di Desa Yangapi, Kecamatan Tembuku, Kabupaten Bangli. Sebelumnya, kedua terdakwa sempat pergi ke beberapa lokasi sabung ayam. Saat melintasi lokasi kejadian, Dewa Made Sujana melihat motor dalam keadaan tidak terkunci dan memerintahkan Ketut Dena untuk berjaga sementara dirinya mengambil sepeda motor tersebut. Setelah berhasil menghidupkan dan membawa motor itu, mereka menyembunyikannya di bawah jembatan di Gianyar. Keesokan harinya, motor tersebut diambil kembali dan diganti plat nomornya menggunakan plat dari motor lain, kemudian dibawa ke rumah Dewa Made Sujana. Sore harinya, Dewa Made Sujana ditangkap karena kasus pencurian handphone dan meminta Ketut Dena mengambil motor tersebut. Karena motor terkunci dan kuncinya masih disimpan Dewa Made Sujana, Ketut Dena memanggil tukang kunci untuk membuat duplikat. Motor curian itu lalu digadaikan oleh Ketut Dena kepada saksi Luh Sriani seharga Rp2.000.000 tanpa dokumen STNK atau BPKB. Korban, I Wayan Miyasa, melaporkan kehilangan tersebut ke Polsek Tembuku. Sekitar seminggu kemudian, Ketut Dena ditangkap atas kasus penadahan, mengakui perbuatannya, dan membantu polisi mencari motor dan kunci aslinya yang ditemukan di tas milik Dewa Made Sujana. Akibat perbuatan tersebut, korban mengalami kerugian sekitar Rp15.000.000. Tindak pidana ini diancam dengan 2 dakwaan yaitu dakwaan primair dengan Pasal 363 ayat (1) ke-4 KUHP serta dakwaan subsidair dengan Pasal 326 KUHP.",
         "12.0"
        ],
        [
         "23",
         "0",
         "11",
         "4",
         "6",
         "84",
         "DEWA MADE SUJANA",
         "Pada hari Jumat, 5 Februari 2021 sekitar pukul 09.30 WITA, Terdakwa Dewa Made Sujana bersama I Ketut Dena (berkas terpisah) pergi ke Nongan, Karangasem untuk menonton sabung ayam dengan mengendarai sepeda motor Honda Scoopy warna coklat hitam. Sekitar pukul 14.30 WITA, mereka mendengar ada sabung ayam di Pulasari, Tembuku, namun karena acara tersebut tidak ada, mereka kembali melewati Banjar Sideparna, Desa Yangapi, Bangli. Di lokasi tersebut, Terdakwa melihat sepeda motor Honda Scoopy warna hitam kombinasi merah yang terparkir dengan kunci masih menggantung, lalu meminta I Ketut Dena berhenti untuk mengawasi sekitar. Setelah merasa aman, Terdakwa menyalakan dan membawa kabur sepeda motor tersebut, sedangkan I Ketut Dena mengikuti dengan motor yang mereka gunakan sebelumnya. Motor hasil curian tersebut disembunyikan di bawah jembatan dekat Pantai Lebih, Gianyar. Keesokan harinya, mereka kembali mengambil motor tersebut dan mengganti plat nomornya dengan yang diambil dari motor lain, kemudian motor dibawa ke rumah Terdakwa di Ubud dan diparkir di garasi. Pada sore harinya, Terdakwa ditangkap oleh Polsek Sukawati atas kasus pencurian handphone. Saat penggeledahan, ditemukan kunci asli motor curian di tas milik Terdakwa yang diserahkan oleh istrinya. Akibat perbuatan tersebut, saksi korban I Wayan Miyasa mengalami kerugian sebesar Rp15.000.000. Perbuatan Terdakwa didakwa dengan dakwaan primair Pasal 363 Ayat (1) ke-4 KUHP, dan dakwaan subsidair Pasal 362 KUHP.",
         "15.0"
        ],
        [
         "24",
         "2",
         "12",
         "4",
         "2",
         "144",
         "I KOMANG RENDI YANA alis RENDI",
         "Pada Selasa, 6 Juni 2023 sekitar pukul 20.10 WITA di Jalan Tirta Geduh, Kelurahan Bebalang, Bangli, terdakwa I Komang Rendi Yana alias Rendi ditangkap karena tanpa hak memiliki dan menyimpan narkotika jenis sabu. Awalnya, terdakwa memesan sabu seharga Rp200.000 kepada seseorang bernama Gus Ucil (DPO), lalu mengambil paket tersebut di bawah pohon mahoni di Jalan Putra Yuda, Bangli, sesuai petunjuk. Setelah dikonsumsi sebagian di rumahnya di Banua, Kintamani, sisa sabu disimpan dalam gantungan handphone yang dibungkus stiker dan diselipkan di jaket. Saat hendak ke alun-alun Bangli, terdakwa diberhentikan oleh polisi dan ditemukan sabu seberat 0,10 gram netto dalam jaketnya. Barang bukti lainnya termasuk bong bekas pakai, handphone, dan sepeda motor juga diamankan. Hasil uji laboratorium menunjukkan sabu mengandung metamfetamina yang tergolong Narkotika Golongan I. Perbuatan Terdakwa didakwa dengan dakwaan primair Pasal 112 Ayat (1) UU RI No. 35 Tahun 2009 tentang Narkotika, dan dakwaan subsidair Pasal 127 Ayat (1) huruf a UU RI No. 35 Tahun 2009 tentang Narkotika.",
         "15.0"
        ],
        [
         "25",
         "2",
         "5",
         "4",
         "2",
         "144",
         "I KOMANG RENDI YANA alis RENDI",
         "Pada Selasa, 6 Juni 2023 sekitar pukul 20.10 WITA di Jalan Tirta Geduh, Kelurahan Bebalang, Bangli, terdakwa I Komang Rendi Yana alias Rendi ditangkap karena tanpa hak memiliki dan menyimpan narkotika jenis sabu. Awalnya, terdakwa memesan sabu seharga Rp200.000 kepada seseorang bernama Gus Ucil (DPO), lalu mengambil paket tersebut di bawah pohon mahoni di Jalan Putra Yuda, Bangli, sesuai petunjuk. Setelah dikonsumsi sebagian di rumahnya di Banua, Kintamani, sisa sabu disimpan dalam gantungan handphone yang dibungkus stiker dan diselipkan di jaket. Saat hendak ke alun-alun Bangli, terdakwa diberhentikan oleh polisi dan ditemukan sabu seberat 0,10 gram netto dalam jaketnya. Barang bukti lainnya termasuk bong bekas pakai, handphone, dan sepeda motor juga diamankan. Hasil uji laboratorium menunjukkan sabu mengandung metamfetamina yang tergolong Narkotika Golongan I. Perbuatan Terdakwa didakwa dengan dakwaan primair Pasal 112 Ayat (1) UU RI No. 35 Tahun 2009 tentang Narkotika, dan dakwaan subsidair Pasal 127 Ayat (1) huruf a UU RI No. 35 Tahun 2009 tentang Narkotika.",
         "15.0"
        ],
        [
         "26",
         "2",
         "13",
         "0",
         "3",
         "144",
         "I GUSTI LANANG MADE WIJAYA alias LANANG",
         "Pada Senin, 24 April 2023 sekitar pukul 22.30 WITA di pinggir Jalan Muhamad Hatta, Bebalang, Bangli, terdakwa I Gusti Lanang Made Wijaya alias Lanang tertangkap karena tanpa hak memiliki narkotika jenis sabu. Sebelumnya, terdakwa memesan sabu seharga Rp700.000 dari seseorang bernama Jung Tu (DPO) melalui WhatsApp dan mengambil barang tersebut di bawah pot bunga di Desa Semana, Badung. Setelah mengonsumsinya sebagian di rumahnya di Ubud, terdakwa menyimpan sisa sabu ke dalam bungkus rokok yang dimasukkan ke saku celana. Malam harinya, saat hendak menemui seorang wanita bernama Riena (DPO) di Bangli, terdakwa dihentikan oleh polisi dan dilakukan penggeledahan. Polisi menemukan sabu seberat 0,10 gram netto, satu handphone, dan sepeda motor yang digunakan terdakwa. Berdasarkan hasil pemeriksaan laboratorium, kristal bening tersebut positif mengandung metamfetamina yang tergolong Narkotika Golongan I. Perbuatan Terdakwa didakwa dengan dakwaan primair Pasal 112 Ayat (1) UU RI No. 35 Tahun 2009 Tentang Narkotika, dan dakwaan subsidair Pasal 127 Ayat (1) huruf a UU RI No. 35 Tahun 2009 Tentang Narkotika.",
         "16.0"
        ],
        [
         "27",
         "2",
         "10",
         "2",
         "5",
         "144",
         "SELAMET HARIANTO alias SELAMET",
         "Terdakwa Selamet Harianto alias Selamet bersama Sodakoh Maliki alias Dakoh (dalam berkas terpisah) pada 15 Mei 2023 sekitar pukul 20.45 WITA, bertempat di Jalan Muhammad Hatta, Kelurahan Bebalang, Kecamatan Bangli, kedapatan memiliki narkotika jenis sabu seberat 0,15 gram netto tanpa izin dari pihak berwenang. Perbuatan ini berawal ketika Selamet menghubungi seseorang bernama Rizal (DPO) untuk mencari pekerjaan dan ditawari menjadi \"peluncur\" (PL), yaitu mengambil paket sabu di Bangli. Selamet kemudian mengajak Sodakoh Maliki untuk menemaninya dengan janji akan memakai sabu bersama. Mereka berangkat dari Denpasar ke Bangli dengan motor dan mengambil paket sabu yang disimpan di belakang tiang listrik sesuai petunjuk dari Rizal. Saat dalam perjalanan kembali ke Denpasar, mereka ditangkap oleh polisi di Jalan Muhammad Hatta dan ditemukan barang bukti sabu serta alat-alat konsumsi narkotika. Dalam penggeledahan, ditemukan pula sabu lain seberat 0,02 gram netto milik Sodakoh Maliki yang disimpan dalam tas pinggang, serta berbagai perlengkapan penggunaan sabu. Berdasarkan hasil uji laboratorium, kristal yang ditemukan terbukti mengandung metamfetamina, sedangkan hasil tes urine Selamet negatif narkotika. Selamet sebelumnya juga pernah dihukum dalam kasus serupa berdasarkan putusan PN Denpasar tahun 2019 dan baru bebas pada 7 Maret 2023. Terdakwa didakwa dengan Pasal 112 Ayat (1) UU RI No. 35 Tahun 2009 tentang Narkotika jo. Pasal 55 Ayat (1) ke-1 KUHP.",
         "75.0"
        ],
        [
         "28",
         "2",
         "13",
         "4",
         "5",
         "240",
         "RAIHAN RAHADI AZHAR alias RAIHAN",
         "Terdakwa Raihan Rahadi Azhar alias Raihan, bersama-sama dengan Gungggus Togar Manatar Pangaribuan alias Togar (yang berkas perkaranya terpisah), pada 14 Maret 2023 di Rutan Kelas IIB Bangli, diduga melakukan tindak pidana narkotika dengan tanpa hak atau melawan hukum menjadi perantara dalam jual beli narkotika golongan I berupa tembakau sintetis. Togar meminjam nama Raihan untuk menerima paket berisi tembakau sintetis yang dikirim melalui jasa ekspedisi JT. Raihan menyetujui permintaan tersebut dan menerima paket atas namanya pada 16 Maret 2023. Setelah menerima paket di ruang portir rutan, Raihan langsung diamankan petugas. Pemeriksaan terhadap paket menunjukkan adanya dua bungkus tembakau sintetis dengan total berat bersih 52 gram netto, yang masing-masing dikemas dalam plastik bermerek Violin dan Rhino. Berdasarkan hasil uji laboratorium, daun-daun kering tersebut positif mengandung MDMB-4en PINACA, zat yang termasuk dalam Narkotika Golongan I. Raihan tidak memiliki izin dari Kementerian Kesehatan atau instansi berwenang lainnya untuk memperjualbelikan atau menjadi perantara narkotika tersebut. Perbuatan Terdakwa didakwa dengan dakwaan pertama Pasal 114 Ayat (1) UU RI No. 35 Tahun 2009 tentang Narkotika jo. Pasal 55 Ayat (1) ke-1 KUHP, dakwaan kedua Pasal 112 Ayat (1) UU RI No. 35 Tahun 2009 Tentang Narkotika jo. Pasal 55 Ayat (1) ke-1 KUHP, dan dakwaan ketiga Pasal 111 Ayat (1) UU RI No. 35 Tahun 2009 Tentang Narkotika jo. Pasal 55 Ayat (1) ke-1 KUHP.",
         "90.0"
        ],
        [
         "29",
         "2",
         "13",
         "4",
         "5",
         "240",
         "GUNGGUS TOGAR MANATAR PANGARIBUAN alias TOGAR",
         "Terdakwa Gunggus Togar Manatar Pangaribuan alias Togar, baik sendiri maupun bersama-sama dengan Raihan Rahadi Azhar alias Raihan (terdakwa dalam berkas terpisah), pada 14 Maret 2023 sekitar pukul 12.00 WITA di kamar tahanan Blok B Rutan Kelas IIB Bangli, memesan narkotika golongan I berupa tembakau sintetis dari seorang bernama Zetas Networking (DPO). Terdakwa meminjam nama Raihan untuk menerima paket narkotika tersebut melalui jasa pengiriman JT. Setelah mentransfer uang sebesar Rp1.400.000 melalui OVO, Terdakwa meminta agar paket dikirim atas nama Raihan. Pada 16 Maret 2023, Raihan diamankan oleh petugas rutan saat menerima paket berisi dua bungkus tembakau sintetis, masing-masing dibungkus plastik bermerek Violin dan Rhino. Setelah diinterogasi, Raihan mengaku bahwa paket tersebut milik Terdakwa. Pemeriksaan barang bukti menunjukkan bahwa tembakau tersebut mengandung senyawa MDMB-4en PINACA yang tergolong dalam Narkotika Golongan I. Terdakwa tidak memiliki izin dari Menteri Kesehatan atau lembaga berwenang lainnya untuk memperjualbelikan atau menerima narkotika tersebut. Perbuatan Terdakwa didakwa dengan dakwaan pertama Pasal 114 Ayat (1) UU RI No. 35 Tahun 2009 tentang Narkotika jo. Pasal 55 Ayat (1) ke-1 KUHP, dakwaan kedua Pasal 112 Ayat (1) UU RI No. 35 Tahun 2009 Tentang Narkotika jo. Pasal 55 Ayat (1) ke-1 KUHP, dan dakwaan ketiga Pasal 111 Ayat (1) UU RI No. 35 Tahun 2009 Tentang Narkotika jo. Pasal 55 Ayat (1) ke-1 KUHP.",
         "102.0"
        ],
        [
         "30",
         "4",
         "14",
         "0",
         "4",
         "120",
         "I NYOMAN RAWAS",
         "Pada hari Senin, 27 Maret 2023 sekitar pukul 21.30 WITA, terdakwa I Nyoman Rawas bersama I Ketut Sudima menyelenggarakan permainan judi cap jeki di lapangan terbuka di Banjar Kedisan, Desa Kedisan, Kecamatan Kintamani, Kabupaten Bangli. Kegiatan ini telah diberitahukan sebelumnya kepada para penjudi, dan terdakwa menyiapkan berbagai peralatan seperti perlak angka, handuk, kotak kaleng, kartu ceki, dan uang modal sebesar Rp 2.000.000. Dalam permainan tersebut, I Nyoman Rawas bertindak sebagai bandar yang mengendalikan jalannya permainan dan menentukan hasil, sementara I Ketut Sudima berperan sebagai kasir yang membayar kemenangan atau mengambil taruhan yang kalah. Permainan dilakukan dengan dua sistem, yaitu sistem “melok” (seri) dan “nyolot” (menang-kalah), yang masing-masing memiliki ketentuan kemenangan dan pembayarannya sendiri. Pada malam itu, para terdakwa melangsungkan enam putaran permainan dan memperoleh keuntungan sebesar Rp 370.000 sebelum akhirnya ditangkap oleh pihak kepolisian. Dari hasil penyelidikan, diketahui bahwa para terdakwa telah berulang kali menyelenggarakan permainan serupa di berbagai lokasi dan menjadikannya sebagai sumber penghasilan untuk kebutuhan sehari-hari. Seluruh kegiatan perjudian tersebut dilakukan tanpa izin resmi dan merupakan bentuk perjudian yang bersifat untung-untungan. Perbuatan Terdakwa didakwa dengan dakwaan primair Pasal 303 Ayat (1) ke-1 KUHP jo. Pasal 2 Undang-Undang No. 7 Tahun 1974 tentang Penertiban Perjudian, dan dakwaan subsidair Pasal 303 Ayat (1) ke-2 KUHP jo. Pasal 2 Undang-Undang No. 7 Tahun 1974 Tentang Penertiban Perjudian.",
         "7.0"
        ],
        [
         "31",
         "4",
         "14",
         "0",
         "4",
         "120",
         "I KETUT SUDIMA",
         "Pada hari Senin, 27 Maret 2023 sekitar pukul 21.30 WITA, terdakwa I Nyoman Rawas bersama I Ketut Sudima menyelenggarakan permainan judi cap jeki di lapangan terbuka di Banjar Kedisan, Desa Kedisan, Kecamatan Kintamani, Kabupaten Bangli. Kegiatan ini telah diberitahukan sebelumnya kepada para penjudi, dan terdakwa menyiapkan berbagai peralatan seperti perlak angka, handuk, kotak kaleng, kartu ceki, dan uang modal sebesar Rp 2.000.000. Dalam permainan tersebut, I Nyoman Rawas bertindak sebagai bandar yang mengendalikan jalannya permainan dan menentukan hasil, sementara I Ketut Sudima berperan sebagai kasir yang membayar kemenangan atau mengambil taruhan yang kalah. Permainan dilakukan dengan dua sistem, yaitu sistem “melok” (seri) dan “nyolot” (menang-kalah), yang masing-masing memiliki ketentuan kemenangan dan pembayarannya sendiri. Pada malam itu, para terdakwa melangsungkan enam putaran permainan dan memperoleh keuntungan sebesar Rp 370.000 sebelum akhirnya ditangkap oleh pihak kepolisian. Dari hasil penyelidikan, diketahui bahwa para terdakwa telah berulang kali menyelenggarakan permainan serupa di berbagai lokasi dan menjadikannya sebagai sumber penghasilan untuk kebutuhan sehari-hari. Seluruh kegiatan perjudian tersebut dilakukan tanpa izin resmi dan merupakan bentuk perjudian yang bersifat untung-untungan. Perbuatan Terdakwa didakwa dengan dakwaan primair Pasal 303 Ayat (1) ke-1 KUHP jo. Pasal 2 Undang-Undang No. 7 Tahun 1974 tentang Penertiban Perjudian, dan dakwaan subsidair Pasal 303 Ayat (1) ke-2 KUHP jo. Pasal 2 Undang-Undang No. 7 Tahun 1974 Tentang Penertiban Perjudian.",
         "6.0"
        ],
        [
         "32",
         "0",
         "13",
         "0",
         "3",
         "84",
         "NI LUH PUSPA DEWI",
         "Pada hari Minggu, 4 Juli 2021 sekitar pukul 11.00 WITA, Terdakwa Ni Luh Puspa Dewi dalam perjalanan menuju ladang orang tuanya di Desa Suter, Bangli, melewati sebuah rumah kosong di Banjar Munduk Waru, Desa Buahan, Kintamani, dan timbul niat untuk mencuri. Setelah memastikan keadaan sekitar aman, terdakwa masuk ke rumah tersebut dan menemukan kunci di lemari kaca dalam salah satu kamar. Ia kemudian membuka kamar lain dengan kunci tersebut dan menemukan dompet biru bermotif bunga berisi berbagai perhiasan emas, termasuk kalung, gelang, cincin, dan anting-anting dengan total berat puluhan gram. Semua barang tersebut diambil dan disimpan di sakunya, lalu terdakwa meninggalkan lokasi. Perhiasan hasil curian dijual di Pasar Kidul kepada seorang wanita tak dikenal seharga Rp80.000.000, yang kemudian digunakan untuk kebutuhan sehari-hari dan membeli sejumlah pakaian, sandal, serta cincin emas. Berdasarkan laporan polisi tertanggal 6 Februari 2023, terdakwa akhirnya mengakui seluruh perbuatannya. Akibat kejadian ini, korban I Nyoman Mawa mengalami kerugian sekitar Rp80.000.000. Perbuatan Terdakwa didakwa dengan dakwaan primair Pasal 363 Ayat (1) ke-5 KUHP, dan dakwaan subsidair Pasal 362 KUHP.",
         "6.0"
        ],
        [
         "33",
         "0",
         "15",
         "4",
         "5",
         "80",
         "I Wayan Nawa",
         "Terdakwa I Wayan Nawa didakwa melakukan pencurian pada dua kesempatan berbeda di wilayah Kintamani, Bangli. Pada 2 Oktober 2022, setelah menjual salak, terdakwa menuju ke kebun milik I Wayan Suardana di Banjar Pludu, Desa Bayung Gede, dan berpura-pura menawarkan pupuk ayam. Saat korban lengah, terdakwa mencuri handphone Redmi Note 10S beserta uang tunai sekitar Rp400.000 yang disimpan di kandang sapi. Kemudian, pada 9 November 2022, terdakwa kembali melakukan pencurian di pondokan milik I Wayan Panggih di Desa Binyan dengan modus serupa. Setelah memastikan korban pergi, terdakwa mencuri handphone Redmi Note 7 yang sedang dicas. Kedua handphone tersebut dijual ke konter berbeda dengan total hasil sekitar Rp1.800.000, yang kemudian digunakan untuk kebutuhan sehari-hari. Berdasarkan laporan korban, polisi melakukan penyelidikan dan berhasil menangkap terdakwa pada 9 Februari 2023 di Karangasem. Akibat perbuatannya, korban I Wayan Suardana mengalami kerugian sekitar Rp3.400.000 dan I Wayan Panggih sekitar Rp3.000.000. Terdakwa dijerat dengan Pasal 362 KUHP jo. Pasal 65 Ayat (1) KUHP tentang pencurian yang dilakukan berulang kali.",
         "6.0"
        ],
        [
         "34",
         "0",
         "13",
         "3",
         "5",
         "60",
         "JRO GEDE BUDI",
         "Pada Sabtu, 28 Januari 2023, di Pemandian Tirta Usadha Toya Bungkah, Desa Batur Tengah, Kintamani, Bangli, terdakwa Jro Gede Budi didakwa melakukan pencurian. Setelah selesai berendam, terdakwa melihat sebuah tas hitam bertuliskan \"Steve Madden\" milik korban Ni Jro Luh Putri di bawah loker, lalu mengambilnya dan membawanya pulang menggunakan sepeda motor. Di perjalanan, terdakwa membuka tas tersebut dan menemukan tas merah maroon bertuliskan \"Michael Kors\" berisi uang tunai sebesar Rp5.700.000 serta sebuah dompet berisi perhiasan emas berupa kalung dan cincin, dan dua nota pembelian dari Toko Emas Ratna. Terdakwa mengambil Rp1.000.000 untuk dirinya dan menyembunyikan sisa uang serta perhiasan di bawah pohon di dekat rumahnya, sedangkan tas-tas tersebut disimpan di jok motor. Berdasarkan laporan korban, polisi berhasil mengamankan terdakwa beserta barang-barang bukti, termasuk sepeda motor dan hoodie yang digunakan untuk membungkus barang curian. Atas perbuatannya, korban mengalami kerugian sekitar Rp19.700.000, dan terdakwa dijerat dengan Pasal 362 KUHP tentang pencurian.",
         "5.0"
        ],
        [
         "35",
         "0",
         "1",
         "4",
         "3",
         "84",
         "RIFQI ABDURAHMAN",
         "Pada Minggu, 11 Desember 2022 sekitar pukul 00.30 WITA, terdakwa I Rifqi Abdurahman dan terdakwa II Gunawan melakukan pencurian sepeda motor di pinggir Jalan Raya Kayuambua, Bangli. Sebelumnya, pada 10 Desember 2022, terdakwa II meminta terdakwa I mencarikan sepeda motor Kawasaki KLX untuk dibeli seharga Rp3.000.000. Keduanya lalu berangkat ke daerah Kintamani dengan sepeda motor modifikasi tanpa nomor polisi. Saat tiba di lokasi, mereka melihat motor Kawasaki KLX 150 C tanpa nomor polisi dan kunci kontak, lalu terdakwa I mendorong motor tersebut menjauh sementara terdakwa II mengawasi. Karena motor cetul milik terdakwa II rusak, terdakwa I mendorong motor sendirian dan sempat dicegat dua saksi yang curiga. Setelah berhasil menyalakan motor dan mengendarainya sejauh 100 meter, motor mogok karena kehabisan bensin. Terdakwa I lalu mendorong ke SPBU Sekardadi dan tertidur di sana. Sementara itu, saksi korban mengonfirmasi kehilangan motornya dan bersama saksi lainnya serta polisi, menemukan terdakwa I di SPBU. Polisi kemudian menangkap terdakwa II di Desa Dumilih saat tertidur di emper toko. Akibat perbuatan para terdakwa, korban I Wayan Eva Kusuma Putra mengalami kerugian sekitar Rp16.000.000. Perbuatan Terdakwa didakwa dengan dakwaan primair Pasal 363 Ayat (1) ke-4 KUHP, dan dakwaan subsidair Pasal 362 KUHP.",
         "8.0"
        ],
        [
         "36",
         "0",
         "1",
         "4",
         "3",
         "84",
         "GUNAWAN",
         "Pada Minggu, 11 Desember 2022 sekitar pukul 00.30 WITA, terdakwa I Rifqi Abdurahman dan terdakwa II Gunawan melakukan pencurian sepeda motor di pinggir Jalan Raya Kayuambua, Bangli. Sebelumnya, pada 10 Desember 2022, terdakwa II meminta terdakwa I mencarikan sepeda motor Kawasaki KLX untuk dibeli seharga Rp3.000.000. Keduanya lalu berangkat ke daerah Kintamani dengan sepeda motor modifikasi tanpa nomor polisi. Saat tiba di lokasi, mereka melihat motor Kawasaki KLX 150 C tanpa nomor polisi dan kunci kontak, lalu terdakwa I mendorong motor tersebut menjauh sementara terdakwa II mengawasi. Karena motor cetul milik terdakwa II rusak, terdakwa I mendorong motor sendirian dan sempat dicegat dua saksi yang curiga. Setelah berhasil menyalakan motor dan mengendarainya sejauh 100 meter, motor mogok karena kehabisan bensin. Terdakwa I lalu mendorong ke SPBU Sekardadi dan tertidur di sana. Sementara itu, saksi korban mengonfirmasi kehilangan motornya dan bersama saksi lainnya serta polisi, menemukan terdakwa I di SPBU. Polisi kemudian menangkap terdakwa II di Desa Dumilih saat tertidur di emper toko. Akibat perbuatan para terdakwa, korban I Wayan Eva Kusuma Putra mengalami kerugian sekitar Rp16.000.000. Perbuatan Terdakwa didakwa dengan dakwaan primair Pasal 363 Ayat (1) ke-4 KUHP, dan dakwaan subsidair Pasal 362 KUHP.",
         "8.0"
        ],
        [
         "37",
         "0",
         "16",
         "0",
         "6",
         "80",
         "Gede Kastawa",
         "Terdakwa Gede Kastawa didakwa melakukan serangkaian tindak pidana pencurian ayam di wilayah Kintamani, Bangli, pada bulan Oktober 2022. Pada 21 Oktober 2022, terdakwa mencuri 6 ekor ayam dari belakang rumah korban I Wayan Sukada di Desa Belantih, lalu menjualnya di Pasar Anyar Singaraja seharga Rp800.000. Hasil penjualan digunakan untuk membeli ayam aduan dan berjudi. Kemudian, pada 28 Oktober 2022, terdakwa mencuri 15 ekor ayam milik korban I Made Terus dari kebun jeruk di Desa Belanga, yang kembali dijual dan hasilnya dipakai untuk berjudi. Selanjutnya, pada 30 Oktober 2022, terdakwa beraksi di pondokan milik korban I Wayan Lusin di Desa Belanga, mencuri seekor ayam namun aksinya diketahui oleh saksi dan warga sehingga berhasil diamankan. Total kerugian para korban mencapai sekitar Rp3.500.000. Terdakwa mengaku melakukan pencurian karena alasan ekonomi. Perbuatannya diancam pidana sesuai Pasal 362 jo. Pasal 65 Ayat (1) KUHP.",
         "30.0"
        ],
        [
         "38",
         "0",
         "17",
         "0",
         "6",
         "80",
         "Gede Kastawa",
         "Terdakwa Gede Kastawa didakwa melakukan serangkaian tindak pidana pencurian ayam di wilayah Kintamani, Bangli, pada bulan Oktober 2022. Pada 21 Oktober 2022, terdakwa mencuri 6 ekor ayam dari belakang rumah korban I Wayan Sukada di Desa Belantih, lalu menjualnya di Pasar Anyar Singaraja seharga Rp800.000. Hasil penjualan digunakan untuk membeli ayam aduan dan berjudi. Kemudian, pada 28 Oktober 2022, terdakwa mencuri 15 ekor ayam milik korban I Made Terus dari kebun jeruk di Desa Belanga, yang kembali dijual dan hasilnya dipakai untuk berjudi. Selanjutnya, pada 30 Oktober 2022, terdakwa beraksi di pondokan milik korban I Wayan Lusin di Desa Belanga, mencuri seekor ayam namun aksinya diketahui oleh saksi dan warga sehingga berhasil diamankan. Total kerugian para korban mencapai sekitar Rp3.500.000. Terdakwa mengaku melakukan pencurian karena alasan ekonomi. Perbuatannya diancam pidana sesuai Pasal 362 jo. Pasal 65 Ayat (1) KUHP.",
         "30.0"
        ],
        [
         "39",
         "0",
         "18",
         "0",
         "5",
         "84",
         "Elias Fanggi",
         "Terdakwa Elias Fanggi didakwa melakukan pencurian tiga ekor anak babi milik saksi I Komang Sucitra pada Sabtu, 27 Maret 2021 sekitar pukul 22.30 WITA di kandang babi yang terletak di Desa Abuan, Kecamatan Kintamani, Kabupaten Bangli. Awalnya, terdakwa datang ke kandang pada sore hari untuk membersihkan tempat tersebut. Namun pada malam harinya, terdakwa masuk ke dalam kandang melalui pintu yang tidak terkunci, lalu mengambil tiga ekor anak babi dan memasukkannya ke dalam karung plastik yang telah disiapkannya. Ia kemudian membawa hasil curian itu dengan sepeda motor milik saksi Leonardus Pendi dengan maksud untuk dijual. Aksi tersebut diketahui oleh pemilik kandang, yang kemudian melaporkan terdakwa ke pihak berwajib. Akibat perbuatan tersebut, saksi I Komang Sucitra mengalami kerugian sebesar Rp3.600.000. Perbuatan Terdakwa didakwa dengan dakwaan primair Pasal 363 Ayat (1) ke-1 KUHP, dan dakwaan subsidair Pasal 374 KUHP.",
         "6.0"
        ],
        [
         "40",
         "0",
         "19",
         "0",
         "5",
         "84",
         "Elias Fanggi",
         "Terdakwa Elias Fanggi didakwa melakukan pencurian tiga ekor anak babi milik saksi I Komang Sucitra pada Sabtu, 27 Maret 2021 sekitar pukul 22.30 WITA di kandang babi yang terletak di Desa Abuan, Kecamatan Kintamani, Kabupaten Bangli. Awalnya, terdakwa datang ke kandang pada sore hari untuk membersihkan tempat tersebut. Namun pada malam harinya, terdakwa masuk ke dalam kandang melalui pintu yang tidak terkunci, lalu mengambil tiga ekor anak babi dan memasukkannya ke dalam karung plastik yang telah disiapkannya. Ia kemudian membawa hasil curian itu dengan sepeda motor milik saksi Leonardus Pendi dengan maksud untuk dijual. Aksi tersebut diketahui oleh pemilik kandang, yang kemudian melaporkan terdakwa ke pihak berwajib. Akibat perbuatan tersebut, saksi I Komang Sucitra mengalami kerugian sebesar Rp3.600.000. Perbuatan Terdakwa didakwa dengan dakwaan primair Pasal 363 Ayat (1) ke-1 KUHP, dan dakwaan subsidair Pasal 374 KUHP.",
         "6.0"
        ],
        [
         "41",
         "0",
         "19",
         "0",
         "15",
         "112",
         "I Wayan Edi Rusmawan",
         "Terdakwa I Wayan Edi Rusmawan didakwa melakukan serangkaian pencurian antara bulan Juni 2020 hingga Januari 2021 di berbagai lokasi di wilayah Kecamatan Kintamani, Kabupaten Bangli. Terdakwa mengambil barang-barang milik sejumlah korban di antaranya I Wayan Sutiana, I Ketut Carem, I Ketut Sudadi, I Nyoman Keneh, Ni Nengah Suantini, I Nyoman Birawan, Ni Ketut Supadmi, I Wayan Darma, I Wayan Ramanto, I Nengah Sapa, dan I Made Sadswadarma. Aksi pencurian tersebut dilakukan terdakwa dengan cara merusak, memanjat, atau masuk secara diam-diam ke kebun, pondokan, warung, dan gudang milik para korban, dengan maksud untuk memiliki barang-barang tersebut secara melawan hukum. Karena dilakukan berulang kali di tempat dan waktu yang berbeda, perbuatan terdakwa dianggap sebagai beberapa kejahatan yang berdiri sendiri. Perbuatan Terdakwa didakwa dengan dakwaan primair Pasal 363 Ayat (1) ke-5 KUHP jo. Pasal 65 ayat (1) KUHP, dan dakwaan subsidair Pasal 362 KUHP Jo Pasal 65 Ayat (1) KUHP.",
         "24.0"
        ],
        [
         "42",
         "0",
         "20",
         "0",
         "15",
         "112",
         "I Wayan Edi Rusmawan",
         "Terdakwa I Wayan Edi Rusmawan didakwa melakukan serangkaian pencurian antara bulan Juni 2020 hingga Januari 2021 di berbagai lokasi di wilayah Kecamatan Kintamani, Kabupaten Bangli. Terdakwa mengambil barang-barang milik sejumlah korban di antaranya I Wayan Sutiana, I Ketut Carem, I Ketut Sudadi, I Nyoman Keneh, Ni Nengah Suantini, I Nyoman Birawan, Ni Ketut Supadmi, I Wayan Darma, I Wayan Ramanto, I Nengah Sapa, dan I Made Sadswadarma. Aksi pencurian tersebut dilakukan terdakwa dengan cara merusak, memanjat, atau masuk secara diam-diam ke kebun, pondokan, warung, dan gudang milik para korban, dengan maksud untuk memiliki barang-barang tersebut secara melawan hukum. Karena dilakukan berulang kali di tempat dan waktu yang berbeda, perbuatan terdakwa dianggap sebagai beberapa kejahatan yang berdiri sendiri. Perbuatan Terdakwa didakwa dengan dakwaan primair Pasal 363 Ayat (1) ke-5 KUHP jo. Pasal 65 ayat (1) KUHP, dan dakwaan subsidair Pasal 362 KUHP Jo Pasal 65 Ayat (1) KUHP.",
         "24.0"
        ],
        [
         "43",
         "2",
         "21",
         "5",
         "4",
         "144",
         "ANJAR RUCHIMAT",
         "Terdakwa Anjar Ruchimat dan Irga Krisna Haryanto R, pada 4 Februari 2020 sekitar pukul 21.30 WITA di pinggir Jalan Raya Merdeka, Bebalang, Bangli, diduga melakukan permufakatan jahat bersama seorang bernama Made Bleteng (DPO) untuk memiliki, menyimpan, menguasai, atau menyediakan Narkotika Golongan I bukan tanaman tanpa hak. Selain itu, Anjar Ruchimat juga terbukti menggunakan narkotika untuk diri sendiri pada 1 Februari 2020 sekitar pukul 15.00 WITA di sebuah penginapan di Kuta, Badung. Demikian pula, Irga Krisna Haryanto R menggunakan narkotika untuk diri sendiri pada 28 Januari 2020 sekitar pukul 22.30 WITA di kamar kontrakannya di Dalung, Badung. Meskipun tempat kejadian perkara berada di wilayah hukum Pengadilan Negeri Denpasar, perkara ini diperiksa oleh Pengadilan Negeri Bangli berdasarkan ketentuan Pasal 84 ayat (2) KUHAP. Perbuatan para terdakwa diancam pidana berdasarkan Pasal 132 Ayat (1) jo. Pasal 112 Ayat (1), serta Pasal 127 Ayat (1) huruf a UU RI No. 35 Tahun 2009 tentang Narkotika.",
         "16.0"
        ],
        [
         "44",
         "2",
         "21",
         "5",
         "4",
         "144",
         "IRGA KRISNA HARYANTO R",
         "Terdakwa Anjar Ruchimat dan Irga Krisna Haryanto R, pada 4 Februari 2020 sekitar pukul 21.30 WITA di pinggir Jalan Raya Merdeka, Bebalang, Bangli, diduga melakukan permufakatan jahat bersama seorang bernama Made Bleteng (DPO) untuk memiliki, menyimpan, menguasai, atau menyediakan Narkotika Golongan I bukan tanaman tanpa hak. Selain itu, Anjar Ruchimat juga terbukti menggunakan narkotika untuk diri sendiri pada 1 Februari 2020 sekitar pukul 15.00 WITA di sebuah penginapan di Kuta, Badung. Demikian pula, Irga Krisna Haryanto R menggunakan narkotika untuk diri sendiri pada 28 Januari 2020 sekitar pukul 22.30 WITA di kamar kontrakannya di Dalung, Badung. Meskipun tempat kejadian perkara berada di wilayah hukum Pengadilan Negeri Denpasar, perkara ini diperiksa oleh Pengadilan Negeri Bangli berdasarkan ketentuan Pasal 84 ayat (2) KUHAP. Perbuatan para terdakwa diancam pidana berdasarkan Pasal 132 Ayat (1) jo. Pasal 112 Ayat (1), serta Pasal 127 Ayat (1) huruf a UU RI No. 35 Tahun 2009 tentang Narkotika.",
         "16.0"
        ],
        [
         "45",
         "2",
         "21",
         "6",
         "6",
         "240",
         "FENNY YANTHI ESMIDAR",
         "Terdakwa Fenny Yanthi Esmidar pada Kamis, 9 Januari 2020 sekitar pukul 23.15 WITA ditangkap di Gang Buntu, belakang Alfamart Jalan Brigjen Ngurah Rai, Bangli, saat baru saja mengambil narkotika jenis sabu yang disembunyikan di semak-semak. Penangkapan dilakukan oleh anggota Satresnarkoba Polres Bangli setelah menerima informasi dari masyarakat. Sebelumnya, terdakwa dihubungi oleh seseorang bernama Desi untuk mengambil narkotika di lokasi tersebut. Dari hasil penggeledahan, ditemukan dua paket sabu dengan berat netto masing-masing 0,08 gram dan 0,05 gram, yang disimpan dalam bungkus rokok dan tas milik terdakwa. Berdasarkan hasil pemeriksaan laboratorium forensik, kedua paket tersebut positif mengandung metamfetamina yang termasuk dalam Narkotika Golongan I. Namun, hasil tes urine terdakwa menunjukkan negatif narkotika/psikotropika. Perbuatan Terdakwa didakwa dengan dakwaan pertama Pasal 114 Ayat (1) UU RI No. 35 Tahun 2009 tentang Narkotika, dan dakwaan kedua Pasal 112 Ayat (1) UU RI No. 35 Tahun 2009 Tentang Narkotika.",
         "102.0"
        ],
        [
         "46",
         "0",
         "22",
         "7",
         "4",
         "84",
         "I WAYAN SUDARPA",
         "Terdakwa I Wayan Sudarpa pada Rabu, 12 Februari 2020 sekitar pukul 01.00 WITA melakukan pencurian tiga ekor sapi milik I Wayan Kasir di Br. Tiying Desa, Desa Pengotan, Kecamatan Bangli. Aksi tersebut direncanakan sebelumnya bersama I Nyoman Bintang, dengan dalih ingin menjual sapi miliknya untuk membayar utang. Pada malam hari yang telah disepakati, terdakwa mendatangi kandang sapi korban dan secara bertahap membawa ketiga sapi tersebut ke mobil pick up milik I Nyoman Bintang yang menunggu di dekat lokasi. Sapi-sapi itu kemudian dibawa dan dijual di Pasar Bringkit, Badung. Dari hasil penjualan, terdakwa menerima uang sebesar Rp20.156.000 setelah dikurangi biaya operasional. Namun, diketahui sapi-sapi tersebut bukan milik terdakwa melainkan milik I Wayan Kasir, yang tidak pernah memberikan izin untuk pengambilan maupun penjualan. Akibat perbuatan terdakwa, korban mengalami kerugian sekitar Rp20.500.000. Tindakan terdakwa diancam pidana berdasarkan Pasal 363 Ayat (1) ke-1 KUHP.",
         "6.0"
        ],
        [
         "47",
         "4",
         "23",
         "8",
         "3",
         "120",
         "Wayan Suartaya",
         "Pada tanggal 21 November 2018 sekitar pukul 18.00 WITA, terdakwa I Ketut Sarjana dan Wayan Suartaya mengadakan permainan judi cap jeki di halaman rumah Ketut Sarjana di Banjar Merta, Desa Awan, Kecamatan Kintamani, Kabupaten Bangli. Mereka menyiapkan berbagai alat perjudian seperti kotak kaleng, perlak, handuk, kartu ceki, serta menyediakan hadiah uang tunai sebesar Rp 5.000.000 bagi pemenang. Ketut Sarjana bertindak sebagai kasir sekaligus bandar yang membayar kemenangan dan mengambil uang taruhan pemain yang kalah, sedangkan Wayan Suartaya bertugas mengocok kartu ceki. Permainan dilakukan dengan dua sistem, yakni sistem \"melok\" (draw) dan \"nyolot\" (menang-kalah), yang masing-masing memiliki aturan dan hadiah berbeda. Saat permainan berlangsung, petugas dari Dit. Reskrimum POLDA Bali melakukan penggerebekan dan menemukan sejumlah barang bukti, termasuk kartu ceki, handuk, kotak kaleng, perlak, dan uang tunai Rp 2.665.000. Permainan judi cap jeki tersebut dilakukan tanpa izin dari pejabat yang berwenang. Perbuatan Terdakwa didakwa dengan dakwaan primair Pasal 303 Ayat (1) ke-1 KUHP jo. Pasal 2 Undang-Undang RI No. 7 Tahun 1974 tentang Penertiban Perjudian, dan dakwaan subsidair Pasal 303 Ayat (1) ke-2 KUHP, jo. Pasal 2 UU RI No. 7 Tahun 1974 Tentang Penertiban Perjudian.",
         "5.0"
        ],
        [
         "48",
         "4",
         "24",
         "8",
         "3",
         "120",
         "Wayan Suartaya",
         "Pada tanggal 21 November 2018 sekitar pukul 18.00 WITA, terdakwa I Ketut Sarjana dan Wayan Suartaya mengadakan permainan judi cap jeki di halaman rumah Ketut Sarjana di Banjar Merta, Desa Awan, Kecamatan Kintamani, Kabupaten Bangli. Mereka menyiapkan berbagai alat perjudian seperti kotak kaleng, perlak, handuk, kartu ceki, serta menyediakan hadiah uang tunai sebesar Rp 5.000.000 bagi pemenang. Ketut Sarjana bertindak sebagai kasir sekaligus bandar yang membayar kemenangan dan mengambil uang taruhan pemain yang kalah, sedangkan Wayan Suartaya bertugas mengocok kartu ceki. Permainan dilakukan dengan dua sistem, yakni sistem \"melok\" (draw) dan \"nyolot\" (menang-kalah), yang masing-masing memiliki aturan dan hadiah berbeda. Saat permainan berlangsung, petugas dari Dit. Reskrimum POLDA Bali melakukan penggerebekan dan menemukan sejumlah barang bukti, termasuk kartu ceki, handuk, kotak kaleng, perlak, dan uang tunai Rp 2.665.000. Permainan judi cap jeki tersebut dilakukan tanpa izin dari pejabat yang berwenang. Perbuatan Terdakwa didakwa dengan dakwaan primair Pasal 303 Ayat (1) ke-1 KUHP jo. Pasal 2 Undang-Undang RI No. 7 Tahun 1974 tentang Penertiban Perjudian, dan dakwaan subsidair Pasal 303 Ayat (1) ke-2 KUHP, jo. Pasal 2 UU RI No. 7 Tahun 1974 Tentang Penertiban Perjudian.",
         "5.0"
        ],
        [
         "49",
         "4",
         "23",
         "8",
         "3",
         "120",
         "I Ketut Sarjana",
         "Pada tanggal 21 November 2018 sekitar pukul 18.00 WITA, terdakwa I Ketut Sarjana dan Wayan Suartaya mengadakan permainan judi cap jeki di halaman rumah Ketut Sarjana di Banjar Merta, Desa Awan, Kecamatan Kintamani, Kabupaten Bangli. Mereka menyiapkan berbagai alat perjudian seperti kotak kaleng, perlak, handuk, kartu ceki, serta menyediakan hadiah uang tunai sebesar Rp 5.000.000 bagi pemenang. Ketut Sarjana bertindak sebagai kasir sekaligus bandar yang membayar kemenangan dan mengambil uang taruhan pemain yang kalah, sedangkan Wayan Suartaya bertugas mengocok kartu ceki. Permainan dilakukan dengan dua sistem, yakni sistem \"melok\" (draw) dan \"nyolot\" (menang-kalah), yang masing-masing memiliki aturan dan hadiah berbeda. Saat permainan berlangsung, petugas dari Dit. Reskrimum POLDA Bali melakukan penggerebekan dan menemukan sejumlah barang bukti, termasuk kartu ceki, handuk, kotak kaleng, perlak, dan uang tunai Rp 2.665.000. Permainan judi cap jeki tersebut dilakukan tanpa izin dari pejabat yang berwenang. Perbuatan Terdakwa didakwa dengan dakwaan primair Pasal 303 Ayat (1) ke-1 KUHP jo. Pasal 2 Undang-Undang RI No. 7 Tahun 1974 tentang Penertiban Perjudian, dan dakwaan subsidair Pasal 303 Ayat (1) ke-2 KUHP, jo. Pasal 2 UU RI No. 7 Tahun 1974 Tentang Penertiban Perjudian.",
         "5.0"
        ]
       ],
       "shape": {
        "columns": 8,
        "rows": 4323
       }
      },
      "text/html": [
       "<div>\n",
       "<style scoped>\n",
       "    .dataframe tbody tr th:only-of-type {\n",
       "        vertical-align: middle;\n",
       "    }\n",
       "\n",
       "    .dataframe tbody tr th {\n",
       "        vertical-align: top;\n",
       "    }\n",
       "\n",
       "    .dataframe thead th {\n",
       "        text-align: right;\n",
       "    }\n",
       "</style>\n",
       "<table border=\"1\" class=\"dataframe\">\n",
       "  <thead>\n",
       "    <tr style=\"text-align: right;\">\n",
       "      <th></th>\n",
       "      <th>klasifikasi_perkara_encoded</th>\n",
       "      <th>penuntut_umum_encoded</th>\n",
       "      <th>hakim_encoded</th>\n",
       "      <th>jumlah_saksi</th>\n",
       "      <th>maks_penjara_berdasarkan_pasal</th>\n",
       "      <th>terdakwa</th>\n",
       "      <th>summarized_dakwaan</th>\n",
       "      <th>total_pidana_penjara_bulan</th>\n",
       "    </tr>\n",
       "  </thead>\n",
       "  <tbody>\n",
       "    <tr>\n",
       "      <th>0</th>\n",
       "      <td>0</td>\n",
       "      <td>0</td>\n",
       "      <td>0</td>\n",
       "      <td>6</td>\n",
       "      <td>80</td>\n",
       "      <td>GEDE DARMAYASA</td>\n",
       "      <td>Terdakwa Gede Darmayasa didakwa telah melakuka...</td>\n",
       "      <td>5.0</td>\n",
       "    </tr>\n",
       "    <tr>\n",
       "      <th>1</th>\n",
       "      <td>1</td>\n",
       "      <td>1</td>\n",
       "      <td>1</td>\n",
       "      <td>4</td>\n",
       "      <td>48</td>\n",
       "      <td>IDA BAGUS MADE DARMA WIGUNA</td>\n",
       "      <td>Pada bulan Februari dan Maret 2024, terdakwa I...</td>\n",
       "      <td>24.0</td>\n",
       "    </tr>\n",
       "    <tr>\n",
       "      <th>2</th>\n",
       "      <td>0</td>\n",
       "      <td>0</td>\n",
       "      <td>2</td>\n",
       "      <td>6</td>\n",
       "      <td>84</td>\n",
       "      <td>HANDRI JOHANAS</td>\n",
       "      <td>Terdakwa Handri Johanes pada Rabu, 24 April 20...</td>\n",
       "      <td>4.0</td>\n",
       "    </tr>\n",
       "    <tr>\n",
       "      <th>3</th>\n",
       "      <td>2</td>\n",
       "      <td>2</td>\n",
       "      <td>1</td>\n",
       "      <td>2</td>\n",
       "      <td>144</td>\n",
       "      <td>I GEDE ARIADI alias BERNAD</td>\n",
       "      <td>Pada hari Minggu, 14 April 2024 sekitar pukul ...</td>\n",
       "      <td>14.0</td>\n",
       "    </tr>\n",
       "    <tr>\n",
       "      <th>4</th>\n",
       "      <td>2</td>\n",
       "      <td>3</td>\n",
       "      <td>1</td>\n",
       "      <td>2</td>\n",
       "      <td>144</td>\n",
       "      <td>I GEDE ARIADI alias BERNAD</td>\n",
       "      <td>Pada hari Minggu, 14 April 2024 sekitar pukul ...</td>\n",
       "      <td>14.0</td>\n",
       "    </tr>\n",
       "    <tr>\n",
       "      <th>...</th>\n",
       "      <td>...</td>\n",
       "      <td>...</td>\n",
       "      <td>...</td>\n",
       "      <td>...</td>\n",
       "      <td>...</td>\n",
       "      <td>...</td>\n",
       "      <td>...</td>\n",
       "      <td>...</td>\n",
       "    </tr>\n",
       "    <tr>\n",
       "      <th>4318</th>\n",
       "      <td>2</td>\n",
       "      <td>347</td>\n",
       "      <td>128</td>\n",
       "      <td>2</td>\n",
       "      <td>240</td>\n",
       "      <td>NURUL FIQRI SUDIRMAN als KIKI bin SUDIRMAN</td>\n",
       "      <td>Pada Jumat, 31 Maret 2023, sekitar pukul 20.30...</td>\n",
       "      <td>72.0</td>\n",
       "    </tr>\n",
       "    <tr>\n",
       "      <th>4319</th>\n",
       "      <td>0</td>\n",
       "      <td>361</td>\n",
       "      <td>117</td>\n",
       "      <td>2</td>\n",
       "      <td>84</td>\n",
       "      <td>SUPRIADI BIN RATIM</td>\n",
       "      <td>Pada hari Minggu, 28 Mei 2023, sekitar pukul 1...</td>\n",
       "      <td>16.0</td>\n",
       "    </tr>\n",
       "    <tr>\n",
       "      <th>4320</th>\n",
       "      <td>0</td>\n",
       "      <td>363</td>\n",
       "      <td>117</td>\n",
       "      <td>2</td>\n",
       "      <td>84</td>\n",
       "      <td>SUPRIADI BIN RATIM</td>\n",
       "      <td>Pada hari Minggu, 28 Mei 2023, sekitar pukul 1...</td>\n",
       "      <td>16.0</td>\n",
       "    </tr>\n",
       "    <tr>\n",
       "      <th>4321</th>\n",
       "      <td>0</td>\n",
       "      <td>361</td>\n",
       "      <td>117</td>\n",
       "      <td>2</td>\n",
       "      <td>84</td>\n",
       "      <td>ANWAR RURI BIN SYARIFUDIN USMAN</td>\n",
       "      <td>Pada hari Minggu, 28 Mei 2023, sekitar pukul 1...</td>\n",
       "      <td>16.0</td>\n",
       "    </tr>\n",
       "    <tr>\n",
       "      <th>4322</th>\n",
       "      <td>0</td>\n",
       "      <td>363</td>\n",
       "      <td>117</td>\n",
       "      <td>2</td>\n",
       "      <td>84</td>\n",
       "      <td>ANWAR RURI BIN SYARIFUDIN USMAN</td>\n",
       "      <td>Pada hari Minggu, 28 Mei 2023, sekitar pukul 1...</td>\n",
       "      <td>16.0</td>\n",
       "    </tr>\n",
       "  </tbody>\n",
       "</table>\n",
       "<p>4323 rows × 8 columns</p>\n",
       "</div>"
      ],
      "text/plain": [
       "      klasifikasi_perkara_encoded  penuntut_umum_encoded  hakim_encoded  \\\n",
       "0                               0                      0              0   \n",
       "1                               1                      1              1   \n",
       "2                               0                      0              2   \n",
       "3                               2                      2              1   \n",
       "4                               2                      3              1   \n",
       "...                           ...                    ...            ...   \n",
       "4318                            2                    347            128   \n",
       "4319                            0                    361            117   \n",
       "4320                            0                    363            117   \n",
       "4321                            0                    361            117   \n",
       "4322                            0                    363            117   \n",
       "\n",
       "      jumlah_saksi  maks_penjara_berdasarkan_pasal  \\\n",
       "0                6                              80   \n",
       "1                4                              48   \n",
       "2                6                              84   \n",
       "3                2                             144   \n",
       "4                2                             144   \n",
       "...            ...                             ...   \n",
       "4318             2                             240   \n",
       "4319             2                              84   \n",
       "4320             2                              84   \n",
       "4321             2                              84   \n",
       "4322             2                              84   \n",
       "\n",
       "                                        terdakwa  \\\n",
       "0                                 GEDE DARMAYASA   \n",
       "1                    IDA BAGUS MADE DARMA WIGUNA   \n",
       "2                                 HANDRI JOHANAS   \n",
       "3                     I GEDE ARIADI alias BERNAD   \n",
       "4                     I GEDE ARIADI alias BERNAD   \n",
       "...                                          ...   \n",
       "4318  NURUL FIQRI SUDIRMAN als KIKI bin SUDIRMAN   \n",
       "4319                          SUPRIADI BIN RATIM   \n",
       "4320                          SUPRIADI BIN RATIM   \n",
       "4321             ANWAR RURI BIN SYARIFUDIN USMAN   \n",
       "4322             ANWAR RURI BIN SYARIFUDIN USMAN   \n",
       "\n",
       "                                     summarized_dakwaan  \\\n",
       "0     Terdakwa Gede Darmayasa didakwa telah melakuka...   \n",
       "1     Pada bulan Februari dan Maret 2024, terdakwa I...   \n",
       "2     Terdakwa Handri Johanes pada Rabu, 24 April 20...   \n",
       "3     Pada hari Minggu, 14 April 2024 sekitar pukul ...   \n",
       "4     Pada hari Minggu, 14 April 2024 sekitar pukul ...   \n",
       "...                                                 ...   \n",
       "4318  Pada Jumat, 31 Maret 2023, sekitar pukul 20.30...   \n",
       "4319  Pada hari Minggu, 28 Mei 2023, sekitar pukul 1...   \n",
       "4320  Pada hari Minggu, 28 Mei 2023, sekitar pukul 1...   \n",
       "4321  Pada hari Minggu, 28 Mei 2023, sekitar pukul 1...   \n",
       "4322  Pada hari Minggu, 28 Mei 2023, sekitar pukul 1...   \n",
       "\n",
       "      total_pidana_penjara_bulan  \n",
       "0                            5.0  \n",
       "1                           24.0  \n",
       "2                            4.0  \n",
       "3                           14.0  \n",
       "4                           14.0  \n",
       "...                          ...  \n",
       "4318                        72.0  \n",
       "4319                        16.0  \n",
       "4320                        16.0  \n",
       "4321                        16.0  \n",
       "4322                        16.0  \n",
       "\n",
       "[4323 rows x 8 columns]"
      ]
     },
     "execution_count": 3,
     "metadata": {},
     "output_type": "execute_result"
    }
   ],
   "source": [
    "df"
   ]
  },
  {
   "cell_type": "code",
   "execution_count": 4,
   "metadata": {},
   "outputs": [
    {
     "name": "stdout",
     "output_type": "stream",
     "text": [
      "<class 'pandas.core.frame.DataFrame'>\n",
      "RangeIndex: 4323 entries, 0 to 4322\n",
      "Data columns (total 8 columns):\n",
      " #   Column                          Non-Null Count  Dtype  \n",
      "---  ------                          --------------  -----  \n",
      " 0   klasifikasi_perkara_encoded     4323 non-null   int64  \n",
      " 1   penuntut_umum_encoded           4323 non-null   int64  \n",
      " 2   hakim_encoded                   4323 non-null   int64  \n",
      " 3   jumlah_saksi                    4323 non-null   int64  \n",
      " 4   maks_penjara_berdasarkan_pasal  4323 non-null   int64  \n",
      " 5   terdakwa                        4323 non-null   object \n",
      " 6   summarized_dakwaan              4323 non-null   object \n",
      " 7   total_pidana_penjara_bulan      4323 non-null   float64\n",
      "dtypes: float64(1), int64(5), object(2)\n",
      "memory usage: 270.3+ KB\n"
     ]
    }
   ],
   "source": [
    "df.info()"
   ]
  },
  {
   "cell_type": "markdown",
   "metadata": {},
   "source": [
    "### Split Data"
   ]
  },
  {
   "cell_type": "code",
   "execution_count": 5,
   "metadata": {},
   "outputs": [],
   "source": [
    "def stratified_split(df: pd.DataFrame, split_size: float = 0.8) -> tuple[pd.DataFrame, pd.DataFrame]:\n",
    "    unique_groups = df.groupby([\"klasifikasi_perkara_encoded\", \"penuntut_umum_encoded\", \"hakim_encoded\"]).apply(lambda x: x.index.tolist()).to_dict()\n",
    "    \n",
    "    print(unique_groups)\n",
    "    train_idx, test_idx = [], []\n",
    "    \n",
    "    for indices in unique_groups.values():        \n",
    "        if len(indices) == 1:\n",
    "            train_idx.extend(indices)\n",
    "        else:\n",
    "            train, test = train_test_split(indices, train_size=split_size, random_state=42)\n",
    "            train_idx.extend(train)\n",
    "            test_idx.extend(test)\n",
    "    \n",
    "    return df.loc[train_idx], df.loc[test_idx]"
   ]
  },
  {
   "cell_type": "code",
   "execution_count": 6,
   "metadata": {},
   "outputs": [
    {
     "name": "stdout",
     "output_type": "stream",
     "text": [
      "{(0, 0, 0): [0, 20], (0, 0, 2): [2], (0, 1, 0): [19], (0, 1, 4): [35, 36], (0, 4, 1): [5], (0, 4, 3): [10], (0, 7, 1): [9], (0, 8, 0): [15, 17], (0, 9, 0): [16, 18], (0, 11, 4): [22, 23], (0, 13, 0): [32], (0, 13, 3): [34], (0, 15, 4): [33], (0, 16, 0): [37], (0, 17, 0): [38], (0, 17, 14): [437, 501, 595, 609], (0, 17, 16): [422], (0, 17, 18): [474, 665], (0, 17, 19): [783, 784, 785, 786], (0, 17, 20): [432, 438, 518, 578, 608, 724, 745], (0, 17, 21): [639, 822], (0, 18, 0): [39], (0, 19, 0): [40, 41], (0, 20, 0): [42], (0, 22, 7): [46], (0, 26, 10): [52, 54], (0, 27, 10): [136, 152, 172], (0, 27, 11): [75, 104], (0, 27, 12): [173], (0, 27, 14): [119], (0, 28, 10): [100, 147], (0, 28, 11): [55], (0, 29, 10): [56], (0, 30, 10): [57, 94], (0, 30, 12): [90], (0, 31, 9): [58], (0, 31, 10): [106, 107, 109], (0, 31, 12): [96, 97], (0, 32, 10): [59, 60, 61], (0, 32, 12): [101, 102], (0, 33, 10): [174], (0, 33, 14): [144, 162, 163, 164, 166, 177], (0, 34, 10): [63, 91, 92, 93], (0, 34, 11): [65], (0, 34, 12): [80, 175, 176], (0, 35, 12): [70, 71], (0, 37, 10): [78], (0, 37, 11): [73, 81, 89], (0, 38, 12): [110, 111], (0, 38, 15): [170], (0, 39, 12): [105, 128], (0, 40, 15): [183], (0, 41, 10): [153], (0, 42, 10): [294, 360, 387], (0, 42, 16): [291, 320, 329, 365], (0, 42, 19): [722], (0, 43, 10): [141, 165, 178], (0, 43, 12): [112], (0, 43, 14): [120], (0, 44, 10): [289, 312, 316, 348, 349], (0, 44, 14): [186, 187, 420, 421, 574, 587], (0, 44, 16): [304, 305, 306, 331, 346, 347, 362, 363], (0, 44, 17): [388], (0, 44, 18): [442, 657, 664, 711], (0, 44, 19): [495, 604], (0, 44, 20): [493, 636], (0, 44, 21): [700, 701], (0, 49, 10): [206, 212, 261, 264], (0, 49, 12): [142], (0, 49, 13): [288], (0, 50, 12): [133], (0, 51, 10): [134], (0, 52, 12): [145], (0, 52, 14): [149, 151], (0, 55, 12): [179], (0, 57, 14): [148, 150], (0, 61, 15): [182], (0, 62, 10): [241, 268, 269, 270, 271], (0, 62, 14): [259, 381, 415, 416], (0, 62, 16): [386], (0, 62, 19): [548, 762], (0, 62, 20): [725], (0, 62, 22): [719], (0, 64, 10): [330], (0, 64, 16): [296], (0, 65, 10): [198, 282, 283], (0, 65, 12): [201], (0, 65, 17): [364], (0, 66, 14): [260], (0, 67, 12): [195], (0, 68, 10): [196, 369], (0, 68, 14): [374, 403, 449, 450], (0, 68, 16): [402], (0, 68, 19): [584, 585, 769], (0, 68, 20): [737], (0, 68, 21): [586, 815, 816, 817, 842], (0, 69, 10): [199, 250, 251, 252, 253], (0, 69, 12): [200], (0, 69, 14): [232], (0, 69, 16): [265], (0, 71, 10): [303], (0, 71, 14): [538, 545, 577, 621], (0, 71, 16): [308, 314, 315, 383, 417], (0, 71, 18): [654, 655, 656], (0, 71, 20): [446, 570, 571, 572, 573, 690], (0, 72, 10): [352], (0, 72, 16): [324, 325, 326, 384, 385], (0, 73, 10): [211, 242, 243], (0, 73, 12): [236, 237, 238, 239], (0, 74, 10): [380], (0, 74, 14): [327, 328], (0, 74, 16): [338], (0, 75, 14): [221, 222, 223, 224, 517, 614], (0, 75, 19): [459, 460, 461, 509, 510, 511, 632, 781, 782], (0, 75, 20): [433], (0, 75, 21): [645, 746], (0, 75, 23): [810, 834], (0, 75, 48): [1257, 1259], (0, 78, 10): [318, 333, 334, 368], (0, 78, 13): [292], (0, 78, 14): [332, 337, 339, 343, 356, 357, 358, 397, 406, 482, 483], (0, 78, 16): [275, 276, 277, 302, 317, 336, 359, 367], (0, 78, 19): [440, 479, 593, 598], (0, 78, 20): [434, 454, 475, 498, 507, 559, 591, 592, 602, 603, 686], (0, 78, 21): [557], (0, 78, 22): [721], (0, 79, 16): [389], (0, 79, 17): [366], (0, 80, 10): [379], (0, 80, 19): [534, 535], (0, 81, 14): [430, 533, 554, 555, 556, 590], (0, 81, 18): [651, 652], (0, 81, 19): [425, 426, 429, 547, 580, 635, 643], (0, 81, 20): [448, 480, 481, 513, 514, 530, 531, 607, 622], (0, 81, 21): [628, 647, 771], (0, 82, 14): [408, 524, 540], (0, 82, 18): [753, 796], (0, 82, 19): [494, 508, 560, 561, 562, 588], (0, 82, 20): [455, 581], (0, 82, 21): [631, 641], (0, 83, 14): [610], (0, 83, 16): [409], (0, 83, 19): [500, 799, 800], (0, 83, 20): [476], (0, 83, 21): [638], (0, 84, 14): [484, 485], (0, 84, 20): [566, 567, 568, 738, 780], (0, 84, 21): [616, 841], (0, 84, 22): [699], (0, 85, 14): [539, 615], (0, 85, 18): [424, 528], (0, 85, 20): [523, 712], (0, 85, 21): [640, 648, 649], (0, 86, 14): [550], (0, 86, 19): [714, 730, 731, 732, 733, 736], (0, 86, 20): [716, 750], (0, 86, 21): [840], (0, 87, 14): [543], (0, 87, 20): [596, 597, 629, 718, 795], (0, 87, 21): [787, 788], (0, 87, 22): [734], (0, 87, 23): [835], (0, 88, 19): [627, 814], (0, 88, 20): [630], (0, 89, 19): [775, 776, 813], (0, 89, 21): [774], (0, 89, 22): [715], (0, 89, 23): [806], (0, 91, 18): [653], (0, 91, 21): [791, 792], (0, 92, 19): [831], (0, 92, 20): [759], (0, 93, 19): [765, 766], (0, 93, 20): [740, 741], (0, 93, 21): [767], (0, 95, 19): [761, 809], (0, 95, 21): [763, 829], (0, 97, 19): [794], (0, 97, 20): [777], (0, 99, 18): [789], (0, 99, 21): [826], (0, 101, 23): [807], (0, 103, 21): [819], (0, 105, 23): [827], (0, 106, 21): [843], (0, 107, 26): [860], (0, 107, 31): [886, 907], (0, 109, 30): [871, 872], (0, 110, 28): [885], (0, 115, 29): [870], (0, 116, 31): [915, 953], (0, 116, 34): [937], (0, 116, 36): [939, 1000], (0, 119, 28): [868], (0, 119, 31): [879], (0, 121, 32): [877], (0, 122, 32): [880], (0, 125, 30): [890], (0, 125, 32): [904], (0, 129, 31): [916], (0, 129, 34): [947, 987], (0, 129, 35): [991], (0, 129, 36): [980, 981, 999], (0, 129, 39): [995], (0, 129, 40): [996], (0, 132, 33): [900, 901, 902, 903], (0, 135, 28): [914], (0, 135, 34): [912, 922, 938], (0, 135, 36): [940], (0, 136, 28): [913], (0, 136, 34): [911, 921], (0, 137, 31): [969, 971], (0, 137, 34): [946], (0, 137, 35): [990], (0, 137, 36): [998], (0, 137, 37): [1025, 1026], (0, 137, 43): [1022], (0, 138, 31): [923], (0, 139, 31): [924], (0, 140, 31): [970, 972], (0, 141, 36): [956, 958, 960], (0, 144, 31): [943], (0, 145, 31): [944], (0, 146, 31): [945], (0, 147, 36): [955, 957, 959, 1006], (0, 147, 40): [997], (0, 148, 36): [979, 1001, 1007], (0, 149, 31): [954], (0, 149, 37): [1043], (0, 150, 35): [961], (0, 150, 36): [1008], (0, 150, 37): [992], (0, 151, 35): [962], (0, 151, 36): [1009], (0, 152, 34): [986], (0, 153, 38): [993, 994], (0, 158, 37): [1051], (0, 159, 37): [1037, 1042, 1052], (0, 159, 42): [1030], (0, 161, 43): [1035], (0, 162, 37): [1036], (0, 166, 45): [1055], (0, 166, 47): [1207], (0, 166, 48): [1192], (0, 167, 45): [1056], (0, 168, 45): [1057, 1121, 1133, 1135], (0, 168, 46): [1076, 1196, 1198], (0, 169, 45): [1058, 1063], (0, 169, 47): [1075], (0, 169, 48): [1117, 1119, 1137], (0, 170, 45): [1105], (0, 170, 47): [1096, 1098, 1395, 1397, 1401], (0, 170, 48): [1139, 1215, 1292, 1298, 1312, 1316, 1427], (0, 170, 49): [1381], (0, 171, 45): [1147], (0, 171, 47): [1061, 1062], (0, 172, 45): [1064], (0, 173, 46): [1065], (0, 173, 47): [1225, 1227, 1411], (0, 173, 48): [1253], (0, 174, 46): [1066], (0, 175, 45): [1067, 1068, 1069], (0, 175, 48): [1118, 1120, 1138], (0, 176, 46): [1256], (0, 176, 47): [1400], (0, 176, 48): [1291], (0, 177, 46): [1174], (0, 177, 47): [1074, 1200], (0, 178, 46): [1077], (0, 178, 48): [1144], (0, 179, 46): [1080, 1190], (0, 179, 47): [1206], (0, 180, 46): [1081, 1191], (0, 180, 47): [1097], (0, 180, 48): [1140], (0, 181, 45): [1150], (0, 182, 45): [1122, 1134, 1136], (0, 182, 47): [1109, 1111], (0, 185, 48): [1143, 1203], (0, 186, 45): [1106], (0, 186, 47): [1099], (0, 186, 48): [1405], (0, 186, 49): [1326, 1328, 1330, 1332, 1334, 1423, 1448, 1459], (0, 186, 50): [1451, 1454, 1457], (0, 187, 47): [1110, 1112], (0, 188, 48): [1159, 1195], (0, 189, 45): [1146, 1151], (0, 189, 46): [1197, 1199, 1229, 1295], (0, 189, 48): [1194, 1248, 1252, 1255], (0, 190, 48): [1235, 1388, 1434, 1436, 1438, 1440], (0, 191, 46): [1281, 1319], (0, 191, 47): [1410], (0, 191, 48): [1158, 1202, 1254, 1382], (0, 191, 49): [1357], (0, 192, 48): [1168], (0, 193, 48): [1169, 1216], (0, 196, 46): [1175, 1228, 1302, 1304], (0, 196, 47): [1201], (0, 196, 48): [1247, 1258, 1260, 1323, 1355, 1389], (0, 196, 50): [1450, 1453, 1456], (0, 197, 47): [1208], (0, 197, 48): [1193], (0, 199, 48): [1236, 1249], (0, 200, 46): [1282], (0, 200, 47): [1224, 1226], (0, 200, 48): [1383], (0, 203, 48): [1284], (0, 204, 46): [1301, 1303], (0, 204, 47): [1394, 1396], (0, 204, 48): [1283, 1297, 1311, 1315, 1404, 1426], (0, 205, 46): [1296, 1320], (0, 205, 47): [1425], (0, 205, 48): [1324, 1435, 1437, 1439, 1441], (0, 205, 49): [1358], (0, 206, 49): [1325, 1327, 1329, 1331, 1333, 1447, 1458], (0, 206, 50): [1449, 1452, 1455], (0, 207, 47): [1424], (0, 207, 48): [1356, 1390], (0, 207, 49): [1422], (0, 208, 49): [1380], (0, 212, 23): [1462], (0, 212, 51): [1531, 1535, 1552, 1554, 1575], (0, 212, 53): [1478, 1480], (0, 213, 23): [1463], (0, 213, 51): [1548], (0, 214, 51): [1464, 1486], (0, 215, 51): [1465, 1596], (0, 215, 54): [1500], (0, 215, 55): [1639, 1641], (0, 216, 51): [1472], (0, 216, 53): [1622], (0, 216, 55): [1614, 1616, 1640, 1642, 1647], (0, 218, 51): [1473, 1507, 1509, 1511, 1520, 1532, 1536], (0, 218, 53): [1479, 1481], (0, 218, 54): [1497, 1501], (0, 219, 51): [1576, 1580, 1593], (0, 219, 54): [1496], (0, 219, 55): [1581, 1599, 1604, 1605], (0, 220, 51): [1487], (0, 220, 55): [1583, 1590, 1600], (0, 221, 55): [1612], (0, 221, 57): [1630, 1632], (0, 222, 51): [1519, 1594], (0, 223, 54): [1544, 1546, 1574], (0, 224, 51): [1506, 1508, 1510], (0, 225, 54): [1543, 1545, 1649], (0, 225, 55): [1578, 1646], (0, 226, 55): [1523], (0, 227, 55): [1524], (0, 228, 51): [1547, 1551, 1553], (0, 228, 54): [1559], (0, 228, 55): [1555], (0, 229, 51): [1579, 1595], (0, 229, 53): [1621], (0, 229, 54): [1560, 1573, 1648], (0, 229, 55): [1556, 1561, 1577, 1582, 1589, 1603, 1611, 1613, 1615], (0, 229, 56): [1584], (0, 229, 57): [1629, 1631], (0, 230, 55): [1562], (0, 231, 55): [1606], (0, 243, 62): [1675, 1681], (0, 243, 63): [1679], (0, 244, 62): [1678], (0, 244, 67): [1721, 1727, 1728], (0, 245, 62): [1723, 1733], (0, 246, 62): [1695, 1715], (0, 247, 62): [1708], (0, 247, 63): [1716, 1717, 1718, 1719], (0, 247, 67): [1735], (0, 251, 62): [1725], (0, 251, 65): [1697], (0, 251, 67): [1743], (0, 251, 69): [1710, 1711], (0, 252, 67): [1704], (0, 253, 62): [1705], (0, 257, 71): [1745], (0, 258, 71): [1746], (0, 259, 72): [1749], (0, 262, 73): [1789, 1790, 1791], (0, 262, 77): [1798], (0, 262, 78): [1797], (0, 263, 73): [1804, 1824, 1828, 1842, 1851, 1872, 1873, 1895], (0, 263, 74): [1803, 1819, 1825, 1833, 1834, 1835, 1839, 1840, 1845, 1850, 1852, 1871, 1876, 1879, 1885, 1890, 1902], (0, 263, 75): [1771], (0, 263, 76): [1760], (0, 264, 73): [1776, 1784, 1787], (0, 264, 74): [1818, 1820], (0, 264, 75): [1766], (0, 265, 73): [1762, 1763, 1764, 1765, 1779], (0, 266, 74): [1767], (0, 268, 74): [1772, 1874, 1894], (0, 269, 73): [1830], (0, 269, 74): [1778, 1794, 1795, 1814, 1815, 1837, 1904], (0, 271, 74): [1888, 1889], (0, 272, 73): [1849], (0, 272, 74): [1846, 1848, 1899], (0, 274, 73): [1891], (0, 275, 74): [1903], (0, 276, 74): [1905, 1906, 1913], (0, 276, 77): [2004], (0, 276, 79): [2015, 2028, 2029, 2032], (0, 276, 80): [2037, 2038], (0, 276, 81): [2113], (0, 276, 82): [2114], (0, 276, 83): [2133, 2253], (0, 276, 84): [2158, 2213, 2214], (0, 276, 86): [2212, 2242], (0, 277, 73): [1909, 1940], (0, 277, 74): [1907, 1916, 1932], (0, 277, 75): [1968, 1972, 1973, 1983, 2012, 2017, 2018], (0, 277, 77): [1967], (0, 277, 78): [1948, 2000], (0, 277, 81): [2078, 2118], (0, 277, 82): [2063, 2172, 2186, 2514], (0, 277, 84): [2209, 2308, 2344, 2448, 2460, 2489], (0, 277, 86): [2217, 2237, 2238, 2463], (0, 277, 88): [2355, 2380, 2418], (0, 277, 90): [2484], (0, 278, 75): [1949, 1981], (0, 278, 77): [2055], (0, 278, 78): [1980], (0, 278, 80): [2062], (0, 278, 81): [2058, 2090], (0, 278, 82): [2057, 2122, 2137], (0, 278, 83): [2235], (0, 278, 84): [2240, 2241, 2299, 2343], (0, 278, 86): [2221, 2236], (0, 279, 75): [2020], (0, 279, 77): [2056], (0, 279, 78): [1982], (0, 279, 81): [2119], (0, 280, 18): [2518], (0, 280, 73): [1930], (0, 280, 75): [1976], (0, 280, 78): [2005], (0, 280, 80): [2046], (0, 280, 81): [2069, 2116], (0, 280, 82): [2079, 2080, 2134, 2135, 2167], (0, 280, 84): [2175, 2190, 2198, 2199, 2284, 2285, 2348, 2349, 2413, 2494, 2510], (0, 280, 86): [2444, 2506, 2511], (0, 280, 87): [2475], (0, 280, 88): [2370, 2438, 2496, 2497], (0, 281, 73): [1914, 1915], (0, 281, 75): [2009], (0, 281, 81): [2053, 2071, 2072, 2092, 2093], (0, 281, 82): [2076, 2102, 2115, 2130, 2162], (0, 281, 83): [2203], (0, 281, 84): [2171, 2187, 2517], (0, 281, 86): [2215, 2275, 2515, 2516], (0, 281, 87): [2257, 2452], (0, 282, 74): [1926], (0, 283, 73): [1928, 1929, 1951, 1952, 1975], (0, 283, 75): [1963, 1997], (0, 283, 78): [1987, 2003], (0, 283, 79): [2039, 2040, 2041], (0, 283, 81): [2121], (0, 283, 82): [2059, 2060, 2066], (0, 283, 83): [2131, 2239], (0, 283, 84): [2184, 2256, 2319, 2434], (0, 283, 85): [2188], (0, 283, 86): [2216, 2300, 2301, 2312, 2313, 2356], (0, 283, 87): [2362], (0, 283, 88): [2338, 2439], (0, 283, 89): [2422, 2423, 2424], (0, 284, 73): [1931], (0, 284, 75): [1959, 1971], (0, 284, 81): [2110, 2128], (0, 284, 82): [2067], (0, 284, 83): [2274], (0, 284, 86): [2287], (0, 284, 88): [2351, 2474, 2503, 2504, 2505], (0, 285, 73): [1985], (0, 285, 75): [2016], (0, 285, 77): [1992, 1993], (0, 285, 78): [2010], (0, 285, 80): [2047, 2064], (0, 285, 81): [2061, 2095], (0, 286, 75): [2030, 2031], (0, 286, 78): [1994, 1995], (0, 286, 81): [2070], (0, 287, 75): [2001], (0, 287, 78): [1996], (0, 287, 81): [2098, 2099, 2100], (0, 287, 82): [2077], (0, 288, 77): [2054], (0, 289, 82): [2068], (0, 290, 84): [2280], (0, 291, 82): [2152], (0, 291, 83): [2292], (0, 291, 84): [2174, 2205, 2336, 2440], (0, 291, 86): [2426], (0, 291, 87): [2456], (0, 291, 88): [2315, 2320, 2323, 2324, 2335, 2342, 2381, 2392], (0, 291, 89): [2441], (0, 291, 90): [2467], (0, 292, 83): [2270], (0, 292, 86): [2478], (0, 293, 84): [2360], (0, 294, 83): [2262, 2309], (0, 294, 84): [2411, 2443], (0, 294, 86): [2276, 2345, 2479, 2485], (0, 294, 87): [2465], (0, 294, 88): [2372, 2390, 2412, 2442, 2471, 2476], (0, 295, 18): [2523], (0, 295, 84): [2266, 2314], (0, 295, 86): [2295, 2296, 2350, 2414, 2508], (0, 295, 88): [2507], (0, 296, 82): [2513], (0, 296, 83): [2289, 2290], (0, 296, 84): [2420], (0, 296, 86): [2427], (0, 296, 88): [2389, 2459], (0, 297, 84): [2294], (0, 297, 86): [2316, 2317, 2318], (0, 298, 84): [2347, 2401], (0, 298, 86): [2337, 2521, 2524], (0, 298, 88): [2371, 2437, 2481], (0, 299, 84): [2361, 2367, 2394, 2432], (0, 299, 86): [2333], (0, 299, 87): [2428, 2429, 2430, 2431], (0, 299, 88): [2415], (0, 300, 84): [2417], (0, 302, 88): [2483], (0, 303, 86): [2509], (0, 305, 92): [2527, 2528], (0, 305, 95): [2545], (0, 305, 100): [2536, 2537], (0, 306, 93): [2529], (0, 306, 97): [2559], (0, 309, 111): [2560], (0, 312, 99): [2535], (0, 312, 104): [2564, 2565], (0, 313, 101): [2538], (0, 314, 95): [2542], (0, 316, 103): [2543], (0, 316, 110): [2558], (0, 319, 100): [2547], (0, 320, 105): [2548], (0, 321, 106): [2549], (0, 322, 98): [2550, 2551], (0, 324, 100): [2567], (0, 325, 112): [2571], (0, 326, 94): [2566], (0, 334, 115): [2583], (0, 334, 116): [2781, 2783, 2785, 2787], (0, 334, 120): [2673], (0, 334, 121): [2702], (0, 334, 123): [2638], (0, 334, 126): [2775], (0, 334, 128): [2640, 2692], (0, 334, 129): [2677], (0, 335, 115): [2584], (0, 335, 116): [2782, 2784, 2786, 2788], (0, 335, 117): [2610], (0, 335, 118): [2596, 2598, 2600], (0, 335, 120): [2674], (0, 335, 122): [2612, 2614], (0, 335, 123): [2639], (0, 335, 124): [2732], (0, 335, 126): [2776], (0, 335, 127): [3151, 3152], (0, 335, 128): [2641, 2693], (0, 335, 129): [2678], (0, 336, 115): [2745, 2969, 2971, 3111, 3113], (0, 336, 116): [2585, 2719, 2721, 3069], (0, 336, 117): [2629], (0, 336, 119): [2823, 2856, 2929], (0, 336, 120): [2880], (0, 336, 121): [3157], (0, 336, 122): [2931, 2933, 2935, 2937, 2975, 2977], (0, 336, 124): [2621], (0, 336, 125): [2623], (0, 336, 127): [2749, 2751, 2884, 2886, 2888], (0, 336, 130): [2709, 2711], (0, 336, 131): [2669, 2824, 2989, 3001, 3003, 3041], (0, 336, 132): [2842], (0, 336, 133): [2987], (0, 336, 134): [2999], (0, 337, 116): [2586, 2919], (0, 337, 118): [2743], (0, 337, 121): [2763, 2993], (0, 337, 125): [2997], (0, 337, 127): [2750, 2752], (0, 337, 129): [2797, 2962, 2964, 2981], (0, 337, 130): [2710, 2712, 2915, 2917], (0, 338, 121): [2671], (0, 338, 123): [2735], (0, 338, 124): [2973, 3336, 3338, 3340], (0, 338, 126): [3417, 3419, 3421, 3423], (0, 338, 127): [3392, 3410], (0, 338, 133): [3545], (0, 338, 134): [3448], (0, 338, 136): [3489], (0, 339, 115): [3548], (0, 339, 117): [3582], (0, 339, 120): [3220], (0, 339, 121): [2672], (0, 339, 123): [3405], (0, 339, 124): [2974], (0, 339, 125): [2875, 3214, 3216], (0, 339, 127): [3074], (0, 339, 133): [3218, 3546], (0, 342, 115): [2852], (0, 342, 116): [3317], (0, 342, 117): [2865, 3089], (0, 342, 118): [2595, 2597, 2599, 2854], (0, 342, 120): [3015], (0, 342, 121): [2703, 3371], (0, 342, 124): [2731], (0, 342, 126): [2866, 3210], (0, 342, 128): [3091], (0, 342, 130): [2771], (0, 343, 115): [2970, 2972], (0, 343, 117): [2609, 2630, 2793, 2794], (0, 343, 119): [2601], (0, 343, 120): [2755, 2757, 2759, 2761, 2881], (0, 343, 121): [2925, 2926], (0, 343, 122): [2611, 2613, 2932, 2934, 2936, 2938, 2976, 2978], (0, 343, 127): [2885, 2887, 2889], (0, 343, 132): [2843], (0, 343, 133): [2988], (0, 344, 116): [2661, 3148], (0, 344, 117): [2716, 2718], (0, 344, 118): [3482], (0, 344, 119): [2602, 3176], (0, 344, 121): [2994], (0, 344, 125): [3302], (0, 344, 127): [3811], (0, 344, 129): [2798], (0, 344, 131): [3682], (0, 344, 135): [3884], (0, 344, 136): [2961], (0, 344, 138): [4004], (0, 345, 116): [2660, 2720, 2722, 2920, 3147], (0, 345, 117): [2715, 2717, 3581], (0, 345, 118): [2744], (0, 345, 119): [3175], (0, 345, 120): [2756, 2758, 2760, 2762], (0, 345, 121): [2764, 3110], (0, 345, 125): [2998, 4196], (0, 345, 127): [3754], (0, 345, 129): [2963, 2965, 2982], (0, 345, 130): [2916, 2918], (0, 345, 133): [3823], (0, 345, 135): [3883], (0, 345, 136): [2960, 3881], (0, 345, 138): [4003], (0, 346, 119): [3313], (0, 346, 121): [3372], (0, 346, 123): [2736, 3404], (0, 346, 127): [3073], (0, 346, 130): [3294, 3296], (0, 347, 115): [2928, 3556, 3558], (0, 347, 116): [4111, 4181, 4183], (0, 347, 117): [3230, 3807, 3809], (0, 347, 118): [3950], (0, 347, 119): [3930, 4315], (0, 347, 123): [3856], (0, 347, 124): [4008], (0, 347, 126): [4142], (0, 347, 127): [3978, 3980, 3982], (0, 347, 131): [2990, 4215, 4217], (0, 347, 133): [3858, 3984, 3986], (0, 347, 134): [4158], (0, 347, 135): [2950, 2952, 2954, 3266, 3268], (0, 347, 136): [4051, 4053, 4055, 4057, 4214], (0, 347, 137): [3773, 3805], (0, 347, 139): [4100], (0, 348, 115): [3300], (0, 348, 116): [3699, 3701, 3703, 3705], (0, 348, 117): [3885], (0, 348, 118): [3974, 3976], (0, 348, 123): [4282], (0, 348, 126): [4098], (0, 348, 128): [4280], (0, 348, 129): [3724, 3726], (0, 348, 134): [3920], (0, 348, 135): [3495], (0, 348, 136): [3378, 3380], (0, 349, 117): [3824], (0, 349, 118): [3949], (0, 349, 119): [3795, 3929, 4147], (0, 349, 123): [3855], (0, 349, 124): [3750, 4007], (0, 349, 125): [3871], (0, 349, 126): [4141], (0, 349, 127): [3977, 3979, 3981, 4045], (0, 349, 129): [4028, 4030, 4032, 4034], (0, 349, 130): [3931], (0, 349, 133): [3983, 3985], (0, 349, 135): [3265, 3267, 3765, 3767], (0, 349, 137): [3804], (0, 349, 139): [4099], (0, 350, 119): [2694, 2696], (0, 350, 122): [3088], (0, 351, 115): [2746], (0, 351, 119): [2695, 2697, 2857], (0, 351, 124): [2622], (0, 351, 125): [2624], (0, 351, 131): [2670, 2825, 3002, 3004], (0, 351, 135): [3060, 3062], (0, 352, 125): [2874], (0, 353, 126): [2667], (0, 354, 116): [3864], (0, 354, 117): [3886], (0, 354, 124): [3736], (0, 354, 126): [2668], (0, 354, 129): [3698], (0, 358, 115): [2927, 3459, 3555, 3557], (0, 358, 117): [3806, 3808], (0, 358, 118): [3708], (0, 358, 122): [3087], (0, 358, 123): [3012], (0, 358, 124): [3749], (0, 358, 125): [3943], (0, 358, 127): [3663], (0, 358, 133): [3857], (0, 358, 135): [2949, 2951, 2953], (0, 358, 136): [3377, 3379, 4050, 4052, 4054, 4056], (0, 359, 116): [3863], (0, 359, 117): [4143, 4145], (0, 359, 120): [3389], (0, 359, 124): [3735], (0, 359, 125): [4177], (0, 359, 126): [4235], (0, 359, 127): [4169, 4171], (0, 359, 128): [3424], (0, 359, 129): [3911, 3913, 4066], (0, 359, 130): [4019], (0, 359, 134): [3919, 4157], (0, 359, 135): [3494], (0, 359, 137): [3895, 3897, 4308], (0, 359, 138): [4306], (0, 359, 139): [4173], (0, 359, 140): [4256, 4258, 4260], (0, 360, 117): [3825], (0, 360, 126): [4236], (0, 361, 115): [3112, 3114, 3564], (0, 361, 116): [3070, 3318, 3501, 3630, 3632, 3928, 3970, 4182, 4184], (0, 361, 117): [3193, 3451, 4314, 4319, 4321], (0, 361, 118): [2895, 3281, 3592, 3594], (0, 361, 119): [3036, 3434, 4133, 4135, 4148, 4316], (0, 361, 120): [3016, 3644, 3646], (0, 361, 122): [3149], (0, 361, 123): [3129, 3131, 3133, 4283], (0, 361, 126): [3386, 3712], (0, 361, 127): [3328, 3330, 4046], (0, 361, 128): [2844, 3092, 3714, 3716, 4281], (0, 361, 129): [2980, 3697, 3912, 3914], (0, 361, 130): [2772, 3025, 3027], (0, 361, 131): [2897, 3276, 4216, 4218], (0, 361, 133): [2849, 3056, 3355, 3357, 3359], (0, 361, 134): [2861, 3278], (0, 361, 135): [3118, 3120, 3766, 3768, 4202], (0, 361, 136): [3126, 3882], (0, 361, 137): [3774, 4160], (0, 363, 115): [2853], (0, 363, 117): [3090, 3194, 3452, 4144, 4146, 4320, 4322], (0, 363, 118): [2855, 3282], (0, 363, 119): [3314, 4134, 4136], (0, 363, 122): [3150], (0, 363, 123): [3130, 3132, 3134], (0, 363, 124): [2851, 3160, 3162], (0, 363, 126): [2867, 4279], (0, 363, 127): [4170, 4172], (0, 363, 128): [2845], (0, 363, 130): [3026, 3028], (0, 363, 131): [2898], (0, 363, 133): [3356, 3358, 3360], (0, 363, 135): [4084], (0, 363, 139): [4174], (0, 363, 140): [4257, 4259, 4261], (0, 364, 115): [3525], (0, 364, 116): [3500], (0, 364, 117): [2864, 3596], (0, 364, 118): [2894], (0, 364, 119): [3035, 3433], (0, 364, 124): [2850], (0, 364, 126): [3209, 3385, 3711], (0, 364, 127): [3327, 3329], (0, 364, 129): [2979, 3432, 4027, 4029, 4031, 4033], (0, 364, 131): [3042], (0, 364, 133): [2848], (0, 364, 134): [2860, 3000, 3277, 3447], (0, 364, 135): [3117, 3119, 3523, 3535], (0, 364, 136): [3125], (0, 365, 120): [3689], (0, 365, 128): [4189, 4191], (0, 365, 130): [3641], (0, 365, 133): [3665, 3667], (0, 365, 135): [3678, 4290], (0, 366, 119): [2930], (0, 368, 125): [3213, 3215], (0, 368, 133): [3217], (0, 369, 115): [3299, 3563], (0, 369, 116): [4285], (0, 369, 118): [3007, 3009, 3707, 3973, 3975], (0, 369, 120): [3474, 3649], (0, 369, 121): [3473], (0, 369, 122): [3341, 3408], (0, 369, 123): [3011], (0, 369, 124): [4041], (0, 369, 125): [3412, 4014, 4016, 4140, 4195], (0, 369, 126): [4097, 4278], (0, 369, 127): [3810], (0, 369, 128): [3297, 3990], (0, 369, 129): [3723, 3725], (0, 369, 133): [3543], (0, 369, 134): [3633, 3635], (0, 369, 136): [3819, 3933, 3935], (0, 369, 137): [4159, 4180], (0, 369, 138): [3787, 3789, 3791, 3793, 3945], (0, 369, 139): [4059], (0, 369, 140): [4293], (0, 370, 116): [3700, 3702, 3704, 3706], (0, 370, 118): [3008, 3010], (0, 370, 122): [3409], (0, 370, 124): [3454, 3456], (0, 370, 125): [3413, 3944], (0, 370, 128): [3298], (0, 370, 131): [4269, 4271, 4273], (0, 370, 134): [4219, 4221], (0, 370, 136): [3934, 3936], (0, 370, 138): [3946], (0, 371, 116): [3776, 3778], (0, 371, 120): [3650, 4263, 4265, 4267], (0, 371, 121): [3158], (0, 371, 123): [3319, 3321], (0, 371, 127): [3411, 3664], (0, 371, 133): [3055, 3399], (0, 371, 134): [3634, 3636], (0, 371, 135): [3059, 3061], (0, 372, 116): [4112], (0, 372, 118): [3481], (0, 372, 119): [3796], (0, 372, 121): [3109], (0, 372, 124): [4042], (0, 372, 125): [3301, 3872], (0, 372, 127): [3679], (0, 372, 131): [3681], (0, 372, 133): [3822], (0, 372, 138): [3788, 3790, 3792, 3794], (0, 374, 115): [3183, 3185, 3547], (0, 374, 116): [3629, 3631, 3775, 3777, 3927, 3969, 4284], (0, 374, 117): [3229, 4203, 4313], (0, 374, 118): [3591, 3593], (0, 374, 120): [3219, 3390, 4262, 4264, 4266], (0, 374, 121): [3472], (0, 374, 123): [3971, 4246], (0, 374, 124): [3159, 3161, 3335, 3337, 3339, 3453, 3455], (0, 374, 125): [4013, 4015, 4139, 4178], (0, 374, 126): [3416, 3418, 3420, 3422], (0, 374, 127): [3753], (0, 374, 128): [3425, 3713, 3715, 3989, 4105, 4107], (0, 374, 129): [3431, 4067], (0, 374, 130): [3293, 3295], (0, 374, 131): [3275, 4017, 4268, 4270, 4272], (0, 374, 133): [3398, 3542], (0, 374, 134): [3691], (0, 374, 135): [3522, 3534, 3677, 4083, 4201], (0, 374, 136): [3818, 4213], (0, 374, 137): [3896, 3898, 4179], (0, 374, 138): [4307], (0, 374, 139): [4058], (0, 374, 140): [4292], (0, 375, 115): [3184, 3186], (0, 375, 117): [4204], (0, 375, 120): [3475], (0, 375, 123): [3320, 3322, 3972, 4247], (0, 375, 128): [4106, 4108], (0, 375, 130): [3932, 4020], (0, 375, 131): [4018], (0, 375, 134): [3692], (0, 375, 136): [3490], (0, 377, 122): [3342], (0, 378, 115): [3524], (0, 378, 117): [3595], (0, 378, 120): [3643, 3645], (0, 380, 120): [3690], (0, 380, 127): [3680], (0, 380, 128): [4190, 4192], (0, 380, 130): [3642], (0, 380, 133): [3666, 3668], (0, 380, 134): [4220, 4222], (0, 380, 135): [4291], (0, 380, 137): [4309], (1, 1, 1): [1], (1, 10, 0): [21], (1, 31, 11): [99], (1, 35, 11): [64], (1, 42, 9): [103], (1, 44, 10): [246], (1, 44, 14): [521], (1, 46, 10): [121], (1, 50, 13): [184], (1, 52, 10): [143], (1, 53, 14): [180], (1, 62, 13): [185], (1, 65, 10): [323], (1, 68, 14): [413], (1, 68, 18): [525, 544], (1, 68, 21): [751], (1, 69, 10): [218], (1, 71, 15): [290], (1, 71, 20): [687, 704], (1, 74, 14): [216, 217], (1, 75, 21): [644, 764], (1, 78, 20): [431, 793], (1, 80, 14): [551], (1, 81, 14): [412], (1, 83, 22): [720], (1, 84, 14): [496, 497], (1, 86, 14): [445], (1, 86, 21): [565], (1, 86, 23): [832], (1, 87, 18): [708], (1, 87, 22): [693], (1, 88, 20): [688], (1, 88, 21): [601, 743], (1, 91, 19): [752], (1, 97, 23): [833], (1, 103, 23): [820], (1, 111, 25): [852], (1, 112, 25): [853], (1, 113, 25): [854], (1, 113, 28): [888], (1, 114, 25): [855], (1, 115, 25): [856], (1, 118, 28): [861], (1, 120, 31): [878], (1, 170, 46): [1059], (1, 170, 48): [1348], (1, 176, 48): [1347], (1, 186, 46): [1234], (1, 186, 48): [1368], (1, 196, 49): [1339], (1, 202, 46): [1233], (1, 204, 48): [1367], (1, 205, 49): [1340], (1, 208, 48): [1346], (1, 212, 51): [1537], (1, 215, 55): [1650], (1, 216, 55): [1651], (1, 220, 51): [1538], (1, 231, 57): [1655], (1, 232, 57): [1654], (1, 238, 55): [1667], (1, 252, 73): [1831], (1, 254, 64): [1707], (1, 255, 62): [1742], (1, 259, 72): [1748], (1, 261, 74): [1877, 1878], (1, 262, 74): [1773, 1774], (1, 270, 74): [1786], (1, 275, 74): [1870], (1, 279, 73): [1927], (1, 279, 78): [1957], (1, 280, 75): [2006], (1, 280, 81): [2104], (1, 283, 75): [1946, 1990], (1, 283, 78): [1964], (1, 283, 86): [2303], (1, 284, 78): [1991], (1, 284, 83): [2075], (1, 284, 88): [2339], (1, 286, 84): [2182], (1, 290, 82): [2155, 2178], (1, 292, 83): [2204], (1, 295, 84): [2493], (1, 295, 86): [2502], (1, 295, 87): [2387], (1, 304, 92): [2525, 2526], (1, 307, 94): [2530], (1, 311, 98): [2534], (1, 324, 113): [2578], (1, 327, 101): [2568], (1, 336, 121): [2644, 2801], (1, 336, 124): [4129], (1, 336, 135): [3143], (1, 337, 123): [2924], (1, 338, 117): [2587], (1, 338, 118): [3173], (1, 338, 129): [3171], (1, 339, 117): [2588], (1, 339, 119): [3584], (1, 339, 135): [3144], (1, 342, 134): [3031], (1, 343, 121): [2802], (1, 345, 119): [3084], (1, 345, 121): [2645], (1, 345, 131): [3507], (1, 345, 134): [3890], (1, 346, 118): [3174], (1, 346, 129): [3172], (1, 346, 132): [3269], (1, 347, 120): [4122], (1, 347, 129): [4113], (1, 347, 134): [3427], (1, 347, 136): [3244], (1, 349, 119): [3583], (1, 349, 120): [2665], (1, 349, 123): [2923], (1, 349, 134): [3889], (1, 349, 135): [3669], (1, 350, 120): [2666], (1, 354, 119): [3499], (1, 354, 123): [4036], (1, 354, 124): [3541], (1, 354, 128): [2740, 3554], (1, 354, 130): [2879], (1, 358, 129): [3414], (1, 359, 119): [3498], (1, 359, 123): [3637, 4035], (1, 359, 128): [2739, 3553], (1, 361, 136): [3239], (1, 363, 122): [3442], (1, 363, 124): [4130], (1, 363, 134): [3032], (1, 363, 135): [3670], (1, 363, 136): [3240], (1, 364, 123): [3638], (1, 364, 131): [3755], (1, 365, 130): [2878], (1, 369, 123): [3893], (1, 369, 126): [4123, 4125], (1, 370, 126): [4124, 4126], (1, 370, 129): [3415], (1, 371, 120): [4121], (1, 371, 131): [3181], (1, 371, 134): [3426], (1, 371, 136): [3243], (1, 372, 116): [3349], (1, 372, 119): [3083], (1, 372, 129): [4114], (1, 372, 131): [3506, 3756], (1, 373, 116): [3350], (1, 373, 132): [3270], (1, 374, 119): [3573], (1, 374, 122): [3441], (1, 374, 124): [3540], (1, 374, 126): [3797], (1, 374, 127): [3504], (1, 374, 137): [3733, 3947], (1, 375, 115): [3324], (1, 375, 119): [3574], (1, 375, 127): [3505], (1, 375, 131): [3182], (1, 375, 137): [3734, 3948], (1, 376, 115): [3323], (1, 380, 123): [3894], (2, 2, 1): [3], (2, 3, 1): [4], (2, 4, 1): [6], (2, 5, 1): [7], (2, 5, 4): [25], (2, 6, 1): [8], (2, 10, 2): [27], (2, 12, 4): [24], (2, 13, 0): [26], (2, 13, 4): [28, 29], (2, 17, 19): [808], (2, 17, 20): [772], (2, 21, 5): [43, 44], (2, 21, 6): [45], (2, 25, 9): [51], (2, 25, 12): [88], (2, 25, 13): [127], (2, 27, 10): [53], (2, 27, 14): [123, 171], (2, 28, 10): [82], (2, 28, 12): [76], (2, 30, 11): [79], (2, 31, 10): [74], (2, 31, 11): [77], (2, 31, 12): [67, 68], (2, 32, 10): [83], (2, 33, 10): [62, 113, 115], (2, 34, 10): [181], (2, 35, 11): [69], (2, 36, 11): [66], (2, 37, 10): [72], (2, 38, 10): [125], (2, 38, 14): [169], (2, 39, 10): [160], (2, 39, 12): [87], (2, 39, 14): [122], (2, 40, 10): [126], (2, 40, 12): [95, 108], (2, 40, 13): [130], (2, 40, 14): [140, 154], (2, 41, 11): [98], (2, 42, 10): [193, 205, 215, 341, 342], (2, 42, 13): [227, 286, 293], (2, 42, 16): [299, 300, 340], (2, 43, 13): [159], (2, 44, 10): [114, 116, 191, 301, 313, 335], (2, 44, 12): [207], (2, 44, 13): [244, 255, 257], (2, 44, 14): [132, 228, 229, 247, 322, 382, 457, 478, 552, 553, 563, 564], (2, 44, 15): [297], (2, 44, 16): [311, 319], (2, 44, 17): [321, 392, 393, 394, 400, 401], (2, 44, 18): [443, 519, 666], (2, 44, 19): [439, 505], (2, 44, 20): [451, 452, 558], (2, 44, 21): [691], (2, 45, 10): [189], (2, 45, 12): [117], (2, 47, 10): [124], (2, 48, 14): [129], (2, 49, 10): [219, 230], (2, 49, 12): [208, 226], (2, 49, 13): [131, 267], (2, 49, 16): [281], (2, 51, 13): [161], (2, 51, 15): [168], (2, 53, 12): [135], (2, 54, 10): [158], (2, 54, 14): [137, 138, 156], (2, 55, 14): [139], (2, 56, 13): [146], (2, 58, 10): [155], (2, 59, 12): [157], (2, 60, 10): [167], (2, 62, 10): [371, 390], (2, 62, 12): [225], (2, 62, 13): [284], (2, 62, 14): [258, 354, 423], (2, 62, 19): [458], (2, 62, 21): [748], (2, 63, 10): [188], (2, 64, 14): [248], (2, 64, 17): [344, 345], (2, 65, 10): [192, 309], (2, 65, 12): [197], (2, 66, 20): [728], (2, 68, 13): [234, 235], (2, 68, 14): [233], (2, 68, 16): [287], (2, 68, 19): [825], (2, 69, 10): [220, 262], (2, 69, 13): [245, 279, 280], (2, 71, 10): [203, 204, 295, 310], (2, 71, 14): [353, 355, 427, 428, 444, 491], (2, 71, 15): [298], (2, 71, 18): [527, 668], (2, 71, 19): [637], (2, 71, 21): [605, 689], (2, 71, 22): [705], (2, 72, 14): [210], (2, 74, 13): [272, 273, 274], (2, 74, 16): [372, 378, 405], (2, 75, 14): [473, 594], (2, 75, 19): [453], (2, 75, 21): [546], (2, 75, 23): [838], (2, 77, 13): [263], (2, 78, 19): [536, 821], (2, 78, 21): [537], (2, 80, 14): [373, 532], (2, 81, 19): [447, 811], (2, 81, 21): [541, 773], (2, 82, 14): [623], (2, 82, 16): [410, 411], (2, 82, 18): [599, 600], (2, 82, 21): [611], (2, 82, 22): [729], (2, 82, 23): [803], (2, 83, 14): [526, 549], (2, 83, 20): [456], (2, 83, 21): [698], (2, 83, 22): [697], (2, 83, 23): [837], (2, 84, 14): [620], (2, 84, 16): [414], (2, 84, 18): [492, 702], (2, 84, 19): [502, 845], (2, 84, 20): [489, 503, 504, 606], (2, 84, 21): [589], (2, 85, 16): [419], (2, 85, 18): [499], (2, 86, 20): [727], (2, 87, 18): [650, 801], (2, 87, 19): [579], (2, 87, 20): [760], (2, 87, 21): [798], (2, 88, 14): [612], (2, 88, 21): [694], (2, 89, 14): [613, 619], (2, 89, 18): [633], (2, 89, 21): [646], (2, 89, 22): [695], (2, 91, 22): [717], (2, 92, 18): [659], (2, 92, 19): [744], (2, 92, 21): [805], (2, 92, 23): [836], (2, 93, 23): [846], (2, 94, 23): [839], (2, 95, 19): [844], (2, 96, 19): [768, 830], (2, 98, 18): [779], (2, 99, 19): [802], (2, 100, 23): [804], (2, 104, 23): [823], (2, 107, 24): [847], (2, 107, 31): [895], (2, 108, 24): [848], (2, 109, 25): [849], (2, 110, 26): [850, 851], (2, 110, 29): [864, 865], (2, 110, 30): [889], (2, 110, 31): [876, 896], (2, 111, 27): [857], (2, 113, 29): [881], (2, 114, 25): [862], (2, 116, 27): [858], (2, 117, 27): [859], (2, 117, 33): [899], (2, 119, 25): [863], (2, 120, 30): [867], (2, 122, 31): [884], (2, 123, 31): [882], (2, 124, 31): [883], (2, 126, 32): [891], (2, 127, 32): [892], (2, 128, 30): [893], (2, 129, 30): [894], (2, 129, 31): [905], (2, 129, 36): [935, 978], (2, 129, 44): [1038, 1039], (2, 130, 33): [897], (2, 131, 33): [898], (2, 133, 31): [906], (2, 133, 36): [936], (2, 137, 31): [919, 920], (2, 137, 35): [927, 948, 985, 989], (2, 137, 36): [918, 977], (2, 138, 31): [931, 933], (2, 139, 31): [932, 934], (2, 140, 35): [928], (2, 141, 35): [952], (2, 142, 35): [941], (2, 143, 35): [942], (2, 147, 35): [949, 951, 965, 967, 973, 975, 984, 988, 1002, 1004, 1016], (2, 147, 36): [1012, 1014], (2, 148, 35): [950, 966, 968, 974, 976], (2, 149, 43): [1024], (2, 153, 35): [1003, 1005, 1017], (2, 153, 36): [1013, 1015], (2, 154, 37): [1011], (2, 155, 43): [1040], (2, 157, 37): [1027], (2, 160, 37): [1031], (2, 163, 37): [1041], (2, 168, 45): [1123], (2, 168, 46): [1164], (2, 168, 47): [1113, 1152, 1211, 1213, 1230, 1239], (2, 168, 48): [1125], (2, 169, 45): [1107], (2, 169, 47): [1078, 1102, 1142], (2, 170, 45): [1072, 1073], (2, 170, 46): [1177, 1269], (2, 170, 47): [1318, 1443], (2, 170, 48): [1145, 1286, 1300], (2, 170, 49): [1350, 1409, 1413], (2, 171, 45): [1095, 1101, 1124], (2, 171, 46): [1083, 1087, 1088], (2, 171, 47): [1060, 1079], (2, 173, 46): [1176], (2, 173, 47): [1277, 1279, 1310], (2, 173, 48): [1205, 1274, 1276, 1379], (2, 173, 49): [1352, 1354], (2, 174, 45): [1091, 1093], (2, 175, 46): [1071], (2, 176, 46): [1070, 1306], (2, 176, 47): [1278, 1280], (2, 176, 48): [1285, 1299, 1308], (2, 176, 49): [1349, 1412], (2, 177, 45): [1094, 1100], (2, 177, 46): [1086], (2, 177, 47): [1141, 1220, 1222], (2, 178, 47): [1155, 1157], (2, 179, 46): [1178], (2, 180, 46): [1179], (2, 180, 47): [1212, 1214], (2, 180, 48): [1210], (2, 181, 46): [1082], (2, 181, 47): [1182, 1184, 1186, 1188], (2, 182, 45): [1084], (2, 183, 45): [1085], (2, 184, 46): [1089], (2, 185, 45): [1090, 1092], (2, 185, 48): [1149, 1217], (2, 186, 46): [1270, 1272], (2, 186, 47): [1154, 1156, 1314, 1345, 1403, 1417, 1419], (2, 186, 48): [1360, 1407], (2, 186, 49): [1421], (2, 187, 45): [1104, 1108], (2, 187, 47): [1103, 1153], (2, 188, 46): [1165], (2, 188, 47): [1114, 1116, 1167, 1171, 1180], (2, 188, 48): [1126, 1172], (2, 189, 46): [1271], (2, 189, 47): [1115, 1128, 1130, 1132, 1166, 1240], (2, 189, 48): [1218], (2, 190, 47): [1127, 1129, 1131, 1361, 1363, 1365], (2, 191, 46): [1305], (2, 191, 47): [1309, 1414, 1428], (2, 191, 48): [1148, 1204, 1378, 1430, 1432], (2, 191, 49): [1351, 1353], (2, 193, 47): [1181], (2, 194, 47): [1170], (2, 195, 48): [1173, 1219], (2, 196, 46): [1287, 1289], (2, 196, 47): [1232, 1244], (2, 196, 48): [1250, 1293, 1369, 1371, 1377, 1399], (2, 196, 49): [1391], (2, 197, 47): [1183, 1185, 1187, 1189, 1245, 1262, 1264], (2, 198, 47): [1261, 1263], (2, 198, 48): [1209], (2, 199, 47): [1221, 1223], (2, 199, 48): [1251], (2, 200, 48): [1273, 1275, 1431, 1433], (2, 201, 47): [1231], (2, 202, 47): [1317], (2, 203, 47): [1246], (2, 204, 47): [1313, 1442], (2, 204, 48): [1307, 1398], (2, 204, 49): [1384, 1386, 1420], (2, 205, 46): [1288, 1290], (2, 205, 47): [1415, 1429], (2, 205, 48): [1294, 1370, 1372], (2, 205, 49): [1385, 1387], (2, 206, 47): [1416, 1418], (2, 206, 48): [1359, 1406], (2, 207, 47): [1344, 1362, 1364, 1366, 1402], (2, 207, 49): [1393], (2, 207, 50): [1445], (2, 208, 49): [1408], (2, 209, 49): [1392], (2, 210, 50): [1444], (2, 211, 50): [1446], (2, 212, 51): [1474, 1476, 1495], (2, 212, 52): [1469, 1471], (2, 212, 54): [1483, 1485], (2, 213, 51): [1466], (2, 213, 54): [1512], (2, 214, 51): [1488, 1490, 1539, 1541], (2, 214, 54): [1498], (2, 215, 51): [1585, 1587], (2, 215, 53): [1617], (2, 215, 57): [1634, 1636], (2, 216, 51): [1467, 1586, 1588, 1598, 1626], (2, 216, 54): [1513], (2, 216, 55): [1653], (2, 217, 51): [1494], (2, 217, 52): [1468, 1470], (2, 217, 54): [1482, 1484], (2, 217, 55): [1557], (2, 218, 54): [1493], (2, 219, 51): [1475, 1477, 1607, 1609, 1643], (2, 219, 55): [1569, 1591], (2, 219, 57): [1633, 1635], (2, 220, 51): [1608, 1610], (2, 220, 53): [1530], (2, 221, 51): [1489, 1491, 1516], (2, 221, 54): [1499, 1628], (2, 221, 55): [1502, 1504], (2, 222, 53): [1618], (2, 222, 54): [1492], (2, 222, 55): [1652], (2, 223, 51): [1517], (2, 223, 55): [1503, 1505], (2, 224, 51): [1540, 1542], (2, 224, 55): [1570, 1592], (2, 224, 57): [1623], (2, 225, 51): [1597], (2, 225, 55): [1550], (2, 225, 56): [1620], (2, 225, 57): [1624], (2, 226, 55): [1526, 1528], (2, 227, 55): [1549], (2, 228, 53): [1529], (2, 228, 55): [1525, 1527, 1565], (2, 229, 51): [1563], (2, 229, 54): [1627], (2, 229, 56): [1619], (2, 230, 51): [1564, 1625, 1657], (2, 230, 55): [1558, 1566], (2, 231, 51): [1645], (2, 232, 51): [1644], (2, 233, 51): [1656], (2, 235, 56): [1660, 1661], (2, 236, 55): [1665, 1666], (2, 236, 58): [1669], (2, 237, 59): [1663, 1664], (2, 239, 60): [1672], (2, 240, 60): [1670, 1671], (2, 241, 60): [1673], (2, 244, 62): [1700, 1730, 1741], (2, 244, 63): [1676, 1692, 1693], (2, 244, 65): [1712], (2, 244, 66): [1703], (2, 244, 67): [1726, 1732], (2, 245, 62): [1677, 1738], (2, 245, 63): [1701], (2, 245, 66): [1698, 1699, 1714], (2, 245, 67): [1724, 1734, 1737], (2, 246, 63): [1680], (2, 247, 62): [1682, 1683, 1686, 1687, 1688], (2, 247, 63): [1690], (2, 248, 62): [1684], (2, 248, 64): [1696], (2, 248, 69): [1720], (2, 249, 62): [1689, 1694, 1702], (2, 249, 64): [1713], (2, 250, 62): [1691], (2, 250, 68): [1709], (2, 252, 62): [1729, 1736], (2, 252, 73): [1758, 1759, 1770, 1801, 1802, 1813, 1841], (2, 254, 63): [1706], (2, 255, 62): [1739, 1740], (2, 256, 70): [1744], (2, 257, 72): [1747], (2, 260, 73): [1752, 1753], (2, 260, 74): [1867, 1868], (2, 260, 75): [1755, 1756], (2, 260, 77): [1861, 1862], (2, 261, 73): [1857], (2, 261, 74): [1754], (2, 261, 77): [1863, 1864, 1896, 1898], (2, 262, 73): [1881, 1882], (2, 262, 74): [1757, 1869], (2, 262, 77): [1796, 1847, 1884], (2, 264, 74): [1781, 1782], (2, 265, 73): [1775, 1808, 1811, 1812, 1822, 1823], (2, 265, 74): [1777, 1816, 1827], (2, 265, 75): [1780], (2, 265, 77): [1866], (2, 266, 73): [1807], (2, 266, 74): [1810], (2, 266, 77): [1788], (2, 267, 73): [1769], (2, 267, 74): [1768, 1817], (2, 268, 73): [1836], (2, 268, 74): [1806], (2, 269, 73): [1858, 1859, 1886, 1887], (2, 270, 74): [1829], (2, 271, 73): [1826, 1832, 1892], (2, 271, 74): [1799, 1800, 1855, 1856], (2, 274, 77): [1860, 1865], (2, 275, 73): [1880], (2, 276, 73): [1908, 1953, 1954, 1962], (2, 276, 77): [1974], (2, 276, 79): [2027], (2, 276, 81): [2074, 2085], (2, 276, 82): [2112, 2132, 2146, 2183], (2, 276, 83): [2243], (2, 276, 84): [2197], (2, 277, 83): [2250], (2, 277, 85): [2192], (2, 277, 86): [2373], (2, 277, 89): [2499], (2, 278, 73): [1917, 1955, 1969], (2, 278, 74): [1933], (2, 278, 75): [1986], (2, 278, 77): [1910], (2, 278, 79): [2044], (2, 278, 80): [2042], (2, 278, 82): [2139, 2145], (2, 278, 83): [2105, 2195, 2206, 2251, 2255, 2260, 2261], (2, 278, 84): [2150, 2169, 2170, 2222, 2244], (2, 278, 86): [2245], (2, 279, 73): [1911, 1943, 1944, 1945, 1950], (2, 279, 75): [1956, 2008], (2, 279, 78): [2007], (2, 279, 83): [2159], (2, 279, 84): [2200, 2263, 2272], (2, 279, 85): [2189, 2191], (2, 279, 86): [2288, 2332], (2, 279, 87): [2399, 2410], (2, 279, 89): [2382, 2396, 2404, 2405, 2406, 2407, 2416, 2433], (2, 280, 73): [1961], (2, 280, 74): [1912], (2, 280, 75): [1988, 1989], (2, 280, 78): [2011], (2, 280, 79): [2026], (2, 280, 82): [2106, 2140], (2, 280, 83): [2153, 2193], (2, 280, 84): [2365, 2386], (2, 280, 87): [2458], (2, 280, 89): [2395, 2520], (2, 280, 90): [2490], (2, 281, 73): [1942], (2, 281, 75): [2025], (2, 281, 79): [2013, 2014], (2, 281, 82): [2073, 2117, 2157], (2, 281, 83): [2097], (2, 281, 84): [2273], (2, 281, 86): [2252, 2321, 2322], (2, 281, 89): [2435, 2446, 2453, 2454], (2, 283, 80): [2043], (2, 283, 81): [2086], (2, 283, 82): [2144, 2165, 2166], (2, 283, 83): [2124, 2125, 2129], (2, 284, 84): [2164, 2179], (2, 284, 86): [2219, 2220, 2297], (2, 284, 87): [2383], (2, 284, 88): [2482], (2, 284, 89): [2449], (2, 285, 73): [1958, 1960, 1984], (2, 285, 75): [1978, 2002, 2023, 2024], (2, 285, 79): [2048], (2, 285, 81): [2051, 2084], (2, 286, 78): [1999], (2, 286, 79): [2045], (2, 286, 83): [2141, 2202, 2306], (2, 286, 86): [2268, 2269], (2, 286, 87): [2357], (2, 287, 82): [2091], (2, 289, 81): [2083], (2, 290, 82): [2123, 2163], (2, 290, 84): [2147, 2248, 2254, 2305, 2331], (2, 291, 82): [2161, 2181], (2, 291, 83): [2136, 2160, 2201, 2207, 2208], (2, 291, 86): [2218, 2307], (2, 291, 89): [2352, 2409, 2470], (2, 291, 90): [2512], (2, 292, 82): [2151], (2, 292, 83): [2180, 2185, 2194], (2, 292, 84): [2148, 2149, 2234, 2425], (2, 292, 86): [2328], (2, 292, 87): [2398, 2455], (2, 292, 89): [2358, 2359, 2408, 2451, 2468], (2, 293, 83): [2265, 2282, 2283, 2310], (2, 293, 84): [2226, 2227, 2228, 2286], (2, 293, 86): [2229, 2230, 2231], (2, 293, 87): [2329], (2, 293, 89): [2391], (2, 294, 84): [2364], (2, 294, 87): [2477], (2, 295, 84): [2403], (2, 295, 86): [2495], (2, 295, 87): [2472], (2, 295, 89): [2469], (2, 296, 86): [2267], (2, 298, 83): [2311], (2, 298, 84): [2302], (2, 298, 87): [2374, 2445], (2, 298, 89): [2457, 2461, 2462, 2487, 2488, 2500, 2501], (2, 298, 90): [2491, 2492], (2, 299, 84): [2363], (2, 300, 88): [2402], (2, 300, 89): [2400], (2, 301, 87): [2450], (2, 307, 98): [2574], (2, 308, 95): [2531], (2, 308, 101): [2576], (2, 308, 108): [2556, 2570], (2, 309, 96): [2532], (2, 310, 97): [2533], (2, 311, 94): [2561], (2, 313, 105): [2563], (2, 314, 99): [2539], (2, 315, 96): [2540], (2, 317, 104): [2544], (2, 317, 112): [2581], (2, 318, 95): [2546], (2, 321, 109): [2557], (2, 322, 94): [2580], (2, 324, 107): [2555], (2, 325, 101): [2562], (2, 328, 97): [2569], (2, 329, 99): [2572, 2573], (2, 330, 103): [2575], (2, 331, 112): [2577], (2, 332, 114): [2579], (2, 333, 109): [2582], (2, 336, 115): [2846], (2, 336, 116): [2643, 2700], (2, 336, 117): [2913, 3127], (2, 336, 118): [2738, 2779], (2, 336, 120): [2708, 2890], (2, 336, 121): [2615, 2955], (2, 336, 126): [2658], (2, 336, 127): [2816, 2818], (2, 336, 128): [2725], (2, 336, 129): [2807, 2991], (2, 336, 131): [2713, 2939, 3099, 3105], (2, 336, 132): [3051, 3187, 3189], (2, 336, 134): [2947, 3115], (2, 336, 136): [3136], (2, 337, 115): [2896], (2, 337, 119): [2806], (2, 337, 121): [2811, 2813, 2956], (2, 337, 123): [2799], (2, 337, 129): [2647], (2, 337, 131): [2747, 2748, 2837], (2, 337, 132): [3038, 3040], (2, 338, 115): [2590, 2698, 3045], (2, 338, 116): [2593], (2, 338, 117): [2591, 2686], (2, 338, 118): [2941], (2, 338, 119): [2627], (2, 338, 120): [3141, 3587], (2, 338, 121): [2607, 3514], (2, 338, 122): [2985], (2, 338, 123): [3145], (2, 338, 126): [2625], (2, 338, 129): [2704, 3259], (2, 338, 131): [2714], (2, 338, 132): [2832, 2834], (2, 338, 136): [3019, 3021], (2, 339, 115): [3046, 3226], (2, 339, 117): [2687], (2, 339, 118): [2831], (2, 339, 119): [3054], (2, 339, 120): [2606, 3588], (2, 339, 121): [2608, 3290, 3292, 3515], (2, 339, 122): [2683, 2986], (2, 339, 124): [2836, 3306, 3479], (2, 339, 127): [2681], (2, 339, 128): [2873], (2, 339, 129): [2766, 2768], (2, 339, 130): [2827, 3165], (2, 339, 131): [3286], (2, 339, 132): [2833, 2835], (2, 339, 136): [3020, 3022], (2, 340, 115): [2589], (2, 341, 116): [2594], (2, 341, 117): [2592], (2, 341, 125): [2656], (2, 341, 129): [2705], (2, 341, 130): [2655], (2, 342, 124): [3163], (2, 342, 125): [3256], (2, 342, 126): [3235], (2, 342, 127): [2773, 3033, 3257], (2, 342, 128): [3208], (2, 342, 129): [3260], (2, 342, 132): [3029], (2, 343, 115): [2699], (2, 343, 117): [2769, 2892], (2, 343, 118): [2780], (2, 343, 120): [2891, 2905], (2, 343, 121): [2616], (2, 343, 124): [2911], (2, 343, 125): [2777], (2, 343, 128): [2726], (2, 343, 129): [2646, 2765, 2767, 2808, 2992], (2, 344, 116): [2839], (2, 344, 122): [2959], (2, 344, 125): [4232], (2, 344, 126): [3830], (2, 344, 127): [4226], (2, 344, 128): [3832], (2, 344, 129): [3998], (2, 344, 132): [3364, 3366], (2, 344, 133): [3662], (2, 345, 116): [2838, 2966, 3307, 3918, 4022, 4024], (2, 345, 117): [2914], (2, 345, 119): [3311], (2, 345, 120): [3309, 3876], (2, 345, 121): [2812, 2814], (2, 345, 123): [2800, 2910, 3870, 4305], (2, 345, 124): [2649, 2651, 2653], (2, 345, 125): [3803], (2, 345, 126): [3829], (2, 345, 127): [3610, 4225], (2, 345, 128): [3658, 4303], (2, 345, 129): [3997], (2, 345, 131): [3566, 3612], (2, 345, 132): [3363, 3365, 3486], (2, 345, 133): [4228, 4253], (2, 345, 134): [3261, 3263, 4301], (2, 345, 136): [3370], (2, 345, 137): [3762, 3874], (2, 346, 117): [2691], (2, 346, 118): [2942], (2, 346, 119): [2628, 3493], (2, 346, 120): [2605, 3238], (2, 346, 121): [3492], (2, 346, 123): [3146], (2, 346, 124): [2648, 2650, 2652], (2, 346, 126): [3236], (2, 346, 127): [2680, 3258], (2, 346, 128): [2872], (2, 346, 130): [2826], (2, 346, 131): [2940], (2, 347, 117): [2863, 3272, 3274, 3406, 3570, 4070], (2, 347, 118): [3608, 4102], (2, 347, 119): [3955, 4072], (2, 347, 120): [3771], (2, 347, 122): [2796], (2, 347, 123): [2957, 3626], (2, 347, 124): [4243], (2, 347, 125): [3352, 3730], (2, 347, 126): [2675, 3018, 3154, 4049, 4074], (2, 347, 127): [3231, 3233, 4104, 4118], (2, 347, 128): [3879, 4076, 4318], (2, 347, 129): [3397, 3532, 3892, 3922, 4250], (2, 347, 130): [3539], (2, 347, 132): [3382, 3429], (2, 347, 133): [3906], (2, 347, 134): [4164], (2, 347, 135): [3304], (2, 347, 136): [4165], (2, 347, 138): [3838, 3954], (2, 348, 115): [2847], (2, 348, 116): [3228], (2, 348, 117): [3815, 3840, 4297], (2, 348, 118): [4009], (2, 348, 119): [3956], (2, 348, 122): [3284], (2, 348, 123): [2958, 3727], (2, 348, 124): [3044], (2, 348, 125): [3222], (2, 348, 126): [2659, 3868], (2, 348, 129): [3533], (2, 348, 130): [3783], (2, 348, 133): [3496, 3585], (2, 348, 135): [3224, 3686, 3731, 4295], (2, 348, 136): [3200], (2, 348, 137): [4249], (2, 349, 116): [3924, 3926], (2, 349, 117): [2662, 2862, 3271, 3273, 3572, 4069, 4296], (2, 349, 118): [2830, 3607, 4101], (2, 349, 119): [4071, 4206], (2, 349, 120): [3826, 3875, 4208], (2, 349, 122): [2682, 2795, 3155], (2, 349, 123): [4304], (2, 349, 124): [3531, 3567, 3590], (2, 349, 125): [3351, 3729], (2, 349, 126): [3017, 3153, 4048, 4073], (2, 349, 127): [4078, 4103, 4117], (2, 349, 128): [2904, 4075], (2, 349, 129): [3921, 4161, 4287], (2, 349, 130): [3102], (2, 349, 131): [3285, 4119], (2, 349, 132): [3381, 3428, 3485], (2, 349, 133): [3781, 3905], (2, 349, 134): [3996, 4163], (2, 349, 135): [3303], (2, 349, 137): [3873], (2, 349, 138): [3953], (2, 350, 117): [2663], (2, 350, 122): [2664, 3156], (2, 351, 125): [2778], (2, 351, 132): [3052, 3096], (2, 351, 133): [3098], (2, 351, 134): [2948], (2, 352, 117): [2770], (2, 352, 126): [2626], (2, 353, 116): [2634, 2642], (2, 353, 120): [2636], (2, 354, 116): [2635], (2, 354, 117): [4234], (2, 354, 118): [4188], (2, 354, 119): [2869, 2871, 3614, 3616, 3618, 3620], (2, 354, 120): [2637, 3248, 3458, 3900, 3908, 4154], (2, 354, 122): [3401], (2, 354, 123): [2728, 2730, 3488], (2, 354, 124): [3720], (2, 354, 126): [2822, 3246, 3672, 4210], (2, 354, 127): [3904], (2, 354, 128): [3550, 3552, 4128], (2, 354, 129): [3509], (2, 354, 130): [2804], (2, 354, 134): [3374, 3529, 4026], (2, 354, 135): [3992], (2, 354, 136): [4150], (2, 354, 137): [3862, 3942], (2, 354, 138): [4082], (2, 355, 130): [2654], (2, 356, 125): [2657], (2, 357, 117): [2690], (2, 357, 119): [2805], (2, 357, 126): [2676], (2, 357, 128): [2679], (2, 358, 115): [3249], (2, 358, 116): [2701, 4062], (2, 358, 117): [3769], (2, 358, 118): [3241], (2, 358, 119): [3333, 3816, 4205], (2, 358, 123): [3625], (2, 358, 124): [3589, 3902], (2, 358, 125): [3221], (2, 358, 127): [3367], (2, 358, 128): [2903, 4317], (2, 358, 129): [3396, 3600, 3891], (2, 358, 130): [3252, 3254], (2, 358, 131): [3964], (2, 358, 133): [4288], (2, 358, 134): [4185], (2, 358, 135): [3057, 3685, 3966, 3968], (2, 358, 136): [3199], (2, 358, 137): [4060], (2, 358, 138): [3837], (2, 359, 115): [3387], (2, 359, 116): [4021, 4023], (2, 359, 117): [4233], (2, 359, 118): [2737, 3887, 4187], (2, 359, 119): [2868, 2870, 3195, 3613, 3615, 3617, 3619], (2, 359, 120): [3899, 4153], (2, 359, 122): [3400], (2, 359, 123): [2727, 2729, 3487], (2, 359, 124): [3530, 3719, 4242], (2, 359, 125): [4079], (2, 359, 126): [2821, 3245, 3671, 3957, 4137, 4209], (2, 359, 127): [2815, 2817, 4011, 4077], (2, 359, 128): [3549, 3551, 3623], (2, 359, 129): [3915], (2, 359, 130): [2803, 3353, 3393], (2, 359, 131): [3673], (2, 359, 133): [2945], (2, 359, 134): [3373, 3528, 4025, 4155], (2, 359, 135): [3597], (2, 359, 136): [3135, 3675], (2, 359, 137): [3861, 3941], (2, 359, 138): [4081, 4254], (2, 360, 116): [3764], (2, 360, 120): [3247, 3457, 3827], (2, 360, 127): [3460, 3903], (2, 360, 128): [4127], (2, 360, 129): [3508], (2, 360, 131): [3674], (2, 360, 133): [2946, 3462, 3464], (2, 360, 135): [3598], (2, 360, 136): [4149, 4166], (2, 361, 115): [3562], (2, 361, 117): [3770], (2, 361, 120): [3772, 3907], (2, 361, 126): [3958], (2, 361, 128): [3960, 3962], (2, 361, 131): [4120], (2, 361, 133): [3463, 3465, 3661], (2, 361, 134): [4116], (2, 361, 135): [3628], (2, 361, 138): [3820], (2, 361, 139): [4312], (2, 362, 127): [2774], (2, 363, 117): [3128, 4047], (2, 363, 124): [3164], (2, 363, 125): [3170], (2, 363, 126): [3878], (2, 363, 127): [3034, 3461], (2, 363, 129): [3138, 4251], (2, 363, 130): [3166, 3477], (2, 363, 131): [3484], (2, 363, 132): [3030], (2, 363, 133): [3168, 3952], (2, 363, 136): [3718], (2, 363, 138): [3821], (2, 364, 118): [3430], (2, 364, 127): [4012], (2, 364, 129): [3137, 3438, 3440, 3846], (2, 364, 130): [3476], (2, 364, 133): [4252], (2, 365, 116): [3917, 4197], (2, 365, 117): [2893], (2, 365, 118): [3737, 3739], (2, 365, 119): [3053], (2, 365, 123): [2909], (2, 365, 124): [2912], (2, 365, 125): [3836, 4151, 4152], (2, 365, 126): [3877], (2, 365, 129): [4223], (2, 365, 130): [3538], (2, 365, 132): [3037, 3039], (2, 365, 135): [3211], (2, 365, 136): [3369], (2, 366, 120): [2906], (2, 368, 121): [3289, 3291], (2, 368, 124): [3478, 3568], (2, 369, 116): [3093, 3227, 3841, 3993], (2, 369, 117): [3839], (2, 369, 120): [3575], (2, 369, 123): [3999], (2, 369, 124): [3043], (2, 369, 125): [4080], (2, 369, 126): [3867], (2, 369, 128): [3536], (2, 369, 129): [3599, 3865, 4286], (2, 369, 130): [3940, 4274, 4276], (2, 369, 131): [3611, 3655, 3963], (2, 369, 133): [3279, 4227], (2, 369, 135): [3223, 3965, 3967, 4294], (2, 369, 136): [3683], (2, 370, 116): [3094, 3994], (2, 370, 117): [3407], (2, 370, 118): [3242, 4010], (2, 370, 119): [3334, 3817], (2, 370, 120): [4006], (2, 370, 123): [3728, 4000], (2, 370, 128): [3560, 3880], (2, 370, 129): [3866], (2, 370, 130): [3784, 4275, 4277], (2, 370, 131): [3656], (2, 370, 133): [3497, 3586, 3782], (2, 370, 134): [3844, 4200], (2, 370, 135): [3732], (2, 370, 136): [3684], (2, 371, 115): [3250], (2, 371, 116): [3469, 3763, 3842, 4063, 4167], (2, 371, 117): [3569, 3571, 3814], (2, 371, 118): [3651, 3752], (2, 371, 120): [3142, 3576, 4005, 4207], (2, 371, 122): [3283], (2, 371, 124): [3305], (2, 371, 126): [4138], (2, 371, 127): [3654, 3748, 3852, 3854, 4068], (2, 371, 128): [3511, 3537, 3959, 3961], (2, 371, 129): [3916], (2, 371, 130): [3101], (2, 371, 131): [3100, 3106], (2, 371, 132): [3095, 3443, 3445], (2, 371, 133): [3097, 3280, 3744, 3746, 4289, 4311], (2, 371, 134): [3116, 3779, 3843, 3995, 4064, 4186, 4199], (2, 371, 135): [3058, 3578, 3580], (2, 371, 136): [3676, 3760], (2, 371, 137): [4248], (2, 372, 119): [4299], (2, 372, 120): [3604], (2, 372, 123): [3869], (2, 372, 125): [4231], (2, 372, 127): [3232, 3234], (2, 372, 128): [3657, 3831, 4302], (2, 372, 131): [3483, 3565], (2, 372, 134): [4115, 4300], (2, 372, 135): [3602, 3859], (2, 372, 137): [3761], (2, 372, 138): [3938], (2, 373, 116): [3308], (2, 373, 119): [3312], (2, 373, 120): [3310], (2, 373, 127): [3368], (2, 373, 134): [3262, 3264], (2, 373, 135): [3212], (2, 374, 115): [3225, 3388, 3449], (2, 374, 116): [3468, 3923, 3925], (2, 374, 117): [3721], (2, 374, 118): [3751, 4239], (2, 374, 119): [3196, 4298], (2, 374, 120): [3237, 3603], (2, 374, 121): [3491], (2, 374, 124): [3901], (2, 374, 125): [3169, 3255, 3835], (2, 374, 126): [3621], (2, 374, 127): [3609, 3653, 3747, 3851, 3853], (2, 374, 128): [3207, 3510], (2, 374, 129): [3343, 3345], (2, 374, 130): [3251, 3253, 3354, 3939], (2, 374, 131): [3395], (2, 374, 133): [3167, 3743, 3745, 3951, 4310], (2, 374, 134): [4156], (2, 374, 135): [3577, 3579, 3601, 3991], (2, 374, 136): [3717, 3759, 3800, 3833, 4240], (2, 374, 138): [3937, 4109], (2, 375, 115): [3450], (2, 375, 116): [4168], (2, 375, 117): [3722], (2, 375, 118): [3652, 3888], (2, 375, 126): [3622], (2, 375, 128): [3559, 3624], (2, 375, 129): [3344, 3346, 4162], (2, 375, 130): [3394], (2, 375, 132): [3188, 3190, 3444, 3446], (2, 375, 134): [3780, 4065], (2, 375, 136): [3801, 3834, 4241], (2, 375, 138): [4255], (2, 378, 115): [3561], (2, 378, 125): [3802], (2, 378, 129): [3437, 3439, 3845], (2, 378, 135): [3627], (2, 380, 116): [4198], (2, 380, 118): [3738, 3740], (2, 380, 129): [4224], (2, 380, 135): [3860], (2, 380, 137): [4061], (2, 380, 138): [4110], (3, 5, 1): [12, 14], (3, 7, 1): [11, 13], (3, 17, 14): [582, 583], (3, 17, 19): [713], (3, 17, 20): [797], (3, 34, 11): [84], (3, 38, 12): [86], (3, 42, 10): [278], (3, 42, 14): [418], (3, 42, 16): [370], (3, 42, 19): [735], (3, 44, 10): [266], (3, 44, 13): [285], (3, 44, 14): [376, 399, 617, 618], (3, 44, 18): [515], (3, 44, 19): [490], (3, 49, 12): [214], (3, 62, 10): [249], (3, 62, 13): [256], (3, 64, 14): [240], (3, 65, 10): [209], (3, 66, 10): [194], (3, 66, 14): [506], (3, 68, 16): [391], (3, 68, 20): [441], (3, 70, 13): [202], (3, 71, 14): [516], (3, 71, 17): [361], (3, 71, 21): [634], (3, 72, 10): [395], (3, 72, 14): [375], (3, 72, 16): [307], (3, 73, 10): [254], (3, 74, 10): [377], (3, 74, 12): [213], (3, 75, 21): [828], (3, 76, 10): [231], (3, 78, 19): [522], (3, 78, 21): [626], (3, 81, 10): [396], (3, 81, 14): [404, 542], (3, 81, 21): [824], (3, 82, 16): [407], (3, 82, 20): [703], (3, 82, 22): [742], (3, 84, 22): [692], (3, 87, 14): [575], (3, 88, 22): [709], (3, 89, 18): [667], (3, 93, 18): [747], (3, 98, 23): [812], (3, 134, 31): [908], (3, 134, 32): [910], (3, 135, 31): [909], (3, 135, 34): [926], (3, 136, 34): [925], (3, 147, 36): [963], (3, 148, 36): [964], (3, 149, 36): [1018], (3, 153, 36): [1019], (3, 155, 42): [1023], (3, 160, 44): [1053], (3, 173, 46): [1321], (3, 176, 46): [1322], (3, 186, 48): [1343], (3, 189, 48): [1266, 1267], (3, 196, 48): [1265, 1341], (3, 203, 48): [1268], (3, 207, 48): [1342], (3, 212, 55): [1514], (3, 214, 53): [1522], (3, 214, 55): [1533], (3, 217, 53): [1521], (3, 219, 55): [1534], (3, 221, 55): [1602], (3, 223, 55): [1515], (3, 229, 55): [1601], (3, 236, 58): [1662], (3, 239, 51): [1668], (3, 242, 61): [1674], (3, 244, 62): [1722], (3, 249, 63): [1685], (3, 252, 62): [1731], (3, 252, 74): [1793], (3, 252, 75): [1783], (3, 261, 74): [1805, 1875], (3, 262, 74): [1897], (3, 264, 73): [1821], (3, 264, 74): [1785, 1853], (3, 264, 75): [1792], (3, 265, 74): [1809], (3, 267, 74): [1883], (3, 267, 77): [1900], (3, 269, 75): [1843, 1844], (3, 271, 73): [1838], (3, 273, 74): [1854], (3, 276, 73): [1925], (3, 276, 83): [2143, 2168], (3, 276, 84): [2177], (3, 277, 81): [2094], (3, 277, 89): [2366], (3, 277, 90): [2498], (3, 279, 73): [1979], (3, 279, 79): [2019], (3, 279, 82): [2088], (3, 279, 83): [2176, 2291], (3, 279, 86): [2264], (3, 279, 87): [2397], (3, 281, 75): [1947], (3, 281, 78): [1970], (3, 281, 81): [2111], (3, 281, 82): [2087], (3, 283, 73): [1941], (3, 283, 75): [1998], (3, 283, 81): [2103], (3, 283, 83): [2107], (3, 283, 84): [2142, 2385], (3, 284, 79): [2050], (3, 284, 81): [2052], (3, 284, 82): [2089, 2154, 2173], (3, 284, 83): [2127], (3, 284, 84): [2247, 2281], (3, 284, 86): [2249], (3, 284, 89): [2436, 2519], (3, 285, 80): [2065], (3, 286, 88): [2334], (3, 288, 80): [2022], (3, 290, 82): [2138], (3, 290, 84): [2156], (3, 291, 83): [2271], (3, 291, 84): [2210, 2211], (3, 291, 86): [2223], (3, 292, 84): [2293], (3, 292, 89): [2447, 2480], (3, 293, 83): [2279], (3, 293, 87): [2330], (3, 294, 86): [2368, 2369], (3, 294, 91): [2522], (3, 298, 86): [2384], (3, 298, 89): [2486], (3, 299, 87): [2346], (3, 304, 102): [2541], (3, 312, 99): [2553], (3, 317, 99): [2552], (3, 323, 99): [2554], (3, 334, 118): [2684], (3, 335, 118): [2685], (3, 336, 116): [2632], (3, 336, 120): [2858, 3049], (3, 336, 122): [2741, 3047], (3, 336, 125): [2828], (3, 336, 127): [3123], (3, 336, 130): [2882], (3, 336, 131): [2688, 2706, 2819], (3, 337, 126): [2753], (3, 337, 128): [2921], (3, 337, 131): [2968], (3, 337, 136): [2984], (3, 338, 115): [3202, 3204], (3, 338, 118): [4131], (3, 338, 129): [3361], (3, 338, 134): [3005], (3, 339, 119): [3480], (3, 339, 124): [2724], (3, 339, 129): [3362], (3, 339, 133): [3403], (3, 339, 134): [3006], (3, 341, 131): [2689], (3, 342, 119): [3103], (3, 342, 126): [2907], (3, 342, 127): [3124], (3, 343, 116): [2633], (3, 343, 120): [2859, 3050], (3, 343, 125): [2829], (3, 343, 127): [2899], (3, 343, 130): [2883], (3, 343, 131): [2820], (3, 344, 116): [3688], (3, 344, 120): [2604, 4038, 4040], (3, 344, 126): [2754], (3, 344, 128): [2922], (3, 344, 133): [3640, 4176], (3, 344, 135): [3332], (3, 344, 139): [4238], (3, 345, 116): [3527], (3, 345, 120): [2603], (3, 345, 124): [3316], (3, 345, 127): [3742], (3, 345, 129): [3910], (3, 345, 130): [3436], (3, 345, 133): [4175], (3, 345, 135): [3696], (3, 346, 118): [4132], (3, 346, 119): [3104], (3, 346, 124): [2723], (3, 346, 133): [3402], (3, 347, 116): [3660], (3, 347, 121): [2617, 2944], (3, 347, 123): [2841], (3, 347, 124): [3082, 3605], (3, 347, 130): [4096], (3, 347, 132): [3075], (3, 347, 133): [3639], (3, 347, 135): [3331], (3, 348, 118): [4212], (3, 348, 121): [2618], (3, 349, 116): [3526, 3659, 3687], (3, 349, 117): [3384], (3, 349, 118): [4211], (3, 349, 123): [2619, 2840], (3, 349, 124): [3081, 3315], (3, 349, 125): [3086], (3, 349, 128): [3758], (3, 349, 130): [4095], (3, 349, 131): [3812], (3, 350, 123): [2620], (3, 350, 127): [2631], (3, 351, 122): [2742], (3, 352, 127): [2900], (3, 354, 117): [2902], (3, 354, 118): [3198], (3, 354, 123): [3391], (3, 354, 125): [3521], (3, 354, 133): [3694, 3786], (3, 354, 134): [3513], (3, 357, 115): [2790], (3, 357, 131): [2707], (3, 358, 121): [2943], (3, 358, 125): [3085], (3, 358, 126): [3987], (3, 359, 115): [2789], (3, 359, 117): [2901], (3, 359, 118): [3197], (3, 359, 126): [3191], (3, 359, 128): [3798], (3, 359, 130): [3139], (3, 359, 132): [3375], (3, 359, 133): [3693, 3785], (3, 359, 134): [3512], (3, 361, 126): [3348], (3, 361, 129): [2995], (3, 363, 123): [3848], (3, 363, 126): [2908, 3192], (3, 363, 129): [2996], (3, 364, 116): [3178, 3180], (3, 364, 128): [3503], (3, 365, 117): [3709], (3, 365, 118): [4043], (3, 367, 131): [2967], (3, 368, 116): [3516, 3518], (3, 368, 125): [3520], (3, 368, 136): [2983], (3, 369, 127): [4193], (3, 369, 128): [3799], (3, 369, 135): [3695], (3, 369, 138): [4001], (3, 369, 139): [4237], (3, 370, 127): [4194], (3, 370, 131): [3813], (3, 371, 117): [3383], (3, 371, 118): [3648, 3850], (3, 371, 122): [3048, 3325], (3, 371, 126): [3988, 4244], (3, 371, 127): [3741], (3, 371, 128): [3757], (3, 371, 138): [4002], (3, 372, 116): [3517, 3519], (3, 372, 120): [4037, 4039], (3, 372, 124): [3606], (3, 372, 130): [3435], (3, 372, 132): [3076], (3, 373, 130): [3140], (3, 374, 115): [3201, 3203], (3, 374, 116): [3177, 3179], (3, 374, 118): [3647, 3849], (3, 374, 123): [3847], (3, 374, 126): [3347], (3, 374, 128): [3502], (3, 374, 129): [3909], (3, 374, 132): [3376], (3, 374, 136): [3544], (3, 375, 122): [3326], (3, 379, 134): [3466], (3, 380, 117): [3710], (3, 380, 118): [4044], (3, 380, 126): [4245], (3, 380, 134): [3467], (4, 14, 0): [30, 31], (4, 17, 18): [477], (4, 23, 8): [47, 49], (4, 24, 8): [48, 50], (4, 38, 10): [85], (4, 44, 14): [436], (4, 44, 16): [398], (4, 44, 17): [351], (4, 45, 13): [118], (4, 62, 18): [726], (4, 64, 14): [190], (4, 68, 18): [660, 661, 662, 663], (4, 71, 17): [350], (4, 71, 18): [576], (4, 71, 19): [462, 463, 464, 465, 466], (4, 71, 20): [486, 487, 488], (4, 78, 18): [679, 680, 681, 682, 683], (4, 82, 22): [739], (4, 84, 14): [435, 569], (4, 84, 19): [467, 468, 469, 470, 471, 472, 529], (4, 84, 21): [642], (4, 84, 22): [706, 707], (4, 85, 14): [512], (4, 85, 18): [520], (4, 86, 18): [658], (4, 86, 21): [684, 685], (4, 87, 18): [669, 670, 671, 672, 673, 674, 675, 676, 677, 678], (4, 87, 21): [710], (4, 88, 21): [770], (4, 89, 20): [790], (4, 89, 22): [696], (4, 90, 14): [624, 625], (4, 93, 18): [723], (4, 93, 21): [749], (4, 94, 18): [754, 755, 756, 757, 758], (4, 94, 19): [778], (4, 102, 23): [818], (4, 107, 28): [869, 875], (4, 107, 30): [866, 873, 874], (4, 114, 32): [887], (4, 129, 44): [1044], (4, 137, 35): [917, 930], (4, 137, 41): [1010], (4, 141, 35): [929], (4, 147, 36): [982], (4, 148, 36): [983], (4, 155, 42): [1020], (4, 156, 37): [1021, 1032], (4, 156, 42): [1029], (4, 157, 44): [1045, 1046, 1047, 1048, 1050], (4, 158, 37): [1034], (4, 158, 42): [1028], (4, 160, 43): [1033], (4, 164, 43): [1049], (4, 165, 37): [1054], (4, 168, 48): [1237, 1241], (4, 170, 49): [1336], (4, 188, 47): [1161, 1163], (4, 189, 48): [1238, 1243], (4, 191, 47): [1160, 1162], (4, 196, 48): [1242], (4, 196, 49): [1337], (4, 203, 47): [1374, 1376], (4, 204, 47): [1373, 1375], (4, 204, 49): [1335], (4, 204, 50): [1460], (4, 206, 50): [1461], (4, 207, 49): [1338], (4, 215, 54): [1572], (4, 215, 56): [1638], (4, 216, 54): [1568], (4, 219, 56): [1637], (4, 225, 51): [1518], (4, 228, 54): [1567, 1571], (4, 229, 56): [1659], (4, 234, 56): [1658], (4, 252, 73): [1750, 1751], (4, 264, 76): [1761], (4, 269, 73): [1893], (4, 274, 77): [1901], (4, 276, 82): [2108, 2109], (4, 276, 84): [2196], (4, 277, 86): [2259, 2340, 2341], (4, 278, 73): [1923, 1965], (4, 278, 79): [2021], (4, 278, 84): [2277, 2278], (4, 279, 73): [1966], (4, 279, 77): [1918, 1919, 1920, 1921, 1922], (4, 279, 83): [2081, 2082], (4, 279, 89): [2419], (4, 280, 89): [2393], (4, 281, 73): [1924, 1977], (4, 281, 74): [1934], (4, 281, 77): [1936, 1937], (4, 281, 82): [2096, 2101, 2120], (4, 281, 83): [2246], (4, 281, 86): [2258], (4, 283, 77): [1938, 1939], (4, 283, 79): [2049], (4, 284, 77): [1935], (4, 284, 81): [2126], (4, 286, 75): [2033, 2034, 2035, 2036], (4, 286, 83): [2232, 2298], (4, 286, 86): [2233], (4, 286, 89): [2353, 2354], (4, 290, 84): [2304], (4, 290, 88): [2327], (4, 291, 86): [2224, 2225], (4, 291, 88): [2378, 2379], (4, 293, 86): [2325, 2326], (4, 293, 89): [2388], (4, 298, 84): [2421], (4, 298, 89): [2464, 2466], (4, 299, 89): [2375, 2376, 2377], (4, 301, 87): [2473], (4, 336, 133): [3121], (4, 338, 121): [2791], (4, 342, 118): [3072], (4, 342, 122): [2809], (4, 344, 123): [4230], (4, 346, 121): [2792], (4, 351, 132): [3108], (4, 351, 133): [3122], (4, 358, 116): [3064], (4, 358, 121): [3068], (4, 358, 123): [3024], (4, 358, 127): [3206], (4, 358, 131): [3066], (4, 358, 134): [3014], (4, 359, 120): [2733], (4, 359, 126): [3079], (4, 359, 132): [3077], (4, 360, 120): [2734], (4, 360, 126): [3080], (4, 360, 132): [3078], (4, 361, 122): [2810], (4, 363, 117): [3828], (4, 363, 130): [2877], (4, 364, 118): [3071], (4, 364, 130): [2876], (4, 369, 116): [3063], (4, 369, 121): [3067], (4, 369, 123): [3023, 4229], (4, 369, 127): [3205], (4, 369, 128): [3470], (4, 369, 131): [3065], (4, 369, 134): [3013], (4, 371, 128): [3471], (4, 371, 130): [3288], (4, 371, 132): [3107], (4, 372, 129): [4085, 4086, 4087, 4088, 4089, 4090, 4091, 4092, 4093, 4094], (4, 374, 130): [3287]}\n"
     ]
    },
    {
     "name": "stderr",
     "output_type": "stream",
     "text": [
      "C:\\Users\\Kalea\\AppData\\Local\\Temp\\ipykernel_30164\\635274658.py:2: DeprecationWarning: DataFrameGroupBy.apply operated on the grouping columns. This behavior is deprecated, and in a future version of pandas the grouping columns will be excluded from the operation. Either pass `include_groups=False` to exclude the groupings or explicitly select the grouping columns after groupby to silence this warning.\n",
      "  unique_groups = df.groupby([\"klasifikasi_perkara_encoded\", \"penuntut_umum_encoded\", \"hakim_encoded\"]).apply(lambda x: x.index.tolist()).to_dict()\n"
     ]
    }
   ],
   "source": [
    "train_df, test_df = stratified_split(df)"
   ]
  },
  {
   "cell_type": "code",
   "execution_count": 7,
   "metadata": {},
   "outputs": [
    {
     "name": "stdout",
     "output_type": "stream",
     "text": [
      "Jumlah Klasifikasi Perkara: 5\n",
      "Jumlah Data Train:  3288\n",
      "klasifikasi_perkara_encoded\n",
      "0    1384\n",
      "2    1253\n",
      "3     293\n",
      "4     194\n",
      "1     164\n",
      "Name: count, dtype: int64\n"
     ]
    }
   ],
   "source": [
    "jenis_klasifikasi_perkara = train_df['klasifikasi_perkara_encoded'].unique()\n",
    "jumlah_klasifikasi_perkara = len(jenis_klasifikasi_perkara)\n",
    "print(f\"Jumlah Klasifikasi Perkara: {jumlah_klasifikasi_perkara}\")\n",
    "print(f\"Jumlah Data Train:  {len(train_df)}\")\n",
    "\n",
    "klasifikasi_perkara_values = train_df['klasifikasi_perkara_encoded'].value_counts()\n",
    "print(klasifikasi_perkara_values)"
   ]
  },
  {
   "cell_type": "code",
   "execution_count": 8,
   "metadata": {},
   "outputs": [
    {
     "name": "stdout",
     "output_type": "stream",
     "text": [
      "Jumlah Klasifikasi Perkara: 5\n",
      "Jumlah Data Test:  1035\n",
      "klasifikasi_perkara_encoded\n",
      "0    484\n",
      "2    436\n",
      "4     50\n",
      "3     44\n",
      "1     21\n",
      "Name: count, dtype: int64\n"
     ]
    }
   ],
   "source": [
    "jenis_klasifikasi_perkara = test_df['klasifikasi_perkara_encoded'].unique()\n",
    "jumlah_klasifikasi_perkara = len(jenis_klasifikasi_perkara)\n",
    "print(f\"Jumlah Klasifikasi Perkara: {jumlah_klasifikasi_perkara}\")\n",
    "print(f\"Jumlah Data Test:  {len(test_df)}\")\n",
    "\n",
    "klasifikasi_perkara_values = test_df['klasifikasi_perkara_encoded'].value_counts()\n",
    "print(klasifikasi_perkara_values)"
   ]
  },
  {
   "cell_type": "markdown",
   "metadata": {},
   "source": [
    "## Model"
   ]
  },
  {
   "cell_type": "markdown",
   "metadata": {},
   "source": [
    "### Model Preprocessing"
   ]
  },
  {
   "cell_type": "code",
   "execution_count": 9,
   "metadata": {},
   "outputs": [],
   "source": [
    "train_df['concat_text'] = train_df[['terdakwa', 'summarized_dakwaan']].apply(lambda x: ' '.join(x), axis=1)\n",
    "test_df['concat_text'] = test_df[['terdakwa', 'summarized_dakwaan']].apply(lambda x: ' '.join(x), axis=1)"
   ]
  },
  {
   "cell_type": "code",
   "execution_count": 10,
   "metadata": {},
   "outputs": [],
   "source": [
    "y_train = train_df['total_pidana_penjara_bulan']\n",
    "y_test = test_df['total_pidana_penjara_bulan']"
   ]
  },
  {
   "cell_type": "markdown",
   "metadata": {},
   "source": [
    "### Normalisasi"
   ]
  },
  {
   "cell_type": "code",
   "execution_count": 11,
   "metadata": {},
   "outputs": [],
   "source": [
    "def normalize_text(text):\n",
    "    text = text.lower()\n",
    "    text = re.sub(r'[^a-z\\s]', '', text)\n",
    "    text = re.sub(r'\\s+', ' ', text).strip()\n",
    "    return text\n",
    "\n",
    "train_df['normalized_text'] = train_df['concat_text'].apply(normalize_text)\n",
    "test_df['normalized_text'] = test_df['concat_text'].apply(normalize_text)"
   ]
  },
  {
   "cell_type": "markdown",
   "metadata": {},
   "source": [
    "### Stopwords Removal"
   ]
  },
  {
   "cell_type": "code",
   "execution_count": 12,
   "metadata": {},
   "outputs": [
    {
     "name": "stderr",
     "output_type": "stream",
     "text": [
      "[nltk_data] Downloading package stopwords to\n",
      "[nltk_data]     C:\\Users\\Kalea\\AppData\\Roaming\\nltk_data...\n",
      "[nltk_data]   Package stopwords is already up-to-date!\n"
     ]
    }
   ],
   "source": [
    "nltk.download('stopwords')\n",
    "\n",
    "stop_words = set(stopwords.words('indonesian'))\n",
    "\n",
    "def remove_stopwords(text):\n",
    "    return ' '.join([word for word in text.split() if word not in stop_words])\n",
    "\n",
    "train_df['stopword_removal'] = train_df['normalized_text'].apply(remove_stopwords)\n",
    "test_df['stopword_removal'] = test_df['normalized_text'].apply(remove_stopwords)"
   ]
  },
  {
   "cell_type": "markdown",
   "metadata": {},
   "source": [
    "### Stemming"
   ]
  },
  {
   "cell_type": "code",
   "execution_count": 13,
   "metadata": {},
   "outputs": [],
   "source": [
    "stemmer = PorterStemmer()\n",
    "\n",
    "def stem_text(text):\n",
    "    return ' '.join([stemmer.stem(word) for word in text.split()])\n",
    "\n",
    "train_df['stemmed_text'] = train_df['stopword_removal'].apply(stem_text)\n",
    "test_df['stemmed_text'] = test_df['stopword_removal'].apply(stem_text)"
   ]
  },
  {
   "cell_type": "markdown",
   "metadata": {},
   "source": [
    "### Tokenizer"
   ]
  },
  {
   "cell_type": "code",
   "execution_count": 14,
   "metadata": {},
   "outputs": [],
   "source": [
    "# Tokenisasi\n",
    "tokenizer = tf.keras.preprocessing.text.Tokenizer()\n",
    "\n",
    "tokenizer.fit_on_texts(train_df['stemmed_text'])\n",
    "train_sequences = tokenizer.texts_to_sequences(train_df['stemmed_text'])\n",
    "test_sequences = tokenizer.texts_to_sequences(test_df['stemmed_text'])"
   ]
  },
  {
   "cell_type": "code",
   "execution_count": 15,
   "metadata": {},
   "outputs": [
    {
     "name": "stdout",
     "output_type": "stream",
     "text": [
      "Vocabulary size: 14995\n"
     ]
    }
   ],
   "source": [
    "vocab_size = len(tokenizer.word_index) + 1  # 4 + 1 = 5\n",
    "print(\"Vocabulary size:\", vocab_size)"
   ]
  },
  {
   "cell_type": "code",
   "execution_count": 16,
   "metadata": {},
   "outputs": [],
   "source": [
    "# Padding\n",
    "max_len = max(len(seq) for seq in train_sequences)\n",
    "# max_len = 512\n",
    "X_train_texts = tf.keras.preprocessing.sequence.pad_sequences(train_sequences, maxlen=max_len, padding='post', truncating='post')\n",
    "X_test_texts = tf.keras.preprocessing.sequence.pad_sequences(test_sequences, maxlen=max_len, padding='post', truncating='post')"
   ]
  },
  {
   "cell_type": "code",
   "execution_count": 17,
   "metadata": {},
   "outputs": [
    {
     "name": "stdout",
     "output_type": "stream",
     "text": [
      "1600\n"
     ]
    }
   ],
   "source": [
    "print(max_len)"
   ]
  },
  {
   "cell_type": "markdown",
   "metadata": {},
   "source": [
    "### Numerical Features"
   ]
  },
  {
   "cell_type": "markdown",
   "metadata": {},
   "source": [
    "### Log Transform on Target and Maks Penjara Berdasarkan Pasal"
   ]
  },
  {
   "cell_type": "code",
   "execution_count": 18,
   "metadata": {},
   "outputs": [],
   "source": [
    "# # LOG TARGET DAN MAKS PENJARA\n",
    "\n",
    "# y_train_log = np.log1p(y_train)\n",
    "# y_test_log = np.log1p(y_test)\n",
    "\n",
    "# train_df['maks_penjara_berdasarkan_pasal_log'] = np.log1p(train_df['maks_penjara_berdasarkan_pasal'])\n",
    "# test_df['maks_penjara_berdasarkan_pasal_log'] = np.log1p(test_df['maks_penjara_berdasarkan_pasal'])\n",
    "\n",
    "# train_numerical = tf.constant(train_df[['klasifikasi_perkara_encoded', 'penuntut_umum_encoded', 'hakim_encoded', 'jumlah_saksi', 'maks_penjara_berdasarkan_pasal_log']].values, dtype=tf.float32)\n",
    "# test_numerical = tf.constant(test_df[['klasifikasi_perkara_encoded', 'penuntut_umum_encoded', 'hakim_encoded', 'jumlah_saksi', 'maks_penjara_berdasarkan_pasal_log']].values, dtype=tf.float32)"
   ]
  },
  {
   "cell_type": "code",
   "execution_count": 19,
   "metadata": {},
   "outputs": [],
   "source": [
    "# LOG TARGET ONLY\n",
    "\n",
    "y_train_log = np.log1p(y_train)\n",
    "y_test_log = np.log1p(y_test)\n",
    "\n",
    "train_numerical = tf.constant(train_df[['klasifikasi_perkara_encoded', 'penuntut_umum_encoded', 'hakim_encoded', 'jumlah_saksi', 'maks_penjara_berdasarkan_pasal']].values, dtype=tf.float32)\n",
    "test_numerical = tf.constant(test_df[['klasifikasi_perkara_encoded', 'penuntut_umum_encoded', 'hakim_encoded', 'jumlah_saksi', 'maks_penjara_berdasarkan_pasal']].values, dtype=tf.float32)"
   ]
  },
  {
   "cell_type": "code",
   "execution_count": 20,
   "metadata": {},
   "outputs": [],
   "source": [
    "# TANPA LOG TRANSFORM (gunakan salah satu)\n",
    "\n",
    "# train_numerical = tf.constant(train_df[['klasifikasi_perkara_encoded', 'penuntut_umum_encoded', 'hakim_encoded', 'jumlah_saksi', 'maks_penjara_berdasarkan_pasal']].values, dtype=tf.float32)\n",
    "# test_numerical = tf.constant(test_df[['klasifikasi_perkara_encoded', 'penuntut_umum_encoded', 'hakim_encoded', 'jumlah_saksi', 'maks_penjara_berdasarkan_pasal']].values, dtype=tf.float32)"
   ]
  },
  {
   "cell_type": "markdown",
   "metadata": {},
   "source": [
    "### Model Architecture"
   ]
  },
  {
   "cell_type": "code",
   "execution_count": 21,
   "metadata": {},
   "outputs": [],
   "source": [
    "text_input = tf.keras.layers.Input(shape=(max_len,), name='text_input')\n",
    "embedding_layer = tf.keras.layers.Embedding(input_dim=len(tokenizer.word_index) + 1, output_dim=256)(text_input)\n",
    "\n",
    "lstm_output = tf.keras.layers.LSTM(32, return_sequences=True, kernel_regularizer=tf.keras.regularizers.l2(0.001))(embedding_layer)\n",
    "lstm_output_2 = tf.keras.layers.LSTM(64, return_sequences=True, kernel_regularizer=tf.keras.regularizers.l2(0.001))(lstm_output)\n",
    "lstm_output_3 = tf.keras.layers.LSTM(32, return_sequences=True, kernel_regularizer=tf.keras.regularizers.l2(0.001))(lstm_output_2)\n",
    "pooled_lstm = tf.keras.layers.GlobalMaxPooling1D()(lstm_output_3)\n",
    "dropout_layer_1 = tf.keras.layers.Dropout(0.2)(pooled_lstm)\n",
    "\n",
    "numerical_input = tf.keras.layers.Input(shape=(train_numerical.shape[1],), name='numerical_input')\n",
    "numerical_dense = tf.keras.layers.Dense(32, activation='relu', kernel_regularizer=tf.keras.regularizers.l2(0.001))(numerical_input)\n",
    "numerical_dense_2 = tf.keras.layers.Dense(64, activation='relu', kernel_regularizer=tf.keras.regularizers.l2(0.001))(numerical_dense)\n",
    "numerical_dense_3 = tf.keras.layers.Dense(32, activation='relu', kernel_regularizer=tf.keras.regularizers.l2(0.001))(numerical_dense_2)\n",
    "\n",
    "combined = tf.keras.layers.Concatenate()([dropout_layer_1, numerical_dense_3])\n",
    "batch_norm = tf.keras.layers.BatchNormalization()(combined)\n",
    "\n",
    "concated_dense_1 = tf.keras.layers.Dense(128, activation='relu')(batch_norm)\n",
    "dropout_layer_2 = tf.keras.layers.Dropout(0.2)(concated_dense_1)\n",
    "concated_dense_2 = tf.keras.layers.Dense(32, activation='relu')(dropout_layer_2)\n",
    "\n",
    "output = tf.keras.layers.Dense(1, activation='linear')(concated_dense_2)"
   ]
  },
  {
   "cell_type": "code",
   "execution_count": 22,
   "metadata": {},
   "outputs": [],
   "source": [
    "reduce_lr_on_plateau = tf.keras.callbacks.ReduceLROnPlateau(monitor='val_loss', patience=5, factor=0.5)"
   ]
  },
  {
   "cell_type": "code",
   "execution_count": 23,
   "metadata": {},
   "outputs": [
    {
     "name": "stdout",
     "output_type": "stream",
     "text": [
      "Model: \"model\"\n"
     ]
    },
    {
     "name": "stdout",
     "output_type": "stream",
     "text": [
      "__________________________________________________________________________________________________\n",
      " Layer (type)                   Output Shape         Param #     Connected to                     \n",
      "==================================================================================================\n",
      " text_input (InputLayer)        [(None, 1600)]       0           []                               \n",
      "                                                                                                  \n",
      " embedding (Embedding)          (None, 1600, 256)    3838720     ['text_input[0][0]']             \n",
      "                                                                                                  \n",
      " lstm (LSTM)                    (None, 1600, 32)     36992       ['embedding[0][0]']              \n",
      "                                                                                                  \n",
      " lstm_1 (LSTM)                  (None, 1600, 64)     24832       ['lstm[0][0]']                   \n",
      "                                                                                                  \n",
      " numerical_input (InputLayer)   [(None, 5)]          0           []                               \n",
      "                                                                                                  \n",
      " lstm_2 (LSTM)                  (None, 1600, 32)     12416       ['lstm_1[0][0]']                 \n",
      "                                                                                                  \n",
      " dense (Dense)                  (None, 32)           192         ['numerical_input[0][0]']        \n",
      "                                                                                                  \n",
      " global_max_pooling1d (GlobalMa  (None, 32)          0           ['lstm_2[0][0]']                 \n",
      " xPooling1D)                                                                                      \n",
      "                                                                                                  \n",
      " dense_1 (Dense)                (None, 64)           2112        ['dense[0][0]']                  \n",
      "                                                                                                  \n",
      " dropout (Dropout)              (None, 32)           0           ['global_max_pooling1d[0][0]']   \n",
      "                                                                                                  \n",
      " dense_2 (Dense)                (None, 32)           2080        ['dense_1[0][0]']                \n",
      "                                                                                                  \n",
      " concatenate (Concatenate)      (None, 64)           0           ['dropout[0][0]',                \n",
      "                                                                  'dense_2[0][0]']                \n",
      "                                                                                                  \n",
      " batch_normalization (BatchNorm  (None, 64)          256         ['concatenate[0][0]']            \n",
      " alization)                                                                                       \n",
      "                                                                                                  \n",
      " dense_3 (Dense)                (None, 128)          8320        ['batch_normalization[0][0]']    \n",
      "                                                                                                  \n",
      " dropout_1 (Dropout)            (None, 128)          0           ['dense_3[0][0]']                \n",
      "                                                                                                  \n",
      " dense_4 (Dense)                (None, 32)           4128        ['dropout_1[0][0]']              \n",
      "                                                                                                  \n",
      " dense_5 (Dense)                (None, 1)            33          ['dense_4[0][0]']                \n",
      "                                                                                                  \n",
      "==================================================================================================\n",
      "Total params: 3,930,081\n",
      "Trainable params: 3,929,953\n",
      "Non-trainable params: 128\n",
      "__________________________________________________________________________________________________\n"
     ]
    }
   ],
   "source": [
    "model = tf.keras.Model(inputs=[text_input, numerical_input], outputs=output)\n",
    "\n",
    "model.compile(optimizer=tf.keras.optimizers.Adam(learning_rate=1e-4), loss=tf.keras.losses.Huber(), metrics=['mean_absolute_error', tf.keras.metrics.RootMeanSquaredError(), tf.keras.metrics.MeanAbsolutePercentageError()])\n",
    "model.summary()"
   ]
  },
  {
   "cell_type": "code",
   "execution_count": 24,
   "metadata": {},
   "outputs": [
    {
     "name": "stdout",
     "output_type": "stream",
     "text": [
      "Epoch 1/100\n",
      "103/103 [==============================] - 25s 210ms/step - loss: 2.5512 - mean_absolute_error: 2.6670 - root_mean_squared_error: 2.8239 - mean_absolute_percentage_error: 85.2109 - val_loss: 1.2191 - val_mean_absolute_error: 1.3120 - val_root_mean_squared_error: 1.5424 - val_mean_absolute_percentage_error: 42.8821 - lr: 1.0000e-04\n",
      "Epoch 2/100\n",
      "103/103 [==============================] - 20s 197ms/step - loss: 0.8322 - mean_absolute_error: 0.8767 - root_mean_squared_error: 1.1104 - mean_absolute_percentage_error: 28.9101 - val_loss: 0.9823 - val_mean_absolute_error: 1.1117 - val_root_mean_squared_error: 1.2707 - val_mean_absolute_percentage_error: 35.3642 - lr: 1.0000e-04\n",
      "Epoch 3/100\n",
      "103/103 [==============================] - 21s 202ms/step - loss: 0.6249 - mean_absolute_error: 0.6703 - root_mean_squared_error: 0.8564 - mean_absolute_percentage_error: 23.2898 - val_loss: 0.7367 - val_mean_absolute_error: 0.8570 - val_root_mean_squared_error: 1.0070 - val_mean_absolute_percentage_error: 26.1363 - lr: 1.0000e-04\n",
      "Epoch 4/100\n",
      "103/103 [==============================] - 23s 219ms/step - loss: 0.5569 - mean_absolute_error: 0.6169 - root_mean_squared_error: 0.7969 - mean_absolute_percentage_error: 21.5492 - val_loss: 0.5941 - val_mean_absolute_error: 0.7136 - val_root_mean_squared_error: 0.8440 - val_mean_absolute_percentage_error: 22.2507 - lr: 1.0000e-04\n",
      "Epoch 5/100\n",
      "103/103 [==============================] - 22s 214ms/step - loss: 0.5015 - mean_absolute_error: 0.5765 - root_mean_squared_error: 0.7418 - mean_absolute_percentage_error: 20.1647 - val_loss: 0.5259 - val_mean_absolute_error: 0.6631 - val_root_mean_squared_error: 0.7811 - val_mean_absolute_percentage_error: 21.2377 - lr: 1.0000e-04\n",
      "Epoch 6/100\n",
      "103/103 [==============================] - 21s 204ms/step - loss: 0.4560 - mean_absolute_error: 0.5423 - root_mean_squared_error: 0.7006 - mean_absolute_percentage_error: 18.8269 - val_loss: 0.4404 - val_mean_absolute_error: 0.5640 - val_root_mean_squared_error: 0.6942 - val_mean_absolute_percentage_error: 18.5268 - lr: 1.0000e-04\n",
      "Epoch 7/100\n",
      "103/103 [==============================] - 21s 200ms/step - loss: 0.4207 - mean_absolute_error: 0.5173 - root_mean_squared_error: 0.6690 - mean_absolute_percentage_error: 17.9338 - val_loss: 0.4337 - val_mean_absolute_error: 0.5541 - val_root_mean_squared_error: 0.7524 - val_mean_absolute_percentage_error: 18.0275 - lr: 1.0000e-04\n",
      "Epoch 8/100\n",
      "103/103 [==============================] - 21s 203ms/step - loss: 0.3818 - mean_absolute_error: 0.4847 - root_mean_squared_error: 0.6271 - mean_absolute_percentage_error: 16.8912 - val_loss: 0.3681 - val_mean_absolute_error: 0.4740 - val_root_mean_squared_error: 0.7227 - val_mean_absolute_percentage_error: 16.0526 - lr: 1.0000e-04\n",
      "Epoch 9/100\n",
      "103/103 [==============================] - 21s 204ms/step - loss: 0.3581 - mean_absolute_error: 0.4699 - root_mean_squared_error: 0.6046 - mean_absolute_percentage_error: 16.3013 - val_loss: 0.3463 - val_mean_absolute_error: 0.4574 - val_root_mean_squared_error: 0.7448 - val_mean_absolute_percentage_error: 15.7560 - lr: 1.0000e-04\n",
      "Epoch 10/100\n",
      "103/103 [==============================] - 21s 203ms/step - loss: 0.3216 - mean_absolute_error: 0.4275 - root_mean_squared_error: 0.5581 - mean_absolute_percentage_error: 14.8634 - val_loss: 0.3022 - val_mean_absolute_error: 0.3838 - val_root_mean_squared_error: 0.6624 - val_mean_absolute_percentage_error: 13.8365 - lr: 1.0000e-04\n",
      "Epoch 11/100\n",
      "103/103 [==============================] - 21s 202ms/step - loss: 0.3082 - mean_absolute_error: 0.4269 - root_mean_squared_error: 0.5491 - mean_absolute_percentage_error: 14.8210 - val_loss: 0.3173 - val_mean_absolute_error: 0.4455 - val_root_mean_squared_error: 0.7238 - val_mean_absolute_percentage_error: 15.4560 - lr: 1.0000e-04\n",
      "Epoch 12/100\n",
      "103/103 [==============================] - 21s 203ms/step - loss: 0.2883 - mean_absolute_error: 0.4074 - root_mean_squared_error: 0.5262 - mean_absolute_percentage_error: 14.2496 - val_loss: 0.3211 - val_mean_absolute_error: 0.4705 - val_root_mean_squared_error: 0.7838 - val_mean_absolute_percentage_error: 15.8417 - lr: 1.0000e-04\n",
      "Epoch 13/100\n",
      "103/103 [==============================] - 24s 238ms/step - loss: 0.2678 - mean_absolute_error: 0.3852 - root_mean_squared_error: 0.4994 - mean_absolute_percentage_error: 13.5344 - val_loss: 0.2777 - val_mean_absolute_error: 0.3908 - val_root_mean_squared_error: 0.6788 - val_mean_absolute_percentage_error: 13.9509 - lr: 1.0000e-04\n",
      "Epoch 14/100\n",
      "103/103 [==============================] - 26s 249ms/step - loss: 0.2623 - mean_absolute_error: 0.3871 - root_mean_squared_error: 0.5004 - mean_absolute_percentage_error: 13.5887 - val_loss: 0.3012 - val_mean_absolute_error: 0.4230 - val_root_mean_squared_error: 0.8780 - val_mean_absolute_percentage_error: 15.4699 - lr: 1.0000e-04\n",
      "Epoch 15/100\n",
      "103/103 [==============================] - 24s 233ms/step - loss: 0.2555 - mean_absolute_error: 0.3898 - root_mean_squared_error: 0.4966 - mean_absolute_percentage_error: 13.6909 - val_loss: 0.2470 - val_mean_absolute_error: 0.3537 - val_root_mean_squared_error: 0.5406 - val_mean_absolute_percentage_error: 12.9972 - lr: 1.0000e-04\n",
      "Epoch 16/100\n",
      "103/103 [==============================] - 22s 213ms/step - loss: 0.2353 - mean_absolute_error: 0.3603 - root_mean_squared_error: 0.4634 - mean_absolute_percentage_error: 12.7350 - val_loss: 0.2486 - val_mean_absolute_error: 0.3815 - val_root_mean_squared_error: 0.5284 - val_mean_absolute_percentage_error: 13.5990 - lr: 1.0000e-04\n",
      "Epoch 17/100\n",
      "103/103 [==============================] - 25s 240ms/step - loss: 0.2382 - mean_absolute_error: 0.3720 - root_mean_squared_error: 0.4810 - mean_absolute_percentage_error: 13.2116 - val_loss: 0.2358 - val_mean_absolute_error: 0.3322 - val_root_mean_squared_error: 0.6174 - val_mean_absolute_percentage_error: 12.3622 - lr: 1.0000e-04\n",
      "Epoch 18/100\n",
      "103/103 [==============================] - 23s 228ms/step - loss: 0.2227 - mean_absolute_error: 0.3534 - root_mean_squared_error: 0.4530 - mean_absolute_percentage_error: 12.5078 - val_loss: 0.2524 - val_mean_absolute_error: 0.4042 - val_root_mean_squared_error: 0.6027 - val_mean_absolute_percentage_error: 14.0394 - lr: 1.0000e-04\n",
      "Epoch 19/100\n",
      "103/103 [==============================] - 25s 244ms/step - loss: 0.2181 - mean_absolute_error: 0.3464 - root_mean_squared_error: 0.4499 - mean_absolute_percentage_error: 12.2039 - val_loss: 0.2335 - val_mean_absolute_error: 0.3583 - val_root_mean_squared_error: 0.5946 - val_mean_absolute_percentage_error: 12.9571 - lr: 1.0000e-04\n",
      "Epoch 20/100\n",
      "103/103 [==============================] - 24s 231ms/step - loss: 0.2152 - mean_absolute_error: 0.3480 - root_mean_squared_error: 0.4500 - mean_absolute_percentage_error: 12.3104 - val_loss: 0.2135 - val_mean_absolute_error: 0.3188 - val_root_mean_squared_error: 0.4969 - val_mean_absolute_percentage_error: 11.7447 - lr: 1.0000e-04\n",
      "Epoch 21/100\n",
      "103/103 [==============================] - 27s 262ms/step - loss: 0.2103 - mean_absolute_error: 0.3476 - root_mean_squared_error: 0.4443 - mean_absolute_percentage_error: 12.3194 - val_loss: 0.2232 - val_mean_absolute_error: 0.3450 - val_root_mean_squared_error: 0.5906 - val_mean_absolute_percentage_error: 12.6019 - lr: 1.0000e-04\n",
      "Epoch 22/100\n",
      "103/103 [==============================] - 24s 235ms/step - loss: 0.2027 - mean_absolute_error: 0.3364 - root_mean_squared_error: 0.4323 - mean_absolute_percentage_error: 11.9576 - val_loss: 0.2193 - val_mean_absolute_error: 0.3408 - val_root_mean_squared_error: 0.5699 - val_mean_absolute_percentage_error: 12.5016 - lr: 1.0000e-04\n",
      "Epoch 23/100\n",
      "103/103 [==============================] - 26s 250ms/step - loss: 0.2025 - mean_absolute_error: 0.3389 - root_mean_squared_error: 0.4368 - mean_absolute_percentage_error: 11.9421 - val_loss: 0.2373 - val_mean_absolute_error: 0.3575 - val_root_mean_squared_error: 0.8500 - val_mean_absolute_percentage_error: 13.0749 - lr: 1.0000e-04\n",
      "Epoch 24/100\n",
      "103/103 [==============================] - 24s 236ms/step - loss: 0.1996 - mean_absolute_error: 0.3403 - root_mean_squared_error: 0.4345 - mean_absolute_percentage_error: 11.9179 - val_loss: 0.2093 - val_mean_absolute_error: 0.3287 - val_root_mean_squared_error: 0.5238 - val_mean_absolute_percentage_error: 12.1185 - lr: 1.0000e-04\n",
      "Epoch 25/100\n",
      "103/103 [==============================] - 24s 233ms/step - loss: 0.1829 - mean_absolute_error: 0.3095 - root_mean_squared_error: 0.3980 - mean_absolute_percentage_error: 10.8267 - val_loss: 0.1960 - val_mean_absolute_error: 0.2999 - val_root_mean_squared_error: 0.4556 - val_mean_absolute_percentage_error: 11.2402 - lr: 1.0000e-04\n",
      "Epoch 26/100\n",
      "103/103 [==============================] - 22s 209ms/step - loss: 0.1839 - mean_absolute_error: 0.3118 - root_mean_squared_error: 0.4048 - mean_absolute_percentage_error: 11.1241 - val_loss: 0.1949 - val_mean_absolute_error: 0.2968 - val_root_mean_squared_error: 0.4682 - val_mean_absolute_percentage_error: 11.1051 - lr: 1.0000e-04\n",
      "Epoch 27/100\n",
      "103/103 [==============================] - 26s 254ms/step - loss: 0.1868 - mean_absolute_error: 0.3240 - root_mean_squared_error: 0.4157 - mean_absolute_percentage_error: 11.2632 - val_loss: 0.1929 - val_mean_absolute_error: 0.3148 - val_root_mean_squared_error: 0.4426 - val_mean_absolute_percentage_error: 11.5514 - lr: 1.0000e-04\n",
      "Epoch 28/100\n",
      "103/103 [==============================] - 23s 220ms/step - loss: 0.1766 - mean_absolute_error: 0.3070 - root_mean_squared_error: 0.3940 - mean_absolute_percentage_error: 10.8801 - val_loss: 0.1998 - val_mean_absolute_error: 0.3248 - val_root_mean_squared_error: 0.4804 - val_mean_absolute_percentage_error: 11.9934 - lr: 1.0000e-04\n",
      "Epoch 29/100\n",
      "103/103 [==============================] - 27s 260ms/step - loss: 0.1738 - mean_absolute_error: 0.3060 - root_mean_squared_error: 0.3900 - mean_absolute_percentage_error: 10.7653 - val_loss: 0.1906 - val_mean_absolute_error: 0.2874 - val_root_mean_squared_error: 0.5098 - val_mean_absolute_percentage_error: 10.8985 - lr: 1.0000e-04\n",
      "Epoch 30/100\n",
      "103/103 [==============================] - 24s 229ms/step - loss: 0.1717 - mean_absolute_error: 0.2998 - root_mean_squared_error: 0.3879 - mean_absolute_percentage_error: 10.7867 - val_loss: 0.1918 - val_mean_absolute_error: 0.3078 - val_root_mean_squared_error: 0.4641 - val_mean_absolute_percentage_error: 11.4159 - lr: 1.0000e-04\n",
      "Epoch 31/100\n",
      "103/103 [==============================] - 22s 210ms/step - loss: 0.1680 - mean_absolute_error: 0.2964 - root_mean_squared_error: 0.3818 - mean_absolute_percentage_error: 10.3429 - val_loss: 0.1873 - val_mean_absolute_error: 0.2889 - val_root_mean_squared_error: 0.5171 - val_mean_absolute_percentage_error: 10.9251 - lr: 1.0000e-04\n",
      "Epoch 32/100\n",
      "103/103 [==============================] - 22s 212ms/step - loss: 0.1657 - mean_absolute_error: 0.2957 - root_mean_squared_error: 0.3788 - mean_absolute_percentage_error: 10.5628 - val_loss: 0.1911 - val_mean_absolute_error: 0.3237 - val_root_mean_squared_error: 0.4788 - val_mean_absolute_percentage_error: 11.7983 - lr: 1.0000e-04\n",
      "Epoch 33/100\n",
      "103/103 [==============================] - 24s 229ms/step - loss: 0.1676 - mean_absolute_error: 0.3014 - root_mean_squared_error: 0.3863 - mean_absolute_percentage_error: 10.6268 - val_loss: 0.1946 - val_mean_absolute_error: 0.3400 - val_root_mean_squared_error: 0.4990 - val_mean_absolute_percentage_error: 11.9662 - lr: 1.0000e-04\n",
      "Epoch 34/100\n",
      "103/103 [==============================] - 22s 215ms/step - loss: 0.1587 - mean_absolute_error: 0.2833 - root_mean_squared_error: 0.3659 - mean_absolute_percentage_error: 10.0033 - val_loss: 0.1710 - val_mean_absolute_error: 0.2667 - val_root_mean_squared_error: 0.4071 - val_mean_absolute_percentage_error: 9.9920 - lr: 1.0000e-04\n",
      "Epoch 35/100\n",
      "103/103 [==============================] - 21s 200ms/step - loss: 0.1553 - mean_absolute_error: 0.2781 - root_mean_squared_error: 0.3594 - mean_absolute_percentage_error: 9.7043 - val_loss: 0.1754 - val_mean_absolute_error: 0.2807 - val_root_mean_squared_error: 0.4396 - val_mean_absolute_percentage_error: 10.4482 - lr: 1.0000e-04\n",
      "Epoch 36/100\n",
      "103/103 [==============================] - 21s 202ms/step - loss: 0.1555 - mean_absolute_error: 0.2835 - root_mean_squared_error: 0.3628 - mean_absolute_percentage_error: 10.0298 - val_loss: 0.1700 - val_mean_absolute_error: 0.2690 - val_root_mean_squared_error: 0.4150 - val_mean_absolute_percentage_error: 10.3285 - lr: 1.0000e-04\n",
      "Epoch 37/100\n",
      "103/103 [==============================] - 21s 203ms/step - loss: 0.1519 - mean_absolute_error: 0.2756 - root_mean_squared_error: 0.3557 - mean_absolute_percentage_error: 9.6348 - val_loss: 0.2187 - val_mean_absolute_error: 0.3083 - val_root_mean_squared_error: 1.1201 - val_mean_absolute_percentage_error: 11.8368 - lr: 1.0000e-04\n",
      "Epoch 38/100\n",
      "103/103 [==============================] - 21s 200ms/step - loss: 0.1487 - mean_absolute_error: 0.2675 - root_mean_squared_error: 0.3495 - mean_absolute_percentage_error: 9.3046 - val_loss: 0.1880 - val_mean_absolute_error: 0.2846 - val_root_mean_squared_error: 0.6519 - val_mean_absolute_percentage_error: 10.7101 - lr: 1.0000e-04\n",
      "Epoch 39/100\n",
      "103/103 [==============================] - 21s 200ms/step - loss: 0.1420 - mean_absolute_error: 0.2570 - root_mean_squared_error: 0.3327 - mean_absolute_percentage_error: 9.0141 - val_loss: 0.1780 - val_mean_absolute_error: 0.2838 - val_root_mean_squared_error: 0.5168 - val_mean_absolute_percentage_error: 10.6043 - lr: 1.0000e-04\n",
      "Epoch 40/100\n",
      "103/103 [==============================] - 21s 199ms/step - loss: 0.1468 - mean_absolute_error: 0.2661 - root_mean_squared_error: 0.3493 - mean_absolute_percentage_error: 9.1809 - val_loss: 0.1622 - val_mean_absolute_error: 0.2632 - val_root_mean_squared_error: 0.3989 - val_mean_absolute_percentage_error: 9.9640 - lr: 1.0000e-04\n",
      "Epoch 41/100\n",
      "103/103 [==============================] - 21s 201ms/step - loss: 0.1416 - mean_absolute_error: 0.2598 - root_mean_squared_error: 0.3367 - mean_absolute_percentage_error: 9.1266 - val_loss: 0.1692 - val_mean_absolute_error: 0.2959 - val_root_mean_squared_error: 0.4187 - val_mean_absolute_percentage_error: 10.9752 - lr: 1.0000e-04\n",
      "Epoch 42/100\n",
      "103/103 [==============================] - 21s 201ms/step - loss: 0.1389 - mean_absolute_error: 0.2552 - root_mean_squared_error: 0.3315 - mean_absolute_percentage_error: 8.8724 - val_loss: 0.1767 - val_mean_absolute_error: 0.2886 - val_root_mean_squared_error: 0.4904 - val_mean_absolute_percentage_error: 10.7945 - lr: 1.0000e-04\n",
      "Epoch 43/100\n",
      "103/103 [==============================] - 21s 199ms/step - loss: 0.1341 - mean_absolute_error: 0.2493 - root_mean_squared_error: 0.3191 - mean_absolute_percentage_error: 8.6346 - val_loss: 0.1737 - val_mean_absolute_error: 0.2978 - val_root_mean_squared_error: 0.4617 - val_mean_absolute_percentage_error: 10.7788 - lr: 1.0000e-04\n",
      "Epoch 44/100\n",
      "103/103 [==============================] - 21s 202ms/step - loss: 0.1352 - mean_absolute_error: 0.2496 - root_mean_squared_error: 0.3256 - mean_absolute_percentage_error: 8.6009 - val_loss: 0.1657 - val_mean_absolute_error: 0.2612 - val_root_mean_squared_error: 0.4424 - val_mean_absolute_percentage_error: 10.0404 - lr: 1.0000e-04\n",
      "Epoch 45/100\n",
      "103/103 [==============================] - 23s 226ms/step - loss: 0.1401 - mean_absolute_error: 0.2628 - root_mean_squared_error: 0.3431 - mean_absolute_percentage_error: 9.0981 - val_loss: 0.1691 - val_mean_absolute_error: 0.2843 - val_root_mean_squared_error: 0.4494 - val_mean_absolute_percentage_error: 10.7406 - lr: 1.0000e-04\n",
      "Epoch 46/100\n",
      "103/103 [==============================] - 24s 234ms/step - loss: 0.1326 - mean_absolute_error: 0.2460 - root_mean_squared_error: 0.3223 - mean_absolute_percentage_error: 8.4389 - val_loss: 0.1694 - val_mean_absolute_error: 0.2791 - val_root_mean_squared_error: 0.4770 - val_mean_absolute_percentage_error: 10.5102 - lr: 5.0000e-05\n",
      "Epoch 47/100\n",
      "103/103 [==============================] - 24s 234ms/step - loss: 0.1288 - mean_absolute_error: 0.2399 - root_mean_squared_error: 0.3118 - mean_absolute_percentage_error: 8.3336 - val_loss: 0.1656 - val_mean_absolute_error: 0.2783 - val_root_mean_squared_error: 0.4425 - val_mean_absolute_percentage_error: 10.2360 - lr: 5.0000e-05\n",
      "Epoch 48/100\n",
      "103/103 [==============================] - 24s 233ms/step - loss: 0.1297 - mean_absolute_error: 0.2438 - root_mean_squared_error: 0.3158 - mean_absolute_percentage_error: 8.4262 - val_loss: 0.1599 - val_mean_absolute_error: 0.2543 - val_root_mean_squared_error: 0.4223 - val_mean_absolute_percentage_error: 9.6290 - lr: 5.0000e-05\n",
      "Epoch 49/100\n",
      "103/103 [==============================] - 24s 235ms/step - loss: 0.1266 - mean_absolute_error: 0.2391 - root_mean_squared_error: 0.3071 - mean_absolute_percentage_error: 8.2174 - val_loss: 0.1592 - val_mean_absolute_error: 0.2574 - val_root_mean_squared_error: 0.4183 - val_mean_absolute_percentage_error: 9.7745 - lr: 5.0000e-05\n",
      "Epoch 50/100\n",
      "103/103 [==============================] - 23s 228ms/step - loss: 0.1285 - mean_absolute_error: 0.2434 - root_mean_squared_error: 0.3149 - mean_absolute_percentage_error: 8.4271 - val_loss: 0.1529 - val_mean_absolute_error: 0.2355 - val_root_mean_squared_error: 0.3965 - val_mean_absolute_percentage_error: 9.0987 - lr: 5.0000e-05\n",
      "Epoch 51/100\n",
      "103/103 [==============================] - 23s 222ms/step - loss: 0.1270 - mean_absolute_error: 0.2404 - root_mean_squared_error: 0.3111 - mean_absolute_percentage_error: 8.2773 - val_loss: 0.1512 - val_mean_absolute_error: 0.2396 - val_root_mean_squared_error: 0.3894 - val_mean_absolute_percentage_error: 9.2115 - lr: 5.0000e-05\n",
      "Epoch 52/100\n",
      "103/103 [==============================] - 21s 207ms/step - loss: 0.1251 - mean_absolute_error: 0.2384 - root_mean_squared_error: 0.3064 - mean_absolute_percentage_error: 8.3180 - val_loss: 0.1550 - val_mean_absolute_error: 0.2392 - val_root_mean_squared_error: 0.4176 - val_mean_absolute_percentage_error: 9.3081 - lr: 5.0000e-05\n",
      "Epoch 53/100\n",
      "103/103 [==============================] - 21s 205ms/step - loss: 0.1241 - mean_absolute_error: 0.2369 - root_mean_squared_error: 0.3046 - mean_absolute_percentage_error: 8.1039 - val_loss: 0.1589 - val_mean_absolute_error: 0.2838 - val_root_mean_squared_error: 0.4115 - val_mean_absolute_percentage_error: 10.5590 - lr: 5.0000e-05\n",
      "Epoch 54/100\n",
      "103/103 [==============================] - 21s 208ms/step - loss: 0.1247 - mean_absolute_error: 0.2380 - root_mean_squared_error: 0.3083 - mean_absolute_percentage_error: 8.0415 - val_loss: 0.1519 - val_mean_absolute_error: 0.2441 - val_root_mean_squared_error: 0.3989 - val_mean_absolute_percentage_error: 9.3142 - lr: 5.0000e-05\n",
      "Epoch 55/100\n",
      "103/103 [==============================] - 20s 198ms/step - loss: 0.1223 - mean_absolute_error: 0.2326 - root_mean_squared_error: 0.3017 - mean_absolute_percentage_error: 7.9313 - val_loss: 0.1469 - val_mean_absolute_error: 0.2298 - val_root_mean_squared_error: 0.3825 - val_mean_absolute_percentage_error: 8.9339 - lr: 5.0000e-05\n",
      "Epoch 56/100\n",
      "103/103 [==============================] - 20s 198ms/step - loss: 0.1200 - mean_absolute_error: 0.2282 - root_mean_squared_error: 0.2957 - mean_absolute_percentage_error: 7.7987 - val_loss: 0.1525 - val_mean_absolute_error: 0.2382 - val_root_mean_squared_error: 0.4115 - val_mean_absolute_percentage_error: 9.2349 - lr: 5.0000e-05\n",
      "Epoch 57/100\n",
      "103/103 [==============================] - 21s 204ms/step - loss: 0.1192 - mean_absolute_error: 0.2271 - root_mean_squared_error: 0.2940 - mean_absolute_percentage_error: 7.8270 - val_loss: 0.1576 - val_mean_absolute_error: 0.2669 - val_root_mean_squared_error: 0.4279 - val_mean_absolute_percentage_error: 10.0926 - lr: 5.0000e-05\n",
      "Epoch 58/100\n",
      "103/103 [==============================] - 21s 205ms/step - loss: 0.1187 - mean_absolute_error: 0.2276 - root_mean_squared_error: 0.2939 - mean_absolute_percentage_error: 7.8228 - val_loss: 0.1544 - val_mean_absolute_error: 0.2549 - val_root_mean_squared_error: 0.4189 - val_mean_absolute_percentage_error: 9.7912 - lr: 5.0000e-05\n",
      "Epoch 59/100\n",
      "103/103 [==============================] - 21s 206ms/step - loss: 0.1186 - mean_absolute_error: 0.2286 - root_mean_squared_error: 0.2948 - mean_absolute_percentage_error: 7.8268 - val_loss: 0.1522 - val_mean_absolute_error: 0.2359 - val_root_mean_squared_error: 0.4234 - val_mean_absolute_percentage_error: 9.2687 - lr: 5.0000e-05\n",
      "Epoch 60/100\n",
      "103/103 [==============================] - 21s 206ms/step - loss: 0.1187 - mean_absolute_error: 0.2291 - root_mean_squared_error: 0.2966 - mean_absolute_percentage_error: 7.8898 - val_loss: 0.1514 - val_mean_absolute_error: 0.2377 - val_root_mean_squared_error: 0.4151 - val_mean_absolute_percentage_error: 9.2878 - lr: 5.0000e-05\n",
      "Epoch 61/100\n",
      "103/103 [==============================] - 21s 206ms/step - loss: 0.1156 - mean_absolute_error: 0.2233 - root_mean_squared_error: 0.2872 - mean_absolute_percentage_error: 7.6563 - val_loss: 0.1462 - val_mean_absolute_error: 0.2375 - val_root_mean_squared_error: 0.3876 - val_mean_absolute_percentage_error: 9.1772 - lr: 2.5000e-05\n",
      "Epoch 62/100\n",
      "103/103 [==============================] - 21s 207ms/step - loss: 0.1168 - mean_absolute_error: 0.2255 - root_mean_squared_error: 0.2921 - mean_absolute_percentage_error: 7.6515 - val_loss: 0.1454 - val_mean_absolute_error: 0.2371 - val_root_mean_squared_error: 0.3862 - val_mean_absolute_percentage_error: 9.0930 - lr: 2.5000e-05\n",
      "Epoch 63/100\n",
      "103/103 [==============================] - 21s 207ms/step - loss: 0.1157 - mean_absolute_error: 0.2237 - root_mean_squared_error: 0.2889 - mean_absolute_percentage_error: 7.6095 - val_loss: 0.1523 - val_mean_absolute_error: 0.2377 - val_root_mean_squared_error: 0.4415 - val_mean_absolute_percentage_error: 9.2367 - lr: 2.5000e-05\n",
      "Epoch 64/100\n",
      "103/103 [==============================] - 21s 206ms/step - loss: 0.1127 - mean_absolute_error: 0.2155 - root_mean_squared_error: 0.2791 - mean_absolute_percentage_error: 7.3899 - val_loss: 0.1488 - val_mean_absolute_error: 0.2382 - val_root_mean_squared_error: 0.4109 - val_mean_absolute_percentage_error: 9.1414 - lr: 2.5000e-05\n",
      "Epoch 65/100\n",
      "103/103 [==============================] - 21s 206ms/step - loss: 0.1126 - mean_absolute_error: 0.2168 - root_mean_squared_error: 0.2797 - mean_absolute_percentage_error: 7.4090 - val_loss: 0.1500 - val_mean_absolute_error: 0.2358 - val_root_mean_squared_error: 0.4183 - val_mean_absolute_percentage_error: 9.2180 - lr: 2.5000e-05\n",
      "Epoch 66/100\n",
      "103/103 [==============================] - 21s 204ms/step - loss: 0.1138 - mean_absolute_error: 0.2194 - root_mean_squared_error: 0.2846 - mean_absolute_percentage_error: 7.5391 - val_loss: 0.1501 - val_mean_absolute_error: 0.2384 - val_root_mean_squared_error: 0.4254 - val_mean_absolute_percentage_error: 9.2462 - lr: 2.5000e-05\n",
      "Epoch 67/100\n",
      "103/103 [==============================] - 21s 205ms/step - loss: 0.1095 - mean_absolute_error: 0.2098 - root_mean_squared_error: 0.2698 - mean_absolute_percentage_error: 7.1960 - val_loss: 0.1503 - val_mean_absolute_error: 0.2495 - val_root_mean_squared_error: 0.4109 - val_mean_absolute_percentage_error: 9.5298 - lr: 2.5000e-05\n",
      "Epoch 68/100\n",
      "103/103 [==============================] - 21s 207ms/step - loss: 0.1108 - mean_absolute_error: 0.2122 - root_mean_squared_error: 0.2752 - mean_absolute_percentage_error: 7.1954 - val_loss: 0.1472 - val_mean_absolute_error: 0.2355 - val_root_mean_squared_error: 0.4024 - val_mean_absolute_percentage_error: 9.1131 - lr: 1.2500e-05\n",
      "Epoch 69/100\n",
      "103/103 [==============================] - 21s 205ms/step - loss: 0.1111 - mean_absolute_error: 0.2144 - root_mean_squared_error: 0.2766 - mean_absolute_percentage_error: 7.3961 - val_loss: 0.1437 - val_mean_absolute_error: 0.2268 - val_root_mean_squared_error: 0.3865 - val_mean_absolute_percentage_error: 8.8116 - lr: 1.2500e-05\n",
      "Epoch 70/100\n",
      "103/103 [==============================] - 21s 206ms/step - loss: 0.1127 - mean_absolute_error: 0.2164 - root_mean_squared_error: 0.2830 - mean_absolute_percentage_error: 7.3962 - val_loss: 0.1440 - val_mean_absolute_error: 0.2229 - val_root_mean_squared_error: 0.3893 - val_mean_absolute_percentage_error: 8.7390 - lr: 1.2500e-05\n",
      "Epoch 71/100\n",
      "103/103 [==============================] - 21s 206ms/step - loss: 0.1101 - mean_absolute_error: 0.2121 - root_mean_squared_error: 0.2741 - mean_absolute_percentage_error: 7.2891 - val_loss: 0.1439 - val_mean_absolute_error: 0.2252 - val_root_mean_squared_error: 0.3893 - val_mean_absolute_percentage_error: 8.8185 - lr: 1.2500e-05\n",
      "Epoch 72/100\n",
      "103/103 [==============================] - 21s 206ms/step - loss: 0.1113 - mean_absolute_error: 0.2139 - root_mean_squared_error: 0.2788 - mean_absolute_percentage_error: 7.2894 - val_loss: 0.1440 - val_mean_absolute_error: 0.2301 - val_root_mean_squared_error: 0.3892 - val_mean_absolute_percentage_error: 8.9041 - lr: 1.2500e-05\n",
      "Epoch 73/100\n",
      "103/103 [==============================] - 21s 208ms/step - loss: 0.1089 - mean_absolute_error: 0.2094 - root_mean_squared_error: 0.2704 - mean_absolute_percentage_error: 7.1121 - val_loss: 0.1430 - val_mean_absolute_error: 0.2254 - val_root_mean_squared_error: 0.3863 - val_mean_absolute_percentage_error: 8.7508 - lr: 1.2500e-05\n",
      "Epoch 74/100\n",
      "103/103 [==============================] - 21s 207ms/step - loss: 0.1098 - mean_absolute_error: 0.2125 - root_mean_squared_error: 0.2741 - mean_absolute_percentage_error: 7.2514 - val_loss: 0.1445 - val_mean_absolute_error: 0.2265 - val_root_mean_squared_error: 0.3956 - val_mean_absolute_percentage_error: 8.7815 - lr: 1.2500e-05\n",
      "Epoch 75/100\n",
      "103/103 [==============================] - 21s 205ms/step - loss: 0.1102 - mean_absolute_error: 0.2117 - root_mean_squared_error: 0.2759 - mean_absolute_percentage_error: 7.1670 - val_loss: 0.1443 - val_mean_absolute_error: 0.2287 - val_root_mean_squared_error: 0.3945 - val_mean_absolute_percentage_error: 8.9202 - lr: 1.2500e-05\n",
      "Epoch 76/100\n",
      "103/103 [==============================] - 21s 206ms/step - loss: 0.1113 - mean_absolute_error: 0.2169 - root_mean_squared_error: 0.2804 - mean_absolute_percentage_error: 7.4544 - val_loss: 0.1439 - val_mean_absolute_error: 0.2265 - val_root_mean_squared_error: 0.3932 - val_mean_absolute_percentage_error: 8.8512 - lr: 1.2500e-05\n",
      "Epoch 77/100\n",
      "103/103 [==============================] - 21s 208ms/step - loss: 0.1093 - mean_absolute_error: 0.2113 - root_mean_squared_error: 0.2736 - mean_absolute_percentage_error: 7.1994 - val_loss: 0.1431 - val_mean_absolute_error: 0.2307 - val_root_mean_squared_error: 0.3878 - val_mean_absolute_percentage_error: 8.9496 - lr: 1.2500e-05\n",
      "Epoch 78/100\n",
      "103/103 [==============================] - 21s 208ms/step - loss: 0.1094 - mean_absolute_error: 0.2129 - root_mean_squared_error: 0.2743 - mean_absolute_percentage_error: 7.2450 - val_loss: 0.1421 - val_mean_absolute_error: 0.2364 - val_root_mean_squared_error: 0.3828 - val_mean_absolute_percentage_error: 9.0328 - lr: 1.2500e-05\n",
      "Epoch 79/100\n",
      "103/103 [==============================] - 21s 207ms/step - loss: 0.1088 - mean_absolute_error: 0.2085 - root_mean_squared_error: 0.2723 - mean_absolute_percentage_error: 7.1533 - val_loss: 0.1413 - val_mean_absolute_error: 0.2170 - val_root_mean_squared_error: 0.3834 - val_mean_absolute_percentage_error: 8.5714 - lr: 1.2500e-05\n",
      "Epoch 80/100\n",
      "103/103 [==============================] - 21s 207ms/step - loss: 0.1105 - mean_absolute_error: 0.2135 - root_mean_squared_error: 0.2790 - mean_absolute_percentage_error: 7.2012 - val_loss: 0.1429 - val_mean_absolute_error: 0.2332 - val_root_mean_squared_error: 0.3876 - val_mean_absolute_percentage_error: 9.0254 - lr: 1.2500e-05\n",
      "Epoch 81/100\n",
      "103/103 [==============================] - 21s 208ms/step - loss: 0.1062 - mean_absolute_error: 0.2036 - root_mean_squared_error: 0.2636 - mean_absolute_percentage_error: 6.9135 - val_loss: 0.1410 - val_mean_absolute_error: 0.2302 - val_root_mean_squared_error: 0.3811 - val_mean_absolute_percentage_error: 8.8897 - lr: 1.2500e-05\n",
      "Epoch 82/100\n",
      "103/103 [==============================] - 21s 209ms/step - loss: 0.1092 - mean_absolute_error: 0.2133 - root_mean_squared_error: 0.2752 - mean_absolute_percentage_error: 7.2791 - val_loss: 0.1440 - val_mean_absolute_error: 0.2274 - val_root_mean_squared_error: 0.3998 - val_mean_absolute_percentage_error: 8.8391 - lr: 1.2500e-05\n",
      "Epoch 83/100\n",
      "103/103 [==============================] - 21s 208ms/step - loss: 0.1079 - mean_absolute_error: 0.2063 - root_mean_squared_error: 0.2708 - mean_absolute_percentage_error: 7.1517 - val_loss: 0.1435 - val_mean_absolute_error: 0.2272 - val_root_mean_squared_error: 0.3957 - val_mean_absolute_percentage_error: 8.8107 - lr: 1.2500e-05\n",
      "Epoch 84/100\n",
      "103/103 [==============================] - 21s 208ms/step - loss: 0.1063 - mean_absolute_error: 0.2058 - root_mean_squared_error: 0.2654 - mean_absolute_percentage_error: 7.0112 - val_loss: 0.1418 - val_mean_absolute_error: 0.2267 - val_root_mean_squared_error: 0.3875 - val_mean_absolute_percentage_error: 8.7574 - lr: 1.2500e-05\n",
      "Epoch 85/100\n",
      "103/103 [==============================] - 22s 209ms/step - loss: 0.1068 - mean_absolute_error: 0.2064 - root_mean_squared_error: 0.2679 - mean_absolute_percentage_error: 6.9515 - val_loss: 0.1418 - val_mean_absolute_error: 0.2243 - val_root_mean_squared_error: 0.3896 - val_mean_absolute_percentage_error: 8.6966 - lr: 1.2500e-05\n",
      "Epoch 86/100\n",
      "103/103 [==============================] - 22s 212ms/step - loss: 0.1074 - mean_absolute_error: 0.2070 - root_mean_squared_error: 0.2702 - mean_absolute_percentage_error: 7.0722 - val_loss: 0.1415 - val_mean_absolute_error: 0.2322 - val_root_mean_squared_error: 0.3850 - val_mean_absolute_percentage_error: 8.9820 - lr: 1.2500e-05\n",
      "Epoch 87/100\n",
      "103/103 [==============================] - 22s 212ms/step - loss: 0.1077 - mean_absolute_error: 0.2088 - root_mean_squared_error: 0.2718 - mean_absolute_percentage_error: 7.1350 - val_loss: 0.1395 - val_mean_absolute_error: 0.2215 - val_root_mean_squared_error: 0.3795 - val_mean_absolute_percentage_error: 8.6159 - lr: 6.2500e-06\n",
      "Epoch 88/100\n",
      "103/103 [==============================] - 21s 209ms/step - loss: 0.1081 - mean_absolute_error: 0.2106 - root_mean_squared_error: 0.2734 - mean_absolute_percentage_error: 7.1340 - val_loss: 0.1412 - val_mean_absolute_error: 0.2208 - val_root_mean_squared_error: 0.3864 - val_mean_absolute_percentage_error: 8.6706 - lr: 6.2500e-06\n",
      "Epoch 89/100\n",
      "103/103 [==============================] - 21s 203ms/step - loss: 0.1072 - mean_absolute_error: 0.2076 - root_mean_squared_error: 0.2703 - mean_absolute_percentage_error: 7.0157 - val_loss: 0.1416 - val_mean_absolute_error: 0.2229 - val_root_mean_squared_error: 0.3891 - val_mean_absolute_percentage_error: 8.7016 - lr: 6.2500e-06\n",
      "Epoch 90/100\n",
      "103/103 [==============================] - 20s 199ms/step - loss: 0.1088 - mean_absolute_error: 0.2106 - root_mean_squared_error: 0.2768 - mean_absolute_percentage_error: 7.1816 - val_loss: 0.1419 - val_mean_absolute_error: 0.2215 - val_root_mean_squared_error: 0.3915 - val_mean_absolute_percentage_error: 8.6484 - lr: 6.2500e-06\n",
      "Epoch 91/100\n",
      "103/103 [==============================] - 21s 207ms/step - loss: 0.1065 - mean_absolute_error: 0.2069 - root_mean_squared_error: 0.2683 - mean_absolute_percentage_error: 7.0046 - val_loss: 0.1416 - val_mean_absolute_error: 0.2256 - val_root_mean_squared_error: 0.3882 - val_mean_absolute_percentage_error: 8.7937 - lr: 6.2500e-06\n",
      "Epoch 92/100\n",
      "103/103 [==============================] - 21s 209ms/step - loss: 0.1063 - mean_absolute_error: 0.2057 - root_mean_squared_error: 0.2677 - mean_absolute_percentage_error: 7.0512 - val_loss: 0.1407 - val_mean_absolute_error: 0.2212 - val_root_mean_squared_error: 0.3855 - val_mean_absolute_percentage_error: 8.6437 - lr: 6.2500e-06\n",
      "Epoch 93/100\n",
      "103/103 [==============================] - 21s 205ms/step - loss: 0.1063 - mean_absolute_error: 0.2058 - root_mean_squared_error: 0.2677 - mean_absolute_percentage_error: 6.9825 - val_loss: 0.1415 - val_mean_absolute_error: 0.2249 - val_root_mean_squared_error: 0.3889 - val_mean_absolute_percentage_error: 8.7651 - lr: 3.1250e-06\n",
      "Epoch 94/100\n",
      "103/103 [==============================] - 21s 206ms/step - loss: 0.1060 - mean_absolute_error: 0.2065 - root_mean_squared_error: 0.2668 - mean_absolute_percentage_error: 7.0289 - val_loss: 0.1409 - val_mean_absolute_error: 0.2256 - val_root_mean_squared_error: 0.3860 - val_mean_absolute_percentage_error: 8.7547 - lr: 3.1250e-06\n",
      "Epoch 95/100\n",
      "103/103 [==============================] - 21s 207ms/step - loss: 0.1066 - mean_absolute_error: 0.2065 - root_mean_squared_error: 0.2693 - mean_absolute_percentage_error: 7.0349 - val_loss: 0.1414 - val_mean_absolute_error: 0.2230 - val_root_mean_squared_error: 0.3889 - val_mean_absolute_percentage_error: 8.7197 - lr: 3.1250e-06\n",
      "Epoch 96/100\n",
      "103/103 [==============================] - 21s 207ms/step - loss: 0.1056 - mean_absolute_error: 0.2057 - root_mean_squared_error: 0.2655 - mean_absolute_percentage_error: 7.0662 - val_loss: 0.1405 - val_mean_absolute_error: 0.2205 - val_root_mean_squared_error: 0.3854 - val_mean_absolute_percentage_error: 8.6336 - lr: 3.1250e-06\n",
      "Epoch 97/100\n",
      "103/103 [==============================] - 21s 206ms/step - loss: 0.1051 - mean_absolute_error: 0.2041 - root_mean_squared_error: 0.2638 - mean_absolute_percentage_error: 7.0076 - val_loss: 0.1401 - val_mean_absolute_error: 0.2231 - val_root_mean_squared_error: 0.3831 - val_mean_absolute_percentage_error: 8.7026 - lr: 3.1250e-06\n",
      "Epoch 98/100\n",
      "103/103 [==============================] - 21s 206ms/step - loss: 0.1051 - mean_absolute_error: 0.2033 - root_mean_squared_error: 0.2637 - mean_absolute_percentage_error: 6.8909 - val_loss: 0.1397 - val_mean_absolute_error: 0.2229 - val_root_mean_squared_error: 0.3815 - val_mean_absolute_percentage_error: 8.6882 - lr: 1.5625e-06\n",
      "Epoch 99/100\n",
      "103/103 [==============================] - 21s 206ms/step - loss: 0.1064 - mean_absolute_error: 0.2055 - root_mean_squared_error: 0.2690 - mean_absolute_percentage_error: 7.0949 - val_loss: 0.1393 - val_mean_absolute_error: 0.2210 - val_root_mean_squared_error: 0.3804 - val_mean_absolute_percentage_error: 8.6348 - lr: 1.5625e-06\n",
      "Epoch 100/100\n",
      "103/103 [==============================] - 21s 202ms/step - loss: 0.1047 - mean_absolute_error: 0.2022 - root_mean_squared_error: 0.2624 - mean_absolute_percentage_error: 6.8724 - val_loss: 0.1393 - val_mean_absolute_error: 0.2193 - val_root_mean_squared_error: 0.3807 - val_mean_absolute_percentage_error: 8.5916 - lr: 1.5625e-06\n"
     ]
    }
   ],
   "source": [
    "history = model.fit([X_train_texts, train_numerical], y_train_log, \n",
    "                    epochs=100, batch_size=32, validation_data=([X_test_texts, test_numerical], y_test_log),\n",
    "                    callbacks=[reduce_lr_on_plateau])"
   ]
  },
  {
   "cell_type": "code",
   "execution_count": 25,
   "metadata": {},
   "outputs": [
    {
     "name": "stdout",
     "output_type": "stream",
     "text": [
      "33/33 [==============================] - 3s 85ms/step - loss: 0.1393 - mean_absolute_error: 0.2193 - root_mean_squared_error: 0.3807 - mean_absolute_percentage_error: 8.5916\n",
      "Model Loss: [0.1393052488565445, 0.2192927598953247, 0.3806740939617157, 8.591644287109375]\n"
     ]
    }
   ],
   "source": [
    "loss = model.evaluate([X_test_texts, test_numerical], y_test_log)\n",
    "print(f'Model Loss: {loss}')"
   ]
  },
  {
   "cell_type": "code",
   "execution_count": 26,
   "metadata": {},
   "outputs": [
    {
     "data": {
      "image/png": "[encoded data removed]",
      "text/plain": [
       "<Figure size 640x480 with 1 Axes>"
      ]
     },
     "metadata": {},
     "output_type": "display_data"
    },
    {
     "data": {
      "image/png": "[encoded data removed]",
      "text/plain": [
       "<Figure size 640x480 with 1 Axes>"
      ]
     },
     "metadata": {},
     "output_type": "display_data"
    },
    {
     "data": {
      "image/png": "[encoded data removed]",
      "text/plain": [
       "<Figure size 640x480 with 1 Axes>"
      ]
     },
     "metadata": {},
     "output_type": "display_data"
    },
    {
     "data": {
      "image/png": "[encoded data removed]",
      "text/plain": [
       "<Figure size 640x480 with 1 Axes>"
      ]
     },
     "metadata": {},
     "output_type": "display_data"
    }
   ],
   "source": [
    "plt.plot(history.history['mean_absolute_error'])\n",
    "plt.plot(history.history['val_mean_absolute_error'])\n",
    "plt.title('Model Mean Absolute Error')\n",
    "plt.ylabel('Mean Absolute Error')\n",
    "plt.xlabel('Epoch')\n",
    "plt.legend(['Train', 'Validation'], loc='upper left')\n",
    "plt.show()\n",
    "\n",
    "plt.plot(history.history['loss'])\n",
    "plt.plot(history.history['val_loss'])\n",
    "plt.title('Model Loss')\n",
    "plt.ylabel('Loss')\n",
    "plt.xlabel('Epoch')\n",
    "plt.legend(['Train', 'Validation'], loc='upper left')\n",
    "plt.show()\n",
    "\n",
    "plt.plot(history.history['root_mean_squared_error'])\n",
    "plt.plot(history.history['val_root_mean_squared_error'])\n",
    "plt.title('Model Root Mean Squared Error')\n",
    "plt.ylabel('Root Mean Squared Error')\n",
    "plt.xlabel('Epoch')\n",
    "plt.legend(['Train', 'Validation'], loc='upper left')\n",
    "plt.show()\n",
    "\n",
    "plt.plot(history.history['mean_absolute_percentage_error'])\n",
    "plt.plot(history.history['val_mean_absolute_percentage_error'])\n",
    "plt.title('Model MAPE')\n",
    "plt.ylabel('MAPE')\n",
    "plt.xlabel('Epoch')\n",
    "plt.legend(['Train', 'Validation'], loc='upper left')\n",
    "plt.show()"
   ]
  },
  {
   "cell_type": "markdown",
   "metadata": {},
   "source": [
    "### Inference"
   ]
  },
  {
   "cell_type": "code",
   "execution_count": 27,
   "metadata": {},
   "outputs": [
    {
     "name": "stdout",
     "output_type": "stream",
     "text": [
      "1/1 [==============================] - 1s 591ms/step\n",
      "Predicted Putusan: [3.36972246]\n"
     ]
    }
   ],
   "source": [
    "klasifikasi_perkara_encoded = 0\n",
    "penuntut_umum_encoded = 0\n",
    "hakim_encoded = 7\n",
    "jumlah_saksi_inference = 6\n",
    "maks_penjara_berdasarkan_pasal = 84\n",
    "\n",
    "inference_text = [\"buah sabit gagang kayu buah jare plastik paranet warna hitam uta tali plastik warna biru meter puluh buah kantong plastik kresek uta tali kain warna merah cm dimusnahkan unit mobil merek suzuki st pick up warna hitam dk kc noka mhyesljj nosin gaid beserta kunci kontak lembar stnk mobil merek suzuki st pick up warna hitam dk kc noka mhyesljj nosin gaid nama pemilik an i kadek kondrayasa dikembalikan i gede agu wirayuda buah durian jeni durian kane dikembalikan i wayan sukaren lembar nota pembelian buah durian toko tiara durian dikembalikan komang ayu anggreni bela buah durian jeni durian kane lembar nota pembelian buah durian toko semut durian dikembalikan komang sujana uang tunai rp ratu delapan puluh tujuh ribu rupiah dirampa negara membebankan terdakwa membayar biaya perkara rp ribu rupiah terdakwa gede darmayasa selasa tanggal mei sekira jam wita selasa tanggal mei sekira jam wita sabtu tanggal mei sekira jam wita setidaktidaknya mei setidaktidaknya kebun milik i wayan sukerena banjar desa bunutin kecamatan kintamani kab bangli kebun milik i nyoman susila banjar desa bunutin kecamatan kintamani kab bangli kebun milik i ketut tindih banjar desa pengejaran kecamatan kintamani kab bangli setidaktidaknya daerah hukum pengadilan negeri bangli perbuatan dipandang perbuatan berdiri kejahatan mengambil barang kepunyaan orang maksud dimiliki melawan hukum terdakwa caracara selasa tanggal mei sekira wita terdakwa berangkat rumah terdakwa br dina pudeh ds tajun kec kubutambahan kab buleleng mobil suzuki carri pick up warna hitam dk kc pergi brd bunutin kec kintamani kab bangli melewati simpang pasar tenten kintamani tujuan memb menawarkan buah durian dipohonnya sesampainya terdakwa brd bunutin kec kintamani kab bangli sekira wita terdakwa pohon durian berbuah kebun milik i wayan sukerena dipinggir jalan raya ds bunutin kec kintamani kab bangli situasi sepi terdakwa melihatlihat buah durian menemukan buah dipetik terdakwa memetik buah durian memanjat pohon durian sabit memotong buah durian pohon bergiliran buah durian terdakwa petik puluh tujuh buahsetelah terkumpul buah durian terdakwa naikan mobil suzuki carri pick up warna hitam dk kc terdakwa kendarai buah durian diata mobil terdakwa meninggalkan kebun milik i wayan sukerena perjalanan terdakwa dipinggir jalan raya ds bunutin kintamani pohon durian berbuah terdakwa turun memarkir mobil suzuki carri pick up warna hitam dk kc dipinggir jalan raya berjalan kaki terdakwa kebun milik i nyoman susila brd bunutin kec kintamani kab bangli sekira wita pohon durian berbuah terdakwa memanjat pohon durian pohon bergantian memetik sabit menurunkan buah durian puluh tujuh buah buah durian turun terkumpul terdakwa naikan mobil suzuki carri pick up warna hitam dk kc terdakwa tutupi buah durian diata mobil jare plastik warna hitam terdakwa ikat tali plastik warna biru buah durian aman diata mobil terdakwa meninggalkan brd bunutin kec kintamani kab bangli rumah terdakwa br dina pudeh ds tajun kac kubutambahan kab buleleng dirumah wita terdakwa langsung menjual durian saksi komang ayu anggreni batu barak desa tajun kec kubutambahan kab buleleng puluh buah berat seratu delapan puluh kg harga rp juta ratu enam bela ribu rupiah sisa buah durian puluh tujuh buah terdakwa bawa pulang kerumah kami tanggal mei sekira wita terdakwa menjual durian jeni durian kane komang sujana gudang milik komang sujana puluh buah durian berat kg buah durian hasil mencuri selasa tanggal mei brd bunutin kec kintamani kab bangli buah durian hasil terdakwa memb petani terdakwa jual harga total rp juta ratu ribu rupiah sabtu tanggal mei sekira wita terdakwa berangkat rumah terdakwa br dina pudeh ds tajun kec kubutambahan kab buleleng mobil suzuki carri pick up warna hitam dk kc pergi brd pengejaran kec kintamani kab bangli sesampainya terdakwa brd pengejaran kec kintamani kab bangli sekira wita melewati simpang lampu terdakwa dikebun milik i ketut tindih berlokasi pinggir jalan raya ds pengejaran situasi sepi terdakwa memanjat pohon durian pohon bergantian memetik buah durian sabit buah menjatuhkan buah durian ketanah terdakwa mengumpulkan buah durian terdakwa petik terdakwa menaikan buah durian mobil carri terdakwa bawa buah durian terdakwa tutupi buah durian diata mobil jare plastik warna hitam terdakwa ikat tali plastik warna biru buah durian aman diata mobil terdakwa meninggalkan brd pengejaran kec kintamani kab bangli rumah terdakwa br dina pudeh ds tajun kac kubutambahan kab buleleng pulang kerumahnya terdakwa pergi desa tajun menjual buah durian komang ayu anggreni buah harga rp juta ratu delapan puluh ribu rupiah menjual buah durian terdakwa langsung pulang rumah terdakwa br dina pudeh ds tajun kac kubutambahan kab buleleng terdakwa mengambil enam puluh tujuh buah durian kane ijin saksi i wayan sukerena saksi i nyoman susila saksi i ketut tindih memiliki buah durian menjualnya uang hasil penjualan biaya hidup seharihari akibat perbuatan terdakwa mengakibatkan saksi i wayan sukerena mengalami kerugian rp juta ratu puluh ribu rupiah saksi i ketut tindih mengalami kerugian rp juta ratu ribu rupiah saksi i nyoman susila mengalami kerugian rp juta rupiah setidaktidaknya rp ratu puluh rupiah diatur diancam pidana pasal kuhp jo pasal ayat kuhp gede darmayasa\"]\n",
    "inference_numerical_tensor = tf.constant([[klasifikasi_perkara_encoded, penuntut_umum_encoded, hakim_encoded, jumlah_saksi_inference, maks_penjara_berdasarkan_pasal]], dtype=tf.float32)\n",
    "\n",
    "new_sequences = tokenizer.texts_to_sequences(inference_text)\n",
    "inference_text = tf.keras.preprocessing.sequence.pad_sequences(new_sequences, maxlen=max_len, padding='post')\n",
    "\n",
    "predictions = model.predict([inference_text, inference_numerical_tensor])\n",
    "# print(f'Predicted Putusan: {predictions[0]}')\n",
    "\n",
    "pred_log = predictions[0].astype(float)  # Log transformation\n",
    "predictions = np.expm1(pred_log)  \n",
    "print(f'Predicted Putusan: {predictions}')"
   ]
  },
  {
   "cell_type": "code",
   "execution_count": 28,
   "metadata": {},
   "outputs": [
    {
     "name": "stderr",
     "output_type": "stream",
     "text": [
      "WARNING:absl:Found untraced functions such as lstm_cell_layer_call_fn, lstm_cell_layer_call_and_return_conditional_losses, lstm_cell_1_layer_call_fn, lstm_cell_1_layer_call_and_return_conditional_losses, lstm_cell_2_layer_call_fn while saving (showing 5 of 6). These functions will not be directly callable after loading.\n"
     ]
    },
    {
     "name": "stdout",
     "output_type": "stream",
     "text": [
      "INFO:tensorflow:Assets written to: ../Model/LSTM_12_LogTransform_TargetOnly\\assets\n"
     ]
    },
    {
     "name": "stderr",
     "output_type": "stream",
     "text": [
      "INFO:tensorflow:Assets written to: ../Model/LSTM_12_LogTransform_TargetOnly\\assets\n"
     ]
    }
   ],
   "source": [
    "model_scenario_name = \"LSTM_12_LogTransform_TargetOnly\"\n",
    "\n",
    "model_save_path = f'../Model/{model_scenario_name}'\n",
    "tokenizer_save_path = f'../Model/{model_scenario_name}_tokenizer.pkl'\n",
    "history_training_save_path = f'../Model/{model_scenario_name}_training_history.pkl'\n",
    "\n",
    "model.save(model_save_path)\n",
    "\n",
    "with open(tokenizer_save_path, 'wb') as handle:\n",
    "    pickle.dump(tokenizer, handle)\n",
    "\n",
    "with open(history_training_save_path, 'wb') as f:\n",
    "    pickle.dump(history.history, f)"
   ]
  },
  {
   "cell_type": "markdown",
   "metadata": {},
   "source": [
    "## Saved Model Inference"
   ]
  },
  {
   "cell_type": "code",
   "execution_count": 29,
   "metadata": {},
   "outputs": [],
   "source": [
    "model_scenario_name = \"LSTM_12_LogTransform_TargetOnly\"\n",
    "\n",
    "model_save_path = f'../Model/{model_scenario_name}'\n",
    "tokenizer_save_path = f'../Model/{model_scenario_name}_tokenizer.pkl'\n",
    "history_training_save_path = f'../Model/{model_scenario_name}_training_history.pkl'\n",
    "    \n",
    "loaded_model = tf.keras.models.load_model(model_save_path)\n",
    "\n",
    "with open(tokenizer_save_path, 'rb') as handle:\n",
    "    tokenizer = pickle.load(handle)"
   ]
  },
  {
   "cell_type": "code",
   "execution_count": 30,
   "metadata": {},
   "outputs": [
    {
     "name": "stdout",
     "output_type": "stream",
     "text": [
      "1/1 [==============================] - 0s 253ms/step\n",
      "Predicted Putusan: [3.36972246]\n"
     ]
    }
   ],
   "source": [
    "klasifikasi_perkara_encoded = 0\n",
    "penuntut_umum_encoded = 0\n",
    "hakim_encoded = 7\n",
    "jumlah_saksi_inference = 6\n",
    "maks_penjara_berdasarkan_pasal = 84\n",
    "\n",
    "inference_text = [\"buah sabit gagang kayu buah jare plastik paranet warna hitam uta tali plastik warna biru meter puluh buah kantong plastik kresek uta tali kain warna merah cm dimusnahkan unit mobil merek suzuki st pick up warna hitam dk kc noka mhyesljj nosin gaid beserta kunci kontak lembar stnk mobil merek suzuki st pick up warna hitam dk kc noka mhyesljj nosin gaid nama pemilik an i kadek kondrayasa dikembalikan i gede agu wirayuda buah durian jeni durian kane dikembalikan i wayan sukaren lembar nota pembelian buah durian toko tiara durian dikembalikan komang ayu anggreni bela buah durian jeni durian kane lembar nota pembelian buah durian toko semut durian dikembalikan komang sujana uang tunai rp ratu delapan puluh tujuh ribu rupiah dirampa negara membebankan terdakwa membayar biaya perkara rp ribu rupiah terdakwa gede darmayasa selasa tanggal mei sekira jam wita selasa tanggal mei sekira jam wita sabtu tanggal mei sekira jam wita setidaktidaknya mei setidaktidaknya kebun milik i wayan sukerena banjar desa bunutin kecamatan kintamani kab bangli kebun milik i nyoman susila banjar desa bunutin kecamatan kintamani kab bangli kebun milik i ketut tindih banjar desa pengejaran kecamatan kintamani kab bangli setidaktidaknya daerah hukum pengadilan negeri bangli perbuatan dipandang perbuatan berdiri kejahatan mengambil barang kepunyaan orang maksud dimiliki melawan hukum terdakwa caracara selasa tanggal mei sekira wita terdakwa berangkat rumah terdakwa br dina pudeh ds tajun kec kubutambahan kab buleleng mobil suzuki carri pick up warna hitam dk kc pergi brd bunutin kec kintamani kab bangli melewati simpang pasar tenten kintamani tujuan memb menawarkan buah durian dipohonnya sesampainya terdakwa brd bunutin kec kintamani kab bangli sekira wita terdakwa pohon durian berbuah kebun milik i wayan sukerena dipinggir jalan raya ds bunutin kec kintamani kab bangli situasi sepi terdakwa melihatlihat buah durian menemukan buah dipetik terdakwa memetik buah durian memanjat pohon durian sabit memotong buah durian pohon bergiliran buah durian terdakwa petik puluh tujuh buahsetelah terkumpul buah durian terdakwa naikan mobil suzuki carri pick up warna hitam dk kc terdakwa kendarai buah durian diata mobil terdakwa meninggalkan kebun milik i wayan sukerena perjalanan terdakwa dipinggir jalan raya ds bunutin kintamani pohon durian berbuah terdakwa turun memarkir mobil suzuki carri pick up warna hitam dk kc dipinggir jalan raya berjalan kaki terdakwa kebun milik i nyoman susila brd bunutin kec kintamani kab bangli sekira wita pohon durian berbuah terdakwa memanjat pohon durian pohon bergantian memetik sabit menurunkan buah durian puluh tujuh buah buah durian turun terkumpul terdakwa naikan mobil suzuki carri pick up warna hitam dk kc terdakwa tutupi buah durian diata mobil jare plastik warna hitam terdakwa ikat tali plastik warna biru buah durian aman diata mobil terdakwa meninggalkan brd bunutin kec kintamani kab bangli rumah terdakwa br dina pudeh ds tajun kac kubutambahan kab buleleng dirumah wita terdakwa langsung menjual durian saksi komang ayu anggreni batu barak desa tajun kec kubutambahan kab buleleng puluh buah berat seratu delapan puluh kg harga rp juta ratu enam bela ribu rupiah sisa buah durian puluh tujuh buah terdakwa bawa pulang kerumah kami tanggal mei sekira wita terdakwa menjual durian jeni durian kane komang sujana gudang milik komang sujana puluh buah durian berat kg buah durian hasil mencuri selasa tanggal mei brd bunutin kec kintamani kab bangli buah durian hasil terdakwa memb petani terdakwa jual harga total rp juta ratu ribu rupiah sabtu tanggal mei sekira wita terdakwa berangkat rumah terdakwa br dina pudeh ds tajun kec kubutambahan kab buleleng mobil suzuki carri pick up warna hitam dk kc pergi brd pengejaran kec kintamani kab bangli sesampainya terdakwa brd pengejaran kec kintamani kab bangli sekira wita melewati simpang lampu terdakwa dikebun milik i ketut tindih berlokasi pinggir jalan raya ds pengejaran situasi sepi terdakwa memanjat pohon durian pohon bergantian memetik buah durian sabit buah menjatuhkan buah durian ketanah terdakwa mengumpulkan buah durian terdakwa petik terdakwa menaikan buah durian mobil carri terdakwa bawa buah durian terdakwa tutupi buah durian diata mobil jare plastik warna hitam terdakwa ikat tali plastik warna biru buah durian aman diata mobil terdakwa meninggalkan brd pengejaran kec kintamani kab bangli rumah terdakwa br dina pudeh ds tajun kac kubutambahan kab buleleng pulang kerumahnya terdakwa pergi desa tajun menjual buah durian komang ayu anggreni buah harga rp juta ratu delapan puluh ribu rupiah menjual buah durian terdakwa langsung pulang rumah terdakwa br dina pudeh ds tajun kac kubutambahan kab buleleng terdakwa mengambil enam puluh tujuh buah durian kane ijin saksi i wayan sukerena saksi i nyoman susila saksi i ketut tindih memiliki buah durian menjualnya uang hasil penjualan biaya hidup seharihari akibat perbuatan terdakwa mengakibatkan saksi i wayan sukerena mengalami kerugian rp juta ratu puluh ribu rupiah saksi i ketut tindih mengalami kerugian rp juta ratu ribu rupiah saksi i nyoman susila mengalami kerugian rp juta rupiah setidaktidaknya rp ratu puluh rupiah diatur diancam pidana pasal kuhp jo pasal ayat kuhp gede darmayasa\"]\n",
    "inference_numerical_tensor = tf.constant([[klasifikasi_perkara_encoded, penuntut_umum_encoded, hakim_encoded, jumlah_saksi_inference, maks_penjara_berdasarkan_pasal]], dtype=tf.float32)\n",
    "\n",
    "new_sequences = tokenizer.texts_to_sequences(inference_text)\n",
    "inference_text = tf.keras.preprocessing.sequence.pad_sequences(new_sequences, maxlen=max_len, padding='post')\n",
    "\n",
    "predictions = model.predict([inference_text, inference_numerical_tensor])\n",
    "# print(f'Predicted Putusan: {predictions[0]}')\n",
    "\n",
    "pred_log = predictions[0].astype(float)  # Log transformation\n",
    "predictions = np.expm1(pred_log)  \n",
    "print(f'Predicted Putusan: {predictions}')"
   ]
  }
 ],
 "metadata": {
  "kernelspec": {
   "display_name": "tf_gpu",
   "language": "python",
   "name": "python3"
  },
  "language_info": {
   "codemirror_mode": {
    "name": "ipython",
    "version": 3
   },
   "file_extension": ".py",
   "mimetype": "text/x-python",
   "name": "python",
   "nbconvert_exporter": "python",
   "pygments_lexer": "ipython3",
   "version": "3.9.20"
  }
 },
 "nbformat": 4,
 "nbformat_minor": 2
}
