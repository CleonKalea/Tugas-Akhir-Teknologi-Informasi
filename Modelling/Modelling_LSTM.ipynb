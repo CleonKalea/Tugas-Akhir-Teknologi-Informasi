{
 "cells": [
  {
   "cell_type": "code",
   "execution_count": 1,
   "metadata": {},
   "outputs": [],
   "source": [
    "import numpy as np\n",
    "import pandas as pd\n",
    "from sklearn.model_selection import train_test_split\n",
    "import tensorflow as tf\n",
    "import nltk\n",
    "from nltk.corpus import stopwords\n",
    "import re\n",
    "from nltk.stem import PorterStemmer\n",
    "import matplotlib.pyplot as plt\n",
    "import pickle\n",
    "\n",
    "from Sastrawi.Stemmer.StemmerFactory import StemmerFactory\n",
    "from Sastrawi.StopWordRemover.StopWordRemoverFactory import StopWordRemoverFactory\n"
   ]
  },
  {
   "cell_type": "markdown",
   "metadata": {},
   "source": [
    "## Data Preparation"
   ]
  },
  {
   "cell_type": "code",
   "execution_count": 2,
   "metadata": {},
   "outputs": [],
   "source": [
    "df = pd.read_csv('../Data/STAGE 4 FINAL MERGED DATA/STAGE_4_MERGED_FINAL_ENCODED.csv')"
   ]
  },
  {
   "cell_type": "code",
   "execution_count": 3,
   "metadata": {},
   "outputs": [
    {
     "data": {
      "application/vnd.microsoft.datawrangler.viewer.v0+json": {
       "columns": [
        {
         "name": "index",
         "rawType": "int64",
         "type": "integer"
        },
        {
         "name": "klasifikasi_perkara_encoded",
         "rawType": "int64",
         "type": "integer"
        },
        {
         "name": "penuntut_umum_encoded",
         "rawType": "int64",
         "type": "integer"
        },
        {
         "name": "hakim_encoded",
         "rawType": "int64",
         "type": "integer"
        },
        {
         "name": "jumlah_saksi",
         "rawType": "int64",
         "type": "integer"
        },
        {
         "name": "maks_penjara_berdasarkan_pasal",
         "rawType": "int64",
         "type": "integer"
        },
        {
         "name": "terdakwa",
         "rawType": "object",
         "type": "string"
        },
        {
         "name": "summarized_dakwaan",
         "rawType": "object",
         "type": "string"
        },
        {
         "name": "total_pidana_penjara_bulan",
         "rawType": "float64",
         "type": "float"
        }
       ],
       "ref": "c0790270-bc68-45ff-898f-ab300c9175ba",
       "rows": [
        [
         "0",
         "0",
         "0",
         "0",
         "6",
         "80",
         "GEDE DARMAYASA",
         "Terdakwa Gede Darmayasa didakwa telah melakukan tindak pidana pencurian buah durian di tiga lokasi berbeda di wilayah Kintamani, Kabupaten Bangli, pada bulan Mei 2024. Pada hari Selasa, 21 Mei 2024, sekitar pukul 06.00 hingga 06.30 WITA, terdakwa mencuri sebanyak 37 buah durian dari kebun milik I Wayan Sukerena, SE dan 27 buah durian dari kebun milik I Nyoman Susila. Durian-durian tersebut kemudian dijual sebagian kepada saksi Komang Ayu Anggreni dengan harga Rp4.316.000 dan sisanya dibawa pulang. Selanjutnya, pada hari Kamis, 23 Mei 2024, terdakwa menjual lagi 40 buah durian kepada Komang Sujana, di mana 24 di antaranya merupakan hasil pencurian. Kemudian pada hari Sabtu, 25 Mei 2024, sekitar pukul 06.00 WITA, terdakwa kembali melakukan pencurian sebanyak 20 buah durian dari kebun milik I Ketut Tindih dan menjual 15 buah di antaranya seharga Rp1.485.000. Total durian yang dicuri terdakwa berjumlah 67 buah tanpa seizin pemiliknya, dengan maksud untuk dimiliki secara melawan hukum dan hasil penjualannya digunakan untuk kebutuhan sehari-hari. Akibat perbuatan terdakwa, I Wayan Sukerena mengalami kerugian sebesar Rp3.330.000, I Ketut Tindih sebesar Rp3.500.000, dan I Nyoman Susila sebesar Rp2.000.000. Perbuatan terdakwa diancam pidana berdasarkan Pasal 362 KUHP jo. Pasal 65 Ayat (1) KUHP.",
         "5.0"
        ],
        [
         "1",
         "1",
         "1",
         "1",
         "4",
         "48",
         "IDA BAGUS MADE DARMA WIGUNA",
         "Pada bulan Februari dan Maret 2024, terdakwa Ida Bagus Made Darma Wiguna alias Gus Manik didakwa melakukan tindak pidana penggelapan secara berlanjut terhadap saksi korban Ni Wayan Anik Artini. Berawal dari perkenalan melalui media sosial TikTok pada Desember 2023, terdakwa dan korban menjalin hubungan hingga pada 13 Februari 2024 korban menyerahkan perhiasan kalung emas 21 karat seberat 24,55 gram untuk disimpan di rumah terdakwa. Pada 17 Februari 2024, terdakwa meminjam kalung tersebut untuk digadaikan dengan janji akan menebusnya dalam dua hari. Kalung itu kemudian digadaikan di Kantor Pegadaian Bangli seharga Rp 8.000.000. Namun, tanpa seizin korban, pada 21 Februari 2024 terdakwa kembali ke Pegadaian dan menambah nilai gadai menjadi Rp 19.600.000, menerima pencairan tambahan sebesar Rp 11.397.000, yang seluruhnya digunakan untuk keperluan pribadi. Kemudian, pada 10 Maret 2024, terdakwa meminjam ponsel Samsung Galaxy A04E milik korban dengan alasan untuk komunikasi, namun ponsel tersebut dijual seharga Rp 600.000 dan hasilnya juga dipakai untuk kebutuhan sehari-hari. Meskipun korban telah beberapa kali meminta barang-barangnya dikembalikan, terdakwa selalu mengelak dengan berbagai alasan. Akibat perbuatan terdakwa, korban mengalami kerugian sebesar Rp 26.000.000. Perbuatan Terdakwa didakwa dengan dakwaan primair Pasal 372 jo. 64 Ayat (1) KUHP, dan dakwaan subsidair Pasal 378 jo. 64 Ayat (1) KUHP.",
         "24.0"
        ],
        [
         "2",
         "0",
         "0",
         "2",
         "6",
         "84",
         "HANDRI JOHANAS",
         "Terdakwa Handri Johanes pada Rabu, 24 April 2024 sekitar pukul 03.00 WITA di sebuah kamar di Puri Kanginan, Lingkungan Banjar Puri Kanginan No. 2 Bangli, telah melakukan pencurian satu unit handphone OPPO A53 warna hitam milik I Nengah Sukadana. Kejadian bermula ketika terdakwa yang sebelumnya pernah bekerja di mebel milik Gung Aji Kartika dan terbiasa keluar masuk area puri, datang mencari temannya yang dahulu tinggal di sana. Setelah tidak menemukan temannya dan hendak pulang, terdakwa melihat sebuah handphone sedang diisi daya dalam kamar yang pintunya sedikit terbuka. Ia kemudian mengambil handphone tersebut dengan memasukkan tangan melalui celah pintu. Setelah sampai di bengkel tempat tinggalnya, terdakwa mengetahui bahwa handphone tersebut terkunci, lalu beberapa hari kemudian menjualnya kepada seseorang bernama Denny Firmansyah di Klungkung seharga Rp300.000. Uang hasil penjualan itu kemudian ia kirim ke anaknya di Lombok. Akibat perbuatan tersebut, saksi I Nengah Sukadana mengalami kerugian sebesar Rp3.999.000. Perbuatan terdakwa diancam pidana berdasarkan Pasal 363 Ayat (1) ke-3 KUHP.",
         "4.0"
        ],
        [
         "3",
         "2",
         "2",
         "1",
         "2",
         "144",
         "I GEDE ARIADI alias BERNAD",
         "Pada hari Minggu, 14 April 2024 sekitar pukul 16.35 WITA, terdakwa I Gede Ariadi alias Bernad ditangkap di Jl. Brigjen Ngurah Rai, Kelurahan Kawan, Bangli oleh tim Opsnal Satresnarkoba Polres Bangli karena kedapatan membawa narkotika jenis sabu. Kronologi bermula pada 9 April 2024 saat terdakwa berkenalan dengan seseorang bernama Kadek (DPO) melalui Facebook, lalu berkomunikasi intens melalui WhatsApp dan sepakat untuk menggunakan sabu bersama. Pada 14 April 2024 pagi, terdakwa diberi tahu oleh Mang Donal (DPO) bahwa sabu sudah tersedia dan ditempel di bawah tiang listrik di daerah Bendul, Klungkung. Terdakwa mengambil sabu yang dibungkus dalam tabung micro tube dan menyimpannya di tas selempang. Sore harinya, terdakwa berangkat menuju Bangli sesuai petunjuk lokasi dari Kadek. Setibanya di lokasi, terdakwa diamankan polisi dan saat digeledah ditemukan satu plastik klip berisi kristal sabu seberat 0,20 gram netto beserta barang bukti lainnya seperti handphone dan sepeda motor. Berdasarkan hasil uji laboratorium, kristal tersebut positif mengandung Metamfetamina yang tergolong Narkotika Golongan I. Terdakwa tidak memiliki izin dari Menteri Kesehatan atau instansi terkait untuk memiliki narkotika tersebut. Perbuatan Terdakwa didakwa dengan dakwaan primair Pasal 112 Ayat (1) UU RI No. 35 Tahun 2009 tentang Narkotika, dan dakwaan subsidair Pasal 127 Ayat (1) huruf a Undang-Undang RI No. 35 Tahun 2009 Tentang Narkotika.",
         "14.0"
        ],
        [
         "4",
         "2",
         "3",
         "1",
         "2",
         "144",
         "I GEDE ARIADI alias BERNAD",
         "Pada hari Minggu, 14 April 2024 sekitar pukul 16.35 WITA, terdakwa I Gede Ariadi alias Bernad ditangkap di Jl. Brigjen Ngurah Rai, Kelurahan Kawan, Bangli oleh tim Opsnal Satresnarkoba Polres Bangli karena kedapatan membawa narkotika jenis sabu. Kronologi bermula pada 9 April 2024 saat terdakwa berkenalan dengan seseorang bernama Kadek (DPO) melalui Facebook, lalu berkomunikasi intens melalui WhatsApp dan sepakat untuk menggunakan sabu bersama. Pada 14 April 2024 pagi, terdakwa diberi tahu oleh Mang Donal (DPO) bahwa sabu sudah tersedia dan ditempel di bawah tiang listrik di daerah Bendul, Klungkung. Terdakwa mengambil sabu yang dibungkus dalam tabung micro tube dan menyimpannya di tas selempang. Sore harinya, terdakwa berangkat menuju Bangli sesuai petunjuk lokasi dari Kadek. Setibanya di lokasi, terdakwa diamankan polisi dan saat digeledah ditemukan satu plastik klip berisi kristal sabu seberat 0,20 gram netto beserta barang bukti lainnya seperti handphone dan sepeda motor. Berdasarkan hasil uji laboratorium, kristal tersebut positif mengandung Metamfetamina yang tergolong Narkotika Golongan I. Terdakwa tidak memiliki izin dari Menteri Kesehatan atau instansi terkait untuk memiliki narkotika tersebut. Perbuatan Terdakwa didakwa dengan dakwaan primair Pasal 112 Ayat (1) UU RI No. 35 Tahun 2009 tentang Narkotika, dan dakwaan subsidair Pasal 127 Ayat (1) huruf a Undang-Undang RI No. 35 Tahun 2009 Tentang Narkotika.",
         "14.0"
        ],
        [
         "5",
         "0",
         "4",
         "1",
         "4",
         "60",
         "R. Sabirin",
         "Pada hari Selasa, 26 Maret 2024 sekitar pukul 17.10 WITA, bertempat di pinggir Jalan Raya Kintamani, Desa Kintamani, Kecamatan Kintamani, Kabupaten Bangli, Terdakwa melakukan pencurian dengan mengambil satu unit sepeda motor Honda Scoopy warna merah hitam DK 6384 PQ, yang sebagian atau seluruhnya milik orang lain, dengan maksud untuk dimiliki secara melawan hukum. Sebelumnya, pada 25 Maret 2024 pukul 13.00 WITA, Terdakwa berangkat dari Panarukan, Singaraja menuju Terminal Ubung Denpasar dengan menumpang truk, dengan tujuan mencuri sepeda motor. Tiba di Terminal Ubung sekitar pukul 14.30 WITA, Terdakwa menginap semalam karena hujan deras. Esok harinya, Terdakwa dijemput oleh temannya, WAHYU EKA JAYA (DPO), yang datang mengendarai sepeda motor Yamaha Vixion warna hitam. Mereka lalu pergi ke Kintamani untuk jalan-jalan. Sekitar pukul 17.10 WITA, mereka melihat sebuah motor Honda Scoopy terparkir di pinggir jalan dengan kunci masih tergantung. Setelah WAHYU EKA JAYA pergi meninggalkannya, Terdakwa mendekati motor tersebut, lalu mendorongnya sejauh sekitar 10 meter sebelum akhirnya menyalakan mesin dan melarikan diri menuju Denpasar melalui Payangan, Gianyar. Di daerah Ubud, Terdakwa dihentikan oleh seorang petugas Polsek Kintamani bernama I Gede Dipta Wirama Darma dan tidak dapat menunjukkan STNK kendaraan. Terdakwa kemudian diamankan beserta barang bukti ke Polsek Kintamani. Akibat perbuatan tersebut, korban, Ni Wayan Srimertanadi, mengalami kerugian sekitar Rp20.000.000\\. Perbuatan Terdakwa diatur dan diancam pidana dalam Pasal 362 KUHP.",
         "14.0"
        ],
        [
         "6",
         "2",
         "4",
         "1",
         "4",
         "144",
         "NOVANI ARI HIFNI Alias ARI",
         "Pada Minggu, 17 Maret 2024 sekitar pukul 18.10 WITA, terdakwa Novani Ari Hifni alias Ari ditangkap di pinggir Jalan Merdeka, Tamanbali, Bangli oleh petugas Satresnarkoba Polres Bangli karena kedapatan membawa narkotika jenis sabu. Sebelumnya, terdakwa menghubungi rekannya bernama Wewe (DPO) melalui Facebook untuk mencari sabu, kemudian diarahkan untuk menghubungi Rizal (DPO). Rizal menyanggupi permintaan terdakwa dengan sistem hutang dan mengirimkan lokasi pengambilan barang di Bangli. Terdakwa lalu mengajak temannya, saksi K. M. Sahrijal Jabar, untuk mengantarkan ke lokasi dengan imbalan uang. Setelah mengambil sabu yang disembunyikan di dekat tembok dengan berpura-pura buang air kecil, terdakwa melanjutkan perjalanan, namun akhirnya dihentikan dan diamankan oleh petugas. Saat digeledah, ditemukan satu plastik berisi sabu dalam botol Yakult serta peralatan hisap lainnya di dalam tas terdakwa, sementara pada saksi Sahrijal tidak ditemukan barang terlarang. Hasil pemeriksaan laboratorium terhadap kristal bening dan urine terdakwa menunjukkan keduanya positif mengandung metamfetamina, yang tergolong Narkotika Golongan I. Perbuatan Terdakwa didakwa dengan dakwaan primair Pasal 112 Ayat (1) Undang-Undang RI No. 35 Tahun 2009 tentang Narkotika, dan dakwaan subsidair Pasal 127 Ayat (1) huruf a Undang-Undang RI No. 35 Tahun 2009 tentang Narkotika.",
         "24.0"
        ],
        [
         "7",
         "2",
         "5",
         "1",
         "4",
         "144",
         "NOVANI ARI HIFNI Alias ARI",
         "Pada Minggu, 17 Maret 2024 sekitar pukul 18.10 WITA, terdakwa Novani Ari Hifni alias Ari ditangkap di pinggir Jalan Merdeka, Tamanbali, Bangli oleh petugas Satresnarkoba Polres Bangli karena kedapatan membawa narkotika jenis sabu. Sebelumnya, terdakwa menghubungi rekannya bernama Wewe (DPO) melalui Facebook untuk mencari sabu, kemudian diarahkan untuk menghubungi Rizal (DPO). Rizal menyanggupi permintaan terdakwa dengan sistem hutang dan mengirimkan lokasi pengambilan barang di Bangli. Terdakwa lalu mengajak temannya, saksi K. M. Sahrijal Jabar, untuk mengantarkan ke lokasi dengan imbalan uang. Setelah mengambil sabu yang disembunyikan di dekat tembok dengan berpura-pura buang air kecil, terdakwa melanjutkan perjalanan, namun akhirnya dihentikan dan diamankan oleh petugas. Saat digeledah, ditemukan satu plastik berisi sabu dalam botol Yakult serta peralatan hisap lainnya di dalam tas terdakwa, sementara pada saksi Sahrijal tidak ditemukan barang terlarang. Hasil pemeriksaan laboratorium terhadap kristal bening dan urine terdakwa menunjukkan keduanya positif mengandung metamfetamina, yang tergolong Narkotika Golongan I. Perbuatan Terdakwa didakwa dengan dakwaan primair Pasal 112 Ayat (1) Undang-Undang RI No. 35 Tahun 2009 tentang Narkotika, dan dakwaan subsidair Pasal 127 Ayat (1) huruf a Undang-Undang RI No. 35 Tahun 2009 tentang Narkotika.",
         "24.0"
        ],
        [
         "8",
         "2",
         "6",
         "1",
         "4",
         "240",
         "MULYADI alias MUL",
         "Pada Selasa, 9 Januari 2024 sekitar pukul 17.30 WITA di Jalan Bima, Kelurahan Cempaga, Bangli, terdakwa Mulyadi alias Mul ditangkap karena tanpa hak menawarkan dan membawa narkotika jenis sabu. Sebelumnya, terdakwa dihubungi oleh rekannya, Kadek (DPO), untuk mengantarkan sabu ke Bangli. Setelah bertemu dengan kurir Kadek di Lapangan Lumintang, Denpasar, terdakwa menerima sabu dalam amplop putih, sempat mencicipinya, dan menyimpannya di dashboard mobil lalu berpindah ke tas pinggang. Sekitar pukul 15.00 WITA, terdakwa berangkat ke Bangli dan tiba di lokasi yang diarahkan Kadek. Saat tiba di kos-kosan milik kakak Kadek, terdakwa diamankan oleh polisi. Dalam penggeledahan, ditemukan sabu, alat isap, korek api modifikasi, dan barang bukti lainnya. Berdasarkan hasil laboratorium, kristal yang disita terbukti mengandung metamfetamina yang termasuk Narkotika Golongan I, sedangkan urine terdakwa tidak mengandung narkotika. Perbuatan Terdakwa didakwa dengan dakwaan primair Pasal 114 Ayat (1) UU RI No. 35 Tahun 2009 tentang Narkotika, dan dakwaan subsidair Pasal 112 Ayat (1) UU RI No. 35 tahun 2009 tentang Narkotika.",
         "51.0"
        ],
        [
         "9",
         "0",
         "7",
         "1",
         "6",
         "80",
         "I WAYAN ARTAYASA",
         "Terdakwa I Wayan Artayasa didakwa telah melakukan serangkaian pencurian secara berulang di Pasar Kidul Bangli, dengan sasaran utama dagangan milik ibunya sendiri, Ni Nyoman Suwini, serta milik pedagang lain seperti Ni Luh Utari dan Ni Ketut Suci. Perbuatan tersebut dilakukan sejak Desember 2023 hingga Februari 2024, pada dini hari antara pukul 03.00 hingga 04.00 WITA. Modus operandi yang digunakan adalah dengan masuk ke pasar melalui celah jeruji besi, membuka terpal dagangan, dan mengambil berbagai bahan pokok seperti kemiri, kacang tanah, gula merah, kacang hijau, dan beras. Barang-barang hasil curian tersebut kemudian dijual oleh terdakwa di Pasar Kidul Bangli dan Pasar Singamandawa Kintamani untuk memenuhi kebutuhan sehari-hari. Perbuatan terdakwa dilakukan tanpa seizin atau sepengetahuan para pemilik barang, dan telah menyebabkan kerugian bagi para korban. Berdasarkan perbuatannya tersebut, terdakwa didakwa dengan Pasal 362 KUHP jo. Pasal 65 Ayat (1) KUHP pada dakwaan primair dan Pasal 367 Ayat (2) KUHP jo. Pasal 65 Ayat (1) KUHP untuk dakwaan subsidair.",
         "12.0"
        ],
        [
         "10",
         "0",
         "4",
         "3",
         "4",
         "60",
         "RURY HERAWATI",
         "Terdakwa Rury Herawati pada tanggal 20 November 2023 sekitar pukul 15.15 WITA telah melakukan pencurian di Toko Ari Kebaya, Jalan Nusantara, Bangli. Terdakwa datang dari Denpasar dengan niat mencuri dan setelah mencari toko yang sepi, ia berpura-pura sebagai pembeli. Saat penjaga toko sedang membelakangi untuk mencarikan sandal, Terdakwa membuka lemari yang tidak terkunci dan mengambil tas kain berisi dua dompet dengan total uang Rp16.500.000,- milik saksi Ni Nengah Ngariasi. Setelah mengambil tas, Terdakwa berpura-pura hendak mengambil uang di ATM dan langsung pergi meninggalkan dua selendang yang sudah dibayar. Uang hasil pencurian digunakan untuk membeli berbagai barang seperti HP, emas, pakaian, serta kebutuhan sehari-hari. Sisa uang yang dicuri masih tersisa sebesar Rp5.778.000. Berdasarkan laporan polisi dan penyelidikan, Terdakwa mengakui perbuatannya dan kini telah diamankan bersama barang bukti untuk proses hukum lebih lanjut. Perbuatannya diancam pidana sesuai Pasal 362 KUHP.",
         "16.0"
        ],
        [
         "11",
         "3",
         "7",
         "1",
         "8",
         "48",
         "I KETUT SUPUTRA",
         "Bahwa para Terdakwa, yakni Terdakwa I Ketut Suputra dan Terdakwa II Ni Komang Warsiki, dalam kurun waktu antara bulan Mei 2019 sampai dengan Oktober 2020, bertempat di gudang milik para Terdakwa yang beralamat di Jalan Soekarno, Banjar Dukuh, Desa Bunutin, Kecamatan Bangli, Kabupaten Bangli, telah melakukan perbuatan melawan hukum dengan cara menguasai secara melawan hak barang titipan milik PT. Putra Dewata Sejati. Awalnya, Terdakwa I menjalin kerja sama usaha penjualan produk minuman bermerek Aqua dengan PT. Putra Dewata Sejati di bawah nama usaha UD. Sari Merta berdasarkan Surat Kesepakatan Nomor 002/SP/PDS-BALI/IV/2019 tanggal 6 April 2019. Dalam pelaksanaan kerja sama tersebut, PT. Putra Dewata Sejati menyerahkan sejumlah barang titipan kepada UD. Sari Merta untuk dijual kembali, dengan ketentuan bahwa harga pokok barang harus disetorkan kembali kepada PT. Putra Dewata Sejati setelah barang terjual, sedangkan selisih harga jual menjadi keuntungan bagi UD. Sari Merta. Dalam pelaksanaan usahanya, Terdakwa I selaku penanggung jawab operasional dan Terdakwa II sebagai bagian administrasi bertugas mengelola penjualan, keuangan, dan pembayaran kepada pihak supplier. Akan tetapi, sejak bulan Mei 2019, para Terdakwa mulai tidak menyetorkan secara penuh hasil penjualan barang, dan sejak bulan Oktober 2020 tidak lagi melakukan penyetoran sama sekali, padahal seluruh barang titipan telah terjual. Uang hasil penjualan tersebut justru digunakan oleh para Terdakwa untuk membayar gaji karyawan, menutupi biaya operasional, serta memenuhi kebutuhan hidup pribadi, tanpa seizin atau sepengetahuan PT. Putra Dewata Sejati. Perbuatan para Terdakwa tersebut telah mengakibatkan kerugian keuangan bagi PT. Putra Dewata Sejati sebesar Rp413.883.979,- (empat ratus tiga belas juta delapan ratus delapan puluh tiga ribu sembilan ratus tujuh puluh sembilan rupiah). Perbuatan tersebut dilakukan secara bersama-sama dan berlanjut, serta diatur dan diancam pidana dalam Pasal 372 KUHP jo. Pasal 55 Ayat (1) ke-1 KUHP jo. Pasal 64 Ayat (1) KUHP.",
         "18.0"
        ],
        [
         "12",
         "3",
         "5",
         "1",
         "8",
         "48",
         "I KETUT SUPUTRA",
         "Bahwa para Terdakwa, yakni Terdakwa I Ketut Suputra dan Terdakwa II Ni Komang Warsiki, dalam kurun waktu antara bulan Mei 2019 sampai dengan Oktober 2020, bertempat di gudang milik para Terdakwa yang beralamat di Jalan Soekarno, Banjar Dukuh, Desa Bunutin, Kecamatan Bangli, Kabupaten Bangli, telah melakukan perbuatan melawan hukum dengan cara menguasai secara melawan hak barang titipan milik PT. Putra Dewata Sejati. Awalnya, Terdakwa I menjalin kerja sama usaha penjualan produk minuman bermerek Aqua dengan PT. Putra Dewata Sejati di bawah nama usaha UD. Sari Merta berdasarkan Surat Kesepakatan Nomor 002/SP/PDS-BALI/IV/2019 tanggal 6 April 2019. Dalam pelaksanaan kerja sama tersebut, PT. Putra Dewata Sejati menyerahkan sejumlah barang titipan kepada UD. Sari Merta untuk dijual kembali, dengan ketentuan bahwa harga pokok barang harus disetorkan kembali kepada PT. Putra Dewata Sejati setelah barang terjual, sedangkan selisih harga jual menjadi keuntungan bagi UD. Sari Merta. Dalam pelaksanaan usahanya, Terdakwa I selaku penanggung jawab operasional dan Terdakwa II sebagai bagian administrasi bertugas mengelola penjualan, keuangan, dan pembayaran kepada pihak supplier. Akan tetapi, sejak bulan Mei 2019, para Terdakwa mulai tidak menyetorkan secara penuh hasil penjualan barang, dan sejak bulan Oktober 2020 tidak lagi melakukan penyetoran sama sekali, padahal seluruh barang titipan telah terjual. Uang hasil penjualan tersebut justru digunakan oleh para Terdakwa untuk membayar gaji karyawan, menutupi biaya operasional, serta memenuhi kebutuhan hidup pribadi, tanpa seizin atau sepengetahuan PT. Putra Dewata Sejati. Perbuatan para Terdakwa tersebut telah mengakibatkan kerugian keuangan bagi PT. Putra Dewata Sejati sebesar Rp413.883.979,- (empat ratus tiga belas juta delapan ratus delapan puluh tiga ribu sembilan ratus tujuh puluh sembilan rupiah). Perbuatan tersebut dilakukan secara bersama-sama dan berlanjut, serta diatur dan diancam pidana dalam Pasal 372 KUHP jo. Pasal 55 Ayat (1) ke-1 KUHP jo. Pasal 64 Ayat (1) KUHP.",
         "18.0"
        ],
        [
         "13",
         "3",
         "7",
         "1",
         "8",
         "48",
         "NI KOMANG WARSIKI",
         "Bahwa para Terdakwa, yakni Terdakwa I Ketut Suputra dan Terdakwa II Ni Komang Warsiki, dalam kurun waktu antara bulan Mei 2019 sampai dengan Oktober 2020, bertempat di gudang milik para Terdakwa yang beralamat di Jalan Soekarno, Banjar Dukuh, Desa Bunutin, Kecamatan Bangli, Kabupaten Bangli, telah melakukan perbuatan melawan hukum dengan cara menguasai secara melawan hak barang titipan milik PT. Putra Dewata Sejati. Awalnya, Terdakwa I menjalin kerja sama usaha penjualan produk minuman bermerek Aqua dengan PT. Putra Dewata Sejati di bawah nama usaha UD. Sari Merta berdasarkan Surat Kesepakatan Nomor 002/SP/PDS-BALI/IV/2019 tanggal 6 April 2019. Dalam pelaksanaan kerja sama tersebut, PT. Putra Dewata Sejati menyerahkan sejumlah barang titipan kepada UD. Sari Merta untuk dijual kembali, dengan ketentuan bahwa harga pokok barang harus disetorkan kembali kepada PT. Putra Dewata Sejati setelah barang terjual, sedangkan selisih harga jual menjadi keuntungan bagi UD. Sari Merta. Dalam pelaksanaan usahanya, Terdakwa I selaku penanggung jawab operasional dan Terdakwa II sebagai bagian administrasi bertugas mengelola penjualan, keuangan, dan pembayaran kepada pihak supplier. Akan tetapi, sejak bulan Mei 2019, para Terdakwa mulai tidak menyetorkan secara penuh hasil penjualan barang, dan sejak bulan Oktober 2020 tidak lagi melakukan penyetoran sama sekali, padahal seluruh barang titipan telah terjual. Uang hasil penjualan tersebut justru digunakan oleh para Terdakwa untuk membayar gaji karyawan, menutupi biaya operasional, serta memenuhi kebutuhan hidup pribadi, tanpa seizin atau sepengetahuan PT. Putra Dewata Sejati. Perbuatan para Terdakwa tersebut telah mengakibatkan kerugian keuangan bagi PT. Putra Dewata Sejati sebesar Rp413.883.979,- (empat ratus tiga belas juta delapan ratus delapan puluh tiga ribu sembilan ratus tujuh puluh sembilan rupiah). Perbuatan tersebut dilakukan secara bersama-sama dan berlanjut, serta diatur dan diancam pidana dalam Pasal 372 KUHP jo. Pasal 55 Ayat (1) ke-1 KUHP jo. Pasal 64 Ayat (1) KUHP.",
         "10.0"
        ],
        [
         "14",
         "3",
         "5",
         "1",
         "8",
         "48",
         "NI KOMANG WARSIKI",
         "Bahwa para Terdakwa, yakni Terdakwa I Ketut Suputra dan Terdakwa II Ni Komang Warsiki, dalam kurun waktu antara bulan Mei 2019 sampai dengan Oktober 2020, bertempat di gudang milik para Terdakwa yang beralamat di Jalan Soekarno, Banjar Dukuh, Desa Bunutin, Kecamatan Bangli, Kabupaten Bangli, telah melakukan perbuatan melawan hukum dengan cara menguasai secara melawan hak barang titipan milik PT. Putra Dewata Sejati. Awalnya, Terdakwa I menjalin kerja sama usaha penjualan produk minuman bermerek Aqua dengan PT. Putra Dewata Sejati di bawah nama usaha UD. Sari Merta berdasarkan Surat Kesepakatan Nomor 002/SP/PDS-BALI/IV/2019 tanggal 6 April 2019. Dalam pelaksanaan kerja sama tersebut, PT. Putra Dewata Sejati menyerahkan sejumlah barang titipan kepada UD. Sari Merta untuk dijual kembali, dengan ketentuan bahwa harga pokok barang harus disetorkan kembali kepada PT. Putra Dewata Sejati setelah barang terjual, sedangkan selisih harga jual menjadi keuntungan bagi UD. Sari Merta. Dalam pelaksanaan usahanya, Terdakwa I selaku penanggung jawab operasional dan Terdakwa II sebagai bagian administrasi bertugas mengelola penjualan, keuangan, dan pembayaran kepada pihak supplier. Akan tetapi, sejak bulan Mei 2019, para Terdakwa mulai tidak menyetorkan secara penuh hasil penjualan barang, dan sejak bulan Oktober 2020 tidak lagi melakukan penyetoran sama sekali, padahal seluruh barang titipan telah terjual. Uang hasil penjualan tersebut justru digunakan oleh para Terdakwa untuk membayar gaji karyawan, menutupi biaya operasional, serta memenuhi kebutuhan hidup pribadi, tanpa seizin atau sepengetahuan PT. Putra Dewata Sejati. Perbuatan para Terdakwa tersebut telah mengakibatkan kerugian keuangan bagi PT. Putra Dewata Sejati sebesar Rp413.883.979,- (empat ratus tiga belas juta delapan ratus delapan puluh tiga ribu sembilan ratus tujuh puluh sembilan rupiah). Perbuatan tersebut dilakukan secara bersama-sama dan berlanjut, serta diatur dan diancam pidana dalam Pasal 372 KUHP jo. Pasal 55 Ayat (1) ke-1 KUHP jo. Pasal 64 Ayat (1) KUHP.",
         "10.0"
        ],
        [
         "15",
         "0",
         "8",
         "0",
         "6",
         "144",
         "I KETUT JONI ADNYANA ADI PUTRA",
         "Terdakwa I Ketut Joni Adnyana Adi Putra dan Terdakwa II Rosita Evayanti Dewi melakukan pencurian sepeda motor di dua lokasi berbeda di wilayah Kintamani, Bangli. Aksi pertama dilakukan pada 10 September 2023 sekitar pukul 01.00 WITA di parkiran Sukawana Sunrise, di mana Terdakwa I mengambil sepeda motor Yamaha NMAX DK 3498 PT milik saksi Made Yusa Paramartha dengan cara mendorong motor yang tidak terkunci dan menyalakan mesin menggunakan alat-alat seperti obeng, tang, dan kunci L. Motor hasil curian ini digunakan untuk keperluan sehari-hari. Aksi kedua dilakukan pada 1 Oktober 2023 sekitar pukul 02.00 WITA di parkiran Le Monte Sunrise. Dengan menggunakan mobil sewaan, kedua terdakwa kembali ke Kintamani dan Terdakwa I mencuri motor Yamaha NMAX DK 6992 LB milik I Kadek Indrawan dengan modus serupa. Sepeda motor tersebut kemudian dijual secara daring seharga Rp5.300.000. Akibat perbuatan kedua terdakwa, saksi Made Yusa Paramartha mengalami kerugian sebesar Rp25.500.000,- dan saksi I Kadek Indrawan mengalami kerugian sebesar Rp26.700.000,-. Perbuatan para terdakwa diancam pidana berdasarkan Pasal 363 Ayat (1) ke-4 KUHP jo. Pasal 65 Ayat (1) KUHP.",
         "16.0"
        ],
        [
         "16",
         "0",
         "9",
         "0",
         "6",
         "144",
         "I KETUT JONI ADNYANA ADI PUTRA",
         "Terdakwa I Ketut Joni Adnyana Adi Putra dan Terdakwa II Rosita Evayanti Dewi melakukan pencurian sepeda motor di dua lokasi berbeda di wilayah Kintamani, Bangli. Aksi pertama dilakukan pada 10 September 2023 sekitar pukul 01.00 WITA di parkiran Sukawana Sunrise, di mana Terdakwa I mengambil sepeda motor Yamaha NMAX DK 3498 PT milik saksi Made Yusa Paramartha dengan cara mendorong motor yang tidak terkunci dan menyalakan mesin menggunakan alat-alat seperti obeng, tang, dan kunci L. Motor hasil curian ini digunakan untuk keperluan sehari-hari. Aksi kedua dilakukan pada 1 Oktober 2023 sekitar pukul 02.00 WITA di parkiran Le Monte Sunrise. Dengan menggunakan mobil sewaan, kedua terdakwa kembali ke Kintamani dan Terdakwa I mencuri motor Yamaha NMAX DK 6992 LB milik I Kadek Indrawan dengan modus serupa. Sepeda motor tersebut kemudian dijual secara daring seharga Rp5.300.000. Akibat perbuatan kedua terdakwa, saksi Made Yusa Paramartha mengalami kerugian sebesar Rp25.500.000,- dan saksi I Kadek Indrawan mengalami kerugian sebesar Rp26.700.000,-. Perbuatan para terdakwa diancam pidana berdasarkan Pasal 363 Ayat (1) ke-4 KUHP jo. Pasal 65 Ayat (1) KUHP.",
         "16.0"
        ],
        [
         "17",
         "0",
         "8",
         "0",
         "6",
         "144",
         "ROSITA EVAYANTI DEWI",
         "Terdakwa I Ketut Joni Adnyana Adi Putra dan Terdakwa II Rosita Evayanti Dewi melakukan pencurian sepeda motor di dua lokasi berbeda di wilayah Kintamani, Bangli. Aksi pertama dilakukan pada 10 September 2023 sekitar pukul 01.00 WITA di parkiran Sukawana Sunrise, di mana Terdakwa I mengambil sepeda motor Yamaha NMAX DK 3498 PT milik saksi Made Yusa Paramartha dengan cara mendorong motor yang tidak terkunci dan menyalakan mesin menggunakan alat-alat seperti obeng, tang, dan kunci L. Motor hasil curian ini digunakan untuk keperluan sehari-hari. Aksi kedua dilakukan pada 1 Oktober 2023 sekitar pukul 02.00 WITA di parkiran Le Monte Sunrise. Dengan menggunakan mobil sewaan, kedua terdakwa kembali ke Kintamani dan Terdakwa I mencuri motor Yamaha NMAX DK 6992 LB milik I Kadek Indrawan dengan modus serupa. Sepeda motor tersebut kemudian dijual secara daring seharga Rp5.300.000. Akibat perbuatan kedua terdakwa, saksi Made Yusa Paramartha mengalami kerugian sebesar Rp25.500.000,- dan saksi I Kadek Indrawan mengalami kerugian sebesar Rp26.700.000,-. Perbuatan para terdakwa diancam pidana berdasarkan Pasal 363 Ayat (1) ke-4 KUHP jo. Pasal 65 Ayat (1) KUHP.",
         "14.0"
        ],
        [
         "18",
         "0",
         "9",
         "0",
         "6",
         "144",
         "ROSITA EVAYANTI DEWI",
         "Terdakwa I Ketut Joni Adnyana Adi Putra dan Terdakwa II Rosita Evayanti Dewi melakukan pencurian sepeda motor di dua lokasi berbeda di wilayah Kintamani, Bangli. Aksi pertama dilakukan pada 10 September 2023 sekitar pukul 01.00 WITA di parkiran Sukawana Sunrise, di mana Terdakwa I mengambil sepeda motor Yamaha NMAX DK 3498 PT milik saksi Made Yusa Paramartha dengan cara mendorong motor yang tidak terkunci dan menyalakan mesin menggunakan alat-alat seperti obeng, tang, dan kunci L. Motor hasil curian ini digunakan untuk keperluan sehari-hari. Aksi kedua dilakukan pada 1 Oktober 2023 sekitar pukul 02.00 WITA di parkiran Le Monte Sunrise. Dengan menggunakan mobil sewaan, kedua terdakwa kembali ke Kintamani dan Terdakwa I mencuri motor Yamaha NMAX DK 6992 LB milik I Kadek Indrawan dengan modus serupa. Sepeda motor tersebut kemudian dijual secara daring seharga Rp5.300.000. Akibat perbuatan kedua terdakwa, saksi Made Yusa Paramartha mengalami kerugian sebesar Rp25.500.000,- dan saksi I Kadek Indrawan mengalami kerugian sebesar Rp26.700.000,-. Perbuatan para terdakwa diancam pidana berdasarkan Pasal 363 Ayat (1) ke-4 KUHP jo. Pasal 65 Ayat (1) KUHP.",
         "14.0"
        ],
        [
         "19",
         "0",
         "1",
         "0",
         "4",
         "60",
         "I NYOMAN BUDIAWAN Als. SUMAWAN",
         "Pada hari Rabu, 25 Oktober 2023 sekitar pukul 13.00 WITA, terdakwa I Nyoman Budiawan alias Sumawan melakukan pencurian kartu ATM BRI milik saksi Luh Putu Widiantari di Toko UD. Langsung Jaya, Jalan Raya Kintamani, Desa Kintamani, Kecamatan Kintamani, Kabupaten Bangli. Awalnya, terdakwa datang ke toko tersebut untuk mentransfer uang, namun saat mengetahui mesin BRI Link rusak dan pegawai toko pergi, terdakwa memanfaatkan situasi sepi untuk mengambil kartu ATM yang berada di atas meja kasir. Terdakwa kemudian pulang ke rumahnya dan menggunakan kartu ATM tersebut di mesin ATM BRI Toya Devasya, dengan memasukkan PIN 020202 yang telah ia ketahui sebelumnya karena sering melihat pegawai toko menggunakannya. Terdakwa melakukan penarikan tunai sebanyak empat kali dengan total Rp10.000.000. Setelah menerima laporan dari korban, pihak kepolisian melakukan olah TKP dan berhasil mengamankan terdakwa di rumahnya pada 28 Oktober 2023. Akibat perbuatannya, korban mengalami kerugian sebesar Rp10.000.000. Perbuatan terdakwa diancam pidana berdasarkan Pasal 362 KUHP.",
         "14.0"
        ],
        [
         "20",
         "0",
         "0",
         "0",
         "4",
         "60",
         "I NYOMAN BUDIAWAN Als. SUMAWAN",
         "Pada hari Rabu, 25 Oktober 2023 sekitar pukul 13.00 WITA, terdakwa I Nyoman Budiawan alias Sumawan melakukan pencurian kartu ATM BRI milik saksi Luh Putu Widiantari di Toko UD. Langsung Jaya, Jalan Raya Kintamani, Desa Kintamani, Kecamatan Kintamani, Kabupaten Bangli. Awalnya, terdakwa datang ke toko tersebut untuk mentransfer uang, namun saat mengetahui mesin BRI Link rusak dan pegawai toko pergi, terdakwa memanfaatkan situasi sepi untuk mengambil kartu ATM yang berada di atas meja kasir. Terdakwa kemudian pulang ke rumahnya dan menggunakan kartu ATM tersebut di mesin ATM BRI Toya Devasya, dengan memasukkan PIN 020202 yang telah ia ketahui sebelumnya karena sering melihat pegawai toko menggunakannya. Terdakwa melakukan penarikan tunai sebanyak empat kali dengan total Rp10.000.000. Setelah menerima laporan dari korban, pihak kepolisian melakukan olah TKP dan berhasil mengamankan terdakwa di rumahnya pada 28 Oktober 2023. Akibat perbuatannya, korban mengalami kerugian sebesar Rp10.000.000. Perbuatan terdakwa diancam pidana berdasarkan Pasal 362 KUHP.",
         "14.0"
        ],
        [
         "21",
         "1",
         "10",
         "0",
         "7",
         "48",
         "DESAK MADE CITRAWATI",
         "Pada bulan April 2023, terdakwa Desak Made Citrawati didakwa melakukan tindak pidana penipuan secara berlanjut terhadap dua korban, yaitu I Putu Sutarga dan Pande Ketut Suarca, dengan total kerugian mencapai lebih dari Rp 391 juta. Modus operandi terdakwa adalah membeli telur dan beras dalam jumlah besar dari kedua korban dengan dalih pembayaran menggunakan cek mundur, disertai pernyataan palsu bahwa ia memiliki aset tanah di Singaraja yang sedang dalam proses penjualan. Terdakwa memesan telur sebanyak 4.435 krei dari I Putu Sutarga senilai total Rp 228.600.000, dan beras sebanyak 14.500 kg dari Pande Ketut Suarca dengan total nilai Rp 162.400.000. Setiap transaksi dilakukan secara bertahap pada tanggal 21, 23, 25, dan 28 April 2023. Terdakwa meyakinkan para korban dengan janji pelunasan dan surat pengakuan utang, namun setelah cek jatuh tempo, tidak ada dana yang tersedia. Pemeriksaan terhadap klaim kepemilikan tanah menunjukkan bahwa terdakwa hanya memberikan uang muka atas tanah tersebut dan belum ada kepastian transaksi. Perbuatan Terdakwa didakwa dengan dakwaan primair Pasal 378 jo. Pasal 64 Ayat (1) ke-1 KUHP, dan dakwaan subsidair 379a KUHP Jo. Pasal 64 Ayat (1) ke-1 KUHP.",
         "30.0"
        ],
        [
         "22",
         "0",
         "11",
         "4",
         "3",
         "108",
         "I KETUT DENA",
         "Pada hari Jumat, 5 Februari 2021 sekitar pukul 19.00 WITA, terdakwa I Ketut Dena bersama Dewa Made Sujana (dalam berkas terpisah) melakukan pencurian satu unit sepeda motor Honda Scoopy warna hitam kombinasi merah dengan nomor polisi DK 5807 PS yang terparkir di depan rumah saksi I Nengah Sumerta di Desa Yangapi, Kecamatan Tembuku, Kabupaten Bangli. Sebelumnya, kedua terdakwa sempat pergi ke beberapa lokasi sabung ayam. Saat melintasi lokasi kejadian, Dewa Made Sujana melihat motor dalam keadaan tidak terkunci dan memerintahkan Ketut Dena untuk berjaga sementara dirinya mengambil sepeda motor tersebut. Setelah berhasil menghidupkan dan membawa motor itu, mereka menyembunyikannya di bawah jembatan di Gianyar. Keesokan harinya, motor tersebut diambil kembali dan diganti plat nomornya menggunakan plat dari motor lain, kemudian dibawa ke rumah Dewa Made Sujana. Sore harinya, Dewa Made Sujana ditangkap karena kasus pencurian handphone dan meminta Ketut Dena mengambil motor tersebut. Karena motor terkunci dan kuncinya masih disimpan Dewa Made Sujana, Ketut Dena memanggil tukang kunci untuk membuat duplikat. Motor curian itu lalu digadaikan oleh Ketut Dena kepada saksi Luh Sriani seharga Rp2.000.000 tanpa dokumen STNK atau BPKB. Korban, I Wayan Miyasa, melaporkan kehilangan tersebut ke Polsek Tembuku. Sekitar seminggu kemudian, Ketut Dena ditangkap atas kasus penadahan, mengakui perbuatannya, dan membantu polisi mencari motor dan kunci aslinya yang ditemukan di tas milik Dewa Made Sujana. Akibat perbuatan tersebut, korban mengalami kerugian sekitar Rp15.000.000. Tindak pidana ini diancam dengan 2 dakwaan yaitu dakwaan primair dengan Pasal 363 ayat (1) ke-4 KUHP serta dakwaan subsidair dengan Pasal 326 KUHP.",
         "12.0"
        ],
        [
         "23",
         "0",
         "11",
         "4",
         "6",
         "84",
         "DEWA MADE SUJANA",
         "Pada hari Jumat, 5 Februari 2021 sekitar pukul 09.30 WITA, Terdakwa Dewa Made Sujana bersama I Ketut Dena (berkas terpisah) pergi ke Nongan, Karangasem untuk menonton sabung ayam dengan mengendarai sepeda motor Honda Scoopy warna coklat hitam. Sekitar pukul 14.30 WITA, mereka mendengar ada sabung ayam di Pulasari, Tembuku, namun karena acara tersebut tidak ada, mereka kembali melewati Banjar Sideparna, Desa Yangapi, Bangli. Di lokasi tersebut, Terdakwa melihat sepeda motor Honda Scoopy warna hitam kombinasi merah yang terparkir dengan kunci masih menggantung, lalu meminta I Ketut Dena berhenti untuk mengawasi sekitar. Setelah merasa aman, Terdakwa menyalakan dan membawa kabur sepeda motor tersebut, sedangkan I Ketut Dena mengikuti dengan motor yang mereka gunakan sebelumnya. Motor hasil curian tersebut disembunyikan di bawah jembatan dekat Pantai Lebih, Gianyar. Keesokan harinya, mereka kembali mengambil motor tersebut dan mengganti plat nomornya dengan yang diambil dari motor lain, kemudian motor dibawa ke rumah Terdakwa di Ubud dan diparkir di garasi. Pada sore harinya, Terdakwa ditangkap oleh Polsek Sukawati atas kasus pencurian handphone. Saat penggeledahan, ditemukan kunci asli motor curian di tas milik Terdakwa yang diserahkan oleh istrinya. Akibat perbuatan tersebut, saksi korban I Wayan Miyasa mengalami kerugian sebesar Rp15.000.000. Perbuatan Terdakwa didakwa dengan dakwaan primair Pasal 363 Ayat (1) ke-4 KUHP, dan dakwaan subsidair Pasal 362 KUHP.",
         "15.0"
        ],
        [
         "24",
         "2",
         "12",
         "4",
         "2",
         "144",
         "I KOMANG RENDI YANA alis RENDI",
         "Pada Selasa, 6 Juni 2023 sekitar pukul 20.10 WITA di Jalan Tirta Geduh, Kelurahan Bebalang, Bangli, terdakwa I Komang Rendi Yana alias Rendi ditangkap karena tanpa hak memiliki dan menyimpan narkotika jenis sabu. Awalnya, terdakwa memesan sabu seharga Rp200.000 kepada seseorang bernama Gus Ucil (DPO), lalu mengambil paket tersebut di bawah pohon mahoni di Jalan Putra Yuda, Bangli, sesuai petunjuk. Setelah dikonsumsi sebagian di rumahnya di Banua, Kintamani, sisa sabu disimpan dalam gantungan handphone yang dibungkus stiker dan diselipkan di jaket. Saat hendak ke alun-alun Bangli, terdakwa diberhentikan oleh polisi dan ditemukan sabu seberat 0,10 gram netto dalam jaketnya. Barang bukti lainnya termasuk bong bekas pakai, handphone, dan sepeda motor juga diamankan. Hasil uji laboratorium menunjukkan sabu mengandung metamfetamina yang tergolong Narkotika Golongan I. Perbuatan Terdakwa didakwa dengan dakwaan primair Pasal 112 Ayat (1) UU RI No. 35 Tahun 2009 tentang Narkotika, dan dakwaan subsidair Pasal 127 Ayat (1) huruf a UU RI No. 35 Tahun 2009 tentang Narkotika.",
         "15.0"
        ],
        [
         "25",
         "2",
         "5",
         "4",
         "2",
         "144",
         "I KOMANG RENDI YANA alis RENDI",
         "Pada Selasa, 6 Juni 2023 sekitar pukul 20.10 WITA di Jalan Tirta Geduh, Kelurahan Bebalang, Bangli, terdakwa I Komang Rendi Yana alias Rendi ditangkap karena tanpa hak memiliki dan menyimpan narkotika jenis sabu. Awalnya, terdakwa memesan sabu seharga Rp200.000 kepada seseorang bernama Gus Ucil (DPO), lalu mengambil paket tersebut di bawah pohon mahoni di Jalan Putra Yuda, Bangli, sesuai petunjuk. Setelah dikonsumsi sebagian di rumahnya di Banua, Kintamani, sisa sabu disimpan dalam gantungan handphone yang dibungkus stiker dan diselipkan di jaket. Saat hendak ke alun-alun Bangli, terdakwa diberhentikan oleh polisi dan ditemukan sabu seberat 0,10 gram netto dalam jaketnya. Barang bukti lainnya termasuk bong bekas pakai, handphone, dan sepeda motor juga diamankan. Hasil uji laboratorium menunjukkan sabu mengandung metamfetamina yang tergolong Narkotika Golongan I. Perbuatan Terdakwa didakwa dengan dakwaan primair Pasal 112 Ayat (1) UU RI No. 35 Tahun 2009 tentang Narkotika, dan dakwaan subsidair Pasal 127 Ayat (1) huruf a UU RI No. 35 Tahun 2009 tentang Narkotika.",
         "15.0"
        ],
        [
         "26",
         "2",
         "13",
         "0",
         "3",
         "144",
         "I GUSTI LANANG MADE WIJAYA alias LANANG",
         "Pada Senin, 24 April 2023 sekitar pukul 22.30 WITA di pinggir Jalan Muhamad Hatta, Bebalang, Bangli, terdakwa I Gusti Lanang Made Wijaya alias Lanang tertangkap karena tanpa hak memiliki narkotika jenis sabu. Sebelumnya, terdakwa memesan sabu seharga Rp700.000 dari seseorang bernama Jung Tu (DPO) melalui WhatsApp dan mengambil barang tersebut di bawah pot bunga di Desa Semana, Badung. Setelah mengonsumsinya sebagian di rumahnya di Ubud, terdakwa menyimpan sisa sabu ke dalam bungkus rokok yang dimasukkan ke saku celana. Malam harinya, saat hendak menemui seorang wanita bernama Riena (DPO) di Bangli, terdakwa dihentikan oleh polisi dan dilakukan penggeledahan. Polisi menemukan sabu seberat 0,10 gram netto, satu handphone, dan sepeda motor yang digunakan terdakwa. Berdasarkan hasil pemeriksaan laboratorium, kristal bening tersebut positif mengandung metamfetamina yang tergolong Narkotika Golongan I. Perbuatan Terdakwa didakwa dengan dakwaan primair Pasal 112 Ayat (1) UU RI No. 35 Tahun 2009 Tentang Narkotika, dan dakwaan subsidair Pasal 127 Ayat (1) huruf a UU RI No. 35 Tahun 2009 Tentang Narkotika.",
         "16.0"
        ],
        [
         "27",
         "2",
         "10",
         "2",
         "5",
         "144",
         "SELAMET HARIANTO alias SELAMET",
         "Terdakwa Selamet Harianto alias Selamet bersama Sodakoh Maliki alias Dakoh (dalam berkas terpisah) pada 15 Mei 2023 sekitar pukul 20.45 WITA, bertempat di Jalan Muhammad Hatta, Kelurahan Bebalang, Kecamatan Bangli, kedapatan memiliki narkotika jenis sabu seberat 0,15 gram netto tanpa izin dari pihak berwenang. Perbuatan ini berawal ketika Selamet menghubungi seseorang bernama Rizal (DPO) untuk mencari pekerjaan dan ditawari menjadi \"peluncur\" (PL), yaitu mengambil paket sabu di Bangli. Selamet kemudian mengajak Sodakoh Maliki untuk menemaninya dengan janji akan memakai sabu bersama. Mereka berangkat dari Denpasar ke Bangli dengan motor dan mengambil paket sabu yang disimpan di belakang tiang listrik sesuai petunjuk dari Rizal. Saat dalam perjalanan kembali ke Denpasar, mereka ditangkap oleh polisi di Jalan Muhammad Hatta dan ditemukan barang bukti sabu serta alat-alat konsumsi narkotika. Dalam penggeledahan, ditemukan pula sabu lain seberat 0,02 gram netto milik Sodakoh Maliki yang disimpan dalam tas pinggang, serta berbagai perlengkapan penggunaan sabu. Berdasarkan hasil uji laboratorium, kristal yang ditemukan terbukti mengandung metamfetamina, sedangkan hasil tes urine Selamet negatif narkotika. Selamet sebelumnya juga pernah dihukum dalam kasus serupa berdasarkan putusan PN Denpasar tahun 2019 dan baru bebas pada 7 Maret 2023. Terdakwa didakwa dengan Pasal 112 Ayat (1) UU RI No. 35 Tahun 2009 tentang Narkotika jo. Pasal 55 Ayat (1) ke-1 KUHP.",
         "75.0"
        ],
        [
         "28",
         "2",
         "13",
         "4",
         "5",
         "240",
         "RAIHAN RAHADI AZHAR alias RAIHAN",
         "Terdakwa Raihan Rahadi Azhar alias Raihan, bersama-sama dengan Gungggus Togar Manatar Pangaribuan alias Togar (yang berkas perkaranya terpisah), pada 14 Maret 2023 di Rutan Kelas IIB Bangli, diduga melakukan tindak pidana narkotika dengan tanpa hak atau melawan hukum menjadi perantara dalam jual beli narkotika golongan I berupa tembakau sintetis. Togar meminjam nama Raihan untuk menerima paket berisi tembakau sintetis yang dikirim melalui jasa ekspedisi JT. Raihan menyetujui permintaan tersebut dan menerima paket atas namanya pada 16 Maret 2023. Setelah menerima paket di ruang portir rutan, Raihan langsung diamankan petugas. Pemeriksaan terhadap paket menunjukkan adanya dua bungkus tembakau sintetis dengan total berat bersih 52 gram netto, yang masing-masing dikemas dalam plastik bermerek Violin dan Rhino. Berdasarkan hasil uji laboratorium, daun-daun kering tersebut positif mengandung MDMB-4en PINACA, zat yang termasuk dalam Narkotika Golongan I. Raihan tidak memiliki izin dari Kementerian Kesehatan atau instansi berwenang lainnya untuk memperjualbelikan atau menjadi perantara narkotika tersebut. Perbuatan Terdakwa didakwa dengan dakwaan pertama Pasal 114 Ayat (1) UU RI No. 35 Tahun 2009 tentang Narkotika jo. Pasal 55 Ayat (1) ke-1 KUHP, dakwaan kedua Pasal 112 Ayat (1) UU RI No. 35 Tahun 2009 Tentang Narkotika jo. Pasal 55 Ayat (1) ke-1 KUHP, dan dakwaan ketiga Pasal 111 Ayat (1) UU RI No. 35 Tahun 2009 Tentang Narkotika jo. Pasal 55 Ayat (1) ke-1 KUHP.",
         "90.0"
        ],
        [
         "29",
         "2",
         "13",
         "4",
         "5",
         "240",
         "GUNGGUS TOGAR MANATAR PANGARIBUAN alias TOGAR",
         "Terdakwa Gunggus Togar Manatar Pangaribuan alias Togar, baik sendiri maupun bersama-sama dengan Raihan Rahadi Azhar alias Raihan (terdakwa dalam berkas terpisah), pada 14 Maret 2023 sekitar pukul 12.00 WITA di kamar tahanan Blok B Rutan Kelas IIB Bangli, memesan narkotika golongan I berupa tembakau sintetis dari seorang bernama Zetas Networking (DPO). Terdakwa meminjam nama Raihan untuk menerima paket narkotika tersebut melalui jasa pengiriman JT. Setelah mentransfer uang sebesar Rp1.400.000 melalui OVO, Terdakwa meminta agar paket dikirim atas nama Raihan. Pada 16 Maret 2023, Raihan diamankan oleh petugas rutan saat menerima paket berisi dua bungkus tembakau sintetis, masing-masing dibungkus plastik bermerek Violin dan Rhino. Setelah diinterogasi, Raihan mengaku bahwa paket tersebut milik Terdakwa. Pemeriksaan barang bukti menunjukkan bahwa tembakau tersebut mengandung senyawa MDMB-4en PINACA yang tergolong dalam Narkotika Golongan I. Terdakwa tidak memiliki izin dari Menteri Kesehatan atau lembaga berwenang lainnya untuk memperjualbelikan atau menerima narkotika tersebut. Perbuatan Terdakwa didakwa dengan dakwaan pertama Pasal 114 Ayat (1) UU RI No. 35 Tahun 2009 tentang Narkotika jo. Pasal 55 Ayat (1) ke-1 KUHP, dakwaan kedua Pasal 112 Ayat (1) UU RI No. 35 Tahun 2009 Tentang Narkotika jo. Pasal 55 Ayat (1) ke-1 KUHP, dan dakwaan ketiga Pasal 111 Ayat (1) UU RI No. 35 Tahun 2009 Tentang Narkotika jo. Pasal 55 Ayat (1) ke-1 KUHP.",
         "102.0"
        ],
        [
         "30",
         "4",
         "14",
         "0",
         "4",
         "120",
         "I NYOMAN RAWAS",
         "Pada hari Senin, 27 Maret 2023 sekitar pukul 21.30 WITA, terdakwa I Nyoman Rawas bersama I Ketut Sudima menyelenggarakan permainan judi cap jeki di lapangan terbuka di Banjar Kedisan, Desa Kedisan, Kecamatan Kintamani, Kabupaten Bangli. Kegiatan ini telah diberitahukan sebelumnya kepada para penjudi, dan terdakwa menyiapkan berbagai peralatan seperti perlak angka, handuk, kotak kaleng, kartu ceki, dan uang modal sebesar Rp 2.000.000. Dalam permainan tersebut, I Nyoman Rawas bertindak sebagai bandar yang mengendalikan jalannya permainan dan menentukan hasil, sementara I Ketut Sudima berperan sebagai kasir yang membayar kemenangan atau mengambil taruhan yang kalah. Permainan dilakukan dengan dua sistem, yaitu sistem “melok” (seri) dan “nyolot” (menang-kalah), yang masing-masing memiliki ketentuan kemenangan dan pembayarannya sendiri. Pada malam itu, para terdakwa melangsungkan enam putaran permainan dan memperoleh keuntungan sebesar Rp 370.000 sebelum akhirnya ditangkap oleh pihak kepolisian. Dari hasil penyelidikan, diketahui bahwa para terdakwa telah berulang kali menyelenggarakan permainan serupa di berbagai lokasi dan menjadikannya sebagai sumber penghasilan untuk kebutuhan sehari-hari. Seluruh kegiatan perjudian tersebut dilakukan tanpa izin resmi dan merupakan bentuk perjudian yang bersifat untung-untungan. Perbuatan Terdakwa didakwa dengan dakwaan primair Pasal 303 Ayat (1) ke-1 KUHP jo. Pasal 2 Undang-Undang No. 7 Tahun 1974 tentang Penertiban Perjudian, dan dakwaan subsidair Pasal 303 Ayat (1) ke-2 KUHP jo. Pasal 2 Undang-Undang No. 7 Tahun 1974 Tentang Penertiban Perjudian.",
         "7.0"
        ],
        [
         "31",
         "4",
         "14",
         "0",
         "4",
         "120",
         "I KETUT SUDIMA",
         "Pada hari Senin, 27 Maret 2023 sekitar pukul 21.30 WITA, terdakwa I Nyoman Rawas bersama I Ketut Sudima menyelenggarakan permainan judi cap jeki di lapangan terbuka di Banjar Kedisan, Desa Kedisan, Kecamatan Kintamani, Kabupaten Bangli. Kegiatan ini telah diberitahukan sebelumnya kepada para penjudi, dan terdakwa menyiapkan berbagai peralatan seperti perlak angka, handuk, kotak kaleng, kartu ceki, dan uang modal sebesar Rp 2.000.000. Dalam permainan tersebut, I Nyoman Rawas bertindak sebagai bandar yang mengendalikan jalannya permainan dan menentukan hasil, sementara I Ketut Sudima berperan sebagai kasir yang membayar kemenangan atau mengambil taruhan yang kalah. Permainan dilakukan dengan dua sistem, yaitu sistem “melok” (seri) dan “nyolot” (menang-kalah), yang masing-masing memiliki ketentuan kemenangan dan pembayarannya sendiri. Pada malam itu, para terdakwa melangsungkan enam putaran permainan dan memperoleh keuntungan sebesar Rp 370.000 sebelum akhirnya ditangkap oleh pihak kepolisian. Dari hasil penyelidikan, diketahui bahwa para terdakwa telah berulang kali menyelenggarakan permainan serupa di berbagai lokasi dan menjadikannya sebagai sumber penghasilan untuk kebutuhan sehari-hari. Seluruh kegiatan perjudian tersebut dilakukan tanpa izin resmi dan merupakan bentuk perjudian yang bersifat untung-untungan. Perbuatan Terdakwa didakwa dengan dakwaan primair Pasal 303 Ayat (1) ke-1 KUHP jo. Pasal 2 Undang-Undang No. 7 Tahun 1974 tentang Penertiban Perjudian, dan dakwaan subsidair Pasal 303 Ayat (1) ke-2 KUHP jo. Pasal 2 Undang-Undang No. 7 Tahun 1974 Tentang Penertiban Perjudian.",
         "6.0"
        ],
        [
         "32",
         "0",
         "13",
         "0",
         "3",
         "84",
         "NI LUH PUSPA DEWI",
         "Pada hari Minggu, 4 Juli 2021 sekitar pukul 11.00 WITA, Terdakwa Ni Luh Puspa Dewi dalam perjalanan menuju ladang orang tuanya di Desa Suter, Bangli, melewati sebuah rumah kosong di Banjar Munduk Waru, Desa Buahan, Kintamani, dan timbul niat untuk mencuri. Setelah memastikan keadaan sekitar aman, terdakwa masuk ke rumah tersebut dan menemukan kunci di lemari kaca dalam salah satu kamar. Ia kemudian membuka kamar lain dengan kunci tersebut dan menemukan dompet biru bermotif bunga berisi berbagai perhiasan emas, termasuk kalung, gelang, cincin, dan anting-anting dengan total berat puluhan gram. Semua barang tersebut diambil dan disimpan di sakunya, lalu terdakwa meninggalkan lokasi. Perhiasan hasil curian dijual di Pasar Kidul kepada seorang wanita tak dikenal seharga Rp80.000.000, yang kemudian digunakan untuk kebutuhan sehari-hari dan membeli sejumlah pakaian, sandal, serta cincin emas. Berdasarkan laporan polisi tertanggal 6 Februari 2023, terdakwa akhirnya mengakui seluruh perbuatannya. Akibat kejadian ini, korban I Nyoman Mawa mengalami kerugian sekitar Rp80.000.000. Perbuatan Terdakwa didakwa dengan dakwaan primair Pasal 363 Ayat (1) ke-5 KUHP, dan dakwaan subsidair Pasal 362 KUHP.",
         "6.0"
        ],
        [
         "33",
         "0",
         "15",
         "4",
         "5",
         "80",
         "I Wayan Nawa",
         "Terdakwa I Wayan Nawa didakwa melakukan pencurian pada dua kesempatan berbeda di wilayah Kintamani, Bangli. Pada 2 Oktober 2022, setelah menjual salak, terdakwa menuju ke kebun milik I Wayan Suardana di Banjar Pludu, Desa Bayung Gede, dan berpura-pura menawarkan pupuk ayam. Saat korban lengah, terdakwa mencuri handphone Redmi Note 10S beserta uang tunai sekitar Rp400.000 yang disimpan di kandang sapi. Kemudian, pada 9 November 2022, terdakwa kembali melakukan pencurian di pondokan milik I Wayan Panggih di Desa Binyan dengan modus serupa. Setelah memastikan korban pergi, terdakwa mencuri handphone Redmi Note 7 yang sedang dicas. Kedua handphone tersebut dijual ke konter berbeda dengan total hasil sekitar Rp1.800.000, yang kemudian digunakan untuk kebutuhan sehari-hari. Berdasarkan laporan korban, polisi melakukan penyelidikan dan berhasil menangkap terdakwa pada 9 Februari 2023 di Karangasem. Akibat perbuatannya, korban I Wayan Suardana mengalami kerugian sekitar Rp3.400.000 dan I Wayan Panggih sekitar Rp3.000.000. Terdakwa dijerat dengan Pasal 362 KUHP jo. Pasal 65 Ayat (1) KUHP tentang pencurian yang dilakukan berulang kali.",
         "6.0"
        ],
        [
         "34",
         "0",
         "13",
         "3",
         "5",
         "60",
         "JRO GEDE BUDI",
         "Pada Sabtu, 28 Januari 2023, di Pemandian Tirta Usadha Toya Bungkah, Desa Batur Tengah, Kintamani, Bangli, terdakwa Jro Gede Budi didakwa melakukan pencurian. Setelah selesai berendam, terdakwa melihat sebuah tas hitam bertuliskan \"Steve Madden\" milik korban Ni Jro Luh Putri di bawah loker, lalu mengambilnya dan membawanya pulang menggunakan sepeda motor. Di perjalanan, terdakwa membuka tas tersebut dan menemukan tas merah maroon bertuliskan \"Michael Kors\" berisi uang tunai sebesar Rp5.700.000 serta sebuah dompet berisi perhiasan emas berupa kalung dan cincin, dan dua nota pembelian dari Toko Emas Ratna. Terdakwa mengambil Rp1.000.000 untuk dirinya dan menyembunyikan sisa uang serta perhiasan di bawah pohon di dekat rumahnya, sedangkan tas-tas tersebut disimpan di jok motor. Berdasarkan laporan korban, polisi berhasil mengamankan terdakwa beserta barang-barang bukti, termasuk sepeda motor dan hoodie yang digunakan untuk membungkus barang curian. Atas perbuatannya, korban mengalami kerugian sekitar Rp19.700.000, dan terdakwa dijerat dengan Pasal 362 KUHP tentang pencurian.",
         "5.0"
        ],
        [
         "35",
         "0",
         "1",
         "4",
         "3",
         "84",
         "RIFQI ABDURAHMAN",
         "Pada Minggu, 11 Desember 2022 sekitar pukul 00.30 WITA, terdakwa I Rifqi Abdurahman dan terdakwa II Gunawan melakukan pencurian sepeda motor di pinggir Jalan Raya Kayuambua, Bangli. Sebelumnya, pada 10 Desember 2022, terdakwa II meminta terdakwa I mencarikan sepeda motor Kawasaki KLX untuk dibeli seharga Rp3.000.000. Keduanya lalu berangkat ke daerah Kintamani dengan sepeda motor modifikasi tanpa nomor polisi. Saat tiba di lokasi, mereka melihat motor Kawasaki KLX 150 C tanpa nomor polisi dan kunci kontak, lalu terdakwa I mendorong motor tersebut menjauh sementara terdakwa II mengawasi. Karena motor cetul milik terdakwa II rusak, terdakwa I mendorong motor sendirian dan sempat dicegat dua saksi yang curiga. Setelah berhasil menyalakan motor dan mengendarainya sejauh 100 meter, motor mogok karena kehabisan bensin. Terdakwa I lalu mendorong ke SPBU Sekardadi dan tertidur di sana. Sementara itu, saksi korban mengonfirmasi kehilangan motornya dan bersama saksi lainnya serta polisi, menemukan terdakwa I di SPBU. Polisi kemudian menangkap terdakwa II di Desa Dumilih saat tertidur di emper toko. Akibat perbuatan para terdakwa, korban I Wayan Eva Kusuma Putra mengalami kerugian sekitar Rp16.000.000. Perbuatan Terdakwa didakwa dengan dakwaan primair Pasal 363 Ayat (1) ke-4 KUHP, dan dakwaan subsidair Pasal 362 KUHP.",
         "8.0"
        ],
        [
         "36",
         "0",
         "1",
         "4",
         "3",
         "84",
         "GUNAWAN",
         "Pada Minggu, 11 Desember 2022 sekitar pukul 00.30 WITA, terdakwa I Rifqi Abdurahman dan terdakwa II Gunawan melakukan pencurian sepeda motor di pinggir Jalan Raya Kayuambua, Bangli. Sebelumnya, pada 10 Desember 2022, terdakwa II meminta terdakwa I mencarikan sepeda motor Kawasaki KLX untuk dibeli seharga Rp3.000.000. Keduanya lalu berangkat ke daerah Kintamani dengan sepeda motor modifikasi tanpa nomor polisi. Saat tiba di lokasi, mereka melihat motor Kawasaki KLX 150 C tanpa nomor polisi dan kunci kontak, lalu terdakwa I mendorong motor tersebut menjauh sementara terdakwa II mengawasi. Karena motor cetul milik terdakwa II rusak, terdakwa I mendorong motor sendirian dan sempat dicegat dua saksi yang curiga. Setelah berhasil menyalakan motor dan mengendarainya sejauh 100 meter, motor mogok karena kehabisan bensin. Terdakwa I lalu mendorong ke SPBU Sekardadi dan tertidur di sana. Sementara itu, saksi korban mengonfirmasi kehilangan motornya dan bersama saksi lainnya serta polisi, menemukan terdakwa I di SPBU. Polisi kemudian menangkap terdakwa II di Desa Dumilih saat tertidur di emper toko. Akibat perbuatan para terdakwa, korban I Wayan Eva Kusuma Putra mengalami kerugian sekitar Rp16.000.000. Perbuatan Terdakwa didakwa dengan dakwaan primair Pasal 363 Ayat (1) ke-4 KUHP, dan dakwaan subsidair Pasal 362 KUHP.",
         "8.0"
        ],
        [
         "37",
         "0",
         "1",
         "0",
         "6",
         "80",
         "Gede Kastawa",
         "Terdakwa Gede Kastawa didakwa melakukan serangkaian tindak pidana pencurian ayam di wilayah Kintamani, Bangli, pada bulan Oktober 2022. Pada 21 Oktober 2022, terdakwa mencuri 6 ekor ayam dari belakang rumah korban I Wayan Sukada di Desa Belantih, lalu menjualnya di Pasar Anyar Singaraja seharga Rp800.000. Hasil penjualan digunakan untuk membeli ayam aduan dan berjudi. Kemudian, pada 28 Oktober 2022, terdakwa mencuri 15 ekor ayam milik korban I Made Terus dari kebun jeruk di Desa Belanga, yang kembali dijual dan hasilnya dipakai untuk berjudi. Selanjutnya, pada 30 Oktober 2022, terdakwa beraksi di pondokan milik korban I Wayan Lusin di Desa Belanga, mencuri seekor ayam namun aksinya diketahui oleh saksi dan warga sehingga berhasil diamankan. Total kerugian para korban mencapai sekitar Rp3.500.000. Terdakwa mengaku melakukan pencurian karena alasan ekonomi. Perbuatannya diancam pidana sesuai Pasal 362 jo. Pasal 65 Ayat (1) KUHP.",
         "30.0"
        ],
        [
         "38",
         "0",
         "14",
         "0",
         "6",
         "80",
         "Gede Kastawa",
         "Terdakwa Gede Kastawa didakwa melakukan serangkaian tindak pidana pencurian ayam di wilayah Kintamani, Bangli, pada bulan Oktober 2022. Pada 21 Oktober 2022, terdakwa mencuri 6 ekor ayam dari belakang rumah korban I Wayan Sukada di Desa Belantih, lalu menjualnya di Pasar Anyar Singaraja seharga Rp800.000. Hasil penjualan digunakan untuk membeli ayam aduan dan berjudi. Kemudian, pada 28 Oktober 2022, terdakwa mencuri 15 ekor ayam milik korban I Made Terus dari kebun jeruk di Desa Belanga, yang kembali dijual dan hasilnya dipakai untuk berjudi. Selanjutnya, pada 30 Oktober 2022, terdakwa beraksi di pondokan milik korban I Wayan Lusin di Desa Belanga, mencuri seekor ayam namun aksinya diketahui oleh saksi dan warga sehingga berhasil diamankan. Total kerugian para korban mencapai sekitar Rp3.500.000. Terdakwa mengaku melakukan pencurian karena alasan ekonomi. Perbuatannya diancam pidana sesuai Pasal 362 jo. Pasal 65 Ayat (1) KUHP.",
         "30.0"
        ],
        [
         "39",
         "0",
         "16",
         "0",
         "5",
         "84",
         "Elias Fanggi",
         "Terdakwa Elias Fanggi didakwa melakukan pencurian tiga ekor anak babi milik saksi I Komang Sucitra pada Sabtu, 27 Maret 2021 sekitar pukul 22.30 WITA di kandang babi yang terletak di Desa Abuan, Kecamatan Kintamani, Kabupaten Bangli. Awalnya, terdakwa datang ke kandang pada sore hari untuk membersihkan tempat tersebut. Namun pada malam harinya, terdakwa masuk ke dalam kandang melalui pintu yang tidak terkunci, lalu mengambil tiga ekor anak babi dan memasukkannya ke dalam karung plastik yang telah disiapkannya. Ia kemudian membawa hasil curian itu dengan sepeda motor milik saksi Leonardus Pendi dengan maksud untuk dijual. Aksi tersebut diketahui oleh pemilik kandang, yang kemudian melaporkan terdakwa ke pihak berwajib. Akibat perbuatan tersebut, saksi I Komang Sucitra mengalami kerugian sebesar Rp3.600.000. Perbuatan Terdakwa didakwa dengan dakwaan primair Pasal 363 Ayat (1) ke-1 KUHP, dan dakwaan subsidair Pasal 374 KUHP.",
         "6.0"
        ],
        [
         "40",
         "0",
         "17",
         "0",
         "5",
         "84",
         "Elias Fanggi",
         "Terdakwa Elias Fanggi didakwa melakukan pencurian tiga ekor anak babi milik saksi I Komang Sucitra pada Sabtu, 27 Maret 2021 sekitar pukul 22.30 WITA di kandang babi yang terletak di Desa Abuan, Kecamatan Kintamani, Kabupaten Bangli. Awalnya, terdakwa datang ke kandang pada sore hari untuk membersihkan tempat tersebut. Namun pada malam harinya, terdakwa masuk ke dalam kandang melalui pintu yang tidak terkunci, lalu mengambil tiga ekor anak babi dan memasukkannya ke dalam karung plastik yang telah disiapkannya. Ia kemudian membawa hasil curian itu dengan sepeda motor milik saksi Leonardus Pendi dengan maksud untuk dijual. Aksi tersebut diketahui oleh pemilik kandang, yang kemudian melaporkan terdakwa ke pihak berwajib. Akibat perbuatan tersebut, saksi I Komang Sucitra mengalami kerugian sebesar Rp3.600.000. Perbuatan Terdakwa didakwa dengan dakwaan primair Pasal 363 Ayat (1) ke-1 KUHP, dan dakwaan subsidair Pasal 374 KUHP.",
         "6.0"
        ],
        [
         "41",
         "0",
         "17",
         "0",
         "15",
         "112",
         "I Wayan Edi Rusmawan",
         "Terdakwa I Wayan Edi Rusmawan didakwa melakukan serangkaian pencurian antara bulan Juni 2020 hingga Januari 2021 di berbagai lokasi di wilayah Kecamatan Kintamani, Kabupaten Bangli. Terdakwa mengambil barang-barang milik sejumlah korban di antaranya I Wayan Sutiana, I Ketut Carem, I Ketut Sudadi, I Nyoman Keneh, Ni Nengah Suantini, I Nyoman Birawan, Ni Ketut Supadmi, I Wayan Darma, I Wayan Ramanto, I Nengah Sapa, dan I Made Sadswadarma. Aksi pencurian tersebut dilakukan terdakwa dengan cara merusak, memanjat, atau masuk secara diam-diam ke kebun, pondokan, warung, dan gudang milik para korban, dengan maksud untuk memiliki barang-barang tersebut secara melawan hukum. Karena dilakukan berulang kali di tempat dan waktu yang berbeda, perbuatan terdakwa dianggap sebagai beberapa kejahatan yang berdiri sendiri. Perbuatan Terdakwa didakwa dengan dakwaan primair Pasal 363 Ayat (1) ke-5 KUHP jo. Pasal 65 ayat (1) KUHP, dan dakwaan subsidair Pasal 362 KUHP Jo Pasal 65 Ayat (1) KUHP.",
         "24.0"
        ],
        [
         "42",
         "0",
         "0",
         "0",
         "15",
         "112",
         "I Wayan Edi Rusmawan",
         "Terdakwa I Wayan Edi Rusmawan didakwa melakukan serangkaian pencurian antara bulan Juni 2020 hingga Januari 2021 di berbagai lokasi di wilayah Kecamatan Kintamani, Kabupaten Bangli. Terdakwa mengambil barang-barang milik sejumlah korban di antaranya I Wayan Sutiana, I Ketut Carem, I Ketut Sudadi, I Nyoman Keneh, Ni Nengah Suantini, I Nyoman Birawan, Ni Ketut Supadmi, I Wayan Darma, I Wayan Ramanto, I Nengah Sapa, dan I Made Sadswadarma. Aksi pencurian tersebut dilakukan terdakwa dengan cara merusak, memanjat, atau masuk secara diam-diam ke kebun, pondokan, warung, dan gudang milik para korban, dengan maksud untuk memiliki barang-barang tersebut secara melawan hukum. Karena dilakukan berulang kali di tempat dan waktu yang berbeda, perbuatan terdakwa dianggap sebagai beberapa kejahatan yang berdiri sendiri. Perbuatan Terdakwa didakwa dengan dakwaan primair Pasal 363 Ayat (1) ke-5 KUHP jo. Pasal 65 ayat (1) KUHP, dan dakwaan subsidair Pasal 362 KUHP Jo Pasal 65 Ayat (1) KUHP.",
         "24.0"
        ],
        [
         "43",
         "2",
         "18",
         "5",
         "4",
         "144",
         "ANJAR RUCHIMAT",
         "Terdakwa Anjar Ruchimat dan Irga Krisna Haryanto R, pada 4 Februari 2020 sekitar pukul 21.30 WITA di pinggir Jalan Raya Merdeka, Bebalang, Bangli, diduga melakukan permufakatan jahat bersama seorang bernama Made Bleteng (DPO) untuk memiliki, menyimpan, menguasai, atau menyediakan Narkotika Golongan I bukan tanaman tanpa hak. Selain itu, Anjar Ruchimat juga terbukti menggunakan narkotika untuk diri sendiri pada 1 Februari 2020 sekitar pukul 15.00 WITA di sebuah penginapan di Kuta, Badung. Demikian pula, Irga Krisna Haryanto R menggunakan narkotika untuk diri sendiri pada 28 Januari 2020 sekitar pukul 22.30 WITA di kamar kontrakannya di Dalung, Badung. Meskipun tempat kejadian perkara berada di wilayah hukum Pengadilan Negeri Denpasar, perkara ini diperiksa oleh Pengadilan Negeri Bangli berdasarkan ketentuan Pasal 84 ayat (2) KUHAP. Perbuatan para terdakwa diancam pidana berdasarkan Pasal 132 Ayat (1) jo. Pasal 112 Ayat (1), serta Pasal 127 Ayat (1) huruf a UU RI No. 35 Tahun 2009 tentang Narkotika.",
         "16.0"
        ],
        [
         "44",
         "2",
         "18",
         "5",
         "4",
         "144",
         "IRGA KRISNA HARYANTO R",
         "Terdakwa Anjar Ruchimat dan Irga Krisna Haryanto R, pada 4 Februari 2020 sekitar pukul 21.30 WITA di pinggir Jalan Raya Merdeka, Bebalang, Bangli, diduga melakukan permufakatan jahat bersama seorang bernama Made Bleteng (DPO) untuk memiliki, menyimpan, menguasai, atau menyediakan Narkotika Golongan I bukan tanaman tanpa hak. Selain itu, Anjar Ruchimat juga terbukti menggunakan narkotika untuk diri sendiri pada 1 Februari 2020 sekitar pukul 15.00 WITA di sebuah penginapan di Kuta, Badung. Demikian pula, Irga Krisna Haryanto R menggunakan narkotika untuk diri sendiri pada 28 Januari 2020 sekitar pukul 22.30 WITA di kamar kontrakannya di Dalung, Badung. Meskipun tempat kejadian perkara berada di wilayah hukum Pengadilan Negeri Denpasar, perkara ini diperiksa oleh Pengadilan Negeri Bangli berdasarkan ketentuan Pasal 84 ayat (2) KUHAP. Perbuatan para terdakwa diancam pidana berdasarkan Pasal 132 Ayat (1) jo. Pasal 112 Ayat (1), serta Pasal 127 Ayat (1) huruf a UU RI No. 35 Tahun 2009 tentang Narkotika.",
         "16.0"
        ],
        [
         "45",
         "2",
         "18",
         "6",
         "6",
         "240",
         "FENNY YANTHI ESMIDAR",
         "Terdakwa Fenny Yanthi Esmidar pada Kamis, 9 Januari 2020 sekitar pukul 23.15 WITA ditangkap di Gang Buntu, belakang Alfamart Jalan Brigjen Ngurah Rai, Bangli, saat baru saja mengambil narkotika jenis sabu yang disembunyikan di semak-semak. Penangkapan dilakukan oleh anggota Satresnarkoba Polres Bangli setelah menerima informasi dari masyarakat. Sebelumnya, terdakwa dihubungi oleh seseorang bernama Desi untuk mengambil narkotika di lokasi tersebut. Dari hasil penggeledahan, ditemukan dua paket sabu dengan berat netto masing-masing 0,08 gram dan 0,05 gram, yang disimpan dalam bungkus rokok dan tas milik terdakwa. Berdasarkan hasil pemeriksaan laboratorium forensik, kedua paket tersebut positif mengandung metamfetamina yang termasuk dalam Narkotika Golongan I. Namun, hasil tes urine terdakwa menunjukkan negatif narkotika/psikotropika. Perbuatan Terdakwa didakwa dengan dakwaan pertama Pasal 114 Ayat (1) UU RI No. 35 Tahun 2009 tentang Narkotika, dan dakwaan kedua Pasal 112 Ayat (1) UU RI No. 35 Tahun 2009 Tentang Narkotika.",
         "102.0"
        ],
        [
         "46",
         "0",
         "19",
         "7",
         "4",
         "84",
         "I WAYAN SUDARPA",
         "Terdakwa I Wayan Sudarpa pada Rabu, 12 Februari 2020 sekitar pukul 01.00 WITA melakukan pencurian tiga ekor sapi milik I Wayan Kasir di Br. Tiying Desa, Desa Pengotan, Kecamatan Bangli. Aksi tersebut direncanakan sebelumnya bersama I Nyoman Bintang, dengan dalih ingin menjual sapi miliknya untuk membayar utang. Pada malam hari yang telah disepakati, terdakwa mendatangi kandang sapi korban dan secara bertahap membawa ketiga sapi tersebut ke mobil pick up milik I Nyoman Bintang yang menunggu di dekat lokasi. Sapi-sapi itu kemudian dibawa dan dijual di Pasar Bringkit, Badung. Dari hasil penjualan, terdakwa menerima uang sebesar Rp20.156.000 setelah dikurangi biaya operasional. Namun, diketahui sapi-sapi tersebut bukan milik terdakwa melainkan milik I Wayan Kasir, yang tidak pernah memberikan izin untuk pengambilan maupun penjualan. Akibat perbuatan terdakwa, korban mengalami kerugian sekitar Rp20.500.000. Tindakan terdakwa diancam pidana berdasarkan Pasal 363 Ayat (1) ke-1 KUHP.",
         "6.0"
        ],
        [
         "47",
         "4",
         "20",
         "8",
         "3",
         "120",
         "Wayan Suartaya",
         "Pada tanggal 21 November 2018 sekitar pukul 18.00 WITA, terdakwa I Ketut Sarjana dan Wayan Suartaya mengadakan permainan judi cap jeki di halaman rumah Ketut Sarjana di Banjar Merta, Desa Awan, Kecamatan Kintamani, Kabupaten Bangli. Mereka menyiapkan berbagai alat perjudian seperti kotak kaleng, perlak, handuk, kartu ceki, serta menyediakan hadiah uang tunai sebesar Rp 5.000.000 bagi pemenang. Ketut Sarjana bertindak sebagai kasir sekaligus bandar yang membayar kemenangan dan mengambil uang taruhan pemain yang kalah, sedangkan Wayan Suartaya bertugas mengocok kartu ceki. Permainan dilakukan dengan dua sistem, yakni sistem \"melok\" (draw) dan \"nyolot\" (menang-kalah), yang masing-masing memiliki aturan dan hadiah berbeda. Saat permainan berlangsung, petugas dari Dit. Reskrimum POLDA Bali melakukan penggerebekan dan menemukan sejumlah barang bukti, termasuk kartu ceki, handuk, kotak kaleng, perlak, dan uang tunai Rp 2.665.000. Permainan judi cap jeki tersebut dilakukan tanpa izin dari pejabat yang berwenang. Perbuatan Terdakwa didakwa dengan dakwaan primair Pasal 303 Ayat (1) ke-1 KUHP jo. Pasal 2 Undang-Undang RI No. 7 Tahun 1974 tentang Penertiban Perjudian, dan dakwaan subsidair Pasal 303 Ayat (1) ke-2 KUHP, jo. Pasal 2 UU RI No. 7 Tahun 1974 Tentang Penertiban Perjudian.",
         "5.0"
        ],
        [
         "48",
         "4",
         "21",
         "8",
         "3",
         "120",
         "Wayan Suartaya",
         "Pada tanggal 21 November 2018 sekitar pukul 18.00 WITA, terdakwa I Ketut Sarjana dan Wayan Suartaya mengadakan permainan judi cap jeki di halaman rumah Ketut Sarjana di Banjar Merta, Desa Awan, Kecamatan Kintamani, Kabupaten Bangli. Mereka menyiapkan berbagai alat perjudian seperti kotak kaleng, perlak, handuk, kartu ceki, serta menyediakan hadiah uang tunai sebesar Rp 5.000.000 bagi pemenang. Ketut Sarjana bertindak sebagai kasir sekaligus bandar yang membayar kemenangan dan mengambil uang taruhan pemain yang kalah, sedangkan Wayan Suartaya bertugas mengocok kartu ceki. Permainan dilakukan dengan dua sistem, yakni sistem \"melok\" (draw) dan \"nyolot\" (menang-kalah), yang masing-masing memiliki aturan dan hadiah berbeda. Saat permainan berlangsung, petugas dari Dit. Reskrimum POLDA Bali melakukan penggerebekan dan menemukan sejumlah barang bukti, termasuk kartu ceki, handuk, kotak kaleng, perlak, dan uang tunai Rp 2.665.000. Permainan judi cap jeki tersebut dilakukan tanpa izin dari pejabat yang berwenang. Perbuatan Terdakwa didakwa dengan dakwaan primair Pasal 303 Ayat (1) ke-1 KUHP jo. Pasal 2 Undang-Undang RI No. 7 Tahun 1974 tentang Penertiban Perjudian, dan dakwaan subsidair Pasal 303 Ayat (1) ke-2 KUHP, jo. Pasal 2 UU RI No. 7 Tahun 1974 Tentang Penertiban Perjudian.",
         "5.0"
        ],
        [
         "49",
         "4",
         "20",
         "8",
         "3",
         "120",
         "I Ketut Sarjana",
         "Pada tanggal 21 November 2018 sekitar pukul 18.00 WITA, terdakwa I Ketut Sarjana dan Wayan Suartaya mengadakan permainan judi cap jeki di halaman rumah Ketut Sarjana di Banjar Merta, Desa Awan, Kecamatan Kintamani, Kabupaten Bangli. Mereka menyiapkan berbagai alat perjudian seperti kotak kaleng, perlak, handuk, kartu ceki, serta menyediakan hadiah uang tunai sebesar Rp 5.000.000 bagi pemenang. Ketut Sarjana bertindak sebagai kasir sekaligus bandar yang membayar kemenangan dan mengambil uang taruhan pemain yang kalah, sedangkan Wayan Suartaya bertugas mengocok kartu ceki. Permainan dilakukan dengan dua sistem, yakni sistem \"melok\" (draw) dan \"nyolot\" (menang-kalah), yang masing-masing memiliki aturan dan hadiah berbeda. Saat permainan berlangsung, petugas dari Dit. Reskrimum POLDA Bali melakukan penggerebekan dan menemukan sejumlah barang bukti, termasuk kartu ceki, handuk, kotak kaleng, perlak, dan uang tunai Rp 2.665.000. Permainan judi cap jeki tersebut dilakukan tanpa izin dari pejabat yang berwenang. Perbuatan Terdakwa didakwa dengan dakwaan primair Pasal 303 Ayat (1) ke-1 KUHP jo. Pasal 2 Undang-Undang RI No. 7 Tahun 1974 tentang Penertiban Perjudian, dan dakwaan subsidair Pasal 303 Ayat (1) ke-2 KUHP, jo. Pasal 2 UU RI No. 7 Tahun 1974 Tentang Penertiban Perjudian.",
         "5.0"
        ]
       ],
       "shape": {
        "columns": 8,
        "rows": 4323
       }
      },
      "text/html": [
       "<div>\n",
       "<style scoped>\n",
       "    .dataframe tbody tr th:only-of-type {\n",
       "        vertical-align: middle;\n",
       "    }\n",
       "\n",
       "    .dataframe tbody tr th {\n",
       "        vertical-align: top;\n",
       "    }\n",
       "\n",
       "    .dataframe thead th {\n",
       "        text-align: right;\n",
       "    }\n",
       "</style>\n",
       "<table border=\"1\" class=\"dataframe\">\n",
       "  <thead>\n",
       "    <tr style=\"text-align: right;\">\n",
       "      <th></th>\n",
       "      <th>klasifikasi_perkara_encoded</th>\n",
       "      <th>penuntut_umum_encoded</th>\n",
       "      <th>hakim_encoded</th>\n",
       "      <th>jumlah_saksi</th>\n",
       "      <th>maks_penjara_berdasarkan_pasal</th>\n",
       "      <th>terdakwa</th>\n",
       "      <th>summarized_dakwaan</th>\n",
       "      <th>total_pidana_penjara_bulan</th>\n",
       "    </tr>\n",
       "  </thead>\n",
       "  <tbody>\n",
       "    <tr>\n",
       "      <th>0</th>\n",
       "      <td>0</td>\n",
       "      <td>0</td>\n",
       "      <td>0</td>\n",
       "      <td>6</td>\n",
       "      <td>80</td>\n",
       "      <td>GEDE DARMAYASA</td>\n",
       "      <td>Terdakwa Gede Darmayasa didakwa telah melakuka...</td>\n",
       "      <td>5.0</td>\n",
       "    </tr>\n",
       "    <tr>\n",
       "      <th>1</th>\n",
       "      <td>1</td>\n",
       "      <td>1</td>\n",
       "      <td>1</td>\n",
       "      <td>4</td>\n",
       "      <td>48</td>\n",
       "      <td>IDA BAGUS MADE DARMA WIGUNA</td>\n",
       "      <td>Pada bulan Februari dan Maret 2024, terdakwa I...</td>\n",
       "      <td>24.0</td>\n",
       "    </tr>\n",
       "    <tr>\n",
       "      <th>2</th>\n",
       "      <td>0</td>\n",
       "      <td>0</td>\n",
       "      <td>2</td>\n",
       "      <td>6</td>\n",
       "      <td>84</td>\n",
       "      <td>HANDRI JOHANAS</td>\n",
       "      <td>Terdakwa Handri Johanes pada Rabu, 24 April 20...</td>\n",
       "      <td>4.0</td>\n",
       "    </tr>\n",
       "    <tr>\n",
       "      <th>3</th>\n",
       "      <td>2</td>\n",
       "      <td>2</td>\n",
       "      <td>1</td>\n",
       "      <td>2</td>\n",
       "      <td>144</td>\n",
       "      <td>I GEDE ARIADI alias BERNAD</td>\n",
       "      <td>Pada hari Minggu, 14 April 2024 sekitar pukul ...</td>\n",
       "      <td>14.0</td>\n",
       "    </tr>\n",
       "    <tr>\n",
       "      <th>4</th>\n",
       "      <td>2</td>\n",
       "      <td>3</td>\n",
       "      <td>1</td>\n",
       "      <td>2</td>\n",
       "      <td>144</td>\n",
       "      <td>I GEDE ARIADI alias BERNAD</td>\n",
       "      <td>Pada hari Minggu, 14 April 2024 sekitar pukul ...</td>\n",
       "      <td>14.0</td>\n",
       "    </tr>\n",
       "    <tr>\n",
       "      <th>...</th>\n",
       "      <td>...</td>\n",
       "      <td>...</td>\n",
       "      <td>...</td>\n",
       "      <td>...</td>\n",
       "      <td>...</td>\n",
       "      <td>...</td>\n",
       "      <td>...</td>\n",
       "      <td>...</td>\n",
       "    </tr>\n",
       "    <tr>\n",
       "      <th>4318</th>\n",
       "      <td>2</td>\n",
       "      <td>269</td>\n",
       "      <td>118</td>\n",
       "      <td>2</td>\n",
       "      <td>240</td>\n",
       "      <td>NURUL FIQRI SUDIRMAN als KIKI bin SUDIRMAN</td>\n",
       "      <td>Pada Jumat, 31 Maret 2023, sekitar pukul 20.30...</td>\n",
       "      <td>72.0</td>\n",
       "    </tr>\n",
       "    <tr>\n",
       "      <th>4319</th>\n",
       "      <td>0</td>\n",
       "      <td>257</td>\n",
       "      <td>107</td>\n",
       "      <td>2</td>\n",
       "      <td>84</td>\n",
       "      <td>SUPRIADI BIN RATIM</td>\n",
       "      <td>Pada hari Minggu, 28 Mei 2023, sekitar pukul 1...</td>\n",
       "      <td>16.0</td>\n",
       "    </tr>\n",
       "    <tr>\n",
       "      <th>4320</th>\n",
       "      <td>0</td>\n",
       "      <td>280</td>\n",
       "      <td>107</td>\n",
       "      <td>2</td>\n",
       "      <td>84</td>\n",
       "      <td>SUPRIADI BIN RATIM</td>\n",
       "      <td>Pada hari Minggu, 28 Mei 2023, sekitar pukul 1...</td>\n",
       "      <td>16.0</td>\n",
       "    </tr>\n",
       "    <tr>\n",
       "      <th>4321</th>\n",
       "      <td>0</td>\n",
       "      <td>257</td>\n",
       "      <td>107</td>\n",
       "      <td>2</td>\n",
       "      <td>84</td>\n",
       "      <td>ANWAR RURI BIN SYARIFUDIN USMAN</td>\n",
       "      <td>Pada hari Minggu, 28 Mei 2023, sekitar pukul 1...</td>\n",
       "      <td>16.0</td>\n",
       "    </tr>\n",
       "    <tr>\n",
       "      <th>4322</th>\n",
       "      <td>0</td>\n",
       "      <td>280</td>\n",
       "      <td>107</td>\n",
       "      <td>2</td>\n",
       "      <td>84</td>\n",
       "      <td>ANWAR RURI BIN SYARIFUDIN USMAN</td>\n",
       "      <td>Pada hari Minggu, 28 Mei 2023, sekitar pukul 1...</td>\n",
       "      <td>16.0</td>\n",
       "    </tr>\n",
       "  </tbody>\n",
       "</table>\n",
       "<p>4323 rows × 8 columns</p>\n",
       "</div>"
      ],
      "text/plain": [
       "      klasifikasi_perkara_encoded  penuntut_umum_encoded  hakim_encoded  \\\n",
       "0                               0                      0              0   \n",
       "1                               1                      1              1   \n",
       "2                               0                      0              2   \n",
       "3                               2                      2              1   \n",
       "4                               2                      3              1   \n",
       "...                           ...                    ...            ...   \n",
       "4318                            2                    269            118   \n",
       "4319                            0                    257            107   \n",
       "4320                            0                    280            107   \n",
       "4321                            0                    257            107   \n",
       "4322                            0                    280            107   \n",
       "\n",
       "      jumlah_saksi  maks_penjara_berdasarkan_pasal  \\\n",
       "0                6                              80   \n",
       "1                4                              48   \n",
       "2                6                              84   \n",
       "3                2                             144   \n",
       "4                2                             144   \n",
       "...            ...                             ...   \n",
       "4318             2                             240   \n",
       "4319             2                              84   \n",
       "4320             2                              84   \n",
       "4321             2                              84   \n",
       "4322             2                              84   \n",
       "\n",
       "                                        terdakwa  \\\n",
       "0                                 GEDE DARMAYASA   \n",
       "1                    IDA BAGUS MADE DARMA WIGUNA   \n",
       "2                                 HANDRI JOHANAS   \n",
       "3                     I GEDE ARIADI alias BERNAD   \n",
       "4                     I GEDE ARIADI alias BERNAD   \n",
       "...                                          ...   \n",
       "4318  NURUL FIQRI SUDIRMAN als KIKI bin SUDIRMAN   \n",
       "4319                          SUPRIADI BIN RATIM   \n",
       "4320                          SUPRIADI BIN RATIM   \n",
       "4321             ANWAR RURI BIN SYARIFUDIN USMAN   \n",
       "4322             ANWAR RURI BIN SYARIFUDIN USMAN   \n",
       "\n",
       "                                     summarized_dakwaan  \\\n",
       "0     Terdakwa Gede Darmayasa didakwa telah melakuka...   \n",
       "1     Pada bulan Februari dan Maret 2024, terdakwa I...   \n",
       "2     Terdakwa Handri Johanes pada Rabu, 24 April 20...   \n",
       "3     Pada hari Minggu, 14 April 2024 sekitar pukul ...   \n",
       "4     Pada hari Minggu, 14 April 2024 sekitar pukul ...   \n",
       "...                                                 ...   \n",
       "4318  Pada Jumat, 31 Maret 2023, sekitar pukul 20.30...   \n",
       "4319  Pada hari Minggu, 28 Mei 2023, sekitar pukul 1...   \n",
       "4320  Pada hari Minggu, 28 Mei 2023, sekitar pukul 1...   \n",
       "4321  Pada hari Minggu, 28 Mei 2023, sekitar pukul 1...   \n",
       "4322  Pada hari Minggu, 28 Mei 2023, sekitar pukul 1...   \n",
       "\n",
       "      total_pidana_penjara_bulan  \n",
       "0                            5.0  \n",
       "1                           24.0  \n",
       "2                            4.0  \n",
       "3                           14.0  \n",
       "4                           14.0  \n",
       "...                          ...  \n",
       "4318                        72.0  \n",
       "4319                        16.0  \n",
       "4320                        16.0  \n",
       "4321                        16.0  \n",
       "4322                        16.0  \n",
       "\n",
       "[4323 rows x 8 columns]"
      ]
     },
     "execution_count": 3,
     "metadata": {},
     "output_type": "execute_result"
    }
   ],
   "source": [
    "df"
   ]
  },
  {
   "cell_type": "code",
   "execution_count": 4,
   "metadata": {},
   "outputs": [
    {
     "name": "stdout",
     "output_type": "stream",
     "text": [
      "<class 'pandas.core.frame.DataFrame'>\n",
      "RangeIndex: 4323 entries, 0 to 4322\n",
      "Data columns (total 8 columns):\n",
      " #   Column                          Non-Null Count  Dtype  \n",
      "---  ------                          --------------  -----  \n",
      " 0   klasifikasi_perkara_encoded     4323 non-null   int64  \n",
      " 1   penuntut_umum_encoded           4323 non-null   int64  \n",
      " 2   hakim_encoded                   4323 non-null   int64  \n",
      " 3   jumlah_saksi                    4323 non-null   int64  \n",
      " 4   maks_penjara_berdasarkan_pasal  4323 non-null   int64  \n",
      " 5   terdakwa                        4323 non-null   object \n",
      " 6   summarized_dakwaan              4323 non-null   object \n",
      " 7   total_pidana_penjara_bulan      4323 non-null   float64\n",
      "dtypes: float64(1), int64(5), object(2)\n",
      "memory usage: 270.3+ KB\n"
     ]
    }
   ],
   "source": [
    "df.info()"
   ]
  },
  {
   "cell_type": "markdown",
   "metadata": {},
   "source": [
    "### Split Data"
   ]
  },
  {
   "cell_type": "code",
   "execution_count": 5,
   "metadata": {},
   "outputs": [],
   "source": [
    "def stratified_split(df: pd.DataFrame, split_size: float = 0.8) -> tuple[pd.DataFrame, pd.DataFrame]:\n",
    "    unique_groups = df.groupby([\"klasifikasi_perkara_encoded\", \"penuntut_umum_encoded\", \"hakim_encoded\"]).apply(lambda x: x.index.tolist()).to_dict()\n",
    "    \n",
    "    print(unique_groups)\n",
    "    train_idx, test_idx = [], []\n",
    "    \n",
    "    for indices in unique_groups.values():        \n",
    "        if len(indices) == 1:\n",
    "            train_idx.extend(indices)\n",
    "        else:\n",
    "            train, test = train_test_split(indices, train_size=split_size, random_state=42)\n",
    "            train_idx.extend(train)\n",
    "            test_idx.extend(test)\n",
    "    \n",
    "    return df.loc[train_idx], df.loc[test_idx]"
   ]
  },
  {
   "cell_type": "code",
   "execution_count": 6,
   "metadata": {},
   "outputs": [
    {
     "name": "stdout",
     "output_type": "stream",
     "text": [
      "{(0, 0, 0): [0, 20, 42], (0, 0, 2): [2], (0, 1, 0): [19, 37], (0, 1, 4): [35, 36], (0, 4, 1): [5], (0, 4, 3): [10], (0, 5, 21): [843], (0, 7, 1): [9], (0, 8, 0): [15, 17], (0, 9, 0): [16, 18], (0, 11, 4): [22, 23], (0, 12, 19): [775, 776, 813], (0, 12, 21): [774], (0, 12, 22): [715], (0, 12, 23): [806], (0, 13, 0): [32], (0, 13, 3): [34], (0, 14, 0): [38], (0, 14, 14): [437, 501, 595, 609], (0, 14, 16): [422], (0, 14, 18): [474, 665], (0, 14, 19): [783, 784, 785, 786], (0, 14, 20): [432, 438, 518, 578, 608, 724, 745], (0, 14, 21): [639, 822], (0, 15, 4): [33], (0, 16, 0): [39], (0, 17, 0): [40, 41], (0, 19, 7): [46], (0, 20, 36): [1051], (0, 21, 52): [1612], (0, 21, 54): [1630, 1632], (0, 22, 10): [241, 268, 269, 270, 271, 303], (0, 22, 14): [259, 381, 415, 416, 538, 545, 577, 621], (0, 22, 16): [308, 314, 315, 383, 386, 417], (0, 22, 18): [654, 655, 656], (0, 22, 19): [548, 762], (0, 22, 20): [446, 570, 571, 572, 573, 690, 725], (0, 22, 22): [719], (0, 23, 10): [52, 54], (0, 24, 10): [136, 152, 172], (0, 24, 11): [75, 104], (0, 24, 12): [173], (0, 24, 14): [119], (0, 25, 10): [100, 147, 196, 369], (0, 25, 11): [55], (0, 25, 14): [374, 403, 449, 450], (0, 25, 16): [402], (0, 25, 19): [584, 585, 769], (0, 25, 20): [737], (0, 25, 21): [586, 815, 816, 817, 842], (0, 26, 10): [56], (0, 27, 10): [57, 94], (0, 27, 12): [90], (0, 28, 9): [58], (0, 28, 10): [106, 107, 109], (0, 28, 12): [96, 97], (0, 29, 10): [59, 60, 61], (0, 29, 12): [101, 102], (0, 30, 10): [174], (0, 30, 14): [144, 162, 163, 164, 166, 177], (0, 31, 10): [63, 91, 92, 93], (0, 31, 11): [65], (0, 31, 12): [80, 175, 176], (0, 31, 15): [182], (0, 32, 12): [70, 71], (0, 34, 10): [78], (0, 34, 11): [73, 81, 89], (0, 35, 12): [110, 111], (0, 35, 15): [170], (0, 36, 12): [105, 128], (0, 37, 15): [183], (0, 38, 10): [153], (0, 38, 31): [970, 972], (0, 38, 52): [1523], (0, 39, 10): [134, 294, 360, 387], (0, 39, 14): [260], (0, 39, 16): [291, 320, 329, 365], (0, 39, 19): [722], (0, 40, 10): [141, 165, 178], (0, 40, 12): [112], (0, 40, 14): [120], (0, 41, 10): [289, 312, 316, 348, 349], (0, 41, 14): [186, 187, 420, 421, 574, 587], (0, 41, 16): [304, 305, 306, 331, 346, 347, 362, 363], (0, 41, 17): [388], (0, 41, 18): [442, 657, 664, 711], (0, 41, 19): [495, 604], (0, 41, 20): [493, 636], (0, 41, 21): [700, 701], (0, 42, 10): [206, 212, 261, 264], (0, 42, 12): [142], (0, 42, 13): [288], (0, 45, 12): [133], (0, 46, 10): [211, 242, 243], (0, 46, 12): [145, 236, 237, 238, 239], (0, 46, 14): [149, 151], (0, 47, 10): [352], (0, 47, 16): [324, 325, 326, 384, 385], (0, 49, 12): [179, 195], (0, 51, 14): [148, 150, 430, 533, 554, 555, 556, 590], (0, 51, 18): [651, 652], (0, 51, 19): [425, 426, 429, 547, 580, 635, 643], (0, 51, 20): [448, 480, 481, 513, 514, 530, 531, 607, 622], (0, 51, 21): [628, 647, 771], (0, 53, 10): [199, 250, 251, 252, 253], (0, 53, 12): [200], (0, 53, 14): [232], (0, 53, 16): [265], (0, 54, 10): [330], (0, 54, 16): [296, 389], (0, 54, 17): [366], (0, 55, 10): [198, 282, 283], (0, 55, 12): [201], (0, 55, 17): [364], (0, 56, 10): [380], (0, 56, 14): [327, 328], (0, 56, 16): [338], (0, 57, 14): [221, 222, 223, 224, 517, 614], (0, 57, 19): [459, 460, 461, 509, 510, 511, 632, 781, 782], (0, 57, 20): [433], (0, 57, 21): [645, 746], (0, 57, 23): [810, 834], (0, 57, 45): [1257, 1259], (0, 59, 10): [318, 333, 334, 368], (0, 59, 13): [292], (0, 59, 14): [332, 337, 339, 343, 356, 357, 358, 397, 406, 482, 483], (0, 59, 16): [275, 276, 277, 302, 317, 336, 359, 367], (0, 59, 19): [440, 479, 593, 598], (0, 59, 20): [434, 454, 475, 498, 507, 559, 591, 592, 602, 603, 686], (0, 59, 21): [557], (0, 59, 22): [721], (0, 60, 10): [379], (0, 60, 19): [534, 535, 627, 814], (0, 60, 20): [630], (0, 61, 14): [408, 524, 540], (0, 61, 18): [753, 796], (0, 61, 19): [494, 508, 560, 561, 562, 588], (0, 61, 20): [455, 581], (0, 61, 21): [631, 641], (0, 62, 14): [610], (0, 62, 16): [409], (0, 62, 19): [500, 799, 800], (0, 62, 20): [476], (0, 62, 21): [638], (0, 63, 14): [484, 485], (0, 63, 20): [566, 567, 568, 738, 780], (0, 63, 21): [616, 841], (0, 63, 22): [699], (0, 64, 14): [539, 615], (0, 64, 18): [424, 528], (0, 64, 20): [523, 712], (0, 64, 21): [640, 648, 649], (0, 65, 14): [550], (0, 65, 19): [714, 730, 731, 732, 733, 736], (0, 65, 20): [716, 750], (0, 65, 21): [840], (0, 65, 31): [923], (0, 66, 14): [543], (0, 66, 20): [596, 597, 629, 718, 795], (0, 66, 21): [787, 788], (0, 66, 22): [734], (0, 66, 23): [835], (0, 66, 46): [1380], (0, 68, 18): [653], (0, 68, 21): [791, 792], (0, 69, 19): [831], (0, 69, 20): [759], (0, 69, 35): [956, 958, 960], (0, 70, 7): [2030, 2031], (0, 70, 19): [765, 766], (0, 70, 20): [740, 741], (0, 70, 21): [767], (0, 70, 70): [1994, 1995], (0, 70, 73): [2070], (0, 72, 19): [761, 809], (0, 72, 21): [763, 829], (0, 74, 19): [794], (0, 74, 20): [777], (0, 76, 18): [789], (0, 76, 21): [826], (0, 78, 23): [807], (0, 80, 21): [819], (0, 81, 23): [827], (0, 82, 26): [860], (0, 82, 31): [886, 907], (0, 84, 30): [871, 872], (0, 85, 9): [990], (0, 85, 28): [885], (0, 85, 31): [969, 971], (0, 85, 34): [946], (0, 85, 35): [998], (0, 85, 36): [1025, 1026], (0, 85, 41): [1022], (0, 88, 28): [913], (0, 88, 34): [911, 921], (0, 88, 35): [979, 1001, 1007], (0, 89, 29): [870], (0, 90, 31): [915, 953], (0, 90, 34): [937], (0, 90, 35): [939, 1000], (0, 92, 28): [868], (0, 92, 31): [879], (0, 94, 32): [877], (0, 95, 32): [880], (0, 97, 30): [890], (0, 97, 32): [904], (0, 100, 9): [991], (0, 100, 31): [916], (0, 100, 34): [947, 987], (0, 100, 35): [980, 981, 999], (0, 100, 37): [995], (0, 100, 38): [996], (0, 102, 33): [900, 901, 902, 903], (0, 104, 28): [914], (0, 104, 34): [912, 922, 938], (0, 104, 35): [940], (0, 105, 31): [924], (0, 107, 31): [943], (0, 108, 31): [944], (0, 109, 31): [945], (0, 110, 35): [955, 957, 959, 1006], (0, 110, 38): [997], (0, 111, 31): [954], (0, 111, 36): [1043], (0, 112, 9): [961], (0, 112, 35): [1008], (0, 112, 36): [992], (0, 113, 9): [962], (0, 113, 35): [1009], (0, 114, 34): [986], (0, 115, 13): [993, 994], (0, 119, 36): [1037, 1042, 1052], (0, 119, 40): [1030], (0, 121, 41): [1035], (0, 122, 36): [1036], (0, 125, 39): [1296, 1320], (0, 125, 44): [1425], (0, 125, 45): [1324, 1435, 1437, 1439, 1441], (0, 125, 46): [1358], (0, 126, 39): [1080, 1190], (0, 126, 43): [1055], (0, 126, 44): [1206, 1207], (0, 126, 45): [1192], (0, 127, 43): [1056], (0, 128, 39): [1076, 1174, 1196, 1198], (0, 128, 43): [1057, 1121, 1133, 1135], (0, 128, 44): [1074, 1200], (0, 129, 43): [1058, 1063, 1122, 1134, 1136], (0, 129, 44): [1075, 1109, 1111], (0, 129, 45): [1117, 1119, 1137], (0, 130, 43): [1105], (0, 130, 44): [1096, 1098, 1395, 1397, 1401], (0, 130, 45): [1139, 1215, 1292, 1298, 1312, 1316, 1427], (0, 130, 46): [1381], (0, 131, 43): [1147], (0, 131, 44): [1061, 1062], (0, 131, 45): [1159, 1195], (0, 132, 43): [1064], (0, 133, 39): [1065], (0, 133, 44): [1225, 1227, 1411], (0, 133, 45): [1143, 1203, 1253], (0, 134, 39): [1066], (0, 135, 39): [1077], (0, 135, 43): [1067, 1068, 1069], (0, 135, 45): [1118, 1120, 1138, 1144], (0, 136, 39): [1256], (0, 136, 44): [1400], (0, 136, 45): [1291], (0, 137, 39): [1081, 1191], (0, 137, 43): [1106], (0, 137, 44): [1097, 1099], (0, 137, 45): [1140, 1405], (0, 137, 46): [1326, 1328, 1330, 1332, 1334, 1423, 1448, 1459], (0, 137, 47): [1451, 1454, 1457], (0, 138, 43): [1150], (0, 138, 45): [1235, 1388, 1434, 1436, 1438, 1440], (0, 140, 39): [1197, 1199, 1229, 1295], (0, 140, 43): [1146, 1151], (0, 140, 44): [1110, 1112], (0, 140, 45): [1194, 1248, 1252, 1255], (0, 141, 39): [1281, 1319], (0, 141, 44): [1410], (0, 141, 45): [1158, 1202, 1254, 1382], (0, 141, 46): [1357], (0, 142, 45): [1168], (0, 143, 45): [1169, 1216, 1236, 1249], (0, 144, 39): [1175, 1228, 1302, 1304], (0, 144, 44): [1201], (0, 144, 45): [1247, 1258, 1260, 1323, 1355, 1389], (0, 144, 47): [1450, 1453, 1456], (0, 145, 44): [1208], (0, 145, 45): [1193], (0, 146, 39): [1282], (0, 146, 44): [1224, 1226], (0, 146, 45): [1383], (0, 148, 45): [1284], (0, 149, 39): [1301, 1303], (0, 149, 44): [1394, 1396], (0, 149, 45): [1283, 1297, 1311, 1315, 1404, 1426], (0, 150, 46): [1325, 1327, 1329, 1331, 1333, 1447, 1458], (0, 150, 47): [1449, 1452, 1455], (0, 151, 44): [1424], (0, 151, 45): [1356, 1390], (0, 151, 46): [1422], (0, 155, 23): [1462], (0, 155, 48): [1531, 1535, 1552, 1554, 1575], (0, 155, 50): [1478, 1480], (0, 156, 23): [1463], (0, 156, 48): [1548], (0, 157, 48): [1464, 1486], (0, 158, 48): [1465, 1596], (0, 158, 51): [1500], (0, 158, 52): [1639, 1641], (0, 159, 48): [1472], (0, 159, 50): [1622], (0, 159, 52): [1614, 1616, 1640, 1642, 1647], (0, 161, 48): [1473, 1507, 1509, 1511, 1520, 1532, 1536], (0, 161, 50): [1479, 1481], (0, 161, 51): [1497, 1501], (0, 162, 48): [1576, 1580, 1593], (0, 162, 51): [1496], (0, 162, 52): [1581, 1599, 1604, 1605], (0, 163, 48): [1487], (0, 163, 52): [1583, 1590, 1600], (0, 164, 48): [1519, 1594], (0, 165, 51): [1544, 1546, 1574], (0, 166, 48): [1506, 1508, 1510], (0, 167, 51): [1543, 1545, 1649], (0, 167, 52): [1578, 1646], (0, 168, 52): [1524], (0, 169, 48): [1547, 1551, 1553], (0, 169, 51): [1559], (0, 169, 52): [1555], (0, 170, 48): [1579, 1595], (0, 170, 50): [1621], (0, 170, 51): [1560, 1573, 1648], (0, 170, 52): [1556, 1561, 1577, 1582, 1589, 1603, 1611, 1613, 1615], (0, 170, 53): [1584], (0, 170, 54): [1629, 1631], (0, 171, 52): [1562], (0, 172, 52): [1606], (0, 176, 47): [1675, 1681], (0, 176, 58): [1679], (0, 177, 47): [1678], (0, 177, 61): [1721, 1727, 1728], (0, 178, 47): [1723, 1733], (0, 179, 47): [1695, 1715], (0, 180, 47): [1708], (0, 180, 58): [1716, 1717, 1718, 1719], (0, 180, 61): [1735], (0, 184, 47): [1725], (0, 184, 60): [1697], (0, 184, 61): [1743], (0, 184, 63): [1710, 1711], (0, 185, 26): [2174, 2205, 2336, 2440], (0, 185, 61): [1704], (0, 185, 74): [2152], (0, 185, 75): [2292], (0, 185, 77): [2426], (0, 185, 78): [2456], (0, 185, 79): [2315, 2320, 2323, 2324, 2335, 2342, 2381, 2392], (0, 185, 80): [2441], (0, 185, 81): [2467], (0, 186, 47): [1705], (0, 190, 65): [1745], (0, 191, 65): [1746], (0, 192, 26): [2158, 2213, 2214], (0, 192, 66): [1749], (0, 192, 67): [1891], (0, 192, 68): [1905, 1906, 1913], (0, 192, 69): [2004], (0, 192, 71): [2015, 2028, 2029, 2032], (0, 192, 72): [2037, 2038], (0, 192, 73): [2113], (0, 192, 74): [2114], (0, 192, 75): [2133, 2253], (0, 192, 77): [2212, 2242], (0, 194, 7): [2020], (0, 194, 69): [2056], (0, 194, 70): [1982], (0, 194, 73): [2119], (0, 195, 67): [1789, 1790, 1791], (0, 195, 69): [1798], (0, 195, 70): [1797], (0, 196, 5): [1760], (0, 196, 7): [1771, 1968, 1972, 1973, 1983, 2012, 2017, 2018], (0, 196, 26): [2209, 2308, 2344, 2448, 2460, 2489], (0, 196, 67): [1804, 1824, 1828, 1842, 1851, 1872, 1873, 1895, 1909, 1940], (0, 196, 68): [1803, 1819, 1825, 1833, 1834, 1835, 1839, 1840, 1845, 1850, 1852, 1871, 1876, 1879, 1885, 1890, 1902, 1907, 1916, 1932], (0, 196, 69): [1967], (0, 196, 70): [1948, 2000], (0, 196, 73): [2078, 2118], (0, 196, 74): [2063, 2172, 2186, 2514], (0, 196, 77): [2217, 2237, 2238, 2463], (0, 196, 79): [2355, 2380, 2418], (0, 196, 81): [2484], (0, 197, 7): [1766], (0, 197, 67): [1776, 1784, 1787], (0, 197, 68): [1818, 1820], (0, 198, 67): [1762, 1763, 1764, 1765, 1779], (0, 199, 68): [1767], (0, 201, 7): [2009], (0, 201, 26): [2171, 2187, 2517], (0, 201, 67): [1914, 1915], (0, 201, 68): [1772, 1874, 1894], (0, 201, 73): [2053, 2071, 2072, 2092, 2093], (0, 201, 74): [2076, 2102, 2115, 2130, 2162], (0, 201, 75): [2203], (0, 201, 77): [2215, 2275, 2515, 2516], (0, 201, 78): [2257, 2452], (0, 202, 67): [1830], (0, 202, 68): [1778, 1794, 1795, 1814, 1815, 1837, 1904], (0, 204, 7): [1949, 1981], (0, 204, 26): [2240, 2241, 2299, 2343], (0, 204, 68): [1888, 1889], (0, 204, 69): [2055], (0, 204, 70): [1980], (0, 204, 72): [2062], (0, 204, 73): [2058, 2090], (0, 204, 74): [2057, 2122, 2137], (0, 204, 75): [2235], (0, 204, 77): [2221, 2236], (0, 205, 7): [1976], (0, 205, 18): [2518], (0, 205, 26): [2175, 2190, 2198, 2199, 2284, 2285, 2348, 2349, 2413, 2494, 2510], (0, 205, 67): [1849, 1930], (0, 205, 68): [1846, 1848, 1899], (0, 205, 70): [2005], (0, 205, 72): [2046], (0, 205, 73): [2069, 2116], (0, 205, 74): [2079, 2080, 2134, 2135, 2167], (0, 205, 77): [2444, 2506, 2511], (0, 205, 78): [2475], (0, 205, 79): [2370, 2438, 2496, 2497], (0, 207, 7): [1963, 1997], (0, 207, 26): [2184, 2256, 2319, 2434], (0, 207, 67): [1928, 1929, 1951, 1952, 1975], (0, 207, 68): [1903], (0, 207, 70): [1987, 2003], (0, 207, 71): [2039, 2040, 2041], (0, 207, 73): [2121], (0, 207, 74): [2059, 2060, 2066], (0, 207, 75): [2131, 2239], (0, 207, 76): [2188], (0, 207, 77): [2216, 2300, 2301, 2312, 2313, 2356], (0, 207, 78): [2362], (0, 207, 79): [2338, 2439], (0, 207, 80): [2422, 2423, 2424], (0, 208, 68): [1926], (0, 209, 7): [1959, 1971], (0, 209, 67): [1931], (0, 209, 73): [2110, 2128], (0, 209, 74): [2067], (0, 209, 75): [2274], (0, 209, 77): [2287], (0, 209, 79): [2351, 2474, 2503, 2504, 2505], (0, 210, 7): [2016], (0, 210, 67): [1985], (0, 210, 69): [1992, 1993], (0, 210, 70): [2010], (0, 210, 72): [2047, 2064], (0, 210, 73): [2061, 2095], (0, 211, 7): [2001], (0, 211, 70): [1996], (0, 211, 73): [2098, 2099, 2100], (0, 211, 74): [2077], (0, 212, 69): [2054], (0, 213, 74): [2068], (0, 214, 26): [2280], (0, 215, 75): [2270], (0, 215, 77): [2478], (0, 216, 26): [2360], (0, 217, 26): [2411, 2443], (0, 217, 75): [2262, 2309], (0, 217, 77): [2276, 2345, 2479, 2485], (0, 217, 78): [2465], (0, 217, 79): [2372, 2390, 2412, 2442, 2471, 2476], (0, 218, 18): [2523], (0, 218, 26): [2266, 2314], (0, 218, 77): [2295, 2296, 2350, 2414, 2508], (0, 218, 79): [2507], (0, 219, 26): [2420], (0, 219, 74): [2513], (0, 219, 75): [2289, 2290], (0, 219, 77): [2427], (0, 219, 79): [2389, 2459], (0, 220, 26): [2294], (0, 220, 77): [2316, 2317, 2318], (0, 221, 26): [2347, 2401], (0, 221, 77): [2337, 2521, 2524], (0, 221, 79): [2371, 2437, 2481], (0, 222, 26): [2361, 2367, 2394, 2432], (0, 222, 77): [2333], (0, 222, 78): [2428, 2429, 2430, 2431], (0, 222, 79): [2415], (0, 223, 26): [2417], (0, 225, 79): [2483], (0, 226, 77): [2509], (0, 228, 82): [2527, 2528], (0, 228, 85): [2545], (0, 228, 90): [2536, 2537], (0, 229, 83): [2529], (0, 229, 87): [2559], (0, 232, 101): [2560], (0, 234, 91): [2538], (0, 235, 89): [2535], (0, 235, 94): [2564, 2565], (0, 236, 85): [2542], (0, 238, 93): [2543], (0, 238, 100): [2558], (0, 241, 90): [2547], (0, 242, 95): [2548], (0, 243, 96): [2549], (0, 244, 88): [2550, 2551], (0, 246, 90): [2567], (0, 247, 102): [2571], (0, 248, 84): [2566], (0, 256, 105): [2583, 3525], (0, 256, 106): [2781, 2783, 2785, 2787, 3500], (0, 256, 107): [2864, 3596], (0, 256, 108): [2894], (0, 256, 109): [3035, 3433], (0, 256, 110): [2673], (0, 256, 111): [2702], (0, 256, 113): [2638], (0, 256, 114): [2850], (0, 256, 116): [2775, 3209, 3385, 3711], (0, 256, 117): [3327, 3329], (0, 256, 118): [2640, 2692], (0, 256, 119): [2677, 2979, 3432, 4027, 4029, 4031, 4033], (0, 256, 121): [3042], (0, 256, 123): [2848], (0, 256, 124): [2860, 3000, 3277, 3447], (0, 256, 125): [3117, 3119, 3523, 3535], (0, 256, 126): [3125], (0, 257, 105): [2584, 3112, 3114, 3564], (0, 257, 106): [2782, 2784, 2786, 2788, 3070, 3318, 3501, 3630, 3632, 3928, 3970, 4182, 4184], (0, 257, 107): [2610, 3193, 3451, 4314, 4319, 4321], (0, 257, 108): [2596, 2598, 2600, 2895, 3281, 3592, 3594], (0, 257, 109): [3036, 3434, 4133, 4135, 4148, 4316], (0, 257, 110): [2674, 3016, 3644, 3646], (0, 257, 112): [2612, 2614, 3149], (0, 257, 113): [2639, 3129, 3131, 3133, 4283], (0, 257, 114): [2732], (0, 257, 116): [2776, 3386, 3712], (0, 257, 117): [3151, 3152, 3328, 3330, 4046], (0, 257, 118): [2641, 2693, 2844, 3092, 3714, 3716, 4281], (0, 257, 119): [2678, 2980, 3697, 3912, 3914], (0, 257, 120): [2772, 3025, 3027], (0, 257, 121): [2897, 3276, 4216, 4218], (0, 257, 123): [2849, 3056, 3355, 3357, 3359], (0, 257, 124): [2861, 3278], (0, 257, 125): [3118, 3120, 3766, 3768, 4202], (0, 257, 126): [3126, 3882], (0, 257, 127): [3774, 4160], (0, 258, 105): [2745, 2969, 2971, 3111, 3113, 3183, 3185, 3547], (0, 258, 106): [2585, 2719, 2721, 3069, 3629, 3631, 3775, 3777, 3927, 3969, 4284], (0, 258, 107): [2629, 3229, 4203, 4313], (0, 258, 108): [3591, 3593], (0, 258, 109): [2823, 2856, 2929], (0, 258, 110): [2880, 3219, 3390, 4262, 4264, 4266], (0, 258, 111): [3157, 3472], (0, 258, 112): [2931, 2933, 2935, 2937, 2975, 2977], (0, 258, 113): [3971, 4246], (0, 258, 114): [2621, 3159, 3161, 3335, 3337, 3339, 3453, 3455], (0, 258, 115): [2623, 4013, 4015, 4139, 4178], (0, 258, 116): [3416, 3418, 3420, 3422], (0, 258, 117): [2749, 2751, 2884, 2886, 2888, 3753], (0, 258, 118): [3425, 3713, 3715, 3989, 4105, 4107], (0, 258, 119): [3431, 4067], (0, 258, 120): [2709, 2711, 3293, 3295], (0, 258, 121): [2669, 2824, 2989, 3001, 3003, 3041, 3275, 4017, 4268, 4270, 4272], (0, 258, 122): [2842], (0, 258, 123): [2987, 3398, 3542], (0, 258, 124): [2999, 3691], (0, 258, 125): [3522, 3534, 3677, 4083, 4201], (0, 258, 126): [3818, 4213], (0, 258, 127): [3896, 3898, 4179], (0, 258, 128): [4307], (0, 258, 129): [4058], (0, 258, 130): [4292], (0, 259, 106): [2586, 2919, 4112], (0, 259, 108): [2743, 3481], (0, 259, 109): [3796], (0, 259, 111): [2763, 2993, 3109], (0, 259, 114): [4042], (0, 259, 115): [2997, 3301, 3872], (0, 259, 117): [2750, 2752, 3679], (0, 259, 119): [2797, 2962, 2964, 2981], (0, 259, 120): [2710, 2712, 2915, 2917], (0, 259, 121): [3681], (0, 259, 123): [3822], (0, 259, 128): [3788, 3790, 3792, 3794], (0, 260, 111): [2671], (0, 260, 113): [2735], (0, 260, 114): [2973, 3336, 3338, 3340], (0, 260, 116): [3417, 3419, 3421, 3423], (0, 260, 117): [3392, 3410], (0, 260, 123): [3545], (0, 260, 124): [3448], (0, 260, 126): [3489], (0, 261, 105): [3548], (0, 261, 107): [3582], (0, 261, 110): [3220], (0, 261, 111): [2672], (0, 261, 113): [3405], (0, 261, 114): [2974], (0, 261, 115): [2875, 3214, 3216], (0, 261, 117): [3074], (0, 261, 123): [3218, 3546], (0, 264, 105): [2852], (0, 264, 106): [3317], (0, 264, 107): [2865, 3089], (0, 264, 108): [2595, 2597, 2599, 2854], (0, 264, 110): [3015], (0, 264, 111): [2703, 3371], (0, 264, 114): [2731], (0, 264, 116): [2866, 3210], (0, 264, 118): [3091], (0, 264, 120): [2771], (0, 265, 105): [2970, 2972], (0, 265, 106): [3776, 3778], (0, 265, 107): [2609, 2630, 2793, 2794], (0, 265, 109): [2601], (0, 265, 110): [2755, 2757, 2759, 2761, 2881, 3650, 4263, 4265, 4267], (0, 265, 111): [2925, 2926, 3158], (0, 265, 112): [2611, 2613, 2932, 2934, 2936, 2938, 2976, 2978], (0, 265, 113): [3319, 3321], (0, 265, 117): [2885, 2887, 2889, 3411, 3664], (0, 265, 122): [2843], (0, 265, 123): [2988, 3055, 3399], (0, 265, 124): [3634, 3636], (0, 265, 125): [3059, 3061], (0, 266, 106): [2661, 3148], (0, 266, 107): [2716, 2718], (0, 266, 108): [3482], (0, 266, 109): [2602, 3176], (0, 266, 111): [2994], (0, 266, 115): [3302], (0, 266, 117): [3811], (0, 266, 119): [2798], (0, 266, 121): [3682], (0, 266, 125): [3884], (0, 266, 126): [2961], (0, 266, 128): [4004], (0, 267, 106): [2660, 2720, 2722, 2920, 3147], (0, 267, 107): [2715, 2717, 3581], (0, 267, 108): [2744], (0, 267, 109): [3175], (0, 267, 110): [2756, 2758, 2760, 2762], (0, 267, 111): [2764, 3110], (0, 267, 115): [2998, 4196], (0, 267, 117): [3754], (0, 267, 119): [2963, 2965, 2982], (0, 267, 120): [2916, 2918], (0, 267, 123): [3823], (0, 267, 125): [3883], (0, 267, 126): [2960, 3881], (0, 267, 128): [4003], (0, 268, 109): [3313], (0, 268, 111): [3372], (0, 268, 113): [2736, 3404], (0, 268, 117): [3073], (0, 268, 120): [3294, 3296], (0, 269, 105): [2928, 3556, 3558], (0, 269, 106): [4111, 4181, 4183], (0, 269, 107): [3230, 3807, 3809], (0, 269, 108): [3950], (0, 269, 109): [2694, 2696, 3930, 4315], (0, 269, 112): [3088], (0, 269, 113): [3856], (0, 269, 114): [4008], (0, 269, 116): [4142], (0, 269, 117): [3978, 3980, 3982], (0, 269, 121): [2990, 4215, 4217], (0, 269, 123): [3858, 3984, 3986], (0, 269, 124): [4158], (0, 269, 125): [2950, 2952, 2954, 3266, 3268], (0, 269, 126): [4051, 4053, 4055, 4057, 4214], (0, 269, 127): [3773, 3805], (0, 269, 129): [4100], (0, 270, 105): [3300], (0, 270, 106): [3699, 3701, 3703, 3705], (0, 270, 107): [3885], (0, 270, 108): [3974, 3976], (0, 270, 113): [4282], (0, 270, 116): [4098], (0, 270, 118): [4280], (0, 270, 119): [3724, 3726], (0, 270, 124): [3920], (0, 270, 125): [3495], (0, 270, 126): [3378, 3380], (0, 271, 107): [3824], (0, 271, 108): [3949], (0, 271, 109): [3795, 3929, 4147], (0, 271, 113): [3855], (0, 271, 114): [3750, 4007], (0, 271, 115): [3871], (0, 271, 116): [4141], (0, 271, 117): [3977, 3979, 3981, 4045], (0, 271, 119): [4028, 4030, 4032, 4034], (0, 271, 120): [3931], (0, 271, 123): [3983, 3985], (0, 271, 125): [3265, 3267, 3765, 3767], (0, 271, 127): [3804], (0, 271, 129): [4099], (0, 272, 105): [2746, 3184, 3186], (0, 272, 107): [4204], (0, 272, 109): [2695, 2697, 2857], (0, 272, 110): [3475], (0, 272, 113): [3320, 3322, 3972, 4247], (0, 272, 114): [2622], (0, 272, 115): [2624], (0, 272, 118): [4106, 4108], (0, 272, 120): [3932, 4020], (0, 272, 121): [2670, 2825, 3002, 3004, 4018], (0, 272, 124): [3692], (0, 272, 125): [3060, 3062], (0, 272, 126): [3490], (0, 273, 115): [2874], (0, 274, 106): [3863], (0, 274, 107): [4143, 4145], (0, 274, 110): [3389], (0, 274, 114): [3735], (0, 274, 115): [4177], (0, 274, 116): [2667, 4235], (0, 274, 117): [4169, 4171], (0, 274, 118): [3424], (0, 274, 119): [3911, 3913, 4066], (0, 274, 120): [4019], (0, 274, 124): [3919, 4157], (0, 274, 125): [3494], (0, 274, 127): [3895, 3897, 4308], (0, 274, 128): [4306], (0, 274, 129): [4173], (0, 274, 130): [4256, 4258, 4260], (0, 275, 106): [3864], (0, 275, 107): [3886], (0, 275, 114): [3736], (0, 275, 116): [2668], (0, 275, 119): [3698], (0, 278, 105): [2927, 3459, 3555, 3557], (0, 278, 107): [3806, 3808], (0, 278, 108): [3708], (0, 278, 112): [3087], (0, 278, 113): [3012], (0, 278, 114): [3749], (0, 278, 115): [3943], (0, 278, 117): [3663], (0, 278, 123): [3857], (0, 278, 125): [2949, 2951, 2953], (0, 278, 126): [3377, 3379, 4050, 4052, 4054, 4056], (0, 279, 107): [3825], (0, 279, 116): [4236], (0, 280, 105): [2853], (0, 280, 107): [3090, 3194, 3452, 4144, 4146, 4320, 4322], (0, 280, 108): [2855, 3282], (0, 280, 109): [3314, 4134, 4136], (0, 280, 112): [3150], (0, 280, 113): [3130, 3132, 3134], (0, 280, 114): [2851, 3160, 3162], (0, 280, 116): [2867, 4279], (0, 280, 117): [4170, 4172], (0, 280, 118): [2845], (0, 280, 120): [3026, 3028], (0, 280, 121): [2898], (0, 280, 123): [3356, 3358, 3360], (0, 280, 125): [4084], (0, 280, 129): [4174], (0, 280, 130): [4257, 4259, 4261], (0, 281, 110): [3689], (0, 281, 118): [4189, 4191], (0, 281, 120): [3641], (0, 281, 123): [3665, 3667], (0, 281, 125): [3678, 4290], (0, 282, 109): [2930], (0, 284, 115): [3213, 3215], (0, 284, 123): [3217], (0, 285, 105): [3299, 3563], (0, 285, 106): [4285], (0, 285, 108): [3007, 3009, 3707, 3973, 3975], (0, 285, 110): [3474, 3649], (0, 285, 111): [3473], (0, 285, 112): [3341, 3408], (0, 285, 113): [3011], (0, 285, 114): [4041], (0, 285, 115): [3412, 4014, 4016, 4140, 4195], (0, 285, 116): [4097, 4278], (0, 285, 117): [3810], (0, 285, 118): [3297, 3990], (0, 285, 119): [3723, 3725], (0, 285, 123): [3543], (0, 285, 124): [3633, 3635], (0, 285, 126): [3819, 3933, 3935], (0, 285, 127): [4159, 4180], (0, 285, 128): [3787, 3789, 3791, 3793, 3945], (0, 285, 129): [4059], (0, 285, 130): [4293], (0, 286, 106): [3700, 3702, 3704, 3706], (0, 286, 108): [3008, 3010], (0, 286, 112): [3409], (0, 286, 114): [3454, 3456], (0, 286, 115): [3413, 3944], (0, 286, 118): [3298], (0, 286, 121): [4269, 4271, 4273], (0, 286, 124): [4219, 4221], (0, 286, 126): [3934, 3936], (0, 286, 128): [3946], (0, 289, 112): [3342], (0, 290, 105): [3524], (0, 290, 107): [3595], (0, 290, 110): [3643, 3645], (0, 292, 110): [3690], (0, 292, 117): [3680], (0, 292, 118): [4190, 4192], (0, 292, 120): [3642], (0, 292, 123): [3666, 3668], (0, 292, 124): [4220, 4222], (0, 292, 125): [4291], (0, 292, 127): [4309], (1, 1, 1): [1], (1, 10, 0): [21], (1, 22, 13): [185], (1, 22, 15): [290], (1, 22, 20): [687, 704], (1, 25, 14): [413], (1, 25, 18): [525, 544], (1, 25, 21): [751], (1, 28, 11): [99], (1, 32, 11): [64], (1, 39, 9): [103], (1, 41, 10): [246], (1, 41, 14): [521], (1, 42, 10): [121], (1, 45, 13): [184], (1, 46, 10): [143], (1, 47, 14): [180], (1, 51, 14): [412], (1, 53, 10): [218], (1, 55, 10): [323], (1, 56, 14): [216, 217], (1, 57, 21): [644, 764], (1, 59, 20): [431, 793], (1, 60, 14): [551], (1, 60, 20): [688], (1, 60, 21): [601, 743], (1, 62, 22): [720], (1, 63, 14): [496, 497], (1, 65, 14): [445], (1, 65, 21): [565], (1, 65, 23): [832], (1, 65, 25): [854], (1, 65, 28): [888], (1, 66, 18): [708], (1, 66, 22): [693], (1, 66, 39): [1233], (1, 66, 45): [1346], (1, 68, 19): [752], (1, 70, 26): [2182], (1, 74, 23): [833], (1, 80, 23): [820], (1, 86, 25): [852], (1, 87, 25): [853], (1, 88, 25): [855], (1, 89, 25): [856], (1, 91, 28): [861], (1, 93, 31): [878], (1, 125, 46): [1340], (1, 130, 39): [1059], (1, 130, 45): [1348], (1, 136, 45): [1347], (1, 137, 39): [1234], (1, 137, 45): [1368], (1, 144, 46): [1339], (1, 149, 45): [1367], (1, 155, 48): [1537], (1, 158, 52): [1650], (1, 159, 52): [1651], (1, 163, 48): [1538], (1, 166, 52): [1667], (1, 172, 54): [1655], (1, 173, 54): [1654], (1, 185, 67): [1831], (1, 187, 59): [1707], (1, 188, 47): [1742], (1, 192, 66): [1748], (1, 194, 67): [1927], (1, 194, 68): [1877, 1878], (1, 194, 70): [1957], (1, 195, 68): [1773, 1774], (1, 203, 68): [1786], (1, 205, 7): [2006], (1, 205, 73): [2104], (1, 207, 7): [1946, 1990], (1, 207, 68): [1870], (1, 207, 70): [1964], (1, 207, 77): [2303], (1, 209, 70): [1991], (1, 209, 75): [2075], (1, 209, 79): [2339], (1, 214, 74): [2155, 2178], (1, 215, 75): [2204], (1, 218, 26): [2493], (1, 218, 77): [2502], (1, 218, 78): [2387], (1, 227, 82): [2525, 2526], (1, 230, 84): [2530], (1, 234, 88): [2534], (1, 246, 103): [2578], (1, 249, 91): [2568], (1, 256, 113): [3638], (1, 256, 121): [3755], (1, 257, 126): [3239], (1, 258, 109): [3573], (1, 258, 111): [2644, 2801], (1, 258, 112): [3441], (1, 258, 114): [3540, 4129], (1, 258, 116): [3797], (1, 258, 117): [3504], (1, 258, 125): [3143], (1, 258, 127): [3733, 3947], (1, 259, 106): [3349], (1, 259, 109): [3083], (1, 259, 113): [2924], (1, 259, 119): [4114], (1, 259, 121): [3506, 3756], (1, 260, 107): [2587], (1, 260, 108): [3173], (1, 260, 119): [3171], (1, 261, 107): [2588], (1, 261, 109): [3584], (1, 261, 125): [3144], (1, 264, 124): [3031], (1, 265, 110): [4121], (1, 265, 111): [2802], (1, 265, 121): [3181], (1, 265, 124): [3426], (1, 265, 126): [3243], (1, 267, 109): [3084], (1, 267, 111): [2645], (1, 267, 121): [3507], (1, 267, 124): [3890], (1, 268, 108): [3174], (1, 268, 119): [3172], (1, 268, 122): [3269], (1, 269, 110): [2666, 4122], (1, 269, 119): [4113], (1, 269, 124): [3427], (1, 269, 126): [3244], (1, 271, 109): [3583], (1, 271, 110): [2665], (1, 271, 113): [2923], (1, 271, 124): [3889], (1, 271, 125): [3669], (1, 272, 105): [3324], (1, 272, 109): [3574], (1, 272, 117): [3505], (1, 272, 121): [3182], (1, 272, 127): [3734, 3948], (1, 274, 109): [3498], (1, 274, 113): [3637, 4035], (1, 274, 118): [2739, 3553], (1, 275, 109): [3499], (1, 275, 113): [4036], (1, 275, 114): [3541], (1, 275, 118): [2740, 3554], (1, 275, 120): [2879], (1, 278, 119): [3414], (1, 280, 112): [3442], (1, 280, 114): [4130], (1, 280, 124): [3032], (1, 280, 125): [3670], (1, 280, 126): [3240], (1, 281, 120): [2878], (1, 285, 113): [3893], (1, 285, 116): [4123, 4125], (1, 286, 116): [4124, 4126], (1, 286, 119): [3415], (1, 287, 106): [3350], (1, 287, 122): [3270], (1, 288, 105): [3323], (1, 292, 113): [3894], (2, 2, 1): [3], (2, 3, 1): [4], (2, 4, 1): [6], (2, 5, 1): [7], (2, 5, 4): [25], (2, 5, 23): [823], (2, 6, 1): [8], (2, 10, 2): [27], (2, 10, 9): [942], (2, 12, 4): [24], (2, 12, 14): [613, 619], (2, 12, 18): [633], (2, 12, 21): [646], (2, 12, 22): [695], (2, 12, 39): [1089], (2, 13, 0): [26], (2, 13, 4): [28, 29], (2, 14, 19): [808], (2, 14, 20): [772], (2, 18, 5): [43, 44], (2, 18, 6): [45], (2, 21, 48): [1489, 1491, 1516], (2, 21, 51): [1499, 1628], (2, 21, 52): [1502, 1504], (2, 21, 56): [1670, 1671], (2, 22, 9): [51], (2, 22, 10): [203, 204, 295, 310, 371, 390], (2, 22, 12): [88, 225], (2, 22, 13): [127, 284], (2, 22, 14): [258, 353, 354, 355, 423, 427, 428, 444, 491], (2, 22, 15): [298], (2, 22, 18): [527, 668], (2, 22, 19): [458, 637], (2, 22, 21): [605, 689, 748], (2, 22, 22): [705], (2, 24, 10): [53], (2, 24, 14): [123, 171], (2, 25, 10): [82], (2, 25, 12): [76], (2, 25, 13): [234, 235], (2, 25, 14): [233], (2, 25, 16): [287], (2, 25, 19): [825], (2, 27, 11): [79], (2, 28, 10): [74], (2, 28, 11): [77], (2, 28, 12): [67, 68], (2, 29, 10): [83], (2, 30, 10): [62, 113, 115], (2, 31, 10): [181], (2, 32, 11): [69], (2, 33, 11): [66], (2, 34, 10): [72], (2, 35, 10): [125], (2, 35, 14): [169], (2, 36, 10): [160], (2, 36, 12): [87], (2, 36, 14): [122], (2, 37, 10): [126], (2, 37, 12): [95, 108], (2, 37, 13): [130], (2, 37, 14): [140, 154], (2, 38, 9): [928], (2, 38, 11): [98], (2, 38, 52): [1526, 1528], (2, 39, 10): [193, 205, 215, 341, 342], (2, 39, 13): [161, 227, 286, 293], (2, 39, 15): [168], (2, 39, 16): [299, 300, 340], (2, 39, 20): [728], (2, 40, 13): [159], (2, 41, 10): [114, 116, 189, 191, 301, 313, 335], (2, 41, 12): [117, 207], (2, 41, 13): [244, 255, 257], (2, 41, 14): [132, 228, 229, 247, 322, 382, 457, 478, 552, 553, 563, 564], (2, 41, 15): [297], (2, 41, 16): [311, 319], (2, 41, 17): [321, 392, 393, 394, 400, 401], (2, 41, 18): [443, 519, 666], (2, 41, 19): [439, 505], (2, 41, 20): [451, 452, 558], (2, 41, 21): [691], (2, 42, 10): [219, 230], (2, 42, 12): [208, 226], (2, 42, 13): [131, 267], (2, 42, 16): [281], (2, 43, 10): [124], (2, 44, 14): [129], (2, 46, 12): [157], (2, 47, 12): [135], (2, 47, 14): [210], (2, 48, 10): [158], (2, 48, 14): [137, 138, 156], (2, 49, 14): [139], (2, 50, 13): [146, 263], (2, 50, 36): [1027], (2, 51, 19): [447, 811], (2, 51, 21): [541, 773], (2, 52, 10): [155, 188], (2, 53, 10): [167, 220, 262], (2, 53, 13): [245, 279, 280], (2, 54, 14): [248], (2, 54, 17): [344, 345], (2, 55, 10): [192, 309], (2, 55, 12): [197], (2, 56, 13): [272, 273, 274], (2, 56, 16): [372, 378, 405], (2, 57, 14): [473, 594], (2, 57, 19): [453], (2, 57, 21): [546], (2, 57, 23): [838], (2, 59, 19): [536, 821], (2, 59, 21): [537], (2, 60, 14): [373, 532, 612], (2, 60, 21): [694], (2, 61, 14): [623], (2, 61, 16): [410, 411], (2, 61, 18): [599, 600], (2, 61, 21): [611], (2, 61, 22): [729], (2, 61, 23): [803], (2, 62, 14): [526, 549], (2, 62, 20): [456], (2, 62, 21): [698], (2, 62, 22): [697], (2, 62, 23): [837], (2, 63, 14): [620], (2, 63, 16): [414], (2, 63, 18): [492, 702], (2, 63, 19): [502, 845], (2, 63, 20): [489, 503, 504, 606], (2, 63, 21): [589], (2, 64, 16): [419], (2, 64, 18): [499], (2, 65, 20): [727], (2, 65, 29): [881], (2, 65, 31): [931, 933], (2, 66, 18): [650, 801], (2, 66, 19): [579], (2, 66, 20): [760], (2, 66, 21): [798], (2, 66, 44): [1317], (2, 66, 46): [1408], (2, 68, 22): [717], (2, 69, 9): [952], (2, 69, 18): [659], (2, 69, 19): [744], (2, 69, 21): [805], (2, 69, 23): [836], (2, 70, 23): [846], (2, 70, 70): [1999], (2, 70, 71): [2045], (2, 70, 75): [2141, 2202, 2306], (2, 70, 77): [2268, 2269], (2, 70, 78): [2357], (2, 71, 23): [839], (2, 72, 19): [844], (2, 73, 19): [768, 830], (2, 75, 18): [779], (2, 76, 19): [802], (2, 77, 23): [804], (2, 82, 24): [847], (2, 82, 31): [895], (2, 83, 24): [848], (2, 83, 32): [891], (2, 84, 25): [849], (2, 84, 33): [897], (2, 85, 9): [927, 948, 985, 989], (2, 85, 26): [850, 851], (2, 85, 29): [864, 865], (2, 85, 30): [889], (2, 85, 31): [876, 896, 919, 920], (2, 85, 35): [918, 977], (2, 86, 27): [857], (2, 88, 9): [950, 966, 968, 974, 976], (2, 88, 25): [862], (2, 89, 27): [859], (2, 89, 33): [899], (2, 90, 27): [858], (2, 92, 25): [863], (2, 93, 30): [867], (2, 94, 31): [883], (2, 95, 31): [884], (2, 96, 31): [882], (2, 98, 32): [892], (2, 99, 30): [893], (2, 100, 30): [894], (2, 100, 31): [905], (2, 100, 35): [935, 978], (2, 100, 42): [1038, 1039], (2, 101, 33): [898], (2, 103, 31): [906], (2, 103, 35): [936], (2, 105, 31): [932, 934], (2, 106, 9): [941], (2, 110, 9): [949, 951, 965, 967, 973, 975, 984, 988, 1002, 1004, 1016], (2, 110, 35): [1012, 1014], (2, 111, 41): [1024], (2, 115, 9): [1003, 1005, 1017], (2, 115, 35): [1013, 1015], (2, 116, 36): [1011], (2, 117, 41): [1040], (2, 120, 36): [1031], (2, 122, 56): [1672], (2, 123, 36): [1041], (2, 125, 39): [1288, 1290], (2, 125, 44): [1415, 1429], (2, 125, 45): [1294, 1370, 1372], (2, 125, 46): [1385, 1387], (2, 126, 39): [1178], (2, 126, 44): [1261, 1263], (2, 126, 45): [1209], (2, 128, 39): [1086, 1164], (2, 128, 43): [1094, 1100, 1123], (2, 128, 44): [1113, 1141, 1152, 1211, 1213, 1220, 1222, 1230, 1239], (2, 128, 45): [1125], (2, 129, 43): [1084, 1107], (2, 129, 44): [1078, 1102, 1142], (2, 130, 39): [1177, 1269], (2, 130, 43): [1072, 1073], (2, 130, 44): [1318, 1443], (2, 130, 45): [1145, 1286, 1300], (2, 130, 46): [1350, 1409, 1413], (2, 131, 39): [1083, 1087, 1088, 1165], (2, 131, 43): [1095, 1101, 1124], (2, 131, 44): [1060, 1079, 1114, 1116, 1167, 1171, 1180], (2, 131, 45): [1126, 1172], (2, 133, 39): [1176], (2, 133, 43): [1090, 1092], (2, 133, 44): [1277, 1279, 1310], (2, 133, 45): [1149, 1205, 1217, 1274, 1276, 1379], (2, 133, 46): [1352, 1354], (2, 134, 43): [1091, 1093], (2, 135, 39): [1071], (2, 135, 44): [1155, 1157], (2, 136, 39): [1070, 1306], (2, 136, 44): [1278, 1280], (2, 136, 45): [1173, 1219, 1285, 1299, 1308], (2, 136, 46): [1349, 1412], (2, 137, 39): [1179, 1270, 1272], (2, 137, 44): [1154, 1156, 1212, 1214, 1314, 1345, 1403, 1417, 1419], (2, 137, 45): [1210, 1360, 1407], (2, 137, 46): [1421], (2, 138, 39): [1082], (2, 138, 44): [1127, 1129, 1131, 1182, 1184, 1186, 1188, 1361, 1363, 1365], (2, 139, 43): [1085], (2, 140, 39): [1271], (2, 140, 43): [1104, 1108], (2, 140, 44): [1103, 1115, 1128, 1130, 1132, 1153, 1166, 1240], (2, 140, 45): [1218], (2, 141, 39): [1305], (2, 141, 44): [1170, 1309, 1414, 1428], (2, 141, 45): [1148, 1204, 1378, 1430, 1432], (2, 141, 46): [1351, 1353], (2, 143, 44): [1181, 1221, 1223], (2, 143, 45): [1251], (2, 144, 39): [1287, 1289], (2, 144, 44): [1232, 1244], (2, 144, 45): [1250, 1293, 1369, 1371, 1377, 1399], (2, 144, 46): [1391], (2, 145, 44): [1183, 1185, 1187, 1189, 1245, 1262, 1264], (2, 146, 45): [1273, 1275, 1431, 1433], (2, 147, 44): [1231], (2, 148, 44): [1246], (2, 149, 44): [1313, 1442], (2, 149, 45): [1307, 1398], (2, 149, 46): [1384, 1386, 1420], (2, 150, 44): [1416, 1418], (2, 150, 45): [1359, 1406], (2, 151, 44): [1344, 1362, 1364, 1366, 1402], (2, 151, 46): [1393], (2, 151, 47): [1445], (2, 152, 46): [1392], (2, 153, 47): [1444], (2, 154, 47): [1446], (2, 155, 48): [1474, 1476, 1495], (2, 155, 49): [1469, 1471], (2, 155, 51): [1483, 1485], (2, 156, 48): [1466], (2, 156, 51): [1512], (2, 157, 48): [1488, 1490, 1539, 1541], (2, 157, 51): [1498], (2, 158, 48): [1585, 1587], (2, 158, 50): [1617], (2, 158, 54): [1634, 1636], (2, 159, 48): [1467, 1586, 1588, 1598, 1626], (2, 159, 51): [1513], (2, 159, 52): [1653], (2, 160, 35): [1669], (2, 160, 48): [1494], (2, 160, 49): [1468, 1470], (2, 160, 51): [1482, 1484], (2, 160, 52): [1557, 1665, 1666], (2, 161, 51): [1493], (2, 162, 48): [1475, 1477, 1607, 1609, 1643], (2, 162, 52): [1569, 1591], (2, 162, 54): [1633, 1635], (2, 163, 48): [1608, 1610], (2, 163, 50): [1530], (2, 164, 50): [1618], (2, 164, 51): [1492], (2, 164, 52): [1652], (2, 165, 48): [1517], (2, 165, 52): [1503, 1505], (2, 166, 48): [1540, 1542], (2, 166, 52): [1570, 1592], (2, 166, 54): [1623], (2, 167, 48): [1597], (2, 167, 52): [1550], (2, 167, 53): [1620], (2, 167, 54): [1624], (2, 168, 52): [1549], (2, 169, 50): [1529], (2, 169, 52): [1525, 1527, 1565], (2, 170, 48): [1563], (2, 170, 51): [1627], (2, 170, 53): [1619], (2, 171, 48): [1564, 1625, 1657], (2, 171, 52): [1558, 1566], (2, 172, 48): [1645], (2, 173, 48): [1644], (2, 173, 55): [1663, 1664], (2, 174, 48): [1656], (2, 174, 53): [1660, 1661], (2, 175, 56): [1673], (2, 177, 43): [1703], (2, 177, 47): [1700, 1730, 1741], (2, 177, 58): [1676, 1692, 1693], (2, 177, 60): [1712], (2, 177, 61): [1726, 1732], (2, 178, 43): [1698, 1699, 1714], (2, 178, 47): [1677, 1738], (2, 178, 58): [1701], (2, 178, 61): [1724, 1734, 1737], (2, 179, 58): [1680], (2, 180, 47): [1682, 1683, 1686, 1687, 1688], (2, 180, 58): [1690], (2, 181, 47): [1684], (2, 181, 59): [1696], (2, 181, 63): [1720], (2, 182, 47): [1689, 1694, 1702], (2, 182, 59): [1713], (2, 183, 47): [1691], (2, 183, 62): [1709], (2, 185, 47): [1729, 1736], (2, 185, 67): [1758, 1759, 1770, 1801, 1802, 1813, 1841], (2, 185, 74): [2161, 2181], (2, 185, 75): [2136, 2160, 2201, 2207, 2208], (2, 185, 77): [2218, 2307], (2, 185, 80): [2352, 2409, 2470], (2, 185, 81): [2512], (2, 187, 58): [1706], (2, 188, 47): [1739, 1740], (2, 189, 64): [1744], (2, 190, 66): [1747], (2, 192, 26): [2197], (2, 192, 67): [1908, 1953, 1954, 1962], (2, 192, 69): [1860, 1865, 1974], (2, 192, 71): [2027], (2, 192, 73): [2074, 2085], (2, 192, 74): [2112, 2132, 2146, 2183], (2, 192, 75): [2243], (2, 193, 7): [1755, 1756], (2, 193, 67): [1752, 1753], (2, 193, 68): [1867, 1868], (2, 193, 69): [1861, 1862], (2, 194, 7): [1956, 2008], (2, 194, 26): [2200, 2263, 2272], (2, 194, 67): [1857, 1911, 1943, 1944, 1945, 1950], (2, 194, 68): [1754], (2, 194, 69): [1863, 1864, 1896, 1898], (2, 194, 70): [2007], (2, 194, 75): [2159], (2, 194, 76): [2189, 2191], (2, 194, 77): [2288, 2332], (2, 194, 78): [2399, 2410], (2, 194, 80): [2382, 2396, 2404, 2405, 2406, 2407, 2416, 2433], (2, 195, 67): [1881, 1882], (2, 195, 68): [1757, 1869], (2, 195, 69): [1796, 1847, 1884], (2, 196, 75): [2250], (2, 196, 76): [2192], (2, 196, 77): [2373], (2, 196, 80): [2499], (2, 197, 68): [1781, 1782], (2, 198, 7): [1780], (2, 198, 67): [1775, 1808, 1811, 1812, 1822, 1823], (2, 198, 68): [1777, 1816, 1827], (2, 198, 69): [1866], (2, 199, 67): [1807], (2, 199, 68): [1810], (2, 199, 69): [1788], (2, 200, 67): [1769], (2, 200, 68): [1768, 1817], (2, 201, 7): [2025], (2, 201, 26): [2273], (2, 201, 67): [1836, 1942], (2, 201, 68): [1806], (2, 201, 71): [2013, 2014], (2, 201, 74): [2073, 2117, 2157], (2, 201, 75): [2097], (2, 201, 77): [2252, 2321, 2322], (2, 201, 80): [2435, 2446, 2453, 2454], (2, 202, 67): [1858, 1859, 1886, 1887], (2, 203, 68): [1829], (2, 204, 7): [1986], (2, 204, 26): [2150, 2169, 2170, 2222, 2244], (2, 204, 67): [1826, 1832, 1892, 1917, 1955, 1969], (2, 204, 68): [1799, 1800, 1855, 1856, 1933], (2, 204, 69): [1910], (2, 204, 71): [2044], (2, 204, 72): [2042], (2, 204, 74): [2139, 2145], (2, 204, 75): [2105, 2195, 2206, 2251, 2255, 2260, 2261], (2, 204, 77): [2245], (2, 205, 7): [1988, 1989], (2, 205, 26): [2365, 2386], (2, 205, 67): [1961], (2, 205, 68): [1912], (2, 205, 70): [2011], (2, 205, 71): [2026], (2, 205, 74): [2106, 2140], (2, 205, 75): [2153, 2193], (2, 205, 78): [2458], (2, 205, 80): [2395, 2520], (2, 205, 81): [2490], (2, 207, 67): [1880], (2, 207, 72): [2043], (2, 207, 73): [2086], (2, 207, 74): [2144, 2165, 2166], (2, 207, 75): [2124, 2125, 2129], (2, 209, 26): [2164, 2179], (2, 209, 77): [2219, 2220, 2297], (2, 209, 78): [2383], (2, 209, 79): [2482], (2, 209, 80): [2449], (2, 210, 7): [1978, 2002, 2023, 2024], (2, 210, 67): [1958, 1960, 1984], (2, 210, 71): [2048], (2, 210, 73): [2051, 2084], (2, 211, 74): [2091], (2, 213, 73): [2083], (2, 214, 26): [2147, 2248, 2254, 2305, 2331], (2, 214, 74): [2123, 2163], (2, 215, 26): [2148, 2149, 2234, 2425], (2, 215, 74): [2151], (2, 215, 75): [2180, 2185, 2194], (2, 215, 77): [2328], (2, 215, 78): [2398, 2455], (2, 215, 80): [2358, 2359, 2408, 2451, 2468], (2, 216, 26): [2226, 2227, 2228, 2286], (2, 216, 75): [2265, 2282, 2283, 2310], (2, 216, 77): [2229, 2230, 2231], (2, 216, 78): [2329], (2, 216, 80): [2391], (2, 217, 26): [2364], (2, 217, 78): [2477], (2, 218, 26): [2403], (2, 218, 77): [2495], (2, 218, 78): [2472], (2, 218, 80): [2469], (2, 219, 77): [2267], (2, 221, 26): [2302], (2, 221, 75): [2311], (2, 221, 78): [2374, 2445], (2, 221, 80): [2457, 2461, 2462, 2487, 2488, 2500, 2501], (2, 221, 81): [2491, 2492], (2, 222, 26): [2363], (2, 223, 79): [2402], (2, 223, 80): [2400], (2, 224, 78): [2450], (2, 230, 88): [2574], (2, 231, 85): [2531], (2, 231, 91): [2576], (2, 231, 98): [2556, 2570], (2, 232, 86): [2532], (2, 233, 87): [2533], (2, 234, 84): [2561], (2, 234, 95): [2563], (2, 236, 89): [2539], (2, 237, 86): [2540], (2, 239, 94): [2544], (2, 239, 102): [2581], (2, 240, 85): [2546], (2, 243, 99): [2557], (2, 244, 84): [2580], (2, 246, 97): [2555], (2, 247, 91): [2562], (2, 250, 87): [2569], (2, 251, 89): [2572, 2573], (2, 252, 93): [2575], (2, 253, 102): [2577], (2, 254, 104): [2579], (2, 255, 99): [2582], (2, 256, 108): [3430], (2, 256, 117): [4012], (2, 256, 119): [3137, 3438, 3440, 3846], (2, 256, 120): [3476], (2, 256, 123): [4252], (2, 257, 105): [3562], (2, 257, 107): [3770], (2, 257, 110): [3772, 3907], (2, 257, 116): [3958], (2, 257, 118): [3960, 3962], (2, 257, 121): [4120], (2, 257, 123): [3463, 3465, 3661], (2, 257, 124): [4116], (2, 257, 125): [3628], (2, 257, 128): [3820], (2, 257, 129): [4312], (2, 258, 105): [2846, 3225, 3388, 3449], (2, 258, 106): [2643, 2700, 3468, 3923, 3925], (2, 258, 107): [2913, 3127, 3721], (2, 258, 108): [2738, 2779, 3751, 4239], (2, 258, 109): [3196, 4298], (2, 258, 110): [2708, 2890, 3237, 3603], (2, 258, 111): [2615, 2955, 3491], (2, 258, 114): [3901], (2, 258, 115): [3169, 3255, 3835], (2, 258, 116): [2658, 3621], (2, 258, 117): [2816, 2818, 3609, 3653, 3747, 3851, 3853], (2, 258, 118): [2725, 3207, 3510], (2, 258, 119): [2807, 2991, 3343, 3345], (2, 258, 120): [3251, 3253, 3354, 3939], (2, 258, 121): [2713, 2939, 3099, 3105, 3395], (2, 258, 122): [3051, 3187, 3189], (2, 258, 123): [3167, 3743, 3745, 3951, 4310], (2, 258, 124): [2947, 3115, 4156], (2, 258, 125): [3577, 3579, 3601, 3991], (2, 258, 126): [3136, 3717, 3759, 3800, 3833, 4240], (2, 258, 128): [3937, 4109], (2, 259, 105): [2896], (2, 259, 109): [2806, 4299], (2, 259, 110): [3604], (2, 259, 111): [2811, 2813, 2956], (2, 259, 113): [2799, 3869], (2, 259, 115): [4231], (2, 259, 117): [3232, 3234], (2, 259, 118): [3657, 3831, 4302], (2, 259, 119): [2647], (2, 259, 121): [2747, 2748, 2837, 3483, 3565], (2, 259, 122): [3038, 3040], (2, 259, 124): [4115, 4300], (2, 259, 125): [3602, 3859], (2, 259, 127): [3761], (2, 259, 128): [3938], (2, 260, 105): [2590, 2698, 3045], (2, 260, 106): [2593], (2, 260, 107): [2591, 2686], (2, 260, 108): [2941], (2, 260, 109): [2627], (2, 260, 110): [3141, 3587], (2, 260, 111): [2607, 3514], (2, 260, 112): [2985], (2, 260, 113): [3145], (2, 260, 116): [2625], (2, 260, 119): [2704, 3259], (2, 260, 121): [2714], (2, 260, 122): [2832, 2834], (2, 260, 126): [3019, 3021], (2, 261, 105): [3046, 3226], (2, 261, 107): [2687], (2, 261, 108): [2831], (2, 261, 109): [3054], (2, 261, 110): [2606, 3588], (2, 261, 111): [2608, 3290, 3292, 3515], (2, 261, 112): [2683, 2986], (2, 261, 114): [2836, 3306, 3479], (2, 261, 117): [2681], (2, 261, 118): [2873], (2, 261, 119): [2766, 2768], (2, 261, 120): [2827, 3165], (2, 261, 121): [3286], (2, 261, 122): [2833, 2835], (2, 261, 126): [3020, 3022], (2, 262, 105): [2589], (2, 263, 106): [2594], (2, 263, 107): [2592], (2, 263, 115): [2656], (2, 263, 119): [2705], (2, 263, 120): [2655], (2, 264, 114): [3163], (2, 264, 115): [3256], (2, 264, 116): [3235], (2, 264, 117): [2773, 3033, 3257], (2, 264, 118): [3208], (2, 264, 119): [3260], (2, 264, 122): [3029], (2, 265, 105): [2699, 3250], (2, 265, 106): [3469, 3763, 3842, 4063, 4167], (2, 265, 107): [2769, 2892, 3569, 3571, 3814], (2, 265, 108): [2780, 3651, 3752], (2, 265, 110): [2891, 2905, 3142, 3576, 4005, 4207], (2, 265, 111): [2616], (2, 265, 112): [3283], (2, 265, 114): [2911, 3305], (2, 265, 115): [2777], (2, 265, 116): [4138], (2, 265, 117): [3654, 3748, 3852, 3854, 4068], (2, 265, 118): [2726, 3511, 3537, 3959, 3961], (2, 265, 119): [2646, 2765, 2767, 2808, 2992, 3916], (2, 265, 120): [3101], (2, 265, 121): [3100, 3106], (2, 265, 122): [3095, 3443, 3445], (2, 265, 123): [3097, 3280, 3744, 3746, 4289, 4311], (2, 265, 124): [3116, 3779, 3843, 3995, 4064, 4186, 4199], (2, 265, 125): [3058, 3578, 3580], (2, 265, 126): [3676, 3760], (2, 265, 127): [4248], (2, 266, 106): [2839], (2, 266, 112): [2959], (2, 266, 115): [4232], (2, 266, 116): [3830], (2, 266, 117): [4226], (2, 266, 118): [3832], (2, 266, 119): [3998], (2, 266, 122): [3364, 3366], (2, 266, 123): [3662], (2, 267, 106): [2838, 2966, 3307, 3918, 4022, 4024], (2, 267, 107): [2914], (2, 267, 109): [3311], (2, 267, 110): [3309, 3876], (2, 267, 111): [2812, 2814], (2, 267, 113): [2800, 2910, 3870, 4305], (2, 267, 114): [2649, 2651, 2653], (2, 267, 115): [3803], (2, 267, 116): [3829], (2, 267, 117): [3610, 4225], (2, 267, 118): [3658, 4303], (2, 267, 119): [3997], (2, 267, 121): [3566, 3612], (2, 267, 122): [3363, 3365, 3486], (2, 267, 123): [4228, 4253], (2, 267, 124): [3261, 3263, 4301], (2, 267, 126): [3370], (2, 267, 127): [3762, 3874], (2, 268, 107): [2691], (2, 268, 108): [2942], (2, 268, 109): [2628, 3493], (2, 268, 110): [2605, 3238], (2, 268, 111): [3492], (2, 268, 113): [3146], (2, 268, 114): [2648, 2650, 2652], (2, 268, 116): [3236], (2, 268, 117): [2680, 3258], (2, 268, 118): [2872], (2, 268, 120): [2826], (2, 268, 121): [2940], (2, 269, 107): [2663, 2863, 3272, 3274, 3406, 3570, 4070], (2, 269, 108): [3608, 4102], (2, 269, 109): [3955, 4072], (2, 269, 110): [3771], (2, 269, 112): [2664, 2796, 3156], (2, 269, 113): [2957, 3626], (2, 269, 114): [4243], (2, 269, 115): [3352, 3730], (2, 269, 116): [2675, 3018, 3154, 4049, 4074], (2, 269, 117): [3231, 3233, 4104, 4118], (2, 269, 118): [3879, 4076, 4318], (2, 269, 119): [3397, 3532, 3892, 3922, 4250], (2, 269, 120): [3539], (2, 269, 122): [3382, 3429], (2, 269, 123): [3906], (2, 269, 124): [4164], (2, 269, 125): [3304], (2, 269, 126): [4165], (2, 269, 128): [3838, 3954], (2, 270, 105): [2847], (2, 270, 106): [3228], (2, 270, 107): [3815, 3840, 4297], (2, 270, 108): [4009], (2, 270, 109): [3956], (2, 270, 112): [3284], (2, 270, 113): [2958, 3727], (2, 270, 114): [3044], (2, 270, 115): [3222], (2, 270, 116): [2659, 3868], (2, 270, 119): [3533], (2, 270, 120): [3783], (2, 270, 123): [3496, 3585], (2, 270, 125): [3224, 3686, 3731, 4295], (2, 270, 126): [3200], (2, 270, 127): [4249], (2, 271, 106): [3924, 3926], (2, 271, 107): [2662, 2690, 2862, 3271, 3273, 3572, 4069, 4296], (2, 271, 108): [2830, 3607, 4101], (2, 271, 109): [2805, 4071, 4206], (2, 271, 110): [3826, 3875, 4208], (2, 271, 112): [2682, 2795, 3155], (2, 271, 113): [4304], (2, 271, 114): [3531, 3567, 3590], (2, 271, 115): [3351, 3729], (2, 271, 116): [2676, 3017, 3153, 4048, 4073], (2, 271, 117): [4078, 4103, 4117], (2, 271, 118): [2679, 2904, 4075], (2, 271, 119): [3921, 4161, 4287], (2, 271, 120): [3102], (2, 271, 121): [3285, 4119], (2, 271, 122): [3381, 3428, 3485], (2, 271, 123): [3781, 3905], (2, 271, 124): [3996, 4163], (2, 271, 125): [3303], (2, 271, 127): [3873], (2, 271, 128): [3953], (2, 272, 105): [3450], (2, 272, 106): [4168], (2, 272, 107): [3722], (2, 272, 108): [3652, 3888], (2, 272, 115): [2778], (2, 272, 116): [3622], (2, 272, 118): [3559, 3624], (2, 272, 119): [3344, 3346, 4162], (2, 272, 120): [3394], (2, 272, 122): [3052, 3096, 3188, 3190, 3444, 3446], (2, 272, 123): [3098], (2, 272, 124): [2948, 3780, 4065], (2, 272, 126): [3801, 3834, 4241], (2, 272, 128): [4255], (2, 273, 107): [2770], (2, 273, 116): [2626], (2, 274, 105): [3387], (2, 274, 106): [2634, 2642, 4021, 4023], (2, 274, 107): [4233], (2, 274, 108): [2737, 3887, 4187], (2, 274, 109): [2868, 2870, 3195, 3613, 3615, 3617, 3619], (2, 274, 110): [2636, 3899, 4153], (2, 274, 112): [3400], (2, 274, 113): [2727, 2729, 3487], (2, 274, 114): [3530, 3719, 4242], (2, 274, 115): [4079], (2, 274, 116): [2821, 3245, 3671, 3957, 4137, 4209], (2, 274, 117): [2815, 2817, 4011, 4077], (2, 274, 118): [3549, 3551, 3623], (2, 274, 119): [3915], (2, 274, 120): [2803, 3353, 3393], (2, 274, 121): [3673], (2, 274, 123): [2945], (2, 274, 124): [3373, 3528, 4025, 4155], (2, 274, 125): [3597], (2, 274, 126): [3135, 3675], (2, 274, 127): [3861, 3941], (2, 274, 128): [4081, 4254], (2, 275, 106): [2635], (2, 275, 107): [4234], (2, 275, 108): [4188], (2, 275, 109): [2869, 2871, 3614, 3616, 3618, 3620], (2, 275, 110): [2637, 3248, 3458, 3900, 3908, 4154], (2, 275, 112): [3401], (2, 275, 113): [2728, 2730, 3488], (2, 275, 114): [3720], (2, 275, 116): [2822, 3246, 3672, 4210], (2, 275, 117): [3904], (2, 275, 118): [3550, 3552, 4128], (2, 275, 119): [3509], (2, 275, 120): [2804], (2, 275, 124): [3374, 3529, 4026], (2, 275, 125): [3992], (2, 275, 126): [4150], (2, 275, 127): [3862, 3942], (2, 275, 128): [4082], (2, 276, 120): [2654], (2, 277, 115): [2657], (2, 278, 105): [3249], (2, 278, 106): [2701, 4062], (2, 278, 107): [3769], (2, 278, 108): [3241], (2, 278, 109): [3333, 3816, 4205], (2, 278, 113): [3625], (2, 278, 114): [3589, 3902], (2, 278, 115): [3221], (2, 278, 117): [3367], (2, 278, 118): [2903, 4317], (2, 278, 119): [3396, 3600, 3891], (2, 278, 120): [3252, 3254], (2, 278, 121): [3964], (2, 278, 123): [4288], (2, 278, 124): [4185], (2, 278, 125): [3057, 3685, 3966, 3968], (2, 278, 126): [3199], (2, 278, 127): [4060], (2, 278, 128): [3837], (2, 279, 106): [3764], (2, 279, 110): [3247, 3457, 3827], (2, 279, 117): [3460, 3903], (2, 279, 118): [4127], (2, 279, 119): [3508], (2, 279, 121): [3674], (2, 279, 123): [2946, 3462, 3464], (2, 279, 125): [3598], (2, 279, 126): [4149, 4166], (2, 280, 107): [3128, 4047], (2, 280, 114): [3164], (2, 280, 115): [3170], (2, 280, 116): [3878], (2, 280, 117): [2774, 3034, 3461], (2, 280, 119): [3138, 4251], (2, 280, 120): [3166, 3477], (2, 280, 121): [3484], (2, 280, 122): [3030], (2, 280, 123): [3168, 3952], (2, 280, 126): [3718], (2, 280, 128): [3821], (2, 281, 106): [3917, 4197], (2, 281, 107): [2893], (2, 281, 108): [3737, 3739], (2, 281, 109): [3053], (2, 281, 113): [2909], (2, 281, 114): [2912], (2, 281, 115): [3836, 4151, 4152], (2, 281, 116): [3877], (2, 281, 119): [4223], (2, 281, 120): [3538], (2, 281, 122): [3037, 3039], (2, 281, 125): [3211], (2, 281, 126): [3369], (2, 282, 110): [2906], (2, 284, 111): [3289, 3291], (2, 284, 114): [3478, 3568], (2, 285, 106): [3093, 3227, 3841, 3993], (2, 285, 107): [3839], (2, 285, 110): [3575], (2, 285, 113): [3999], (2, 285, 114): [3043], (2, 285, 115): [4080], (2, 285, 116): [3867], (2, 285, 118): [3536], (2, 285, 119): [3599, 3865, 4286], (2, 285, 120): [3940, 4274, 4276], (2, 285, 121): [3611, 3655, 3963], (2, 285, 123): [3279, 4227], (2, 285, 125): [3223, 3965, 3967, 4294], (2, 285, 126): [3683], (2, 286, 106): [3094, 3994], (2, 286, 107): [3407], (2, 286, 108): [3242, 4010], (2, 286, 109): [3334, 3817], (2, 286, 110): [4006], (2, 286, 113): [3728, 4000], (2, 286, 118): [3560, 3880], (2, 286, 119): [3866], (2, 286, 120): [3784, 4275, 4277], (2, 286, 121): [3656], (2, 286, 123): [3497, 3586, 3782], (2, 286, 124): [3844, 4200], (2, 286, 125): [3732], (2, 286, 126): [3684], (2, 287, 106): [3308], (2, 287, 109): [3312], (2, 287, 110): [3310], (2, 287, 117): [3368], (2, 287, 124): [3262, 3264], (2, 287, 125): [3212], (2, 290, 105): [3561], (2, 290, 115): [3802], (2, 290, 119): [3437, 3439, 3845], (2, 290, 125): [3627], (2, 292, 106): [4198], (2, 292, 108): [3738, 3740], (2, 292, 119): [4224], (2, 292, 125): [3860], (2, 292, 127): [4061], (2, 292, 128): [4110], (3, 5, 1): [12, 14], (3, 7, 1): [11, 13], (3, 12, 18): [667], (3, 14, 14): [582, 583], (3, 14, 19): [713], (3, 14, 20): [797], (3, 21, 52): [1602], (3, 22, 10): [249], (3, 22, 13): [256], (3, 22, 14): [516], (3, 22, 17): [361], (3, 22, 21): [634], (3, 25, 16): [391], (3, 25, 20): [441], (3, 31, 11): [84], (3, 35, 12): [86], (3, 39, 10): [194, 278], (3, 39, 14): [418, 506], (3, 39, 16): [370], (3, 39, 19): [735], (3, 41, 10): [266], (3, 41, 13): [285], (3, 41, 14): [376, 399, 617, 618], (3, 41, 18): [515], (3, 41, 19): [490], (3, 42, 12): [214], (3, 42, 13): [202], (3, 46, 10): [254], (3, 47, 10): [395], (3, 47, 14): [375], (3, 47, 16): [307], (3, 51, 10): [396], (3, 51, 14): [404, 542], (3, 51, 21): [824], (3, 54, 14): [240], (3, 55, 10): [209], (3, 56, 10): [377], (3, 56, 12): [213], (3, 57, 21): [828], (3, 58, 10): [231], (3, 59, 19): [522], (3, 59, 21): [626], (3, 60, 22): [709], (3, 61, 16): [407], (3, 61, 20): [703], (3, 61, 22): [742], (3, 63, 22): [692], (3, 66, 14): [575], (3, 70, 18): [747], (3, 70, 79): [2334], (3, 75, 23): [812], (3, 88, 34): [925], (3, 88, 35): [964], (3, 101, 31): [908], (3, 101, 32): [910], (3, 104, 31): [909], (3, 104, 34): [926], (3, 110, 35): [963], (3, 111, 35): [1018], (3, 115, 35): [1019], (3, 117, 40): [1023], (3, 120, 42): [1053], (3, 122, 48): [1668], (3, 133, 39): [1321], (3, 136, 39): [1322], (3, 137, 45): [1343], (3, 140, 45): [1266, 1267], (3, 144, 45): [1265, 1341], (3, 148, 45): [1268], (3, 151, 45): [1342], (3, 155, 52): [1514], (3, 157, 50): [1522], (3, 157, 52): [1533], (3, 160, 35): [1662], (3, 160, 50): [1521], (3, 162, 52): [1534], (3, 164, 57): [1674], (3, 165, 52): [1515], (3, 170, 52): [1601], (3, 177, 47): [1722], (3, 182, 58): [1685], (3, 185, 7): [1783], (3, 185, 26): [2210, 2211], (3, 185, 47): [1731], (3, 185, 68): [1793], (3, 185, 75): [2271], (3, 185, 77): [2223], (3, 192, 26): [2177], (3, 192, 67): [1925], (3, 192, 75): [2143, 2168], (3, 194, 67): [1979], (3, 194, 68): [1805, 1875], (3, 194, 71): [2019], (3, 194, 74): [2088], (3, 194, 75): [2176, 2291], (3, 194, 77): [2264], (3, 194, 78): [2397], (3, 195, 68): [1897], (3, 196, 73): [2094], (3, 196, 80): [2366], (3, 196, 81): [2498], (3, 197, 7): [1792], (3, 197, 67): [1821], (3, 197, 68): [1785, 1853], (3, 198, 68): [1809], (3, 200, 68): [1883], (3, 200, 69): [1900], (3, 201, 7): [1947], (3, 201, 70): [1970], (3, 201, 73): [2111], (3, 201, 74): [2087], (3, 202, 7): [1843, 1844], (3, 204, 67): [1838], (3, 206, 68): [1854], (3, 207, 7): [1998], (3, 207, 26): [2142, 2385], (3, 207, 67): [1941], (3, 207, 73): [2103], (3, 207, 75): [2107], (3, 209, 26): [2247, 2281], (3, 209, 71): [2050], (3, 209, 73): [2052], (3, 209, 74): [2089, 2154, 2173], (3, 209, 75): [2127], (3, 209, 77): [2249], (3, 209, 80): [2436, 2519], (3, 210, 72): [2065], (3, 212, 72): [2022], (3, 214, 26): [2156], (3, 214, 74): [2138], (3, 215, 26): [2293], (3, 215, 80): [2447, 2480], (3, 216, 75): [2279], (3, 216, 78): [2330], (3, 217, 30): [2522], (3, 217, 77): [2368, 2369], (3, 221, 77): [2384], (3, 221, 80): [2486], (3, 222, 78): [2346], (3, 227, 92): [2541], (3, 235, 89): [2553], (3, 239, 89): [2552], (3, 245, 89): [2554], (3, 256, 106): [3178, 3180], (3, 256, 108): [2684], (3, 256, 118): [3503], (3, 257, 108): [2685], (3, 257, 116): [3348], (3, 257, 119): [2995], (3, 258, 105): [3201, 3203], (3, 258, 106): [2632, 3177, 3179], (3, 258, 108): [3647, 3849], (3, 258, 110): [2858, 3049], (3, 258, 112): [2741, 3047], (3, 258, 113): [3847], (3, 258, 115): [2828], (3, 258, 116): [3347], (3, 258, 117): [3123], (3, 258, 118): [3502], (3, 258, 119): [3909], (3, 258, 120): [2882], (3, 258, 121): [2688, 2706, 2819], (3, 258, 122): [3376], (3, 258, 126): [3544], (3, 259, 106): [3517, 3519], (3, 259, 110): [4037, 4039], (3, 259, 114): [3606], (3, 259, 116): [2753], (3, 259, 118): [2921], (3, 259, 120): [3435], (3, 259, 121): [2968], (3, 259, 122): [3076], (3, 259, 126): [2984], (3, 260, 105): [3202, 3204], (3, 260, 108): [4131], (3, 260, 119): [3361], (3, 260, 124): [3005], (3, 261, 109): [3480], (3, 261, 114): [2724], (3, 261, 119): [3362], (3, 261, 123): [3403], (3, 261, 124): [3006], (3, 263, 121): [2689], (3, 264, 109): [3103], (3, 264, 116): [2907], (3, 264, 117): [3124], (3, 265, 106): [2633], (3, 265, 107): [3383], (3, 265, 108): [3648, 3850], (3, 265, 110): [2859, 3050], (3, 265, 112): [3048, 3325], (3, 265, 115): [2829], (3, 265, 116): [3988, 4244], (3, 265, 117): [2899, 3741], (3, 265, 118): [3757], (3, 265, 120): [2883], (3, 265, 121): [2820], (3, 265, 128): [4002], (3, 266, 106): [3688], (3, 266, 110): [2604, 4038, 4040], (3, 266, 116): [2754], (3, 266, 118): [2922], (3, 266, 123): [3640, 4176], (3, 266, 125): [3332], (3, 266, 129): [4238], (3, 267, 106): [3527], (3, 267, 110): [2603], (3, 267, 114): [3316], (3, 267, 117): [3742], (3, 267, 119): [3910], (3, 267, 120): [3436], (3, 267, 123): [4175], (3, 267, 125): [3696], (3, 268, 108): [4132], (3, 268, 109): [3104], (3, 268, 114): [2723], (3, 268, 123): [3402], (3, 269, 106): [3660], (3, 269, 111): [2617, 2944], (3, 269, 113): [2620, 2841], (3, 269, 114): [3082, 3605], (3, 269, 117): [2631], (3, 269, 120): [4096], (3, 269, 122): [3075], (3, 269, 123): [3639], (3, 269, 125): [3331], (3, 270, 108): [4212], (3, 270, 111): [2618], (3, 271, 105): [2790], (3, 271, 106): [3526, 3659, 3687], (3, 271, 107): [3384], (3, 271, 108): [4211], (3, 271, 113): [2619, 2840], (3, 271, 114): [3081, 3315], (3, 271, 115): [3086], (3, 271, 118): [3758], (3, 271, 120): [4095], (3, 271, 121): [2707, 3812], (3, 272, 112): [2742, 3326], (3, 273, 117): [2900], (3, 274, 105): [2789], (3, 274, 107): [2901], (3, 274, 108): [3197], (3, 274, 116): [3191], (3, 274, 118): [3798], (3, 274, 120): [3139], (3, 274, 122): [3375], (3, 274, 123): [3693, 3785], (3, 274, 124): [3512], (3, 275, 107): [2902], (3, 275, 108): [3198], (3, 275, 113): [3391], (3, 275, 115): [3521], (3, 275, 123): [3694, 3786], (3, 275, 124): [3513], (3, 278, 111): [2943], (3, 278, 115): [3085], (3, 278, 116): [3987], (3, 280, 113): [3848], (3, 280, 116): [2908, 3192], (3, 280, 119): [2996], (3, 281, 107): [3709], (3, 281, 108): [4043], (3, 283, 121): [2967], (3, 284, 106): [3516, 3518], (3, 284, 115): [3520], (3, 284, 126): [2983], (3, 285, 117): [4193], (3, 285, 118): [3799], (3, 285, 125): [3695], (3, 285, 128): [4001], (3, 285, 129): [4237], (3, 286, 117): [4194], (3, 286, 121): [3813], (3, 287, 120): [3140], (3, 291, 124): [3466], (3, 292, 107): [3710], (3, 292, 108): [4044], (3, 292, 116): [4245], (3, 292, 124): [3467], (4, 12, 20): [790], (4, 12, 22): [696], (4, 14, 0): [30, 31], (4, 14, 18): [477], (4, 20, 8): [47, 49], (4, 20, 36): [1034], (4, 20, 40): [1028], (4, 21, 8): [48, 50], (4, 22, 17): [350], (4, 22, 18): [576, 726], (4, 22, 19): [462, 463, 464, 465, 466], (4, 22, 20): [486, 487, 488], (4, 25, 18): [660, 661, 662, 663], (4, 35, 10): [85], (4, 41, 13): [118], (4, 41, 14): [436], (4, 41, 16): [398], (4, 41, 17): [351], (4, 50, 42): [1045, 1046, 1047, 1048, 1050], (4, 54, 14): [190], (4, 59, 18): [679, 680, 681, 682, 683], (4, 60, 21): [770], (4, 61, 22): [739], (4, 63, 14): [435, 569], (4, 63, 19): [467, 468, 469, 470, 471, 472, 529], (4, 63, 21): [642], (4, 63, 22): [706, 707], (4, 64, 14): [512], (4, 64, 18): [520], (4, 65, 18): [658], (4, 65, 21): [684, 685], (4, 66, 18): [669, 670, 671, 672, 673, 674, 675, 676, 677, 678], (4, 66, 21): [710], (4, 67, 14): [624, 625], (4, 69, 9): [929], (4, 70, 7): [2033, 2034, 2035, 2036], (4, 70, 18): [723], (4, 70, 21): [749], (4, 70, 75): [2232, 2298], (4, 70, 77): [2233], (4, 70, 80): [2353, 2354], (4, 71, 18): [754, 755, 756, 757, 758], (4, 71, 19): [778], (4, 79, 23): [818], (4, 82, 28): [869, 875], (4, 82, 30): [866, 873, 874], (4, 85, 9): [917, 930], (4, 85, 39): [1010], (4, 88, 32): [887], (4, 88, 35): [983], (4, 100, 42): [1044], (4, 110, 35): [982], (4, 117, 40): [1020], (4, 118, 36): [1021, 1032], (4, 118, 40): [1029], (4, 120, 41): [1033], (4, 122, 53): [1658], (4, 124, 41): [1049], (4, 125, 36): [1054], (4, 128, 45): [1237, 1241], (4, 130, 46): [1336], (4, 131, 44): [1161, 1163], (4, 140, 45): [1238, 1243], (4, 141, 44): [1160, 1162], (4, 144, 45): [1242], (4, 144, 46): [1337], (4, 148, 44): [1374, 1376], (4, 149, 44): [1373, 1375], (4, 149, 46): [1335], (4, 149, 47): [1460], (4, 150, 47): [1461], (4, 151, 46): [1338], (4, 158, 51): [1572], (4, 158, 53): [1638], (4, 159, 51): [1568], (4, 162, 53): [1637], (4, 167, 48): [1518], (4, 169, 51): [1567, 1571], (4, 170, 53): [1659], (4, 185, 67): [1750, 1751], (4, 185, 77): [2224, 2225], (4, 185, 79): [2378, 2379], (4, 192, 26): [2196], (4, 192, 69): [1901], (4, 192, 74): [2108, 2109], (4, 194, 67): [1966], (4, 194, 69): [1918, 1919, 1920, 1921, 1922], (4, 194, 75): [2081, 2082], (4, 194, 80): [2419], (4, 196, 77): [2259, 2340, 2341], (4, 197, 5): [1761], (4, 201, 67): [1924, 1977], (4, 201, 68): [1934], (4, 201, 69): [1936, 1937], (4, 201, 74): [2096, 2101, 2120], (4, 201, 75): [2246], (4, 201, 77): [2258], (4, 202, 67): [1893], (4, 204, 26): [2277, 2278], (4, 204, 67): [1923, 1965], (4, 204, 71): [2021], (4, 205, 80): [2393], (4, 207, 69): [1938, 1939], (4, 207, 71): [2049], (4, 209, 69): [1935], (4, 209, 73): [2126], (4, 214, 26): [2304], (4, 214, 79): [2327], (4, 216, 77): [2325, 2326], (4, 216, 80): [2388], (4, 221, 26): [2421], (4, 221, 80): [2464, 2466], (4, 222, 80): [2375, 2376, 2377], (4, 224, 78): [2473], (4, 256, 108): [3071], (4, 256, 120): [2876], (4, 257, 112): [2810], (4, 258, 120): [3287], (4, 258, 123): [3121], (4, 259, 119): [4085, 4086, 4087, 4088, 4089, 4090, 4091, 4092, 4093, 4094], (4, 260, 111): [2791], (4, 264, 108): [3072], (4, 264, 112): [2809], (4, 265, 118): [3471], (4, 265, 120): [3288], (4, 265, 122): [3107], (4, 266, 113): [4230], (4, 268, 111): [2792], (4, 272, 122): [3108], (4, 272, 123): [3122], (4, 274, 110): [2733], (4, 274, 116): [3079], (4, 274, 122): [3077], (4, 278, 106): [3064], (4, 278, 111): [3068], (4, 278, 113): [3024], (4, 278, 117): [3206], (4, 278, 121): [3066], (4, 278, 124): [3014], (4, 279, 110): [2734], (4, 279, 116): [3080], (4, 279, 122): [3078], (4, 280, 107): [3828], (4, 280, 120): [2877], (4, 285, 106): [3063], (4, 285, 111): [3067], (4, 285, 113): [3023, 4229], (4, 285, 117): [3205], (4, 285, 118): [3470], (4, 285, 121): [3065], (4, 285, 124): [3013]}\n"
     ]
    },
    {
     "name": "stderr",
     "output_type": "stream",
     "text": [
      "C:\\Users\\Kalea\\AppData\\Local\\Temp\\ipykernel_30752\\635274658.py:2: DeprecationWarning: DataFrameGroupBy.apply operated on the grouping columns. This behavior is deprecated, and in a future version of pandas the grouping columns will be excluded from the operation. Either pass `include_groups=False` to exclude the groupings or explicitly select the grouping columns after groupby to silence this warning.\n",
      "  unique_groups = df.groupby([\"klasifikasi_perkara_encoded\", \"penuntut_umum_encoded\", \"hakim_encoded\"]).apply(lambda x: x.index.tolist()).to_dict()\n"
     ]
    }
   ],
   "source": [
    "train_df, test_df = stratified_split(df)"
   ]
  },
  {
   "cell_type": "code",
   "execution_count": 7,
   "metadata": {},
   "outputs": [
    {
     "name": "stdout",
     "output_type": "stream",
     "text": [
      "Jumlah Klasifikasi Perkara: 5\n",
      "Jumlah Data Train:  3270\n",
      "klasifikasi_perkara_encoded\n",
      "0    1378\n",
      "2    1250\n",
      "3     287\n",
      "4     193\n",
      "1     162\n",
      "Name: count, dtype: int64\n"
     ]
    }
   ],
   "source": [
    "jenis_klasifikasi_perkara = train_df['klasifikasi_perkara_encoded'].unique()\n",
    "jumlah_klasifikasi_perkara = len(jenis_klasifikasi_perkara)\n",
    "print(f\"Jumlah Klasifikasi Perkara: {jumlah_klasifikasi_perkara}\")\n",
    "print(f\"Jumlah Data Train:  {len(train_df)}\")\n",
    "\n",
    "klasifikasi_perkara_values = train_df['klasifikasi_perkara_encoded'].value_counts()\n",
    "print(klasifikasi_perkara_values)"
   ]
  },
  {
   "cell_type": "code",
   "execution_count": 8,
   "metadata": {},
   "outputs": [
    {
     "name": "stdout",
     "output_type": "stream",
     "text": [
      "Jumlah Klasifikasi Perkara: 5\n",
      "Jumlah Data Test:  1053\n",
      "klasifikasi_perkara_encoded\n",
      "0    490\n",
      "2    439\n",
      "4     51\n",
      "3     50\n",
      "1     23\n",
      "Name: count, dtype: int64\n"
     ]
    }
   ],
   "source": [
    "jenis_klasifikasi_perkara = test_df['klasifikasi_perkara_encoded'].unique()\n",
    "jumlah_klasifikasi_perkara = len(jenis_klasifikasi_perkara)\n",
    "print(f\"Jumlah Klasifikasi Perkara: {jumlah_klasifikasi_perkara}\")\n",
    "print(f\"Jumlah Data Test:  {len(test_df)}\")\n",
    "\n",
    "klasifikasi_perkara_values = test_df['klasifikasi_perkara_encoded'].value_counts()\n",
    "print(klasifikasi_perkara_values)"
   ]
  },
  {
   "cell_type": "markdown",
   "metadata": {},
   "source": [
    "## Model"
   ]
  },
  {
   "cell_type": "markdown",
   "metadata": {},
   "source": [
    "### Model Preprocessing"
   ]
  },
  {
   "cell_type": "code",
   "execution_count": 9,
   "metadata": {},
   "outputs": [],
   "source": [
    "train_df['concat_text'] = train_df[['terdakwa', 'summarized_dakwaan']].apply(lambda x: '. '.join(x), axis=1)\n",
    "test_df['concat_text'] = test_df[['terdakwa', 'summarized_dakwaan']].apply(lambda x: '. '.join(x), axis=1)"
   ]
  },
  {
   "cell_type": "code",
   "execution_count": 10,
   "metadata": {},
   "outputs": [],
   "source": [
    "y_train = train_df['total_pidana_penjara_bulan']\n",
    "y_test = test_df['total_pidana_penjara_bulan']"
   ]
  },
  {
   "cell_type": "markdown",
   "metadata": {},
   "source": [
    "### Normalisasi"
   ]
  },
  {
   "cell_type": "code",
   "execution_count": 11,
   "metadata": {},
   "outputs": [],
   "source": [
    "def normalize_text(text):\n",
    "    text = text.lower()\n",
    "    text = re.sub(r'[^a-z0-9\\s\\(\\)]', '', text)\n",
    "    text = re.sub(r'\\s+', ' ', text).strip()\n",
    "    return text\n",
    "\n",
    "train_df['normalized_text'] = train_df['concat_text'].apply(normalize_text)\n",
    "test_df['normalized_text'] = test_df['concat_text'].apply(normalize_text)"
   ]
  },
  {
   "cell_type": "markdown",
   "metadata": {},
   "source": [
    "### Stopwords Removal"
   ]
  },
  {
   "cell_type": "code",
   "execution_count": 12,
   "metadata": {},
   "outputs": [],
   "source": [
    "stopword_factory = StopWordRemoverFactory()\n",
    "stop_words = set(stopword_factory.get_stop_words())\n",
    "\n",
    "def remove_stopwords(text, stop_words):\n",
    "    return ' '.join([word for word in text.split() if word not in stop_words])\n",
    "\n",
    "train_df['stopword_removal'] = train_df['normalized_text'].apply(lambda x: remove_stopwords(x, stop_words))\n",
    "test_df['stopword_removal'] = test_df['normalized_text'].apply(lambda x: remove_stopwords(x, stop_words))"
   ]
  },
  {
   "cell_type": "markdown",
   "metadata": {},
   "source": [
    "### Tokenizer"
   ]
  },
  {
   "cell_type": "code",
   "execution_count": 13,
   "metadata": {},
   "outputs": [],
   "source": [
    "# Tokenisasi\n",
    "tokenizer = tf.keras.preprocessing.text.Tokenizer()\n",
    "\n",
    "tokenizer.fit_on_texts(train_df['stopword_removal'])\n",
    "train_sequences = tokenizer.texts_to_sequences(train_df['stopword_removal'])\n",
    "test_sequences = tokenizer.texts_to_sequences(test_df['stopword_removal'])"
   ]
  },
  {
   "cell_type": "code",
   "execution_count": 14,
   "metadata": {},
   "outputs": [
    {
     "name": "stdout",
     "output_type": "stream",
     "text": [
      "Vocabulary size: 18318\n"
     ]
    }
   ],
   "source": [
    "vocab_size = len(tokenizer.word_index) + 1  # 4 + 1 = 5\n",
    "print(\"Vocabulary size:\", vocab_size)"
   ]
  },
  {
   "cell_type": "code",
   "execution_count": 15,
   "metadata": {},
   "outputs": [],
   "source": [
    "# Padding\n",
    "# max_len = max(len(seq) for seq in train_sequences)\n",
    "max_len = 1024\n",
    "X_train_texts = tf.keras.preprocessing.sequence.pad_sequences(train_sequences, maxlen=max_len, padding='post', truncating='post')\n",
    "X_test_texts = tf.keras.preprocessing.sequence.pad_sequences(test_sequences, maxlen=max_len, padding='post', truncating='post')"
   ]
  },
  {
   "cell_type": "code",
   "execution_count": 16,
   "metadata": {},
   "outputs": [
    {
     "name": "stdout",
     "output_type": "stream",
     "text": [
      "1024\n"
     ]
    }
   ],
   "source": [
    "print(max_len)"
   ]
  },
  {
   "cell_type": "markdown",
   "metadata": {},
   "source": [
    "### Numerical Features"
   ]
  },
  {
   "cell_type": "code",
   "execution_count": 17,
   "metadata": {},
   "outputs": [],
   "source": [
    "# TANPA LOG TRANSFORM (gunakan salah satu)\n",
    "y_train = np.log1p(y_train)\n",
    "y_test = np.log1p(y_test)\n",
    "\n",
    "train_numerical = tf.constant(train_df[['klasifikasi_perkara_encoded', 'penuntut_umum_encoded', 'hakim_encoded', 'jumlah_saksi', 'maks_penjara_berdasarkan_pasal']].values, dtype=tf.float32)\n",
    "test_numerical = tf.constant(test_df[['klasifikasi_perkara_encoded', 'penuntut_umum_encoded', 'hakim_encoded', 'jumlah_saksi', 'maks_penjara_berdasarkan_pasal']].values, dtype=tf.float32)"
   ]
  },
  {
   "cell_type": "markdown",
   "metadata": {},
   "source": [
    "### Model Architecture"
   ]
  },
  {
   "cell_type": "code",
   "execution_count": 18,
   "metadata": {},
   "outputs": [],
   "source": [
    "text_input = tf.keras.layers.Input(shape=(max_len,), name='text_input')\n",
    "embedding_layer = tf.keras.layers.Embedding(\n",
    "    input_dim=len(tokenizer.word_index) + 1,\n",
    "    output_dim=256 \n",
    ")(text_input)\n",
    "\n",
    "# LSTM Layer\n",
    "lstm_output = tf.keras.layers.LSTM(32, return_sequences=True, \n",
    "                                  kernel_regularizer=tf.keras.regularizers.l2(0.001))(embedding_layer)\n",
    "lstm_output = tf.keras.layers.BatchNormalization()(lstm_output)\n",
    "\n",
    "lstm_output_2 = tf.keras.layers.LSTM(64, return_sequences=True, \n",
    "                                    kernel_regularizer=tf.keras.regularizers.l2(0.001))(lstm_output)\n",
    "lstm_output_2 = tf.keras.layers.BatchNormalization()(lstm_output_2)\n",
    "\n",
    "lstm_output_3 = tf.keras.layers.LSTM(32, return_sequences=True, \n",
    "                                    kernel_regularizer=tf.keras.regularizers.l2(0.001))(lstm_output_2)\n",
    "lstm_output_3 = tf.keras.layers.BatchNormalization()(lstm_output_3)\n",
    "\n",
    "# Pooling Layer\n",
    "pooled_lstm = tf.keras.layers.GlobalMaxPooling1D()(lstm_output_3)\n",
    "# Dropout\n",
    "dropout_layer_1 = tf.keras.layers.Dropout(0.2)(pooled_lstm)\n",
    "\n",
    "numerical_input = tf.keras.layers.Input(shape=(train_numerical.shape[1],), name='numerical_input')\n",
    "numerical = tf.keras.layers.BatchNormalization()(numerical_input)\n",
    "numerical_dense = tf.keras.layers.Dense(32, activation='relu', \n",
    "                                      kernel_regularizer=tf.keras.regularizers.l2(0.001))(numerical)\n",
    "numerical_dense_2 = tf.keras.layers.Dense(64, activation='relu', \n",
    "                                        kernel_regularizer=tf.keras.regularizers.l2(0.001))(numerical_dense)\n",
    "numerical_dense_3 = tf.keras.layers.Dense(32, activation='relu', \n",
    "                                        kernel_regularizer=tf.keras.regularizers.l2(0.001))(numerical_dense_2)\n",
    "\n",
    "combined = tf.keras.layers.Concatenate()([dropout_layer_1, numerical_dense_3])\n",
    "batch_norm = tf.keras.layers.BatchNormalization()(combined)\n",
    "\n",
    "# Concated Dense\n",
    "concated_dense_1 = tf.keras.layers.Dense(128, activation='relu')(batch_norm)\n",
    "# Dropout\n",
    "dropout_layer_2 = tf.keras.layers.Dropout(0.2)(concated_dense_1)\n",
    "concated_dense_2 = tf.keras.layers.Dense(32, activation='relu')(dropout_layer_2)\n",
    "\n",
    "# Output\n",
    "output = tf.keras.layers.Dense(1, activation='linear')(concated_dense_2)\n"
   ]
  },
  {
   "cell_type": "code",
   "execution_count": 19,
   "metadata": {},
   "outputs": [],
   "source": [
    "reduce_lr_on_plateau = tf.keras.callbacks.ReduceLROnPlateau(monitor='val_loss', patience=5, factor=0.5)"
   ]
  },
  {
   "cell_type": "code",
   "execution_count": 20,
   "metadata": {},
   "outputs": [
    {
     "name": "stdout",
     "output_type": "stream",
     "text": [
      "Model: \"model\"\n",
      "__________________________________________________________________________________________________\n",
      " Layer (type)                   Output Shape         Param #     Connected to                     \n",
      "==================================================================================================\n",
      " text_input (InputLayer)        [(None, 1024)]       0           []                               \n",
      "                                                                                                  \n",
      " embedding (Embedding)          (None, 1024, 256)    4689408     ['text_input[0][0]']             \n",
      "                                                                                                  \n",
      " lstm (LSTM)                    (None, 1024, 32)     36992       ['embedding[0][0]']              \n",
      "                                                                                                  \n",
      " batch_normalization (BatchNorm  (None, 1024, 32)    128         ['lstm[0][0]']                   \n",
      " alization)                                                                                       \n",
      "                                                                                                  \n",
      " lstm_1 (LSTM)                  (None, 1024, 64)     24832       ['batch_normalization[0][0]']    \n",
      "                                                                                                  \n",
      " batch_normalization_1 (BatchNo  (None, 1024, 64)    256         ['lstm_1[0][0]']                 \n",
      " rmalization)                                                                                     \n",
      "                                                                                                  \n",
      " numerical_input (InputLayer)   [(None, 5)]          0           []                               \n",
      "                                                                                                  \n",
      " lstm_2 (LSTM)                  (None, 1024, 32)     12416       ['batch_normalization_1[0][0]']  \n",
      "                                                                                                  \n",
      " batch_normalization_3 (BatchNo  (None, 5)           20          ['numerical_input[0][0]']        \n",
      " rmalization)                                                                                     \n",
      "                                                                                                  \n",
      " batch_normalization_2 (BatchNo  (None, 1024, 32)    128         ['lstm_2[0][0]']                 \n",
      " rmalization)                                                                                     \n",
      "                                                                                                  \n",
      " dense (Dense)                  (None, 32)           192         ['batch_normalization_3[0][0]']  \n",
      "                                                                                                  \n",
      " global_max_pooling1d (GlobalMa  (None, 32)          0           ['batch_normalization_2[0][0]']  \n",
      " xPooling1D)                                                                                      \n",
      "                                                                                                  \n",
      " dense_1 (Dense)                (None, 64)           2112        ['dense[0][0]']                  \n",
      "                                                                                                  \n",
      " dropout (Dropout)              (None, 32)           0           ['global_max_pooling1d[0][0]']   \n",
      "                                                                                                  \n",
      " dense_2 (Dense)                (None, 32)           2080        ['dense_1[0][0]']                \n",
      "                                                                                                  \n",
      " concatenate (Concatenate)      (None, 64)           0           ['dropout[0][0]',                \n",
      "                                                                  'dense_2[0][0]']                \n",
      "                                                                                                  \n",
      " batch_normalization_4 (BatchNo  (None, 64)          256         ['concatenate[0][0]']            \n",
      " rmalization)                                                                                     \n",
      "                                                                                                  \n",
      " dense_3 (Dense)                (None, 128)          8320        ['batch_normalization_4[0][0]']  \n",
      "                                                                                                  \n",
      " dropout_1 (Dropout)            (None, 128)          0           ['dense_3[0][0]']                \n",
      "                                                                                                  \n",
      " dense_4 (Dense)                (None, 32)           4128        ['dropout_1[0][0]']              \n",
      "                                                                                                  \n",
      " dense_5 (Dense)                (None, 1)            33          ['dense_4[0][0]']                \n",
      "                                                                                                  \n",
      "==================================================================================================\n",
      "Total params: 4,781,301\n",
      "Trainable params: 4,780,907\n",
      "Non-trainable params: 394\n",
      "__________________________________________________________________________________________________\n"
     ]
    }
   ],
   "source": [
    "model = tf.keras.Model(inputs=[text_input, numerical_input], outputs=output)\n",
    "\n",
    "model.compile(optimizer=tf.keras.optimizers.Adam(learning_rate=1e-4), loss=tf.keras.losses.Huber(), metrics=['mean_absolute_error', tf.keras.metrics.RootMeanSquaredError(), tf.keras.metrics.MeanAbsolutePercentageError()])\n",
    "# model.compile(optimizer=tf.keras.optimizers.Adam(), loss=tf.keras.losses.Huber(), metrics=['mean_absolute_error', tf.keras.metrics.RootMeanSquaredError(), tf.keras.metrics.MeanAbsolutePercentageError()])\n",
    "model.summary()"
   ]
  },
  {
   "cell_type": "code",
   "execution_count": 21,
   "metadata": {},
   "outputs": [
    {
     "name": "stdout",
     "output_type": "stream",
     "text": [
      "Epoch 1/100\n",
      "103/103 [==============================] - 17s 127ms/step - loss: 1.8695 - mean_absolute_error: 1.9382 - root_mean_squared_error: 2.2120 - mean_absolute_percentage_error: 60.4400 - val_loss: 0.9160 - val_mean_absolute_error: 0.8953 - val_root_mean_squared_error: 1.1227 - val_mean_absolute_percentage_error: 27.0692 - lr: 1.0000e-04\n",
      "Epoch 2/100\n",
      "103/103 [==============================] - 12s 118ms/step - loss: 0.7835 - mean_absolute_error: 0.7670 - root_mean_squared_error: 0.9562 - mean_absolute_percentage_error: 26.8835 - val_loss: 0.7150 - val_mean_absolute_error: 0.7306 - val_root_mean_squared_error: 0.8492 - val_mean_absolute_percentage_error: 28.9853 - lr: 1.0000e-04\n",
      "Epoch 3/100\n",
      "103/103 [==============================] - 13s 122ms/step - loss: 0.7040 - mean_absolute_error: 0.6859 - root_mean_squared_error: 0.8625 - mean_absolute_percentage_error: 24.5098 - val_loss: 0.6857 - val_mean_absolute_error: 0.6858 - val_root_mean_squared_error: 0.8322 - val_mean_absolute_percentage_error: 28.1292 - lr: 1.0000e-04\n",
      "Epoch 4/100\n",
      "103/103 [==============================] - 13s 122ms/step - loss: 0.6617 - mean_absolute_error: 0.6485 - root_mean_squared_error: 0.8191 - mean_absolute_percentage_error: 23.1070 - val_loss: 0.6530 - val_mean_absolute_error: 0.6303 - val_root_mean_squared_error: 0.8089 - val_mean_absolute_percentage_error: 26.5845 - lr: 1.0000e-04\n",
      "Epoch 5/100\n",
      "103/103 [==============================] - 12s 119ms/step - loss: 0.6077 - mean_absolute_error: 0.5901 - root_mean_squared_error: 0.7546 - mean_absolute_percentage_error: 21.4568 - val_loss: 0.5415 - val_mean_absolute_error: 0.4995 - val_root_mean_squared_error: 0.6478 - val_mean_absolute_percentage_error: 19.8459 - lr: 1.0000e-04\n",
      "Epoch 6/100\n",
      "103/103 [==============================] - 12s 121ms/step - loss: 0.5834 - mean_absolute_error: 0.5705 - root_mean_squared_error: 0.7235 - mean_absolute_percentage_error: 20.6705 - val_loss: 0.5337 - val_mean_absolute_error: 0.5175 - val_root_mean_squared_error: 0.6454 - val_mean_absolute_percentage_error: 17.3000 - lr: 1.0000e-04\n",
      "Epoch 7/100\n",
      "103/103 [==============================] - 12s 121ms/step - loss: 0.5584 - mean_absolute_error: 0.5445 - root_mean_squared_error: 0.6997 - mean_absolute_percentage_error: 19.7508 - val_loss: 0.6571 - val_mean_absolute_error: 0.6868 - val_root_mean_squared_error: 0.8412 - val_mean_absolute_percentage_error: 22.0432 - lr: 1.0000e-04\n",
      "Epoch 8/100\n",
      "103/103 [==============================] - 13s 122ms/step - loss: 0.5305 - mean_absolute_error: 0.5203 - root_mean_squared_error: 0.6653 - mean_absolute_percentage_error: 18.7953 - val_loss: 0.5253 - val_mean_absolute_error: 0.5325 - val_root_mean_squared_error: 0.6576 - val_mean_absolute_percentage_error: 17.8613 - lr: 1.0000e-04\n",
      "Epoch 9/100\n",
      "103/103 [==============================] - 12s 119ms/step - loss: 0.5128 - mean_absolute_error: 0.5095 - root_mean_squared_error: 0.6478 - mean_absolute_percentage_error: 18.6180 - val_loss: 0.5089 - val_mean_absolute_error: 0.5176 - val_root_mean_squared_error: 0.6410 - val_mean_absolute_percentage_error: 17.6687 - lr: 1.0000e-04\n",
      "Epoch 10/100\n",
      "103/103 [==============================] - 13s 122ms/step - loss: 0.4905 - mean_absolute_error: 0.4882 - root_mean_squared_error: 0.6204 - mean_absolute_percentage_error: 17.5126 - val_loss: 0.5011 - val_mean_absolute_error: 0.5277 - val_root_mean_squared_error: 0.6383 - val_mean_absolute_percentage_error: 17.1914 - lr: 1.0000e-04\n",
      "Epoch 11/100\n",
      "103/103 [==============================] - 12s 118ms/step - loss: 0.4729 - mean_absolute_error: 0.4653 - root_mean_squared_error: 0.6049 - mean_absolute_percentage_error: 16.7901 - val_loss: 0.4916 - val_mean_absolute_error: 0.5186 - val_root_mean_squared_error: 0.6332 - val_mean_absolute_percentage_error: 17.3957 - lr: 1.0000e-04\n",
      "Epoch 12/100\n",
      "103/103 [==============================] - 12s 119ms/step - loss: 0.4574 - mean_absolute_error: 0.4584 - root_mean_squared_error: 0.5826 - mean_absolute_percentage_error: 16.4817 - val_loss: 0.4957 - val_mean_absolute_error: 0.5217 - val_root_mean_squared_error: 0.6518 - val_mean_absolute_percentage_error: 17.9207 - lr: 1.0000e-04\n",
      "Epoch 13/100\n",
      "103/103 [==============================] - 12s 120ms/step - loss: 0.4487 - mean_absolute_error: 0.4524 - root_mean_squared_error: 0.5779 - mean_absolute_percentage_error: 16.2081 - val_loss: 0.4164 - val_mean_absolute_error: 0.4135 - val_root_mean_squared_error: 0.5170 - val_mean_absolute_percentage_error: 13.8547 - lr: 1.0000e-04\n",
      "Epoch 14/100\n",
      "103/103 [==============================] - 12s 120ms/step - loss: 0.4321 - mean_absolute_error: 0.4358 - root_mean_squared_error: 0.5548 - mean_absolute_percentage_error: 15.4997 - val_loss: 0.4598 - val_mean_absolute_error: 0.4873 - val_root_mean_squared_error: 0.6088 - val_mean_absolute_percentage_error: 17.0206 - lr: 1.0000e-04\n",
      "Epoch 15/100\n",
      "103/103 [==============================] - 14s 138ms/step - loss: 0.4231 - mean_absolute_error: 0.4280 - root_mean_squared_error: 0.5496 - mean_absolute_percentage_error: 15.3906 - val_loss: 0.4295 - val_mean_absolute_error: 0.4421 - val_root_mean_squared_error: 0.5635 - val_mean_absolute_percentage_error: 15.6761 - lr: 1.0000e-04\n",
      "Epoch 16/100\n",
      "103/103 [==============================] - 14s 134ms/step - loss: 0.4072 - mean_absolute_error: 0.4100 - root_mean_squared_error: 0.5239 - mean_absolute_percentage_error: 14.5860 - val_loss: 0.4345 - val_mean_absolute_error: 0.4884 - val_root_mean_squared_error: 0.5774 - val_mean_absolute_percentage_error: 16.5158 - lr: 1.0000e-04\n",
      "Epoch 17/100\n",
      "103/103 [==============================] - 15s 141ms/step - loss: 0.3971 - mean_absolute_error: 0.4007 - root_mean_squared_error: 0.5138 - mean_absolute_percentage_error: 14.2794 - val_loss: 0.5089 - val_mean_absolute_error: 0.5655 - val_root_mean_squared_error: 0.7188 - val_mean_absolute_percentage_error: 23.4622 - lr: 1.0000e-04\n",
      "Epoch 18/100\n",
      "103/103 [==============================] - 14s 132ms/step - loss: 0.3861 - mean_absolute_error: 0.3870 - root_mean_squared_error: 0.5005 - mean_absolute_percentage_error: 13.8961 - val_loss: 0.4372 - val_mean_absolute_error: 0.4950 - val_root_mean_squared_error: 0.5998 - val_mean_absolute_percentage_error: 16.3493 - lr: 1.0000e-04\n",
      "Epoch 19/100\n",
      "103/103 [==============================] - 14s 133ms/step - loss: 0.3845 - mean_absolute_error: 0.3935 - root_mean_squared_error: 0.5014 - mean_absolute_percentage_error: 13.9033 - val_loss: 0.3760 - val_mean_absolute_error: 0.3757 - val_root_mean_squared_error: 0.4862 - val_mean_absolute_percentage_error: 13.1954 - lr: 5.0000e-05\n",
      "Epoch 20/100\n",
      "103/103 [==============================] - 14s 133ms/step - loss: 0.3740 - mean_absolute_error: 0.3762 - root_mean_squared_error: 0.4844 - mean_absolute_percentage_error: 13.3378 - val_loss: 0.3596 - val_mean_absolute_error: 0.3462 - val_root_mean_squared_error: 0.4560 - val_mean_absolute_percentage_error: 12.5229 - lr: 5.0000e-05\n",
      "Epoch 21/100\n",
      "103/103 [==============================] - 14s 133ms/step - loss: 0.3698 - mean_absolute_error: 0.3723 - root_mean_squared_error: 0.4801 - mean_absolute_percentage_error: 13.2276 - val_loss: 0.4294 - val_mean_absolute_error: 0.5109 - val_root_mean_squared_error: 0.5953 - val_mean_absolute_percentage_error: 16.6994 - lr: 5.0000e-05\n",
      "Epoch 22/100\n",
      "103/103 [==============================] - 14s 138ms/step - loss: 0.3710 - mean_absolute_error: 0.3774 - root_mean_squared_error: 0.4855 - mean_absolute_percentage_error: 13.2801 - val_loss: 0.3834 - val_mean_absolute_error: 0.3961 - val_root_mean_squared_error: 0.5150 - val_mean_absolute_percentage_error: 13.6535 - lr: 5.0000e-05\n",
      "Epoch 23/100\n",
      "103/103 [==============================] - 14s 136ms/step - loss: 0.3596 - mean_absolute_error: 0.3651 - root_mean_squared_error: 0.4639 - mean_absolute_percentage_error: 12.9447 - val_loss: 0.4758 - val_mean_absolute_error: 0.5498 - val_root_mean_squared_error: 0.6802 - val_mean_absolute_percentage_error: 18.5251 - lr: 5.0000e-05\n",
      "Epoch 24/100\n",
      "103/103 [==============================] - 15s 144ms/step - loss: 0.3541 - mean_absolute_error: 0.3600 - root_mean_squared_error: 0.4552 - mean_absolute_percentage_error: 12.6799 - val_loss: 0.4220 - val_mean_absolute_error: 0.4728 - val_root_mean_squared_error: 0.5950 - val_mean_absolute_percentage_error: 16.1974 - lr: 5.0000e-05\n",
      "Epoch 25/100\n",
      "103/103 [==============================] - 14s 134ms/step - loss: 0.3531 - mean_absolute_error: 0.3595 - root_mean_squared_error: 0.4578 - mean_absolute_percentage_error: 12.6735 - val_loss: 0.3380 - val_mean_absolute_error: 0.3142 - val_root_mean_squared_error: 0.4292 - val_mean_absolute_percentage_error: 11.5054 - lr: 5.0000e-05\n",
      "Epoch 26/100\n",
      "103/103 [==============================] - 14s 135ms/step - loss: 0.3464 - mean_absolute_error: 0.3493 - root_mean_squared_error: 0.4461 - mean_absolute_percentage_error: 12.4687 - val_loss: 0.4267 - val_mean_absolute_error: 0.4854 - val_root_mean_squared_error: 0.6091 - val_mean_absolute_percentage_error: 16.7223 - lr: 5.0000e-05\n",
      "Epoch 27/100\n",
      "103/103 [==============================] - 15s 144ms/step - loss: 0.3442 - mean_absolute_error: 0.3492 - root_mean_squared_error: 0.4459 - mean_absolute_percentage_error: 12.3246 - val_loss: 0.4336 - val_mean_absolute_error: 0.4966 - val_root_mean_squared_error: 0.6255 - val_mean_absolute_percentage_error: 17.2227 - lr: 5.0000e-05\n",
      "Epoch 28/100\n",
      "103/103 [==============================] - 14s 139ms/step - loss: 0.3445 - mean_absolute_error: 0.3495 - root_mean_squared_error: 0.4513 - mean_absolute_percentage_error: 12.1901 - val_loss: 0.4347 - val_mean_absolute_error: 0.5217 - val_root_mean_squared_error: 0.6253 - val_mean_absolute_percentage_error: 19.1588 - lr: 5.0000e-05\n",
      "Epoch 29/100\n",
      "103/103 [==============================] - 14s 137ms/step - loss: 0.3428 - mean_absolute_error: 0.3485 - root_mean_squared_error: 0.4514 - mean_absolute_percentage_error: 12.2664 - val_loss: 0.3636 - val_mean_absolute_error: 0.3860 - val_root_mean_squared_error: 0.5009 - val_mean_absolute_percentage_error: 13.5525 - lr: 5.0000e-05\n",
      "Epoch 30/100\n",
      "103/103 [==============================] - 14s 137ms/step - loss: 0.3346 - mean_absolute_error: 0.3403 - root_mean_squared_error: 0.4350 - mean_absolute_percentage_error: 12.0053 - val_loss: 0.4175 - val_mean_absolute_error: 0.5122 - val_root_mean_squared_error: 0.6011 - val_mean_absolute_percentage_error: 16.0906 - lr: 5.0000e-05\n",
      "Epoch 31/100\n",
      "103/103 [==============================] - 14s 136ms/step - loss: 0.3281 - mean_absolute_error: 0.3323 - root_mean_squared_error: 0.4224 - mean_absolute_percentage_error: 11.7410 - val_loss: 0.3819 - val_mean_absolute_error: 0.4509 - val_root_mean_squared_error: 0.5411 - val_mean_absolute_percentage_error: 14.7938 - lr: 2.5000e-05\n",
      "Epoch 32/100\n",
      "103/103 [==============================] - 14s 134ms/step - loss: 0.3313 - mean_absolute_error: 0.3375 - root_mean_squared_error: 0.4326 - mean_absolute_percentage_error: 11.9366 - val_loss: 0.3693 - val_mean_absolute_error: 0.4033 - val_root_mean_squared_error: 0.5193 - val_mean_absolute_percentage_error: 14.0207 - lr: 2.5000e-05\n",
      "Epoch 33/100\n",
      "103/103 [==============================] - 14s 133ms/step - loss: 0.3301 - mean_absolute_error: 0.3369 - root_mean_squared_error: 0.4318 - mean_absolute_percentage_error: 11.7691 - val_loss: 0.4067 - val_mean_absolute_error: 0.5019 - val_root_mean_squared_error: 0.5901 - val_mean_absolute_percentage_error: 16.6984 - lr: 2.5000e-05\n",
      "Epoch 34/100\n",
      "103/103 [==============================] - 13s 131ms/step - loss: 0.3282 - mean_absolute_error: 0.3340 - root_mean_squared_error: 0.4290 - mean_absolute_percentage_error: 11.5897 - val_loss: 0.3996 - val_mean_absolute_error: 0.4974 - val_root_mean_squared_error: 0.5777 - val_mean_absolute_percentage_error: 16.0961 - lr: 2.5000e-05\n",
      "Epoch 35/100\n",
      "103/103 [==============================] - 13s 131ms/step - loss: 0.3207 - mean_absolute_error: 0.3220 - root_mean_squared_error: 0.4126 - mean_absolute_percentage_error: 11.2957 - val_loss: 0.4084 - val_mean_absolute_error: 0.5131 - val_root_mean_squared_error: 0.5941 - val_mean_absolute_percentage_error: 16.2811 - lr: 2.5000e-05\n",
      "Epoch 36/100\n",
      "103/103 [==============================] - 13s 130ms/step - loss: 0.3211 - mean_absolute_error: 0.3248 - root_mean_squared_error: 0.4154 - mean_absolute_percentage_error: 11.3629 - val_loss: 0.4260 - val_mean_absolute_error: 0.5409 - val_root_mean_squared_error: 0.6267 - val_mean_absolute_percentage_error: 17.9491 - lr: 1.2500e-05\n",
      "Epoch 37/100\n",
      "103/103 [==============================] - 14s 133ms/step - loss: 0.3207 - mean_absolute_error: 0.3244 - root_mean_squared_error: 0.4155 - mean_absolute_percentage_error: 11.4416 - val_loss: 0.3875 - val_mean_absolute_error: 0.4616 - val_root_mean_squared_error: 0.5608 - val_mean_absolute_percentage_error: 15.5043 - lr: 1.2500e-05\n",
      "Epoch 38/100\n",
      "103/103 [==============================] - 13s 131ms/step - loss: 0.3183 - mean_absolute_error: 0.3207 - root_mean_squared_error: 0.4108 - mean_absolute_percentage_error: 11.2605 - val_loss: 0.4364 - val_mean_absolute_error: 0.5442 - val_root_mean_squared_error: 0.6461 - val_mean_absolute_percentage_error: 18.2485 - lr: 1.2500e-05\n",
      "Epoch 39/100\n",
      "103/103 [==============================] - 15s 142ms/step - loss: 0.3196 - mean_absolute_error: 0.3246 - root_mean_squared_error: 0.4157 - mean_absolute_percentage_error: 11.3347 - val_loss: 0.3820 - val_mean_absolute_error: 0.4418 - val_root_mean_squared_error: 0.5523 - val_mean_absolute_percentage_error: 15.3836 - lr: 1.2500e-05\n",
      "Epoch 40/100\n",
      "103/103 [==============================] - 14s 136ms/step - loss: 0.3196 - mean_absolute_error: 0.3258 - root_mean_squared_error: 0.4162 - mean_absolute_percentage_error: 11.4671 - val_loss: 0.4042 - val_mean_absolute_error: 0.5098 - val_root_mean_squared_error: 0.5919 - val_mean_absolute_percentage_error: 16.9844 - lr: 1.2500e-05\n",
      "Epoch 41/100\n",
      "103/103 [==============================] - 14s 139ms/step - loss: 0.3197 - mean_absolute_error: 0.3254 - root_mean_squared_error: 0.4172 - mean_absolute_percentage_error: 11.3677 - val_loss: 0.4137 - val_mean_absolute_error: 0.5227 - val_root_mean_squared_error: 0.6099 - val_mean_absolute_percentage_error: 17.5093 - lr: 6.2500e-06\n",
      "Epoch 42/100\n",
      "103/103 [==============================] - 14s 138ms/step - loss: 0.3196 - mean_absolute_error: 0.3282 - root_mean_squared_error: 0.4172 - mean_absolute_percentage_error: 11.5183 - val_loss: 0.3985 - val_mean_absolute_error: 0.4846 - val_root_mean_squared_error: 0.5838 - val_mean_absolute_percentage_error: 16.5540 - lr: 6.2500e-06\n",
      "Epoch 43/100\n",
      "103/103 [==============================] - 14s 138ms/step - loss: 0.3160 - mean_absolute_error: 0.3219 - root_mean_squared_error: 0.4085 - mean_absolute_percentage_error: 11.2059 - val_loss: 0.4007 - val_mean_absolute_error: 0.4790 - val_root_mean_squared_error: 0.5887 - val_mean_absolute_percentage_error: 16.5818 - lr: 6.2500e-06\n",
      "Epoch 44/100\n",
      "103/103 [==============================] - 15s 143ms/step - loss: 0.3151 - mean_absolute_error: 0.3171 - root_mean_squared_error: 0.4075 - mean_absolute_percentage_error: 11.0382 - val_loss: 0.4435 - val_mean_absolute_error: 0.5852 - val_root_mean_squared_error: 0.6590 - val_mean_absolute_percentage_error: 18.9857 - lr: 6.2500e-06\n",
      "Epoch 45/100\n",
      "103/103 [==============================] - 14s 141ms/step - loss: 0.3199 - mean_absolute_error: 0.3287 - root_mean_squared_error: 0.4197 - mean_absolute_percentage_error: 11.4975 - val_loss: 0.4108 - val_mean_absolute_error: 0.5143 - val_root_mean_squared_error: 0.6065 - val_mean_absolute_percentage_error: 17.3496 - lr: 6.2500e-06\n",
      "Epoch 46/100\n",
      "103/103 [==============================] - 14s 136ms/step - loss: 0.3113 - mean_absolute_error: 0.3098 - root_mean_squared_error: 0.3986 - mean_absolute_percentage_error: 10.9638 - val_loss: 0.4073 - val_mean_absolute_error: 0.5048 - val_root_mean_squared_error: 0.6010 - val_mean_absolute_percentage_error: 17.2361 - lr: 3.1250e-06\n",
      "Epoch 47/100\n",
      "103/103 [==============================] - 14s 134ms/step - loss: 0.3165 - mean_absolute_error: 0.3236 - root_mean_squared_error: 0.4118 - mean_absolute_percentage_error: 11.4466 - val_loss: 0.3917 - val_mean_absolute_error: 0.4715 - val_root_mean_squared_error: 0.5734 - val_mean_absolute_percentage_error: 16.2823 - lr: 3.1250e-06\n",
      "Epoch 48/100\n",
      "103/103 [==============================] - 14s 136ms/step - loss: 0.3125 - mean_absolute_error: 0.3121 - root_mean_squared_error: 0.4026 - mean_absolute_percentage_error: 10.9170 - val_loss: 0.4000 - val_mean_absolute_error: 0.4938 - val_root_mean_squared_error: 0.5881 - val_mean_absolute_percentage_error: 16.8226 - lr: 3.1250e-06\n",
      "Epoch 49/100\n",
      "103/103 [==============================] - 15s 147ms/step - loss: 0.3194 - mean_absolute_error: 0.3266 - root_mean_squared_error: 0.4194 - mean_absolute_percentage_error: 11.3912 - val_loss: 0.3932 - val_mean_absolute_error: 0.4749 - val_root_mean_squared_error: 0.5763 - val_mean_absolute_percentage_error: 16.3870 - lr: 3.1250e-06\n",
      "Epoch 50/100\n",
      "103/103 [==============================] - 14s 137ms/step - loss: 0.3146 - mean_absolute_error: 0.3194 - root_mean_squared_error: 0.4085 - mean_absolute_percentage_error: 11.1002 - val_loss: 0.4147 - val_mean_absolute_error: 0.5323 - val_root_mean_squared_error: 0.6136 - val_mean_absolute_percentage_error: 17.7762 - lr: 3.1250e-06\n",
      "Epoch 51/100\n",
      "103/103 [==============================] - 15s 142ms/step - loss: 0.3153 - mean_absolute_error: 0.3188 - root_mean_squared_error: 0.4103 - mean_absolute_percentage_error: 11.2910 - val_loss: 0.4151 - val_mean_absolute_error: 0.5339 - val_root_mean_squared_error: 0.6143 - val_mean_absolute_percentage_error: 17.8195 - lr: 1.5625e-06\n",
      "Epoch 52/100\n",
      "103/103 [==============================] - 14s 137ms/step - loss: 0.3138 - mean_absolute_error: 0.3156 - root_mean_squared_error: 0.4063 - mean_absolute_percentage_error: 11.0593 - val_loss: 0.4094 - val_mean_absolute_error: 0.5206 - val_root_mean_squared_error: 0.6049 - val_mean_absolute_percentage_error: 17.5026 - lr: 1.5625e-06\n",
      "Epoch 53/100\n",
      "103/103 [==============================] - 14s 136ms/step - loss: 0.3097 - mean_absolute_error: 0.3081 - root_mean_squared_error: 0.3963 - mean_absolute_percentage_error: 10.8341 - val_loss: 0.4050 - val_mean_absolute_error: 0.5120 - val_root_mean_squared_error: 0.5974 - val_mean_absolute_percentage_error: 17.2559 - lr: 1.5625e-06\n",
      "Epoch 54/100\n",
      "103/103 [==============================] - 14s 137ms/step - loss: 0.3148 - mean_absolute_error: 0.3194 - root_mean_squared_error: 0.4092 - mean_absolute_percentage_error: 11.1197 - val_loss: 0.4198 - val_mean_absolute_error: 0.5450 - val_root_mean_squared_error: 0.6225 - val_mean_absolute_percentage_error: 18.0899 - lr: 1.5625e-06\n",
      "Epoch 55/100\n",
      "103/103 [==============================] - 14s 135ms/step - loss: 0.3165 - mean_absolute_error: 0.3219 - root_mean_squared_error: 0.4136 - mean_absolute_percentage_error: 11.2847 - val_loss: 0.4032 - val_mean_absolute_error: 0.5020 - val_root_mean_squared_error: 0.5948 - val_mean_absolute_percentage_error: 17.1397 - lr: 1.5625e-06\n",
      "Epoch 56/100\n",
      "103/103 [==============================] - 14s 133ms/step - loss: 0.3110 - mean_absolute_error: 0.3123 - root_mean_squared_error: 0.4001 - mean_absolute_percentage_error: 10.9949 - val_loss: 0.4063 - val_mean_absolute_error: 0.5117 - val_root_mean_squared_error: 0.6001 - val_mean_absolute_percentage_error: 17.3543 - lr: 7.8125e-07\n",
      "Epoch 57/100\n",
      "103/103 [==============================] - 13s 131ms/step - loss: 0.3112 - mean_absolute_error: 0.3129 - root_mean_squared_error: 0.4002 - mean_absolute_percentage_error: 10.9713 - val_loss: 0.4084 - val_mean_absolute_error: 0.5176 - val_root_mean_squared_error: 0.6036 - val_mean_absolute_percentage_error: 17.4793 - lr: 7.8125e-07\n",
      "Epoch 58/100\n",
      "103/103 [==============================] - 14s 131ms/step - loss: 0.3093 - mean_absolute_error: 0.3084 - root_mean_squared_error: 0.3957 - mean_absolute_percentage_error: 10.8299 - val_loss: 0.4068 - val_mean_absolute_error: 0.5152 - val_root_mean_squared_error: 0.6011 - val_mean_absolute_percentage_error: 17.3991 - lr: 7.8125e-07\n",
      "Epoch 59/100\n",
      "103/103 [==============================] - 14s 138ms/step - loss: 0.3117 - mean_absolute_error: 0.3153 - root_mean_squared_error: 0.4024 - mean_absolute_percentage_error: 11.0267 - val_loss: 0.4064 - val_mean_absolute_error: 0.5106 - val_root_mean_squared_error: 0.6005 - val_mean_absolute_percentage_error: 17.3330 - lr: 7.8125e-07\n",
      "Epoch 60/100\n",
      "103/103 [==============================] - 14s 136ms/step - loss: 0.3153 - mean_absolute_error: 0.3204 - root_mean_squared_error: 0.4117 - mean_absolute_percentage_error: 11.1898 - val_loss: 0.4019 - val_mean_absolute_error: 0.4999 - val_root_mean_squared_error: 0.5926 - val_mean_absolute_percentage_error: 17.0402 - lr: 7.8125e-07\n",
      "Epoch 61/100\n",
      "103/103 [==============================] - 14s 136ms/step - loss: 0.3100 - mean_absolute_error: 0.3096 - root_mean_squared_error: 0.3983 - mean_absolute_percentage_error: 10.9209 - val_loss: 0.4029 - val_mean_absolute_error: 0.5022 - val_root_mean_squared_error: 0.5946 - val_mean_absolute_percentage_error: 17.1194 - lr: 3.9062e-07\n",
      "Epoch 62/100\n",
      "103/103 [==============================] - 14s 136ms/step - loss: 0.3127 - mean_absolute_error: 0.3145 - root_mean_squared_error: 0.4043 - mean_absolute_percentage_error: 10.9503 - val_loss: 0.4082 - val_mean_absolute_error: 0.5154 - val_root_mean_squared_error: 0.6038 - val_mean_absolute_percentage_error: 17.4723 - lr: 3.9062e-07\n",
      "Epoch 63/100\n",
      "103/103 [==============================] - 15s 142ms/step - loss: 0.3128 - mean_absolute_error: 0.3165 - root_mean_squared_error: 0.4051 - mean_absolute_percentage_error: 11.0970 - val_loss: 0.4070 - val_mean_absolute_error: 0.5124 - val_root_mean_squared_error: 0.6016 - val_mean_absolute_percentage_error: 17.3875 - lr: 3.9062e-07\n",
      "Epoch 64/100\n",
      "103/103 [==============================] - 14s 132ms/step - loss: 0.3139 - mean_absolute_error: 0.3176 - root_mean_squared_error: 0.4077 - mean_absolute_percentage_error: 11.1478 - val_loss: 0.4067 - val_mean_absolute_error: 0.5128 - val_root_mean_squared_error: 0.6012 - val_mean_absolute_percentage_error: 17.3830 - lr: 3.9062e-07\n",
      "Epoch 65/100\n",
      "103/103 [==============================] - 14s 133ms/step - loss: 0.3098 - mean_absolute_error: 0.3109 - root_mean_squared_error: 0.3968 - mean_absolute_percentage_error: 10.8121 - val_loss: 0.4052 - val_mean_absolute_error: 0.5099 - val_root_mean_squared_error: 0.5986 - val_mean_absolute_percentage_error: 17.2911 - lr: 3.9062e-07\n",
      "Epoch 66/100\n",
      "103/103 [==============================] - 13s 128ms/step - loss: 0.3150 - mean_absolute_error: 0.3210 - root_mean_squared_error: 0.4103 - mean_absolute_percentage_error: 11.1774 - val_loss: 0.4079 - val_mean_absolute_error: 0.5151 - val_root_mean_squared_error: 0.6033 - val_mean_absolute_percentage_error: 17.4466 - lr: 1.9531e-07\n",
      "Epoch 67/100\n",
      "103/103 [==============================] - 14s 134ms/step - loss: 0.3146 - mean_absolute_error: 0.3197 - root_mean_squared_error: 0.4089 - mean_absolute_percentage_error: 11.1745 - val_loss: 0.4083 - val_mean_absolute_error: 0.5159 - val_root_mean_squared_error: 0.6040 - val_mean_absolute_percentage_error: 17.4735 - lr: 1.9531e-07\n",
      "Epoch 68/100\n",
      "103/103 [==============================] - 14s 137ms/step - loss: 0.3142 - mean_absolute_error: 0.3197 - root_mean_squared_error: 0.4088 - mean_absolute_percentage_error: 11.2617 - val_loss: 0.4096 - val_mean_absolute_error: 0.5184 - val_root_mean_squared_error: 0.6062 - val_mean_absolute_percentage_error: 17.5366 - lr: 1.9531e-07\n",
      "Epoch 69/100\n",
      "103/103 [==============================] - 14s 137ms/step - loss: 0.3130 - mean_absolute_error: 0.3149 - root_mean_squared_error: 0.4056 - mean_absolute_percentage_error: 11.0703 - val_loss: 0.4042 - val_mean_absolute_error: 0.5063 - val_root_mean_squared_error: 0.5970 - val_mean_absolute_percentage_error: 17.2220 - lr: 1.9531e-07\n",
      "Epoch 70/100\n",
      "103/103 [==============================] - 14s 134ms/step - loss: 0.3113 - mean_absolute_error: 0.3145 - root_mean_squared_error: 0.4011 - mean_absolute_percentage_error: 10.9529 - val_loss: 0.4047 - val_mean_absolute_error: 0.5084 - val_root_mean_squared_error: 0.5978 - val_mean_absolute_percentage_error: 17.2616 - lr: 1.9531e-07\n",
      "Epoch 71/100\n",
      "103/103 [==============================] - 14s 136ms/step - loss: 0.3110 - mean_absolute_error: 0.3135 - root_mean_squared_error: 0.4001 - mean_absolute_percentage_error: 10.8385 - val_loss: 0.4053 - val_mean_absolute_error: 0.5101 - val_root_mean_squared_error: 0.5989 - val_mean_absolute_percentage_error: 17.3028 - lr: 9.7656e-08\n",
      "Epoch 72/100\n",
      "103/103 [==============================] - 15s 150ms/step - loss: 0.3097 - mean_absolute_error: 0.3080 - root_mean_squared_error: 0.3978 - mean_absolute_percentage_error: 10.7297 - val_loss: 0.4077 - val_mean_absolute_error: 0.5157 - val_root_mean_squared_error: 0.6029 - val_mean_absolute_percentage_error: 17.4320 - lr: 9.7656e-08\n",
      "Epoch 73/100\n",
      "103/103 [==============================] - 14s 138ms/step - loss: 0.3165 - mean_absolute_error: 0.3222 - root_mean_squared_error: 0.4143 - mean_absolute_percentage_error: 11.1713 - val_loss: 0.4105 - val_mean_absolute_error: 0.5209 - val_root_mean_squared_error: 0.6076 - val_mean_absolute_percentage_error: 17.5850 - lr: 9.7656e-08\n",
      "Epoch 74/100\n",
      "103/103 [==============================] - 15s 144ms/step - loss: 0.3135 - mean_absolute_error: 0.3186 - root_mean_squared_error: 0.4064 - mean_absolute_percentage_error: 11.1170 - val_loss: 0.4078 - val_mean_absolute_error: 0.5166 - val_root_mean_squared_error: 0.6031 - val_mean_absolute_percentage_error: 17.4539 - lr: 9.7656e-08\n",
      "Epoch 75/100\n",
      "103/103 [==============================] - 14s 140ms/step - loss: 0.3109 - mean_absolute_error: 0.3087 - root_mean_squared_error: 0.4008 - mean_absolute_percentage_error: 10.8082 - val_loss: 0.4070 - val_mean_absolute_error: 0.5146 - val_root_mean_squared_error: 0.6017 - val_mean_absolute_percentage_error: 17.4123 - lr: 9.7656e-08\n",
      "Epoch 76/100\n",
      "103/103 [==============================] - 14s 141ms/step - loss: 0.3098 - mean_absolute_error: 0.3093 - root_mean_squared_error: 0.3976 - mean_absolute_percentage_error: 10.7759 - val_loss: 0.4088 - val_mean_absolute_error: 0.5190 - val_root_mean_squared_error: 0.6049 - val_mean_absolute_percentage_error: 17.5242 - lr: 4.8828e-08\n",
      "Epoch 77/100\n",
      "103/103 [==============================] - 14s 140ms/step - loss: 0.3107 - mean_absolute_error: 0.3114 - root_mean_squared_error: 0.3994 - mean_absolute_percentage_error: 10.7676 - val_loss: 0.4096 - val_mean_absolute_error: 0.5198 - val_root_mean_squared_error: 0.6063 - val_mean_absolute_percentage_error: 17.5580 - lr: 4.8828e-08\n",
      "Epoch 78/100\n",
      "103/103 [==============================] - 14s 136ms/step - loss: 0.3119 - mean_absolute_error: 0.3156 - root_mean_squared_error: 0.4026 - mean_absolute_percentage_error: 11.0355 - val_loss: 0.4102 - val_mean_absolute_error: 0.5212 - val_root_mean_squared_error: 0.6072 - val_mean_absolute_percentage_error: 17.5890 - lr: 4.8828e-08\n",
      "Epoch 79/100\n",
      "103/103 [==============================] - 14s 138ms/step - loss: 0.3102 - mean_absolute_error: 0.3112 - root_mean_squared_error: 0.3988 - mean_absolute_percentage_error: 10.9175 - val_loss: 0.4073 - val_mean_absolute_error: 0.5137 - val_root_mean_squared_error: 0.6024 - val_mean_absolute_percentage_error: 17.4021 - lr: 4.8828e-08\n",
      "Epoch 80/100\n",
      "103/103 [==============================] - 14s 137ms/step - loss: 0.3168 - mean_absolute_error: 0.3252 - root_mean_squared_error: 0.4153 - mean_absolute_percentage_error: 11.4378 - val_loss: 0.4084 - val_mean_absolute_error: 0.5170 - val_root_mean_squared_error: 0.6041 - val_mean_absolute_percentage_error: 17.4840 - lr: 4.8828e-08\n",
      "Epoch 81/100\n",
      "103/103 [==============================] - 14s 141ms/step - loss: 0.3105 - mean_absolute_error: 0.3106 - root_mean_squared_error: 0.3989 - mean_absolute_percentage_error: 10.8941 - val_loss: 0.4086 - val_mean_absolute_error: 0.5176 - val_root_mean_squared_error: 0.6045 - val_mean_absolute_percentage_error: 17.5031 - lr: 2.4414e-08\n",
      "Epoch 82/100\n",
      "103/103 [==============================] - 15s 141ms/step - loss: 0.3100 - mean_absolute_error: 0.3122 - root_mean_squared_error: 0.3979 - mean_absolute_percentage_error: 10.9684 - val_loss: 0.4112 - val_mean_absolute_error: 0.5224 - val_root_mean_squared_error: 0.6090 - val_mean_absolute_percentage_error: 17.6460 - lr: 2.4414e-08\n",
      "Epoch 83/100\n",
      "103/103 [==============================] - 15s 145ms/step - loss: 0.3100 - mean_absolute_error: 0.3105 - root_mean_squared_error: 0.3981 - mean_absolute_percentage_error: 10.9018 - val_loss: 0.4074 - val_mean_absolute_error: 0.5150 - val_root_mean_squared_error: 0.6026 - val_mean_absolute_percentage_error: 17.4291 - lr: 2.4414e-08\n",
      "Epoch 84/100\n",
      "103/103 [==============================] - 15s 143ms/step - loss: 0.3176 - mean_absolute_error: 0.3259 - root_mean_squared_error: 0.4170 - mean_absolute_percentage_error: 11.3514 - val_loss: 0.4075 - val_mean_absolute_error: 0.5152 - val_root_mean_squared_error: 0.6025 - val_mean_absolute_percentage_error: 17.4265 - lr: 2.4414e-08\n",
      "Epoch 85/100\n",
      "103/103 [==============================] - 16s 157ms/step - loss: 0.3111 - mean_absolute_error: 0.3093 - root_mean_squared_error: 0.4023 - mean_absolute_percentage_error: 10.7578 - val_loss: 0.4064 - val_mean_absolute_error: 0.5130 - val_root_mean_squared_error: 0.6007 - val_mean_absolute_percentage_error: 17.3614 - lr: 2.4414e-08\n",
      "Epoch 86/100\n",
      "103/103 [==============================] - 15s 142ms/step - loss: 0.3115 - mean_absolute_error: 0.3167 - root_mean_squared_error: 0.4022 - mean_absolute_percentage_error: 11.2099 - val_loss: 0.4075 - val_mean_absolute_error: 0.5157 - val_root_mean_squared_error: 0.6026 - val_mean_absolute_percentage_error: 17.4440 - lr: 1.2207e-08\n",
      "Epoch 87/100\n",
      "103/103 [==============================] - 15s 142ms/step - loss: 0.3119 - mean_absolute_error: 0.3146 - root_mean_squared_error: 0.4029 - mean_absolute_percentage_error: 11.0175 - val_loss: 0.4090 - val_mean_absolute_error: 0.5180 - val_root_mean_squared_error: 0.6053 - val_mean_absolute_percentage_error: 17.5228 - lr: 1.2207e-08\n",
      "Epoch 88/100\n",
      "103/103 [==============================] - 14s 138ms/step - loss: 0.3134 - mean_absolute_error: 0.3186 - root_mean_squared_error: 0.4068 - mean_absolute_percentage_error: 11.0960 - val_loss: 0.4072 - val_mean_absolute_error: 0.5146 - val_root_mean_squared_error: 0.6021 - val_mean_absolute_percentage_error: 17.4141 - lr: 1.2207e-08\n",
      "Epoch 89/100\n",
      "103/103 [==============================] - 14s 136ms/step - loss: 0.3130 - mean_absolute_error: 0.3155 - root_mean_squared_error: 0.4063 - mean_absolute_percentage_error: 11.0941 - val_loss: 0.4083 - val_mean_absolute_error: 0.5167 - val_root_mean_squared_error: 0.6040 - val_mean_absolute_percentage_error: 17.4743 - lr: 1.2207e-08\n",
      "Epoch 90/100\n",
      "103/103 [==============================] - 15s 150ms/step - loss: 0.3120 - mean_absolute_error: 0.3156 - root_mean_squared_error: 0.4040 - mean_absolute_percentage_error: 10.9637 - val_loss: 0.4107 - val_mean_absolute_error: 0.5232 - val_root_mean_squared_error: 0.6080 - val_mean_absolute_percentage_error: 17.6180 - lr: 1.2207e-08\n",
      "Epoch 91/100\n",
      "103/103 [==============================] - 13s 129ms/step - loss: 0.3131 - mean_absolute_error: 0.3173 - root_mean_squared_error: 0.4053 - mean_absolute_percentage_error: 11.0304 - val_loss: 0.4093 - val_mean_absolute_error: 0.5201 - val_root_mean_squared_error: 0.6056 - val_mean_absolute_percentage_error: 17.5375 - lr: 6.1035e-09\n",
      "Epoch 92/100\n",
      "103/103 [==============================] - 15s 144ms/step - loss: 0.3107 - mean_absolute_error: 0.3132 - root_mean_squared_error: 0.3995 - mean_absolute_percentage_error: 10.9490 - val_loss: 0.4096 - val_mean_absolute_error: 0.5202 - val_root_mean_squared_error: 0.6061 - val_mean_absolute_percentage_error: 17.5491 - lr: 6.1035e-09\n",
      "Epoch 93/100\n",
      "103/103 [==============================] - 15s 142ms/step - loss: 0.3134 - mean_absolute_error: 0.3186 - root_mean_squared_error: 0.4063 - mean_absolute_percentage_error: 11.1856 - val_loss: 0.4085 - val_mean_absolute_error: 0.5165 - val_root_mean_squared_error: 0.6043 - val_mean_absolute_percentage_error: 17.4889 - lr: 6.1035e-09\n",
      "Epoch 94/100\n",
      "103/103 [==============================] - 15s 144ms/step - loss: 0.3127 - mean_absolute_error: 0.3119 - root_mean_squared_error: 0.4057 - mean_absolute_percentage_error: 10.7634 - val_loss: 0.4087 - val_mean_absolute_error: 0.5173 - val_root_mean_squared_error: 0.6048 - val_mean_absolute_percentage_error: 17.5007 - lr: 6.1035e-09\n",
      "Epoch 95/100\n",
      "103/103 [==============================] - 15s 144ms/step - loss: 0.3130 - mean_absolute_error: 0.3164 - root_mean_squared_error: 0.4055 - mean_absolute_percentage_error: 11.0166 - val_loss: 0.4079 - val_mean_absolute_error: 0.5160 - val_root_mean_squared_error: 0.6034 - val_mean_absolute_percentage_error: 17.4632 - lr: 6.1035e-09\n",
      "Epoch 96/100\n",
      "103/103 [==============================] - 15s 143ms/step - loss: 0.3113 - mean_absolute_error: 0.3145 - root_mean_squared_error: 0.4017 - mean_absolute_percentage_error: 10.9618 - val_loss: 0.4070 - val_mean_absolute_error: 0.5133 - val_root_mean_squared_error: 0.6020 - val_mean_absolute_percentage_error: 17.4090 - lr: 3.0518e-09\n",
      "Epoch 97/100\n",
      "103/103 [==============================] - 15s 142ms/step - loss: 0.3136 - mean_absolute_error: 0.3185 - root_mean_squared_error: 0.4069 - mean_absolute_percentage_error: 11.0460 - val_loss: 0.4067 - val_mean_absolute_error: 0.5140 - val_root_mean_squared_error: 0.6012 - val_mean_absolute_percentage_error: 17.3901 - lr: 3.0518e-09\n",
      "Epoch 98/100\n",
      "103/103 [==============================] - 15s 142ms/step - loss: 0.3117 - mean_absolute_error: 0.3135 - root_mean_squared_error: 0.4030 - mean_absolute_percentage_error: 10.9415 - val_loss: 0.4062 - val_mean_absolute_error: 0.5134 - val_root_mean_squared_error: 0.6004 - val_mean_absolute_percentage_error: 17.3604 - lr: 3.0518e-09\n",
      "Epoch 99/100\n",
      "103/103 [==============================] - 15s 144ms/step - loss: 0.3160 - mean_absolute_error: 0.3250 - root_mean_squared_error: 0.4127 - mean_absolute_percentage_error: 11.3603 - val_loss: 0.4068 - val_mean_absolute_error: 0.5141 - val_root_mean_squared_error: 0.6014 - val_mean_absolute_percentage_error: 17.3940 - lr: 3.0518e-09\n",
      "Epoch 100/100\n",
      "103/103 [==============================] - 15s 142ms/step - loss: 0.3134 - mean_absolute_error: 0.3192 - root_mean_squared_error: 0.4061 - mean_absolute_percentage_error: 11.0606 - val_loss: 0.4055 - val_mean_absolute_error: 0.5103 - val_root_mean_squared_error: 0.5993 - val_mean_absolute_percentage_error: 17.3076 - lr: 3.0518e-09\n"
     ]
    }
   ],
   "source": [
    "history = model.fit([X_train_texts, train_numerical], y_train, \n",
    "                    epochs=100, batch_size=32, validation_data=([X_test_texts, test_numerical], y_test), \n",
    "                    callbacks=[reduce_lr_on_plateau])"
   ]
  },
  {
   "cell_type": "code",
   "execution_count": 22,
   "metadata": {},
   "outputs": [
    {
     "name": "stdout",
     "output_type": "stream",
     "text": [
      "33/33 [==============================] - 2s 59ms/step - loss: 0.4055 - mean_absolute_error: 0.5103 - root_mean_squared_error: 0.5993 - mean_absolute_percentage_error: 17.3076\n",
      "Model Loss: [0.4055410921573639, 0.5103296041488647, 0.599323570728302, 17.307632446289062]\n"
     ]
    }
   ],
   "source": [
    "loss = model.evaluate([X_test_texts, test_numerical], y_test)\n",
    "print(f'Model Loss: {loss}')"
   ]
  },
  {
   "cell_type": "code",
   "execution_count": 23,
   "metadata": {},
   "outputs": [
    {
     "data": {
      "image/png": "[encoded data removed]",
      "text/plain": [
       "<Figure size 640x480 with 1 Axes>"
      ]
     },
     "metadata": {},
     "output_type": "display_data"
    },
    {
     "data": {
      "image/png": "[encoded data removed]",
      "text/plain": [
       "<Figure size 640x480 with 1 Axes>"
      ]
     },
     "metadata": {},
     "output_type": "display_data"
    },
    {
     "data": {
      "image/png": "[encoded data removed]",
      "text/plain": [
       "<Figure size 640x480 with 1 Axes>"
      ]
     },
     "metadata": {},
     "output_type": "display_data"
    },
    {
     "data": {
      "image/png": "[encoded data removed]",
      "text/plain": [
       "<Figure size 640x480 with 1 Axes>"
      ]
     },
     "metadata": {},
     "output_type": "display_data"
    }
   ],
   "source": [
    "plt.plot(history.history['mean_absolute_error'])\n",
    "plt.plot(history.history['val_mean_absolute_error'])\n",
    "plt.title('Model Mean Absolute Error')\n",
    "plt.ylabel('Mean Absolute Error')\n",
    "plt.xlabel('Epoch')\n",
    "plt.legend(['Train', 'Validation'], loc='upper left')\n",
    "plt.show()\n",
    "\n",
    "plt.plot(history.history['loss'])\n",
    "plt.plot(history.history['val_loss'])\n",
    "plt.title('Model Loss')\n",
    "plt.ylabel('Loss')\n",
    "plt.xlabel('Epoch')\n",
    "plt.legend(['Train', 'Validation'], loc='upper left')\n",
    "plt.show()\n",
    "\n",
    "plt.plot(history.history['root_mean_squared_error'])\n",
    "plt.plot(history.history['val_root_mean_squared_error'])\n",
    "plt.title('Model Root Mean Squared Error')\n",
    "plt.ylabel('Root Mean Squared Error')\n",
    "plt.xlabel('Epoch')\n",
    "plt.legend(['Train', 'Validation'], loc='upper left')\n",
    "plt.show()\n",
    "\n",
    "plt.plot(history.history['mean_absolute_percentage_error'])\n",
    "plt.plot(history.history['val_mean_absolute_percentage_error'])\n",
    "plt.title('Model MAPE')\n",
    "plt.ylabel('MAPE')\n",
    "plt.xlabel('Epoch')\n",
    "plt.legend(['Train', 'Validation'], loc='upper left')\n",
    "plt.show()"
   ]
  },
  {
   "cell_type": "markdown",
   "metadata": {},
   "source": [
    "### Inference"
   ]
  },
  {
   "cell_type": "code",
   "execution_count": 34,
   "metadata": {},
   "outputs": [
    {
     "name": "stdout",
     "output_type": "stream",
     "text": [
      "1/1 [==============================] - 0s 194ms/step\n",
      "Predicted Putusan: [1.9157647]\n",
      "Predicted Putusan: [5.79213068]\n"
     ]
    }
   ],
   "source": [
    "klasifikasi_perkara_encoded = 0\n",
    "penuntut_umum_encoded = 0\n",
    "hakim_encoded = 7\n",
    "jumlah_saksi_inference = 6\n",
    "maks_penjara_berdasarkan_pasal = 84\n",
    "\n",
    "inference_text = [\"buah sabit gagang kayu buah jare plastik paranet warna hitam uta tali plastik warna biru meter puluh buah kantong plastik kresek uta tali kain warna merah cm dimusnahkan unit mobil merek suzuki st pick up warna hitam dk kc noka mhyesljj nosin gaid beserta kunci kontak lembar stnk mobil merek suzuki st pick up warna hitam dk kc noka mhyesljj nosin gaid nama pemilik an i kadek kondrayasa dikembalikan i gede agu wirayuda buah durian jeni durian kane dikembalikan i wayan sukaren lembar nota pembelian buah durian toko tiara durian dikembalikan komang ayu anggreni bela buah durian jeni durian kane lembar nota pembelian buah durian toko semut durian dikembalikan komang sujana uang tunai rp ratu delapan puluh tujuh ribu rupiah dirampa negara membebankan terdakwa membayar biaya perkara rp ribu rupiah terdakwa gede darmayasa selasa tanggal mei sekira jam wita selasa tanggal mei sekira jam wita sabtu tanggal mei sekira jam wita setidaktidaknya mei setidaktidaknya kebun milik i wayan sukerena banjar desa bunutin kecamatan kintamani kab bangli kebun milik i nyoman susila banjar desa bunutin kecamatan kintamani kab bangli kebun milik i ketut tindih banjar desa pengejaran kecamatan kintamani kab bangli setidaktidaknya daerah hukum pengadilan negeri bangli perbuatan dipandang perbuatan berdiri kejahatan mengambil barang kepunyaan orang maksud dimiliki melawan hukum terdakwa caracara selasa tanggal mei sekira wita terdakwa berangkat rumah terdakwa br dina pudeh ds tajun kec kubutambahan kab buleleng mobil suzuki carri pick up warna hitam dk kc pergi brd bunutin kec kintamani kab bangli melewati simpang pasar tenten kintamani tujuan memb menawarkan buah durian dipohonnya sesampainya terdakwa brd bunutin kec kintamani kab bangli sekira wita terdakwa pohon durian berbuah kebun milik i wayan sukerena dipinggir jalan raya ds bunutin kec kintamani kab bangli situasi sepi terdakwa melihatlihat buah durian menemukan buah dipetik terdakwa memetik buah durian memanjat pohon durian sabit memotong buah durian pohon bergiliran buah durian terdakwa petik puluh tujuh buahsetelah terkumpul buah durian terdakwa naikan mobil suzuki carri pick up warna hitam dk kc terdakwa kendarai buah durian diata mobil terdakwa meninggalkan kebun milik i wayan sukerena perjalanan terdakwa dipinggir jalan raya ds bunutin kintamani pohon durian berbuah terdakwa turun memarkir mobil suzuki carri pick up warna hitam dk kc dipinggir jalan raya berjalan kaki terdakwa kebun milik i nyoman susila brd bunutin kec kintamani kab bangli sekira wita pohon durian berbuah terdakwa memanjat pohon durian pohon bergantian memetik sabit menurunkan buah durian puluh tujuh buah buah durian turun terkumpul terdakwa naikan mobil suzuki carri pick up warna hitam dk kc terdakwa tutupi buah durian diata mobil jare plastik warna hitam terdakwa ikat tali plastik warna biru buah durian aman diata mobil terdakwa meninggalkan brd bunutin kec kintamani kab bangli rumah terdakwa br dina pudeh ds tajun kac kubutambahan kab buleleng dirumah wita terdakwa langsung menjual durian saksi komang ayu anggreni batu barak desa tajun kec kubutambahan kab buleleng puluh buah berat seratu delapan puluh kg harga rp juta ratu enam bela ribu rupiah sisa buah durian puluh tujuh buah terdakwa bawa pulang kerumah kami tanggal mei sekira wita terdakwa menjual durian jeni durian kane komang sujana gudang milik komang sujana puluh buah durian berat kg buah durian hasil mencuri selasa tanggal mei brd bunutin kec kintamani kab bangli buah durian hasil terdakwa memb petani terdakwa jual harga total rp juta ratu ribu rupiah sabtu tanggal mei sekira wita terdakwa berangkat rumah terdakwa br dina pudeh ds tajun kec kubutambahan kab buleleng mobil suzuki carri pick up warna hitam dk kc pergi brd pengejaran kec kintamani kab bangli sesampainya terdakwa brd pengejaran kec kintamani kab bangli sekira wita melewati simpang lampu terdakwa dikebun milik i ketut tindih berlokasi pinggir jalan raya ds pengejaran situasi sepi terdakwa memanjat pohon durian pohon bergantian memetik buah durian sabit buah menjatuhkan buah durian ketanah terdakwa mengumpulkan buah durian terdakwa petik terdakwa menaikan buah durian mobil carri terdakwa bawa buah durian terdakwa tutupi buah durian diata mobil jare plastik warna hitam terdakwa ikat tali plastik warna biru buah durian aman diata mobil terdakwa meninggalkan brd pengejaran kec kintamani kab bangli rumah terdakwa br dina pudeh ds tajun kac kubutambahan kab buleleng pulang kerumahnya terdakwa pergi desa tajun menjual buah durian komang ayu anggreni buah harga rp juta ratu delapan puluh ribu rupiah menjual buah durian terdakwa langsung pulang rumah terdakwa br dina pudeh ds tajun kac kubutambahan kab buleleng terdakwa mengambil enam puluh tujuh buah durian kane ijin saksi i wayan sukerena saksi i nyoman susila saksi i ketut tindih memiliki buah durian menjualnya uang hasil penjualan biaya hidup seharihari akibat perbuatan terdakwa mengakibatkan saksi i wayan sukerena mengalami kerugian rp juta ratu puluh ribu rupiah saksi i ketut tindih mengalami kerugian rp juta ratu ribu rupiah saksi i nyoman susila mengalami kerugian rp juta rupiah setidaktidaknya rp ratu puluh rupiah diatur diancam pidana pasal kuhp jo pasal ayat kuhp gede darmayasa\"]\n",
    "inference_numerical_tensor = tf.constant([[klasifikasi_perkara_encoded, penuntut_umum_encoded, hakim_encoded, jumlah_saksi_inference, maks_penjara_berdasarkan_pasal]], dtype=tf.float32)\n",
    "\n",
    "new_sequences = tokenizer.texts_to_sequences(inference_text)\n",
    "inference_text = tf.keras.preprocessing.sequence.pad_sequences(new_sequences, maxlen=max_len, padding='post')\n",
    "\n",
    "predictions = model.predict([inference_text, inference_numerical_tensor])\n",
    "print(f'Predicted Putusan: {predictions[0]}')\n",
    "\n",
    "pred_log = predictions[0].astype(float)  # Log transformation\n",
    "predictions = np.expm1(pred_log)  \n",
    "print(f'Predicted Putusan: {predictions}')"
   ]
  },
  {
   "cell_type": "code",
   "execution_count": 25,
   "metadata": {},
   "outputs": [
    {
     "name": "stderr",
     "output_type": "stream",
     "text": [
      "WARNING:absl:Found untraced functions such as lstm_cell_layer_call_fn, lstm_cell_layer_call_and_return_conditional_losses, lstm_cell_1_layer_call_fn, lstm_cell_1_layer_call_and_return_conditional_losses, lstm_cell_2_layer_call_fn while saving (showing 5 of 6). These functions will not be directly callable after loading.\n"
     ]
    },
    {
     "name": "stdout",
     "output_type": "stream",
     "text": [
      "INFO:tensorflow:Assets written to: ../Model/LSTM_13_LogTransform\\assets\n"
     ]
    },
    {
     "name": "stderr",
     "output_type": "stream",
     "text": [
      "INFO:tensorflow:Assets written to: ../Model/LSTM_13_LogTransform\\assets\n"
     ]
    }
   ],
   "source": [
    "model_scenario_name = \"LSTM_13_LogTransform\"\n",
    "\n",
    "model_save_path = f'../Model/{model_scenario_name}'\n",
    "tokenizer_save_path = f'../Model/{model_scenario_name}_tokenizer.pkl'\n",
    "history_training_save_path = f'../Model/{model_scenario_name}_training_history.pkl'\n",
    "\n",
    "model.save(model_save_path)\n",
    "\n",
    "with open(tokenizer_save_path, 'wb') as handle:\n",
    "    pickle.dump(tokenizer, handle)\n",
    "\n",
    "with open(history_training_save_path, 'wb') as f:\n",
    "    pickle.dump(history.history, f)"
   ]
  },
  {
   "cell_type": "markdown",
   "metadata": {},
   "source": [
    "## Saved Model Inference"
   ]
  },
  {
   "cell_type": "code",
   "execution_count": 26,
   "metadata": {},
   "outputs": [],
   "source": [
    "model_scenario_name = \"LSTM_13_LogTransform\"\n",
    "max_len = 1024\n",
    "\n",
    "model_save_path = f'../Model/{model_scenario_name}'\n",
    "tokenizer_save_path = f'../Model/{model_scenario_name}_tokenizer.pkl'\n",
    "history_training_save_path = f'../Model/{model_scenario_name}_training_history.pkl'\n",
    "    \n",
    "loaded_model = tf.keras.models.load_model(model_save_path)\n",
    "\n",
    "with open(tokenizer_save_path, 'rb') as handle:\n",
    "    tokenizer = pickle.load(handle)"
   ]
  },
  {
   "cell_type": "code",
   "execution_count": 27,
   "metadata": {},
   "outputs": [],
   "source": [
    "# train_sequences = tokenizer.texts_to_sequences(train_df['stemmed_text'])\n",
    "test_sequences = tokenizer.texts_to_sequences(test_df['stopword_removal'])\n",
    "\n",
    "max_len = 1024\n",
    "# X_train_texts = tf.keras.preprocessing.sequence.pad_sequences(train_sequences, maxlen=max_len, padding='post', truncating='post')\n",
    "X_test_texts = tf.keras.preprocessing.sequence.pad_sequences(test_sequences, maxlen=max_len, padding='post', truncating='post')\n",
    "\n",
    "test_numerical = tf.constant(test_df[['klasifikasi_perkara_encoded', 'penuntut_umum_encoded', 'hakim_encoded', 'jumlah_saksi', 'maks_penjara_berdasarkan_pasal']].values, dtype=tf.float32)\n"
   ]
  },
  {
   "cell_type": "markdown",
   "metadata": {},
   "source": []
  },
  {
   "cell_type": "code",
   "execution_count": 33,
   "metadata": {},
   "outputs": [
    {
     "name": "stdout",
     "output_type": "stream",
     "text": [
      "1/1 [==============================] - 0s 183ms/step\n",
      "Predicted Putusan: [1.9157647]\n",
      "Predicted Putusan: [5.79213068]\n"
     ]
    }
   ],
   "source": [
    "klasifikasi_perkara_encoded = 0\n",
    "penuntut_umum_encoded = 0\n",
    "hakim_encoded = 7\n",
    "jumlah_saksi_inference = 6\n",
    "maks_penjara_berdasarkan_pasal = 84\n",
    "\n",
    "inference_text = [\"buah sabit gagang kayu buah jare plastik paranet warna hitam uta tali plastik warna biru meter puluh buah kantong plastik kresek uta tali kain warna merah cm dimusnahkan unit mobil merek suzuki st pick up warna hitam dk kc noka mhyesljj nosin gaid beserta kunci kontak lembar stnk mobil merek suzuki st pick up warna hitam dk kc noka mhyesljj nosin gaid nama pemilik an i kadek kondrayasa dikembalikan i gede agu wirayuda buah durian jeni durian kane dikembalikan i wayan sukaren lembar nota pembelian buah durian toko tiara durian dikembalikan komang ayu anggreni bela buah durian jeni durian kane lembar nota pembelian buah durian toko semut durian dikembalikan komang sujana uang tunai rp ratu delapan puluh tujuh ribu rupiah dirampa negara membebankan terdakwa membayar biaya perkara rp ribu rupiah terdakwa gede darmayasa selasa tanggal mei sekira jam wita selasa tanggal mei sekira jam wita sabtu tanggal mei sekira jam wita setidaktidaknya mei setidaktidaknya kebun milik i wayan sukerena banjar desa bunutin kecamatan kintamani kab bangli kebun milik i nyoman susila banjar desa bunutin kecamatan kintamani kab bangli kebun milik i ketut tindih banjar desa pengejaran kecamatan kintamani kab bangli setidaktidaknya daerah hukum pengadilan negeri bangli perbuatan dipandang perbuatan berdiri kejahatan mengambil barang kepunyaan orang maksud dimiliki melawan hukum terdakwa caracara selasa tanggal mei sekira wita terdakwa berangkat rumah terdakwa br dina pudeh ds tajun kec kubutambahan kab buleleng mobil suzuki carri pick up warna hitam dk kc pergi brd bunutin kec kintamani kab bangli melewati simpang pasar tenten kintamani tujuan memb menawarkan buah durian dipohonnya sesampainya terdakwa brd bunutin kec kintamani kab bangli sekira wita terdakwa pohon durian berbuah kebun milik i wayan sukerena dipinggir jalan raya ds bunutin kec kintamani kab bangli situasi sepi terdakwa melihatlihat buah durian menemukan buah dipetik terdakwa memetik buah durian memanjat pohon durian sabit memotong buah durian pohon bergiliran buah durian terdakwa petik puluh tujuh buahsetelah terkumpul buah durian terdakwa naikan mobil suzuki carri pick up warna hitam dk kc terdakwa kendarai buah durian diata mobil terdakwa meninggalkan kebun milik i wayan sukerena perjalanan terdakwa dipinggir jalan raya ds bunutin kintamani pohon durian berbuah terdakwa turun memarkir mobil suzuki carri pick up warna hitam dk kc dipinggir jalan raya berjalan kaki terdakwa kebun milik i nyoman susila brd bunutin kec kintamani kab bangli sekira wita pohon durian berbuah terdakwa memanjat pohon durian pohon bergantian memetik sabit menurunkan buah durian puluh tujuh buah buah durian turun terkumpul terdakwa naikan mobil suzuki carri pick up warna hitam dk kc terdakwa tutupi buah durian diata mobil jare plastik warna hitam terdakwa ikat tali plastik warna biru buah durian aman diata mobil terdakwa meninggalkan brd bunutin kec kintamani kab bangli rumah terdakwa br dina pudeh ds tajun kac kubutambahan kab buleleng dirumah wita terdakwa langsung menjual durian saksi komang ayu anggreni batu barak desa tajun kec kubutambahan kab buleleng puluh buah berat seratu delapan puluh kg harga rp juta ratu enam bela ribu rupiah sisa buah durian puluh tujuh buah terdakwa bawa pulang kerumah kami tanggal mei sekira wita terdakwa menjual durian jeni durian kane komang sujana gudang milik komang sujana puluh buah durian berat kg buah durian hasil mencuri selasa tanggal mei brd bunutin kec kintamani kab bangli buah durian hasil terdakwa memb petani terdakwa jual harga total rp juta ratu ribu rupiah sabtu tanggal mei sekira wita terdakwa berangkat rumah terdakwa br dina pudeh ds tajun kec kubutambahan kab buleleng mobil suzuki carri pick up warna hitam dk kc pergi brd pengejaran kec kintamani kab bangli sesampainya terdakwa brd pengejaran kec kintamani kab bangli sekira wita melewati simpang lampu terdakwa dikebun milik i ketut tindih berlokasi pinggir jalan raya ds pengejaran situasi sepi terdakwa memanjat pohon durian pohon bergantian memetik buah durian sabit buah menjatuhkan buah durian ketanah terdakwa mengumpulkan buah durian terdakwa petik terdakwa menaikan buah durian mobil carri terdakwa bawa buah durian terdakwa tutupi buah durian diata mobil jare plastik warna hitam terdakwa ikat tali plastik warna biru buah durian aman diata mobil terdakwa meninggalkan brd pengejaran kec kintamani kab bangli rumah terdakwa br dina pudeh ds tajun kac kubutambahan kab buleleng pulang kerumahnya terdakwa pergi desa tajun menjual buah durian komang ayu anggreni buah harga rp juta ratu delapan puluh ribu rupiah menjual buah durian terdakwa langsung pulang rumah terdakwa br dina pudeh ds tajun kac kubutambahan kab buleleng terdakwa mengambil enam puluh tujuh buah durian kane ijin saksi i wayan sukerena saksi i nyoman susila saksi i ketut tindih memiliki buah durian menjualnya uang hasil penjualan biaya hidup seharihari akibat perbuatan terdakwa mengakibatkan saksi i wayan sukerena mengalami kerugian rp juta ratu puluh ribu rupiah saksi i ketut tindih mengalami kerugian rp juta ratu ribu rupiah saksi i nyoman susila mengalami kerugian rp juta rupiah setidaktidaknya rp ratu puluh rupiah diatur diancam pidana pasal kuhp jo pasal ayat kuhp gede darmayasa\"]\n",
    "inference_numerical_tensor = tf.constant([[klasifikasi_perkara_encoded, penuntut_umum_encoded, hakim_encoded, jumlah_saksi_inference, maks_penjara_berdasarkan_pasal]], dtype=tf.float32)\n",
    "\n",
    "new_sequences = tokenizer.texts_to_sequences(inference_text)\n",
    "inference_text = tf.keras.preprocessing.sequence.pad_sequences(new_sequences, maxlen=max_len, padding='post')\n",
    "\n",
    "predictions = loaded_model.predict([inference_text, inference_numerical_tensor])\n",
    "print(f'Predicted Putusan: {predictions[0]}')\n",
    "\n",
    "pred_log = predictions[0].astype(float)  # Log transformation\n",
    "predictions = np.expm1(pred_log)  \n",
    "print(f'Predicted Putusan: {predictions}')"
   ]
  },
  {
   "cell_type": "markdown",
   "metadata": {},
   "source": [
    "### Count Inverse-Log MAPE"
   ]
  },
  {
   "cell_type": "code",
   "execution_count": 29,
   "metadata": {},
   "outputs": [
    {
     "name": "stdout",
     "output_type": "stream",
     "text": [
      "33/33 [==============================] - 2s 57ms/step\n",
      "MAPE: 43.047747498297326%\n"
     ]
    }
   ],
   "source": [
    "from sklearn.metrics import mean_absolute_percentage_error, mean_absolute_error, root_mean_squared_error\n",
    "\n",
    "y_pred = loaded_model.predict([X_test_texts, test_numerical])\n",
    "\n",
    "# Inverse Log\n",
    "y_true_real = np.expm1(y_test)\n",
    "y_pred_real = np.expm1(y_pred)\n",
    "\n",
    "mape_real = mean_absolute_percentage_error(y_true_real, y_pred_real) * 100\n",
    "\n",
    "print(f\"MAPE: {mape_real}%\")\n"
   ]
  },
  {
   "cell_type": "code",
   "execution_count": 30,
   "metadata": {},
   "outputs": [
    {
     "name": "stdout",
     "output_type": "stream",
     "text": [
      "MAE: 13.501182821507166\n"
     ]
    }
   ],
   "source": [
    "mae_real = mean_absolute_error(y_true_real, y_pred_real)\n",
    "print(f\"MAE: {mae_real}\")"
   ]
  },
  {
   "cell_type": "code",
   "execution_count": 31,
   "metadata": {},
   "outputs": [
    {
     "name": "stdout",
     "output_type": "stream",
     "text": [
      "RMSE: 19.31752803535616 \n"
     ]
    }
   ],
   "source": [
    "rmse_real = root_mean_squared_error(y_true_real, y_pred_real)\n",
    "print(f\"RMSE: {rmse_real} \")"
   ]
  },
  {
   "cell_type": "code",
   "execution_count": 32,
   "metadata": {},
   "outputs": [
    {
     "name": "stdout",
     "output_type": "stream",
     "text": [
      "Huber loss (real scale): 13.00975408305761\n"
     ]
    },
    {
     "name": "stderr",
     "output_type": "stream",
     "text": [
      "C:\\Users\\Kalea\\AppData\\Local\\Temp\\ipykernel_30752\\1242251094.py:1: FutureWarning: Series.ravel is deprecated. The underlying array is already 1D, so ravel is not necessary.  Use `to_numpy()` for conversion to a numpy array instead.\n",
      "  y_true_real = np.expm1(y_test).ravel()\n"
     ]
    }
   ],
   "source": [
    "y_true_real = np.expm1(y_test).ravel()\n",
    "y_pred_real = np.expm1(y_pred).ravel()\n",
    "\n",
    "def huber_loss(y_true, y_pred, delta=1.0):\n",
    "    error = y_true - y_pred\n",
    "    is_small_error = np.abs(error) <= delta\n",
    "    squared_loss = 0.5 * (error[is_small_error]) ** 2\n",
    "    linear_loss = delta * (np.abs(error[~is_small_error]) - 0.5 * delta)\n",
    "    return np.mean(np.concatenate([squared_loss, linear_loss]))\n",
    "\n",
    "loss = huber_loss(y_true_real, y_pred_real)\n",
    "print(f\"Huber loss (real scale): {loss}\")"
   ]
  }
 ],
 "metadata": {
  "kernelspec": {
   "display_name": "tf_gpu",
   "language": "python",
   "name": "python3"
  },
  "language_info": {
   "codemirror_mode": {
    "name": "ipython",
    "version": 3
   },
   "file_extension": ".py",
   "mimetype": "text/x-python",
   "name": "python",
   "nbconvert_exporter": "python",
   "pygments_lexer": "ipython3",
   "version": "3.9.20"
  }
 },
 "nbformat": 4,
 "nbformat_minor": 2
}
