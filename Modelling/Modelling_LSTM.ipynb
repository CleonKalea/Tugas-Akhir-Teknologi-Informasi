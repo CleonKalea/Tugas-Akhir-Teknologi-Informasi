{
 "cells": [
  {
   "cell_type": "code",
   "execution_count": 1,
   "metadata": {},
   "outputs": [],
   "source": [
    "import numpy as np\n",
    "import pandas as pd\n",
    "from sklearn.model_selection import train_test_split\n",
    "import tensorflow as tf\n",
    "import nltk\n",
    "from nltk.corpus import stopwords\n",
    "import re\n",
    "from nltk.stem import PorterStemmer\n",
    "import matplotlib.pyplot as plt\n",
    "import pickle"
   ]
  },
  {
   "cell_type": "markdown",
   "metadata": {},
   "source": [
    "## Data Preparation"
   ]
  },
  {
   "cell_type": "code",
   "execution_count": 2,
   "metadata": {},
   "outputs": [],
   "source": [
    "df = pd.read_csv('../Data/STAGE 4 FINAL MERGED DATA/STAGE_4_MERGED_FINAL_ENCODED.csv')"
   ]
  },
  {
   "cell_type": "code",
   "execution_count": 3,
   "metadata": {},
   "outputs": [
    {
     "data": {
      "application/vnd.microsoft.datawrangler.viewer.v0+json": {
       "columns": [
        {
         "name": "index",
         "rawType": "int64",
         "type": "integer"
        },
        {
         "name": "klasifikasi_perkara_encoded",
         "rawType": "int64",
         "type": "integer"
        },
        {
         "name": "penuntut_umum_encoded",
         "rawType": "int64",
         "type": "integer"
        },
        {
         "name": "hakim_encoded",
         "rawType": "int64",
         "type": "integer"
        },
        {
         "name": "jumlah_saksi",
         "rawType": "int64",
         "type": "integer"
        },
        {
         "name": "maks_penjara_berdasarkan_pasal",
         "rawType": "int64",
         "type": "integer"
        },
        {
         "name": "terdakwa",
         "rawType": "object",
         "type": "string"
        },
        {
         "name": "summarized_dakwaan",
         "rawType": "object",
         "type": "string"
        },
        {
         "name": "total_pidana_penjara_bulan",
         "rawType": "float64",
         "type": "float"
        }
       ],
       "conversionMethod": "pd.DataFrame",
       "ref": "54ffaefb-aa7c-4b3b-8a7d-bb90dde1bf8f",
       "rows": [
        [
         "0",
         "0",
         "0",
         "0",
         "6",
         "80",
         "GEDE DARMAYASA",
         "Terdakwa Gede Darmayasa didakwa telah melakukan tindak pidana pencurian buah durian di tiga lokasi berbeda di wilayah Kintamani, Kabupaten Bangli, pada bulan Mei 2024. Pada hari Selasa, 21 Mei 2024, sekitar pukul 06.00 hingga 06.30 WITA, terdakwa mencuri sebanyak 37 buah durian dari kebun milik I Wayan Sukerena, SE dan 27 buah durian dari kebun milik I Nyoman Susila. Durian-durian tersebut kemudian dijual sebagian kepada saksi Komang Ayu Anggreni dengan harga Rp4.316.000 dan sisanya dibawa pulang. Selanjutnya, pada hari Kamis, 23 Mei 2024, terdakwa menjual lagi 40 buah durian kepada Komang Sujana, di mana 24 di antaranya merupakan hasil pencurian. Kemudian pada hari Sabtu, 25 Mei 2024, sekitar pukul 06.00 WITA, terdakwa kembali melakukan pencurian sebanyak 20 buah durian dari kebun milik I Ketut Tindih dan menjual 15 buah di antaranya seharga Rp1.485.000. Total durian yang dicuri terdakwa berjumlah 67 buah tanpa seizin pemiliknya, dengan maksud untuk dimiliki secara melawan hukum dan hasil penjualannya digunakan untuk kebutuhan sehari-hari. Akibat perbuatan terdakwa, I Wayan Sukerena mengalami kerugian sebesar Rp3.330.000, I Ketut Tindih sebesar Rp3.500.000, dan I Nyoman Susila sebesar Rp2.000.000. Perbuatan terdakwa diancam pidana berdasarkan Pasal 362 KUHP jo. Pasal 65 Ayat (1) KUHP.",
         "5.0"
        ],
        [
         "1",
         "1",
         "1",
         "1",
         "4",
         "48",
         "IDA BAGUS MADE DARMA WIGUNA",
         "Pada bulan Februari dan Maret 2024, terdakwa Ida Bagus Made Darma Wiguna alias Gus Manik didakwa melakukan tindak pidana penggelapan secara berlanjut terhadap saksi korban Ni Wayan Anik Artini. Berawal dari perkenalan melalui media sosial TikTok pada Desember 2023, terdakwa dan korban menjalin hubungan hingga pada 13 Februari 2024 korban menyerahkan perhiasan kalung emas 21 karat seberat 24,55 gram untuk disimpan di rumah terdakwa. Pada 17 Februari 2024, terdakwa meminjam kalung tersebut untuk digadaikan dengan janji akan menebusnya dalam dua hari. Kalung itu kemudian digadaikan di Kantor Pegadaian Bangli seharga Rp 8.000.000. Namun, tanpa seizin korban, pada 21 Februari 2024 terdakwa kembali ke Pegadaian dan menambah nilai gadai menjadi Rp 19.600.000, menerima pencairan tambahan sebesar Rp 11.397.000, yang seluruhnya digunakan untuk keperluan pribadi. Kemudian, pada 10 Maret 2024, terdakwa meminjam ponsel Samsung Galaxy A04E milik korban dengan alasan untuk komunikasi, namun ponsel tersebut dijual seharga Rp 600.000 dan hasilnya juga dipakai untuk kebutuhan sehari-hari. Meskipun korban telah beberapa kali meminta barang-barangnya dikembalikan, terdakwa selalu mengelak dengan berbagai alasan. Akibat perbuatan terdakwa, korban mengalami kerugian sebesar Rp 26.000.000. Perbuatan Terdakwa didakwa dengan dakwaan primair Pasal 372 jo. 64 Ayat (1) KUHP, dan dakwaan subsidair Pasal 378 jo. 64 Ayat (1) KUHP.",
         "24.0"
        ],
        [
         "2",
         "0",
         "0",
         "2",
         "6",
         "84",
         "HANDRI JOHANAS",
         "Terdakwa Handri Johanes pada Rabu, 24 April 2024 sekitar pukul 03.00 WITA di sebuah kamar di Puri Kanginan, Lingkungan Banjar Puri Kanginan No. 2 Bangli, telah melakukan pencurian satu unit handphone OPPO A53 warna hitam milik I Nengah Sukadana. Kejadian bermula ketika terdakwa yang sebelumnya pernah bekerja di mebel milik Gung Aji Kartika dan terbiasa keluar masuk area puri, datang mencari temannya yang dahulu tinggal di sana. Setelah tidak menemukan temannya dan hendak pulang, terdakwa melihat sebuah handphone sedang diisi daya dalam kamar yang pintunya sedikit terbuka. Ia kemudian mengambil handphone tersebut dengan memasukkan tangan melalui celah pintu. Setelah sampai di bengkel tempat tinggalnya, terdakwa mengetahui bahwa handphone tersebut terkunci, lalu beberapa hari kemudian menjualnya kepada seseorang bernama Denny Firmansyah di Klungkung seharga Rp300.000. Uang hasil penjualan itu kemudian ia kirim ke anaknya di Lombok. Akibat perbuatan tersebut, saksi I Nengah Sukadana mengalami kerugian sebesar Rp3.999.000. Perbuatan terdakwa diancam pidana berdasarkan Pasal 363 Ayat (1) ke-3 KUHP.",
         "4.0"
        ],
        [
         "3",
         "2",
         "2",
         "1",
         "2",
         "144",
         "I GEDE ARIADI alias BERNAD",
         "Pada hari Minggu, 14 April 2024 sekitar pukul 16.35 WITA, terdakwa I Gede Ariadi alias Bernad ditangkap di Jl. Brigjen Ngurah Rai, Kelurahan Kawan, Bangli oleh tim Opsnal Satresnarkoba Polres Bangli karena kedapatan membawa narkotika jenis sabu. Kronologi bermula pada 9 April 2024 saat terdakwa berkenalan dengan seseorang bernama Kadek (DPO) melalui Facebook, lalu berkomunikasi intens melalui WhatsApp dan sepakat untuk menggunakan sabu bersama. Pada 14 April 2024 pagi, terdakwa diberi tahu oleh Mang Donal (DPO) bahwa sabu sudah tersedia dan ditempel di bawah tiang listrik di daerah Bendul, Klungkung. Terdakwa mengambil sabu yang dibungkus dalam tabung micro tube dan menyimpannya di tas selempang. Sore harinya, terdakwa berangkat menuju Bangli sesuai petunjuk lokasi dari Kadek. Setibanya di lokasi, terdakwa diamankan polisi dan saat digeledah ditemukan satu plastik klip berisi kristal sabu seberat 0,20 gram netto beserta barang bukti lainnya seperti handphone dan sepeda motor. Berdasarkan hasil uji laboratorium, kristal tersebut positif mengandung Metamfetamina yang tergolong Narkotika Golongan I. Terdakwa tidak memiliki izin dari Menteri Kesehatan atau instansi terkait untuk memiliki narkotika tersebut. Perbuatan Terdakwa didakwa dengan dakwaan primair Pasal 112 Ayat (1) UU RI No. 35 Tahun 2009 tentang Narkotika, dan dakwaan subsidair Pasal 127 Ayat (1) huruf a Undang-Undang RI No. 35 Tahun 2009 Tentang Narkotika.",
         "14.0"
        ],
        [
         "4",
         "2",
         "3",
         "1",
         "2",
         "144",
         "I GEDE ARIADI alias BERNAD",
         "Pada hari Minggu, 14 April 2024 sekitar pukul 16.35 WITA, terdakwa I Gede Ariadi alias Bernad ditangkap di Jl. Brigjen Ngurah Rai, Kelurahan Kawan, Bangli oleh tim Opsnal Satresnarkoba Polres Bangli karena kedapatan membawa narkotika jenis sabu. Kronologi bermula pada 9 April 2024 saat terdakwa berkenalan dengan seseorang bernama Kadek (DPO) melalui Facebook, lalu berkomunikasi intens melalui WhatsApp dan sepakat untuk menggunakan sabu bersama. Pada 14 April 2024 pagi, terdakwa diberi tahu oleh Mang Donal (DPO) bahwa sabu sudah tersedia dan ditempel di bawah tiang listrik di daerah Bendul, Klungkung. Terdakwa mengambil sabu yang dibungkus dalam tabung micro tube dan menyimpannya di tas selempang. Sore harinya, terdakwa berangkat menuju Bangli sesuai petunjuk lokasi dari Kadek. Setibanya di lokasi, terdakwa diamankan polisi dan saat digeledah ditemukan satu plastik klip berisi kristal sabu seberat 0,20 gram netto beserta barang bukti lainnya seperti handphone dan sepeda motor. Berdasarkan hasil uji laboratorium, kristal tersebut positif mengandung Metamfetamina yang tergolong Narkotika Golongan I. Terdakwa tidak memiliki izin dari Menteri Kesehatan atau instansi terkait untuk memiliki narkotika tersebut. Perbuatan Terdakwa didakwa dengan dakwaan primair Pasal 112 Ayat (1) UU RI No. 35 Tahun 2009 tentang Narkotika, dan dakwaan subsidair Pasal 127 Ayat (1) huruf a Undang-Undang RI No. 35 Tahun 2009 Tentang Narkotika.",
         "14.0"
        ],
        [
         "5",
         "0",
         "4",
         "1",
         "4",
         "60",
         "R. Sabirin",
         "Pada hari Selasa, 26 Maret 2024 sekitar pukul 17.10 WITA, bertempat di pinggir Jalan Raya Kintamani, Desa Kintamani, Kecamatan Kintamani, Kabupaten Bangli, Terdakwa melakukan pencurian dengan mengambil satu unit sepeda motor Honda Scoopy warna merah hitam DK 6384 PQ, yang sebagian atau seluruhnya milik orang lain, dengan maksud untuk dimiliki secara melawan hukum. Sebelumnya, pada 25 Maret 2024 pukul 13.00 WITA, Terdakwa berangkat dari Panarukan, Singaraja menuju Terminal Ubung Denpasar dengan menumpang truk, dengan tujuan mencuri sepeda motor. Tiba di Terminal Ubung sekitar pukul 14.30 WITA, Terdakwa menginap semalam karena hujan deras. Esok harinya, Terdakwa dijemput oleh temannya, WAHYU EKA JAYA (DPO), yang datang mengendarai sepeda motor Yamaha Vixion warna hitam. Mereka lalu pergi ke Kintamani untuk jalan-jalan. Sekitar pukul 17.10 WITA, mereka melihat sebuah motor Honda Scoopy terparkir di pinggir jalan dengan kunci masih tergantung. Setelah WAHYU EKA JAYA pergi meninggalkannya, Terdakwa mendekati motor tersebut, lalu mendorongnya sejauh sekitar 10 meter sebelum akhirnya menyalakan mesin dan melarikan diri menuju Denpasar melalui Payangan, Gianyar. Di daerah Ubud, Terdakwa dihentikan oleh seorang petugas Polsek Kintamani bernama I Gede Dipta Wirama Darma dan tidak dapat menunjukkan STNK kendaraan. Terdakwa kemudian diamankan beserta barang bukti ke Polsek Kintamani. Akibat perbuatan tersebut, korban, Ni Wayan Srimertanadi, mengalami kerugian sekitar Rp20.000.000\\. Perbuatan Terdakwa diatur dan diancam pidana dalam Pasal 362 KUHP.",
         "14.0"
        ],
        [
         "6",
         "2",
         "4",
         "1",
         "4",
         "144",
         "NOVANI ARI HIFNI Alias ARI",
         "Pada Minggu, 17 Maret 2024 sekitar pukul 18.10 WITA, terdakwa Novani Ari Hifni alias Ari ditangkap di pinggir Jalan Merdeka, Tamanbali, Bangli oleh petugas Satresnarkoba Polres Bangli karena kedapatan membawa narkotika jenis sabu. Sebelumnya, terdakwa menghubungi rekannya bernama Wewe (DPO) melalui Facebook untuk mencari sabu, kemudian diarahkan untuk menghubungi Rizal (DPO). Rizal menyanggupi permintaan terdakwa dengan sistem hutang dan mengirimkan lokasi pengambilan barang di Bangli. Terdakwa lalu mengajak temannya, saksi K. M. Sahrijal Jabar, untuk mengantarkan ke lokasi dengan imbalan uang. Setelah mengambil sabu yang disembunyikan di dekat tembok dengan berpura-pura buang air kecil, terdakwa melanjutkan perjalanan, namun akhirnya dihentikan dan diamankan oleh petugas. Saat digeledah, ditemukan satu plastik berisi sabu dalam botol Yakult serta peralatan hisap lainnya di dalam tas terdakwa, sementara pada saksi Sahrijal tidak ditemukan barang terlarang. Hasil pemeriksaan laboratorium terhadap kristal bening dan urine terdakwa menunjukkan keduanya positif mengandung metamfetamina, yang tergolong Narkotika Golongan I. Perbuatan Terdakwa didakwa dengan dakwaan primair Pasal 112 Ayat (1) Undang-Undang RI No. 35 Tahun 2009 tentang Narkotika, dan dakwaan subsidair Pasal 127 Ayat (1) huruf a Undang-Undang RI No. 35 Tahun 2009 tentang Narkotika.",
         "24.0"
        ],
        [
         "7",
         "2",
         "5",
         "1",
         "4",
         "144",
         "NOVANI ARI HIFNI Alias ARI",
         "Pada Minggu, 17 Maret 2024 sekitar pukul 18.10 WITA, terdakwa Novani Ari Hifni alias Ari ditangkap di pinggir Jalan Merdeka, Tamanbali, Bangli oleh petugas Satresnarkoba Polres Bangli karena kedapatan membawa narkotika jenis sabu. Sebelumnya, terdakwa menghubungi rekannya bernama Wewe (DPO) melalui Facebook untuk mencari sabu, kemudian diarahkan untuk menghubungi Rizal (DPO). Rizal menyanggupi permintaan terdakwa dengan sistem hutang dan mengirimkan lokasi pengambilan barang di Bangli. Terdakwa lalu mengajak temannya, saksi K. M. Sahrijal Jabar, untuk mengantarkan ke lokasi dengan imbalan uang. Setelah mengambil sabu yang disembunyikan di dekat tembok dengan berpura-pura buang air kecil, terdakwa melanjutkan perjalanan, namun akhirnya dihentikan dan diamankan oleh petugas. Saat digeledah, ditemukan satu plastik berisi sabu dalam botol Yakult serta peralatan hisap lainnya di dalam tas terdakwa, sementara pada saksi Sahrijal tidak ditemukan barang terlarang. Hasil pemeriksaan laboratorium terhadap kristal bening dan urine terdakwa menunjukkan keduanya positif mengandung metamfetamina, yang tergolong Narkotika Golongan I. Perbuatan Terdakwa didakwa dengan dakwaan primair Pasal 112 Ayat (1) Undang-Undang RI No. 35 Tahun 2009 tentang Narkotika, dan dakwaan subsidair Pasal 127 Ayat (1) huruf a Undang-Undang RI No. 35 Tahun 2009 tentang Narkotika.",
         "24.0"
        ],
        [
         "8",
         "2",
         "6",
         "1",
         "4",
         "240",
         "MULYADI alias MUL",
         "Pada Selasa, 9 Januari 2024 sekitar pukul 17.30 WITA di Jalan Bima, Kelurahan Cempaga, Bangli, terdakwa Mulyadi alias Mul ditangkap karena tanpa hak menawarkan dan membawa narkotika jenis sabu. Sebelumnya, terdakwa dihubungi oleh rekannya, Kadek (DPO), untuk mengantarkan sabu ke Bangli. Setelah bertemu dengan kurir Kadek di Lapangan Lumintang, Denpasar, terdakwa menerima sabu dalam amplop putih, sempat mencicipinya, dan menyimpannya di dashboard mobil lalu berpindah ke tas pinggang. Sekitar pukul 15.00 WITA, terdakwa berangkat ke Bangli dan tiba di lokasi yang diarahkan Kadek. Saat tiba di kos-kosan milik kakak Kadek, terdakwa diamankan oleh polisi. Dalam penggeledahan, ditemukan sabu, alat isap, korek api modifikasi, dan barang bukti lainnya. Berdasarkan hasil laboratorium, kristal yang disita terbukti mengandung metamfetamina yang termasuk Narkotika Golongan I, sedangkan urine terdakwa tidak mengandung narkotika. Perbuatan Terdakwa didakwa dengan dakwaan primair Pasal 114 Ayat (1) UU RI No. 35 Tahun 2009 tentang Narkotika, dan dakwaan subsidair Pasal 112 Ayat (1) UU RI No. 35 tahun 2009 tentang Narkotika.",
         "51.0"
        ],
        [
         "9",
         "0",
         "7",
         "1",
         "6",
         "80",
         "I WAYAN ARTAYASA",
         "Terdakwa I Wayan Artayasa didakwa telah melakukan serangkaian pencurian secara berulang di Pasar Kidul Bangli, dengan sasaran utama dagangan milik ibunya sendiri, Ni Nyoman Suwini, serta milik pedagang lain seperti Ni Luh Utari dan Ni Ketut Suci. Perbuatan tersebut dilakukan sejak Desember 2023 hingga Februari 2024, pada dini hari antara pukul 03.00 hingga 04.00 WITA. Modus operandi yang digunakan adalah dengan masuk ke pasar melalui celah jeruji besi, membuka terpal dagangan, dan mengambil berbagai bahan pokok seperti kemiri, kacang tanah, gula merah, kacang hijau, dan beras. Barang-barang hasil curian tersebut kemudian dijual oleh terdakwa di Pasar Kidul Bangli dan Pasar Singamandawa Kintamani untuk memenuhi kebutuhan sehari-hari. Perbuatan terdakwa dilakukan tanpa seizin atau sepengetahuan para pemilik barang, dan telah menyebabkan kerugian bagi para korban. Berdasarkan perbuatannya tersebut, terdakwa didakwa dengan Pasal 362 KUHP jo. Pasal 65 Ayat (1) KUHP pada dakwaan primair dan Pasal 367 Ayat (2) KUHP jo. Pasal 65 Ayat (1) KUHP untuk dakwaan subsidair.",
         "12.0"
        ],
        [
         "10",
         "0",
         "4",
         "3",
         "4",
         "60",
         "RURY HERAWATI",
         "Terdakwa Rury Herawati pada tanggal 20 November 2023 sekitar pukul 15.15 WITA telah melakukan pencurian di Toko Ari Kebaya, Jalan Nusantara, Bangli. Terdakwa datang dari Denpasar dengan niat mencuri dan setelah mencari toko yang sepi, ia berpura-pura sebagai pembeli. Saat penjaga toko sedang membelakangi untuk mencarikan sandal, Terdakwa membuka lemari yang tidak terkunci dan mengambil tas kain berisi dua dompet dengan total uang Rp16.500.000,- milik saksi Ni Nengah Ngariasi. Setelah mengambil tas, Terdakwa berpura-pura hendak mengambil uang di ATM dan langsung pergi meninggalkan dua selendang yang sudah dibayar. Uang hasil pencurian digunakan untuk membeli berbagai barang seperti HP, emas, pakaian, serta kebutuhan sehari-hari. Sisa uang yang dicuri masih tersisa sebesar Rp5.778.000. Berdasarkan laporan polisi dan penyelidikan, Terdakwa mengakui perbuatannya dan kini telah diamankan bersama barang bukti untuk proses hukum lebih lanjut. Perbuatannya diancam pidana sesuai Pasal 362 KUHP.",
         "16.0"
        ],
        [
         "11",
         "3",
         "7",
         "1",
         "8",
         "48",
         "I KETUT SUPUTRA",
         "Bahwa para Terdakwa, yakni Terdakwa I Ketut Suputra dan Terdakwa II Ni Komang Warsiki, dalam kurun waktu antara bulan Mei 2019 sampai dengan Oktober 2020, bertempat di gudang milik para Terdakwa yang beralamat di Jalan Soekarno, Banjar Dukuh, Desa Bunutin, Kecamatan Bangli, Kabupaten Bangli, telah melakukan perbuatan melawan hukum dengan cara menguasai secara melawan hak barang titipan milik PT. Putra Dewata Sejati. Awalnya, Terdakwa I menjalin kerja sama usaha penjualan produk minuman bermerek Aqua dengan PT. Putra Dewata Sejati di bawah nama usaha UD. Sari Merta berdasarkan Surat Kesepakatan Nomor 002/SP/PDS-BALI/IV/2019 tanggal 6 April 2019. Dalam pelaksanaan kerja sama tersebut, PT. Putra Dewata Sejati menyerahkan sejumlah barang titipan kepada UD. Sari Merta untuk dijual kembali, dengan ketentuan bahwa harga pokok barang harus disetorkan kembali kepada PT. Putra Dewata Sejati setelah barang terjual, sedangkan selisih harga jual menjadi keuntungan bagi UD. Sari Merta. Dalam pelaksanaan usahanya, Terdakwa I selaku penanggung jawab operasional dan Terdakwa II sebagai bagian administrasi bertugas mengelola penjualan, keuangan, dan pembayaran kepada pihak supplier. Akan tetapi, sejak bulan Mei 2019, para Terdakwa mulai tidak menyetorkan secara penuh hasil penjualan barang, dan sejak bulan Oktober 2020 tidak lagi melakukan penyetoran sama sekali, padahal seluruh barang titipan telah terjual. Uang hasil penjualan tersebut justru digunakan oleh para Terdakwa untuk membayar gaji karyawan, menutupi biaya operasional, serta memenuhi kebutuhan hidup pribadi, tanpa seizin atau sepengetahuan PT. Putra Dewata Sejati. Perbuatan para Terdakwa tersebut telah mengakibatkan kerugian keuangan bagi PT. Putra Dewata Sejati sebesar Rp413.883.979,- (empat ratus tiga belas juta delapan ratus delapan puluh tiga ribu sembilan ratus tujuh puluh sembilan rupiah). Perbuatan tersebut dilakukan secara bersama-sama dan berlanjut, serta diatur dan diancam pidana dalam Pasal 372 KUHP jo. Pasal 55 Ayat (1) ke-1 KUHP jo. Pasal 64 Ayat (1) KUHP.",
         "18.0"
        ],
        [
         "12",
         "3",
         "5",
         "1",
         "8",
         "48",
         "I KETUT SUPUTRA",
         "Bahwa para Terdakwa, yakni Terdakwa I Ketut Suputra dan Terdakwa II Ni Komang Warsiki, dalam kurun waktu antara bulan Mei 2019 sampai dengan Oktober 2020, bertempat di gudang milik para Terdakwa yang beralamat di Jalan Soekarno, Banjar Dukuh, Desa Bunutin, Kecamatan Bangli, Kabupaten Bangli, telah melakukan perbuatan melawan hukum dengan cara menguasai secara melawan hak barang titipan milik PT. Putra Dewata Sejati. Awalnya, Terdakwa I menjalin kerja sama usaha penjualan produk minuman bermerek Aqua dengan PT. Putra Dewata Sejati di bawah nama usaha UD. Sari Merta berdasarkan Surat Kesepakatan Nomor 002/SP/PDS-BALI/IV/2019 tanggal 6 April 2019. Dalam pelaksanaan kerja sama tersebut, PT. Putra Dewata Sejati menyerahkan sejumlah barang titipan kepada UD. Sari Merta untuk dijual kembali, dengan ketentuan bahwa harga pokok barang harus disetorkan kembali kepada PT. Putra Dewata Sejati setelah barang terjual, sedangkan selisih harga jual menjadi keuntungan bagi UD. Sari Merta. Dalam pelaksanaan usahanya, Terdakwa I selaku penanggung jawab operasional dan Terdakwa II sebagai bagian administrasi bertugas mengelola penjualan, keuangan, dan pembayaran kepada pihak supplier. Akan tetapi, sejak bulan Mei 2019, para Terdakwa mulai tidak menyetorkan secara penuh hasil penjualan barang, dan sejak bulan Oktober 2020 tidak lagi melakukan penyetoran sama sekali, padahal seluruh barang titipan telah terjual. Uang hasil penjualan tersebut justru digunakan oleh para Terdakwa untuk membayar gaji karyawan, menutupi biaya operasional, serta memenuhi kebutuhan hidup pribadi, tanpa seizin atau sepengetahuan PT. Putra Dewata Sejati. Perbuatan para Terdakwa tersebut telah mengakibatkan kerugian keuangan bagi PT. Putra Dewata Sejati sebesar Rp413.883.979,- (empat ratus tiga belas juta delapan ratus delapan puluh tiga ribu sembilan ratus tujuh puluh sembilan rupiah). Perbuatan tersebut dilakukan secara bersama-sama dan berlanjut, serta diatur dan diancam pidana dalam Pasal 372 KUHP jo. Pasal 55 Ayat (1) ke-1 KUHP jo. Pasal 64 Ayat (1) KUHP.",
         "18.0"
        ],
        [
         "13",
         "3",
         "7",
         "1",
         "8",
         "48",
         "NI KOMANG WARSIKI",
         "Bahwa para Terdakwa, yakni Terdakwa I Ketut Suputra dan Terdakwa II Ni Komang Warsiki, dalam kurun waktu antara bulan Mei 2019 sampai dengan Oktober 2020, bertempat di gudang milik para Terdakwa yang beralamat di Jalan Soekarno, Banjar Dukuh, Desa Bunutin, Kecamatan Bangli, Kabupaten Bangli, telah melakukan perbuatan melawan hukum dengan cara menguasai secara melawan hak barang titipan milik PT. Putra Dewata Sejati. Awalnya, Terdakwa I menjalin kerja sama usaha penjualan produk minuman bermerek Aqua dengan PT. Putra Dewata Sejati di bawah nama usaha UD. Sari Merta berdasarkan Surat Kesepakatan Nomor 002/SP/PDS-BALI/IV/2019 tanggal 6 April 2019. Dalam pelaksanaan kerja sama tersebut, PT. Putra Dewata Sejati menyerahkan sejumlah barang titipan kepada UD. Sari Merta untuk dijual kembali, dengan ketentuan bahwa harga pokok barang harus disetorkan kembali kepada PT. Putra Dewata Sejati setelah barang terjual, sedangkan selisih harga jual menjadi keuntungan bagi UD. Sari Merta. Dalam pelaksanaan usahanya, Terdakwa I selaku penanggung jawab operasional dan Terdakwa II sebagai bagian administrasi bertugas mengelola penjualan, keuangan, dan pembayaran kepada pihak supplier. Akan tetapi, sejak bulan Mei 2019, para Terdakwa mulai tidak menyetorkan secara penuh hasil penjualan barang, dan sejak bulan Oktober 2020 tidak lagi melakukan penyetoran sama sekali, padahal seluruh barang titipan telah terjual. Uang hasil penjualan tersebut justru digunakan oleh para Terdakwa untuk membayar gaji karyawan, menutupi biaya operasional, serta memenuhi kebutuhan hidup pribadi, tanpa seizin atau sepengetahuan PT. Putra Dewata Sejati. Perbuatan para Terdakwa tersebut telah mengakibatkan kerugian keuangan bagi PT. Putra Dewata Sejati sebesar Rp413.883.979,- (empat ratus tiga belas juta delapan ratus delapan puluh tiga ribu sembilan ratus tujuh puluh sembilan rupiah). Perbuatan tersebut dilakukan secara bersama-sama dan berlanjut, serta diatur dan diancam pidana dalam Pasal 372 KUHP jo. Pasal 55 Ayat (1) ke-1 KUHP jo. Pasal 64 Ayat (1) KUHP.",
         "10.0"
        ],
        [
         "14",
         "3",
         "5",
         "1",
         "8",
         "48",
         "NI KOMANG WARSIKI",
         "Bahwa para Terdakwa, yakni Terdakwa I Ketut Suputra dan Terdakwa II Ni Komang Warsiki, dalam kurun waktu antara bulan Mei 2019 sampai dengan Oktober 2020, bertempat di gudang milik para Terdakwa yang beralamat di Jalan Soekarno, Banjar Dukuh, Desa Bunutin, Kecamatan Bangli, Kabupaten Bangli, telah melakukan perbuatan melawan hukum dengan cara menguasai secara melawan hak barang titipan milik PT. Putra Dewata Sejati. Awalnya, Terdakwa I menjalin kerja sama usaha penjualan produk minuman bermerek Aqua dengan PT. Putra Dewata Sejati di bawah nama usaha UD. Sari Merta berdasarkan Surat Kesepakatan Nomor 002/SP/PDS-BALI/IV/2019 tanggal 6 April 2019. Dalam pelaksanaan kerja sama tersebut, PT. Putra Dewata Sejati menyerahkan sejumlah barang titipan kepada UD. Sari Merta untuk dijual kembali, dengan ketentuan bahwa harga pokok barang harus disetorkan kembali kepada PT. Putra Dewata Sejati setelah barang terjual, sedangkan selisih harga jual menjadi keuntungan bagi UD. Sari Merta. Dalam pelaksanaan usahanya, Terdakwa I selaku penanggung jawab operasional dan Terdakwa II sebagai bagian administrasi bertugas mengelola penjualan, keuangan, dan pembayaran kepada pihak supplier. Akan tetapi, sejak bulan Mei 2019, para Terdakwa mulai tidak menyetorkan secara penuh hasil penjualan barang, dan sejak bulan Oktober 2020 tidak lagi melakukan penyetoran sama sekali, padahal seluruh barang titipan telah terjual. Uang hasil penjualan tersebut justru digunakan oleh para Terdakwa untuk membayar gaji karyawan, menutupi biaya operasional, serta memenuhi kebutuhan hidup pribadi, tanpa seizin atau sepengetahuan PT. Putra Dewata Sejati. Perbuatan para Terdakwa tersebut telah mengakibatkan kerugian keuangan bagi PT. Putra Dewata Sejati sebesar Rp413.883.979,- (empat ratus tiga belas juta delapan ratus delapan puluh tiga ribu sembilan ratus tujuh puluh sembilan rupiah). Perbuatan tersebut dilakukan secara bersama-sama dan berlanjut, serta diatur dan diancam pidana dalam Pasal 372 KUHP jo. Pasal 55 Ayat (1) ke-1 KUHP jo. Pasal 64 Ayat (1) KUHP.",
         "10.0"
        ],
        [
         "15",
         "0",
         "8",
         "0",
         "6",
         "144",
         "I KETUT JONI ADNYANA ADI PUTRA",
         "Terdakwa I Ketut Joni Adnyana Adi Putra dan Terdakwa II Rosita Evayanti Dewi melakukan pencurian sepeda motor di dua lokasi berbeda di wilayah Kintamani, Bangli. Aksi pertama dilakukan pada 10 September 2023 sekitar pukul 01.00 WITA di parkiran Sukawana Sunrise, di mana Terdakwa I mengambil sepeda motor Yamaha NMAX DK 3498 PT milik saksi Made Yusa Paramartha dengan cara mendorong motor yang tidak terkunci dan menyalakan mesin menggunakan alat-alat seperti obeng, tang, dan kunci L. Motor hasil curian ini digunakan untuk keperluan sehari-hari. Aksi kedua dilakukan pada 1 Oktober 2023 sekitar pukul 02.00 WITA di parkiran Le Monte Sunrise. Dengan menggunakan mobil sewaan, kedua terdakwa kembali ke Kintamani dan Terdakwa I mencuri motor Yamaha NMAX DK 6992 LB milik I Kadek Indrawan dengan modus serupa. Sepeda motor tersebut kemudian dijual secara daring seharga Rp5.300.000. Akibat perbuatan kedua terdakwa, saksi Made Yusa Paramartha mengalami kerugian sebesar Rp25.500.000,- dan saksi I Kadek Indrawan mengalami kerugian sebesar Rp26.700.000,-. Perbuatan para terdakwa diancam pidana berdasarkan Pasal 363 Ayat (1) ke-4 KUHP jo. Pasal 65 Ayat (1) KUHP.",
         "16.0"
        ],
        [
         "16",
         "0",
         "9",
         "0",
         "6",
         "144",
         "I KETUT JONI ADNYANA ADI PUTRA",
         "Terdakwa I Ketut Joni Adnyana Adi Putra dan Terdakwa II Rosita Evayanti Dewi melakukan pencurian sepeda motor di dua lokasi berbeda di wilayah Kintamani, Bangli. Aksi pertama dilakukan pada 10 September 2023 sekitar pukul 01.00 WITA di parkiran Sukawana Sunrise, di mana Terdakwa I mengambil sepeda motor Yamaha NMAX DK 3498 PT milik saksi Made Yusa Paramartha dengan cara mendorong motor yang tidak terkunci dan menyalakan mesin menggunakan alat-alat seperti obeng, tang, dan kunci L. Motor hasil curian ini digunakan untuk keperluan sehari-hari. Aksi kedua dilakukan pada 1 Oktober 2023 sekitar pukul 02.00 WITA di parkiran Le Monte Sunrise. Dengan menggunakan mobil sewaan, kedua terdakwa kembali ke Kintamani dan Terdakwa I mencuri motor Yamaha NMAX DK 6992 LB milik I Kadek Indrawan dengan modus serupa. Sepeda motor tersebut kemudian dijual secara daring seharga Rp5.300.000. Akibat perbuatan kedua terdakwa, saksi Made Yusa Paramartha mengalami kerugian sebesar Rp25.500.000,- dan saksi I Kadek Indrawan mengalami kerugian sebesar Rp26.700.000,-. Perbuatan para terdakwa diancam pidana berdasarkan Pasal 363 Ayat (1) ke-4 KUHP jo. Pasal 65 Ayat (1) KUHP.",
         "16.0"
        ],
        [
         "17",
         "0",
         "8",
         "0",
         "6",
         "144",
         "ROSITA EVAYANTI DEWI",
         "Terdakwa I Ketut Joni Adnyana Adi Putra dan Terdakwa II Rosita Evayanti Dewi melakukan pencurian sepeda motor di dua lokasi berbeda di wilayah Kintamani, Bangli. Aksi pertama dilakukan pada 10 September 2023 sekitar pukul 01.00 WITA di parkiran Sukawana Sunrise, di mana Terdakwa I mengambil sepeda motor Yamaha NMAX DK 3498 PT milik saksi Made Yusa Paramartha dengan cara mendorong motor yang tidak terkunci dan menyalakan mesin menggunakan alat-alat seperti obeng, tang, dan kunci L. Motor hasil curian ini digunakan untuk keperluan sehari-hari. Aksi kedua dilakukan pada 1 Oktober 2023 sekitar pukul 02.00 WITA di parkiran Le Monte Sunrise. Dengan menggunakan mobil sewaan, kedua terdakwa kembali ke Kintamani dan Terdakwa I mencuri motor Yamaha NMAX DK 6992 LB milik I Kadek Indrawan dengan modus serupa. Sepeda motor tersebut kemudian dijual secara daring seharga Rp5.300.000. Akibat perbuatan kedua terdakwa, saksi Made Yusa Paramartha mengalami kerugian sebesar Rp25.500.000,- dan saksi I Kadek Indrawan mengalami kerugian sebesar Rp26.700.000,-. Perbuatan para terdakwa diancam pidana berdasarkan Pasal 363 Ayat (1) ke-4 KUHP jo. Pasal 65 Ayat (1) KUHP.",
         "14.0"
        ],
        [
         "18",
         "0",
         "9",
         "0",
         "6",
         "144",
         "ROSITA EVAYANTI DEWI",
         "Terdakwa I Ketut Joni Adnyana Adi Putra dan Terdakwa II Rosita Evayanti Dewi melakukan pencurian sepeda motor di dua lokasi berbeda di wilayah Kintamani, Bangli. Aksi pertama dilakukan pada 10 September 2023 sekitar pukul 01.00 WITA di parkiran Sukawana Sunrise, di mana Terdakwa I mengambil sepeda motor Yamaha NMAX DK 3498 PT milik saksi Made Yusa Paramartha dengan cara mendorong motor yang tidak terkunci dan menyalakan mesin menggunakan alat-alat seperti obeng, tang, dan kunci L. Motor hasil curian ini digunakan untuk keperluan sehari-hari. Aksi kedua dilakukan pada 1 Oktober 2023 sekitar pukul 02.00 WITA di parkiran Le Monte Sunrise. Dengan menggunakan mobil sewaan, kedua terdakwa kembali ke Kintamani dan Terdakwa I mencuri motor Yamaha NMAX DK 6992 LB milik I Kadek Indrawan dengan modus serupa. Sepeda motor tersebut kemudian dijual secara daring seharga Rp5.300.000. Akibat perbuatan kedua terdakwa, saksi Made Yusa Paramartha mengalami kerugian sebesar Rp25.500.000,- dan saksi I Kadek Indrawan mengalami kerugian sebesar Rp26.700.000,-. Perbuatan para terdakwa diancam pidana berdasarkan Pasal 363 Ayat (1) ke-4 KUHP jo. Pasal 65 Ayat (1) KUHP.",
         "14.0"
        ],
        [
         "19",
         "0",
         "1",
         "0",
         "4",
         "60",
         "I NYOMAN BUDIAWAN Als. SUMAWAN",
         "Pada hari Rabu, 25 Oktober 2023 sekitar pukul 13.00 WITA, terdakwa I Nyoman Budiawan alias Sumawan melakukan pencurian kartu ATM BRI milik saksi Luh Putu Widiantari di Toko UD. Langsung Jaya, Jalan Raya Kintamani, Desa Kintamani, Kecamatan Kintamani, Kabupaten Bangli. Awalnya, terdakwa datang ke toko tersebut untuk mentransfer uang, namun saat mengetahui mesin BRI Link rusak dan pegawai toko pergi, terdakwa memanfaatkan situasi sepi untuk mengambil kartu ATM yang berada di atas meja kasir. Terdakwa kemudian pulang ke rumahnya dan menggunakan kartu ATM tersebut di mesin ATM BRI Toya Devasya, dengan memasukkan PIN 020202 yang telah ia ketahui sebelumnya karena sering melihat pegawai toko menggunakannya. Terdakwa melakukan penarikan tunai sebanyak empat kali dengan total Rp10.000.000. Setelah menerima laporan dari korban, pihak kepolisian melakukan olah TKP dan berhasil mengamankan terdakwa di rumahnya pada 28 Oktober 2023. Akibat perbuatannya, korban mengalami kerugian sebesar Rp10.000.000. Perbuatan terdakwa diancam pidana berdasarkan Pasal 362 KUHP.",
         "14.0"
        ],
        [
         "20",
         "0",
         "0",
         "0",
         "4",
         "60",
         "I NYOMAN BUDIAWAN Als. SUMAWAN",
         "Pada hari Rabu, 25 Oktober 2023 sekitar pukul 13.00 WITA, terdakwa I Nyoman Budiawan alias Sumawan melakukan pencurian kartu ATM BRI milik saksi Luh Putu Widiantari di Toko UD. Langsung Jaya, Jalan Raya Kintamani, Desa Kintamani, Kecamatan Kintamani, Kabupaten Bangli. Awalnya, terdakwa datang ke toko tersebut untuk mentransfer uang, namun saat mengetahui mesin BRI Link rusak dan pegawai toko pergi, terdakwa memanfaatkan situasi sepi untuk mengambil kartu ATM yang berada di atas meja kasir. Terdakwa kemudian pulang ke rumahnya dan menggunakan kartu ATM tersebut di mesin ATM BRI Toya Devasya, dengan memasukkan PIN 020202 yang telah ia ketahui sebelumnya karena sering melihat pegawai toko menggunakannya. Terdakwa melakukan penarikan tunai sebanyak empat kali dengan total Rp10.000.000. Setelah menerima laporan dari korban, pihak kepolisian melakukan olah TKP dan berhasil mengamankan terdakwa di rumahnya pada 28 Oktober 2023. Akibat perbuatannya, korban mengalami kerugian sebesar Rp10.000.000. Perbuatan terdakwa diancam pidana berdasarkan Pasal 362 KUHP.",
         "14.0"
        ],
        [
         "21",
         "1",
         "10",
         "0",
         "7",
         "48",
         "DESAK MADE CITRAWATI",
         "Pada bulan April 2023, terdakwa Desak Made Citrawati didakwa melakukan tindak pidana penipuan secara berlanjut terhadap dua korban, yaitu I Putu Sutarga dan Pande Ketut Suarca, dengan total kerugian mencapai lebih dari Rp 391 juta. Modus operandi terdakwa adalah membeli telur dan beras dalam jumlah besar dari kedua korban dengan dalih pembayaran menggunakan cek mundur, disertai pernyataan palsu bahwa ia memiliki aset tanah di Singaraja yang sedang dalam proses penjualan. Terdakwa memesan telur sebanyak 4.435 krei dari I Putu Sutarga senilai total Rp 228.600.000, dan beras sebanyak 14.500 kg dari Pande Ketut Suarca dengan total nilai Rp 162.400.000. Setiap transaksi dilakukan secara bertahap pada tanggal 21, 23, 25, dan 28 April 2023. Terdakwa meyakinkan para korban dengan janji pelunasan dan surat pengakuan utang, namun setelah cek jatuh tempo, tidak ada dana yang tersedia. Pemeriksaan terhadap klaim kepemilikan tanah menunjukkan bahwa terdakwa hanya memberikan uang muka atas tanah tersebut dan belum ada kepastian transaksi. Perbuatan Terdakwa didakwa dengan dakwaan primair Pasal 378 jo. Pasal 64 Ayat (1) ke-1 KUHP, dan dakwaan subsidair 379a KUHP Jo. Pasal 64 Ayat (1) ke-1 KUHP.",
         "30.0"
        ],
        [
         "22",
         "0",
         "11",
         "4",
         "3",
         "108",
         "I KETUT DENA",
         "Pada hari Jumat, 5 Februari 2021 sekitar pukul 19.00 WITA, terdakwa I Ketut Dena bersama Dewa Made Sujana (dalam berkas terpisah) melakukan pencurian satu unit sepeda motor Honda Scoopy warna hitam kombinasi merah dengan nomor polisi DK 5807 PS yang terparkir di depan rumah saksi I Nengah Sumerta di Desa Yangapi, Kecamatan Tembuku, Kabupaten Bangli. Sebelumnya, kedua terdakwa sempat pergi ke beberapa lokasi sabung ayam. Saat melintasi lokasi kejadian, Dewa Made Sujana melihat motor dalam keadaan tidak terkunci dan memerintahkan Ketut Dena untuk berjaga sementara dirinya mengambil sepeda motor tersebut. Setelah berhasil menghidupkan dan membawa motor itu, mereka menyembunyikannya di bawah jembatan di Gianyar. Keesokan harinya, motor tersebut diambil kembali dan diganti plat nomornya menggunakan plat dari motor lain, kemudian dibawa ke rumah Dewa Made Sujana. Sore harinya, Dewa Made Sujana ditangkap karena kasus pencurian handphone dan meminta Ketut Dena mengambil motor tersebut. Karena motor terkunci dan kuncinya masih disimpan Dewa Made Sujana, Ketut Dena memanggil tukang kunci untuk membuat duplikat. Motor curian itu lalu digadaikan oleh Ketut Dena kepada saksi Luh Sriani seharga Rp2.000.000 tanpa dokumen STNK atau BPKB. Korban, I Wayan Miyasa, melaporkan kehilangan tersebut ke Polsek Tembuku. Sekitar seminggu kemudian, Ketut Dena ditangkap atas kasus penadahan, mengakui perbuatannya, dan membantu polisi mencari motor dan kunci aslinya yang ditemukan di tas milik Dewa Made Sujana. Akibat perbuatan tersebut, korban mengalami kerugian sekitar Rp15.000.000. Tindak pidana ini diancam dengan 2 dakwaan yaitu dakwaan primair dengan Pasal 363 ayat (1) ke-4 KUHP serta dakwaan subsidair dengan Pasal 326 KUHP.",
         "12.0"
        ],
        [
         "23",
         "0",
         "11",
         "4",
         "6",
         "84",
         "DEWA MADE SUJANA",
         "Pada hari Jumat, 5 Februari 2021 sekitar pukul 09.30 WITA, Terdakwa Dewa Made Sujana bersama I Ketut Dena (berkas terpisah) pergi ke Nongan, Karangasem untuk menonton sabung ayam dengan mengendarai sepeda motor Honda Scoopy warna coklat hitam. Sekitar pukul 14.30 WITA, mereka mendengar ada sabung ayam di Pulasari, Tembuku, namun karena acara tersebut tidak ada, mereka kembali melewati Banjar Sideparna, Desa Yangapi, Bangli. Di lokasi tersebut, Terdakwa melihat sepeda motor Honda Scoopy warna hitam kombinasi merah yang terparkir dengan kunci masih menggantung, lalu meminta I Ketut Dena berhenti untuk mengawasi sekitar. Setelah merasa aman, Terdakwa menyalakan dan membawa kabur sepeda motor tersebut, sedangkan I Ketut Dena mengikuti dengan motor yang mereka gunakan sebelumnya. Motor hasil curian tersebut disembunyikan di bawah jembatan dekat Pantai Lebih, Gianyar. Keesokan harinya, mereka kembali mengambil motor tersebut dan mengganti plat nomornya dengan yang diambil dari motor lain, kemudian motor dibawa ke rumah Terdakwa di Ubud dan diparkir di garasi. Pada sore harinya, Terdakwa ditangkap oleh Polsek Sukawati atas kasus pencurian handphone. Saat penggeledahan, ditemukan kunci asli motor curian di tas milik Terdakwa yang diserahkan oleh istrinya. Akibat perbuatan tersebut, saksi korban I Wayan Miyasa mengalami kerugian sebesar Rp15.000.000. Perbuatan Terdakwa didakwa dengan dakwaan primair Pasal 363 Ayat (1) ke-4 KUHP, dan dakwaan subsidair Pasal 362 KUHP.",
         "15.0"
        ],
        [
         "24",
         "2",
         "12",
         "4",
         "2",
         "144",
         "I KOMANG RENDI YANA alis RENDI",
         "Pada Selasa, 6 Juni 2023 sekitar pukul 20.10 WITA di Jalan Tirta Geduh, Kelurahan Bebalang, Bangli, terdakwa I Komang Rendi Yana alias Rendi ditangkap karena tanpa hak memiliki dan menyimpan narkotika jenis sabu. Awalnya, terdakwa memesan sabu seharga Rp200.000 kepada seseorang bernama Gus Ucil (DPO), lalu mengambil paket tersebut di bawah pohon mahoni di Jalan Putra Yuda, Bangli, sesuai petunjuk. Setelah dikonsumsi sebagian di rumahnya di Banua, Kintamani, sisa sabu disimpan dalam gantungan handphone yang dibungkus stiker dan diselipkan di jaket. Saat hendak ke alun-alun Bangli, terdakwa diberhentikan oleh polisi dan ditemukan sabu seberat 0,10 gram netto dalam jaketnya. Barang bukti lainnya termasuk bong bekas pakai, handphone, dan sepeda motor juga diamankan. Hasil uji laboratorium menunjukkan sabu mengandung metamfetamina yang tergolong Narkotika Golongan I. Perbuatan Terdakwa didakwa dengan dakwaan primair Pasal 112 Ayat (1) UU RI No. 35 Tahun 2009 tentang Narkotika, dan dakwaan subsidair Pasal 127 Ayat (1) huruf a UU RI No. 35 Tahun 2009 tentang Narkotika.",
         "15.0"
        ],
        [
         "25",
         "2",
         "5",
         "4",
         "2",
         "144",
         "I KOMANG RENDI YANA alis RENDI",
         "Pada Selasa, 6 Juni 2023 sekitar pukul 20.10 WITA di Jalan Tirta Geduh, Kelurahan Bebalang, Bangli, terdakwa I Komang Rendi Yana alias Rendi ditangkap karena tanpa hak memiliki dan menyimpan narkotika jenis sabu. Awalnya, terdakwa memesan sabu seharga Rp200.000 kepada seseorang bernama Gus Ucil (DPO), lalu mengambil paket tersebut di bawah pohon mahoni di Jalan Putra Yuda, Bangli, sesuai petunjuk. Setelah dikonsumsi sebagian di rumahnya di Banua, Kintamani, sisa sabu disimpan dalam gantungan handphone yang dibungkus stiker dan diselipkan di jaket. Saat hendak ke alun-alun Bangli, terdakwa diberhentikan oleh polisi dan ditemukan sabu seberat 0,10 gram netto dalam jaketnya. Barang bukti lainnya termasuk bong bekas pakai, handphone, dan sepeda motor juga diamankan. Hasil uji laboratorium menunjukkan sabu mengandung metamfetamina yang tergolong Narkotika Golongan I. Perbuatan Terdakwa didakwa dengan dakwaan primair Pasal 112 Ayat (1) UU RI No. 35 Tahun 2009 tentang Narkotika, dan dakwaan subsidair Pasal 127 Ayat (1) huruf a UU RI No. 35 Tahun 2009 tentang Narkotika.",
         "15.0"
        ],
        [
         "26",
         "2",
         "13",
         "0",
         "3",
         "144",
         "I GUSTI LANANG MADE WIJAYA alias LANANG",
         "Pada Senin, 24 April 2023 sekitar pukul 22.30 WITA di pinggir Jalan Muhamad Hatta, Bebalang, Bangli, terdakwa I Gusti Lanang Made Wijaya alias Lanang tertangkap karena tanpa hak memiliki narkotika jenis sabu. Sebelumnya, terdakwa memesan sabu seharga Rp700.000 dari seseorang bernama Jung Tu (DPO) melalui WhatsApp dan mengambil barang tersebut di bawah pot bunga di Desa Semana, Badung. Setelah mengonsumsinya sebagian di rumahnya di Ubud, terdakwa menyimpan sisa sabu ke dalam bungkus rokok yang dimasukkan ke saku celana. Malam harinya, saat hendak menemui seorang wanita bernama Riena (DPO) di Bangli, terdakwa dihentikan oleh polisi dan dilakukan penggeledahan. Polisi menemukan sabu seberat 0,10 gram netto, satu handphone, dan sepeda motor yang digunakan terdakwa. Berdasarkan hasil pemeriksaan laboratorium, kristal bening tersebut positif mengandung metamfetamina yang tergolong Narkotika Golongan I. Perbuatan Terdakwa didakwa dengan dakwaan primair Pasal 112 Ayat (1) UU RI No. 35 Tahun 2009 Tentang Narkotika, dan dakwaan subsidair Pasal 127 Ayat (1) huruf a UU RI No. 35 Tahun 2009 Tentang Narkotika.",
         "16.0"
        ],
        [
         "27",
         "2",
         "10",
         "2",
         "5",
         "144",
         "SELAMET HARIANTO alias SELAMET",
         "Terdakwa Selamet Harianto alias Selamet bersama Sodakoh Maliki alias Dakoh (dalam berkas terpisah) pada 15 Mei 2023 sekitar pukul 20.45 WITA, bertempat di Jalan Muhammad Hatta, Kelurahan Bebalang, Kecamatan Bangli, kedapatan memiliki narkotika jenis sabu seberat 0,15 gram netto tanpa izin dari pihak berwenang. Perbuatan ini berawal ketika Selamet menghubungi seseorang bernama Rizal (DPO) untuk mencari pekerjaan dan ditawari menjadi \"peluncur\" (PL), yaitu mengambil paket sabu di Bangli. Selamet kemudian mengajak Sodakoh Maliki untuk menemaninya dengan janji akan memakai sabu bersama. Mereka berangkat dari Denpasar ke Bangli dengan motor dan mengambil paket sabu yang disimpan di belakang tiang listrik sesuai petunjuk dari Rizal. Saat dalam perjalanan kembali ke Denpasar, mereka ditangkap oleh polisi di Jalan Muhammad Hatta dan ditemukan barang bukti sabu serta alat-alat konsumsi narkotika. Dalam penggeledahan, ditemukan pula sabu lain seberat 0,02 gram netto milik Sodakoh Maliki yang disimpan dalam tas pinggang, serta berbagai perlengkapan penggunaan sabu. Berdasarkan hasil uji laboratorium, kristal yang ditemukan terbukti mengandung metamfetamina, sedangkan hasil tes urine Selamet negatif narkotika. Selamet sebelumnya juga pernah dihukum dalam kasus serupa berdasarkan putusan PN Denpasar tahun 2019 dan baru bebas pada 7 Maret 2023. Terdakwa didakwa dengan Pasal 112 Ayat (1) UU RI No. 35 Tahun 2009 tentang Narkotika jo. Pasal 55 Ayat (1) ke-1 KUHP.",
         "75.0"
        ],
        [
         "28",
         "2",
         "13",
         "4",
         "5",
         "240",
         "RAIHAN RAHADI AZHAR alias RAIHAN",
         "Terdakwa Raihan Rahadi Azhar alias Raihan, bersama-sama dengan Gungggus Togar Manatar Pangaribuan alias Togar (yang berkas perkaranya terpisah), pada 14 Maret 2023 di Rutan Kelas IIB Bangli, diduga melakukan tindak pidana narkotika dengan tanpa hak atau melawan hukum menjadi perantara dalam jual beli narkotika golongan I berupa tembakau sintetis. Togar meminjam nama Raihan untuk menerima paket berisi tembakau sintetis yang dikirim melalui jasa ekspedisi JT. Raihan menyetujui permintaan tersebut dan menerima paket atas namanya pada 16 Maret 2023. Setelah menerima paket di ruang portir rutan, Raihan langsung diamankan petugas. Pemeriksaan terhadap paket menunjukkan adanya dua bungkus tembakau sintetis dengan total berat bersih 52 gram netto, yang masing-masing dikemas dalam plastik bermerek Violin dan Rhino. Berdasarkan hasil uji laboratorium, daun-daun kering tersebut positif mengandung MDMB-4en PINACA, zat yang termasuk dalam Narkotika Golongan I. Raihan tidak memiliki izin dari Kementerian Kesehatan atau instansi berwenang lainnya untuk memperjualbelikan atau menjadi perantara narkotika tersebut. Perbuatan Terdakwa didakwa dengan dakwaan pertama Pasal 114 Ayat (1) UU RI No. 35 Tahun 2009 tentang Narkotika jo. Pasal 55 Ayat (1) ke-1 KUHP, dakwaan kedua Pasal 112 Ayat (1) UU RI No. 35 Tahun 2009 Tentang Narkotika jo. Pasal 55 Ayat (1) ke-1 KUHP, dan dakwaan ketiga Pasal 111 Ayat (1) UU RI No. 35 Tahun 2009 Tentang Narkotika jo. Pasal 55 Ayat (1) ke-1 KUHP.",
         "90.0"
        ],
        [
         "29",
         "2",
         "13",
         "4",
         "5",
         "240",
         "GUNGGUS TOGAR MANATAR PANGARIBUAN alias TOGAR",
         "Terdakwa Gunggus Togar Manatar Pangaribuan alias Togar, baik sendiri maupun bersama-sama dengan Raihan Rahadi Azhar alias Raihan (terdakwa dalam berkas terpisah), pada 14 Maret 2023 sekitar pukul 12.00 WITA di kamar tahanan Blok B Rutan Kelas IIB Bangli, memesan narkotika golongan I berupa tembakau sintetis dari seorang bernama Zetas Networking (DPO). Terdakwa meminjam nama Raihan untuk menerima paket narkotika tersebut melalui jasa pengiriman JT. Setelah mentransfer uang sebesar Rp1.400.000 melalui OVO, Terdakwa meminta agar paket dikirim atas nama Raihan. Pada 16 Maret 2023, Raihan diamankan oleh petugas rutan saat menerima paket berisi dua bungkus tembakau sintetis, masing-masing dibungkus plastik bermerek Violin dan Rhino. Setelah diinterogasi, Raihan mengaku bahwa paket tersebut milik Terdakwa. Pemeriksaan barang bukti menunjukkan bahwa tembakau tersebut mengandung senyawa MDMB-4en PINACA yang tergolong dalam Narkotika Golongan I. Terdakwa tidak memiliki izin dari Menteri Kesehatan atau lembaga berwenang lainnya untuk memperjualbelikan atau menerima narkotika tersebut. Perbuatan Terdakwa didakwa dengan dakwaan pertama Pasal 114 Ayat (1) UU RI No. 35 Tahun 2009 tentang Narkotika jo. Pasal 55 Ayat (1) ke-1 KUHP, dakwaan kedua Pasal 112 Ayat (1) UU RI No. 35 Tahun 2009 Tentang Narkotika jo. Pasal 55 Ayat (1) ke-1 KUHP, dan dakwaan ketiga Pasal 111 Ayat (1) UU RI No. 35 Tahun 2009 Tentang Narkotika jo. Pasal 55 Ayat (1) ke-1 KUHP.",
         "102.0"
        ],
        [
         "30",
         "4",
         "14",
         "0",
         "4",
         "120",
         "I NYOMAN RAWAS",
         "Pada hari Senin, 27 Maret 2023 sekitar pukul 21.30 WITA, terdakwa I Nyoman Rawas bersama I Ketut Sudima menyelenggarakan permainan judi cap jeki di lapangan terbuka di Banjar Kedisan, Desa Kedisan, Kecamatan Kintamani, Kabupaten Bangli. Kegiatan ini telah diberitahukan sebelumnya kepada para penjudi, dan terdakwa menyiapkan berbagai peralatan seperti perlak angka, handuk, kotak kaleng, kartu ceki, dan uang modal sebesar Rp 2.000.000. Dalam permainan tersebut, I Nyoman Rawas bertindak sebagai bandar yang mengendalikan jalannya permainan dan menentukan hasil, sementara I Ketut Sudima berperan sebagai kasir yang membayar kemenangan atau mengambil taruhan yang kalah. Permainan dilakukan dengan dua sistem, yaitu sistem “melok” (seri) dan “nyolot” (menang-kalah), yang masing-masing memiliki ketentuan kemenangan dan pembayarannya sendiri. Pada malam itu, para terdakwa melangsungkan enam putaran permainan dan memperoleh keuntungan sebesar Rp 370.000 sebelum akhirnya ditangkap oleh pihak kepolisian. Dari hasil penyelidikan, diketahui bahwa para terdakwa telah berulang kali menyelenggarakan permainan serupa di berbagai lokasi dan menjadikannya sebagai sumber penghasilan untuk kebutuhan sehari-hari. Seluruh kegiatan perjudian tersebut dilakukan tanpa izin resmi dan merupakan bentuk perjudian yang bersifat untung-untungan. Perbuatan Terdakwa didakwa dengan dakwaan primair Pasal 303 Ayat (1) ke-1 KUHP jo. Pasal 2 Undang-Undang No. 7 Tahun 1974 tentang Penertiban Perjudian, dan dakwaan subsidair Pasal 303 Ayat (1) ke-2 KUHP jo. Pasal 2 Undang-Undang No. 7 Tahun 1974 Tentang Penertiban Perjudian.",
         "7.0"
        ],
        [
         "31",
         "4",
         "14",
         "0",
         "4",
         "120",
         "I KETUT SUDIMA",
         "Pada hari Senin, 27 Maret 2023 sekitar pukul 21.30 WITA, terdakwa I Nyoman Rawas bersama I Ketut Sudima menyelenggarakan permainan judi cap jeki di lapangan terbuka di Banjar Kedisan, Desa Kedisan, Kecamatan Kintamani, Kabupaten Bangli. Kegiatan ini telah diberitahukan sebelumnya kepada para penjudi, dan terdakwa menyiapkan berbagai peralatan seperti perlak angka, handuk, kotak kaleng, kartu ceki, dan uang modal sebesar Rp 2.000.000. Dalam permainan tersebut, I Nyoman Rawas bertindak sebagai bandar yang mengendalikan jalannya permainan dan menentukan hasil, sementara I Ketut Sudima berperan sebagai kasir yang membayar kemenangan atau mengambil taruhan yang kalah. Permainan dilakukan dengan dua sistem, yaitu sistem “melok” (seri) dan “nyolot” (menang-kalah), yang masing-masing memiliki ketentuan kemenangan dan pembayarannya sendiri. Pada malam itu, para terdakwa melangsungkan enam putaran permainan dan memperoleh keuntungan sebesar Rp 370.000 sebelum akhirnya ditangkap oleh pihak kepolisian. Dari hasil penyelidikan, diketahui bahwa para terdakwa telah berulang kali menyelenggarakan permainan serupa di berbagai lokasi dan menjadikannya sebagai sumber penghasilan untuk kebutuhan sehari-hari. Seluruh kegiatan perjudian tersebut dilakukan tanpa izin resmi dan merupakan bentuk perjudian yang bersifat untung-untungan. Perbuatan Terdakwa didakwa dengan dakwaan primair Pasal 303 Ayat (1) ke-1 KUHP jo. Pasal 2 Undang-Undang No. 7 Tahun 1974 tentang Penertiban Perjudian, dan dakwaan subsidair Pasal 303 Ayat (1) ke-2 KUHP jo. Pasal 2 Undang-Undang No. 7 Tahun 1974 Tentang Penertiban Perjudian.",
         "6.0"
        ],
        [
         "32",
         "0",
         "13",
         "0",
         "3",
         "84",
         "NI LUH PUSPA DEWI",
         "Pada hari Minggu, 4 Juli 2021 sekitar pukul 11.00 WITA, Terdakwa Ni Luh Puspa Dewi dalam perjalanan menuju ladang orang tuanya di Desa Suter, Bangli, melewati sebuah rumah kosong di Banjar Munduk Waru, Desa Buahan, Kintamani, dan timbul niat untuk mencuri. Setelah memastikan keadaan sekitar aman, terdakwa masuk ke rumah tersebut dan menemukan kunci di lemari kaca dalam salah satu kamar. Ia kemudian membuka kamar lain dengan kunci tersebut dan menemukan dompet biru bermotif bunga berisi berbagai perhiasan emas, termasuk kalung, gelang, cincin, dan anting-anting dengan total berat puluhan gram. Semua barang tersebut diambil dan disimpan di sakunya, lalu terdakwa meninggalkan lokasi. Perhiasan hasil curian dijual di Pasar Kidul kepada seorang wanita tak dikenal seharga Rp80.000.000, yang kemudian digunakan untuk kebutuhan sehari-hari dan membeli sejumlah pakaian, sandal, serta cincin emas. Berdasarkan laporan polisi tertanggal 6 Februari 2023, terdakwa akhirnya mengakui seluruh perbuatannya. Akibat kejadian ini, korban I Nyoman Mawa mengalami kerugian sekitar Rp80.000.000. Perbuatan Terdakwa didakwa dengan dakwaan primair Pasal 363 Ayat (1) ke-5 KUHP, dan dakwaan subsidair Pasal 362 KUHP.",
         "6.0"
        ],
        [
         "33",
         "0",
         "15",
         "4",
         "5",
         "80",
         "I Wayan Nawa",
         "Terdakwa I Wayan Nawa didakwa melakukan pencurian pada dua kesempatan berbeda di wilayah Kintamani, Bangli. Pada 2 Oktober 2022, setelah menjual salak, terdakwa menuju ke kebun milik I Wayan Suardana di Banjar Pludu, Desa Bayung Gede, dan berpura-pura menawarkan pupuk ayam. Saat korban lengah, terdakwa mencuri handphone Redmi Note 10S beserta uang tunai sekitar Rp400.000 yang disimpan di kandang sapi. Kemudian, pada 9 November 2022, terdakwa kembali melakukan pencurian di pondokan milik I Wayan Panggih di Desa Binyan dengan modus serupa. Setelah memastikan korban pergi, terdakwa mencuri handphone Redmi Note 7 yang sedang dicas. Kedua handphone tersebut dijual ke konter berbeda dengan total hasil sekitar Rp1.800.000, yang kemudian digunakan untuk kebutuhan sehari-hari. Berdasarkan laporan korban, polisi melakukan penyelidikan dan berhasil menangkap terdakwa pada 9 Februari 2023 di Karangasem. Akibat perbuatannya, korban I Wayan Suardana mengalami kerugian sekitar Rp3.400.000 dan I Wayan Panggih sekitar Rp3.000.000. Terdakwa dijerat dengan Pasal 362 KUHP jo. Pasal 65 Ayat (1) KUHP tentang pencurian yang dilakukan berulang kali.",
         "6.0"
        ],
        [
         "34",
         "0",
         "13",
         "3",
         "5",
         "60",
         "JRO GEDE BUDI",
         "Pada Sabtu, 28 Januari 2023, di Pemandian Tirta Usadha Toya Bungkah, Desa Batur Tengah, Kintamani, Bangli, terdakwa Jro Gede Budi didakwa melakukan pencurian. Setelah selesai berendam, terdakwa melihat sebuah tas hitam bertuliskan \"Steve Madden\" milik korban Ni Jro Luh Putri di bawah loker, lalu mengambilnya dan membawanya pulang menggunakan sepeda motor. Di perjalanan, terdakwa membuka tas tersebut dan menemukan tas merah maroon bertuliskan \"Michael Kors\" berisi uang tunai sebesar Rp5.700.000 serta sebuah dompet berisi perhiasan emas berupa kalung dan cincin, dan dua nota pembelian dari Toko Emas Ratna. Terdakwa mengambil Rp1.000.000 untuk dirinya dan menyembunyikan sisa uang serta perhiasan di bawah pohon di dekat rumahnya, sedangkan tas-tas tersebut disimpan di jok motor. Berdasarkan laporan korban, polisi berhasil mengamankan terdakwa beserta barang-barang bukti, termasuk sepeda motor dan hoodie yang digunakan untuk membungkus barang curian. Atas perbuatannya, korban mengalami kerugian sekitar Rp19.700.000, dan terdakwa dijerat dengan Pasal 362 KUHP tentang pencurian.",
         "5.0"
        ],
        [
         "35",
         "0",
         "1",
         "4",
         "3",
         "84",
         "RIFQI ABDURAHMAN",
         "Pada Minggu, 11 Desember 2022 sekitar pukul 00.30 WITA, terdakwa I Rifqi Abdurahman dan terdakwa II Gunawan melakukan pencurian sepeda motor di pinggir Jalan Raya Kayuambua, Bangli. Sebelumnya, pada 10 Desember 2022, terdakwa II meminta terdakwa I mencarikan sepeda motor Kawasaki KLX untuk dibeli seharga Rp3.000.000. Keduanya lalu berangkat ke daerah Kintamani dengan sepeda motor modifikasi tanpa nomor polisi. Saat tiba di lokasi, mereka melihat motor Kawasaki KLX 150 C tanpa nomor polisi dan kunci kontak, lalu terdakwa I mendorong motor tersebut menjauh sementara terdakwa II mengawasi. Karena motor cetul milik terdakwa II rusak, terdakwa I mendorong motor sendirian dan sempat dicegat dua saksi yang curiga. Setelah berhasil menyalakan motor dan mengendarainya sejauh 100 meter, motor mogok karena kehabisan bensin. Terdakwa I lalu mendorong ke SPBU Sekardadi dan tertidur di sana. Sementara itu, saksi korban mengonfirmasi kehilangan motornya dan bersama saksi lainnya serta polisi, menemukan terdakwa I di SPBU. Polisi kemudian menangkap terdakwa II di Desa Dumilih saat tertidur di emper toko. Akibat perbuatan para terdakwa, korban I Wayan Eva Kusuma Putra mengalami kerugian sekitar Rp16.000.000. Perbuatan Terdakwa didakwa dengan dakwaan primair Pasal 363 Ayat (1) ke-4 KUHP, dan dakwaan subsidair Pasal 362 KUHP.",
         "8.0"
        ],
        [
         "36",
         "0",
         "1",
         "4",
         "3",
         "84",
         "GUNAWAN",
         "Pada Minggu, 11 Desember 2022 sekitar pukul 00.30 WITA, terdakwa I Rifqi Abdurahman dan terdakwa II Gunawan melakukan pencurian sepeda motor di pinggir Jalan Raya Kayuambua, Bangli. Sebelumnya, pada 10 Desember 2022, terdakwa II meminta terdakwa I mencarikan sepeda motor Kawasaki KLX untuk dibeli seharga Rp3.000.000. Keduanya lalu berangkat ke daerah Kintamani dengan sepeda motor modifikasi tanpa nomor polisi. Saat tiba di lokasi, mereka melihat motor Kawasaki KLX 150 C tanpa nomor polisi dan kunci kontak, lalu terdakwa I mendorong motor tersebut menjauh sementara terdakwa II mengawasi. Karena motor cetul milik terdakwa II rusak, terdakwa I mendorong motor sendirian dan sempat dicegat dua saksi yang curiga. Setelah berhasil menyalakan motor dan mengendarainya sejauh 100 meter, motor mogok karena kehabisan bensin. Terdakwa I lalu mendorong ke SPBU Sekardadi dan tertidur di sana. Sementara itu, saksi korban mengonfirmasi kehilangan motornya dan bersama saksi lainnya serta polisi, menemukan terdakwa I di SPBU. Polisi kemudian menangkap terdakwa II di Desa Dumilih saat tertidur di emper toko. Akibat perbuatan para terdakwa, korban I Wayan Eva Kusuma Putra mengalami kerugian sekitar Rp16.000.000. Perbuatan Terdakwa didakwa dengan dakwaan primair Pasal 363 Ayat (1) ke-4 KUHP, dan dakwaan subsidair Pasal 362 KUHP.",
         "8.0"
        ],
        [
         "37",
         "0",
         "16",
         "0",
         "6",
         "80",
         "Gede Kastawa",
         "Terdakwa Gede Kastawa didakwa melakukan serangkaian tindak pidana pencurian ayam di wilayah Kintamani, Bangli, pada bulan Oktober 2022. Pada 21 Oktober 2022, terdakwa mencuri 6 ekor ayam dari belakang rumah korban I Wayan Sukada di Desa Belantih, lalu menjualnya di Pasar Anyar Singaraja seharga Rp800.000. Hasil penjualan digunakan untuk membeli ayam aduan dan berjudi. Kemudian, pada 28 Oktober 2022, terdakwa mencuri 15 ekor ayam milik korban I Made Terus dari kebun jeruk di Desa Belanga, yang kembali dijual dan hasilnya dipakai untuk berjudi. Selanjutnya, pada 30 Oktober 2022, terdakwa beraksi di pondokan milik korban I Wayan Lusin di Desa Belanga, mencuri seekor ayam namun aksinya diketahui oleh saksi dan warga sehingga berhasil diamankan. Total kerugian para korban mencapai sekitar Rp3.500.000. Terdakwa mengaku melakukan pencurian karena alasan ekonomi. Perbuatannya diancam pidana sesuai Pasal 362 jo. Pasal 65 Ayat (1) KUHP.",
         "30.0"
        ],
        [
         "38",
         "0",
         "17",
         "0",
         "6",
         "80",
         "Gede Kastawa",
         "Terdakwa Gede Kastawa didakwa melakukan serangkaian tindak pidana pencurian ayam di wilayah Kintamani, Bangli, pada bulan Oktober 2022. Pada 21 Oktober 2022, terdakwa mencuri 6 ekor ayam dari belakang rumah korban I Wayan Sukada di Desa Belantih, lalu menjualnya di Pasar Anyar Singaraja seharga Rp800.000. Hasil penjualan digunakan untuk membeli ayam aduan dan berjudi. Kemudian, pada 28 Oktober 2022, terdakwa mencuri 15 ekor ayam milik korban I Made Terus dari kebun jeruk di Desa Belanga, yang kembali dijual dan hasilnya dipakai untuk berjudi. Selanjutnya, pada 30 Oktober 2022, terdakwa beraksi di pondokan milik korban I Wayan Lusin di Desa Belanga, mencuri seekor ayam namun aksinya diketahui oleh saksi dan warga sehingga berhasil diamankan. Total kerugian para korban mencapai sekitar Rp3.500.000. Terdakwa mengaku melakukan pencurian karena alasan ekonomi. Perbuatannya diancam pidana sesuai Pasal 362 jo. Pasal 65 Ayat (1) KUHP.",
         "30.0"
        ],
        [
         "39",
         "0",
         "18",
         "0",
         "5",
         "84",
         "Elias Fanggi",
         "Terdakwa Elias Fanggi didakwa melakukan pencurian tiga ekor anak babi milik saksi I Komang Sucitra pada Sabtu, 27 Maret 2021 sekitar pukul 22.30 WITA di kandang babi yang terletak di Desa Abuan, Kecamatan Kintamani, Kabupaten Bangli. Awalnya, terdakwa datang ke kandang pada sore hari untuk membersihkan tempat tersebut. Namun pada malam harinya, terdakwa masuk ke dalam kandang melalui pintu yang tidak terkunci, lalu mengambil tiga ekor anak babi dan memasukkannya ke dalam karung plastik yang telah disiapkannya. Ia kemudian membawa hasil curian itu dengan sepeda motor milik saksi Leonardus Pendi dengan maksud untuk dijual. Aksi tersebut diketahui oleh pemilik kandang, yang kemudian melaporkan terdakwa ke pihak berwajib. Akibat perbuatan tersebut, saksi I Komang Sucitra mengalami kerugian sebesar Rp3.600.000. Perbuatan Terdakwa didakwa dengan dakwaan primair Pasal 363 Ayat (1) ke-1 KUHP, dan dakwaan subsidair Pasal 374 KUHP.",
         "6.0"
        ],
        [
         "40",
         "0",
         "19",
         "0",
         "5",
         "84",
         "Elias Fanggi",
         "Terdakwa Elias Fanggi didakwa melakukan pencurian tiga ekor anak babi milik saksi I Komang Sucitra pada Sabtu, 27 Maret 2021 sekitar pukul 22.30 WITA di kandang babi yang terletak di Desa Abuan, Kecamatan Kintamani, Kabupaten Bangli. Awalnya, terdakwa datang ke kandang pada sore hari untuk membersihkan tempat tersebut. Namun pada malam harinya, terdakwa masuk ke dalam kandang melalui pintu yang tidak terkunci, lalu mengambil tiga ekor anak babi dan memasukkannya ke dalam karung plastik yang telah disiapkannya. Ia kemudian membawa hasil curian itu dengan sepeda motor milik saksi Leonardus Pendi dengan maksud untuk dijual. Aksi tersebut diketahui oleh pemilik kandang, yang kemudian melaporkan terdakwa ke pihak berwajib. Akibat perbuatan tersebut, saksi I Komang Sucitra mengalami kerugian sebesar Rp3.600.000. Perbuatan Terdakwa didakwa dengan dakwaan primair Pasal 363 Ayat (1) ke-1 KUHP, dan dakwaan subsidair Pasal 374 KUHP.",
         "6.0"
        ],
        [
         "41",
         "0",
         "19",
         "0",
         "15",
         "112",
         "I Wayan Edi Rusmawan",
         "Terdakwa I Wayan Edi Rusmawan didakwa melakukan serangkaian pencurian antara bulan Juni 2020 hingga Januari 2021 di berbagai lokasi di wilayah Kecamatan Kintamani, Kabupaten Bangli. Terdakwa mengambil barang-barang milik sejumlah korban di antaranya I Wayan Sutiana, I Ketut Carem, I Ketut Sudadi, I Nyoman Keneh, Ni Nengah Suantini, I Nyoman Birawan, Ni Ketut Supadmi, I Wayan Darma, I Wayan Ramanto, I Nengah Sapa, dan I Made Sadswadarma. Aksi pencurian tersebut dilakukan terdakwa dengan cara merusak, memanjat, atau masuk secara diam-diam ke kebun, pondokan, warung, dan gudang milik para korban, dengan maksud untuk memiliki barang-barang tersebut secara melawan hukum. Karena dilakukan berulang kali di tempat dan waktu yang berbeda, perbuatan terdakwa dianggap sebagai beberapa kejahatan yang berdiri sendiri. Perbuatan Terdakwa didakwa dengan dakwaan primair Pasal 363 Ayat (1) ke-5 KUHP jo. Pasal 65 ayat (1) KUHP, dan dakwaan subsidair Pasal 362 KUHP Jo Pasal 65 Ayat (1) KUHP.",
         "24.0"
        ],
        [
         "42",
         "0",
         "20",
         "0",
         "15",
         "112",
         "I Wayan Edi Rusmawan",
         "Terdakwa I Wayan Edi Rusmawan didakwa melakukan serangkaian pencurian antara bulan Juni 2020 hingga Januari 2021 di berbagai lokasi di wilayah Kecamatan Kintamani, Kabupaten Bangli. Terdakwa mengambil barang-barang milik sejumlah korban di antaranya I Wayan Sutiana, I Ketut Carem, I Ketut Sudadi, I Nyoman Keneh, Ni Nengah Suantini, I Nyoman Birawan, Ni Ketut Supadmi, I Wayan Darma, I Wayan Ramanto, I Nengah Sapa, dan I Made Sadswadarma. Aksi pencurian tersebut dilakukan terdakwa dengan cara merusak, memanjat, atau masuk secara diam-diam ke kebun, pondokan, warung, dan gudang milik para korban, dengan maksud untuk memiliki barang-barang tersebut secara melawan hukum. Karena dilakukan berulang kali di tempat dan waktu yang berbeda, perbuatan terdakwa dianggap sebagai beberapa kejahatan yang berdiri sendiri. Perbuatan Terdakwa didakwa dengan dakwaan primair Pasal 363 Ayat (1) ke-5 KUHP jo. Pasal 65 ayat (1) KUHP, dan dakwaan subsidair Pasal 362 KUHP Jo Pasal 65 Ayat (1) KUHP.",
         "24.0"
        ],
        [
         "43",
         "2",
         "21",
         "5",
         "4",
         "144",
         "ANJAR RUCHIMAT",
         "Terdakwa Anjar Ruchimat dan Irga Krisna Haryanto R, pada 4 Februari 2020 sekitar pukul 21.30 WITA di pinggir Jalan Raya Merdeka, Bebalang, Bangli, diduga melakukan permufakatan jahat bersama seorang bernama Made Bleteng (DPO) untuk memiliki, menyimpan, menguasai, atau menyediakan Narkotika Golongan I bukan tanaman tanpa hak. Selain itu, Anjar Ruchimat juga terbukti menggunakan narkotika untuk diri sendiri pada 1 Februari 2020 sekitar pukul 15.00 WITA di sebuah penginapan di Kuta, Badung. Demikian pula, Irga Krisna Haryanto R menggunakan narkotika untuk diri sendiri pada 28 Januari 2020 sekitar pukul 22.30 WITA di kamar kontrakannya di Dalung, Badung. Meskipun tempat kejadian perkara berada di wilayah hukum Pengadilan Negeri Denpasar, perkara ini diperiksa oleh Pengadilan Negeri Bangli berdasarkan ketentuan Pasal 84 ayat (2) KUHAP. Perbuatan para terdakwa diancam pidana berdasarkan Pasal 132 Ayat (1) jo. Pasal 112 Ayat (1), serta Pasal 127 Ayat (1) huruf a UU RI No. 35 Tahun 2009 tentang Narkotika.",
         "16.0"
        ],
        [
         "44",
         "2",
         "21",
         "5",
         "4",
         "144",
         "IRGA KRISNA HARYANTO R",
         "Terdakwa Anjar Ruchimat dan Irga Krisna Haryanto R, pada 4 Februari 2020 sekitar pukul 21.30 WITA di pinggir Jalan Raya Merdeka, Bebalang, Bangli, diduga melakukan permufakatan jahat bersama seorang bernama Made Bleteng (DPO) untuk memiliki, menyimpan, menguasai, atau menyediakan Narkotika Golongan I bukan tanaman tanpa hak. Selain itu, Anjar Ruchimat juga terbukti menggunakan narkotika untuk diri sendiri pada 1 Februari 2020 sekitar pukul 15.00 WITA di sebuah penginapan di Kuta, Badung. Demikian pula, Irga Krisna Haryanto R menggunakan narkotika untuk diri sendiri pada 28 Januari 2020 sekitar pukul 22.30 WITA di kamar kontrakannya di Dalung, Badung. Meskipun tempat kejadian perkara berada di wilayah hukum Pengadilan Negeri Denpasar, perkara ini diperiksa oleh Pengadilan Negeri Bangli berdasarkan ketentuan Pasal 84 ayat (2) KUHAP. Perbuatan para terdakwa diancam pidana berdasarkan Pasal 132 Ayat (1) jo. Pasal 112 Ayat (1), serta Pasal 127 Ayat (1) huruf a UU RI No. 35 Tahun 2009 tentang Narkotika.",
         "16.0"
        ],
        [
         "45",
         "2",
         "21",
         "6",
         "6",
         "240",
         "FENNY YANTHI ESMIDAR",
         "Terdakwa Fenny Yanthi Esmidar pada Kamis, 9 Januari 2020 sekitar pukul 23.15 WITA ditangkap di Gang Buntu, belakang Alfamart Jalan Brigjen Ngurah Rai, Bangli, saat baru saja mengambil narkotika jenis sabu yang disembunyikan di semak-semak. Penangkapan dilakukan oleh anggota Satresnarkoba Polres Bangli setelah menerima informasi dari masyarakat. Sebelumnya, terdakwa dihubungi oleh seseorang bernama Desi untuk mengambil narkotika di lokasi tersebut. Dari hasil penggeledahan, ditemukan dua paket sabu dengan berat netto masing-masing 0,08 gram dan 0,05 gram, yang disimpan dalam bungkus rokok dan tas milik terdakwa. Berdasarkan hasil pemeriksaan laboratorium forensik, kedua paket tersebut positif mengandung metamfetamina yang termasuk dalam Narkotika Golongan I. Namun, hasil tes urine terdakwa menunjukkan negatif narkotika/psikotropika. Perbuatan Terdakwa didakwa dengan dakwaan pertama Pasal 114 Ayat (1) UU RI No. 35 Tahun 2009 tentang Narkotika, dan dakwaan kedua Pasal 112 Ayat (1) UU RI No. 35 Tahun 2009 Tentang Narkotika.",
         "102.0"
        ],
        [
         "46",
         "0",
         "22",
         "7",
         "4",
         "84",
         "I WAYAN SUDARPA",
         "Terdakwa I Wayan Sudarpa pada Rabu, 12 Februari 2020 sekitar pukul 01.00 WITA melakukan pencurian tiga ekor sapi milik I Wayan Kasir di Br. Tiying Desa, Desa Pengotan, Kecamatan Bangli. Aksi tersebut direncanakan sebelumnya bersama I Nyoman Bintang, dengan dalih ingin menjual sapi miliknya untuk membayar utang. Pada malam hari yang telah disepakati, terdakwa mendatangi kandang sapi korban dan secara bertahap membawa ketiga sapi tersebut ke mobil pick up milik I Nyoman Bintang yang menunggu di dekat lokasi. Sapi-sapi itu kemudian dibawa dan dijual di Pasar Bringkit, Badung. Dari hasil penjualan, terdakwa menerima uang sebesar Rp20.156.000 setelah dikurangi biaya operasional. Namun, diketahui sapi-sapi tersebut bukan milik terdakwa melainkan milik I Wayan Kasir, yang tidak pernah memberikan izin untuk pengambilan maupun penjualan. Akibat perbuatan terdakwa, korban mengalami kerugian sekitar Rp20.500.000. Tindakan terdakwa diancam pidana berdasarkan Pasal 363 Ayat (1) ke-1 KUHP.",
         "6.0"
        ],
        [
         "47",
         "4",
         "23",
         "8",
         "3",
         "120",
         "Wayan Suartaya",
         "Pada tanggal 21 November 2018 sekitar pukul 18.00 WITA, terdakwa I Ketut Sarjana dan Wayan Suartaya mengadakan permainan judi cap jeki di halaman rumah Ketut Sarjana di Banjar Merta, Desa Awan, Kecamatan Kintamani, Kabupaten Bangli. Mereka menyiapkan berbagai alat perjudian seperti kotak kaleng, perlak, handuk, kartu ceki, serta menyediakan hadiah uang tunai sebesar Rp 5.000.000 bagi pemenang. Ketut Sarjana bertindak sebagai kasir sekaligus bandar yang membayar kemenangan dan mengambil uang taruhan pemain yang kalah, sedangkan Wayan Suartaya bertugas mengocok kartu ceki. Permainan dilakukan dengan dua sistem, yakni sistem \"melok\" (draw) dan \"nyolot\" (menang-kalah), yang masing-masing memiliki aturan dan hadiah berbeda. Saat permainan berlangsung, petugas dari Dit. Reskrimum POLDA Bali melakukan penggerebekan dan menemukan sejumlah barang bukti, termasuk kartu ceki, handuk, kotak kaleng, perlak, dan uang tunai Rp 2.665.000. Permainan judi cap jeki tersebut dilakukan tanpa izin dari pejabat yang berwenang. Perbuatan Terdakwa didakwa dengan dakwaan primair Pasal 303 Ayat (1) ke-1 KUHP jo. Pasal 2 Undang-Undang RI No. 7 Tahun 1974 tentang Penertiban Perjudian, dan dakwaan subsidair Pasal 303 Ayat (1) ke-2 KUHP, jo. Pasal 2 UU RI No. 7 Tahun 1974 Tentang Penertiban Perjudian.",
         "5.0"
        ],
        [
         "48",
         "4",
         "24",
         "8",
         "3",
         "120",
         "Wayan Suartaya",
         "Pada tanggal 21 November 2018 sekitar pukul 18.00 WITA, terdakwa I Ketut Sarjana dan Wayan Suartaya mengadakan permainan judi cap jeki di halaman rumah Ketut Sarjana di Banjar Merta, Desa Awan, Kecamatan Kintamani, Kabupaten Bangli. Mereka menyiapkan berbagai alat perjudian seperti kotak kaleng, perlak, handuk, kartu ceki, serta menyediakan hadiah uang tunai sebesar Rp 5.000.000 bagi pemenang. Ketut Sarjana bertindak sebagai kasir sekaligus bandar yang membayar kemenangan dan mengambil uang taruhan pemain yang kalah, sedangkan Wayan Suartaya bertugas mengocok kartu ceki. Permainan dilakukan dengan dua sistem, yakni sistem \"melok\" (draw) dan \"nyolot\" (menang-kalah), yang masing-masing memiliki aturan dan hadiah berbeda. Saat permainan berlangsung, petugas dari Dit. Reskrimum POLDA Bali melakukan penggerebekan dan menemukan sejumlah barang bukti, termasuk kartu ceki, handuk, kotak kaleng, perlak, dan uang tunai Rp 2.665.000. Permainan judi cap jeki tersebut dilakukan tanpa izin dari pejabat yang berwenang. Perbuatan Terdakwa didakwa dengan dakwaan primair Pasal 303 Ayat (1) ke-1 KUHP jo. Pasal 2 Undang-Undang RI No. 7 Tahun 1974 tentang Penertiban Perjudian, dan dakwaan subsidair Pasal 303 Ayat (1) ke-2 KUHP, jo. Pasal 2 UU RI No. 7 Tahun 1974 Tentang Penertiban Perjudian.",
         "5.0"
        ],
        [
         "49",
         "4",
         "23",
         "8",
         "3",
         "120",
         "I Ketut Sarjana",
         "Pada tanggal 21 November 2018 sekitar pukul 18.00 WITA, terdakwa I Ketut Sarjana dan Wayan Suartaya mengadakan permainan judi cap jeki di halaman rumah Ketut Sarjana di Banjar Merta, Desa Awan, Kecamatan Kintamani, Kabupaten Bangli. Mereka menyiapkan berbagai alat perjudian seperti kotak kaleng, perlak, handuk, kartu ceki, serta menyediakan hadiah uang tunai sebesar Rp 5.000.000 bagi pemenang. Ketut Sarjana bertindak sebagai kasir sekaligus bandar yang membayar kemenangan dan mengambil uang taruhan pemain yang kalah, sedangkan Wayan Suartaya bertugas mengocok kartu ceki. Permainan dilakukan dengan dua sistem, yakni sistem \"melok\" (draw) dan \"nyolot\" (menang-kalah), yang masing-masing memiliki aturan dan hadiah berbeda. Saat permainan berlangsung, petugas dari Dit. Reskrimum POLDA Bali melakukan penggerebekan dan menemukan sejumlah barang bukti, termasuk kartu ceki, handuk, kotak kaleng, perlak, dan uang tunai Rp 2.665.000. Permainan judi cap jeki tersebut dilakukan tanpa izin dari pejabat yang berwenang. Perbuatan Terdakwa didakwa dengan dakwaan primair Pasal 303 Ayat (1) ke-1 KUHP jo. Pasal 2 Undang-Undang RI No. 7 Tahun 1974 tentang Penertiban Perjudian, dan dakwaan subsidair Pasal 303 Ayat (1) ke-2 KUHP, jo. Pasal 2 UU RI No. 7 Tahun 1974 Tentang Penertiban Perjudian.",
         "5.0"
        ]
       ],
       "shape": {
        "columns": 8,
        "rows": 4322
       }
      },
      "text/html": [
       "<div>\n",
       "<style scoped>\n",
       "    .dataframe tbody tr th:only-of-type {\n",
       "        vertical-align: middle;\n",
       "    }\n",
       "\n",
       "    .dataframe tbody tr th {\n",
       "        vertical-align: top;\n",
       "    }\n",
       "\n",
       "    .dataframe thead th {\n",
       "        text-align: right;\n",
       "    }\n",
       "</style>\n",
       "<table border=\"1\" class=\"dataframe\">\n",
       "  <thead>\n",
       "    <tr style=\"text-align: right;\">\n",
       "      <th></th>\n",
       "      <th>klasifikasi_perkara_encoded</th>\n",
       "      <th>penuntut_umum_encoded</th>\n",
       "      <th>hakim_encoded</th>\n",
       "      <th>jumlah_saksi</th>\n",
       "      <th>maks_penjara_berdasarkan_pasal</th>\n",
       "      <th>terdakwa</th>\n",
       "      <th>summarized_dakwaan</th>\n",
       "      <th>total_pidana_penjara_bulan</th>\n",
       "    </tr>\n",
       "  </thead>\n",
       "  <tbody>\n",
       "    <tr>\n",
       "      <th>0</th>\n",
       "      <td>0</td>\n",
       "      <td>0</td>\n",
       "      <td>0</td>\n",
       "      <td>6</td>\n",
       "      <td>80</td>\n",
       "      <td>GEDE DARMAYASA</td>\n",
       "      <td>Terdakwa Gede Darmayasa didakwa telah melakuka...</td>\n",
       "      <td>5.0</td>\n",
       "    </tr>\n",
       "    <tr>\n",
       "      <th>1</th>\n",
       "      <td>1</td>\n",
       "      <td>1</td>\n",
       "      <td>1</td>\n",
       "      <td>4</td>\n",
       "      <td>48</td>\n",
       "      <td>IDA BAGUS MADE DARMA WIGUNA</td>\n",
       "      <td>Pada bulan Februari dan Maret 2024, terdakwa I...</td>\n",
       "      <td>24.0</td>\n",
       "    </tr>\n",
       "    <tr>\n",
       "      <th>2</th>\n",
       "      <td>0</td>\n",
       "      <td>0</td>\n",
       "      <td>2</td>\n",
       "      <td>6</td>\n",
       "      <td>84</td>\n",
       "      <td>HANDRI JOHANAS</td>\n",
       "      <td>Terdakwa Handri Johanes pada Rabu, 24 April 20...</td>\n",
       "      <td>4.0</td>\n",
       "    </tr>\n",
       "    <tr>\n",
       "      <th>3</th>\n",
       "      <td>2</td>\n",
       "      <td>2</td>\n",
       "      <td>1</td>\n",
       "      <td>2</td>\n",
       "      <td>144</td>\n",
       "      <td>I GEDE ARIADI alias BERNAD</td>\n",
       "      <td>Pada hari Minggu, 14 April 2024 sekitar pukul ...</td>\n",
       "      <td>14.0</td>\n",
       "    </tr>\n",
       "    <tr>\n",
       "      <th>4</th>\n",
       "      <td>2</td>\n",
       "      <td>3</td>\n",
       "      <td>1</td>\n",
       "      <td>2</td>\n",
       "      <td>144</td>\n",
       "      <td>I GEDE ARIADI alias BERNAD</td>\n",
       "      <td>Pada hari Minggu, 14 April 2024 sekitar pukul ...</td>\n",
       "      <td>14.0</td>\n",
       "    </tr>\n",
       "    <tr>\n",
       "      <th>...</th>\n",
       "      <td>...</td>\n",
       "      <td>...</td>\n",
       "      <td>...</td>\n",
       "      <td>...</td>\n",
       "      <td>...</td>\n",
       "      <td>...</td>\n",
       "      <td>...</td>\n",
       "      <td>...</td>\n",
       "    </tr>\n",
       "    <tr>\n",
       "      <th>4317</th>\n",
       "      <td>2</td>\n",
       "      <td>347</td>\n",
       "      <td>128</td>\n",
       "      <td>2</td>\n",
       "      <td>240</td>\n",
       "      <td>NURUL FIQRI SUDIRMAN als KIKI bin SUDIRMAN</td>\n",
       "      <td>Pada Jumat, 31 Maret 2023, sekitar pukul 20.30...</td>\n",
       "      <td>72.0</td>\n",
       "    </tr>\n",
       "    <tr>\n",
       "      <th>4318</th>\n",
       "      <td>0</td>\n",
       "      <td>361</td>\n",
       "      <td>117</td>\n",
       "      <td>2</td>\n",
       "      <td>84</td>\n",
       "      <td>SUPRIADI BIN RATIM</td>\n",
       "      <td>Pada hari Minggu, 28 Mei 2023, sekitar pukul 1...</td>\n",
       "      <td>16.0</td>\n",
       "    </tr>\n",
       "    <tr>\n",
       "      <th>4319</th>\n",
       "      <td>0</td>\n",
       "      <td>363</td>\n",
       "      <td>117</td>\n",
       "      <td>2</td>\n",
       "      <td>84</td>\n",
       "      <td>SUPRIADI BIN RATIM</td>\n",
       "      <td>Pada hari Minggu, 28 Mei 2023, sekitar pukul 1...</td>\n",
       "      <td>16.0</td>\n",
       "    </tr>\n",
       "    <tr>\n",
       "      <th>4320</th>\n",
       "      <td>0</td>\n",
       "      <td>361</td>\n",
       "      <td>117</td>\n",
       "      <td>2</td>\n",
       "      <td>84</td>\n",
       "      <td>ANWAR RURI BIN SYARIFUDIN USMAN</td>\n",
       "      <td>Pada hari Minggu, 28 Mei 2023, sekitar pukul 1...</td>\n",
       "      <td>16.0</td>\n",
       "    </tr>\n",
       "    <tr>\n",
       "      <th>4321</th>\n",
       "      <td>0</td>\n",
       "      <td>363</td>\n",
       "      <td>117</td>\n",
       "      <td>2</td>\n",
       "      <td>84</td>\n",
       "      <td>ANWAR RURI BIN SYARIFUDIN USMAN</td>\n",
       "      <td>Pada hari Minggu, 28 Mei 2023, sekitar pukul 1...</td>\n",
       "      <td>16.0</td>\n",
       "    </tr>\n",
       "  </tbody>\n",
       "</table>\n",
       "<p>4322 rows × 8 columns</p>\n",
       "</div>"
      ],
      "text/plain": [
       "      klasifikasi_perkara_encoded  penuntut_umum_encoded  hakim_encoded  \\\n",
       "0                               0                      0              0   \n",
       "1                               1                      1              1   \n",
       "2                               0                      0              2   \n",
       "3                               2                      2              1   \n",
       "4                               2                      3              1   \n",
       "...                           ...                    ...            ...   \n",
       "4317                            2                    347            128   \n",
       "4318                            0                    361            117   \n",
       "4319                            0                    363            117   \n",
       "4320                            0                    361            117   \n",
       "4321                            0                    363            117   \n",
       "\n",
       "      jumlah_saksi  maks_penjara_berdasarkan_pasal  \\\n",
       "0                6                              80   \n",
       "1                4                              48   \n",
       "2                6                              84   \n",
       "3                2                             144   \n",
       "4                2                             144   \n",
       "...            ...                             ...   \n",
       "4317             2                             240   \n",
       "4318             2                              84   \n",
       "4319             2                              84   \n",
       "4320             2                              84   \n",
       "4321             2                              84   \n",
       "\n",
       "                                        terdakwa  \\\n",
       "0                                 GEDE DARMAYASA   \n",
       "1                    IDA BAGUS MADE DARMA WIGUNA   \n",
       "2                                 HANDRI JOHANAS   \n",
       "3                     I GEDE ARIADI alias BERNAD   \n",
       "4                     I GEDE ARIADI alias BERNAD   \n",
       "...                                          ...   \n",
       "4317  NURUL FIQRI SUDIRMAN als KIKI bin SUDIRMAN   \n",
       "4318                          SUPRIADI BIN RATIM   \n",
       "4319                          SUPRIADI BIN RATIM   \n",
       "4320             ANWAR RURI BIN SYARIFUDIN USMAN   \n",
       "4321             ANWAR RURI BIN SYARIFUDIN USMAN   \n",
       "\n",
       "                                     summarized_dakwaan  \\\n",
       "0     Terdakwa Gede Darmayasa didakwa telah melakuka...   \n",
       "1     Pada bulan Februari dan Maret 2024, terdakwa I...   \n",
       "2     Terdakwa Handri Johanes pada Rabu, 24 April 20...   \n",
       "3     Pada hari Minggu, 14 April 2024 sekitar pukul ...   \n",
       "4     Pada hari Minggu, 14 April 2024 sekitar pukul ...   \n",
       "...                                                 ...   \n",
       "4317  Pada Jumat, 31 Maret 2023, sekitar pukul 20.30...   \n",
       "4318  Pada hari Minggu, 28 Mei 2023, sekitar pukul 1...   \n",
       "4319  Pada hari Minggu, 28 Mei 2023, sekitar pukul 1...   \n",
       "4320  Pada hari Minggu, 28 Mei 2023, sekitar pukul 1...   \n",
       "4321  Pada hari Minggu, 28 Mei 2023, sekitar pukul 1...   \n",
       "\n",
       "      total_pidana_penjara_bulan  \n",
       "0                            5.0  \n",
       "1                           24.0  \n",
       "2                            4.0  \n",
       "3                           14.0  \n",
       "4                           14.0  \n",
       "...                          ...  \n",
       "4317                        72.0  \n",
       "4318                        16.0  \n",
       "4319                        16.0  \n",
       "4320                        16.0  \n",
       "4321                        16.0  \n",
       "\n",
       "[4322 rows x 8 columns]"
      ]
     },
     "execution_count": 3,
     "metadata": {},
     "output_type": "execute_result"
    }
   ],
   "source": [
    "df"
   ]
  },
  {
   "cell_type": "code",
   "execution_count": 4,
   "metadata": {},
   "outputs": [
    {
     "name": "stdout",
     "output_type": "stream",
     "text": [
      "<class 'pandas.core.frame.DataFrame'>\n",
      "RangeIndex: 4322 entries, 0 to 4321\n",
      "Data columns (total 8 columns):\n",
      " #   Column                          Non-Null Count  Dtype  \n",
      "---  ------                          --------------  -----  \n",
      " 0   klasifikasi_perkara_encoded     4322 non-null   int64  \n",
      " 1   penuntut_umum_encoded           4322 non-null   int64  \n",
      " 2   hakim_encoded                   4322 non-null   int64  \n",
      " 3   jumlah_saksi                    4322 non-null   int64  \n",
      " 4   maks_penjara_berdasarkan_pasal  4322 non-null   int64  \n",
      " 5   terdakwa                        4322 non-null   object \n",
      " 6   summarized_dakwaan              4322 non-null   object \n",
      " 7   total_pidana_penjara_bulan      4322 non-null   float64\n",
      "dtypes: float64(1), int64(5), object(2)\n",
      "memory usage: 270.2+ KB\n"
     ]
    }
   ],
   "source": [
    "df.info()"
   ]
  },
  {
   "cell_type": "code",
   "execution_count": null,
   "metadata": {},
   "outputs": [],
   "source": [
    "df_filtered = df.drop(columns=['extracted_pasal'])"
   ]
  },
  {
   "cell_type": "markdown",
   "metadata": {},
   "source": [
    "### Split Data"
   ]
  },
  {
   "cell_type": "code",
   "execution_count": 5,
   "metadata": {},
   "outputs": [],
   "source": [
    "def stratified_split(df: pd.DataFrame, split_size: float = 0.8) -> tuple[pd.DataFrame, pd.DataFrame]:\n",
    "    unique_groups = df.groupby([\"klasifikasi_perkara_encoded\", \"penuntut_umum_encoded\", \"hakim_encoded\"]).apply(lambda x: x.index.tolist()).to_dict()\n",
    "    \n",
    "    print(unique_groups)\n",
    "    train_idx, test_idx = [], []\n",
    "    \n",
    "    for indices in unique_groups.values():        \n",
    "        if len(indices) == 1:\n",
    "            train_idx.extend(indices)\n",
    "        else:\n",
    "            train, test = train_test_split(indices, train_size=split_size, random_state=42)\n",
    "            train_idx.extend(train)\n",
    "            test_idx.extend(test)\n",
    "    \n",
    "    return df.loc[train_idx], df.loc[test_idx]"
   ]
  },
  {
   "cell_type": "code",
   "execution_count": 7,
   "metadata": {},
   "outputs": [
    {
     "name": "stderr",
     "output_type": "stream",
     "text": [
      "C:\\Users\\Kalea\\AppData\\Local\\Temp\\ipykernel_37836\\635274658.py:2: DeprecationWarning: DataFrameGroupBy.apply operated on the grouping columns. This behavior is deprecated, and in a future version of pandas the grouping columns will be excluded from the operation. Either pass `include_groups=False` to exclude the groupings or explicitly select the grouping columns after groupby to silence this warning.\n",
      "  unique_groups = df.groupby([\"klasifikasi_perkara_encoded\", \"penuntut_umum_encoded\", \"hakim_encoded\"]).apply(lambda x: x.index.tolist()).to_dict()\n"
     ]
    },
    {
     "name": "stdout",
     "output_type": "stream",
     "text": [
      "{(0, 0, 0): [0, 20], (0, 0, 2): [2], (0, 1, 0): [19], (0, 1, 4): [35, 36], (0, 4, 1): [5], (0, 4, 3): [10], (0, 7, 1): [9], (0, 8, 0): [15, 17], (0, 9, 0): [16, 18], (0, 11, 4): [22, 23], (0, 13, 0): [32], (0, 13, 3): [34], (0, 15, 4): [33], (0, 16, 0): [37], (0, 17, 0): [38], (0, 17, 14): [437, 501, 595, 609], (0, 17, 16): [422], (0, 17, 18): [474, 665], (0, 17, 19): [783, 784, 785, 786], (0, 17, 20): [432, 438, 518, 578, 608, 724, 745], (0, 17, 21): [639, 822], (0, 18, 0): [39], (0, 19, 0): [40, 41], (0, 20, 0): [42], (0, 22, 7): [46], (0, 26, 10): [52, 54], (0, 27, 10): [136, 152, 172], (0, 27, 11): [75, 104], (0, 27, 12): [173], (0, 27, 14): [119], (0, 28, 10): [100, 147], (0, 28, 11): [55], (0, 29, 10): [56], (0, 30, 10): [57, 94], (0, 30, 12): [90], (0, 31, 9): [58], (0, 31, 10): [106, 107, 109], (0, 31, 12): [96, 97], (0, 32, 10): [59, 60, 61], (0, 32, 12): [101, 102], (0, 33, 10): [174], (0, 33, 14): [144, 162, 163, 164, 166, 177], (0, 34, 10): [63, 91, 92, 93], (0, 34, 11): [65], (0, 34, 12): [80, 175, 176], (0, 35, 12): [70, 71], (0, 37, 10): [78], (0, 37, 11): [73, 81, 89], (0, 38, 12): [110, 111], (0, 38, 15): [170], (0, 39, 12): [105, 128], (0, 40, 15): [183], (0, 41, 10): [153], (0, 42, 10): [294, 360, 387], (0, 42, 16): [291, 320, 329, 365], (0, 42, 19): [722], (0, 43, 10): [141, 165, 178], (0, 43, 12): [112], (0, 43, 14): [120], (0, 44, 10): [289, 312, 316, 348, 349], (0, 44, 14): [186, 187, 420, 421, 574, 587], (0, 44, 16): [304, 305, 306, 331, 346, 347, 362, 363], (0, 44, 17): [388], (0, 44, 18): [442, 657, 664, 711], (0, 44, 19): [495, 604], (0, 44, 20): [493, 636], (0, 44, 21): [700, 701], (0, 49, 10): [206, 212, 261, 264], (0, 49, 12): [142], (0, 49, 13): [288], (0, 50, 12): [133], (0, 51, 10): [134], (0, 52, 12): [145], (0, 52, 14): [149, 151], (0, 55, 12): [179], (0, 57, 14): [148, 150], (0, 61, 15): [182], (0, 62, 10): [241, 268, 269, 270, 271], (0, 62, 14): [259, 381, 415, 416], (0, 62, 16): [386], (0, 62, 19): [548, 762], (0, 62, 20): [725], (0, 62, 22): [719], (0, 64, 10): [330], (0, 64, 16): [296], (0, 65, 10): [198, 282, 283], (0, 65, 12): [201], (0, 65, 17): [364], (0, 66, 14): [260], (0, 67, 12): [195], (0, 68, 10): [196, 369], (0, 68, 14): [374, 403, 449, 450], (0, 68, 16): [402], (0, 68, 19): [584, 585, 769], (0, 68, 20): [737], (0, 68, 21): [586, 815, 816, 817, 842], (0, 69, 10): [199, 250, 251, 252, 253], (0, 69, 12): [200], (0, 69, 14): [232], (0, 69, 16): [265], (0, 71, 10): [303], (0, 71, 14): [538, 545, 577, 621], (0, 71, 16): [308, 314, 315, 383, 417], (0, 71, 18): [654, 655, 656], (0, 71, 20): [446, 570, 571, 572, 573, 690], (0, 72, 10): [352], (0, 72, 16): [324, 325, 326, 384, 385], (0, 73, 10): [211, 242, 243], (0, 73, 12): [236, 237, 238, 239], (0, 74, 10): [380], (0, 74, 14): [327, 328], (0, 74, 16): [338], (0, 75, 14): [221, 222, 223, 224, 517, 614], (0, 75, 19): [459, 460, 461, 509, 510, 511, 632, 781, 782], (0, 75, 20): [433], (0, 75, 21): [645, 746], (0, 75, 23): [810, 834], (0, 75, 48): [1258, 1260], (0, 78, 10): [318, 333, 334, 368], (0, 78, 13): [292], (0, 78, 14): [332, 337, 339, 343, 356, 357, 358, 397, 406, 482, 483], (0, 78, 16): [275, 276, 277, 302, 317, 336, 359, 367], (0, 78, 19): [440, 479, 593, 598], (0, 78, 20): [434, 454, 475, 498, 507, 559, 591, 592, 602, 603, 686], (0, 78, 21): [557], (0, 78, 22): [721], (0, 79, 16): [389], (0, 79, 17): [366], (0, 80, 10): [379], (0, 80, 19): [534, 535], (0, 81, 14): [430, 533, 554, 555, 556, 590], (0, 81, 18): [651, 652], (0, 81, 19): [425, 426, 429, 547, 580, 635, 643], (0, 81, 20): [448, 480, 481, 513, 514, 530, 531, 607, 622], (0, 81, 21): [628, 647, 771], (0, 82, 14): [408, 524, 540], (0, 82, 18): [753, 796], (0, 82, 19): [494, 508, 560, 561, 562, 588], (0, 82, 20): [455, 581], (0, 82, 21): [631, 641], (0, 83, 14): [610], (0, 83, 16): [409], (0, 83, 19): [500, 799, 800], (0, 83, 20): [476], (0, 83, 21): [638], (0, 84, 14): [484, 485], (0, 84, 20): [566, 567, 568, 738, 780], (0, 84, 21): [616, 841], (0, 84, 22): [699], (0, 85, 14): [539, 615], (0, 85, 18): [424, 528], (0, 85, 20): [523, 712], (0, 85, 21): [640, 648, 649], (0, 86, 14): [550], (0, 86, 19): [714, 730, 731, 732, 733, 736], (0, 86, 20): [716, 750], (0, 86, 21): [840], (0, 87, 14): [543], (0, 87, 20): [596, 597, 629, 718, 795], (0, 87, 21): [787, 788], (0, 87, 22): [734], (0, 87, 23): [835], (0, 88, 19): [627, 814], (0, 88, 20): [630], (0, 89, 19): [775, 776, 813], (0, 89, 21): [774], (0, 89, 22): [715], (0, 89, 23): [806], (0, 91, 18): [653], (0, 91, 21): [791, 792], (0, 92, 19): [831], (0, 92, 20): [759], (0, 93, 19): [765, 766], (0, 93, 20): [740, 741], (0, 93, 21): [767], (0, 95, 19): [761, 809], (0, 95, 21): [763, 829], (0, 97, 19): [794], (0, 97, 20): [777], (0, 99, 18): [789], (0, 99, 21): [826], (0, 101, 23): [807], (0, 103, 21): [819], (0, 105, 23): [827], (0, 106, 21): [843], (0, 107, 26): [860], (0, 107, 31): [886, 907], (0, 109, 30): [871, 872], (0, 110, 28): [885], (0, 115, 29): [870], (0, 116, 31): [915, 953], (0, 116, 34): [937], (0, 116, 36): [939, 1000], (0, 119, 28): [868], (0, 119, 31): [879], (0, 121, 32): [877], (0, 122, 32): [880], (0, 125, 30): [890], (0, 125, 32): [904], (0, 129, 31): [916], (0, 129, 34): [947, 987], (0, 129, 35): [991], (0, 129, 36): [980, 981, 999], (0, 129, 39): [995], (0, 129, 40): [996], (0, 132, 33): [900, 901, 902, 903], (0, 135, 28): [914], (0, 135, 34): [912, 922, 938], (0, 135, 36): [940], (0, 136, 28): [913], (0, 136, 34): [911, 921], (0, 137, 31): [969, 971], (0, 137, 34): [946], (0, 137, 35): [990], (0, 137, 36): [998], (0, 137, 37): [1025, 1026], (0, 137, 43): [1022], (0, 138, 31): [923], (0, 139, 31): [924], (0, 140, 31): [970, 972], (0, 141, 36): [956, 958, 960], (0, 144, 31): [943], (0, 145, 31): [944], (0, 146, 31): [945], (0, 147, 36): [955, 957, 959, 1006], (0, 147, 40): [997], (0, 148, 36): [979, 1001, 1007], (0, 149, 31): [954], (0, 149, 37): [1044], (0, 150, 35): [961], (0, 150, 36): [1008], (0, 150, 37): [992], (0, 151, 35): [962], (0, 151, 36): [1009], (0, 152, 34): [986], (0, 153, 38): [993, 994], (0, 158, 37): [1052], (0, 159, 37): [1038, 1043, 1053], (0, 159, 42): [1030], (0, 161, 43): [1036], (0, 162, 37): [1037], (0, 166, 45): [1056], (0, 166, 47): [1208], (0, 166, 48): [1193], (0, 167, 45): [1057], (0, 168, 45): [1058, 1122, 1134, 1136], (0, 168, 46): [1077, 1197, 1199], (0, 169, 45): [1059, 1064], (0, 169, 47): [1076], (0, 169, 48): [1118, 1120, 1138], (0, 170, 45): [1106], (0, 170, 47): [1097, 1099, 1394, 1396, 1400], (0, 170, 48): [1140, 1216, 1293, 1299, 1313, 1317, 1426], (0, 170, 49): [1380], (0, 171, 45): [1148], (0, 171, 47): [1062, 1063], (0, 172, 45): [1065], (0, 173, 46): [1066], (0, 173, 47): [1226, 1228, 1410], (0, 173, 48): [1254], (0, 174, 46): [1067], (0, 175, 45): [1068, 1069, 1070], (0, 175, 48): [1119, 1121, 1139], (0, 176, 46): [1257], (0, 176, 47): [1399], (0, 176, 48): [1292], (0, 177, 46): [1175], (0, 177, 47): [1075, 1201], (0, 178, 46): [1078], (0, 178, 48): [1145], (0, 179, 46): [1081, 1191], (0, 179, 47): [1207], (0, 180, 46): [1082, 1192], (0, 180, 47): [1098], (0, 180, 48): [1141], (0, 181, 45): [1151], (0, 182, 45): [1123, 1135, 1137], (0, 182, 47): [1110, 1112], (0, 185, 48): [1144, 1204], (0, 186, 45): [1107], (0, 186, 47): [1100], (0, 186, 48): [1404], (0, 186, 49): [1327, 1329, 1331, 1333, 1335, 1422, 1447, 1458], (0, 186, 50): [1450, 1453, 1456], (0, 187, 47): [1111, 1113], (0, 188, 48): [1160, 1196], (0, 189, 45): [1147, 1152], (0, 189, 46): [1198, 1200, 1230, 1296], (0, 189, 48): [1195, 1249, 1253, 1256], (0, 190, 48): [1236, 1387, 1433, 1435, 1437, 1439], (0, 191, 46): [1282, 1320], (0, 191, 47): [1409], (0, 191, 48): [1159, 1203, 1255, 1381], (0, 191, 49): [1356], (0, 192, 48): [1169], (0, 193, 48): [1170, 1217], (0, 196, 46): [1176, 1229, 1303, 1305], (0, 196, 47): [1202], (0, 196, 48): [1248, 1259, 1261, 1324, 1388], (0, 196, 50): [1449, 1452, 1455], (0, 197, 47): [1209], (0, 197, 48): [1194], (0, 199, 48): [1237, 1250], (0, 200, 46): [1283], (0, 200, 47): [1225, 1227], (0, 200, 48): [1382], (0, 203, 48): [1285], (0, 204, 46): [1302, 1304], (0, 204, 47): [1393, 1395], (0, 204, 48): [1284, 1298, 1312, 1316, 1403, 1425], (0, 205, 46): [1297, 1321], (0, 205, 47): [1424], (0, 205, 48): [1325, 1434, 1436, 1438, 1440], (0, 205, 49): [1357], (0, 206, 49): [1326, 1328, 1330, 1332, 1334, 1446, 1457], (0, 206, 50): [1448, 1451, 1454], (0, 207, 47): [1423], (0, 207, 48): [1389], (0, 207, 49): [1421], (0, 208, 49): [1379], (0, 212, 23): [1461], (0, 212, 51): [1530, 1534, 1551, 1553, 1574], (0, 212, 53): [1477, 1479], (0, 213, 23): [1462], (0, 213, 51): [1547], (0, 214, 51): [1463, 1485], (0, 215, 51): [1464, 1595], (0, 215, 54): [1499], (0, 215, 55): [1638, 1640], (0, 216, 51): [1471], (0, 216, 53): [1621], (0, 216, 55): [1613, 1615, 1639, 1641, 1646], (0, 218, 51): [1472, 1506, 1508, 1510, 1519, 1531, 1535], (0, 218, 53): [1478, 1480], (0, 218, 54): [1496, 1500], (0, 219, 51): [1575, 1579, 1592], (0, 219, 54): [1495], (0, 219, 55): [1580, 1598, 1603, 1604], (0, 220, 51): [1486], (0, 220, 55): [1582, 1589, 1599], (0, 221, 55): [1611], (0, 221, 57): [1629, 1631], (0, 222, 51): [1518, 1593], (0, 223, 54): [1543, 1545, 1573], (0, 224, 51): [1505, 1507, 1509], (0, 225, 54): [1542, 1544, 1648], (0, 225, 55): [1577, 1645], (0, 226, 55): [1522], (0, 227, 55): [1523], (0, 228, 51): [1546, 1550, 1552], (0, 228, 54): [1558], (0, 228, 55): [1554], (0, 229, 51): [1578, 1594], (0, 229, 53): [1620], (0, 229, 54): [1559, 1572, 1647], (0, 229, 55): [1555, 1560, 1576, 1581, 1588, 1602, 1610, 1612, 1614], (0, 229, 56): [1583], (0, 229, 57): [1628, 1630], (0, 230, 55): [1561], (0, 231, 55): [1605], (0, 243, 62): [1674, 1680], (0, 243, 63): [1678], (0, 244, 62): [1677], (0, 244, 67): [1720, 1726, 1727], (0, 245, 62): [1722, 1732], (0, 246, 62): [1694, 1714], (0, 247, 62): [1707], (0, 247, 63): [1715, 1716, 1717, 1718], (0, 247, 67): [1734], (0, 251, 62): [1724], (0, 251, 65): [1696], (0, 251, 67): [1742], (0, 251, 69): [1709, 1710], (0, 252, 67): [1703], (0, 253, 62): [1704], (0, 257, 71): [1744], (0, 258, 71): [1745], (0, 259, 72): [1748], (0, 262, 73): [1788, 1789, 1790], (0, 262, 77): [1797], (0, 262, 78): [1796], (0, 263, 73): [1803, 1823, 1827, 1841, 1850, 1871, 1872, 1894], (0, 263, 74): [1802, 1818, 1824, 1832, 1833, 1834, 1838, 1839, 1844, 1849, 1851, 1870, 1875, 1878, 1884, 1889, 1901], (0, 263, 75): [1770], (0, 263, 76): [1759], (0, 264, 73): [1775, 1783, 1786], (0, 264, 74): [1817, 1819], (0, 264, 75): [1765], (0, 265, 73): [1761, 1762, 1763, 1764, 1778], (0, 266, 74): [1766], (0, 268, 74): [1771, 1873, 1893], (0, 269, 73): [1829], (0, 269, 74): [1777, 1793, 1794, 1813, 1814, 1836, 1903], (0, 271, 74): [1887, 1888], (0, 272, 73): [1848], (0, 272, 74): [1845, 1847, 1898], (0, 274, 73): [1890], (0, 275, 74): [1902], (0, 276, 74): [1904, 1905, 1912], (0, 276, 77): [2003], (0, 276, 79): [2014, 2027, 2028, 2031], (0, 276, 80): [2036, 2037], (0, 276, 81): [2112], (0, 276, 82): [2113], (0, 276, 83): [2132, 2252], (0, 276, 84): [2157, 2212, 2213], (0, 276, 86): [2211, 2241], (0, 277, 73): [1908, 1939], (0, 277, 74): [1906, 1915, 1931], (0, 277, 75): [1967, 1971, 1972, 1982, 2011, 2016, 2017], (0, 277, 77): [1966], (0, 277, 78): [1947, 1999], (0, 277, 81): [2077, 2117], (0, 277, 82): [2062, 2171, 2185, 2513], (0, 277, 84): [2208, 2306, 2342, 2446, 2459, 2488], (0, 277, 86): [2216, 2236, 2237, 2462], (0, 277, 88): [2353, 2378, 2416], (0, 277, 90): [2483], (0, 278, 75): [1948, 1980], (0, 278, 77): [2054], (0, 278, 78): [1979], (0, 278, 80): [2061], (0, 278, 81): [2057, 2089], (0, 278, 82): [2056, 2121, 2136], (0, 278, 83): [2234], (0, 278, 84): [2239, 2240, 2298, 2341], (0, 278, 86): [2220, 2235], (0, 279, 75): [2019], (0, 279, 77): [2055], (0, 279, 78): [1981], (0, 279, 81): [2118], (0, 280, 18): [2517], (0, 280, 73): [1929], (0, 280, 75): [1975], (0, 280, 78): [2004], (0, 280, 80): [2045], (0, 280, 81): [2068, 2115], (0, 280, 82): [2078, 2079, 2133, 2134, 2166], (0, 280, 84): [2174, 2189, 2197, 2198, 2283, 2284, 2346, 2347, 2411, 2493, 2509], (0, 280, 86): [2442, 2505, 2510], (0, 280, 87): [2474], (0, 280, 88): [2368, 2436, 2495, 2496], (0, 281, 73): [1913, 1914], (0, 281, 75): [2008], (0, 281, 81): [2052, 2070, 2071, 2091, 2092], (0, 281, 82): [2075, 2101, 2114, 2129, 2161], (0, 281, 83): [2202], (0, 281, 84): [2170, 2186, 2516], (0, 281, 86): [2214, 2274, 2514, 2515], (0, 281, 87): [2256, 2450], (0, 282, 74): [1925], (0, 283, 73): [1927, 1928, 1950, 1951, 1974], (0, 283, 75): [1962, 1996], (0, 283, 78): [1986, 2002], (0, 283, 79): [2038, 2039, 2040], (0, 283, 81): [2120], (0, 283, 82): [2058, 2059, 2065], (0, 283, 83): [2130, 2238], (0, 283, 84): [2183, 2255, 2317, 2432], (0, 283, 85): [2187], (0, 283, 86): [2215, 2299, 2300, 2310, 2311, 2354], (0, 283, 87): [2360], (0, 283, 88): [2336, 2437], (0, 283, 89): [2420, 2421, 2422], (0, 284, 73): [1930], (0, 284, 75): [1958, 1970], (0, 284, 81): [2109, 2127], (0, 284, 82): [2066], (0, 284, 83): [2273], (0, 284, 86): [2286], (0, 284, 88): [2349, 2473, 2502, 2503, 2504], (0, 285, 73): [1984], (0, 285, 75): [2015], (0, 285, 77): [1991, 1992], (0, 285, 78): [2009], (0, 285, 80): [2046, 2063], (0, 285, 81): [2060, 2094], (0, 286, 75): [2029, 2030], (0, 286, 78): [1993, 1994], (0, 286, 81): [2069], (0, 287, 75): [2000], (0, 287, 78): [1995], (0, 287, 81): [2097, 2098, 2099], (0, 287, 82): [2076], (0, 288, 77): [2053], (0, 289, 82): [2067], (0, 290, 84): [2279], (0, 291, 82): [2151], (0, 291, 83): [2291], (0, 291, 84): [2173, 2204, 2334, 2438], (0, 291, 86): [2424], (0, 291, 87): [2454], (0, 291, 88): [2313, 2318, 2321, 2322, 2333, 2340, 2379, 2390], (0, 291, 89): [2439], (0, 291, 90): [2466], (0, 292, 83): [2269], (0, 292, 86): [2477], (0, 293, 84): [2358], (0, 294, 83): [2261, 2307], (0, 294, 84): [2409, 2441], (0, 294, 86): [2275, 2343, 2478, 2484], (0, 294, 87): [2464], (0, 294, 88): [2370, 2388, 2410, 2440, 2470, 2475], (0, 295, 18): [2522], (0, 295, 84): [2265, 2312], (0, 295, 86): [2294, 2295, 2348, 2412, 2507], (0, 295, 88): [2506], (0, 296, 82): [2512], (0, 296, 83): [2288, 2289], (0, 296, 84): [2418], (0, 296, 86): [2425], (0, 296, 88): [2387, 2458], (0, 297, 84): [2293], (0, 297, 86): [2314, 2315, 2316], (0, 298, 84): [2345, 2399], (0, 298, 86): [2335, 2520, 2523], (0, 298, 88): [2369, 2435, 2480], (0, 299, 84): [2359, 2365, 2392, 2430], (0, 299, 86): [2331], (0, 299, 87): [2426, 2427, 2428, 2429], (0, 299, 88): [2413], (0, 300, 84): [2415], (0, 302, 88): [2482], (0, 303, 86): [2508], (0, 305, 92): [2526, 2527], (0, 305, 95): [2544], (0, 305, 100): [2535, 2536], (0, 306, 93): [2528], (0, 306, 97): [2558], (0, 309, 111): [2559], (0, 312, 99): [2534], (0, 312, 104): [2563, 2564], (0, 313, 101): [2537], (0, 314, 95): [2541], (0, 316, 103): [2542], (0, 316, 110): [2557], (0, 319, 100): [2546], (0, 320, 105): [2547], (0, 321, 106): [2548], (0, 322, 98): [2549, 2550], (0, 324, 100): [2566], (0, 325, 112): [2570], (0, 326, 94): [2565], (0, 334, 115): [2582], (0, 334, 116): [2780, 2782, 2784, 2786], (0, 334, 120): [2672], (0, 334, 121): [2701], (0, 334, 123): [2637], (0, 334, 126): [2774], (0, 334, 128): [2639, 2691], (0, 334, 129): [2676], (0, 335, 115): [2583], (0, 335, 116): [2781, 2783, 2785, 2787], (0, 335, 117): [2609], (0, 335, 118): [2595, 2597, 2599], (0, 335, 120): [2673], (0, 335, 122): [2611, 2613], (0, 335, 123): [2638], (0, 335, 124): [2731], (0, 335, 126): [2775], (0, 335, 127): [3150, 3151], (0, 335, 128): [2640, 2692], (0, 335, 129): [2677], (0, 336, 115): [2744, 2968, 2970, 3110, 3112], (0, 336, 116): [2584, 2718, 2720, 3068], (0, 336, 117): [2628], (0, 336, 119): [2822, 2855, 2928], (0, 336, 120): [2879], (0, 336, 121): [3156], (0, 336, 122): [2930, 2932, 2934, 2936, 2974, 2976], (0, 336, 124): [2620], (0, 336, 125): [2622], (0, 336, 127): [2748, 2750, 2883, 2885, 2887], (0, 336, 130): [2708, 2710], (0, 336, 131): [2668, 2823, 2988, 3000, 3002, 3040], (0, 336, 132): [2841], (0, 336, 133): [2986], (0, 336, 134): [2998], (0, 337, 116): [2585, 2918], (0, 337, 118): [2742], (0, 337, 121): [2762, 2992], (0, 337, 125): [2996], (0, 337, 127): [2749, 2751], (0, 337, 129): [2796, 2961, 2963, 2980], (0, 337, 130): [2709, 2711, 2914, 2916], (0, 338, 121): [2670], (0, 338, 123): [2734], (0, 338, 124): [2972, 3335, 3337, 3339], (0, 338, 126): [3416, 3418, 3420, 3422], (0, 338, 127): [3391, 3409], (0, 338, 133): [3544], (0, 338, 134): [3447], (0, 338, 136): [3488], (0, 339, 115): [3547], (0, 339, 117): [3581], (0, 339, 120): [3219], (0, 339, 121): [2671], (0, 339, 123): [3404], (0, 339, 124): [2973], (0, 339, 125): [2874, 3213, 3215], (0, 339, 127): [3073], (0, 339, 133): [3217, 3545], (0, 342, 115): [2851], (0, 342, 116): [3316], (0, 342, 117): [2864, 3088], (0, 342, 118): [2594, 2596, 2598, 2853], (0, 342, 120): [3014], (0, 342, 121): [2702, 3370], (0, 342, 124): [2730], (0, 342, 126): [2865, 3209], (0, 342, 128): [3090], (0, 342, 130): [2770], (0, 343, 115): [2969, 2971], (0, 343, 117): [2608, 2629, 2792, 2793], (0, 343, 119): [2600], (0, 343, 120): [2754, 2756, 2758, 2760, 2880], (0, 343, 121): [2924, 2925], (0, 343, 122): [2610, 2612, 2931, 2933, 2935, 2937, 2975, 2977], (0, 343, 127): [2884, 2886, 2888], (0, 343, 132): [2842], (0, 343, 133): [2987], (0, 344, 116): [2660, 3147], (0, 344, 117): [2715, 2717], (0, 344, 118): [3481], (0, 344, 119): [2601, 3175], (0, 344, 121): [2993], (0, 344, 125): [3301], (0, 344, 127): [3810], (0, 344, 129): [2797], (0, 344, 131): [3681], (0, 344, 135): [3883], (0, 344, 136): [2960], (0, 344, 138): [4003], (0, 345, 116): [2659, 2719, 2721, 2919, 3146], (0, 345, 117): [2714, 2716, 3580], (0, 345, 118): [2743], (0, 345, 119): [3174], (0, 345, 120): [2755, 2757, 2759, 2761], (0, 345, 121): [2763, 3109], (0, 345, 125): [2997, 4195], (0, 345, 127): [3753], (0, 345, 129): [2962, 2964, 2981], (0, 345, 130): [2915, 2917], (0, 345, 133): [3822], (0, 345, 135): [3882], (0, 345, 136): [2959, 3880], (0, 345, 138): [4002], (0, 346, 119): [3312], (0, 346, 121): [3371], (0, 346, 123): [2735, 3403], (0, 346, 127): [3072], (0, 346, 130): [3293, 3295], (0, 347, 115): [2927, 3555, 3557], (0, 347, 116): [4110, 4180, 4182], (0, 347, 117): [3229, 3806, 3808], (0, 347, 118): [3949], (0, 347, 119): [3929, 4314], (0, 347, 123): [3855], (0, 347, 124): [4007], (0, 347, 126): [4141], (0, 347, 127): [3977, 3979, 3981], (0, 347, 131): [2989, 4214, 4216], (0, 347, 133): [3857, 3983, 3985], (0, 347, 134): [4157], (0, 347, 135): [2949, 2951, 2953, 3265, 3267], (0, 347, 136): [4050, 4052, 4054, 4056, 4213], (0, 347, 137): [3772, 3804], (0, 347, 139): [4099], (0, 348, 115): [3299], (0, 348, 116): [3698, 3700, 3702, 3704], (0, 348, 117): [3884], (0, 348, 118): [3973, 3975], (0, 348, 123): [4281], (0, 348, 126): [4097], (0, 348, 128): [4279], (0, 348, 129): [3723, 3725], (0, 348, 134): [3919], (0, 348, 135): [3494], (0, 348, 136): [3377, 3379], (0, 349, 117): [3823], (0, 349, 118): [3948], (0, 349, 119): [3794, 3928, 4146], (0, 349, 123): [3854], (0, 349, 124): [3749, 4006], (0, 349, 125): [3870], (0, 349, 126): [4140], (0, 349, 127): [3976, 3978, 3980, 4044], (0, 349, 129): [4027, 4029, 4031, 4033], (0, 349, 130): [3930], (0, 349, 133): [3982, 3984], (0, 349, 135): [3264, 3266, 3764, 3766], (0, 349, 137): [3803], (0, 349, 139): [4098], (0, 350, 119): [2693, 2695], (0, 350, 122): [3087], (0, 351, 115): [2745], (0, 351, 119): [2694, 2696, 2856], (0, 351, 124): [2621], (0, 351, 125): [2623], (0, 351, 131): [2669, 2824, 3001, 3003], (0, 351, 135): [3059, 3061], (0, 352, 125): [2873], (0, 353, 126): [2666], (0, 354, 116): [3863], (0, 354, 117): [3885], (0, 354, 124): [3735], (0, 354, 126): [2667], (0, 354, 129): [3697], (0, 358, 115): [2926, 3458, 3554, 3556], (0, 358, 117): [3805, 3807], (0, 358, 118): [3707], (0, 358, 122): [3086], (0, 358, 123): [3011], (0, 358, 124): [3748], (0, 358, 125): [3942], (0, 358, 127): [3662], (0, 358, 133): [3856], (0, 358, 135): [2948, 2950, 2952], (0, 358, 136): [3376, 3378, 4049, 4051, 4053, 4055], (0, 359, 116): [3862], (0, 359, 117): [4142, 4144], (0, 359, 120): [3388], (0, 359, 124): [3734], (0, 359, 125): [4176], (0, 359, 126): [4234], (0, 359, 127): [4168, 4170], (0, 359, 128): [3423], (0, 359, 129): [3910, 3912, 4065], (0, 359, 130): [4018], (0, 359, 134): [3918, 4156], (0, 359, 135): [3493], (0, 359, 137): [3894, 3896, 4307], (0, 359, 138): [4305], (0, 359, 139): [4172], (0, 359, 140): [4255, 4257, 4259], (0, 360, 117): [3824], (0, 360, 126): [4235], (0, 361, 115): [3111, 3113, 3563], (0, 361, 116): [3069, 3317, 3500, 3629, 3631, 3927, 3969, 4181, 4183], (0, 361, 117): [3192, 3450, 4313, 4318, 4320], (0, 361, 118): [2894, 3280, 3591, 3593], (0, 361, 119): [3035, 3433, 4132, 4134, 4147, 4315], (0, 361, 120): [3015, 3643, 3645], (0, 361, 122): [3148], (0, 361, 123): [3128, 3130, 3132, 4282], (0, 361, 126): [3385, 3711], (0, 361, 127): [3327, 3329, 4045], (0, 361, 128): [2843, 3091, 3713, 3715, 4280], (0, 361, 129): [2979, 3696, 3911, 3913], (0, 361, 130): [2771, 3024, 3026], (0, 361, 131): [2896, 3275, 4215, 4217], (0, 361, 133): [2848, 3055, 3354, 3356, 3358], (0, 361, 134): [2860, 3277], (0, 361, 135): [3117, 3119, 3765, 3767, 4201], (0, 361, 136): [3125, 3881], (0, 361, 137): [3773, 4159], (0, 363, 115): [2852], (0, 363, 117): [3089, 3193, 3451, 4143, 4145, 4319, 4321], (0, 363, 118): [2854, 3281], (0, 363, 119): [3313, 4133, 4135], (0, 363, 122): [3149], (0, 363, 123): [3129, 3131, 3133], (0, 363, 124): [2850, 3159, 3161], (0, 363, 126): [2866, 4278], (0, 363, 127): [4169, 4171], (0, 363, 128): [2844], (0, 363, 130): [3025, 3027], (0, 363, 131): [2897], (0, 363, 133): [3355, 3357, 3359], (0, 363, 135): [4083], (0, 363, 139): [4173], (0, 363, 140): [4256, 4258, 4260], (0, 364, 115): [3524], (0, 364, 116): [3499], (0, 364, 117): [2863, 3595], (0, 364, 118): [2893], (0, 364, 119): [3034, 3432], (0, 364, 124): [2849], (0, 364, 126): [3208, 3384, 3710], (0, 364, 127): [3326, 3328], (0, 364, 129): [2978, 3431, 4026, 4028, 4030, 4032], (0, 364, 131): [3041], (0, 364, 133): [2847], (0, 364, 134): [2859, 2999, 3276, 3446], (0, 364, 135): [3116, 3118, 3522, 3534], (0, 364, 136): [3124], (0, 365, 120): [3688], (0, 365, 128): [4188, 4190], (0, 365, 130): [3640], (0, 365, 133): [3664, 3666], (0, 365, 135): [3677, 4289], (0, 366, 119): [2929], (0, 368, 125): [3212, 3214], (0, 368, 133): [3216], (0, 369, 115): [3298, 3562], (0, 369, 116): [4284], (0, 369, 118): [3006, 3008, 3706, 3972, 3974], (0, 369, 120): [3473, 3648], (0, 369, 121): [3472], (0, 369, 122): [3340, 3407], (0, 369, 123): [3010], (0, 369, 124): [4040], (0, 369, 125): [3411, 4013, 4015, 4139, 4194], (0, 369, 126): [4096, 4277], (0, 369, 127): [3809], (0, 369, 128): [3296, 3989], (0, 369, 129): [3722, 3724], (0, 369, 133): [3542], (0, 369, 134): [3632, 3634], (0, 369, 136): [3818, 3932, 3934], (0, 369, 137): [4158, 4179], (0, 369, 138): [3786, 3788, 3790, 3792, 3944], (0, 369, 139): [4058], (0, 369, 140): [4292], (0, 370, 116): [3699, 3701, 3703, 3705], (0, 370, 118): [3007, 3009], (0, 370, 122): [3408], (0, 370, 124): [3453, 3455], (0, 370, 125): [3412, 3943], (0, 370, 128): [3297], (0, 370, 131): [4268, 4270, 4272], (0, 370, 134): [4218, 4220], (0, 370, 136): [3933, 3935], (0, 370, 138): [3945], (0, 371, 116): [3775, 3777], (0, 371, 120): [3649, 4262, 4264, 4266], (0, 371, 121): [3157], (0, 371, 123): [3318, 3320], (0, 371, 127): [3410, 3663], (0, 371, 133): [3054, 3398], (0, 371, 134): [3633, 3635], (0, 371, 135): [3058, 3060], (0, 372, 116): [4111], (0, 372, 118): [3480], (0, 372, 119): [3795], (0, 372, 121): [3108], (0, 372, 124): [4041], (0, 372, 125): [3300, 3871], (0, 372, 127): [3678], (0, 372, 131): [3680], (0, 372, 133): [3821], (0, 372, 138): [3787, 3789, 3791, 3793], (0, 374, 115): [3182, 3184, 3546], (0, 374, 116): [3628, 3630, 3774, 3776, 3926, 3968, 4283], (0, 374, 117): [3228, 4202, 4312], (0, 374, 118): [3590, 3592], (0, 374, 120): [3218, 3389, 4261, 4263, 4265], (0, 374, 121): [3471], (0, 374, 123): [3970, 4245], (0, 374, 124): [3158, 3160, 3334, 3336, 3338, 3452, 3454], (0, 374, 125): [4012, 4014, 4138, 4177], (0, 374, 126): [3415, 3417, 3419, 3421], (0, 374, 127): [3752], (0, 374, 128): [3424, 3712, 3714, 3988, 4104, 4106], (0, 374, 129): [3430, 4066], (0, 374, 130): [3292, 3294], (0, 374, 131): [3274, 4016, 4267, 4269, 4271], (0, 374, 133): [3397, 3541], (0, 374, 134): [3690], (0, 374, 135): [3521, 3533, 3676, 4082, 4200], (0, 374, 136): [3817, 4212], (0, 374, 137): [3895, 3897, 4178], (0, 374, 138): [4306], (0, 374, 139): [4057], (0, 374, 140): [4291], (0, 375, 115): [3183, 3185], (0, 375, 117): [4203], (0, 375, 120): [3474], (0, 375, 123): [3319, 3321, 3971, 4246], (0, 375, 128): [4105, 4107], (0, 375, 130): [3931, 4019], (0, 375, 131): [4017], (0, 375, 134): [3691], (0, 375, 136): [3489], (0, 377, 122): [3341], (0, 378, 115): [3523], (0, 378, 117): [3594], (0, 378, 120): [3642, 3644], (0, 380, 120): [3689], (0, 380, 127): [3679], (0, 380, 128): [4189, 4191], (0, 380, 130): [3641], (0, 380, 133): [3665, 3667], (0, 380, 134): [4219, 4221], (0, 380, 135): [4290], (0, 380, 137): [4308], (1, 1, 1): [1], (1, 10, 0): [21], (1, 31, 11): [99], (1, 35, 11): [64], (1, 42, 9): [103], (1, 44, 10): [246], (1, 44, 14): [521], (1, 46, 10): [121], (1, 50, 13): [184], (1, 52, 10): [143], (1, 53, 14): [180], (1, 62, 13): [185], (1, 65, 10): [323], (1, 68, 14): [413], (1, 68, 18): [525, 544], (1, 68, 21): [751], (1, 69, 10): [218], (1, 71, 15): [290], (1, 71, 20): [687, 704], (1, 74, 14): [216, 217], (1, 75, 21): [644, 764], (1, 78, 20): [431, 793], (1, 80, 14): [551], (1, 81, 14): [412], (1, 83, 22): [720], (1, 84, 14): [496, 497], (1, 86, 14): [445], (1, 86, 21): [565], (1, 86, 23): [832], (1, 87, 18): [708], (1, 87, 22): [693], (1, 88, 20): [688], (1, 88, 21): [601, 743], (1, 91, 19): [752], (1, 97, 23): [833], (1, 103, 23): [820], (1, 111, 25): [852], (1, 112, 25): [853], (1, 113, 25): [854], (1, 113, 28): [888], (1, 114, 25): [855], (1, 115, 25): [856], (1, 118, 28): [861], (1, 120, 31): [878], (1, 170, 46): [1060], (1, 170, 48): [1349], (1, 176, 48): [1348], (1, 186, 46): [1235], (1, 186, 48): [1367], (1, 196, 49): [1340], (1, 202, 46): [1234], (1, 204, 48): [1366], (1, 205, 49): [1341], (1, 208, 48): [1347], (1, 212, 51): [1536], (1, 215, 55): [1649], (1, 216, 55): [1650], (1, 220, 51): [1537], (1, 231, 57): [1654], (1, 232, 57): [1653], (1, 238, 55): [1666], (1, 252, 73): [1830], (1, 254, 64): [1706], (1, 255, 62): [1741], (1, 259, 72): [1747], (1, 261, 74): [1876, 1877], (1, 262, 74): [1772, 1773], (1, 270, 74): [1785], (1, 275, 74): [1869], (1, 279, 73): [1926], (1, 279, 78): [1956], (1, 280, 75): [2005], (1, 280, 81): [2103], (1, 283, 75): [1945, 1989], (1, 283, 78): [1963], (1, 283, 86): [2302], (1, 284, 78): [1990], (1, 284, 83): [2074], (1, 284, 88): [2337], (1, 286, 84): [2181], (1, 290, 82): [2154, 2177], (1, 292, 83): [2203], (1, 295, 84): [2492], (1, 295, 86): [2501], (1, 295, 87): [2385], (1, 304, 92): [2524, 2525], (1, 307, 94): [2529], (1, 311, 98): [2533], (1, 324, 113): [2577], (1, 327, 101): [2567], (1, 336, 121): [2643, 2800], (1, 336, 124): [4128], (1, 336, 135): [3142], (1, 337, 123): [2923], (1, 338, 117): [2586], (1, 338, 118): [3172], (1, 338, 129): [3170], (1, 339, 117): [2587], (1, 339, 119): [3583], (1, 339, 135): [3143], (1, 342, 134): [3030], (1, 343, 121): [2801], (1, 345, 119): [3083], (1, 345, 121): [2644], (1, 345, 131): [3506], (1, 345, 134): [3889], (1, 346, 118): [3173], (1, 346, 129): [3171], (1, 346, 132): [3268], (1, 347, 120): [4121], (1, 347, 129): [4112], (1, 347, 134): [3426], (1, 347, 136): [3243], (1, 349, 119): [3582], (1, 349, 120): [2664], (1, 349, 123): [2922], (1, 349, 134): [3888], (1, 349, 135): [3668], (1, 350, 120): [2665], (1, 354, 119): [3498], (1, 354, 123): [4035], (1, 354, 124): [3540], (1, 354, 128): [2739, 3553], (1, 354, 130): [2878], (1, 358, 129): [3413], (1, 359, 119): [3497], (1, 359, 123): [3636, 4034], (1, 359, 128): [2738, 3552], (1, 361, 136): [3238], (1, 363, 122): [3441], (1, 363, 124): [4129], (1, 363, 134): [3031], (1, 363, 135): [3669], (1, 363, 136): [3239], (1, 364, 123): [3637], (1, 364, 131): [3754], (1, 365, 130): [2877], (1, 369, 123): [3892], (1, 369, 126): [4122, 4124], (1, 370, 126): [4123, 4125], (1, 370, 129): [3414], (1, 371, 120): [4120], (1, 371, 131): [3180], (1, 371, 134): [3425], (1, 371, 136): [3242], (1, 372, 116): [3348], (1, 372, 119): [3082], (1, 372, 129): [4113], (1, 372, 131): [3505, 3755], (1, 373, 116): [3349], (1, 373, 132): [3269], (1, 374, 119): [3572], (1, 374, 122): [3440], (1, 374, 124): [3539], (1, 374, 126): [3796], (1, 374, 127): [3503], (1, 374, 137): [3732, 3946], (1, 375, 115): [3323], (1, 375, 119): [3573], (1, 375, 127): [3504], (1, 375, 131): [3181], (1, 375, 137): [3733, 3947], (1, 376, 115): [3322], (1, 380, 123): [3893], (2, 2, 1): [3], (2, 3, 1): [4], (2, 4, 1): [6], (2, 5, 1): [7], (2, 5, 4): [25], (2, 6, 1): [8], (2, 10, 2): [27], (2, 12, 4): [24], (2, 13, 0): [26], (2, 13, 4): [28, 29], (2, 17, 19): [808], (2, 17, 20): [772], (2, 21, 5): [43, 44], (2, 21, 6): [45], (2, 25, 9): [51], (2, 25, 12): [88], (2, 25, 13): [127], (2, 27, 10): [53], (2, 27, 14): [123, 171], (2, 28, 10): [82], (2, 28, 12): [76], (2, 30, 11): [79], (2, 31, 10): [74], (2, 31, 11): [77], (2, 31, 12): [67, 68], (2, 32, 10): [83], (2, 33, 10): [62, 113, 115], (2, 34, 10): [181], (2, 35, 11): [69], (2, 36, 11): [66], (2, 37, 10): [72], (2, 38, 10): [125], (2, 38, 14): [169], (2, 39, 10): [160], (2, 39, 12): [87], (2, 39, 14): [122], (2, 40, 10): [126], (2, 40, 12): [95, 108], (2, 40, 13): [130], (2, 40, 14): [140, 154], (2, 41, 11): [98], (2, 42, 10): [193, 205, 215, 341, 342], (2, 42, 13): [227, 286, 293], (2, 42, 16): [299, 300, 340], (2, 43, 13): [159], (2, 44, 10): [114, 116, 191, 301, 313, 335], (2, 44, 12): [207], (2, 44, 13): [244, 255, 257], (2, 44, 14): [132, 228, 229, 247, 322, 382, 457, 478, 552, 553, 563, 564], (2, 44, 15): [297], (2, 44, 16): [311, 319], (2, 44, 17): [321, 392, 393, 394, 400, 401], (2, 44, 18): [443, 519, 666], (2, 44, 19): [439, 505], (2, 44, 20): [451, 452, 558], (2, 44, 21): [691], (2, 45, 10): [189], (2, 45, 12): [117], (2, 47, 10): [124], (2, 48, 14): [129], (2, 49, 10): [219, 230], (2, 49, 12): [208, 226], (2, 49, 13): [131, 267], (2, 49, 16): [281], (2, 51, 13): [161], (2, 51, 15): [168], (2, 53, 12): [135], (2, 54, 10): [158], (2, 54, 14): [137, 138, 156], (2, 55, 14): [139], (2, 56, 13): [146], (2, 58, 10): [155], (2, 59, 12): [157], (2, 60, 10): [167], (2, 62, 10): [371, 390], (2, 62, 12): [225], (2, 62, 13): [284], (2, 62, 14): [258, 354, 423], (2, 62, 19): [458], (2, 62, 21): [748], (2, 63, 10): [188], (2, 64, 14): [248], (2, 64, 17): [344, 345], (2, 65, 10): [192, 309], (2, 65, 12): [197], (2, 66, 20): [728], (2, 68, 13): [234, 235], (2, 68, 14): [233], (2, 68, 16): [287], (2, 68, 19): [825], (2, 69, 10): [220, 262], (2, 69, 13): [245, 279, 280], (2, 71, 10): [203, 204, 295, 310], (2, 71, 14): [353, 355, 427, 428, 444, 491], (2, 71, 15): [298], (2, 71, 18): [527, 668], (2, 71, 19): [637], (2, 71, 21): [605, 689], (2, 71, 22): [705], (2, 72, 14): [210], (2, 74, 13): [272, 273, 274], (2, 74, 16): [372, 378, 405], (2, 75, 14): [473, 594], (2, 75, 19): [453], (2, 75, 21): [546], (2, 75, 23): [838], (2, 77, 13): [263], (2, 78, 19): [536, 821], (2, 78, 21): [537], (2, 80, 14): [373, 532], (2, 81, 19): [447, 811], (2, 81, 21): [541, 773], (2, 82, 14): [623], (2, 82, 16): [410, 411], (2, 82, 18): [599, 600], (2, 82, 21): [611], (2, 82, 22): [729], (2, 82, 23): [803], (2, 83, 14): [526, 549], (2, 83, 20): [456], (2, 83, 21): [698], (2, 83, 22): [697], (2, 83, 23): [837], (2, 84, 14): [620], (2, 84, 16): [414], (2, 84, 18): [492, 702], (2, 84, 19): [502, 845], (2, 84, 20): [489, 503, 504, 606], (2, 84, 21): [589], (2, 85, 16): [419], (2, 85, 18): [499], (2, 86, 20): [727], (2, 87, 18): [650, 801], (2, 87, 19): [579], (2, 87, 20): [760], (2, 87, 21): [798], (2, 88, 14): [612], (2, 88, 21): [694], (2, 89, 14): [613, 619], (2, 89, 18): [633], (2, 89, 21): [646], (2, 89, 22): [695], (2, 91, 22): [717], (2, 92, 18): [659], (2, 92, 19): [744], (2, 92, 21): [805], (2, 92, 23): [836], (2, 93, 23): [846], (2, 94, 23): [839], (2, 95, 19): [844], (2, 96, 19): [768, 830], (2, 98, 18): [779], (2, 99, 19): [802], (2, 100, 23): [804], (2, 104, 23): [823], (2, 107, 24): [847], (2, 107, 31): [895], (2, 108, 24): [848], (2, 109, 25): [849], (2, 110, 26): [850, 851], (2, 110, 29): [864, 865], (2, 110, 30): [889], (2, 110, 31): [876, 896], (2, 111, 27): [857], (2, 113, 29): [881], (2, 114, 25): [862], (2, 116, 27): [858], (2, 117, 27): [859], (2, 117, 33): [899], (2, 119, 25): [863], (2, 120, 30): [867], (2, 122, 31): [884], (2, 123, 31): [882], (2, 124, 31): [883], (2, 126, 32): [891], (2, 127, 32): [892], (2, 128, 30): [893], (2, 129, 30): [894], (2, 129, 31): [905], (2, 129, 36): [935, 978], (2, 129, 44): [1039, 1040], (2, 130, 33): [897], (2, 131, 33): [898], (2, 133, 31): [906], (2, 133, 36): [936], (2, 137, 31): [919, 920], (2, 137, 35): [927, 948, 985, 989], (2, 137, 36): [918, 977], (2, 138, 31): [931, 933], (2, 139, 31): [932, 934], (2, 140, 35): [928], (2, 141, 35): [952], (2, 142, 35): [941], (2, 143, 35): [942], (2, 147, 35): [949, 951, 965, 967, 973, 975, 984, 988, 1002, 1004, 1016], (2, 147, 36): [1012, 1014], (2, 148, 35): [950, 966, 968, 974, 976], (2, 149, 43): [1024], (2, 153, 35): [1003, 1005, 1017], (2, 153, 36): [1013, 1015], (2, 154, 37): [1011], (2, 155, 43): [1041], (2, 157, 37): [1027], (2, 160, 37): [1031], (2, 160, 44): [1032], (2, 163, 37): [1042], (2, 168, 45): [1124], (2, 168, 46): [1165], (2, 168, 47): [1114, 1153, 1212, 1214, 1231, 1240], (2, 168, 48): [1126], (2, 169, 45): [1108], (2, 169, 47): [1079, 1103, 1143], (2, 170, 45): [1073, 1074], (2, 170, 46): [1178, 1270], (2, 170, 47): [1319, 1442], (2, 170, 48): [1146, 1287, 1301], (2, 170, 49): [1351, 1408, 1412], (2, 171, 45): [1096, 1102, 1125], (2, 171, 46): [1084, 1088, 1089], (2, 171, 47): [1061, 1080], (2, 173, 46): [1177], (2, 173, 47): [1278, 1280, 1311], (2, 173, 48): [1206, 1275, 1277, 1378], (2, 173, 49): [1353, 1355], (2, 174, 45): [1092, 1094], (2, 175, 46): [1072], (2, 176, 46): [1071, 1307], (2, 176, 47): [1279, 1281], (2, 176, 48): [1286, 1300, 1309], (2, 176, 49): [1350, 1411], (2, 177, 45): [1095, 1101], (2, 177, 46): [1087], (2, 177, 47): [1142, 1221, 1223], (2, 178, 47): [1156, 1158], (2, 179, 46): [1179], (2, 180, 46): [1180], (2, 180, 47): [1213, 1215], (2, 180, 48): [1211], (2, 181, 46): [1083], (2, 181, 47): [1183, 1185, 1187, 1189], (2, 182, 45): [1085], (2, 183, 45): [1086], (2, 184, 46): [1090], (2, 185, 45): [1091, 1093], (2, 185, 48): [1150, 1218], (2, 186, 46): [1271, 1273], (2, 186, 47): [1155, 1157, 1315, 1346, 1402, 1416, 1418], (2, 186, 48): [1359, 1406], (2, 186, 49): [1420], (2, 187, 45): [1105, 1109], (2, 187, 47): [1104, 1154], (2, 188, 46): [1166], (2, 188, 47): [1115, 1117, 1168, 1172, 1181], (2, 188, 48): [1127, 1173], (2, 189, 46): [1272], (2, 189, 47): [1116, 1129, 1131, 1133, 1167, 1241], (2, 189, 48): [1219], (2, 190, 47): [1128, 1130, 1132, 1360, 1362, 1364], (2, 191, 46): [1306], (2, 191, 47): [1310, 1413, 1427], (2, 191, 48): [1149, 1205, 1377, 1429, 1431], (2, 191, 49): [1352, 1354], (2, 193, 47): [1182], (2, 194, 47): [1171], (2, 195, 48): [1174, 1220], (2, 196, 46): [1288, 1290], (2, 196, 47): [1233, 1245], (2, 196, 48): [1251, 1294, 1368, 1370, 1376, 1398], (2, 196, 49): [1390], (2, 197, 47): [1184, 1186, 1188, 1190, 1246, 1263, 1265], (2, 198, 47): [1262, 1264], (2, 198, 48): [1210], (2, 199, 47): [1222, 1224], (2, 199, 48): [1252], (2, 200, 48): [1274, 1276, 1430, 1432], (2, 201, 47): [1232], (2, 202, 47): [1318], (2, 203, 47): [1247], (2, 204, 47): [1314, 1441], (2, 204, 48): [1308, 1397], (2, 204, 49): [1383, 1385, 1419], (2, 205, 46): [1289, 1291], (2, 205, 47): [1414, 1428], (2, 205, 48): [1295, 1369, 1371], (2, 205, 49): [1384, 1386], (2, 206, 47): [1415, 1417], (2, 206, 48): [1358, 1405], (2, 207, 47): [1345, 1361, 1363, 1365, 1401], (2, 207, 49): [1392], (2, 207, 50): [1444], (2, 208, 49): [1407], (2, 209, 49): [1391], (2, 210, 50): [1443], (2, 211, 50): [1445], (2, 212, 51): [1473, 1475, 1494], (2, 212, 52): [1468, 1470], (2, 212, 54): [1482, 1484], (2, 213, 51): [1465], (2, 213, 54): [1511], (2, 214, 51): [1487, 1489, 1538, 1540], (2, 214, 54): [1497], (2, 215, 51): [1584, 1586], (2, 215, 53): [1616], (2, 215, 57): [1633, 1635], (2, 216, 51): [1466, 1585, 1587, 1597, 1625], (2, 216, 54): [1512], (2, 216, 55): [1652], (2, 217, 51): [1493], (2, 217, 52): [1467, 1469], (2, 217, 54): [1481, 1483], (2, 217, 55): [1556], (2, 218, 54): [1492], (2, 219, 51): [1474, 1476, 1606, 1608, 1642], (2, 219, 55): [1568, 1590], (2, 219, 57): [1632, 1634], (2, 220, 51): [1607, 1609], (2, 220, 53): [1529], (2, 221, 51): [1488, 1490, 1515], (2, 221, 54): [1498, 1627], (2, 221, 55): [1501, 1503], (2, 222, 53): [1617], (2, 222, 54): [1491], (2, 222, 55): [1651], (2, 223, 51): [1516], (2, 223, 55): [1502, 1504], (2, 224, 51): [1539, 1541], (2, 224, 55): [1569, 1591], (2, 224, 57): [1622], (2, 225, 51): [1596], (2, 225, 55): [1549], (2, 225, 56): [1619], (2, 225, 57): [1623], (2, 226, 55): [1525, 1527], (2, 227, 55): [1548], (2, 228, 53): [1528], (2, 228, 55): [1524, 1526, 1564], (2, 229, 51): [1562], (2, 229, 54): [1626], (2, 229, 56): [1618], (2, 230, 51): [1563, 1624, 1656], (2, 230, 55): [1557, 1565], (2, 231, 51): [1644], (2, 232, 51): [1643], (2, 233, 51): [1655], (2, 235, 56): [1659, 1660], (2, 236, 55): [1664, 1665], (2, 236, 58): [1668], (2, 237, 59): [1662, 1663], (2, 239, 60): [1671], (2, 240, 60): [1669, 1670], (2, 241, 60): [1672], (2, 244, 62): [1699, 1729, 1740], (2, 244, 63): [1675, 1691, 1692], (2, 244, 65): [1711], (2, 244, 66): [1702], (2, 244, 67): [1725, 1731], (2, 245, 62): [1676, 1737], (2, 245, 63): [1700], (2, 245, 66): [1697, 1698, 1713], (2, 245, 67): [1723, 1733, 1736], (2, 246, 63): [1679], (2, 247, 62): [1681, 1682, 1685, 1686, 1687], (2, 247, 63): [1689], (2, 248, 62): [1683], (2, 248, 64): [1695], (2, 248, 69): [1719], (2, 249, 62): [1688, 1693, 1701], (2, 249, 64): [1712], (2, 250, 62): [1690], (2, 250, 68): [1708], (2, 252, 62): [1728, 1735], (2, 252, 73): [1757, 1758, 1769, 1800, 1801, 1812, 1840], (2, 254, 63): [1705], (2, 255, 62): [1738, 1739], (2, 256, 70): [1743], (2, 257, 72): [1746], (2, 260, 73): [1751, 1752], (2, 260, 74): [1866, 1867], (2, 260, 75): [1754, 1755], (2, 260, 77): [1860, 1861], (2, 261, 73): [1856], (2, 261, 74): [1753], (2, 261, 77): [1862, 1863, 1895, 1897], (2, 262, 73): [1880, 1881], (2, 262, 74): [1756, 1868], (2, 262, 77): [1795, 1846, 1883], (2, 264, 74): [1780, 1781], (2, 265, 73): [1774, 1807, 1810, 1811, 1821, 1822], (2, 265, 74): [1776, 1815, 1826], (2, 265, 75): [1779], (2, 265, 77): [1865], (2, 266, 73): [1806], (2, 266, 74): [1809], (2, 266, 77): [1787], (2, 267, 73): [1768], (2, 267, 74): [1767, 1816], (2, 268, 73): [1835], (2, 268, 74): [1805], (2, 269, 73): [1857, 1858, 1885, 1886], (2, 270, 74): [1828], (2, 271, 73): [1825, 1831, 1891], (2, 271, 74): [1798, 1799, 1854, 1855], (2, 274, 77): [1859, 1864], (2, 275, 73): [1879], (2, 276, 73): [1907, 1952, 1953, 1961], (2, 276, 77): [1973], (2, 276, 79): [2026], (2, 276, 81): [2073, 2084], (2, 276, 82): [2111, 2131, 2145, 2182], (2, 276, 83): [2242], (2, 276, 84): [2196], (2, 277, 83): [2249], (2, 277, 85): [2191], (2, 277, 86): [2371], (2, 277, 89): [2498], (2, 278, 73): [1916, 1954, 1968], (2, 278, 74): [1932], (2, 278, 75): [1985], (2, 278, 77): [1909], (2, 278, 79): [2043], (2, 278, 80): [2041], (2, 278, 82): [2138, 2144], (2, 278, 83): [2104, 2194, 2205, 2250, 2254, 2259, 2260], (2, 278, 84): [2149, 2168, 2169, 2221, 2243], (2, 278, 86): [2244], (2, 279, 73): [1910, 1942, 1943, 1944, 1949], (2, 279, 75): [1955, 2007], (2, 279, 78): [2006], (2, 279, 83): [2158], (2, 279, 84): [2199, 2262, 2271], (2, 279, 85): [2188, 2190], (2, 279, 86): [2287, 2330], (2, 279, 87): [2397, 2408], (2, 279, 89): [2380, 2394, 2402, 2403, 2404, 2405, 2414, 2431], (2, 280, 73): [1960], (2, 280, 74): [1911], (2, 280, 75): [1987, 1988], (2, 280, 78): [2010], (2, 280, 79): [2025], (2, 280, 82): [2105, 2139], (2, 280, 83): [2152, 2192], (2, 280, 84): [2363, 2384], (2, 280, 87): [2457], (2, 280, 89): [2393, 2519], (2, 280, 90): [2489], (2, 281, 73): [1941], (2, 281, 75): [2024], (2, 281, 79): [2012, 2013], (2, 281, 82): [2072, 2116, 2156], (2, 281, 83): [2096], (2, 281, 84): [2272], (2, 281, 86): [2251, 2319, 2320], (2, 281, 89): [2433, 2444, 2451, 2452], (2, 283, 80): [2042], (2, 283, 81): [2085], (2, 283, 82): [2143, 2164, 2165], (2, 283, 83): [2123, 2124, 2128], (2, 284, 84): [2163, 2178], (2, 284, 86): [2218, 2219, 2296], (2, 284, 87): [2381], (2, 284, 88): [2481], (2, 284, 89): [2447], (2, 285, 73): [1957, 1959, 1983], (2, 285, 75): [1977, 2001, 2022, 2023], (2, 285, 79): [2047], (2, 285, 81): [2050, 2083], (2, 286, 78): [1998], (2, 286, 79): [2044], (2, 286, 83): [2140, 2201, 2304], (2, 286, 86): [2267, 2268], (2, 286, 87): [2355], (2, 287, 82): [2090], (2, 289, 81): [2082], (2, 290, 82): [2122, 2162], (2, 290, 84): [2146, 2247, 2253, 2303, 2329], (2, 291, 82): [2160, 2180], (2, 291, 83): [2135, 2159, 2200, 2206, 2207], (2, 291, 86): [2217, 2305], (2, 291, 89): [2350, 2407, 2469], (2, 291, 90): [2511], (2, 292, 82): [2150], (2, 292, 83): [2179, 2184, 2193], (2, 292, 84): [2147, 2148, 2233, 2423], (2, 292, 86): [2326], (2, 292, 87): [2396, 2453], (2, 292, 89): [2356, 2357, 2406, 2449, 2467], (2, 293, 83): [2264, 2281, 2282, 2308], (2, 293, 84): [2225, 2226, 2227, 2285], (2, 293, 86): [2228, 2229, 2230], (2, 293, 87): [2327], (2, 293, 89): [2389], (2, 294, 84): [2362], (2, 294, 87): [2476], (2, 295, 84): [2401], (2, 295, 86): [2494], (2, 295, 87): [2471], (2, 295, 89): [2468], (2, 296, 86): [2266], (2, 298, 83): [2309], (2, 298, 84): [2301], (2, 298, 87): [2372, 2443], (2, 298, 89): [2455, 2460, 2461, 2486, 2487, 2499, 2500], (2, 298, 90): [2490, 2491], (2, 299, 84): [2361], (2, 300, 88): [2400], (2, 300, 89): [2398], (2, 301, 87): [2448], (2, 307, 98): [2573], (2, 308, 95): [2530], (2, 308, 101): [2575], (2, 308, 108): [2555, 2569], (2, 309, 96): [2531], (2, 310, 97): [2532], (2, 311, 94): [2560], (2, 313, 105): [2562], (2, 314, 99): [2538], (2, 315, 96): [2539], (2, 317, 104): [2543], (2, 317, 112): [2580], (2, 318, 95): [2545], (2, 321, 109): [2556], (2, 322, 94): [2579], (2, 324, 107): [2554], (2, 325, 101): [2561], (2, 328, 97): [2568], (2, 329, 99): [2571, 2572], (2, 330, 103): [2574], (2, 331, 112): [2576], (2, 332, 114): [2578], (2, 333, 109): [2581], (2, 336, 115): [2845], (2, 336, 116): [2642, 2699], (2, 336, 117): [2912, 3126], (2, 336, 118): [2737, 2778], (2, 336, 120): [2707, 2889], (2, 336, 121): [2614, 2954], (2, 336, 126): [2657], (2, 336, 127): [2815, 2817], (2, 336, 128): [2724], (2, 336, 129): [2806, 2990], (2, 336, 131): [2712, 2938, 3098, 3104], (2, 336, 132): [3050, 3186, 3188], (2, 336, 134): [2946, 3114], (2, 336, 136): [3135], (2, 337, 115): [2895], (2, 337, 119): [2805], (2, 337, 121): [2810, 2812, 2955], (2, 337, 123): [2798], (2, 337, 129): [2646], (2, 337, 131): [2746, 2747, 2836], (2, 337, 132): [3037, 3039], (2, 338, 115): [2589, 2697, 3044], (2, 338, 116): [2592], (2, 338, 117): [2590, 2685], (2, 338, 118): [2940], (2, 338, 119): [2626], (2, 338, 120): [3140, 3586], (2, 338, 121): [2606, 3513], (2, 338, 122): [2984], (2, 338, 123): [3144], (2, 338, 126): [2624], (2, 338, 129): [2703, 3258], (2, 338, 131): [2713], (2, 338, 132): [2831, 2833], (2, 338, 136): [3018, 3020], (2, 339, 115): [3045, 3225], (2, 339, 117): [2686], (2, 339, 118): [2830], (2, 339, 119): [3053], (2, 339, 120): [2605, 3587], (2, 339, 121): [2607, 3289, 3291, 3514], (2, 339, 122): [2682, 2985], (2, 339, 124): [2835, 3305, 3478], (2, 339, 127): [2680], (2, 339, 128): [2872], (2, 339, 129): [2765, 2767], (2, 339, 130): [2826, 3164], (2, 339, 131): [3285], (2, 339, 132): [2832, 2834], (2, 339, 136): [3019, 3021], (2, 340, 115): [2588], (2, 341, 116): [2593], (2, 341, 117): [2591], (2, 341, 125): [2655], (2, 341, 129): [2704], (2, 341, 130): [2654], (2, 342, 124): [3162], (2, 342, 125): [3255], (2, 342, 126): [3234], (2, 342, 127): [2772, 3032, 3256], (2, 342, 128): [3207], (2, 342, 129): [3259], (2, 342, 132): [3028], (2, 343, 115): [2698], (2, 343, 117): [2768, 2891], (2, 343, 118): [2779], (2, 343, 120): [2890, 2904], (2, 343, 121): [2615], (2, 343, 124): [2910], (2, 343, 125): [2776], (2, 343, 128): [2725], (2, 343, 129): [2645, 2764, 2766, 2807, 2991], (2, 344, 116): [2838], (2, 344, 122): [2958], (2, 344, 125): [4231], (2, 344, 126): [3829], (2, 344, 127): [4225], (2, 344, 128): [3831], (2, 344, 129): [3997], (2, 344, 132): [3363, 3365], (2, 344, 133): [3661], (2, 345, 116): [2837, 2965, 3306, 3917, 4021, 4023], (2, 345, 117): [2913], (2, 345, 119): [3310], (2, 345, 120): [3308, 3875], (2, 345, 121): [2811, 2813], (2, 345, 123): [2799, 2909, 3869, 4304], (2, 345, 124): [2648, 2650, 2652], (2, 345, 125): [3802], (2, 345, 126): [3828], (2, 345, 127): [3609, 4224], (2, 345, 128): [3657, 4302], (2, 345, 129): [3996], (2, 345, 131): [3565, 3611], (2, 345, 132): [3362, 3364, 3485], (2, 345, 133): [4227, 4252], (2, 345, 134): [3260, 3262, 4300], (2, 345, 136): [3369], (2, 345, 137): [3761, 3873], (2, 346, 117): [2690], (2, 346, 118): [2941], (2, 346, 119): [2627, 3492], (2, 346, 120): [2604, 3237], (2, 346, 121): [3491], (2, 346, 123): [3145], (2, 346, 124): [2647, 2649, 2651], (2, 346, 126): [3235], (2, 346, 127): [2679, 3257], (2, 346, 128): [2871], (2, 346, 130): [2825], (2, 346, 131): [2939], (2, 347, 117): [2862, 3271, 3273, 3405, 3569, 4069], (2, 347, 118): [3607, 4101], (2, 347, 119): [3954, 4071], (2, 347, 120): [3770], (2, 347, 122): [2795], (2, 347, 123): [2956, 3625], (2, 347, 124): [4242], (2, 347, 125): [3351, 3729], (2, 347, 126): [2674, 3017, 3153, 4048, 4073], (2, 347, 127): [3230, 3232, 4103, 4117], (2, 347, 128): [3878, 4075, 4317], (2, 347, 129): [3396, 3531, 3891, 3921, 4249], (2, 347, 130): [3538], (2, 347, 132): [3381, 3428], (2, 347, 133): [3905], (2, 347, 134): [4163], (2, 347, 135): [3303], (2, 347, 136): [4164], (2, 347, 138): [3837, 3953], (2, 348, 115): [2846], (2, 348, 116): [3227], (2, 348, 117): [3814, 3839, 4296], (2, 348, 118): [4008], (2, 348, 119): [3955], (2, 348, 122): [3283], (2, 348, 123): [2957, 3726], (2, 348, 124): [3043], (2, 348, 125): [3221], (2, 348, 126): [2658, 3867], (2, 348, 129): [3532], (2, 348, 130): [3782], (2, 348, 133): [3495, 3584], (2, 348, 135): [3223, 3685, 3730, 4294], (2, 348, 136): [3199], (2, 348, 137): [4248], (2, 349, 116): [3923, 3925], (2, 349, 117): [2661, 2861, 3270, 3272, 3571, 4068, 4295], (2, 349, 118): [2829, 3606, 4100], (2, 349, 119): [4070, 4205], (2, 349, 120): [3825, 3874, 4207], (2, 349, 122): [2681, 2794, 3154], (2, 349, 123): [4303], (2, 349, 124): [3530, 3566, 3589], (2, 349, 125): [3350, 3728], (2, 349, 126): [3016, 3152, 4047, 4072], (2, 349, 127): [4077, 4102, 4116], (2, 349, 128): [2903, 4074], (2, 349, 129): [3920, 4160, 4286], (2, 349, 130): [3101], (2, 349, 131): [3284, 4118], (2, 349, 132): [3380, 3427, 3484], (2, 349, 133): [3780, 3904], (2, 349, 134): [3995, 4162], (2, 349, 135): [3302], (2, 349, 137): [3872], (2, 349, 138): [3952], (2, 350, 117): [2662], (2, 350, 122): [2663, 3155], (2, 351, 125): [2777], (2, 351, 132): [3051, 3095], (2, 351, 133): [3097], (2, 351, 134): [2947], (2, 352, 117): [2769], (2, 352, 126): [2625], (2, 353, 116): [2633, 2641], (2, 353, 120): [2635], (2, 354, 116): [2634], (2, 354, 117): [4233], (2, 354, 118): [4187], (2, 354, 119): [2868, 2870, 3613, 3615, 3617, 3619], (2, 354, 120): [2636, 3247, 3457, 3899, 3907, 4153], (2, 354, 122): [3400], (2, 354, 123): [2727, 2729, 3487], (2, 354, 124): [3719], (2, 354, 126): [2821, 3245, 3671, 4209], (2, 354, 127): [3903], (2, 354, 128): [3549, 3551, 4127], (2, 354, 129): [3508], (2, 354, 130): [2803], (2, 354, 134): [3373, 3528, 4025], (2, 354, 135): [3991], (2, 354, 136): [4149], (2, 354, 137): [3861, 3941], (2, 354, 138): [4081], (2, 355, 130): [2653], (2, 356, 125): [2656], (2, 357, 117): [2689], (2, 357, 119): [2804], (2, 357, 126): [2675], (2, 357, 128): [2678], (2, 358, 115): [3248], (2, 358, 116): [2700, 4061], (2, 358, 117): [3768], (2, 358, 118): [3240], (2, 358, 119): [3332, 3815, 4204], (2, 358, 123): [3624], (2, 358, 124): [3588, 3901], (2, 358, 125): [3220], (2, 358, 127): [3366], (2, 358, 128): [2902, 4316], (2, 358, 129): [3395, 3599, 3890], (2, 358, 130): [3251, 3253], (2, 358, 131): [3963], (2, 358, 133): [4287], (2, 358, 134): [4184], (2, 358, 135): [3056, 3684, 3965, 3967], (2, 358, 136): [3198], (2, 358, 137): [4059], (2, 358, 138): [3836], (2, 359, 115): [3386], (2, 359, 116): [4020, 4022], (2, 359, 117): [4232], (2, 359, 118): [2736, 3886, 4186], (2, 359, 119): [2867, 2869, 3194, 3612, 3614, 3616, 3618], (2, 359, 120): [3898, 4152], (2, 359, 122): [3399], (2, 359, 123): [2726, 2728, 3486], (2, 359, 124): [3529, 3718, 4241], (2, 359, 125): [4078], (2, 359, 126): [2820, 3244, 3670, 3956, 4136, 4208], (2, 359, 127): [2814, 2816, 4010, 4076], (2, 359, 128): [3548, 3550, 3622], (2, 359, 129): [3914], (2, 359, 130): [2802, 3352, 3392], (2, 359, 131): [3672], (2, 359, 133): [2944], (2, 359, 134): [3372, 3527, 4024, 4154], (2, 359, 135): [3596], (2, 359, 136): [3134, 3674], (2, 359, 137): [3860, 3940], (2, 359, 138): [4080, 4253], (2, 360, 116): [3763], (2, 360, 120): [3246, 3456, 3826], (2, 360, 127): [3459, 3902], (2, 360, 128): [4126], (2, 360, 129): [3507], (2, 360, 131): [3673], (2, 360, 133): [2945, 3461, 3463], (2, 360, 135): [3597], (2, 360, 136): [4148, 4165], (2, 361, 115): [3561], (2, 361, 117): [3769], (2, 361, 120): [3771, 3906], (2, 361, 126): [3957], (2, 361, 128): [3959, 3961], (2, 361, 131): [4119], (2, 361, 133): [3462, 3464, 3660], (2, 361, 134): [4115], (2, 361, 135): [3627], (2, 361, 138): [3819], (2, 361, 139): [4311], (2, 362, 127): [2773], (2, 363, 117): [3127, 4046], (2, 363, 124): [3163], (2, 363, 125): [3169], (2, 363, 126): [3877], (2, 363, 127): [3033, 3460], (2, 363, 129): [3137, 4250], (2, 363, 130): [3165, 3476], (2, 363, 131): [3483], (2, 363, 132): [3029], (2, 363, 133): [3167, 3951], (2, 363, 136): [3717], (2, 363, 138): [3820], (2, 364, 118): [3429], (2, 364, 127): [4011], (2, 364, 129): [3136, 3437, 3439, 3845], (2, 364, 130): [3475], (2, 364, 133): [4251], (2, 365, 116): [3916, 4196], (2, 365, 117): [2892], (2, 365, 118): [3736, 3738], (2, 365, 119): [3052], (2, 365, 123): [2908], (2, 365, 124): [2911], (2, 365, 125): [3835, 4150, 4151], (2, 365, 126): [3876], (2, 365, 129): [4222], (2, 365, 130): [3537], (2, 365, 132): [3036, 3038], (2, 365, 135): [3210], (2, 365, 136): [3368], (2, 366, 120): [2905], (2, 368, 121): [3288, 3290], (2, 368, 124): [3477, 3567], (2, 369, 116): [3092, 3226, 3840, 3992], (2, 369, 117): [3838], (2, 369, 120): [3574], (2, 369, 123): [3998], (2, 369, 124): [3042], (2, 369, 125): [4079], (2, 369, 126): [3866], (2, 369, 128): [3535], (2, 369, 129): [3598, 3864, 4285], (2, 369, 130): [3939, 4273, 4275], (2, 369, 131): [3610, 3654, 3962], (2, 369, 133): [3278, 4226], (2, 369, 135): [3222, 3964, 3966, 4293], (2, 369, 136): [3682], (2, 370, 116): [3093, 3993], (2, 370, 117): [3406], (2, 370, 118): [3241, 4009], (2, 370, 119): [3333, 3816], (2, 370, 120): [4005], (2, 370, 123): [3727, 3999], (2, 370, 128): [3559, 3879], (2, 370, 129): [3865], (2, 370, 130): [3783, 4274, 4276], (2, 370, 131): [3655], (2, 370, 133): [3496, 3585, 3781], (2, 370, 134): [3843, 4199], (2, 370, 135): [3731], (2, 370, 136): [3683], (2, 371, 115): [3249], (2, 371, 116): [3468, 3762, 3841, 4062, 4166], (2, 371, 117): [3568, 3570, 3813], (2, 371, 118): [3650, 3751], (2, 371, 120): [3141, 3575, 4004, 4206], (2, 371, 122): [3282], (2, 371, 124): [3304], (2, 371, 126): [4137], (2, 371, 127): [3653, 3747, 3851, 3853, 4067], (2, 371, 128): [3510, 3536, 3958, 3960], (2, 371, 129): [3915], (2, 371, 130): [3100], (2, 371, 131): [3099, 3105], (2, 371, 132): [3094, 3442, 3444], (2, 371, 133): [3096, 3279, 3743, 3745, 4288, 4310], (2, 371, 134): [3115, 3778, 3842, 3994, 4063, 4185, 4198], (2, 371, 135): [3057, 3577, 3579], (2, 371, 136): [3675, 3759], (2, 371, 137): [4247], (2, 372, 119): [4298], (2, 372, 120): [3603], (2, 372, 123): [3868], (2, 372, 125): [4230], (2, 372, 127): [3231, 3233], (2, 372, 128): [3656, 3830, 4301], (2, 372, 131): [3482, 3564], (2, 372, 134): [4114, 4299], (2, 372, 135): [3601, 3858], (2, 372, 137): [3760], (2, 372, 138): [3937], (2, 373, 116): [3307], (2, 373, 119): [3311], (2, 373, 120): [3309], (2, 373, 127): [3367], (2, 373, 134): [3261, 3263], (2, 373, 135): [3211], (2, 374, 115): [3224, 3387, 3448], (2, 374, 116): [3467, 3922, 3924], (2, 374, 117): [3720], (2, 374, 118): [3750, 4238], (2, 374, 119): [3195, 4297], (2, 374, 120): [3236, 3602], (2, 374, 121): [3490], (2, 374, 124): [3900], (2, 374, 125): [3168, 3254, 3834], (2, 374, 126): [3620], (2, 374, 127): [3608, 3652, 3746, 3850, 3852], (2, 374, 128): [3206, 3509], (2, 374, 129): [3342, 3344], (2, 374, 130): [3250, 3252, 3353, 3938], (2, 374, 131): [3394], (2, 374, 133): [3166, 3742, 3744, 3950, 4309], (2, 374, 134): [4155], (2, 374, 135): [3576, 3578, 3600, 3990], (2, 374, 136): [3716, 3758, 3799, 3832, 4239], (2, 374, 138): [3936, 4108], (2, 375, 115): [3449], (2, 375, 116): [4167], (2, 375, 117): [3721], (2, 375, 118): [3651, 3887], (2, 375, 126): [3621], (2, 375, 128): [3558, 3623], (2, 375, 129): [3343, 3345, 4161], (2, 375, 130): [3393], (2, 375, 132): [3187, 3189, 3443, 3445], (2, 375, 134): [3779, 4064], (2, 375, 136): [3800, 3833, 4240], (2, 375, 138): [4254], (2, 378, 115): [3560], (2, 378, 125): [3801], (2, 378, 129): [3436, 3438, 3844], (2, 378, 135): [3626], (2, 380, 116): [4197], (2, 380, 118): [3737, 3739], (2, 380, 129): [4223], (2, 380, 135): [3859], (2, 380, 137): [4060], (2, 380, 138): [4109], (3, 5, 1): [12, 14], (3, 7, 1): [11, 13], (3, 17, 14): [582, 583], (3, 17, 19): [713], (3, 17, 20): [797], (3, 34, 11): [84], (3, 38, 12): [86], (3, 42, 10): [278], (3, 42, 14): [418], (3, 42, 16): [370], (3, 42, 19): [735], (3, 44, 10): [266], (3, 44, 13): [285], (3, 44, 14): [376, 399, 617, 618], (3, 44, 18): [515], (3, 44, 19): [490], (3, 49, 12): [214], (3, 62, 10): [249], (3, 62, 13): [256], (3, 64, 14): [240], (3, 65, 10): [209], (3, 66, 10): [194], (3, 66, 14): [506], (3, 68, 16): [391], (3, 68, 20): [441], (3, 70, 13): [202], (3, 71, 14): [516], (3, 71, 17): [361], (3, 71, 21): [634], (3, 72, 10): [395], (3, 72, 14): [375], (3, 72, 16): [307], (3, 73, 10): [254], (3, 74, 10): [377], (3, 74, 12): [213], (3, 75, 21): [828], (3, 76, 10): [231], (3, 78, 19): [522], (3, 78, 21): [626], (3, 81, 10): [396], (3, 81, 14): [404, 542], (3, 81, 21): [824], (3, 82, 16): [407], (3, 82, 20): [703], (3, 82, 22): [742], (3, 84, 22): [692], (3, 87, 14): [575], (3, 88, 22): [709], (3, 89, 18): [667], (3, 93, 18): [747], (3, 98, 23): [812], (3, 134, 31): [908], (3, 134, 32): [910], (3, 135, 31): [909], (3, 135, 34): [926], (3, 136, 34): [925], (3, 147, 36): [963], (3, 148, 36): [964], (3, 149, 36): [1018], (3, 153, 36): [1019], (3, 155, 42): [1023], (3, 160, 44): [1054], (3, 173, 46): [1322], (3, 176, 46): [1323], (3, 186, 48): [1344], (3, 189, 48): [1267, 1268], (3, 196, 48): [1266, 1342], (3, 203, 48): [1269], (3, 207, 48): [1343], (3, 212, 55): [1513], (3, 214, 53): [1521], (3, 214, 55): [1532], (3, 217, 53): [1520], (3, 219, 55): [1533], (3, 221, 55): [1601], (3, 223, 55): [1514], (3, 229, 55): [1600], (3, 236, 58): [1661], (3, 239, 51): [1667], (3, 242, 61): [1673], (3, 244, 62): [1721], (3, 249, 63): [1684], (3, 252, 62): [1730], (3, 252, 74): [1792], (3, 252, 75): [1782], (3, 261, 74): [1804, 1874], (3, 262, 74): [1896], (3, 264, 73): [1820], (3, 264, 74): [1784, 1852], (3, 264, 75): [1791], (3, 265, 74): [1808], (3, 267, 74): [1882], (3, 267, 77): [1899], (3, 269, 75): [1842, 1843], (3, 271, 73): [1837], (3, 273, 74): [1853], (3, 276, 73): [1924], (3, 276, 83): [2142, 2167], (3, 276, 84): [2176], (3, 277, 81): [2093], (3, 277, 89): [2364], (3, 277, 90): [2497], (3, 279, 73): [1978], (3, 279, 79): [2018], (3, 279, 82): [2087], (3, 279, 83): [2175, 2290], (3, 279, 86): [2263], (3, 279, 87): [2395], (3, 281, 75): [1946], (3, 281, 78): [1969], (3, 281, 81): [2110], (3, 281, 82): [2086], (3, 281, 89): [2456], (3, 283, 73): [1940], (3, 283, 75): [1997], (3, 283, 81): [2102], (3, 283, 83): [2106], (3, 283, 84): [2141, 2383], (3, 284, 79): [2049], (3, 284, 81): [2051], (3, 284, 82): [2088, 2153, 2172], (3, 284, 83): [2126], (3, 284, 84): [2246, 2280], (3, 284, 86): [2248], (3, 284, 89): [2434, 2518], (3, 285, 80): [2064], (3, 286, 88): [2332], (3, 288, 80): [2021], (3, 290, 82): [2137], (3, 290, 84): [2155], (3, 291, 83): [2270], (3, 291, 84): [2209, 2210], (3, 291, 86): [2222], (3, 292, 84): [2292], (3, 292, 89): [2445, 2479], (3, 293, 83): [2278], (3, 293, 87): [2328], (3, 294, 86): [2366, 2367], (3, 294, 91): [2521], (3, 298, 86): [2382], (3, 298, 89): [2485], (3, 299, 87): [2344], (3, 304, 102): [2540], (3, 312, 99): [2552], (3, 317, 99): [2551], (3, 323, 99): [2553], (3, 334, 118): [2683], (3, 335, 118): [2684], (3, 336, 116): [2631], (3, 336, 120): [2857, 3048], (3, 336, 122): [2740, 3046], (3, 336, 125): [2827], (3, 336, 127): [3122], (3, 336, 130): [2881], (3, 336, 131): [2687, 2705, 2818], (3, 337, 126): [2752], (3, 337, 128): [2920], (3, 337, 131): [2967], (3, 337, 136): [2983], (3, 338, 115): [3201, 3203], (3, 338, 118): [4130], (3, 338, 129): [3360], (3, 338, 134): [3004], (3, 339, 119): [3479], (3, 339, 124): [2723], (3, 339, 129): [3361], (3, 339, 133): [3402], (3, 339, 134): [3005], (3, 341, 131): [2688], (3, 342, 119): [3102], (3, 342, 126): [2906], (3, 342, 127): [3123], (3, 343, 116): [2632], (3, 343, 120): [2858, 3049], (3, 343, 125): [2828], (3, 343, 127): [2898], (3, 343, 130): [2882], (3, 343, 131): [2819], (3, 344, 116): [3687], (3, 344, 120): [2603, 4037, 4039], (3, 344, 126): [2753], (3, 344, 128): [2921], (3, 344, 133): [3639, 4175], (3, 344, 135): [3331], (3, 344, 139): [4237], (3, 345, 116): [3526], (3, 345, 120): [2602], (3, 345, 124): [3315], (3, 345, 127): [3741], (3, 345, 129): [3909], (3, 345, 130): [3435], (3, 345, 133): [4174], (3, 345, 135): [3695], (3, 346, 118): [4131], (3, 346, 119): [3103], (3, 346, 124): [2722], (3, 346, 133): [3401], (3, 347, 116): [3659], (3, 347, 121): [2616, 2943], (3, 347, 123): [2840], (3, 347, 124): [3081, 3604], (3, 347, 130): [4095], (3, 347, 132): [3074], (3, 347, 133): [3638], (3, 347, 135): [3330], (3, 348, 118): [4211], (3, 348, 121): [2617], (3, 349, 116): [3525, 3658, 3686], (3, 349, 117): [3383], (3, 349, 118): [4210], (3, 349, 123): [2618, 2839], (3, 349, 124): [3080, 3314], (3, 349, 125): [3085], (3, 349, 128): [3757], (3, 349, 130): [4094], (3, 349, 131): [3811], (3, 350, 123): [2619], (3, 350, 127): [2630], (3, 351, 122): [2741], (3, 352, 127): [2899], (3, 354, 117): [2901], (3, 354, 118): [3197], (3, 354, 123): [3390], (3, 354, 125): [3520], (3, 354, 133): [3693, 3785], (3, 354, 134): [3512], (3, 357, 115): [2789], (3, 357, 131): [2706], (3, 358, 121): [2942], (3, 358, 125): [3084], (3, 358, 126): [3986], (3, 359, 115): [2788], (3, 359, 117): [2900], (3, 359, 118): [3196], (3, 359, 126): [3190], (3, 359, 128): [3797], (3, 359, 130): [3138], (3, 359, 132): [3374], (3, 359, 133): [3692, 3784], (3, 359, 134): [3511], (3, 361, 126): [3347], (3, 361, 129): [2994], (3, 363, 123): [3847], (3, 363, 126): [2907, 3191], (3, 363, 129): [2995], (3, 364, 116): [3177, 3179], (3, 364, 128): [3502], (3, 365, 117): [3708], (3, 365, 118): [4042], (3, 367, 131): [2966], (3, 368, 116): [3515, 3517], (3, 368, 125): [3519], (3, 368, 136): [2982], (3, 369, 127): [4192], (3, 369, 128): [3798], (3, 369, 135): [3694], (3, 369, 138): [4000], (3, 369, 139): [4236], (3, 370, 127): [4193], (3, 370, 131): [3812], (3, 371, 117): [3382], (3, 371, 118): [3647, 3849], (3, 371, 122): [3047, 3324], (3, 371, 126): [3987, 4243], (3, 371, 127): [3740], (3, 371, 128): [3756], (3, 371, 138): [4001], (3, 372, 116): [3516, 3518], (3, 372, 120): [4036, 4038], (3, 372, 124): [3605], (3, 372, 130): [3434], (3, 372, 132): [3075], (3, 373, 130): [3139], (3, 374, 115): [3200, 3202], (3, 374, 116): [3176, 3178], (3, 374, 118): [3646, 3848], (3, 374, 123): [3846], (3, 374, 126): [3346], (3, 374, 128): [3501], (3, 374, 129): [3908], (3, 374, 132): [3375], (3, 374, 136): [3543], (3, 375, 122): [3325], (3, 379, 134): [3465], (3, 380, 117): [3709], (3, 380, 118): [4043], (3, 380, 126): [4244], (3, 380, 134): [3466], (4, 14, 0): [30, 31], (4, 17, 18): [477], (4, 23, 8): [47, 49], (4, 24, 8): [48, 50], (4, 38, 10): [85], (4, 44, 14): [436], (4, 44, 16): [398], (4, 44, 17): [351], (4, 45, 13): [118], (4, 62, 18): [726], (4, 64, 14): [190], (4, 68, 18): [660, 661, 662, 663], (4, 71, 17): [350], (4, 71, 18): [576], (4, 71, 19): [462, 463, 464, 465, 466], (4, 71, 20): [486, 487, 488], (4, 78, 18): [679, 680, 681, 682, 683], (4, 82, 22): [739], (4, 84, 14): [435, 569], (4, 84, 19): [467, 468, 469, 470, 471, 472, 529], (4, 84, 21): [642], (4, 84, 22): [706, 707], (4, 85, 14): [512], (4, 85, 18): [520], (4, 86, 18): [658], (4, 86, 21): [684, 685], (4, 87, 18): [669, 670, 671, 672, 673, 674, 675, 676, 677, 678], (4, 87, 21): [710], (4, 88, 21): [770], (4, 89, 20): [790], (4, 89, 22): [696], (4, 90, 14): [624, 625], (4, 93, 18): [723], (4, 93, 21): [749], (4, 94, 18): [754, 755, 756, 757, 758], (4, 94, 19): [778], (4, 102, 23): [818], (4, 107, 28): [869, 875], (4, 107, 30): [866, 873, 874], (4, 114, 32): [887], (4, 129, 44): [1045], (4, 137, 35): [917, 930], (4, 137, 41): [1010], (4, 141, 35): [929], (4, 147, 36): [982], (4, 148, 36): [983], (4, 155, 42): [1020], (4, 156, 37): [1021, 1033], (4, 156, 42): [1029], (4, 157, 44): [1046, 1047, 1048, 1049, 1051], (4, 158, 37): [1035], (4, 158, 42): [1028], (4, 160, 43): [1034], (4, 164, 43): [1050], (4, 165, 37): [1055], (4, 168, 48): [1238, 1242], (4, 170, 49): [1337], (4, 188, 47): [1162, 1164], (4, 189, 48): [1239, 1244], (4, 191, 47): [1161, 1163], (4, 196, 48): [1243], (4, 196, 49): [1338], (4, 203, 47): [1373, 1375], (4, 204, 47): [1372, 1374], (4, 204, 49): [1336], (4, 204, 50): [1459], (4, 206, 50): [1460], (4, 207, 49): [1339], (4, 215, 54): [1571], (4, 215, 56): [1637], (4, 216, 54): [1567], (4, 219, 56): [1636], (4, 225, 51): [1517], (4, 228, 54): [1566, 1570], (4, 229, 56): [1658], (4, 234, 56): [1657], (4, 252, 73): [1749, 1750], (4, 264, 76): [1760], (4, 269, 73): [1892], (4, 274, 77): [1900], (4, 276, 82): [2107, 2108], (4, 276, 84): [2195], (4, 277, 86): [2258, 2338, 2339], (4, 278, 73): [1922, 1964], (4, 278, 79): [2020], (4, 278, 84): [2276, 2277], (4, 279, 73): [1965], (4, 279, 77): [1917, 1918, 1919, 1920, 1921], (4, 279, 83): [2080, 2081], (4, 279, 89): [2417], (4, 280, 89): [2391], (4, 281, 73): [1923, 1976], (4, 281, 74): [1933], (4, 281, 77): [1935, 1936], (4, 281, 82): [2095, 2100, 2119], (4, 281, 83): [2245], (4, 281, 86): [2257], (4, 283, 77): [1937, 1938], (4, 283, 79): [2048], (4, 284, 77): [1934], (4, 284, 81): [2125], (4, 286, 75): [2032, 2033, 2034, 2035], (4, 286, 83): [2231, 2297], (4, 286, 86): [2232], (4, 286, 89): [2351, 2352], (4, 290, 88): [2325], (4, 291, 86): [2223, 2224], (4, 291, 88): [2376, 2377], (4, 293, 86): [2323, 2324], (4, 293, 89): [2386], (4, 298, 84): [2419], (4, 298, 89): [2463, 2465], (4, 299, 89): [2373, 2374, 2375], (4, 301, 87): [2472], (4, 336, 133): [3120], (4, 338, 121): [2790], (4, 342, 118): [3071], (4, 342, 122): [2808], (4, 344, 123): [4229], (4, 346, 121): [2791], (4, 351, 132): [3107], (4, 351, 133): [3121], (4, 358, 116): [3063], (4, 358, 121): [3067], (4, 358, 123): [3023], (4, 358, 127): [3205], (4, 358, 131): [3065], (4, 358, 134): [3013], (4, 359, 120): [2732], (4, 359, 126): [3078], (4, 359, 132): [3076], (4, 360, 120): [2733], (4, 360, 126): [3079], (4, 360, 132): [3077], (4, 361, 122): [2809], (4, 363, 117): [3827], (4, 363, 130): [2876], (4, 364, 118): [3070], (4, 364, 130): [2875], (4, 369, 116): [3062], (4, 369, 121): [3066], (4, 369, 123): [3022, 4228], (4, 369, 127): [3204], (4, 369, 128): [3469], (4, 369, 131): [3064], (4, 369, 134): [3012], (4, 371, 128): [3470], (4, 371, 130): [3287], (4, 371, 132): [3106], (4, 372, 129): [4084, 4085, 4086, 4087, 4088, 4089, 4090, 4091, 4092, 4093], (4, 374, 130): [3286]}\n"
     ]
    }
   ],
   "source": [
    "train_df, test_df = stratified_split(df)"
   ]
  },
  {
   "cell_type": "code",
   "execution_count": 8,
   "metadata": {},
   "outputs": [
    {
     "name": "stdout",
     "output_type": "stream",
     "text": [
      "Jumlah Klasifikasi Perkara: 5\n",
      "Jumlah Data Train:  3289\n",
      "klasifikasi_perkara_encoded\n",
      "0    1384\n",
      "2    1254\n",
      "3     294\n",
      "4     193\n",
      "1     164\n",
      "Name: count, dtype: int64\n"
     ]
    }
   ],
   "source": [
    "jenis_klasifikasi_perkara = train_df['klasifikasi_perkara_encoded'].unique()\n",
    "jumlah_klasifikasi_perkara = len(jenis_klasifikasi_perkara)\n",
    "print(f\"Jumlah Klasifikasi Perkara: {jumlah_klasifikasi_perkara}\")\n",
    "print(f\"Jumlah Data Train:  {len(train_df)}\")\n",
    "\n",
    "klasifikasi_perkara_values = train_df['klasifikasi_perkara_encoded'].value_counts()\n",
    "print(klasifikasi_perkara_values)"
   ]
  },
  {
   "cell_type": "code",
   "execution_count": 9,
   "metadata": {},
   "outputs": [
    {
     "name": "stdout",
     "output_type": "stream",
     "text": [
      "Jumlah Klasifikasi Perkara: 5\n",
      "Jumlah Data Test:  1033\n",
      "klasifikasi_perkara_encoded\n",
      "0    482\n",
      "2    436\n",
      "4     50\n",
      "3     44\n",
      "1     21\n",
      "Name: count, dtype: int64\n"
     ]
    }
   ],
   "source": [
    "jenis_klasifikasi_perkara = test_df['klasifikasi_perkara_encoded'].unique()\n",
    "jumlah_klasifikasi_perkara = len(jenis_klasifikasi_perkara)\n",
    "print(f\"Jumlah Klasifikasi Perkara: {jumlah_klasifikasi_perkara}\")\n",
    "print(f\"Jumlah Data Test:  {len(test_df)}\")\n",
    "\n",
    "klasifikasi_perkara_values = test_df['klasifikasi_perkara_encoded'].value_counts()\n",
    "print(klasifikasi_perkara_values)"
   ]
  },
  {
   "cell_type": "code",
   "execution_count": null,
   "metadata": {},
   "outputs": [
    {
     "data": {
      "application/vnd.microsoft.datawrangler.viewer.v0+json": {
       "columns": [
        {
         "name": "index",
         "rawType": "int64",
         "type": "integer"
        },
        {
         "name": "klasifikasi_perkara_encoded",
         "rawType": "int64",
         "type": "integer"
        },
        {
         "name": "penuntut_umum_encoded",
         "rawType": "int64",
         "type": "integer"
        },
        {
         "name": "hakim_encoded",
         "rawType": "int64",
         "type": "integer"
        },
        {
         "name": "jumlah_saksi",
         "rawType": "int64",
         "type": "integer"
        },
        {
         "name": "maks_penjara_berdasarkan_pasal",
         "rawType": "int64",
         "type": "integer"
        },
        {
         "name": "terdakwa",
         "rawType": "object",
         "type": "string"
        },
        {
         "name": "summarized_dakwaan",
         "rawType": "object",
         "type": "string"
        },
        {
         "name": "total_pidana_penjara_bulan",
         "rawType": "float64",
         "type": "float"
        }
       ],
       "conversionMethod": "pd.DataFrame",
       "ref": "2b161c9b-9c95-4b42-aa4f-8d7a0bd31096",
       "rows": [
        [
         "0",
         "0",
         "0",
         "0",
         "6",
         "80",
         "GEDE DARMAYASA",
         "Terdakwa Gede Darmayasa didakwa telah melakukan tindak pidana pencurian buah durian di tiga lokasi berbeda di wilayah Kintamani, Kabupaten Bangli, pada bulan Mei 2024. Pada hari Selasa, 21 Mei 2024, sekitar pukul 06.00 hingga 06.30 WITA, terdakwa mencuri sebanyak 37 buah durian dari kebun milik I Wayan Sukerena, SE dan 27 buah durian dari kebun milik I Nyoman Susila. Durian-durian tersebut kemudian dijual sebagian kepada saksi Komang Ayu Anggreni dengan harga Rp4.316.000 dan sisanya dibawa pulang. Selanjutnya, pada hari Kamis, 23 Mei 2024, terdakwa menjual lagi 40 buah durian kepada Komang Sujana, di mana 24 di antaranya merupakan hasil pencurian. Kemudian pada hari Sabtu, 25 Mei 2024, sekitar pukul 06.00 WITA, terdakwa kembali melakukan pencurian sebanyak 20 buah durian dari kebun milik I Ketut Tindih dan menjual 15 buah di antaranya seharga Rp1.485.000. Total durian yang dicuri terdakwa berjumlah 67 buah tanpa seizin pemiliknya, dengan maksud untuk dimiliki secara melawan hukum dan hasil penjualannya digunakan untuk kebutuhan sehari-hari. Akibat perbuatan terdakwa, I Wayan Sukerena mengalami kerugian sebesar Rp3.330.000, I Ketut Tindih sebesar Rp3.500.000, dan I Nyoman Susila sebesar Rp2.000.000. Perbuatan terdakwa diancam pidana berdasarkan Pasal 362 KUHP jo. Pasal 65 Ayat (1) KUHP.",
         "5.0"
        ],
        [
         "1",
         "1",
         "1",
         "1",
         "4",
         "48",
         "IDA BAGUS MADE DARMA WIGUNA",
         "Pada bulan Februari dan Maret 2024, terdakwa Ida Bagus Made Darma Wiguna alias Gus Manik didakwa melakukan tindak pidana penggelapan secara berlanjut terhadap saksi korban Ni Wayan Anik Artini. Berawal dari perkenalan melalui media sosial TikTok pada Desember 2023, terdakwa dan korban menjalin hubungan hingga pada 13 Februari 2024 korban menyerahkan perhiasan kalung emas 21 karat seberat 24,55 gram untuk disimpan di rumah terdakwa. Pada 17 Februari 2024, terdakwa meminjam kalung tersebut untuk digadaikan dengan janji akan menebusnya dalam dua hari. Kalung itu kemudian digadaikan di Kantor Pegadaian Bangli seharga Rp 8.000.000. Namun, tanpa seizin korban, pada 21 Februari 2024 terdakwa kembali ke Pegadaian dan menambah nilai gadai menjadi Rp 19.600.000, menerima pencairan tambahan sebesar Rp 11.397.000, yang seluruhnya digunakan untuk keperluan pribadi. Kemudian, pada 10 Maret 2024, terdakwa meminjam ponsel Samsung Galaxy A04E milik korban dengan alasan untuk komunikasi, namun ponsel tersebut dijual seharga Rp 600.000 dan hasilnya juga dipakai untuk kebutuhan sehari-hari. Meskipun korban telah beberapa kali meminta barang-barangnya dikembalikan, terdakwa selalu mengelak dengan berbagai alasan. Akibat perbuatan terdakwa, korban mengalami kerugian sebesar Rp 26.000.000. Perbuatan Terdakwa didakwa dengan dakwaan primair Pasal 372 jo. 64 Ayat (1) KUHP, dan dakwaan subsidair Pasal 378 jo. 64 Ayat (1) KUHP.",
         "24.0"
        ],
        [
         "2",
         "0",
         "0",
         "2",
         "6",
         "84",
         "HANDRI JOHANAS",
         "Terdakwa Handri Johanes pada Rabu, 24 April 2024 sekitar pukul 03.00 WITA di sebuah kamar di Puri Kanginan, Lingkungan Banjar Puri Kanginan No. 2 Bangli, telah melakukan pencurian satu unit handphone OPPO A53 warna hitam milik I Nengah Sukadana. Kejadian bermula ketika terdakwa yang sebelumnya pernah bekerja di mebel milik Gung Aji Kartika dan terbiasa keluar masuk area puri, datang mencari temannya yang dahulu tinggal di sana. Setelah tidak menemukan temannya dan hendak pulang, terdakwa melihat sebuah handphone sedang diisi daya dalam kamar yang pintunya sedikit terbuka. Ia kemudian mengambil handphone tersebut dengan memasukkan tangan melalui celah pintu. Setelah sampai di bengkel tempat tinggalnya, terdakwa mengetahui bahwa handphone tersebut terkunci, lalu beberapa hari kemudian menjualnya kepada seseorang bernama Denny Firmansyah di Klungkung seharga Rp300.000. Uang hasil penjualan itu kemudian ia kirim ke anaknya di Lombok. Akibat perbuatan tersebut, saksi I Nengah Sukadana mengalami kerugian sebesar Rp3.999.000. Perbuatan terdakwa diancam pidana berdasarkan Pasal 363 Ayat (1) ke-3 KUHP.",
         "4.0"
        ],
        [
         "3",
         "2",
         "2",
         "1",
         "2",
         "144",
         "I GEDE ARIADI alias BERNAD",
         "Pada hari Minggu, 14 April 2024 sekitar pukul 16.35 WITA, terdakwa I Gede Ariadi alias Bernad ditangkap di Jl. Brigjen Ngurah Rai, Kelurahan Kawan, Bangli oleh tim Opsnal Satresnarkoba Polres Bangli karena kedapatan membawa narkotika jenis sabu. Kronologi bermula pada 9 April 2024 saat terdakwa berkenalan dengan seseorang bernama Kadek (DPO) melalui Facebook, lalu berkomunikasi intens melalui WhatsApp dan sepakat untuk menggunakan sabu bersama. Pada 14 April 2024 pagi, terdakwa diberi tahu oleh Mang Donal (DPO) bahwa sabu sudah tersedia dan ditempel di bawah tiang listrik di daerah Bendul, Klungkung. Terdakwa mengambil sabu yang dibungkus dalam tabung micro tube dan menyimpannya di tas selempang. Sore harinya, terdakwa berangkat menuju Bangli sesuai petunjuk lokasi dari Kadek. Setibanya di lokasi, terdakwa diamankan polisi dan saat digeledah ditemukan satu plastik klip berisi kristal sabu seberat 0,20 gram netto beserta barang bukti lainnya seperti handphone dan sepeda motor. Berdasarkan hasil uji laboratorium, kristal tersebut positif mengandung Metamfetamina yang tergolong Narkotika Golongan I. Terdakwa tidak memiliki izin dari Menteri Kesehatan atau instansi terkait untuk memiliki narkotika tersebut. Perbuatan Terdakwa didakwa dengan dakwaan primair Pasal 112 Ayat (1) UU RI No. 35 Tahun 2009 tentang Narkotika, dan dakwaan subsidair Pasal 127 Ayat (1) huruf a Undang-Undang RI No. 35 Tahun 2009 Tentang Narkotika.",
         "14.0"
        ],
        [
         "4",
         "2",
         "3",
         "1",
         "2",
         "144",
         "I GEDE ARIADI alias BERNAD",
         "Pada hari Minggu, 14 April 2024 sekitar pukul 16.35 WITA, terdakwa I Gede Ariadi alias Bernad ditangkap di Jl. Brigjen Ngurah Rai, Kelurahan Kawan, Bangli oleh tim Opsnal Satresnarkoba Polres Bangli karena kedapatan membawa narkotika jenis sabu. Kronologi bermula pada 9 April 2024 saat terdakwa berkenalan dengan seseorang bernama Kadek (DPO) melalui Facebook, lalu berkomunikasi intens melalui WhatsApp dan sepakat untuk menggunakan sabu bersama. Pada 14 April 2024 pagi, terdakwa diberi tahu oleh Mang Donal (DPO) bahwa sabu sudah tersedia dan ditempel di bawah tiang listrik di daerah Bendul, Klungkung. Terdakwa mengambil sabu yang dibungkus dalam tabung micro tube dan menyimpannya di tas selempang. Sore harinya, terdakwa berangkat menuju Bangli sesuai petunjuk lokasi dari Kadek. Setibanya di lokasi, terdakwa diamankan polisi dan saat digeledah ditemukan satu plastik klip berisi kristal sabu seberat 0,20 gram netto beserta barang bukti lainnya seperti handphone dan sepeda motor. Berdasarkan hasil uji laboratorium, kristal tersebut positif mengandung Metamfetamina yang tergolong Narkotika Golongan I. Terdakwa tidak memiliki izin dari Menteri Kesehatan atau instansi terkait untuk memiliki narkotika tersebut. Perbuatan Terdakwa didakwa dengan dakwaan primair Pasal 112 Ayat (1) UU RI No. 35 Tahun 2009 tentang Narkotika, dan dakwaan subsidair Pasal 127 Ayat (1) huruf a Undang-Undang RI No. 35 Tahun 2009 Tentang Narkotika.",
         "14.0"
        ],
        [
         "5",
         "0",
         "4",
         "1",
         "4",
         "60",
         "R. Sabirin",
         "Pada hari Selasa, 26 Maret 2024 sekitar pukul 17.10 WITA, bertempat di pinggir Jalan Raya Kintamani, Desa Kintamani, Kecamatan Kintamani, Kabupaten Bangli, Terdakwa melakukan pencurian dengan mengambil satu unit sepeda motor Honda Scoopy warna merah hitam DK 6384 PQ, yang sebagian atau seluruhnya milik orang lain, dengan maksud untuk dimiliki secara melawan hukum. Sebelumnya, pada 25 Maret 2024 pukul 13.00 WITA, Terdakwa berangkat dari Panarukan, Singaraja menuju Terminal Ubung Denpasar dengan menumpang truk, dengan tujuan mencuri sepeda motor. Tiba di Terminal Ubung sekitar pukul 14.30 WITA, Terdakwa menginap semalam karena hujan deras. Esok harinya, Terdakwa dijemput oleh temannya, WAHYU EKA JAYA (DPO), yang datang mengendarai sepeda motor Yamaha Vixion warna hitam. Mereka lalu pergi ke Kintamani untuk jalan-jalan. Sekitar pukul 17.10 WITA, mereka melihat sebuah motor Honda Scoopy terparkir di pinggir jalan dengan kunci masih tergantung. Setelah WAHYU EKA JAYA pergi meninggalkannya, Terdakwa mendekati motor tersebut, lalu mendorongnya sejauh sekitar 10 meter sebelum akhirnya menyalakan mesin dan melarikan diri menuju Denpasar melalui Payangan, Gianyar. Di daerah Ubud, Terdakwa dihentikan oleh seorang petugas Polsek Kintamani bernama I Gede Dipta Wirama Darma dan tidak dapat menunjukkan STNK kendaraan. Terdakwa kemudian diamankan beserta barang bukti ke Polsek Kintamani. Akibat perbuatan tersebut, korban, Ni Wayan Srimertanadi, mengalami kerugian sekitar Rp20.000.000\\. Perbuatan Terdakwa diatur dan diancam pidana dalam Pasal 362 KUHP.",
         "14.0"
        ],
        [
         "6",
         "2",
         "4",
         "1",
         "4",
         "144",
         "NOVANI ARI HIFNI Alias ARI",
         "Pada Minggu, 17 Maret 2024 sekitar pukul 18.10 WITA, terdakwa Novani Ari Hifni alias Ari ditangkap di pinggir Jalan Merdeka, Tamanbali, Bangli oleh petugas Satresnarkoba Polres Bangli karena kedapatan membawa narkotika jenis sabu. Sebelumnya, terdakwa menghubungi rekannya bernama Wewe (DPO) melalui Facebook untuk mencari sabu, kemudian diarahkan untuk menghubungi Rizal (DPO). Rizal menyanggupi permintaan terdakwa dengan sistem hutang dan mengirimkan lokasi pengambilan barang di Bangli. Terdakwa lalu mengajak temannya, saksi K. M. Sahrijal Jabar, untuk mengantarkan ke lokasi dengan imbalan uang. Setelah mengambil sabu yang disembunyikan di dekat tembok dengan berpura-pura buang air kecil, terdakwa melanjutkan perjalanan, namun akhirnya dihentikan dan diamankan oleh petugas. Saat digeledah, ditemukan satu plastik berisi sabu dalam botol Yakult serta peralatan hisap lainnya di dalam tas terdakwa, sementara pada saksi Sahrijal tidak ditemukan barang terlarang. Hasil pemeriksaan laboratorium terhadap kristal bening dan urine terdakwa menunjukkan keduanya positif mengandung metamfetamina, yang tergolong Narkotika Golongan I. Perbuatan Terdakwa didakwa dengan dakwaan primair Pasal 112 Ayat (1) Undang-Undang RI No. 35 Tahun 2009 tentang Narkotika, dan dakwaan subsidair Pasal 127 Ayat (1) huruf a Undang-Undang RI No. 35 Tahun 2009 tentang Narkotika.",
         "24.0"
        ],
        [
         "7",
         "2",
         "5",
         "1",
         "4",
         "144",
         "NOVANI ARI HIFNI Alias ARI",
         "Pada Minggu, 17 Maret 2024 sekitar pukul 18.10 WITA, terdakwa Novani Ari Hifni alias Ari ditangkap di pinggir Jalan Merdeka, Tamanbali, Bangli oleh petugas Satresnarkoba Polres Bangli karena kedapatan membawa narkotika jenis sabu. Sebelumnya, terdakwa menghubungi rekannya bernama Wewe (DPO) melalui Facebook untuk mencari sabu, kemudian diarahkan untuk menghubungi Rizal (DPO). Rizal menyanggupi permintaan terdakwa dengan sistem hutang dan mengirimkan lokasi pengambilan barang di Bangli. Terdakwa lalu mengajak temannya, saksi K. M. Sahrijal Jabar, untuk mengantarkan ke lokasi dengan imbalan uang. Setelah mengambil sabu yang disembunyikan di dekat tembok dengan berpura-pura buang air kecil, terdakwa melanjutkan perjalanan, namun akhirnya dihentikan dan diamankan oleh petugas. Saat digeledah, ditemukan satu plastik berisi sabu dalam botol Yakult serta peralatan hisap lainnya di dalam tas terdakwa, sementara pada saksi Sahrijal tidak ditemukan barang terlarang. Hasil pemeriksaan laboratorium terhadap kristal bening dan urine terdakwa menunjukkan keduanya positif mengandung metamfetamina, yang tergolong Narkotika Golongan I. Perbuatan Terdakwa didakwa dengan dakwaan primair Pasal 112 Ayat (1) Undang-Undang RI No. 35 Tahun 2009 tentang Narkotika, dan dakwaan subsidair Pasal 127 Ayat (1) huruf a Undang-Undang RI No. 35 Tahun 2009 tentang Narkotika.",
         "24.0"
        ],
        [
         "8",
         "2",
         "6",
         "1",
         "4",
         "240",
         "MULYADI alias MUL",
         "Pada Selasa, 9 Januari 2024 sekitar pukul 17.30 WITA di Jalan Bima, Kelurahan Cempaga, Bangli, terdakwa Mulyadi alias Mul ditangkap karena tanpa hak menawarkan dan membawa narkotika jenis sabu. Sebelumnya, terdakwa dihubungi oleh rekannya, Kadek (DPO), untuk mengantarkan sabu ke Bangli. Setelah bertemu dengan kurir Kadek di Lapangan Lumintang, Denpasar, terdakwa menerima sabu dalam amplop putih, sempat mencicipinya, dan menyimpannya di dashboard mobil lalu berpindah ke tas pinggang. Sekitar pukul 15.00 WITA, terdakwa berangkat ke Bangli dan tiba di lokasi yang diarahkan Kadek. Saat tiba di kos-kosan milik kakak Kadek, terdakwa diamankan oleh polisi. Dalam penggeledahan, ditemukan sabu, alat isap, korek api modifikasi, dan barang bukti lainnya. Berdasarkan hasil laboratorium, kristal yang disita terbukti mengandung metamfetamina yang termasuk Narkotika Golongan I, sedangkan urine terdakwa tidak mengandung narkotika. Perbuatan Terdakwa didakwa dengan dakwaan primair Pasal 114 Ayat (1) UU RI No. 35 Tahun 2009 tentang Narkotika, dan dakwaan subsidair Pasal 112 Ayat (1) UU RI No. 35 tahun 2009 tentang Narkotika.",
         "51.0"
        ],
        [
         "9",
         "0",
         "7",
         "1",
         "6",
         "80",
         "I WAYAN ARTAYASA",
         "Terdakwa I Wayan Artayasa didakwa telah melakukan serangkaian pencurian secara berulang di Pasar Kidul Bangli, dengan sasaran utama dagangan milik ibunya sendiri, Ni Nyoman Suwini, serta milik pedagang lain seperti Ni Luh Utari dan Ni Ketut Suci. Perbuatan tersebut dilakukan sejak Desember 2023 hingga Februari 2024, pada dini hari antara pukul 03.00 hingga 04.00 WITA. Modus operandi yang digunakan adalah dengan masuk ke pasar melalui celah jeruji besi, membuka terpal dagangan, dan mengambil berbagai bahan pokok seperti kemiri, kacang tanah, gula merah, kacang hijau, dan beras. Barang-barang hasil curian tersebut kemudian dijual oleh terdakwa di Pasar Kidul Bangli dan Pasar Singamandawa Kintamani untuk memenuhi kebutuhan sehari-hari. Perbuatan terdakwa dilakukan tanpa seizin atau sepengetahuan para pemilik barang, dan telah menyebabkan kerugian bagi para korban. Berdasarkan perbuatannya tersebut, terdakwa didakwa dengan Pasal 362 KUHP jo. Pasal 65 Ayat (1) KUHP pada dakwaan primair dan Pasal 367 Ayat (2) KUHP jo. Pasal 65 Ayat (1) KUHP untuk dakwaan subsidair.",
         "12.0"
        ],
        [
         "10",
         "0",
         "4",
         "3",
         "4",
         "60",
         "RURY HERAWATI",
         "Terdakwa Rury Herawati pada tanggal 20 November 2023 sekitar pukul 15.15 WITA telah melakukan pencurian di Toko Ari Kebaya, Jalan Nusantara, Bangli. Terdakwa datang dari Denpasar dengan niat mencuri dan setelah mencari toko yang sepi, ia berpura-pura sebagai pembeli. Saat penjaga toko sedang membelakangi untuk mencarikan sandal, Terdakwa membuka lemari yang tidak terkunci dan mengambil tas kain berisi dua dompet dengan total uang Rp16.500.000,- milik saksi Ni Nengah Ngariasi. Setelah mengambil tas, Terdakwa berpura-pura hendak mengambil uang di ATM dan langsung pergi meninggalkan dua selendang yang sudah dibayar. Uang hasil pencurian digunakan untuk membeli berbagai barang seperti HP, emas, pakaian, serta kebutuhan sehari-hari. Sisa uang yang dicuri masih tersisa sebesar Rp5.778.000. Berdasarkan laporan polisi dan penyelidikan, Terdakwa mengakui perbuatannya dan kini telah diamankan bersama barang bukti untuk proses hukum lebih lanjut. Perbuatannya diancam pidana sesuai Pasal 362 KUHP.",
         "16.0"
        ],
        [
         "11",
         "3",
         "7",
         "1",
         "8",
         "48",
         "I KETUT SUPUTRA",
         "Bahwa para Terdakwa, yakni Terdakwa I Ketut Suputra dan Terdakwa II Ni Komang Warsiki, dalam kurun waktu antara bulan Mei 2019 sampai dengan Oktober 2020, bertempat di gudang milik para Terdakwa yang beralamat di Jalan Soekarno, Banjar Dukuh, Desa Bunutin, Kecamatan Bangli, Kabupaten Bangli, telah melakukan perbuatan melawan hukum dengan cara menguasai secara melawan hak barang titipan milik PT. Putra Dewata Sejati. Awalnya, Terdakwa I menjalin kerja sama usaha penjualan produk minuman bermerek Aqua dengan PT. Putra Dewata Sejati di bawah nama usaha UD. Sari Merta berdasarkan Surat Kesepakatan Nomor 002/SP/PDS-BALI/IV/2019 tanggal 6 April 2019. Dalam pelaksanaan kerja sama tersebut, PT. Putra Dewata Sejati menyerahkan sejumlah barang titipan kepada UD. Sari Merta untuk dijual kembali, dengan ketentuan bahwa harga pokok barang harus disetorkan kembali kepada PT. Putra Dewata Sejati setelah barang terjual, sedangkan selisih harga jual menjadi keuntungan bagi UD. Sari Merta. Dalam pelaksanaan usahanya, Terdakwa I selaku penanggung jawab operasional dan Terdakwa II sebagai bagian administrasi bertugas mengelola penjualan, keuangan, dan pembayaran kepada pihak supplier. Akan tetapi, sejak bulan Mei 2019, para Terdakwa mulai tidak menyetorkan secara penuh hasil penjualan barang, dan sejak bulan Oktober 2020 tidak lagi melakukan penyetoran sama sekali, padahal seluruh barang titipan telah terjual. Uang hasil penjualan tersebut justru digunakan oleh para Terdakwa untuk membayar gaji karyawan, menutupi biaya operasional, serta memenuhi kebutuhan hidup pribadi, tanpa seizin atau sepengetahuan PT. Putra Dewata Sejati. Perbuatan para Terdakwa tersebut telah mengakibatkan kerugian keuangan bagi PT. Putra Dewata Sejati sebesar Rp413.883.979,- (empat ratus tiga belas juta delapan ratus delapan puluh tiga ribu sembilan ratus tujuh puluh sembilan rupiah). Perbuatan tersebut dilakukan secara bersama-sama dan berlanjut, serta diatur dan diancam pidana dalam Pasal 372 KUHP jo. Pasal 55 Ayat (1) ke-1 KUHP jo. Pasal 64 Ayat (1) KUHP.",
         "18.0"
        ],
        [
         "12",
         "3",
         "5",
         "1",
         "8",
         "48",
         "I KETUT SUPUTRA",
         "Bahwa para Terdakwa, yakni Terdakwa I Ketut Suputra dan Terdakwa II Ni Komang Warsiki, dalam kurun waktu antara bulan Mei 2019 sampai dengan Oktober 2020, bertempat di gudang milik para Terdakwa yang beralamat di Jalan Soekarno, Banjar Dukuh, Desa Bunutin, Kecamatan Bangli, Kabupaten Bangli, telah melakukan perbuatan melawan hukum dengan cara menguasai secara melawan hak barang titipan milik PT. Putra Dewata Sejati. Awalnya, Terdakwa I menjalin kerja sama usaha penjualan produk minuman bermerek Aqua dengan PT. Putra Dewata Sejati di bawah nama usaha UD. Sari Merta berdasarkan Surat Kesepakatan Nomor 002/SP/PDS-BALI/IV/2019 tanggal 6 April 2019. Dalam pelaksanaan kerja sama tersebut, PT. Putra Dewata Sejati menyerahkan sejumlah barang titipan kepada UD. Sari Merta untuk dijual kembali, dengan ketentuan bahwa harga pokok barang harus disetorkan kembali kepada PT. Putra Dewata Sejati setelah barang terjual, sedangkan selisih harga jual menjadi keuntungan bagi UD. Sari Merta. Dalam pelaksanaan usahanya, Terdakwa I selaku penanggung jawab operasional dan Terdakwa II sebagai bagian administrasi bertugas mengelola penjualan, keuangan, dan pembayaran kepada pihak supplier. Akan tetapi, sejak bulan Mei 2019, para Terdakwa mulai tidak menyetorkan secara penuh hasil penjualan barang, dan sejak bulan Oktober 2020 tidak lagi melakukan penyetoran sama sekali, padahal seluruh barang titipan telah terjual. Uang hasil penjualan tersebut justru digunakan oleh para Terdakwa untuk membayar gaji karyawan, menutupi biaya operasional, serta memenuhi kebutuhan hidup pribadi, tanpa seizin atau sepengetahuan PT. Putra Dewata Sejati. Perbuatan para Terdakwa tersebut telah mengakibatkan kerugian keuangan bagi PT. Putra Dewata Sejati sebesar Rp413.883.979,- (empat ratus tiga belas juta delapan ratus delapan puluh tiga ribu sembilan ratus tujuh puluh sembilan rupiah). Perbuatan tersebut dilakukan secara bersama-sama dan berlanjut, serta diatur dan diancam pidana dalam Pasal 372 KUHP jo. Pasal 55 Ayat (1) ke-1 KUHP jo. Pasal 64 Ayat (1) KUHP.",
         "18.0"
        ],
        [
         "13",
         "3",
         "7",
         "1",
         "8",
         "48",
         "NI KOMANG WARSIKI",
         "Bahwa para Terdakwa, yakni Terdakwa I Ketut Suputra dan Terdakwa II Ni Komang Warsiki, dalam kurun waktu antara bulan Mei 2019 sampai dengan Oktober 2020, bertempat di gudang milik para Terdakwa yang beralamat di Jalan Soekarno, Banjar Dukuh, Desa Bunutin, Kecamatan Bangli, Kabupaten Bangli, telah melakukan perbuatan melawan hukum dengan cara menguasai secara melawan hak barang titipan milik PT. Putra Dewata Sejati. Awalnya, Terdakwa I menjalin kerja sama usaha penjualan produk minuman bermerek Aqua dengan PT. Putra Dewata Sejati di bawah nama usaha UD. Sari Merta berdasarkan Surat Kesepakatan Nomor 002/SP/PDS-BALI/IV/2019 tanggal 6 April 2019. Dalam pelaksanaan kerja sama tersebut, PT. Putra Dewata Sejati menyerahkan sejumlah barang titipan kepada UD. Sari Merta untuk dijual kembali, dengan ketentuan bahwa harga pokok barang harus disetorkan kembali kepada PT. Putra Dewata Sejati setelah barang terjual, sedangkan selisih harga jual menjadi keuntungan bagi UD. Sari Merta. Dalam pelaksanaan usahanya, Terdakwa I selaku penanggung jawab operasional dan Terdakwa II sebagai bagian administrasi bertugas mengelola penjualan, keuangan, dan pembayaran kepada pihak supplier. Akan tetapi, sejak bulan Mei 2019, para Terdakwa mulai tidak menyetorkan secara penuh hasil penjualan barang, dan sejak bulan Oktober 2020 tidak lagi melakukan penyetoran sama sekali, padahal seluruh barang titipan telah terjual. Uang hasil penjualan tersebut justru digunakan oleh para Terdakwa untuk membayar gaji karyawan, menutupi biaya operasional, serta memenuhi kebutuhan hidup pribadi, tanpa seizin atau sepengetahuan PT. Putra Dewata Sejati. Perbuatan para Terdakwa tersebut telah mengakibatkan kerugian keuangan bagi PT. Putra Dewata Sejati sebesar Rp413.883.979,- (empat ratus tiga belas juta delapan ratus delapan puluh tiga ribu sembilan ratus tujuh puluh sembilan rupiah). Perbuatan tersebut dilakukan secara bersama-sama dan berlanjut, serta diatur dan diancam pidana dalam Pasal 372 KUHP jo. Pasal 55 Ayat (1) ke-1 KUHP jo. Pasal 64 Ayat (1) KUHP.",
         "10.0"
        ],
        [
         "14",
         "3",
         "5",
         "1",
         "8",
         "48",
         "NI KOMANG WARSIKI",
         "Bahwa para Terdakwa, yakni Terdakwa I Ketut Suputra dan Terdakwa II Ni Komang Warsiki, dalam kurun waktu antara bulan Mei 2019 sampai dengan Oktober 2020, bertempat di gudang milik para Terdakwa yang beralamat di Jalan Soekarno, Banjar Dukuh, Desa Bunutin, Kecamatan Bangli, Kabupaten Bangli, telah melakukan perbuatan melawan hukum dengan cara menguasai secara melawan hak barang titipan milik PT. Putra Dewata Sejati. Awalnya, Terdakwa I menjalin kerja sama usaha penjualan produk minuman bermerek Aqua dengan PT. Putra Dewata Sejati di bawah nama usaha UD. Sari Merta berdasarkan Surat Kesepakatan Nomor 002/SP/PDS-BALI/IV/2019 tanggal 6 April 2019. Dalam pelaksanaan kerja sama tersebut, PT. Putra Dewata Sejati menyerahkan sejumlah barang titipan kepada UD. Sari Merta untuk dijual kembali, dengan ketentuan bahwa harga pokok barang harus disetorkan kembali kepada PT. Putra Dewata Sejati setelah barang terjual, sedangkan selisih harga jual menjadi keuntungan bagi UD. Sari Merta. Dalam pelaksanaan usahanya, Terdakwa I selaku penanggung jawab operasional dan Terdakwa II sebagai bagian administrasi bertugas mengelola penjualan, keuangan, dan pembayaran kepada pihak supplier. Akan tetapi, sejak bulan Mei 2019, para Terdakwa mulai tidak menyetorkan secara penuh hasil penjualan barang, dan sejak bulan Oktober 2020 tidak lagi melakukan penyetoran sama sekali, padahal seluruh barang titipan telah terjual. Uang hasil penjualan tersebut justru digunakan oleh para Terdakwa untuk membayar gaji karyawan, menutupi biaya operasional, serta memenuhi kebutuhan hidup pribadi, tanpa seizin atau sepengetahuan PT. Putra Dewata Sejati. Perbuatan para Terdakwa tersebut telah mengakibatkan kerugian keuangan bagi PT. Putra Dewata Sejati sebesar Rp413.883.979,- (empat ratus tiga belas juta delapan ratus delapan puluh tiga ribu sembilan ratus tujuh puluh sembilan rupiah). Perbuatan tersebut dilakukan secara bersama-sama dan berlanjut, serta diatur dan diancam pidana dalam Pasal 372 KUHP jo. Pasal 55 Ayat (1) ke-1 KUHP jo. Pasal 64 Ayat (1) KUHP.",
         "10.0"
        ],
        [
         "15",
         "0",
         "8",
         "0",
         "6",
         "144",
         "I KETUT JONI ADNYANA ADI PUTRA",
         "Terdakwa I Ketut Joni Adnyana Adi Putra dan Terdakwa II Rosita Evayanti Dewi melakukan pencurian sepeda motor di dua lokasi berbeda di wilayah Kintamani, Bangli. Aksi pertama dilakukan pada 10 September 2023 sekitar pukul 01.00 WITA di parkiran Sukawana Sunrise, di mana Terdakwa I mengambil sepeda motor Yamaha NMAX DK 3498 PT milik saksi Made Yusa Paramartha dengan cara mendorong motor yang tidak terkunci dan menyalakan mesin menggunakan alat-alat seperti obeng, tang, dan kunci L. Motor hasil curian ini digunakan untuk keperluan sehari-hari. Aksi kedua dilakukan pada 1 Oktober 2023 sekitar pukul 02.00 WITA di parkiran Le Monte Sunrise. Dengan menggunakan mobil sewaan, kedua terdakwa kembali ke Kintamani dan Terdakwa I mencuri motor Yamaha NMAX DK 6992 LB milik I Kadek Indrawan dengan modus serupa. Sepeda motor tersebut kemudian dijual secara daring seharga Rp5.300.000. Akibat perbuatan kedua terdakwa, saksi Made Yusa Paramartha mengalami kerugian sebesar Rp25.500.000,- dan saksi I Kadek Indrawan mengalami kerugian sebesar Rp26.700.000,-. Perbuatan para terdakwa diancam pidana berdasarkan Pasal 363 Ayat (1) ke-4 KUHP jo. Pasal 65 Ayat (1) KUHP.",
         "16.0"
        ],
        [
         "16",
         "0",
         "9",
         "0",
         "6",
         "144",
         "I KETUT JONI ADNYANA ADI PUTRA",
         "Terdakwa I Ketut Joni Adnyana Adi Putra dan Terdakwa II Rosita Evayanti Dewi melakukan pencurian sepeda motor di dua lokasi berbeda di wilayah Kintamani, Bangli. Aksi pertama dilakukan pada 10 September 2023 sekitar pukul 01.00 WITA di parkiran Sukawana Sunrise, di mana Terdakwa I mengambil sepeda motor Yamaha NMAX DK 3498 PT milik saksi Made Yusa Paramartha dengan cara mendorong motor yang tidak terkunci dan menyalakan mesin menggunakan alat-alat seperti obeng, tang, dan kunci L. Motor hasil curian ini digunakan untuk keperluan sehari-hari. Aksi kedua dilakukan pada 1 Oktober 2023 sekitar pukul 02.00 WITA di parkiran Le Monte Sunrise. Dengan menggunakan mobil sewaan, kedua terdakwa kembali ke Kintamani dan Terdakwa I mencuri motor Yamaha NMAX DK 6992 LB milik I Kadek Indrawan dengan modus serupa. Sepeda motor tersebut kemudian dijual secara daring seharga Rp5.300.000. Akibat perbuatan kedua terdakwa, saksi Made Yusa Paramartha mengalami kerugian sebesar Rp25.500.000,- dan saksi I Kadek Indrawan mengalami kerugian sebesar Rp26.700.000,-. Perbuatan para terdakwa diancam pidana berdasarkan Pasal 363 Ayat (1) ke-4 KUHP jo. Pasal 65 Ayat (1) KUHP.",
         "16.0"
        ],
        [
         "17",
         "0",
         "8",
         "0",
         "6",
         "144",
         "ROSITA EVAYANTI DEWI",
         "Terdakwa I Ketut Joni Adnyana Adi Putra dan Terdakwa II Rosita Evayanti Dewi melakukan pencurian sepeda motor di dua lokasi berbeda di wilayah Kintamani, Bangli. Aksi pertama dilakukan pada 10 September 2023 sekitar pukul 01.00 WITA di parkiran Sukawana Sunrise, di mana Terdakwa I mengambil sepeda motor Yamaha NMAX DK 3498 PT milik saksi Made Yusa Paramartha dengan cara mendorong motor yang tidak terkunci dan menyalakan mesin menggunakan alat-alat seperti obeng, tang, dan kunci L. Motor hasil curian ini digunakan untuk keperluan sehari-hari. Aksi kedua dilakukan pada 1 Oktober 2023 sekitar pukul 02.00 WITA di parkiran Le Monte Sunrise. Dengan menggunakan mobil sewaan, kedua terdakwa kembali ke Kintamani dan Terdakwa I mencuri motor Yamaha NMAX DK 6992 LB milik I Kadek Indrawan dengan modus serupa. Sepeda motor tersebut kemudian dijual secara daring seharga Rp5.300.000. Akibat perbuatan kedua terdakwa, saksi Made Yusa Paramartha mengalami kerugian sebesar Rp25.500.000,- dan saksi I Kadek Indrawan mengalami kerugian sebesar Rp26.700.000,-. Perbuatan para terdakwa diancam pidana berdasarkan Pasal 363 Ayat (1) ke-4 KUHP jo. Pasal 65 Ayat (1) KUHP.",
         "14.0"
        ],
        [
         "18",
         "0",
         "9",
         "0",
         "6",
         "144",
         "ROSITA EVAYANTI DEWI",
         "Terdakwa I Ketut Joni Adnyana Adi Putra dan Terdakwa II Rosita Evayanti Dewi melakukan pencurian sepeda motor di dua lokasi berbeda di wilayah Kintamani, Bangli. Aksi pertama dilakukan pada 10 September 2023 sekitar pukul 01.00 WITA di parkiran Sukawana Sunrise, di mana Terdakwa I mengambil sepeda motor Yamaha NMAX DK 3498 PT milik saksi Made Yusa Paramartha dengan cara mendorong motor yang tidak terkunci dan menyalakan mesin menggunakan alat-alat seperti obeng, tang, dan kunci L. Motor hasil curian ini digunakan untuk keperluan sehari-hari. Aksi kedua dilakukan pada 1 Oktober 2023 sekitar pukul 02.00 WITA di parkiran Le Monte Sunrise. Dengan menggunakan mobil sewaan, kedua terdakwa kembali ke Kintamani dan Terdakwa I mencuri motor Yamaha NMAX DK 6992 LB milik I Kadek Indrawan dengan modus serupa. Sepeda motor tersebut kemudian dijual secara daring seharga Rp5.300.000. Akibat perbuatan kedua terdakwa, saksi Made Yusa Paramartha mengalami kerugian sebesar Rp25.500.000,- dan saksi I Kadek Indrawan mengalami kerugian sebesar Rp26.700.000,-. Perbuatan para terdakwa diancam pidana berdasarkan Pasal 363 Ayat (1) ke-4 KUHP jo. Pasal 65 Ayat (1) KUHP.",
         "14.0"
        ],
        [
         "19",
         "0",
         "1",
         "0",
         "4",
         "60",
         "I NYOMAN BUDIAWAN Als. SUMAWAN",
         "Pada hari Rabu, 25 Oktober 2023 sekitar pukul 13.00 WITA, terdakwa I Nyoman Budiawan alias Sumawan melakukan pencurian kartu ATM BRI milik saksi Luh Putu Widiantari di Toko UD. Langsung Jaya, Jalan Raya Kintamani, Desa Kintamani, Kecamatan Kintamani, Kabupaten Bangli. Awalnya, terdakwa datang ke toko tersebut untuk mentransfer uang, namun saat mengetahui mesin BRI Link rusak dan pegawai toko pergi, terdakwa memanfaatkan situasi sepi untuk mengambil kartu ATM yang berada di atas meja kasir. Terdakwa kemudian pulang ke rumahnya dan menggunakan kartu ATM tersebut di mesin ATM BRI Toya Devasya, dengan memasukkan PIN 020202 yang telah ia ketahui sebelumnya karena sering melihat pegawai toko menggunakannya. Terdakwa melakukan penarikan tunai sebanyak empat kali dengan total Rp10.000.000. Setelah menerima laporan dari korban, pihak kepolisian melakukan olah TKP dan berhasil mengamankan terdakwa di rumahnya pada 28 Oktober 2023. Akibat perbuatannya, korban mengalami kerugian sebesar Rp10.000.000. Perbuatan terdakwa diancam pidana berdasarkan Pasal 362 KUHP.",
         "14.0"
        ],
        [
         "20",
         "0",
         "0",
         "0",
         "4",
         "60",
         "I NYOMAN BUDIAWAN Als. SUMAWAN",
         "Pada hari Rabu, 25 Oktober 2023 sekitar pukul 13.00 WITA, terdakwa I Nyoman Budiawan alias Sumawan melakukan pencurian kartu ATM BRI milik saksi Luh Putu Widiantari di Toko UD. Langsung Jaya, Jalan Raya Kintamani, Desa Kintamani, Kecamatan Kintamani, Kabupaten Bangli. Awalnya, terdakwa datang ke toko tersebut untuk mentransfer uang, namun saat mengetahui mesin BRI Link rusak dan pegawai toko pergi, terdakwa memanfaatkan situasi sepi untuk mengambil kartu ATM yang berada di atas meja kasir. Terdakwa kemudian pulang ke rumahnya dan menggunakan kartu ATM tersebut di mesin ATM BRI Toya Devasya, dengan memasukkan PIN 020202 yang telah ia ketahui sebelumnya karena sering melihat pegawai toko menggunakannya. Terdakwa melakukan penarikan tunai sebanyak empat kali dengan total Rp10.000.000. Setelah menerima laporan dari korban, pihak kepolisian melakukan olah TKP dan berhasil mengamankan terdakwa di rumahnya pada 28 Oktober 2023. Akibat perbuatannya, korban mengalami kerugian sebesar Rp10.000.000. Perbuatan terdakwa diancam pidana berdasarkan Pasal 362 KUHP.",
         "14.0"
        ],
        [
         "21",
         "1",
         "10",
         "0",
         "7",
         "48",
         "DESAK MADE CITRAWATI",
         "Pada bulan April 2023, terdakwa Desak Made Citrawati didakwa melakukan tindak pidana penipuan secara berlanjut terhadap dua korban, yaitu I Putu Sutarga dan Pande Ketut Suarca, dengan total kerugian mencapai lebih dari Rp 391 juta. Modus operandi terdakwa adalah membeli telur dan beras dalam jumlah besar dari kedua korban dengan dalih pembayaran menggunakan cek mundur, disertai pernyataan palsu bahwa ia memiliki aset tanah di Singaraja yang sedang dalam proses penjualan. Terdakwa memesan telur sebanyak 4.435 krei dari I Putu Sutarga senilai total Rp 228.600.000, dan beras sebanyak 14.500 kg dari Pande Ketut Suarca dengan total nilai Rp 162.400.000. Setiap transaksi dilakukan secara bertahap pada tanggal 21, 23, 25, dan 28 April 2023. Terdakwa meyakinkan para korban dengan janji pelunasan dan surat pengakuan utang, namun setelah cek jatuh tempo, tidak ada dana yang tersedia. Pemeriksaan terhadap klaim kepemilikan tanah menunjukkan bahwa terdakwa hanya memberikan uang muka atas tanah tersebut dan belum ada kepastian transaksi. Perbuatan Terdakwa didakwa dengan dakwaan primair Pasal 378 jo. Pasal 64 Ayat (1) ke-1 KUHP, dan dakwaan subsidair 379a KUHP Jo. Pasal 64 Ayat (1) ke-1 KUHP.",
         "30.0"
        ],
        [
         "22",
         "0",
         "11",
         "4",
         "3",
         "108",
         "I KETUT DENA",
         "Pada hari Jumat, 5 Februari 2021 sekitar pukul 19.00 WITA, terdakwa I Ketut Dena bersama Dewa Made Sujana (dalam berkas terpisah) melakukan pencurian satu unit sepeda motor Honda Scoopy warna hitam kombinasi merah dengan nomor polisi DK 5807 PS yang terparkir di depan rumah saksi I Nengah Sumerta di Desa Yangapi, Kecamatan Tembuku, Kabupaten Bangli. Sebelumnya, kedua terdakwa sempat pergi ke beberapa lokasi sabung ayam. Saat melintasi lokasi kejadian, Dewa Made Sujana melihat motor dalam keadaan tidak terkunci dan memerintahkan Ketut Dena untuk berjaga sementara dirinya mengambil sepeda motor tersebut. Setelah berhasil menghidupkan dan membawa motor itu, mereka menyembunyikannya di bawah jembatan di Gianyar. Keesokan harinya, motor tersebut diambil kembali dan diganti plat nomornya menggunakan plat dari motor lain, kemudian dibawa ke rumah Dewa Made Sujana. Sore harinya, Dewa Made Sujana ditangkap karena kasus pencurian handphone dan meminta Ketut Dena mengambil motor tersebut. Karena motor terkunci dan kuncinya masih disimpan Dewa Made Sujana, Ketut Dena memanggil tukang kunci untuk membuat duplikat. Motor curian itu lalu digadaikan oleh Ketut Dena kepada saksi Luh Sriani seharga Rp2.000.000 tanpa dokumen STNK atau BPKB. Korban, I Wayan Miyasa, melaporkan kehilangan tersebut ke Polsek Tembuku. Sekitar seminggu kemudian, Ketut Dena ditangkap atas kasus penadahan, mengakui perbuatannya, dan membantu polisi mencari motor dan kunci aslinya yang ditemukan di tas milik Dewa Made Sujana. Akibat perbuatan tersebut, korban mengalami kerugian sekitar Rp15.000.000. Tindak pidana ini diancam dengan 2 dakwaan yaitu dakwaan primair dengan Pasal 363 ayat (1) ke-4 KUHP serta dakwaan subsidair dengan Pasal 326 KUHP.",
         "12.0"
        ],
        [
         "23",
         "0",
         "11",
         "4",
         "6",
         "84",
         "DEWA MADE SUJANA",
         "Pada hari Jumat, 5 Februari 2021 sekitar pukul 09.30 WITA, Terdakwa Dewa Made Sujana bersama I Ketut Dena (berkas terpisah) pergi ke Nongan, Karangasem untuk menonton sabung ayam dengan mengendarai sepeda motor Honda Scoopy warna coklat hitam. Sekitar pukul 14.30 WITA, mereka mendengar ada sabung ayam di Pulasari, Tembuku, namun karena acara tersebut tidak ada, mereka kembali melewati Banjar Sideparna, Desa Yangapi, Bangli. Di lokasi tersebut, Terdakwa melihat sepeda motor Honda Scoopy warna hitam kombinasi merah yang terparkir dengan kunci masih menggantung, lalu meminta I Ketut Dena berhenti untuk mengawasi sekitar. Setelah merasa aman, Terdakwa menyalakan dan membawa kabur sepeda motor tersebut, sedangkan I Ketut Dena mengikuti dengan motor yang mereka gunakan sebelumnya. Motor hasil curian tersebut disembunyikan di bawah jembatan dekat Pantai Lebih, Gianyar. Keesokan harinya, mereka kembali mengambil motor tersebut dan mengganti plat nomornya dengan yang diambil dari motor lain, kemudian motor dibawa ke rumah Terdakwa di Ubud dan diparkir di garasi. Pada sore harinya, Terdakwa ditangkap oleh Polsek Sukawati atas kasus pencurian handphone. Saat penggeledahan, ditemukan kunci asli motor curian di tas milik Terdakwa yang diserahkan oleh istrinya. Akibat perbuatan tersebut, saksi korban I Wayan Miyasa mengalami kerugian sebesar Rp15.000.000. Perbuatan Terdakwa didakwa dengan dakwaan primair Pasal 363 Ayat (1) ke-4 KUHP, dan dakwaan subsidair Pasal 362 KUHP.",
         "15.0"
        ],
        [
         "24",
         "2",
         "12",
         "4",
         "2",
         "144",
         "I KOMANG RENDI YANA alis RENDI",
         "Pada Selasa, 6 Juni 2023 sekitar pukul 20.10 WITA di Jalan Tirta Geduh, Kelurahan Bebalang, Bangli, terdakwa I Komang Rendi Yana alias Rendi ditangkap karena tanpa hak memiliki dan menyimpan narkotika jenis sabu. Awalnya, terdakwa memesan sabu seharga Rp200.000 kepada seseorang bernama Gus Ucil (DPO), lalu mengambil paket tersebut di bawah pohon mahoni di Jalan Putra Yuda, Bangli, sesuai petunjuk. Setelah dikonsumsi sebagian di rumahnya di Banua, Kintamani, sisa sabu disimpan dalam gantungan handphone yang dibungkus stiker dan diselipkan di jaket. Saat hendak ke alun-alun Bangli, terdakwa diberhentikan oleh polisi dan ditemukan sabu seberat 0,10 gram netto dalam jaketnya. Barang bukti lainnya termasuk bong bekas pakai, handphone, dan sepeda motor juga diamankan. Hasil uji laboratorium menunjukkan sabu mengandung metamfetamina yang tergolong Narkotika Golongan I. Perbuatan Terdakwa didakwa dengan dakwaan primair Pasal 112 Ayat (1) UU RI No. 35 Tahun 2009 tentang Narkotika, dan dakwaan subsidair Pasal 127 Ayat (1) huruf a UU RI No. 35 Tahun 2009 tentang Narkotika.",
         "15.0"
        ],
        [
         "25",
         "2",
         "5",
         "4",
         "2",
         "144",
         "I KOMANG RENDI YANA alis RENDI",
         "Pada Selasa, 6 Juni 2023 sekitar pukul 20.10 WITA di Jalan Tirta Geduh, Kelurahan Bebalang, Bangli, terdakwa I Komang Rendi Yana alias Rendi ditangkap karena tanpa hak memiliki dan menyimpan narkotika jenis sabu. Awalnya, terdakwa memesan sabu seharga Rp200.000 kepada seseorang bernama Gus Ucil (DPO), lalu mengambil paket tersebut di bawah pohon mahoni di Jalan Putra Yuda, Bangli, sesuai petunjuk. Setelah dikonsumsi sebagian di rumahnya di Banua, Kintamani, sisa sabu disimpan dalam gantungan handphone yang dibungkus stiker dan diselipkan di jaket. Saat hendak ke alun-alun Bangli, terdakwa diberhentikan oleh polisi dan ditemukan sabu seberat 0,10 gram netto dalam jaketnya. Barang bukti lainnya termasuk bong bekas pakai, handphone, dan sepeda motor juga diamankan. Hasil uji laboratorium menunjukkan sabu mengandung metamfetamina yang tergolong Narkotika Golongan I. Perbuatan Terdakwa didakwa dengan dakwaan primair Pasal 112 Ayat (1) UU RI No. 35 Tahun 2009 tentang Narkotika, dan dakwaan subsidair Pasal 127 Ayat (1) huruf a UU RI No. 35 Tahun 2009 tentang Narkotika.",
         "15.0"
        ],
        [
         "26",
         "2",
         "13",
         "0",
         "3",
         "144",
         "I GUSTI LANANG MADE WIJAYA alias LANANG",
         "Pada Senin, 24 April 2023 sekitar pukul 22.30 WITA di pinggir Jalan Muhamad Hatta, Bebalang, Bangli, terdakwa I Gusti Lanang Made Wijaya alias Lanang tertangkap karena tanpa hak memiliki narkotika jenis sabu. Sebelumnya, terdakwa memesan sabu seharga Rp700.000 dari seseorang bernama Jung Tu (DPO) melalui WhatsApp dan mengambil barang tersebut di bawah pot bunga di Desa Semana, Badung. Setelah mengonsumsinya sebagian di rumahnya di Ubud, terdakwa menyimpan sisa sabu ke dalam bungkus rokok yang dimasukkan ke saku celana. Malam harinya, saat hendak menemui seorang wanita bernama Riena (DPO) di Bangli, terdakwa dihentikan oleh polisi dan dilakukan penggeledahan. Polisi menemukan sabu seberat 0,10 gram netto, satu handphone, dan sepeda motor yang digunakan terdakwa. Berdasarkan hasil pemeriksaan laboratorium, kristal bening tersebut positif mengandung metamfetamina yang tergolong Narkotika Golongan I. Perbuatan Terdakwa didakwa dengan dakwaan primair Pasal 112 Ayat (1) UU RI No. 35 Tahun 2009 Tentang Narkotika, dan dakwaan subsidair Pasal 127 Ayat (1) huruf a UU RI No. 35 Tahun 2009 Tentang Narkotika.",
         "16.0"
        ],
        [
         "27",
         "2",
         "10",
         "2",
         "5",
         "144",
         "SELAMET HARIANTO alias SELAMET",
         "Terdakwa Selamet Harianto alias Selamet bersama Sodakoh Maliki alias Dakoh (dalam berkas terpisah) pada 15 Mei 2023 sekitar pukul 20.45 WITA, bertempat di Jalan Muhammad Hatta, Kelurahan Bebalang, Kecamatan Bangli, kedapatan memiliki narkotika jenis sabu seberat 0,15 gram netto tanpa izin dari pihak berwenang. Perbuatan ini berawal ketika Selamet menghubungi seseorang bernama Rizal (DPO) untuk mencari pekerjaan dan ditawari menjadi \"peluncur\" (PL), yaitu mengambil paket sabu di Bangli. Selamet kemudian mengajak Sodakoh Maliki untuk menemaninya dengan janji akan memakai sabu bersama. Mereka berangkat dari Denpasar ke Bangli dengan motor dan mengambil paket sabu yang disimpan di belakang tiang listrik sesuai petunjuk dari Rizal. Saat dalam perjalanan kembali ke Denpasar, mereka ditangkap oleh polisi di Jalan Muhammad Hatta dan ditemukan barang bukti sabu serta alat-alat konsumsi narkotika. Dalam penggeledahan, ditemukan pula sabu lain seberat 0,02 gram netto milik Sodakoh Maliki yang disimpan dalam tas pinggang, serta berbagai perlengkapan penggunaan sabu. Berdasarkan hasil uji laboratorium, kristal yang ditemukan terbukti mengandung metamfetamina, sedangkan hasil tes urine Selamet negatif narkotika. Selamet sebelumnya juga pernah dihukum dalam kasus serupa berdasarkan putusan PN Denpasar tahun 2019 dan baru bebas pada 7 Maret 2023. Terdakwa didakwa dengan Pasal 112 Ayat (1) UU RI No. 35 Tahun 2009 tentang Narkotika jo. Pasal 55 Ayat (1) ke-1 KUHP.",
         "75.0"
        ],
        [
         "28",
         "2",
         "13",
         "4",
         "5",
         "240",
         "RAIHAN RAHADI AZHAR alias RAIHAN",
         "Terdakwa Raihan Rahadi Azhar alias Raihan, bersama-sama dengan Gungggus Togar Manatar Pangaribuan alias Togar (yang berkas perkaranya terpisah), pada 14 Maret 2023 di Rutan Kelas IIB Bangli, diduga melakukan tindak pidana narkotika dengan tanpa hak atau melawan hukum menjadi perantara dalam jual beli narkotika golongan I berupa tembakau sintetis. Togar meminjam nama Raihan untuk menerima paket berisi tembakau sintetis yang dikirim melalui jasa ekspedisi JT. Raihan menyetujui permintaan tersebut dan menerima paket atas namanya pada 16 Maret 2023. Setelah menerima paket di ruang portir rutan, Raihan langsung diamankan petugas. Pemeriksaan terhadap paket menunjukkan adanya dua bungkus tembakau sintetis dengan total berat bersih 52 gram netto, yang masing-masing dikemas dalam plastik bermerek Violin dan Rhino. Berdasarkan hasil uji laboratorium, daun-daun kering tersebut positif mengandung MDMB-4en PINACA, zat yang termasuk dalam Narkotika Golongan I. Raihan tidak memiliki izin dari Kementerian Kesehatan atau instansi berwenang lainnya untuk memperjualbelikan atau menjadi perantara narkotika tersebut. Perbuatan Terdakwa didakwa dengan dakwaan pertama Pasal 114 Ayat (1) UU RI No. 35 Tahun 2009 tentang Narkotika jo. Pasal 55 Ayat (1) ke-1 KUHP, dakwaan kedua Pasal 112 Ayat (1) UU RI No. 35 Tahun 2009 Tentang Narkotika jo. Pasal 55 Ayat (1) ke-1 KUHP, dan dakwaan ketiga Pasal 111 Ayat (1) UU RI No. 35 Tahun 2009 Tentang Narkotika jo. Pasal 55 Ayat (1) ke-1 KUHP.",
         "90.0"
        ],
        [
         "29",
         "2",
         "13",
         "4",
         "5",
         "240",
         "GUNGGUS TOGAR MANATAR PANGARIBUAN alias TOGAR",
         "Terdakwa Gunggus Togar Manatar Pangaribuan alias Togar, baik sendiri maupun bersama-sama dengan Raihan Rahadi Azhar alias Raihan (terdakwa dalam berkas terpisah), pada 14 Maret 2023 sekitar pukul 12.00 WITA di kamar tahanan Blok B Rutan Kelas IIB Bangli, memesan narkotika golongan I berupa tembakau sintetis dari seorang bernama Zetas Networking (DPO). Terdakwa meminjam nama Raihan untuk menerima paket narkotika tersebut melalui jasa pengiriman JT. Setelah mentransfer uang sebesar Rp1.400.000 melalui OVO, Terdakwa meminta agar paket dikirim atas nama Raihan. Pada 16 Maret 2023, Raihan diamankan oleh petugas rutan saat menerima paket berisi dua bungkus tembakau sintetis, masing-masing dibungkus plastik bermerek Violin dan Rhino. Setelah diinterogasi, Raihan mengaku bahwa paket tersebut milik Terdakwa. Pemeriksaan barang bukti menunjukkan bahwa tembakau tersebut mengandung senyawa MDMB-4en PINACA yang tergolong dalam Narkotika Golongan I. Terdakwa tidak memiliki izin dari Menteri Kesehatan atau lembaga berwenang lainnya untuk memperjualbelikan atau menerima narkotika tersebut. Perbuatan Terdakwa didakwa dengan dakwaan pertama Pasal 114 Ayat (1) UU RI No. 35 Tahun 2009 tentang Narkotika jo. Pasal 55 Ayat (1) ke-1 KUHP, dakwaan kedua Pasal 112 Ayat (1) UU RI No. 35 Tahun 2009 Tentang Narkotika jo. Pasal 55 Ayat (1) ke-1 KUHP, dan dakwaan ketiga Pasal 111 Ayat (1) UU RI No. 35 Tahun 2009 Tentang Narkotika jo. Pasal 55 Ayat (1) ke-1 KUHP.",
         "102.0"
        ],
        [
         "30",
         "4",
         "14",
         "0",
         "4",
         "120",
         "I NYOMAN RAWAS",
         "Pada hari Senin, 27 Maret 2023 sekitar pukul 21.30 WITA, terdakwa I Nyoman Rawas bersama I Ketut Sudima menyelenggarakan permainan judi cap jeki di lapangan terbuka di Banjar Kedisan, Desa Kedisan, Kecamatan Kintamani, Kabupaten Bangli. Kegiatan ini telah diberitahukan sebelumnya kepada para penjudi, dan terdakwa menyiapkan berbagai peralatan seperti perlak angka, handuk, kotak kaleng, kartu ceki, dan uang modal sebesar Rp 2.000.000. Dalam permainan tersebut, I Nyoman Rawas bertindak sebagai bandar yang mengendalikan jalannya permainan dan menentukan hasil, sementara I Ketut Sudima berperan sebagai kasir yang membayar kemenangan atau mengambil taruhan yang kalah. Permainan dilakukan dengan dua sistem, yaitu sistem “melok” (seri) dan “nyolot” (menang-kalah), yang masing-masing memiliki ketentuan kemenangan dan pembayarannya sendiri. Pada malam itu, para terdakwa melangsungkan enam putaran permainan dan memperoleh keuntungan sebesar Rp 370.000 sebelum akhirnya ditangkap oleh pihak kepolisian. Dari hasil penyelidikan, diketahui bahwa para terdakwa telah berulang kali menyelenggarakan permainan serupa di berbagai lokasi dan menjadikannya sebagai sumber penghasilan untuk kebutuhan sehari-hari. Seluruh kegiatan perjudian tersebut dilakukan tanpa izin resmi dan merupakan bentuk perjudian yang bersifat untung-untungan. Perbuatan Terdakwa didakwa dengan dakwaan primair Pasal 303 Ayat (1) ke-1 KUHP jo. Pasal 2 Undang-Undang No. 7 Tahun 1974 tentang Penertiban Perjudian, dan dakwaan subsidair Pasal 303 Ayat (1) ke-2 KUHP jo. Pasal 2 Undang-Undang No. 7 Tahun 1974 Tentang Penertiban Perjudian.",
         "7.0"
        ],
        [
         "31",
         "4",
         "14",
         "0",
         "4",
         "120",
         "I KETUT SUDIMA",
         "Pada hari Senin, 27 Maret 2023 sekitar pukul 21.30 WITA, terdakwa I Nyoman Rawas bersama I Ketut Sudima menyelenggarakan permainan judi cap jeki di lapangan terbuka di Banjar Kedisan, Desa Kedisan, Kecamatan Kintamani, Kabupaten Bangli. Kegiatan ini telah diberitahukan sebelumnya kepada para penjudi, dan terdakwa menyiapkan berbagai peralatan seperti perlak angka, handuk, kotak kaleng, kartu ceki, dan uang modal sebesar Rp 2.000.000. Dalam permainan tersebut, I Nyoman Rawas bertindak sebagai bandar yang mengendalikan jalannya permainan dan menentukan hasil, sementara I Ketut Sudima berperan sebagai kasir yang membayar kemenangan atau mengambil taruhan yang kalah. Permainan dilakukan dengan dua sistem, yaitu sistem “melok” (seri) dan “nyolot” (menang-kalah), yang masing-masing memiliki ketentuan kemenangan dan pembayarannya sendiri. Pada malam itu, para terdakwa melangsungkan enam putaran permainan dan memperoleh keuntungan sebesar Rp 370.000 sebelum akhirnya ditangkap oleh pihak kepolisian. Dari hasil penyelidikan, diketahui bahwa para terdakwa telah berulang kali menyelenggarakan permainan serupa di berbagai lokasi dan menjadikannya sebagai sumber penghasilan untuk kebutuhan sehari-hari. Seluruh kegiatan perjudian tersebut dilakukan tanpa izin resmi dan merupakan bentuk perjudian yang bersifat untung-untungan. Perbuatan Terdakwa didakwa dengan dakwaan primair Pasal 303 Ayat (1) ke-1 KUHP jo. Pasal 2 Undang-Undang No. 7 Tahun 1974 tentang Penertiban Perjudian, dan dakwaan subsidair Pasal 303 Ayat (1) ke-2 KUHP jo. Pasal 2 Undang-Undang No. 7 Tahun 1974 Tentang Penertiban Perjudian.",
         "6.0"
        ],
        [
         "32",
         "0",
         "13",
         "0",
         "3",
         "84",
         "NI LUH PUSPA DEWI",
         "Pada hari Minggu, 4 Juli 2021 sekitar pukul 11.00 WITA, Terdakwa Ni Luh Puspa Dewi dalam perjalanan menuju ladang orang tuanya di Desa Suter, Bangli, melewati sebuah rumah kosong di Banjar Munduk Waru, Desa Buahan, Kintamani, dan timbul niat untuk mencuri. Setelah memastikan keadaan sekitar aman, terdakwa masuk ke rumah tersebut dan menemukan kunci di lemari kaca dalam salah satu kamar. Ia kemudian membuka kamar lain dengan kunci tersebut dan menemukan dompet biru bermotif bunga berisi berbagai perhiasan emas, termasuk kalung, gelang, cincin, dan anting-anting dengan total berat puluhan gram. Semua barang tersebut diambil dan disimpan di sakunya, lalu terdakwa meninggalkan lokasi. Perhiasan hasil curian dijual di Pasar Kidul kepada seorang wanita tak dikenal seharga Rp80.000.000, yang kemudian digunakan untuk kebutuhan sehari-hari dan membeli sejumlah pakaian, sandal, serta cincin emas. Berdasarkan laporan polisi tertanggal 6 Februari 2023, terdakwa akhirnya mengakui seluruh perbuatannya. Akibat kejadian ini, korban I Nyoman Mawa mengalami kerugian sekitar Rp80.000.000. Perbuatan Terdakwa didakwa dengan dakwaan primair Pasal 363 Ayat (1) ke-5 KUHP, dan dakwaan subsidair Pasal 362 KUHP.",
         "6.0"
        ],
        [
         "33",
         "0",
         "15",
         "4",
         "5",
         "80",
         "I Wayan Nawa",
         "Terdakwa I Wayan Nawa didakwa melakukan pencurian pada dua kesempatan berbeda di wilayah Kintamani, Bangli. Pada 2 Oktober 2022, setelah menjual salak, terdakwa menuju ke kebun milik I Wayan Suardana di Banjar Pludu, Desa Bayung Gede, dan berpura-pura menawarkan pupuk ayam. Saat korban lengah, terdakwa mencuri handphone Redmi Note 10S beserta uang tunai sekitar Rp400.000 yang disimpan di kandang sapi. Kemudian, pada 9 November 2022, terdakwa kembali melakukan pencurian di pondokan milik I Wayan Panggih di Desa Binyan dengan modus serupa. Setelah memastikan korban pergi, terdakwa mencuri handphone Redmi Note 7 yang sedang dicas. Kedua handphone tersebut dijual ke konter berbeda dengan total hasil sekitar Rp1.800.000, yang kemudian digunakan untuk kebutuhan sehari-hari. Berdasarkan laporan korban, polisi melakukan penyelidikan dan berhasil menangkap terdakwa pada 9 Februari 2023 di Karangasem. Akibat perbuatannya, korban I Wayan Suardana mengalami kerugian sekitar Rp3.400.000 dan I Wayan Panggih sekitar Rp3.000.000. Terdakwa dijerat dengan Pasal 362 KUHP jo. Pasal 65 Ayat (1) KUHP tentang pencurian yang dilakukan berulang kali.",
         "6.0"
        ],
        [
         "34",
         "0",
         "13",
         "3",
         "5",
         "60",
         "JRO GEDE BUDI",
         "Pada Sabtu, 28 Januari 2023, di Pemandian Tirta Usadha Toya Bungkah, Desa Batur Tengah, Kintamani, Bangli, terdakwa Jro Gede Budi didakwa melakukan pencurian. Setelah selesai berendam, terdakwa melihat sebuah tas hitam bertuliskan \"Steve Madden\" milik korban Ni Jro Luh Putri di bawah loker, lalu mengambilnya dan membawanya pulang menggunakan sepeda motor. Di perjalanan, terdakwa membuka tas tersebut dan menemukan tas merah maroon bertuliskan \"Michael Kors\" berisi uang tunai sebesar Rp5.700.000 serta sebuah dompet berisi perhiasan emas berupa kalung dan cincin, dan dua nota pembelian dari Toko Emas Ratna. Terdakwa mengambil Rp1.000.000 untuk dirinya dan menyembunyikan sisa uang serta perhiasan di bawah pohon di dekat rumahnya, sedangkan tas-tas tersebut disimpan di jok motor. Berdasarkan laporan korban, polisi berhasil mengamankan terdakwa beserta barang-barang bukti, termasuk sepeda motor dan hoodie yang digunakan untuk membungkus barang curian. Atas perbuatannya, korban mengalami kerugian sekitar Rp19.700.000, dan terdakwa dijerat dengan Pasal 362 KUHP tentang pencurian.",
         "5.0"
        ],
        [
         "35",
         "0",
         "1",
         "4",
         "3",
         "84",
         "RIFQI ABDURAHMAN",
         "Pada Minggu, 11 Desember 2022 sekitar pukul 00.30 WITA, terdakwa I Rifqi Abdurahman dan terdakwa II Gunawan melakukan pencurian sepeda motor di pinggir Jalan Raya Kayuambua, Bangli. Sebelumnya, pada 10 Desember 2022, terdakwa II meminta terdakwa I mencarikan sepeda motor Kawasaki KLX untuk dibeli seharga Rp3.000.000. Keduanya lalu berangkat ke daerah Kintamani dengan sepeda motor modifikasi tanpa nomor polisi. Saat tiba di lokasi, mereka melihat motor Kawasaki KLX 150 C tanpa nomor polisi dan kunci kontak, lalu terdakwa I mendorong motor tersebut menjauh sementara terdakwa II mengawasi. Karena motor cetul milik terdakwa II rusak, terdakwa I mendorong motor sendirian dan sempat dicegat dua saksi yang curiga. Setelah berhasil menyalakan motor dan mengendarainya sejauh 100 meter, motor mogok karena kehabisan bensin. Terdakwa I lalu mendorong ke SPBU Sekardadi dan tertidur di sana. Sementara itu, saksi korban mengonfirmasi kehilangan motornya dan bersama saksi lainnya serta polisi, menemukan terdakwa I di SPBU. Polisi kemudian menangkap terdakwa II di Desa Dumilih saat tertidur di emper toko. Akibat perbuatan para terdakwa, korban I Wayan Eva Kusuma Putra mengalami kerugian sekitar Rp16.000.000. Perbuatan Terdakwa didakwa dengan dakwaan primair Pasal 363 Ayat (1) ke-4 KUHP, dan dakwaan subsidair Pasal 362 KUHP.",
         "8.0"
        ],
        [
         "36",
         "0",
         "1",
         "4",
         "3",
         "84",
         "GUNAWAN",
         "Pada Minggu, 11 Desember 2022 sekitar pukul 00.30 WITA, terdakwa I Rifqi Abdurahman dan terdakwa II Gunawan melakukan pencurian sepeda motor di pinggir Jalan Raya Kayuambua, Bangli. Sebelumnya, pada 10 Desember 2022, terdakwa II meminta terdakwa I mencarikan sepeda motor Kawasaki KLX untuk dibeli seharga Rp3.000.000. Keduanya lalu berangkat ke daerah Kintamani dengan sepeda motor modifikasi tanpa nomor polisi. Saat tiba di lokasi, mereka melihat motor Kawasaki KLX 150 C tanpa nomor polisi dan kunci kontak, lalu terdakwa I mendorong motor tersebut menjauh sementara terdakwa II mengawasi. Karena motor cetul milik terdakwa II rusak, terdakwa I mendorong motor sendirian dan sempat dicegat dua saksi yang curiga. Setelah berhasil menyalakan motor dan mengendarainya sejauh 100 meter, motor mogok karena kehabisan bensin. Terdakwa I lalu mendorong ke SPBU Sekardadi dan tertidur di sana. Sementara itu, saksi korban mengonfirmasi kehilangan motornya dan bersama saksi lainnya serta polisi, menemukan terdakwa I di SPBU. Polisi kemudian menangkap terdakwa II di Desa Dumilih saat tertidur di emper toko. Akibat perbuatan para terdakwa, korban I Wayan Eva Kusuma Putra mengalami kerugian sekitar Rp16.000.000. Perbuatan Terdakwa didakwa dengan dakwaan primair Pasal 363 Ayat (1) ke-4 KUHP, dan dakwaan subsidair Pasal 362 KUHP.",
         "8.0"
        ],
        [
         "37",
         "0",
         "16",
         "0",
         "6",
         "80",
         "Gede Kastawa",
         "Terdakwa Gede Kastawa didakwa melakukan serangkaian tindak pidana pencurian ayam di wilayah Kintamani, Bangli, pada bulan Oktober 2022. Pada 21 Oktober 2022, terdakwa mencuri 6 ekor ayam dari belakang rumah korban I Wayan Sukada di Desa Belantih, lalu menjualnya di Pasar Anyar Singaraja seharga Rp800.000. Hasil penjualan digunakan untuk membeli ayam aduan dan berjudi. Kemudian, pada 28 Oktober 2022, terdakwa mencuri 15 ekor ayam milik korban I Made Terus dari kebun jeruk di Desa Belanga, yang kembali dijual dan hasilnya dipakai untuk berjudi. Selanjutnya, pada 30 Oktober 2022, terdakwa beraksi di pondokan milik korban I Wayan Lusin di Desa Belanga, mencuri seekor ayam namun aksinya diketahui oleh saksi dan warga sehingga berhasil diamankan. Total kerugian para korban mencapai sekitar Rp3.500.000. Terdakwa mengaku melakukan pencurian karena alasan ekonomi. Perbuatannya diancam pidana sesuai Pasal 362 jo. Pasal 65 Ayat (1) KUHP.",
         "30.0"
        ],
        [
         "38",
         "0",
         "17",
         "0",
         "6",
         "80",
         "Gede Kastawa",
         "Terdakwa Gede Kastawa didakwa melakukan serangkaian tindak pidana pencurian ayam di wilayah Kintamani, Bangli, pada bulan Oktober 2022. Pada 21 Oktober 2022, terdakwa mencuri 6 ekor ayam dari belakang rumah korban I Wayan Sukada di Desa Belantih, lalu menjualnya di Pasar Anyar Singaraja seharga Rp800.000. Hasil penjualan digunakan untuk membeli ayam aduan dan berjudi. Kemudian, pada 28 Oktober 2022, terdakwa mencuri 15 ekor ayam milik korban I Made Terus dari kebun jeruk di Desa Belanga, yang kembali dijual dan hasilnya dipakai untuk berjudi. Selanjutnya, pada 30 Oktober 2022, terdakwa beraksi di pondokan milik korban I Wayan Lusin di Desa Belanga, mencuri seekor ayam namun aksinya diketahui oleh saksi dan warga sehingga berhasil diamankan. Total kerugian para korban mencapai sekitar Rp3.500.000. Terdakwa mengaku melakukan pencurian karena alasan ekonomi. Perbuatannya diancam pidana sesuai Pasal 362 jo. Pasal 65 Ayat (1) KUHP.",
         "30.0"
        ],
        [
         "39",
         "0",
         "18",
         "0",
         "5",
         "84",
         "Elias Fanggi",
         "Terdakwa Elias Fanggi didakwa melakukan pencurian tiga ekor anak babi milik saksi I Komang Sucitra pada Sabtu, 27 Maret 2021 sekitar pukul 22.30 WITA di kandang babi yang terletak di Desa Abuan, Kecamatan Kintamani, Kabupaten Bangli. Awalnya, terdakwa datang ke kandang pada sore hari untuk membersihkan tempat tersebut. Namun pada malam harinya, terdakwa masuk ke dalam kandang melalui pintu yang tidak terkunci, lalu mengambil tiga ekor anak babi dan memasukkannya ke dalam karung plastik yang telah disiapkannya. Ia kemudian membawa hasil curian itu dengan sepeda motor milik saksi Leonardus Pendi dengan maksud untuk dijual. Aksi tersebut diketahui oleh pemilik kandang, yang kemudian melaporkan terdakwa ke pihak berwajib. Akibat perbuatan tersebut, saksi I Komang Sucitra mengalami kerugian sebesar Rp3.600.000. Perbuatan Terdakwa didakwa dengan dakwaan primair Pasal 363 Ayat (1) ke-1 KUHP, dan dakwaan subsidair Pasal 374 KUHP.",
         "6.0"
        ],
        [
         "40",
         "0",
         "19",
         "0",
         "5",
         "84",
         "Elias Fanggi",
         "Terdakwa Elias Fanggi didakwa melakukan pencurian tiga ekor anak babi milik saksi I Komang Sucitra pada Sabtu, 27 Maret 2021 sekitar pukul 22.30 WITA di kandang babi yang terletak di Desa Abuan, Kecamatan Kintamani, Kabupaten Bangli. Awalnya, terdakwa datang ke kandang pada sore hari untuk membersihkan tempat tersebut. Namun pada malam harinya, terdakwa masuk ke dalam kandang melalui pintu yang tidak terkunci, lalu mengambil tiga ekor anak babi dan memasukkannya ke dalam karung plastik yang telah disiapkannya. Ia kemudian membawa hasil curian itu dengan sepeda motor milik saksi Leonardus Pendi dengan maksud untuk dijual. Aksi tersebut diketahui oleh pemilik kandang, yang kemudian melaporkan terdakwa ke pihak berwajib. Akibat perbuatan tersebut, saksi I Komang Sucitra mengalami kerugian sebesar Rp3.600.000. Perbuatan Terdakwa didakwa dengan dakwaan primair Pasal 363 Ayat (1) ke-1 KUHP, dan dakwaan subsidair Pasal 374 KUHP.",
         "6.0"
        ],
        [
         "41",
         "0",
         "19",
         "0",
         "15",
         "112",
         "I Wayan Edi Rusmawan",
         "Terdakwa I Wayan Edi Rusmawan didakwa melakukan serangkaian pencurian antara bulan Juni 2020 hingga Januari 2021 di berbagai lokasi di wilayah Kecamatan Kintamani, Kabupaten Bangli. Terdakwa mengambil barang-barang milik sejumlah korban di antaranya I Wayan Sutiana, I Ketut Carem, I Ketut Sudadi, I Nyoman Keneh, Ni Nengah Suantini, I Nyoman Birawan, Ni Ketut Supadmi, I Wayan Darma, I Wayan Ramanto, I Nengah Sapa, dan I Made Sadswadarma. Aksi pencurian tersebut dilakukan terdakwa dengan cara merusak, memanjat, atau masuk secara diam-diam ke kebun, pondokan, warung, dan gudang milik para korban, dengan maksud untuk memiliki barang-barang tersebut secara melawan hukum. Karena dilakukan berulang kali di tempat dan waktu yang berbeda, perbuatan terdakwa dianggap sebagai beberapa kejahatan yang berdiri sendiri. Perbuatan Terdakwa didakwa dengan dakwaan primair Pasal 363 Ayat (1) ke-5 KUHP jo. Pasal 65 ayat (1) KUHP, dan dakwaan subsidair Pasal 362 KUHP Jo Pasal 65 Ayat (1) KUHP.",
         "24.0"
        ],
        [
         "42",
         "0",
         "20",
         "0",
         "15",
         "112",
         "I Wayan Edi Rusmawan",
         "Terdakwa I Wayan Edi Rusmawan didakwa melakukan serangkaian pencurian antara bulan Juni 2020 hingga Januari 2021 di berbagai lokasi di wilayah Kecamatan Kintamani, Kabupaten Bangli. Terdakwa mengambil barang-barang milik sejumlah korban di antaranya I Wayan Sutiana, I Ketut Carem, I Ketut Sudadi, I Nyoman Keneh, Ni Nengah Suantini, I Nyoman Birawan, Ni Ketut Supadmi, I Wayan Darma, I Wayan Ramanto, I Nengah Sapa, dan I Made Sadswadarma. Aksi pencurian tersebut dilakukan terdakwa dengan cara merusak, memanjat, atau masuk secara diam-diam ke kebun, pondokan, warung, dan gudang milik para korban, dengan maksud untuk memiliki barang-barang tersebut secara melawan hukum. Karena dilakukan berulang kali di tempat dan waktu yang berbeda, perbuatan terdakwa dianggap sebagai beberapa kejahatan yang berdiri sendiri. Perbuatan Terdakwa didakwa dengan dakwaan primair Pasal 363 Ayat (1) ke-5 KUHP jo. Pasal 65 ayat (1) KUHP, dan dakwaan subsidair Pasal 362 KUHP Jo Pasal 65 Ayat (1) KUHP.",
         "24.0"
        ],
        [
         "43",
         "2",
         "21",
         "5",
         "4",
         "144",
         "ANJAR RUCHIMAT",
         "Terdakwa Anjar Ruchimat dan Irga Krisna Haryanto R, pada 4 Februari 2020 sekitar pukul 21.30 WITA di pinggir Jalan Raya Merdeka, Bebalang, Bangli, diduga melakukan permufakatan jahat bersama seorang bernama Made Bleteng (DPO) untuk memiliki, menyimpan, menguasai, atau menyediakan Narkotika Golongan I bukan tanaman tanpa hak. Selain itu, Anjar Ruchimat juga terbukti menggunakan narkotika untuk diri sendiri pada 1 Februari 2020 sekitar pukul 15.00 WITA di sebuah penginapan di Kuta, Badung. Demikian pula, Irga Krisna Haryanto R menggunakan narkotika untuk diri sendiri pada 28 Januari 2020 sekitar pukul 22.30 WITA di kamar kontrakannya di Dalung, Badung. Meskipun tempat kejadian perkara berada di wilayah hukum Pengadilan Negeri Denpasar, perkara ini diperiksa oleh Pengadilan Negeri Bangli berdasarkan ketentuan Pasal 84 ayat (2) KUHAP. Perbuatan para terdakwa diancam pidana berdasarkan Pasal 132 Ayat (1) jo. Pasal 112 Ayat (1), serta Pasal 127 Ayat (1) huruf a UU RI No. 35 Tahun 2009 tentang Narkotika.",
         "16.0"
        ],
        [
         "44",
         "2",
         "21",
         "5",
         "4",
         "144",
         "IRGA KRISNA HARYANTO R",
         "Terdakwa Anjar Ruchimat dan Irga Krisna Haryanto R, pada 4 Februari 2020 sekitar pukul 21.30 WITA di pinggir Jalan Raya Merdeka, Bebalang, Bangli, diduga melakukan permufakatan jahat bersama seorang bernama Made Bleteng (DPO) untuk memiliki, menyimpan, menguasai, atau menyediakan Narkotika Golongan I bukan tanaman tanpa hak. Selain itu, Anjar Ruchimat juga terbukti menggunakan narkotika untuk diri sendiri pada 1 Februari 2020 sekitar pukul 15.00 WITA di sebuah penginapan di Kuta, Badung. Demikian pula, Irga Krisna Haryanto R menggunakan narkotika untuk diri sendiri pada 28 Januari 2020 sekitar pukul 22.30 WITA di kamar kontrakannya di Dalung, Badung. Meskipun tempat kejadian perkara berada di wilayah hukum Pengadilan Negeri Denpasar, perkara ini diperiksa oleh Pengadilan Negeri Bangli berdasarkan ketentuan Pasal 84 ayat (2) KUHAP. Perbuatan para terdakwa diancam pidana berdasarkan Pasal 132 Ayat (1) jo. Pasal 112 Ayat (1), serta Pasal 127 Ayat (1) huruf a UU RI No. 35 Tahun 2009 tentang Narkotika.",
         "16.0"
        ],
        [
         "45",
         "2",
         "21",
         "6",
         "6",
         "240",
         "FENNY YANTHI ESMIDAR",
         "Terdakwa Fenny Yanthi Esmidar pada Kamis, 9 Januari 2020 sekitar pukul 23.15 WITA ditangkap di Gang Buntu, belakang Alfamart Jalan Brigjen Ngurah Rai, Bangli, saat baru saja mengambil narkotika jenis sabu yang disembunyikan di semak-semak. Penangkapan dilakukan oleh anggota Satresnarkoba Polres Bangli setelah menerima informasi dari masyarakat. Sebelumnya, terdakwa dihubungi oleh seseorang bernama Desi untuk mengambil narkotika di lokasi tersebut. Dari hasil penggeledahan, ditemukan dua paket sabu dengan berat netto masing-masing 0,08 gram dan 0,05 gram, yang disimpan dalam bungkus rokok dan tas milik terdakwa. Berdasarkan hasil pemeriksaan laboratorium forensik, kedua paket tersebut positif mengandung metamfetamina yang termasuk dalam Narkotika Golongan I. Namun, hasil tes urine terdakwa menunjukkan negatif narkotika/psikotropika. Perbuatan Terdakwa didakwa dengan dakwaan pertama Pasal 114 Ayat (1) UU RI No. 35 Tahun 2009 tentang Narkotika, dan dakwaan kedua Pasal 112 Ayat (1) UU RI No. 35 Tahun 2009 Tentang Narkotika.",
         "102.0"
        ],
        [
         "46",
         "0",
         "22",
         "7",
         "4",
         "84",
         "I WAYAN SUDARPA",
         "Terdakwa I Wayan Sudarpa pada Rabu, 12 Februari 2020 sekitar pukul 01.00 WITA melakukan pencurian tiga ekor sapi milik I Wayan Kasir di Br. Tiying Desa, Desa Pengotan, Kecamatan Bangli. Aksi tersebut direncanakan sebelumnya bersama I Nyoman Bintang, dengan dalih ingin menjual sapi miliknya untuk membayar utang. Pada malam hari yang telah disepakati, terdakwa mendatangi kandang sapi korban dan secara bertahap membawa ketiga sapi tersebut ke mobil pick up milik I Nyoman Bintang yang menunggu di dekat lokasi. Sapi-sapi itu kemudian dibawa dan dijual di Pasar Bringkit, Badung. Dari hasil penjualan, terdakwa menerima uang sebesar Rp20.156.000 setelah dikurangi biaya operasional. Namun, diketahui sapi-sapi tersebut bukan milik terdakwa melainkan milik I Wayan Kasir, yang tidak pernah memberikan izin untuk pengambilan maupun penjualan. Akibat perbuatan terdakwa, korban mengalami kerugian sekitar Rp20.500.000. Tindakan terdakwa diancam pidana berdasarkan Pasal 363 Ayat (1) ke-1 KUHP.",
         "6.0"
        ],
        [
         "47",
         "4",
         "23",
         "8",
         "3",
         "120",
         "Wayan Suartaya",
         "Pada tanggal 21 November 2018 sekitar pukul 18.00 WITA, terdakwa I Ketut Sarjana dan Wayan Suartaya mengadakan permainan judi cap jeki di halaman rumah Ketut Sarjana di Banjar Merta, Desa Awan, Kecamatan Kintamani, Kabupaten Bangli. Mereka menyiapkan berbagai alat perjudian seperti kotak kaleng, perlak, handuk, kartu ceki, serta menyediakan hadiah uang tunai sebesar Rp 5.000.000 bagi pemenang. Ketut Sarjana bertindak sebagai kasir sekaligus bandar yang membayar kemenangan dan mengambil uang taruhan pemain yang kalah, sedangkan Wayan Suartaya bertugas mengocok kartu ceki. Permainan dilakukan dengan dua sistem, yakni sistem \"melok\" (draw) dan \"nyolot\" (menang-kalah), yang masing-masing memiliki aturan dan hadiah berbeda. Saat permainan berlangsung, petugas dari Dit. Reskrimum POLDA Bali melakukan penggerebekan dan menemukan sejumlah barang bukti, termasuk kartu ceki, handuk, kotak kaleng, perlak, dan uang tunai Rp 2.665.000. Permainan judi cap jeki tersebut dilakukan tanpa izin dari pejabat yang berwenang. Perbuatan Terdakwa didakwa dengan dakwaan primair Pasal 303 Ayat (1) ke-1 KUHP jo. Pasal 2 Undang-Undang RI No. 7 Tahun 1974 tentang Penertiban Perjudian, dan dakwaan subsidair Pasal 303 Ayat (1) ke-2 KUHP, jo. Pasal 2 UU RI No. 7 Tahun 1974 Tentang Penertiban Perjudian.",
         "5.0"
        ],
        [
         "48",
         "4",
         "24",
         "8",
         "3",
         "120",
         "Wayan Suartaya",
         "Pada tanggal 21 November 2018 sekitar pukul 18.00 WITA, terdakwa I Ketut Sarjana dan Wayan Suartaya mengadakan permainan judi cap jeki di halaman rumah Ketut Sarjana di Banjar Merta, Desa Awan, Kecamatan Kintamani, Kabupaten Bangli. Mereka menyiapkan berbagai alat perjudian seperti kotak kaleng, perlak, handuk, kartu ceki, serta menyediakan hadiah uang tunai sebesar Rp 5.000.000 bagi pemenang. Ketut Sarjana bertindak sebagai kasir sekaligus bandar yang membayar kemenangan dan mengambil uang taruhan pemain yang kalah, sedangkan Wayan Suartaya bertugas mengocok kartu ceki. Permainan dilakukan dengan dua sistem, yakni sistem \"melok\" (draw) dan \"nyolot\" (menang-kalah), yang masing-masing memiliki aturan dan hadiah berbeda. Saat permainan berlangsung, petugas dari Dit. Reskrimum POLDA Bali melakukan penggerebekan dan menemukan sejumlah barang bukti, termasuk kartu ceki, handuk, kotak kaleng, perlak, dan uang tunai Rp 2.665.000. Permainan judi cap jeki tersebut dilakukan tanpa izin dari pejabat yang berwenang. Perbuatan Terdakwa didakwa dengan dakwaan primair Pasal 303 Ayat (1) ke-1 KUHP jo. Pasal 2 Undang-Undang RI No. 7 Tahun 1974 tentang Penertiban Perjudian, dan dakwaan subsidair Pasal 303 Ayat (1) ke-2 KUHP, jo. Pasal 2 UU RI No. 7 Tahun 1974 Tentang Penertiban Perjudian.",
         "5.0"
        ],
        [
         "49",
         "4",
         "23",
         "8",
         "3",
         "120",
         "I Ketut Sarjana",
         "Pada tanggal 21 November 2018 sekitar pukul 18.00 WITA, terdakwa I Ketut Sarjana dan Wayan Suartaya mengadakan permainan judi cap jeki di halaman rumah Ketut Sarjana di Banjar Merta, Desa Awan, Kecamatan Kintamani, Kabupaten Bangli. Mereka menyiapkan berbagai alat perjudian seperti kotak kaleng, perlak, handuk, kartu ceki, serta menyediakan hadiah uang tunai sebesar Rp 5.000.000 bagi pemenang. Ketut Sarjana bertindak sebagai kasir sekaligus bandar yang membayar kemenangan dan mengambil uang taruhan pemain yang kalah, sedangkan Wayan Suartaya bertugas mengocok kartu ceki. Permainan dilakukan dengan dua sistem, yakni sistem \"melok\" (draw) dan \"nyolot\" (menang-kalah), yang masing-masing memiliki aturan dan hadiah berbeda. Saat permainan berlangsung, petugas dari Dit. Reskrimum POLDA Bali melakukan penggerebekan dan menemukan sejumlah barang bukti, termasuk kartu ceki, handuk, kotak kaleng, perlak, dan uang tunai Rp 2.665.000. Permainan judi cap jeki tersebut dilakukan tanpa izin dari pejabat yang berwenang. Perbuatan Terdakwa didakwa dengan dakwaan primair Pasal 303 Ayat (1) ke-1 KUHP jo. Pasal 2 Undang-Undang RI No. 7 Tahun 1974 tentang Penertiban Perjudian, dan dakwaan subsidair Pasal 303 Ayat (1) ke-2 KUHP, jo. Pasal 2 UU RI No. 7 Tahun 1974 Tentang Penertiban Perjudian.",
         "5.0"
        ]
       ],
       "shape": {
        "columns": 8,
        "rows": 4322
       }
      },
      "text/html": [
       "<div>\n",
       "<style scoped>\n",
       "    .dataframe tbody tr th:only-of-type {\n",
       "        vertical-align: middle;\n",
       "    }\n",
       "\n",
       "    .dataframe tbody tr th {\n",
       "        vertical-align: top;\n",
       "    }\n",
       "\n",
       "    .dataframe thead th {\n",
       "        text-align: right;\n",
       "    }\n",
       "</style>\n",
       "<table border=\"1\" class=\"dataframe\">\n",
       "  <thead>\n",
       "    <tr style=\"text-align: right;\">\n",
       "      <th></th>\n",
       "      <th>klasifikasi_perkara_encoded</th>\n",
       "      <th>penuntut_umum_encoded</th>\n",
       "      <th>hakim_encoded</th>\n",
       "      <th>jumlah_saksi</th>\n",
       "      <th>maks_penjara_berdasarkan_pasal</th>\n",
       "      <th>terdakwa</th>\n",
       "      <th>summarized_dakwaan</th>\n",
       "      <th>total_pidana_penjara_bulan</th>\n",
       "    </tr>\n",
       "  </thead>\n",
       "  <tbody>\n",
       "    <tr>\n",
       "      <th>0</th>\n",
       "      <td>0</td>\n",
       "      <td>0</td>\n",
       "      <td>0</td>\n",
       "      <td>6</td>\n",
       "      <td>80</td>\n",
       "      <td>GEDE DARMAYASA</td>\n",
       "      <td>Terdakwa Gede Darmayasa didakwa telah melakuka...</td>\n",
       "      <td>5.0</td>\n",
       "    </tr>\n",
       "    <tr>\n",
       "      <th>1</th>\n",
       "      <td>1</td>\n",
       "      <td>1</td>\n",
       "      <td>1</td>\n",
       "      <td>4</td>\n",
       "      <td>48</td>\n",
       "      <td>IDA BAGUS MADE DARMA WIGUNA</td>\n",
       "      <td>Pada bulan Februari dan Maret 2024, terdakwa I...</td>\n",
       "      <td>24.0</td>\n",
       "    </tr>\n",
       "    <tr>\n",
       "      <th>2</th>\n",
       "      <td>0</td>\n",
       "      <td>0</td>\n",
       "      <td>2</td>\n",
       "      <td>6</td>\n",
       "      <td>84</td>\n",
       "      <td>HANDRI JOHANAS</td>\n",
       "      <td>Terdakwa Handri Johanes pada Rabu, 24 April 20...</td>\n",
       "      <td>4.0</td>\n",
       "    </tr>\n",
       "    <tr>\n",
       "      <th>3</th>\n",
       "      <td>2</td>\n",
       "      <td>2</td>\n",
       "      <td>1</td>\n",
       "      <td>2</td>\n",
       "      <td>144</td>\n",
       "      <td>I GEDE ARIADI alias BERNAD</td>\n",
       "      <td>Pada hari Minggu, 14 April 2024 sekitar pukul ...</td>\n",
       "      <td>14.0</td>\n",
       "    </tr>\n",
       "    <tr>\n",
       "      <th>4</th>\n",
       "      <td>2</td>\n",
       "      <td>3</td>\n",
       "      <td>1</td>\n",
       "      <td>2</td>\n",
       "      <td>144</td>\n",
       "      <td>I GEDE ARIADI alias BERNAD</td>\n",
       "      <td>Pada hari Minggu, 14 April 2024 sekitar pukul ...</td>\n",
       "      <td>14.0</td>\n",
       "    </tr>\n",
       "    <tr>\n",
       "      <th>...</th>\n",
       "      <td>...</td>\n",
       "      <td>...</td>\n",
       "      <td>...</td>\n",
       "      <td>...</td>\n",
       "      <td>...</td>\n",
       "      <td>...</td>\n",
       "      <td>...</td>\n",
       "      <td>...</td>\n",
       "    </tr>\n",
       "    <tr>\n",
       "      <th>4317</th>\n",
       "      <td>2</td>\n",
       "      <td>347</td>\n",
       "      <td>128</td>\n",
       "      <td>2</td>\n",
       "      <td>240</td>\n",
       "      <td>NURUL FIQRI SUDIRMAN als KIKI bin SUDIRMAN</td>\n",
       "      <td>Pada Jumat, 31 Maret 2023, sekitar pukul 20.30...</td>\n",
       "      <td>72.0</td>\n",
       "    </tr>\n",
       "    <tr>\n",
       "      <th>4318</th>\n",
       "      <td>0</td>\n",
       "      <td>361</td>\n",
       "      <td>117</td>\n",
       "      <td>2</td>\n",
       "      <td>84</td>\n",
       "      <td>SUPRIADI BIN RATIM</td>\n",
       "      <td>Pada hari Minggu, 28 Mei 2023, sekitar pukul 1...</td>\n",
       "      <td>16.0</td>\n",
       "    </tr>\n",
       "    <tr>\n",
       "      <th>4319</th>\n",
       "      <td>0</td>\n",
       "      <td>363</td>\n",
       "      <td>117</td>\n",
       "      <td>2</td>\n",
       "      <td>84</td>\n",
       "      <td>SUPRIADI BIN RATIM</td>\n",
       "      <td>Pada hari Minggu, 28 Mei 2023, sekitar pukul 1...</td>\n",
       "      <td>16.0</td>\n",
       "    </tr>\n",
       "    <tr>\n",
       "      <th>4320</th>\n",
       "      <td>0</td>\n",
       "      <td>361</td>\n",
       "      <td>117</td>\n",
       "      <td>2</td>\n",
       "      <td>84</td>\n",
       "      <td>ANWAR RURI BIN SYARIFUDIN USMAN</td>\n",
       "      <td>Pada hari Minggu, 28 Mei 2023, sekitar pukul 1...</td>\n",
       "      <td>16.0</td>\n",
       "    </tr>\n",
       "    <tr>\n",
       "      <th>4321</th>\n",
       "      <td>0</td>\n",
       "      <td>363</td>\n",
       "      <td>117</td>\n",
       "      <td>2</td>\n",
       "      <td>84</td>\n",
       "      <td>ANWAR RURI BIN SYARIFUDIN USMAN</td>\n",
       "      <td>Pada hari Minggu, 28 Mei 2023, sekitar pukul 1...</td>\n",
       "      <td>16.0</td>\n",
       "    </tr>\n",
       "  </tbody>\n",
       "</table>\n",
       "<p>4322 rows × 8 columns</p>\n",
       "</div>"
      ],
      "text/plain": [
       "      klasifikasi_perkara_encoded  penuntut_umum_encoded  hakim_encoded  \\\n",
       "0                               0                      0              0   \n",
       "1                               1                      1              1   \n",
       "2                               0                      0              2   \n",
       "3                               2                      2              1   \n",
       "4                               2                      3              1   \n",
       "...                           ...                    ...            ...   \n",
       "4317                            2                    347            128   \n",
       "4318                            0                    361            117   \n",
       "4319                            0                    363            117   \n",
       "4320                            0                    361            117   \n",
       "4321                            0                    363            117   \n",
       "\n",
       "      jumlah_saksi  maks_penjara_berdasarkan_pasal  \\\n",
       "0                6                              80   \n",
       "1                4                              48   \n",
       "2                6                              84   \n",
       "3                2                             144   \n",
       "4                2                             144   \n",
       "...            ...                             ...   \n",
       "4317             2                             240   \n",
       "4318             2                              84   \n",
       "4319             2                              84   \n",
       "4320             2                              84   \n",
       "4321             2                              84   \n",
       "\n",
       "                                        terdakwa  \\\n",
       "0                                 GEDE DARMAYASA   \n",
       "1                    IDA BAGUS MADE DARMA WIGUNA   \n",
       "2                                 HANDRI JOHANAS   \n",
       "3                     I GEDE ARIADI alias BERNAD   \n",
       "4                     I GEDE ARIADI alias BERNAD   \n",
       "...                                          ...   \n",
       "4317  NURUL FIQRI SUDIRMAN als KIKI bin SUDIRMAN   \n",
       "4318                          SUPRIADI BIN RATIM   \n",
       "4319                          SUPRIADI BIN RATIM   \n",
       "4320             ANWAR RURI BIN SYARIFUDIN USMAN   \n",
       "4321             ANWAR RURI BIN SYARIFUDIN USMAN   \n",
       "\n",
       "                                     summarized_dakwaan  \\\n",
       "0     Terdakwa Gede Darmayasa didakwa telah melakuka...   \n",
       "1     Pada bulan Februari dan Maret 2024, terdakwa I...   \n",
       "2     Terdakwa Handri Johanes pada Rabu, 24 April 20...   \n",
       "3     Pada hari Minggu, 14 April 2024 sekitar pukul ...   \n",
       "4     Pada hari Minggu, 14 April 2024 sekitar pukul ...   \n",
       "...                                                 ...   \n",
       "4317  Pada Jumat, 31 Maret 2023, sekitar pukul 20.30...   \n",
       "4318  Pada hari Minggu, 28 Mei 2023, sekitar pukul 1...   \n",
       "4319  Pada hari Minggu, 28 Mei 2023, sekitar pukul 1...   \n",
       "4320  Pada hari Minggu, 28 Mei 2023, sekitar pukul 1...   \n",
       "4321  Pada hari Minggu, 28 Mei 2023, sekitar pukul 1...   \n",
       "\n",
       "      total_pidana_penjara_bulan  \n",
       "0                            5.0  \n",
       "1                           24.0  \n",
       "2                            4.0  \n",
       "3                           14.0  \n",
       "4                           14.0  \n",
       "...                          ...  \n",
       "4317                        72.0  \n",
       "4318                        16.0  \n",
       "4319                        16.0  \n",
       "4320                        16.0  \n",
       "4321                        16.0  \n",
       "\n",
       "[4322 rows x 8 columns]"
      ]
     },
     "execution_count": 11,
     "metadata": {},
     "output_type": "execute_result"
    }
   ],
   "source": [
    "df_filtered"
   ]
  },
  {
   "cell_type": "markdown",
   "metadata": {},
   "source": [
    "## Model"
   ]
  },
  {
   "cell_type": "markdown",
   "metadata": {},
   "source": [
    "### Model Preprocessing"
   ]
  },
  {
   "cell_type": "code",
   "execution_count": 12,
   "metadata": {},
   "outputs": [],
   "source": [
    "train_df['concat_text'] = train_df[['terdakwa', 'summarized_dakwaan']].apply(lambda x: ' '.join(x), axis=1)\n",
    "test_df['concat_text'] = test_df[['terdakwa', 'summarized_dakwaan']].apply(lambda x: ' '.join(x), axis=1)"
   ]
  },
  {
   "cell_type": "code",
   "execution_count": 13,
   "metadata": {},
   "outputs": [],
   "source": [
    "y_train = train_df['total_pidana_penjara_bulan']\n",
    "y_test = test_df['total_pidana_penjara_bulan']"
   ]
  },
  {
   "cell_type": "markdown",
   "metadata": {},
   "source": [
    "### Normalisasi"
   ]
  },
  {
   "cell_type": "code",
   "execution_count": 14,
   "metadata": {},
   "outputs": [],
   "source": [
    "def normalize_text(text):\n",
    "    text = text.lower()\n",
    "    text = re.sub(r'[^a-z\\s]', '', text)\n",
    "    text = re.sub(r'\\s+', ' ', text).strip()\n",
    "    return text\n",
    "\n",
    "train_df['normalized_text'] = train_df['concat_text'].apply(normalize_text)\n",
    "test_df['normalized_text'] = test_df['concat_text'].apply(normalize_text)"
   ]
  },
  {
   "cell_type": "markdown",
   "metadata": {},
   "source": [
    "### Stopwords Removal"
   ]
  },
  {
   "cell_type": "code",
   "execution_count": 15,
   "metadata": {},
   "outputs": [
    {
     "name": "stderr",
     "output_type": "stream",
     "text": [
      "[nltk_data] Downloading package stopwords to\n",
      "[nltk_data]     C:\\Users\\Kalea\\AppData\\Roaming\\nltk_data...\n",
      "[nltk_data]   Package stopwords is already up-to-date!\n"
     ]
    }
   ],
   "source": [
    "nltk.download('stopwords')\n",
    "\n",
    "stop_words = set(stopwords.words('indonesian'))\n",
    "\n",
    "def remove_stopwords(text):\n",
    "    return ' '.join([word for word in text.split() if word not in stop_words])\n",
    "\n",
    "train_df['stopword_removal'] = train_df['normalized_text'].apply(remove_stopwords)\n",
    "test_df['stopword_removal'] = test_df['normalized_text'].apply(remove_stopwords)"
   ]
  },
  {
   "cell_type": "markdown",
   "metadata": {},
   "source": [
    "### Stemming"
   ]
  },
  {
   "cell_type": "code",
   "execution_count": 16,
   "metadata": {},
   "outputs": [],
   "source": [
    "stemmer = PorterStemmer()\n",
    "\n",
    "def stem_text(text):\n",
    "    return ' '.join([stemmer.stem(word) for word in text.split()])\n",
    "\n",
    "train_df['stemmed_text'] = train_df['stopword_removal'].apply(stem_text)\n",
    "test_df['stemmed_text'] = test_df['stopword_removal'].apply(stem_text)"
   ]
  },
  {
   "cell_type": "markdown",
   "metadata": {},
   "source": [
    "### Tokenizer"
   ]
  },
  {
   "cell_type": "code",
   "execution_count": 17,
   "metadata": {},
   "outputs": [],
   "source": [
    "# Tokenisasi\n",
    "tokenizer = tf.keras.preprocessing.text.Tokenizer()\n",
    "\n",
    "tokenizer.fit_on_texts(train_df['stemmed_text'])\n",
    "train_sequences = tokenizer.texts_to_sequences(train_df['stemmed_text'])\n",
    "test_sequences = tokenizer.texts_to_sequences(test_df['stemmed_text'])"
   ]
  },
  {
   "cell_type": "code",
   "execution_count": 18,
   "metadata": {},
   "outputs": [],
   "source": [
    "# Padding\n",
    "max_len = max(len(seq) for seq in train_sequences)\n",
    "X_train_texts = tf.keras.preprocessing.sequence.pad_sequences(train_sequences, maxlen=max_len, padding='post', truncating='post')\n",
    "X_test_texts = tf.keras.preprocessing.sequence.pad_sequences(test_sequences, maxlen=max_len, padding='post', truncating='post')"
   ]
  },
  {
   "cell_type": "code",
   "execution_count": 19,
   "metadata": {},
   "outputs": [
    {
     "name": "stdout",
     "output_type": "stream",
     "text": [
      "1600\n"
     ]
    }
   ],
   "source": [
    "print(max_len)"
   ]
  },
  {
   "cell_type": "markdown",
   "metadata": {},
   "source": [
    "### Numerical Features"
   ]
  },
  {
   "cell_type": "code",
   "execution_count": 20,
   "metadata": {},
   "outputs": [],
   "source": [
    "train_numerical = tf.constant(train_df[['klasifikasi_perkara_encoded', 'penuntut_umum_encoded', 'hakim_encoded', 'jumlah_saksi', 'maks_penjara_berdasarkan_pasal']].values, dtype=tf.float32)\n",
    "test_numerical = tf.constant(test_df[['klasifikasi_perkara_encoded', 'penuntut_umum_encoded', 'hakim_encoded', 'jumlah_saksi', 'maks_penjara_berdasarkan_pasal']].values, dtype=tf.float32)"
   ]
  },
  {
   "cell_type": "markdown",
   "metadata": {},
   "source": [
    "### Model Architecture"
   ]
  },
  {
   "cell_type": "code",
   "execution_count": 22,
   "metadata": {},
   "outputs": [],
   "source": [
    "text_input = tf.keras.layers.Input(shape=(max_len,), name='text_input')\n",
    "embedding_layer = tf.keras.layers.Embedding(input_dim=len(tokenizer.word_index) + 1, output_dim=128)(text_input)\n",
    "lstm_output = tf.keras.layers.LSTM(16, return_sequences=True)(embedding_layer)\n",
    "lstm_output_2 = tf.keras.layers.LSTM(32, return_sequences=True)(lstm_output)\n",
    "lstm_output_3 = tf.keras.layers.LSTM(64)(lstm_output_2)\n",
    "\n",
    "numerical_input = tf.keras.layers.Input(shape=(train_numerical.shape[1],), name='numerical_input')\n",
    "numerical_dense = tf.keras.layers.Dense(32, activation='relu')(numerical_input)\n",
    "numerical_dense_2 = tf.keras.layers.Dense(16, activation='relu')(numerical_dense)\n",
    "\n",
    "combined = tf.keras.layers.Concatenate()([lstm_output_3, numerical_dense_2])\n",
    "\n",
    "output = tf.keras.layers.Dense(1, activation='linear')(combined)"
   ]
  },
  {
   "cell_type": "code",
   "execution_count": 23,
   "metadata": {},
   "outputs": [
    {
     "name": "stdout",
     "output_type": "stream",
     "text": [
      "Model: \"model\"\n",
      "__________________________________________________________________________________________________\n",
      " Layer (type)                   Output Shape         Param #     Connected to                     \n",
      "==================================================================================================\n"
     ]
    },
    {
     "name": "stdout",
     "output_type": "stream",
     "text": [
      " text_input (InputLayer)        [(None, 1600)]       0           []                               \n",
      "                                                                                                  \n",
      " embedding_1 (Embedding)        (None, 1600, 128)    1918592     ['text_input[0][0]']             \n",
      "                                                                                                  \n",
      " lstm_3 (LSTM)                  (None, 1600, 16)     9280        ['embedding_1[0][0]']            \n",
      "                                                                                                  \n",
      " numerical_input (InputLayer)   [(None, 5)]          0           []                               \n",
      "                                                                                                  \n",
      " lstm_4 (LSTM)                  (None, 1600, 32)     6272        ['lstm_3[0][0]']                 \n",
      "                                                                                                  \n",
      " dense_3 (Dense)                (None, 32)           192         ['numerical_input[0][0]']        \n",
      "                                                                                                  \n",
      " lstm_5 (LSTM)                  (None, 64)           24832       ['lstm_4[0][0]']                 \n",
      "                                                                                                  \n",
      " dense_4 (Dense)                (None, 16)           528         ['dense_3[0][0]']                \n",
      "                                                                                                  \n",
      " concatenate_1 (Concatenate)    (None, 80)           0           ['lstm_5[0][0]',                 \n",
      "                                                                  'dense_4[0][0]']                \n",
      "                                                                                                  \n",
      " dense_5 (Dense)                (None, 1)            81          ['concatenate_1[0][0]']          \n",
      "                                                                                                  \n",
      "==================================================================================================\n",
      "Total params: 1,959,777\n",
      "Trainable params: 1,959,777\n",
      "Non-trainable params: 0\n",
      "__________________________________________________________________________________________________\n"
     ]
    }
   ],
   "source": [
    "model = tf.keras.Model(inputs=[text_input, numerical_input], outputs=output)\n",
    "\n",
    "model.compile(optimizer='adam', loss=tf.keras.losses.MeanSquaredError(), metrics=['mean_absolute_error', tf.keras.metrics.RootMeanSquaredError()])\n",
    "model.summary()"
   ]
  },
  {
   "cell_type": "code",
   "execution_count": 24,
   "metadata": {},
   "outputs": [
    {
     "name": "stdout",
     "output_type": "stream",
     "text": [
      "Epoch 1/15\n",
      "103/103 [==============================] - 30s 235ms/step - loss: 599.0087 - mean_absolute_error: 18.2195 - root_mean_squared_error: 24.4747 - val_loss: 426.0600 - val_mean_absolute_error: 14.8569 - val_root_mean_squared_error: 20.6412\n",
      "Epoch 2/15\n",
      "103/103 [==============================] - 25s 242ms/step - loss: 380.0098 - mean_absolute_error: 14.0097 - root_mean_squared_error: 19.4938 - val_loss: 402.8362 - val_mean_absolute_error: 14.2511 - val_root_mean_squared_error: 20.0708\n",
      "Epoch 3/15\n",
      "103/103 [==============================] - 23s 226ms/step - loss: 355.0775 - mean_absolute_error: 13.3811 - root_mean_squared_error: 18.8435 - val_loss: 366.5451 - val_mean_absolute_error: 13.2127 - val_root_mean_squared_error: 19.1454\n",
      "Epoch 4/15\n",
      "103/103 [==============================] - 24s 229ms/step - loss: 341.5949 - mean_absolute_error: 12.9301 - root_mean_squared_error: 18.4823 - val_loss: 363.4661 - val_mean_absolute_error: 13.1752 - val_root_mean_squared_error: 19.0648\n",
      "Epoch 5/15\n",
      "103/103 [==============================] - 24s 233ms/step - loss: 330.0484 - mean_absolute_error: 12.6608 - root_mean_squared_error: 18.1672 - val_loss: 350.9130 - val_mean_absolute_error: 12.6381 - val_root_mean_squared_error: 18.7327\n",
      "Epoch 6/15\n",
      "103/103 [==============================] - 24s 232ms/step - loss: 323.9802 - mean_absolute_error: 12.5062 - root_mean_squared_error: 17.9995 - val_loss: 340.3920 - val_mean_absolute_error: 12.4352 - val_root_mean_squared_error: 18.4497\n",
      "Epoch 7/15\n",
      "103/103 [==============================] - 24s 235ms/step - loss: 319.3379 - mean_absolute_error: 12.3345 - root_mean_squared_error: 17.8700 - val_loss: 338.9084 - val_mean_absolute_error: 12.4332 - val_root_mean_squared_error: 18.4095\n",
      "Epoch 8/15\n",
      "103/103 [==============================] - 24s 233ms/step - loss: 316.8544 - mean_absolute_error: 12.2637 - root_mean_squared_error: 17.8004 - val_loss: 335.5438 - val_mean_absolute_error: 12.4352 - val_root_mean_squared_error: 18.3179\n",
      "Epoch 9/15\n",
      "103/103 [==============================] - 23s 225ms/step - loss: 315.5878 - mean_absolute_error: 12.1702 - root_mean_squared_error: 17.7648 - val_loss: 346.3217 - val_mean_absolute_error: 12.8467 - val_root_mean_squared_error: 18.6097\n",
      "Epoch 10/15\n",
      "103/103 [==============================] - 22s 218ms/step - loss: 312.3362 - mean_absolute_error: 12.1579 - root_mean_squared_error: 17.6730 - val_loss: 341.8338 - val_mean_absolute_error: 12.8443 - val_root_mean_squared_error: 18.4887\n",
      "Epoch 11/15\n",
      "103/103 [==============================] - 22s 218ms/step - loss: 310.3329 - mean_absolute_error: 12.0795 - root_mean_squared_error: 17.6163 - val_loss: 323.9589 - val_mean_absolute_error: 11.9730 - val_root_mean_squared_error: 17.9989\n",
      "Epoch 12/15\n",
      "103/103 [==============================] - 23s 221ms/step - loss: 308.3083 - mean_absolute_error: 12.0361 - root_mean_squared_error: 17.5587 - val_loss: 333.8714 - val_mean_absolute_error: 12.3437 - val_root_mean_squared_error: 18.2721\n",
      "Epoch 13/15\n",
      "103/103 [==============================] - 23s 226ms/step - loss: 308.5006 - mean_absolute_error: 11.9807 - root_mean_squared_error: 17.5642 - val_loss: 322.1082 - val_mean_absolute_error: 11.9280 - val_root_mean_squared_error: 17.9474\n",
      "Epoch 14/15\n",
      "103/103 [==============================] - 23s 225ms/step - loss: 303.3988 - mean_absolute_error: 11.8377 - root_mean_squared_error: 17.4183 - val_loss: 319.8010 - val_mean_absolute_error: 11.6583 - val_root_mean_squared_error: 17.8830\n",
      "Epoch 15/15\n",
      "103/103 [==============================] - 23s 224ms/step - loss: 303.2075 - mean_absolute_error: 11.7859 - root_mean_squared_error: 17.4129 - val_loss: 316.4752 - val_mean_absolute_error: 11.7283 - val_root_mean_squared_error: 17.7897\n"
     ]
    }
   ],
   "source": [
    "history = model.fit([X_train_texts, train_numerical], y_train, epochs=15, batch_size=32, validation_data=([X_test_texts, test_numerical], y_test))"
   ]
  },
  {
   "cell_type": "code",
   "execution_count": 25,
   "metadata": {},
   "outputs": [
    {
     "name": "stdout",
     "output_type": "stream",
     "text": [
      "33/33 [==============================] - 4s 108ms/step - loss: 316.4752 - mean_absolute_error: 11.7283 - root_mean_squared_error: 17.7897\n",
      "Model Loss: [316.47515869140625, 11.728261947631836, 17.78974723815918]\n"
     ]
    }
   ],
   "source": [
    "loss = model.evaluate([X_test_texts, test_numerical], y_test)\n",
    "print(f'Model Loss: {loss}')"
   ]
  },
  {
   "cell_type": "code",
   "execution_count": 26,
   "metadata": {},
   "outputs": [
    {
     "data": {
      "image/png": "[encoded data removed]",
      "text/plain": [
       "<Figure size 640x480 with 1 Axes>"
      ]
     },
     "metadata": {},
     "output_type": "display_data"
    },
    {
     "data": {
      "image/png": "[encoded data removed]",
      "text/plain": [
       "<Figure size 640x480 with 1 Axes>"
      ]
     },
     "metadata": {},
     "output_type": "display_data"
    },
    {
     "data": {
      "image/png": "[encoded data removed]",
      "text/plain": [
       "<Figure size 640x480 with 1 Axes>"
      ]
     },
     "metadata": {},
     "output_type": "display_data"
    }
   ],
   "source": [
    "plt.plot(history.history['mean_absolute_error'])\n",
    "plt.plot(history.history['val_mean_absolute_error'])\n",
    "plt.title('Model Mean Absolute Error')\n",
    "plt.ylabel('Mean Absolute Error')\n",
    "plt.xlabel('Epoch')\n",
    "plt.legend(['Train', 'Validation'], loc='upper left')\n",
    "plt.show()\n",
    "\n",
    "plt.plot(history.history['loss'])\n",
    "plt.plot(history.history['val_loss'])\n",
    "plt.title('Model Loss')\n",
    "plt.ylabel('Loss')\n",
    "plt.xlabel('Epoch')\n",
    "plt.legend(['Train', 'Validation'], loc='upper left')\n",
    "plt.show()\n",
    "\n",
    "plt.plot(history.history['root_mean_squared_error'])\n",
    "plt.plot(history.history['val_root_mean_squared_error'])\n",
    "plt.title('Model Root Mean Squared Error')\n",
    "plt.ylabel('Root Mean Squared Error')\n",
    "plt.xlabel('Epoch')\n",
    "plt.legend(['Train', 'Validation'], loc='upper left')\n",
    "plt.show()"
   ]
  },
  {
   "cell_type": "markdown",
   "metadata": {},
   "source": [
    "### Inference"
   ]
  },
  {
   "cell_type": "code",
   "execution_count": 28,
   "metadata": {},
   "outputs": [
    {
     "name": "stdout",
     "output_type": "stream",
     "text": [
      "1/1 [==============================] - 1s 791ms/step\n",
      "Predicted Putusan: [21.121672]\n"
     ]
    }
   ],
   "source": [
    "klasifikasi_perkara_encoded = 0\n",
    "penuntut_umum_encoded = 0\n",
    "hakim_encoded = 7\n",
    "jumlah_saksi_inference = 6\n",
    "maks_penjara_berdasarkan_pasal = 84\n",
    "\n",
    "inference_text = [\"buah sabit gagang kayu buah jare plastik paranet warna hitam uta tali plastik warna biru meter puluh buah kantong plastik kresek uta tali kain warna merah cm dimusnahkan unit mobil merek suzuki st pick up warna hitam dk kc noka mhyesljj nosin gaid beserta kunci kontak lembar stnk mobil merek suzuki st pick up warna hitam dk kc noka mhyesljj nosin gaid nama pemilik an i kadek kondrayasa dikembalikan i gede agu wirayuda buah durian jeni durian kane dikembalikan i wayan sukaren lembar nota pembelian buah durian toko tiara durian dikembalikan komang ayu anggreni bela buah durian jeni durian kane lembar nota pembelian buah durian toko semut durian dikembalikan komang sujana uang tunai rp ratu delapan puluh tujuh ribu rupiah dirampa negara membebankan terdakwa membayar biaya perkara rp ribu rupiah terdakwa gede darmayasa selasa tanggal mei sekira jam wita selasa tanggal mei sekira jam wita sabtu tanggal mei sekira jam wita setidaktidaknya mei setidaktidaknya kebun milik i wayan sukerena banjar desa bunutin kecamatan kintamani kab bangli kebun milik i nyoman susila banjar desa bunutin kecamatan kintamani kab bangli kebun milik i ketut tindih banjar desa pengejaran kecamatan kintamani kab bangli setidaktidaknya daerah hukum pengadilan negeri bangli perbuatan dipandang perbuatan berdiri kejahatan mengambil barang kepunyaan orang maksud dimiliki melawan hukum terdakwa caracara selasa tanggal mei sekira wita terdakwa berangkat rumah terdakwa br dina pudeh ds tajun kec kubutambahan kab buleleng mobil suzuki carri pick up warna hitam dk kc pergi brd bunutin kec kintamani kab bangli melewati simpang pasar tenten kintamani tujuan memb menawarkan buah durian dipohonnya sesampainya terdakwa brd bunutin kec kintamani kab bangli sekira wita terdakwa pohon durian berbuah kebun milik i wayan sukerena dipinggir jalan raya ds bunutin kec kintamani kab bangli situasi sepi terdakwa melihatlihat buah durian menemukan buah dipetik terdakwa memetik buah durian memanjat pohon durian sabit memotong buah durian pohon bergiliran buah durian terdakwa petik puluh tujuh buahsetelah terkumpul buah durian terdakwa naikan mobil suzuki carri pick up warna hitam dk kc terdakwa kendarai buah durian diata mobil terdakwa meninggalkan kebun milik i wayan sukerena perjalanan terdakwa dipinggir jalan raya ds bunutin kintamani pohon durian berbuah terdakwa turun memarkir mobil suzuki carri pick up warna hitam dk kc dipinggir jalan raya berjalan kaki terdakwa kebun milik i nyoman susila brd bunutin kec kintamani kab bangli sekira wita pohon durian berbuah terdakwa memanjat pohon durian pohon bergantian memetik sabit menurunkan buah durian puluh tujuh buah buah durian turun terkumpul terdakwa naikan mobil suzuki carri pick up warna hitam dk kc terdakwa tutupi buah durian diata mobil jare plastik warna hitam terdakwa ikat tali plastik warna biru buah durian aman diata mobil terdakwa meninggalkan brd bunutin kec kintamani kab bangli rumah terdakwa br dina pudeh ds tajun kac kubutambahan kab buleleng dirumah wita terdakwa langsung menjual durian saksi komang ayu anggreni batu barak desa tajun kec kubutambahan kab buleleng puluh buah berat seratu delapan puluh kg harga rp juta ratu enam bela ribu rupiah sisa buah durian puluh tujuh buah terdakwa bawa pulang kerumah kami tanggal mei sekira wita terdakwa menjual durian jeni durian kane komang sujana gudang milik komang sujana puluh buah durian berat kg buah durian hasil mencuri selasa tanggal mei brd bunutin kec kintamani kab bangli buah durian hasil terdakwa memb petani terdakwa jual harga total rp juta ratu ribu rupiah sabtu tanggal mei sekira wita terdakwa berangkat rumah terdakwa br dina pudeh ds tajun kec kubutambahan kab buleleng mobil suzuki carri pick up warna hitam dk kc pergi brd pengejaran kec kintamani kab bangli sesampainya terdakwa brd pengejaran kec kintamani kab bangli sekira wita melewati simpang lampu terdakwa dikebun milik i ketut tindih berlokasi pinggir jalan raya ds pengejaran situasi sepi terdakwa memanjat pohon durian pohon bergantian memetik buah durian sabit buah menjatuhkan buah durian ketanah terdakwa mengumpulkan buah durian terdakwa petik terdakwa menaikan buah durian mobil carri terdakwa bawa buah durian terdakwa tutupi buah durian diata mobil jare plastik warna hitam terdakwa ikat tali plastik warna biru buah durian aman diata mobil terdakwa meninggalkan brd pengejaran kec kintamani kab bangli rumah terdakwa br dina pudeh ds tajun kac kubutambahan kab buleleng pulang kerumahnya terdakwa pergi desa tajun menjual buah durian komang ayu anggreni buah harga rp juta ratu delapan puluh ribu rupiah menjual buah durian terdakwa langsung pulang rumah terdakwa br dina pudeh ds tajun kac kubutambahan kab buleleng terdakwa mengambil enam puluh tujuh buah durian kane ijin saksi i wayan sukerena saksi i nyoman susila saksi i ketut tindih memiliki buah durian menjualnya uang hasil penjualan biaya hidup seharihari akibat perbuatan terdakwa mengakibatkan saksi i wayan sukerena mengalami kerugian rp juta ratu puluh ribu rupiah saksi i ketut tindih mengalami kerugian rp juta ratu ribu rupiah saksi i nyoman susila mengalami kerugian rp juta rupiah setidaktidaknya rp ratu puluh rupiah diatur diancam pidana pasal kuhp jo pasal ayat kuhp gede darmayasa\"]\n",
    "inference_numerical_tensor = tf.constant([[klasifikasi_perkara_encoded, penuntut_umum_encoded, hakim_encoded, jumlah_saksi_inference, maks_penjara_berdasarkan_pasal]], dtype=tf.float32)\n",
    "\n",
    "new_sequences = tokenizer.texts_to_sequences(inference_text)\n",
    "inference_text = tf.keras.preprocessing.sequence.pad_sequences(new_sequences, maxlen=max_len, padding='post')\n",
    "\n",
    "predictions = model.predict([inference_text, inference_numerical_tensor])\n",
    "\n",
    "print(f'Predicted Putusan: {predictions[0]}')"
   ]
  },
  {
   "cell_type": "code",
   "execution_count": 44,
   "metadata": {},
   "outputs": [
    {
     "name": "stderr",
     "output_type": "stream",
     "text": [
      "WARNING:absl:Found untraced functions such as lstm_cell_6_layer_call_fn, lstm_cell_6_layer_call_and_return_conditional_losses, lstm_cell_7_layer_call_fn, lstm_cell_7_layer_call_and_return_conditional_losses, lstm_cell_8_layer_call_fn while saving (showing 5 of 6). These functions will not be directly callable after loading.\n"
     ]
    },
    {
     "name": "stdout",
     "output_type": "stream",
     "text": [
      "INFO:tensorflow:Assets written to: ../Model/LSTM_NO_PASAL_NO_BARANG_BUKTI\\assets\n"
     ]
    },
    {
     "name": "stderr",
     "output_type": "stream",
     "text": [
      "INFO:tensorflow:Assets written to: ../Model/LSTM_NO_PASAL_NO_BARANG_BUKTI\\assets\n"
     ]
    }
   ],
   "source": [
    "model.save('../Model/LSTM_NO_PASAL_NO_BARANG_BUKTI')\n",
    "\n",
    "with open('../Model/LSTM tokenizer.pkl', 'wb') as handle:\n",
    "    pickle.dump(tokenizer, handle)"
   ]
  },
  {
   "cell_type": "markdown",
   "metadata": {},
   "source": [
    "## Saved Model Inference"
   ]
  },
  {
   "cell_type": "code",
   "execution_count": null,
   "metadata": {},
   "outputs": [],
   "source": [
    "loaded_model = tf.keras.models.load_model('../Model/')\n",
    "    \n",
    "with open('../Model/LSTM tokenizer.pkl', 'rb') as handle:\n",
    "    tokenizer = pickle.load(handle)"
   ]
  },
  {
   "cell_type": "code",
   "execution_count": null,
   "metadata": {},
   "outputs": [
    {
     "ename": "NameError",
     "evalue": "name 'max_len' is not defined",
     "output_type": "error",
     "traceback": [
      "\u001b[1;31m---------------------------------------------------------------------------\u001b[0m",
      "\u001b[1;31mNameError\u001b[0m                                 Traceback (most recent call last)",
      "Cell \u001b[1;32mIn[3], line 11\u001b[0m\n\u001b[0;32m      8\u001b[0m inference_numerical_tensor \u001b[38;5;241m=\u001b[39m tf\u001b[38;5;241m.\u001b[39mconstant([[klasifikasi_perkara_encoded, penuntut_umum_encoded, hakim_encoded, jumlah_saksi_inference]], dtype\u001b[38;5;241m=\u001b[39mtf\u001b[38;5;241m.\u001b[39mfloat32)\n\u001b[0;32m     10\u001b[0m new_sequences \u001b[38;5;241m=\u001b[39m tokenizer\u001b[38;5;241m.\u001b[39mtexts_to_sequences(inference_text)\n\u001b[1;32m---> 11\u001b[0m inference_text \u001b[38;5;241m=\u001b[39m tf\u001b[38;5;241m.\u001b[39mkeras\u001b[38;5;241m.\u001b[39mpreprocessing\u001b[38;5;241m.\u001b[39msequence\u001b[38;5;241m.\u001b[39mpad_sequences(new_sequences, maxlen\u001b[38;5;241m=\u001b[39m\u001b[43mmax_len\u001b[49m, padding\u001b[38;5;241m=\u001b[39m\u001b[38;5;124m'\u001b[39m\u001b[38;5;124mpost\u001b[39m\u001b[38;5;124m'\u001b[39m)\n\u001b[0;32m     13\u001b[0m predictions \u001b[38;5;241m=\u001b[39m model\u001b[38;5;241m.\u001b[39mpredict([inference_text, inference_numerical_tensor])\n\u001b[0;32m     15\u001b[0m \u001b[38;5;28mprint\u001b[39m(\u001b[38;5;124mf\u001b[39m\u001b[38;5;124m'\u001b[39m\u001b[38;5;124mPredicted Putusan: \u001b[39m\u001b[38;5;132;01m{\u001b[39;00mpredictions[\u001b[38;5;241m0\u001b[39m]\u001b[38;5;132;01m}\u001b[39;00m\u001b[38;5;124m'\u001b[39m)\n",
      "\u001b[1;31mNameError\u001b[0m: name 'max_len' is not defined"
     ]
    }
   ],
   "source": [
    "klasifikasi_perkara_encoded = 0\n",
    "penuntut_umum_encoded = 0\n",
    "hakim_encoded = 7\n",
    "jumlah_saksi_inference = 6\n",
    "# maks_penjara_berdasarkan_pasal = n84\n",
    "\n",
    "1600\n",
    "\n",
    "inference_text = [\"buah sabit gagang kayu buah jare plastik paranet warna hitam uta tali plastik warna biru meter puluh buah kantong plastik kresek uta tali kain warna merah cm dimusnahkan unit mobil merek suzuki st pick up warna hitam dk kc noka mhyesljj nosin gaid beserta kunci kontak lembar stnk mobil merek suzuki st pick up warna hitam dk kc noka mhyesljj nosin gaid nama pemilik an i kadek kondrayasa dikembalikan i gede agu wirayuda buah durian jeni durian kane dikembalikan i wayan sukaren lembar nota pembelian buah durian toko tiara durian dikembalikan komang ayu anggreni bela buah durian jeni durian kane lembar nota pembelian buah durian toko semut durian dikembalikan komang sujana uang tunai rp ratu delapan puluh tujuh ribu rupiah dirampa negara membebankan terdakwa membayar biaya perkara rp ribu rupiah terdakwa gede darmayasa selasa tanggal mei sekira jam wita selasa tanggal mei sekira jam wita sabtu tanggal mei sekira jam wita setidaktidaknya mei setidaktidaknya kebun milik i wayan sukerena banjar desa bunutin kecamatan kintamani kab bangli kebun milik i nyoman susila banjar desa bunutin kecamatan kintamani kab bangli kebun milik i ketut tindih banjar desa pengejaran kecamatan kintamani kab bangli setidaktidaknya daerah hukum pengadilan negeri bangli perbuatan dipandang perbuatan berdiri kejahatan mengambil barang kepunyaan orang maksud dimiliki melawan hukum terdakwa caracara selasa tanggal mei sekira wita terdakwa berangkat rumah terdakwa br dina pudeh ds tajun kec kubutambahan kab buleleng mobil suzuki carri pick up warna hitam dk kc pergi brd bunutin kec kintamani kab bangli melewati simpang pasar tenten kintamani tujuan memb menawarkan buah durian dipohonnya sesampainya terdakwa brd bunutin kec kintamani kab bangli sekira wita terdakwa pohon durian berbuah kebun milik i wayan sukerena dipinggir jalan raya ds bunutin kec kintamani kab bangli situasi sepi terdakwa melihatlihat buah durian menemukan buah dipetik terdakwa memetik buah durian memanjat pohon durian sabit memotong buah durian pohon bergiliran buah durian terdakwa petik puluh tujuh buahsetelah terkumpul buah durian terdakwa naikan mobil suzuki carri pick up warna hitam dk kc terdakwa kendarai buah durian diata mobil terdakwa meninggalkan kebun milik i wayan sukerena perjalanan terdakwa dipinggir jalan raya ds bunutin kintamani pohon durian berbuah terdakwa turun memarkir mobil suzuki carri pick up warna hitam dk kc dipinggir jalan raya berjalan kaki terdakwa kebun milik i nyoman susila brd bunutin kec kintamani kab bangli sekira wita pohon durian berbuah terdakwa memanjat pohon durian pohon bergantian memetik sabit menurunkan buah durian puluh tujuh buah buah durian turun terkumpul terdakwa naikan mobil suzuki carri pick up warna hitam dk kc terdakwa tutupi buah durian diata mobil jare plastik warna hitam terdakwa ikat tali plastik warna biru buah durian aman diata mobil terdakwa meninggalkan brd bunutin kec kintamani kab bangli rumah terdakwa br dina pudeh ds tajun kac kubutambahan kab buleleng dirumah wita terdakwa langsung menjual durian saksi komang ayu anggreni batu barak desa tajun kec kubutambahan kab buleleng puluh buah berat seratu delapan puluh kg harga rp juta ratu enam bela ribu rupiah sisa buah durian puluh tujuh buah terdakwa bawa pulang kerumah kami tanggal mei sekira wita terdakwa menjual durian jeni durian kane komang sujana gudang milik komang sujana puluh buah durian berat kg buah durian hasil mencuri selasa tanggal mei brd bunutin kec kintamani kab bangli buah durian hasil terdakwa memb petani terdakwa jual harga total rp juta ratu ribu rupiah sabtu tanggal mei sekira wita terdakwa berangkat rumah terdakwa br dina pudeh ds tajun kec kubutambahan kab buleleng mobil suzuki carri pick up warna hitam dk kc pergi brd pengejaran kec kintamani kab bangli sesampainya terdakwa brd pengejaran kec kintamani kab bangli sekira wita melewati simpang lampu terdakwa dikebun milik i ketut tindih berlokasi pinggir jalan raya ds pengejaran situasi sepi terdakwa memanjat pohon durian pohon bergantian memetik buah durian sabit buah menjatuhkan buah durian ketanah terdakwa mengumpulkan buah durian terdakwa petik terdakwa menaikan buah durian mobil carri terdakwa bawa buah durian terdakwa tutupi buah durian diata mobil jare plastik warna hitam terdakwa ikat tali plastik warna biru buah durian aman diata mobil terdakwa meninggalkan brd pengejaran kec kintamani kab bangli rumah terdakwa br dina pudeh ds tajun kac kubutambahan kab buleleng pulang kerumahnya terdakwa pergi desa tajun menjual buah durian komang ayu anggreni buah harga rp juta ratu delapan puluh ribu rupiah menjual buah durian terdakwa langsung pulang rumah terdakwa br dina pudeh ds tajun kac kubutambahan kab buleleng terdakwa mengambil enam puluh tujuh buah durian kane ijin saksi i wayan sukerena saksi i nyoman susila saksi i ketut tindih memiliki buah durian menjualnya uang hasil penjualan biaya hidup seharihari akibat perbuatan terdakwa mengakibatkan saksi i wayan sukerena mengalami kerugian rp juta ratu puluh ribu rupiah saksi i ketut tindih mengalami kerugian rp juta ratu ribu rupiah saksi i nyoman susila mengalami kerugian rp juta rupiah setidaktidaknya rp ratu puluh rupiah diatur diancam pidana pasal kuhp jo pasal ayat kuhp gede darmayasa\"]\n",
    "inference_numerical_tensor = tf.constant([[klasifikasi_perkara_encoded, penuntut_umum_encoded, hakim_encoded, jumlah_saksi_inference]], dtype=tf.float32)\n",
    "\n",
    "new_sequences = tokenizer.texts_to_sequences(inference_text)\n",
    "inference_text = tf.keras.preprocessing.sequence.pad_sequences(new_sequences, maxlen=max_len, padding='post')\n",
    "\n",
    "predictions = model.predict([inference_text, inference_numerical_tensor])\n",
    "\n",
    "print(f'Predicted Putusan: {predictions[0]}')"
   ]
  },
  {
   "cell_type": "code",
   "execution_count": null,
   "metadata": {},
   "outputs": [],
   "source": []
  }
 ],
 "metadata": {
  "kernelspec": {
   "display_name": "tf_gpu",
   "language": "python",
   "name": "python3"
  },
  "language_info": {
   "codemirror_mode": {
    "name": "ipython",
    "version": 3
   },
   "file_extension": ".py",
   "mimetype": "text/x-python",
   "name": "python",
   "nbconvert_exporter": "python",
   "pygments_lexer": "ipython3",
   "version": "3.9.20"
  }
 },
 "nbformat": 4,
 "nbformat_minor": 2
}
