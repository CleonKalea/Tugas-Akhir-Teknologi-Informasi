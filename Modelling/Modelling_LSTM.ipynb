{
 "cells": [
  {
   "cell_type": "code",
   "execution_count": 2,
   "metadata": {},
   "outputs": [],
   "source": [
    "import numpy as np\n",
    "import pandas as pd\n",
    "from sklearn.model_selection import train_test_split\n",
    "import tensorflow as tf\n",
    "import nltk\n",
    "from nltk.corpus import stopwords\n",
    "import re\n",
    "from nltk.stem import PorterStemmer\n",
    "import matplotlib.pyplot as plt\n",
    "import pickle"
   ]
  },
  {
   "cell_type": "markdown",
   "metadata": {},
   "source": [
    "## Data Preparation"
   ]
  },
  {
   "cell_type": "code",
   "execution_count": 6,
   "metadata": {},
   "outputs": [],
   "source": [
    "df = pd.read_csv('../Data/STAGE 4 FINAL MERGED DATA/STAGE_4_MERGED_FINAL_ENCODED.csv')"
   ]
  },
  {
   "cell_type": "code",
   "execution_count": 7,
   "metadata": {},
   "outputs": [
    {
     "data": {
      "application/vnd.microsoft.datawrangler.viewer.v0+json": {
       "columns": [
        {
         "name": "index",
         "rawType": "int64",
         "type": "integer"
        },
        {
         "name": "klasifikasi_perkara_encoded",
         "rawType": "int64",
         "type": "integer"
        },
        {
         "name": "penuntut_umum_encoded",
         "rawType": "int64",
         "type": "integer"
        },
        {
         "name": "hakim_encoded",
         "rawType": "int64",
         "type": "integer"
        },
        {
         "name": "jumlah_saksi",
         "rawType": "int64",
         "type": "integer"
        },
        {
         "name": "cleaned_barang_bukti",
         "rawType": "object",
         "type": "string"
        },
        {
         "name": "summarized_dakwaan",
         "rawType": "object",
         "type": "string"
        },
        {
         "name": "extracted_pasal",
         "rawType": "object",
         "type": "string"
        },
        {
         "name": "terdakwa",
         "rawType": "object",
         "type": "string"
        },
        {
         "name": "total_pidana_penjara_bulan",
         "rawType": "float64",
         "type": "float"
        }
       ],
       "conversionMethod": "pd.DataFrame",
       "ref": "66f5baed-bb15-47c8-9fe7-04d11f50e90b",
       "rows": [
        [
         "0",
         "0",
         "0",
         "0",
         "6",
         "1 (satu) buah sabit kecil dengan gagang dari kayu 1 (satu) buah jaring plastik paranet warna hitam 1 (satu) utas tali plastik warna biru dengan panjang 7,5 meter 20 (dua puluh) buah kantong plastik kresek 2 (dua) utas tali kain warna merah dengan panjang 80 cm Dimusnahkan 1 (satu) unit mobil merek Suzuki ST 150 Pick Up warna hitam DK 8985 KC, NOKA MHYESL415JJ723753, NOSIN G15AID1125449 beserta kunci kontak 1 (satu) lembar STNK mobil merek Suzuki ST 150 Pick Up warna hitam DK 8985 KC, NOKA MHYESL415JJ723753, NOSIN G15AID1125449 nama pemilik a.n. I Kadek Kondrayasa Dikembalikan kepada I Gede Agus Wirayuda 4 (empat) buah durian jenis durian kane Dikembalikan kepada I Wayan Sukarene, S.E. 1 (satu) lembar nota pembelian buah durian Toko Tiara Durian Dikembalikan kepada Komang Ayu Anggreni 15 (lima belas) buah durian jenis durian kane 1 (satu) lembar nota pembelian buah durian Toko Semut Durian Dikembalikan kepada Komang Sujana Uang tunai sebesar Rp487.000,00 (empat ratus delapan puluh tujuh ribu rupiah) Dirampas untuk negara  6. Membebankan kepada Terdakwa membayar biaya perkara sejumlah Rp5.000,00 (lima ribu rupiah)",
         "Bahwa ia terdakwa Gede Darmayasa pada hari selasa tanggal 21 Mei 2024 sekira jam 06.00 WITA, hari Selasa tanggal 21 Mei 2024 sekira jam 06.30 WITA dan hari Sabtu tanggal 25 Mei 2024 sekira jam 06.00 WITA atau setidak-tidaknya pada waktu lain dalam Bulan Mei tahun 2024 atau setidak-tidaknya pada waktu lain dalam tahun 2024, di kebun milik I Wayan Sukerena, SE di Banjar / Desa Bunutin, Kecamatan Kintamani, Kab. Bangli, di kebun milik I Nyoman Susila di Banjar / Desa Bunutin, Kecamatan Kintamani, Kab. Bangli, dan di kebun milik I Ketut Tindih di Banjar / Desa Pengejaran, Kecamatan Kintamani, Kab. Bangli, atau setidak-tidaknya pada suatu tempat tertentu yang masih termasuk dalam daerah hukum Pengadilan Negeri Bangli, telah melakukan beberapa perbuatan yang harus dipandang sebagai perbuatan yang berdiri sendiri sehingga merupakan beberapa kejahatan yaitu mengambil barang sesuatu yang seluruhnya atau sebagian kepunyaan orang lain, dengan maksud untuk dimiliki secara melawan hukum, yang dilakukan terdakwa dengan cara-cara sebagai berikut. Bahwa pada hari Selasa tanggal 21 Mei 2024 sekira pukul 04.00 WITA terdakwa berangkat dari rumah terdakwa di Br. Dinas Pudeh, Ds. Tajun, Kec. Kubutambahan, Kab. Buleleng dengan menggunakan mobil Suzuki Carry Pick Up warna hitam DK 8985 KC untuk pergi ke Br./Ds. Bunutin, Kec. Kintamani, Kab. Bangli dengan melewati simpang tiga Pasar Tenten Kintamani dengan tujuan untuk membeli dan menawarkan buah durian yang masih ada dipohonnya sesampainya terdakwa di Br./Ds. Bunutin, Kec. Kintamani, Kab. Bangli sekira pukul 06.00 WITA terdakwa melihat pohon durian yang sudah berbuah di kebun milik I WAYAN SUKERENA, S.E. dipinggir Jalan Raya Ds. Bunutin, Kec. Kintamani, Kab. Bangli, karena situasi saat itu sepi selanjutnya terdakwa melihatlihat buah durian tersebut, setelah menemukan buah yang akan dipetik, selanjutnya terdakwa memetik buah durian tersebut dengan memanjat pohon durian tersebut dan dengan menggunakan sabit kecil untuk memotong buah durian tersebut sebanyak 2 (dua) pohon secara bergiliran dengan jumlah buah durian yang terdakwa petik sekitar 37 (tiga puluh tujuh) buah,setelah terkumpul lanjut buah durian tersebut terdakwa naikan di mobil Suzuki Carry Pick Up warna hitam DK 8985 KC yang terdakwa kendarai tersebut, setelah buah durian semua diatas mobil lanjut terdakwa meninggalkan kebun milik I WAYAN SUKERENA, S.E. tersebut. Kemudian dalam perjalanan terdakwa melihat lagi dipinggir Jalan Raya Ds. Bunutin Kintamani ada beberapa pohon durian yang sudah berbuah kemudian terdakwa turun memarkir mobil Suzuki Carry Pick Up warna hitam DK 8985 KC dipinggir jalan raya, setelah itu dengan berjalan kaki terdakwa menuju ke kebun milik I NYOMAN SUSILA di Br./Ds. Bunutin, Kec. Kintamani, Kab. Bangli sekira pukul 06.30 WITA karena melihat pohon durian berbuah cukup banyak akhirnya terdakwa memanjat pohon durian tersebut sebanyak 2 (dua) pohon secara bergantian kemudian memetik dengan menggunakan sabit kecil dan menurunkan buah durian sebanyak 27 (dua puluh tujuh) buah, setelah buah durian turun dan terkumpul kemudian terdakwa naikan ke atas mobil Suzuki Carry Pick Up warna hitam DK 8985 KC setelah itu terdakwa tutupi buah durian diatas mobil tersebut dengan menggunakan jaring plastik warna hitam dan terdakwa ikat dengan tali plastik warna biru supaya buah durian tersebut aman diatas mobil selanjutnya terdakwa meninggalkan Br./Ds. Bunutin, Kec. Kintamani, Kab. Bangli menuju rumah terdakwa di Br. Dinas Pudeh, Ds. Tajun, Kac. Kubutambahan, Kab. Buleleng, namun sebelum sampai dirumah sekitar pukul 14.30 WITA terdakwa langsung menjual durian tersebut kepada saksi Komang Ayu Anggreni di Batu Barak Desa Tajun Kec. Kubutambahan Kab. Buleleng sebanyak 40 (empat puluh) buah dengan berat kurang lebih 180 (seratus delapan puluh) Kg dengan harga Rp. 4.316.000 (empat juta tiga ratus enam belas ribu rupiah), selanjutnya sisa buah durian sebanyak 27 (dua puluh tujuh) buah terdakwa bawa pulang kerumah. Pada hari Kamis tanggal 23 Mei 2024 sekira pukul 18.00 WITA terdakwa menjual durian jenis durian Kane kepada KOMANG SUJANA di Gudang milik KOMANG SUJANA sebanyak 40 (empat puluh) buah durian dengan berat sekitar 200 Kg yang mana 24 buah durian hasil saya mencuri pada hari Selasa tanggal 21 Mei 2024 di Br./Ds. Bunutin, Kec. Kintamani, Kab. Bangli sedangkan 16 buah durian tersebut hasil dari terdakwa membeli di petani yang terdakwa jual dengan harga total Rp. 5.200.000, (lima juta dua ratus ribu rupiah). Selanjutnya pada hari Sabtu tanggal 25 Mei 2024 sekira pukul 04.00 WITA terdakwa berangkat dari rumah terdakwa di Br. Dinas Pudeh, Ds. Tajun. Kec. Kubutambahan, Kab. Buleleng dengan menggunakan mobil Suzuki Carry Pick Up warna hitam DK 8985 KC untuk pergi ke Br./Ds. Pengejaran, Kec. Kintamani, Kab. Bangli, sesampainya terdakwa di Br./Ds. Pengejaran, Kec. Kintamani, Kab. Bangli sekira pukul 06.00 wita dengan melewati simpang tiga Lampu terdakwa tiba dikebun milik I KETUT TINDIH yang berlokasi di pinggir Jalan Raya Ds, Pengejaran, karena situasi sepi terdakwa memanjat pohon durian tersebut sebanyak 2 (dua) pohon secara bergantian selanjutnya memetik buah durian tersebut dengan menggunakan sabit kecil sebanyak 20 (dua) buah dan menjatuhkan buah durian tersebut ketanah setelah itu terdakwa mengumpulkan buah durian yang sudah terdakwa petik selanjutnya terdakwa menaikan buah durian tersebut ke atas mobil carry yang terdakwa bawa selanjutnya buah durian tersebut terdakwa tutupi buah durian diatas mobil tersebut dengan menggunakan jaring plastik warna hitam dan terdakwa ikat dengan tali plastik warna biru supaya buah durian tersebut aman diatas mobil selanjutnya terdakwa meninggalkan Br./Ds. Pengejaran, Kec. Kintamani, Kab. Bangli menuju rumah terdakwa di Br. Dinas Pudeh, Ds. Tajun, Kac. Kubutambahan, Kab. Buleleng, tetapi sebelum pulang kerumahnya terdakwa pergi ke Desa Tajun untuk menjual buah durian tersebut kepada Komang Ayu Anggreni sebanyak 15 buah dengan harga Rp. 1.485.000 (satu juta empat ratus delapan puluh lima ribu rupiah), setelah menjual buah durian tersebut terdakwa langsung pulang menuju rumah terdakwa di Br. Dinas Pudeh, Ds. Tajun, Kac. Kubutambahan, Kab. Buleleng. Bahwa terdakwa mengambil kurang lebih 67 (enam puluh tujuh) buah durian kane tersebut tanpa ijin dari saksi I Wayan Sukerena, SE, saksi I Nyoman Susila, saksi I Ketut Tindih, dan bermaksud untuk memiliki buah durian tersebut dengan menjualnya dan uang hasil penjualan dipergunakan untuk biaya hidup sehari-hari. Akibat dari perbuatan terdakwa tersebut, mengakibatkan saksi I Wayan Sukerena, SE mengalami kerugian sebesar Rp.3.330.000,- (tiga juta tiga ratus tiga puluh ribu rupiah) , saksi I Ketut Tindih mengalami kerugian sebesar Rp.3.500.000,- (tiga juta lima ratus ribu rupiah), dan saksi I Nyoman Susila mengalami kerugian sebesar Rp. 2.000.000,- (dua juta rupiah) atau setidak-tidaknya lebih dari Rp.250,- (dua ratus lima puluh rupiah). - sebagaimana diatur dan diancam pidana dalam Pasal 362 KUHP jo Pasal 65 Ayat (1) KUHP.",
         "['Pasal 362 KUHP jo. Pasal 65 Ayat (1) KUHP']",
         "GEDE DARMAYASA",
         "5.0"
        ],
        [
         "1",
         "0",
         "0",
         "1",
         "6",
         "1 (satu) buah Kotak/Box handphone merk OPPO type A53 warna Hitam, dengan nomor IMEI1/2 867919057365515/867919057365507 1 (satu) lembar nota pembelian 1 (satu) unit handphone merk OPPO type A53 warna hitam, dengan nomor IMEI1/2 867919057365515/867919057365507 dari Anyelir Ponsel pada tanggal 3 April 2020 senilai Rp3.999.000,00 (tiga juta sembilan ratus sembilan puluh sembilan ribu rupiah). 1 (satu) unit handphone merk OPPO type A53 warna hitam, dengan nomor IMEI1/2 867919057365515/867919057365507 Dikembalikan kepada I Nengah Sukadana  6. Membebankan kepada Terdakwa membayar biaya perkara sejumlah Rp5.000,00 (lima ribu rupiah)",
         "Terdakwa Handri Johanes didakwa melakukan pencurian satu unit handphone OPPO A53 warna hitam pada 24 April 2024 sekitar pukul 03.00 WITA di Puri Kanginan, Bangli.Terdakwa yang sebelumnya bekerja di mebel UD. Wisnu, sering keluar masuk area Puri Kanginan.Pada hari kejadian, terdakwa masuk ke dalam Puri mencari teman, namun tidak menemukannya.Saat hendak pulang, ia melihat sebuah handphone sedang dicas di kamar dengan pintu sedikit terbuka.Ia kemudian mengambil handphone tersebut dan pergi.Handphone tersebut dalam keadaan terkunci, sehingga beberapa hari kemudian terdakwa menjualnya kepada Denny Firmansyah di Klungkung seharga Rp300.000, yang kemudian dikirim kepada anaknya di Lombok melalui transfer.Akibat perbuatannya, saksi I Nengah Sukadana mengalami kerugian sebesar Rp3.999.000.Perbuatan terdakwa diancam pidana berdasarkan Pasal 363 Ayat (1) ke-3 KUHP.",
         "['Pasal 363 Ayat (1)']",
         "HANDRI JOHANAS",
         "4.0"
        ],
        [
         "2",
         "1",
         "1",
         "2",
         "2",
         "1 (satu) buah plastik klip bening yang berisi kristal bening yang diduga NarkotikaGolongan I bukan tanaman jenis shabu dengan berat 0,26 (nol koma dua enam) gram bruto atau 0,20 (nol koma dua puluh) gram netto selanjutnya disisihkan seberat 0,02 (nol koma nol dua) gram netto untuk uji labforensik sehingga sisa barang bukti 0,18 (nol koma delapan belas) gram netto 1 (satu) buah micro tube 1 (satu) buah handphone merk REDMI type 10 C warna Hitam berikut dengan 1 (satu) buah simcard 1 (satu) buah Tas selempang merk ALOIPFAX warna hitam Dimusnahkan 1 (satu) unit sepeda motor merk Yamaha Type Jupiter MX warna Hitam DK-6181-LF berikut kunci kontak Dikembalikan kepada yang berhak melalui Terdakwa 6. Membebankan kepada Terdakwa membayar biaya perkara sejumlah Rp5.000,00 (lima ribu rupiah)",
         "Dakwaan Pertama: Pada 14 April 2024, sekitar pukul 16.35 WITA, terdakwa secara tanpa hak atau melawan hukum memiliki, menyimpan, menguasai, atau menyediakan narkotika golongan I bukan tanaman jenis sabu. Perbuatan ini dilakukan setelah terdakwa berkenalan dengan seseorang bernama Kadek (DPO) di Facebook dan melanjutkan percakapan via WhatsApp, yang mengarah pada kesepakatan menggunakan sabu bersama. Terdakwa kemudian menghubungi Mang Donal (DPO) untuk mendapatkan sabu pada 12 April 2024 dan mengambil barang tersebut di Klungkung pada 14 April 2024, sebelum berangkat ke Bangli menggunakan sepeda motor.  Pada saat menghubungi Kadek di Jl. Brigjen Ngurah Rai, Bangli, sekitar pukul 16.35 WITA, terdakwa diamankan oleh tim Opsnal Satresnarkoba Polres Bangli. Saat digeledah, ditemukan barang bukti berupa 0,20 gram sabu yang dibungkus dalam tabung micro tube, disimpan dalam tas selempang, serta barang bukti lain seperti handphone dan sepeda motor. Berdasarkan hasil laboratorium, kristal yang ditemukan mengandung Metamfetamina, yang termasuk dalam narkotika golongan I.  Tindakannya diatur dan diancam pidana dalam Pasal 112 ayat (1) UU No. 35 Tahun 2009 tentang Narkotika.  Dakwaan Kedua: Terdakwa juga didakwa atas penyalahgunaan narkotika untuk konsumsi pribadi pada 11 April 2024, dengan cara menggunakan sabu secara pribadi di garasi mobil rumahnya. Terdakwa menyiapkan alat bong dan menghisap sabu hingga habis. Penggunaan sabu tersebut terjadi dalam kondisi rumah yang sedang sepi dan setelah membeli teh kotak. Tindakannya diatur dan diancam pidana dalam Pasal 127 ayat (1) huruf a UU No. 35 Tahun 2009 tentang Narkotika.",
         "['Pasal 112 Ayat (1) UU No. 35 Tahun 2009 tentang Narkotika', 'Pasal 127 ayat (1) huruf a UU No. 35 Tahun 2009 tentang Narkotika']",
         "I GEDE ARIADI alias BERNAD",
         "14.0"
        ],
        [
         "3",
         "1",
         "2",
         "2",
         "2",
         "1 (satu) buah plastik klip bening yang berisi kristal bening yang diduga NarkotikaGolongan I bukan tanaman jenis shabu dengan berat 0,26 (nol koma dua enam) gram bruto atau 0,20 (nol koma dua puluh) gram netto selanjutnya disisihkan seberat 0,02 (nol koma nol dua) gram netto untuk uji labforensik sehingga sisa barang bukti 0,18 (nol koma delapan belas) gram netto 1 (satu) buah micro tube 1 (satu) buah handphone merk REDMI type 10 C warna Hitam berikut dengan 1 (satu) buah simcard 1 (satu) buah Tas selempang merk ALOIPFAX warna hitam Dimusnahkan 1 (satu) unit sepeda motor merk Yamaha Type Jupiter MX warna Hitam DK-6181-LF berikut kunci kontak Dikembalikan kepada yang berhak melalui Terdakwa 6. Membebankan kepada Terdakwa membayar biaya perkara sejumlah Rp5.000,00 (lima ribu rupiah)",
         "Dakwaan Pertama: Pada 14 April 2024, sekitar pukul 16.35 WITA, terdakwa secara tanpa hak atau melawan hukum memiliki, menyimpan, menguasai, atau menyediakan narkotika golongan I bukan tanaman jenis sabu. Perbuatan ini dilakukan setelah terdakwa berkenalan dengan seseorang bernama Kadek (DPO) di Facebook dan melanjutkan percakapan via WhatsApp, yang mengarah pada kesepakatan menggunakan sabu bersama. Terdakwa kemudian menghubungi Mang Donal (DPO) untuk mendapatkan sabu pada 12 April 2024 dan mengambil barang tersebut di Klungkung pada 14 April 2024, sebelum berangkat ke Bangli menggunakan sepeda motor.  Pada saat menghubungi Kadek di Jl. Brigjen Ngurah Rai, Bangli, sekitar pukul 16.35 WITA, terdakwa diamankan oleh tim Opsnal Satresnarkoba Polres Bangli. Saat digeledah, ditemukan barang bukti berupa 0,20 gram sabu yang dibungkus dalam tabung micro tube, disimpan dalam tas selempang, serta barang bukti lain seperti handphone dan sepeda motor. Berdasarkan hasil laboratorium, kristal yang ditemukan mengandung Metamfetamina, yang termasuk dalam narkotika golongan I.  Tindakannya diatur dan diancam pidana dalam Pasal 112 ayat (1) UU No. 35 Tahun 2009 tentang Narkotika.  Dakwaan Kedua: Terdakwa juga didakwa atas penyalahgunaan narkotika untuk konsumsi pribadi pada 11 April 2024, dengan cara menggunakan sabu secara pribadi di garasi mobil rumahnya. Terdakwa menyiapkan alat bong dan menghisap sabu hingga habis. Penggunaan sabu tersebut terjadi dalam kondisi rumah yang sedang sepi dan setelah membeli teh kotak. Tindakannya diatur dan diancam pidana dalam Pasal 127 ayat (1) huruf a UU No. 35 Tahun 2009 tentang Narkotika.",
         "['Pasal 112 Ayat (1) UU No. 35 Tahun 2009 tentang Narkotika', 'Pasal 127 ayat (1) huruf a UU No. 35 Tahun 2009 tentang Narkotika']",
         "I GEDE ARIADI alias BERNAD",
         "14.0"
        ],
        [
         "4",
         "0",
         "3",
         "2",
         "4",
         "1 (satu) unit sepeda motor merk Honda Scoopy warna merah hitam DK 6384 PQ, NOKA MH1JM311XHK071492, NOSIN JM31E-1076227 beserta kunci kontak 1 (satu) lembar STNK sepeda motor merk Honda Scoopy warna merah hitam DK 6384 PQ, NOKA MH1JM311XHK071492, NOSIN JM31E-1076227 nama pemilik an. NI WAYAN SRIMERTANADI Dikembalikan kepada korban Ni Wayan Srimertanadi 1 (satu) buah helm merk Maxi Yamaha warna hitam 1 (satu) buah jaket jeans warna biru langit  Dirampas untuk dimusnahkan 6. Membebankan kepada Terdakwa membayar biaya perkara sejumlah Rp. 5.000,00 (lima ribu rupiah)",
         "Pada 26 Maret 2024 pukul 17.10 WITA di pinggir Jalan Raya Kintamani, Terdakwa mencuri sepeda motor Honda Scoopy DK 6384 PQ yang terparkir dengan kunci masih menempel. Sehari sebelumnya, Terdakwa berangkat dari Panarukan, Singaraja, menuju Terminal Ubung Denpasar dengan menumpang truk, berniat mencuri motor. Setelah menginap di terminal, keesokan harinya sekitar pukul 11.30 WITA, Terdakwa menghubungi WAHYU EKA JAYA (DPO) yang kemudian menjemputnya dengan Yamaha Vixion hitam dan mengajaknya ke Kintamani. Sekitar pukul 17.10 WITA, saat melintas di Jalan Raya Kintamani, mereka melihat sepeda motor korban terparkir dengan kunci masih terpasang. WAHYU EKA JAYA (DPO) lalu meninggalkan Terdakwa, yang kemudian mendorong motor sejauh 10 meter sebelum menyalakan mesinnya dan melarikan diri menuju Denpasar melalui Payangan Gianyar. Sesampainya di Ubud, Terdakwa dihentikan oleh I GEDE DIPTA WIRAMA DARMA, yang mengaku sebagai petugas Polsek Kintamani dan meminta STNK, namun Terdakwa tidak dapat menunjukkannya. Ia kemudian diamankan bersama barang bukti ke Polsek Kintamani. Akibat perbuatannya, korban NI WAYAN SRIMERTANADI mengalami kerugian sekitar Rp 20.000.000,-. Perbuatan Terdakwa melanggar Pasal 362 KUHP.",
         "['Pasal 362 KUHP']",
         "R. Sabirin",
         "14.0"
        ],
        [
         "5",
         "1",
         "3",
         "2",
         "4",
         "1 (satu) plastik klip bening yang berisi shabu seberat 0,17 (nol koma tujuh belas) gram netto 1 (satu) buah plastik klip kosong 2 (dua) potong pipet plastik warna bening 2 (dua) buah pipa kaca 2 (dua) potong pipet plastik warna putih 1 (satu) buah bekas botol merk Yakult 1 (satu) buah tutup botol bekas yang dimodifikasi 1 (satu) buah plastik warna hitam putih 1 (satu) buah Tas Gendong merk Exsport warna merah maroon 1 (satu) buah handphone merk Iphone 6S warna Gold berikut dengan 1 (satu) buah simcard Dimusnahkan 1 (satu) unit sepeda motor merk Honda PCX warna biru dengan No. Pol DK 2905 ADZ berikut kunci kontak 1 (satu) lembar STNK sepeda motor merk Honda PCX warna biru dengan No. Pol DK 2905 ADZ a.n pemilik Anita Dewi Rahmawati, S.I. KOM Dikembalikan kepada Anita Dewi Rahmawati  6. Membebankan kepada Terdakwa membayar biaya perkara sejumlah Rp5.000,00 (lima ribu rupiah)",
         "Dakwaan Pertama: Pada 17 Maret 2024, sekitar pukul 18.10 WITA, terdakwa Novani Ari Hifni alias Ari secara tanpa hak atau melawan hukum memiliki, menyimpan, menguasai, atau menyediakan narkotika golongan I jenis shabu. Perbuatan ini diawali dengan percakapan di Facebook dengan temannya Wewe (DPO) yang menghubungkannya dengan Rizal (DPO) untuk membeli shabu. Pada 16 Maret 2024, terdakwa menghubungi Rizal melalui WhatsApp untuk memesan shabu, kemudian berangkat ke Bangli pada 17 Maret 2024. Setelah menerima lokasi pengambilan sabu melalui Google Maps, terdakwa bersama temannya, K. M. Sahrijal Jabar, mencari dan mengambil shabu yang disembunyikan di pinggir jalan. Terdakwa ditangkap oleh tim Opsnal Satresnarkoba Polres Bangli dan ditemukan barang bukti berupa plastik klip berisi shabu seberat 0,17 gram netto. Berdasarkan hasil pemeriksaan laboratorium, barang bukti tersebut mengandung Metamfetamina, yang termasuk dalam narkotika golongan I.  Tindakannya diatur dan diancam pidana dalam Pasal 112 ayat (1) UU No. 35 Tahun 2009 tentang Narkotika. Dakwaan Kedua: Pada 7 Maret 2024, sekitar pukul 22.00 WITA, terdakwa diduga menggunakan narkotika jenis shabu secara pribadi di rumahnya di Denpasar Selatan. Terdakwa merakit alat bong dari botol mineral dan menghisap shabu sebanyak 16 kali dalam satu sesi. Penggunaan sabu ini dilakukan dalam keadaan rumah yang sedang sepi dan tanpa ada kebutuhan medis. Tindakannya diatur dan diancam pidana dalam Pasal 127 ayat (1) huruf a UU No. 35 Tahun 2009 tentang Narkotika.",
         "['Pasal 112 Ayat (1) UU No. 35 Tahun 2009 tentang Narkotika', 'Pasal 127 ayat (1) huruf a UU No. 35 Tahun 2009 tentang Narkotika']",
         "NOVANI ARI HIFNI Alias ARI",
         "24.0"
        ],
        [
         "6",
         "1",
         "4",
         "2",
         "4",
         "1 (satu) plastik klip bening yang berisi shabu seberat 0,17 (nol koma tujuh belas) gram netto 1 (satu) buah plastik klip kosong 2 (dua) potong pipet plastik warna bening 2 (dua) buah pipa kaca 2 (dua) potong pipet plastik warna putih 1 (satu) buah bekas botol merk Yakult 1 (satu) buah tutup botol bekas yang dimodifikasi 1 (satu) buah plastik warna hitam putih 1 (satu) buah Tas Gendong merk Exsport warna merah maroon 1 (satu) buah handphone merk Iphone 6S warna Gold berikut dengan 1 (satu) buah simcard Dimusnahkan 1 (satu) unit sepeda motor merk Honda PCX warna biru dengan No. Pol DK 2905 ADZ berikut kunci kontak 1 (satu) lembar STNK sepeda motor merk Honda PCX warna biru dengan No. Pol DK 2905 ADZ a.n pemilik Anita Dewi Rahmawati, S.I. KOM Dikembalikan kepada Anita Dewi Rahmawati  6. Membebankan kepada Terdakwa membayar biaya perkara sejumlah Rp5.000,00 (lima ribu rupiah)",
         "Dakwaan Pertama: Pada 17 Maret 2024, sekitar pukul 18.10 WITA, terdakwa Novani Ari Hifni alias Ari secara tanpa hak atau melawan hukum memiliki, menyimpan, menguasai, atau menyediakan narkotika golongan I jenis shabu. Perbuatan ini diawali dengan percakapan di Facebook dengan temannya Wewe (DPO) yang menghubungkannya dengan Rizal (DPO) untuk membeli shabu. Pada 16 Maret 2024, terdakwa menghubungi Rizal melalui WhatsApp untuk memesan shabu, kemudian berangkat ke Bangli pada 17 Maret 2024. Setelah menerima lokasi pengambilan sabu melalui Google Maps, terdakwa bersama temannya, K. M. Sahrijal Jabar, mencari dan mengambil shabu yang disembunyikan di pinggir jalan. Terdakwa ditangkap oleh tim Opsnal Satresnarkoba Polres Bangli dan ditemukan barang bukti berupa plastik klip berisi shabu seberat 0,17 gram netto. Berdasarkan hasil pemeriksaan laboratorium, barang bukti tersebut mengandung Metamfetamina, yang termasuk dalam narkotika golongan I.  Tindakannya diatur dan diancam pidana dalam Pasal 112 ayat (1) UU No. 35 Tahun 2009 tentang Narkotika. Dakwaan Kedua: Pada 7 Maret 2024, sekitar pukul 22.00 WITA, terdakwa diduga menggunakan narkotika jenis shabu secara pribadi di rumahnya di Denpasar Selatan. Terdakwa merakit alat bong dari botol mineral dan menghisap shabu sebanyak 16 kali dalam satu sesi. Penggunaan sabu ini dilakukan dalam keadaan rumah yang sedang sepi dan tanpa ada kebutuhan medis. Tindakannya diatur dan diancam pidana dalam Pasal 127 ayat (1) huruf a UU No. 35 Tahun 2009 tentang Narkotika.",
         "['Pasal 112 Ayat (1) UU No. 35 Tahun 2009 tentang Narkotika', 'Pasal 127 ayat (1) huruf a UU No. 35 Tahun 2009 tentang Narkotika']",
         "NOVANI ARI HIFNI Alias ARI",
         "24.0"
        ],
        [
         "7",
         "1",
         "5",
         "2",
         "4",
         "1 (satu) buah plastik klip bening yang berisi kristal bening diduga narkotika golongan I bukan tanaman jenis sabu dengan berat 0,14 (nol koma empat belas) gram bruto atau 0,08 (nol koma nol delapan) gram netto selanjutnya disisihkan seberat 0,02 (nol koma nol dua) gram netto untuk uji labforensik sehingga sisa barang bukti 0,06 (nol koma nol enam) gram netto 1 (satu) buah pipa kaca 1 (satu) lembar tissue warna putih 1 (satu) buah korek api gas yang sudah dimodif 1 (satu) buah handphone merek Redmi tipe 7A warna hitam beserta 2 (dua) buah sim card 1 (satu) buah tas pinggang merek Fashion warna hitam Dimusnahkan 1 (satu) unit mobil pick up merek Suzuki warna hitam dengan No. Pol. DK 8445 BQ berikut kunci kontak 1 (satu) lembar STNK mobil pick up merek Suzuki warna hitam dengan No. Pol. DK 8445 BQ a.n. PT Wira Mitra Utama Dikembalikan kepada PT Wira Mitra Utama melalui Terdakwa 6. Membebankan kepada Terdakwa membayar biaya perkara sejumlah Rp5.000,00 (lima ribu rupiah)",
         "Pada Selasa, 9 Januari 2024, sekitar pukul 17.30 WITA, terdakwa Mulyadi alias Mul tanpa hak atau melawan hukum menawarkan, menjual, membeli, menerima, menjadi perantara dalam jual beli, menukar, atau menyerahkan narkotika golongan I jenis sabu. Perbuatan tersebut bermula ketika terdakwa dihubungi oleh temannya, KADEK (DPO), pada pukul 08.00 WITA, yang meminta terdakwa untuk mengantarkan narkotika jenis sabu ke Bangli. Terdakwa kemudian menyanggupi permintaan tersebut dan berangkat ke Lapangan Lumintang, Denpasar, untuk bertemu dengan teman KADEK (DPO) dan menerima narkotika tersebut dalam sebuah amplop putih.  Setelah menerima narkotika jenis sabu, terdakwa sempat mencicipinya, kemudian menyimpannya di dalam amplop dan diletakkan di laci dashboard mobil yang digunakan. Terdakwa kemudian melanjutkan perjalanan ke Bangli, dan setibanya di lokasi yang dituju, yaitu di Jalan Bima, Kelurahan Cempaga, terdakwa dihadang dan diamankan oleh anggota Polres Bangli bersama beberapa saksi.  Saat dilakukan penggeledahan, ditemukan barang bukti berupa plastic klip berisi sabu, pipa kaca, korek api gas yang telah dimodifikasi, handphone, serta barang-barang lainnya yang berkaitan dengan narkotika. Terdakwa tidak memiliki izin untuk melakukan pengadaan, penyimpanan, atau penyaluran narkotika dari Kementerian Kesehatan RI.  Berdasarkan hasil pemeriksaan laboratorium, barang bukti sabu mengandung Metamfetamina, yang merupakan narkotika golongan I sesuai dengan Undang-Undang No. 35 Tahun 2009 tentang Narkotika. Tindakannya diatur dan diancam pidana dalam Pasal 114 ayat (1) UU No. 35 Tahun 2009 tentang Narkotika atau Pasal 112 ayat (1) UU No. 35 Tahun 2009 tentang Narkotika.",
         "['Pasal 114 Ayat (1) UU No. 35 Tahun 2009 tentang Narkotika', 'Pasal 112 Ayat (1) UU No. 35 Tahun 2009 tentang Narkotika']",
         "MULYADI alias MUL",
         "48.0"
        ],
        [
         "8",
         "0",
         "3",
         "3",
         "4",
         "1. 3 (tiga) buah bahan dasar kain (Baju Kaos) masing-masing  - 1 (buah) baju kaos merk U-Right warna abu-abu, - 1 (satu) buah baju kaos merk U-Right warna hitam, - 1 (satu) buah baju kaos merk Newbalance warna hitam 2. 2 (dua) buah case masing-masing  - 1 (satu) buah case warna hitam dan, - 1 (satu) buah case warna putih bening, 3. 1 (satu) pasang kaos kaki merk Nike warna hitam, 4. 1 (satu) pasang sandal merk Havaianas warna hitam tulisan putih, 5. 1 (satu) buah tas kain Merk HUNGRYCO warna Hitam. 6. 2 (dua) buah Dompet masing-masing  - 1 (satu) buah Dompet kulit merk MONT BLACN warna coklat dan, - 1 (satu) buah dompet kain warna coklat dengan resleting bertulisan LONGCHAMP 7. 1 (satu) buah kotak Handphone, 8. 1 (satu) buah Handphone merk IPHONE 11 Pro warna gold, 9. Uang tunai sebesar Rp. 5.778.000,- (lima juta tujuh ratus tujuh puluh delapan ribu rupiah). Dikembalikan kepada Saksi Ni Nengah Ngariasih 1. 1 (satu) Buah kunci kontak sepeda motor, 2. 1 (satu) Unit kendaraan bermotor, DK 2006 AEC, NOKA MH3SEJ710PJ162733, NOSIN E33WE0184543, TH 2023, warna Hitam, 3. 1 (satu) lembar Surat Berharga STNK, DK 2006 AEC, NOKA MH3SEJ710PJ162733, NOSIN E33WE0184543, TH 2023, warna hitam, an. RURY HERAWATI , alamat GG. Kaliasem NO. 2B, Sesetan, Denpasar Dikembalikan kepada Terdakwa 6. Membebankan kepada Terdakwa membayar biaya perkara sejumlah Rp5.000,00 (lima ribu rupiah)",
         "Terdakwa RURY HERAWATI pada 20 November 2023 sekitar pukul 15.15 WITA di Toko ARI KEBAYA, Jalan Nusantara, Kelurahan Cempaga, Kecamatan Bangli, Kabupaten Bangli, melakukan tindak pidana pencurian dengan mengambil barang milik orang lain tanpa izin untuk dimiliki secara melawan hukum. Terdakwa berangkat dari kosnya di Denpasar menuju Bangli dengan niat mencuri tanpa target tempat tertentu. Setelah mengamati situasi, Terdakwa masuk ke Toko ARI KEBAYA, berpura-pura berbelanja dengan membeli dua selendang dan meminta penjaga toko, NI NENGAH NGARIASIH, untuk mencari sandal, sehingga membuatnya membelakangi meja kasir. Saat itulah Terdakwa mengambil satu tas kain merk HUNGRYCO warna hitam dari lemari plastik yang tidak terkunci, yang berisi dompet kulit merk MONT BLANC warna coklat dan dompet kain warna coklat dengan resleting bertulisan LONGCHAMP, berisi uang tunai Rp16.500.000. Setelah berpura-pura hendak mengambil uang di ATM, Terdakwa meninggalkan toko dan membawa barang curian ke kosnya. Uang hasil pencurian digunakan untuk membeli iPhone 11 Pro seharga Rp7.000.000, membayar DP emas Rp1.000.000, serta kebutuhan sehari-hari, dengan sisa uang Rp5.778.000. Berdasarkan laporan polisi LP/B/31/XI/2023/SPKT/POLRES BANGLI/POLDA BALI tanggal 25 November 2023, pihak kepolisian melakukan penyelidikan hingga mengamankan Terdakwa beserta barang bukti di Polres Bangli. Perbuatan Terdakwa menyebabkan saksi NI NENGAH NGARIASIH mengalami kerugian Rp16.500.000 dan diancam pidana dalam Pasal 362 KUHP.",
         "['Pasal 362 KUHP']",
         "RURY HERAWATI",
         "16.0"
        ],
        [
         "9",
         "2",
         "6",
         "2",
         "8",
         "- 45 (empat puluh lima) lembar nota penjualan PT. PUTRA DEWATA SEJATI cabang/admin Klungkung - 5 (lima) lembar nota penjualan PT. PUTRA DEWATA SEJATI cabang/admin Bangli - 2 (dua) lembar data piutang titipan UD. SARI MERTA - 2 (dua) lembar foto copy surat kesepakatan antara pihak PT PUTRA DEWATA SEJATI yang diwakili oleh ANGGUN BAYU WIKANTO dengan pihak usaha toko/UD. Sari Merta yang diwakili oleh I WAYAN AGUS KERTAYASA dan NI MADE REDIANI Nomor 001/SP//PDS-BALI/III/2019, tanggal 18 Maret 2019 - 2 (dua) lembar surat kesepakatan antara pihak PT. PUTRA DEWATA SEJATI yang diwakili oleh ANGGUN BAYU WIKANTO dengan pihak usaha toko/UD. Sari Merta yang diwakili oleh I NENGAH PERIYASA dan NI KOMANG WARSIKI Nomor 002/SP//PDS-BALI/IV/2019, tanggal 06 April 2019 - 1 (satu) lembar surat pernyataan yang dibuat oleh I KETUT SUPUTRA tanggal 24 Nopember 2022 Dikembalikan kepada PT. Putra Dewata Sejati melalui Saksi I Putu Pasek Ariana 6. Membebankan kepada Para Terdakwa membayar biaya perkara masing masing sejumlah Rp 5.000,00 (lima ribu rupiah)",
         "Tentu, berikut ringkasan dakwaan terhadap I Ketut Suputra dan Ni Komang Warsiki dalam format paragraf:  Ringkasan Dakwaan I Ketut Suputra dan Ni Komang Warsiki:  I Ketut Suputra dan Ni Komang Warsiki, pasangan suami istri, didakwa atas tindak pidana penggelapan dalam jabatan yang terjadi antara bulan Mei 2019 hingga Oktober 2020 di gudang mereka di Bangli. I Ketut Suputra, melalui UD. Sri Dana, awalnya membeli produk Aqua dari PT. Putra Dewata Sejati secara tunai. Kerjasama berlanjut dengan UD. Sari Merta, di mana PT. Putra Dewata Sejati menitipkan barang untuk dijual kembali. Ni Komang Warsiki, sebagai bagian administrasi, bertugas mencatat penjualan dan melakukan pembayaran ke PT. Putra Dewata Sejati.  Namun, sejak Mei 2019, pembayaran ke PT. Putra Dewata Sejati tidak dilakukan secara penuh. Pada Oktober 2020, pengiriman barang dihentikan karena tidak ada pembayaran. Padahal, semua barang titipan telah terjual. Pasangan terdakwa menggunakan uang hasil penjualan untuk gaji karyawan, biaya operasional, dan kebutuhan sehari-hari tanpa izin PT. Putra Dewata Sejati. Akibatnya, PT. Putra Dewata Sejati mengalami kerugian sekitar Rp 413.883.979.  Atas perbuatan mereka, I Ketut Suputra dan Ni Komang Warsiki didakwa dengan Pasal 372 KUHP jo. Pasal 55 ayat (1) ke-1 KUHP jo. Pasal 64 ayat (1) KUHP tentang penggelapan dalam jabatan yang dilakukan secara bersama-sama dan berlanjut.",
         "['Pasal 372 KUHP jo. Pasal 55 Ayat (1) Ke-1 KUHP jo. Pasal 64 Ayat (1) KUHP']",
         "I KETUT SUPUTRA",
         "18.0"
        ],
        [
         "10",
         "2",
         "4",
         "2",
         "8",
         "- 45 (empat puluh lima) lembar nota penjualan PT. PUTRA DEWATA SEJATI cabang/admin Klungkung - 5 (lima) lembar nota penjualan PT. PUTRA DEWATA SEJATI cabang/admin Bangli - 2 (dua) lembar data piutang titipan UD. SARI MERTA - 2 (dua) lembar foto copy surat kesepakatan antara pihak PT PUTRA DEWATA SEJATI yang diwakili oleh ANGGUN BAYU WIKANTO dengan pihak usaha toko/UD. Sari Merta yang diwakili oleh I WAYAN AGUS KERTAYASA dan NI MADE REDIANI Nomor 001/SP//PDS-BALI/III/2019, tanggal 18 Maret 2019 - 2 (dua) lembar surat kesepakatan antara pihak PT. PUTRA DEWATA SEJATI yang diwakili oleh ANGGUN BAYU WIKANTO dengan pihak usaha toko/UD. Sari Merta yang diwakili oleh I NENGAH PERIYASA dan NI KOMANG WARSIKI Nomor 002/SP//PDS-BALI/IV/2019, tanggal 06 April 2019 - 1 (satu) lembar surat pernyataan yang dibuat oleh I KETUT SUPUTRA tanggal 24 Nopember 2022 Dikembalikan kepada PT. Putra Dewata Sejati melalui Saksi I Putu Pasek Ariana 6. Membebankan kepada Para Terdakwa membayar biaya perkara masing masing sejumlah Rp 5.000,00 (lima ribu rupiah)",
         "Tentu, berikut ringkasan dakwaan terhadap I Ketut Suputra dan Ni Komang Warsiki dalam format paragraf:  Ringkasan Dakwaan I Ketut Suputra dan Ni Komang Warsiki:  I Ketut Suputra dan Ni Komang Warsiki, pasangan suami istri, didakwa atas tindak pidana penggelapan dalam jabatan yang terjadi antara bulan Mei 2019 hingga Oktober 2020 di gudang mereka di Bangli. I Ketut Suputra, melalui UD. Sri Dana, awalnya membeli produk Aqua dari PT. Putra Dewata Sejati secara tunai. Kerjasama berlanjut dengan UD. Sari Merta, di mana PT. Putra Dewata Sejati menitipkan barang untuk dijual kembali. Ni Komang Warsiki, sebagai bagian administrasi, bertugas mencatat penjualan dan melakukan pembayaran ke PT. Putra Dewata Sejati.  Namun, sejak Mei 2019, pembayaran ke PT. Putra Dewata Sejati tidak dilakukan secara penuh. Pada Oktober 2020, pengiriman barang dihentikan karena tidak ada pembayaran. Padahal, semua barang titipan telah terjual. Pasangan terdakwa menggunakan uang hasil penjualan untuk gaji karyawan, biaya operasional, dan kebutuhan sehari-hari tanpa izin PT. Putra Dewata Sejati. Akibatnya, PT. Putra Dewata Sejati mengalami kerugian sekitar Rp 413.883.979.  Atas perbuatan mereka, I Ketut Suputra dan Ni Komang Warsiki didakwa dengan Pasal 372 KUHP jo. Pasal 55 ayat (1) ke-1 KUHP jo. Pasal 64 ayat (1) KUHP tentang penggelapan dalam jabatan yang dilakukan secara bersama-sama dan berlanjut.",
         "['Pasal 372 KUHP jo. Pasal 55 Ayat (1) Ke-1 KUHP jo. Pasal 64 Ayat (1) KUHP']",
         "I KETUT SUPUTRA",
         "18.0"
        ],
        [
         "11",
         "2",
         "6",
         "2",
         "8",
         "- 45 (empat puluh lima) lembar nota penjualan PT. PUTRA DEWATA SEJATI cabang/admin Klungkung - 5 (lima) lembar nota penjualan PT. PUTRA DEWATA SEJATI cabang/admin Bangli - 2 (dua) lembar data piutang titipan UD. SARI MERTA - 2 (dua) lembar foto copy surat kesepakatan antara pihak PT PUTRA DEWATA SEJATI yang diwakili oleh ANGGUN BAYU WIKANTO dengan pihak usaha toko/UD. Sari Merta yang diwakili oleh I WAYAN AGUS KERTAYASA dan NI MADE REDIANI Nomor 001/SP//PDS-BALI/III/2019, tanggal 18 Maret 2019 - 2 (dua) lembar surat kesepakatan antara pihak PT. PUTRA DEWATA SEJATI yang diwakili oleh ANGGUN BAYU WIKANTO dengan pihak usaha toko/UD. Sari Merta yang diwakili oleh I NENGAH PERIYASA dan NI KOMANG WARSIKI Nomor 002/SP//PDS-BALI/IV/2019, tanggal 06 April 2019 - 1 (satu) lembar surat pernyataan yang dibuat oleh I KETUT SUPUTRA tanggal 24 Nopember 2022 Dikembalikan kepada PT. Putra Dewata Sejati melalui Saksi I Putu Pasek Ariana 6. Membebankan kepada Para Terdakwa membayar biaya perkara masing masing sejumlah Rp 5.000,00 (lima ribu rupiah)",
         "Tentu, berikut ringkasan dakwaan terhadap I Ketut Suputra dan Ni Komang Warsiki dalam format paragraf:  Ringkasan Dakwaan I Ketut Suputra dan Ni Komang Warsiki:  I Ketut Suputra dan Ni Komang Warsiki, pasangan suami istri, didakwa atas tindak pidana penggelapan dalam jabatan yang terjadi antara bulan Mei 2019 hingga Oktober 2020 di gudang mereka di Bangli. I Ketut Suputra, melalui UD. Sri Dana, awalnya membeli produk Aqua dari PT. Putra Dewata Sejati secara tunai. Kerjasama berlanjut dengan UD. Sari Merta, di mana PT. Putra Dewata Sejati menitipkan barang untuk dijual kembali. Ni Komang Warsiki, sebagai bagian administrasi, bertugas mencatat penjualan dan melakukan pembayaran ke PT. Putra Dewata Sejati.  Namun, sejak Mei 2019, pembayaran ke PT. Putra Dewata Sejati tidak dilakukan secara penuh. Pada Oktober 2020, pengiriman barang dihentikan karena tidak ada pembayaran. Padahal, semua barang titipan telah terjual. Pasangan terdakwa menggunakan uang hasil penjualan untuk gaji karyawan, biaya operasional, dan kebutuhan sehari-hari tanpa izin PT. Putra Dewata Sejati. Akibatnya, PT. Putra Dewata Sejati mengalami kerugian sekitar Rp 413.883.979.  Atas perbuatan mereka, I Ketut Suputra dan Ni Komang Warsiki didakwa dengan Pasal 372 KUHP jo. Pasal 55 ayat (1) ke-1 KUHP jo. Pasal 64 ayat (1) KUHP tentang penggelapan dalam jabatan yang dilakukan secara bersama-sama dan berlanjut.",
         "['Pasal 372 KUHP jo. Pasal 55 Ayat (1) Ke-1 KUHP jo. Pasal 64 Ayat (1) KUHP']",
         "NI KOMANG WARSIKI",
         "10.0"
        ],
        [
         "12",
         "2",
         "4",
         "2",
         "8",
         "- 45 (empat puluh lima) lembar nota penjualan PT. PUTRA DEWATA SEJATI cabang/admin Klungkung - 5 (lima) lembar nota penjualan PT. PUTRA DEWATA SEJATI cabang/admin Bangli - 2 (dua) lembar data piutang titipan UD. SARI MERTA - 2 (dua) lembar foto copy surat kesepakatan antara pihak PT PUTRA DEWATA SEJATI yang diwakili oleh ANGGUN BAYU WIKANTO dengan pihak usaha toko/UD. Sari Merta yang diwakili oleh I WAYAN AGUS KERTAYASA dan NI MADE REDIANI Nomor 001/SP//PDS-BALI/III/2019, tanggal 18 Maret 2019 - 2 (dua) lembar surat kesepakatan antara pihak PT. PUTRA DEWATA SEJATI yang diwakili oleh ANGGUN BAYU WIKANTO dengan pihak usaha toko/UD. Sari Merta yang diwakili oleh I NENGAH PERIYASA dan NI KOMANG WARSIKI Nomor 002/SP//PDS-BALI/IV/2019, tanggal 06 April 2019 - 1 (satu) lembar surat pernyataan yang dibuat oleh I KETUT SUPUTRA tanggal 24 Nopember 2022 Dikembalikan kepada PT. Putra Dewata Sejati melalui Saksi I Putu Pasek Ariana 6. Membebankan kepada Para Terdakwa membayar biaya perkara masing masing sejumlah Rp 5.000,00 (lima ribu rupiah)",
         "Tentu, berikut ringkasan dakwaan terhadap I Ketut Suputra dan Ni Komang Warsiki dalam format paragraf:  Ringkasan Dakwaan I Ketut Suputra dan Ni Komang Warsiki:  I Ketut Suputra dan Ni Komang Warsiki, pasangan suami istri, didakwa atas tindak pidana penggelapan dalam jabatan yang terjadi antara bulan Mei 2019 hingga Oktober 2020 di gudang mereka di Bangli. I Ketut Suputra, melalui UD. Sri Dana, awalnya membeli produk Aqua dari PT. Putra Dewata Sejati secara tunai. Kerjasama berlanjut dengan UD. Sari Merta, di mana PT. Putra Dewata Sejati menitipkan barang untuk dijual kembali. Ni Komang Warsiki, sebagai bagian administrasi, bertugas mencatat penjualan dan melakukan pembayaran ke PT. Putra Dewata Sejati.  Namun, sejak Mei 2019, pembayaran ke PT. Putra Dewata Sejati tidak dilakukan secara penuh. Pada Oktober 2020, pengiriman barang dihentikan karena tidak ada pembayaran. Padahal, semua barang titipan telah terjual. Pasangan terdakwa menggunakan uang hasil penjualan untuk gaji karyawan, biaya operasional, dan kebutuhan sehari-hari tanpa izin PT. Putra Dewata Sejati. Akibatnya, PT. Putra Dewata Sejati mengalami kerugian sekitar Rp 413.883.979.  Atas perbuatan mereka, I Ketut Suputra dan Ni Komang Warsiki didakwa dengan Pasal 372 KUHP jo. Pasal 55 ayat (1) ke-1 KUHP jo. Pasal 64 ayat (1) KUHP tentang penggelapan dalam jabatan yang dilakukan secara bersama-sama dan berlanjut.",
         "['Pasal 372 KUHP jo. Pasal 55 Ayat (1) Ke-1 KUHP jo. Pasal 64 Ayat (1) KUHP']",
         "NI KOMANG WARSIKI",
         "10.0"
        ],
        [
         "13",
         "0",
         "7",
         "0",
         "6",
         "1 (satu) unit sepeda motor merek Yamaha N-Max warna hitam DK 3498 PT beserta kunci kontak 1 (satu) buah STNK sepeda motor merek Yamaha N-Max DK 3498 PT 1 (satu) buah BPKB sepeda motor merek Yamaha N-Max DK 3498 PT Dikembalikan kepada Made Yusa Paramartha 1 (satu) unit sepeda motor merek Yamaha N-Max warna hitam DK 6992 LB beserta kunci kontak 1 (satu) buah STNK sepeda motor merek Yamaha N-Max DK 6992 LB 1 (satu) buah cover under dek bawah kolong sepeda motor merek Yamaha N-Max warna hitam 1 (satu) buah cover paru fender inner sepeda motor merek Yamaha N-Max warna hitam 2 (dua) buah dek sayap body bawah sepeda motor merek Yamaha N-Max warna ungu Dikembalikan kepada I Kadek Indrawan 1 (satu) unit mobil merek Honda Jazz GE8 warna putih DK 1049 WH 1 (satu) buah STNK mobil merek Honda Jazz GE8 DK 1049 WH Dikembalikan kepada Ni Luh Putu Suparwati 1 (satu) unit sepeda motor merek Yamaha N-Max warna hitam DK 6492 ZY beserta kunci kontak 1 (satu) lembar STNK Sepeda Motor Yamaha N-Max DK 4665 TG, Noka MH3SG3190JJ314087, Nosin G3E4E-1103102, nama pemilik a.n. I Ketut Merta Yasa 2 (dua) buah plat sepeda motor palsu warna hitam DK 4665 TG 2 (dua) buah spion sepeda motor merek Yamaha N-Max warna hitam Dikembalikan kepada Penuntut Umum untuk dijadikan barang bukti dalam perkara lain 1 (satu) buah kunci T warna hitam 1 (satu) buah obeng dengan gagang warna hitam 1 (satu) buah kunci ring pas 12 warna putih merek Wipro 1 (satu) buah tang dengan gagang warna merah 1 (satu) set kunci L warna putih merek Allwin 1 (satu) buah mesin bor tanpa kabel warna merah hitam merek Bitec Dimusnahkan Uang tunai Rp1.000.000,00 (satu juta rupiah) Dirampas untuk negara  6. Membebankan kepada Para Terdakwa membayar biaya perkara masing-masing sejumlah Rp5.000,00 (lima ribu rupiah)",
         "Terdakwa I KETUT JONI ADNYANA ADI PUTRA dan Terdakwa II ROSITA EVAYANTI DEWI pada 10 September 2023 pukul 01.00 WITA dan 1 Oktober 2023 pukul 02.00 WITA di parkiran Sukawana Sunrise dan Le Monte Sunrise, Desa Sukawana, Kecamatan Kintamani, Kabupaten Bangli, melakukan pencurian secara bersekutu. Pada 9 September 2023 pukul 21.00 WITA, Terdakwa berangkat dari Jembrana menuju Sukawana Sunrise menggunakan sepeda motor Yamaha NMAX warna hitam DK 6492 ZY milik saksi I KETUT MERTA YASA. Pada 10 September 2023 pukul 01.00 WITA, mereka tiba di parkiran dan melihat sepeda motor Yamaha NMAX hitam DK 3498 PT milik saksi MADE YUSA PARAMARTHA. Terdakwa I masuk ke parkiran, sementara Terdakwa II menunggu di Desa Pinggan. Terdakwa I mengambil sepeda motor yang tidak terkunci stang, mendorongnya sejauh 100 meter, lalu menyambungkan kabel stop kontak untuk menyalakan mesin sebelum membawa sepeda motor tersebut ke Jembrana untuk digunakan sebagai transportasi sehari-hari. Pada 30 September 2023, Terdakwa kembali merencanakan pencurian dan berangkat dari Jembrana menggunakan mobil Honda Jazz putih DK 1049 WH yang disewa dari saksi NI LUH PUTU SUPARWATI. Pada 1 Oktober 2023 pukul 01.00 WITA, mereka tiba di parkiran Le Monte Sunrise dan menunggu di mobil hingga pukul 02.00 WITA. Terdakwa I kemudian mengambil sepeda motor Yamaha NMAX warna abu lembayung ungu DK 6992 LB milik saksi I KADEK INDRAWAN dengan cara mendorongnya keluar dari parkiran, membuka bodi depan, dan menyambungkan kabel stop kontak agar mesin menyala. Sepeda motor tersebut dibawa ke Jembrana dan dijual melalui Facebook Marketplace seharga Rp5.300.000. Akibat perbuatan tersebut, saksi MADE YUSA PARAMARTHA mengalami kerugian Rp25.500.000 dan saksi I KADEK INDRAWAN mengalami kerugian Rp26.700.000. Para Terdakwa diancam pidana berdasarkan Pasal 363 ayat (1) ke-4 KUHP Jo Pasal 65 ayat (1) KUHP.",
         "['Pasal 363 Ayat (1) ke-4 KUHP jo. Pasal 65 ayat (1) KUHP']",
         "I KETUT JONI ADNYANA ADI PUTRA",
         "16.0"
        ],
        [
         "14",
         "0",
         "8",
         "0",
         "6",
         "1 (satu) unit sepeda motor merek Yamaha N-Max warna hitam DK 3498 PT beserta kunci kontak 1 (satu) buah STNK sepeda motor merek Yamaha N-Max DK 3498 PT 1 (satu) buah BPKB sepeda motor merek Yamaha N-Max DK 3498 PT Dikembalikan kepada Made Yusa Paramartha 1 (satu) unit sepeda motor merek Yamaha N-Max warna hitam DK 6992 LB beserta kunci kontak 1 (satu) buah STNK sepeda motor merek Yamaha N-Max DK 6992 LB 1 (satu) buah cover under dek bawah kolong sepeda motor merek Yamaha N-Max warna hitam 1 (satu) buah cover paru fender inner sepeda motor merek Yamaha N-Max warna hitam 2 (dua) buah dek sayap body bawah sepeda motor merek Yamaha N-Max warna ungu Dikembalikan kepada I Kadek Indrawan 1 (satu) unit mobil merek Honda Jazz GE8 warna putih DK 1049 WH 1 (satu) buah STNK mobil merek Honda Jazz GE8 DK 1049 WH Dikembalikan kepada Ni Luh Putu Suparwati 1 (satu) unit sepeda motor merek Yamaha N-Max warna hitam DK 6492 ZY beserta kunci kontak 1 (satu) lembar STNK Sepeda Motor Yamaha N-Max DK 4665 TG, Noka MH3SG3190JJ314087, Nosin G3E4E-1103102, nama pemilik a.n. I Ketut Merta Yasa 2 (dua) buah plat sepeda motor palsu warna hitam DK 4665 TG 2 (dua) buah spion sepeda motor merek Yamaha N-Max warna hitam Dikembalikan kepada Penuntut Umum untuk dijadikan barang bukti dalam perkara lain 1 (satu) buah kunci T warna hitam 1 (satu) buah obeng dengan gagang warna hitam 1 (satu) buah kunci ring pas 12 warna putih merek Wipro 1 (satu) buah tang dengan gagang warna merah 1 (satu) set kunci L warna putih merek Allwin 1 (satu) buah mesin bor tanpa kabel warna merah hitam merek Bitec Dimusnahkan Uang tunai Rp1.000.000,00 (satu juta rupiah) Dirampas untuk negara  6. Membebankan kepada Para Terdakwa membayar biaya perkara masing-masing sejumlah Rp5.000,00 (lima ribu rupiah)",
         "Terdakwa I KETUT JONI ADNYANA ADI PUTRA dan Terdakwa II ROSITA EVAYANTI DEWI pada 10 September 2023 pukul 01.00 WITA dan 1 Oktober 2023 pukul 02.00 WITA di parkiran Sukawana Sunrise dan Le Monte Sunrise, Desa Sukawana, Kecamatan Kintamani, Kabupaten Bangli, melakukan pencurian secara bersekutu. Pada 9 September 2023 pukul 21.00 WITA, Terdakwa berangkat dari Jembrana menuju Sukawana Sunrise menggunakan sepeda motor Yamaha NMAX warna hitam DK 6492 ZY milik saksi I KETUT MERTA YASA. Pada 10 September 2023 pukul 01.00 WITA, mereka tiba di parkiran dan melihat sepeda motor Yamaha NMAX hitam DK 3498 PT milik saksi MADE YUSA PARAMARTHA. Terdakwa I masuk ke parkiran, sementara Terdakwa II menunggu di Desa Pinggan. Terdakwa I mengambil sepeda motor yang tidak terkunci stang, mendorongnya sejauh 100 meter, lalu menyambungkan kabel stop kontak untuk menyalakan mesin sebelum membawa sepeda motor tersebut ke Jembrana untuk digunakan sebagai transportasi sehari-hari. Pada 30 September 2023, Terdakwa kembali merencanakan pencurian dan berangkat dari Jembrana menggunakan mobil Honda Jazz putih DK 1049 WH yang disewa dari saksi NI LUH PUTU SUPARWATI. Pada 1 Oktober 2023 pukul 01.00 WITA, mereka tiba di parkiran Le Monte Sunrise dan menunggu di mobil hingga pukul 02.00 WITA. Terdakwa I kemudian mengambil sepeda motor Yamaha NMAX warna abu lembayung ungu DK 6992 LB milik saksi I KADEK INDRAWAN dengan cara mendorongnya keluar dari parkiran, membuka bodi depan, dan menyambungkan kabel stop kontak agar mesin menyala. Sepeda motor tersebut dibawa ke Jembrana dan dijual melalui Facebook Marketplace seharga Rp5.300.000. Akibat perbuatan tersebut, saksi MADE YUSA PARAMARTHA mengalami kerugian Rp25.500.000 dan saksi I KADEK INDRAWAN mengalami kerugian Rp26.700.000. Para Terdakwa diancam pidana berdasarkan Pasal 363 ayat (1) ke-4 KUHP Jo Pasal 65 ayat (1) KUHP.",
         "['Pasal 363 Ayat (1) ke-4 KUHP jo. Pasal 65 ayat (1) KUHP']",
         "I KETUT JONI ADNYANA ADI PUTRA",
         "16.0"
        ],
        [
         "15",
         "0",
         "7",
         "0",
         "6",
         "1 (satu) unit sepeda motor merek Yamaha N-Max warna hitam DK 3498 PT beserta kunci kontak 1 (satu) buah STNK sepeda motor merek Yamaha N-Max DK 3498 PT 1 (satu) buah BPKB sepeda motor merek Yamaha N-Max DK 3498 PT Dikembalikan kepada Made Yusa Paramartha 1 (satu) unit sepeda motor merek Yamaha N-Max warna hitam DK 6992 LB beserta kunci kontak 1 (satu) buah STNK sepeda motor merek Yamaha N-Max DK 6992 LB 1 (satu) buah cover under dek bawah kolong sepeda motor merek Yamaha N-Max warna hitam 1 (satu) buah cover paru fender inner sepeda motor merek Yamaha N-Max warna hitam 2 (dua) buah dek sayap body bawah sepeda motor merek Yamaha N-Max warna ungu Dikembalikan kepada I Kadek Indrawan 1 (satu) unit mobil merek Honda Jazz GE8 warna putih DK 1049 WH 1 (satu) buah STNK mobil merek Honda Jazz GE8 DK 1049 WH Dikembalikan kepada Ni Luh Putu Suparwati 1 (satu) unit sepeda motor merek Yamaha N-Max warna hitam DK 6492 ZY beserta kunci kontak 1 (satu) lembar STNK Sepeda Motor Yamaha N-Max DK 4665 TG, Noka MH3SG3190JJ314087, Nosin G3E4E-1103102, nama pemilik a.n. I Ketut Merta Yasa 2 (dua) buah plat sepeda motor palsu warna hitam DK 4665 TG 2 (dua) buah spion sepeda motor merek Yamaha N-Max warna hitam Dikembalikan kepada Penuntut Umum untuk dijadikan barang bukti dalam perkara lain 1 (satu) buah kunci T warna hitam 1 (satu) buah obeng dengan gagang warna hitam 1 (satu) buah kunci ring pas 12 warna putih merek Wipro 1 (satu) buah tang dengan gagang warna merah 1 (satu) set kunci L warna putih merek Allwin 1 (satu) buah mesin bor tanpa kabel warna merah hitam merek Bitec Dimusnahkan Uang tunai Rp1.000.000,00 (satu juta rupiah) Dirampas untuk negara  6. Membebankan kepada Para Terdakwa membayar biaya perkara masing-masing sejumlah Rp5.000,00 (lima ribu rupiah)",
         "Terdakwa I KETUT JONI ADNYANA ADI PUTRA dan Terdakwa II ROSITA EVAYANTI DEWI pada 10 September 2023 pukul 01.00 WITA dan 1 Oktober 2023 pukul 02.00 WITA di parkiran Sukawana Sunrise dan Le Monte Sunrise, Desa Sukawana, Kecamatan Kintamani, Kabupaten Bangli, melakukan pencurian secara bersekutu. Pada 9 September 2023 pukul 21.00 WITA, Terdakwa berangkat dari Jembrana menuju Sukawana Sunrise menggunakan sepeda motor Yamaha NMAX warna hitam DK 6492 ZY milik saksi I KETUT MERTA YASA. Pada 10 September 2023 pukul 01.00 WITA, mereka tiba di parkiran dan melihat sepeda motor Yamaha NMAX hitam DK 3498 PT milik saksi MADE YUSA PARAMARTHA. Terdakwa I masuk ke parkiran, sementara Terdakwa II menunggu di Desa Pinggan. Terdakwa I mengambil sepeda motor yang tidak terkunci stang, mendorongnya sejauh 100 meter, lalu menyambungkan kabel stop kontak untuk menyalakan mesin sebelum membawa sepeda motor tersebut ke Jembrana untuk digunakan sebagai transportasi sehari-hari. Pada 30 September 2023, Terdakwa kembali merencanakan pencurian dan berangkat dari Jembrana menggunakan mobil Honda Jazz putih DK 1049 WH yang disewa dari saksi NI LUH PUTU SUPARWATI. Pada 1 Oktober 2023 pukul 01.00 WITA, mereka tiba di parkiran Le Monte Sunrise dan menunggu di mobil hingga pukul 02.00 WITA. Terdakwa I kemudian mengambil sepeda motor Yamaha NMAX warna abu lembayung ungu DK 6992 LB milik saksi I KADEK INDRAWAN dengan cara mendorongnya keluar dari parkiran, membuka bodi depan, dan menyambungkan kabel stop kontak agar mesin menyala. Sepeda motor tersebut dibawa ke Jembrana dan dijual melalui Facebook Marketplace seharga Rp5.300.000. Akibat perbuatan tersebut, saksi MADE YUSA PARAMARTHA mengalami kerugian Rp25.500.000 dan saksi I KADEK INDRAWAN mengalami kerugian Rp26.700.000. Para Terdakwa diancam pidana berdasarkan Pasal 363 ayat (1) ke-4 KUHP Jo Pasal 65 ayat (1) KUHP.",
         "['Pasal 363 Ayat (1) ke-4 KUHP jo. Pasal 65 ayat (1) KUHP']",
         "ROSITA EVAYANTI DEWI",
         "14.0"
        ],
        [
         "16",
         "0",
         "8",
         "0",
         "6",
         "1 (satu) unit sepeda motor merek Yamaha N-Max warna hitam DK 3498 PT beserta kunci kontak 1 (satu) buah STNK sepeda motor merek Yamaha N-Max DK 3498 PT 1 (satu) buah BPKB sepeda motor merek Yamaha N-Max DK 3498 PT Dikembalikan kepada Made Yusa Paramartha 1 (satu) unit sepeda motor merek Yamaha N-Max warna hitam DK 6992 LB beserta kunci kontak 1 (satu) buah STNK sepeda motor merek Yamaha N-Max DK 6992 LB 1 (satu) buah cover under dek bawah kolong sepeda motor merek Yamaha N-Max warna hitam 1 (satu) buah cover paru fender inner sepeda motor merek Yamaha N-Max warna hitam 2 (dua) buah dek sayap body bawah sepeda motor merek Yamaha N-Max warna ungu Dikembalikan kepada I Kadek Indrawan 1 (satu) unit mobil merek Honda Jazz GE8 warna putih DK 1049 WH 1 (satu) buah STNK mobil merek Honda Jazz GE8 DK 1049 WH Dikembalikan kepada Ni Luh Putu Suparwati 1 (satu) unit sepeda motor merek Yamaha N-Max warna hitam DK 6492 ZY beserta kunci kontak 1 (satu) lembar STNK Sepeda Motor Yamaha N-Max DK 4665 TG, Noka MH3SG3190JJ314087, Nosin G3E4E-1103102, nama pemilik a.n. I Ketut Merta Yasa 2 (dua) buah plat sepeda motor palsu warna hitam DK 4665 TG 2 (dua) buah spion sepeda motor merek Yamaha N-Max warna hitam Dikembalikan kepada Penuntut Umum untuk dijadikan barang bukti dalam perkara lain 1 (satu) buah kunci T warna hitam 1 (satu) buah obeng dengan gagang warna hitam 1 (satu) buah kunci ring pas 12 warna putih merek Wipro 1 (satu) buah tang dengan gagang warna merah 1 (satu) set kunci L warna putih merek Allwin 1 (satu) buah mesin bor tanpa kabel warna merah hitam merek Bitec Dimusnahkan Uang tunai Rp1.000.000,00 (satu juta rupiah) Dirampas untuk negara  6. Membebankan kepada Para Terdakwa membayar biaya perkara masing-masing sejumlah Rp5.000,00 (lima ribu rupiah)",
         "Terdakwa I KETUT JONI ADNYANA ADI PUTRA dan Terdakwa II ROSITA EVAYANTI DEWI pada 10 September 2023 pukul 01.00 WITA dan 1 Oktober 2023 pukul 02.00 WITA di parkiran Sukawana Sunrise dan Le Monte Sunrise, Desa Sukawana, Kecamatan Kintamani, Kabupaten Bangli, melakukan pencurian secara bersekutu. Pada 9 September 2023 pukul 21.00 WITA, Terdakwa berangkat dari Jembrana menuju Sukawana Sunrise menggunakan sepeda motor Yamaha NMAX warna hitam DK 6492 ZY milik saksi I KETUT MERTA YASA. Pada 10 September 2023 pukul 01.00 WITA, mereka tiba di parkiran dan melihat sepeda motor Yamaha NMAX hitam DK 3498 PT milik saksi MADE YUSA PARAMARTHA. Terdakwa I masuk ke parkiran, sementara Terdakwa II menunggu di Desa Pinggan. Terdakwa I mengambil sepeda motor yang tidak terkunci stang, mendorongnya sejauh 100 meter, lalu menyambungkan kabel stop kontak untuk menyalakan mesin sebelum membawa sepeda motor tersebut ke Jembrana untuk digunakan sebagai transportasi sehari-hari. Pada 30 September 2023, Terdakwa kembali merencanakan pencurian dan berangkat dari Jembrana menggunakan mobil Honda Jazz putih DK 1049 WH yang disewa dari saksi NI LUH PUTU SUPARWATI. Pada 1 Oktober 2023 pukul 01.00 WITA, mereka tiba di parkiran Le Monte Sunrise dan menunggu di mobil hingga pukul 02.00 WITA. Terdakwa I kemudian mengambil sepeda motor Yamaha NMAX warna abu lembayung ungu DK 6992 LB milik saksi I KADEK INDRAWAN dengan cara mendorongnya keluar dari parkiran, membuka bodi depan, dan menyambungkan kabel stop kontak agar mesin menyala. Sepeda motor tersebut dibawa ke Jembrana dan dijual melalui Facebook Marketplace seharga Rp5.300.000. Akibat perbuatan tersebut, saksi MADE YUSA PARAMARTHA mengalami kerugian Rp25.500.000 dan saksi I KADEK INDRAWAN mengalami kerugian Rp26.700.000. Para Terdakwa diancam pidana berdasarkan Pasal 363 ayat (1) ke-4 KUHP Jo Pasal 65 ayat (1) KUHP.",
         "['Pasal 363 Ayat (1) ke-4 KUHP jo. Pasal 65 ayat (1) KUHP']",
         "ROSITA EVAYANTI DEWI",
         "14.0"
        ],
        [
         "17",
         "0",
         "9",
         "0",
         "4",
         "- Uang tunai sebesar Rp. 10.000.000,00(sepuluh juta rupiah). - 1 (satu) buah kartu ATM BRI, Nomor Kartu 6013012227516306 dikembalikan kepada Saksi Luh Putu Widiantari, S.E - 1 (satu) unit Sepeda Motor Honda Vario 125 warna putih DK 6266 PZ, Noka MH1JMD119PK176948, Nosin JMD1E-1177179 beserta kunci kontak. - 1 (satu) lembar STNK Sepeda Motor Honda Vario 125 DK 6266 PZ, Noka MH1JMD119PK176948, Nosin JMD1E-1177179, Nama pemilik an. I NYOMAN BUDIAWAN Dikembalikan kepada Terdakwa - 1 (satu) unit Mobil Suzuki ST 150 Pick Up warna hitam DK 8958 HD beserta kunci kontak  Dikembalikan kepada Saksi I Wayan Sarjana 6. Membebankan kepada Terdakwa membayar biaya perkara sejumlah Rp5.000,00 (lima ribu rupiah)",
         "Terdakwa I Nyoman Budiawan als. Sumawan pada 25 Oktober 2023 pukul 13.00 WITA di Toko UD. Langsung Jaya, Jalan Raya Kintamani, Desa Kintamani, Kecamatan Kintamani, melakukan pencurian dengan mengambil kartu ATM BRI warna biru nomor 6013 0122 2751 6306 milik saksi Luh Putu Widiantari tanpa izin. Sebelumnya, terdakwa datang ke toko untuk mentransfer uang tetapi diberitahu bahwa mesin BRI Link rusak. Saat pegawai toko meninggalkan tempat, terdakwa kembali masuk dan mengambil kartu ATM yang terletak di atas meja kasir. Setelah itu, terdakwa pulang ke rumah di Br./Ds. Siakin, Kecamatan Kintamani, Kabupaten Bangli, lalu menggunakan sepeda motor Vario 125 DK 6266 PZ menuju ATM BRI Toya Devasya di Desa Batur Tengah. Terdakwa mengetahui PIN ATM karena sering melihat pegawai toko memasukkannya saat melakukan transaksi. Terdakwa melakukan empat kali penarikan tunai masing-masing Rp2.500.000, dengan total Rp10.000.000, kemudian kembali ke rumah. Setelah menerima laporan dari saksi Luh Putu Widiantari pada 29 Oktober 2023, tim Kepolisian Sektor Kintamani melakukan penyelidikan dan menangkap terdakwa di rumahnya pada 28 Oktober 2023. Akibat perbuatan terdakwa, saksi mengalami kerugian sebesar Rp10.000.000. Perbuatan terdakwa diatur dan diancam pidana berdasarkan Pasal 362 KUHP.",
         "['Pasal 362 KUHP']",
         "I NYOMAN BUDIAWAN Als. SUMAWAN",
         "14.0"
        ],
        [
         "18",
         "0",
         "0",
         "0",
         "4",
         "- Uang tunai sebesar Rp. 10.000.000,00(sepuluh juta rupiah). - 1 (satu) buah kartu ATM BRI, Nomor Kartu 6013012227516306 dikembalikan kepada Saksi Luh Putu Widiantari, S.E - 1 (satu) unit Sepeda Motor Honda Vario 125 warna putih DK 6266 PZ, Noka MH1JMD119PK176948, Nosin JMD1E-1177179 beserta kunci kontak. - 1 (satu) lembar STNK Sepeda Motor Honda Vario 125 DK 6266 PZ, Noka MH1JMD119PK176948, Nosin JMD1E-1177179, Nama pemilik an. I NYOMAN BUDIAWAN Dikembalikan kepada Terdakwa - 1 (satu) unit Mobil Suzuki ST 150 Pick Up warna hitam DK 8958 HD beserta kunci kontak  Dikembalikan kepada Saksi I Wayan Sarjana 6. Membebankan kepada Terdakwa membayar biaya perkara sejumlah Rp5.000,00 (lima ribu rupiah)",
         "Terdakwa I Nyoman Budiawan als. Sumawan pada 25 Oktober 2023 pukul 13.00 WITA di Toko UD. Langsung Jaya, Jalan Raya Kintamani, Desa Kintamani, Kecamatan Kintamani, melakukan pencurian dengan mengambil kartu ATM BRI warna biru nomor 6013 0122 2751 6306 milik saksi Luh Putu Widiantari tanpa izin. Sebelumnya, terdakwa datang ke toko untuk mentransfer uang tetapi diberitahu bahwa mesin BRI Link rusak. Saat pegawai toko meninggalkan tempat, terdakwa kembali masuk dan mengambil kartu ATM yang terletak di atas meja kasir. Setelah itu, terdakwa pulang ke rumah di Br./Ds. Siakin, Kecamatan Kintamani, Kabupaten Bangli, lalu menggunakan sepeda motor Vario 125 DK 6266 PZ menuju ATM BRI Toya Devasya di Desa Batur Tengah. Terdakwa mengetahui PIN ATM karena sering melihat pegawai toko memasukkannya saat melakukan transaksi. Terdakwa melakukan empat kali penarikan tunai masing-masing Rp2.500.000, dengan total Rp10.000.000, kemudian kembali ke rumah. Setelah menerima laporan dari saksi Luh Putu Widiantari pada 29 Oktober 2023, tim Kepolisian Sektor Kintamani melakukan penyelidikan dan menangkap terdakwa di rumahnya pada 28 Oktober 2023. Akibat perbuatan terdakwa, saksi mengalami kerugian sebesar Rp10.000.000. Perbuatan terdakwa diatur dan diancam pidana berdasarkan Pasal 362 KUHP.",
         "['Pasal 362 KUHP']",
         "I NYOMAN BUDIAWAN Als. SUMAWAN",
         "14.0"
        ],
        [
         "19",
         "1",
         "10",
         "4",
         "2",
         "1 (satu) plastik klip bening yang berisi sabu dengan berat 0,10 (nol koma sepuluh) gram netto selanjutnya disisihkan seberat 0,02 (nol koma nol dua) gram netto untuk uji labforensik sehingga sisa barang bukti 0,08 (nol koma nol delapan) gram netto 1 (satu) buah gantungan handphone merek Furious warna hitam 1 (satu) lembar stiker Furious wana putih 1 (satu) buah jaket merek Furious warna biru dongker 1 (satu) buah handphone merek Samsung A04 warna biru berikut 1 (satu) buah Simcard XL Axiata dimusnahkan 1 (satu) unit sepeda motor merek Honda Scoopy warna merah dengan No. Pol DK 5548 PT berikut kunci kontak dikembalikan kepada yang berhak melalui Terdakwa 7. Membebankan kepada Terdakwa membayar biaya perkara sejumlah Rp5.000,00 (lima ribu rupiah)",
         "Terdakwa I Komang Rendi Yana (Rendi) pada tanggal 6 Juni 2023, sekitar pukul 16.00 WITA, membeli shabu seharga Rp 200.000,- dari seseorang bernama Gus Ucil. Setelah mengambil barang tersebut di lokasi yang telah disepakati, terdakwa menggunakan shabu tersebut di rumahnya dengan membuat bong dari barang-barang seadanya. Setelah menggunakan shabu, terdakwa menyimpan sisa barang bukti di jaketnya.  Sekitar pukul 19.00 WITA, terdakwa hendak pergi ke lapangan alun-alun Bangli, namun saat melintas di Jalan Tirta Geduh, terdakwa diberhentikan oleh petugas kepolisian. Dalam penggeledahan, petugas menemukan shabu yang disembunyikan di dalam gantungan handphone di saku jaket terdakwa. Polisi juga mengamankan barang bukti berupa handphone dan sepeda motor.  Hasil pemeriksaan laboratorium menunjukkan bahwa kristal yang ditemukan mengandung metamphetamine, yang merupakan narkotika golongan I. Terdakwa mengaku menggunakan shabu untuk mengurangi kesedihan akibat perpisahan dengan istri dan anaknya.  Perbuatan terdakwa diancam pidana sesuai dengan Pasal 112 ayat (1) dan Pasal 127 ayat (1) huruf a UU No. 35 Tahun 2009 tentang Narkotika.",
         "['Pasal 112 Ayat (1) UU No. 35 Tahun 2009 tentang Narkotika', 'Pasal 127 Ayat (1) UU No. 35 Tahun 2009 tentang Narkotika']",
         "I KOMANG RENDI YANA alis RENDI",
         "15.0"
        ],
        [
         "20",
         "1",
         "4",
         "4",
         "2",
         "1 (satu) plastik klip bening yang berisi sabu dengan berat 0,10 (nol koma sepuluh) gram netto selanjutnya disisihkan seberat 0,02 (nol koma nol dua) gram netto untuk uji labforensik sehingga sisa barang bukti 0,08 (nol koma nol delapan) gram netto 1 (satu) buah gantungan handphone merek Furious warna hitam 1 (satu) lembar stiker Furious wana putih 1 (satu) buah jaket merek Furious warna biru dongker 1 (satu) buah handphone merek Samsung A04 warna biru berikut 1 (satu) buah Simcard XL Axiata dimusnahkan 1 (satu) unit sepeda motor merek Honda Scoopy warna merah dengan No. Pol DK 5548 PT berikut kunci kontak dikembalikan kepada yang berhak melalui Terdakwa 7. Membebankan kepada Terdakwa membayar biaya perkara sejumlah Rp5.000,00 (lima ribu rupiah)",
         "Terdakwa I Komang Rendi Yana (Rendi) pada tanggal 6 Juni 2023, sekitar pukul 16.00 WITA, membeli shabu seharga Rp 200.000,- dari seseorang bernama Gus Ucil. Setelah mengambil barang tersebut di lokasi yang telah disepakati, terdakwa menggunakan shabu tersebut di rumahnya dengan membuat bong dari barang-barang seadanya. Setelah menggunakan shabu, terdakwa menyimpan sisa barang bukti di jaketnya.  Sekitar pukul 19.00 WITA, terdakwa hendak pergi ke lapangan alun-alun Bangli, namun saat melintas di Jalan Tirta Geduh, terdakwa diberhentikan oleh petugas kepolisian. Dalam penggeledahan, petugas menemukan shabu yang disembunyikan di dalam gantungan handphone di saku jaket terdakwa. Polisi juga mengamankan barang bukti berupa handphone dan sepeda motor.  Hasil pemeriksaan laboratorium menunjukkan bahwa kristal yang ditemukan mengandung metamphetamine, yang merupakan narkotika golongan I. Terdakwa mengaku menggunakan shabu untuk mengurangi kesedihan akibat perpisahan dengan istri dan anaknya.  Perbuatan terdakwa diancam pidana sesuai dengan Pasal 112 ayat (1) dan Pasal 127 ayat (1) huruf a UU No. 35 Tahun 2009 tentang Narkotika.",
         "['Pasal 112 Ayat (1) UU No. 35 Tahun 2009 tentang Narkotika', 'Pasal 127 Ayat (1) UU No. 35 Tahun 2009 tentang Narkotika']",
         "I KOMANG RENDI YANA alis RENDI",
         "15.0"
        ],
        [
         "21",
         "1",
         "11",
         "0",
         "3",
         "1 (satu) buah plastik klip bening yang berisi serbuk kristal yang diduga Narkotika golongan I bukan tanaman jenis shabu dengan berat 0,18 (nol koma delapan belas) gram bruto atau 0,10 (nol koma sepuluh) gram netto dan disisihkan 0,02 (nol koma nol dua) gram netto untuk uji labforensik sehingga berat Narkotika 0,08 (nol koma delapan) gram netto 1 (satu) buah bungkus rokok merk Dunhill warna putih 1 (satu) buah handphone merk OPPO warna ungu lengkap dengan 2 (dua) buah simcard dan 1 (satu) buah memory card Dimusnahkan 1 (satu) unit sepeda motor merk Honda Vario DK 3171 LK warna hitam 1 (satu) lembar STNK sepeda motor Honda Vario DK 3171 LK warna hitam atas nama pemilik I WAYAN DARSA alamat Br. Lungsiakan, Kedewatan Ubud Gianyar 1 (satu) buah kunci kontak. Dikembalikan kepada yang berhak melalui Terdakwa 7. Membebankan kepada Terdakwa membayar biaya perkara sejumlah Rp5.000,00 (lima ribu rupiah)",
         "Terdakwa I Gusti Lanang Made Wijaya (Lanang) pada tanggal 24 April 2023, sekitar pukul 19.00 WITA, merasa gelisah dan memutuskan untuk menggunakan shabu. Terdakwa menghubungi seseorang bernama Jung Tu (DPO) untuk membeli shabu seharga Rp 700.000,-, yang kemudian diambil oleh terdakwa di lokasi yang ditunjukkan di Desa Semana, Kabupaten Badung. Terdakwa membawa shabu tersebut pulang dan menggunakannya sekitar enam kali sedotan.  Pada pukul 19.30 WITA, terdakwa dihubungi oleh Riena (DPO), yang mengajaknya untuk menggunakan shabu bersama di Bangli. Sebelum berangkat, terdakwa membakar alat bong yang digunakan. Terdakwa kemudian berangkat ke Bangli dan tiba di pinggir Jalan Muhamad Hatta sekitar pukul 22.30 WITA. Saat itu, terdakwa dihentikan oleh petugas kepolisian yang menggeledah dirinya dan menemukan barang bukti berupa plastik klip berisi shabu seberat 0,08 gram netto, sebuah handphone, dan sepeda motor.  Berdasarkan pemeriksaan laboratorium, shabu tersebut terkonfirmasi mengandung metamphetamine, termasuk narkotika golongan I. Terdakwa tidak memiliki izin untuk memiliki, menyimpan, atau menggunakan narkotika tersebut. Perbuatannya melanggar Pasal 112 Ayat (1) dan Pasal 127 Ayat (1) Huruf a UU No. 35 Tahun 2009 tentang Narkotika.",
         "['Pasal 112 Ayat (1) UU No. 35 Tahun 2009 tentang Narkotika', 'Pasal 127 Ayat (1) UU No. 35 Tahun 2009 tentang Narkotika']",
         "I GUSTI LANANG MADE WIJAYA alias LANANG",
         "16.0"
        ],
        [
         "22",
         "1",
         "12",
         "1",
         "5",
         "1 (satu) plastik klip bening yang berisi narkotika golongan I bukan tanaman mengandung sediaan metamfetamina yang terdaftar dalam Narkotika Golongan I Nomor Urut 61 Lampiran I UURI Nomor 35 Tahun 2009 tentang Narkotika dengan berat 0,33 (nol koma tiga puluh tiga) gram bruto atau 0,15 (nol koma lima belas) gram netto selanjutnya disisihkan seberat 0,02 (nol koma nol dua) gram netto untuk uji labforensik sehingga sisa barang bukti 0,13 (nol koma tiga belas) gram netto 1 (satu) potong pipet plastik warna bening 1 (satu) lembar tissue warna putih 1 (satu) buah bungkus snack merek Superco 1 (satu) buah bungkus plastik warna hitam putih 1 (satu) unit handphone merek Samsung Galaxy Type J2 Prime warna hitam berikut 1 (satu) buah sim card IM3 dan 1 (satu) buah memory card Dipergunakan dalam perkara atas nama Sodakoh Maliki alias Dakoh  6. Membebankan kepada Terdakwa membayar biaya perkara sejumlah Rp5.000,00 (lima ribu rupiah)",
         "Dakwaan terhadap terdakwa Selamet Harianto alias Selamet dan Sodakoh Maliki alias Dakoh adalah sebagai berikut:  Pada tanggal 15 Mei 2023, sekitar pukul 20.45 WITA, di Jalan Muhammad Hatta, Kelurahan Bebalang, Kabupaten Bangli, mereka bersama-sama melakukan tindakan tanpa hak atau melawan hukum dengan memiliki, menyimpan, menguasai, atau menyediakan narkotika jenis sabu (Metamfetamina) dengan berat 0,33 gram bruto (0,15 gram netto), yang ditemukan di dalam bungkusan plastik yang dibalut tissue dan disimpan dalam kemasan snack.  Peristiwa ini bermula ketika terdakwa Selamet menghubungi Rizal (DPO) melalui WhatsApp untuk meminta pekerjaan, yang kemudian disetujui. Terdakwa dan Sodakoh berangkat ke Bangli untuk mengambil narkotika yang telah disiapkan oleh Rizal. Tiba di lokasi, mereka mengambil paket sabu yang disembunyikan di bawah tiang listrik. Saat itu, terdakwa merasa jumlah sabu yang diterimanya sedikit.  Setelah itu, mereka berdua kembali ke Denpasar dan dihentikan oleh petugas kepolisian di Jalan Muhammad Hatta, Bebalang, Bangli. Dari penggeledahan, ditemukan narkotika jenis sabu seberat 0,33 gram bruto (0,13 gram netto setelah disisihkan untuk uji lab), serta barang bukti lain berupa handphone, SIM card, dan kartu memori.  Sodakoh juga ditemukan memiliki narkotika jenis sabu seberat 0,10 gram bruto dan peralatan yang digunakan untuk mengonsumsi narkoba. Mereka berdua kemudian diamankan dan dibawa ke Polres Bangli.  Hasil uji forensik membuktikan bahwa sabu yang ditemukan mengandung Metamfetamina, yang termasuk dalam Narkotika Golongan I. Terdakwa Selamet juga diketahui pernah dihukum dalam kasus serupa pada tahun 2019.",
         "['Pasal 112 Ayat (1) UU RI No. 35 Tahun 2009 tentang Narkotika jo. Pasal 55 Ayat (1) Ke-1 KUHP']",
         "SELAMET HARIANTO alias SELAMET",
         "72.0"
        ],
        [
         "23",
         "1",
         "11",
         "4",
         "5",
         "Kode A1 1 (satu) bungkus yang diduga narkotika golongan I jenis tembakau sintetis yang dibungkus plastik merek Violin warna biru dengan berat 18,85 (delapan belas koma delapan puluh lima) gram bruto atau 14,59 (empat belas koma lima puluh sembilan) gram netto dan disisihkan 1 (satu) gram netto untuk uji labforensik sehingga berat narkotika 13,59 (tiga belas koma lima puluh sembilan) gram netto Kode A2 1 (satu) bungkus yang diduga narkotika golongan I jenis tembakau sintetis yang dibungkus plastik merek Rhino warna merah dengan berat 43,41 (empat puluh tiga koma empat puluh satu) gram bruto atau 39,41 (tiga puluh sembilan koma empat puluh satu) gram netto dan disisihkan 1 (satu) gram netto untuk uji labforensik sehingga berat narkotika 38,41 (tiga puluh delapan koma empat puluh satu) gram netto 1 (satu) buah kardus mie instan merek Indomie 1 (satu) buah plastik bubble wrap yang tertempel resi JT Express No JND/BNL001 GIA-BNL01 JD0229994349 4 (empat) buah kertas papir merek Radja Mas  Dimusnahkan  4. Membebankan kepada Terdakwa membayar biaya perkara sejumlah Rp5.000,00 (lima ribu rupiah)",
         "Pada hari Selasa, 14 Maret 2023, sekitar pukul 12.00 WITA, Terdakwa Raihan Rahadi Azhar alias Raihan, yang tengah berada di dalam kamar tahanan Blok B Rutan Kelas IIB Bangli, Desa Bebalang, Kecamatan Bangli, Kabupaten Bangli, menerima kunjungan dari seorang pria bernama Gunggus Togar Manatar Pangaribuan, alias Togar. Togar datang untuk meminjam nama Raihan dalam sebuah transaksi yang berkaitan dengan pengiriman barang. Togar meminta izin untuk menggunakan nama Raihan agar bisa menerima paket tembakau sintetis yang dikirim melalui layanan pengiriman J&T Express. Togar meyakinkan Raihan bahwa semuanya akan aman, meskipun Raihan sempat bertanya dengan khawatir, \"Aman nggak?\". Togar menjawab dengan percaya diri, \"Aman.\"  Setelah mendengar penjelasan tersebut, Raihan pun akhirnya menyetujui permintaan Togar dan memberikan nama dirinya untuk digunakan dalam penerimaan paket tersebut, meskipun ia tidak tahu persis dari mana asal tembakau sintetis itu. Dua hari kemudian, pada Kamis, 16 Maret 2023, sekitar pukul 11.10 WITA, Raihan sedang duduk membaca buku di dalam kamarnya, yang terletak di kamar nomor 6 Blok B Rutan Kelas IIB Bangli, ketika seorang petugas tamping datang memanggilnya. Petugas tersebut menginformasikan bahwa ada paket yang datang atas nama Raihan Rahadi dengan nomor telepon dan alamat yang sesuai.  Tanpa curiga, Raihan menuju ke ruang portir untuk mengambil paket tersebut. Ia menerima paket itu dengan kedua tangannya, tidak tahu apa yang ada di dalamnya. Tak lama setelah menerima paket itu, Raihan langsung diamankan oleh petugas beserta barang bukti paket yang ia terima. Dalam paket yang dibawa Raihan, petugas menemukan dua bungkus tembakau sintetis yang disembunyikan di dalam plastik. Tembakau sintetis tersebut terbungkus rapat dengan kardus mie instan merek Indomie dan dibungkus lagi dengan plastik bubble wrap. Setelah dilakukan pemeriksaan lebih lanjut, ditemukan dua jenis tembakau sintetis, yaitu tembakau dengan merek Violin dan Rhino, masing-masing dengan berat bruto 18,85 gram dan 43,41 gram.  Petugas kepolisian kemudian melakukan pemeriksaan terhadap isi paket, disaksikan oleh petugas Rutan. Hasil pemeriksaan laboratorium menunjukkan bahwa kedua bungkus tembakau sintetis tersebut mengandung senyawa MDMB-4en-PINACA, yang termasuk dalam jenis narkotika golongan I, berdasarkan Peraturan Menteri Kesehatan No. 36 Tahun 2022. Senyawa ini telah terdaftar dalam Undang-Undang Republik Indonesia No. 35 Tahun 2009 tentang Narkotika.  Dengan temuan tersebut, Raihan kemudian didakwa telah melanggar undang-undang tentang narkotika, meskipun ia tidak mengetahui asal muasal barang tersebut. Tindak pidana yang dilakukannya termasuk menawarkan, menjual, membeli, menerima, menjadi perantara jual beli, atau menukar narkotika golongan I. Raihan juga diduga melanggar Pasal 114 Ayat (1) dari Undang-Undang No. 35 Tahun 2009, yang berhubungan dengan kepemilikan, penyimpanan, dan penguasaan narkotika golongan I yang bukan merupakan tanaman.",
         "['Pasal 114 Ayat (1) UU No. 35 Tahun 2009 tentang Narkotika']",
         "RAIHAN RAHADI AZHAR alias RAIHAN",
         "84.0"
        ],
        [
         "24",
         "0",
         "13",
         "4",
         "5",
         "1 (satu) buah kotak handphone Redmi Note 10 S 1 (satu) buah handphone merk Redmi Note 10 S warna Onyx Gray  Dikembalikan kepada I Wayan Suardana 1 (satu) buah kotak Handphone Redmi Note 7 6 (enam) lembar uang Rp100.000,00 (seratus ribu rupiah) dengan total Rp600.000,00 (enam ratus ribu rupiah)  Dikembalikan kepada I Wayan Panggih 1 buah tas pinggang merk Jungle Surf warna abu-abu  Dimusnahkan  6. Membebankan kepada Terdakwa membayar biaya perkara sejumlah Rp5.000,00 (lima ribu rupiah)",
         "Terdakwa, I Wayan Nawa, didakwa melakukan serangkaian tindak pidana pencurian yang terjadi di wilayah Kintamani, Kabupaten Bangli, pada bulan Oktober dan November 2022. Pada hari Minggu, 2 Oktober 2022, sekitar pukul 12.30 WITA, terdakwa melakukan pencurian di kebun milik I Wayan Suardana di Desa Bayung Gede. Dengan berpura-pura menawarkan pupuk kandang, terdakwa mengalihkan perhatian korban dan mencuri sebuah ponsel Redmi Note 10S beserta uang tunai Rp400.000 yang disimpan dalam wadah ponsel tersebut.  Selanjutnya, pada hari Rabu, 9 November 2022, sekitar pukul 12.00 WITA, terdakwa kembali melakukan pencurian di sebuah pondokan milik I Wayan Panggih di Desa Binyan. Dengan modus yang sama, yaitu menawarkan pupuk kandang, terdakwa berhasil mencuri sebuah ponsel Redmi Note 7 milik korban. Setelah melakukan pencurian, terdakwa menjual kedua ponsel tersebut. Ponsel milik I Wayan Suardana dijual seharga Rp1.400.000, sedangkan ponsel milik I Wayan Panggih dijual seharga Rp400.000. Uang hasil penjualan tersebut digunakan oleh terdakwa untuk memenuhi kebutuhan sehari-hari.  Akibat perbuatan terdakwa, I Wayan Suardana mengalami kerugian sebesar Rp3.400.000, sedangkan I Wayan Panggih mengalami kerugian sebesar Rp3.000.000. Setelah menerima laporan dari para korban, pihak kepolisian melakukan penyelidikan dan berhasil menangkap terdakwa pada tanggal 9 Februari 2023 di wilayah Karangasem. Atas perbuatannya, terdakwa didakwa melanggar Pasal 362 KUHP jo Pasal 65 ayat (1) KUHP, yang mengatur tentang tindak pidana pencurian yang dilakukan secara berulang.",
         "['Pasal 362 KUHP jo. Pasal 65 Ayat (1) KUHP']",
         "I Wayan Nawa",
         "6.0"
        ],
        [
         "25",
         "0",
         "11",
         "3",
         "5",
         "2 (dua) Gram Cincin emas dengan batu permata berwarna hitam Pecahan uang seratus ribu rupiah sebanyak 57 lembar (Rp.5.700.000,-) 1 (satu) Buah tas warna merah maroon bertuliskan Michael Kors 1.600 Gram Cincin emas dengan batu permata berwarna merah 1 (satu) Pcs Dompet warna merah muda kombinasi putih bertuliskan Toko Perhiasan Emas Ratna 14.400 Gram Kalung Emas Rantai Bola 2 (dua) Lembar Nota Pembelian Perhiasan Emas Toko Ratna 1 (satu) Buah Tas warna hitam bertuliskan Steve Madden Dikembalikan kepada Saksi Ni Jro Luh Putri 1 (satu) Potong Hoddie warna merah bertuliskan Getting To 90 4th Red Ribbon Flash Mob  Dimusnahkan - 1 (satu) Unit sepeda motor Yamaha Xeon warna hitam Dirampas untuk negara 6. Membebankan kepada Terdakwa membayar biaya perkara sejumlah Rp5.000,00 (lima ribu rupiah)",
         "Terdakwa, JRO GEDE BUDI, didakwa melakukan tindak pidana pencurian di Pemandian Tirta Usadha Toya Bungkah, Bangli, pada 28 Januari 2023. Terdakwa, yang datang untuk berendam, melihat tas milik NI JRO LUH PUTRI di loker terbuka. Timbul niat untuk mencuri, terdakwa mengambil tas tersebut dan membawanya ke parkiran motor.  Setelah pergi, terdakwa memeriksa isi tas dan menemukan uang Rp5.700.000 dan perhiasan emas. Terdakwa mengambil Rp1.000.000 dan menyembunyikan sisanya beserta perhiasan di dekat rumahnya. Terdakwa kemudian pulang dengan uang curian.  Polisi menangkap terdakwa setelah laporan korban. Barang bukti ditemukan, termasuk tas, uang, dan perhiasan. Korban mengalami kerugian Rp19.700.000. Terdakwa didakwa melanggar Pasal 362 KUHP.",
         "['Pasal 362 KUHP']",
         "JRO GEDE BUDI",
         "5.0"
        ],
        [
         "26",
         "0",
         "9",
         "4",
         "3",
         "1 (satu) unit sepeda motor yang sudah dimodifikasi (cetul) tanpa terpasang nomor registrasi / nomor polisi dan tidak dapat terdapat nomor rangka dan nomor mesin kendaraan Dikembalikan kepada I Gede Wiraguna 1 (satu) unit sepeda motor merek Kawasaki tipe LX 150 C, warna hitam kombinasi kuning, tahun pembuatan 2010, tanpa terpasang nomor registrasi / nomor polisi, Noka MH4LX150CAKP15705, Nosin LX150CEP19759 1 (satu) lembar SNTK sepeda motor merek Kawasaki tipe LX 150 C, warna hijau, tahun pembuatan 2010, nomor registrasi / nomor polisi DK 8164 IQ, Noka MH4LX150CAKP15705, Nosin LX150CEP19759, a.n. Chrisnawati, alamat Jl. Surabaya D, 6/20 Puri Gading, Jimbaran, Kuta Badung dan 1 (satu) buah buku BPKB, No H-0 2625520, DK 8164 IQ, merek Kawasaki tipe LX 150 C, Noka MH4LX150CAKP15705, Nosin LX150CEP19759, a.n. Chrisnawati, alamat Jl. Surabaya D, 6/20 Puri Gading, Jimbaran, Kuta Badung Dikembalikan kepada I Wayan Eva Kusuma Putra 6. Membebankan kepada Para Terdakwa membayar biaya perkara masing-masing sejumlah Rp5.000,00 (lima ribu rupiah)",
         "Terdakwa I, Rifqi Abdurahman, dan Terdakwa II, Gunawan, didakwa melakukan pencurian sepeda motor Kawasaki KLX 150 C di Jalan Raya Kayuambua, Bangli, pada 11 Desember 2022, sekitar pukul 00.30 WITA. Berawal dari permintaan Gunawan untuk mencarikan motor KLX, mereka berdua berangkat dari Denpasar ke Kintamani. Di lokasi kejadian, mereka melihat motor KLX tanpa kunci kontak. Rifqi mengambil motor tersebut dengan mendorongnya, sementara Gunawan mengawasi.  Karena Rifqi tidak bisa menyalakan motor, Gunawan membantu mendorongnya. Namun, motor mereka mengalami kerusakan, dan Rifqi melanjutkan mendorong motor curian sendirian. Saat mendorong, Rifqi bertemu saksi-saksi yang curiga dan menghubungi pemilik motor. Rifqi berhasil menyalakan motor, tetapi kehabisan bensin. Ia melanjutkan mendorong ke SPBU Sekardadi, di mana ia tertidur dan ditangkap polisi.  Gunawan ditangkap di Desa Dumilih. Motor curian dan motor yang digunakan para terdakwa disita. Korban, I Wayan Eva Kusuma Putra, mengalami kerugian Rp16.000.000. Para terdakwa didakwa melanggar Pasal 363 Ayat (1) Ke 4 KUHP sebagai dakwaan primair dan Pasal 362 KUHP sebagai dakwaan subsidair.",
         "['Pasal 363 Ayat (1) ke-4 KUHP', 'Pasal 362 KUHP']",
         "RIFQI ABDURAHMAN",
         "8.0"
        ],
        [
         "27",
         "0",
         "9",
         "4",
         "3",
         "1 (satu) unit sepeda motor yang sudah dimodifikasi (cetul) tanpa terpasang nomor registrasi / nomor polisi dan tidak dapat terdapat nomor rangka dan nomor mesin kendaraan Dikembalikan kepada I Gede Wiraguna 1 (satu) unit sepeda motor merek Kawasaki tipe LX 150 C, warna hitam kombinasi kuning, tahun pembuatan 2010, tanpa terpasang nomor registrasi / nomor polisi, Noka MH4LX150CAKP15705, Nosin LX150CEP19759 1 (satu) lembar SNTK sepeda motor merek Kawasaki tipe LX 150 C, warna hijau, tahun pembuatan 2010, nomor registrasi / nomor polisi DK 8164 IQ, Noka MH4LX150CAKP15705, Nosin LX150CEP19759, a.n. Chrisnawati, alamat Jl. Surabaya D, 6/20 Puri Gading, Jimbaran, Kuta Badung dan 1 (satu) buah buku BPKB, No H-0 2625520, DK 8164 IQ, merek Kawasaki tipe LX 150 C, Noka MH4LX150CAKP15705, Nosin LX150CEP19759, a.n. Chrisnawati, alamat Jl. Surabaya D, 6/20 Puri Gading, Jimbaran, Kuta Badung Dikembalikan kepada I Wayan Eva Kusuma Putra 6. Membebankan kepada Para Terdakwa membayar biaya perkara masing-masing sejumlah Rp5.000,00 (lima ribu rupiah)",
         "Terdakwa I, Rifqi Abdurahman, dan Terdakwa II, Gunawan, didakwa melakukan pencurian sepeda motor Kawasaki KLX 150 C di Jalan Raya Kayuambua, Bangli, pada 11 Desember 2022, sekitar pukul 00.30 WITA. Berawal dari permintaan Gunawan untuk mencarikan motor KLX, mereka berdua berangkat dari Denpasar ke Kintamani. Di lokasi kejadian, mereka melihat motor KLX tanpa kunci kontak. Rifqi mengambil motor tersebut dengan mendorongnya, sementara Gunawan mengawasi.  Karena Rifqi tidak bisa menyalakan motor, Gunawan membantu mendorongnya. Namun, motor mereka mengalami kerusakan, dan Rifqi melanjutkan mendorong motor curian sendirian. Saat mendorong, Rifqi bertemu saksi-saksi yang curiga dan menghubungi pemilik motor. Rifqi berhasil menyalakan motor, tetapi kehabisan bensin. Ia melanjutkan mendorong ke SPBU Sekardadi, di mana ia tertidur dan ditangkap polisi.  Gunawan ditangkap di Desa Dumilih. Motor curian dan motor yang digunakan para terdakwa disita. Korban, I Wayan Eva Kusuma Putra, mengalami kerugian Rp16.000.000. Para terdakwa didakwa melanggar Pasal 363 Ayat (1) Ke 4 KUHP sebagai dakwaan primair dan Pasal 362 KUHP sebagai dakwaan subsidair.",
         "['Pasal 363 Ayat (1) ke-4 KUHP', 'Pasal 362 KUHP']",
         "GUNAWAN",
         "8.0"
        ],
        [
         "28",
         "0",
         "14",
         "0",
         "6",
         "1 (satu) unit sepeda motor honda vario tahun 2011, warna merah silver DK 7917 UR, Noka MH1JF8119BK338944, Nosin JF81E-1337110 beserta anak kunci 1 (satu) STNK sepeda motor honda vario tahun 2011, warna merah silver DK 7917 UR, Noka MH1JF8119BK338944, Nosin JF81E-1337110 dikembalikan kepada yang berhak melalui Terdakwa 4 (empat) ekor ayam aduan warna merah (biying) 1 (satu) ekor ayam aduan warna coklat (klau) dikembalikan kepada I WAYAN SUKADA dan I MADE TERUS 4 (empat) buah karung warna putih dimusnahkan 6. Membebankan kepada Terdakwa membayar biaya perkara sejumlah Rp5.000,00 (lima ribu rupiah)",
         "Terdakwa, Gede Kastawa, didakwa melakukan serangkaian tindak pidana pencurian ayam di wilayah Kintamani, Bangli, pada bulan Oktober 2022. Pada 21 Oktober, sekitar pukul 20.00 WITA, ia mencuri 6 ekor ayam milik I Wayan Sukada di Desa Belantih. Pada 28 Oktober, sekitar pukul 18.00 WITA, ia mencuri 15 ekor ayam milik I Made Terus di Desa Belanga. Pada 30 Oktober, sekitar pukul 16.30 WITA, ia mencoba mencuri 1 ekor ayam milik I Wayan Lusin di Desa Belanga, namun gagal dan berhasil diamankan warga.  Dalam setiap aksinya, terdakwa menggunakan modus yang sama, yaitu memanfaatkan kelengahan korban. Ia menjual ayam curian di Singaraja dan menggunakan uangnya untuk judi sabung ayam dan kebutuhan sehari-hari. Akibat perbuatannya, para korban mengalami kerugian total Rp3.500.000. Terdakwa didakwa melanggar Pasal 362 KUHP Jo Pasal 65 ayat (1) KUHP, yang mengatur tentang tindak pidana pencurian yang dilakukan secara berulang..",
         "['Pasal 362 KUHP jo. Pasal 65 Ayat (1) KUHP']",
         "Gede Kastawa",
         "30.0"
        ],
        [
         "29",
         "0",
         "15",
         "0",
         "6",
         "1 (satu) unit sepeda motor honda vario tahun 2011, warna merah silver DK 7917 UR, Noka MH1JF8119BK338944, Nosin JF81E-1337110 beserta anak kunci 1 (satu) STNK sepeda motor honda vario tahun 2011, warna merah silver DK 7917 UR, Noka MH1JF8119BK338944, Nosin JF81E-1337110 dikembalikan kepada yang berhak melalui Terdakwa 4 (empat) ekor ayam aduan warna merah (biying) 1 (satu) ekor ayam aduan warna coklat (klau) dikembalikan kepada I WAYAN SUKADA dan I MADE TERUS 4 (empat) buah karung warna putih dimusnahkan 6. Membebankan kepada Terdakwa membayar biaya perkara sejumlah Rp5.000,00 (lima ribu rupiah)",
         "Terdakwa, Gede Kastawa, didakwa melakukan serangkaian tindak pidana pencurian ayam di wilayah Kintamani, Bangli, pada bulan Oktober 2022. Pada 21 Oktober, sekitar pukul 20.00 WITA, ia mencuri 6 ekor ayam milik I Wayan Sukada di Desa Belantih. Pada 28 Oktober, sekitar pukul 18.00 WITA, ia mencuri 15 ekor ayam milik I Made Terus di Desa Belanga. Pada 30 Oktober, sekitar pukul 16.30 WITA, ia mencoba mencuri 1 ekor ayam milik I Wayan Lusin di Desa Belanga, namun gagal dan berhasil diamankan warga.  Dalam setiap aksinya, terdakwa menggunakan modus yang sama, yaitu memanfaatkan kelengahan korban. Ia menjual ayam curian di Singaraja dan menggunakan uangnya untuk judi sabung ayam dan kebutuhan sehari-hari. Akibat perbuatannya, para korban mengalami kerugian total Rp3.500.000. Terdakwa didakwa melanggar Pasal 362 KUHP Jo Pasal 65 ayat (1) KUHP, yang mengatur tentang tindak pidana pencurian yang dilakukan secara berulang..",
         "['Pasal 362 KUHP jo. Pasal 65 Ayat (1) KUHP']",
         "Gede Kastawa",
         "30.0"
        ],
        [
         "30",
         "0",
         "16",
         "0",
         "5",
         "3 (tiga) ekor anak babi dengan bulu berwarna putih 1 (satu) buah karung plastic merk novo berwarna putih  dikembalikan kepada Saksi Komang Sucitra  6. Membebankan kepada Terdakwa membayar biaya perkara sejumlah Rp5.000,- (lima ribu rupiah)",
         "Terdakwa, Elias Fanggi, dihadapkan pada dakwaan atas tindak pidana pencurian dengan pemberatan dan penggelapan dalam jabatan yang terjadi di kandang babi milik I Komang Sucitra di Desa Abuan, Kecamatan Kintamani, Kabupaten Bangli. Pada hari Sabtu, 27 Maret 2021, sekitar pukul 22.30 WITA, Elias Fanggi, yang bekerja sebagai pembersih kandang babi milik korban sejak 6 Januari 2021, melakukan serangkaian tindakan yang mengakibatkan hilangnya tiga ekor anak babi. Pada hari itu, sekitar pukul 16.00 WITA, terdakwa datang ke kandang babi untuk melaksanakan tugasnya. Namun, pada malam harinya, sekitar pukul 22.30 WITA, ia memasuki kandang babi melalui pintu yang tidak terkunci dan mengambil karung plastik yang ada di dalam kandang. Tanpa izin dan sepengetahuan I Komang Sucitra, Elias Fanggi mengambil tiga ekor anak babi dan memasukkannya ke dalam karung plastik yang telah ia siapkan. Ia kemudian membawa anak babi tersebut keluar dari kandang menggunakan sepeda motor milik saksi Leonardus Pendi dengan maksud untuk menjualnya.  Perbuatan Elias Fanggi diketahui oleh I Komang Sucitra, yang kemudian melaporkan kejadian tersebut kepada pihak berwajib. Akibat perbuatan terdakwa, I Komang Sucitra mengalami kerugian sekitar Rp3.600.000. Atas perbuatannya, Elias Fanggi didakwa dengan dakwaan primair Pasal 363 Ayat (1) Ke 1 KUHP, yaitu pencurian dengan pemberatan, karena ia memasuki kandang babi yang merupakan tempat tertutup dengan maksud untuk melakukan pencurian. Sebagai dakwaan subsidair, ia juga didakwa dengan Pasal 374 KUHP, yaitu penggelapan dalam jabatan, karena ia memiliki hubungan kerja dengan korban dan tanggung jawab terhadap hewan ternak tersebut.",
         "['Pasal 363 Ayat (1) KUHP', 'Pasal 374 KUHP']",
         "Elias Fanggi",
         "6.0"
        ],
        [
         "31",
         "0",
         "17",
         "0",
         "5",
         "3 (tiga) ekor anak babi dengan bulu berwarna putih 1 (satu) buah karung plastic merk novo berwarna putih  dikembalikan kepada Saksi Komang Sucitra  6. Membebankan kepada Terdakwa membayar biaya perkara sejumlah Rp5.000,- (lima ribu rupiah)",
         "Terdakwa, Elias Fanggi, dihadapkan pada dakwaan atas tindak pidana pencurian dengan pemberatan dan penggelapan dalam jabatan yang terjadi di kandang babi milik I Komang Sucitra di Desa Abuan, Kecamatan Kintamani, Kabupaten Bangli. Pada hari Sabtu, 27 Maret 2021, sekitar pukul 22.30 WITA, Elias Fanggi, yang bekerja sebagai pembersih kandang babi milik korban sejak 6 Januari 2021, melakukan serangkaian tindakan yang mengakibatkan hilangnya tiga ekor anak babi. Pada hari itu, sekitar pukul 16.00 WITA, terdakwa datang ke kandang babi untuk melaksanakan tugasnya. Namun, pada malam harinya, sekitar pukul 22.30 WITA, ia memasuki kandang babi melalui pintu yang tidak terkunci dan mengambil karung plastik yang ada di dalam kandang. Tanpa izin dan sepengetahuan I Komang Sucitra, Elias Fanggi mengambil tiga ekor anak babi dan memasukkannya ke dalam karung plastik yang telah ia siapkan. Ia kemudian membawa anak babi tersebut keluar dari kandang menggunakan sepeda motor milik saksi Leonardus Pendi dengan maksud untuk menjualnya.  Perbuatan Elias Fanggi diketahui oleh I Komang Sucitra, yang kemudian melaporkan kejadian tersebut kepada pihak berwajib. Akibat perbuatan terdakwa, I Komang Sucitra mengalami kerugian sekitar Rp3.600.000. Atas perbuatannya, Elias Fanggi didakwa dengan dakwaan primair Pasal 363 Ayat (1) Ke 1 KUHP, yaitu pencurian dengan pemberatan, karena ia memasuki kandang babi yang merupakan tempat tertutup dengan maksud untuk melakukan pencurian. Sebagai dakwaan subsidair, ia juga didakwa dengan Pasal 374 KUHP, yaitu penggelapan dalam jabatan, karena ia memiliki hubungan kerja dengan korban dan tanggung jawab terhadap hewan ternak tersebut.",
         "['Pasal 363 Ayat (1) KUHP', 'Pasal 374 KUHP']",
         "Elias Fanggi",
         "6.0"
        ],
        [
         "32",
         "0",
         "17",
         "0",
         "15",
         "1 (satu) buah mesin penggerak pompa air merk GENERAL beserta 1 (satu) buah pompa Sanchin 1 (satu) buah tali kipas Dikembalikan kepada I WAYAN SUTIANA 1 (satu) buah mesin penggerak pompa air merk GENERAL beserta 1 (satu) buah pompa Sanchin 1 (satu) buah tali kipas 1 (satu) pasang sepatu boat warna hijau tua Dikembalikan kepada I NENGAH SAPA 1 (satu) buah mesin penggerak pompa air merk GENERAL beserta 1 (satu) buah pompa Sanchin 1 (satu) buah tali kipas 2 (dua) buah selang warna orange Dikembalikan kepada I KETUT SUDADI 1 (satu) buah mesin penggerak pompa air merk PRIMA beserta 1 (satu) buah pompa Sanchin merk Pro Quip 1 (satu) buah tali kipas Dikembalikan kepada I WAYAN RAMANTO 1 (satu) buah mesin penggerak pompa air merk PRO QUIP beserta 1 (satu) buah pompa Sanchin merk Tanika 1 (satu) buah tali kipas DIkembalikan kepada I MADE SADSWADARMA 1 (satu) buah mesin pompa air merk Honda lengkap dengan pompa sanchin 1 (satu) buah tali kipas Dikembalikan I KETUT CAREM 1 (satu) buah mesin pompa air merk Robin lengkap dengan pompa sanchin 1 (satu) buah tali kipas Dikembalikan kepada I NYOMAN BIRAWAN 1 (satu) buah mesin pompa air merk Robin lengkap dengan pompa sanchin 1 (satu) buah tali kipas Dikembalikan kepada NI NENGAH SUANTINI 1 (satu) buah mesin pemotong kayu (Senzo) merk Still Dikembalikan kepada I NYOMAN KENEH 1 (satu) buah mesin pemotong rumput merk Harry Dikembalikan kepada I WAYAN DARMA 1 (satu) buah kompor gas merk Rinai 1 (satu) buah tabung gas isi 3 kg Dikembalikan kepada NI KETUT SUPADMI 1 (satu) unit sepeda motor Honda Genio warna abu-abu DK 5756 PX beserta kunci kontak 1 (satu) lembar STNK sepeda motor Honda Genio warna abu-abu DK 5756 PX nomor rangka MH1JM611XKK105164, nomor mesin JM61E- 1105196, tahun pembuatan 2019 atas nama I WAYAN EDI RUSMAWAN 1 (satu) set kunci peralatan bengkel terdiri dari 1 set kunci L, 1 buah tang, 1 buah kunci engkol, 5 buah kunci pas, 1 buah obeng, 2 buah kunci T Dikembalikan kepada Penuntut Umum untuk dijadikan barang bukti dalam perkara lain Uang tunai Rp 250.000,00 (dua ratus lima puluh ribu rupiah) Dirampas untuk negara 3 (tiga) buah karung plastik (kampil) 1 (satu) gulung tali plastik rapia warna merah muda 2 (dua) buah selang warna bening Dimusnahkan  6. Membebankan kepada Terdakwa membayar biaya perkara sejumlah Rp5.000,00 (lima ribu rupiah)",
         "Terdakwa I Wayan Edi Rusmawan didakwa melakukan pencurian terhadap barang milik orang lain secara melawan hukum di berbagai lokasi di Kintamani, Bangli, antara Juni 2020 hingga Januari 2021. Kejadian-kejadian tersebut terjadi pada berbagai waktu dan tempat, termasuk kebun dan gudang milik beberapa individu di daerah tersebut. Tindakannya dilakukan dengan cara merusak, memanjat, atau menggunakan alat seperti anak kunci palsu untuk mengakses tempat dan barang yang dicuri. Tindakannya termasuk dalam beberapa perbuatan yang harus dipandang sebagai kejahatan terpisah. Perbuatan tersebut diancam pidana sesuai dengan Pasal 362 KUHP Jo Pasal 65 ayat (1) KUHP.",
         "['Pasal 362 KUHP jo Pasal 65 ayat (1) KUHP']",
         "I Wayan Edi Rusmawan",
         "24.0"
        ],
        [
         "33",
         "0",
         "18",
         "0",
         "15",
         "1 (satu) buah mesin penggerak pompa air merk GENERAL beserta 1 (satu) buah pompa Sanchin 1 (satu) buah tali kipas Dikembalikan kepada I WAYAN SUTIANA 1 (satu) buah mesin penggerak pompa air merk GENERAL beserta 1 (satu) buah pompa Sanchin 1 (satu) buah tali kipas 1 (satu) pasang sepatu boat warna hijau tua Dikembalikan kepada I NENGAH SAPA 1 (satu) buah mesin penggerak pompa air merk GENERAL beserta 1 (satu) buah pompa Sanchin 1 (satu) buah tali kipas 2 (dua) buah selang warna orange Dikembalikan kepada I KETUT SUDADI 1 (satu) buah mesin penggerak pompa air merk PRIMA beserta 1 (satu) buah pompa Sanchin merk Pro Quip 1 (satu) buah tali kipas Dikembalikan kepada I WAYAN RAMANTO 1 (satu) buah mesin penggerak pompa air merk PRO QUIP beserta 1 (satu) buah pompa Sanchin merk Tanika 1 (satu) buah tali kipas DIkembalikan kepada I MADE SADSWADARMA 1 (satu) buah mesin pompa air merk Honda lengkap dengan pompa sanchin 1 (satu) buah tali kipas Dikembalikan I KETUT CAREM 1 (satu) buah mesin pompa air merk Robin lengkap dengan pompa sanchin 1 (satu) buah tali kipas Dikembalikan kepada I NYOMAN BIRAWAN 1 (satu) buah mesin pompa air merk Robin lengkap dengan pompa sanchin 1 (satu) buah tali kipas Dikembalikan kepada NI NENGAH SUANTINI 1 (satu) buah mesin pemotong kayu (Senzo) merk Still Dikembalikan kepada I NYOMAN KENEH 1 (satu) buah mesin pemotong rumput merk Harry Dikembalikan kepada I WAYAN DARMA 1 (satu) buah kompor gas merk Rinai 1 (satu) buah tabung gas isi 3 kg Dikembalikan kepada NI KETUT SUPADMI 1 (satu) unit sepeda motor Honda Genio warna abu-abu DK 5756 PX beserta kunci kontak 1 (satu) lembar STNK sepeda motor Honda Genio warna abu-abu DK 5756 PX nomor rangka MH1JM611XKK105164, nomor mesin JM61E- 1105196, tahun pembuatan 2019 atas nama I WAYAN EDI RUSMAWAN 1 (satu) set kunci peralatan bengkel terdiri dari 1 set kunci L, 1 buah tang, 1 buah kunci engkol, 5 buah kunci pas, 1 buah obeng, 2 buah kunci T Dikembalikan kepada Penuntut Umum untuk dijadikan barang bukti dalam perkara lain Uang tunai Rp 250.000,00 (dua ratus lima puluh ribu rupiah) Dirampas untuk negara 3 (tiga) buah karung plastik (kampil) 1 (satu) gulung tali plastik rapia warna merah muda 2 (dua) buah selang warna bening Dimusnahkan  6. Membebankan kepada Terdakwa membayar biaya perkara sejumlah Rp5.000,00 (lima ribu rupiah)",
         "Terdakwa I Wayan Edi Rusmawan didakwa melakukan pencurian terhadap barang milik orang lain secara melawan hukum di berbagai lokasi di Kintamani, Bangli, antara Juni 2020 hingga Januari 2021. Kejadian-kejadian tersebut terjadi pada berbagai waktu dan tempat, termasuk kebun dan gudang milik beberapa individu di daerah tersebut. Tindakannya dilakukan dengan cara merusak, memanjat, atau menggunakan alat seperti anak kunci palsu untuk mengakses tempat dan barang yang dicuri. Tindakannya termasuk dalam beberapa perbuatan yang harus dipandang sebagai kejahatan terpisah. Perbuatan tersebut diancam pidana sesuai dengan Pasal 362 KUHP Jo Pasal 65 ayat (1) KUHP.",
         "['Pasal 362 KUHP jo Pasal 65 ayat (1) KUHP']",
         "I Wayan Edi Rusmawan",
         "24.0"
        ],
        [
         "34",
         "1",
         "19",
         "5",
         "4",
         "1 (satu) buah plastik klip bening yang berisi serbuk kristal yang diduga Narkotika golongan I jenis shabu dengan berat 0,44 bruto atau 0,20 gram netto 1 (satu) buah bekas bungkus rokok Marlboro warna putih 1 (satu) buah handphone merk XIOMI tipe redmi 4x warna hitam Dimusnahkan 1 (satu) unit sepeda motor Honda beat DK 6017 QD warna Hitam 1 (satu) buah STNK sepeda Honda beat DK 6017 QD warna Hitam an NI MADE DWI YANTI WIDIANI 1 (satu) buah kunci kontak Dikembalikan kepada pemiliknya melalui Terdakwa II. Irga Krisna Haryanto R 6. Membebankan kepada Para Terdakwa membayar biaya perkara masing-masing sejumlah Rp5.000,00 (lima ribu rupiah)",
         "Bahwa ia Terdakwa Anjar Ruchimat dan Irga Krisna Haryanto R pada hari Selasa tanggal 04 Februari 2020 sekira pukul 21.30 wita atau setidak-tidaknya pada suatu waktu dalam tahun dua ribu duapuluh, bertempat di pinggir jalan raya Merdeka, Lingkungan/Kelurahan Bebalang, Kecamatan Bangli, Kabupaten Bangli atau setidak-tidaknya pada suatu tempat tertentu yang masih termasuk dalam daerah hukum Pengadilan Negeri Bangli, melakukan melakukan percobaan atau permufakatan jahat, bersekongkol atau bersependapat dengan sdra. Made Bleteng (dalam Daftar Pencarian Orang) untuk melakukan, melaksanakan, membantu, turut serta melakukan, menyuruh, menganjurkan, memfasilitasi, memberi konsultasi, menjadi anggota suatu organisasi kejahatan Narkotika, atau mengorganisasikan suatu tindak pidana Narkotika, untuk melakukan tindak pidana Narkotika yang tanpa haka tau melawan hukum memiliki, menyimpan, menguasai, atau menyediakan Narkotika Golongan I bukan tanaman. Pasal 132 Ayat (1) jo. Pasal 112 Ayat (1) Undang-Undang Republik Indonesia Nomor 35 Tahun 2009 Tentang Narkotika atau. Khusus terdakwa Anjar Ruchimat. -Bahwa ia terdakwa Anjar Ruchimat pada hari Sabtu tanggal 1 Februari 2020 sekitar pukul 15.00 WITA atau setidak-tidaknya pada suatu hari di bulan Februari 2020 atau pada waktu lain dalam tahun 2020, bertempat di salah satu home stay/penginapan di daerah Kuta, Kabupaten Badung atau setidak-tidaknya pada suatu tempat yang masih termasuk wilayah hukum Pengadilan Negeri Denpasar yang berwenang memeriksa dan mengadili perkara ini, tetapi berdasarkan ketentuan Pasal 84 ayat (2) KUHAP yang berbunyi Pengadilan Negeri yang di dalam daerah hukumnya terdakwa bertempat tinggal, berdiam terakhir, di tempat ia diketemukan atau ditahan, hanya berwenang mengadili perkara terdakwa tersebut, apabila tempat kediaman sebagian saksi yang dipanggil lebih dekat pada tempat Pengadilan Negeri itu daripada tempat kedudukan Pengadilan Negeri yang di dalam daerahnya tindak pidana itu dilakukan Pengadilan Negeri Bangli berwenang memeriksa dan mengadili perkara ini, yang menggunakan Narkotika Golongan I bagi diri sendiri tanpa hak atau melawan hukum,. Perbuatan terdakwa Anjar Ruchimat merupakan tindak pidana sebagaimana diatur dan diancam pidana dalam Pasal 127 ayat (1) huruf a Undang - Undang R.I. No. 35 Tahun 2009 Tentang Narkotika.. Khusus terdakwa Irga Krisna Haryanto R. -Bahwa ia terdakwa Irga Krisna Haryanto R pada hari Selasa tanggal 28 Januari 2020 sekitar pukul 22.30 WITA atau setidak-tidaknya pada suatu hari di bulan Januari 2020 atau pada waktu lain dalam tahun 2020, bertempat di kamar kontrakan terdakwa, jalan Buana Graha Dawas, Dalung, Kecamatan Kuta Utara, Kabupaten Badung atau setidak-tidaknya pada suatu tempat yang masih termasuk wilayah hukum Pengadilan Negeri Denpasar yang berwenang memeriksa dan mengadili perkara ini, tetapi berdasarkan ketentuan Pasal 84 ayat (2) KUHAP yang berbunyi Pengadilan Negeri yang di dalam daerah hukumnya terdakwa bertempat tinggal, berdiam terakhir, di tempat ia diketemukan atau ditahan, hanya berwenang mengadili perkara terdakwa tersebut, apabila tempat kediaman sebagian saksi yang dipanggil lebih dekat pada tempat Pengadilan Negeri itu daripada tempat kedudukan Pengadilan Negeri yang di dalam daerahnya tindak pidana itu dilakukan Pengadilan Negeri Bangli berwenang memeriksa dan mengadili perkara ini, yang menggunakan Narkotika Golongan I bagi diri sendiri tanpa hak atau melawan hukum. Perbuatan terdakwa Irga Krisna Haryanto R merupakan tindak pidana sebagaimana diatur dan diancam pidana dalam Pasal 127 ayat (1) huruf a Undang - Undang R.I. No. 35 Tahun 2009 Tentang Narkotika",
         "['Pasal 127 Ayat (1) UU RI No. 35 Tahun 2009 tentang Narkotika']",
         "ANJAR RUCHIMAT",
         "16.0"
        ],
        [
         "35",
         "1",
         "19",
         "5",
         "4",
         "1 (satu) buah plastik klip bening yang berisi serbuk kristal yang diduga Narkotika golongan I jenis shabu dengan berat 0,44 bruto atau 0,20 gram netto 1 (satu) buah bekas bungkus rokok Marlboro warna putih 1 (satu) buah handphone merk XIOMI tipe redmi 4x warna hitam Dimusnahkan 1 (satu) unit sepeda motor Honda beat DK 6017 QD warna Hitam 1 (satu) buah STNK sepeda Honda beat DK 6017 QD warna Hitam an NI MADE DWI YANTI WIDIANI 1 (satu) buah kunci kontak Dikembalikan kepada pemiliknya melalui Terdakwa II. Irga Krisna Haryanto R 6. Membebankan kepada Para Terdakwa membayar biaya perkara masing-masing sejumlah Rp5.000,00 (lima ribu rupiah)",
         "Bahwa ia Terdakwa Anjar Ruchimat dan Irga Krisna Haryanto R pada hari Selasa tanggal 04 Februari 2020 sekira pukul 21.30 wita atau setidak-tidaknya pada suatu waktu dalam tahun dua ribu duapuluh, bertempat di pinggir jalan raya Merdeka, Lingkungan/Kelurahan Bebalang, Kecamatan Bangli, Kabupaten Bangli atau setidak-tidaknya pada suatu tempat tertentu yang masih termasuk dalam daerah hukum Pengadilan Negeri Bangli, melakukan melakukan percobaan atau permufakatan jahat, bersekongkol atau bersependapat dengan sdra. Made Bleteng (dalam Daftar Pencarian Orang) untuk melakukan, melaksanakan, membantu, turut serta melakukan, menyuruh, menganjurkan, memfasilitasi, memberi konsultasi, menjadi anggota suatu organisasi kejahatan Narkotika, atau mengorganisasikan suatu tindak pidana Narkotika, untuk melakukan tindak pidana Narkotika yang tanpa haka tau melawan hukum memiliki, menyimpan, menguasai, atau menyediakan Narkotika Golongan I bukan tanaman. Pasal 132 Ayat (1) jo. Pasal 112 Ayat (1) Undang-Undang Republik Indonesia Nomor 35 Tahun 2009 Tentang Narkotika atau. Khusus terdakwa Anjar Ruchimat. -Bahwa ia terdakwa Anjar Ruchimat pada hari Sabtu tanggal 1 Februari 2020 sekitar pukul 15.00 WITA atau setidak-tidaknya pada suatu hari di bulan Februari 2020 atau pada waktu lain dalam tahun 2020, bertempat di salah satu home stay/penginapan di daerah Kuta, Kabupaten Badung atau setidak-tidaknya pada suatu tempat yang masih termasuk wilayah hukum Pengadilan Negeri Denpasar yang berwenang memeriksa dan mengadili perkara ini, tetapi berdasarkan ketentuan Pasal 84 ayat (2) KUHAP yang berbunyi Pengadilan Negeri yang di dalam daerah hukumnya terdakwa bertempat tinggal, berdiam terakhir, di tempat ia diketemukan atau ditahan, hanya berwenang mengadili perkara terdakwa tersebut, apabila tempat kediaman sebagian saksi yang dipanggil lebih dekat pada tempat Pengadilan Negeri itu daripada tempat kedudukan Pengadilan Negeri yang di dalam daerahnya tindak pidana itu dilakukan Pengadilan Negeri Bangli berwenang memeriksa dan mengadili perkara ini, yang menggunakan Narkotika Golongan I bagi diri sendiri tanpa hak atau melawan hukum,. Perbuatan terdakwa Anjar Ruchimat merupakan tindak pidana sebagaimana diatur dan diancam pidana dalam Pasal 127 ayat (1) huruf a Undang - Undang R.I. No. 35 Tahun 2009 Tentang Narkotika.. Khusus terdakwa Irga Krisna Haryanto R. -Bahwa ia terdakwa Irga Krisna Haryanto R pada hari Selasa tanggal 28 Januari 2020 sekitar pukul 22.30 WITA atau setidak-tidaknya pada suatu hari di bulan Januari 2020 atau pada waktu lain dalam tahun 2020, bertempat di kamar kontrakan terdakwa, jalan Buana Graha Dawas, Dalung, Kecamatan Kuta Utara, Kabupaten Badung atau setidak-tidaknya pada suatu tempat yang masih termasuk wilayah hukum Pengadilan Negeri Denpasar yang berwenang memeriksa dan mengadili perkara ini, tetapi berdasarkan ketentuan Pasal 84 ayat (2) KUHAP yang berbunyi Pengadilan Negeri yang di dalam daerah hukumnya terdakwa bertempat tinggal, berdiam terakhir, di tempat ia diketemukan atau ditahan, hanya berwenang mengadili perkara terdakwa tersebut, apabila tempat kediaman sebagian saksi yang dipanggil lebih dekat pada tempat Pengadilan Negeri itu daripada tempat kedudukan Pengadilan Negeri yang di dalam daerahnya tindak pidana itu dilakukan Pengadilan Negeri Bangli berwenang memeriksa dan mengadili perkara ini, yang menggunakan Narkotika Golongan I bagi diri sendiri tanpa hak atau melawan hukum. Perbuatan terdakwa Irga Krisna Haryanto R merupakan tindak pidana sebagaimana diatur dan diancam pidana dalam Pasal 127 ayat (1) huruf a Undang - Undang R.I. No. 35 Tahun 2009 Tentang Narkotika",
         "['Pasal 127 Ayat (1) UU RI No. 35 Tahun 2009 tentang Narkotika']",
         "IRGA KRISNA HARYANTO R",
         "16.0"
        ],
        [
         "36",
         "1",
         "19",
         "6",
         "6",
         "1 (satu) buah plastik klip bening yang berisi serbuk kristal yang diduga narkotika golongan I jenis shabu dengan berat 0,96 gram bruto atau 0,80 gram netto. 1 (satu) buah plastik klip bening yang berisi serbuk kristal yang diduga narkotika golongan I jenis shabu dengan berat 0,21 gram bruto atau 0,05 gram netto. 1 (satu) buah tas Pinggang merk OAKLEY warna abu abu. 1 (satu) buah selotip kecil bening. 1 (satu) Handphone merk IPHONE 5 warna gold. 1 (satu) buah gunting. 10 (sepuluh) lembar bukti Transfer Bank BCA. 1 (satu) potong Lakban warna kuning. 1 (satu) buah buku kecil yang berisi catatan utang. 1 (satu) lembar kertas aluminium foil. 1 (satu) buah kulit rokok sampoerna mild. Dimusnahkan. 1 (satu) buah sepeda motor merk Yamaha Xeon warna putih DK 6331 AQ. 1 (satu) buah STNK sepeda motor merk Yamaha Xeon warna putih DK 6331 AQ, atas nama KETUT YARIYANI. 1 (satu) buah kunci kontak. Dikembalikan kepada yang berhak melalui Terdakwa Fenny Yanthi Esmidar. Uang tunai sebesar Rp. 50.000,- (lima puluh ribu rupiah). Dirampas untuk negara.  6. Membebankan kepada Terdakwa membayar biaya perkara sejumlah Rp 5.000,- (lima ribu rupiah)",
         "Terdakwa, Fenny Yanthi Esmidar, didakwa atas tindak pidana narkotika yang terjadi di Gang Buntu, Belakang Alfamart, Bangli, pada 9 Januari 2020, sekitar pukul 23.15 WITA. Berawal dari permintaan Desi melalui telepon untuk mengambil narkotika jenis sabu-sabu di Bangli, terdakwa berangkat dari Nusa Dua menuju lokasi yang dikirimkan melalui WhatsApp. Di lokasi tersebut, terdakwa ditangkap oleh anggota Sat Resnarkoba Polres Bangli yang telah memperoleh informasi dari masyarakat tentang adanya kurir narkotika di area tersebut.  Saat penangkapan, ditemukan barang bukti berupa dua paket sabu-sabu dengan berat netto 0,08 gram dan 0,05 gram yang disembunyikan di semak-semak belakang tembok Alfamart. Setelah dilakukan pemeriksaan laboratorium forensik, barang bukti tersebut dipastikan mengandung metamfetamina, yang tergolong narkotika golongan I. Namun, hasil pemeriksaan urine terdakwa negatif narkotika.  Atas perbuatannya, Fenny Yanthi Esmidar didakwa dengan dakwaan primair Pasal 114 ayat (1) UU RI Nomor 35 Tahun 2009 tentang Narkotika, karena tanpa hak atau melawan hukum menawarkan, menjual, membeli, menerima, menjadi perantara, menukar, atau menyerahkan narkotika golongan I. Sebagai dakwaan subsidair, terdakwa didakwa dengan Pasal 112 ayat (1) UU RI Nomor 35 Tahun 2009 tentang Narkotika, karena tanpa hak atau melawan hukum memiliki, menyimpan, menguasai, atau menyediakan narkotika golongan I. ",
         "['Pasal 114 Ayat (1) UU No. 35 Tahun 2009 tentang Narkotika', 'Pasal 112 Ayat (1) UU No. 35 Tahun 2009 tentang Narkotika']",
         "FENNY YANTHI ESMIDAR",
         "96.0"
        ],
        [
         "37",
         "0",
         "20",
         "7",
         "4",
         "2 ( dua ) ekor hewan ternak sapi betina, bulu bagian tubuh berwarna coklat, bulu pada bagian kaki dan bokong berwarna putih, berat masing-masing sekira 250 Kg, umur sekira 1 ( satu ) tahun 6 (enam) bulan. Uang sebesar Rp. 4.656.000,- (empat juta enam ratus lima puluh enam ribu rupiah). 2 ( dua ) utas tali plastic warna biru dengan panjang masing-masing tali sekira 3 ( tiga ) meter .  Dikembalikan kepada korban I WAYAN KASIR. 1 ( satu ) unit mobil Mitsubishi Colt L 300 jenis pick up warna hitam dengan nomor polisi DK 9673 DJ, Noka MH32S6005AK703868, Nosin 2S6-707748 beserta kunci. 1 ( satu ) buah STNK mobil Mitsubishi Colt L 300 warna hitam dengan nomor polisi DK 9673 DJ Noka MH32S6005AK703868, Nosin 2S6-707748 atas nama AGUNG OKA ASTINI.  Dikembalikan kepada I NYOMAN BINTANG. 1 ( satu ) unit sepeda motor Yamaha Jupiter MX 135 warna hitam dengan nomor polisi DK 4664 RI Noka MHML300DP2R288738, Nosin 4D56C226379 beserta kunci. 1 ( satu ) buah STNK sepeda motor Yamaha Jupiter MX 135 warna hitam dengan nomor polisi DK 4664 RI Noka MHML300DP2R288738, Nosin 4D56C226379atas nama SANG PUTU BAOS.   Dikembalikan kepada Terdakwa I WAYAN SUDARPA. uang sebesar Rp. 15.500.000 hasil dari penjualan sapi   Dikembalikan kepada I NYOMAN SUTAPA. 2 ( dua ) lembar surat keterangan jual beli hewan dari pasar hewan bringkit warna hijau tertanggal 12 Februari 2020. Dirampas untuk dimusnahkan 5. Membebankan kepada terdakwa untuk membayar biaya perkara sejumlah Rp. 5.000,- (Lima ribu rupiah).",
         "Terdakwa I Wayan Sudarpa didakwa melakukan pencurian terhadap tiga ekor sapi milik I Wayan Kasir pada Rabu, 12 Februari 2020, sekitar pukul 01.00 WITA, di kandang sapi milik I Wayan Kasir di Desa Pengotan, Bangli. Terdakwa, yang sebelumnya meminta bantuan I Nyoman Bintang untuk menjualkan sapi-sapi tersebut, kemudian mengambil sapi tersebut dengan cara melepas ikatan tali pada sapi dan membawanya ke mobil milik I Nyoman Bintang. Setelah ketiga sapi berhasil dibawa ke mobil, I Nyoman Bintang membawa sapi tersebut ke Pasar Bringkit Badung untuk dijual, dan hasil penjualan sebesar Rp. 20.156.000 diserahkan kepada terdakwa.  Perbuatan ini dilakukan tanpa izin dari pemilik sapi, I Wayan Kasir, yang mengalami kerugian sekitar Rp. 20.500.000. Tindakannya diatur dan diancam pidana berdasarkan Pasal 363 ayat (1) ke-1 KUHP.",
         "['Pasal 363 Ayat (1) ke-1 KUHP']",
         "I WAYAN SUDARPA",
         "6.0"
        ],
        [
         "38",
         "0",
         "21",
         "8",
         "2",
         "1 (satu) buah Tas Selempang warna Hitam 1 (satu) buah Memori Kamera Webcam yang berisi Rekaman Kamera Webcam di Dapur Villa Tegal Anyar yang berlokasi di Jalan Raya Mawang, Banjar Mawang Kelod, Desa Lodtunduh, Kecamatan Ubud, Kabupaten Gianyar, tanggal 17 Oktober 2023 1 (satu) unit TV merk Xiomi warna Hitam 1 (satu) unit Kulkas merk Aqua warna Hitam 1 (satu) unit Speaker merk Polytron warna Hitam Dikembalikan kepada Saksi Evgenii Verestnikov 1 (satu) lembar Screenshot bukti pengiriman uang sebesar Rp 5.000.000,- (lima juta rupiah) dari NI PUTU MEI SAPITRI kepada NI KETUT SUKRAENI, tanggal 18 Oktober 2023 1 (satu) lembar Screenshot bukti pengiriman uang sebesar Rp 2.000.000,- (dua juta rupiah) dari NI PUTU MEI SAPITRI kepada NI KETUT SUKRAENI, tanggal 31 Oktober 2023 Dikembalikan kepada Saksi Ni Ketut Sukraeni 1 (satu) buah Baju Kaos warna Putih 1 (satu) buah Celana Panjang warna Pink Dirampas untuk dimusnahkan 1 (satu) unit Sepeda Motor merk Honda Scoopy warna Putih dengan Nomor Polisi DK 6204 KBG beserta STNK Dikembalikan kepada Terdakwa Membebankan kepada Terdakwa untuk membayar biaya perkara sejumlah Rp 5000,00 (lima ribu rupiah)",
         "Ni Putu Mei Sapitri didakwa atas tindak pidana pencurian dan penadahan yang terjadi pada hari Selasa, 20 Juni 2023, sekitar pukul 14.00 WITA di Villa Tegal Anyar, Ubud. Terdakwa, yang bekerja sebagai petugas kebersihan lepas, mengambil uang tunai milik korban, Evgenii Verestnikov, yang terdiri dari 300 Euro dan 1.900 Dolar Amerika.  Saat membersihkan villa, terdakwa melihat tas selempang berisi uang di bawah meja dapur. Tanpa izin, ia mengambil uang tersebut, menyembunyikannya di kantong celana, dan kemudian menukarkannya di money changer, memperoleh sekitar Rp 35.000.000. Uang tersebut digunakan untuk membeli barang elektronik dan keperluan sehari-hari.  Atas perbuatannya, Ni Putu Mei Sapitri didakwa dengan dakwaan primair Pasal 362 KUHP tentang pencurian. Sebagai dakwaan subsidair, ia didakwa dengan Pasal 480 Ayat (2) KUHP tentang penadahan, karena menikmati keuntungan dari barang yang diketahui atau patut diduga diperoleh dari kejahatan. Akibat perbuatan terdakwa, Evgenii Verestnikov mengalami kerugian sekitar Rp 35.000.000.",
         "['Pasal 362 KUHP', 'Pasal 480 Ayat (2) KUHP']",
         "NI PUTU MEI SAPITRI",
         "18.0"
        ],
        [
         "39",
         "0",
         "22",
         "8",
         "4",
         "1 (satu) Unit Sepeda Motor Merk Suzuki FU warna hitam ungu dengan nomor polisi N 2359 TBA, nomor rangka tidak ada dan Nomor Mesin G420ID404501 Dirampas untuk negara 1 (satu) buah helm warna putih tanpa kaca 1 (satu) buah HP merk Vivo warna casing biru glosy 1 (satu) buah baju kaos warna putih bertuliskan relawan jaya giri 1 (satu) buah celana pendek warna hitam Dirampas untuk dimusnahkan 1 (satu) buah buku BPKB No. K-13109959 atas nama pemilik I MADE WERDI GUNA untuk kendaraan Sepeda Motor Honda Vario Warna White Silver DK 3493 KAM, Nomor rangka MH1JFB122EK302944, Nomor Mesin JFB1E2250553 Dikembalikan kepada Saksi I GEDE WERDI GUNA, ST Membebankan kepada Terdakwa untuk membayar biaya perkara sejumlah Rp 5000,00 (lima ribu rupiah)",
         "Leonardo Mautede alias Ronal didakwa atas tindak pidana pencurian dengan pemberatan dan penadahan. Pada hari Kamis, 4 Januari 2024, korban I Made Werdi Guna, ST mencuci motornya di Kumba Car Wash dengan kunci kontak masih terpasang. Keesokan harinya, 5 Januari 2024, sekitar pukul 19.00 WITA, terdakwa yang bekerja di tempat cuci motor tersebut mengambil motor korban tanpa izin dan membawanya ke kos temannya, Antonius Tauwaleku Praing alias Toni. Di sana, terdakwa melepas plat nomor, kaca spion, dan merusak bagian motor.  Terdakwa bermaksud menukar motor curian tersebut dengan motor Suzuki FU milik Feriyanto alias Wahyu. Pada 7 Januari 2024, sekitar pukul 22.00 WITA, terdakwa dan Feriyanto bertemu di Denpasar Utara dan melakukan pertukaran. Motor curian tersebut kemudian dijual oleh Feriyanto.  Atas perbuatannya, Leonardo Mautede didakwa dengan dakwaan primair Pasal 363 Ayat (1) ke-5 KUHP tentang pencurian dengan pemberatan. Sebagai dakwaan subsidair, ia didakwa dengan Pasal 362 KUHP tentang pencurian. Selain itu, ia juga didakwa dengan Pasal 480 ke-1 KUHP tentang penadahan. Akibat perbuatan terdakwa, I Made Werdi Guna, ST mengalami kerugian sebesar Rp 16.000.000.",
         "['Pasal 363 Ayat (1) ke-5 KUHP', 'Pasal 362 KUHP']",
         "LEONARDO MAUTEDE Als. RONAL",
         "14.0"
        ],
        [
         "40",
         "0",
         "21",
         "8",
         "3",
         "1 (satu) unit sepeda motor Honda Scoppy tahun 2014 warna Hitam, Noka MH1JFG118EK266794, No. Pol DK3728ZD berserta Kuncinya Dikembalikan kepada Saksi I Ketut Dita 1 (satu) sepeda motor Merek Honda scoopy warna putih, Nosin JM31EX2402367 Noka MH1JM3122KK402367, No. Pol DK8686OK beserta kuncinya Dikembalikan kepada Saksi Dewa Gede Artawa Membebankan kepada Terdakwa untuk membayar biaya perkara sejumlah Rp 5000,00 (lima ribu rupiah)",
         "Paulus Pati Kondo didakwa atas tindak pidana pencurian dengan pemberatan yang dilakukan bersama-sama dengan Wilem Woro (DPO). Pada hari Sabtu, 13 Januari 2024, sekitar pukul 19.30 WITA, di depan bengkel cat Banjar Pujung, Tegalalang, mereka mencuri sepeda motor Honda Scoopy milik I Ketut Dita. Kemudian, pada hari Senin, 29 Januari 2024, sekitar pukul 19.30 WITA, di parkiran warung DPojok Banjar Tarukan Kaja, Tampaksiring, mereka kembali mencuri sepeda motor Honda Scoopy milik Dewa Gede Artawa.  Dalam kedua kejadian tersebut, Wilem Woro (DPO) melihat sepeda motor dengan kunci yang masih terpasang, lalu mengambilnya. Paulus Pati Kondo, yang membonceng Wilem Woro, bertugas mengawasi dan kemudian mengganti plat nomor sepeda motor curian. Kedua sepeda motor tersebut kemudian dibawa ke kos Paulus Pati Kondo di Denpasar Selatan untuk dijual.  Atas perbuatannya, Paulus Pati Kondo didakwa dengan dakwaan primair Pasal 363 Ayat (1) ke-4 KUHP jo Pasal 65 Ayat (1) KUHP tentang pencurian dengan pemberatan yang dilakukan secara bersama-sama dan berlanjut. Sebagai dakwaan subsidair, ia didakwa dengan Pasal 362 KUHP jo Pasal 65 Ayat (1) KUHP tentang pencurian yang dilakukan secara berlanjut. Akibat perbuatan terdakwa, I Ketut Dita mengalami kerugian Rp 13.000.000 dan Dewa Gede Artawa mengalami kerugian Rp 18.000.000.",
         "['Pasal 363 Ayat (1) ke-4 KUHP jo Pasal 65 Ayat (1) KUHP', 'Pasal 362 KUHP jo Pasal 65 ayat (1) KUHP']",
         "PAULUS PATI KONDO",
         "24.0"
        ],
        [
         "41",
         "0",
         "23",
         "9",
         "3",
         "1 (satu) ekor burung murai batu medan yang berisi ring dikaki kanan dengan tulisn BF 022 1 (satu) buah sangkar burung serta tutup kerudung kain warna biru muda Dikembalikan kepada pemiliknya yaitu saksi I Gusti Ngurah Putu Widiantara 1 (satu) unit sepeda motor Honda Beat warna merah putih dengan plat nomer DK 3948 UAC serta STNK dan kunci kontak Dikembalikan kepada pemiliknya yaitu yaitu saksi Gede Edi Gunawan Membebankan kepada Terdakwa membayar biaya perkara masing-masing sejumlah Rp5000,00 (lima ribu rupiah)",
         "Terdakwa, Subari, didakwa atas tindak pidana pencurian yang terjadi pada hari Sabtu, 20 April 2024, sekitar pukul 01.00 WITA di rumah I Gusti Ngurah Putu Widiantara di Ubud. Terdakwa, yang datang dari tempat kosnya di Badung, memasuki halaman rumah korban melalui gerbang yang tidak terkunci. Kemudian, ia mengambil sangkar burung murai batu milik korban yang tergantung di teras rumah.  Setelah mengambil burung tersebut, terdakwa membawanya ke tempat kosnya. Pada tanggal 1 Mei 2024, terdakwa memposting burung murai batu curian tersebut di Facebook untuk dijual seharga Rp 1.000.000. Korban, yang mencari burungnya di media sosial, menemukan postingan tersebut dan berpura-pura membeli burung tersebut. Saat transaksi COD (Cash On Delivery) di tempat kos terdakwa, petugas kepolisian menangkap terdakwa.  Atas perbuatannya, Subari didakwa dengan dakwaan primair Pasal 363 ayat (1) ke-3 KUHP tentang pencurian dengan pemberatan. Sebagai dakwaan subsidair, ia didakwa dengan Pasal 362 KUHP tentang pencurian. Akibat perbuatan terdakwa, I Gusti Ngurah Putu Widiantara mengalami kerugian sekitar Rp 4.000.000.",
         "['Pasal 363 Ayat (1) ke-3 KUHP', 'Pasal 362 KUHP']",
         "SUBARI",
         "18.0"
        ],
        [
         "42",
         "0",
         "24",
         "8",
         "2",
         "1 (satu) lembar STNK Sepeda Motor Merk Honda, Type N125 D (KARISMA 125 D), Nomor Polisi DK 4606 LD, Tahun Pembuatan 2005, Warna Silver Biru, Nomor Rangka MH1JB22195K366416, Nomor Mesin JB221365610, STNK atas nama NI KADEK SUARTINI dengan alamat Br. Pagutan Klod Batubulan Sukawati Gianyar 1 (satu) buah BPKB Sepeda Motor Merk Honda, Type NF125 D (KARISMA 125 D), Nomor Polisi DK 4606 LD, Tahun Pembuatan 2005, Warna Silver Biru, Nomor Rangka MH1JB22195K366416, Nomor Mesin JB221365610, STNK atas nama NI KADEK SUARTINI dengan alamat Br. Pagutan Klod Batubulan Sukawati Gianyar 1 (satu) buah Flashdisk yang berisi rekaman CCTV yang terpasang di dekat tempat kejadian pencurian, yang dalam rekaman CCTV tersebut terekam pada saat tersangka mengendarai sepeda motor milik korban yang berhasil tersangka curi 1 (satu) unit Sepeda Motor Merk Honda, Type NF125 D (KARISMA 125 D), tanpa Nomor Polisi, Tahun Pembuatan 2005, Warna Silver Biru, Nomor Rangka MH1JB22195K366416, Nomor Mesin JB221365610, STNK atas nama NI KADEK SUARTINI dengan alamat Br. 1 (satu) buah helm standard warna hitam Dikembalikan kepada saksi Mohammad Slamet 1 (satu) potong baju kaos lengan pendek warna abu abu yang di dada depan berisi tulisan KARMA HAS NO DEADLINE 1 (satu) potong celana pendek yang terbuat dari kain warna biru dongker 1 (satu) buah tas selempang warna hitam merk FENGBAODAISHU Dirampas untuk dimusnahkan Membebankan kepada Terdakwa untuk membayar biaya perkara sejumlah Rp 5000,00 (lima ribu rupiah)",
         "Terdakwa, Ahmad Marsuki, didakwa atas tindak pidana pencurian dengan pemberatan yang terjadi pada hari Jumat, 26 April 2024, sekitar pukul 15.30 WITA di sebuah rumah kost di Singapadu, Sukawati, Gianyar. Terdakwa mengambil sepeda motor Honda Karisma 125 milik Mohamad Slamet yang terparkir di depan kamar kost korban.  Saat korban sedang tidur, terdakwa melihat sepeda motor dengan kunci yang masih terpasang. Timbul niat untuk mengambilnya, terdakwa langsung menaiki motor dan membawanya kabur. Aksi terdakwa terekam oleh CCTV yang terpasang di tempat kost tersebut.  Atas perbuatannya, Ahmad Marsuki didakwa dengan dakwaan primair Pasal 363 Ayat (1) ke-5 KUHP tentang pencurian dengan pemberatan. Sebagai dakwaan subsidair, ia didakwa dengan Pasal 362 KUHP tentang pencurian. Akibat perbuatan terdakwa, Mohamad Slamet mengalami kerugian sekitar Rp 5.000.000.",
         "['Pasal 363 Ayat (1) ke-5 KUHP', 'Pasal 362 KUHP']",
         "AHMAD MARSUKI",
         "22.0"
        ],
        [
         "43",
         "0",
         "25",
         "8",
         "3",
         "1 (unit) HP Merk Redmi 10C warna biru berikut Cargernya 1 (satu) buah mesin Bor Merk Maktec warna orange 1 (satu) buah mesin serut Merk Makita warna biru Dikembalikan kepada Saksi Korban AGUS SUBAGYONO 1 (satu) buah palu besi gagang warna hijau kombinasi hitam 1 (satu) Pcs celana panjang kain warna biru dongker Dirampas oleh Negara untuk dimusnahkan Membebankan kepada Terdakwa untuk membayar biaya perkara sejumlah Rp 5000,00 (lima ribu rupiah)",
         "Yoga Saputra didakwa atas tindak pidana pencurian dengan pemberatan yang terjadi pada hari Senin, 8 April 2024, sekitar pukul 01.30 WITA di kamar mes PT. Satria Cipta Asta Kencana, Sukawati, Gianyar. Terdakwa memasuki area perusahaan melalui semak-semak dan menuju kamar Agus Subagyono yang tidak memiliki pintu.  Di dalam kamar, terdakwa mengambil ponsel Redmi 10C milik Agus Subagyono beserta pengisi dayanya, serta mesin bor dan mesin serut dari dalam lemari. Terdakwa mencongkel engsel lemari menggunakan palu agar korban tidak terbangun.  Ponsel tersebut kemudian digunakan oleh terdakwa setelah mengganti kartu SIM, sementara mesin bor dan serut dijual kepada tukang rongsokan seharga Rp 200.000. Uang hasil penjualan digunakan untuk keperluan sehari-hari. Terdakwa ditangkap pada 27 April 2024 di mes rumah makan tempatnya bekerja.  Atas perbuatannya, Yoga Saputra didakwa dengan dakwaan primair Pasal 363 Ayat (2) KUHP tentang pencurian dengan pemberatan. Sebagai dakwaan subsidair, ia didakwa dengan Pasal 363 Ayat (1) ke-5 KUHP, dan lebih subsidair dengan Pasal 362 KUHP tentang pencurian. Akibat perbuatan terdakwa, Agus Subagyono mengalami kerugian sekitar Rp 3.200.000.",
         "['Pasal 363 Ayat (2) KUHP', 'Pasal 362 KUHP']",
         "YOGA SAPUTRA",
         "10.0"
        ],
        [
         "44",
         "0",
         "26",
         "10",
         "3",
         "1 (satu) Buah Foto Copy yang dilegalisir BPKB satu unit motor merk Honda Vario 125cc tahun 2019 warna Merah, dengan Noka MH1JM4110KK467749, dengan Nosin JM41E1467138 an. PUTU EKA ATATIKA Surat Penyewaan Motor Vario 125 DK 5352 KAR, tanggal 11 September 2023 1 (satu) unit sepeda motor Merek Honda Vario 125 warna merah No. Pol DK 5352 KAR Nosin JM41E1467138 Noka MH1JM4110KK467749 Dikembalikan kepada saksi Putu Eka Atatika 1 (satu) buah kunci bertuliskan Honda warna Hitam Dirampas untuk dimusnahkan 6. Membebankan kepada Terdakwa membayar biaya perkara sejumlah Rp5.000,00 (lima ribu rupiah)",
         "Edi Sudadang didakwa atas tindak pidana pencurian dengan pemberatan yang dilakukan bersama-sama dengan Mulasim alias Mul (DPO). Pada hari Senin, 1 April 2024, sekitar pukul 23.30 WITA, di area parkir Villa Nyoman, Ubud, Gianyar, mereka mencuri sepeda motor Honda Vario 125 milik Putu Eka Atatika.  Sebelumnya, Edi Sudadang diajak oleh Mulasim (DPO) untuk mencuri sepeda motor di Bali. Edi Sudadang membawa kunci T dari rumah Mulasim di Probolinggo, Jawa Timur. Mereka kemudian bersama-sama mendorong motor korban dari tempat parkir, dan Edi Sudadang menghidupkan motor tersebut dengan kunci T.  Setelah berhasil mencuri motor, mereka membawanya ke Probolinggo. Di sana, motor tersebut diserahkan kepada Edi Sudadang, dan ia memberikan uang sebesar Rp 2.500.000 kepada Mulasim (DPO).  Atas perbuatannya, Edi Sudadang didakwa dengan Pasal 363 ayat (1) ke-4 dan ke-5 KUHP tentang pencurian dengan pemberatan yang dilakukan oleh dua orang atau lebih dengan bersekutu, dan menggunakan kunci palsu. Akibat perbuatan terdakwa, Putu Eka Atatika mengalami kerugian sekitar Rp 20.000.000.",
         "['Pasal 363 Ayat (1) ke-4', 'Pasal 363 Ayat (1) ke-5 KUHP']",
         "EDI SUDADANG",
         "12.0"
        ],
        [
         "45",
         "0",
         "27",
         "8",
         "3",
         "1 buah kamera GoPro warna hitam 1 buah kotak baterai kamera warna putih 2 buah baterai warna hitam Uang tunai sejumlah Rp. 42.000,00 1 unit I Phone 11 Pro Warna Grey 1 unit mobil toyota avanza DK 1327 IE 1 lembar STNK nomor registrasi DK 1327 IE Atas Nama Huang Szu Feng Dikembalikan kepada saksi Yuji Waki 1 buah batu kali warna cokelat 1 bidang kaca mobil dalam keadaan pecah dengan lapisan ryben warna hitam Dirampas untuk dimusnahkan 1 (satu) unit Sepeda Motor honda vario warna hitam dengan DK 4093 SS beserta Kunci Kontak Dikembalikan kepada Terdakwa 1. Yudi Kristianto 1 (satu) unit Sepeda Motor honda scoopy warna cream abu-abu Nomor Polisi DK 5628 ADR beserta Kunci Kontak Dikembalikan kepada Tedakwa 2. Kurniadi Prayoga Membebankan kepada Para Terdakwa untuk membayar biaya perkara masing-masing sejumlah Rp 5000,00 (lima ribu rupiah)",
         "Ketiga terdakwa didakwa atas tindak pidana pencurian dengan pemberatan yang dilakukan secara bersama-sama. Pada hari Sabtu, 18 Mei 2024, sekitar pukul 09.00 WITA, di Pantai Keramas, Gianyar, mereka mencuri barang-barang dari sebuah mobil Toyota Avanza milik Yuji Waki, seorang warga negara Jepang.  Para terdakwa berangkat dari kos Kurniadi Prayuda di Denpasar menuju Pantai Keramas. Setibanya di sana, Yudi Kristanto melihat mobil korban yang terparkir dan korban sedang berselancar di pantai. Yudi Kristanto kemudian memecahkan kaca mobil dengan batu dan mengambil barang-barang di dalamnya, yaitu tas berisi ponsel, kamera Go Pro, dompet berisi uang, celana pendek, dan baterai kamera.  Kurniadi Prayuda bertugas mengawasi situasi di atas sepeda motor, sementara Muhammad Rizal alias Iceng mengawasi situasi di jalan masuk pantai.  Atas perbuatannya, ketiga terdakwa didakwa dengan dakwaan primair Pasal 363 Ayat (1) ke-4 dan ke-5 KUHP tentang pencurian dengan pemberatan yang dilakukan secara bersama-sama. Sebagai dakwaan subsidair, mereka didakwa dengan Pasal 363 Ayat (1) ke-4 KUHP. Akibat perbuatan terdakwa, Yuji Waki mengalami kerugian sekitar Rp 14.400.000.",
         "['Pasal 363 Ayat (1) ke-4 KUHP', 'Pasal 363 Ayat (1) ke-5 KUHP']",
         "YUDI KRISTANTO",
         "24.0"
        ],
        [
         "46",
         "0",
         "27",
         "8",
         "3",
         "1 buah kamera GoPro warna hitam 1 buah kotak baterai kamera warna putih 2 buah baterai warna hitam Uang tunai sejumlah Rp. 42.000,00 1 unit I Phone 11 Pro Warna Grey 1 unit mobil toyota avanza DK 1327 IE 1 lembar STNK nomor registrasi DK 1327 IE Atas Nama Huang Szu Feng Dikembalikan kepada saksi Yuji Waki 1 buah batu kali warna cokelat 1 bidang kaca mobil dalam keadaan pecah dengan lapisan ryben warna hitam Dirampas untuk dimusnahkan 1 (satu) unit Sepeda Motor honda vario warna hitam dengan DK 4093 SS beserta Kunci Kontak Dikembalikan kepada Terdakwa 1. Yudi Kristianto 1 (satu) unit Sepeda Motor honda scoopy warna cream abu-abu Nomor Polisi DK 5628 ADR beserta Kunci Kontak Dikembalikan kepada Tedakwa 2. Kurniadi Prayoga Membebankan kepada Para Terdakwa untuk membayar biaya perkara masing-masing sejumlah Rp 5000,00 (lima ribu rupiah)",
         "Ketiga terdakwa didakwa atas tindak pidana pencurian dengan pemberatan yang dilakukan secara bersama-sama. Pada hari Sabtu, 18 Mei 2024, sekitar pukul 09.00 WITA, di Pantai Keramas, Gianyar, mereka mencuri barang-barang dari sebuah mobil Toyota Avanza milik Yuji Waki, seorang warga negara Jepang.  Para terdakwa berangkat dari kos Kurniadi Prayuda di Denpasar menuju Pantai Keramas. Setibanya di sana, Yudi Kristanto melihat mobil korban yang terparkir dan korban sedang berselancar di pantai. Yudi Kristanto kemudian memecahkan kaca mobil dengan batu dan mengambil barang-barang di dalamnya, yaitu tas berisi ponsel, kamera Go Pro, dompet berisi uang, celana pendek, dan baterai kamera.  Kurniadi Prayuda bertugas mengawasi situasi di atas sepeda motor, sementara Muhammad Rizal alias Iceng mengawasi situasi di jalan masuk pantai.  Atas perbuatannya, ketiga terdakwa didakwa dengan dakwaan primair Pasal 363 Ayat (1) ke-4 dan ke-5 KUHP tentang pencurian dengan pemberatan yang dilakukan secara bersama-sama. Sebagai dakwaan subsidair, mereka didakwa dengan Pasal 363 Ayat (1) ke-4 KUHP. Akibat perbuatan terdakwa, Yuji Waki mengalami kerugian sekitar Rp 14.400.000.",
         "['Pasal 363 Ayat (1) ke-4 KUHP', 'Pasal 363 Ayat (1) ke-5 KUHP']",
         "KURNIADI PRAYUDA",
         "17.0"
        ],
        [
         "47",
         "0",
         "27",
         "8",
         "3",
         "1 buah kamera GoPro warna hitam 1 buah kotak baterai kamera warna putih 2 buah baterai warna hitam Uang tunai sejumlah Rp. 42.000,00 1 unit I Phone 11 Pro Warna Grey 1 unit mobil toyota avanza DK 1327 IE 1 lembar STNK nomor registrasi DK 1327 IE Atas Nama Huang Szu Feng Dikembalikan kepada saksi Yuji Waki 1 buah batu kali warna cokelat 1 bidang kaca mobil dalam keadaan pecah dengan lapisan ryben warna hitam Dirampas untuk dimusnahkan 1 (satu) unit Sepeda Motor honda vario warna hitam dengan DK 4093 SS beserta Kunci Kontak Dikembalikan kepada Terdakwa 1. Yudi Kristianto 1 (satu) unit Sepeda Motor honda scoopy warna cream abu-abu Nomor Polisi DK 5628 ADR beserta Kunci Kontak Dikembalikan kepada Tedakwa 2. Kurniadi Prayoga Membebankan kepada Para Terdakwa untuk membayar biaya perkara masing-masing sejumlah Rp 5000,00 (lima ribu rupiah)",
         "Ketiga terdakwa didakwa atas tindak pidana pencurian dengan pemberatan yang dilakukan secara bersama-sama. Pada hari Sabtu, 18 Mei 2024, sekitar pukul 09.00 WITA, di Pantai Keramas, Gianyar, mereka mencuri barang-barang dari sebuah mobil Toyota Avanza milik Yuji Waki, seorang warga negara Jepang.  Para terdakwa berangkat dari kos Kurniadi Prayuda di Denpasar menuju Pantai Keramas. Setibanya di sana, Yudi Kristanto melihat mobil korban yang terparkir dan korban sedang berselancar di pantai. Yudi Kristanto kemudian memecahkan kaca mobil dengan batu dan mengambil barang-barang di dalamnya, yaitu tas berisi ponsel, kamera Go Pro, dompet berisi uang, celana pendek, dan baterai kamera.  Kurniadi Prayuda bertugas mengawasi situasi di atas sepeda motor, sementara Muhammad Rizal alias Iceng mengawasi situasi di jalan masuk pantai.  Atas perbuatannya, ketiga terdakwa didakwa dengan dakwaan primair Pasal 363 Ayat (1) ke-4 dan ke-5 KUHP tentang pencurian dengan pemberatan yang dilakukan secara bersama-sama. Sebagai dakwaan subsidair, mereka didakwa dengan Pasal 363 Ayat (1) ke-4 KUHP. Akibat perbuatan terdakwa, Yuji Waki mengalami kerugian sekitar Rp 14.400.000.",
         "['Pasal 363 Ayat (1) ke-4 KUHP', 'Pasal 363 Ayat (1) ke-5 KUHP']",
         "MUHAMAD RIZAL Als ICENG",
         "17.0"
        ],
        [
         "48",
         "0",
         "28",
         "8",
         "3",
         "- 1 (satu) buah Kotak Iphone 13 merek Apple dengan nomor Imei 352094679433646 - 1 (satu) lembar Nota Pembelian 1 (satu) unit Iphone 13 merek Apple warna Putih dengan nomor Imei 352094679433646 dari Toko RA GADGET tertanggal 25 Mei 2023 - 1 (satu) unit Iphone 13 merek Apple warna Putih dengan nomor Imei 352094679433646 Dikembalikan kepada Saksi I Kadek Saputra - 1 (satu) buah Kotak Iphone 12 Pro merek Apple Dirampas untuk dimusnahkan - 1 (satu) unit Handphone merek Samsung A04 warna Rose Gold dengan Pelindung warna Hitam Dikembalikan kepada Saksi I Wayan Windra - 1 (satu) buah Flashdisk merek V-GEN warna Hitam yang berisi rekaman kamera CCTV di Toko JS Phone yang berlokasi di Jalan Cok Gde Rai nomor 6, Desa Peliatan, Kecamatan Ubud, Kabupaten Gianyar pada hari Jumat, tanggal 03 November 2023 Tetap terlampir dalam berkas perkara 6. Membebankan kepada Terdakwa untuk membayar biaya perkara sejumlah Rp 5000,00 (lima ribu rupiah)",
         "Putu Baskara Putra didakwa atas dua tindak pidana: pencurian dan penadahan. Pada hari Jumat, 3 November 2023, sekitar pukul 05.30 WITA, di BSK INK Tatto, Ubud, Gianyar, terdakwa mengambil ponsel iPhone 13 milik I Kadek Saputra yang sedang diisi daya di atas meja studio. Saat itu, korban sedang tertidur.  Setelah mengambil ponsel tersebut, terdakwa menyembunyikannya di kamarnya, menonaktifkannya, dan membuang kartu SIM agar tidak terlacak. Ketika korban mencari ponselnya, terdakwa berpura-pura membantu mencari. Setelah korban pergi, terdakwa menggadaikan ponsel tersebut di Toko JS Phone sekitar pukul 12.52 WITA.  Atas perbuatannya, Putu Baskara Putra didakwa dengan dakwaan pertama Pasal 362 KUHP tentang pencurian. Sebagai alternatif, ia didakwa dengan dakwaan kedua Pasal 480 ke-1 KUHP tentang penadahan. Akibat perbuatan terdakwa, I Kadek Saputra mengalami kerugian sekitar Rp 13.000.000.",
         "['Pasal 362 KUHP', 'Pasal 480 Ke-1 KUHP']",
         "PUTU BASKARA PUTRA",
         "12.0"
        ],
        [
         "49",
         "0",
         "28",
         "9",
         "2",
         "(dua) buah dus/kotak HP antara lain 1 (satu) buah dus/kotak HP Merk Infinix Note 30 Pro warna Gold dengan Nomor Imei 1 350880533662822 dan Nomor Imei 2 350880533662830 dan 1 (satu) buah dus/kotak HP Merk Infinix Note 30 Pro warna Hitam dengan Nomor Imei 1 350880533630126 dan Nomor Imei 2 350880533630134 2 (dua) Unit Hp antara lain 1 (satu) Unit HP Merk Infinix Note 30 Pro warna Gold dengan Nomor Imei 1 350880533662822 dan Nomor Imei 2 350880533662830 dan 1 (satu) Unit HP Merk Infinix Note 30 Pro warna Hitam dengan Nomor Imei 1 350880533630126 dan Nomor Imei 2 350880533630134 Barang bukti nomor 1 sampai dengan nomor 2 dikembalikan kepada Saksi Korban Eka Diana Mahira 1 (satu) unit Sepeda Motor Merk Honda PCX, Type V1J02Q32LO A/T, Nomor Polisi DK 6850 FAV, Tahun Pembuatan 2018, Warna Putih, Nomor Rangka MH1KF221XJK045360, Nomor Mesin KF22E1045441, atas nama DOY SAFANDO alamat Jl. Teras Bukit 4 No. 2 Jimbaran Kuta Selatan Badung berikut dengan remote kontak dan STNK sepeda motor dimaksud serta BPKBnya 1 (satu) potong baju kaos lengan pendek warna putih merk RIPCURL yang di dada kanan ada tulisan RIPCURL warna biru 1 (satu) potong celana pendek merk KENDY berdasar hitam bercorak garis menyilang berwarna silver Barang bukti nomor 3 sampai dengan nomor 5 dikembalikan kepada Terdakwa Membebankan kepada Terdakwa membayar biaya perkara sejumlah Rp5.000,00 (lima ribu rupiah)",
         "Saiful Rohman didakwa atas tindak pidana pencurian dengan pemberatan. Pada hari Sabtu, 10 Februari 2024, sekitar pukul 00.30 WITA, di rumah Eka Diana Mahira di Ketewel, Sukawati, Gianyar, terdakwa mengambil dua unit ponsel Infinix Note 30 Pro milik korban.  Terdakwa datang ke rumah korban tanpa izin. Setelah melihat seorang pria di taman depan rumah, terdakwa memanjat tembok setinggi 2,5 meter dan masuk ke dalam rumah melalui bagian belakang ruang tamu yang tidak berpintu. Di dalam rumah, terdakwa mengambil dua ponsel yang sedang diisi daya dan membawanya kabur.  Atas perbuatannya, Saiful Rohman didakwa dengan dakwaan primair Pasal 363 ayat (2) KUHP tentang pencurian dengan pemberatan. Sebagai dakwaan subsidair, ia didakwa dengan Pasal 362 KUHP tentang pencurian. Akibat perbuatan terdakwa, Eka Diana Mahira mengalami kerugian sekitar Rp 6.000.000.",
         "['Pasal 363 Ayat (2) KUHP', 'Pasal 362 KUHP']",
         "SAIFUL ROHMAN",
         "14.0"
        ]
       ],
       "shape": {
        "columns": 9,
        "rows": 159
       }
      },
      "text/html": [
       "<div>\n",
       "<style scoped>\n",
       "    .dataframe tbody tr th:only-of-type {\n",
       "        vertical-align: middle;\n",
       "    }\n",
       "\n",
       "    .dataframe tbody tr th {\n",
       "        vertical-align: top;\n",
       "    }\n",
       "\n",
       "    .dataframe thead th {\n",
       "        text-align: right;\n",
       "    }\n",
       "</style>\n",
       "<table border=\"1\" class=\"dataframe\">\n",
       "  <thead>\n",
       "    <tr style=\"text-align: right;\">\n",
       "      <th></th>\n",
       "      <th>klasifikasi_perkara_encoded</th>\n",
       "      <th>penuntut_umum_encoded</th>\n",
       "      <th>hakim_encoded</th>\n",
       "      <th>jumlah_saksi</th>\n",
       "      <th>cleaned_barang_bukti</th>\n",
       "      <th>summarized_dakwaan</th>\n",
       "      <th>extracted_pasal</th>\n",
       "      <th>terdakwa</th>\n",
       "      <th>total_pidana_penjara_bulan</th>\n",
       "    </tr>\n",
       "  </thead>\n",
       "  <tbody>\n",
       "    <tr>\n",
       "      <th>0</th>\n",
       "      <td>0</td>\n",
       "      <td>0</td>\n",
       "      <td>0</td>\n",
       "      <td>6</td>\n",
       "      <td>1 (satu) buah sabit kecil dengan gagang dari k...</td>\n",
       "      <td>Bahwa ia terdakwa Gede Darmayasa pada hari sel...</td>\n",
       "      <td>['Pasal 362 KUHP jo. Pasal 65 Ayat (1) KUHP']</td>\n",
       "      <td>GEDE DARMAYASA</td>\n",
       "      <td>5.0</td>\n",
       "    </tr>\n",
       "    <tr>\n",
       "      <th>1</th>\n",
       "      <td>0</td>\n",
       "      <td>0</td>\n",
       "      <td>1</td>\n",
       "      <td>6</td>\n",
       "      <td>1 (satu) buah Kotak/Box handphone merk OPPO ty...</td>\n",
       "      <td>Terdakwa Handri Johanes didakwa melakukan penc...</td>\n",
       "      <td>['Pasal 363 Ayat (1)']</td>\n",
       "      <td>HANDRI JOHANAS</td>\n",
       "      <td>4.0</td>\n",
       "    </tr>\n",
       "    <tr>\n",
       "      <th>2</th>\n",
       "      <td>1</td>\n",
       "      <td>1</td>\n",
       "      <td>2</td>\n",
       "      <td>2</td>\n",
       "      <td>1 (satu) buah plastik klip bening yang berisi ...</td>\n",
       "      <td>Dakwaan Pertama: Pada 14 April 2024, sekitar p...</td>\n",
       "      <td>['Pasal 112 Ayat (1) UU No. 35 Tahun 2009 tent...</td>\n",
       "      <td>I GEDE ARIADI alias BERNAD</td>\n",
       "      <td>14.0</td>\n",
       "    </tr>\n",
       "    <tr>\n",
       "      <th>3</th>\n",
       "      <td>1</td>\n",
       "      <td>2</td>\n",
       "      <td>2</td>\n",
       "      <td>2</td>\n",
       "      <td>1 (satu) buah plastik klip bening yang berisi ...</td>\n",
       "      <td>Dakwaan Pertama: Pada 14 April 2024, sekitar p...</td>\n",
       "      <td>['Pasal 112 Ayat (1) UU No. 35 Tahun 2009 tent...</td>\n",
       "      <td>I GEDE ARIADI alias BERNAD</td>\n",
       "      <td>14.0</td>\n",
       "    </tr>\n",
       "    <tr>\n",
       "      <th>4</th>\n",
       "      <td>0</td>\n",
       "      <td>3</td>\n",
       "      <td>2</td>\n",
       "      <td>4</td>\n",
       "      <td>1 (satu) unit sepeda motor merk Honda Scoopy w...</td>\n",
       "      <td>Pada 26 Maret 2024 pukul 17.10 WITA di pinggir...</td>\n",
       "      <td>['Pasal 362 KUHP']</td>\n",
       "      <td>R. Sabirin</td>\n",
       "      <td>14.0</td>\n",
       "    </tr>\n",
       "    <tr>\n",
       "      <th>...</th>\n",
       "      <td>...</td>\n",
       "      <td>...</td>\n",
       "      <td>...</td>\n",
       "      <td>...</td>\n",
       "      <td>...</td>\n",
       "      <td>...</td>\n",
       "      <td>...</td>\n",
       "      <td>...</td>\n",
       "      <td>...</td>\n",
       "    </tr>\n",
       "    <tr>\n",
       "      <th>154</th>\n",
       "      <td>0</td>\n",
       "      <td>56</td>\n",
       "      <td>14</td>\n",
       "      <td>4</td>\n",
       "      <td>2 (dua) buah MacBook Air merk Apple warna Grey...</td>\n",
       "      <td>I Gede Wahyu Arianta dan Feri Mananue didakwa ...</td>\n",
       "      <td>['Pasal 363 Ayat (1) ke-4 dan ke-5 KUHP']</td>\n",
       "      <td>GEDE WAHYU ARIANTA</td>\n",
       "      <td>26.0</td>\n",
       "    </tr>\n",
       "    <tr>\n",
       "      <th>155</th>\n",
       "      <td>0</td>\n",
       "      <td>56</td>\n",
       "      <td>14</td>\n",
       "      <td>4</td>\n",
       "      <td>2 (dua) buah MacBook Air merk Apple warna Grey...</td>\n",
       "      <td>I Gede Wahyu Arianta dan Feri Mananue didakwa ...</td>\n",
       "      <td>['Pasal 363 Ayat (1) ke-4 dan ke-5 KUHP']</td>\n",
       "      <td>FERI MANANUE</td>\n",
       "      <td>26.0</td>\n",
       "    </tr>\n",
       "    <tr>\n",
       "      <th>156</th>\n",
       "      <td>0</td>\n",
       "      <td>47</td>\n",
       "      <td>8</td>\n",
       "      <td>4</td>\n",
       "      <td>1 (satu) unit sepeda motor Yamaha RXS tahun 19...</td>\n",
       "      <td>Reza Aditya Pratama dan Kadek Agus Yudi Pranat...</td>\n",
       "      <td>['Pasal 363 Ayat (1) ke-3 dan ke-4 KUHP']</td>\n",
       "      <td>Reza Aditya Pratama Als Reza</td>\n",
       "      <td>20.0</td>\n",
       "    </tr>\n",
       "    <tr>\n",
       "      <th>157</th>\n",
       "      <td>0</td>\n",
       "      <td>47</td>\n",
       "      <td>8</td>\n",
       "      <td>4</td>\n",
       "      <td>1 (satu) unit sepeda motor Yamaha RXS tahun 19...</td>\n",
       "      <td>Reza Aditya Pratama dan Kadek Agus Yudi Pranat...</td>\n",
       "      <td>['Pasal 363 Ayat (1) ke-3 dan ke-4 KUHP']</td>\n",
       "      <td>Kadek Agus Yudi Pranata Als Agus</td>\n",
       "      <td>20.0</td>\n",
       "    </tr>\n",
       "    <tr>\n",
       "      <th>158</th>\n",
       "      <td>0</td>\n",
       "      <td>38</td>\n",
       "      <td>15</td>\n",
       "      <td>2</td>\n",
       "      <td>1 (satu) Unit Handphone merek Redmi Note 10S w...</td>\n",
       "      <td>Tentu, berikut ringkasan dakwaan terhadap Agus...</td>\n",
       "      <td>['Pasal 363 Ayat (1) ke-3 KUHP']</td>\n",
       "      <td>AGUS JAENUDIN</td>\n",
       "      <td>4.0</td>\n",
       "    </tr>\n",
       "  </tbody>\n",
       "</table>\n",
       "<p>159 rows × 9 columns</p>\n",
       "</div>"
      ],
      "text/plain": [
       "     klasifikasi_perkara_encoded  penuntut_umum_encoded  hakim_encoded  \\\n",
       "0                              0                      0              0   \n",
       "1                              0                      0              1   \n",
       "2                              1                      1              2   \n",
       "3                              1                      2              2   \n",
       "4                              0                      3              2   \n",
       "..                           ...                    ...            ...   \n",
       "154                            0                     56             14   \n",
       "155                            0                     56             14   \n",
       "156                            0                     47              8   \n",
       "157                            0                     47              8   \n",
       "158                            0                     38             15   \n",
       "\n",
       "     jumlah_saksi                               cleaned_barang_bukti  \\\n",
       "0               6  1 (satu) buah sabit kecil dengan gagang dari k...   \n",
       "1               6  1 (satu) buah Kotak/Box handphone merk OPPO ty...   \n",
       "2               2  1 (satu) buah plastik klip bening yang berisi ...   \n",
       "3               2  1 (satu) buah plastik klip bening yang berisi ...   \n",
       "4               4  1 (satu) unit sepeda motor merk Honda Scoopy w...   \n",
       "..            ...                                                ...   \n",
       "154             4  2 (dua) buah MacBook Air merk Apple warna Grey...   \n",
       "155             4  2 (dua) buah MacBook Air merk Apple warna Grey...   \n",
       "156             4  1 (satu) unit sepeda motor Yamaha RXS tahun 19...   \n",
       "157             4  1 (satu) unit sepeda motor Yamaha RXS tahun 19...   \n",
       "158             2  1 (satu) Unit Handphone merek Redmi Note 10S w...   \n",
       "\n",
       "                                    summarized_dakwaan  \\\n",
       "0    Bahwa ia terdakwa Gede Darmayasa pada hari sel...   \n",
       "1    Terdakwa Handri Johanes didakwa melakukan penc...   \n",
       "2    Dakwaan Pertama: Pada 14 April 2024, sekitar p...   \n",
       "3    Dakwaan Pertama: Pada 14 April 2024, sekitar p...   \n",
       "4    Pada 26 Maret 2024 pukul 17.10 WITA di pinggir...   \n",
       "..                                                 ...   \n",
       "154  I Gede Wahyu Arianta dan Feri Mananue didakwa ...   \n",
       "155  I Gede Wahyu Arianta dan Feri Mananue didakwa ...   \n",
       "156  Reza Aditya Pratama dan Kadek Agus Yudi Pranat...   \n",
       "157  Reza Aditya Pratama dan Kadek Agus Yudi Pranat...   \n",
       "158  Tentu, berikut ringkasan dakwaan terhadap Agus...   \n",
       "\n",
       "                                       extracted_pasal  \\\n",
       "0        ['Pasal 362 KUHP jo. Pasal 65 Ayat (1) KUHP']   \n",
       "1                               ['Pasal 363 Ayat (1)']   \n",
       "2    ['Pasal 112 Ayat (1) UU No. 35 Tahun 2009 tent...   \n",
       "3    ['Pasal 112 Ayat (1) UU No. 35 Tahun 2009 tent...   \n",
       "4                                   ['Pasal 362 KUHP']   \n",
       "..                                                 ...   \n",
       "154          ['Pasal 363 Ayat (1) ke-4 dan ke-5 KUHP']   \n",
       "155          ['Pasal 363 Ayat (1) ke-4 dan ke-5 KUHP']   \n",
       "156          ['Pasal 363 Ayat (1) ke-3 dan ke-4 KUHP']   \n",
       "157          ['Pasal 363 Ayat (1) ke-3 dan ke-4 KUHP']   \n",
       "158                   ['Pasal 363 Ayat (1) ke-3 KUHP']   \n",
       "\n",
       "                             terdakwa  total_pidana_penjara_bulan  \n",
       "0                      GEDE DARMAYASA                         5.0  \n",
       "1                      HANDRI JOHANAS                         4.0  \n",
       "2          I GEDE ARIADI alias BERNAD                        14.0  \n",
       "3          I GEDE ARIADI alias BERNAD                        14.0  \n",
       "4                          R. Sabirin                        14.0  \n",
       "..                                ...                         ...  \n",
       "154                GEDE WAHYU ARIANTA                        26.0  \n",
       "155                      FERI MANANUE                        26.0  \n",
       "156      Reza Aditya Pratama Als Reza                        20.0  \n",
       "157  Kadek Agus Yudi Pranata Als Agus                        20.0  \n",
       "158                     AGUS JAENUDIN                         4.0  \n",
       "\n",
       "[159 rows x 9 columns]"
      ]
     },
     "execution_count": 7,
     "metadata": {},
     "output_type": "execute_result"
    }
   ],
   "source": [
    "df"
   ]
  },
  {
   "cell_type": "code",
   "execution_count": 8,
   "metadata": {},
   "outputs": [
    {
     "name": "stdout",
     "output_type": "stream",
     "text": [
      "<class 'pandas.core.frame.DataFrame'>\n",
      "RangeIndex: 159 entries, 0 to 158\n",
      "Data columns (total 9 columns):\n",
      " #   Column                       Non-Null Count  Dtype  \n",
      "---  ------                       --------------  -----  \n",
      " 0   klasifikasi_perkara_encoded  159 non-null    int64  \n",
      " 1   penuntut_umum_encoded        159 non-null    int64  \n",
      " 2   hakim_encoded                159 non-null    int64  \n",
      " 3   jumlah_saksi                 159 non-null    int64  \n",
      " 4   cleaned_barang_bukti         159 non-null    object \n",
      " 5   summarized_dakwaan           159 non-null    object \n",
      " 6   extracted_pasal              159 non-null    object \n",
      " 7   terdakwa                     159 non-null    object \n",
      " 8   total_pidana_penjara_bulan   159 non-null    float64\n",
      "dtypes: float64(1), int64(4), object(4)\n",
      "memory usage: 11.3+ KB\n"
     ]
    }
   ],
   "source": [
    "df.info()"
   ]
  },
  {
   "cell_type": "code",
   "execution_count": 9,
   "metadata": {},
   "outputs": [],
   "source": [
    "df_filtered = df.drop(columns=['extracted_pasal'])"
   ]
  },
  {
   "cell_type": "markdown",
   "metadata": {},
   "source": [
    "### Split Data"
   ]
  },
  {
   "cell_type": "code",
   "execution_count": 10,
   "metadata": {},
   "outputs": [],
   "source": [
    "def stratified_split(df: pd.DataFrame, split_size: float = 0.7) -> tuple[pd.DataFrame, pd.DataFrame]:\n",
    "    unique_groups = df.groupby([\"klasifikasi_perkara_encoded\", \"penuntut_umum_encoded\", \"hakim_encoded\"]).apply(lambda x: x.index.tolist()).to_dict()\n",
    "    \n",
    "    print(unique_groups)\n",
    "    train_idx, test_idx = [], []\n",
    "    \n",
    "    for indices in unique_groups.values():        \n",
    "        if len(indices) == 1:\n",
    "            train_idx.extend(indices)\n",
    "        else:\n",
    "            train, test = train_test_split(indices, train_size=split_size, random_state=42)\n",
    "            train_idx.extend(train)\n",
    "            test_idx.extend(test)\n",
    "    \n",
    "    return df.loc[train_idx], df.loc[test_idx]"
   ]
  },
  {
   "cell_type": "code",
   "execution_count": 11,
   "metadata": {},
   "outputs": [
    {
     "name": "stdout",
     "output_type": "stream",
     "text": [
      "{(0, 0, 0): [0, 18], (0, 0, 1): [1], (0, 3, 2): [4], (0, 3, 3): [8], (0, 7, 0): [13, 15], (0, 8, 0): [14, 16], (0, 9, 0): [17], (0, 9, 4): [26, 27], (0, 11, 3): [25], (0, 13, 4): [24], (0, 14, 0): [28], (0, 15, 0): [29], (0, 16, 0): [30], (0, 17, 0): [31, 32], (0, 18, 0): [33], (0, 20, 7): [37], (0, 21, 8): [38, 40], (0, 22, 8): [39, 103], (0, 22, 12): [85, 95, 96, 97, 99, 106], (0, 23, 8): [65, 87], (0, 23, 9): [41], (0, 24, 8): [42], (0, 25, 8): [43, 62], (0, 25, 11): [58], (0, 26, 8): [71, 72, 73], (0, 26, 10): [44], (0, 26, 11): [63, 64], (0, 27, 8): [45, 46, 47], (0, 27, 11): [67, 68], (0, 28, 8): [48, 59, 60, 61], (0, 28, 9): [49], (0, 28, 11): [55, 104, 105], (0, 29, 11): [50, 51], (0, 30, 8): [54], (0, 30, 9): [52, 56, 57], (0, 31, 8): [82, 92, 101], (0, 31, 9): [53, 69], (0, 31, 11): [102], (0, 31, 12): [77], (0, 32, 9): [66], (0, 33, 11): [70, 79], (0, 34, 11): [74, 75], (0, 34, 13): [100], (0, 35, 8): [83, 98, 107], (0, 35, 11): [76], (0, 35, 12): [78, 94], (0, 36, 11): [80], (0, 37, 8): [81], (0, 38, 8): [123, 126, 146, 147], (0, 38, 11): [84], (0, 38, 15): [158], (0, 39, 11): [86], (0, 39, 12): [89, 91], (0, 40, 12): [88, 90], (0, 41, 8): [93], (0, 42, 11): [108], (0, 43, 13): [109], (0, 44, 13): [110], (0, 45, 8): [124], (0, 45, 12): [111, 112, 131], (0, 46, 8): [113], (0, 47, 8): [114, 119, 156, 157], (0, 47, 11): [122], (0, 48, 12): [115, 116], (0, 49, 11): [117], (0, 50, 8): [118], (0, 51, 8): [120, 140, 141, 142, 143], (0, 51, 11): [121], (0, 51, 12): [132], (0, 51, 14): [148], (0, 52, 8): [125, 138, 139], (0, 52, 11): [133, 134, 135, 136], (0, 53, 12): [127, 128, 129, 130], (0, 54, 8): [137, 149, 150, 151, 152], (0, 54, 12): [144], (0, 55, 12): [145], (0, 56, 14): [153, 154, 155], (1, 1, 2): [2], (1, 2, 2): [3], (1, 3, 2): [5], (1, 4, 2): [6], (1, 4, 4): [20], (1, 5, 2): [7], (1, 10, 4): [19], (1, 11, 0): [21], (1, 11, 4): [23], (1, 12, 1): [22], (1, 19, 5): [34, 35], (1, 19, 6): [36], (2, 4, 2): [10, 12], (2, 6, 2): [9, 11]}\n"
     ]
    },
    {
     "name": "stderr",
     "output_type": "stream",
     "text": [
      "C:\\Users\\Kalea\\AppData\\Local\\Temp\\ipykernel_20772\\1615946564.py:2: DeprecationWarning: DataFrameGroupBy.apply operated on the grouping columns. This behavior is deprecated, and in a future version of pandas the grouping columns will be excluded from the operation. Either pass `include_groups=False` to exclude the groupings or explicitly select the grouping columns after groupby to silence this warning.\n",
      "  unique_groups = df.groupby([\"klasifikasi_perkara_encoded\", \"penuntut_umum_encoded\", \"hakim_encoded\"]).apply(lambda x: x.index.tolist()).to_dict()\n"
     ]
    }
   ],
   "source": [
    "train_df, test_df = stratified_split(df_filtered)"
   ]
  },
  {
   "cell_type": "code",
   "execution_count": 12,
   "metadata": {},
   "outputs": [
    {
     "name": "stdout",
     "output_type": "stream",
     "text": [
      "Jumlah Klasifikasi Perkara: 3\n",
      "Jumlah Data Train:  112\n",
      "klasifikasi_perkara_encoded\n",
      "0    98\n",
      "1    12\n",
      "2     2\n",
      "Name: count, dtype: int64\n"
     ]
    }
   ],
   "source": [
    "jenis_klasifikasi_perkara = train_df['klasifikasi_perkara_encoded'].unique()\n",
    "jumlah_klasifikasi_perkara = len(jenis_klasifikasi_perkara)\n",
    "print(f\"Jumlah Klasifikasi Perkara: {jumlah_klasifikasi_perkara}\")\n",
    "print(f\"Jumlah Data Train:  {len(train_df)}\")\n",
    "\n",
    "klasifikasi_perkara_values = train_df['klasifikasi_perkara_encoded'].value_counts()\n",
    "print(klasifikasi_perkara_values)"
   ]
  },
  {
   "cell_type": "code",
   "execution_count": 13,
   "metadata": {},
   "outputs": [
    {
     "name": "stdout",
     "output_type": "stream",
     "text": [
      "Jumlah Klasifikasi Perkara: 3\n",
      "Jumlah Data Test:  47\n",
      "klasifikasi_perkara_encoded\n",
      "0    44\n",
      "2     2\n",
      "1     1\n",
      "Name: count, dtype: int64\n"
     ]
    }
   ],
   "source": [
    "jenis_klasifikasi_perkara = test_df['klasifikasi_perkara_encoded'].unique()\n",
    "jumlah_klasifikasi_perkara = len(jenis_klasifikasi_perkara)\n",
    "print(f\"Jumlah Klasifikasi Perkara: {jumlah_klasifikasi_perkara}\")\n",
    "print(f\"Jumlah Data Test:  {len(test_df)}\")\n",
    "\n",
    "klasifikasi_perkara_values = test_df['klasifikasi_perkara_encoded'].value_counts()\n",
    "print(klasifikasi_perkara_values)"
   ]
  },
  {
   "cell_type": "code",
   "execution_count": 14,
   "metadata": {},
   "outputs": [
    {
     "data": {
      "application/vnd.microsoft.datawrangler.viewer.v0+json": {
       "columns": [
        {
         "name": "index",
         "rawType": "int64",
         "type": "integer"
        },
        {
         "name": "klasifikasi_perkara_encoded",
         "rawType": "int64",
         "type": "integer"
        },
        {
         "name": "penuntut_umum_encoded",
         "rawType": "int64",
         "type": "integer"
        },
        {
         "name": "hakim_encoded",
         "rawType": "int64",
         "type": "integer"
        },
        {
         "name": "jumlah_saksi",
         "rawType": "int64",
         "type": "integer"
        },
        {
         "name": "cleaned_barang_bukti",
         "rawType": "object",
         "type": "string"
        },
        {
         "name": "summarized_dakwaan",
         "rawType": "object",
         "type": "string"
        },
        {
         "name": "terdakwa",
         "rawType": "object",
         "type": "string"
        },
        {
         "name": "total_pidana_penjara_bulan",
         "rawType": "float64",
         "type": "float"
        }
       ],
       "conversionMethod": "pd.DataFrame",
       "ref": "791a37f1-9033-40bb-a0ff-d1d801279ae5",
       "rows": [
        [
         "0",
         "0",
         "0",
         "0",
         "6",
         "1 (satu) buah sabit kecil dengan gagang dari kayu 1 (satu) buah jaring plastik paranet warna hitam 1 (satu) utas tali plastik warna biru dengan panjang 7,5 meter 20 (dua puluh) buah kantong plastik kresek 2 (dua) utas tali kain warna merah dengan panjang 80 cm Dimusnahkan 1 (satu) unit mobil merek Suzuki ST 150 Pick Up warna hitam DK 8985 KC, NOKA MHYESL415JJ723753, NOSIN G15AID1125449 beserta kunci kontak 1 (satu) lembar STNK mobil merek Suzuki ST 150 Pick Up warna hitam DK 8985 KC, NOKA MHYESL415JJ723753, NOSIN G15AID1125449 nama pemilik a.n. I Kadek Kondrayasa Dikembalikan kepada I Gede Agus Wirayuda 4 (empat) buah durian jenis durian kane Dikembalikan kepada I Wayan Sukarene, S.E. 1 (satu) lembar nota pembelian buah durian Toko Tiara Durian Dikembalikan kepada Komang Ayu Anggreni 15 (lima belas) buah durian jenis durian kane 1 (satu) lembar nota pembelian buah durian Toko Semut Durian Dikembalikan kepada Komang Sujana Uang tunai sebesar Rp487.000,00 (empat ratus delapan puluh tujuh ribu rupiah) Dirampas untuk negara  6. Membebankan kepada Terdakwa membayar biaya perkara sejumlah Rp5.000,00 (lima ribu rupiah)",
         "Bahwa ia terdakwa Gede Darmayasa pada hari selasa tanggal 21 Mei 2024 sekira jam 06.00 WITA, hari Selasa tanggal 21 Mei 2024 sekira jam 06.30 WITA dan hari Sabtu tanggal 25 Mei 2024 sekira jam 06.00 WITA atau setidak-tidaknya pada waktu lain dalam Bulan Mei tahun 2024 atau setidak-tidaknya pada waktu lain dalam tahun 2024, di kebun milik I Wayan Sukerena, SE di Banjar / Desa Bunutin, Kecamatan Kintamani, Kab. Bangli, di kebun milik I Nyoman Susila di Banjar / Desa Bunutin, Kecamatan Kintamani, Kab. Bangli, dan di kebun milik I Ketut Tindih di Banjar / Desa Pengejaran, Kecamatan Kintamani, Kab. Bangli, atau setidak-tidaknya pada suatu tempat tertentu yang masih termasuk dalam daerah hukum Pengadilan Negeri Bangli, telah melakukan beberapa perbuatan yang harus dipandang sebagai perbuatan yang berdiri sendiri sehingga merupakan beberapa kejahatan yaitu mengambil barang sesuatu yang seluruhnya atau sebagian kepunyaan orang lain, dengan maksud untuk dimiliki secara melawan hukum, yang dilakukan terdakwa dengan cara-cara sebagai berikut. Bahwa pada hari Selasa tanggal 21 Mei 2024 sekira pukul 04.00 WITA terdakwa berangkat dari rumah terdakwa di Br. Dinas Pudeh, Ds. Tajun, Kec. Kubutambahan, Kab. Buleleng dengan menggunakan mobil Suzuki Carry Pick Up warna hitam DK 8985 KC untuk pergi ke Br./Ds. Bunutin, Kec. Kintamani, Kab. Bangli dengan melewati simpang tiga Pasar Tenten Kintamani dengan tujuan untuk membeli dan menawarkan buah durian yang masih ada dipohonnya sesampainya terdakwa di Br./Ds. Bunutin, Kec. Kintamani, Kab. Bangli sekira pukul 06.00 WITA terdakwa melihat pohon durian yang sudah berbuah di kebun milik I WAYAN SUKERENA, S.E. dipinggir Jalan Raya Ds. Bunutin, Kec. Kintamani, Kab. Bangli, karena situasi saat itu sepi selanjutnya terdakwa melihatlihat buah durian tersebut, setelah menemukan buah yang akan dipetik, selanjutnya terdakwa memetik buah durian tersebut dengan memanjat pohon durian tersebut dan dengan menggunakan sabit kecil untuk memotong buah durian tersebut sebanyak 2 (dua) pohon secara bergiliran dengan jumlah buah durian yang terdakwa petik sekitar 37 (tiga puluh tujuh) buah,setelah terkumpul lanjut buah durian tersebut terdakwa naikan di mobil Suzuki Carry Pick Up warna hitam DK 8985 KC yang terdakwa kendarai tersebut, setelah buah durian semua diatas mobil lanjut terdakwa meninggalkan kebun milik I WAYAN SUKERENA, S.E. tersebut. Kemudian dalam perjalanan terdakwa melihat lagi dipinggir Jalan Raya Ds. Bunutin Kintamani ada beberapa pohon durian yang sudah berbuah kemudian terdakwa turun memarkir mobil Suzuki Carry Pick Up warna hitam DK 8985 KC dipinggir jalan raya, setelah itu dengan berjalan kaki terdakwa menuju ke kebun milik I NYOMAN SUSILA di Br./Ds. Bunutin, Kec. Kintamani, Kab. Bangli sekira pukul 06.30 WITA karena melihat pohon durian berbuah cukup banyak akhirnya terdakwa memanjat pohon durian tersebut sebanyak 2 (dua) pohon secara bergantian kemudian memetik dengan menggunakan sabit kecil dan menurunkan buah durian sebanyak 27 (dua puluh tujuh) buah, setelah buah durian turun dan terkumpul kemudian terdakwa naikan ke atas mobil Suzuki Carry Pick Up warna hitam DK 8985 KC setelah itu terdakwa tutupi buah durian diatas mobil tersebut dengan menggunakan jaring plastik warna hitam dan terdakwa ikat dengan tali plastik warna biru supaya buah durian tersebut aman diatas mobil selanjutnya terdakwa meninggalkan Br./Ds. Bunutin, Kec. Kintamani, Kab. Bangli menuju rumah terdakwa di Br. Dinas Pudeh, Ds. Tajun, Kac. Kubutambahan, Kab. Buleleng, namun sebelum sampai dirumah sekitar pukul 14.30 WITA terdakwa langsung menjual durian tersebut kepada saksi Komang Ayu Anggreni di Batu Barak Desa Tajun Kec. Kubutambahan Kab. Buleleng sebanyak 40 (empat puluh) buah dengan berat kurang lebih 180 (seratus delapan puluh) Kg dengan harga Rp. 4.316.000 (empat juta tiga ratus enam belas ribu rupiah), selanjutnya sisa buah durian sebanyak 27 (dua puluh tujuh) buah terdakwa bawa pulang kerumah. Pada hari Kamis tanggal 23 Mei 2024 sekira pukul 18.00 WITA terdakwa menjual durian jenis durian Kane kepada KOMANG SUJANA di Gudang milik KOMANG SUJANA sebanyak 40 (empat puluh) buah durian dengan berat sekitar 200 Kg yang mana 24 buah durian hasil saya mencuri pada hari Selasa tanggal 21 Mei 2024 di Br./Ds. Bunutin, Kec. Kintamani, Kab. Bangli sedangkan 16 buah durian tersebut hasil dari terdakwa membeli di petani yang terdakwa jual dengan harga total Rp. 5.200.000, (lima juta dua ratus ribu rupiah). Selanjutnya pada hari Sabtu tanggal 25 Mei 2024 sekira pukul 04.00 WITA terdakwa berangkat dari rumah terdakwa di Br. Dinas Pudeh, Ds. Tajun. Kec. Kubutambahan, Kab. Buleleng dengan menggunakan mobil Suzuki Carry Pick Up warna hitam DK 8985 KC untuk pergi ke Br./Ds. Pengejaran, Kec. Kintamani, Kab. Bangli, sesampainya terdakwa di Br./Ds. Pengejaran, Kec. Kintamani, Kab. Bangli sekira pukul 06.00 wita dengan melewati simpang tiga Lampu terdakwa tiba dikebun milik I KETUT TINDIH yang berlokasi di pinggir Jalan Raya Ds, Pengejaran, karena situasi sepi terdakwa memanjat pohon durian tersebut sebanyak 2 (dua) pohon secara bergantian selanjutnya memetik buah durian tersebut dengan menggunakan sabit kecil sebanyak 20 (dua) buah dan menjatuhkan buah durian tersebut ketanah setelah itu terdakwa mengumpulkan buah durian yang sudah terdakwa petik selanjutnya terdakwa menaikan buah durian tersebut ke atas mobil carry yang terdakwa bawa selanjutnya buah durian tersebut terdakwa tutupi buah durian diatas mobil tersebut dengan menggunakan jaring plastik warna hitam dan terdakwa ikat dengan tali plastik warna biru supaya buah durian tersebut aman diatas mobil selanjutnya terdakwa meninggalkan Br./Ds. Pengejaran, Kec. Kintamani, Kab. Bangli menuju rumah terdakwa di Br. Dinas Pudeh, Ds. Tajun, Kac. Kubutambahan, Kab. Buleleng, tetapi sebelum pulang kerumahnya terdakwa pergi ke Desa Tajun untuk menjual buah durian tersebut kepada Komang Ayu Anggreni sebanyak 15 buah dengan harga Rp. 1.485.000 (satu juta empat ratus delapan puluh lima ribu rupiah), setelah menjual buah durian tersebut terdakwa langsung pulang menuju rumah terdakwa di Br. Dinas Pudeh, Ds. Tajun, Kac. Kubutambahan, Kab. Buleleng. Bahwa terdakwa mengambil kurang lebih 67 (enam puluh tujuh) buah durian kane tersebut tanpa ijin dari saksi I Wayan Sukerena, SE, saksi I Nyoman Susila, saksi I Ketut Tindih, dan bermaksud untuk memiliki buah durian tersebut dengan menjualnya dan uang hasil penjualan dipergunakan untuk biaya hidup sehari-hari. Akibat dari perbuatan terdakwa tersebut, mengakibatkan saksi I Wayan Sukerena, SE mengalami kerugian sebesar Rp.3.330.000,- (tiga juta tiga ratus tiga puluh ribu rupiah) , saksi I Ketut Tindih mengalami kerugian sebesar Rp.3.500.000,- (tiga juta lima ratus ribu rupiah), dan saksi I Nyoman Susila mengalami kerugian sebesar Rp. 2.000.000,- (dua juta rupiah) atau setidak-tidaknya lebih dari Rp.250,- (dua ratus lima puluh rupiah). - sebagaimana diatur dan diancam pidana dalam Pasal 362 KUHP jo Pasal 65 Ayat (1) KUHP.",
         "GEDE DARMAYASA",
         "5.0"
        ],
        [
         "1",
         "0",
         "0",
         "1",
         "6",
         "1 (satu) buah Kotak/Box handphone merk OPPO type A53 warna Hitam, dengan nomor IMEI1/2 867919057365515/867919057365507 1 (satu) lembar nota pembelian 1 (satu) unit handphone merk OPPO type A53 warna hitam, dengan nomor IMEI1/2 867919057365515/867919057365507 dari Anyelir Ponsel pada tanggal 3 April 2020 senilai Rp3.999.000,00 (tiga juta sembilan ratus sembilan puluh sembilan ribu rupiah). 1 (satu) unit handphone merk OPPO type A53 warna hitam, dengan nomor IMEI1/2 867919057365515/867919057365507 Dikembalikan kepada I Nengah Sukadana  6. Membebankan kepada Terdakwa membayar biaya perkara sejumlah Rp5.000,00 (lima ribu rupiah)",
         "Terdakwa Handri Johanes didakwa melakukan pencurian satu unit handphone OPPO A53 warna hitam pada 24 April 2024 sekitar pukul 03.00 WITA di Puri Kanginan, Bangli.Terdakwa yang sebelumnya bekerja di mebel UD. Wisnu, sering keluar masuk area Puri Kanginan.Pada hari kejadian, terdakwa masuk ke dalam Puri mencari teman, namun tidak menemukannya.Saat hendak pulang, ia melihat sebuah handphone sedang dicas di kamar dengan pintu sedikit terbuka.Ia kemudian mengambil handphone tersebut dan pergi.Handphone tersebut dalam keadaan terkunci, sehingga beberapa hari kemudian terdakwa menjualnya kepada Denny Firmansyah di Klungkung seharga Rp300.000, yang kemudian dikirim kepada anaknya di Lombok melalui transfer.Akibat perbuatannya, saksi I Nengah Sukadana mengalami kerugian sebesar Rp3.999.000.Perbuatan terdakwa diancam pidana berdasarkan Pasal 363 Ayat (1) ke-3 KUHP.",
         "HANDRI JOHANAS",
         "4.0"
        ],
        [
         "2",
         "1",
         "1",
         "2",
         "2",
         "1 (satu) buah plastik klip bening yang berisi kristal bening yang diduga NarkotikaGolongan I bukan tanaman jenis shabu dengan berat 0,26 (nol koma dua enam) gram bruto atau 0,20 (nol koma dua puluh) gram netto selanjutnya disisihkan seberat 0,02 (nol koma nol dua) gram netto untuk uji labforensik sehingga sisa barang bukti 0,18 (nol koma delapan belas) gram netto 1 (satu) buah micro tube 1 (satu) buah handphone merk REDMI type 10 C warna Hitam berikut dengan 1 (satu) buah simcard 1 (satu) buah Tas selempang merk ALOIPFAX warna hitam Dimusnahkan 1 (satu) unit sepeda motor merk Yamaha Type Jupiter MX warna Hitam DK-6181-LF berikut kunci kontak Dikembalikan kepada yang berhak melalui Terdakwa 6. Membebankan kepada Terdakwa membayar biaya perkara sejumlah Rp5.000,00 (lima ribu rupiah)",
         "Dakwaan Pertama: Pada 14 April 2024, sekitar pukul 16.35 WITA, terdakwa secara tanpa hak atau melawan hukum memiliki, menyimpan, menguasai, atau menyediakan narkotika golongan I bukan tanaman jenis sabu. Perbuatan ini dilakukan setelah terdakwa berkenalan dengan seseorang bernama Kadek (DPO) di Facebook dan melanjutkan percakapan via WhatsApp, yang mengarah pada kesepakatan menggunakan sabu bersama. Terdakwa kemudian menghubungi Mang Donal (DPO) untuk mendapatkan sabu pada 12 April 2024 dan mengambil barang tersebut di Klungkung pada 14 April 2024, sebelum berangkat ke Bangli menggunakan sepeda motor.  Pada saat menghubungi Kadek di Jl. Brigjen Ngurah Rai, Bangli, sekitar pukul 16.35 WITA, terdakwa diamankan oleh tim Opsnal Satresnarkoba Polres Bangli. Saat digeledah, ditemukan barang bukti berupa 0,20 gram sabu yang dibungkus dalam tabung micro tube, disimpan dalam tas selempang, serta barang bukti lain seperti handphone dan sepeda motor. Berdasarkan hasil laboratorium, kristal yang ditemukan mengandung Metamfetamina, yang termasuk dalam narkotika golongan I.  Tindakannya diatur dan diancam pidana dalam Pasal 112 ayat (1) UU No. 35 Tahun 2009 tentang Narkotika.  Dakwaan Kedua: Terdakwa juga didakwa atas penyalahgunaan narkotika untuk konsumsi pribadi pada 11 April 2024, dengan cara menggunakan sabu secara pribadi di garasi mobil rumahnya. Terdakwa menyiapkan alat bong dan menghisap sabu hingga habis. Penggunaan sabu tersebut terjadi dalam kondisi rumah yang sedang sepi dan setelah membeli teh kotak. Tindakannya diatur dan diancam pidana dalam Pasal 127 ayat (1) huruf a UU No. 35 Tahun 2009 tentang Narkotika.",
         "I GEDE ARIADI alias BERNAD",
         "14.0"
        ],
        [
         "3",
         "1",
         "2",
         "2",
         "2",
         "1 (satu) buah plastik klip bening yang berisi kristal bening yang diduga NarkotikaGolongan I bukan tanaman jenis shabu dengan berat 0,26 (nol koma dua enam) gram bruto atau 0,20 (nol koma dua puluh) gram netto selanjutnya disisihkan seberat 0,02 (nol koma nol dua) gram netto untuk uji labforensik sehingga sisa barang bukti 0,18 (nol koma delapan belas) gram netto 1 (satu) buah micro tube 1 (satu) buah handphone merk REDMI type 10 C warna Hitam berikut dengan 1 (satu) buah simcard 1 (satu) buah Tas selempang merk ALOIPFAX warna hitam Dimusnahkan 1 (satu) unit sepeda motor merk Yamaha Type Jupiter MX warna Hitam DK-6181-LF berikut kunci kontak Dikembalikan kepada yang berhak melalui Terdakwa 6. Membebankan kepada Terdakwa membayar biaya perkara sejumlah Rp5.000,00 (lima ribu rupiah)",
         "Dakwaan Pertama: Pada 14 April 2024, sekitar pukul 16.35 WITA, terdakwa secara tanpa hak atau melawan hukum memiliki, menyimpan, menguasai, atau menyediakan narkotika golongan I bukan tanaman jenis sabu. Perbuatan ini dilakukan setelah terdakwa berkenalan dengan seseorang bernama Kadek (DPO) di Facebook dan melanjutkan percakapan via WhatsApp, yang mengarah pada kesepakatan menggunakan sabu bersama. Terdakwa kemudian menghubungi Mang Donal (DPO) untuk mendapatkan sabu pada 12 April 2024 dan mengambil barang tersebut di Klungkung pada 14 April 2024, sebelum berangkat ke Bangli menggunakan sepeda motor.  Pada saat menghubungi Kadek di Jl. Brigjen Ngurah Rai, Bangli, sekitar pukul 16.35 WITA, terdakwa diamankan oleh tim Opsnal Satresnarkoba Polres Bangli. Saat digeledah, ditemukan barang bukti berupa 0,20 gram sabu yang dibungkus dalam tabung micro tube, disimpan dalam tas selempang, serta barang bukti lain seperti handphone dan sepeda motor. Berdasarkan hasil laboratorium, kristal yang ditemukan mengandung Metamfetamina, yang termasuk dalam narkotika golongan I.  Tindakannya diatur dan diancam pidana dalam Pasal 112 ayat (1) UU No. 35 Tahun 2009 tentang Narkotika.  Dakwaan Kedua: Terdakwa juga didakwa atas penyalahgunaan narkotika untuk konsumsi pribadi pada 11 April 2024, dengan cara menggunakan sabu secara pribadi di garasi mobil rumahnya. Terdakwa menyiapkan alat bong dan menghisap sabu hingga habis. Penggunaan sabu tersebut terjadi dalam kondisi rumah yang sedang sepi dan setelah membeli teh kotak. Tindakannya diatur dan diancam pidana dalam Pasal 127 ayat (1) huruf a UU No. 35 Tahun 2009 tentang Narkotika.",
         "I GEDE ARIADI alias BERNAD",
         "14.0"
        ],
        [
         "4",
         "0",
         "3",
         "2",
         "4",
         "1 (satu) unit sepeda motor merk Honda Scoopy warna merah hitam DK 6384 PQ, NOKA MH1JM311XHK071492, NOSIN JM31E-1076227 beserta kunci kontak 1 (satu) lembar STNK sepeda motor merk Honda Scoopy warna merah hitam DK 6384 PQ, NOKA MH1JM311XHK071492, NOSIN JM31E-1076227 nama pemilik an. NI WAYAN SRIMERTANADI Dikembalikan kepada korban Ni Wayan Srimertanadi 1 (satu) buah helm merk Maxi Yamaha warna hitam 1 (satu) buah jaket jeans warna biru langit  Dirampas untuk dimusnahkan 6. Membebankan kepada Terdakwa membayar biaya perkara sejumlah Rp. 5.000,00 (lima ribu rupiah)",
         "Pada 26 Maret 2024 pukul 17.10 WITA di pinggir Jalan Raya Kintamani, Terdakwa mencuri sepeda motor Honda Scoopy DK 6384 PQ yang terparkir dengan kunci masih menempel. Sehari sebelumnya, Terdakwa berangkat dari Panarukan, Singaraja, menuju Terminal Ubung Denpasar dengan menumpang truk, berniat mencuri motor. Setelah menginap di terminal, keesokan harinya sekitar pukul 11.30 WITA, Terdakwa menghubungi WAHYU EKA JAYA (DPO) yang kemudian menjemputnya dengan Yamaha Vixion hitam dan mengajaknya ke Kintamani. Sekitar pukul 17.10 WITA, saat melintas di Jalan Raya Kintamani, mereka melihat sepeda motor korban terparkir dengan kunci masih terpasang. WAHYU EKA JAYA (DPO) lalu meninggalkan Terdakwa, yang kemudian mendorong motor sejauh 10 meter sebelum menyalakan mesinnya dan melarikan diri menuju Denpasar melalui Payangan Gianyar. Sesampainya di Ubud, Terdakwa dihentikan oleh I GEDE DIPTA WIRAMA DARMA, yang mengaku sebagai petugas Polsek Kintamani dan meminta STNK, namun Terdakwa tidak dapat menunjukkannya. Ia kemudian diamankan bersama barang bukti ke Polsek Kintamani. Akibat perbuatannya, korban NI WAYAN SRIMERTANADI mengalami kerugian sekitar Rp 20.000.000,-. Perbuatan Terdakwa melanggar Pasal 362 KUHP.",
         "R. Sabirin",
         "14.0"
        ],
        [
         "5",
         "1",
         "3",
         "2",
         "4",
         "1 (satu) plastik klip bening yang berisi shabu seberat 0,17 (nol koma tujuh belas) gram netto 1 (satu) buah plastik klip kosong 2 (dua) potong pipet plastik warna bening 2 (dua) buah pipa kaca 2 (dua) potong pipet plastik warna putih 1 (satu) buah bekas botol merk Yakult 1 (satu) buah tutup botol bekas yang dimodifikasi 1 (satu) buah plastik warna hitam putih 1 (satu) buah Tas Gendong merk Exsport warna merah maroon 1 (satu) buah handphone merk Iphone 6S warna Gold berikut dengan 1 (satu) buah simcard Dimusnahkan 1 (satu) unit sepeda motor merk Honda PCX warna biru dengan No. Pol DK 2905 ADZ berikut kunci kontak 1 (satu) lembar STNK sepeda motor merk Honda PCX warna biru dengan No. Pol DK 2905 ADZ a.n pemilik Anita Dewi Rahmawati, S.I. KOM Dikembalikan kepada Anita Dewi Rahmawati  6. Membebankan kepada Terdakwa membayar biaya perkara sejumlah Rp5.000,00 (lima ribu rupiah)",
         "Dakwaan Pertama: Pada 17 Maret 2024, sekitar pukul 18.10 WITA, terdakwa Novani Ari Hifni alias Ari secara tanpa hak atau melawan hukum memiliki, menyimpan, menguasai, atau menyediakan narkotika golongan I jenis shabu. Perbuatan ini diawali dengan percakapan di Facebook dengan temannya Wewe (DPO) yang menghubungkannya dengan Rizal (DPO) untuk membeli shabu. Pada 16 Maret 2024, terdakwa menghubungi Rizal melalui WhatsApp untuk memesan shabu, kemudian berangkat ke Bangli pada 17 Maret 2024. Setelah menerima lokasi pengambilan sabu melalui Google Maps, terdakwa bersama temannya, K. M. Sahrijal Jabar, mencari dan mengambil shabu yang disembunyikan di pinggir jalan. Terdakwa ditangkap oleh tim Opsnal Satresnarkoba Polres Bangli dan ditemukan barang bukti berupa plastik klip berisi shabu seberat 0,17 gram netto. Berdasarkan hasil pemeriksaan laboratorium, barang bukti tersebut mengandung Metamfetamina, yang termasuk dalam narkotika golongan I.  Tindakannya diatur dan diancam pidana dalam Pasal 112 ayat (1) UU No. 35 Tahun 2009 tentang Narkotika. Dakwaan Kedua: Pada 7 Maret 2024, sekitar pukul 22.00 WITA, terdakwa diduga menggunakan narkotika jenis shabu secara pribadi di rumahnya di Denpasar Selatan. Terdakwa merakit alat bong dari botol mineral dan menghisap shabu sebanyak 16 kali dalam satu sesi. Penggunaan sabu ini dilakukan dalam keadaan rumah yang sedang sepi dan tanpa ada kebutuhan medis. Tindakannya diatur dan diancam pidana dalam Pasal 127 ayat (1) huruf a UU No. 35 Tahun 2009 tentang Narkotika.",
         "NOVANI ARI HIFNI Alias ARI",
         "24.0"
        ],
        [
         "6",
         "1",
         "4",
         "2",
         "4",
         "1 (satu) plastik klip bening yang berisi shabu seberat 0,17 (nol koma tujuh belas) gram netto 1 (satu) buah plastik klip kosong 2 (dua) potong pipet plastik warna bening 2 (dua) buah pipa kaca 2 (dua) potong pipet plastik warna putih 1 (satu) buah bekas botol merk Yakult 1 (satu) buah tutup botol bekas yang dimodifikasi 1 (satu) buah plastik warna hitam putih 1 (satu) buah Tas Gendong merk Exsport warna merah maroon 1 (satu) buah handphone merk Iphone 6S warna Gold berikut dengan 1 (satu) buah simcard Dimusnahkan 1 (satu) unit sepeda motor merk Honda PCX warna biru dengan No. Pol DK 2905 ADZ berikut kunci kontak 1 (satu) lembar STNK sepeda motor merk Honda PCX warna biru dengan No. Pol DK 2905 ADZ a.n pemilik Anita Dewi Rahmawati, S.I. KOM Dikembalikan kepada Anita Dewi Rahmawati  6. Membebankan kepada Terdakwa membayar biaya perkara sejumlah Rp5.000,00 (lima ribu rupiah)",
         "Dakwaan Pertama: Pada 17 Maret 2024, sekitar pukul 18.10 WITA, terdakwa Novani Ari Hifni alias Ari secara tanpa hak atau melawan hukum memiliki, menyimpan, menguasai, atau menyediakan narkotika golongan I jenis shabu. Perbuatan ini diawali dengan percakapan di Facebook dengan temannya Wewe (DPO) yang menghubungkannya dengan Rizal (DPO) untuk membeli shabu. Pada 16 Maret 2024, terdakwa menghubungi Rizal melalui WhatsApp untuk memesan shabu, kemudian berangkat ke Bangli pada 17 Maret 2024. Setelah menerima lokasi pengambilan sabu melalui Google Maps, terdakwa bersama temannya, K. M. Sahrijal Jabar, mencari dan mengambil shabu yang disembunyikan di pinggir jalan. Terdakwa ditangkap oleh tim Opsnal Satresnarkoba Polres Bangli dan ditemukan barang bukti berupa plastik klip berisi shabu seberat 0,17 gram netto. Berdasarkan hasil pemeriksaan laboratorium, barang bukti tersebut mengandung Metamfetamina, yang termasuk dalam narkotika golongan I.  Tindakannya diatur dan diancam pidana dalam Pasal 112 ayat (1) UU No. 35 Tahun 2009 tentang Narkotika. Dakwaan Kedua: Pada 7 Maret 2024, sekitar pukul 22.00 WITA, terdakwa diduga menggunakan narkotika jenis shabu secara pribadi di rumahnya di Denpasar Selatan. Terdakwa merakit alat bong dari botol mineral dan menghisap shabu sebanyak 16 kali dalam satu sesi. Penggunaan sabu ini dilakukan dalam keadaan rumah yang sedang sepi dan tanpa ada kebutuhan medis. Tindakannya diatur dan diancam pidana dalam Pasal 127 ayat (1) huruf a UU No. 35 Tahun 2009 tentang Narkotika.",
         "NOVANI ARI HIFNI Alias ARI",
         "24.0"
        ],
        [
         "7",
         "1",
         "5",
         "2",
         "4",
         "1 (satu) buah plastik klip bening yang berisi kristal bening diduga narkotika golongan I bukan tanaman jenis sabu dengan berat 0,14 (nol koma empat belas) gram bruto atau 0,08 (nol koma nol delapan) gram netto selanjutnya disisihkan seberat 0,02 (nol koma nol dua) gram netto untuk uji labforensik sehingga sisa barang bukti 0,06 (nol koma nol enam) gram netto 1 (satu) buah pipa kaca 1 (satu) lembar tissue warna putih 1 (satu) buah korek api gas yang sudah dimodif 1 (satu) buah handphone merek Redmi tipe 7A warna hitam beserta 2 (dua) buah sim card 1 (satu) buah tas pinggang merek Fashion warna hitam Dimusnahkan 1 (satu) unit mobil pick up merek Suzuki warna hitam dengan No. Pol. DK 8445 BQ berikut kunci kontak 1 (satu) lembar STNK mobil pick up merek Suzuki warna hitam dengan No. Pol. DK 8445 BQ a.n. PT Wira Mitra Utama Dikembalikan kepada PT Wira Mitra Utama melalui Terdakwa 6. Membebankan kepada Terdakwa membayar biaya perkara sejumlah Rp5.000,00 (lima ribu rupiah)",
         "Pada Selasa, 9 Januari 2024, sekitar pukul 17.30 WITA, terdakwa Mulyadi alias Mul tanpa hak atau melawan hukum menawarkan, menjual, membeli, menerima, menjadi perantara dalam jual beli, menukar, atau menyerahkan narkotika golongan I jenis sabu. Perbuatan tersebut bermula ketika terdakwa dihubungi oleh temannya, KADEK (DPO), pada pukul 08.00 WITA, yang meminta terdakwa untuk mengantarkan narkotika jenis sabu ke Bangli. Terdakwa kemudian menyanggupi permintaan tersebut dan berangkat ke Lapangan Lumintang, Denpasar, untuk bertemu dengan teman KADEK (DPO) dan menerima narkotika tersebut dalam sebuah amplop putih.  Setelah menerima narkotika jenis sabu, terdakwa sempat mencicipinya, kemudian menyimpannya di dalam amplop dan diletakkan di laci dashboard mobil yang digunakan. Terdakwa kemudian melanjutkan perjalanan ke Bangli, dan setibanya di lokasi yang dituju, yaitu di Jalan Bima, Kelurahan Cempaga, terdakwa dihadang dan diamankan oleh anggota Polres Bangli bersama beberapa saksi.  Saat dilakukan penggeledahan, ditemukan barang bukti berupa plastic klip berisi sabu, pipa kaca, korek api gas yang telah dimodifikasi, handphone, serta barang-barang lainnya yang berkaitan dengan narkotika. Terdakwa tidak memiliki izin untuk melakukan pengadaan, penyimpanan, atau penyaluran narkotika dari Kementerian Kesehatan RI.  Berdasarkan hasil pemeriksaan laboratorium, barang bukti sabu mengandung Metamfetamina, yang merupakan narkotika golongan I sesuai dengan Undang-Undang No. 35 Tahun 2009 tentang Narkotika. Tindakannya diatur dan diancam pidana dalam Pasal 114 ayat (1) UU No. 35 Tahun 2009 tentang Narkotika atau Pasal 112 ayat (1) UU No. 35 Tahun 2009 tentang Narkotika.",
         "MULYADI alias MUL",
         "48.0"
        ],
        [
         "8",
         "0",
         "3",
         "3",
         "4",
         "1. 3 (tiga) buah bahan dasar kain (Baju Kaos) masing-masing  - 1 (buah) baju kaos merk U-Right warna abu-abu, - 1 (satu) buah baju kaos merk U-Right warna hitam, - 1 (satu) buah baju kaos merk Newbalance warna hitam 2. 2 (dua) buah case masing-masing  - 1 (satu) buah case warna hitam dan, - 1 (satu) buah case warna putih bening, 3. 1 (satu) pasang kaos kaki merk Nike warna hitam, 4. 1 (satu) pasang sandal merk Havaianas warna hitam tulisan putih, 5. 1 (satu) buah tas kain Merk HUNGRYCO warna Hitam. 6. 2 (dua) buah Dompet masing-masing  - 1 (satu) buah Dompet kulit merk MONT BLACN warna coklat dan, - 1 (satu) buah dompet kain warna coklat dengan resleting bertulisan LONGCHAMP 7. 1 (satu) buah kotak Handphone, 8. 1 (satu) buah Handphone merk IPHONE 11 Pro warna gold, 9. Uang tunai sebesar Rp. 5.778.000,- (lima juta tujuh ratus tujuh puluh delapan ribu rupiah). Dikembalikan kepada Saksi Ni Nengah Ngariasih 1. 1 (satu) Buah kunci kontak sepeda motor, 2. 1 (satu) Unit kendaraan bermotor, DK 2006 AEC, NOKA MH3SEJ710PJ162733, NOSIN E33WE0184543, TH 2023, warna Hitam, 3. 1 (satu) lembar Surat Berharga STNK, DK 2006 AEC, NOKA MH3SEJ710PJ162733, NOSIN E33WE0184543, TH 2023, warna hitam, an. RURY HERAWATI , alamat GG. Kaliasem NO. 2B, Sesetan, Denpasar Dikembalikan kepada Terdakwa 6. Membebankan kepada Terdakwa membayar biaya perkara sejumlah Rp5.000,00 (lima ribu rupiah)",
         "Terdakwa RURY HERAWATI pada 20 November 2023 sekitar pukul 15.15 WITA di Toko ARI KEBAYA, Jalan Nusantara, Kelurahan Cempaga, Kecamatan Bangli, Kabupaten Bangli, melakukan tindak pidana pencurian dengan mengambil barang milik orang lain tanpa izin untuk dimiliki secara melawan hukum. Terdakwa berangkat dari kosnya di Denpasar menuju Bangli dengan niat mencuri tanpa target tempat tertentu. Setelah mengamati situasi, Terdakwa masuk ke Toko ARI KEBAYA, berpura-pura berbelanja dengan membeli dua selendang dan meminta penjaga toko, NI NENGAH NGARIASIH, untuk mencari sandal, sehingga membuatnya membelakangi meja kasir. Saat itulah Terdakwa mengambil satu tas kain merk HUNGRYCO warna hitam dari lemari plastik yang tidak terkunci, yang berisi dompet kulit merk MONT BLANC warna coklat dan dompet kain warna coklat dengan resleting bertulisan LONGCHAMP, berisi uang tunai Rp16.500.000. Setelah berpura-pura hendak mengambil uang di ATM, Terdakwa meninggalkan toko dan membawa barang curian ke kosnya. Uang hasil pencurian digunakan untuk membeli iPhone 11 Pro seharga Rp7.000.000, membayar DP emas Rp1.000.000, serta kebutuhan sehari-hari, dengan sisa uang Rp5.778.000. Berdasarkan laporan polisi LP/B/31/XI/2023/SPKT/POLRES BANGLI/POLDA BALI tanggal 25 November 2023, pihak kepolisian melakukan penyelidikan hingga mengamankan Terdakwa beserta barang bukti di Polres Bangli. Perbuatan Terdakwa menyebabkan saksi NI NENGAH NGARIASIH mengalami kerugian Rp16.500.000 dan diancam pidana dalam Pasal 362 KUHP.",
         "RURY HERAWATI",
         "16.0"
        ],
        [
         "9",
         "2",
         "6",
         "2",
         "8",
         "- 45 (empat puluh lima) lembar nota penjualan PT. PUTRA DEWATA SEJATI cabang/admin Klungkung - 5 (lima) lembar nota penjualan PT. PUTRA DEWATA SEJATI cabang/admin Bangli - 2 (dua) lembar data piutang titipan UD. SARI MERTA - 2 (dua) lembar foto copy surat kesepakatan antara pihak PT PUTRA DEWATA SEJATI yang diwakili oleh ANGGUN BAYU WIKANTO dengan pihak usaha toko/UD. Sari Merta yang diwakili oleh I WAYAN AGUS KERTAYASA dan NI MADE REDIANI Nomor 001/SP//PDS-BALI/III/2019, tanggal 18 Maret 2019 - 2 (dua) lembar surat kesepakatan antara pihak PT. PUTRA DEWATA SEJATI yang diwakili oleh ANGGUN BAYU WIKANTO dengan pihak usaha toko/UD. Sari Merta yang diwakili oleh I NENGAH PERIYASA dan NI KOMANG WARSIKI Nomor 002/SP//PDS-BALI/IV/2019, tanggal 06 April 2019 - 1 (satu) lembar surat pernyataan yang dibuat oleh I KETUT SUPUTRA tanggal 24 Nopember 2022 Dikembalikan kepada PT. Putra Dewata Sejati melalui Saksi I Putu Pasek Ariana 6. Membebankan kepada Para Terdakwa membayar biaya perkara masing masing sejumlah Rp 5.000,00 (lima ribu rupiah)",
         "Tentu, berikut ringkasan dakwaan terhadap I Ketut Suputra dan Ni Komang Warsiki dalam format paragraf:  Ringkasan Dakwaan I Ketut Suputra dan Ni Komang Warsiki:  I Ketut Suputra dan Ni Komang Warsiki, pasangan suami istri, didakwa atas tindak pidana penggelapan dalam jabatan yang terjadi antara bulan Mei 2019 hingga Oktober 2020 di gudang mereka di Bangli. I Ketut Suputra, melalui UD. Sri Dana, awalnya membeli produk Aqua dari PT. Putra Dewata Sejati secara tunai. Kerjasama berlanjut dengan UD. Sari Merta, di mana PT. Putra Dewata Sejati menitipkan barang untuk dijual kembali. Ni Komang Warsiki, sebagai bagian administrasi, bertugas mencatat penjualan dan melakukan pembayaran ke PT. Putra Dewata Sejati.  Namun, sejak Mei 2019, pembayaran ke PT. Putra Dewata Sejati tidak dilakukan secara penuh. Pada Oktober 2020, pengiriman barang dihentikan karena tidak ada pembayaran. Padahal, semua barang titipan telah terjual. Pasangan terdakwa menggunakan uang hasil penjualan untuk gaji karyawan, biaya operasional, dan kebutuhan sehari-hari tanpa izin PT. Putra Dewata Sejati. Akibatnya, PT. Putra Dewata Sejati mengalami kerugian sekitar Rp 413.883.979.  Atas perbuatan mereka, I Ketut Suputra dan Ni Komang Warsiki didakwa dengan Pasal 372 KUHP jo. Pasal 55 ayat (1) ke-1 KUHP jo. Pasal 64 ayat (1) KUHP tentang penggelapan dalam jabatan yang dilakukan secara bersama-sama dan berlanjut.",
         "I KETUT SUPUTRA",
         "18.0"
        ],
        [
         "10",
         "2",
         "4",
         "2",
         "8",
         "- 45 (empat puluh lima) lembar nota penjualan PT. PUTRA DEWATA SEJATI cabang/admin Klungkung - 5 (lima) lembar nota penjualan PT. PUTRA DEWATA SEJATI cabang/admin Bangli - 2 (dua) lembar data piutang titipan UD. SARI MERTA - 2 (dua) lembar foto copy surat kesepakatan antara pihak PT PUTRA DEWATA SEJATI yang diwakili oleh ANGGUN BAYU WIKANTO dengan pihak usaha toko/UD. Sari Merta yang diwakili oleh I WAYAN AGUS KERTAYASA dan NI MADE REDIANI Nomor 001/SP//PDS-BALI/III/2019, tanggal 18 Maret 2019 - 2 (dua) lembar surat kesepakatan antara pihak PT. PUTRA DEWATA SEJATI yang diwakili oleh ANGGUN BAYU WIKANTO dengan pihak usaha toko/UD. Sari Merta yang diwakili oleh I NENGAH PERIYASA dan NI KOMANG WARSIKI Nomor 002/SP//PDS-BALI/IV/2019, tanggal 06 April 2019 - 1 (satu) lembar surat pernyataan yang dibuat oleh I KETUT SUPUTRA tanggal 24 Nopember 2022 Dikembalikan kepada PT. Putra Dewata Sejati melalui Saksi I Putu Pasek Ariana 6. Membebankan kepada Para Terdakwa membayar biaya perkara masing masing sejumlah Rp 5.000,00 (lima ribu rupiah)",
         "Tentu, berikut ringkasan dakwaan terhadap I Ketut Suputra dan Ni Komang Warsiki dalam format paragraf:  Ringkasan Dakwaan I Ketut Suputra dan Ni Komang Warsiki:  I Ketut Suputra dan Ni Komang Warsiki, pasangan suami istri, didakwa atas tindak pidana penggelapan dalam jabatan yang terjadi antara bulan Mei 2019 hingga Oktober 2020 di gudang mereka di Bangli. I Ketut Suputra, melalui UD. Sri Dana, awalnya membeli produk Aqua dari PT. Putra Dewata Sejati secara tunai. Kerjasama berlanjut dengan UD. Sari Merta, di mana PT. Putra Dewata Sejati menitipkan barang untuk dijual kembali. Ni Komang Warsiki, sebagai bagian administrasi, bertugas mencatat penjualan dan melakukan pembayaran ke PT. Putra Dewata Sejati.  Namun, sejak Mei 2019, pembayaran ke PT. Putra Dewata Sejati tidak dilakukan secara penuh. Pada Oktober 2020, pengiriman barang dihentikan karena tidak ada pembayaran. Padahal, semua barang titipan telah terjual. Pasangan terdakwa menggunakan uang hasil penjualan untuk gaji karyawan, biaya operasional, dan kebutuhan sehari-hari tanpa izin PT. Putra Dewata Sejati. Akibatnya, PT. Putra Dewata Sejati mengalami kerugian sekitar Rp 413.883.979.  Atas perbuatan mereka, I Ketut Suputra dan Ni Komang Warsiki didakwa dengan Pasal 372 KUHP jo. Pasal 55 ayat (1) ke-1 KUHP jo. Pasal 64 ayat (1) KUHP tentang penggelapan dalam jabatan yang dilakukan secara bersama-sama dan berlanjut.",
         "I KETUT SUPUTRA",
         "18.0"
        ],
        [
         "11",
         "2",
         "6",
         "2",
         "8",
         "- 45 (empat puluh lima) lembar nota penjualan PT. PUTRA DEWATA SEJATI cabang/admin Klungkung - 5 (lima) lembar nota penjualan PT. PUTRA DEWATA SEJATI cabang/admin Bangli - 2 (dua) lembar data piutang titipan UD. SARI MERTA - 2 (dua) lembar foto copy surat kesepakatan antara pihak PT PUTRA DEWATA SEJATI yang diwakili oleh ANGGUN BAYU WIKANTO dengan pihak usaha toko/UD. Sari Merta yang diwakili oleh I WAYAN AGUS KERTAYASA dan NI MADE REDIANI Nomor 001/SP//PDS-BALI/III/2019, tanggal 18 Maret 2019 - 2 (dua) lembar surat kesepakatan antara pihak PT. PUTRA DEWATA SEJATI yang diwakili oleh ANGGUN BAYU WIKANTO dengan pihak usaha toko/UD. Sari Merta yang diwakili oleh I NENGAH PERIYASA dan NI KOMANG WARSIKI Nomor 002/SP//PDS-BALI/IV/2019, tanggal 06 April 2019 - 1 (satu) lembar surat pernyataan yang dibuat oleh I KETUT SUPUTRA tanggal 24 Nopember 2022 Dikembalikan kepada PT. Putra Dewata Sejati melalui Saksi I Putu Pasek Ariana 6. Membebankan kepada Para Terdakwa membayar biaya perkara masing masing sejumlah Rp 5.000,00 (lima ribu rupiah)",
         "Tentu, berikut ringkasan dakwaan terhadap I Ketut Suputra dan Ni Komang Warsiki dalam format paragraf:  Ringkasan Dakwaan I Ketut Suputra dan Ni Komang Warsiki:  I Ketut Suputra dan Ni Komang Warsiki, pasangan suami istri, didakwa atas tindak pidana penggelapan dalam jabatan yang terjadi antara bulan Mei 2019 hingga Oktober 2020 di gudang mereka di Bangli. I Ketut Suputra, melalui UD. Sri Dana, awalnya membeli produk Aqua dari PT. Putra Dewata Sejati secara tunai. Kerjasama berlanjut dengan UD. Sari Merta, di mana PT. Putra Dewata Sejati menitipkan barang untuk dijual kembali. Ni Komang Warsiki, sebagai bagian administrasi, bertugas mencatat penjualan dan melakukan pembayaran ke PT. Putra Dewata Sejati.  Namun, sejak Mei 2019, pembayaran ke PT. Putra Dewata Sejati tidak dilakukan secara penuh. Pada Oktober 2020, pengiriman barang dihentikan karena tidak ada pembayaran. Padahal, semua barang titipan telah terjual. Pasangan terdakwa menggunakan uang hasil penjualan untuk gaji karyawan, biaya operasional, dan kebutuhan sehari-hari tanpa izin PT. Putra Dewata Sejati. Akibatnya, PT. Putra Dewata Sejati mengalami kerugian sekitar Rp 413.883.979.  Atas perbuatan mereka, I Ketut Suputra dan Ni Komang Warsiki didakwa dengan Pasal 372 KUHP jo. Pasal 55 ayat (1) ke-1 KUHP jo. Pasal 64 ayat (1) KUHP tentang penggelapan dalam jabatan yang dilakukan secara bersama-sama dan berlanjut.",
         "NI KOMANG WARSIKI",
         "10.0"
        ],
        [
         "12",
         "2",
         "4",
         "2",
         "8",
         "- 45 (empat puluh lima) lembar nota penjualan PT. PUTRA DEWATA SEJATI cabang/admin Klungkung - 5 (lima) lembar nota penjualan PT. PUTRA DEWATA SEJATI cabang/admin Bangli - 2 (dua) lembar data piutang titipan UD. SARI MERTA - 2 (dua) lembar foto copy surat kesepakatan antara pihak PT PUTRA DEWATA SEJATI yang diwakili oleh ANGGUN BAYU WIKANTO dengan pihak usaha toko/UD. Sari Merta yang diwakili oleh I WAYAN AGUS KERTAYASA dan NI MADE REDIANI Nomor 001/SP//PDS-BALI/III/2019, tanggal 18 Maret 2019 - 2 (dua) lembar surat kesepakatan antara pihak PT. PUTRA DEWATA SEJATI yang diwakili oleh ANGGUN BAYU WIKANTO dengan pihak usaha toko/UD. Sari Merta yang diwakili oleh I NENGAH PERIYASA dan NI KOMANG WARSIKI Nomor 002/SP//PDS-BALI/IV/2019, tanggal 06 April 2019 - 1 (satu) lembar surat pernyataan yang dibuat oleh I KETUT SUPUTRA tanggal 24 Nopember 2022 Dikembalikan kepada PT. Putra Dewata Sejati melalui Saksi I Putu Pasek Ariana 6. Membebankan kepada Para Terdakwa membayar biaya perkara masing masing sejumlah Rp 5.000,00 (lima ribu rupiah)",
         "Tentu, berikut ringkasan dakwaan terhadap I Ketut Suputra dan Ni Komang Warsiki dalam format paragraf:  Ringkasan Dakwaan I Ketut Suputra dan Ni Komang Warsiki:  I Ketut Suputra dan Ni Komang Warsiki, pasangan suami istri, didakwa atas tindak pidana penggelapan dalam jabatan yang terjadi antara bulan Mei 2019 hingga Oktober 2020 di gudang mereka di Bangli. I Ketut Suputra, melalui UD. Sri Dana, awalnya membeli produk Aqua dari PT. Putra Dewata Sejati secara tunai. Kerjasama berlanjut dengan UD. Sari Merta, di mana PT. Putra Dewata Sejati menitipkan barang untuk dijual kembali. Ni Komang Warsiki, sebagai bagian administrasi, bertugas mencatat penjualan dan melakukan pembayaran ke PT. Putra Dewata Sejati.  Namun, sejak Mei 2019, pembayaran ke PT. Putra Dewata Sejati tidak dilakukan secara penuh. Pada Oktober 2020, pengiriman barang dihentikan karena tidak ada pembayaran. Padahal, semua barang titipan telah terjual. Pasangan terdakwa menggunakan uang hasil penjualan untuk gaji karyawan, biaya operasional, dan kebutuhan sehari-hari tanpa izin PT. Putra Dewata Sejati. Akibatnya, PT. Putra Dewata Sejati mengalami kerugian sekitar Rp 413.883.979.  Atas perbuatan mereka, I Ketut Suputra dan Ni Komang Warsiki didakwa dengan Pasal 372 KUHP jo. Pasal 55 ayat (1) ke-1 KUHP jo. Pasal 64 ayat (1) KUHP tentang penggelapan dalam jabatan yang dilakukan secara bersama-sama dan berlanjut.",
         "NI KOMANG WARSIKI",
         "10.0"
        ],
        [
         "13",
         "0",
         "7",
         "0",
         "6",
         "1 (satu) unit sepeda motor merek Yamaha N-Max warna hitam DK 3498 PT beserta kunci kontak 1 (satu) buah STNK sepeda motor merek Yamaha N-Max DK 3498 PT 1 (satu) buah BPKB sepeda motor merek Yamaha N-Max DK 3498 PT Dikembalikan kepada Made Yusa Paramartha 1 (satu) unit sepeda motor merek Yamaha N-Max warna hitam DK 6992 LB beserta kunci kontak 1 (satu) buah STNK sepeda motor merek Yamaha N-Max DK 6992 LB 1 (satu) buah cover under dek bawah kolong sepeda motor merek Yamaha N-Max warna hitam 1 (satu) buah cover paru fender inner sepeda motor merek Yamaha N-Max warna hitam 2 (dua) buah dek sayap body bawah sepeda motor merek Yamaha N-Max warna ungu Dikembalikan kepada I Kadek Indrawan 1 (satu) unit mobil merek Honda Jazz GE8 warna putih DK 1049 WH 1 (satu) buah STNK mobil merek Honda Jazz GE8 DK 1049 WH Dikembalikan kepada Ni Luh Putu Suparwati 1 (satu) unit sepeda motor merek Yamaha N-Max warna hitam DK 6492 ZY beserta kunci kontak 1 (satu) lembar STNK Sepeda Motor Yamaha N-Max DK 4665 TG, Noka MH3SG3190JJ314087, Nosin G3E4E-1103102, nama pemilik a.n. I Ketut Merta Yasa 2 (dua) buah plat sepeda motor palsu warna hitam DK 4665 TG 2 (dua) buah spion sepeda motor merek Yamaha N-Max warna hitam Dikembalikan kepada Penuntut Umum untuk dijadikan barang bukti dalam perkara lain 1 (satu) buah kunci T warna hitam 1 (satu) buah obeng dengan gagang warna hitam 1 (satu) buah kunci ring pas 12 warna putih merek Wipro 1 (satu) buah tang dengan gagang warna merah 1 (satu) set kunci L warna putih merek Allwin 1 (satu) buah mesin bor tanpa kabel warna merah hitam merek Bitec Dimusnahkan Uang tunai Rp1.000.000,00 (satu juta rupiah) Dirampas untuk negara  6. Membebankan kepada Para Terdakwa membayar biaya perkara masing-masing sejumlah Rp5.000,00 (lima ribu rupiah)",
         "Terdakwa I KETUT JONI ADNYANA ADI PUTRA dan Terdakwa II ROSITA EVAYANTI DEWI pada 10 September 2023 pukul 01.00 WITA dan 1 Oktober 2023 pukul 02.00 WITA di parkiran Sukawana Sunrise dan Le Monte Sunrise, Desa Sukawana, Kecamatan Kintamani, Kabupaten Bangli, melakukan pencurian secara bersekutu. Pada 9 September 2023 pukul 21.00 WITA, Terdakwa berangkat dari Jembrana menuju Sukawana Sunrise menggunakan sepeda motor Yamaha NMAX warna hitam DK 6492 ZY milik saksi I KETUT MERTA YASA. Pada 10 September 2023 pukul 01.00 WITA, mereka tiba di parkiran dan melihat sepeda motor Yamaha NMAX hitam DK 3498 PT milik saksi MADE YUSA PARAMARTHA. Terdakwa I masuk ke parkiran, sementara Terdakwa II menunggu di Desa Pinggan. Terdakwa I mengambil sepeda motor yang tidak terkunci stang, mendorongnya sejauh 100 meter, lalu menyambungkan kabel stop kontak untuk menyalakan mesin sebelum membawa sepeda motor tersebut ke Jembrana untuk digunakan sebagai transportasi sehari-hari. Pada 30 September 2023, Terdakwa kembali merencanakan pencurian dan berangkat dari Jembrana menggunakan mobil Honda Jazz putih DK 1049 WH yang disewa dari saksi NI LUH PUTU SUPARWATI. Pada 1 Oktober 2023 pukul 01.00 WITA, mereka tiba di parkiran Le Monte Sunrise dan menunggu di mobil hingga pukul 02.00 WITA. Terdakwa I kemudian mengambil sepeda motor Yamaha NMAX warna abu lembayung ungu DK 6992 LB milik saksi I KADEK INDRAWAN dengan cara mendorongnya keluar dari parkiran, membuka bodi depan, dan menyambungkan kabel stop kontak agar mesin menyala. Sepeda motor tersebut dibawa ke Jembrana dan dijual melalui Facebook Marketplace seharga Rp5.300.000. Akibat perbuatan tersebut, saksi MADE YUSA PARAMARTHA mengalami kerugian Rp25.500.000 dan saksi I KADEK INDRAWAN mengalami kerugian Rp26.700.000. Para Terdakwa diancam pidana berdasarkan Pasal 363 ayat (1) ke-4 KUHP Jo Pasal 65 ayat (1) KUHP.",
         "I KETUT JONI ADNYANA ADI PUTRA",
         "16.0"
        ],
        [
         "14",
         "0",
         "8",
         "0",
         "6",
         "1 (satu) unit sepeda motor merek Yamaha N-Max warna hitam DK 3498 PT beserta kunci kontak 1 (satu) buah STNK sepeda motor merek Yamaha N-Max DK 3498 PT 1 (satu) buah BPKB sepeda motor merek Yamaha N-Max DK 3498 PT Dikembalikan kepada Made Yusa Paramartha 1 (satu) unit sepeda motor merek Yamaha N-Max warna hitam DK 6992 LB beserta kunci kontak 1 (satu) buah STNK sepeda motor merek Yamaha N-Max DK 6992 LB 1 (satu) buah cover under dek bawah kolong sepeda motor merek Yamaha N-Max warna hitam 1 (satu) buah cover paru fender inner sepeda motor merek Yamaha N-Max warna hitam 2 (dua) buah dek sayap body bawah sepeda motor merek Yamaha N-Max warna ungu Dikembalikan kepada I Kadek Indrawan 1 (satu) unit mobil merek Honda Jazz GE8 warna putih DK 1049 WH 1 (satu) buah STNK mobil merek Honda Jazz GE8 DK 1049 WH Dikembalikan kepada Ni Luh Putu Suparwati 1 (satu) unit sepeda motor merek Yamaha N-Max warna hitam DK 6492 ZY beserta kunci kontak 1 (satu) lembar STNK Sepeda Motor Yamaha N-Max DK 4665 TG, Noka MH3SG3190JJ314087, Nosin G3E4E-1103102, nama pemilik a.n. I Ketut Merta Yasa 2 (dua) buah plat sepeda motor palsu warna hitam DK 4665 TG 2 (dua) buah spion sepeda motor merek Yamaha N-Max warna hitam Dikembalikan kepada Penuntut Umum untuk dijadikan barang bukti dalam perkara lain 1 (satu) buah kunci T warna hitam 1 (satu) buah obeng dengan gagang warna hitam 1 (satu) buah kunci ring pas 12 warna putih merek Wipro 1 (satu) buah tang dengan gagang warna merah 1 (satu) set kunci L warna putih merek Allwin 1 (satu) buah mesin bor tanpa kabel warna merah hitam merek Bitec Dimusnahkan Uang tunai Rp1.000.000,00 (satu juta rupiah) Dirampas untuk negara  6. Membebankan kepada Para Terdakwa membayar biaya perkara masing-masing sejumlah Rp5.000,00 (lima ribu rupiah)",
         "Terdakwa I KETUT JONI ADNYANA ADI PUTRA dan Terdakwa II ROSITA EVAYANTI DEWI pada 10 September 2023 pukul 01.00 WITA dan 1 Oktober 2023 pukul 02.00 WITA di parkiran Sukawana Sunrise dan Le Monte Sunrise, Desa Sukawana, Kecamatan Kintamani, Kabupaten Bangli, melakukan pencurian secara bersekutu. Pada 9 September 2023 pukul 21.00 WITA, Terdakwa berangkat dari Jembrana menuju Sukawana Sunrise menggunakan sepeda motor Yamaha NMAX warna hitam DK 6492 ZY milik saksi I KETUT MERTA YASA. Pada 10 September 2023 pukul 01.00 WITA, mereka tiba di parkiran dan melihat sepeda motor Yamaha NMAX hitam DK 3498 PT milik saksi MADE YUSA PARAMARTHA. Terdakwa I masuk ke parkiran, sementara Terdakwa II menunggu di Desa Pinggan. Terdakwa I mengambil sepeda motor yang tidak terkunci stang, mendorongnya sejauh 100 meter, lalu menyambungkan kabel stop kontak untuk menyalakan mesin sebelum membawa sepeda motor tersebut ke Jembrana untuk digunakan sebagai transportasi sehari-hari. Pada 30 September 2023, Terdakwa kembali merencanakan pencurian dan berangkat dari Jembrana menggunakan mobil Honda Jazz putih DK 1049 WH yang disewa dari saksi NI LUH PUTU SUPARWATI. Pada 1 Oktober 2023 pukul 01.00 WITA, mereka tiba di parkiran Le Monte Sunrise dan menunggu di mobil hingga pukul 02.00 WITA. Terdakwa I kemudian mengambil sepeda motor Yamaha NMAX warna abu lembayung ungu DK 6992 LB milik saksi I KADEK INDRAWAN dengan cara mendorongnya keluar dari parkiran, membuka bodi depan, dan menyambungkan kabel stop kontak agar mesin menyala. Sepeda motor tersebut dibawa ke Jembrana dan dijual melalui Facebook Marketplace seharga Rp5.300.000. Akibat perbuatan tersebut, saksi MADE YUSA PARAMARTHA mengalami kerugian Rp25.500.000 dan saksi I KADEK INDRAWAN mengalami kerugian Rp26.700.000. Para Terdakwa diancam pidana berdasarkan Pasal 363 ayat (1) ke-4 KUHP Jo Pasal 65 ayat (1) KUHP.",
         "I KETUT JONI ADNYANA ADI PUTRA",
         "16.0"
        ],
        [
         "15",
         "0",
         "7",
         "0",
         "6",
         "1 (satu) unit sepeda motor merek Yamaha N-Max warna hitam DK 3498 PT beserta kunci kontak 1 (satu) buah STNK sepeda motor merek Yamaha N-Max DK 3498 PT 1 (satu) buah BPKB sepeda motor merek Yamaha N-Max DK 3498 PT Dikembalikan kepada Made Yusa Paramartha 1 (satu) unit sepeda motor merek Yamaha N-Max warna hitam DK 6992 LB beserta kunci kontak 1 (satu) buah STNK sepeda motor merek Yamaha N-Max DK 6992 LB 1 (satu) buah cover under dek bawah kolong sepeda motor merek Yamaha N-Max warna hitam 1 (satu) buah cover paru fender inner sepeda motor merek Yamaha N-Max warna hitam 2 (dua) buah dek sayap body bawah sepeda motor merek Yamaha N-Max warna ungu Dikembalikan kepada I Kadek Indrawan 1 (satu) unit mobil merek Honda Jazz GE8 warna putih DK 1049 WH 1 (satu) buah STNK mobil merek Honda Jazz GE8 DK 1049 WH Dikembalikan kepada Ni Luh Putu Suparwati 1 (satu) unit sepeda motor merek Yamaha N-Max warna hitam DK 6492 ZY beserta kunci kontak 1 (satu) lembar STNK Sepeda Motor Yamaha N-Max DK 4665 TG, Noka MH3SG3190JJ314087, Nosin G3E4E-1103102, nama pemilik a.n. I Ketut Merta Yasa 2 (dua) buah plat sepeda motor palsu warna hitam DK 4665 TG 2 (dua) buah spion sepeda motor merek Yamaha N-Max warna hitam Dikembalikan kepada Penuntut Umum untuk dijadikan barang bukti dalam perkara lain 1 (satu) buah kunci T warna hitam 1 (satu) buah obeng dengan gagang warna hitam 1 (satu) buah kunci ring pas 12 warna putih merek Wipro 1 (satu) buah tang dengan gagang warna merah 1 (satu) set kunci L warna putih merek Allwin 1 (satu) buah mesin bor tanpa kabel warna merah hitam merek Bitec Dimusnahkan Uang tunai Rp1.000.000,00 (satu juta rupiah) Dirampas untuk negara  6. Membebankan kepada Para Terdakwa membayar biaya perkara masing-masing sejumlah Rp5.000,00 (lima ribu rupiah)",
         "Terdakwa I KETUT JONI ADNYANA ADI PUTRA dan Terdakwa II ROSITA EVAYANTI DEWI pada 10 September 2023 pukul 01.00 WITA dan 1 Oktober 2023 pukul 02.00 WITA di parkiran Sukawana Sunrise dan Le Monte Sunrise, Desa Sukawana, Kecamatan Kintamani, Kabupaten Bangli, melakukan pencurian secara bersekutu. Pada 9 September 2023 pukul 21.00 WITA, Terdakwa berangkat dari Jembrana menuju Sukawana Sunrise menggunakan sepeda motor Yamaha NMAX warna hitam DK 6492 ZY milik saksi I KETUT MERTA YASA. Pada 10 September 2023 pukul 01.00 WITA, mereka tiba di parkiran dan melihat sepeda motor Yamaha NMAX hitam DK 3498 PT milik saksi MADE YUSA PARAMARTHA. Terdakwa I masuk ke parkiran, sementara Terdakwa II menunggu di Desa Pinggan. Terdakwa I mengambil sepeda motor yang tidak terkunci stang, mendorongnya sejauh 100 meter, lalu menyambungkan kabel stop kontak untuk menyalakan mesin sebelum membawa sepeda motor tersebut ke Jembrana untuk digunakan sebagai transportasi sehari-hari. Pada 30 September 2023, Terdakwa kembali merencanakan pencurian dan berangkat dari Jembrana menggunakan mobil Honda Jazz putih DK 1049 WH yang disewa dari saksi NI LUH PUTU SUPARWATI. Pada 1 Oktober 2023 pukul 01.00 WITA, mereka tiba di parkiran Le Monte Sunrise dan menunggu di mobil hingga pukul 02.00 WITA. Terdakwa I kemudian mengambil sepeda motor Yamaha NMAX warna abu lembayung ungu DK 6992 LB milik saksi I KADEK INDRAWAN dengan cara mendorongnya keluar dari parkiran, membuka bodi depan, dan menyambungkan kabel stop kontak agar mesin menyala. Sepeda motor tersebut dibawa ke Jembrana dan dijual melalui Facebook Marketplace seharga Rp5.300.000. Akibat perbuatan tersebut, saksi MADE YUSA PARAMARTHA mengalami kerugian Rp25.500.000 dan saksi I KADEK INDRAWAN mengalami kerugian Rp26.700.000. Para Terdakwa diancam pidana berdasarkan Pasal 363 ayat (1) ke-4 KUHP Jo Pasal 65 ayat (1) KUHP.",
         "ROSITA EVAYANTI DEWI",
         "14.0"
        ],
        [
         "16",
         "0",
         "8",
         "0",
         "6",
         "1 (satu) unit sepeda motor merek Yamaha N-Max warna hitam DK 3498 PT beserta kunci kontak 1 (satu) buah STNK sepeda motor merek Yamaha N-Max DK 3498 PT 1 (satu) buah BPKB sepeda motor merek Yamaha N-Max DK 3498 PT Dikembalikan kepada Made Yusa Paramartha 1 (satu) unit sepeda motor merek Yamaha N-Max warna hitam DK 6992 LB beserta kunci kontak 1 (satu) buah STNK sepeda motor merek Yamaha N-Max DK 6992 LB 1 (satu) buah cover under dek bawah kolong sepeda motor merek Yamaha N-Max warna hitam 1 (satu) buah cover paru fender inner sepeda motor merek Yamaha N-Max warna hitam 2 (dua) buah dek sayap body bawah sepeda motor merek Yamaha N-Max warna ungu Dikembalikan kepada I Kadek Indrawan 1 (satu) unit mobil merek Honda Jazz GE8 warna putih DK 1049 WH 1 (satu) buah STNK mobil merek Honda Jazz GE8 DK 1049 WH Dikembalikan kepada Ni Luh Putu Suparwati 1 (satu) unit sepeda motor merek Yamaha N-Max warna hitam DK 6492 ZY beserta kunci kontak 1 (satu) lembar STNK Sepeda Motor Yamaha N-Max DK 4665 TG, Noka MH3SG3190JJ314087, Nosin G3E4E-1103102, nama pemilik a.n. I Ketut Merta Yasa 2 (dua) buah plat sepeda motor palsu warna hitam DK 4665 TG 2 (dua) buah spion sepeda motor merek Yamaha N-Max warna hitam Dikembalikan kepada Penuntut Umum untuk dijadikan barang bukti dalam perkara lain 1 (satu) buah kunci T warna hitam 1 (satu) buah obeng dengan gagang warna hitam 1 (satu) buah kunci ring pas 12 warna putih merek Wipro 1 (satu) buah tang dengan gagang warna merah 1 (satu) set kunci L warna putih merek Allwin 1 (satu) buah mesin bor tanpa kabel warna merah hitam merek Bitec Dimusnahkan Uang tunai Rp1.000.000,00 (satu juta rupiah) Dirampas untuk negara  6. Membebankan kepada Para Terdakwa membayar biaya perkara masing-masing sejumlah Rp5.000,00 (lima ribu rupiah)",
         "Terdakwa I KETUT JONI ADNYANA ADI PUTRA dan Terdakwa II ROSITA EVAYANTI DEWI pada 10 September 2023 pukul 01.00 WITA dan 1 Oktober 2023 pukul 02.00 WITA di parkiran Sukawana Sunrise dan Le Monte Sunrise, Desa Sukawana, Kecamatan Kintamani, Kabupaten Bangli, melakukan pencurian secara bersekutu. Pada 9 September 2023 pukul 21.00 WITA, Terdakwa berangkat dari Jembrana menuju Sukawana Sunrise menggunakan sepeda motor Yamaha NMAX warna hitam DK 6492 ZY milik saksi I KETUT MERTA YASA. Pada 10 September 2023 pukul 01.00 WITA, mereka tiba di parkiran dan melihat sepeda motor Yamaha NMAX hitam DK 3498 PT milik saksi MADE YUSA PARAMARTHA. Terdakwa I masuk ke parkiran, sementara Terdakwa II menunggu di Desa Pinggan. Terdakwa I mengambil sepeda motor yang tidak terkunci stang, mendorongnya sejauh 100 meter, lalu menyambungkan kabel stop kontak untuk menyalakan mesin sebelum membawa sepeda motor tersebut ke Jembrana untuk digunakan sebagai transportasi sehari-hari. Pada 30 September 2023, Terdakwa kembali merencanakan pencurian dan berangkat dari Jembrana menggunakan mobil Honda Jazz putih DK 1049 WH yang disewa dari saksi NI LUH PUTU SUPARWATI. Pada 1 Oktober 2023 pukul 01.00 WITA, mereka tiba di parkiran Le Monte Sunrise dan menunggu di mobil hingga pukul 02.00 WITA. Terdakwa I kemudian mengambil sepeda motor Yamaha NMAX warna abu lembayung ungu DK 6992 LB milik saksi I KADEK INDRAWAN dengan cara mendorongnya keluar dari parkiran, membuka bodi depan, dan menyambungkan kabel stop kontak agar mesin menyala. Sepeda motor tersebut dibawa ke Jembrana dan dijual melalui Facebook Marketplace seharga Rp5.300.000. Akibat perbuatan tersebut, saksi MADE YUSA PARAMARTHA mengalami kerugian Rp25.500.000 dan saksi I KADEK INDRAWAN mengalami kerugian Rp26.700.000. Para Terdakwa diancam pidana berdasarkan Pasal 363 ayat (1) ke-4 KUHP Jo Pasal 65 ayat (1) KUHP.",
         "ROSITA EVAYANTI DEWI",
         "14.0"
        ],
        [
         "17",
         "0",
         "9",
         "0",
         "4",
         "- Uang tunai sebesar Rp. 10.000.000,00(sepuluh juta rupiah). - 1 (satu) buah kartu ATM BRI, Nomor Kartu 6013012227516306 dikembalikan kepada Saksi Luh Putu Widiantari, S.E - 1 (satu) unit Sepeda Motor Honda Vario 125 warna putih DK 6266 PZ, Noka MH1JMD119PK176948, Nosin JMD1E-1177179 beserta kunci kontak. - 1 (satu) lembar STNK Sepeda Motor Honda Vario 125 DK 6266 PZ, Noka MH1JMD119PK176948, Nosin JMD1E-1177179, Nama pemilik an. I NYOMAN BUDIAWAN Dikembalikan kepada Terdakwa - 1 (satu) unit Mobil Suzuki ST 150 Pick Up warna hitam DK 8958 HD beserta kunci kontak  Dikembalikan kepada Saksi I Wayan Sarjana 6. Membebankan kepada Terdakwa membayar biaya perkara sejumlah Rp5.000,00 (lima ribu rupiah)",
         "Terdakwa I Nyoman Budiawan als. Sumawan pada 25 Oktober 2023 pukul 13.00 WITA di Toko UD. Langsung Jaya, Jalan Raya Kintamani, Desa Kintamani, Kecamatan Kintamani, melakukan pencurian dengan mengambil kartu ATM BRI warna biru nomor 6013 0122 2751 6306 milik saksi Luh Putu Widiantari tanpa izin. Sebelumnya, terdakwa datang ke toko untuk mentransfer uang tetapi diberitahu bahwa mesin BRI Link rusak. Saat pegawai toko meninggalkan tempat, terdakwa kembali masuk dan mengambil kartu ATM yang terletak di atas meja kasir. Setelah itu, terdakwa pulang ke rumah di Br./Ds. Siakin, Kecamatan Kintamani, Kabupaten Bangli, lalu menggunakan sepeda motor Vario 125 DK 6266 PZ menuju ATM BRI Toya Devasya di Desa Batur Tengah. Terdakwa mengetahui PIN ATM karena sering melihat pegawai toko memasukkannya saat melakukan transaksi. Terdakwa melakukan empat kali penarikan tunai masing-masing Rp2.500.000, dengan total Rp10.000.000, kemudian kembali ke rumah. Setelah menerima laporan dari saksi Luh Putu Widiantari pada 29 Oktober 2023, tim Kepolisian Sektor Kintamani melakukan penyelidikan dan menangkap terdakwa di rumahnya pada 28 Oktober 2023. Akibat perbuatan terdakwa, saksi mengalami kerugian sebesar Rp10.000.000. Perbuatan terdakwa diatur dan diancam pidana berdasarkan Pasal 362 KUHP.",
         "I NYOMAN BUDIAWAN Als. SUMAWAN",
         "14.0"
        ],
        [
         "18",
         "0",
         "0",
         "0",
         "4",
         "- Uang tunai sebesar Rp. 10.000.000,00(sepuluh juta rupiah). - 1 (satu) buah kartu ATM BRI, Nomor Kartu 6013012227516306 dikembalikan kepada Saksi Luh Putu Widiantari, S.E - 1 (satu) unit Sepeda Motor Honda Vario 125 warna putih DK 6266 PZ, Noka MH1JMD119PK176948, Nosin JMD1E-1177179 beserta kunci kontak. - 1 (satu) lembar STNK Sepeda Motor Honda Vario 125 DK 6266 PZ, Noka MH1JMD119PK176948, Nosin JMD1E-1177179, Nama pemilik an. I NYOMAN BUDIAWAN Dikembalikan kepada Terdakwa - 1 (satu) unit Mobil Suzuki ST 150 Pick Up warna hitam DK 8958 HD beserta kunci kontak  Dikembalikan kepada Saksi I Wayan Sarjana 6. Membebankan kepada Terdakwa membayar biaya perkara sejumlah Rp5.000,00 (lima ribu rupiah)",
         "Terdakwa I Nyoman Budiawan als. Sumawan pada 25 Oktober 2023 pukul 13.00 WITA di Toko UD. Langsung Jaya, Jalan Raya Kintamani, Desa Kintamani, Kecamatan Kintamani, melakukan pencurian dengan mengambil kartu ATM BRI warna biru nomor 6013 0122 2751 6306 milik saksi Luh Putu Widiantari tanpa izin. Sebelumnya, terdakwa datang ke toko untuk mentransfer uang tetapi diberitahu bahwa mesin BRI Link rusak. Saat pegawai toko meninggalkan tempat, terdakwa kembali masuk dan mengambil kartu ATM yang terletak di atas meja kasir. Setelah itu, terdakwa pulang ke rumah di Br./Ds. Siakin, Kecamatan Kintamani, Kabupaten Bangli, lalu menggunakan sepeda motor Vario 125 DK 6266 PZ menuju ATM BRI Toya Devasya di Desa Batur Tengah. Terdakwa mengetahui PIN ATM karena sering melihat pegawai toko memasukkannya saat melakukan transaksi. Terdakwa melakukan empat kali penarikan tunai masing-masing Rp2.500.000, dengan total Rp10.000.000, kemudian kembali ke rumah. Setelah menerima laporan dari saksi Luh Putu Widiantari pada 29 Oktober 2023, tim Kepolisian Sektor Kintamani melakukan penyelidikan dan menangkap terdakwa di rumahnya pada 28 Oktober 2023. Akibat perbuatan terdakwa, saksi mengalami kerugian sebesar Rp10.000.000. Perbuatan terdakwa diatur dan diancam pidana berdasarkan Pasal 362 KUHP.",
         "I NYOMAN BUDIAWAN Als. SUMAWAN",
         "14.0"
        ],
        [
         "19",
         "1",
         "10",
         "4",
         "2",
         "1 (satu) plastik klip bening yang berisi sabu dengan berat 0,10 (nol koma sepuluh) gram netto selanjutnya disisihkan seberat 0,02 (nol koma nol dua) gram netto untuk uji labforensik sehingga sisa barang bukti 0,08 (nol koma nol delapan) gram netto 1 (satu) buah gantungan handphone merek Furious warna hitam 1 (satu) lembar stiker Furious wana putih 1 (satu) buah jaket merek Furious warna biru dongker 1 (satu) buah handphone merek Samsung A04 warna biru berikut 1 (satu) buah Simcard XL Axiata dimusnahkan 1 (satu) unit sepeda motor merek Honda Scoopy warna merah dengan No. Pol DK 5548 PT berikut kunci kontak dikembalikan kepada yang berhak melalui Terdakwa 7. Membebankan kepada Terdakwa membayar biaya perkara sejumlah Rp5.000,00 (lima ribu rupiah)",
         "Terdakwa I Komang Rendi Yana (Rendi) pada tanggal 6 Juni 2023, sekitar pukul 16.00 WITA, membeli shabu seharga Rp 200.000,- dari seseorang bernama Gus Ucil. Setelah mengambil barang tersebut di lokasi yang telah disepakati, terdakwa menggunakan shabu tersebut di rumahnya dengan membuat bong dari barang-barang seadanya. Setelah menggunakan shabu, terdakwa menyimpan sisa barang bukti di jaketnya.  Sekitar pukul 19.00 WITA, terdakwa hendak pergi ke lapangan alun-alun Bangli, namun saat melintas di Jalan Tirta Geduh, terdakwa diberhentikan oleh petugas kepolisian. Dalam penggeledahan, petugas menemukan shabu yang disembunyikan di dalam gantungan handphone di saku jaket terdakwa. Polisi juga mengamankan barang bukti berupa handphone dan sepeda motor.  Hasil pemeriksaan laboratorium menunjukkan bahwa kristal yang ditemukan mengandung metamphetamine, yang merupakan narkotika golongan I. Terdakwa mengaku menggunakan shabu untuk mengurangi kesedihan akibat perpisahan dengan istri dan anaknya.  Perbuatan terdakwa diancam pidana sesuai dengan Pasal 112 ayat (1) dan Pasal 127 ayat (1) huruf a UU No. 35 Tahun 2009 tentang Narkotika.",
         "I KOMANG RENDI YANA alis RENDI",
         "15.0"
        ],
        [
         "20",
         "1",
         "4",
         "4",
         "2",
         "1 (satu) plastik klip bening yang berisi sabu dengan berat 0,10 (nol koma sepuluh) gram netto selanjutnya disisihkan seberat 0,02 (nol koma nol dua) gram netto untuk uji labforensik sehingga sisa barang bukti 0,08 (nol koma nol delapan) gram netto 1 (satu) buah gantungan handphone merek Furious warna hitam 1 (satu) lembar stiker Furious wana putih 1 (satu) buah jaket merek Furious warna biru dongker 1 (satu) buah handphone merek Samsung A04 warna biru berikut 1 (satu) buah Simcard XL Axiata dimusnahkan 1 (satu) unit sepeda motor merek Honda Scoopy warna merah dengan No. Pol DK 5548 PT berikut kunci kontak dikembalikan kepada yang berhak melalui Terdakwa 7. Membebankan kepada Terdakwa membayar biaya perkara sejumlah Rp5.000,00 (lima ribu rupiah)",
         "Terdakwa I Komang Rendi Yana (Rendi) pada tanggal 6 Juni 2023, sekitar pukul 16.00 WITA, membeli shabu seharga Rp 200.000,- dari seseorang bernama Gus Ucil. Setelah mengambil barang tersebut di lokasi yang telah disepakati, terdakwa menggunakan shabu tersebut di rumahnya dengan membuat bong dari barang-barang seadanya. Setelah menggunakan shabu, terdakwa menyimpan sisa barang bukti di jaketnya.  Sekitar pukul 19.00 WITA, terdakwa hendak pergi ke lapangan alun-alun Bangli, namun saat melintas di Jalan Tirta Geduh, terdakwa diberhentikan oleh petugas kepolisian. Dalam penggeledahan, petugas menemukan shabu yang disembunyikan di dalam gantungan handphone di saku jaket terdakwa. Polisi juga mengamankan barang bukti berupa handphone dan sepeda motor.  Hasil pemeriksaan laboratorium menunjukkan bahwa kristal yang ditemukan mengandung metamphetamine, yang merupakan narkotika golongan I. Terdakwa mengaku menggunakan shabu untuk mengurangi kesedihan akibat perpisahan dengan istri dan anaknya.  Perbuatan terdakwa diancam pidana sesuai dengan Pasal 112 ayat (1) dan Pasal 127 ayat (1) huruf a UU No. 35 Tahun 2009 tentang Narkotika.",
         "I KOMANG RENDI YANA alis RENDI",
         "15.0"
        ],
        [
         "21",
         "1",
         "11",
         "0",
         "3",
         "1 (satu) buah plastik klip bening yang berisi serbuk kristal yang diduga Narkotika golongan I bukan tanaman jenis shabu dengan berat 0,18 (nol koma delapan belas) gram bruto atau 0,10 (nol koma sepuluh) gram netto dan disisihkan 0,02 (nol koma nol dua) gram netto untuk uji labforensik sehingga berat Narkotika 0,08 (nol koma delapan) gram netto 1 (satu) buah bungkus rokok merk Dunhill warna putih 1 (satu) buah handphone merk OPPO warna ungu lengkap dengan 2 (dua) buah simcard dan 1 (satu) buah memory card Dimusnahkan 1 (satu) unit sepeda motor merk Honda Vario DK 3171 LK warna hitam 1 (satu) lembar STNK sepeda motor Honda Vario DK 3171 LK warna hitam atas nama pemilik I WAYAN DARSA alamat Br. Lungsiakan, Kedewatan Ubud Gianyar 1 (satu) buah kunci kontak. Dikembalikan kepada yang berhak melalui Terdakwa 7. Membebankan kepada Terdakwa membayar biaya perkara sejumlah Rp5.000,00 (lima ribu rupiah)",
         "Terdakwa I Gusti Lanang Made Wijaya (Lanang) pada tanggal 24 April 2023, sekitar pukul 19.00 WITA, merasa gelisah dan memutuskan untuk menggunakan shabu. Terdakwa menghubungi seseorang bernama Jung Tu (DPO) untuk membeli shabu seharga Rp 700.000,-, yang kemudian diambil oleh terdakwa di lokasi yang ditunjukkan di Desa Semana, Kabupaten Badung. Terdakwa membawa shabu tersebut pulang dan menggunakannya sekitar enam kali sedotan.  Pada pukul 19.30 WITA, terdakwa dihubungi oleh Riena (DPO), yang mengajaknya untuk menggunakan shabu bersama di Bangli. Sebelum berangkat, terdakwa membakar alat bong yang digunakan. Terdakwa kemudian berangkat ke Bangli dan tiba di pinggir Jalan Muhamad Hatta sekitar pukul 22.30 WITA. Saat itu, terdakwa dihentikan oleh petugas kepolisian yang menggeledah dirinya dan menemukan barang bukti berupa plastik klip berisi shabu seberat 0,08 gram netto, sebuah handphone, dan sepeda motor.  Berdasarkan pemeriksaan laboratorium, shabu tersebut terkonfirmasi mengandung metamphetamine, termasuk narkotika golongan I. Terdakwa tidak memiliki izin untuk memiliki, menyimpan, atau menggunakan narkotika tersebut. Perbuatannya melanggar Pasal 112 Ayat (1) dan Pasal 127 Ayat (1) Huruf a UU No. 35 Tahun 2009 tentang Narkotika.",
         "I GUSTI LANANG MADE WIJAYA alias LANANG",
         "16.0"
        ],
        [
         "22",
         "1",
         "12",
         "1",
         "5",
         "1 (satu) plastik klip bening yang berisi narkotika golongan I bukan tanaman mengandung sediaan metamfetamina yang terdaftar dalam Narkotika Golongan I Nomor Urut 61 Lampiran I UURI Nomor 35 Tahun 2009 tentang Narkotika dengan berat 0,33 (nol koma tiga puluh tiga) gram bruto atau 0,15 (nol koma lima belas) gram netto selanjutnya disisihkan seberat 0,02 (nol koma nol dua) gram netto untuk uji labforensik sehingga sisa barang bukti 0,13 (nol koma tiga belas) gram netto 1 (satu) potong pipet plastik warna bening 1 (satu) lembar tissue warna putih 1 (satu) buah bungkus snack merek Superco 1 (satu) buah bungkus plastik warna hitam putih 1 (satu) unit handphone merek Samsung Galaxy Type J2 Prime warna hitam berikut 1 (satu) buah sim card IM3 dan 1 (satu) buah memory card Dipergunakan dalam perkara atas nama Sodakoh Maliki alias Dakoh  6. Membebankan kepada Terdakwa membayar biaya perkara sejumlah Rp5.000,00 (lima ribu rupiah)",
         "Dakwaan terhadap terdakwa Selamet Harianto alias Selamet dan Sodakoh Maliki alias Dakoh adalah sebagai berikut:  Pada tanggal 15 Mei 2023, sekitar pukul 20.45 WITA, di Jalan Muhammad Hatta, Kelurahan Bebalang, Kabupaten Bangli, mereka bersama-sama melakukan tindakan tanpa hak atau melawan hukum dengan memiliki, menyimpan, menguasai, atau menyediakan narkotika jenis sabu (Metamfetamina) dengan berat 0,33 gram bruto (0,15 gram netto), yang ditemukan di dalam bungkusan plastik yang dibalut tissue dan disimpan dalam kemasan snack.  Peristiwa ini bermula ketika terdakwa Selamet menghubungi Rizal (DPO) melalui WhatsApp untuk meminta pekerjaan, yang kemudian disetujui. Terdakwa dan Sodakoh berangkat ke Bangli untuk mengambil narkotika yang telah disiapkan oleh Rizal. Tiba di lokasi, mereka mengambil paket sabu yang disembunyikan di bawah tiang listrik. Saat itu, terdakwa merasa jumlah sabu yang diterimanya sedikit.  Setelah itu, mereka berdua kembali ke Denpasar dan dihentikan oleh petugas kepolisian di Jalan Muhammad Hatta, Bebalang, Bangli. Dari penggeledahan, ditemukan narkotika jenis sabu seberat 0,33 gram bruto (0,13 gram netto setelah disisihkan untuk uji lab), serta barang bukti lain berupa handphone, SIM card, dan kartu memori.  Sodakoh juga ditemukan memiliki narkotika jenis sabu seberat 0,10 gram bruto dan peralatan yang digunakan untuk mengonsumsi narkoba. Mereka berdua kemudian diamankan dan dibawa ke Polres Bangli.  Hasil uji forensik membuktikan bahwa sabu yang ditemukan mengandung Metamfetamina, yang termasuk dalam Narkotika Golongan I. Terdakwa Selamet juga diketahui pernah dihukum dalam kasus serupa pada tahun 2019.",
         "SELAMET HARIANTO alias SELAMET",
         "72.0"
        ],
        [
         "23",
         "1",
         "11",
         "4",
         "5",
         "Kode A1 1 (satu) bungkus yang diduga narkotika golongan I jenis tembakau sintetis yang dibungkus plastik merek Violin warna biru dengan berat 18,85 (delapan belas koma delapan puluh lima) gram bruto atau 14,59 (empat belas koma lima puluh sembilan) gram netto dan disisihkan 1 (satu) gram netto untuk uji labforensik sehingga berat narkotika 13,59 (tiga belas koma lima puluh sembilan) gram netto Kode A2 1 (satu) bungkus yang diduga narkotika golongan I jenis tembakau sintetis yang dibungkus plastik merek Rhino warna merah dengan berat 43,41 (empat puluh tiga koma empat puluh satu) gram bruto atau 39,41 (tiga puluh sembilan koma empat puluh satu) gram netto dan disisihkan 1 (satu) gram netto untuk uji labforensik sehingga berat narkotika 38,41 (tiga puluh delapan koma empat puluh satu) gram netto 1 (satu) buah kardus mie instan merek Indomie 1 (satu) buah plastik bubble wrap yang tertempel resi JT Express No JND/BNL001 GIA-BNL01 JD0229994349 4 (empat) buah kertas papir merek Radja Mas  Dimusnahkan  4. Membebankan kepada Terdakwa membayar biaya perkara sejumlah Rp5.000,00 (lima ribu rupiah)",
         "Pada hari Selasa, 14 Maret 2023, sekitar pukul 12.00 WITA, Terdakwa Raihan Rahadi Azhar alias Raihan, yang tengah berada di dalam kamar tahanan Blok B Rutan Kelas IIB Bangli, Desa Bebalang, Kecamatan Bangli, Kabupaten Bangli, menerima kunjungan dari seorang pria bernama Gunggus Togar Manatar Pangaribuan, alias Togar. Togar datang untuk meminjam nama Raihan dalam sebuah transaksi yang berkaitan dengan pengiriman barang. Togar meminta izin untuk menggunakan nama Raihan agar bisa menerima paket tembakau sintetis yang dikirim melalui layanan pengiriman J&T Express. Togar meyakinkan Raihan bahwa semuanya akan aman, meskipun Raihan sempat bertanya dengan khawatir, \"Aman nggak?\". Togar menjawab dengan percaya diri, \"Aman.\"  Setelah mendengar penjelasan tersebut, Raihan pun akhirnya menyetujui permintaan Togar dan memberikan nama dirinya untuk digunakan dalam penerimaan paket tersebut, meskipun ia tidak tahu persis dari mana asal tembakau sintetis itu. Dua hari kemudian, pada Kamis, 16 Maret 2023, sekitar pukul 11.10 WITA, Raihan sedang duduk membaca buku di dalam kamarnya, yang terletak di kamar nomor 6 Blok B Rutan Kelas IIB Bangli, ketika seorang petugas tamping datang memanggilnya. Petugas tersebut menginformasikan bahwa ada paket yang datang atas nama Raihan Rahadi dengan nomor telepon dan alamat yang sesuai.  Tanpa curiga, Raihan menuju ke ruang portir untuk mengambil paket tersebut. Ia menerima paket itu dengan kedua tangannya, tidak tahu apa yang ada di dalamnya. Tak lama setelah menerima paket itu, Raihan langsung diamankan oleh petugas beserta barang bukti paket yang ia terima. Dalam paket yang dibawa Raihan, petugas menemukan dua bungkus tembakau sintetis yang disembunyikan di dalam plastik. Tembakau sintetis tersebut terbungkus rapat dengan kardus mie instan merek Indomie dan dibungkus lagi dengan plastik bubble wrap. Setelah dilakukan pemeriksaan lebih lanjut, ditemukan dua jenis tembakau sintetis, yaitu tembakau dengan merek Violin dan Rhino, masing-masing dengan berat bruto 18,85 gram dan 43,41 gram.  Petugas kepolisian kemudian melakukan pemeriksaan terhadap isi paket, disaksikan oleh petugas Rutan. Hasil pemeriksaan laboratorium menunjukkan bahwa kedua bungkus tembakau sintetis tersebut mengandung senyawa MDMB-4en-PINACA, yang termasuk dalam jenis narkotika golongan I, berdasarkan Peraturan Menteri Kesehatan No. 36 Tahun 2022. Senyawa ini telah terdaftar dalam Undang-Undang Republik Indonesia No. 35 Tahun 2009 tentang Narkotika.  Dengan temuan tersebut, Raihan kemudian didakwa telah melanggar undang-undang tentang narkotika, meskipun ia tidak mengetahui asal muasal barang tersebut. Tindak pidana yang dilakukannya termasuk menawarkan, menjual, membeli, menerima, menjadi perantara jual beli, atau menukar narkotika golongan I. Raihan juga diduga melanggar Pasal 114 Ayat (1) dari Undang-Undang No. 35 Tahun 2009, yang berhubungan dengan kepemilikan, penyimpanan, dan penguasaan narkotika golongan I yang bukan merupakan tanaman.",
         "RAIHAN RAHADI AZHAR alias RAIHAN",
         "84.0"
        ],
        [
         "24",
         "0",
         "13",
         "4",
         "5",
         "1 (satu) buah kotak handphone Redmi Note 10 S 1 (satu) buah handphone merk Redmi Note 10 S warna Onyx Gray  Dikembalikan kepada I Wayan Suardana 1 (satu) buah kotak Handphone Redmi Note 7 6 (enam) lembar uang Rp100.000,00 (seratus ribu rupiah) dengan total Rp600.000,00 (enam ratus ribu rupiah)  Dikembalikan kepada I Wayan Panggih 1 buah tas pinggang merk Jungle Surf warna abu-abu  Dimusnahkan  6. Membebankan kepada Terdakwa membayar biaya perkara sejumlah Rp5.000,00 (lima ribu rupiah)",
         "Terdakwa, I Wayan Nawa, didakwa melakukan serangkaian tindak pidana pencurian yang terjadi di wilayah Kintamani, Kabupaten Bangli, pada bulan Oktober dan November 2022. Pada hari Minggu, 2 Oktober 2022, sekitar pukul 12.30 WITA, terdakwa melakukan pencurian di kebun milik I Wayan Suardana di Desa Bayung Gede. Dengan berpura-pura menawarkan pupuk kandang, terdakwa mengalihkan perhatian korban dan mencuri sebuah ponsel Redmi Note 10S beserta uang tunai Rp400.000 yang disimpan dalam wadah ponsel tersebut.  Selanjutnya, pada hari Rabu, 9 November 2022, sekitar pukul 12.00 WITA, terdakwa kembali melakukan pencurian di sebuah pondokan milik I Wayan Panggih di Desa Binyan. Dengan modus yang sama, yaitu menawarkan pupuk kandang, terdakwa berhasil mencuri sebuah ponsel Redmi Note 7 milik korban. Setelah melakukan pencurian, terdakwa menjual kedua ponsel tersebut. Ponsel milik I Wayan Suardana dijual seharga Rp1.400.000, sedangkan ponsel milik I Wayan Panggih dijual seharga Rp400.000. Uang hasil penjualan tersebut digunakan oleh terdakwa untuk memenuhi kebutuhan sehari-hari.  Akibat perbuatan terdakwa, I Wayan Suardana mengalami kerugian sebesar Rp3.400.000, sedangkan I Wayan Panggih mengalami kerugian sebesar Rp3.000.000. Setelah menerima laporan dari para korban, pihak kepolisian melakukan penyelidikan dan berhasil menangkap terdakwa pada tanggal 9 Februari 2023 di wilayah Karangasem. Atas perbuatannya, terdakwa didakwa melanggar Pasal 362 KUHP jo Pasal 65 ayat (1) KUHP, yang mengatur tentang tindak pidana pencurian yang dilakukan secara berulang.",
         "I Wayan Nawa",
         "6.0"
        ],
        [
         "25",
         "0",
         "11",
         "3",
         "5",
         "2 (dua) Gram Cincin emas dengan batu permata berwarna hitam Pecahan uang seratus ribu rupiah sebanyak 57 lembar (Rp.5.700.000,-) 1 (satu) Buah tas warna merah maroon bertuliskan Michael Kors 1.600 Gram Cincin emas dengan batu permata berwarna merah 1 (satu) Pcs Dompet warna merah muda kombinasi putih bertuliskan Toko Perhiasan Emas Ratna 14.400 Gram Kalung Emas Rantai Bola 2 (dua) Lembar Nota Pembelian Perhiasan Emas Toko Ratna 1 (satu) Buah Tas warna hitam bertuliskan Steve Madden Dikembalikan kepada Saksi Ni Jro Luh Putri 1 (satu) Potong Hoddie warna merah bertuliskan Getting To 90 4th Red Ribbon Flash Mob  Dimusnahkan - 1 (satu) Unit sepeda motor Yamaha Xeon warna hitam Dirampas untuk negara 6. Membebankan kepada Terdakwa membayar biaya perkara sejumlah Rp5.000,00 (lima ribu rupiah)",
         "Terdakwa, JRO GEDE BUDI, didakwa melakukan tindak pidana pencurian di Pemandian Tirta Usadha Toya Bungkah, Bangli, pada 28 Januari 2023. Terdakwa, yang datang untuk berendam, melihat tas milik NI JRO LUH PUTRI di loker terbuka. Timbul niat untuk mencuri, terdakwa mengambil tas tersebut dan membawanya ke parkiran motor.  Setelah pergi, terdakwa memeriksa isi tas dan menemukan uang Rp5.700.000 dan perhiasan emas. Terdakwa mengambil Rp1.000.000 dan menyembunyikan sisanya beserta perhiasan di dekat rumahnya. Terdakwa kemudian pulang dengan uang curian.  Polisi menangkap terdakwa setelah laporan korban. Barang bukti ditemukan, termasuk tas, uang, dan perhiasan. Korban mengalami kerugian Rp19.700.000. Terdakwa didakwa melanggar Pasal 362 KUHP.",
         "JRO GEDE BUDI",
         "5.0"
        ],
        [
         "26",
         "0",
         "9",
         "4",
         "3",
         "1 (satu) unit sepeda motor yang sudah dimodifikasi (cetul) tanpa terpasang nomor registrasi / nomor polisi dan tidak dapat terdapat nomor rangka dan nomor mesin kendaraan Dikembalikan kepada I Gede Wiraguna 1 (satu) unit sepeda motor merek Kawasaki tipe LX 150 C, warna hitam kombinasi kuning, tahun pembuatan 2010, tanpa terpasang nomor registrasi / nomor polisi, Noka MH4LX150CAKP15705, Nosin LX150CEP19759 1 (satu) lembar SNTK sepeda motor merek Kawasaki tipe LX 150 C, warna hijau, tahun pembuatan 2010, nomor registrasi / nomor polisi DK 8164 IQ, Noka MH4LX150CAKP15705, Nosin LX150CEP19759, a.n. Chrisnawati, alamat Jl. Surabaya D, 6/20 Puri Gading, Jimbaran, Kuta Badung dan 1 (satu) buah buku BPKB, No H-0 2625520, DK 8164 IQ, merek Kawasaki tipe LX 150 C, Noka MH4LX150CAKP15705, Nosin LX150CEP19759, a.n. Chrisnawati, alamat Jl. Surabaya D, 6/20 Puri Gading, Jimbaran, Kuta Badung Dikembalikan kepada I Wayan Eva Kusuma Putra 6. Membebankan kepada Para Terdakwa membayar biaya perkara masing-masing sejumlah Rp5.000,00 (lima ribu rupiah)",
         "Terdakwa I, Rifqi Abdurahman, dan Terdakwa II, Gunawan, didakwa melakukan pencurian sepeda motor Kawasaki KLX 150 C di Jalan Raya Kayuambua, Bangli, pada 11 Desember 2022, sekitar pukul 00.30 WITA. Berawal dari permintaan Gunawan untuk mencarikan motor KLX, mereka berdua berangkat dari Denpasar ke Kintamani. Di lokasi kejadian, mereka melihat motor KLX tanpa kunci kontak. Rifqi mengambil motor tersebut dengan mendorongnya, sementara Gunawan mengawasi.  Karena Rifqi tidak bisa menyalakan motor, Gunawan membantu mendorongnya. Namun, motor mereka mengalami kerusakan, dan Rifqi melanjutkan mendorong motor curian sendirian. Saat mendorong, Rifqi bertemu saksi-saksi yang curiga dan menghubungi pemilik motor. Rifqi berhasil menyalakan motor, tetapi kehabisan bensin. Ia melanjutkan mendorong ke SPBU Sekardadi, di mana ia tertidur dan ditangkap polisi.  Gunawan ditangkap di Desa Dumilih. Motor curian dan motor yang digunakan para terdakwa disita. Korban, I Wayan Eva Kusuma Putra, mengalami kerugian Rp16.000.000. Para terdakwa didakwa melanggar Pasal 363 Ayat (1) Ke 4 KUHP sebagai dakwaan primair dan Pasal 362 KUHP sebagai dakwaan subsidair.",
         "RIFQI ABDURAHMAN",
         "8.0"
        ],
        [
         "27",
         "0",
         "9",
         "4",
         "3",
         "1 (satu) unit sepeda motor yang sudah dimodifikasi (cetul) tanpa terpasang nomor registrasi / nomor polisi dan tidak dapat terdapat nomor rangka dan nomor mesin kendaraan Dikembalikan kepada I Gede Wiraguna 1 (satu) unit sepeda motor merek Kawasaki tipe LX 150 C, warna hitam kombinasi kuning, tahun pembuatan 2010, tanpa terpasang nomor registrasi / nomor polisi, Noka MH4LX150CAKP15705, Nosin LX150CEP19759 1 (satu) lembar SNTK sepeda motor merek Kawasaki tipe LX 150 C, warna hijau, tahun pembuatan 2010, nomor registrasi / nomor polisi DK 8164 IQ, Noka MH4LX150CAKP15705, Nosin LX150CEP19759, a.n. Chrisnawati, alamat Jl. Surabaya D, 6/20 Puri Gading, Jimbaran, Kuta Badung dan 1 (satu) buah buku BPKB, No H-0 2625520, DK 8164 IQ, merek Kawasaki tipe LX 150 C, Noka MH4LX150CAKP15705, Nosin LX150CEP19759, a.n. Chrisnawati, alamat Jl. Surabaya D, 6/20 Puri Gading, Jimbaran, Kuta Badung Dikembalikan kepada I Wayan Eva Kusuma Putra 6. Membebankan kepada Para Terdakwa membayar biaya perkara masing-masing sejumlah Rp5.000,00 (lima ribu rupiah)",
         "Terdakwa I, Rifqi Abdurahman, dan Terdakwa II, Gunawan, didakwa melakukan pencurian sepeda motor Kawasaki KLX 150 C di Jalan Raya Kayuambua, Bangli, pada 11 Desember 2022, sekitar pukul 00.30 WITA. Berawal dari permintaan Gunawan untuk mencarikan motor KLX, mereka berdua berangkat dari Denpasar ke Kintamani. Di lokasi kejadian, mereka melihat motor KLX tanpa kunci kontak. Rifqi mengambil motor tersebut dengan mendorongnya, sementara Gunawan mengawasi.  Karena Rifqi tidak bisa menyalakan motor, Gunawan membantu mendorongnya. Namun, motor mereka mengalami kerusakan, dan Rifqi melanjutkan mendorong motor curian sendirian. Saat mendorong, Rifqi bertemu saksi-saksi yang curiga dan menghubungi pemilik motor. Rifqi berhasil menyalakan motor, tetapi kehabisan bensin. Ia melanjutkan mendorong ke SPBU Sekardadi, di mana ia tertidur dan ditangkap polisi.  Gunawan ditangkap di Desa Dumilih. Motor curian dan motor yang digunakan para terdakwa disita. Korban, I Wayan Eva Kusuma Putra, mengalami kerugian Rp16.000.000. Para terdakwa didakwa melanggar Pasal 363 Ayat (1) Ke 4 KUHP sebagai dakwaan primair dan Pasal 362 KUHP sebagai dakwaan subsidair.",
         "GUNAWAN",
         "8.0"
        ],
        [
         "28",
         "0",
         "14",
         "0",
         "6",
         "1 (satu) unit sepeda motor honda vario tahun 2011, warna merah silver DK 7917 UR, Noka MH1JF8119BK338944, Nosin JF81E-1337110 beserta anak kunci 1 (satu) STNK sepeda motor honda vario tahun 2011, warna merah silver DK 7917 UR, Noka MH1JF8119BK338944, Nosin JF81E-1337110 dikembalikan kepada yang berhak melalui Terdakwa 4 (empat) ekor ayam aduan warna merah (biying) 1 (satu) ekor ayam aduan warna coklat (klau) dikembalikan kepada I WAYAN SUKADA dan I MADE TERUS 4 (empat) buah karung warna putih dimusnahkan 6. Membebankan kepada Terdakwa membayar biaya perkara sejumlah Rp5.000,00 (lima ribu rupiah)",
         "Terdakwa, Gede Kastawa, didakwa melakukan serangkaian tindak pidana pencurian ayam di wilayah Kintamani, Bangli, pada bulan Oktober 2022. Pada 21 Oktober, sekitar pukul 20.00 WITA, ia mencuri 6 ekor ayam milik I Wayan Sukada di Desa Belantih. Pada 28 Oktober, sekitar pukul 18.00 WITA, ia mencuri 15 ekor ayam milik I Made Terus di Desa Belanga. Pada 30 Oktober, sekitar pukul 16.30 WITA, ia mencoba mencuri 1 ekor ayam milik I Wayan Lusin di Desa Belanga, namun gagal dan berhasil diamankan warga.  Dalam setiap aksinya, terdakwa menggunakan modus yang sama, yaitu memanfaatkan kelengahan korban. Ia menjual ayam curian di Singaraja dan menggunakan uangnya untuk judi sabung ayam dan kebutuhan sehari-hari. Akibat perbuatannya, para korban mengalami kerugian total Rp3.500.000. Terdakwa didakwa melanggar Pasal 362 KUHP Jo Pasal 65 ayat (1) KUHP, yang mengatur tentang tindak pidana pencurian yang dilakukan secara berulang..",
         "Gede Kastawa",
         "30.0"
        ],
        [
         "29",
         "0",
         "15",
         "0",
         "6",
         "1 (satu) unit sepeda motor honda vario tahun 2011, warna merah silver DK 7917 UR, Noka MH1JF8119BK338944, Nosin JF81E-1337110 beserta anak kunci 1 (satu) STNK sepeda motor honda vario tahun 2011, warna merah silver DK 7917 UR, Noka MH1JF8119BK338944, Nosin JF81E-1337110 dikembalikan kepada yang berhak melalui Terdakwa 4 (empat) ekor ayam aduan warna merah (biying) 1 (satu) ekor ayam aduan warna coklat (klau) dikembalikan kepada I WAYAN SUKADA dan I MADE TERUS 4 (empat) buah karung warna putih dimusnahkan 6. Membebankan kepada Terdakwa membayar biaya perkara sejumlah Rp5.000,00 (lima ribu rupiah)",
         "Terdakwa, Gede Kastawa, didakwa melakukan serangkaian tindak pidana pencurian ayam di wilayah Kintamani, Bangli, pada bulan Oktober 2022. Pada 21 Oktober, sekitar pukul 20.00 WITA, ia mencuri 6 ekor ayam milik I Wayan Sukada di Desa Belantih. Pada 28 Oktober, sekitar pukul 18.00 WITA, ia mencuri 15 ekor ayam milik I Made Terus di Desa Belanga. Pada 30 Oktober, sekitar pukul 16.30 WITA, ia mencoba mencuri 1 ekor ayam milik I Wayan Lusin di Desa Belanga, namun gagal dan berhasil diamankan warga.  Dalam setiap aksinya, terdakwa menggunakan modus yang sama, yaitu memanfaatkan kelengahan korban. Ia menjual ayam curian di Singaraja dan menggunakan uangnya untuk judi sabung ayam dan kebutuhan sehari-hari. Akibat perbuatannya, para korban mengalami kerugian total Rp3.500.000. Terdakwa didakwa melanggar Pasal 362 KUHP Jo Pasal 65 ayat (1) KUHP, yang mengatur tentang tindak pidana pencurian yang dilakukan secara berulang..",
         "Gede Kastawa",
         "30.0"
        ],
        [
         "30",
         "0",
         "16",
         "0",
         "5",
         "3 (tiga) ekor anak babi dengan bulu berwarna putih 1 (satu) buah karung plastic merk novo berwarna putih  dikembalikan kepada Saksi Komang Sucitra  6. Membebankan kepada Terdakwa membayar biaya perkara sejumlah Rp5.000,- (lima ribu rupiah)",
         "Terdakwa, Elias Fanggi, dihadapkan pada dakwaan atas tindak pidana pencurian dengan pemberatan dan penggelapan dalam jabatan yang terjadi di kandang babi milik I Komang Sucitra di Desa Abuan, Kecamatan Kintamani, Kabupaten Bangli. Pada hari Sabtu, 27 Maret 2021, sekitar pukul 22.30 WITA, Elias Fanggi, yang bekerja sebagai pembersih kandang babi milik korban sejak 6 Januari 2021, melakukan serangkaian tindakan yang mengakibatkan hilangnya tiga ekor anak babi. Pada hari itu, sekitar pukul 16.00 WITA, terdakwa datang ke kandang babi untuk melaksanakan tugasnya. Namun, pada malam harinya, sekitar pukul 22.30 WITA, ia memasuki kandang babi melalui pintu yang tidak terkunci dan mengambil karung plastik yang ada di dalam kandang. Tanpa izin dan sepengetahuan I Komang Sucitra, Elias Fanggi mengambil tiga ekor anak babi dan memasukkannya ke dalam karung plastik yang telah ia siapkan. Ia kemudian membawa anak babi tersebut keluar dari kandang menggunakan sepeda motor milik saksi Leonardus Pendi dengan maksud untuk menjualnya.  Perbuatan Elias Fanggi diketahui oleh I Komang Sucitra, yang kemudian melaporkan kejadian tersebut kepada pihak berwajib. Akibat perbuatan terdakwa, I Komang Sucitra mengalami kerugian sekitar Rp3.600.000. Atas perbuatannya, Elias Fanggi didakwa dengan dakwaan primair Pasal 363 Ayat (1) Ke 1 KUHP, yaitu pencurian dengan pemberatan, karena ia memasuki kandang babi yang merupakan tempat tertutup dengan maksud untuk melakukan pencurian. Sebagai dakwaan subsidair, ia juga didakwa dengan Pasal 374 KUHP, yaitu penggelapan dalam jabatan, karena ia memiliki hubungan kerja dengan korban dan tanggung jawab terhadap hewan ternak tersebut.",
         "Elias Fanggi",
         "6.0"
        ],
        [
         "31",
         "0",
         "17",
         "0",
         "5",
         "3 (tiga) ekor anak babi dengan bulu berwarna putih 1 (satu) buah karung plastic merk novo berwarna putih  dikembalikan kepada Saksi Komang Sucitra  6. Membebankan kepada Terdakwa membayar biaya perkara sejumlah Rp5.000,- (lima ribu rupiah)",
         "Terdakwa, Elias Fanggi, dihadapkan pada dakwaan atas tindak pidana pencurian dengan pemberatan dan penggelapan dalam jabatan yang terjadi di kandang babi milik I Komang Sucitra di Desa Abuan, Kecamatan Kintamani, Kabupaten Bangli. Pada hari Sabtu, 27 Maret 2021, sekitar pukul 22.30 WITA, Elias Fanggi, yang bekerja sebagai pembersih kandang babi milik korban sejak 6 Januari 2021, melakukan serangkaian tindakan yang mengakibatkan hilangnya tiga ekor anak babi. Pada hari itu, sekitar pukul 16.00 WITA, terdakwa datang ke kandang babi untuk melaksanakan tugasnya. Namun, pada malam harinya, sekitar pukul 22.30 WITA, ia memasuki kandang babi melalui pintu yang tidak terkunci dan mengambil karung plastik yang ada di dalam kandang. Tanpa izin dan sepengetahuan I Komang Sucitra, Elias Fanggi mengambil tiga ekor anak babi dan memasukkannya ke dalam karung plastik yang telah ia siapkan. Ia kemudian membawa anak babi tersebut keluar dari kandang menggunakan sepeda motor milik saksi Leonardus Pendi dengan maksud untuk menjualnya.  Perbuatan Elias Fanggi diketahui oleh I Komang Sucitra, yang kemudian melaporkan kejadian tersebut kepada pihak berwajib. Akibat perbuatan terdakwa, I Komang Sucitra mengalami kerugian sekitar Rp3.600.000. Atas perbuatannya, Elias Fanggi didakwa dengan dakwaan primair Pasal 363 Ayat (1) Ke 1 KUHP, yaitu pencurian dengan pemberatan, karena ia memasuki kandang babi yang merupakan tempat tertutup dengan maksud untuk melakukan pencurian. Sebagai dakwaan subsidair, ia juga didakwa dengan Pasal 374 KUHP, yaitu penggelapan dalam jabatan, karena ia memiliki hubungan kerja dengan korban dan tanggung jawab terhadap hewan ternak tersebut.",
         "Elias Fanggi",
         "6.0"
        ],
        [
         "32",
         "0",
         "17",
         "0",
         "15",
         "1 (satu) buah mesin penggerak pompa air merk GENERAL beserta 1 (satu) buah pompa Sanchin 1 (satu) buah tali kipas Dikembalikan kepada I WAYAN SUTIANA 1 (satu) buah mesin penggerak pompa air merk GENERAL beserta 1 (satu) buah pompa Sanchin 1 (satu) buah tali kipas 1 (satu) pasang sepatu boat warna hijau tua Dikembalikan kepada I NENGAH SAPA 1 (satu) buah mesin penggerak pompa air merk GENERAL beserta 1 (satu) buah pompa Sanchin 1 (satu) buah tali kipas 2 (dua) buah selang warna orange Dikembalikan kepada I KETUT SUDADI 1 (satu) buah mesin penggerak pompa air merk PRIMA beserta 1 (satu) buah pompa Sanchin merk Pro Quip 1 (satu) buah tali kipas Dikembalikan kepada I WAYAN RAMANTO 1 (satu) buah mesin penggerak pompa air merk PRO QUIP beserta 1 (satu) buah pompa Sanchin merk Tanika 1 (satu) buah tali kipas DIkembalikan kepada I MADE SADSWADARMA 1 (satu) buah mesin pompa air merk Honda lengkap dengan pompa sanchin 1 (satu) buah tali kipas Dikembalikan I KETUT CAREM 1 (satu) buah mesin pompa air merk Robin lengkap dengan pompa sanchin 1 (satu) buah tali kipas Dikembalikan kepada I NYOMAN BIRAWAN 1 (satu) buah mesin pompa air merk Robin lengkap dengan pompa sanchin 1 (satu) buah tali kipas Dikembalikan kepada NI NENGAH SUANTINI 1 (satu) buah mesin pemotong kayu (Senzo) merk Still Dikembalikan kepada I NYOMAN KENEH 1 (satu) buah mesin pemotong rumput merk Harry Dikembalikan kepada I WAYAN DARMA 1 (satu) buah kompor gas merk Rinai 1 (satu) buah tabung gas isi 3 kg Dikembalikan kepada NI KETUT SUPADMI 1 (satu) unit sepeda motor Honda Genio warna abu-abu DK 5756 PX beserta kunci kontak 1 (satu) lembar STNK sepeda motor Honda Genio warna abu-abu DK 5756 PX nomor rangka MH1JM611XKK105164, nomor mesin JM61E- 1105196, tahun pembuatan 2019 atas nama I WAYAN EDI RUSMAWAN 1 (satu) set kunci peralatan bengkel terdiri dari 1 set kunci L, 1 buah tang, 1 buah kunci engkol, 5 buah kunci pas, 1 buah obeng, 2 buah kunci T Dikembalikan kepada Penuntut Umum untuk dijadikan barang bukti dalam perkara lain Uang tunai Rp 250.000,00 (dua ratus lima puluh ribu rupiah) Dirampas untuk negara 3 (tiga) buah karung plastik (kampil) 1 (satu) gulung tali plastik rapia warna merah muda 2 (dua) buah selang warna bening Dimusnahkan  6. Membebankan kepada Terdakwa membayar biaya perkara sejumlah Rp5.000,00 (lima ribu rupiah)",
         "Terdakwa I Wayan Edi Rusmawan didakwa melakukan pencurian terhadap barang milik orang lain secara melawan hukum di berbagai lokasi di Kintamani, Bangli, antara Juni 2020 hingga Januari 2021. Kejadian-kejadian tersebut terjadi pada berbagai waktu dan tempat, termasuk kebun dan gudang milik beberapa individu di daerah tersebut. Tindakannya dilakukan dengan cara merusak, memanjat, atau menggunakan alat seperti anak kunci palsu untuk mengakses tempat dan barang yang dicuri. Tindakannya termasuk dalam beberapa perbuatan yang harus dipandang sebagai kejahatan terpisah. Perbuatan tersebut diancam pidana sesuai dengan Pasal 362 KUHP Jo Pasal 65 ayat (1) KUHP.",
         "I Wayan Edi Rusmawan",
         "24.0"
        ],
        [
         "33",
         "0",
         "18",
         "0",
         "15",
         "1 (satu) buah mesin penggerak pompa air merk GENERAL beserta 1 (satu) buah pompa Sanchin 1 (satu) buah tali kipas Dikembalikan kepada I WAYAN SUTIANA 1 (satu) buah mesin penggerak pompa air merk GENERAL beserta 1 (satu) buah pompa Sanchin 1 (satu) buah tali kipas 1 (satu) pasang sepatu boat warna hijau tua Dikembalikan kepada I NENGAH SAPA 1 (satu) buah mesin penggerak pompa air merk GENERAL beserta 1 (satu) buah pompa Sanchin 1 (satu) buah tali kipas 2 (dua) buah selang warna orange Dikembalikan kepada I KETUT SUDADI 1 (satu) buah mesin penggerak pompa air merk PRIMA beserta 1 (satu) buah pompa Sanchin merk Pro Quip 1 (satu) buah tali kipas Dikembalikan kepada I WAYAN RAMANTO 1 (satu) buah mesin penggerak pompa air merk PRO QUIP beserta 1 (satu) buah pompa Sanchin merk Tanika 1 (satu) buah tali kipas DIkembalikan kepada I MADE SADSWADARMA 1 (satu) buah mesin pompa air merk Honda lengkap dengan pompa sanchin 1 (satu) buah tali kipas Dikembalikan I KETUT CAREM 1 (satu) buah mesin pompa air merk Robin lengkap dengan pompa sanchin 1 (satu) buah tali kipas Dikembalikan kepada I NYOMAN BIRAWAN 1 (satu) buah mesin pompa air merk Robin lengkap dengan pompa sanchin 1 (satu) buah tali kipas Dikembalikan kepada NI NENGAH SUANTINI 1 (satu) buah mesin pemotong kayu (Senzo) merk Still Dikembalikan kepada I NYOMAN KENEH 1 (satu) buah mesin pemotong rumput merk Harry Dikembalikan kepada I WAYAN DARMA 1 (satu) buah kompor gas merk Rinai 1 (satu) buah tabung gas isi 3 kg Dikembalikan kepada NI KETUT SUPADMI 1 (satu) unit sepeda motor Honda Genio warna abu-abu DK 5756 PX beserta kunci kontak 1 (satu) lembar STNK sepeda motor Honda Genio warna abu-abu DK 5756 PX nomor rangka MH1JM611XKK105164, nomor mesin JM61E- 1105196, tahun pembuatan 2019 atas nama I WAYAN EDI RUSMAWAN 1 (satu) set kunci peralatan bengkel terdiri dari 1 set kunci L, 1 buah tang, 1 buah kunci engkol, 5 buah kunci pas, 1 buah obeng, 2 buah kunci T Dikembalikan kepada Penuntut Umum untuk dijadikan barang bukti dalam perkara lain Uang tunai Rp 250.000,00 (dua ratus lima puluh ribu rupiah) Dirampas untuk negara 3 (tiga) buah karung plastik (kampil) 1 (satu) gulung tali plastik rapia warna merah muda 2 (dua) buah selang warna bening Dimusnahkan  6. Membebankan kepada Terdakwa membayar biaya perkara sejumlah Rp5.000,00 (lima ribu rupiah)",
         "Terdakwa I Wayan Edi Rusmawan didakwa melakukan pencurian terhadap barang milik orang lain secara melawan hukum di berbagai lokasi di Kintamani, Bangli, antara Juni 2020 hingga Januari 2021. Kejadian-kejadian tersebut terjadi pada berbagai waktu dan tempat, termasuk kebun dan gudang milik beberapa individu di daerah tersebut. Tindakannya dilakukan dengan cara merusak, memanjat, atau menggunakan alat seperti anak kunci palsu untuk mengakses tempat dan barang yang dicuri. Tindakannya termasuk dalam beberapa perbuatan yang harus dipandang sebagai kejahatan terpisah. Perbuatan tersebut diancam pidana sesuai dengan Pasal 362 KUHP Jo Pasal 65 ayat (1) KUHP.",
         "I Wayan Edi Rusmawan",
         "24.0"
        ],
        [
         "34",
         "1",
         "19",
         "5",
         "4",
         "1 (satu) buah plastik klip bening yang berisi serbuk kristal yang diduga Narkotika golongan I jenis shabu dengan berat 0,44 bruto atau 0,20 gram netto 1 (satu) buah bekas bungkus rokok Marlboro warna putih 1 (satu) buah handphone merk XIOMI tipe redmi 4x warna hitam Dimusnahkan 1 (satu) unit sepeda motor Honda beat DK 6017 QD warna Hitam 1 (satu) buah STNK sepeda Honda beat DK 6017 QD warna Hitam an NI MADE DWI YANTI WIDIANI 1 (satu) buah kunci kontak Dikembalikan kepada pemiliknya melalui Terdakwa II. Irga Krisna Haryanto R 6. Membebankan kepada Para Terdakwa membayar biaya perkara masing-masing sejumlah Rp5.000,00 (lima ribu rupiah)",
         "Bahwa ia Terdakwa Anjar Ruchimat dan Irga Krisna Haryanto R pada hari Selasa tanggal 04 Februari 2020 sekira pukul 21.30 wita atau setidak-tidaknya pada suatu waktu dalam tahun dua ribu duapuluh, bertempat di pinggir jalan raya Merdeka, Lingkungan/Kelurahan Bebalang, Kecamatan Bangli, Kabupaten Bangli atau setidak-tidaknya pada suatu tempat tertentu yang masih termasuk dalam daerah hukum Pengadilan Negeri Bangli, melakukan melakukan percobaan atau permufakatan jahat, bersekongkol atau bersependapat dengan sdra. Made Bleteng (dalam Daftar Pencarian Orang) untuk melakukan, melaksanakan, membantu, turut serta melakukan, menyuruh, menganjurkan, memfasilitasi, memberi konsultasi, menjadi anggota suatu organisasi kejahatan Narkotika, atau mengorganisasikan suatu tindak pidana Narkotika, untuk melakukan tindak pidana Narkotika yang tanpa haka tau melawan hukum memiliki, menyimpan, menguasai, atau menyediakan Narkotika Golongan I bukan tanaman. Pasal 132 Ayat (1) jo. Pasal 112 Ayat (1) Undang-Undang Republik Indonesia Nomor 35 Tahun 2009 Tentang Narkotika atau. Khusus terdakwa Anjar Ruchimat. -Bahwa ia terdakwa Anjar Ruchimat pada hari Sabtu tanggal 1 Februari 2020 sekitar pukul 15.00 WITA atau setidak-tidaknya pada suatu hari di bulan Februari 2020 atau pada waktu lain dalam tahun 2020, bertempat di salah satu home stay/penginapan di daerah Kuta, Kabupaten Badung atau setidak-tidaknya pada suatu tempat yang masih termasuk wilayah hukum Pengadilan Negeri Denpasar yang berwenang memeriksa dan mengadili perkara ini, tetapi berdasarkan ketentuan Pasal 84 ayat (2) KUHAP yang berbunyi Pengadilan Negeri yang di dalam daerah hukumnya terdakwa bertempat tinggal, berdiam terakhir, di tempat ia diketemukan atau ditahan, hanya berwenang mengadili perkara terdakwa tersebut, apabila tempat kediaman sebagian saksi yang dipanggil lebih dekat pada tempat Pengadilan Negeri itu daripada tempat kedudukan Pengadilan Negeri yang di dalam daerahnya tindak pidana itu dilakukan Pengadilan Negeri Bangli berwenang memeriksa dan mengadili perkara ini, yang menggunakan Narkotika Golongan I bagi diri sendiri tanpa hak atau melawan hukum,. Perbuatan terdakwa Anjar Ruchimat merupakan tindak pidana sebagaimana diatur dan diancam pidana dalam Pasal 127 ayat (1) huruf a Undang - Undang R.I. No. 35 Tahun 2009 Tentang Narkotika.. Khusus terdakwa Irga Krisna Haryanto R. -Bahwa ia terdakwa Irga Krisna Haryanto R pada hari Selasa tanggal 28 Januari 2020 sekitar pukul 22.30 WITA atau setidak-tidaknya pada suatu hari di bulan Januari 2020 atau pada waktu lain dalam tahun 2020, bertempat di kamar kontrakan terdakwa, jalan Buana Graha Dawas, Dalung, Kecamatan Kuta Utara, Kabupaten Badung atau setidak-tidaknya pada suatu tempat yang masih termasuk wilayah hukum Pengadilan Negeri Denpasar yang berwenang memeriksa dan mengadili perkara ini, tetapi berdasarkan ketentuan Pasal 84 ayat (2) KUHAP yang berbunyi Pengadilan Negeri yang di dalam daerah hukumnya terdakwa bertempat tinggal, berdiam terakhir, di tempat ia diketemukan atau ditahan, hanya berwenang mengadili perkara terdakwa tersebut, apabila tempat kediaman sebagian saksi yang dipanggil lebih dekat pada tempat Pengadilan Negeri itu daripada tempat kedudukan Pengadilan Negeri yang di dalam daerahnya tindak pidana itu dilakukan Pengadilan Negeri Bangli berwenang memeriksa dan mengadili perkara ini, yang menggunakan Narkotika Golongan I bagi diri sendiri tanpa hak atau melawan hukum. Perbuatan terdakwa Irga Krisna Haryanto R merupakan tindak pidana sebagaimana diatur dan diancam pidana dalam Pasal 127 ayat (1) huruf a Undang - Undang R.I. No. 35 Tahun 2009 Tentang Narkotika",
         "ANJAR RUCHIMAT",
         "16.0"
        ],
        [
         "35",
         "1",
         "19",
         "5",
         "4",
         "1 (satu) buah plastik klip bening yang berisi serbuk kristal yang diduga Narkotika golongan I jenis shabu dengan berat 0,44 bruto atau 0,20 gram netto 1 (satu) buah bekas bungkus rokok Marlboro warna putih 1 (satu) buah handphone merk XIOMI tipe redmi 4x warna hitam Dimusnahkan 1 (satu) unit sepeda motor Honda beat DK 6017 QD warna Hitam 1 (satu) buah STNK sepeda Honda beat DK 6017 QD warna Hitam an NI MADE DWI YANTI WIDIANI 1 (satu) buah kunci kontak Dikembalikan kepada pemiliknya melalui Terdakwa II. Irga Krisna Haryanto R 6. Membebankan kepada Para Terdakwa membayar biaya perkara masing-masing sejumlah Rp5.000,00 (lima ribu rupiah)",
         "Bahwa ia Terdakwa Anjar Ruchimat dan Irga Krisna Haryanto R pada hari Selasa tanggal 04 Februari 2020 sekira pukul 21.30 wita atau setidak-tidaknya pada suatu waktu dalam tahun dua ribu duapuluh, bertempat di pinggir jalan raya Merdeka, Lingkungan/Kelurahan Bebalang, Kecamatan Bangli, Kabupaten Bangli atau setidak-tidaknya pada suatu tempat tertentu yang masih termasuk dalam daerah hukum Pengadilan Negeri Bangli, melakukan melakukan percobaan atau permufakatan jahat, bersekongkol atau bersependapat dengan sdra. Made Bleteng (dalam Daftar Pencarian Orang) untuk melakukan, melaksanakan, membantu, turut serta melakukan, menyuruh, menganjurkan, memfasilitasi, memberi konsultasi, menjadi anggota suatu organisasi kejahatan Narkotika, atau mengorganisasikan suatu tindak pidana Narkotika, untuk melakukan tindak pidana Narkotika yang tanpa haka tau melawan hukum memiliki, menyimpan, menguasai, atau menyediakan Narkotika Golongan I bukan tanaman. Pasal 132 Ayat (1) jo. Pasal 112 Ayat (1) Undang-Undang Republik Indonesia Nomor 35 Tahun 2009 Tentang Narkotika atau. Khusus terdakwa Anjar Ruchimat. -Bahwa ia terdakwa Anjar Ruchimat pada hari Sabtu tanggal 1 Februari 2020 sekitar pukul 15.00 WITA atau setidak-tidaknya pada suatu hari di bulan Februari 2020 atau pada waktu lain dalam tahun 2020, bertempat di salah satu home stay/penginapan di daerah Kuta, Kabupaten Badung atau setidak-tidaknya pada suatu tempat yang masih termasuk wilayah hukum Pengadilan Negeri Denpasar yang berwenang memeriksa dan mengadili perkara ini, tetapi berdasarkan ketentuan Pasal 84 ayat (2) KUHAP yang berbunyi Pengadilan Negeri yang di dalam daerah hukumnya terdakwa bertempat tinggal, berdiam terakhir, di tempat ia diketemukan atau ditahan, hanya berwenang mengadili perkara terdakwa tersebut, apabila tempat kediaman sebagian saksi yang dipanggil lebih dekat pada tempat Pengadilan Negeri itu daripada tempat kedudukan Pengadilan Negeri yang di dalam daerahnya tindak pidana itu dilakukan Pengadilan Negeri Bangli berwenang memeriksa dan mengadili perkara ini, yang menggunakan Narkotika Golongan I bagi diri sendiri tanpa hak atau melawan hukum,. Perbuatan terdakwa Anjar Ruchimat merupakan tindak pidana sebagaimana diatur dan diancam pidana dalam Pasal 127 ayat (1) huruf a Undang - Undang R.I. No. 35 Tahun 2009 Tentang Narkotika.. Khusus terdakwa Irga Krisna Haryanto R. -Bahwa ia terdakwa Irga Krisna Haryanto R pada hari Selasa tanggal 28 Januari 2020 sekitar pukul 22.30 WITA atau setidak-tidaknya pada suatu hari di bulan Januari 2020 atau pada waktu lain dalam tahun 2020, bertempat di kamar kontrakan terdakwa, jalan Buana Graha Dawas, Dalung, Kecamatan Kuta Utara, Kabupaten Badung atau setidak-tidaknya pada suatu tempat yang masih termasuk wilayah hukum Pengadilan Negeri Denpasar yang berwenang memeriksa dan mengadili perkara ini, tetapi berdasarkan ketentuan Pasal 84 ayat (2) KUHAP yang berbunyi Pengadilan Negeri yang di dalam daerah hukumnya terdakwa bertempat tinggal, berdiam terakhir, di tempat ia diketemukan atau ditahan, hanya berwenang mengadili perkara terdakwa tersebut, apabila tempat kediaman sebagian saksi yang dipanggil lebih dekat pada tempat Pengadilan Negeri itu daripada tempat kedudukan Pengadilan Negeri yang di dalam daerahnya tindak pidana itu dilakukan Pengadilan Negeri Bangli berwenang memeriksa dan mengadili perkara ini, yang menggunakan Narkotika Golongan I bagi diri sendiri tanpa hak atau melawan hukum. Perbuatan terdakwa Irga Krisna Haryanto R merupakan tindak pidana sebagaimana diatur dan diancam pidana dalam Pasal 127 ayat (1) huruf a Undang - Undang R.I. No. 35 Tahun 2009 Tentang Narkotika",
         "IRGA KRISNA HARYANTO R",
         "16.0"
        ],
        [
         "36",
         "1",
         "19",
         "6",
         "6",
         "1 (satu) buah plastik klip bening yang berisi serbuk kristal yang diduga narkotika golongan I jenis shabu dengan berat 0,96 gram bruto atau 0,80 gram netto. 1 (satu) buah plastik klip bening yang berisi serbuk kristal yang diduga narkotika golongan I jenis shabu dengan berat 0,21 gram bruto atau 0,05 gram netto. 1 (satu) buah tas Pinggang merk OAKLEY warna abu abu. 1 (satu) buah selotip kecil bening. 1 (satu) Handphone merk IPHONE 5 warna gold. 1 (satu) buah gunting. 10 (sepuluh) lembar bukti Transfer Bank BCA. 1 (satu) potong Lakban warna kuning. 1 (satu) buah buku kecil yang berisi catatan utang. 1 (satu) lembar kertas aluminium foil. 1 (satu) buah kulit rokok sampoerna mild. Dimusnahkan. 1 (satu) buah sepeda motor merk Yamaha Xeon warna putih DK 6331 AQ. 1 (satu) buah STNK sepeda motor merk Yamaha Xeon warna putih DK 6331 AQ, atas nama KETUT YARIYANI. 1 (satu) buah kunci kontak. Dikembalikan kepada yang berhak melalui Terdakwa Fenny Yanthi Esmidar. Uang tunai sebesar Rp. 50.000,- (lima puluh ribu rupiah). Dirampas untuk negara.  6. Membebankan kepada Terdakwa membayar biaya perkara sejumlah Rp 5.000,- (lima ribu rupiah)",
         "Terdakwa, Fenny Yanthi Esmidar, didakwa atas tindak pidana narkotika yang terjadi di Gang Buntu, Belakang Alfamart, Bangli, pada 9 Januari 2020, sekitar pukul 23.15 WITA. Berawal dari permintaan Desi melalui telepon untuk mengambil narkotika jenis sabu-sabu di Bangli, terdakwa berangkat dari Nusa Dua menuju lokasi yang dikirimkan melalui WhatsApp. Di lokasi tersebut, terdakwa ditangkap oleh anggota Sat Resnarkoba Polres Bangli yang telah memperoleh informasi dari masyarakat tentang adanya kurir narkotika di area tersebut.  Saat penangkapan, ditemukan barang bukti berupa dua paket sabu-sabu dengan berat netto 0,08 gram dan 0,05 gram yang disembunyikan di semak-semak belakang tembok Alfamart. Setelah dilakukan pemeriksaan laboratorium forensik, barang bukti tersebut dipastikan mengandung metamfetamina, yang tergolong narkotika golongan I. Namun, hasil pemeriksaan urine terdakwa negatif narkotika.  Atas perbuatannya, Fenny Yanthi Esmidar didakwa dengan dakwaan primair Pasal 114 ayat (1) UU RI Nomor 35 Tahun 2009 tentang Narkotika, karena tanpa hak atau melawan hukum menawarkan, menjual, membeli, menerima, menjadi perantara, menukar, atau menyerahkan narkotika golongan I. Sebagai dakwaan subsidair, terdakwa didakwa dengan Pasal 112 ayat (1) UU RI Nomor 35 Tahun 2009 tentang Narkotika, karena tanpa hak atau melawan hukum memiliki, menyimpan, menguasai, atau menyediakan narkotika golongan I. ",
         "FENNY YANTHI ESMIDAR",
         "96.0"
        ],
        [
         "37",
         "0",
         "20",
         "7",
         "4",
         "2 ( dua ) ekor hewan ternak sapi betina, bulu bagian tubuh berwarna coklat, bulu pada bagian kaki dan bokong berwarna putih, berat masing-masing sekira 250 Kg, umur sekira 1 ( satu ) tahun 6 (enam) bulan. Uang sebesar Rp. 4.656.000,- (empat juta enam ratus lima puluh enam ribu rupiah). 2 ( dua ) utas tali plastic warna biru dengan panjang masing-masing tali sekira 3 ( tiga ) meter .  Dikembalikan kepada korban I WAYAN KASIR. 1 ( satu ) unit mobil Mitsubishi Colt L 300 jenis pick up warna hitam dengan nomor polisi DK 9673 DJ, Noka MH32S6005AK703868, Nosin 2S6-707748 beserta kunci. 1 ( satu ) buah STNK mobil Mitsubishi Colt L 300 warna hitam dengan nomor polisi DK 9673 DJ Noka MH32S6005AK703868, Nosin 2S6-707748 atas nama AGUNG OKA ASTINI.  Dikembalikan kepada I NYOMAN BINTANG. 1 ( satu ) unit sepeda motor Yamaha Jupiter MX 135 warna hitam dengan nomor polisi DK 4664 RI Noka MHML300DP2R288738, Nosin 4D56C226379 beserta kunci. 1 ( satu ) buah STNK sepeda motor Yamaha Jupiter MX 135 warna hitam dengan nomor polisi DK 4664 RI Noka MHML300DP2R288738, Nosin 4D56C226379atas nama SANG PUTU BAOS.   Dikembalikan kepada Terdakwa I WAYAN SUDARPA. uang sebesar Rp. 15.500.000 hasil dari penjualan sapi   Dikembalikan kepada I NYOMAN SUTAPA. 2 ( dua ) lembar surat keterangan jual beli hewan dari pasar hewan bringkit warna hijau tertanggal 12 Februari 2020. Dirampas untuk dimusnahkan 5. Membebankan kepada terdakwa untuk membayar biaya perkara sejumlah Rp. 5.000,- (Lima ribu rupiah).",
         "Terdakwa I Wayan Sudarpa didakwa melakukan pencurian terhadap tiga ekor sapi milik I Wayan Kasir pada Rabu, 12 Februari 2020, sekitar pukul 01.00 WITA, di kandang sapi milik I Wayan Kasir di Desa Pengotan, Bangli. Terdakwa, yang sebelumnya meminta bantuan I Nyoman Bintang untuk menjualkan sapi-sapi tersebut, kemudian mengambil sapi tersebut dengan cara melepas ikatan tali pada sapi dan membawanya ke mobil milik I Nyoman Bintang. Setelah ketiga sapi berhasil dibawa ke mobil, I Nyoman Bintang membawa sapi tersebut ke Pasar Bringkit Badung untuk dijual, dan hasil penjualan sebesar Rp. 20.156.000 diserahkan kepada terdakwa.  Perbuatan ini dilakukan tanpa izin dari pemilik sapi, I Wayan Kasir, yang mengalami kerugian sekitar Rp. 20.500.000. Tindakannya diatur dan diancam pidana berdasarkan Pasal 363 ayat (1) ke-1 KUHP.",
         "I WAYAN SUDARPA",
         "6.0"
        ],
        [
         "38",
         "0",
         "21",
         "8",
         "2",
         "1 (satu) buah Tas Selempang warna Hitam 1 (satu) buah Memori Kamera Webcam yang berisi Rekaman Kamera Webcam di Dapur Villa Tegal Anyar yang berlokasi di Jalan Raya Mawang, Banjar Mawang Kelod, Desa Lodtunduh, Kecamatan Ubud, Kabupaten Gianyar, tanggal 17 Oktober 2023 1 (satu) unit TV merk Xiomi warna Hitam 1 (satu) unit Kulkas merk Aqua warna Hitam 1 (satu) unit Speaker merk Polytron warna Hitam Dikembalikan kepada Saksi Evgenii Verestnikov 1 (satu) lembar Screenshot bukti pengiriman uang sebesar Rp 5.000.000,- (lima juta rupiah) dari NI PUTU MEI SAPITRI kepada NI KETUT SUKRAENI, tanggal 18 Oktober 2023 1 (satu) lembar Screenshot bukti pengiriman uang sebesar Rp 2.000.000,- (dua juta rupiah) dari NI PUTU MEI SAPITRI kepada NI KETUT SUKRAENI, tanggal 31 Oktober 2023 Dikembalikan kepada Saksi Ni Ketut Sukraeni 1 (satu) buah Baju Kaos warna Putih 1 (satu) buah Celana Panjang warna Pink Dirampas untuk dimusnahkan 1 (satu) unit Sepeda Motor merk Honda Scoopy warna Putih dengan Nomor Polisi DK 6204 KBG beserta STNK Dikembalikan kepada Terdakwa Membebankan kepada Terdakwa untuk membayar biaya perkara sejumlah Rp 5000,00 (lima ribu rupiah)",
         "Ni Putu Mei Sapitri didakwa atas tindak pidana pencurian dan penadahan yang terjadi pada hari Selasa, 20 Juni 2023, sekitar pukul 14.00 WITA di Villa Tegal Anyar, Ubud. Terdakwa, yang bekerja sebagai petugas kebersihan lepas, mengambil uang tunai milik korban, Evgenii Verestnikov, yang terdiri dari 300 Euro dan 1.900 Dolar Amerika.  Saat membersihkan villa, terdakwa melihat tas selempang berisi uang di bawah meja dapur. Tanpa izin, ia mengambil uang tersebut, menyembunyikannya di kantong celana, dan kemudian menukarkannya di money changer, memperoleh sekitar Rp 35.000.000. Uang tersebut digunakan untuk membeli barang elektronik dan keperluan sehari-hari.  Atas perbuatannya, Ni Putu Mei Sapitri didakwa dengan dakwaan primair Pasal 362 KUHP tentang pencurian. Sebagai dakwaan subsidair, ia didakwa dengan Pasal 480 Ayat (2) KUHP tentang penadahan, karena menikmati keuntungan dari barang yang diketahui atau patut diduga diperoleh dari kejahatan. Akibat perbuatan terdakwa, Evgenii Verestnikov mengalami kerugian sekitar Rp 35.000.000.",
         "NI PUTU MEI SAPITRI",
         "18.0"
        ],
        [
         "39",
         "0",
         "22",
         "8",
         "4",
         "1 (satu) Unit Sepeda Motor Merk Suzuki FU warna hitam ungu dengan nomor polisi N 2359 TBA, nomor rangka tidak ada dan Nomor Mesin G420ID404501 Dirampas untuk negara 1 (satu) buah helm warna putih tanpa kaca 1 (satu) buah HP merk Vivo warna casing biru glosy 1 (satu) buah baju kaos warna putih bertuliskan relawan jaya giri 1 (satu) buah celana pendek warna hitam Dirampas untuk dimusnahkan 1 (satu) buah buku BPKB No. K-13109959 atas nama pemilik I MADE WERDI GUNA untuk kendaraan Sepeda Motor Honda Vario Warna White Silver DK 3493 KAM, Nomor rangka MH1JFB122EK302944, Nomor Mesin JFB1E2250553 Dikembalikan kepada Saksi I GEDE WERDI GUNA, ST Membebankan kepada Terdakwa untuk membayar biaya perkara sejumlah Rp 5000,00 (lima ribu rupiah)",
         "Leonardo Mautede alias Ronal didakwa atas tindak pidana pencurian dengan pemberatan dan penadahan. Pada hari Kamis, 4 Januari 2024, korban I Made Werdi Guna, ST mencuci motornya di Kumba Car Wash dengan kunci kontak masih terpasang. Keesokan harinya, 5 Januari 2024, sekitar pukul 19.00 WITA, terdakwa yang bekerja di tempat cuci motor tersebut mengambil motor korban tanpa izin dan membawanya ke kos temannya, Antonius Tauwaleku Praing alias Toni. Di sana, terdakwa melepas plat nomor, kaca spion, dan merusak bagian motor.  Terdakwa bermaksud menukar motor curian tersebut dengan motor Suzuki FU milik Feriyanto alias Wahyu. Pada 7 Januari 2024, sekitar pukul 22.00 WITA, terdakwa dan Feriyanto bertemu di Denpasar Utara dan melakukan pertukaran. Motor curian tersebut kemudian dijual oleh Feriyanto.  Atas perbuatannya, Leonardo Mautede didakwa dengan dakwaan primair Pasal 363 Ayat (1) ke-5 KUHP tentang pencurian dengan pemberatan. Sebagai dakwaan subsidair, ia didakwa dengan Pasal 362 KUHP tentang pencurian. Selain itu, ia juga didakwa dengan Pasal 480 ke-1 KUHP tentang penadahan. Akibat perbuatan terdakwa, I Made Werdi Guna, ST mengalami kerugian sebesar Rp 16.000.000.",
         "LEONARDO MAUTEDE Als. RONAL",
         "14.0"
        ],
        [
         "40",
         "0",
         "21",
         "8",
         "3",
         "1 (satu) unit sepeda motor Honda Scoppy tahun 2014 warna Hitam, Noka MH1JFG118EK266794, No. Pol DK3728ZD berserta Kuncinya Dikembalikan kepada Saksi I Ketut Dita 1 (satu) sepeda motor Merek Honda scoopy warna putih, Nosin JM31EX2402367 Noka MH1JM3122KK402367, No. Pol DK8686OK beserta kuncinya Dikembalikan kepada Saksi Dewa Gede Artawa Membebankan kepada Terdakwa untuk membayar biaya perkara sejumlah Rp 5000,00 (lima ribu rupiah)",
         "Paulus Pati Kondo didakwa atas tindak pidana pencurian dengan pemberatan yang dilakukan bersama-sama dengan Wilem Woro (DPO). Pada hari Sabtu, 13 Januari 2024, sekitar pukul 19.30 WITA, di depan bengkel cat Banjar Pujung, Tegalalang, mereka mencuri sepeda motor Honda Scoopy milik I Ketut Dita. Kemudian, pada hari Senin, 29 Januari 2024, sekitar pukul 19.30 WITA, di parkiran warung DPojok Banjar Tarukan Kaja, Tampaksiring, mereka kembali mencuri sepeda motor Honda Scoopy milik Dewa Gede Artawa.  Dalam kedua kejadian tersebut, Wilem Woro (DPO) melihat sepeda motor dengan kunci yang masih terpasang, lalu mengambilnya. Paulus Pati Kondo, yang membonceng Wilem Woro, bertugas mengawasi dan kemudian mengganti plat nomor sepeda motor curian. Kedua sepeda motor tersebut kemudian dibawa ke kos Paulus Pati Kondo di Denpasar Selatan untuk dijual.  Atas perbuatannya, Paulus Pati Kondo didakwa dengan dakwaan primair Pasal 363 Ayat (1) ke-4 KUHP jo Pasal 65 Ayat (1) KUHP tentang pencurian dengan pemberatan yang dilakukan secara bersama-sama dan berlanjut. Sebagai dakwaan subsidair, ia didakwa dengan Pasal 362 KUHP jo Pasal 65 Ayat (1) KUHP tentang pencurian yang dilakukan secara berlanjut. Akibat perbuatan terdakwa, I Ketut Dita mengalami kerugian Rp 13.000.000 dan Dewa Gede Artawa mengalami kerugian Rp 18.000.000.",
         "PAULUS PATI KONDO",
         "24.0"
        ],
        [
         "41",
         "0",
         "23",
         "9",
         "3",
         "1 (satu) ekor burung murai batu medan yang berisi ring dikaki kanan dengan tulisn BF 022 1 (satu) buah sangkar burung serta tutup kerudung kain warna biru muda Dikembalikan kepada pemiliknya yaitu saksi I Gusti Ngurah Putu Widiantara 1 (satu) unit sepeda motor Honda Beat warna merah putih dengan plat nomer DK 3948 UAC serta STNK dan kunci kontak Dikembalikan kepada pemiliknya yaitu yaitu saksi Gede Edi Gunawan Membebankan kepada Terdakwa membayar biaya perkara masing-masing sejumlah Rp5000,00 (lima ribu rupiah)",
         "Terdakwa, Subari, didakwa atas tindak pidana pencurian yang terjadi pada hari Sabtu, 20 April 2024, sekitar pukul 01.00 WITA di rumah I Gusti Ngurah Putu Widiantara di Ubud. Terdakwa, yang datang dari tempat kosnya di Badung, memasuki halaman rumah korban melalui gerbang yang tidak terkunci. Kemudian, ia mengambil sangkar burung murai batu milik korban yang tergantung di teras rumah.  Setelah mengambil burung tersebut, terdakwa membawanya ke tempat kosnya. Pada tanggal 1 Mei 2024, terdakwa memposting burung murai batu curian tersebut di Facebook untuk dijual seharga Rp 1.000.000. Korban, yang mencari burungnya di media sosial, menemukan postingan tersebut dan berpura-pura membeli burung tersebut. Saat transaksi COD (Cash On Delivery) di tempat kos terdakwa, petugas kepolisian menangkap terdakwa.  Atas perbuatannya, Subari didakwa dengan dakwaan primair Pasal 363 ayat (1) ke-3 KUHP tentang pencurian dengan pemberatan. Sebagai dakwaan subsidair, ia didakwa dengan Pasal 362 KUHP tentang pencurian. Akibat perbuatan terdakwa, I Gusti Ngurah Putu Widiantara mengalami kerugian sekitar Rp 4.000.000.",
         "SUBARI",
         "18.0"
        ],
        [
         "42",
         "0",
         "24",
         "8",
         "2",
         "1 (satu) lembar STNK Sepeda Motor Merk Honda, Type N125 D (KARISMA 125 D), Nomor Polisi DK 4606 LD, Tahun Pembuatan 2005, Warna Silver Biru, Nomor Rangka MH1JB22195K366416, Nomor Mesin JB221365610, STNK atas nama NI KADEK SUARTINI dengan alamat Br. Pagutan Klod Batubulan Sukawati Gianyar 1 (satu) buah BPKB Sepeda Motor Merk Honda, Type NF125 D (KARISMA 125 D), Nomor Polisi DK 4606 LD, Tahun Pembuatan 2005, Warna Silver Biru, Nomor Rangka MH1JB22195K366416, Nomor Mesin JB221365610, STNK atas nama NI KADEK SUARTINI dengan alamat Br. Pagutan Klod Batubulan Sukawati Gianyar 1 (satu) buah Flashdisk yang berisi rekaman CCTV yang terpasang di dekat tempat kejadian pencurian, yang dalam rekaman CCTV tersebut terekam pada saat tersangka mengendarai sepeda motor milik korban yang berhasil tersangka curi 1 (satu) unit Sepeda Motor Merk Honda, Type NF125 D (KARISMA 125 D), tanpa Nomor Polisi, Tahun Pembuatan 2005, Warna Silver Biru, Nomor Rangka MH1JB22195K366416, Nomor Mesin JB221365610, STNK atas nama NI KADEK SUARTINI dengan alamat Br. 1 (satu) buah helm standard warna hitam Dikembalikan kepada saksi Mohammad Slamet 1 (satu) potong baju kaos lengan pendek warna abu abu yang di dada depan berisi tulisan KARMA HAS NO DEADLINE 1 (satu) potong celana pendek yang terbuat dari kain warna biru dongker 1 (satu) buah tas selempang warna hitam merk FENGBAODAISHU Dirampas untuk dimusnahkan Membebankan kepada Terdakwa untuk membayar biaya perkara sejumlah Rp 5000,00 (lima ribu rupiah)",
         "Terdakwa, Ahmad Marsuki, didakwa atas tindak pidana pencurian dengan pemberatan yang terjadi pada hari Jumat, 26 April 2024, sekitar pukul 15.30 WITA di sebuah rumah kost di Singapadu, Sukawati, Gianyar. Terdakwa mengambil sepeda motor Honda Karisma 125 milik Mohamad Slamet yang terparkir di depan kamar kost korban.  Saat korban sedang tidur, terdakwa melihat sepeda motor dengan kunci yang masih terpasang. Timbul niat untuk mengambilnya, terdakwa langsung menaiki motor dan membawanya kabur. Aksi terdakwa terekam oleh CCTV yang terpasang di tempat kost tersebut.  Atas perbuatannya, Ahmad Marsuki didakwa dengan dakwaan primair Pasal 363 Ayat (1) ke-5 KUHP tentang pencurian dengan pemberatan. Sebagai dakwaan subsidair, ia didakwa dengan Pasal 362 KUHP tentang pencurian. Akibat perbuatan terdakwa, Mohamad Slamet mengalami kerugian sekitar Rp 5.000.000.",
         "AHMAD MARSUKI",
         "22.0"
        ],
        [
         "43",
         "0",
         "25",
         "8",
         "3",
         "1 (unit) HP Merk Redmi 10C warna biru berikut Cargernya 1 (satu) buah mesin Bor Merk Maktec warna orange 1 (satu) buah mesin serut Merk Makita warna biru Dikembalikan kepada Saksi Korban AGUS SUBAGYONO 1 (satu) buah palu besi gagang warna hijau kombinasi hitam 1 (satu) Pcs celana panjang kain warna biru dongker Dirampas oleh Negara untuk dimusnahkan Membebankan kepada Terdakwa untuk membayar biaya perkara sejumlah Rp 5000,00 (lima ribu rupiah)",
         "Yoga Saputra didakwa atas tindak pidana pencurian dengan pemberatan yang terjadi pada hari Senin, 8 April 2024, sekitar pukul 01.30 WITA di kamar mes PT. Satria Cipta Asta Kencana, Sukawati, Gianyar. Terdakwa memasuki area perusahaan melalui semak-semak dan menuju kamar Agus Subagyono yang tidak memiliki pintu.  Di dalam kamar, terdakwa mengambil ponsel Redmi 10C milik Agus Subagyono beserta pengisi dayanya, serta mesin bor dan mesin serut dari dalam lemari. Terdakwa mencongkel engsel lemari menggunakan palu agar korban tidak terbangun.  Ponsel tersebut kemudian digunakan oleh terdakwa setelah mengganti kartu SIM, sementara mesin bor dan serut dijual kepada tukang rongsokan seharga Rp 200.000. Uang hasil penjualan digunakan untuk keperluan sehari-hari. Terdakwa ditangkap pada 27 April 2024 di mes rumah makan tempatnya bekerja.  Atas perbuatannya, Yoga Saputra didakwa dengan dakwaan primair Pasal 363 Ayat (2) KUHP tentang pencurian dengan pemberatan. Sebagai dakwaan subsidair, ia didakwa dengan Pasal 363 Ayat (1) ke-5 KUHP, dan lebih subsidair dengan Pasal 362 KUHP tentang pencurian. Akibat perbuatan terdakwa, Agus Subagyono mengalami kerugian sekitar Rp 3.200.000.",
         "YOGA SAPUTRA",
         "10.0"
        ],
        [
         "44",
         "0",
         "26",
         "10",
         "3",
         "1 (satu) Buah Foto Copy yang dilegalisir BPKB satu unit motor merk Honda Vario 125cc tahun 2019 warna Merah, dengan Noka MH1JM4110KK467749, dengan Nosin JM41E1467138 an. PUTU EKA ATATIKA Surat Penyewaan Motor Vario 125 DK 5352 KAR, tanggal 11 September 2023 1 (satu) unit sepeda motor Merek Honda Vario 125 warna merah No. Pol DK 5352 KAR Nosin JM41E1467138 Noka MH1JM4110KK467749 Dikembalikan kepada saksi Putu Eka Atatika 1 (satu) buah kunci bertuliskan Honda warna Hitam Dirampas untuk dimusnahkan 6. Membebankan kepada Terdakwa membayar biaya perkara sejumlah Rp5.000,00 (lima ribu rupiah)",
         "Edi Sudadang didakwa atas tindak pidana pencurian dengan pemberatan yang dilakukan bersama-sama dengan Mulasim alias Mul (DPO). Pada hari Senin, 1 April 2024, sekitar pukul 23.30 WITA, di area parkir Villa Nyoman, Ubud, Gianyar, mereka mencuri sepeda motor Honda Vario 125 milik Putu Eka Atatika.  Sebelumnya, Edi Sudadang diajak oleh Mulasim (DPO) untuk mencuri sepeda motor di Bali. Edi Sudadang membawa kunci T dari rumah Mulasim di Probolinggo, Jawa Timur. Mereka kemudian bersama-sama mendorong motor korban dari tempat parkir, dan Edi Sudadang menghidupkan motor tersebut dengan kunci T.  Setelah berhasil mencuri motor, mereka membawanya ke Probolinggo. Di sana, motor tersebut diserahkan kepada Edi Sudadang, dan ia memberikan uang sebesar Rp 2.500.000 kepada Mulasim (DPO).  Atas perbuatannya, Edi Sudadang didakwa dengan Pasal 363 ayat (1) ke-4 dan ke-5 KUHP tentang pencurian dengan pemberatan yang dilakukan oleh dua orang atau lebih dengan bersekutu, dan menggunakan kunci palsu. Akibat perbuatan terdakwa, Putu Eka Atatika mengalami kerugian sekitar Rp 20.000.000.",
         "EDI SUDADANG",
         "12.0"
        ],
        [
         "45",
         "0",
         "27",
         "8",
         "3",
         "1 buah kamera GoPro warna hitam 1 buah kotak baterai kamera warna putih 2 buah baterai warna hitam Uang tunai sejumlah Rp. 42.000,00 1 unit I Phone 11 Pro Warna Grey 1 unit mobil toyota avanza DK 1327 IE 1 lembar STNK nomor registrasi DK 1327 IE Atas Nama Huang Szu Feng Dikembalikan kepada saksi Yuji Waki 1 buah batu kali warna cokelat 1 bidang kaca mobil dalam keadaan pecah dengan lapisan ryben warna hitam Dirampas untuk dimusnahkan 1 (satu) unit Sepeda Motor honda vario warna hitam dengan DK 4093 SS beserta Kunci Kontak Dikembalikan kepada Terdakwa 1. Yudi Kristianto 1 (satu) unit Sepeda Motor honda scoopy warna cream abu-abu Nomor Polisi DK 5628 ADR beserta Kunci Kontak Dikembalikan kepada Tedakwa 2. Kurniadi Prayoga Membebankan kepada Para Terdakwa untuk membayar biaya perkara masing-masing sejumlah Rp 5000,00 (lima ribu rupiah)",
         "Ketiga terdakwa didakwa atas tindak pidana pencurian dengan pemberatan yang dilakukan secara bersama-sama. Pada hari Sabtu, 18 Mei 2024, sekitar pukul 09.00 WITA, di Pantai Keramas, Gianyar, mereka mencuri barang-barang dari sebuah mobil Toyota Avanza milik Yuji Waki, seorang warga negara Jepang.  Para terdakwa berangkat dari kos Kurniadi Prayuda di Denpasar menuju Pantai Keramas. Setibanya di sana, Yudi Kristanto melihat mobil korban yang terparkir dan korban sedang berselancar di pantai. Yudi Kristanto kemudian memecahkan kaca mobil dengan batu dan mengambil barang-barang di dalamnya, yaitu tas berisi ponsel, kamera Go Pro, dompet berisi uang, celana pendek, dan baterai kamera.  Kurniadi Prayuda bertugas mengawasi situasi di atas sepeda motor, sementara Muhammad Rizal alias Iceng mengawasi situasi di jalan masuk pantai.  Atas perbuatannya, ketiga terdakwa didakwa dengan dakwaan primair Pasal 363 Ayat (1) ke-4 dan ke-5 KUHP tentang pencurian dengan pemberatan yang dilakukan secara bersama-sama. Sebagai dakwaan subsidair, mereka didakwa dengan Pasal 363 Ayat (1) ke-4 KUHP. Akibat perbuatan terdakwa, Yuji Waki mengalami kerugian sekitar Rp 14.400.000.",
         "YUDI KRISTANTO",
         "24.0"
        ],
        [
         "46",
         "0",
         "27",
         "8",
         "3",
         "1 buah kamera GoPro warna hitam 1 buah kotak baterai kamera warna putih 2 buah baterai warna hitam Uang tunai sejumlah Rp. 42.000,00 1 unit I Phone 11 Pro Warna Grey 1 unit mobil toyota avanza DK 1327 IE 1 lembar STNK nomor registrasi DK 1327 IE Atas Nama Huang Szu Feng Dikembalikan kepada saksi Yuji Waki 1 buah batu kali warna cokelat 1 bidang kaca mobil dalam keadaan pecah dengan lapisan ryben warna hitam Dirampas untuk dimusnahkan 1 (satu) unit Sepeda Motor honda vario warna hitam dengan DK 4093 SS beserta Kunci Kontak Dikembalikan kepada Terdakwa 1. Yudi Kristianto 1 (satu) unit Sepeda Motor honda scoopy warna cream abu-abu Nomor Polisi DK 5628 ADR beserta Kunci Kontak Dikembalikan kepada Tedakwa 2. Kurniadi Prayoga Membebankan kepada Para Terdakwa untuk membayar biaya perkara masing-masing sejumlah Rp 5000,00 (lima ribu rupiah)",
         "Ketiga terdakwa didakwa atas tindak pidana pencurian dengan pemberatan yang dilakukan secara bersama-sama. Pada hari Sabtu, 18 Mei 2024, sekitar pukul 09.00 WITA, di Pantai Keramas, Gianyar, mereka mencuri barang-barang dari sebuah mobil Toyota Avanza milik Yuji Waki, seorang warga negara Jepang.  Para terdakwa berangkat dari kos Kurniadi Prayuda di Denpasar menuju Pantai Keramas. Setibanya di sana, Yudi Kristanto melihat mobil korban yang terparkir dan korban sedang berselancar di pantai. Yudi Kristanto kemudian memecahkan kaca mobil dengan batu dan mengambil barang-barang di dalamnya, yaitu tas berisi ponsel, kamera Go Pro, dompet berisi uang, celana pendek, dan baterai kamera.  Kurniadi Prayuda bertugas mengawasi situasi di atas sepeda motor, sementara Muhammad Rizal alias Iceng mengawasi situasi di jalan masuk pantai.  Atas perbuatannya, ketiga terdakwa didakwa dengan dakwaan primair Pasal 363 Ayat (1) ke-4 dan ke-5 KUHP tentang pencurian dengan pemberatan yang dilakukan secara bersama-sama. Sebagai dakwaan subsidair, mereka didakwa dengan Pasal 363 Ayat (1) ke-4 KUHP. Akibat perbuatan terdakwa, Yuji Waki mengalami kerugian sekitar Rp 14.400.000.",
         "KURNIADI PRAYUDA",
         "17.0"
        ],
        [
         "47",
         "0",
         "27",
         "8",
         "3",
         "1 buah kamera GoPro warna hitam 1 buah kotak baterai kamera warna putih 2 buah baterai warna hitam Uang tunai sejumlah Rp. 42.000,00 1 unit I Phone 11 Pro Warna Grey 1 unit mobil toyota avanza DK 1327 IE 1 lembar STNK nomor registrasi DK 1327 IE Atas Nama Huang Szu Feng Dikembalikan kepada saksi Yuji Waki 1 buah batu kali warna cokelat 1 bidang kaca mobil dalam keadaan pecah dengan lapisan ryben warna hitam Dirampas untuk dimusnahkan 1 (satu) unit Sepeda Motor honda vario warna hitam dengan DK 4093 SS beserta Kunci Kontak Dikembalikan kepada Terdakwa 1. Yudi Kristianto 1 (satu) unit Sepeda Motor honda scoopy warna cream abu-abu Nomor Polisi DK 5628 ADR beserta Kunci Kontak Dikembalikan kepada Tedakwa 2. Kurniadi Prayoga Membebankan kepada Para Terdakwa untuk membayar biaya perkara masing-masing sejumlah Rp 5000,00 (lima ribu rupiah)",
         "Ketiga terdakwa didakwa atas tindak pidana pencurian dengan pemberatan yang dilakukan secara bersama-sama. Pada hari Sabtu, 18 Mei 2024, sekitar pukul 09.00 WITA, di Pantai Keramas, Gianyar, mereka mencuri barang-barang dari sebuah mobil Toyota Avanza milik Yuji Waki, seorang warga negara Jepang.  Para terdakwa berangkat dari kos Kurniadi Prayuda di Denpasar menuju Pantai Keramas. Setibanya di sana, Yudi Kristanto melihat mobil korban yang terparkir dan korban sedang berselancar di pantai. Yudi Kristanto kemudian memecahkan kaca mobil dengan batu dan mengambil barang-barang di dalamnya, yaitu tas berisi ponsel, kamera Go Pro, dompet berisi uang, celana pendek, dan baterai kamera.  Kurniadi Prayuda bertugas mengawasi situasi di atas sepeda motor, sementara Muhammad Rizal alias Iceng mengawasi situasi di jalan masuk pantai.  Atas perbuatannya, ketiga terdakwa didakwa dengan dakwaan primair Pasal 363 Ayat (1) ke-4 dan ke-5 KUHP tentang pencurian dengan pemberatan yang dilakukan secara bersama-sama. Sebagai dakwaan subsidair, mereka didakwa dengan Pasal 363 Ayat (1) ke-4 KUHP. Akibat perbuatan terdakwa, Yuji Waki mengalami kerugian sekitar Rp 14.400.000.",
         "MUHAMAD RIZAL Als ICENG",
         "17.0"
        ],
        [
         "48",
         "0",
         "28",
         "8",
         "3",
         "- 1 (satu) buah Kotak Iphone 13 merek Apple dengan nomor Imei 352094679433646 - 1 (satu) lembar Nota Pembelian 1 (satu) unit Iphone 13 merek Apple warna Putih dengan nomor Imei 352094679433646 dari Toko RA GADGET tertanggal 25 Mei 2023 - 1 (satu) unit Iphone 13 merek Apple warna Putih dengan nomor Imei 352094679433646 Dikembalikan kepada Saksi I Kadek Saputra - 1 (satu) buah Kotak Iphone 12 Pro merek Apple Dirampas untuk dimusnahkan - 1 (satu) unit Handphone merek Samsung A04 warna Rose Gold dengan Pelindung warna Hitam Dikembalikan kepada Saksi I Wayan Windra - 1 (satu) buah Flashdisk merek V-GEN warna Hitam yang berisi rekaman kamera CCTV di Toko JS Phone yang berlokasi di Jalan Cok Gde Rai nomor 6, Desa Peliatan, Kecamatan Ubud, Kabupaten Gianyar pada hari Jumat, tanggal 03 November 2023 Tetap terlampir dalam berkas perkara 6. Membebankan kepada Terdakwa untuk membayar biaya perkara sejumlah Rp 5000,00 (lima ribu rupiah)",
         "Putu Baskara Putra didakwa atas dua tindak pidana: pencurian dan penadahan. Pada hari Jumat, 3 November 2023, sekitar pukul 05.30 WITA, di BSK INK Tatto, Ubud, Gianyar, terdakwa mengambil ponsel iPhone 13 milik I Kadek Saputra yang sedang diisi daya di atas meja studio. Saat itu, korban sedang tertidur.  Setelah mengambil ponsel tersebut, terdakwa menyembunyikannya di kamarnya, menonaktifkannya, dan membuang kartu SIM agar tidak terlacak. Ketika korban mencari ponselnya, terdakwa berpura-pura membantu mencari. Setelah korban pergi, terdakwa menggadaikan ponsel tersebut di Toko JS Phone sekitar pukul 12.52 WITA.  Atas perbuatannya, Putu Baskara Putra didakwa dengan dakwaan pertama Pasal 362 KUHP tentang pencurian. Sebagai alternatif, ia didakwa dengan dakwaan kedua Pasal 480 ke-1 KUHP tentang penadahan. Akibat perbuatan terdakwa, I Kadek Saputra mengalami kerugian sekitar Rp 13.000.000.",
         "PUTU BASKARA PUTRA",
         "12.0"
        ],
        [
         "49",
         "0",
         "28",
         "9",
         "2",
         "(dua) buah dus/kotak HP antara lain 1 (satu) buah dus/kotak HP Merk Infinix Note 30 Pro warna Gold dengan Nomor Imei 1 350880533662822 dan Nomor Imei 2 350880533662830 dan 1 (satu) buah dus/kotak HP Merk Infinix Note 30 Pro warna Hitam dengan Nomor Imei 1 350880533630126 dan Nomor Imei 2 350880533630134 2 (dua) Unit Hp antara lain 1 (satu) Unit HP Merk Infinix Note 30 Pro warna Gold dengan Nomor Imei 1 350880533662822 dan Nomor Imei 2 350880533662830 dan 1 (satu) Unit HP Merk Infinix Note 30 Pro warna Hitam dengan Nomor Imei 1 350880533630126 dan Nomor Imei 2 350880533630134 Barang bukti nomor 1 sampai dengan nomor 2 dikembalikan kepada Saksi Korban Eka Diana Mahira 1 (satu) unit Sepeda Motor Merk Honda PCX, Type V1J02Q32LO A/T, Nomor Polisi DK 6850 FAV, Tahun Pembuatan 2018, Warna Putih, Nomor Rangka MH1KF221XJK045360, Nomor Mesin KF22E1045441, atas nama DOY SAFANDO alamat Jl. Teras Bukit 4 No. 2 Jimbaran Kuta Selatan Badung berikut dengan remote kontak dan STNK sepeda motor dimaksud serta BPKBnya 1 (satu) potong baju kaos lengan pendek warna putih merk RIPCURL yang di dada kanan ada tulisan RIPCURL warna biru 1 (satu) potong celana pendek merk KENDY berdasar hitam bercorak garis menyilang berwarna silver Barang bukti nomor 3 sampai dengan nomor 5 dikembalikan kepada Terdakwa Membebankan kepada Terdakwa membayar biaya perkara sejumlah Rp5.000,00 (lima ribu rupiah)",
         "Saiful Rohman didakwa atas tindak pidana pencurian dengan pemberatan. Pada hari Sabtu, 10 Februari 2024, sekitar pukul 00.30 WITA, di rumah Eka Diana Mahira di Ketewel, Sukawati, Gianyar, terdakwa mengambil dua unit ponsel Infinix Note 30 Pro milik korban.  Terdakwa datang ke rumah korban tanpa izin. Setelah melihat seorang pria di taman depan rumah, terdakwa memanjat tembok setinggi 2,5 meter dan masuk ke dalam rumah melalui bagian belakang ruang tamu yang tidak berpintu. Di dalam rumah, terdakwa mengambil dua ponsel yang sedang diisi daya dan membawanya kabur.  Atas perbuatannya, Saiful Rohman didakwa dengan dakwaan primair Pasal 363 ayat (2) KUHP tentang pencurian dengan pemberatan. Sebagai dakwaan subsidair, ia didakwa dengan Pasal 362 KUHP tentang pencurian. Akibat perbuatan terdakwa, Eka Diana Mahira mengalami kerugian sekitar Rp 6.000.000.",
         "SAIFUL ROHMAN",
         "14.0"
        ]
       ],
       "shape": {
        "columns": 8,
        "rows": 159
       }
      },
      "text/html": [
       "<div>\n",
       "<style scoped>\n",
       "    .dataframe tbody tr th:only-of-type {\n",
       "        vertical-align: middle;\n",
       "    }\n",
       "\n",
       "    .dataframe tbody tr th {\n",
       "        vertical-align: top;\n",
       "    }\n",
       "\n",
       "    .dataframe thead th {\n",
       "        text-align: right;\n",
       "    }\n",
       "</style>\n",
       "<table border=\"1\" class=\"dataframe\">\n",
       "  <thead>\n",
       "    <tr style=\"text-align: right;\">\n",
       "      <th></th>\n",
       "      <th>klasifikasi_perkara_encoded</th>\n",
       "      <th>penuntut_umum_encoded</th>\n",
       "      <th>hakim_encoded</th>\n",
       "      <th>jumlah_saksi</th>\n",
       "      <th>cleaned_barang_bukti</th>\n",
       "      <th>summarized_dakwaan</th>\n",
       "      <th>terdakwa</th>\n",
       "      <th>total_pidana_penjara_bulan</th>\n",
       "    </tr>\n",
       "  </thead>\n",
       "  <tbody>\n",
       "    <tr>\n",
       "      <th>0</th>\n",
       "      <td>0</td>\n",
       "      <td>0</td>\n",
       "      <td>0</td>\n",
       "      <td>6</td>\n",
       "      <td>1 (satu) buah sabit kecil dengan gagang dari k...</td>\n",
       "      <td>Bahwa ia terdakwa Gede Darmayasa pada hari sel...</td>\n",
       "      <td>GEDE DARMAYASA</td>\n",
       "      <td>5.0</td>\n",
       "    </tr>\n",
       "    <tr>\n",
       "      <th>1</th>\n",
       "      <td>0</td>\n",
       "      <td>0</td>\n",
       "      <td>1</td>\n",
       "      <td>6</td>\n",
       "      <td>1 (satu) buah Kotak/Box handphone merk OPPO ty...</td>\n",
       "      <td>Terdakwa Handri Johanes didakwa melakukan penc...</td>\n",
       "      <td>HANDRI JOHANAS</td>\n",
       "      <td>4.0</td>\n",
       "    </tr>\n",
       "    <tr>\n",
       "      <th>2</th>\n",
       "      <td>1</td>\n",
       "      <td>1</td>\n",
       "      <td>2</td>\n",
       "      <td>2</td>\n",
       "      <td>1 (satu) buah plastik klip bening yang berisi ...</td>\n",
       "      <td>Dakwaan Pertama: Pada 14 April 2024, sekitar p...</td>\n",
       "      <td>I GEDE ARIADI alias BERNAD</td>\n",
       "      <td>14.0</td>\n",
       "    </tr>\n",
       "    <tr>\n",
       "      <th>3</th>\n",
       "      <td>1</td>\n",
       "      <td>2</td>\n",
       "      <td>2</td>\n",
       "      <td>2</td>\n",
       "      <td>1 (satu) buah plastik klip bening yang berisi ...</td>\n",
       "      <td>Dakwaan Pertama: Pada 14 April 2024, sekitar p...</td>\n",
       "      <td>I GEDE ARIADI alias BERNAD</td>\n",
       "      <td>14.0</td>\n",
       "    </tr>\n",
       "    <tr>\n",
       "      <th>4</th>\n",
       "      <td>0</td>\n",
       "      <td>3</td>\n",
       "      <td>2</td>\n",
       "      <td>4</td>\n",
       "      <td>1 (satu) unit sepeda motor merk Honda Scoopy w...</td>\n",
       "      <td>Pada 26 Maret 2024 pukul 17.10 WITA di pinggir...</td>\n",
       "      <td>R. Sabirin</td>\n",
       "      <td>14.0</td>\n",
       "    </tr>\n",
       "    <tr>\n",
       "      <th>...</th>\n",
       "      <td>...</td>\n",
       "      <td>...</td>\n",
       "      <td>...</td>\n",
       "      <td>...</td>\n",
       "      <td>...</td>\n",
       "      <td>...</td>\n",
       "      <td>...</td>\n",
       "      <td>...</td>\n",
       "    </tr>\n",
       "    <tr>\n",
       "      <th>154</th>\n",
       "      <td>0</td>\n",
       "      <td>56</td>\n",
       "      <td>14</td>\n",
       "      <td>4</td>\n",
       "      <td>2 (dua) buah MacBook Air merk Apple warna Grey...</td>\n",
       "      <td>I Gede Wahyu Arianta dan Feri Mananue didakwa ...</td>\n",
       "      <td>GEDE WAHYU ARIANTA</td>\n",
       "      <td>26.0</td>\n",
       "    </tr>\n",
       "    <tr>\n",
       "      <th>155</th>\n",
       "      <td>0</td>\n",
       "      <td>56</td>\n",
       "      <td>14</td>\n",
       "      <td>4</td>\n",
       "      <td>2 (dua) buah MacBook Air merk Apple warna Grey...</td>\n",
       "      <td>I Gede Wahyu Arianta dan Feri Mananue didakwa ...</td>\n",
       "      <td>FERI MANANUE</td>\n",
       "      <td>26.0</td>\n",
       "    </tr>\n",
       "    <tr>\n",
       "      <th>156</th>\n",
       "      <td>0</td>\n",
       "      <td>47</td>\n",
       "      <td>8</td>\n",
       "      <td>4</td>\n",
       "      <td>1 (satu) unit sepeda motor Yamaha RXS tahun 19...</td>\n",
       "      <td>Reza Aditya Pratama dan Kadek Agus Yudi Pranat...</td>\n",
       "      <td>Reza Aditya Pratama Als Reza</td>\n",
       "      <td>20.0</td>\n",
       "    </tr>\n",
       "    <tr>\n",
       "      <th>157</th>\n",
       "      <td>0</td>\n",
       "      <td>47</td>\n",
       "      <td>8</td>\n",
       "      <td>4</td>\n",
       "      <td>1 (satu) unit sepeda motor Yamaha RXS tahun 19...</td>\n",
       "      <td>Reza Aditya Pratama dan Kadek Agus Yudi Pranat...</td>\n",
       "      <td>Kadek Agus Yudi Pranata Als Agus</td>\n",
       "      <td>20.0</td>\n",
       "    </tr>\n",
       "    <tr>\n",
       "      <th>158</th>\n",
       "      <td>0</td>\n",
       "      <td>38</td>\n",
       "      <td>15</td>\n",
       "      <td>2</td>\n",
       "      <td>1 (satu) Unit Handphone merek Redmi Note 10S w...</td>\n",
       "      <td>Tentu, berikut ringkasan dakwaan terhadap Agus...</td>\n",
       "      <td>AGUS JAENUDIN</td>\n",
       "      <td>4.0</td>\n",
       "    </tr>\n",
       "  </tbody>\n",
       "</table>\n",
       "<p>159 rows × 8 columns</p>\n",
       "</div>"
      ],
      "text/plain": [
       "     klasifikasi_perkara_encoded  penuntut_umum_encoded  hakim_encoded  \\\n",
       "0                              0                      0              0   \n",
       "1                              0                      0              1   \n",
       "2                              1                      1              2   \n",
       "3                              1                      2              2   \n",
       "4                              0                      3              2   \n",
       "..                           ...                    ...            ...   \n",
       "154                            0                     56             14   \n",
       "155                            0                     56             14   \n",
       "156                            0                     47              8   \n",
       "157                            0                     47              8   \n",
       "158                            0                     38             15   \n",
       "\n",
       "     jumlah_saksi                               cleaned_barang_bukti  \\\n",
       "0               6  1 (satu) buah sabit kecil dengan gagang dari k...   \n",
       "1               6  1 (satu) buah Kotak/Box handphone merk OPPO ty...   \n",
       "2               2  1 (satu) buah plastik klip bening yang berisi ...   \n",
       "3               2  1 (satu) buah plastik klip bening yang berisi ...   \n",
       "4               4  1 (satu) unit sepeda motor merk Honda Scoopy w...   \n",
       "..            ...                                                ...   \n",
       "154             4  2 (dua) buah MacBook Air merk Apple warna Grey...   \n",
       "155             4  2 (dua) buah MacBook Air merk Apple warna Grey...   \n",
       "156             4  1 (satu) unit sepeda motor Yamaha RXS tahun 19...   \n",
       "157             4  1 (satu) unit sepeda motor Yamaha RXS tahun 19...   \n",
       "158             2  1 (satu) Unit Handphone merek Redmi Note 10S w...   \n",
       "\n",
       "                                    summarized_dakwaan  \\\n",
       "0    Bahwa ia terdakwa Gede Darmayasa pada hari sel...   \n",
       "1    Terdakwa Handri Johanes didakwa melakukan penc...   \n",
       "2    Dakwaan Pertama: Pada 14 April 2024, sekitar p...   \n",
       "3    Dakwaan Pertama: Pada 14 April 2024, sekitar p...   \n",
       "4    Pada 26 Maret 2024 pukul 17.10 WITA di pinggir...   \n",
       "..                                                 ...   \n",
       "154  I Gede Wahyu Arianta dan Feri Mananue didakwa ...   \n",
       "155  I Gede Wahyu Arianta dan Feri Mananue didakwa ...   \n",
       "156  Reza Aditya Pratama dan Kadek Agus Yudi Pranat...   \n",
       "157  Reza Aditya Pratama dan Kadek Agus Yudi Pranat...   \n",
       "158  Tentu, berikut ringkasan dakwaan terhadap Agus...   \n",
       "\n",
       "                             terdakwa  total_pidana_penjara_bulan  \n",
       "0                      GEDE DARMAYASA                         5.0  \n",
       "1                      HANDRI JOHANAS                         4.0  \n",
       "2          I GEDE ARIADI alias BERNAD                        14.0  \n",
       "3          I GEDE ARIADI alias BERNAD                        14.0  \n",
       "4                          R. Sabirin                        14.0  \n",
       "..                                ...                         ...  \n",
       "154                GEDE WAHYU ARIANTA                        26.0  \n",
       "155                      FERI MANANUE                        26.0  \n",
       "156      Reza Aditya Pratama Als Reza                        20.0  \n",
       "157  Kadek Agus Yudi Pranata Als Agus                        20.0  \n",
       "158                     AGUS JAENUDIN                         4.0  \n",
       "\n",
       "[159 rows x 8 columns]"
      ]
     },
     "execution_count": 14,
     "metadata": {},
     "output_type": "execute_result"
    }
   ],
   "source": [
    "df_filtered"
   ]
  },
  {
   "cell_type": "markdown",
   "metadata": {},
   "source": [
    "## Model"
   ]
  },
  {
   "cell_type": "markdown",
   "metadata": {},
   "source": [
    "### Model Preprocessing"
   ]
  },
  {
   "cell_type": "code",
   "execution_count": 15,
   "metadata": {},
   "outputs": [],
   "source": [
    "train_df['concat_text'] = train_df[['cleaned_barang_bukti', 'summarized_dakwaan', 'terdakwa']].apply(lambda x: ' '.join(x), axis=1)\n",
    "test_df['concat_text'] = test_df[['cleaned_barang_bukti', 'summarized_dakwaan', 'terdakwa']].apply(lambda x: ' '.join(x), axis=1)"
   ]
  },
  {
   "cell_type": "code",
   "execution_count": 16,
   "metadata": {},
   "outputs": [],
   "source": [
    "y_train = train_df['total_pidana_penjara_bulan']\n",
    "y_test = test_df['total_pidana_penjara_bulan']"
   ]
  },
  {
   "cell_type": "markdown",
   "metadata": {},
   "source": [
    "### Normalisasi"
   ]
  },
  {
   "cell_type": "code",
   "execution_count": 17,
   "metadata": {},
   "outputs": [],
   "source": [
    "def normalize_text(text):\n",
    "    text = text.lower()\n",
    "    text = re.sub(r'[^a-z\\s]', '', text)\n",
    "    text = re.sub(r'\\s+', ' ', text).strip()\n",
    "    return text\n",
    "\n",
    "train_df['normalized_text'] = train_df['concat_text'].apply(normalize_text)\n",
    "test_df['normalized_text'] = test_df['concat_text'].apply(normalize_text)"
   ]
  },
  {
   "cell_type": "markdown",
   "metadata": {},
   "source": [
    "### Stopwords Removal"
   ]
  },
  {
   "cell_type": "code",
   "execution_count": 18,
   "metadata": {},
   "outputs": [
    {
     "name": "stderr",
     "output_type": "stream",
     "text": [
      "[nltk_data] Downloading package stopwords to\n",
      "[nltk_data]     C:\\Users\\Kalea\\AppData\\Roaming\\nltk_data...\n",
      "[nltk_data]   Package stopwords is already up-to-date!\n"
     ]
    }
   ],
   "source": [
    "nltk.download('stopwords')\n",
    "\n",
    "stop_words = set(stopwords.words('indonesian'))\n",
    "\n",
    "def remove_stopwords(text):\n",
    "    return ' '.join([word for word in text.split() if word not in stop_words])\n",
    "\n",
    "train_df['stopword_removal'] = train_df['normalized_text'].apply(remove_stopwords)\n",
    "test_df['stopword_removal'] = test_df['normalized_text'].apply(remove_stopwords)"
   ]
  },
  {
   "cell_type": "markdown",
   "metadata": {},
   "source": [
    "### Stemming"
   ]
  },
  {
   "cell_type": "code",
   "execution_count": 19,
   "metadata": {},
   "outputs": [],
   "source": [
    "stemmer = PorterStemmer()\n",
    "\n",
    "def stem_text(text):\n",
    "    return ' '.join([stemmer.stem(word) for word in text.split()])\n",
    "\n",
    "train_df['stemmed_text'] = train_df['stopword_removal'].apply(stem_text)\n",
    "test_df['stemmed_text'] = test_df['stopword_removal'].apply(stem_text)"
   ]
  },
  {
   "cell_type": "markdown",
   "metadata": {},
   "source": [
    "### Tokenizer"
   ]
  },
  {
   "cell_type": "code",
   "execution_count": 20,
   "metadata": {},
   "outputs": [],
   "source": [
    "# Tokenisasi\n",
    "tokenizer = tf.keras.preprocessing.text.Tokenizer()\n",
    "\n",
    "tokenizer.fit_on_texts(train_df['stemmed_text'])\n",
    "train_sequences = tokenizer.texts_to_sequences(train_df['stemmed_text'])\n",
    "test_sequences = tokenizer.texts_to_sequences(test_df['stemmed_text'])"
   ]
  },
  {
   "cell_type": "code",
   "execution_count": 21,
   "metadata": {},
   "outputs": [],
   "source": [
    "# Padding\n",
    "max_len = max(len(seq) for seq in train_sequences)\n",
    "X_train_texts = tf.keras.preprocessing.sequence.pad_sequences(train_sequences, maxlen=max_len, padding='post')\n",
    "X_test_texts = tf.keras.preprocessing.sequence.pad_sequences(test_sequences, maxlen=max_len, padding='post')"
   ]
  },
  {
   "cell_type": "code",
   "execution_count": 22,
   "metadata": {},
   "outputs": [
    {
     "name": "stdout",
     "output_type": "stream",
     "text": [
      "800\n"
     ]
    }
   ],
   "source": [
    "print(max_len)"
   ]
  },
  {
   "cell_type": "markdown",
   "metadata": {},
   "source": [
    "### Numerical Features"
   ]
  },
  {
   "cell_type": "code",
   "execution_count": 23,
   "metadata": {},
   "outputs": [],
   "source": [
    "train_numerical = tf.constant(train_df[['klasifikasi_perkara_encoded', 'penuntut_umum_encoded', 'hakim_encoded', 'jumlah_saksi']].values, dtype=tf.float32)\n",
    "test_numerical = tf.constant(test_df[['klasifikasi_perkara_encoded', 'penuntut_umum_encoded', 'hakim_encoded', 'jumlah_saksi']].values, dtype=tf.float32)\n",
    "\n"
   ]
  },
  {
   "cell_type": "markdown",
   "metadata": {},
   "source": [
    "### Model Architecture"
   ]
  },
  {
   "cell_type": "code",
   "execution_count": 24,
   "metadata": {},
   "outputs": [],
   "source": [
    "text_input = tf.keras.layers.Input(shape=(max_len,), name='text_input')\n",
    "embedding_layer = tf.keras.layers.Embedding(input_dim=len(tokenizer.word_index) + 1, output_dim=128)(text_input)\n",
    "lstm_output = tf.keras.layers.LSTM(16, return_sequences=True)(embedding_layer)\n",
    "lstm_output_2 = tf.keras.layers.LSTM(32, return_sequences=True)(lstm_output)\n",
    "lstm_output_3 = tf.keras.layers.LSTM(64)(lstm_output_2)\n",
    "\n",
    "numerical_input = tf.keras.layers.Input(shape=(train_numerical.shape[1],), name='numerical_input')\n",
    "numerical_dense = tf.keras.layers.Dense(32, activation='relu')(numerical_input)\n",
    "numerical_dense_2 = tf.keras.layers.Dense(16, activation='relu')(numerical_dense)\n",
    "\n",
    "combined = tf.keras.layers.Concatenate()([lstm_output_3, numerical_dense])\n",
    "\n",
    "output = tf.keras.layers.Dense(1, activation='linear')(combined)\n"
   ]
  },
  {
   "cell_type": "code",
   "execution_count": 26,
   "metadata": {},
   "outputs": [
    {
     "name": "stdout",
     "output_type": "stream",
     "text": [
      "Model: \"model\"\n",
      "__________________________________________________________________________________________________\n",
      " Layer (type)                   Output Shape         Param #     Connected to                     \n",
      "==================================================================================================\n",
      " text_input (InputLayer)        [(None, 800)]        0           []                               \n",
      "                                                                                                  \n",
      " embedding (Embedding)          (None, 800, 128)     383104      ['text_input[0][0]']             \n",
      "                                                                                                  \n",
      " lstm (LSTM)                    (None, 800, 16)      9280        ['embedding[0][0]']              \n",
      "                                                                                                  \n",
      " lstm_1 (LSTM)                  (None, 800, 32)      6272        ['lstm[0][0]']                   \n",
      "                                                                                                  \n",
      " numerical_input (InputLayer)   [(None, 4)]          0           []                               \n",
      "                                                                                                  \n",
      " lstm_2 (LSTM)                  (None, 64)           24832       ['lstm_1[0][0]']                 \n",
      "                                                                                                  \n",
      " dense (Dense)                  (None, 32)           160         ['numerical_input[0][0]']        \n",
      "                                                                                                  \n",
      " concatenate (Concatenate)      (None, 96)           0           ['lstm_2[0][0]',                 \n",
      "                                                                  'dense[0][0]']                  \n",
      "                                                                                                  \n",
      " dense_2 (Dense)                (None, 1)            97          ['concatenate[0][0]']            \n",
      "                                                                                                  \n",
      "==================================================================================================\n",
      "Total params: 423,745\n",
      "Trainable params: 423,745\n",
      "Non-trainable params: 0\n",
      "__________________________________________________________________________________________________\n"
     ]
    }
   ],
   "source": [
    "model = tf.keras.Model(inputs=[text_input, numerical_input], outputs=output)\n",
    "\n",
    "model.compile(optimizer='adam', loss='mse', metrics=['mean_absolute_error', tf.keras.metrics.RootMeanSquaredError()])\n",
    "model.summary()"
   ]
  },
  {
   "cell_type": "code",
   "execution_count": 27,
   "metadata": {},
   "outputs": [
    {
     "name": "stdout",
     "output_type": "stream",
     "text": [
      "Epoch 1/15\n",
      "4/4 [==============================] - 12s 683ms/step - loss: 658.2129 - mean_absolute_error: 21.0931 - root_mean_squared_error: 25.6557 - val_loss: 382.0134 - val_mean_absolute_error: 17.9852 - val_root_mean_squared_error: 19.5452\n",
      "Epoch 2/15\n",
      "4/4 [==============================] - 1s 235ms/step - loss: 618.6685 - mean_absolute_error: 20.1397 - root_mean_squared_error: 24.8730 - val_loss: 340.7228 - val_mean_absolute_error: 16.8200 - val_root_mean_squared_error: 18.4587\n",
      "Epoch 3/15\n",
      "4/4 [==============================] - 1s 209ms/step - loss: 567.4781 - mean_absolute_error: 18.8515 - root_mean_squared_error: 23.8218 - val_loss: 281.1916 - val_mean_absolute_error: 14.9635 - val_root_mean_squared_error: 16.7688\n",
      "Epoch 4/15\n",
      "4/4 [==============================] - 1s 224ms/step - loss: 497.2331 - mean_absolute_error: 16.7639 - root_mean_squared_error: 22.2987 - val_loss: 211.5673 - val_mean_absolute_error: 12.4347 - val_root_mean_squared_error: 14.5454\n",
      "Epoch 5/15\n",
      "4/4 [==============================] - 1s 229ms/step - loss: 426.0849 - mean_absolute_error: 14.5517 - root_mean_squared_error: 20.6418 - val_loss: 165.8261 - val_mean_absolute_error: 10.5614 - val_root_mean_squared_error: 12.8773\n",
      "Epoch 6/15\n",
      "4/4 [==============================] - 1s 223ms/step - loss: 376.0637 - mean_absolute_error: 13.0247 - root_mean_squared_error: 19.3924 - val_loss: 133.4310 - val_mean_absolute_error: 9.2962 - val_root_mean_squared_error: 11.5512\n",
      "Epoch 7/15\n",
      "4/4 [==============================] - 1s 250ms/step - loss: 339.0627 - mean_absolute_error: 11.8587 - root_mean_squared_error: 18.4137 - val_loss: 109.0053 - val_mean_absolute_error: 8.2108 - val_root_mean_squared_error: 10.4406\n",
      "Epoch 8/15\n",
      "4/4 [==============================] - 1s 254ms/step - loss: 309.7984 - mean_absolute_error: 10.9503 - root_mean_squared_error: 17.6011 - val_loss: 90.7065 - val_mean_absolute_error: 7.3448 - val_root_mean_squared_error: 9.5240\n",
      "Epoch 9/15\n",
      "4/4 [==============================] - 1s 221ms/step - loss: 286.7762 - mean_absolute_error: 10.2038 - root_mean_squared_error: 16.9345 - val_loss: 77.5759 - val_mean_absolute_error: 6.7179 - val_root_mean_squared_error: 8.8077\n",
      "Epoch 10/15\n",
      "4/4 [==============================] - 1s 216ms/step - loss: 269.1819 - mean_absolute_error: 9.6166 - root_mean_squared_error: 16.4068 - val_loss: 69.0502 - val_mean_absolute_error: 6.2445 - val_root_mean_squared_error: 8.3096\n",
      "Epoch 11/15\n",
      "4/4 [==============================] - 1s 234ms/step - loss: 256.2957 - mean_absolute_error: 9.2884 - root_mean_squared_error: 16.0092 - val_loss: 63.9740 - val_mean_absolute_error: 5.9924 - val_root_mean_squared_error: 7.9984\n",
      "Epoch 12/15\n",
      "4/4 [==============================] - 1s 226ms/step - loss: 248.1394 - mean_absolute_error: 9.0823 - root_mean_squared_error: 15.7524 - val_loss: 61.2685 - val_mean_absolute_error: 5.9030 - val_root_mean_squared_error: 7.8274\n",
      "Epoch 13/15\n",
      "4/4 [==============================] - 1s 227ms/step - loss: 242.1080 - mean_absolute_error: 8.9621 - root_mean_squared_error: 15.5598 - val_loss: 60.1701 - val_mean_absolute_error: 5.9380 - val_root_mean_squared_error: 7.7569\n",
      "Epoch 14/15\n",
      "4/4 [==============================] - 1s 229ms/step - loss: 238.0455 - mean_absolute_error: 8.9557 - root_mean_squared_error: 15.4287 - val_loss: 60.0814 - val_mean_absolute_error: 6.0425 - val_root_mean_squared_error: 7.7512\n",
      "Epoch 15/15\n",
      "4/4 [==============================] - 1s 221ms/step - loss: 235.3094 - mean_absolute_error: 8.9346 - root_mean_squared_error: 15.3398 - val_loss: 60.5259 - val_mean_absolute_error: 6.1729 - val_root_mean_squared_error: 7.7798\n"
     ]
    }
   ],
   "source": [
    "history = model.fit([X_train_texts, train_numerical], y_train, epochs=15, batch_size=32, validation_data=([X_test_texts, test_numerical], y_test))"
   ]
  },
  {
   "cell_type": "code",
   "execution_count": 28,
   "metadata": {},
   "outputs": [
    {
     "name": "stdout",
     "output_type": "stream",
     "text": [
      "2/2 [==============================] - 0s 114ms/step - loss: 60.5259 - mean_absolute_error: 6.1729 - root_mean_squared_error: 7.7798\n",
      "Model Loss: [60.52585983276367, 6.172872543334961, 7.779836654663086]\n"
     ]
    }
   ],
   "source": [
    "loss = model.evaluate([X_test_texts, test_numerical], y_test)\n",
    "print(f'Model Loss: {loss}')"
   ]
  },
  {
   "cell_type": "code",
   "execution_count": 29,
   "metadata": {},
   "outputs": [
    {
     "data": {
      "image/png": "[encoded data removed]",
      "text/plain": [
       "<Figure size 640x480 with 1 Axes>"
      ]
     },
     "metadata": {},
     "output_type": "display_data"
    },
    {
     "data": {
      "image/png": "[encoded data removed]",
      "text/plain": [
       "<Figure size 640x480 with 1 Axes>"
      ]
     },
     "metadata": {},
     "output_type": "display_data"
    },
    {
     "data": {
      "image/png": "[encoded data removed]",
      "text/plain": [
       "<Figure size 640x480 with 1 Axes>"
      ]
     },
     "metadata": {},
     "output_type": "display_data"
    }
   ],
   "source": [
    "plt.plot(history.history['mean_absolute_error'])\n",
    "plt.plot(history.history['val_mean_absolute_error'])\n",
    "plt.title('Model Mean Absolute Error')\n",
    "plt.ylabel('Mean Absolute Error')\n",
    "plt.xlabel('Epoch')\n",
    "plt.legend(['Train', 'Validation'], loc='upper left')\n",
    "plt.show()\n",
    "\n",
    "plt.plot(history.history['loss'])\n",
    "plt.plot(history.history['val_loss'])\n",
    "plt.title('Model Loss')\n",
    "plt.ylabel('Loss')\n",
    "plt.xlabel('Epoch')\n",
    "plt.legend(['Train', 'Validation'], loc='upper left')\n",
    "plt.show()\n",
    "\n",
    "plt.plot(history.history['root_mean_squared_error'])\n",
    "plt.plot(history.history['val_root_mean_squared_error'])\n",
    "plt.title('Model Root Mean Squared Error')\n",
    "plt.ylabel('Root Mean Squared Error')\n",
    "plt.xlabel('Epoch')\n",
    "plt.legend(['Train', 'Validation'], loc='upper left')\n",
    "plt.show()"
   ]
  },
  {
   "cell_type": "markdown",
   "metadata": {},
   "source": [
    "### Inference"
   ]
  },
  {
   "cell_type": "code",
   "execution_count": 31,
   "metadata": {},
   "outputs": [
    {
     "name": "stdout",
     "output_type": "stream",
     "text": [
      "1/1 [==============================] - 0s 162ms/step\n",
      "Predicted Putusan: [12.190619]\n"
     ]
    }
   ],
   "source": [
    "klasifikasi_perkara_encoded = 0\n",
    "penuntut_umum_encoded = 0\n",
    "hakim_encoded = 7\n",
    "jumlah_saksi_inference = 6\n",
    "\n",
    "inference_text = [\"buah sabit gagang kayu buah jare plastik paranet warna hitam uta tali plastik warna biru meter puluh buah kantong plastik kresek uta tali kain warna merah cm dimusnahkan unit mobil merek suzuki st pick up warna hitam dk kc noka mhyesljj nosin gaid beserta kunci kontak lembar stnk mobil merek suzuki st pick up warna hitam dk kc noka mhyesljj nosin gaid nama pemilik an i kadek kondrayasa dikembalikan i gede agu wirayuda buah durian jeni durian kane dikembalikan i wayan sukaren lembar nota pembelian buah durian toko tiara durian dikembalikan komang ayu anggreni bela buah durian jeni durian kane lembar nota pembelian buah durian toko semut durian dikembalikan komang sujana uang tunai rp ratu delapan puluh tujuh ribu rupiah dirampa negara membebankan terdakwa membayar biaya perkara rp ribu rupiah terdakwa gede darmayasa selasa tanggal mei sekira jam wita selasa tanggal mei sekira jam wita sabtu tanggal mei sekira jam wita setidaktidaknya mei setidaktidaknya kebun milik i wayan sukerena banjar desa bunutin kecamatan kintamani kab bangli kebun milik i nyoman susila banjar desa bunutin kecamatan kintamani kab bangli kebun milik i ketut tindih banjar desa pengejaran kecamatan kintamani kab bangli setidaktidaknya daerah hukum pengadilan negeri bangli perbuatan dipandang perbuatan berdiri kejahatan mengambil barang kepunyaan orang maksud dimiliki melawan hukum terdakwa caracara selasa tanggal mei sekira wita terdakwa berangkat rumah terdakwa br dina pudeh ds tajun kec kubutambahan kab buleleng mobil suzuki carri pick up warna hitam dk kc pergi brd bunutin kec kintamani kab bangli melewati simpang pasar tenten kintamani tujuan memb menawarkan buah durian dipohonnya sesampainya terdakwa brd bunutin kec kintamani kab bangli sekira wita terdakwa pohon durian berbuah kebun milik i wayan sukerena dipinggir jalan raya ds bunutin kec kintamani kab bangli situasi sepi terdakwa melihatlihat buah durian menemukan buah dipetik terdakwa memetik buah durian memanjat pohon durian sabit memotong buah durian pohon bergiliran buah durian terdakwa petik puluh tujuh buahsetelah terkumpul buah durian terdakwa naikan mobil suzuki carri pick up warna hitam dk kc terdakwa kendarai buah durian diata mobil terdakwa meninggalkan kebun milik i wayan sukerena perjalanan terdakwa dipinggir jalan raya ds bunutin kintamani pohon durian berbuah terdakwa turun memarkir mobil suzuki carri pick up warna hitam dk kc dipinggir jalan raya berjalan kaki terdakwa kebun milik i nyoman susila brd bunutin kec kintamani kab bangli sekira wita pohon durian berbuah terdakwa memanjat pohon durian pohon bergantian memetik sabit menurunkan buah durian puluh tujuh buah buah durian turun terkumpul terdakwa naikan mobil suzuki carri pick up warna hitam dk kc terdakwa tutupi buah durian diata mobil jare plastik warna hitam terdakwa ikat tali plastik warna biru buah durian aman diata mobil terdakwa meninggalkan brd bunutin kec kintamani kab bangli rumah terdakwa br dina pudeh ds tajun kac kubutambahan kab buleleng dirumah wita terdakwa langsung menjual durian saksi komang ayu anggreni batu barak desa tajun kec kubutambahan kab buleleng puluh buah berat seratu delapan puluh kg harga rp juta ratu enam bela ribu rupiah sisa buah durian puluh tujuh buah terdakwa bawa pulang kerumah kami tanggal mei sekira wita terdakwa menjual durian jeni durian kane komang sujana gudang milik komang sujana puluh buah durian berat kg buah durian hasil mencuri selasa tanggal mei brd bunutin kec kintamani kab bangli buah durian hasil terdakwa memb petani terdakwa jual harga total rp juta ratu ribu rupiah sabtu tanggal mei sekira wita terdakwa berangkat rumah terdakwa br dina pudeh ds tajun kec kubutambahan kab buleleng mobil suzuki carri pick up warna hitam dk kc pergi brd pengejaran kec kintamani kab bangli sesampainya terdakwa brd pengejaran kec kintamani kab bangli sekira wita melewati simpang lampu terdakwa dikebun milik i ketut tindih berlokasi pinggir jalan raya ds pengejaran situasi sepi terdakwa memanjat pohon durian pohon bergantian memetik buah durian sabit buah menjatuhkan buah durian ketanah terdakwa mengumpulkan buah durian terdakwa petik terdakwa menaikan buah durian mobil carri terdakwa bawa buah durian terdakwa tutupi buah durian diata mobil jare plastik warna hitam terdakwa ikat tali plastik warna biru buah durian aman diata mobil terdakwa meninggalkan brd pengejaran kec kintamani kab bangli rumah terdakwa br dina pudeh ds tajun kac kubutambahan kab buleleng pulang kerumahnya terdakwa pergi desa tajun menjual buah durian komang ayu anggreni buah harga rp juta ratu delapan puluh ribu rupiah menjual buah durian terdakwa langsung pulang rumah terdakwa br dina pudeh ds tajun kac kubutambahan kab buleleng terdakwa mengambil enam puluh tujuh buah durian kane ijin saksi i wayan sukerena saksi i nyoman susila saksi i ketut tindih memiliki buah durian menjualnya uang hasil penjualan biaya hidup seharihari akibat perbuatan terdakwa mengakibatkan saksi i wayan sukerena mengalami kerugian rp juta ratu puluh ribu rupiah saksi i ketut tindih mengalami kerugian rp juta ratu ribu rupiah saksi i nyoman susila mengalami kerugian rp juta rupiah setidaktidaknya rp ratu puluh rupiah diatur diancam pidana pasal kuhp jo pasal ayat kuhp gede darmayasa\"]\n",
    "inference_numerical_tensor = tf.constant([[klasifikasi_perkara_encoded, penuntut_umum_encoded, hakim_encoded, jumlah_saksi_inference]], dtype=tf.float32)\n",
    "\n",
    "new_sequences = tokenizer.texts_to_sequences(inference_text)\n",
    "inference_text = tf.keras.preprocessing.sequence.pad_sequences(new_sequences, maxlen=max_len, padding='post')\n",
    "\n",
    "predictions = model.predict([inference_text, inference_numerical_tensor])\n",
    "\n",
    "print(f'Predicted Putusan: {predictions[0]}')"
   ]
  },
  {
   "cell_type": "code",
   "execution_count": 26,
   "metadata": {},
   "outputs": [],
   "source": [
    "model.save('../Model/LSTM dummy run.h5')\n",
    "\n",
    "with open('../Model/LSTM tokenizer.pkl', 'wb') as handle:\n",
    "    pickle.dump(tokenizer, handle)"
   ]
  },
  {
   "cell_type": "markdown",
   "metadata": {},
   "source": [
    "## Saved Model Inference"
   ]
  },
  {
   "cell_type": "code",
   "execution_count": 3,
   "metadata": {},
   "outputs": [],
   "source": [
    "loaded_model = tf.keras.models.load_model('../Model/LSTM dummy run.h5')\n",
    "\n",
    "with open('../Model/LSTM tokenizer.pkl', 'rb') as handle:\n",
    "    tokenizer = pickle.load(handle)"
   ]
  },
  {
   "cell_type": "code",
   "execution_count": 25,
   "metadata": {},
   "outputs": [
    {
     "ename": "ValueError",
     "evalue": "in user code:\n\n    File \"c:\\Users\\Kalea\\miniconda3\\envs\\tf_gpu\\lib\\site-packages\\keras\\engine\\training.py\", line 2041, in predict_function  *\n        return step_function(self, iterator)\n    File \"c:\\Users\\Kalea\\miniconda3\\envs\\tf_gpu\\lib\\site-packages\\keras\\engine\\training.py\", line 2027, in step_function  **\n        outputs = model.distribute_strategy.run(run_step, args=(data,))\n    File \"c:\\Users\\Kalea\\miniconda3\\envs\\tf_gpu\\lib\\site-packages\\keras\\engine\\training.py\", line 2015, in run_step  **\n        outputs = model.predict_step(data)\n    File \"c:\\Users\\Kalea\\miniconda3\\envs\\tf_gpu\\lib\\site-packages\\keras\\engine\\training.py\", line 1983, in predict_step\n        return self(x, training=False)\n    File \"c:\\Users\\Kalea\\miniconda3\\envs\\tf_gpu\\lib\\site-packages\\keras\\utils\\traceback_utils.py\", line 70, in error_handler\n        raise e.with_traceback(filtered_tb) from None\n    File \"c:\\Users\\Kalea\\miniconda3\\envs\\tf_gpu\\lib\\site-packages\\keras\\engine\\input_spec.py\", line 295, in assert_input_compatibility\n        raise ValueError(\n\n    ValueError: Input 0 of layer \"model\" is incompatible with the layer: expected shape=(None, 800), found shape=(None, 512)\n",
     "output_type": "error",
     "traceback": [
      "\u001b[1;31m---------------------------------------------------------------------------\u001b[0m",
      "\u001b[1;31mValueError\u001b[0m                                Traceback (most recent call last)",
      "Cell \u001b[1;32mIn[25], line 12\u001b[0m\n\u001b[0;32m      9\u001b[0m new_sequences \u001b[38;5;241m=\u001b[39m tokenizer\u001b[38;5;241m.\u001b[39mtexts_to_sequences(inference_text)\n\u001b[0;32m     10\u001b[0m inference_text \u001b[38;5;241m=\u001b[39m tf\u001b[38;5;241m.\u001b[39mkeras\u001b[38;5;241m.\u001b[39mpreprocessing\u001b[38;5;241m.\u001b[39msequence\u001b[38;5;241m.\u001b[39mpad_sequences(new_sequences, maxlen\u001b[38;5;241m=\u001b[39m\u001b[38;5;241m512\u001b[39m, padding\u001b[38;5;241m=\u001b[39m\u001b[38;5;124m'\u001b[39m\u001b[38;5;124mpost\u001b[39m\u001b[38;5;124m'\u001b[39m)\n\u001b[1;32m---> 12\u001b[0m predictions \u001b[38;5;241m=\u001b[39m \u001b[43mloaded_model\u001b[49m\u001b[38;5;241;43m.\u001b[39;49m\u001b[43mpredict\u001b[49m\u001b[43m(\u001b[49m\u001b[43m[\u001b[49m\u001b[43minference_text\u001b[49m\u001b[43m,\u001b[49m\u001b[43m \u001b[49m\u001b[43minference_numerical_tensor\u001b[49m\u001b[43m]\u001b[49m\u001b[43m)\u001b[49m\n\u001b[0;32m     14\u001b[0m \u001b[38;5;28mprint\u001b[39m(\u001b[38;5;124mf\u001b[39m\u001b[38;5;124m'\u001b[39m\u001b[38;5;124mPredicted Putusan: \u001b[39m\u001b[38;5;132;01m{\u001b[39;00mpredictions[\u001b[38;5;241m0\u001b[39m]\u001b[38;5;132;01m}\u001b[39;00m\u001b[38;5;124m'\u001b[39m)\n",
      "File \u001b[1;32mc:\\Users\\Kalea\\miniconda3\\envs\\tf_gpu\\lib\\site-packages\\keras\\utils\\traceback_utils.py:70\u001b[0m, in \u001b[0;36mfilter_traceback.<locals>.error_handler\u001b[1;34m(*args, **kwargs)\u001b[0m\n\u001b[0;32m     67\u001b[0m     filtered_tb \u001b[38;5;241m=\u001b[39m _process_traceback_frames(e\u001b[38;5;241m.\u001b[39m__traceback__)\n\u001b[0;32m     68\u001b[0m     \u001b[38;5;66;03m# To get the full stack trace, call:\u001b[39;00m\n\u001b[0;32m     69\u001b[0m     \u001b[38;5;66;03m# `tf.debugging.disable_traceback_filtering()`\u001b[39;00m\n\u001b[1;32m---> 70\u001b[0m     \u001b[38;5;28;01mraise\u001b[39;00m e\u001b[38;5;241m.\u001b[39mwith_traceback(filtered_tb) \u001b[38;5;28;01mfrom\u001b[39;00m \u001b[38;5;28;01mNone\u001b[39;00m\n\u001b[0;32m     71\u001b[0m \u001b[38;5;28;01mfinally\u001b[39;00m:\n\u001b[0;32m     72\u001b[0m     \u001b[38;5;28;01mdel\u001b[39;00m filtered_tb\n",
      "File \u001b[1;32m~\\AppData\\Local\\Temp\\__autograph_generated_filesq387ln3.py:15\u001b[0m, in \u001b[0;36mouter_factory.<locals>.inner_factory.<locals>.tf__predict_function\u001b[1;34m(iterator)\u001b[0m\n\u001b[0;32m     13\u001b[0m \u001b[38;5;28;01mtry\u001b[39;00m:\n\u001b[0;32m     14\u001b[0m     do_return \u001b[38;5;241m=\u001b[39m \u001b[38;5;28;01mTrue\u001b[39;00m\n\u001b[1;32m---> 15\u001b[0m     retval_ \u001b[38;5;241m=\u001b[39m ag__\u001b[38;5;241m.\u001b[39mconverted_call(ag__\u001b[38;5;241m.\u001b[39mld(step_function), (ag__\u001b[38;5;241m.\u001b[39mld(\u001b[38;5;28mself\u001b[39m), ag__\u001b[38;5;241m.\u001b[39mld(iterator)), \u001b[38;5;28;01mNone\u001b[39;00m, fscope)\n\u001b[0;32m     16\u001b[0m \u001b[38;5;28;01mexcept\u001b[39;00m:\n\u001b[0;32m     17\u001b[0m     do_return \u001b[38;5;241m=\u001b[39m \u001b[38;5;28;01mFalse\u001b[39;00m\n",
      "\u001b[1;31mValueError\u001b[0m: in user code:\n\n    File \"c:\\Users\\Kalea\\miniconda3\\envs\\tf_gpu\\lib\\site-packages\\keras\\engine\\training.py\", line 2041, in predict_function  *\n        return step_function(self, iterator)\n    File \"c:\\Users\\Kalea\\miniconda3\\envs\\tf_gpu\\lib\\site-packages\\keras\\engine\\training.py\", line 2027, in step_function  **\n        outputs = model.distribute_strategy.run(run_step, args=(data,))\n    File \"c:\\Users\\Kalea\\miniconda3\\envs\\tf_gpu\\lib\\site-packages\\keras\\engine\\training.py\", line 2015, in run_step  **\n        outputs = model.predict_step(data)\n    File \"c:\\Users\\Kalea\\miniconda3\\envs\\tf_gpu\\lib\\site-packages\\keras\\engine\\training.py\", line 1983, in predict_step\n        return self(x, training=False)\n    File \"c:\\Users\\Kalea\\miniconda3\\envs\\tf_gpu\\lib\\site-packages\\keras\\utils\\traceback_utils.py\", line 70, in error_handler\n        raise e.with_traceback(filtered_tb) from None\n    File \"c:\\Users\\Kalea\\miniconda3\\envs\\tf_gpu\\lib\\site-packages\\keras\\engine\\input_spec.py\", line 295, in assert_input_compatibility\n        raise ValueError(\n\n    ValueError: Input 0 of layer \"model\" is incompatible with the layer: expected shape=(None, 800), found shape=(None, 512)\n"
     ]
    }
   ],
   "source": [
    "klasifikasi_perkara_encoded = 0\n",
    "penuntut_umum_encoded = 0\n",
    "hakim_encoded = 5\n",
    "jumlah_saksi_inference = 6\n",
    "\n",
    "inference_text = [\"buah sabit gagang kayu buah jare plastik paranet warna hitam uta tali plastik warna biru meter puluh buah kantong plastik kresek uta tali kain warna merah cm dimusnahkan unit mobil merek suzuki st pick up warna hitam dk kc noka mhyesljj nosin gaid beserta kunci kontak lembar stnk mobil merek suzuki st pick up warna hitam dk kc noka mhyesljj nosin gaid nama pemilik an i kadek kondrayasa dikembalikan i gede agu wirayuda buah durian jeni durian kane dikembalikan i wayan sukaren lembar nota pembelian buah durian toko tiara durian dikembalikan komang ayu anggreni bela buah durian jeni durian kane lembar nota pembelian buah durian toko semut durian dikembalikan komang sujana uang tunai rp ratu delapan puluh tujuh ribu rupiah dirampa negara membebankan terdakwa membayar biaya perkara rp ribu rupiah terdakwa gede darmayasa selasa tanggal mei sekira jam wita selasa tanggal mei sekira jam wita sabtu tanggal mei sekira jam wita setidaktidaknya mei setidaktidaknya kebun milik i wayan sukerena banjar desa bunutin kecamatan kintamani kab bangli kebun milik i nyoman susila banjar desa bunutin kecamatan kintamani kab bangli kebun milik i ketut tindih banjar desa pengejaran kecamatan kintamani kab bangli setidaktidaknya daerah hukum pengadilan negeri bangli perbuatan dipandang perbuatan berdiri kejahatan mengambil barang kepunyaan orang maksud dimiliki melawan hukum terdakwa caracara selasa tanggal mei sekira wita terdakwa berangkat rumah terdakwa br dina pudeh ds tajun kec kubutambahan kab buleleng mobil suzuki carri pick up warna hitam dk kc pergi brd bunutin kec kintamani kab bangli melewati simpang pasar tenten kintamani tujuan memb menawarkan buah durian dipohonnya sesampainya terdakwa brd bunutin kec kintamani kab bangli sekira wita terdakwa pohon durian berbuah kebun milik i wayan sukerena dipinggir jalan raya ds bunutin kec kintamani kab bangli situasi sepi terdakwa melihatlihat buah durian menemukan buah dipetik terdakwa memetik buah durian memanjat pohon durian sabit memotong buah durian pohon bergiliran buah durian terdakwa petik puluh tujuh buahsetelah terkumpul buah durian terdakwa naikan mobil suzuki carri pick up warna hitam dk kc terdakwa kendarai buah durian diata mobil terdakwa meninggalkan kebun milik i wayan sukerena perjalanan terdakwa dipinggir jalan raya ds bunutin kintamani pohon durian berbuah terdakwa turun memarkir mobil suzuki carri pick up warna hitam dk kc dipinggir jalan raya berjalan kaki terdakwa kebun milik i nyoman susila brd bunutin kec kintamani kab bangli sekira wita pohon durian berbuah terdakwa memanjat pohon durian pohon bergantian memetik sabit menurunkan buah durian puluh tujuh buah buah durian turun terkumpul terdakwa naikan mobil suzuki carri pick up warna hitam dk kc terdakwa tutupi buah durian diata mobil jare plastik warna hitam terdakwa ikat tali plastik warna biru buah durian aman diata mobil terdakwa meninggalkan brd bunutin kec kintamani kab bangli rumah terdakwa br dina pudeh ds tajun kac kubutambahan kab buleleng dirumah wita terdakwa langsung menjual durian saksi komang ayu anggreni batu barak desa tajun kec kubutambahan kab buleleng puluh buah berat seratu delapan puluh kg harga rp juta ratu enam bela ribu rupiah sisa buah durian puluh tujuh buah terdakwa bawa pulang kerumah kami tanggal mei sekira wita terdakwa menjual durian jeni durian kane komang sujana gudang milik komang sujana puluh buah durian berat kg buah durian hasil mencuri selasa tanggal mei brd bunutin kec kintamani kab bangli buah durian hasil terdakwa memb petani terdakwa jual harga total rp juta ratu ribu rupiah sabtu tanggal mei sekira wita terdakwa berangkat rumah terdakwa br dina pudeh ds tajun kec kubutambahan kab buleleng mobil suzuki carri pick up warna hitam dk kc pergi brd pengejaran kec kintamani kab bangli sesampainya terdakwa brd pengejaran kec kintamani kab bangli sekira wita melewati simpang lampu terdakwa dikebun milik i ketut tindih berlokasi pinggir jalan raya ds pengejaran situasi sepi terdakwa memanjat pohon durian pohon bergantian memetik buah durian sabit buah menjatuhkan buah durian ketanah terdakwa mengumpulkan buah durian terdakwa petik terdakwa menaikan buah durian mobil carri terdakwa bawa buah durian terdakwa tutupi buah durian diata mobil jare plastik warna hitam terdakwa ikat tali plastik warna biru buah durian aman diata mobil terdakwa meninggalkan brd pengejaran kec kintamani kab bangli rumah terdakwa br dina pudeh ds tajun kac kubutambahan kab buleleng pulang kerumahnya terdakwa pergi desa tajun menjual buah durian komang ayu anggreni buah harga rp juta ratu delapan puluh ribu rupiah menjual buah durian terdakwa langsung pulang rumah terdakwa br dina pudeh ds tajun kac kubutambahan kab buleleng terdakwa mengambil enam puluh tujuh buah durian kane ijin saksi i wayan sukerena saksi i nyoman susila saksi i ketut tindih memiliki buah durian menjualnya uang hasil penjualan biaya hidup seharihari akibat perbuatan terdakwa mengakibatkan saksi i wayan sukerena mengalami kerugian rp juta ratu puluh ribu rupiah saksi i ketut tindih mengalami kerugian rp juta ratu ribu rupiah saksi i nyoman susila mengalami kerugian rp juta rupiah setidaktidaknya rp ratu puluh rupiah diatur diancam pidana pasal kuhp jo pasal ayat kuhp gede darmayasa\"]\n",
    "inference_numerical_tensor = tf.constant([[klasifikasi_perkara_encoded, penuntut_umum_encoded, hakim_encoded, jumlah_saksi_inference]], dtype=tf.float32)\n",
    "\n",
    "new_sequences = tokenizer.texts_to_sequences(inference_text)\n",
    "inference_text = tf.keras.preprocessing.sequence.pad_sequences(new_sequences, maxlen=512, padding='post')\n",
    "\n",
    "predictions = loaded_model.predict([inference_text, inference_numerical_tensor])\n",
    "\n",
    "print(f'Predicted Putusan: {predictions[0]}')"
   ]
  },
  {
   "cell_type": "code",
   "execution_count": null,
   "metadata": {},
   "outputs": [],
   "source": []
  }
 ],
 "metadata": {
  "kernelspec": {
   "display_name": "tf_gpu",
   "language": "python",
   "name": "python3"
  },
  "language_info": {
   "codemirror_mode": {
    "name": "ipython",
    "version": 3
   },
   "file_extension": ".py",
   "mimetype": "text/x-python",
   "name": "python",
   "nbconvert_exporter": "python",
   "pygments_lexer": "ipython3",
   "version": "3.9.20"
  }
 },
 "nbformat": 4,
 "nbformat_minor": 2
}
