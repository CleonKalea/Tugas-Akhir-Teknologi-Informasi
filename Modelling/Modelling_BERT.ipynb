{
 "cells": [
  {
   "cell_type": "code",
   "execution_count": 1,
   "metadata": {},
   "outputs": [
    {
     "name": "stderr",
     "output_type": "stream",
     "text": [
      "c:\\Users\\Kalea\\miniconda3\\envs\\tf_gpu\\lib\\site-packages\\tqdm\\auto.py:21: TqdmWarning: IProgress not found. Please update jupyter and ipywidgets. See https://ipywidgets.readthedocs.io/en/stable/user_install.html\n",
      "  from .autonotebook import tqdm as notebook_tqdm\n"
     ]
    }
   ],
   "source": [
    "import numpy as np\n",
    "import pandas as pd\n",
    "import matplotlib.pyplot as plt\n",
    "from datasets import DatasetDict, Dataset\n",
    "from transformers import AutoTokenizer, TFBertModel\n",
    "import tensorflow as tf\n",
    "from sklearn.model_selection import train_test_split"
   ]
  },
  {
   "cell_type": "markdown",
   "metadata": {},
   "source": [
    "## Data Preparation"
   ]
  },
  {
   "cell_type": "code",
   "execution_count": 2,
   "metadata": {},
   "outputs": [],
   "source": [
    "df = pd.read_csv('../Data/STAGE 4 FINAL MERGED DATA/STAGE_4_MERGED_FINAL_ENCODED.csv')"
   ]
  },
  {
   "cell_type": "code",
   "execution_count": 3,
   "metadata": {},
   "outputs": [
    {
     "data": {
      "application/vnd.microsoft.datawrangler.viewer.v0+json": {
       "columns": [
        {
         "name": "index",
         "rawType": "int64",
         "type": "integer"
        },
        {
         "name": "klasifikasi_perkara_encoded",
         "rawType": "int64",
         "type": "integer"
        },
        {
         "name": "penuntut_umum_encoded",
         "rawType": "int64",
         "type": "integer"
        },
        {
         "name": "hakim_encoded",
         "rawType": "int64",
         "type": "integer"
        },
        {
         "name": "jumlah_saksi",
         "rawType": "int64",
         "type": "integer"
        },
        {
         "name": "cleaned_barang_bukti",
         "rawType": "object",
         "type": "string"
        },
        {
         "name": "summarized_dakwaan",
         "rawType": "object",
         "type": "string"
        },
        {
         "name": "extracted_pasal",
         "rawType": "object",
         "type": "string"
        },
        {
         "name": "terdakwa",
         "rawType": "object",
         "type": "string"
        },
        {
         "name": "total_pidana_penjara_bulan",
         "rawType": "float64",
         "type": "float"
        }
       ],
       "conversionMethod": "pd.DataFrame",
       "ref": "4b60db21-44bb-4c20-8109-8a04a1c99e38",
       "rows": [
        [
         "0",
         "0",
         "0",
         "0",
         "6",
         "1 buah sabit kecil dengan gagang dari kayu 1 buah jaring plastik paranet warna hitam 1 utas tali plastik warna biru dengan panjang 7,5 meter 20 buah kantong plastik kresek 2 utas tali kain warna merah dengan panjang 80 cm Dimusnahkan 1 unit mobil merek Suzuki ST 150 Pick Up warna hitam DK 8985 KC, NOKA MHYESL415JJ723753, NOSIN G15AID1125449 beserta kunci kontak 1 lembar STNK mobil merek Suzuki ST 150 Pick Up warna hitam DK 8985 KC, NOKA MHYESL415JJ723753, NOSIN G15AID1125449 nama pemilik a.n. I Kadek Kondrayasa Dikembalikan kepada I Gede Agus Wirayuda 4 buah durian jenis durian kane Dikembalikan kepada I Wayan Sukarene, S.E. 1 lembar nota pembelian buah durian Toko Tiara Durian Dikembalikan kepada Komang Ayu Anggreni 15 buah durian jenis durian kane 1 lembar nota pembelian buah durian Toko Semut Durian Dikembalikan kepada Komang Sujana Uang tunai sebesar Rp487.000,00 (empat ratus delapan puluh tujuh ribu rupiah) Dirampas untuk negara  6. Membebankan kepada Terdakwa membayar biaya perkara sejumlah Rp5.000,00 (lima ribu rupiah)",
         "Terdakwa Gede Darmayasa didakwa telah melakukan tindak pidana pencurian buah durian di tiga lokasi berbeda di wilayah Kintamani, Kabupaten Bangli, pada bulan Mei 2024. Pada hari Selasa, 21 Mei 2024, sekitar pukul 06.00 hingga 06.30 WITA, terdakwa mencuri sebanyak 37 buah durian dari kebun milik I Wayan Sukerena, SE dan 27 buah durian dari kebun milik I Nyoman Susila. Durian-durian tersebut kemudian dijual sebagian kepada saksi Komang Ayu Anggreni dengan harga Rp4.316.000 dan sisanya dibawa pulang. Selanjutnya, pada hari Kamis, 23 Mei 2024, terdakwa menjual lagi 40 buah durian kepada Komang Sujana, di mana 24 di antaranya merupakan hasil pencurian. Kemudian pada hari Sabtu, 25 Mei 2024, sekitar pukul 06.00 WITA, terdakwa kembali melakukan pencurian sebanyak 20 buah durian dari kebun milik I Ketut Tindih dan menjual 15 buah di antaranya seharga Rp1.485.000. Total durian yang dicuri terdakwa berjumlah 67 buah tanpa seizin pemiliknya, dengan maksud untuk dimiliki secara melawan hukum dan hasil penjualannya digunakan untuk kebutuhan sehari-hari. Akibat perbuatan terdakwa, I Wayan Sukerena mengalami kerugian sebesar Rp3.330.000, I Ketut Tindih sebesar Rp3.500.000, dan I Nyoman Susila sebesar Rp2.000.000. Perbuatan terdakwa diancam pidana berdasarkan Pasal 362 KUHP jo. Pasal 65 Ayat (1) KUHP.",
         "['Pasal 362 KUHP jo. Pasal 65 Ayat (1) KUHP']",
         "GEDE DARMAYASA",
         "5.0"
        ],
        [
         "1",
         "1",
         "1",
         "1",
         "4",
         "1 lembar nota pembelian perhiasan kalung emas tanggal 31 Desember 2021 di Toko Sukerti Gianyar 1 buah kotak handphone merek Samsung Galaxy A04e warna hitam 1 lembar nota pembelian handphone merek Samsung Galaxy A04e tanggal 28 Januari 2024 di Julia Phone Cell Gianyar dikembalikan kepada Ni Wayan Anik Antari 1 lembar surat bukti gadai dari Pegadaian Bangli tanggal 21 Februari 2024 atas nama Ida Bagus Made Darma Wiguna barang jaminan satu kalung model dubai ditaksir perhiasan emas 21 karat dengan berat 24,55 gram 1 lembar nota transaksi penerimaan uang-kredit baru dari Pegadaian Bangli tanggal 21 Februari 2024 barang jaminan satu kalung model dubai ditaksir perhiasan emas 21 karat dengan berat 24,55 gram 1 lembar nota transaksi tunai pelunasan gadai dari Pegadaian Bangli tanggal 21 Februari 2024 dari Pegadaian Bangli barang jaminan satu kalung model dubai ditaksir perhiasan emas 21 karat dengan berat 24,55 gram dikembalikan kepada Terdakwa 1 buah perhiasan emas berupa kalung, dengan berat 22,8 gram dikembalikan kepada Pegadaian Kabupaten Bangli  6. Membebankan kepada Terdakwa membayar biaya perkara sejumlah Rp5.000,00 (lima ribu rupiah)",
         "Pada bulan Februari dan Maret 2024, terdakwa Ida Bagus Made Darma Wiguna alias Gus Manik didakwa melakukan tindak pidana penggelapan secara berlanjut terhadap saksi korban Ni Wayan Anik Artini. Berawal dari perkenalan melalui media sosial TikTok pada Desember 2023, terdakwa dan korban menjalin hubungan hingga pada 13 Februari 2024 korban menyerahkan perhiasan kalung emas 21 karat seberat 24,55 gram untuk disimpan di rumah terdakwa. Pada 17 Februari 2024, terdakwa meminjam kalung tersebut untuk digadaikan dengan janji akan menebusnya dalam dua hari. Kalung itu kemudian digadaikan di Kantor Pegadaian Bangli seharga Rp 8.000.000. Namun, tanpa seizin korban, pada 21 Februari 2024 terdakwa kembali ke Pegadaian dan menambah nilai gadai menjadi Rp 19.600.000, menerima pencairan tambahan sebesar Rp 11.397.000, yang seluruhnya digunakan untuk keperluan pribadi. Kemudian, pada 10 Maret 2024, terdakwa meminjam ponsel Samsung Galaxy A04E milik korban dengan alasan untuk komunikasi, namun ponsel tersebut dijual seharga Rp 600.000 dan hasilnya juga dipakai untuk kebutuhan sehari-hari. Meskipun korban telah beberapa kali meminta barang-barangnya dikembalikan, terdakwa selalu mengelak dengan berbagai alasan. Akibat perbuatan terdakwa, korban mengalami kerugian sebesar Rp 26.000.000. Perbuatan Terdakwa didakwa dengan dakwaan primair Pasal 372 jo. 64 Ayat (1) KUHP, dan dakwaan subsidair Pasal 378 jo. 64 Ayat (1) KUHP.",
         "['Pasal 372 jo. 64 Ayat (1) KUHP', 'Pasal 378 jo. 64 Ayat (1) KUHP']",
         "IDA BAGUS MADE DARMA WIGUNA",
         "24.0"
        ],
        [
         "2",
         "0",
         "0",
         "2",
         "6",
         "1 buah Kotak/Box handphone merk OPPO type A53 warna Hitam, dengan nomor IMEI1/2 867919057365515/867919057365507 1 lembar nota pembelian 1 unit handphone merk OPPO type A53 warna hitam, dengan nomor IMEI1/2 867919057365515/867919057365507 dari Anyelir Ponsel pada tanggal 3 April 2020 senilai Rp3.999.000,00 (tiga juta sembilan ratus sembilan puluh sembilan ribu rupiah). 1 unit handphone merk OPPO type A53 warna hitam, dengan nomor IMEI1/2 867919057365515/867919057365507 Dikembalikan kepada I Nengah Sukadana  6. Membebankan kepada Terdakwa membayar biaya perkara sejumlah Rp5.000,00 (lima ribu rupiah)",
         "Terdakwa Handri Johanes pada Rabu, 24 April 2024 sekitar pukul 03.00 WITA di sebuah kamar di Puri Kanginan, Lingkungan Banjar Puri Kanginan No. 2 Bangli, telah melakukan pencurian satu unit handphone OPPO A53 warna hitam milik I Nengah Sukadana. Kejadian bermula ketika terdakwa yang sebelumnya pernah bekerja di mebel milik Gung Aji Kartika dan terbiasa keluar masuk area puri, datang mencari temannya yang dahulu tinggal di sana. Setelah tidak menemukan temannya dan hendak pulang, terdakwa melihat sebuah handphone sedang diisi daya dalam kamar yang pintunya sedikit terbuka. Ia kemudian mengambil handphone tersebut dengan memasukkan tangan melalui celah pintu. Setelah sampai di bengkel tempat tinggalnya, terdakwa mengetahui bahwa handphone tersebut terkunci, lalu beberapa hari kemudian menjualnya kepada seseorang bernama Denny Firmansyah di Klungkung seharga Rp300.000. Uang hasil penjualan itu kemudian ia kirim ke anaknya di Lombok. Akibat perbuatan tersebut, saksi I Nengah Sukadana mengalami kerugian sebesar Rp3.999.000. Perbuatan terdakwa diancam pidana berdasarkan Pasal 363 Ayat (1) ke-3 KUHP.",
         "['Pasal 363 Ayat (1) ke-3 KUHP']",
         "HANDRI JOHANAS",
         "4.0"
        ],
        [
         "3",
         "2",
         "2",
         "1",
         "2",
         "1 buah plastik klip bening yang berisi kristal bening yang diduga NarkotikaGolongan I bukan tanaman jenis shabu dengan berat 0,26 (nol koma dua enam) gram bruto atau 0,20 (nol koma dua puluh) gram netto selanjutnya disisihkan seberat 0,02 (nol koma nol dua) gram netto untuk uji labforensik sehingga sisa barang bukti 0,18 (nol koma delapan belas) gram netto 1 buah micro tube 1 buah handphone merk REDMI type 10 C warna Hitam berikut dengan 1 buah simcard 1 buah Tas selempang merk ALOIPFAX warna hitam Dimusnahkan 1 unit sepeda motor merk Yamaha Type Jupiter MX warna Hitam DK-6181-LF berikut kunci kontak Dikembalikan kepada yang berhak melalui Terdakwa 6. Membebankan kepada Terdakwa membayar biaya perkara sejumlah Rp5.000,00 (lima ribu rupiah)",
         "Pada hari Minggu, 14 April 2024 sekitar pukul 16.35 WITA, terdakwa I Gede Ariadi alias Bernad ditangkap di Jl. Brigjen Ngurah Rai, Kelurahan Kawan, Bangli oleh tim Opsnal Satresnarkoba Polres Bangli karena kedapatan membawa narkotika jenis sabu. Kronologi bermula pada 9 April 2024 saat terdakwa berkenalan dengan seseorang bernama Kadek (DPO) melalui Facebook, lalu berkomunikasi intens melalui WhatsApp dan sepakat untuk menggunakan sabu bersama. Pada 14 April 2024 pagi, terdakwa diberi tahu oleh Mang Donal (DPO) bahwa sabu sudah tersedia dan ditempel di bawah tiang listrik di daerah Bendul, Klungkung. Terdakwa mengambil sabu yang dibungkus dalam tabung micro tube dan menyimpannya di tas selempang. Sore harinya, terdakwa berangkat menuju Bangli sesuai petunjuk lokasi dari Kadek. Setibanya di lokasi, terdakwa diamankan polisi dan saat digeledah ditemukan satu plastik klip berisi kristal sabu seberat 0,20 gram netto beserta barang bukti lainnya seperti handphone dan sepeda motor. Berdasarkan hasil uji laboratorium, kristal tersebut positif mengandung Metamfetamina yang tergolong Narkotika Golongan I. Terdakwa tidak memiliki izin dari Menteri Kesehatan atau instansi terkait untuk memiliki narkotika tersebut. Perbuatan Terdakwa didakwa dengan dakwaan primair Pasal 112 Ayat (1) UU RI No. 35 Tahun 2009 tentang Narkotika, dan dakwaan subsidair Pasal 127 Ayat (1) huruf a Undang-Undang RI No. 35 Tahun 2009 Tentang Narkotika.",
         "['Pasal 112 Ayat (1) UU RI No. 35 Tahun 2009 tentang Narkotika', 'Pasal 127 Ayat (1) huruf a Undang-Undang RI No. 35 Tahun 2009 Tentang Narkotika']",
         "I GEDE ARIADI alias BERNAD",
         "14.0"
        ],
        [
         "4",
         "2",
         "3",
         "1",
         "2",
         "1 buah plastik klip bening yang berisi kristal bening yang diduga NarkotikaGolongan I bukan tanaman jenis shabu dengan berat 0,26 (nol koma dua enam) gram bruto atau 0,20 (nol koma dua puluh) gram netto selanjutnya disisihkan seberat 0,02 (nol koma nol dua) gram netto untuk uji labforensik sehingga sisa barang bukti 0,18 (nol koma delapan belas) gram netto 1 buah micro tube 1 buah handphone merk REDMI type 10 C warna Hitam berikut dengan 1 buah simcard 1 buah Tas selempang merk ALOIPFAX warna hitam Dimusnahkan 1 unit sepeda motor merk Yamaha Type Jupiter MX warna Hitam DK-6181-LF berikut kunci kontak Dikembalikan kepada yang berhak melalui Terdakwa 6. Membebankan kepada Terdakwa membayar biaya perkara sejumlah Rp5.000,00 (lima ribu rupiah)",
         "Pada hari Minggu, 14 April 2024 sekitar pukul 16.35 WITA, terdakwa I Gede Ariadi alias Bernad ditangkap di Jl. Brigjen Ngurah Rai, Kelurahan Kawan, Bangli oleh tim Opsnal Satresnarkoba Polres Bangli karena kedapatan membawa narkotika jenis sabu. Kronologi bermula pada 9 April 2024 saat terdakwa berkenalan dengan seseorang bernama Kadek (DPO) melalui Facebook, lalu berkomunikasi intens melalui WhatsApp dan sepakat untuk menggunakan sabu bersama. Pada 14 April 2024 pagi, terdakwa diberi tahu oleh Mang Donal (DPO) bahwa sabu sudah tersedia dan ditempel di bawah tiang listrik di daerah Bendul, Klungkung. Terdakwa mengambil sabu yang dibungkus dalam tabung micro tube dan menyimpannya di tas selempang. Sore harinya, terdakwa berangkat menuju Bangli sesuai petunjuk lokasi dari Kadek. Setibanya di lokasi, terdakwa diamankan polisi dan saat digeledah ditemukan satu plastik klip berisi kristal sabu seberat 0,20 gram netto beserta barang bukti lainnya seperti handphone dan sepeda motor. Berdasarkan hasil uji laboratorium, kristal tersebut positif mengandung Metamfetamina yang tergolong Narkotika Golongan I. Terdakwa tidak memiliki izin dari Menteri Kesehatan atau instansi terkait untuk memiliki narkotika tersebut. Perbuatan Terdakwa didakwa dengan dakwaan primair Pasal 112 Ayat (1) UU RI No. 35 Tahun 2009 tentang Narkotika, dan dakwaan subsidair Pasal 127 Ayat (1) huruf a Undang-Undang RI No. 35 Tahun 2009 Tentang Narkotika.",
         "['Pasal 112 Ayat (1) UU RI No. 35 Tahun 2009 tentang Narkotika', 'Pasal 127 Ayat (1) huruf a Undang-Undang RI No. 35 Tahun 2009 Tentang Narkotika']",
         "I GEDE ARIADI alias BERNAD",
         "14.0"
        ],
        [
         "5",
         "0",
         "4",
         "1",
         "4",
         "1 unit sepeda motor merk Honda Scoopy warna merah hitam DK 6384 PQ, NOKA MH1JM311XHK071492, NOSIN JM31E-1076227 beserta kunci kontak 1 lembar STNK sepeda motor merk Honda Scoopy warna merah hitam DK 6384 PQ, NOKA MH1JM311XHK071492, NOSIN JM31E-1076227 nama pemilik an. NI WAYAN SRIMERTANADI Dikembalikan kepada korban Ni Wayan Srimertanadi 1 buah helm merk Maxi Yamaha warna hitam 1 buah jaket jeans warna biru langit  Dirampas untuk dimusnahkan 6. Membebankan kepada Terdakwa membayar biaya perkara sejumlah Rp. 5.000,00 (lima ribu rupiah)",
         "Pada hari Selasa, 26 Maret 2024 sekitar pukul 17.10 WITA, bertempat di pinggir Jalan Raya Kintamani, Desa Kintamani, Kecamatan Kintamani, Kabupaten Bangli, Terdakwa melakukan pencurian dengan mengambil satu unit sepeda motor Honda Scoopy warna merah hitam DK 6384 PQ, yang sebagian atau seluruhnya milik orang lain, dengan maksud untuk dimiliki secara melawan hukum. Sebelumnya, pada 25 Maret 2024 pukul 13.00 WITA, Terdakwa berangkat dari Panarukan, Singaraja menuju Terminal Ubung Denpasar dengan menumpang truk, dengan tujuan mencuri sepeda motor. Tiba di Terminal Ubung sekitar pukul 14.30 WITA, Terdakwa menginap semalam karena hujan deras. Esok harinya, Terdakwa dijemput oleh temannya, WAHYU EKA JAYA (DPO), yang datang mengendarai sepeda motor Yamaha Vixion warna hitam. Mereka lalu pergi ke Kintamani untuk jalan-jalan. Sekitar pukul 17.10 WITA, mereka melihat sebuah motor Honda Scoopy terparkir di pinggir jalan dengan kunci masih tergantung. Setelah WAHYU EKA JAYA pergi meninggalkannya, Terdakwa mendekati motor tersebut, lalu mendorongnya sejauh sekitar 10 meter sebelum akhirnya menyalakan mesin dan melarikan diri menuju Denpasar melalui Payangan, Gianyar. Di daerah Ubud, Terdakwa dihentikan oleh seorang petugas Polsek Kintamani bernama I Gede Dipta Wirama Darma dan tidak dapat menunjukkan STNK kendaraan. Terdakwa kemudian diamankan beserta barang bukti ke Polsek Kintamani. Akibat perbuatan tersebut, korban, Ni Wayan Srimertanadi, mengalami kerugian sekitar Rp20.000.000\\. Perbuatan Terdakwa diatur dan diancam pidana dalam Pasal 362 KUHP.",
         "['Pasal 362 KUHP']",
         "R. Sabirin",
         "14.0"
        ],
        [
         "6",
         "2",
         "4",
         "1",
         "4",
         "1 plastik klip bening yang berisi shabu seberat 0,17 (nol koma tujuh belas) gram netto 1 buah plastik klip kosong 2 potong pipet plastik warna bening 2 buah pipa kaca 2 potong pipet plastik warna putih 1 buah bekas botol merk Yakult 1 buah tutup botol bekas yang dimodifikasi 1 buah plastik warna hitam putih 1 buah Tas Gendong merk Exsport warna merah maroon 1 buah handphone merk Iphone 6S warna Gold berikut dengan 1 buah simcard Dimusnahkan 1 unit sepeda motor merk Honda PCX warna biru dengan No. Pol DK 2905 ADZ berikut kunci kontak 1 lembar STNK sepeda motor merk Honda PCX warna biru dengan No. Pol DK 2905 ADZ a.n pemilik Anita Dewi Rahmawati, S.I. KOM Dikembalikan kepada Anita Dewi Rahmawati  6. Membebankan kepada Terdakwa membayar biaya perkara sejumlah Rp5.000,00 (lima ribu rupiah)",
         "Pada Minggu, 17 Maret 2024 sekitar pukul 18.10 WITA, terdakwa Novani Ari Hifni alias Ari ditangkap di pinggir Jalan Merdeka, Tamanbali, Bangli oleh petugas Satresnarkoba Polres Bangli karena kedapatan membawa narkotika jenis sabu. Sebelumnya, terdakwa menghubungi rekannya bernama Wewe (DPO) melalui Facebook untuk mencari sabu, kemudian diarahkan untuk menghubungi Rizal (DPO). Rizal menyanggupi permintaan terdakwa dengan sistem hutang dan mengirimkan lokasi pengambilan barang di Bangli. Terdakwa lalu mengajak temannya, saksi K. M. Sahrijal Jabar, untuk mengantarkan ke lokasi dengan imbalan uang. Setelah mengambil sabu yang disembunyikan di dekat tembok dengan berpura-pura buang air kecil, terdakwa melanjutkan perjalanan, namun akhirnya dihentikan dan diamankan oleh petugas. Saat digeledah, ditemukan satu plastik berisi sabu dalam botol Yakult serta peralatan hisap lainnya di dalam tas terdakwa, sementara pada saksi Sahrijal tidak ditemukan barang terlarang. Hasil pemeriksaan laboratorium terhadap kristal bening dan urine terdakwa menunjukkan keduanya positif mengandung metamfetamina, yang tergolong Narkotika Golongan I. Perbuatan Terdakwa didakwa dengan dakwaan primair Pasal 112 Ayat (1) Undang-Undang RI No. 35 Tahun 2009 tentang Narkotika, dan dakwaan subsidair Pasal 127 Ayat (1) huruf a Undang-Undang RI No. 35 Tahun 2009 tentang Narkotika.",
         "['Pasal 112 Ayat (1) Undang-Undang RI No. 35 Tahun 2009 tentang Narkotika', 'Pasal 127 Ayat (1) huruf a Undang-Undang RI No. 35 Tahun 2009 tentang Narkotika']",
         "NOVANI ARI HIFNI Alias ARI",
         "24.0"
        ],
        [
         "7",
         "2",
         "5",
         "1",
         "4",
         "1 plastik klip bening yang berisi shabu seberat 0,17 (nol koma tujuh belas) gram netto 1 buah plastik klip kosong 2 potong pipet plastik warna bening 2 buah pipa kaca 2 potong pipet plastik warna putih 1 buah bekas botol merk Yakult 1 buah tutup botol bekas yang dimodifikasi 1 buah plastik warna hitam putih 1 buah Tas Gendong merk Exsport warna merah maroon 1 buah handphone merk Iphone 6S warna Gold berikut dengan 1 buah simcard Dimusnahkan 1 unit sepeda motor merk Honda PCX warna biru dengan No. Pol DK 2905 ADZ berikut kunci kontak 1 lembar STNK sepeda motor merk Honda PCX warna biru dengan No. Pol DK 2905 ADZ a.n pemilik Anita Dewi Rahmawati, S.I. KOM Dikembalikan kepada Anita Dewi Rahmawati  6. Membebankan kepada Terdakwa membayar biaya perkara sejumlah Rp5.000,00 (lima ribu rupiah)",
         "Pada Minggu, 17 Maret 2024 sekitar pukul 18.10 WITA, terdakwa Novani Ari Hifni alias Ari ditangkap di pinggir Jalan Merdeka, Tamanbali, Bangli oleh petugas Satresnarkoba Polres Bangli karena kedapatan membawa narkotika jenis sabu. Sebelumnya, terdakwa menghubungi rekannya bernama Wewe (DPO) melalui Facebook untuk mencari sabu, kemudian diarahkan untuk menghubungi Rizal (DPO). Rizal menyanggupi permintaan terdakwa dengan sistem hutang dan mengirimkan lokasi pengambilan barang di Bangli. Terdakwa lalu mengajak temannya, saksi K. M. Sahrijal Jabar, untuk mengantarkan ke lokasi dengan imbalan uang. Setelah mengambil sabu yang disembunyikan di dekat tembok dengan berpura-pura buang air kecil, terdakwa melanjutkan perjalanan, namun akhirnya dihentikan dan diamankan oleh petugas. Saat digeledah, ditemukan satu plastik berisi sabu dalam botol Yakult serta peralatan hisap lainnya di dalam tas terdakwa, sementara pada saksi Sahrijal tidak ditemukan barang terlarang. Hasil pemeriksaan laboratorium terhadap kristal bening dan urine terdakwa menunjukkan keduanya positif mengandung metamfetamina, yang tergolong Narkotika Golongan I. Perbuatan Terdakwa didakwa dengan dakwaan primair Pasal 112 Ayat (1) Undang-Undang RI No. 35 Tahun 2009 tentang Narkotika, dan dakwaan subsidair Pasal 127 Ayat (1) huruf a Undang-Undang RI No. 35 Tahun 2009 tentang Narkotika.",
         "['Pasal 112 Ayat (1) Undang-Undang RI No. 35 Tahun 2009 tentang Narkotika', 'Pasal 127 Ayat (1) huruf a Undang-Undang RI No. 35 Tahun 2009 tentang Narkotika']",
         "NOVANI ARI HIFNI Alias ARI",
         "24.0"
        ],
        [
         "8",
         "2",
         "6",
         "1",
         "4",
         "1 buah plastik klip bening yang berisi kristal bening diduga narkotika golongan I bukan tanaman jenis sabu dengan berat 0,14 (nol koma empat belas) gram bruto atau 0,08 (nol koma nol delapan) gram netto selanjutnya disisihkan seberat 0,02 (nol koma nol dua) gram netto untuk uji labforensik sehingga sisa barang bukti 0,06 (nol koma nol enam) gram netto 1 buah pipa kaca 1 lembar tissue warna putih 1 buah korek api gas yang sudah dimodif 1 buah handphone merek Redmi tipe 7A warna hitam beserta 2 buah sim card 1 buah tas pinggang merek Fashion warna hitam Dimusnahkan 1 unit mobil pick up merek Suzuki warna hitam dengan No. Pol. DK 8445 BQ berikut kunci kontak 1 lembar STNK mobil pick up merek Suzuki warna hitam dengan No. Pol. DK 8445 BQ a.n. PT Wira Mitra Utama Dikembalikan kepada PT Wira Mitra Utama melalui Terdakwa 6. Membebankan kepada Terdakwa membayar biaya perkara sejumlah Rp5.000,00 (lima ribu rupiah)",
         "Pada Selasa, 9 Januari 2024 sekitar pukul 17.30 WITA di Jalan Bima, Kelurahan Cempaga, Bangli, terdakwa Mulyadi alias Mul ditangkap karena tanpa hak menawarkan dan membawa narkotika jenis sabu. Sebelumnya, terdakwa dihubungi oleh rekannya, Kadek (DPO), untuk mengantarkan sabu ke Bangli. Setelah bertemu dengan kurir Kadek di Lapangan Lumintang, Denpasar, terdakwa menerima sabu dalam amplop putih, sempat mencicipinya, dan menyimpannya di dashboard mobil lalu berpindah ke tas pinggang. Sekitar pukul 15.00 WITA, terdakwa berangkat ke Bangli dan tiba di lokasi yang diarahkan Kadek. Saat tiba di kos-kosan milik kakak Kadek, terdakwa diamankan oleh polisi. Dalam penggeledahan, ditemukan sabu, alat isap, korek api modifikasi, dan barang bukti lainnya. Berdasarkan hasil laboratorium, kristal yang disita terbukti mengandung metamfetamina yang termasuk Narkotika Golongan I, sedangkan urine terdakwa tidak mengandung narkotika. Perbuatan Terdakwa didakwa dengan dakwaan primair Pasal 114 Ayat (1) UU RI No. 35 Tahun 2009 tentang Narkotika, dan dakwaan subsidair Pasal 112 Ayat (1) UU RI No. 35 tahun 2009 tentang Narkotika.",
         "['Pasal 114 Ayat (1) UU RI No. 35 Tahun 2009 tentang Narkotika', 'Pasal 112 Ayat (1) UU RI No. 35 tahun 2009 tentang Narkotika']",
         "MULYADI alias MUL",
         "51.0"
        ],
        [
         "9",
         "0",
         "7",
         "1",
         "6",
         "1 unit Alat timbangan barang merk RADJIN 1 karung bawang merah yang dibungkus menggunakan karung plastik warna putih bertuliskan HI-GRO dengan berat 8,625 (delapan koma enam ratus dua puluh lima) Kg (kilogram) 1 karung bawang putih yang dibungkus menggunakan karung plastic berwarna hijau dengan berat 8,9 (delapan koma Sembilan) Kg (kilogram) Dikembalikan kepada Saksi Ni Nyoman Suwini 1 buah karung plastik warna putih bertulisan gajah bintang tempat menyimpan beras ketan 1 buah karung plastik warna putih polos tempat menyimpan kacang tanah mentah Dimusnahkan 1 unit sepeda motor, no rangka MH1JF12128K521438, no mesin JF12E-1525827 - sepeda motor merk Honda Vario no. pol. DK 5633 MX  1 eksemplar Foto Copy BPKB (Buku Pemilik Kendaraan Bermotor) F No. 1162138 sepeda motor merk Honda Vario, No. Rangka MH1JF12128K521438, No. Mesin JF12E-1525827 no. pol. DK 5633 MX an. RICHARD MULYADI 1 lembar Foto Copy STNK (surat tanda nomor kendaraan) sepeda motor merk Honda Vario, No. Rangka MH1JF12128K521438, No. Mesin JF12E-1525827 no. pol. DK 5633 MX an. RICHARD MULYADI 1 lembar Akta Kelahiran Nomor 5105-LT-20032023-0002 an. I WAYAN ARTAYASA 1 pcs Kunci sepeda motor merk Honda Vario, No. Rangka MH1JF12128K521438, No. Mesin JF12E-1525827 no. pol. DK 5633 MX Dikembalikan kepada yang berhak melalui Terdakwa 6. Membebankan kepada Terdakwa membayar biaya perkara sejumlah Rp. 5.000,00 (lima ribu rupiah)",
         "Terdakwa I Wayan Artayasa didakwa telah melakukan serangkaian pencurian secara berulang di Pasar Kidul Bangli, dengan sasaran utama dagangan milik ibunya sendiri, Ni Nyoman Suwini, serta milik pedagang lain seperti Ni Luh Utari dan Ni Ketut Suci. Perbuatan tersebut dilakukan sejak Desember 2023 hingga Februari 2024, pada dini hari antara pukul 03.00 hingga 04.00 WITA. Modus operandi yang digunakan adalah dengan masuk ke pasar melalui celah jeruji besi, membuka terpal dagangan, dan mengambil berbagai bahan pokok seperti kemiri, kacang tanah, gula merah, kacang hijau, dan beras. Barang-barang hasil curian tersebut kemudian dijual oleh terdakwa di Pasar Kidul Bangli dan Pasar Singamandawa Kintamani untuk memenuhi kebutuhan sehari-hari. Perbuatan terdakwa dilakukan tanpa seizin atau sepengetahuan para pemilik barang, dan telah menyebabkan kerugian bagi para korban. Berdasarkan perbuatannya tersebut, terdakwa didakwa dengan Pasal 362 KUHP jo. Pasal 65 Ayat (1) KUHP pada dakwaan primair dan Pasal 367 Ayat (2) KUHP jo. Pasal 65 Ayat (1) KUHP untuk dakwaan subsidair.",
         "['Pasal 362 KUHP jo. Pasal 65 Ayat (1) KUHP', 'Pasal 367 Ayat (2) KUHP jo. Pasal 65 Ayat (1) KUHP']",
         "I WAYAN ARTAYASA",
         "12.0"
        ],
        [
         "10",
         "0",
         "4",
         "3",
         "4",
         "1. 3 buah bahan dasar kain (Baju Kaos) masing-masing  - 1 (buah) baju kaos merk U-Right warna abu-abu, - 1 buah baju kaos merk U-Right warna hitam, - 1 buah baju kaos merk Newbalance warna hitam 2. 2 buah case masing-masing  - 1 buah case warna hitam dan, - 1 buah case warna putih bening, 3. 1 pasang kaos kaki merk Nike warna hitam, 4. 1 pasang sandal merk Havaianas warna hitam tulisan putih, 5. 1 buah tas kain Merk HUNGRYCO warna Hitam. 6. 2 buah Dompet masing-masing  - 1 buah Dompet kulit merk MONT BLACN warna coklat dan, - 1 buah dompet kain warna coklat dengan resleting bertulisan LONGCHAMP 7. 1 buah kotak Handphone, 8. 1 buah Handphone merk IPHONE 11 Pro warna gold, 9. Uang tunai sebesar Rp. 5.778.000,- (lima juta tujuh ratus tujuh puluh delapan ribu rupiah). Dikembalikan kepada Saksi Ni Nengah Ngariasih 1. 1 Buah kunci kontak sepeda motor, 2. 1 Unit kendaraan bermotor, DK 2006 AEC, NOKA MH3SEJ710PJ162733, NOSIN E33WE0184543, TH 2023, warna Hitam, 3. 1 lembar Surat Berharga STNK, DK 2006 AEC, NOKA MH3SEJ710PJ162733, NOSIN E33WE0184543, TH 2023, warna hitam, an. RURY HERAWATI , alamat GG. Kaliasem NO. 2B, Sesetan, Denpasar Dikembalikan kepada Terdakwa 6. Membebankan kepada Terdakwa membayar biaya perkara sejumlah Rp5.000,00 (lima ribu rupiah)",
         "Terdakwa Rury Herawati pada tanggal 20 November 2023 sekitar pukul 15.15 WITA telah melakukan pencurian di Toko Ari Kebaya, Jalan Nusantara, Bangli. Terdakwa datang dari Denpasar dengan niat mencuri dan setelah mencari toko yang sepi, ia berpura-pura sebagai pembeli. Saat penjaga toko sedang membelakangi untuk mencarikan sandal, Terdakwa membuka lemari yang tidak terkunci dan mengambil tas kain berisi dua dompet dengan total uang Rp16.500.000,- milik saksi Ni Nengah Ngariasi. Setelah mengambil tas, Terdakwa berpura-pura hendak mengambil uang di ATM dan langsung pergi meninggalkan dua selendang yang sudah dibayar. Uang hasil pencurian digunakan untuk membeli berbagai barang seperti HP, emas, pakaian, serta kebutuhan sehari-hari. Sisa uang yang dicuri masih tersisa sebesar Rp5.778.000. Berdasarkan laporan polisi dan penyelidikan, Terdakwa mengakui perbuatannya dan kini telah diamankan bersama barang bukti untuk proses hukum lebih lanjut. Perbuatannya diancam pidana sesuai Pasal 362 KUHP.",
         "['Pasal 362 KUHP']",
         "RURY HERAWATI",
         "16.0"
        ],
        [
         "11",
         "3",
         "7",
         "1",
         "8",
         "- 45 (empat puluh lima) lembar nota penjualan PT. PUTRA DEWATA SEJATI cabang/admin Klungkung - 5 lembar nota penjualan PT. PUTRA DEWATA SEJATI cabang/admin Bangli - 2 lembar data piutang titipan UD. SARI MERTA - 2 lembar foto copy surat kesepakatan antara pihak PT PUTRA DEWATA SEJATI yang diwakili oleh ANGGUN BAYU WIKANTO dengan pihak usaha toko/UD. Sari Merta yang diwakili oleh I WAYAN AGUS KERTAYASA dan NI MADE REDIANI Nomor 001/SP//PDS-BALI/III/2019, tanggal 18 Maret 2019 - 2 lembar surat kesepakatan antara pihak PT. PUTRA DEWATA SEJATI yang diwakili oleh ANGGUN BAYU WIKANTO dengan pihak usaha toko/UD. Sari Merta yang diwakili oleh I NENGAH PERIYASA dan NI KOMANG WARSIKI Nomor 002/SP//PDS-BALI/IV/2019, tanggal 06 April 2019 - 1 lembar surat pernyataan yang dibuat oleh I KETUT SUPUTRA tanggal 24 Nopember 2022 Dikembalikan kepada PT. Putra Dewata Sejati melalui Saksi I Putu Pasek Ariana 6. Membebankan kepada Para Terdakwa membayar biaya perkara masing masing sejumlah Rp 5.000,00 (lima ribu rupiah)",
         "Bahwa para Terdakwa, yakni Terdakwa I Ketut Suputra dan Terdakwa II Ni Komang Warsiki, dalam kurun waktu antara bulan Mei 2019 sampai dengan Oktober 2020, bertempat di gudang milik para Terdakwa yang beralamat di Jalan Soekarno, Banjar Dukuh, Desa Bunutin, Kecamatan Bangli, Kabupaten Bangli, telah melakukan perbuatan melawan hukum dengan cara menguasai secara melawan hak barang titipan milik PT. Putra Dewata Sejati. Awalnya, Terdakwa I menjalin kerja sama usaha penjualan produk minuman bermerek Aqua dengan PT. Putra Dewata Sejati di bawah nama usaha UD. Sari Merta berdasarkan Surat Kesepakatan Nomor 002/SP/PDS-BALI/IV/2019 tanggal 6 April 2019. Dalam pelaksanaan kerja sama tersebut, PT. Putra Dewata Sejati menyerahkan sejumlah barang titipan kepada UD. Sari Merta untuk dijual kembali, dengan ketentuan bahwa harga pokok barang harus disetorkan kembali kepada PT. Putra Dewata Sejati setelah barang terjual, sedangkan selisih harga jual menjadi keuntungan bagi UD. Sari Merta. Dalam pelaksanaan usahanya, Terdakwa I selaku penanggung jawab operasional dan Terdakwa II sebagai bagian administrasi bertugas mengelola penjualan, keuangan, dan pembayaran kepada pihak supplier. Akan tetapi, sejak bulan Mei 2019, para Terdakwa mulai tidak menyetorkan secara penuh hasil penjualan barang, dan sejak bulan Oktober 2020 tidak lagi melakukan penyetoran sama sekali, padahal seluruh barang titipan telah terjual. Uang hasil penjualan tersebut justru digunakan oleh para Terdakwa untuk membayar gaji karyawan, menutupi biaya operasional, serta memenuhi kebutuhan hidup pribadi, tanpa seizin atau sepengetahuan PT. Putra Dewata Sejati. Perbuatan para Terdakwa tersebut telah mengakibatkan kerugian keuangan bagi PT. Putra Dewata Sejati sebesar Rp413.883.979,- (empat ratus tiga belas juta delapan ratus delapan puluh tiga ribu sembilan ratus tujuh puluh sembilan rupiah). Perbuatan tersebut dilakukan secara bersama-sama dan berlanjut, serta diatur dan diancam pidana dalam Pasal 372 KUHP jo. Pasal 55 Ayat (1) ke-1 KUHP jo. Pasal 64 Ayat (1) KUHP.",
         "['Pasal 372 KUHP jo. Pasal 55 Ayat (1) ke-1 KUHP jo. Pasal 64 Ayat (1) KUHP']",
         "I KETUT SUPUTRA",
         "18.0"
        ],
        [
         "12",
         "3",
         "5",
         "1",
         "8",
         "- 45 (empat puluh lima) lembar nota penjualan PT. PUTRA DEWATA SEJATI cabang/admin Klungkung - 5 lembar nota penjualan PT. PUTRA DEWATA SEJATI cabang/admin Bangli - 2 lembar data piutang titipan UD. SARI MERTA - 2 lembar foto copy surat kesepakatan antara pihak PT PUTRA DEWATA SEJATI yang diwakili oleh ANGGUN BAYU WIKANTO dengan pihak usaha toko/UD. Sari Merta yang diwakili oleh I WAYAN AGUS KERTAYASA dan NI MADE REDIANI Nomor 001/SP//PDS-BALI/III/2019, tanggal 18 Maret 2019 - 2 lembar surat kesepakatan antara pihak PT. PUTRA DEWATA SEJATI yang diwakili oleh ANGGUN BAYU WIKANTO dengan pihak usaha toko/UD. Sari Merta yang diwakili oleh I NENGAH PERIYASA dan NI KOMANG WARSIKI Nomor 002/SP//PDS-BALI/IV/2019, tanggal 06 April 2019 - 1 lembar surat pernyataan yang dibuat oleh I KETUT SUPUTRA tanggal 24 Nopember 2022 Dikembalikan kepada PT. Putra Dewata Sejati melalui Saksi I Putu Pasek Ariana 6. Membebankan kepada Para Terdakwa membayar biaya perkara masing masing sejumlah Rp 5.000,00 (lima ribu rupiah)",
         "Bahwa para Terdakwa, yakni Terdakwa I Ketut Suputra dan Terdakwa II Ni Komang Warsiki, dalam kurun waktu antara bulan Mei 2019 sampai dengan Oktober 2020, bertempat di gudang milik para Terdakwa yang beralamat di Jalan Soekarno, Banjar Dukuh, Desa Bunutin, Kecamatan Bangli, Kabupaten Bangli, telah melakukan perbuatan melawan hukum dengan cara menguasai secara melawan hak barang titipan milik PT. Putra Dewata Sejati. Awalnya, Terdakwa I menjalin kerja sama usaha penjualan produk minuman bermerek Aqua dengan PT. Putra Dewata Sejati di bawah nama usaha UD. Sari Merta berdasarkan Surat Kesepakatan Nomor 002/SP/PDS-BALI/IV/2019 tanggal 6 April 2019. Dalam pelaksanaan kerja sama tersebut, PT. Putra Dewata Sejati menyerahkan sejumlah barang titipan kepada UD. Sari Merta untuk dijual kembali, dengan ketentuan bahwa harga pokok barang harus disetorkan kembali kepada PT. Putra Dewata Sejati setelah barang terjual, sedangkan selisih harga jual menjadi keuntungan bagi UD. Sari Merta. Dalam pelaksanaan usahanya, Terdakwa I selaku penanggung jawab operasional dan Terdakwa II sebagai bagian administrasi bertugas mengelola penjualan, keuangan, dan pembayaran kepada pihak supplier. Akan tetapi, sejak bulan Mei 2019, para Terdakwa mulai tidak menyetorkan secara penuh hasil penjualan barang, dan sejak bulan Oktober 2020 tidak lagi melakukan penyetoran sama sekali, padahal seluruh barang titipan telah terjual. Uang hasil penjualan tersebut justru digunakan oleh para Terdakwa untuk membayar gaji karyawan, menutupi biaya operasional, serta memenuhi kebutuhan hidup pribadi, tanpa seizin atau sepengetahuan PT. Putra Dewata Sejati. Perbuatan para Terdakwa tersebut telah mengakibatkan kerugian keuangan bagi PT. Putra Dewata Sejati sebesar Rp413.883.979,- (empat ratus tiga belas juta delapan ratus delapan puluh tiga ribu sembilan ratus tujuh puluh sembilan rupiah). Perbuatan tersebut dilakukan secara bersama-sama dan berlanjut, serta diatur dan diancam pidana dalam Pasal 372 KUHP jo. Pasal 55 Ayat (1) ke-1 KUHP jo. Pasal 64 Ayat (1) KUHP.",
         "['Pasal 372 KUHP jo. Pasal 55 Ayat (1) ke-1 KUHP jo. Pasal 64 Ayat (1) KUHP']",
         "I KETUT SUPUTRA",
         "18.0"
        ],
        [
         "13",
         "3",
         "7",
         "1",
         "8",
         "- 45 (empat puluh lima) lembar nota penjualan PT. PUTRA DEWATA SEJATI cabang/admin Klungkung - 5 lembar nota penjualan PT. PUTRA DEWATA SEJATI cabang/admin Bangli - 2 lembar data piutang titipan UD. SARI MERTA - 2 lembar foto copy surat kesepakatan antara pihak PT PUTRA DEWATA SEJATI yang diwakili oleh ANGGUN BAYU WIKANTO dengan pihak usaha toko/UD. Sari Merta yang diwakili oleh I WAYAN AGUS KERTAYASA dan NI MADE REDIANI Nomor 001/SP//PDS-BALI/III/2019, tanggal 18 Maret 2019 - 2 lembar surat kesepakatan antara pihak PT. PUTRA DEWATA SEJATI yang diwakili oleh ANGGUN BAYU WIKANTO dengan pihak usaha toko/UD. Sari Merta yang diwakili oleh I NENGAH PERIYASA dan NI KOMANG WARSIKI Nomor 002/SP//PDS-BALI/IV/2019, tanggal 06 April 2019 - 1 lembar surat pernyataan yang dibuat oleh I KETUT SUPUTRA tanggal 24 Nopember 2022 Dikembalikan kepada PT. Putra Dewata Sejati melalui Saksi I Putu Pasek Ariana 6. Membebankan kepada Para Terdakwa membayar biaya perkara masing masing sejumlah Rp 5.000,00 (lima ribu rupiah)",
         "Bahwa para Terdakwa, yakni Terdakwa I Ketut Suputra dan Terdakwa II Ni Komang Warsiki, dalam kurun waktu antara bulan Mei 2019 sampai dengan Oktober 2020, bertempat di gudang milik para Terdakwa yang beralamat di Jalan Soekarno, Banjar Dukuh, Desa Bunutin, Kecamatan Bangli, Kabupaten Bangli, telah melakukan perbuatan melawan hukum dengan cara menguasai secara melawan hak barang titipan milik PT. Putra Dewata Sejati. Awalnya, Terdakwa I menjalin kerja sama usaha penjualan produk minuman bermerek Aqua dengan PT. Putra Dewata Sejati di bawah nama usaha UD. Sari Merta berdasarkan Surat Kesepakatan Nomor 002/SP/PDS-BALI/IV/2019 tanggal 6 April 2019. Dalam pelaksanaan kerja sama tersebut, PT. Putra Dewata Sejati menyerahkan sejumlah barang titipan kepada UD. Sari Merta untuk dijual kembali, dengan ketentuan bahwa harga pokok barang harus disetorkan kembali kepada PT. Putra Dewata Sejati setelah barang terjual, sedangkan selisih harga jual menjadi keuntungan bagi UD. Sari Merta. Dalam pelaksanaan usahanya, Terdakwa I selaku penanggung jawab operasional dan Terdakwa II sebagai bagian administrasi bertugas mengelola penjualan, keuangan, dan pembayaran kepada pihak supplier. Akan tetapi, sejak bulan Mei 2019, para Terdakwa mulai tidak menyetorkan secara penuh hasil penjualan barang, dan sejak bulan Oktober 2020 tidak lagi melakukan penyetoran sama sekali, padahal seluruh barang titipan telah terjual. Uang hasil penjualan tersebut justru digunakan oleh para Terdakwa untuk membayar gaji karyawan, menutupi biaya operasional, serta memenuhi kebutuhan hidup pribadi, tanpa seizin atau sepengetahuan PT. Putra Dewata Sejati. Perbuatan para Terdakwa tersebut telah mengakibatkan kerugian keuangan bagi PT. Putra Dewata Sejati sebesar Rp413.883.979,- (empat ratus tiga belas juta delapan ratus delapan puluh tiga ribu sembilan ratus tujuh puluh sembilan rupiah). Perbuatan tersebut dilakukan secara bersama-sama dan berlanjut, serta diatur dan diancam pidana dalam Pasal 372 KUHP jo. Pasal 55 Ayat (1) ke-1 KUHP jo. Pasal 64 Ayat (1) KUHP.",
         "['Pasal 372 KUHP jo. Pasal 55 Ayat (1) ke-1 KUHP jo. Pasal 64 Ayat (1) KUHP']",
         "NI KOMANG WARSIKI",
         "10.0"
        ],
        [
         "14",
         "3",
         "5",
         "1",
         "8",
         "- 45 (empat puluh lima) lembar nota penjualan PT. PUTRA DEWATA SEJATI cabang/admin Klungkung - 5 lembar nota penjualan PT. PUTRA DEWATA SEJATI cabang/admin Bangli - 2 lembar data piutang titipan UD. SARI MERTA - 2 lembar foto copy surat kesepakatan antara pihak PT PUTRA DEWATA SEJATI yang diwakili oleh ANGGUN BAYU WIKANTO dengan pihak usaha toko/UD. Sari Merta yang diwakili oleh I WAYAN AGUS KERTAYASA dan NI MADE REDIANI Nomor 001/SP//PDS-BALI/III/2019, tanggal 18 Maret 2019 - 2 lembar surat kesepakatan antara pihak PT. PUTRA DEWATA SEJATI yang diwakili oleh ANGGUN BAYU WIKANTO dengan pihak usaha toko/UD. Sari Merta yang diwakili oleh I NENGAH PERIYASA dan NI KOMANG WARSIKI Nomor 002/SP//PDS-BALI/IV/2019, tanggal 06 April 2019 - 1 lembar surat pernyataan yang dibuat oleh I KETUT SUPUTRA tanggal 24 Nopember 2022 Dikembalikan kepada PT. Putra Dewata Sejati melalui Saksi I Putu Pasek Ariana 6. Membebankan kepada Para Terdakwa membayar biaya perkara masing masing sejumlah Rp 5.000,00 (lima ribu rupiah)",
         "Bahwa para Terdakwa, yakni Terdakwa I Ketut Suputra dan Terdakwa II Ni Komang Warsiki, dalam kurun waktu antara bulan Mei 2019 sampai dengan Oktober 2020, bertempat di gudang milik para Terdakwa yang beralamat di Jalan Soekarno, Banjar Dukuh, Desa Bunutin, Kecamatan Bangli, Kabupaten Bangli, telah melakukan perbuatan melawan hukum dengan cara menguasai secara melawan hak barang titipan milik PT. Putra Dewata Sejati. Awalnya, Terdakwa I menjalin kerja sama usaha penjualan produk minuman bermerek Aqua dengan PT. Putra Dewata Sejati di bawah nama usaha UD. Sari Merta berdasarkan Surat Kesepakatan Nomor 002/SP/PDS-BALI/IV/2019 tanggal 6 April 2019. Dalam pelaksanaan kerja sama tersebut, PT. Putra Dewata Sejati menyerahkan sejumlah barang titipan kepada UD. Sari Merta untuk dijual kembali, dengan ketentuan bahwa harga pokok barang harus disetorkan kembali kepada PT. Putra Dewata Sejati setelah barang terjual, sedangkan selisih harga jual menjadi keuntungan bagi UD. Sari Merta. Dalam pelaksanaan usahanya, Terdakwa I selaku penanggung jawab operasional dan Terdakwa II sebagai bagian administrasi bertugas mengelola penjualan, keuangan, dan pembayaran kepada pihak supplier. Akan tetapi, sejak bulan Mei 2019, para Terdakwa mulai tidak menyetorkan secara penuh hasil penjualan barang, dan sejak bulan Oktober 2020 tidak lagi melakukan penyetoran sama sekali, padahal seluruh barang titipan telah terjual. Uang hasil penjualan tersebut justru digunakan oleh para Terdakwa untuk membayar gaji karyawan, menutupi biaya operasional, serta memenuhi kebutuhan hidup pribadi, tanpa seizin atau sepengetahuan PT. Putra Dewata Sejati. Perbuatan para Terdakwa tersebut telah mengakibatkan kerugian keuangan bagi PT. Putra Dewata Sejati sebesar Rp413.883.979,- (empat ratus tiga belas juta delapan ratus delapan puluh tiga ribu sembilan ratus tujuh puluh sembilan rupiah). Perbuatan tersebut dilakukan secara bersama-sama dan berlanjut, serta diatur dan diancam pidana dalam Pasal 372 KUHP jo. Pasal 55 Ayat (1) ke-1 KUHP jo. Pasal 64 Ayat (1) KUHP.",
         "['Pasal 372 KUHP jo. Pasal 55 Ayat (1) ke-1 KUHP jo. Pasal 64 Ayat (1) KUHP']",
         "NI KOMANG WARSIKI",
         "10.0"
        ],
        [
         "15",
         "0",
         "8",
         "0",
         "6",
         "1 unit sepeda motor merek Yamaha N-Max warna hitam DK 3498 PT beserta kunci kontak 1 buah STNK sepeda motor merek Yamaha N-Max DK 3498 PT 1 buah BPKB sepeda motor merek Yamaha N-Max DK 3498 PT Dikembalikan kepada Made Yusa Paramartha 1 unit sepeda motor merek Yamaha N-Max warna hitam DK 6992 LB beserta kunci kontak 1 buah STNK sepeda motor merek Yamaha N-Max DK 6992 LB 1 buah cover under dek bawah kolong sepeda motor merek Yamaha N-Max warna hitam 1 buah cover paru fender inner sepeda motor merek Yamaha N-Max warna hitam 2 buah dek sayap body bawah sepeda motor merek Yamaha N-Max warna ungu Dikembalikan kepada I Kadek Indrawan 1 unit mobil merek Honda Jazz GE8 warna putih DK 1049 WH 1 buah STNK mobil merek Honda Jazz GE8 DK 1049 WH Dikembalikan kepada Ni Luh Putu Suparwati 1 unit sepeda motor merek Yamaha N-Max warna hitam DK 6492 ZY beserta kunci kontak 1 lembar STNK Sepeda Motor Yamaha N-Max DK 4665 TG, Noka MH3SG3190JJ314087, Nosin G3E4E-1103102, nama pemilik a.n. I Ketut Merta Yasa 2 buah plat sepeda motor palsu warna hitam DK 4665 TG 2 buah spion sepeda motor merek Yamaha N-Max warna hitam Dikembalikan kepada Penuntut Umum untuk dijadikan barang bukti dalam perkara lain 1 buah kunci T warna hitam 1 buah obeng dengan gagang warna hitam 1 buah kunci ring pas 12 warna putih merek Wipro 1 buah tang dengan gagang warna merah 1 set kunci L warna putih merek Allwin 1 buah mesin bor tanpa kabel warna merah hitam merek Bitec Dimusnahkan Uang tunai Rp1.000.000,00 (satu juta rupiah) Dirampas untuk negara  6. Membebankan kepada Para Terdakwa membayar biaya perkara masing-masing sejumlah Rp5.000,00 (lima ribu rupiah)",
         "Terdakwa I Ketut Joni Adnyana Adi Putra dan Terdakwa II Rosita Evayanti Dewi melakukan pencurian sepeda motor di dua lokasi berbeda di wilayah Kintamani, Bangli. Aksi pertama dilakukan pada 10 September 2023 sekitar pukul 01.00 WITA di parkiran Sukawana Sunrise, di mana Terdakwa I mengambil sepeda motor Yamaha NMAX DK 3498 PT milik saksi Made Yusa Paramartha dengan cara mendorong motor yang tidak terkunci dan menyalakan mesin menggunakan alat-alat seperti obeng, tang, dan kunci L. Motor hasil curian ini digunakan untuk keperluan sehari-hari. Aksi kedua dilakukan pada 1 Oktober 2023 sekitar pukul 02.00 WITA di parkiran Le Monte Sunrise. Dengan menggunakan mobil sewaan, kedua terdakwa kembali ke Kintamani dan Terdakwa I mencuri motor Yamaha NMAX DK 6992 LB milik I Kadek Indrawan dengan modus serupa. Sepeda motor tersebut kemudian dijual secara daring seharga Rp5.300.000. Akibat perbuatan kedua terdakwa, saksi Made Yusa Paramartha mengalami kerugian sebesar Rp25.500.000,- dan saksi I Kadek Indrawan mengalami kerugian sebesar Rp26.700.000,-. Perbuatan para terdakwa diancam pidana berdasarkan Pasal 363 Ayat (1) ke-4 KUHP jo. Pasal 65 Ayat (1) KUHP.",
         "['Pasal 363 Ayat (1) ke-4 KUHP jo. Pasal 65 Ayat (1) KUHP']",
         "I KETUT JONI ADNYANA ADI PUTRA",
         "16.0"
        ],
        [
         "16",
         "0",
         "9",
         "0",
         "6",
         "1 unit sepeda motor merek Yamaha N-Max warna hitam DK 3498 PT beserta kunci kontak 1 buah STNK sepeda motor merek Yamaha N-Max DK 3498 PT 1 buah BPKB sepeda motor merek Yamaha N-Max DK 3498 PT Dikembalikan kepada Made Yusa Paramartha 1 unit sepeda motor merek Yamaha N-Max warna hitam DK 6992 LB beserta kunci kontak 1 buah STNK sepeda motor merek Yamaha N-Max DK 6992 LB 1 buah cover under dek bawah kolong sepeda motor merek Yamaha N-Max warna hitam 1 buah cover paru fender inner sepeda motor merek Yamaha N-Max warna hitam 2 buah dek sayap body bawah sepeda motor merek Yamaha N-Max warna ungu Dikembalikan kepada I Kadek Indrawan 1 unit mobil merek Honda Jazz GE8 warna putih DK 1049 WH 1 buah STNK mobil merek Honda Jazz GE8 DK 1049 WH Dikembalikan kepada Ni Luh Putu Suparwati 1 unit sepeda motor merek Yamaha N-Max warna hitam DK 6492 ZY beserta kunci kontak 1 lembar STNK Sepeda Motor Yamaha N-Max DK 4665 TG, Noka MH3SG3190JJ314087, Nosin G3E4E-1103102, nama pemilik a.n. I Ketut Merta Yasa 2 buah plat sepeda motor palsu warna hitam DK 4665 TG 2 buah spion sepeda motor merek Yamaha N-Max warna hitam Dikembalikan kepada Penuntut Umum untuk dijadikan barang bukti dalam perkara lain 1 buah kunci T warna hitam 1 buah obeng dengan gagang warna hitam 1 buah kunci ring pas 12 warna putih merek Wipro 1 buah tang dengan gagang warna merah 1 set kunci L warna putih merek Allwin 1 buah mesin bor tanpa kabel warna merah hitam merek Bitec Dimusnahkan Uang tunai Rp1.000.000,00 (satu juta rupiah) Dirampas untuk negara  6. Membebankan kepada Para Terdakwa membayar biaya perkara masing-masing sejumlah Rp5.000,00 (lima ribu rupiah)",
         "Terdakwa I Ketut Joni Adnyana Adi Putra dan Terdakwa II Rosita Evayanti Dewi melakukan pencurian sepeda motor di dua lokasi berbeda di wilayah Kintamani, Bangli. Aksi pertama dilakukan pada 10 September 2023 sekitar pukul 01.00 WITA di parkiran Sukawana Sunrise, di mana Terdakwa I mengambil sepeda motor Yamaha NMAX DK 3498 PT milik saksi Made Yusa Paramartha dengan cara mendorong motor yang tidak terkunci dan menyalakan mesin menggunakan alat-alat seperti obeng, tang, dan kunci L. Motor hasil curian ini digunakan untuk keperluan sehari-hari. Aksi kedua dilakukan pada 1 Oktober 2023 sekitar pukul 02.00 WITA di parkiran Le Monte Sunrise. Dengan menggunakan mobil sewaan, kedua terdakwa kembali ke Kintamani dan Terdakwa I mencuri motor Yamaha NMAX DK 6992 LB milik I Kadek Indrawan dengan modus serupa. Sepeda motor tersebut kemudian dijual secara daring seharga Rp5.300.000. Akibat perbuatan kedua terdakwa, saksi Made Yusa Paramartha mengalami kerugian sebesar Rp25.500.000,- dan saksi I Kadek Indrawan mengalami kerugian sebesar Rp26.700.000,-. Perbuatan para terdakwa diancam pidana berdasarkan Pasal 363 Ayat (1) ke-4 KUHP jo. Pasal 65 Ayat (1) KUHP.",
         "['Pasal 363 Ayat (1) ke-4 KUHP jo. Pasal 65 Ayat (1) KUHP']",
         "I KETUT JONI ADNYANA ADI PUTRA",
         "16.0"
        ],
        [
         "17",
         "0",
         "8",
         "0",
         "6",
         "1 unit sepeda motor merek Yamaha N-Max warna hitam DK 3498 PT beserta kunci kontak 1 buah STNK sepeda motor merek Yamaha N-Max DK 3498 PT 1 buah BPKB sepeda motor merek Yamaha N-Max DK 3498 PT Dikembalikan kepada Made Yusa Paramartha 1 unit sepeda motor merek Yamaha N-Max warna hitam DK 6992 LB beserta kunci kontak 1 buah STNK sepeda motor merek Yamaha N-Max DK 6992 LB 1 buah cover under dek bawah kolong sepeda motor merek Yamaha N-Max warna hitam 1 buah cover paru fender inner sepeda motor merek Yamaha N-Max warna hitam 2 buah dek sayap body bawah sepeda motor merek Yamaha N-Max warna ungu Dikembalikan kepada I Kadek Indrawan 1 unit mobil merek Honda Jazz GE8 warna putih DK 1049 WH 1 buah STNK mobil merek Honda Jazz GE8 DK 1049 WH Dikembalikan kepada Ni Luh Putu Suparwati 1 unit sepeda motor merek Yamaha N-Max warna hitam DK 6492 ZY beserta kunci kontak 1 lembar STNK Sepeda Motor Yamaha N-Max DK 4665 TG, Noka MH3SG3190JJ314087, Nosin G3E4E-1103102, nama pemilik a.n. I Ketut Merta Yasa 2 buah plat sepeda motor palsu warna hitam DK 4665 TG 2 buah spion sepeda motor merek Yamaha N-Max warna hitam Dikembalikan kepada Penuntut Umum untuk dijadikan barang bukti dalam perkara lain 1 buah kunci T warna hitam 1 buah obeng dengan gagang warna hitam 1 buah kunci ring pas 12 warna putih merek Wipro 1 buah tang dengan gagang warna merah 1 set kunci L warna putih merek Allwin 1 buah mesin bor tanpa kabel warna merah hitam merek Bitec Dimusnahkan Uang tunai Rp1.000.000,00 (satu juta rupiah) Dirampas untuk negara  6. Membebankan kepada Para Terdakwa membayar biaya perkara masing-masing sejumlah Rp5.000,00 (lima ribu rupiah)",
         "Terdakwa I Ketut Joni Adnyana Adi Putra dan Terdakwa II Rosita Evayanti Dewi melakukan pencurian sepeda motor di dua lokasi berbeda di wilayah Kintamani, Bangli. Aksi pertama dilakukan pada 10 September 2023 sekitar pukul 01.00 WITA di parkiran Sukawana Sunrise, di mana Terdakwa I mengambil sepeda motor Yamaha NMAX DK 3498 PT milik saksi Made Yusa Paramartha dengan cara mendorong motor yang tidak terkunci dan menyalakan mesin menggunakan alat-alat seperti obeng, tang, dan kunci L. Motor hasil curian ini digunakan untuk keperluan sehari-hari. Aksi kedua dilakukan pada 1 Oktober 2023 sekitar pukul 02.00 WITA di parkiran Le Monte Sunrise. Dengan menggunakan mobil sewaan, kedua terdakwa kembali ke Kintamani dan Terdakwa I mencuri motor Yamaha NMAX DK 6992 LB milik I Kadek Indrawan dengan modus serupa. Sepeda motor tersebut kemudian dijual secara daring seharga Rp5.300.000. Akibat perbuatan kedua terdakwa, saksi Made Yusa Paramartha mengalami kerugian sebesar Rp25.500.000,- dan saksi I Kadek Indrawan mengalami kerugian sebesar Rp26.700.000,-. Perbuatan para terdakwa diancam pidana berdasarkan Pasal 363 Ayat (1) ke-4 KUHP jo. Pasal 65 Ayat (1) KUHP.",
         "['Pasal 363 Ayat (1) ke-4 KUHP jo. Pasal 65 Ayat (1) KUHP']",
         "ROSITA EVAYANTI DEWI",
         "14.0"
        ],
        [
         "18",
         "0",
         "9",
         "0",
         "6",
         "1 unit sepeda motor merek Yamaha N-Max warna hitam DK 3498 PT beserta kunci kontak 1 buah STNK sepeda motor merek Yamaha N-Max DK 3498 PT 1 buah BPKB sepeda motor merek Yamaha N-Max DK 3498 PT Dikembalikan kepada Made Yusa Paramartha 1 unit sepeda motor merek Yamaha N-Max warna hitam DK 6992 LB beserta kunci kontak 1 buah STNK sepeda motor merek Yamaha N-Max DK 6992 LB 1 buah cover under dek bawah kolong sepeda motor merek Yamaha N-Max warna hitam 1 buah cover paru fender inner sepeda motor merek Yamaha N-Max warna hitam 2 buah dek sayap body bawah sepeda motor merek Yamaha N-Max warna ungu Dikembalikan kepada I Kadek Indrawan 1 unit mobil merek Honda Jazz GE8 warna putih DK 1049 WH 1 buah STNK mobil merek Honda Jazz GE8 DK 1049 WH Dikembalikan kepada Ni Luh Putu Suparwati 1 unit sepeda motor merek Yamaha N-Max warna hitam DK 6492 ZY beserta kunci kontak 1 lembar STNK Sepeda Motor Yamaha N-Max DK 4665 TG, Noka MH3SG3190JJ314087, Nosin G3E4E-1103102, nama pemilik a.n. I Ketut Merta Yasa 2 buah plat sepeda motor palsu warna hitam DK 4665 TG 2 buah spion sepeda motor merek Yamaha N-Max warna hitam Dikembalikan kepada Penuntut Umum untuk dijadikan barang bukti dalam perkara lain 1 buah kunci T warna hitam 1 buah obeng dengan gagang warna hitam 1 buah kunci ring pas 12 warna putih merek Wipro 1 buah tang dengan gagang warna merah 1 set kunci L warna putih merek Allwin 1 buah mesin bor tanpa kabel warna merah hitam merek Bitec Dimusnahkan Uang tunai Rp1.000.000,00 (satu juta rupiah) Dirampas untuk negara  6. Membebankan kepada Para Terdakwa membayar biaya perkara masing-masing sejumlah Rp5.000,00 (lima ribu rupiah)",
         "Terdakwa I Ketut Joni Adnyana Adi Putra dan Terdakwa II Rosita Evayanti Dewi melakukan pencurian sepeda motor di dua lokasi berbeda di wilayah Kintamani, Bangli. Aksi pertama dilakukan pada 10 September 2023 sekitar pukul 01.00 WITA di parkiran Sukawana Sunrise, di mana Terdakwa I mengambil sepeda motor Yamaha NMAX DK 3498 PT milik saksi Made Yusa Paramartha dengan cara mendorong motor yang tidak terkunci dan menyalakan mesin menggunakan alat-alat seperti obeng, tang, dan kunci L. Motor hasil curian ini digunakan untuk keperluan sehari-hari. Aksi kedua dilakukan pada 1 Oktober 2023 sekitar pukul 02.00 WITA di parkiran Le Monte Sunrise. Dengan menggunakan mobil sewaan, kedua terdakwa kembali ke Kintamani dan Terdakwa I mencuri motor Yamaha NMAX DK 6992 LB milik I Kadek Indrawan dengan modus serupa. Sepeda motor tersebut kemudian dijual secara daring seharga Rp5.300.000. Akibat perbuatan kedua terdakwa, saksi Made Yusa Paramartha mengalami kerugian sebesar Rp25.500.000,- dan saksi I Kadek Indrawan mengalami kerugian sebesar Rp26.700.000,-. Perbuatan para terdakwa diancam pidana berdasarkan Pasal 363 Ayat (1) ke-4 KUHP jo. Pasal 65 Ayat (1) KUHP.",
         "['Pasal 363 Ayat (1) ke-4 KUHP jo. Pasal 65 Ayat (1) KUHP']",
         "ROSITA EVAYANTI DEWI",
         "14.0"
        ],
        [
         "19",
         "0",
         "1",
         "0",
         "4",
         "- Uang tunai sebesar Rp. 10.000.000,00(sepuluh juta rupiah). - 1 buah kartu ATM BRI, Nomor Kartu 6013012227516306 dikembalikan kepada Saksi Luh Putu Widiantari, S.E - 1 unit Sepeda Motor Honda Vario 125 warna putih DK 6266 PZ, Noka MH1JMD119PK176948, Nosin JMD1E-1177179 beserta kunci kontak. - 1 lembar STNK Sepeda Motor Honda Vario 125 DK 6266 PZ, Noka MH1JMD119PK176948, Nosin JMD1E-1177179, Nama pemilik an. I NYOMAN BUDIAWAN Dikembalikan kepada Terdakwa - 1 unit Mobil Suzuki ST 150 Pick Up warna hitam DK 8958 HD beserta kunci kontak  Dikembalikan kepada Saksi I Wayan Sarjana 6. Membebankan kepada Terdakwa membayar biaya perkara sejumlah Rp5.000,00 (lima ribu rupiah)",
         "Pada hari Rabu, 25 Oktober 2023 sekitar pukul 13.00 WITA, terdakwa I Nyoman Budiawan alias Sumawan melakukan pencurian kartu ATM BRI milik saksi Luh Putu Widiantari di Toko UD. Langsung Jaya, Jalan Raya Kintamani, Desa Kintamani, Kecamatan Kintamani, Kabupaten Bangli. Awalnya, terdakwa datang ke toko tersebut untuk mentransfer uang, namun saat mengetahui mesin BRI Link rusak dan pegawai toko pergi, terdakwa memanfaatkan situasi sepi untuk mengambil kartu ATM yang berada di atas meja kasir. Terdakwa kemudian pulang ke rumahnya dan menggunakan kartu ATM tersebut di mesin ATM BRI Toya Devasya, dengan memasukkan PIN 020202 yang telah ia ketahui sebelumnya karena sering melihat pegawai toko menggunakannya. Terdakwa melakukan penarikan tunai sebanyak empat kali dengan total Rp10.000.000. Setelah menerima laporan dari korban, pihak kepolisian melakukan olah TKP dan berhasil mengamankan terdakwa di rumahnya pada 28 Oktober 2023. Akibat perbuatannya, korban mengalami kerugian sebesar Rp10.000.000. Perbuatan terdakwa diancam pidana berdasarkan Pasal 362 KUHP.",
         "['Pasal 362 KUHP']",
         "I NYOMAN BUDIAWAN Als. SUMAWAN",
         "14.0"
        ],
        [
         "20",
         "0",
         "0",
         "0",
         "4",
         "- Uang tunai sebesar Rp. 10.000.000,00(sepuluh juta rupiah). - 1 buah kartu ATM BRI, Nomor Kartu 6013012227516306 dikembalikan kepada Saksi Luh Putu Widiantari, S.E - 1 unit Sepeda Motor Honda Vario 125 warna putih DK 6266 PZ, Noka MH1JMD119PK176948, Nosin JMD1E-1177179 beserta kunci kontak. - 1 lembar STNK Sepeda Motor Honda Vario 125 DK 6266 PZ, Noka MH1JMD119PK176948, Nosin JMD1E-1177179, Nama pemilik an. I NYOMAN BUDIAWAN Dikembalikan kepada Terdakwa - 1 unit Mobil Suzuki ST 150 Pick Up warna hitam DK 8958 HD beserta kunci kontak  Dikembalikan kepada Saksi I Wayan Sarjana 6. Membebankan kepada Terdakwa membayar biaya perkara sejumlah Rp5.000,00 (lima ribu rupiah)",
         "Pada hari Rabu, 25 Oktober 2023 sekitar pukul 13.00 WITA, terdakwa I Nyoman Budiawan alias Sumawan melakukan pencurian kartu ATM BRI milik saksi Luh Putu Widiantari di Toko UD. Langsung Jaya, Jalan Raya Kintamani, Desa Kintamani, Kecamatan Kintamani, Kabupaten Bangli. Awalnya, terdakwa datang ke toko tersebut untuk mentransfer uang, namun saat mengetahui mesin BRI Link rusak dan pegawai toko pergi, terdakwa memanfaatkan situasi sepi untuk mengambil kartu ATM yang berada di atas meja kasir. Terdakwa kemudian pulang ke rumahnya dan menggunakan kartu ATM tersebut di mesin ATM BRI Toya Devasya, dengan memasukkan PIN 020202 yang telah ia ketahui sebelumnya karena sering melihat pegawai toko menggunakannya. Terdakwa melakukan penarikan tunai sebanyak empat kali dengan total Rp10.000.000. Setelah menerima laporan dari korban, pihak kepolisian melakukan olah TKP dan berhasil mengamankan terdakwa di rumahnya pada 28 Oktober 2023. Akibat perbuatannya, korban mengalami kerugian sebesar Rp10.000.000. Perbuatan terdakwa diancam pidana berdasarkan Pasal 362 KUHP.",
         "['Pasal 362 KUHP']",
         "I NYOMAN BUDIAWAN Als. SUMAWAN",
         "14.0"
        ],
        [
         "21",
         "1",
         "10",
         "0",
         "7",
         "2 lembar cek rekening BRI tertanggal 12 Mei 2023 Rp145.000.000,00 (seratus empat puluh lima juta rupiah) dan 22 Mei 2023 Rp146.000.000,00 (seratus empat puluh enam juta rupiah) 1 lembar foto copy cek rekening BRI tertanggal 10 Mei 2023 Rp100.000.000,00 (seratus juta rupiah) 2 lembar Surat Keterangan Penolakan (SKP) dari PT. BRI (persero) Tbk. tanggal 5 Juni 2023 6 lembar nota dari CV. Yugantara Putra Jaya dengan rincian sebagai berikut pembelian 1000 Tr telur tertanggal 21 April 2023 sejumlah Rp50.000.000,00 (lima puluh juta rupiah) pembelian 1000 Tr telur tertanggal 23 April 2023 sejumlah Rp52.000.000,00 (lima puluh dua juta rupiah) pembelian 2000 Tr telur tertanggal 25 April 2023 sejumlah Rp104.000.000,00 (seratus empat juta rupiah) pembelian 435 Tr telur tertanggal 28 April 2023 sejumlah Rp22.600.000,00 (dua puluh dua juta enam ratus ribu rupiah) pembelian 400 kilogram beras tertanggal 28 April 2023 sejumlah Rp112.000.000,00 (seratus dua belas juta rupiah) pembelian 180 kilogram beras tertanggal 30 April 2023 sejumlah Rp50.400.000,00 (lima puluh juta empat ratus ribu rupiah) dikembalikan kepada I Putu Sutarga 6. Membebankan kepada Terdakwa membayar biaya perkara sejumlah Rp5.000,00 (lima ribu rupiah)",
         "Pada bulan April 2023, terdakwa Desak Made Citrawati didakwa melakukan tindak pidana penipuan secara berlanjut terhadap dua korban, yaitu I Putu Sutarga dan Pande Ketut Suarca, dengan total kerugian mencapai lebih dari Rp 391 juta. Modus operandi terdakwa adalah membeli telur dan beras dalam jumlah besar dari kedua korban dengan dalih pembayaran menggunakan cek mundur, disertai pernyataan palsu bahwa ia memiliki aset tanah di Singaraja yang sedang dalam proses penjualan. Terdakwa memesan telur sebanyak 4.435 krei dari I Putu Sutarga senilai total Rp 228.600.000, dan beras sebanyak 14.500 kg dari Pande Ketut Suarca dengan total nilai Rp 162.400.000. Setiap transaksi dilakukan secara bertahap pada tanggal 21, 23, 25, dan 28 April 2023. Terdakwa meyakinkan para korban dengan janji pelunasan dan surat pengakuan utang, namun setelah cek jatuh tempo, tidak ada dana yang tersedia. Pemeriksaan terhadap klaim kepemilikan tanah menunjukkan bahwa terdakwa hanya memberikan uang muka atas tanah tersebut dan belum ada kepastian transaksi. Perbuatan Terdakwa didakwa dengan dakwaan primair Pasal 378 jo. Pasal 64 Ayat (1) ke-1 KUHP, dan dakwaan subsidair 379a KUHP Jo. Pasal 64 Ayat (1) ke-1 KUHP.",
         "['Pasal 378 jo. Pasal 64 Ayat (1) ke-1 KUHP', '379a KUHP Jo. Pasal 64 Ayat (1) ke-1 KUHP']",
         "DESAK MADE CITRAWATI",
         "30.0"
        ],
        [
         "22",
         "0",
         "11",
         "4",
         "3",
         "1 lembar surat tanda nomor kendaraan (STNK) sepeda motor merek Honda Scoopy, tipe F1C02N28L0 A/T, tahun 2018, warna hitam, Nopol DK 5807 PS, Noka MH1JM311XJK830213, dan Nosin JM31E1827084 a.n. I Wayan Miyasa yang beralamat di Banjar Tingas, Kecamatan Tembuku, Kabupaten Bangli 1 buah buku pemilik kendaraan bermotor (BPKB) Nomor O-03326115, DK 5807 PS, Honda, Tahun 2018, Hitam, Noka MH1JM311XJK830213, dan Nosin JM31E1827084 a.n. I Wayan Miyasa yang beralamat di Banjar Tingas, Kecamatan Tembuku, Kabupaten Bangli 1 unit sepeda motor merek Honda Scoopy, warna Hitam, Nopol DK 3263 KAQ, Noka MH1JM311XJK830213, dan Nosin JM31E1827084 1 buah kunci kontak sepeda motor merek Honda (duplikat) 1 buah kunci kontak sepeda motor merek Honda Dikembalikan kepada Penuntut Umum untuk dijadikan barang bukti dalam perkara atas nama Dewa Made Sujana 6. Membebankan kepada Terdakwa membayar biaya perkara sejumlah Rp5.000,00 (lima ribu rupiah)",
         "Pada hari Jumat, 5 Februari 2021 sekitar pukul 19.00 WITA, terdakwa I Ketut Dena bersama Dewa Made Sujana (dalam berkas terpisah) melakukan pencurian satu unit sepeda motor Honda Scoopy warna hitam kombinasi merah dengan nomor polisi DK 5807 PS yang terparkir di depan rumah saksi I Nengah Sumerta di Desa Yangapi, Kecamatan Tembuku, Kabupaten Bangli. Sebelumnya, kedua terdakwa sempat pergi ke beberapa lokasi sabung ayam. Saat melintasi lokasi kejadian, Dewa Made Sujana melihat motor dalam keadaan tidak terkunci dan memerintahkan Ketut Dena untuk berjaga sementara dirinya mengambil sepeda motor tersebut. Setelah berhasil menghidupkan dan membawa motor itu, mereka menyembunyikannya di bawah jembatan di Gianyar. Keesokan harinya, motor tersebut diambil kembali dan diganti plat nomornya menggunakan plat dari motor lain, kemudian dibawa ke rumah Dewa Made Sujana. Sore harinya, Dewa Made Sujana ditangkap karena kasus pencurian handphone dan meminta Ketut Dena mengambil motor tersebut. Karena motor terkunci dan kuncinya masih disimpan Dewa Made Sujana, Ketut Dena memanggil tukang kunci untuk membuat duplikat. Motor curian itu lalu digadaikan oleh Ketut Dena kepada saksi Luh Sriani seharga Rp2.000.000 tanpa dokumen STNK atau BPKB. Korban, I Wayan Miyasa, melaporkan kehilangan tersebut ke Polsek Tembuku. Sekitar seminggu kemudian, Ketut Dena ditangkap atas kasus penadahan, mengakui perbuatannya, dan membantu polisi mencari motor dan kunci aslinya yang ditemukan di tas milik Dewa Made Sujana. Akibat perbuatan tersebut, korban mengalami kerugian sekitar Rp15.000.000. Tindak pidana ini diancam dengan 2 dakwaan yaitu dakwaan primair dengan Pasal 363 ayat (1) ke-4 KUHP serta dakwaan subsidair dengan Pasal 326 KUHP.",
         "['Pasal 363 Ayat (1) ke-4 KUHP', 'Pasal 326 KUHP']",
         "I KETUT DENA",
         "12.0"
        ],
        [
         "23",
         "0",
         "11",
         "4",
         "6",
         "1 lembar surat tanda nomor kendaraan (STNK) sepeda motor merek Honda Scoopy, tipe F1C02N28L0 A/T, tahun 2018, warna hitam, Nopol DK 5807 PS, Noka MH1JM311XJK830213, dan Nosin JM31E1827084 a.n. I Wayan Miyasa yang beralamat di Banjar Tingas, Kecamatan Tembuku, Kabupaten Bangli 1 buah buku pemilik kendaraan bermotor (BPKB) Nomor O-03326115, DK 5807 PS, Honda, Tahun 2018, Hitam, Noka MH1JM311XJK830213, dan Nosin JM31E1827084 a.n. I Wayan Miyasa yang beralamat di Banjar Tingas, Kecamatan Tembuku, Kabupaten Bangli 1 unit sepeda motor merek Honda Scoopy, warna Hitam, Nopol DK 3263 KAQ, Noka MH1JM311XJK830213, dan Nosin JM31E1827084 1 buah kunci kontak sepeda motor merek Honda Dikembalikan kepada I Wayan Miyasa 1 buah kunci kontak sepeda motor merek Honda (duplikat) Dimusnahkan 4. Membebankan kepada Terdakwa membayar biaya perkara sejumlah Rp5.000,00 (lima ribu rupiah)",
         "Pada hari Jumat, 5 Februari 2021 sekitar pukul 09.30 WITA, Terdakwa Dewa Made Sujana bersama I Ketut Dena (berkas terpisah) pergi ke Nongan, Karangasem untuk menonton sabung ayam dengan mengendarai sepeda motor Honda Scoopy warna coklat hitam. Sekitar pukul 14.30 WITA, mereka mendengar ada sabung ayam di Pulasari, Tembuku, namun karena acara tersebut tidak ada, mereka kembali melewati Banjar Sideparna, Desa Yangapi, Bangli. Di lokasi tersebut, Terdakwa melihat sepeda motor Honda Scoopy warna hitam kombinasi merah yang terparkir dengan kunci masih menggantung, lalu meminta I Ketut Dena berhenti untuk mengawasi sekitar. Setelah merasa aman, Terdakwa menyalakan dan membawa kabur sepeda motor tersebut, sedangkan I Ketut Dena mengikuti dengan motor yang mereka gunakan sebelumnya. Motor hasil curian tersebut disembunyikan di bawah jembatan dekat Pantai Lebih, Gianyar. Keesokan harinya, mereka kembali mengambil motor tersebut dan mengganti plat nomornya dengan yang diambil dari motor lain, kemudian motor dibawa ke rumah Terdakwa di Ubud dan diparkir di garasi. Pada sore harinya, Terdakwa ditangkap oleh Polsek Sukawati atas kasus pencurian handphone. Saat penggeledahan, ditemukan kunci asli motor curian di tas milik Terdakwa yang diserahkan oleh istrinya. Akibat perbuatan tersebut, saksi korban I Wayan Miyasa mengalami kerugian sebesar Rp15.000.000. Perbuatan Terdakwa didakwa dengan dakwaan primair Pasal 363 Ayat (1) ke-4 KUHP, dan dakwaan subsidair Pasal 362 KUHP.",
         "['Pasal 363 Ayat (1) ke-4 KUHP', 'Pasal 362 KUHP']",
         "DEWA MADE SUJANA",
         "15.0"
        ],
        [
         "24",
         "2",
         "12",
         "4",
         "2",
         "1 plastik klip bening yang berisi sabu dengan berat 0,10 (nol koma sepuluh) gram netto selanjutnya disisihkan seberat 0,02 (nol koma nol dua) gram netto untuk uji labforensik sehingga sisa barang bukti 0,08 (nol koma nol delapan) gram netto 1 buah gantungan handphone merek Furious warna hitam 1 lembar stiker Furious wana putih 1 buah jaket merek Furious warna biru dongker 1 buah handphone merek Samsung A04 warna biru berikut 1 buah Simcard XL Axiata dimusnahkan 1 unit sepeda motor merek Honda Scoopy warna merah dengan No. Pol DK 5548 PT berikut kunci kontak dikembalikan kepada yang berhak melalui Terdakwa 7. Membebankan kepada Terdakwa membayar biaya perkara sejumlah Rp5.000,00 (lima ribu rupiah)",
         "Pada Selasa, 6 Juni 2023 sekitar pukul 20.10 WITA di Jalan Tirta Geduh, Kelurahan Bebalang, Bangli, terdakwa I Komang Rendi Yana alias Rendi ditangkap karena tanpa hak memiliki dan menyimpan narkotika jenis sabu. Awalnya, terdakwa memesan sabu seharga Rp200.000 kepada seseorang bernama Gus Ucil (DPO), lalu mengambil paket tersebut di bawah pohon mahoni di Jalan Putra Yuda, Bangli, sesuai petunjuk. Setelah dikonsumsi sebagian di rumahnya di Banua, Kintamani, sisa sabu disimpan dalam gantungan handphone yang dibungkus stiker dan diselipkan di jaket. Saat hendak ke alun-alun Bangli, terdakwa diberhentikan oleh polisi dan ditemukan sabu seberat 0,10 gram netto dalam jaketnya. Barang bukti lainnya termasuk bong bekas pakai, handphone, dan sepeda motor juga diamankan. Hasil uji laboratorium menunjukkan sabu mengandung metamfetamina yang tergolong Narkotika Golongan I. Perbuatan Terdakwa didakwa dengan dakwaan primair Pasal 112 Ayat (1) UU RI No. 35 Tahun 2009 tentang Narkotika, dan dakwaan subsidair Pasal 127 Ayat (1) huruf a UU RI No. 35 Tahun 2009 tentang Narkotika.",
         "['Pasal 112 Ayat (1) UU RI No. 35 Tahun 2009 tentang Narkotika', 'Pasal 127 Ayat (1) huruf a UU RI No. 35 Tahun 2009 tentang Narkotika']",
         "I KOMANG RENDI YANA alis RENDI",
         "15.0"
        ],
        [
         "25",
         "2",
         "5",
         "4",
         "2",
         "1 plastik klip bening yang berisi sabu dengan berat 0,10 (nol koma sepuluh) gram netto selanjutnya disisihkan seberat 0,02 (nol koma nol dua) gram netto untuk uji labforensik sehingga sisa barang bukti 0,08 (nol koma nol delapan) gram netto 1 buah gantungan handphone merek Furious warna hitam 1 lembar stiker Furious wana putih 1 buah jaket merek Furious warna biru dongker 1 buah handphone merek Samsung A04 warna biru berikut 1 buah Simcard XL Axiata dimusnahkan 1 unit sepeda motor merek Honda Scoopy warna merah dengan No. Pol DK 5548 PT berikut kunci kontak dikembalikan kepada yang berhak melalui Terdakwa 7. Membebankan kepada Terdakwa membayar biaya perkara sejumlah Rp5.000,00 (lima ribu rupiah)",
         "Pada Selasa, 6 Juni 2023 sekitar pukul 20.10 WITA di Jalan Tirta Geduh, Kelurahan Bebalang, Bangli, terdakwa I Komang Rendi Yana alias Rendi ditangkap karena tanpa hak memiliki dan menyimpan narkotika jenis sabu. Awalnya, terdakwa memesan sabu seharga Rp200.000 kepada seseorang bernama Gus Ucil (DPO), lalu mengambil paket tersebut di bawah pohon mahoni di Jalan Putra Yuda, Bangli, sesuai petunjuk. Setelah dikonsumsi sebagian di rumahnya di Banua, Kintamani, sisa sabu disimpan dalam gantungan handphone yang dibungkus stiker dan diselipkan di jaket. Saat hendak ke alun-alun Bangli, terdakwa diberhentikan oleh polisi dan ditemukan sabu seberat 0,10 gram netto dalam jaketnya. Barang bukti lainnya termasuk bong bekas pakai, handphone, dan sepeda motor juga diamankan. Hasil uji laboratorium menunjukkan sabu mengandung metamfetamina yang tergolong Narkotika Golongan I. Perbuatan Terdakwa didakwa dengan dakwaan primair Pasal 112 Ayat (1) UU RI No. 35 Tahun 2009 tentang Narkotika, dan dakwaan subsidair Pasal 127 Ayat (1) huruf a UU RI No. 35 Tahun 2009 tentang Narkotika.",
         "['Pasal 112 Ayat (1) UU RI No. 35 Tahun 2009 tentang Narkotika', 'Pasal 127 Ayat (1) huruf a UU RI No. 35 Tahun 2009 tentang Narkotika']",
         "I KOMANG RENDI YANA alis RENDI",
         "15.0"
        ],
        [
         "26",
         "2",
         "13",
         "0",
         "3",
         "1 buah plastik klip bening yang berisi serbuk kristal yang diduga Narkotika golongan I bukan tanaman jenis shabu dengan berat 0,18 (nol koma delapan belas) gram bruto atau 0,10 (nol koma sepuluh) gram netto dan disisihkan 0,02 (nol koma nol dua) gram netto untuk uji labforensik sehingga berat Narkotika 0,08 (nol koma delapan) gram netto 1 buah bungkus rokok merk Dunhill warna putih 1 buah handphone merk OPPO warna ungu lengkap dengan 2 buah simcard dan 1 buah memory card Dimusnahkan 1 unit sepeda motor merk Honda Vario DK 3171 LK warna hitam 1 lembar STNK sepeda motor Honda Vario DK 3171 LK warna hitam atas nama pemilik I WAYAN DARSA alamat Br. Lungsiakan, Kedewatan Ubud Gianyar 1 buah kunci kontak. Dikembalikan kepada yang berhak melalui Terdakwa 7. Membebankan kepada Terdakwa membayar biaya perkara sejumlah Rp5.000,00 (lima ribu rupiah)",
         "Pada Senin, 24 April 2023 sekitar pukul 22.30 WITA di pinggir Jalan Muhamad Hatta, Bebalang, Bangli, terdakwa I Gusti Lanang Made Wijaya alias Lanang tertangkap karena tanpa hak memiliki narkotika jenis sabu. Sebelumnya, terdakwa memesan sabu seharga Rp700.000 dari seseorang bernama Jung Tu (DPO) melalui WhatsApp dan mengambil barang tersebut di bawah pot bunga di Desa Semana, Badung. Setelah mengonsumsinya sebagian di rumahnya di Ubud, terdakwa menyimpan sisa sabu ke dalam bungkus rokok yang dimasukkan ke saku celana. Malam harinya, saat hendak menemui seorang wanita bernama Riena (DPO) di Bangli, terdakwa dihentikan oleh polisi dan dilakukan penggeledahan. Polisi menemukan sabu seberat 0,10 gram netto, satu handphone, dan sepeda motor yang digunakan terdakwa. Berdasarkan hasil pemeriksaan laboratorium, kristal bening tersebut positif mengandung metamfetamina yang tergolong Narkotika Golongan I. Perbuatan Terdakwa didakwa dengan dakwaan primair Pasal 112 Ayat (1) UU RI No. 35 Tahun 2009 Tentang Narkotika, dan dakwaan subsidair Pasal 127 Ayat (1) huruf a UU RI No. 35 Tahun 2009 Tentang Narkotika.",
         "['Pasal 112 Ayat (1) UU RI No. 35 Tahun 2009 Tentang Narkotika', 'Pasal 127 Ayat (1) huruf a UU RI No. 35 Tahun 2009 Tentang Narkotika']",
         "I GUSTI LANANG MADE WIJAYA alias LANANG",
         "16.0"
        ],
        [
         "27",
         "2",
         "10",
         "2",
         "5",
         "1 plastik klip bening yang berisi narkotika golongan I bukan tanaman mengandung sediaan metamfetamina yang terdaftar dalam Narkotika Golongan I Nomor Urut 61 Lampiran I UURI Nomor 35 Tahun 2009 tentang Narkotika dengan berat 0,33 (nol koma tiga puluh tiga) gram bruto atau 0,15 (nol koma lima belas) gram netto selanjutnya disisihkan seberat 0,02 (nol koma nol dua) gram netto untuk uji labforensik sehingga sisa barang bukti 0,13 (nol koma tiga belas) gram netto 1 potong pipet plastik warna bening 1 lembar tissue warna putih 1 buah bungkus snack merek Superco 1 buah bungkus plastik warna hitam putih 1 unit handphone merek Samsung Galaxy Type J2 Prime warna hitam berikut 1 buah sim card IM3 dan 1 buah memory card Dipergunakan dalam perkara atas nama Sodakoh Maliki alias Dakoh  6. Membebankan kepada Terdakwa membayar biaya perkara sejumlah Rp5.000,00 (lima ribu rupiah)",
         "Terdakwa Selamet Harianto alias Selamet bersama Sodakoh Maliki alias Dakoh (dalam berkas terpisah) pada 15 Mei 2023 sekitar pukul 20.45 WITA, bertempat di Jalan Muhammad Hatta, Kelurahan Bebalang, Kecamatan Bangli, kedapatan memiliki narkotika jenis sabu seberat 0,15 gram netto tanpa izin dari pihak berwenang. Perbuatan ini berawal ketika Selamet menghubungi seseorang bernama Rizal (DPO) untuk mencari pekerjaan dan ditawari menjadi \"peluncur\" (PL), yaitu mengambil paket sabu di Bangli. Selamet kemudian mengajak Sodakoh Maliki untuk menemaninya dengan janji akan memakai sabu bersama. Mereka berangkat dari Denpasar ke Bangli dengan motor dan mengambil paket sabu yang disimpan di belakang tiang listrik sesuai petunjuk dari Rizal. Saat dalam perjalanan kembali ke Denpasar, mereka ditangkap oleh polisi di Jalan Muhammad Hatta dan ditemukan barang bukti sabu serta alat-alat konsumsi narkotika. Dalam penggeledahan, ditemukan pula sabu lain seberat 0,02 gram netto milik Sodakoh Maliki yang disimpan dalam tas pinggang, serta berbagai perlengkapan penggunaan sabu. Berdasarkan hasil uji laboratorium, kristal yang ditemukan terbukti mengandung metamfetamina, sedangkan hasil tes urine Selamet negatif narkotika. Selamet sebelumnya juga pernah dihukum dalam kasus serupa berdasarkan putusan PN Denpasar tahun 2019 dan baru bebas pada 7 Maret 2023. Terdakwa didakwa dengan Pasal 112 Ayat (1) UU RI No. 35 Tahun 2009 tentang Narkotika jo. Pasal 55 Ayat (1) ke-1 KUHP.",
         "['Pasal 112 Ayat (1) UU RI No. 35 Tahun 2009 tentang Narkotika jo. Pasal 55 Ayat (1) ke-1 KUHP']",
         "SELAMET HARIANTO alias SELAMET",
         "75.0"
        ],
        [
         "28",
         "2",
         "13",
         "4",
         "5",
         "Kode A1 1 bungkus yang diduga narkotika golongan I jenis tembakau sintetis yang dibungkus plastik merek Violin warna biru dengan berat 18,85 (delapan belas koma delapan puluh lima) gram bruto atau 14,59 (empat belas koma lima puluh sembilan) gram netto dan disisihkan 1 gram netto untuk uji labforensik sehingga berat narkotika 13,59 (tiga belas koma lima puluh sembilan) gram netto Kode A2 1 bungkus yang diduga narkotika golongan I jenis tembakau sintetis yang dibungkus plastik merek Rhino warna merah dengan berat 43,41 (empat puluh tiga koma empat puluh satu) gram bruto atau 39,41 (tiga puluh sembilan koma empat puluh satu) gram netto dan disisihkan 1 gram netto untuk uji labforensik sehingga berat narkotika 38,41 (tiga puluh delapan koma empat puluh satu) gram netto 1 buah kardus mie instan merek Indomie 1 buah plastik bubble wrap yang tertempel resi JT Express No JND/BNL001 GIA-BNL01 JD0229994349 4 buah kertas papir merek Radja Mas  Dimusnahkan  4. Membebankan kepada Terdakwa membayar biaya perkara sejumlah Rp5.000,00 (lima ribu rupiah)",
         "Terdakwa Raihan Rahadi Azhar alias Raihan, bersama-sama dengan Gungggus Togar Manatar Pangaribuan alias Togar (yang berkas perkaranya terpisah), pada 14 Maret 2023 di Rutan Kelas IIB Bangli, diduga melakukan tindak pidana narkotika dengan tanpa hak atau melawan hukum menjadi perantara dalam jual beli narkotika golongan I berupa tembakau sintetis. Togar meminjam nama Raihan untuk menerima paket berisi tembakau sintetis yang dikirim melalui jasa ekspedisi JT. Raihan menyetujui permintaan tersebut dan menerima paket atas namanya pada 16 Maret 2023. Setelah menerima paket di ruang portir rutan, Raihan langsung diamankan petugas. Pemeriksaan terhadap paket menunjukkan adanya dua bungkus tembakau sintetis dengan total berat bersih 52 gram netto, yang masing-masing dikemas dalam plastik bermerek Violin dan Rhino. Berdasarkan hasil uji laboratorium, daun-daun kering tersebut positif mengandung MDMB-4en PINACA, zat yang termasuk dalam Narkotika Golongan I. Raihan tidak memiliki izin dari Kementerian Kesehatan atau instansi berwenang lainnya untuk memperjualbelikan atau menjadi perantara narkotika tersebut. Perbuatan Terdakwa didakwa dengan dakwaan pertama Pasal 114 Ayat (1) UU RI No. 35 Tahun 2009 tentang Narkotika jo. Pasal 55 Ayat (1) ke-1 KUHP, dakwaan kedua Pasal 112 Ayat (1) UU RI No. 35 Tahun 2009 Tentang Narkotika jo. Pasal 55 Ayat (1) ke-1 KUHP, dan dakwaan ketiga Pasal 111 Ayat (1) UU RI No. 35 Tahun 2009 Tentang Narkotika jo. Pasal 55 Ayat (1) ke-1 KUHP.",
         "['Pasal 114 Ayat (1) UU RI No. 35 Tahun 2009 tentang Narkotika jo. Pasal 55 Ayat (1) ke-1 KUHP', 'Pasal 112 Ayat (1) UU RI No. 35 Tahun 2009 Tentang Narkotika jo. Pasal 55 Ayat (1) ke-1 KUHP', 'Pasal 111 Ayat (1) UU RI No. 35 Tahun 2009 Tentang Narkotika jo. Pasal 55 Ayat (1) ke-1 KUHP.']",
         "RAIHAN RAHADI AZHAR alias RAIHAN",
         "90.0"
        ],
        [
         "29",
         "2",
         "13",
         "4",
         "5",
         "Kode A1 1 bungkus yang diduga narkotika golongan I jenis tembakau sintetis yang dibungkus plastik merek Violin warna biru dengan berat 18,85 (delapan belas koma delapan puluh lima) gram bruto atau 14,59 (empat belas koma lima puluh sembilan) gram netto dan disisihkan 1 gram netto untuk uji labforensik sehingga berat narkotika 13,59 (tiga belas koma lima puluh sembilan) gram netto Kode A2 1 bungkus yang diduga narkotika golongan I jenis tembakau sintetis yang dibungkus plastik merek Rhino warna merah dengan berat 43,41 (empat puluh tiga koma empat puluh satu) gram bruto atau 39,41 (tiga puluh sembilan koma empat puluh satu) gram netto dan disisihkan 1 gram netto untuk uji labforensik sehingga berat narkotika 38,41 (tiga puluh delapan koma empat puluh satu) gram netto 1 buah kardus mie instan merek Indomie 1 buah plastik bubble wrap yang tertempel resi JT Express No JND/BNL001 GIA-BNL01 JD0229994349 4 buah kertas papir merek Radja Mas  Dipergunakan dalam perkara atas nama Raihan Rahadi Azhar alias Raihan  4. Membebankan kepada Terdakwa membayar biaya perkara sejumlah Rp5.000,00 (lima ribu rupiah)",
         "Terdakwa Gunggus Togar Manatar Pangaribuan alias Togar, baik sendiri maupun bersama-sama dengan Raihan Rahadi Azhar alias Raihan (terdakwa dalam berkas terpisah), pada 14 Maret 2023 sekitar pukul 12.00 WITA di kamar tahanan Blok B Rutan Kelas IIB Bangli, memesan narkotika golongan I berupa tembakau sintetis dari seorang bernama Zetas Networking (DPO). Terdakwa meminjam nama Raihan untuk menerima paket narkotika tersebut melalui jasa pengiriman JT. Setelah mentransfer uang sebesar Rp1.400.000 melalui OVO, Terdakwa meminta agar paket dikirim atas nama Raihan. Pada 16 Maret 2023, Raihan diamankan oleh petugas rutan saat menerima paket berisi dua bungkus tembakau sintetis, masing-masing dibungkus plastik bermerek Violin dan Rhino. Setelah diinterogasi, Raihan mengaku bahwa paket tersebut milik Terdakwa. Pemeriksaan barang bukti menunjukkan bahwa tembakau tersebut mengandung senyawa MDMB-4en PINACA yang tergolong dalam Narkotika Golongan I. Terdakwa tidak memiliki izin dari Menteri Kesehatan atau lembaga berwenang lainnya untuk memperjualbelikan atau menerima narkotika tersebut. Perbuatan Terdakwa didakwa dengan dakwaan pertama Pasal 114 Ayat (1) UU RI No. 35 Tahun 2009 tentang Narkotika jo. Pasal 55 Ayat (1) ke-1 KUHP, dakwaan kedua Pasal 112 Ayat (1) UU RI No. 35 Tahun 2009 Tentang Narkotika jo. Pasal 55 Ayat (1) ke-1 KUHP, dan dakwaan ketiga Pasal 111 Ayat (1) UU RI No. 35 Tahun 2009 Tentang Narkotika jo. Pasal 55 Ayat (1) ke-1 KUHP.",
         "['Pasal 114 Ayat (1) UU RI No. 35 Tahun 2009 tentang Narkotika jo. Pasal 55 Ayat (1) ke-1 KUHP', 'Pasal 112 Ayat (1) UU RI No. 35 Tahun 2009 Tentang Narkotika jo. Pasal 55 Ayat (1) ke-1 KUHP', 'Pasal 111 Ayat (1) UU RI No. 35 Tahun 2009 Tentang Narkotika jo. Pasal 55 Ayat (1) ke-1 KUHP']",
         "GUNGGUS TOGAR MANATAR PANGARIBUAN alias TOGAR",
         "102.0"
        ],
        [
         "30",
         "4",
         "14",
         "0",
         "4",
         "- Uang tunai sebesar Rp 2.370.000,00 (dua juta tiga ratus tujuh puluh ribu rupiah)  Dirampas untuk Negara - 1 buah handuk warna biru  - 12 pasang kartu ceki paito - 4 bundel kartu ceki - 1 buah kotak kaleng/seng warna hitam silver - 1 lembar perlak warna putih  Dimusnahkan 6. Membebankan kepada Para Terdakwa membayar biaya perkara sejumlah Rp. 5.000,- (lima ribu rupiah)",
         "Pada hari Senin, 27 Maret 2023 sekitar pukul 21.30 WITA, terdakwa I Nyoman Rawas bersama I Ketut Sudima menyelenggarakan permainan judi cap jeki di lapangan terbuka di Banjar Kedisan, Desa Kedisan, Kecamatan Kintamani, Kabupaten Bangli. Kegiatan ini telah diberitahukan sebelumnya kepada para penjudi, dan terdakwa menyiapkan berbagai peralatan seperti perlak angka, handuk, kotak kaleng, kartu ceki, dan uang modal sebesar Rp 2.000.000. Dalam permainan tersebut, I Nyoman Rawas bertindak sebagai bandar yang mengendalikan jalannya permainan dan menentukan hasil, sementara I Ketut Sudima berperan sebagai kasir yang membayar kemenangan atau mengambil taruhan yang kalah. Permainan dilakukan dengan dua sistem, yaitu sistem “melok” (seri) dan “nyolot” (menang-kalah), yang masing-masing memiliki ketentuan kemenangan dan pembayarannya sendiri. Pada malam itu, para terdakwa melangsungkan enam putaran permainan dan memperoleh keuntungan sebesar Rp 370.000 sebelum akhirnya ditangkap oleh pihak kepolisian. Dari hasil penyelidikan, diketahui bahwa para terdakwa telah berulang kali menyelenggarakan permainan serupa di berbagai lokasi dan menjadikannya sebagai sumber penghasilan untuk kebutuhan sehari-hari. Seluruh kegiatan perjudian tersebut dilakukan tanpa izin resmi dan merupakan bentuk perjudian yang bersifat untung-untungan. Perbuatan Terdakwa didakwa dengan dakwaan primair Pasal 303 Ayat (1) ke-1 KUHP jo. Pasal 2 Undang-Undang No. 7 Tahun 1974 tentang Penertiban Perjudian, dan dakwaan subsidair Pasal 303 Ayat (1) ke-2 KUHP jo. Pasal 2 Undang-Undang No. 7 Tahun 1974 Tentang Penertiban Perjudian.",
         "['Pasal 303 Ayat (1) ke-1 KUHP jo. Pasal 2 Undang-Undang No. 7 Tahun 1974 tentang Penertiban Perjudian', 'Pasal 303 Ayat (1) ke-2 KUHP jo. Pasal 2 Undang-Undang No. 7 Tahun 1974 Tentang Penertiban Perjudian']",
         "I NYOMAN RAWAS",
         "7.0"
        ],
        [
         "31",
         "4",
         "14",
         "0",
         "4",
         "- Uang tunai sebesar Rp 2.370.000,00 (dua juta tiga ratus tujuh puluh ribu rupiah)  Dirampas untuk Negara - 1 buah handuk warna biru  - 12 pasang kartu ceki paito - 4 bundel kartu ceki - 1 buah kotak kaleng/seng warna hitam silver - 1 lembar perlak warna putih  Dimusnahkan 6. Membebankan kepada Para Terdakwa membayar biaya perkara sejumlah Rp. 5.000,- (lima ribu rupiah)",
         "Pada hari Senin, 27 Maret 2023 sekitar pukul 21.30 WITA, terdakwa I Nyoman Rawas bersama I Ketut Sudima menyelenggarakan permainan judi cap jeki di lapangan terbuka di Banjar Kedisan, Desa Kedisan, Kecamatan Kintamani, Kabupaten Bangli. Kegiatan ini telah diberitahukan sebelumnya kepada para penjudi, dan terdakwa menyiapkan berbagai peralatan seperti perlak angka, handuk, kotak kaleng, kartu ceki, dan uang modal sebesar Rp 2.000.000. Dalam permainan tersebut, I Nyoman Rawas bertindak sebagai bandar yang mengendalikan jalannya permainan dan menentukan hasil, sementara I Ketut Sudima berperan sebagai kasir yang membayar kemenangan atau mengambil taruhan yang kalah. Permainan dilakukan dengan dua sistem, yaitu sistem “melok” (seri) dan “nyolot” (menang-kalah), yang masing-masing memiliki ketentuan kemenangan dan pembayarannya sendiri. Pada malam itu, para terdakwa melangsungkan enam putaran permainan dan memperoleh keuntungan sebesar Rp 370.000 sebelum akhirnya ditangkap oleh pihak kepolisian. Dari hasil penyelidikan, diketahui bahwa para terdakwa telah berulang kali menyelenggarakan permainan serupa di berbagai lokasi dan menjadikannya sebagai sumber penghasilan untuk kebutuhan sehari-hari. Seluruh kegiatan perjudian tersebut dilakukan tanpa izin resmi dan merupakan bentuk perjudian yang bersifat untung-untungan. Perbuatan Terdakwa didakwa dengan dakwaan primair Pasal 303 Ayat (1) ke-1 KUHP jo. Pasal 2 Undang-Undang No. 7 Tahun 1974 tentang Penertiban Perjudian, dan dakwaan subsidair Pasal 303 Ayat (1) ke-2 KUHP jo. Pasal 2 Undang-Undang No. 7 Tahun 1974 Tentang Penertiban Perjudian.",
         "['Pasal 303 Ayat (1) ke-1 KUHP jo. Pasal 2 Undang-Undang No. 7 Tahun 1974 tentang Penertiban Perjudian', 'Pasal 303 Ayat (1) ke-2 KUHP jo. Pasal 2 Undang-Undang No. 7 Tahun 1974 Tentang Penertiban Perjudian']",
         "I KETUT SUDIMA",
         "6.0"
        ],
        [
         "32",
         "0",
         "13",
         "0",
         "3",
         "3 buah bahan dasar kain (Jaket) dengan rincian a. 1 buah Jaket Kain Merk FLAUA warna Abu-Abu, b. 1 buah Jaket Merk Nike warna Hitam, c. 1 buah Jaket semi parasut Merk ANDEW warna Hijau. 3 potong Tekstil (Celana) dengan rincian a. 1 buah celana panjang warna Abu-abu bertuliskan GINDY, b. 1 buah celana panjang warna Abu-abu bergambar Anjing, c. 1 buah celana panjang warna Hitam garis putih bertulikan ADIDAS. 1 buah Cincin Emas Permata Merah Muda. 1 pasang Sandal Merk Fipper Warna Coklat. 16 lembar Nota Pembelian Emas. 1 buah Kunci Pintu. Dikembalikan kepada Saksi I NYOMAN MAWA 1 buah Kunci Kontak SPM. 1 unit Kendaraan Bermotor DK 2086 PX, NOKA MH1JF13159K008359, NOSIN JF13E-0009553, TH 2009, WARNA PINK PUTIH. 1 lembar Surat Berharga (STNK) DK 2086 PX, NOKA MH1JF13159K008359, NOSIN JF13E-0009553, TH 2009, WARNA PINK PUTIH, AN. I NYOMAN MUSAH, ALAMAT LINGK/BR. KUBU BANGLI. Dikembalikan kepada Terdakwa 8. Membebankan kepada Terdakwa membayar biaya perkara sejumlah Rp5.000,00 (lima ribu rupiah)",
         "Pada hari Minggu, 4 Juli 2021 sekitar pukul 11.00 WITA, Terdakwa Ni Luh Puspa Dewi dalam perjalanan menuju ladang orang tuanya di Desa Suter, Bangli, melewati sebuah rumah kosong di Banjar Munduk Waru, Desa Buahan, Kintamani, dan timbul niat untuk mencuri. Setelah memastikan keadaan sekitar aman, terdakwa masuk ke rumah tersebut dan menemukan kunci di lemari kaca dalam salah satu kamar. Ia kemudian membuka kamar lain dengan kunci tersebut dan menemukan dompet biru bermotif bunga berisi berbagai perhiasan emas, termasuk kalung, gelang, cincin, dan anting-anting dengan total berat puluhan gram. Semua barang tersebut diambil dan disimpan di sakunya, lalu terdakwa meninggalkan lokasi. Perhiasan hasil curian dijual di Pasar Kidul kepada seorang wanita tak dikenal seharga Rp80.000.000, yang kemudian digunakan untuk kebutuhan sehari-hari dan membeli sejumlah pakaian, sandal, serta cincin emas. Berdasarkan laporan polisi tertanggal 6 Februari 2023, terdakwa akhirnya mengakui seluruh perbuatannya. Akibat kejadian ini, korban I Nyoman Mawa mengalami kerugian sekitar Rp80.000.000. Perbuatan Terdakwa didakwa dengan dakwaan primair Pasal 363 Ayat (1) ke-5 KUHP, dan dakwaan subsidair Pasal 362 KUHP.",
         "['Pasal 363 Ayat (1) ke-5 KUHP', 'Pasal 362 KUHP']",
         "NI LUH PUSPA DEWI",
         "6.0"
        ],
        [
         "33",
         "0",
         "15",
         "4",
         "5",
         "1 buah kotak handphone Redmi Note 10 S 1 buah handphone merk Redmi Note 10 S warna Onyx Gray  Dikembalikan kepada I Wayan Suardana 1 buah kotak Handphone Redmi Note 7 6 lembar uang Rp100.000,00 (seratus ribu rupiah) dengan total Rp600.000,00 (enam ratus ribu rupiah)  Dikembalikan kepada I Wayan Panggih 1 buah tas pinggang merk Jungle Surf warna abu-abu  Dimusnahkan  6. Membebankan kepada Terdakwa membayar biaya perkara sejumlah Rp5.000,00 (lima ribu rupiah)",
         "Terdakwa I Wayan Nawa didakwa melakukan pencurian pada dua kesempatan berbeda di wilayah Kintamani, Bangli. Pada 2 Oktober 2022, setelah menjual salak, terdakwa menuju ke kebun milik I Wayan Suardana di Banjar Pludu, Desa Bayung Gede, dan berpura-pura menawarkan pupuk ayam. Saat korban lengah, terdakwa mencuri handphone Redmi Note 10S beserta uang tunai sekitar Rp400.000 yang disimpan di kandang sapi. Kemudian, pada 9 November 2022, terdakwa kembali melakukan pencurian di pondokan milik I Wayan Panggih di Desa Binyan dengan modus serupa. Setelah memastikan korban pergi, terdakwa mencuri handphone Redmi Note 7 yang sedang dicas. Kedua handphone tersebut dijual ke konter berbeda dengan total hasil sekitar Rp1.800.000, yang kemudian digunakan untuk kebutuhan sehari-hari. Berdasarkan laporan korban, polisi melakukan penyelidikan dan berhasil menangkap terdakwa pada 9 Februari 2023 di Karangasem. Akibat perbuatannya, korban I Wayan Suardana mengalami kerugian sekitar Rp3.400.000 dan I Wayan Panggih sekitar Rp3.000.000. Terdakwa dijerat dengan Pasal 362 KUHP jo. Pasal 65 Ayat (1) KUHP tentang pencurian yang dilakukan berulang kali.",
         "['Pasal 362 KUHP jo. Pasal 65 Ayat (1) KUHP']",
         "I Wayan Nawa",
         "6.0"
        ],
        [
         "34",
         "0",
         "13",
         "3",
         "5",
         "2 Gram Cincin emas dengan batu permata berwarna hitam Pecahan uang seratus ribu rupiah sebanyak 57 lembar (Rp.5.700.000,-) 1 Buah tas warna merah maroon bertuliskan Michael Kors 1.600 Gram Cincin emas dengan batu permata berwarna merah 1 Pcs Dompet warna merah muda kombinasi putih bertuliskan Toko Perhiasan Emas Ratna 14.400 Gram Kalung Emas Rantai Bola 2 Lembar Nota Pembelian Perhiasan Emas Toko Ratna 1 Buah Tas warna hitam bertuliskan Steve Madden Dikembalikan kepada Saksi Ni Jro Luh Putri 1 Potong Hoddie warna merah bertuliskan Getting To 90 4th Red Ribbon Flash Mob  Dimusnahkan - 1 Unit sepeda motor Yamaha Xeon warna hitam Dirampas untuk negara 6. Membebankan kepada Terdakwa membayar biaya perkara sejumlah Rp5.000,00 (lima ribu rupiah)",
         "Pada Sabtu, 28 Januari 2023, di Pemandian Tirta Usadha Toya Bungkah, Desa Batur Tengah, Kintamani, Bangli, terdakwa Jro Gede Budi didakwa melakukan pencurian. Setelah selesai berendam, terdakwa melihat sebuah tas hitam bertuliskan \"Steve Madden\" milik korban Ni Jro Luh Putri di bawah loker, lalu mengambilnya dan membawanya pulang menggunakan sepeda motor. Di perjalanan, terdakwa membuka tas tersebut dan menemukan tas merah maroon bertuliskan \"Michael Kors\" berisi uang tunai sebesar Rp5.700.000 serta sebuah dompet berisi perhiasan emas berupa kalung dan cincin, dan dua nota pembelian dari Toko Emas Ratna. Terdakwa mengambil Rp1.000.000 untuk dirinya dan menyembunyikan sisa uang serta perhiasan di bawah pohon di dekat rumahnya, sedangkan tas-tas tersebut disimpan di jok motor. Berdasarkan laporan korban, polisi berhasil mengamankan terdakwa beserta barang-barang bukti, termasuk sepeda motor dan hoodie yang digunakan untuk membungkus barang curian. Atas perbuatannya, korban mengalami kerugian sekitar Rp19.700.000, dan terdakwa dijerat dengan Pasal 362 KUHP tentang pencurian.",
         "['Pasal 362 KUHP']",
         "JRO GEDE BUDI",
         "5.0"
        ],
        [
         "35",
         "0",
         "1",
         "4",
         "3",
         "1 unit sepeda motor yang sudah dimodifikasi (cetul) tanpa terpasang nomor registrasi / nomor polisi dan tidak dapat terdapat nomor rangka dan nomor mesin kendaraan Dikembalikan kepada I Gede Wiraguna 1 unit sepeda motor merek Kawasaki tipe LX 150 C, warna hitam kombinasi kuning, tahun pembuatan 2010, tanpa terpasang nomor registrasi / nomor polisi, Noka MH4LX150CAKP15705, Nosin LX150CEP19759 1 lembar SNTK sepeda motor merek Kawasaki tipe LX 150 C, warna hijau, tahun pembuatan 2010, nomor registrasi / nomor polisi DK 8164 IQ, Noka MH4LX150CAKP15705, Nosin LX150CEP19759, a.n. Chrisnawati, alamat Jl. Surabaya D, 6/20 Puri Gading, Jimbaran, Kuta Badung dan 1 buah buku BPKB, No H-0 2625520, DK 8164 IQ, merek Kawasaki tipe LX 150 C, Noka MH4LX150CAKP15705, Nosin LX150CEP19759, a.n. Chrisnawati, alamat Jl. Surabaya D, 6/20 Puri Gading, Jimbaran, Kuta Badung Dikembalikan kepada I Wayan Eva Kusuma Putra 6. Membebankan kepada Para Terdakwa membayar biaya perkara masing-masing sejumlah Rp5.000,00 (lima ribu rupiah)",
         "Pada Minggu, 11 Desember 2022 sekitar pukul 00.30 WITA, terdakwa I Rifqi Abdurahman dan terdakwa II Gunawan melakukan pencurian sepeda motor di pinggir Jalan Raya Kayuambua, Bangli. Sebelumnya, pada 10 Desember 2022, terdakwa II meminta terdakwa I mencarikan sepeda motor Kawasaki KLX untuk dibeli seharga Rp3.000.000. Keduanya lalu berangkat ke daerah Kintamani dengan sepeda motor modifikasi tanpa nomor polisi. Saat tiba di lokasi, mereka melihat motor Kawasaki KLX 150 C tanpa nomor polisi dan kunci kontak, lalu terdakwa I mendorong motor tersebut menjauh sementara terdakwa II mengawasi. Karena motor cetul milik terdakwa II rusak, terdakwa I mendorong motor sendirian dan sempat dicegat dua saksi yang curiga. Setelah berhasil menyalakan motor dan mengendarainya sejauh 100 meter, motor mogok karena kehabisan bensin. Terdakwa I lalu mendorong ke SPBU Sekardadi dan tertidur di sana. Sementara itu, saksi korban mengonfirmasi kehilangan motornya dan bersama saksi lainnya serta polisi, menemukan terdakwa I di SPBU. Polisi kemudian menangkap terdakwa II di Desa Dumilih saat tertidur di emper toko. Akibat perbuatan para terdakwa, korban I Wayan Eva Kusuma Putra mengalami kerugian sekitar Rp16.000.000. Perbuatan Terdakwa didakwa dengan dakwaan primair Pasal 363 Ayat (1) ke-4 KUHP, dan dakwaan subsidair Pasal 362 KUHP.",
         "['Pasal 363 Ayat (1) ke-4 KUHP', 'Pasal 362 KUHP']",
         "RIFQI ABDURAHMAN",
         "8.0"
        ],
        [
         "36",
         "0",
         "1",
         "4",
         "3",
         "1 unit sepeda motor yang sudah dimodifikasi (cetul) tanpa terpasang nomor registrasi / nomor polisi dan tidak dapat terdapat nomor rangka dan nomor mesin kendaraan Dikembalikan kepada I Gede Wiraguna 1 unit sepeda motor merek Kawasaki tipe LX 150 C, warna hitam kombinasi kuning, tahun pembuatan 2010, tanpa terpasang nomor registrasi / nomor polisi, Noka MH4LX150CAKP15705, Nosin LX150CEP19759 1 lembar SNTK sepeda motor merek Kawasaki tipe LX 150 C, warna hijau, tahun pembuatan 2010, nomor registrasi / nomor polisi DK 8164 IQ, Noka MH4LX150CAKP15705, Nosin LX150CEP19759, a.n. Chrisnawati, alamat Jl. Surabaya D, 6/20 Puri Gading, Jimbaran, Kuta Badung dan 1 buah buku BPKB, No H-0 2625520, DK 8164 IQ, merek Kawasaki tipe LX 150 C, Noka MH4LX150CAKP15705, Nosin LX150CEP19759, a.n. Chrisnawati, alamat Jl. Surabaya D, 6/20 Puri Gading, Jimbaran, Kuta Badung Dikembalikan kepada I Wayan Eva Kusuma Putra 6. Membebankan kepada Para Terdakwa membayar biaya perkara masing-masing sejumlah Rp5.000,00 (lima ribu rupiah)",
         "Pada Minggu, 11 Desember 2022 sekitar pukul 00.30 WITA, terdakwa I Rifqi Abdurahman dan terdakwa II Gunawan melakukan pencurian sepeda motor di pinggir Jalan Raya Kayuambua, Bangli. Sebelumnya, pada 10 Desember 2022, terdakwa II meminta terdakwa I mencarikan sepeda motor Kawasaki KLX untuk dibeli seharga Rp3.000.000. Keduanya lalu berangkat ke daerah Kintamani dengan sepeda motor modifikasi tanpa nomor polisi. Saat tiba di lokasi, mereka melihat motor Kawasaki KLX 150 C tanpa nomor polisi dan kunci kontak, lalu terdakwa I mendorong motor tersebut menjauh sementara terdakwa II mengawasi. Karena motor cetul milik terdakwa II rusak, terdakwa I mendorong motor sendirian dan sempat dicegat dua saksi yang curiga. Setelah berhasil menyalakan motor dan mengendarainya sejauh 100 meter, motor mogok karena kehabisan bensin. Terdakwa I lalu mendorong ke SPBU Sekardadi dan tertidur di sana. Sementara itu, saksi korban mengonfirmasi kehilangan motornya dan bersama saksi lainnya serta polisi, menemukan terdakwa I di SPBU. Polisi kemudian menangkap terdakwa II di Desa Dumilih saat tertidur di emper toko. Akibat perbuatan para terdakwa, korban I Wayan Eva Kusuma Putra mengalami kerugian sekitar Rp16.000.000. Perbuatan Terdakwa didakwa dengan dakwaan primair Pasal 363 Ayat (1) ke-4 KUHP, dan dakwaan subsidair Pasal 362 KUHP.",
         "['Pasal 363 Ayat (1) ke-4 KUHP', 'Pasal 362 KUHP']",
         "GUNAWAN",
         "8.0"
        ],
        [
         "37",
         "0",
         "16",
         "0",
         "6",
         "1 unit sepeda motor honda vario tahun 2011, warna merah silver DK 7917 UR, Noka MH1JF8119BK338944, Nosin JF81E-1337110 beserta anak kunci 1 STNK sepeda motor honda vario tahun 2011, warna merah silver DK 7917 UR, Noka MH1JF8119BK338944, Nosin JF81E-1337110 dikembalikan kepada yang berhak melalui Terdakwa 4 ekor ayam aduan warna merah (biying) 1 ekor ayam aduan warna coklat (klau) dikembalikan kepada I WAYAN SUKADA dan I MADE TERUS 4 buah karung warna putih dimusnahkan 6. Membebankan kepada Terdakwa membayar biaya perkara sejumlah Rp5.000,00 (lima ribu rupiah)",
         "Terdakwa Gede Kastawa didakwa melakukan serangkaian tindak pidana pencurian ayam di wilayah Kintamani, Bangli, pada bulan Oktober 2022. Pada 21 Oktober 2022, terdakwa mencuri 6 ekor ayam dari belakang rumah korban I Wayan Sukada di Desa Belantih, lalu menjualnya di Pasar Anyar Singaraja seharga Rp800.000. Hasil penjualan digunakan untuk membeli ayam aduan dan berjudi. Kemudian, pada 28 Oktober 2022, terdakwa mencuri 15 ekor ayam milik korban I Made Terus dari kebun jeruk di Desa Belanga, yang kembali dijual dan hasilnya dipakai untuk berjudi. Selanjutnya, pada 30 Oktober 2022, terdakwa beraksi di pondokan milik korban I Wayan Lusin di Desa Belanga, mencuri seekor ayam namun aksinya diketahui oleh saksi dan warga sehingga berhasil diamankan. Total kerugian para korban mencapai sekitar Rp3.500.000. Terdakwa mengaku melakukan pencurian karena alasan ekonomi. Perbuatannya diancam pidana sesuai Pasal 362 jo. Pasal 65 Ayat (1) KUHP.",
         "['Pasal 362 jo. Pasal 65 Ayat (1) KUHP.']",
         "Gede Kastawa",
         "30.0"
        ],
        [
         "38",
         "0",
         "17",
         "0",
         "6",
         "1 unit sepeda motor honda vario tahun 2011, warna merah silver DK 7917 UR, Noka MH1JF8119BK338944, Nosin JF81E-1337110 beserta anak kunci 1 STNK sepeda motor honda vario tahun 2011, warna merah silver DK 7917 UR, Noka MH1JF8119BK338944, Nosin JF81E-1337110 dikembalikan kepada yang berhak melalui Terdakwa 4 ekor ayam aduan warna merah (biying) 1 ekor ayam aduan warna coklat (klau) dikembalikan kepada I WAYAN SUKADA dan I MADE TERUS 4 buah karung warna putih dimusnahkan 6. Membebankan kepada Terdakwa membayar biaya perkara sejumlah Rp5.000,00 (lima ribu rupiah)",
         "Terdakwa Gede Kastawa didakwa melakukan serangkaian tindak pidana pencurian ayam di wilayah Kintamani, Bangli, pada bulan Oktober 2022. Pada 21 Oktober 2022, terdakwa mencuri 6 ekor ayam dari belakang rumah korban I Wayan Sukada di Desa Belantih, lalu menjualnya di Pasar Anyar Singaraja seharga Rp800.000. Hasil penjualan digunakan untuk membeli ayam aduan dan berjudi. Kemudian, pada 28 Oktober 2022, terdakwa mencuri 15 ekor ayam milik korban I Made Terus dari kebun jeruk di Desa Belanga, yang kembali dijual dan hasilnya dipakai untuk berjudi. Selanjutnya, pada 30 Oktober 2022, terdakwa beraksi di pondokan milik korban I Wayan Lusin di Desa Belanga, mencuri seekor ayam namun aksinya diketahui oleh saksi dan warga sehingga berhasil diamankan. Total kerugian para korban mencapai sekitar Rp3.500.000. Terdakwa mengaku melakukan pencurian karena alasan ekonomi. Perbuatannya diancam pidana sesuai Pasal 362 jo. Pasal 65 Ayat (1) KUHP.",
         "['Pasal 362 jo. Pasal 65 Ayat (1) KUHP.']",
         "Gede Kastawa",
         "30.0"
        ],
        [
         "39",
         "0",
         "18",
         "0",
         "5",
         "3 ekor anak babi dengan bulu berwarna putih 1 buah karung plastic merk novo berwarna putih  dikembalikan kepada Saksi Komang Sucitra  6. Membebankan kepada Terdakwa membayar biaya perkara sejumlah Rp5.000,- (lima ribu rupiah)",
         "Terdakwa Elias Fanggi didakwa melakukan pencurian tiga ekor anak babi milik saksi I Komang Sucitra pada Sabtu, 27 Maret 2021 sekitar pukul 22.30 WITA di kandang babi yang terletak di Desa Abuan, Kecamatan Kintamani, Kabupaten Bangli. Awalnya, terdakwa datang ke kandang pada sore hari untuk membersihkan tempat tersebut. Namun pada malam harinya, terdakwa masuk ke dalam kandang melalui pintu yang tidak terkunci, lalu mengambil tiga ekor anak babi dan memasukkannya ke dalam karung plastik yang telah disiapkannya. Ia kemudian membawa hasil curian itu dengan sepeda motor milik saksi Leonardus Pendi dengan maksud untuk dijual. Aksi tersebut diketahui oleh pemilik kandang, yang kemudian melaporkan terdakwa ke pihak berwajib. Akibat perbuatan tersebut, saksi I Komang Sucitra mengalami kerugian sebesar Rp3.600.000. Perbuatan Terdakwa didakwa dengan dakwaan primair Pasal 363 Ayat (1) ke-1 KUHP, dan dakwaan subsidair Pasal 374 KUHP.",
         "['Pasal 363 Ayat (1) ke-1 KUHP', 'Pasal 374 KUHP']",
         "Elias Fanggi",
         "6.0"
        ],
        [
         "40",
         "0",
         "19",
         "0",
         "5",
         "3 ekor anak babi dengan bulu berwarna putih 1 buah karung plastic merk novo berwarna putih  dikembalikan kepada Saksi Komang Sucitra  6. Membebankan kepada Terdakwa membayar biaya perkara sejumlah Rp5.000,- (lima ribu rupiah)",
         "Terdakwa Elias Fanggi didakwa melakukan pencurian tiga ekor anak babi milik saksi I Komang Sucitra pada Sabtu, 27 Maret 2021 sekitar pukul 22.30 WITA di kandang babi yang terletak di Desa Abuan, Kecamatan Kintamani, Kabupaten Bangli. Awalnya, terdakwa datang ke kandang pada sore hari untuk membersihkan tempat tersebut. Namun pada malam harinya, terdakwa masuk ke dalam kandang melalui pintu yang tidak terkunci, lalu mengambil tiga ekor anak babi dan memasukkannya ke dalam karung plastik yang telah disiapkannya. Ia kemudian membawa hasil curian itu dengan sepeda motor milik saksi Leonardus Pendi dengan maksud untuk dijual. Aksi tersebut diketahui oleh pemilik kandang, yang kemudian melaporkan terdakwa ke pihak berwajib. Akibat perbuatan tersebut, saksi I Komang Sucitra mengalami kerugian sebesar Rp3.600.000. Perbuatan Terdakwa didakwa dengan dakwaan primair Pasal 363 Ayat (1) ke-1 KUHP, dan dakwaan subsidair Pasal 374 KUHP.",
         "['Pasal 363 Ayat (1) ke-1 KUHP', 'Pasal 374 KUHP']",
         "Elias Fanggi",
         "6.0"
        ],
        [
         "41",
         "0",
         "19",
         "0",
         "15",
         "1 buah mesin penggerak pompa air merk GENERAL beserta 1 buah pompa Sanchin 1 buah tali kipas Dikembalikan kepada I WAYAN SUTIANA 1 buah mesin penggerak pompa air merk GENERAL beserta 1 buah pompa Sanchin 1 buah tali kipas 1 pasang sepatu boat warna hijau tua Dikembalikan kepada I NENGAH SAPA 1 buah mesin penggerak pompa air merk GENERAL beserta 1 buah pompa Sanchin 1 buah tali kipas 2 buah selang warna orange Dikembalikan kepada I KETUT SUDADI 1 buah mesin penggerak pompa air merk PRIMA beserta 1 buah pompa Sanchin merk Pro Quip 1 buah tali kipas Dikembalikan kepada I WAYAN RAMANTO 1 buah mesin penggerak pompa air merk PRO QUIP beserta 1 buah pompa Sanchin merk Tanika 1 buah tali kipas DIkembalikan kepada I MADE SADSWADARMA 1 buah mesin pompa air merk Honda lengkap dengan pompa sanchin 1 buah tali kipas Dikembalikan I KETUT CAREM 1 buah mesin pompa air merk Robin lengkap dengan pompa sanchin 1 buah tali kipas Dikembalikan kepada I NYOMAN BIRAWAN 1 buah mesin pompa air merk Robin lengkap dengan pompa sanchin 1 buah tali kipas Dikembalikan kepada NI NENGAH SUANTINI 1 buah mesin pemotong kayu (Senzo) merk Still Dikembalikan kepada I NYOMAN KENEH 1 buah mesin pemotong rumput merk Harry Dikembalikan kepada I WAYAN DARMA 1 buah kompor gas merk Rinai 1 buah tabung gas isi 3 kg Dikembalikan kepada NI KETUT SUPADMI 1 unit sepeda motor Honda Genio warna abu-abu DK 5756 PX beserta kunci kontak 1 lembar STNK sepeda motor Honda Genio warna abu-abu DK 5756 PX nomor rangka MH1JM611XKK105164, nomor mesin JM61E- 1105196, tahun pembuatan 2019 atas nama I WAYAN EDI RUSMAWAN 1 set kunci peralatan bengkel terdiri dari 1 set kunci L, 1 buah tang, 1 buah kunci engkol, 5 buah kunci pas, 1 buah obeng, 2 buah kunci T Dikembalikan kepada Penuntut Umum untuk dijadikan barang bukti dalam perkara lain Uang tunai Rp 250.000,00 (dua ratus lima puluh ribu rupiah) Dirampas untuk negara 3 buah karung plastik (kampil) 1 gulung tali plastik rapia warna merah muda 2 buah selang warna bening Dimusnahkan  6. Membebankan kepada Terdakwa membayar biaya perkara sejumlah Rp5.000,00 (lima ribu rupiah)",
         "Terdakwa I Wayan Edi Rusmawan didakwa melakukan serangkaian pencurian antara bulan Juni 2020 hingga Januari 2021 di berbagai lokasi di wilayah Kecamatan Kintamani, Kabupaten Bangli. Terdakwa mengambil barang-barang milik sejumlah korban di antaranya I Wayan Sutiana, I Ketut Carem, I Ketut Sudadi, I Nyoman Keneh, Ni Nengah Suantini, I Nyoman Birawan, Ni Ketut Supadmi, I Wayan Darma, I Wayan Ramanto, I Nengah Sapa, dan I Made Sadswadarma. Aksi pencurian tersebut dilakukan terdakwa dengan cara merusak, memanjat, atau masuk secara diam-diam ke kebun, pondokan, warung, dan gudang milik para korban, dengan maksud untuk memiliki barang-barang tersebut secara melawan hukum. Karena dilakukan berulang kali di tempat dan waktu yang berbeda, perbuatan terdakwa dianggap sebagai beberapa kejahatan yang berdiri sendiri. Perbuatan Terdakwa didakwa dengan dakwaan primair Pasal 363 Ayat (1) ke-5 KUHP jo. Pasal 65 ayat (1) KUHP, dan dakwaan subsidair Pasal 362 KUHP Jo Pasal 65 Ayat (1) KUHP.",
         "['Pasal 363 Ayat (1) ke-5 KUHP jo. Pasal 65 ayat (1) KUHP', 'Pasal 362 KUHP Jo Pasal 65 Ayat (1) KUHP']",
         "I Wayan Edi Rusmawan",
         "24.0"
        ],
        [
         "42",
         "0",
         "20",
         "0",
         "15",
         "1 buah mesin penggerak pompa air merk GENERAL beserta 1 buah pompa Sanchin 1 buah tali kipas Dikembalikan kepada I WAYAN SUTIANA 1 buah mesin penggerak pompa air merk GENERAL beserta 1 buah pompa Sanchin 1 buah tali kipas 1 pasang sepatu boat warna hijau tua Dikembalikan kepada I NENGAH SAPA 1 buah mesin penggerak pompa air merk GENERAL beserta 1 buah pompa Sanchin 1 buah tali kipas 2 buah selang warna orange Dikembalikan kepada I KETUT SUDADI 1 buah mesin penggerak pompa air merk PRIMA beserta 1 buah pompa Sanchin merk Pro Quip 1 buah tali kipas Dikembalikan kepada I WAYAN RAMANTO 1 buah mesin penggerak pompa air merk PRO QUIP beserta 1 buah pompa Sanchin merk Tanika 1 buah tali kipas DIkembalikan kepada I MADE SADSWADARMA 1 buah mesin pompa air merk Honda lengkap dengan pompa sanchin 1 buah tali kipas Dikembalikan I KETUT CAREM 1 buah mesin pompa air merk Robin lengkap dengan pompa sanchin 1 buah tali kipas Dikembalikan kepada I NYOMAN BIRAWAN 1 buah mesin pompa air merk Robin lengkap dengan pompa sanchin 1 buah tali kipas Dikembalikan kepada NI NENGAH SUANTINI 1 buah mesin pemotong kayu (Senzo) merk Still Dikembalikan kepada I NYOMAN KENEH 1 buah mesin pemotong rumput merk Harry Dikembalikan kepada I WAYAN DARMA 1 buah kompor gas merk Rinai 1 buah tabung gas isi 3 kg Dikembalikan kepada NI KETUT SUPADMI 1 unit sepeda motor Honda Genio warna abu-abu DK 5756 PX beserta kunci kontak 1 lembar STNK sepeda motor Honda Genio warna abu-abu DK 5756 PX nomor rangka MH1JM611XKK105164, nomor mesin JM61E- 1105196, tahun pembuatan 2019 atas nama I WAYAN EDI RUSMAWAN 1 set kunci peralatan bengkel terdiri dari 1 set kunci L, 1 buah tang, 1 buah kunci engkol, 5 buah kunci pas, 1 buah obeng, 2 buah kunci T Dikembalikan kepada Penuntut Umum untuk dijadikan barang bukti dalam perkara lain Uang tunai Rp 250.000,00 (dua ratus lima puluh ribu rupiah) Dirampas untuk negara 3 buah karung plastik (kampil) 1 gulung tali plastik rapia warna merah muda 2 buah selang warna bening Dimusnahkan  6. Membebankan kepada Terdakwa membayar biaya perkara sejumlah Rp5.000,00 (lima ribu rupiah)",
         "Terdakwa I Wayan Edi Rusmawan didakwa melakukan serangkaian pencurian antara bulan Juni 2020 hingga Januari 2021 di berbagai lokasi di wilayah Kecamatan Kintamani, Kabupaten Bangli. Terdakwa mengambil barang-barang milik sejumlah korban di antaranya I Wayan Sutiana, I Ketut Carem, I Ketut Sudadi, I Nyoman Keneh, Ni Nengah Suantini, I Nyoman Birawan, Ni Ketut Supadmi, I Wayan Darma, I Wayan Ramanto, I Nengah Sapa, dan I Made Sadswadarma. Aksi pencurian tersebut dilakukan terdakwa dengan cara merusak, memanjat, atau masuk secara diam-diam ke kebun, pondokan, warung, dan gudang milik para korban, dengan maksud untuk memiliki barang-barang tersebut secara melawan hukum. Karena dilakukan berulang kali di tempat dan waktu yang berbeda, perbuatan terdakwa dianggap sebagai beberapa kejahatan yang berdiri sendiri. Perbuatan Terdakwa didakwa dengan dakwaan primair Pasal 363 Ayat (1) ke-5 KUHP jo. Pasal 65 ayat (1) KUHP, dan dakwaan subsidair Pasal 362 KUHP Jo Pasal 65 Ayat (1) KUHP.",
         "['Pasal 363 Ayat (1) ke-5 KUHP jo. Pasal 65 ayat (1) KUHP', 'Pasal 362 KUHP Jo Pasal 65 Ayat (1) KUHP']",
         "I Wayan Edi Rusmawan",
         "24.0"
        ],
        [
         "43",
         "2",
         "21",
         "5",
         "4",
         "1 buah plastik klip bening yang berisi serbuk kristal yang diduga Narkotika golongan I jenis shabu dengan berat 0,44 bruto atau 0,20 gram netto 1 buah bekas bungkus rokok Marlboro warna putih 1 buah handphone merk XIOMI tipe redmi 4x warna hitam Dimusnahkan 1 unit sepeda motor Honda beat DK 6017 QD warna Hitam 1 buah STNK sepeda Honda beat DK 6017 QD warna Hitam an NI MADE DWI YANTI WIDIANI 1 buah kunci kontak Dikembalikan kepada pemiliknya melalui Terdakwa II. Irga Krisna Haryanto R 6. Membebankan kepada Para Terdakwa membayar biaya perkara masing-masing sejumlah Rp5.000,00 (lima ribu rupiah)",
         "Terdakwa Anjar Ruchimat dan Irga Krisna Haryanto R, pada 4 Februari 2020 sekitar pukul 21.30 WITA di pinggir Jalan Raya Merdeka, Bebalang, Bangli, diduga melakukan permufakatan jahat bersama seorang bernama Made Bleteng (DPO) untuk memiliki, menyimpan, menguasai, atau menyediakan Narkotika Golongan I bukan tanaman tanpa hak. Selain itu, Anjar Ruchimat juga terbukti menggunakan narkotika untuk diri sendiri pada 1 Februari 2020 sekitar pukul 15.00 WITA di sebuah penginapan di Kuta, Badung. Demikian pula, Irga Krisna Haryanto R menggunakan narkotika untuk diri sendiri pada 28 Januari 2020 sekitar pukul 22.30 WITA di kamar kontrakannya di Dalung, Badung. Meskipun tempat kejadian perkara berada di wilayah hukum Pengadilan Negeri Denpasar, perkara ini diperiksa oleh Pengadilan Negeri Bangli berdasarkan ketentuan Pasal 84 ayat (2) KUHAP. Perbuatan para terdakwa diancam pidana berdasarkan Pasal 132 Ayat (1) jo. Pasal 112 Ayat (1), serta Pasal 127 Ayat (1) huruf a UU RI No. 35 Tahun 2009 tentang Narkotika.",
         "['Pasal 132 Ayat (1) jo. Pasal 112 Ayat (1)', 'Pasal 127 Ayat (1) huruf a UU RI No. 35 Tahun 2009 tentang Narkotika']",
         "ANJAR RUCHIMAT",
         "16.0"
        ],
        [
         "44",
         "2",
         "21",
         "5",
         "4",
         "1 buah plastik klip bening yang berisi serbuk kristal yang diduga Narkotika golongan I jenis shabu dengan berat 0,44 bruto atau 0,20 gram netto 1 buah bekas bungkus rokok Marlboro warna putih 1 buah handphone merk XIOMI tipe redmi 4x warna hitam Dimusnahkan 1 unit sepeda motor Honda beat DK 6017 QD warna Hitam 1 buah STNK sepeda Honda beat DK 6017 QD warna Hitam an NI MADE DWI YANTI WIDIANI 1 buah kunci kontak Dikembalikan kepada pemiliknya melalui Terdakwa II. Irga Krisna Haryanto R 6. Membebankan kepada Para Terdakwa membayar biaya perkara masing-masing sejumlah Rp5.000,00 (lima ribu rupiah)",
         "Terdakwa Anjar Ruchimat dan Irga Krisna Haryanto R, pada 4 Februari 2020 sekitar pukul 21.30 WITA di pinggir Jalan Raya Merdeka, Bebalang, Bangli, diduga melakukan permufakatan jahat bersama seorang bernama Made Bleteng (DPO) untuk memiliki, menyimpan, menguasai, atau menyediakan Narkotika Golongan I bukan tanaman tanpa hak. Selain itu, Anjar Ruchimat juga terbukti menggunakan narkotika untuk diri sendiri pada 1 Februari 2020 sekitar pukul 15.00 WITA di sebuah penginapan di Kuta, Badung. Demikian pula, Irga Krisna Haryanto R menggunakan narkotika untuk diri sendiri pada 28 Januari 2020 sekitar pukul 22.30 WITA di kamar kontrakannya di Dalung, Badung. Meskipun tempat kejadian perkara berada di wilayah hukum Pengadilan Negeri Denpasar, perkara ini diperiksa oleh Pengadilan Negeri Bangli berdasarkan ketentuan Pasal 84 ayat (2) KUHAP. Perbuatan para terdakwa diancam pidana berdasarkan Pasal 132 Ayat (1) jo. Pasal 112 Ayat (1), serta Pasal 127 Ayat (1) huruf a UU RI No. 35 Tahun 2009 tentang Narkotika.",
         "['Pasal 132 Ayat (1) jo. Pasal 112 Ayat (1)', 'Pasal 127 Ayat (1) huruf a UU RI No. 35 Tahun 2009 tentang Narkotika']",
         "IRGA KRISNA HARYANTO R",
         "16.0"
        ],
        [
         "45",
         "2",
         "21",
         "6",
         "6",
         "1 buah plastik klip bening yang berisi serbuk kristal yang diduga narkotika golongan I jenis shabu dengan berat 0,96 gram bruto atau 0,80 gram netto. 1 buah plastik klip bening yang berisi serbuk kristal yang diduga narkotika golongan I jenis shabu dengan berat 0,21 gram bruto atau 0,05 gram netto. 1 buah tas Pinggang merk OAKLEY warna abu abu. 1 buah selotip kecil bening. 1 Handphone merk IPHONE 5 warna gold. 1 buah gunting. 10 lembar bukti Transfer Bank BCA. 1 potong Lakban warna kuning. 1 buah buku kecil yang berisi catatan utang. 1 lembar kertas aluminium foil. 1 buah kulit rokok sampoerna mild. Dimusnahkan. 1 buah sepeda motor merk Yamaha Xeon warna putih DK 6331 AQ. 1 buah STNK sepeda motor merk Yamaha Xeon warna putih DK 6331 AQ, atas nama KETUT YARIYANI. 1 buah kunci kontak. Dikembalikan kepada yang berhak melalui Terdakwa Fenny Yanthi Esmidar. Uang tunai sebesar Rp. 50.000,- (lima puluh ribu rupiah). Dirampas untuk negara.  6. Membebankan kepada Terdakwa membayar biaya perkara sejumlah Rp 5.000,- (lima ribu rupiah)",
         "Terdakwa Fenny Yanthi Esmidar pada Kamis, 9 Januari 2020 sekitar pukul 23.15 WITA ditangkap di Gang Buntu, belakang Alfamart Jalan Brigjen Ngurah Rai, Bangli, saat baru saja mengambil narkotika jenis sabu yang disembunyikan di semak-semak. Penangkapan dilakukan oleh anggota Satresnarkoba Polres Bangli setelah menerima informasi dari masyarakat. Sebelumnya, terdakwa dihubungi oleh seseorang bernama Desi untuk mengambil narkotika di lokasi tersebut. Dari hasil penggeledahan, ditemukan dua paket sabu dengan berat netto masing-masing 0,08 gram dan 0,05 gram, yang disimpan dalam bungkus rokok dan tas milik terdakwa. Berdasarkan hasil pemeriksaan laboratorium forensik, kedua paket tersebut positif mengandung metamfetamina yang termasuk dalam Narkotika Golongan I. Namun, hasil tes urine terdakwa menunjukkan negatif narkotika/psikotropika. Perbuatan Terdakwa didakwa dengan dakwaan pertama Pasal 114 Ayat (1) UU RI No. 35 Tahun 2009 tentang Narkotika, dan dakwaan kedua Pasal 112 Ayat (1) UU RI No. 35 Tahun 2009 Tentang Narkotika.",
         "['Pasal 114 Ayat (1) UU RI No. 35 Tahun 2009 tentang Narkotika', 'Pasal 112 Ayat (1) UU RI No. 35 Tahun 2009 Tentang Narkotika']",
         "FENNY YANTHI ESMIDAR",
         "102.0"
        ],
        [
         "46",
         "0",
         "22",
         "7",
         "4",
         "2 ekor hewan ternak sapi betina, bulu bagian tubuh berwarna coklat, bulu pada bagian kaki dan bokong berwarna putih, berat masing-masing sekira 250 Kg, umur sekira 1 tahun 6 bulan. Uang sebesar Rp. 4.656.000,- (empat juta enam ratus lima puluh enam ribu rupiah). 2 utas tali plastic warna biru dengan panjang masing-masing tali sekira 3 meter .  Dikembalikan kepada korban I WAYAN KASIR. 1 unit mobil Mitsubishi Colt L 300 jenis pick up warna hitam dengan nomor polisi DK 9673 DJ, Noka MH32S6005AK703868, Nosin 2S6-707748 beserta kunci. 1 buah STNK mobil Mitsubishi Colt L 300 warna hitam dengan nomor polisi DK 9673 DJ Noka MH32S6005AK703868, Nosin 2S6-707748 atas nama AGUNG OKA ASTINI.  Dikembalikan kepada I NYOMAN BINTANG. 1 unit sepeda motor Yamaha Jupiter MX 135 warna hitam dengan nomor polisi DK 4664 RI Noka MHML300DP2R288738, Nosin 4D56C226379 beserta kunci. 1 buah STNK sepeda motor Yamaha Jupiter MX 135 warna hitam dengan nomor polisi DK 4664 RI Noka MHML300DP2R288738, Nosin 4D56C226379atas nama SANG PUTU BAOS.   Dikembalikan kepada Terdakwa I WAYAN SUDARPA. uang sebesar Rp. 15.500.000 hasil dari penjualan sapi   Dikembalikan kepada I NYOMAN SUTAPA. 2 lembar surat keterangan jual beli hewan dari pasar hewan bringkit warna hijau tertanggal 12 Februari 2020. Dirampas untuk dimusnahkan 5. Membebankan kepada terdakwa untuk membayar biaya perkara sejumlah Rp. 5.000,- (Lima ribu rupiah).",
         "Terdakwa I Wayan Sudarpa pada Rabu, 12 Februari 2020 sekitar pukul 01.00 WITA melakukan pencurian tiga ekor sapi milik I Wayan Kasir di Br. Tiying Desa, Desa Pengotan, Kecamatan Bangli. Aksi tersebut direncanakan sebelumnya bersama I Nyoman Bintang, dengan dalih ingin menjual sapi miliknya untuk membayar utang. Pada malam hari yang telah disepakati, terdakwa mendatangi kandang sapi korban dan secara bertahap membawa ketiga sapi tersebut ke mobil pick up milik I Nyoman Bintang yang menunggu di dekat lokasi. Sapi-sapi itu kemudian dibawa dan dijual di Pasar Bringkit, Badung. Dari hasil penjualan, terdakwa menerima uang sebesar Rp20.156.000 setelah dikurangi biaya operasional. Namun, diketahui sapi-sapi tersebut bukan milik terdakwa melainkan milik I Wayan Kasir, yang tidak pernah memberikan izin untuk pengambilan maupun penjualan. Akibat perbuatan terdakwa, korban mengalami kerugian sekitar Rp20.500.000. Tindakan terdakwa diancam pidana berdasarkan Pasal 363 Ayat (1) ke-1 KUHP.",
         "['Pasal 363 Ayat (1) ke-1 KUHP']",
         "I WAYAN SUDARPA",
         "6.0"
        ],
        [
         "47",
         "4",
         "23",
         "8",
         "3",
         "Uang tunai sebesar Rp. 2.665.000,00. (dua juta enam ratus enam puluh lima ribu rupiah)  Dirampas untuk negara. 12 pasang kartu ceki paito  8 bendel kartu ceki  1 lembar handuk kotak-kotak warna hitam coklat  1 lembar perlak warna biru  2 buah kotak kaleng warna hitam  Dimusnahkan. Membebankan kepada para terdakwa untuk membayar biaya perkara masing-masing sebesar Rp. 5.000,00. (lima ribu rupiah)",
         "Pada tanggal 21 November 2018 sekitar pukul 18.00 WITA, terdakwa I Ketut Sarjana dan Wayan Suartaya mengadakan permainan judi cap jeki di halaman rumah Ketut Sarjana di Banjar Merta, Desa Awan, Kecamatan Kintamani, Kabupaten Bangli. Mereka menyiapkan berbagai alat perjudian seperti kotak kaleng, perlak, handuk, kartu ceki, serta menyediakan hadiah uang tunai sebesar Rp 5.000.000 bagi pemenang. Ketut Sarjana bertindak sebagai kasir sekaligus bandar yang membayar kemenangan dan mengambil uang taruhan pemain yang kalah, sedangkan Wayan Suartaya bertugas mengocok kartu ceki. Permainan dilakukan dengan dua sistem, yakni sistem \"melok\" (draw) dan \"nyolot\" (menang-kalah), yang masing-masing memiliki aturan dan hadiah berbeda. Saat permainan berlangsung, petugas dari Dit. Reskrimum POLDA Bali melakukan penggerebekan dan menemukan sejumlah barang bukti, termasuk kartu ceki, handuk, kotak kaleng, perlak, dan uang tunai Rp 2.665.000. Permainan judi cap jeki tersebut dilakukan tanpa izin dari pejabat yang berwenang. Perbuatan Terdakwa didakwa dengan dakwaan primair Pasal 303 Ayat (1) ke-1 KUHP jo. Pasal 2 Undang-Undang RI No. 7 Tahun 1974 tentang Penertiban Perjudian, dan dakwaan subsidair Pasal 303 Ayat (1) ke-2 KUHP, jo. Pasal 2 UU RI No. 7 Tahun 1974 Tentang Penertiban Perjudian.",
         "['Pasal 303 Ayat (1) ke-1 KUHP jo. Pasal 2 Undang-Undang RI No. 7 Tahun 1974 tentang Penertiban Perjudian', 'Pasal 303 Ayat (1) ke-2 KUHP', 'jo. Pasal 2 UU RI No. 7 Tahun 1974 Tentang Penertiban Perjudian']",
         "Wayan Suartaya",
         "5.0"
        ],
        [
         "48",
         "4",
         "24",
         "8",
         "3",
         "Uang tunai sebesar Rp. 2.665.000,00. (dua juta enam ratus enam puluh lima ribu rupiah)  Dirampas untuk negara. 12 pasang kartu ceki paito  8 bendel kartu ceki  1 lembar handuk kotak-kotak warna hitam coklat  1 lembar perlak warna biru  2 buah kotak kaleng warna hitam  Dimusnahkan. Membebankan kepada para terdakwa untuk membayar biaya perkara masing-masing sebesar Rp. 5.000,00. (lima ribu rupiah)",
         "Pada tanggal 21 November 2018 sekitar pukul 18.00 WITA, terdakwa I Ketut Sarjana dan Wayan Suartaya mengadakan permainan judi cap jeki di halaman rumah Ketut Sarjana di Banjar Merta, Desa Awan, Kecamatan Kintamani, Kabupaten Bangli. Mereka menyiapkan berbagai alat perjudian seperti kotak kaleng, perlak, handuk, kartu ceki, serta menyediakan hadiah uang tunai sebesar Rp 5.000.000 bagi pemenang. Ketut Sarjana bertindak sebagai kasir sekaligus bandar yang membayar kemenangan dan mengambil uang taruhan pemain yang kalah, sedangkan Wayan Suartaya bertugas mengocok kartu ceki. Permainan dilakukan dengan dua sistem, yakni sistem \"melok\" (draw) dan \"nyolot\" (menang-kalah), yang masing-masing memiliki aturan dan hadiah berbeda. Saat permainan berlangsung, petugas dari Dit. Reskrimum POLDA Bali melakukan penggerebekan dan menemukan sejumlah barang bukti, termasuk kartu ceki, handuk, kotak kaleng, perlak, dan uang tunai Rp 2.665.000. Permainan judi cap jeki tersebut dilakukan tanpa izin dari pejabat yang berwenang. Perbuatan Terdakwa didakwa dengan dakwaan primair Pasal 303 Ayat (1) ke-1 KUHP jo. Pasal 2 Undang-Undang RI No. 7 Tahun 1974 tentang Penertiban Perjudian, dan dakwaan subsidair Pasal 303 Ayat (1) ke-2 KUHP, jo. Pasal 2 UU RI No. 7 Tahun 1974 Tentang Penertiban Perjudian.",
         "['Pasal 303 Ayat (1) ke-1 KUHP jo. Pasal 2 Undang-Undang RI No. 7 Tahun 1974 tentang Penertiban Perjudian', 'Pasal 303 Ayat (1) ke-2 KUHP', 'jo. Pasal 2 UU RI No. 7 Tahun 1974 Tentang Penertiban Perjudian']",
         "Wayan Suartaya",
         "5.0"
        ],
        [
         "49",
         "4",
         "23",
         "8",
         "3",
         "Uang tunai sebesar Rp. 2.665.000,00. (dua juta enam ratus enam puluh lima ribu rupiah)  Dirampas untuk negara. 12 pasang kartu ceki paito  8 bendel kartu ceki  1 lembar handuk kotak-kotak warna hitam coklat  1 lembar perlak warna biru  2 buah kotak kaleng warna hitam  Dimusnahkan. Membebankan kepada para terdakwa untuk membayar biaya perkara masing-masing sebesar Rp. 5.000,00. (lima ribu rupiah)",
         "Pada tanggal 21 November 2018 sekitar pukul 18.00 WITA, terdakwa I Ketut Sarjana dan Wayan Suartaya mengadakan permainan judi cap jeki di halaman rumah Ketut Sarjana di Banjar Merta, Desa Awan, Kecamatan Kintamani, Kabupaten Bangli. Mereka menyiapkan berbagai alat perjudian seperti kotak kaleng, perlak, handuk, kartu ceki, serta menyediakan hadiah uang tunai sebesar Rp 5.000.000 bagi pemenang. Ketut Sarjana bertindak sebagai kasir sekaligus bandar yang membayar kemenangan dan mengambil uang taruhan pemain yang kalah, sedangkan Wayan Suartaya bertugas mengocok kartu ceki. Permainan dilakukan dengan dua sistem, yakni sistem \"melok\" (draw) dan \"nyolot\" (menang-kalah), yang masing-masing memiliki aturan dan hadiah berbeda. Saat permainan berlangsung, petugas dari Dit. Reskrimum POLDA Bali melakukan penggerebekan dan menemukan sejumlah barang bukti, termasuk kartu ceki, handuk, kotak kaleng, perlak, dan uang tunai Rp 2.665.000. Permainan judi cap jeki tersebut dilakukan tanpa izin dari pejabat yang berwenang. Perbuatan Terdakwa didakwa dengan dakwaan primair Pasal 303 Ayat (1) ke-1 KUHP jo. Pasal 2 Undang-Undang RI No. 7 Tahun 1974 tentang Penertiban Perjudian, dan dakwaan subsidair Pasal 303 Ayat (1) ke-2 KUHP, jo. Pasal 2 UU RI No. 7 Tahun 1974 Tentang Penertiban Perjudian.",
         "['Pasal 303 Ayat (1) ke-1 KUHP jo. Pasal 2 Undang-Undang RI No. 7 Tahun 1974 tentang Penertiban Perjudian', 'Pasal 303 Ayat (1) ke-2 KUHP', 'jo. Pasal 2 UU RI No. 7 Tahun 1974 Tentang Penertiban Perjudian']",
         "I Ketut Sarjana",
         "5.0"
        ]
       ],
       "shape": {
        "columns": 9,
        "rows": 4582
       }
      },
      "text/html": [
       "<div>\n",
       "<style scoped>\n",
       "    .dataframe tbody tr th:only-of-type {\n",
       "        vertical-align: middle;\n",
       "    }\n",
       "\n",
       "    .dataframe tbody tr th {\n",
       "        vertical-align: top;\n",
       "    }\n",
       "\n",
       "    .dataframe thead th {\n",
       "        text-align: right;\n",
       "    }\n",
       "</style>\n",
       "<table border=\"1\" class=\"dataframe\">\n",
       "  <thead>\n",
       "    <tr style=\"text-align: right;\">\n",
       "      <th></th>\n",
       "      <th>klasifikasi_perkara_encoded</th>\n",
       "      <th>penuntut_umum_encoded</th>\n",
       "      <th>hakim_encoded</th>\n",
       "      <th>jumlah_saksi</th>\n",
       "      <th>cleaned_barang_bukti</th>\n",
       "      <th>summarized_dakwaan</th>\n",
       "      <th>extracted_pasal</th>\n",
       "      <th>terdakwa</th>\n",
       "      <th>total_pidana_penjara_bulan</th>\n",
       "    </tr>\n",
       "  </thead>\n",
       "  <tbody>\n",
       "    <tr>\n",
       "      <th>0</th>\n",
       "      <td>0</td>\n",
       "      <td>0</td>\n",
       "      <td>0</td>\n",
       "      <td>6</td>\n",
       "      <td>1 buah sabit kecil dengan gagang dari kayu 1 b...</td>\n",
       "      <td>Terdakwa Gede Darmayasa didakwa telah melakuka...</td>\n",
       "      <td>['Pasal 362 KUHP jo. Pasal 65 Ayat (1) KUHP']</td>\n",
       "      <td>GEDE DARMAYASA</td>\n",
       "      <td>5.0</td>\n",
       "    </tr>\n",
       "    <tr>\n",
       "      <th>1</th>\n",
       "      <td>1</td>\n",
       "      <td>1</td>\n",
       "      <td>1</td>\n",
       "      <td>4</td>\n",
       "      <td>1 lembar nota pembelian perhiasan kalung emas ...</td>\n",
       "      <td>Pada bulan Februari dan Maret 2024, terdakwa I...</td>\n",
       "      <td>['Pasal 372 jo. 64 Ayat (1) KUHP', 'Pasal 378 ...</td>\n",
       "      <td>IDA BAGUS MADE DARMA WIGUNA</td>\n",
       "      <td>24.0</td>\n",
       "    </tr>\n",
       "    <tr>\n",
       "      <th>2</th>\n",
       "      <td>0</td>\n",
       "      <td>0</td>\n",
       "      <td>2</td>\n",
       "      <td>6</td>\n",
       "      <td>1 buah Kotak/Box handphone merk OPPO type A53 ...</td>\n",
       "      <td>Terdakwa Handri Johanes pada Rabu, 24 April 20...</td>\n",
       "      <td>['Pasal 363 Ayat (1) ke-3 KUHP']</td>\n",
       "      <td>HANDRI JOHANAS</td>\n",
       "      <td>4.0</td>\n",
       "    </tr>\n",
       "    <tr>\n",
       "      <th>3</th>\n",
       "      <td>2</td>\n",
       "      <td>2</td>\n",
       "      <td>1</td>\n",
       "      <td>2</td>\n",
       "      <td>1 buah plastik klip bening yang berisi kristal...</td>\n",
       "      <td>Pada hari Minggu, 14 April 2024 sekitar pukul ...</td>\n",
       "      <td>['Pasal 112 Ayat (1) UU RI No. 35 Tahun 2009 t...</td>\n",
       "      <td>I GEDE ARIADI alias BERNAD</td>\n",
       "      <td>14.0</td>\n",
       "    </tr>\n",
       "    <tr>\n",
       "      <th>4</th>\n",
       "      <td>2</td>\n",
       "      <td>3</td>\n",
       "      <td>1</td>\n",
       "      <td>2</td>\n",
       "      <td>1 buah plastik klip bening yang berisi kristal...</td>\n",
       "      <td>Pada hari Minggu, 14 April 2024 sekitar pukul ...</td>\n",
       "      <td>['Pasal 112 Ayat (1) UU RI No. 35 Tahun 2009 t...</td>\n",
       "      <td>I GEDE ARIADI alias BERNAD</td>\n",
       "      <td>14.0</td>\n",
       "    </tr>\n",
       "    <tr>\n",
       "      <th>...</th>\n",
       "      <td>...</td>\n",
       "      <td>...</td>\n",
       "      <td>...</td>\n",
       "      <td>...</td>\n",
       "      <td>...</td>\n",
       "      <td>...</td>\n",
       "      <td>...</td>\n",
       "      <td>...</td>\n",
       "      <td>...</td>\n",
       "    </tr>\n",
       "    <tr>\n",
       "      <th>4577</th>\n",
       "      <td>2</td>\n",
       "      <td>373</td>\n",
       "      <td>134</td>\n",
       "      <td>2</td>\n",
       "      <td>1 buah kotak hitam di dalamnya ada 1 plastik k...</td>\n",
       "      <td>Pada Jumat, 31 Maret 2023, sekitar pukul 20.30...</td>\n",
       "      <td>['Pasal 114 Ayat (1) UU RI No. 35 Tahun 2009 T...</td>\n",
       "      <td>NURUL FIQRI SUDIRMAN als KIKI bin SUDIRMAN</td>\n",
       "      <td>72.0</td>\n",
       "    </tr>\n",
       "    <tr>\n",
       "      <th>4578</th>\n",
       "      <td>0</td>\n",
       "      <td>387</td>\n",
       "      <td>123</td>\n",
       "      <td>2</td>\n",
       "      <td>1 unit Handphone Samsung A52 Dikembalikan kepa...</td>\n",
       "      <td>Pada hari Minggu, 28 Mei 2023, sekitar pukul 1...</td>\n",
       "      <td>['Pasal 363 Ayat (1) ke-4 KUHP']</td>\n",
       "      <td>SUPRIADI BIN RATIM</td>\n",
       "      <td>16.0</td>\n",
       "    </tr>\n",
       "    <tr>\n",
       "      <th>4579</th>\n",
       "      <td>0</td>\n",
       "      <td>389</td>\n",
       "      <td>123</td>\n",
       "      <td>2</td>\n",
       "      <td>1 unit Handphone Samsung A52 Dikembalikan kepa...</td>\n",
       "      <td>Pada hari Minggu, 28 Mei 2023, sekitar pukul 1...</td>\n",
       "      <td>['Pasal 363 Ayat (1) ke-4 KUHP']</td>\n",
       "      <td>SUPRIADI BIN RATIM</td>\n",
       "      <td>16.0</td>\n",
       "    </tr>\n",
       "    <tr>\n",
       "      <th>4580</th>\n",
       "      <td>0</td>\n",
       "      <td>387</td>\n",
       "      <td>123</td>\n",
       "      <td>2</td>\n",
       "      <td>1 unit Handphone Samsung A52 Dikembalikan kepa...</td>\n",
       "      <td>Pada hari Minggu, 28 Mei 2023, sekitar pukul 1...</td>\n",
       "      <td>['Pasal 363 Ayat (1) ke-4 KUHP']</td>\n",
       "      <td>ANWAR RURI BIN SYARIFUDIN USMAN</td>\n",
       "      <td>16.0</td>\n",
       "    </tr>\n",
       "    <tr>\n",
       "      <th>4581</th>\n",
       "      <td>0</td>\n",
       "      <td>389</td>\n",
       "      <td>123</td>\n",
       "      <td>2</td>\n",
       "      <td>1 unit Handphone Samsung A52 Dikembalikan kepa...</td>\n",
       "      <td>Pada hari Minggu, 28 Mei 2023, sekitar pukul 1...</td>\n",
       "      <td>['Pasal 363 Ayat (1) ke-4 KUHP']</td>\n",
       "      <td>ANWAR RURI BIN SYARIFUDIN USMAN</td>\n",
       "      <td>16.0</td>\n",
       "    </tr>\n",
       "  </tbody>\n",
       "</table>\n",
       "<p>4582 rows × 9 columns</p>\n",
       "</div>"
      ],
      "text/plain": [
       "      klasifikasi_perkara_encoded  penuntut_umum_encoded  hakim_encoded  \\\n",
       "0                               0                      0              0   \n",
       "1                               1                      1              1   \n",
       "2                               0                      0              2   \n",
       "3                               2                      2              1   \n",
       "4                               2                      3              1   \n",
       "...                           ...                    ...            ...   \n",
       "4577                            2                    373            134   \n",
       "4578                            0                    387            123   \n",
       "4579                            0                    389            123   \n",
       "4580                            0                    387            123   \n",
       "4581                            0                    389            123   \n",
       "\n",
       "      jumlah_saksi                               cleaned_barang_bukti  \\\n",
       "0                6  1 buah sabit kecil dengan gagang dari kayu 1 b...   \n",
       "1                4  1 lembar nota pembelian perhiasan kalung emas ...   \n",
       "2                6  1 buah Kotak/Box handphone merk OPPO type A53 ...   \n",
       "3                2  1 buah plastik klip bening yang berisi kristal...   \n",
       "4                2  1 buah plastik klip bening yang berisi kristal...   \n",
       "...            ...                                                ...   \n",
       "4577             2  1 buah kotak hitam di dalamnya ada 1 plastik k...   \n",
       "4578             2  1 unit Handphone Samsung A52 Dikembalikan kepa...   \n",
       "4579             2  1 unit Handphone Samsung A52 Dikembalikan kepa...   \n",
       "4580             2  1 unit Handphone Samsung A52 Dikembalikan kepa...   \n",
       "4581             2  1 unit Handphone Samsung A52 Dikembalikan kepa...   \n",
       "\n",
       "                                     summarized_dakwaan  \\\n",
       "0     Terdakwa Gede Darmayasa didakwa telah melakuka...   \n",
       "1     Pada bulan Februari dan Maret 2024, terdakwa I...   \n",
       "2     Terdakwa Handri Johanes pada Rabu, 24 April 20...   \n",
       "3     Pada hari Minggu, 14 April 2024 sekitar pukul ...   \n",
       "4     Pada hari Minggu, 14 April 2024 sekitar pukul ...   \n",
       "...                                                 ...   \n",
       "4577  Pada Jumat, 31 Maret 2023, sekitar pukul 20.30...   \n",
       "4578  Pada hari Minggu, 28 Mei 2023, sekitar pukul 1...   \n",
       "4579  Pada hari Minggu, 28 Mei 2023, sekitar pukul 1...   \n",
       "4580  Pada hari Minggu, 28 Mei 2023, sekitar pukul 1...   \n",
       "4581  Pada hari Minggu, 28 Mei 2023, sekitar pukul 1...   \n",
       "\n",
       "                                        extracted_pasal  \\\n",
       "0         ['Pasal 362 KUHP jo. Pasal 65 Ayat (1) KUHP']   \n",
       "1     ['Pasal 372 jo. 64 Ayat (1) KUHP', 'Pasal 378 ...   \n",
       "2                      ['Pasal 363 Ayat (1) ke-3 KUHP']   \n",
       "3     ['Pasal 112 Ayat (1) UU RI No. 35 Tahun 2009 t...   \n",
       "4     ['Pasal 112 Ayat (1) UU RI No. 35 Tahun 2009 t...   \n",
       "...                                                 ...   \n",
       "4577  ['Pasal 114 Ayat (1) UU RI No. 35 Tahun 2009 T...   \n",
       "4578                   ['Pasal 363 Ayat (1) ke-4 KUHP']   \n",
       "4579                   ['Pasal 363 Ayat (1) ke-4 KUHP']   \n",
       "4580                   ['Pasal 363 Ayat (1) ke-4 KUHP']   \n",
       "4581                   ['Pasal 363 Ayat (1) ke-4 KUHP']   \n",
       "\n",
       "                                        terdakwa  total_pidana_penjara_bulan  \n",
       "0                                 GEDE DARMAYASA                         5.0  \n",
       "1                    IDA BAGUS MADE DARMA WIGUNA                        24.0  \n",
       "2                                 HANDRI JOHANAS                         4.0  \n",
       "3                     I GEDE ARIADI alias BERNAD                        14.0  \n",
       "4                     I GEDE ARIADI alias BERNAD                        14.0  \n",
       "...                                          ...                         ...  \n",
       "4577  NURUL FIQRI SUDIRMAN als KIKI bin SUDIRMAN                        72.0  \n",
       "4578                          SUPRIADI BIN RATIM                        16.0  \n",
       "4579                          SUPRIADI BIN RATIM                        16.0  \n",
       "4580             ANWAR RURI BIN SYARIFUDIN USMAN                        16.0  \n",
       "4581             ANWAR RURI BIN SYARIFUDIN USMAN                        16.0  \n",
       "\n",
       "[4582 rows x 9 columns]"
      ]
     },
     "execution_count": 3,
     "metadata": {},
     "output_type": "execute_result"
    }
   ],
   "source": [
    "df"
   ]
  },
  {
   "cell_type": "code",
   "execution_count": 4,
   "metadata": {},
   "outputs": [],
   "source": [
    "df_filtered = df.drop(columns=['extracted_pasal'])"
   ]
  },
  {
   "cell_type": "code",
   "execution_count": 5,
   "metadata": {},
   "outputs": [
    {
     "name": "stdout",
     "output_type": "stream",
     "text": [
      "<class 'pandas.core.frame.DataFrame'>\n",
      "RangeIndex: 4582 entries, 0 to 4581\n",
      "Data columns (total 8 columns):\n",
      " #   Column                       Non-Null Count  Dtype  \n",
      "---  ------                       --------------  -----  \n",
      " 0   klasifikasi_perkara_encoded  4582 non-null   int64  \n",
      " 1   penuntut_umum_encoded        4582 non-null   int64  \n",
      " 2   hakim_encoded                4582 non-null   int64  \n",
      " 3   jumlah_saksi                 4582 non-null   int64  \n",
      " 4   cleaned_barang_bukti         4582 non-null   object \n",
      " 5   summarized_dakwaan           4582 non-null   object \n",
      " 6   terdakwa                     4582 non-null   object \n",
      " 7   total_pidana_penjara_bulan   4582 non-null   float64\n",
      "dtypes: float64(1), int64(4), object(3)\n",
      "memory usage: 286.5+ KB\n"
     ]
    }
   ],
   "source": [
    "df_filtered.info()"
   ]
  },
  {
   "cell_type": "markdown",
   "metadata": {},
   "source": [
    "### Split Data"
   ]
  },
  {
   "cell_type": "code",
   "execution_count": 6,
   "metadata": {},
   "outputs": [],
   "source": [
    "def stratified_split(df: pd.DataFrame, split_size: float = 0.7) -> tuple[pd.DataFrame, pd.DataFrame]:\n",
    "    unique_groups = df.groupby([\"klasifikasi_perkara_encoded\", \"penuntut_umum_encoded\", \"hakim_encoded\"]).apply(lambda x: x.index.tolist()).to_dict()\n",
    "    \n",
    "    print(unique_groups)\n",
    "    train_idx, test_idx = [], []\n",
    "    \n",
    "    for indices in unique_groups.values():        \n",
    "        if len(indices) == 1:\n",
    "            train_idx.extend(indices)\n",
    "        else:\n",
    "            train, test = train_test_split(indices, train_size=split_size, random_state=42)\n",
    "            train_idx.extend(train)\n",
    "            test_idx.extend(test)\n",
    "    \n",
    "    return df.loc[train_idx], df.loc[test_idx]"
   ]
  },
  {
   "cell_type": "code",
   "execution_count": 7,
   "metadata": {},
   "outputs": [
    {
     "name": "stdout",
     "output_type": "stream",
     "text": [
      "{(0, 0, 0): [0, 20], (0, 0, 2): [2], (0, 1, 0): [19], (0, 1, 4): [35, 36], (0, 4, 1): [5], (0, 4, 3): [10], (0, 7, 1): [9], (0, 8, 0): [15, 17], (0, 9, 0): [16, 18], (0, 11, 4): [22, 23], (0, 13, 0): [32], (0, 13, 3): [34], (0, 15, 4): [33], (0, 16, 0): [37], (0, 17, 0): [38], (0, 17, 14): [440, 504, 598, 612], (0, 17, 16): [425], (0, 17, 18): [477, 668], (0, 17, 19): [787, 788, 789, 790], (0, 17, 20): [435, 441, 521, 581, 611, 728, 749], (0, 17, 21): [642, 826], (0, 18, 0): [39], (0, 19, 0): [40, 41], (0, 20, 0): [42], (0, 22, 7): [46], (0, 26, 10): [52, 54], (0, 27, 10): [137, 153, 173], (0, 27, 11): [75, 104], (0, 27, 12): [174], (0, 27, 14): [119], (0, 28, 10): [100, 148], (0, 28, 11): [55], (0, 29, 10): [56], (0, 30, 10): [57, 94], (0, 30, 12): [90], (0, 31, 9): [58], (0, 31, 10): [106, 107, 109], (0, 31, 12): [96, 97], (0, 32, 10): [59, 60, 61], (0, 32, 12): [101, 102], (0, 33, 10): [175], (0, 33, 14): [145, 163, 164, 165, 167, 178], (0, 34, 10): [63, 91, 92, 93], (0, 34, 11): [65], (0, 34, 12): [80, 176, 177], (0, 35, 12): [70, 71], (0, 37, 10): [78], (0, 37, 11): [73, 81, 89], (0, 38, 12): [110, 111], (0, 38, 15): [171], (0, 39, 12): [105, 128], (0, 40, 15): [184], (0, 41, 10): [154], (0, 42, 10): [295, 362, 389], (0, 42, 16): [292, 321, 330, 367], (0, 42, 19): [726], (0, 43, 10): [142, 166, 179], (0, 43, 12): [112], (0, 43, 14): [120], (0, 44, 10): [290, 313, 317, 350, 351], (0, 44, 14): [187, 188, 423, 424, 577, 590], (0, 44, 16): [305, 306, 307, 332, 348, 349, 364, 365], (0, 44, 17): [390], (0, 44, 18): [445, 660, 667, 715], (0, 44, 19): [498, 607], (0, 44, 20): [496, 639], (0, 44, 21): [703, 704], (0, 49, 10): [207, 213, 262, 265], (0, 49, 12): [143], (0, 49, 13): [289], (0, 50, 12): [133], (0, 51, 10): [134], (0, 52, 12): [146], (0, 52, 14): [150, 152], (0, 55, 12): [180], (0, 57, 14): [149, 151], (0, 61, 15): [183], (0, 62, 10): [242, 269, 270, 271, 272], (0, 62, 14): [260, 383, 418, 419], (0, 62, 16): [388], (0, 62, 19): [551, 766], (0, 62, 20): [729], (0, 62, 22): [723], (0, 64, 10): [331, 338], (0, 64, 16): [297], (0, 65, 10): [199, 283, 284], (0, 65, 12): [202], (0, 65, 17): [366], (0, 66, 14): [261], (0, 67, 12): [196], (0, 68, 10): [197, 371], (0, 68, 14): [376, 406, 452, 453], (0, 68, 16): [405], (0, 68, 19): [587, 588, 773], (0, 68, 20): [741], (0, 68, 21): [589, 819, 820, 821, 846], (0, 69, 10): [200, 251, 252, 253, 254], (0, 69, 12): [201], (0, 69, 14): [233], (0, 69, 16): [266], (0, 71, 10): [304], (0, 71, 14): [541, 548, 580, 624], (0, 71, 16): [309, 315, 316, 385, 420], (0, 71, 18): [657, 658, 659], (0, 71, 20): [449, 573, 574, 575, 576, 693], (0, 72, 10): [354], (0, 72, 16): [325, 326, 327, 386, 387], (0, 73, 10): [212, 243, 244], (0, 73, 12): [237, 238, 239, 240], (0, 74, 10): [382], (0, 74, 14): [328, 329], (0, 74, 16): [340], (0, 75, 14): [222, 223, 224, 225, 520, 617], (0, 75, 19): [462, 463, 464, 512, 513, 514, 635, 785, 786], (0, 75, 20): [436], (0, 75, 21): [648, 750], (0, 75, 23): [814, 838], (0, 75, 48): [1264, 1266], (0, 78, 10): [319, 334, 335, 370, 399], (0, 78, 13): [293], (0, 78, 14): [333, 339, 341, 345, 358, 359, 360, 400, 409, 485, 486], (0, 78, 16): [276, 277, 278, 303, 318, 337, 361, 369], (0, 78, 19): [443, 482, 596, 601], (0, 78, 20): [437, 457, 478, 501, 510, 562, 594, 595, 605, 606, 689], (0, 78, 21): [560], (0, 78, 22): [725], (0, 79, 16): [391], (0, 79, 17): [368], (0, 80, 10): [381], (0, 80, 19): [537, 538], (0, 81, 14): [433, 536, 557, 558, 559, 593], (0, 81, 18): [654, 655], (0, 81, 19): [428, 429, 432, 550, 583, 638, 646], (0, 81, 20): [451, 483, 484, 516, 517, 533, 534, 610, 625], (0, 81, 21): [631, 650, 775], (0, 82, 14): [411, 527, 543], (0, 82, 18): [757, 800], (0, 82, 19): [497, 511, 563, 564, 565, 591], (0, 82, 20): [458, 584], (0, 82, 21): [634, 644], (0, 83, 14): [613], (0, 83, 16): [412], (0, 83, 19): [503, 803, 804], (0, 83, 20): [479], (0, 83, 21): [641], (0, 84, 14): [487, 488], (0, 84, 20): [569, 570, 571, 742, 784], (0, 84, 21): [619, 845], (0, 84, 22): [702], (0, 85, 14): [542, 618], (0, 85, 18): [427, 531], (0, 85, 20): [526, 716], (0, 85, 21): [643, 651, 652], (0, 86, 14): [553], (0, 86, 19): [718, 734, 735, 736, 737, 740], (0, 86, 20): [720, 754], (0, 86, 21): [844], (0, 87, 14): [546], (0, 87, 20): [599, 600, 632, 722, 799], (0, 87, 21): [791, 792], (0, 87, 22): [738], (0, 87, 23): [839], (0, 88, 19): [630, 818], (0, 88, 20): [633], (0, 89, 19): [779, 780, 817], (0, 89, 21): [778], (0, 89, 22): [719], (0, 89, 23): [810], (0, 91, 18): [656], (0, 91, 21): [795, 796], (0, 92, 19): [835], (0, 92, 20): [763], (0, 93, 19): [769, 770], (0, 93, 20): [744, 745], (0, 93, 21): [771], (0, 95, 19): [765, 813], (0, 95, 21): [767, 833], (0, 97, 19): [798], (0, 97, 20): [781], (0, 99, 18): [793], (0, 99, 21): [830], (0, 101, 23): [811], (0, 103, 21): [823], (0, 105, 23): [831], (0, 106, 21): [847], (0, 107, 26): [864], (0, 107, 31): [890, 911], (0, 109, 30): [875, 876], (0, 110, 28): [889], (0, 115, 29): [874], (0, 116, 31): [919, 957], (0, 116, 34): [941], (0, 116, 36): [943, 1004], (0, 119, 28): [872], (0, 119, 31): [883], (0, 121, 32): [881], (0, 122, 32): [884], (0, 125, 30): [894], (0, 125, 32): [908], (0, 129, 31): [920], (0, 129, 34): [951, 991], (0, 129, 35): [995], (0, 129, 36): [984, 985, 1003], (0, 129, 39): [999], (0, 129, 40): [1000], (0, 132, 33): [904, 905, 906, 907], (0, 135, 28): [918], (0, 135, 34): [916, 926, 942], (0, 135, 36): [944], (0, 136, 28): [917], (0, 136, 34): [915, 925], (0, 137, 31): [973, 975], (0, 137, 34): [950], (0, 137, 35): [994], (0, 137, 36): [1002], (0, 137, 37): [1029, 1030], (0, 137, 43): [1026], (0, 138, 31): [927], (0, 139, 31): [928], (0, 140, 31): [974, 976], (0, 141, 36): [960, 962, 964], (0, 144, 31): [947], (0, 145, 31): [948], (0, 146, 31): [949], (0, 147, 36): [959, 961, 963, 1010], (0, 147, 40): [1001], (0, 148, 36): [983, 1005, 1011], (0, 149, 31): [958], (0, 149, 37): [1048], (0, 150, 35): [965], (0, 150, 36): [1012], (0, 150, 37): [996], (0, 151, 35): [966], (0, 151, 36): [1013], (0, 152, 34): [990], (0, 153, 38): [997, 998], (0, 158, 37): [1056], (0, 159, 37): [1042, 1047, 1057], (0, 159, 42): [1034], (0, 161, 43): [1040], (0, 162, 37): [1041], (0, 166, 45): [1060], (0, 166, 47): [1214], (0, 166, 48): [1199], (0, 167, 45): [1061], (0, 168, 45): [1062, 1128, 1140, 1142], (0, 168, 46): [1081, 1203, 1205], (0, 169, 45): [1063, 1068], (0, 169, 47): [1080], (0, 169, 48): [1124, 1126, 1144], (0, 170, 45): [1110], (0, 170, 47): [1101, 1103, 1402, 1404, 1408], (0, 170, 48): [1146, 1222, 1299, 1305, 1319, 1323, 1434], (0, 170, 49): [1388], (0, 171, 45): [1154], (0, 171, 47): [1066, 1067], (0, 172, 45): [1069], (0, 173, 46): [1070], (0, 173, 47): [1232, 1234, 1418], (0, 173, 48): [1260], (0, 174, 46): [1071], (0, 175, 45): [1072, 1073, 1074], (0, 175, 48): [1125, 1127, 1145], (0, 176, 46): [1263], (0, 176, 47): [1407], (0, 176, 48): [1298], (0, 177, 46): [1181], (0, 177, 47): [1079, 1207], (0, 178, 46): [1082], (0, 178, 48): [1151], (0, 179, 46): [1085, 1197], (0, 179, 47): [1213], (0, 180, 46): [1086, 1198], (0, 180, 47): [1102], (0, 180, 48): [1147], (0, 181, 45): [1157], (0, 182, 45): [1129, 1141, 1143], (0, 182, 47): [1116, 1118], (0, 185, 48): [1150, 1210], (0, 186, 45): [1111], (0, 186, 47): [1104], (0, 186, 48): [1412], (0, 186, 49): [1333, 1335, 1337, 1339, 1341, 1430, 1455, 1466], (0, 186, 50): [1458, 1461, 1464], (0, 187, 47): [1117, 1119], (0, 188, 48): [1166, 1202], (0, 189, 45): [1153, 1158], (0, 189, 46): [1204, 1206, 1236, 1302], (0, 189, 48): [1201, 1255, 1259, 1262], (0, 190, 48): [1242, 1395, 1441, 1443, 1445, 1447], (0, 191, 46): [1288, 1326], (0, 191, 47): [1417], (0, 191, 48): [1165, 1209, 1261, 1389], (0, 191, 49): [1364], (0, 192, 48): [1175], (0, 193, 48): [1176, 1223], (0, 196, 46): [1182, 1235, 1309, 1311], (0, 196, 47): [1208], (0, 196, 48): [1254, 1265, 1267, 1330, 1362, 1396], (0, 196, 50): [1457, 1460, 1463], (0, 197, 47): [1215], (0, 197, 48): [1200], (0, 199, 48): [1243, 1256], (0, 200, 46): [1289], (0, 200, 47): [1231, 1233], (0, 200, 48): [1390], (0, 203, 48): [1291], (0, 204, 46): [1308, 1310], (0, 204, 47): [1401, 1403], (0, 204, 48): [1290, 1304, 1318, 1322, 1411, 1433], (0, 205, 46): [1303, 1327], (0, 205, 47): [1432], (0, 205, 48): [1331, 1442, 1444, 1446, 1448], (0, 205, 49): [1365], (0, 206, 49): [1332, 1334, 1336, 1338, 1340, 1454, 1465], (0, 206, 50): [1456, 1459, 1462], (0, 207, 47): [1431], (0, 207, 48): [1363, 1397], (0, 207, 49): [1429], (0, 208, 49): [1387], (0, 212, 23): [1469], (0, 212, 51): [1542, 1546, 1563, 1565, 1586], (0, 212, 52): [1489, 1491], (0, 213, 23): [1470], (0, 213, 51): [1559], (0, 214, 51): [1471, 1497], (0, 215, 51): [1472, 1607], (0, 215, 54): [1511], (0, 215, 55): [1650, 1652], (0, 216, 51): [1483], (0, 216, 52): [1633], (0, 216, 55): [1625, 1627, 1651, 1653, 1658], (0, 218, 51): [1484, 1518, 1520, 1522, 1531, 1543, 1547], (0, 218, 52): [1490, 1492], (0, 218, 54): [1508, 1512], (0, 219, 51): [1587, 1591, 1604], (0, 219, 54): [1507], (0, 219, 55): [1592, 1610, 1615, 1616], (0, 220, 51): [1498], (0, 220, 55): [1594, 1601, 1611], (0, 221, 55): [1623], (0, 221, 57): [1641, 1643], (0, 222, 51): [1530, 1605], (0, 223, 54): [1555, 1557, 1585], (0, 224, 51): [1517, 1519, 1521], (0, 225, 54): [1554, 1556, 1660], (0, 225, 55): [1589, 1657], (0, 226, 55): [1534], (0, 227, 55): [1535], (0, 228, 51): [1558, 1562, 1564], (0, 228, 54): [1570], (0, 228, 55): [1566], (0, 229, 51): [1590, 1606], (0, 229, 52): [1632], (0, 229, 54): [1571, 1584, 1659], (0, 229, 55): [1567, 1572, 1588, 1593, 1600, 1614, 1622, 1624, 1626], (0, 229, 56): [1595], (0, 229, 57): [1640, 1642], (0, 230, 55): [1573], (0, 231, 55): [1617], (0, 243, 62): [1686, 1692], (0, 243, 63): [1690], (0, 244, 62): [1689], (0, 244, 67): [1732, 1738, 1739], (0, 245, 62): [1734, 1744], (0, 246, 62): [1706, 1726], (0, 247, 62): [1719], (0, 247, 63): [1727, 1728, 1729, 1730], (0, 247, 67): [1746], (0, 251, 62): [1736], (0, 251, 65): [1708], (0, 251, 67): [1754], (0, 251, 69): [1721, 1722], (0, 252, 67): [1715], (0, 253, 62): [1716], (0, 257, 71): [1756], (0, 258, 71): [1757], (0, 259, 72): [1760], (0, 262, 73): [1801, 1802, 1803], (0, 262, 77): [1810], (0, 262, 78): [1809], (0, 263, 73): [1816, 1836, 1840, 1856, 1865, 1886, 1887, 1909], (0, 263, 74): [1815, 1831, 1837, 1845, 1847, 1848, 1852, 1853, 1859, 1864, 1866, 1885, 1890, 1893, 1899, 1904, 1916], (0, 263, 75): [1783], (0, 263, 76): [1772], (0, 264, 73): [1788, 1796, 1799], (0, 264, 74): [1830, 1832], (0, 264, 75): [1778], (0, 265, 73): [1774, 1775, 1776, 1777, 1791], (0, 266, 74): [1779], (0, 268, 74): [1784, 1888, 1908], (0, 269, 73): [1842], (0, 269, 74): [1790, 1806, 1807, 1826, 1827, 1850, 1918], (0, 271, 74): [1902, 1903], (0, 272, 73): [1863], (0, 272, 74): [1860, 1862, 1913], (0, 274, 73): [1905], (0, 275, 74): [1917], (0, 276, 74): [1919, 1920, 1927], (0, 276, 77): [2019], (0, 276, 79): [2031, 2045, 2046, 2049], (0, 276, 80): [2054, 2055], (0, 276, 81): [2131], (0, 276, 82): [2132], (0, 276, 83): [2151, 2274], (0, 276, 84): [2176, 2233, 2234], (0, 276, 86): [2232, 2263], (0, 277, 73): [1923, 1954], (0, 277, 74): [1921, 1930, 1946], (0, 277, 75): [1983, 1987, 1988, 1998, 2028, 2034, 2035], (0, 277, 77): [1982], (0, 277, 78): [1963, 2015], (0, 277, 79): [2056], (0, 277, 81): [2096, 2136], (0, 277, 82): [2081, 2191, 2205, 2536], (0, 277, 84): [2229, 2329, 2365, 2469, 2482, 2511], (0, 277, 86): [2237, 2258, 2259, 2485], (0, 277, 88): [2376, 2401, 2439], (0, 277, 90): [2506], (0, 278, 75): [1964, 1996], (0, 278, 77): [2073], (0, 278, 78): [1995], (0, 278, 80): [2080], (0, 278, 81): [2076, 2108], (0, 278, 82): [2075, 2140, 2155], (0, 278, 83): [2256], (0, 278, 84): [2261, 2262, 2320, 2364], (0, 278, 86): [2241, 2257], (0, 279, 75): [2037], (0, 279, 77): [2074], (0, 279, 78): [1997], (0, 279, 81): [2137], (0, 280, 18): [2540], (0, 280, 73): [1944], (0, 280, 75): [1991], (0, 280, 78): [2020], (0, 280, 80): [2064], (0, 280, 81): [2087, 2134], (0, 280, 82): [2097, 2098, 2152, 2153, 2186], (0, 280, 84): [2194, 2209, 2217, 2218, 2305, 2306, 2369, 2370, 2434, 2516, 2532], (0, 280, 86): [2465, 2528, 2533], (0, 280, 87): [2497], (0, 280, 88): [2391, 2459, 2518, 2519], (0, 281, 73): [1928, 1929], (0, 281, 75): [2024], (0, 281, 81): [2071, 2089, 2090, 2110, 2111], (0, 281, 82): [2094, 2120, 2133, 2148, 2180], (0, 281, 83): [2222], (0, 281, 84): [2190, 2206, 2539], (0, 281, 86): [2235, 2296, 2537, 2538], (0, 281, 87): [2278, 2473], (0, 282, 74): [1940], (0, 283, 73): [1942, 1943, 1966, 1967, 1990], (0, 283, 75): [1978, 2012], (0, 283, 78): [2002, 2018], (0, 283, 79): [2057, 2058, 2059], (0, 283, 81): [2139], (0, 283, 82): [2077, 2078, 2084], (0, 283, 83): [2149, 2260], (0, 283, 84): [2203, 2277, 2340, 2455], (0, 283, 85): [2207], (0, 283, 86): [2236, 2321, 2322, 2333, 2334, 2377], (0, 283, 87): [2383], (0, 283, 88): [2359, 2460], (0, 283, 89): [2443, 2444, 2445], (0, 284, 73): [1945], (0, 284, 75): [1974, 1986], (0, 284, 81): [2128, 2146], (0, 284, 82): [2085], (0, 284, 83): [2295], (0, 284, 86): [2308], (0, 284, 88): [2372, 2496, 2525, 2526, 2527], (0, 285, 73): [2000], (0, 285, 75): [2032], (0, 285, 77): [2007, 2008], (0, 285, 78): [2025], (0, 285, 80): [2033, 2065, 2082], (0, 285, 81): [2079, 2113], (0, 286, 75): [2047, 2048], (0, 286, 78): [2009, 2010], (0, 286, 81): [2088], (0, 287, 75): [2016, 2027], (0, 287, 78): [2011], (0, 287, 81): [2116, 2117, 2118], (0, 287, 82): [2095], (0, 288, 77): [2072], (0, 289, 82): [2086], (0, 290, 84): [2301], (0, 291, 82): [2170], (0, 291, 83): [2313], (0, 291, 84): [2193, 2224, 2357, 2461], (0, 291, 86): [2447], (0, 291, 87): [2477], (0, 291, 88): [2336, 2341, 2344, 2345, 2356, 2363, 2402, 2413], (0, 291, 89): [2462], (0, 291, 90): [2489], (0, 292, 83): [2291], (0, 292, 86): [2500], (0, 293, 84): [2381], (0, 294, 83): [2283, 2330], (0, 294, 84): [2432, 2464], (0, 294, 86): [2297, 2366, 2501, 2507], (0, 294, 87): [2487], (0, 294, 88): [2393, 2411, 2433, 2463, 2493, 2498], (0, 295, 18): [2545], (0, 295, 84): [2287, 2335], (0, 295, 86): [2316, 2317, 2371, 2435, 2530], (0, 295, 88): [2529], (0, 296, 82): [2535], (0, 296, 83): [2310, 2311], (0, 296, 84): [2441], (0, 296, 86): [2448], (0, 296, 88): [2410, 2481], (0, 297, 84): [2315], (0, 297, 86): [2337, 2338, 2339], (0, 298, 84): [2368, 2422], (0, 298, 86): [2358, 2543, 2546], (0, 298, 88): [2392, 2458, 2503], (0, 299, 84): [2382, 2388, 2415, 2453], (0, 299, 86): [2354], (0, 299, 87): [2449, 2450, 2451, 2452], (0, 299, 88): [2436], (0, 300, 84): [2438], (0, 302, 88): [2505], (0, 303, 86): [2531], (0, 305, 92): [2549, 2550], (0, 305, 95): [2567], (0, 305, 100): [2558, 2559], (0, 305, 110): [2792], (0, 305, 117): [2730], (0, 306, 93): [2551], (0, 306, 97): [2581], (0, 306, 104): [2781], (0, 307, 105): [2794], (0, 308, 97): [2659], (0, 308, 106): [2779], (0, 308, 112): [2713], (0, 309, 101): [2721, 2722], (0, 309, 107): [2625, 2785], (0, 309, 110): [2661], (0, 309, 111): [2582], (0, 310, 113): [2621, 2782], (0, 311, 97): [2777, 2778], (0, 311, 103): [2689], (0, 311, 106): [2645], (0, 311, 111): [2675], (0, 311, 114): [2602], (0, 312, 95): [2623], (0, 312, 99): [2557], (0, 312, 104): [2586, 2587], (0, 312, 106): [2746, 2747], (0, 312, 110): [2752, 2753], (0, 312, 115): [2677, 2678], (0, 313, 100): [2742, 2743], (0, 313, 101): [2560], (0, 313, 110): [2786], (0, 313, 113): [2699], (0, 314, 95): [2564], (0, 315, 104): [2708], (0, 315, 113): [2688], (0, 315, 114): [2676], (0, 316, 96): [2771], (0, 316, 103): [2565], (0, 316, 110): [2580, 2641], (0, 316, 114): [2762], (0, 317, 105): [2784], (0, 317, 115): [2613], (0, 317, 117): [2758], (0, 319, 95): [2766], (0, 319, 97): [2736], (0, 319, 100): [2569], (0, 319, 101): [2772], (0, 319, 111): [2776], (0, 319, 113): [2614, 2615, 2783], (0, 319, 118): [2797], (0, 320, 105): [2570], (0, 321, 106): [2571], (0, 322, 98): [2572, 2573], (0, 324, 100): [2589], (0, 324, 117): [2795, 2796], (0, 325, 112): [2593], (0, 326, 94): [2588], (0, 327, 99): [2679], (0, 327, 105): [2658], (0, 327, 116): [2616, 2617, 2793], (0, 328, 115): [2780], (0, 331, 100): [2660], (0, 331, 101): [2603], (0, 331, 107): [2751], (0, 331, 109): [2612], (0, 335, 96): [2764, 2765], (0, 335, 118): [2666], (0, 336, 109): [2618, 2619], (0, 337, 95): [2744], (0, 339, 101): [2646], (0, 339, 102): [2696, 2697, 2698], (0, 339, 114): [2626], (0, 339, 118): [2726, 2727, 2728], (0, 340, 115): [2700], (0, 340, 120): [2756], (0, 342, 119): [2725], (0, 343, 99): [2767, 2768, 2769, 2770], (0, 345, 107): [2745], (0, 345, 112): [2668], (0, 351, 102): [2712], (0, 351, 109): [2733, 2734, 2735], (0, 351, 112): [2806, 2807, 2808], (0, 352, 94): [2737], (0, 352, 98): [2811], (0, 352, 109): [2731, 2732], (0, 352, 113): [2809], (0, 352, 116): [2719, 2720], (0, 352, 119): [2718], (0, 354, 108): [2754, 2755], (0, 356, 118): [2759], (0, 357, 119): [2760, 2761], (0, 358, 97): [2791], (0, 360, 121): [2835], (0, 360, 122): [3033, 3035, 3037, 3039], (0, 360, 126): [2925], (0, 360, 127): [2954], (0, 360, 129): [2890], (0, 360, 132): [3027], (0, 360, 134): [2892, 2944], (0, 360, 135): [2929], (0, 361, 121): [2836], (0, 361, 122): [3034, 3036, 3038, 3040], (0, 361, 123): [2862], (0, 361, 124): [2848, 2850, 2852], (0, 361, 126): [2926], (0, 361, 128): [2864, 2866], (0, 361, 129): [2891], (0, 361, 130): [2984], (0, 361, 132): [3028], (0, 361, 133): [3406, 3407], (0, 361, 134): [2893, 2945], (0, 361, 135): [2930], (0, 362, 121): [2997, 3222, 3224, 3366, 3368], (0, 362, 122): [2837, 2971, 2973, 3324], (0, 362, 123): [2881], (0, 362, 125): [3075, 3109, 3182], (0, 362, 126): [3133], (0, 362, 127): [3412], (0, 362, 128): [3184, 3186, 3188, 3190, 3228, 3230], (0, 362, 130): [2873], (0, 362, 131): [2875], (0, 362, 133): [3001, 3003, 3137, 3139, 3141], (0, 362, 136): [2961, 2963], (0, 362, 137): [2921, 3076, 3242, 3254, 3256, 3294], (0, 362, 138): [3095], (0, 362, 139): [3240], (0, 362, 140): [3252, 3316], (0, 363, 122): [2838, 3172], (0, 363, 124): [2995], (0, 363, 127): [3015, 3246], (0, 363, 131): [3250], (0, 363, 133): [3002, 3004], (0, 363, 135): [3049, 3215, 3217, 3234], (0, 363, 136): [2962, 2964, 3168, 3170], (0, 364, 127): [2923], (0, 364, 129): [2987], (0, 364, 130): [3226, 3591, 3593, 3595], (0, 364, 132): [3672, 3674, 3676, 3678], (0, 364, 133): [3647, 3665], (0, 364, 139): [3802], (0, 364, 140): [3703], (0, 364, 142): [3744], (0, 365, 121): [3805], (0, 365, 123): [3839], (0, 365, 126): [3475], (0, 365, 127): [2924], (0, 365, 129): [3660], (0, 365, 130): [3227], (0, 365, 131): [3128, 3469, 3471], (0, 365, 133): [3329], (0, 365, 139): [3473, 3803], (0, 368, 121): [3105], (0, 368, 122): [3572], (0, 368, 123): [3118, 3344], (0, 368, 124): [2847, 2849, 2851, 3107], (0, 368, 126): [3268], (0, 368, 127): [2955, 3626], (0, 368, 130): [2983], (0, 368, 132): [3119, 3465], (0, 368, 134): [3346], (0, 368, 136): [3023], (0, 369, 121): [3223, 3225], (0, 369, 123): [2861, 2882, 3045, 3046], (0, 369, 125): [2853], (0, 369, 126): [3007, 3009, 3011, 3013, 3134], (0, 369, 127): [3178, 3179], (0, 369, 128): [2863, 2865, 3185, 3187, 3189, 3191, 3229, 3231], (0, 369, 133): [3138, 3140, 3142], (0, 369, 138): [3096], (0, 369, 139): [3241], (0, 370, 122): [2913, 3403], (0, 370, 123): [2968, 2970], (0, 370, 124): [3737], (0, 370, 125): [2854, 3431], (0, 370, 127): [3247], (0, 370, 131): [3557], (0, 370, 133): [4068], (0, 370, 135): [3050], (0, 370, 137): [3939], (0, 370, 141): [4141], (0, 370, 142): [3214], (0, 370, 144): [4261], (0, 371, 122): [2912, 2972, 2974, 3173, 3402], (0, 371, 123): [2967, 2969, 3838], (0, 371, 124): [2996], (0, 371, 125): [3430], (0, 371, 126): [3008, 3010, 3012, 3014], (0, 371, 127): [3016, 3365], (0, 371, 131): [3251, 4455], (0, 371, 133): [4011], (0, 371, 135): [3216, 3218, 3235], (0, 371, 136): [3169, 3171], (0, 371, 139): [4080], (0, 371, 141): [4140], (0, 371, 142): [3213, 4138], (0, 371, 144): [4260], (0, 372, 125): [3568], (0, 372, 127): [3627], (0, 372, 129): [2988, 3659], (0, 372, 133): [3328], (0, 372, 136): [3549, 3551], (0, 373, 121): [3181, 3813, 3815], (0, 373, 122): [4368, 4438, 4440], (0, 373, 123): [3485, 4064, 4066], (0, 373, 124): [4207], (0, 373, 125): [4187, 4574], (0, 373, 129): [4113], (0, 373, 130): [4265], (0, 373, 132): [4399], (0, 373, 133): [4235, 4237, 4239], (0, 373, 137): [3243, 4474, 4476], (0, 373, 139): [4115, 4241, 4243], (0, 373, 140): [4415], (0, 373, 141): [3203, 3205, 3207, 3521, 3523], (0, 373, 142): [4308, 4310, 4312, 4314, 4473], (0, 373, 143): [4030, 4062], (0, 373, 145): [4357], (0, 374, 121): [3555], (0, 374, 122): [3956, 3958, 3960, 3962], (0, 374, 123): [4142], (0, 374, 124): [4231, 4233], (0, 374, 129): [4541], (0, 374, 132): [4355], (0, 374, 134): [4539], (0, 374, 135): [3981, 3983], (0, 374, 140): [4177], (0, 374, 141): [3750], (0, 374, 142): [3633, 3635], (0, 375, 123): [4081], (0, 375, 124): [4206], (0, 375, 125): [4052, 4186, 4404], (0, 375, 129): [4112], (0, 375, 130): [4007, 4264], (0, 375, 131): [4128], (0, 375, 132): [4398], (0, 375, 133): [4234, 4236, 4238, 4302], (0, 375, 135): [4285, 4287, 4289, 4291], (0, 375, 136): [4188], (0, 375, 139): [4240, 4242], (0, 375, 141): [3520, 3522, 4022, 4024], (0, 375, 143): [4061], (0, 375, 145): [4356], (0, 376, 125): [2946, 2948], (0, 376, 128): [3343], (0, 377, 121): [2998], (0, 377, 125): [2947, 2949, 3110], (0, 377, 130): [2874], (0, 377, 131): [2876], (0, 377, 137): [2922, 3077, 3255, 3257], (0, 377, 141): [3313, 3315], (0, 378, 131): [3127], (0, 379, 132): [2919], (0, 380, 122): [4121], (0, 380, 123): [4143], (0, 380, 130): [3993], (0, 380, 132): [2920], (0, 380, 135): [3955], (0, 384, 121): [3180, 3714, 3812, 3814], (0, 384, 123): [4063, 4065], (0, 384, 124): [3965], (0, 384, 128): [3342], (0, 384, 129): [3265], (0, 384, 130): [4006], (0, 384, 131): [4200], (0, 384, 133): [3920], (0, 384, 139): [4114], (0, 384, 140): [3317], (0, 384, 141): [3202, 3204, 3206], (0, 384, 142): [3632, 3634, 4307, 4309, 4311, 4313], (0, 385, 122): [4120], (0, 385, 123): [4400, 4402], (0, 385, 126): [3644], (0, 385, 130): [3992], (0, 385, 131): [4434], (0, 385, 132): [4494], (0, 385, 133): [4426, 4428], (0, 385, 134): [3679], (0, 385, 135): [4168, 4170, 4323], (0, 385, 136): [4276], (0, 385, 140): [4176, 4414], (0, 385, 141): [3749], (0, 385, 143): [4152, 4154, 4567], (0, 385, 144): [4565], (0, 385, 145): [4430], (0, 385, 146): [4515, 4517, 4519], (0, 386, 123): [4082], (0, 386, 132): [4495], (0, 387, 121): [3367, 3369, 3821], (0, 387, 122): [3325, 3573, 3756, 3887, 3889, 4185, 4227, 4439, 4441], (0, 387, 123): [3448, 3706, 4573, 4578, 4580], (0, 387, 124): [3148, 3536, 3849, 3851], (0, 387, 125): [3289, 3689, 4390, 4392, 4405, 4575], (0, 387, 126): [3269, 3901, 3903], (0, 387, 128): [3404], (0, 387, 129): [3384, 3386, 3388, 4542], (0, 387, 132): [3641, 3969], (0, 387, 133): [3583, 3585, 4303], (0, 387, 134): [3097, 3347, 3971, 3973, 4540], (0, 387, 135): [3233, 3954, 4169, 4171], (0, 387, 136): [3024, 3278, 3280], (0, 387, 137): [3150, 3531, 4475, 4477], (0, 387, 139): [3102, 3309, 3610, 3612, 3614], (0, 387, 140): [3114, 3533], (0, 387, 141): [3373, 3375, 4023, 4025, 4461], (0, 387, 142): [3381, 4139], (0, 387, 143): [4031, 4417], (0, 389, 121): [3106], (0, 389, 123): [3345, 3449, 3707, 4401, 4403, 4579, 4581], (0, 389, 124): [3108, 3537], (0, 389, 125): [3569, 4391, 4393], (0, 389, 128): [3405], (0, 389, 129): [3385, 3387, 3389], (0, 389, 130): [3104, 3415, 3417], (0, 389, 132): [3120, 4538], (0, 389, 133): [4427, 4429], (0, 389, 134): [3098], (0, 389, 136): [3279, 3281], (0, 389, 137): [3151], (0, 389, 139): [3611, 3613, 3615], (0, 389, 141): [4341], (0, 389, 145): [4431], (0, 389, 146): [4516, 4518, 4520], (0, 390, 121): [3780], (0, 390, 122): [3755], (0, 390, 123): [3117, 3853], (0, 390, 124): [3147], (0, 390, 125): [3288, 3688], (0, 390, 130): [3103], (0, 390, 132): [3464, 3640, 3968], (0, 390, 133): [3582, 3584], (0, 390, 135): [3232, 3687, 4284, 4286, 4288, 4290], (0, 390, 137): [3295], (0, 390, 139): [3101], (0, 390, 140): [3113, 3253, 3532, 3702], (0, 390, 141): [3372, 3374, 3778, 3790], (0, 390, 142): [3380], (0, 391, 126): [3946], (0, 391, 134): [4446, 4448], (0, 391, 136): [3898], (0, 391, 139): [3922, 3924], (0, 391, 141): [3935, 4549], (0, 392, 125): [3183], (0, 394, 131): [3468, 3470], (0, 394, 139): [3472], (0, 395, 121): [3554, 3820], (0, 395, 122): [4544], (0, 395, 124): [3260, 3262, 3964, 4230, 4232], (0, 395, 126): [3729, 3906], (0, 395, 127): [3728], (0, 395, 128): [3596, 3663], (0, 395, 129): [3264], (0, 395, 130): [4298], (0, 395, 131): [3667, 4271, 4273, 4397, 4454], (0, 395, 132): [4354, 4537], (0, 395, 133): [4067], (0, 395, 134): [3552, 4247], (0, 395, 135): [3980, 3982], (0, 395, 139): [3800], (0, 395, 140): [3890, 3892], (0, 395, 142): [4076, 4190, 4192], (0, 395, 143): [4416, 4437], (0, 395, 144): [4044, 4046, 4048, 4050, 4202], (0, 395, 145): [4316], (0, 395, 146): [4552], (0, 396, 122): [3957, 3959, 3961, 3963], (0, 396, 124): [3261, 3263], (0, 396, 128): [3664], (0, 396, 130): [3709, 3711], (0, 396, 131): [3668, 4201], (0, 396, 134): [3553], (0, 396, 137): [4528, 4530, 4532], (0, 396, 140): [4478, 4480], (0, 396, 142): [4191, 4193], (0, 396, 144): [4203], (0, 397, 122): [4033, 4035], (0, 397, 126): [3907, 4522, 4524, 4526], (0, 397, 127): [3413], (0, 397, 129): [3574, 3576], (0, 397, 133): [3666, 3921], (0, 397, 139): [3308, 3654], (0, 397, 140): [3891, 3893], (0, 397, 141): [3312, 3314], (0, 398, 122): [4369], (0, 398, 124): [3736], (0, 398, 125): [4053], (0, 398, 127): [3364], (0, 398, 130): [4299], (0, 398, 131): [3556, 4129], (0, 398, 133): [3936], (0, 398, 137): [3938], (0, 398, 139): [4079], (0, 398, 144): [4045, 4047, 4049, 4051], (0, 400, 121): [3438, 3440, 3804], (0, 400, 122): [3886, 3888, 4032, 4034, 4184, 4226, 4543], (0, 400, 123): [3484, 4462, 4572], (0, 400, 124): [3848, 3850], (0, 400, 126): [3474, 3645, 4521, 4523, 4525], (0, 400, 127): [3727], (0, 400, 129): [4228, 4505], (0, 400, 130): [3414, 3416, 3590, 3592, 3594, 3708, 3710], (0, 400, 131): [4270, 4272, 4396, 4435], (0, 400, 132): [3671, 3673, 3675, 3677], (0, 400, 133): [4010], (0, 400, 134): [3680, 3970, 3972, 4246, 4362, 4364], (0, 400, 135): [3686, 4324], (0, 400, 136): [3548, 3550], (0, 400, 137): [3530, 4274, 4527, 4529, 4531], (0, 400, 139): [3653, 3799], (0, 400, 140): [3948], (0, 400, 141): [3777, 3789, 3934, 4340, 4460], (0, 400, 142): [4075, 4472], (0, 400, 143): [4153, 4155, 4436], (0, 400, 144): [4566], (0, 400, 145): [4315], (0, 400, 146): [4551], (0, 401, 121): [3439, 3441], (0, 401, 123): [4463], (0, 401, 126): [3730], (0, 401, 129): [3575, 3577, 4229, 4506], (0, 401, 134): [4363, 4365], (0, 401, 136): [4189, 4277], (0, 401, 137): [4275], (0, 401, 140): [3949], (0, 401, 142): [3745], (0, 403, 128): [3597], (0, 404, 121): [3779], (0, 404, 123): [3852], (0, 404, 126): [3900, 3902], (0, 406, 126): [3947], (0, 406, 133): [3937], (0, 406, 134): [4447, 4449], (0, 406, 136): [3899], (0, 406, 139): [3923, 3925], (0, 406, 140): [4479, 4481], (0, 406, 141): [4550], (0, 406, 143): [4568], (1, 1, 1): [1], (1, 10, 0): [21], (1, 31, 11): [99], (1, 35, 11): [64], (1, 42, 9): [103], (1, 44, 10): [247], (1, 44, 14): [524], (1, 46, 10): [121], (1, 50, 13): [185], (1, 52, 10): [144], (1, 52, 14): [135], (1, 53, 14): [181], (1, 62, 13): [186], (1, 65, 10): [324], (1, 68, 14): [416], (1, 68, 18): [528, 547], (1, 68, 21): [755], (1, 69, 10): [219], (1, 71, 15): [291], (1, 71, 20): [690, 707], (1, 74, 14): [217, 218], (1, 75, 21): [647, 768], (1, 78, 20): [434, 797], (1, 80, 14): [554], (1, 81, 14): [415], (1, 83, 22): [724], (1, 84, 14): [499, 500], (1, 86, 14): [448], (1, 86, 21): [568], (1, 86, 23): [836], (1, 87, 18): [711], (1, 87, 22): [696], (1, 88, 20): [691], (1, 88, 21): [604, 747], (1, 91, 19): [756], (1, 97, 23): [837], (1, 103, 23): [824], (1, 111, 25): [856], (1, 112, 25): [857], (1, 113, 25): [858], (1, 113, 28): [892], (1, 114, 25): [859], (1, 115, 25): [860], (1, 118, 28): [865], (1, 120, 31): [882], (1, 170, 46): [1064], (1, 170, 48): [1355], (1, 176, 48): [1354], (1, 186, 46): [1241], (1, 186, 48): [1375], (1, 196, 49): [1346], (1, 202, 46): [1240], (1, 204, 48): [1374], (1, 205, 49): [1347], (1, 208, 48): [1353], (1, 212, 51): [1548], (1, 215, 55): [1661], (1, 216, 55): [1662], (1, 220, 51): [1549], (1, 231, 57): [1666], (1, 232, 57): [1665], (1, 238, 55): [1678], (1, 252, 73): [1843], (1, 254, 64): [1718], (1, 255, 62): [1753], (1, 259, 72): [1759], (1, 261, 74): [1891, 1892], (1, 262, 74): [1785, 1786], (1, 270, 74): [1798], (1, 275, 74): [1884], (1, 279, 73): [1941], (1, 279, 78): [1972], (1, 280, 75): [2021], (1, 280, 81): [2122], (1, 283, 75): [1961, 2005], (1, 283, 78): [1979], (1, 283, 86): [2324], (1, 284, 78): [2006], (1, 284, 83): [2093], (1, 284, 88): [2360], (1, 286, 84): [2201], (1, 290, 82): [2173, 2197], (1, 292, 83): [2223], (1, 295, 84): [2515], (1, 295, 86): [2524], (1, 295, 87): [2408], (1, 304, 92): [2547, 2548], (1, 307, 94): [2552], (1, 307, 107): [2638], (1, 307, 108): [2604], (1, 309, 115): [2729], (1, 311, 98): [2556], (1, 315, 118): [2717], (1, 316, 110): [2724], (1, 316, 111): [2706], (1, 317, 104): [2655], (1, 320, 109): [2703], (1, 324, 113): [2601], (1, 327, 101): [2590], (1, 331, 110): [2692], (1, 331, 117): [2693, 2694], (1, 332, 95): [2695], (1, 335, 110): [2611], (1, 335, 119): [2691], (1, 338, 99): [2624], (1, 345, 103): [2639], (1, 346, 97): [2640], (1, 362, 127): [2896, 3053], (1, 362, 130): [4386], (1, 362, 141): [3398], (1, 363, 129): [3177], (1, 364, 123): [2839], (1, 364, 124): [3428], (1, 364, 135): [3426], (1, 365, 123): [2840], (1, 365, 125): [3841], (1, 365, 141): [3399], (1, 368, 140): [3284], (1, 369, 127): [3054], (1, 371, 125): [3339], (1, 371, 127): [2897], (1, 371, 137): [3762], (1, 371, 140): [4147], (1, 372, 124): [3429], (1, 372, 135): [3427], (1, 372, 138): [3524], (1, 373, 126): [4379], (1, 373, 135): [4370], (1, 373, 140): [3682], (1, 373, 142): [3499], (1, 375, 125): [3840], (1, 375, 126): [2917], (1, 375, 129): [3176], (1, 375, 140): [4146], (1, 375, 141): [3926], (1, 376, 126): [2918], (1, 380, 125): [3754], (1, 380, 129): [4293], (1, 380, 130): [3798], (1, 380, 134): [2992, 3811], (1, 380, 136): [3132], (1, 384, 135): [3669], (1, 385, 125): [3753], (1, 385, 129): [3894, 4292], (1, 385, 134): [2991, 3810], (1, 387, 142): [3494], (1, 389, 128): [3697], (1, 389, 130): [4387], (1, 389, 140): [3285], (1, 389, 141): [3927], (1, 389, 142): [3495], (1, 390, 129): [3895], (1, 390, 137): [4012], (1, 391, 136): [3131], (1, 395, 129): [4150], (1, 395, 132): [4380, 4382], (1, 396, 132): [4381, 4383], (1, 396, 135): [3670], (1, 397, 126): [4378], (1, 397, 137): [3436], (1, 397, 140): [3681], (1, 397, 142): [3498], (1, 398, 122): [3604], (1, 398, 125): [3338], (1, 398, 135): [4371], (1, 398, 137): [3761, 4013], (1, 399, 122): [3605], (1, 399, 138): [3525], (1, 400, 125): [3830], (1, 400, 128): [3696], (1, 400, 130): [3797], (1, 400, 132): [4054], (1, 400, 133): [3759], (1, 400, 143): [3990, 4204], (1, 401, 121): [3579], (1, 401, 125): [3831], (1, 401, 133): [3760], (1, 401, 137): [3437], (1, 401, 143): [3991, 4205], (1, 402, 121): [3578], (1, 406, 129): [4151], (2, 2, 1): [3], (2, 3, 1): [4], (2, 4, 1): [6], (2, 5, 1): [7], (2, 5, 4): [25], (2, 6, 1): [8], (2, 10, 2): [27], (2, 12, 4): [24], (2, 13, 0): [26], (2, 13, 4): [28, 29], (2, 17, 19): [812], (2, 17, 20): [776], (2, 21, 5): [43, 44], (2, 21, 6): [45], (2, 25, 9): [51], (2, 25, 12): [88], (2, 25, 13): [127], (2, 27, 10): [53], (2, 27, 14): [123, 172], (2, 28, 10): [82], (2, 28, 12): [76], (2, 30, 11): [79], (2, 31, 10): [74], (2, 31, 11): [77], (2, 31, 12): [67, 68], (2, 32, 10): [83], (2, 33, 10): [62, 113, 115], (2, 34, 10): [182], (2, 35, 11): [69], (2, 36, 11): [66], (2, 37, 10): [72], (2, 38, 10): [125], (2, 38, 14): [170], (2, 39, 10): [161], (2, 39, 12): [87], (2, 39, 14): [122], (2, 40, 10): [126], (2, 40, 12): [95, 108], (2, 40, 13): [130], (2, 40, 14): [141, 155], (2, 41, 11): [98], (2, 42, 10): [194, 206, 216, 343, 344], (2, 42, 13): [228, 287, 294], (2, 42, 16): [300, 301, 342], (2, 43, 13): [160], (2, 44, 10): [114, 116, 192, 302, 314, 336], (2, 44, 12): [208], (2, 44, 13): [245, 256, 258], (2, 44, 14): [132, 229, 230, 248, 323, 384, 460, 481, 555, 556, 566, 567], (2, 44, 15): [298], (2, 44, 16): [312, 320], (2, 44, 17): [322, 394, 395, 396, 403, 404], (2, 44, 18): [446, 522, 669], (2, 44, 19): [442, 508], (2, 44, 20): [454, 455, 561], (2, 44, 21): [694], (2, 45, 10): [190], (2, 45, 12): [117], (2, 47, 10): [124], (2, 48, 14): [129], (2, 49, 10): [220, 231], (2, 49, 12): [209, 227], (2, 49, 13): [131, 268], (2, 49, 16): [282], (2, 51, 13): [162], (2, 51, 15): [169], (2, 53, 12): [136], (2, 54, 10): [159], (2, 54, 14): [138, 139, 157], (2, 55, 14): [140], (2, 56, 13): [147], (2, 58, 10): [156], (2, 59, 12): [158], (2, 60, 10): [168], (2, 62, 10): [373, 392], (2, 62, 12): [226], (2, 62, 13): [285], (2, 62, 14): [259, 356, 426], (2, 62, 19): [461], (2, 62, 21): [752], (2, 63, 10): [189], (2, 64, 14): [249], (2, 64, 17): [346, 347], (2, 65, 10): [193, 310], (2, 65, 12): [198], (2, 66, 20): [732], (2, 68, 13): [235, 236], (2, 68, 14): [234], (2, 68, 16): [288], (2, 68, 19): [829], (2, 69, 10): [221, 263], (2, 69, 13): [246, 280, 281], (2, 71, 10): [204, 205, 296, 311], (2, 71, 14): [355, 357, 430, 431, 447, 494], (2, 71, 15): [299], (2, 71, 18): [530, 671], (2, 71, 19): [640], (2, 71, 21): [608, 692], (2, 71, 22): [708], (2, 72, 14): [211], (2, 74, 13): [273, 274, 275], (2, 74, 16): [374, 380, 408], (2, 75, 14): [476, 597], (2, 75, 19): [456], (2, 75, 21): [549], (2, 75, 23): [842], (2, 77, 13): [264], (2, 78, 19): [539, 825], (2, 78, 21): [540], (2, 80, 14): [375, 535], (2, 81, 19): [450, 815], (2, 81, 21): [544, 777], (2, 82, 14): [626], (2, 82, 16): [413, 414], (2, 82, 18): [602, 603], (2, 82, 21): [614], (2, 82, 22): [733], (2, 82, 23): [807], (2, 83, 14): [529, 552], (2, 83, 20): [459], (2, 83, 21): [701], (2, 83, 22): [700], (2, 83, 23): [841], (2, 84, 14): [623], (2, 84, 16): [417], (2, 84, 18): [495, 705, 714], (2, 84, 19): [505, 849], (2, 84, 20): [492, 506, 507, 609], (2, 84, 21): [592], (2, 85, 16): [422], (2, 85, 18): [502], (2, 86, 20): [731], (2, 87, 18): [653, 805], (2, 87, 19): [582], (2, 87, 20): [764], (2, 87, 21): [802], (2, 88, 14): [615], (2, 88, 21): [697], (2, 89, 14): [616, 622], (2, 89, 18): [636], (2, 89, 21): [649], (2, 89, 22): [698], (2, 91, 22): [721], (2, 92, 18): [662], (2, 92, 19): [748], (2, 92, 21): [809], (2, 92, 23): [840], (2, 93, 23): [850], (2, 94, 23): [843], (2, 95, 19): [848], (2, 96, 19): [772, 834], (2, 98, 18): [783], (2, 99, 19): [806], (2, 100, 23): [808], (2, 104, 23): [827], (2, 107, 24): [851], (2, 107, 31): [899], (2, 108, 24): [852], (2, 109, 25): [853], (2, 110, 26): [854, 855], (2, 110, 29): [868, 869], (2, 110, 30): [893], (2, 110, 31): [880, 900], (2, 111, 27): [861], (2, 113, 29): [885], (2, 114, 25): [866], (2, 116, 27): [862], (2, 117, 27): [863], (2, 117, 33): [903], (2, 119, 25): [867], (2, 120, 30): [871], (2, 122, 31): [888], (2, 123, 31): [886], (2, 124, 31): [887], (2, 126, 32): [895], (2, 127, 32): [896], (2, 128, 30): [897], (2, 129, 30): [898], (2, 129, 31): [909], (2, 129, 36): [939, 982], (2, 129, 44): [1043, 1044], (2, 130, 33): [901], (2, 131, 33): [902], (2, 133, 31): [910], (2, 133, 36): [940], (2, 137, 31): [923, 924], (2, 137, 35): [931, 952, 989, 993], (2, 137, 36): [922, 981], (2, 138, 31): [935, 937], (2, 139, 31): [936, 938], (2, 140, 35): [932], (2, 141, 35): [956], (2, 142, 35): [945], (2, 143, 35): [946], (2, 147, 35): [953, 955, 969, 971, 977, 979, 988, 992, 1006, 1008, 1020], (2, 147, 36): [1016, 1018], (2, 148, 35): [954, 970, 972, 978, 980], (2, 149, 43): [1028], (2, 153, 35): [1007, 1009, 1021], (2, 153, 36): [1017, 1019], (2, 154, 37): [1015], (2, 155, 43): [1045], (2, 157, 37): [1031], (2, 160, 37): [1035], (2, 160, 44): [1036], (2, 163, 37): [1046], (2, 168, 45): [1130], (2, 168, 46): [1171], (2, 168, 47): [1120, 1159, 1218, 1220, 1237, 1246], (2, 168, 48): [1132], (2, 169, 45): [1112], (2, 169, 47): [1083, 1107, 1149], (2, 170, 45): [1077, 1078], (2, 170, 46): [1184, 1276], (2, 170, 47): [1325, 1450], (2, 170, 48): [1152, 1293, 1307], (2, 170, 49): [1357, 1416, 1420], (2, 171, 45): [1100, 1106, 1131], (2, 171, 46): [1088, 1092, 1093], (2, 171, 47): [1065, 1084], (2, 171, 48): [1115], (2, 173, 46): [1183], (2, 173, 47): [1284, 1286, 1317], (2, 173, 48): [1212, 1281, 1283, 1386], (2, 173, 49): [1359, 1361], (2, 174, 45): [1096, 1098], (2, 175, 46): [1076], (2, 176, 46): [1075, 1313], (2, 176, 47): [1285, 1287], (2, 176, 48): [1292, 1306, 1315], (2, 176, 49): [1356, 1419], (2, 177, 45): [1099, 1105], (2, 177, 46): [1091], (2, 177, 47): [1148, 1227, 1229], (2, 177, 48): [1114], (2, 178, 47): [1162, 1164], (2, 179, 46): [1185], (2, 180, 46): [1186], (2, 180, 47): [1219, 1221], (2, 180, 48): [1217], (2, 181, 46): [1087], (2, 181, 47): [1189, 1191, 1193, 1195], (2, 182, 45): [1089], (2, 183, 45): [1090], (2, 184, 46): [1094], (2, 185, 45): [1095, 1097], (2, 185, 48): [1156, 1224], (2, 186, 46): [1277, 1279], (2, 186, 47): [1161, 1163, 1321, 1352, 1410, 1424, 1426], (2, 186, 48): [1367, 1414], (2, 186, 49): [1428], (2, 187, 45): [1109, 1113], (2, 187, 47): [1108, 1160], (2, 188, 46): [1172], (2, 188, 47): [1121, 1123, 1174, 1178, 1187], (2, 188, 48): [1133, 1179], (2, 189, 46): [1278], (2, 189, 47): [1122, 1135, 1137, 1139, 1173, 1247], (2, 189, 48): [1225], (2, 190, 47): [1134, 1136, 1138, 1368, 1370, 1372], (2, 191, 46): [1312], (2, 191, 47): [1316, 1421, 1435], (2, 191, 48): [1155, 1211, 1385, 1437, 1439], (2, 191, 49): [1358, 1360], (2, 193, 47): [1188], (2, 194, 47): [1177], (2, 195, 48): [1180, 1226], (2, 196, 46): [1294, 1296], (2, 196, 47): [1239, 1251], (2, 196, 48): [1257, 1300, 1376, 1378, 1384, 1406], (2, 196, 49): [1398], (2, 197, 47): [1190, 1192, 1194, 1196, 1252, 1269, 1271], (2, 198, 47): [1268, 1270], (2, 198, 48): [1216], (2, 199, 47): [1228, 1230], (2, 199, 48): [1258], (2, 200, 48): [1280, 1282, 1438, 1440], (2, 201, 47): [1238], (2, 202, 47): [1324], (2, 203, 47): [1253], (2, 204, 47): [1320, 1449], (2, 204, 48): [1314, 1405], (2, 204, 49): [1391, 1393, 1427], (2, 205, 46): [1295, 1297], (2, 205, 47): [1422, 1436], (2, 205, 48): [1301, 1377, 1379], (2, 205, 49): [1392, 1394], (2, 206, 47): [1423, 1425], (2, 206, 48): [1366, 1413], (2, 207, 47): [1351, 1369, 1371, 1373, 1409], (2, 207, 49): [1400], (2, 207, 50): [1452], (2, 208, 49): [1415], (2, 209, 49): [1399], (2, 210, 50): [1451], (2, 211, 50): [1453], (2, 212, 51): [1485, 1487, 1506], (2, 212, 53): [1478, 1480, 1482], (2, 212, 54): [1494, 1496], (2, 213, 51): [1473], (2, 213, 52): [1476], (2, 213, 54): [1523], (2, 214, 51): [1499, 1501, 1550, 1552], (2, 214, 52): [1475], (2, 214, 54): [1509], (2, 215, 51): [1596, 1598], (2, 215, 52): [1628], (2, 215, 57): [1645, 1647], (2, 216, 51): [1474, 1597, 1599, 1609, 1637], (2, 216, 54): [1524], (2, 216, 55): [1664], (2, 217, 51): [1505], (2, 217, 53): [1477, 1479, 1481], (2, 217, 54): [1493, 1495], (2, 217, 55): [1568], (2, 218, 54): [1504], (2, 219, 51): [1486, 1488, 1618, 1620, 1654], (2, 219, 55): [1580, 1602], (2, 219, 57): [1644, 1646], (2, 220, 51): [1619, 1621], (2, 220, 52): [1541], (2, 221, 51): [1500, 1502, 1527], (2, 221, 54): [1510, 1639], (2, 221, 55): [1513, 1515], (2, 222, 52): [1629], (2, 222, 54): [1503], (2, 222, 55): [1663], (2, 223, 51): [1528], (2, 223, 55): [1514, 1516], (2, 224, 51): [1551, 1553], (2, 224, 55): [1581, 1603], (2, 224, 57): [1634], (2, 225, 51): [1608], (2, 225, 55): [1561], (2, 225, 56): [1631], (2, 225, 57): [1635], (2, 226, 55): [1537, 1539], (2, 227, 55): [1560], (2, 228, 52): [1540], (2, 228, 55): [1536, 1538, 1576], (2, 229, 51): [1574], (2, 229, 54): [1638], (2, 229, 56): [1630], (2, 230, 51): [1575, 1636, 1668], (2, 230, 55): [1569, 1577], (2, 231, 51): [1656], (2, 232, 51): [1655], (2, 233, 51): [1667], (2, 235, 56): [1671, 1672], (2, 236, 55): [1676, 1677], (2, 236, 58): [1680], (2, 237, 59): [1674, 1675], (2, 239, 60): [1683], (2, 240, 60): [1681, 1682], (2, 241, 60): [1684], (2, 244, 62): [1711, 1741, 1752], (2, 244, 63): [1687, 1703, 1704], (2, 244, 65): [1723], (2, 244, 66): [1714], (2, 244, 67): [1737, 1743], (2, 245, 62): [1688, 1749], (2, 245, 63): [1712], (2, 245, 66): [1709, 1710, 1725], (2, 245, 67): [1735, 1745, 1748], (2, 246, 63): [1691], (2, 247, 62): [1693, 1694, 1697, 1698, 1699], (2, 247, 63): [1701], (2, 248, 62): [1695], (2, 248, 64): [1707], (2, 248, 69): [1731], (2, 249, 62): [1700, 1705, 1713], (2, 249, 64): [1724], (2, 250, 62): [1702], (2, 250, 68): [1720], (2, 252, 62): [1740, 1747], (2, 252, 73): [1770, 1771, 1782, 1813, 1814, 1825, 1854], (2, 254, 63): [1717], (2, 255, 62): [1750, 1751], (2, 256, 70): [1755], (2, 257, 72): [1758], (2, 260, 73): [1763, 1764], (2, 260, 74): [1881, 1882], (2, 260, 75): [1767, 1768], (2, 260, 77): [1875, 1876], (2, 261, 73): [1871], (2, 261, 74): [1765, 1766], (2, 261, 77): [1846, 1877, 1878, 1910, 1912], (2, 262, 73): [1895, 1896], (2, 262, 74): [1769, 1883], (2, 262, 77): [1808, 1861, 1898], (2, 264, 74): [1793, 1794], (2, 265, 73): [1787, 1820, 1823, 1824, 1834, 1835], (2, 265, 74): [1789, 1828, 1839], (2, 265, 75): [1792], (2, 265, 77): [1880], (2, 266, 73): [1819], (2, 266, 74): [1822], (2, 266, 77): [1800], (2, 267, 73): [1781], (2, 267, 74): [1780, 1829], (2, 268, 73): [1849], (2, 268, 74): [1818], (2, 269, 73): [1872, 1873, 1900, 1901], (2, 269, 78): [1855], (2, 270, 74): [1841], (2, 271, 73): [1838, 1844, 1906], (2, 271, 74): [1811, 1812, 1869, 1870], (2, 274, 77): [1874, 1879], (2, 275, 73): [1894], (2, 276, 73): [1922, 1968, 1969, 1977], (2, 276, 77): [1989], (2, 276, 79): [2044], (2, 276, 81): [2092, 2103], (2, 276, 82): [2130, 2150, 2164, 2202], (2, 276, 83): [2264], (2, 276, 84): [2216], (2, 277, 83): [2271], (2, 277, 85): [2211], (2, 277, 86): [2394], (2, 277, 89): [2521], (2, 278, 73): [1931, 1970, 1984], (2, 278, 74): [1947], (2, 278, 75): [2001], (2, 278, 77): [1924], (2, 278, 79): [2062], (2, 278, 80): [2060], (2, 278, 82): [2157, 2163], (2, 278, 83): [2123, 2214, 2225, 2226, 2272, 2276, 2281, 2282], (2, 278, 84): [2168, 2188, 2189, 2242, 2265], (2, 278, 86): [2266], (2, 279, 73): [1925, 1958, 1959, 1960, 1965], (2, 279, 75): [1971, 2023], (2, 279, 77): [1956], (2, 279, 78): [2022], (2, 279, 83): [2177], (2, 279, 84): [2219, 2284, 2293], (2, 279, 85): [2208, 2210], (2, 279, 86): [2249, 2309, 2353], (2, 279, 87): [2420, 2431], (2, 279, 89): [2403, 2417, 2425, 2426, 2427, 2428, 2437, 2454], (2, 280, 73): [1976], (2, 280, 74): [1926], (2, 280, 75): [2003, 2004], (2, 280, 78): [2026], (2, 280, 79): [2043], (2, 280, 82): [2124, 2158], (2, 280, 83): [2171, 2212], (2, 280, 84): [2181, 2386, 2407], (2, 280, 87): [2480], (2, 280, 89): [2416, 2542], (2, 280, 90): [2512], (2, 281, 73): [1957], (2, 281, 75): [2042], (2, 281, 79): [2029, 2030], (2, 281, 82): [2091, 2135, 2175], (2, 281, 83): [2115], (2, 281, 84): [2294], (2, 281, 86): [2273, 2342, 2343], (2, 281, 89): [2456, 2467, 2474, 2475], (2, 283, 80): [2061], (2, 283, 81): [2104], (2, 283, 82): [2162, 2184, 2185], (2, 283, 83): [2142, 2143, 2147], (2, 284, 84): [2183, 2198], (2, 284, 86): [2239, 2240, 2318], (2, 284, 87): [2404], (2, 284, 88): [2504], (2, 284, 89): [2470], (2, 285, 73): [1973, 1975, 1999], (2, 285, 75): [1993, 2017, 2040, 2041], (2, 285, 79): [2066], (2, 285, 81): [2069, 2102], (2, 286, 78): [2014], (2, 286, 79): [2063], (2, 286, 83): [2159, 2221, 2327], (2, 286, 86): [2289, 2290], (2, 286, 87): [2378], (2, 287, 82): [2109], (2, 289, 81): [2101], (2, 290, 82): [2141, 2182], (2, 290, 84): [2165, 2269, 2275, 2326, 2352], (2, 291, 82): [2179, 2200], (2, 291, 83): [2154, 2178, 2220, 2227, 2228], (2, 291, 86): [2238, 2328], (2, 291, 89): [2373, 2430, 2492], (2, 291, 90): [2534], (2, 292, 82): [2169], (2, 292, 83): [2199, 2204, 2213], (2, 292, 84): [2166, 2167, 2255, 2446], (2, 292, 86): [2349], (2, 292, 87): [2419, 2476], (2, 292, 89): [2379, 2380, 2429, 2472, 2490], (2, 293, 83): [2286, 2303, 2304, 2331], (2, 293, 84): [2246, 2247, 2248, 2307], (2, 293, 86): [2250, 2251, 2252], (2, 293, 87): [2350], (2, 293, 89): [2412], (2, 294, 84): [2385], (2, 294, 87): [2499], (2, 295, 84): [2424], (2, 295, 86): [2517], (2, 295, 87): [2494], (2, 295, 89): [2491], (2, 296, 86): [2288], (2, 298, 83): [2332], (2, 298, 84): [2323], (2, 298, 87): [2395, 2466], (2, 298, 89): [2478, 2483, 2484, 2509, 2510, 2522, 2523], (2, 298, 90): [2513, 2514], (2, 299, 84): [2384], (2, 300, 88): [2423], (2, 300, 89): [2421], (2, 301, 87): [2471], (2, 304, 109): [2685], (2, 305, 102): [2681], (2, 307, 95): [2788], (2, 307, 98): [2597], (2, 307, 102): [2804, 2805], (2, 307, 105): [2709, 2710], (2, 307, 109): [2654], (2, 308, 94): [2833], (2, 308, 95): [2553], (2, 308, 98): [2831], (2, 308, 100): [2714, 2723], (2, 308, 101): [2599], (2, 308, 105): [2672], (2, 308, 106): [2607], (2, 308, 108): [2578, 2592], (2, 308, 111): [2608, 2609], (2, 308, 113): [2650, 2824, 2825, 2826], (2, 309, 96): [2554, 2671], (2, 309, 105): [2684], (2, 309, 107): [2683], (2, 309, 109): [2821], (2, 310, 97): [2555], (2, 311, 94): [2583], (2, 313, 105): [2585], (2, 314, 99): [2561], (2, 315, 96): [2562], (2, 315, 99): [2830], (2, 316, 95): [2632, 2812], (2, 316, 100): [2813], (2, 316, 107): [2818], (2, 316, 109): [2834], (2, 316, 111): [2738], (2, 316, 112): [2775], (2, 316, 117): [2817], (2, 317, 95): [2665], (2, 317, 103): [2763], (2, 317, 104): [2566], (2, 317, 108): [2773], (2, 317, 112): [2819], (2, 318, 95): [2568], (2, 319, 118): [2711], (2, 320, 103): [2669], (2, 320, 104): [2686], (2, 320, 109): [2832], (2, 320, 112): [2816], (2, 320, 117): [2740, 2741], (2, 321, 107): [2605], (2, 321, 109): [2579], (2, 322, 94): [2815], (2, 322, 97): [2715], (2, 322, 117): [2680], (2, 324, 94): [2687], (2, 324, 96): [2750], (2, 324, 97): [2673], (2, 324, 107): [2577], (2, 324, 109): [2647, 2798, 2799], (2, 324, 113): [2827], (2, 324, 114): [2810], (2, 324, 117): [2820], (2, 325, 101): [2584, 2787], (2, 327, 104): [2670], (2, 328, 97): [2591], (2, 329, 108): [2594], (2, 330, 99): [2595, 2596], (2, 331, 98): [2828], (2, 331, 103): [2598], (2, 331, 114): [2649], (2, 332, 94): [2829], (2, 332, 100): [2637], (2, 332, 112): [2600], (2, 333, 115): [2606], (2, 334, 100): [2610], (2, 337, 116): [2622], (2, 339, 99): [2667], (2, 340, 117): [2628], (2, 340, 119): [2648], (2, 341, 115): [2822], (2, 341, 118): [2629, 2630], (2, 342, 96): [2634, 2635], (2, 342, 98): [2631, 2642, 2643], (2, 343, 102): [2633], (2, 343, 104): [2802, 2803], (2, 343, 107): [2774], (2, 344, 108): [2636], (2, 345, 101): [2651, 2652], (2, 347, 109): [2814], (2, 347, 110): [2653], (2, 347, 111): [2644], (2, 348, 100): [2682], (2, 350, 99): [2704, 2705], (2, 350, 100): [2789], (2, 350, 104): [2749], (2, 350, 105): [2790], (2, 350, 111): [2739], (2, 353, 101): [2748], (2, 355, 94): [2757], (2, 356, 109): [2823], (2, 359, 98): [2800, 2801], (2, 362, 121): [3099], (2, 362, 122): [2895, 2952], (2, 362, 123): [3166, 3382], (2, 362, 124): [2990, 3031], (2, 362, 126): [2960, 3143], (2, 362, 127): [2867, 3208], (2, 362, 132): [2910], (2, 362, 133): [3068, 3070], (2, 362, 134): [2977], (2, 362, 135): [3059, 3244], (2, 362, 137): [2965, 3192, 3354, 3360], (2, 362, 138): [3304, 3442, 3444], (2, 362, 140): [3200, 3370], (2, 362, 142): [3391], (2, 363, 121): [3149], (2, 363, 125): [3058], (2, 363, 127): [3063, 3065, 3209], (2, 363, 129): [3051], (2, 363, 135): [2899], (2, 363, 137): [2999, 3000, 3090], (2, 363, 138): [3291, 3293], (2, 364, 121): [2842, 2950, 3298], (2, 364, 122): [2845], (2, 364, 123): [2843, 2938], (2, 364, 124): [3194], (2, 364, 125): [2879], (2, 364, 126): [3396, 3844], (2, 364, 127): [2859, 3769], (2, 364, 128): [3238], (2, 364, 129): [3400], (2, 364, 132): [2877], (2, 364, 135): [2956, 3514], (2, 364, 137): [2966], (2, 364, 138): [3084, 3086], (2, 364, 142): [3272, 3274], (2, 365, 121): [3299, 3481], (2, 365, 123): [2939], (2, 365, 124): [3083], (2, 365, 125): [3307], (2, 365, 126): [2858, 3845], (2, 365, 127): [2860, 3545, 3547, 3770], (2, 365, 128): [2935, 3239], (2, 365, 130): [3088, 3561, 3734], (2, 365, 133): [2933], (2, 365, 134): [3126], (2, 365, 135): [3018, 3020], (2, 365, 136): [3079, 3420], (2, 365, 137): [3541], (2, 365, 138): [3085, 3087], (2, 365, 142): [3273, 3275], (2, 366, 121): [2841], (2, 367, 122): [2846], (2, 367, 123): [2844], (2, 367, 131): [2908], (2, 367, 135): [2957], (2, 367, 136): [2907], (2, 368, 130): [3418], (2, 368, 131): [3511], (2, 368, 132): [3490], (2, 368, 133): [3025, 3286, 3512], (2, 368, 134): [3463], (2, 368, 135): [3515], (2, 368, 138): [3282], (2, 369, 121): [2951], (2, 369, 123): [3021, 3145], (2, 369, 124): [3032], (2, 369, 126): [3144, 3158], (2, 369, 127): [2868], (2, 369, 130): [3164], (2, 369, 131): [3029], (2, 369, 134): [2978], (2, 369, 135): [2898, 3017, 3019, 3060, 3245], (2, 370, 122): [3092], (2, 370, 128): [3212], (2, 370, 131): [4491], (2, 370, 132): [4087], (2, 370, 133): [4485], (2, 370, 134): [4089], (2, 370, 135): [4255], (2, 370, 138): [3619, 3621], (2, 370, 139): [3919], (2, 371, 122): [3091, 3219, 3562, 4175, 4279, 4281], (2, 371, 123): [3167], (2, 371, 125): [3566], (2, 371, 126): [3564, 4133], (2, 371, 127): [3064, 3066], (2, 371, 129): [3052, 3163, 4127, 4564], (2, 371, 130): [2901, 2903, 2905], (2, 371, 131): [4060], (2, 371, 132): [4086], (2, 371, 133): [3867, 4484], (2, 371, 134): [3915, 4562], (2, 371, 135): [4254], (2, 371, 137): [3823, 3869], (2, 371, 138): [3618, 3620, 3741], (2, 371, 139): [4487, 4512], (2, 371, 140): [3516, 3518, 4560], (2, 371, 142): [3625], (2, 371, 143): [4019, 4131], (2, 372, 123): [2943], (2, 372, 124): [3195], (2, 372, 125): [2880, 3748], (2, 372, 126): [2857, 3493], (2, 372, 127): [3747], (2, 372, 129): [3401], (2, 372, 130): [2900, 2902, 2904], (2, 372, 132): [3491], (2, 372, 133): [2932, 3513], (2, 372, 134): [3125], (2, 372, 136): [3078], (2, 372, 137): [3193], (2, 373, 123): [3116, 3527, 3529, 3661, 3827, 4327], (2, 373, 124): [3865, 4359], (2, 373, 125): [4212, 4329], (2, 373, 126): [4028], (2, 373, 128): [3048], (2, 373, 129): [3210, 3883], (2, 373, 130): [4502], (2, 373, 131): [3607, 3987], (2, 373, 132): [2927, 3271, 3409, 4306, 4331], (2, 373, 133): [3486, 3488, 4361, 4375], (2, 373, 134): [4136, 4333, 4577], (2, 373, 135): [3652, 3787, 4149, 4179, 4509], (2, 373, 136): [3796], (2, 373, 138): [3637, 3684], (2, 373, 139): [4163], (2, 373, 140): [4421], (2, 373, 141): [3559], (2, 373, 142): [4422], (2, 373, 144): [4095, 4211], (2, 374, 121): [3100], (2, 374, 122): [3483], (2, 374, 123): [4072, 4097, 4556], (2, 374, 124): [4266], (2, 374, 125): [4213], (2, 374, 128): [3539], (2, 374, 129): [3211, 3984], (2, 374, 130): [3297], (2, 374, 131): [3477], (2, 374, 132): [2911, 4125], (2, 374, 135): [3788], (2, 374, 136): [4040], (2, 374, 139): [3751, 3842], (2, 374, 141): [3479, 3943, 3988, 4554], (2, 374, 142): [3455], (2, 374, 143): [4508], (2, 375, 122): [4181, 4183], (2, 375, 123): [2914, 3115, 3526, 3528, 3829, 4326, 4555], (2, 375, 124): [3082, 3864, 4358], (2, 375, 125): [4328, 4465], (2, 375, 126): [4083, 4132, 4467], (2, 375, 128): [2934, 3047, 3410], (2, 375, 129): [4563], (2, 375, 130): [3786, 3824, 3847], (2, 375, 131): [3606, 3986], (2, 375, 132): [3270, 3408, 4305, 4330], (2, 375, 133): [4335, 4360, 4374], (2, 375, 134): [3157, 4332], (2, 375, 135): [4178, 4418, 4546], (2, 375, 136): [3357], (2, 375, 137): [3540, 4376], (2, 375, 138): [3636, 3683, 3740], (2, 375, 139): [4038, 4162], (2, 375, 140): [4253, 4420], (2, 375, 141): [3558], (2, 375, 143): [4130], (2, 375, 144): [4210], (2, 376, 123): [2915], (2, 376, 128): [2916, 3411], (2, 377, 131): [3030], (2, 377, 138): [3305, 3351], (2, 377, 139): [3353], (2, 377, 140): [3201], (2, 378, 123): [3022], (2, 378, 132): [2878], (2, 379, 122): [2886, 2894], (2, 379, 126): [2888], (2, 380, 122): [2887], (2, 380, 123): [4493], (2, 380, 124): [4445], (2, 380, 125): [3122, 3124, 3871, 3873, 3875, 3877], (2, 380, 126): [2889, 3503, 3713, 4157, 4165, 4411], (2, 380, 128): [3656], (2, 380, 129): [2980, 2982, 3743], (2, 380, 130): [3977], (2, 380, 132): [3074, 3501, 3929, 4469], (2, 380, 133): [4161], (2, 380, 134): [3807, 3809, 4385], (2, 380, 135): [3764], (2, 380, 136): [3056], (2, 380, 140): [3629, 3784, 4283], (2, 380, 141): [4249], (2, 380, 142): [4407], (2, 380, 143): [4119, 4199], (2, 380, 144): [4339], (2, 381, 136): [2906], (2, 382, 131): [2909], (2, 383, 123): [2942], (2, 383, 125): [3057], (2, 383, 132): [2928], (2, 383, 134): [2931], (2, 384, 121): [3504], (2, 384, 122): [2953, 4319], (2, 384, 123): [4026], (2, 384, 124): [3496], (2, 384, 125): [3588, 4073, 4464], (2, 384, 129): [3882], (2, 384, 130): [3846, 4159], (2, 384, 131): [3476], (2, 384, 133): [3622], (2, 384, 134): [3156, 4576], (2, 384, 135): [3651, 3857, 4148], (2, 384, 136): [3507, 3509], (2, 384, 137): [4221], (2, 384, 139): [4547], (2, 384, 140): [4442], (2, 384, 141): [3310, 3942, 4223, 4225], (2, 384, 142): [3454], (2, 384, 143): [4317], (2, 384, 144): [4094], (2, 385, 121): [3642], (2, 385, 122): [4278, 4280], (2, 385, 123): [4492], (2, 385, 124): [2989, 4144, 4444], (2, 385, 125): [3121, 3123, 3450, 3870, 3872, 3874, 3876], (2, 385, 126): [4156, 4410], (2, 385, 128): [3655], (2, 385, 129): [2979, 2981, 3742], (2, 385, 130): [3785, 3976, 4501], (2, 385, 131): [4336], (2, 385, 132): [3073, 3500, 3928, 4214, 4394, 4468], (2, 385, 133): [3067, 3069, 4268, 4334], (2, 385, 134): [3806, 3808, 3880], (2, 385, 135): [4172], (2, 385, 136): [3055, 3608, 3648], (2, 385, 137): [3930], (2, 385, 139): [3198], (2, 385, 140): [3628, 3783, 4282, 4412], (2, 385, 141): [3854], (2, 385, 142): [3390, 3932], (2, 385, 143): [4118, 4198], (2, 385, 144): [4338, 4513], (2, 386, 122): [4021], (2, 386, 126): [3502, 3712, 4084], (2, 386, 133): [3715, 4160], (2, 386, 134): [4384], (2, 386, 135): [3763], (2, 386, 137): [3931], (2, 386, 139): [3199, 3717, 3719], (2, 386, 141): [3855], (2, 386, 142): [4406, 4423], (2, 387, 121): [3819], (2, 387, 123): [4027], (2, 387, 126): [4029, 4164], (2, 387, 132): [4215], (2, 387, 134): [4217, 4219], (2, 387, 137): [4377], (2, 387, 139): [3718, 3720, 3918], (2, 387, 140): [4373], (2, 387, 141): [3885], (2, 387, 144): [4077], (2, 387, 145): [4571], (2, 388, 133): [3026], (2, 389, 123): [3383, 4304], (2, 389, 130): [3419], (2, 389, 131): [3425], (2, 389, 132): [4135], (2, 389, 133): [3287, 3716], (2, 389, 135): [3393, 4510], (2, 389, 136): [3421, 3732], (2, 389, 137): [3739], (2, 389, 138): [3283], (2, 389, 139): [3423, 4209], (2, 389, 142): [3975], (2, 389, 144): [4078], (2, 390, 124): [3685], (2, 390, 133): [4269], (2, 390, 135): [3392, 3693, 3695, 4103], (2, 390, 136): [3731], (2, 390, 139): [4511], (2, 390, 142): [3794], (2, 391, 122): [4174, 4456], (2, 391, 123): [3146], (2, 391, 124): [3994, 3996], (2, 391, 125): [3306], (2, 391, 129): [3162], (2, 391, 130): [3165], (2, 391, 131): [4093, 4408, 4409], (2, 391, 132): [4134], (2, 391, 135): [4482], (2, 391, 136): [3795], (2, 391, 138): [3290, 3292], (2, 391, 141): [3466], (2, 391, 142): [3624], (2, 392, 126): [3159], (2, 394, 127): [3544, 3546], (2, 394, 130): [3733, 3825], (2, 395, 122): [3348, 3482, 4098, 4250], (2, 395, 123): [4096], (2, 395, 126): [3832], (2, 395, 129): [4256], (2, 395, 130): [3296], (2, 395, 131): [4337], (2, 395, 132): [4124], (2, 395, 134): [3791], (2, 395, 135): [3856, 4122, 4545], (2, 395, 136): [4197, 4533, 4535], (2, 395, 137): [3868, 3912, 4220], (2, 395, 139): [3534, 4486], (2, 395, 141): [3478, 4222, 4224, 4553], (2, 395, 142): [3940], (2, 396, 122): [3349, 4251], (2, 396, 123): [3662], (2, 396, 124): [3497, 4267], (2, 396, 125): [3589, 4074], (2, 396, 126): [4263], (2, 396, 129): [3985, 4257], (2, 396, 134): [3817, 4137], (2, 396, 135): [4123], (2, 396, 136): [4041, 4534, 4536], (2, 396, 137): [3913], (2, 396, 139): [3752, 3843, 4039], (2, 396, 140): [4101, 4459], (2, 396, 141): [3989], (2, 396, 142): [3941], (2, 397, 121): [3505], (2, 397, 122): [3724, 4020, 4099, 4320, 4424], (2, 397, 123): [3826, 3828, 4071], (2, 397, 124): [3908, 4009], (2, 397, 126): [3397, 3833, 4262, 4466], (2, 397, 128): [3538], (2, 397, 130): [3560], (2, 397, 132): [4395], (2, 397, 133): [3911, 4005, 4109, 4111, 4325], (2, 397, 134): [3766, 3792, 4216, 4218], (2, 397, 135): [4173], (2, 397, 136): [3356], (2, 397, 137): [3355, 3361], (2, 397, 138): [3350, 3698, 3700], (2, 397, 139): [3352, 3535, 4001, 4003, 4548, 4570], (2, 397, 140): [3371, 4036, 4100, 4252, 4321, 4443, 4458], (2, 397, 141): [3311, 3835, 3837], (2, 397, 142): [3933, 4017], (2, 397, 143): [4507], (2, 398, 125): [4558], (2, 398, 126): [3861], (2, 398, 129): [4126], (2, 398, 131): [4490], (2, 398, 133): [3487, 3489], (2, 398, 134): [3914, 4088, 4561], (2, 398, 137): [3738, 3822], (2, 398, 140): [4372, 4559], (2, 398, 141): [3859, 4116], (2, 398, 143): [4018], (2, 398, 144): [4195], (2, 399, 122): [3563], (2, 399, 125): [3567], (2, 399, 126): [3565], (2, 399, 133): [3623], (2, 399, 140): [3517, 3519], (2, 399, 141): [3467], (2, 400, 121): [3480, 3643, 3704], (2, 400, 122): [3723, 4180, 4182], (2, 400, 123): [3978], (2, 400, 124): [4008, 4498], (2, 400, 125): [3451, 4557], (2, 400, 126): [3492, 3860], (2, 400, 127): [3746], (2, 400, 130): [4158], (2, 400, 131): [3424, 3510, 4092], (2, 400, 132): [3878], (2, 400, 133): [3866, 3910, 4004, 4108, 4110], (2, 400, 134): [3462, 3765], (2, 400, 135): [3598, 3600], (2, 400, 136): [3506, 3508, 3609, 4196], (2, 400, 137): [3650], (2, 400, 139): [3422, 4000, 4002, 4208, 4569], (2, 400, 140): [4413], (2, 400, 141): [3834, 3836, 3858, 4248], (2, 400, 142): [3974, 4016, 4057, 4090, 4499], (2, 400, 144): [4194, 4366], (2, 401, 121): [3705], (2, 401, 122): [4425], (2, 401, 123): [3979], (2, 401, 124): [3909, 4145], (2, 401, 132): [3879], (2, 401, 134): [3816, 3881], (2, 401, 135): [3599, 3601, 4419], (2, 401, 136): [3649], (2, 401, 138): [3443, 3445, 3699, 3701], (2, 401, 140): [4037, 4322], (2, 401, 142): [4058, 4091, 4500], (2, 401, 144): [4514], (2, 404, 121): [3818], (2, 404, 131): [4059], (2, 404, 135): [3692, 3694, 4102], (2, 404, 141): [3884], (2, 404, 142): [3793], (2, 406, 122): [4457], (2, 406, 124): [3995, 3997], (2, 406, 135): [4483], (2, 406, 141): [4117], (2, 406, 143): [4318], (2, 406, 144): [4367], (3, 5, 1): [12, 14], (3, 7, 1): [11, 13], (3, 17, 14): [585, 586], (3, 17, 19): [717], (3, 17, 20): [801], (3, 34, 11): [84], (3, 38, 12): [86], (3, 42, 10): [279], (3, 42, 14): [421], (3, 42, 16): [372], (3, 42, 19): [739], (3, 44, 10): [267], (3, 44, 13): [286], (3, 44, 14): [378, 402, 620, 621], (3, 44, 18): [518], (3, 44, 19): [493], (3, 49, 12): [215], (3, 62, 10): [250], (3, 62, 13): [257], (3, 64, 14): [241], (3, 65, 10): [210], (3, 66, 10): [195], (3, 66, 14): [509], (3, 68, 16): [393], (3, 68, 20): [444], (3, 70, 13): [203], (3, 71, 14): [519], (3, 71, 17): [363], (3, 71, 21): [637], (3, 72, 10): [397], (3, 72, 14): [377], (3, 72, 16): [308], (3, 73, 10): [255], (3, 74, 10): [379], (3, 74, 12): [214], (3, 75, 21): [832], (3, 76, 10): [232], (3, 78, 19): [525], (3, 78, 21): [629], (3, 81, 10): [398], (3, 81, 14): [407, 545], (3, 81, 21): [828], (3, 82, 16): [410], (3, 82, 20): [706], (3, 82, 22): [746], (3, 84, 22): [695], (3, 87, 14): [578], (3, 88, 22): [712], (3, 89, 18): [670], (3, 93, 18): [751], (3, 98, 23): [816], (3, 134, 31): [912], (3, 134, 32): [914], (3, 135, 31): [913], (3, 135, 34): [930], (3, 136, 34): [929], (3, 147, 36): [967], (3, 148, 36): [968], (3, 149, 36): [1022], (3, 153, 36): [1023], (3, 155, 42): [1027], (3, 160, 44): [1058], (3, 173, 46): [1328], (3, 176, 46): [1329], (3, 186, 48): [1350], (3, 189, 48): [1273, 1274], (3, 196, 48): [1272, 1348], (3, 203, 48): [1275], (3, 207, 48): [1349], (3, 212, 55): [1525], (3, 214, 52): [1533], (3, 214, 55): [1544], (3, 217, 52): [1532], (3, 219, 55): [1545], (3, 221, 55): [1613], (3, 223, 55): [1526], (3, 229, 55): [1612], (3, 236, 58): [1673], (3, 239, 51): [1679], (3, 242, 61): [1685], (3, 244, 62): [1733], (3, 249, 63): [1696], (3, 252, 62): [1742], (3, 252, 74): [1805], (3, 252, 75): [1795], (3, 261, 74): [1817, 1889], (3, 262, 74): [1911], (3, 264, 73): [1833], (3, 264, 74): [1797, 1867], (3, 264, 75): [1804], (3, 265, 74): [1821], (3, 267, 74): [1897], (3, 267, 77): [1914], (3, 269, 75): [1857, 1858], (3, 271, 73): [1851], (3, 273, 74): [1868], (3, 276, 73): [1939], (3, 276, 83): [2161, 2187], (3, 276, 84): [2196], (3, 277, 81): [2112], (3, 277, 89): [2387], (3, 277, 90): [2520], (3, 279, 73): [1994], (3, 279, 79): [2036], (3, 279, 82): [2106], (3, 279, 83): [2195, 2312], (3, 279, 86): [2285], (3, 279, 87): [2418], (3, 281, 75): [1962], (3, 281, 78): [1985], (3, 281, 81): [2129], (3, 281, 82): [2105], (3, 281, 89): [2479], (3, 283, 73): [1955], (3, 283, 75): [2013], (3, 283, 81): [2121], (3, 283, 83): [2125], (3, 283, 84): [2160, 2406], (3, 284, 79): [2068], (3, 284, 81): [2070], (3, 284, 82): [2107, 2172, 2192], (3, 284, 83): [2145], (3, 284, 84): [2268, 2302], (3, 284, 86): [2270], (3, 284, 89): [2457, 2541], (3, 285, 80): [2083], (3, 286, 88): [2355], (3, 288, 80): [2039], (3, 290, 82): [2156], (3, 290, 84): [2174], (3, 291, 83): [2292], (3, 291, 84): [2230, 2231], (3, 291, 86): [2243], (3, 292, 84): [2314], (3, 292, 89): [2468, 2502], (3, 293, 83): [2300], (3, 293, 87): [2351], (3, 294, 86): [2389, 2390], (3, 294, 91): [2544], (3, 298, 86): [2405], (3, 298, 89): [2508], (3, 299, 87): [2367], (3, 304, 102): [2563, 2620, 2627], (3, 312, 99): [2575], (3, 316, 96): [2656], (3, 317, 99): [2574], (3, 319, 103): [2707], (3, 323, 99): [2576], (3, 327, 108): [2657], (3, 335, 97): [2690], (3, 340, 98): [2674], (3, 360, 124): [2936], (3, 361, 124): [2937], (3, 362, 122): [2884], (3, 362, 126): [3111, 3302], (3, 362, 128): [2993, 3300], (3, 362, 131): [3080], (3, 362, 133): [3378], (3, 362, 136): [3135], (3, 362, 137): [2940, 2958, 3071], (3, 363, 132): [3005], (3, 363, 134): [3174], (3, 363, 137): [3221], (3, 363, 142): [3237], (3, 364, 121): [3457, 3459], (3, 364, 124): [4388], (3, 364, 135): [3616], (3, 364, 140): [3258], (3, 365, 125): [3735], (3, 365, 130): [2976], (3, 365, 135): [3617], (3, 365, 139): [3658], (3, 365, 140): [3259], (3, 367, 137): [2941], (3, 368, 125): [3358], (3, 368, 132): [3160], (3, 368, 133): [3379], (3, 369, 122): [2885], (3, 369, 126): [3112, 3303], (3, 369, 127): [3089], (3, 369, 131): [3081], (3, 369, 133): [3152], (3, 369, 136): [3136], (3, 369, 137): [3072], (3, 370, 122): [3945], (3, 370, 126): [2856, 4295, 4297], (3, 370, 132): [3006], (3, 370, 134): [3175], (3, 370, 139): [3897, 4433], (3, 370, 141): [3587], (3, 370, 145): [4497], (3, 371, 122): [3782], (3, 371, 126): [2855], (3, 371, 130): [3571], (3, 371, 133): [3999], (3, 371, 135): [4167], (3, 371, 136): [3691], (3, 371, 139): [4432], (3, 371, 141): [3953], (3, 372, 124): [4389], (3, 372, 125): [3359], (3, 372, 130): [2975], (3, 372, 139): [3657], (3, 373, 122): [3917], (3, 373, 127): [2869, 3197], (3, 373, 129): [3094], (3, 373, 130): [3337, 3862], (3, 373, 136): [4353], (3, 373, 138): [3330], (3, 373, 139): [3896], (3, 373, 141): [3586], (3, 374, 124): [4471], (3, 374, 127): [2870], (3, 375, 122): [3781, 3916, 3944], (3, 375, 123): [3639], (3, 375, 124): [4470], (3, 375, 129): [2871, 3093], (3, 375, 130): [3336, 3570], (3, 375, 131): [3341], (3, 375, 134): [4015], (3, 375, 136): [4352], (3, 375, 137): [4069], (3, 376, 129): [2872], (3, 376, 133): [2883], (3, 377, 128): [2994], (3, 378, 133): [3153], (3, 380, 123): [3155], (3, 380, 124): [3453], (3, 380, 129): [3646], (3, 380, 131): [3776], (3, 380, 139): [3951, 4043], (3, 380, 140): [3768], (3, 383, 121): [3042], (3, 383, 137): [2959], (3, 384, 127): [3196], (3, 384, 131): [3340], (3, 384, 132): [4244], (3, 385, 121): [3041], (3, 385, 123): [3154], (3, 385, 124): [3452], (3, 385, 132): [3446], (3, 385, 134): [4055], (3, 385, 136): [3394], (3, 385, 138): [3630], (3, 385, 139): [3950, 4042], (3, 385, 140): [3767], (3, 387, 132): [3603], (3, 387, 135): [3248], (3, 389, 129): [4105], (3, 389, 132): [3161, 3447], (3, 389, 135): [3249], (3, 390, 122): [3433, 3435], (3, 390, 134): [3758], (3, 391, 123): [3966], (3, 391, 124): [4300], (3, 393, 137): [3220], (3, 394, 122): [3771, 3773], (3, 394, 131): [3775], (3, 394, 142): [3236], (3, 395, 133): [4450, 4452], (3, 395, 134): [4056], (3, 395, 141): [3952], (3, 395, 144): [4258], (3, 395, 145): [4496], (3, 396, 133): [4451, 4453], (3, 396, 137): [4070], (3, 397, 123): [3638], (3, 397, 124): [3905, 4107], (3, 397, 128): [3301, 3580], (3, 397, 132): [4245, 4503], (3, 397, 133): [3998], (3, 397, 134): [4014], (3, 397, 144): [4259], (3, 398, 122): [3772, 3774], (3, 398, 126): [4294, 4296], (3, 398, 130): [3863], (3, 398, 136): [3690], (3, 398, 138): [3331], (3, 399, 136): [3395], (3, 400, 121): [3456, 3458], (3, 400, 122): [3432, 3434], (3, 400, 124): [3904, 4106], (3, 400, 129): [4104], (3, 400, 132): [3602], (3, 400, 134): [3757], (3, 400, 135): [4166], (3, 400, 138): [3631], (3, 400, 142): [3801], (3, 401, 128): [3581], (3, 405, 140): [3721], (3, 406, 123): [3967], (3, 406, 124): [4301], (3, 406, 132): [4504], (3, 406, 140): [3722], (4, 14, 0): [30, 31], (4, 17, 18): [480], (4, 23, 8): [47, 49], (4, 24, 8): [48, 50], (4, 38, 10): [85], (4, 44, 14): [439], (4, 44, 16): [401], (4, 44, 17): [353], (4, 45, 13): [118], (4, 62, 18): [730], (4, 64, 14): [191], (4, 68, 18): [663, 664, 665, 666], (4, 71, 17): [352], (4, 71, 18): [579], (4, 71, 19): [465, 466, 467, 468, 469], (4, 71, 20): [489, 490, 491], (4, 78, 18): [682, 683, 684, 685, 686], (4, 82, 22): [743], (4, 84, 14): [438, 572], (4, 84, 19): [470, 471, 472, 473, 474, 475, 532], (4, 84, 21): [645], (4, 84, 22): [709, 710], (4, 85, 14): [515], (4, 85, 18): [523], (4, 86, 18): [661], (4, 86, 21): [687, 688], (4, 87, 18): [672, 673, 674, 675, 676, 677, 678, 679, 680, 681], (4, 87, 21): [713], (4, 88, 21): [774], (4, 89, 20): [794], (4, 89, 22): [699], (4, 90, 14): [627, 628], (4, 93, 18): [727], (4, 93, 21): [753], (4, 94, 18): [758, 759, 760, 761, 762], (4, 94, 19): [782], (4, 102, 23): [822], (4, 107, 28): [873, 879], (4, 107, 30): [870, 877, 878], (4, 114, 32): [891], (4, 129, 44): [1049], (4, 137, 35): [921, 934], (4, 137, 41): [1014], (4, 141, 35): [933], (4, 147, 36): [986], (4, 148, 36): [987], (4, 155, 42): [1024], (4, 156, 37): [1025, 1037], (4, 156, 42): [1033], (4, 157, 44): [1050, 1051, 1052, 1053, 1055], (4, 158, 37): [1039], (4, 158, 42): [1032], (4, 160, 43): [1038], (4, 164, 43): [1054], (4, 165, 37): [1059], (4, 168, 48): [1244, 1248], (4, 170, 49): [1343], (4, 188, 47): [1168, 1170], (4, 189, 48): [1245, 1250], (4, 191, 47): [1167, 1169], (4, 196, 48): [1249], (4, 196, 49): [1344], (4, 203, 47): [1381, 1383], (4, 204, 47): [1380, 1382], (4, 204, 49): [1342], (4, 204, 50): [1467], (4, 206, 50): [1468], (4, 207, 49): [1345], (4, 215, 54): [1583], (4, 215, 56): [1649], (4, 216, 54): [1579], (4, 219, 56): [1648], (4, 225, 51): [1529], (4, 228, 54): [1578, 1582], (4, 229, 56): [1670], (4, 234, 56): [1669], (4, 252, 73): [1761, 1762], (4, 264, 76): [1773], (4, 269, 73): [1907], (4, 274, 77): [1915], (4, 276, 82): [2126, 2127], (4, 276, 84): [2215], (4, 277, 86): [2280, 2361, 2362], (4, 278, 73): [1937, 1980], (4, 278, 79): [2038], (4, 278, 84): [2298, 2299], (4, 279, 73): [1981], (4, 279, 77): [1932, 1933, 1934, 1935, 1936], (4, 279, 83): [2099, 2100], (4, 279, 89): [2440], (4, 280, 89): [2414], (4, 281, 73): [1938, 1992], (4, 281, 74): [1948], (4, 281, 77): [1950, 1951], (4, 281, 82): [2114, 2119, 2138], (4, 281, 83): [2267], (4, 281, 86): [2279], (4, 283, 77): [1952, 1953], (4, 283, 79): [2067], (4, 284, 77): [1949], (4, 284, 81): [2144], (4, 286, 75): [2050, 2051, 2052, 2053], (4, 286, 83): [2253, 2319], (4, 286, 86): [2254], (4, 286, 89): [2374, 2375], (4, 290, 84): [2325], (4, 290, 88): [2348], (4, 291, 86): [2244, 2245], (4, 291, 88): [2399, 2400], (4, 293, 86): [2346, 2347], (4, 293, 89): [2409], (4, 298, 84): [2442], (4, 298, 89): [2486, 2488], (4, 299, 89): [2396, 2397, 2398], (4, 301, 87): [2495], (4, 307, 116): [2662, 2663, 2664], (4, 339, 111): [2716], (4, 349, 100): [2701, 2702], (4, 362, 139): [3376], (4, 364, 127): [3043], (4, 368, 124): [3327], (4, 368, 128): [3061], (4, 370, 129): [4489], (4, 372, 127): [3044], (4, 377, 138): [3363], (4, 377, 139): [3377], (4, 384, 122): [3319], (4, 384, 127): [3323], (4, 384, 129): [3277], (4, 384, 133): [3461], (4, 384, 137): [3321], (4, 384, 140): [3267], (4, 385, 126): [2985], (4, 385, 132): [3334], (4, 385, 138): [3332], (4, 386, 126): [2986], (4, 386, 132): [3335], (4, 386, 138): [3333], (4, 387, 128): [3062], (4, 389, 123): [4085], (4, 389, 136): [3130], (4, 390, 124): [3326], (4, 390, 136): [3129], (4, 395, 122): [3318], (4, 395, 127): [3322], (4, 395, 129): [3276, 4488], (4, 395, 133): [3460], (4, 395, 134): [3725], (4, 395, 137): [3320], (4, 395, 140): [3266], (4, 397, 134): [3726], (4, 397, 136): [3543], (4, 397, 138): [3362], (4, 398, 135): [4342, 4343, 4344, 4345, 4346, 4347, 4348, 4349, 4350, 4351], (4, 400, 136): [3542]}\n"
     ]
    },
    {
     "name": "stderr",
     "output_type": "stream",
     "text": [
      "C:\\Users\\Kalea\\AppData\\Local\\Temp\\ipykernel_3080\\1615946564.py:2: DeprecationWarning: DataFrameGroupBy.apply operated on the grouping columns. This behavior is deprecated, and in a future version of pandas the grouping columns will be excluded from the operation. Either pass `include_groups=False` to exclude the groupings or explicitly select the grouping columns after groupby to silence this warning.\n",
      "  unique_groups = df.groupby([\"klasifikasi_perkara_encoded\", \"penuntut_umum_encoded\", \"hakim_encoded\"]).apply(lambda x: x.index.tolist()).to_dict()\n"
     ]
    }
   ],
   "source": [
    "train_df, test_df = stratified_split(df_filtered)"
   ]
  },
  {
   "cell_type": "code",
   "execution_count": 8,
   "metadata": {},
   "outputs": [
    {
     "name": "stdout",
     "output_type": "stream",
     "text": [
      "Jumlah Klasifikasi Perkara: 5\n",
      "Jumlah Data Train:  3297\n",
      "klasifikasi_perkara_encoded\n",
      "0    1348\n",
      "2    1280\n",
      "3     300\n",
      "4     188\n",
      "1     181\n",
      "Name: count, dtype: int64\n"
     ]
    }
   ],
   "source": [
    "jenis_klasifikasi_perkara = train_df['klasifikasi_perkara_encoded'].unique()\n",
    "jumlah_klasifikasi_perkara = len(jenis_klasifikasi_perkara)\n",
    "print(f\"Jumlah Klasifikasi Perkara: {jumlah_klasifikasi_perkara}\")\n",
    "print(f\"Jumlah Data Train:  {len(train_df)}\")\n",
    "\n",
    "klasifikasi_perkara_values = train_df['klasifikasi_perkara_encoded'].value_counts()\n",
    "print(klasifikasi_perkara_values)"
   ]
  },
  {
   "cell_type": "code",
   "execution_count": 9,
   "metadata": {},
   "outputs": [
    {
     "name": "stdout",
     "output_type": "stream",
     "text": [
      "Jumlah Klasifikasi Perkara: 5\n",
      "Jumlah Data Test:  1285\n",
      "klasifikasi_perkara_encoded\n",
      "0    631\n",
      "2    522\n",
      "4     62\n",
      "3     48\n",
      "1     22\n",
      "Name: count, dtype: int64\n"
     ]
    }
   ],
   "source": [
    "jenis_klasifikasi_perkara = test_df['klasifikasi_perkara_encoded'].unique()\n",
    "jumlah_klasifikasi_perkara = len(jenis_klasifikasi_perkara)\n",
    "print(f\"Jumlah Klasifikasi Perkara: {jumlah_klasifikasi_perkara}\")\n",
    "print(f\"Jumlah Data Test:  {len(test_df)}\")\n",
    "\n",
    "klasifikasi_perkara_values = test_df['klasifikasi_perkara_encoded'].value_counts()\n",
    "print(klasifikasi_perkara_values)"
   ]
  },
  {
   "cell_type": "code",
   "execution_count": 10,
   "metadata": {},
   "outputs": [
    {
     "data": {
      "application/vnd.microsoft.datawrangler.viewer.v0+json": {
       "columns": [
        {
         "name": "index",
         "rawType": "int64",
         "type": "integer"
        },
        {
         "name": "klasifikasi_perkara_encoded",
         "rawType": "int64",
         "type": "integer"
        },
        {
         "name": "penuntut_umum_encoded",
         "rawType": "int64",
         "type": "integer"
        },
        {
         "name": "hakim_encoded",
         "rawType": "int64",
         "type": "integer"
        },
        {
         "name": "jumlah_saksi",
         "rawType": "int64",
         "type": "integer"
        },
        {
         "name": "cleaned_barang_bukti",
         "rawType": "object",
         "type": "string"
        },
        {
         "name": "summarized_dakwaan",
         "rawType": "object",
         "type": "string"
        },
        {
         "name": "terdakwa",
         "rawType": "object",
         "type": "string"
        },
        {
         "name": "total_pidana_penjara_bulan",
         "rawType": "float64",
         "type": "float"
        }
       ],
       "conversionMethod": "pd.DataFrame",
       "ref": "49404c00-8849-4b79-a5e3-03c12ae3781f",
       "rows": [
        [
         "0",
         "0",
         "0",
         "0",
         "6",
         "1 buah sabit kecil dengan gagang dari kayu 1 buah jaring plastik paranet warna hitam 1 utas tali plastik warna biru dengan panjang 7,5 meter 20 buah kantong plastik kresek 2 utas tali kain warna merah dengan panjang 80 cm Dimusnahkan 1 unit mobil merek Suzuki ST 150 Pick Up warna hitam DK 8985 KC, NOKA MHYESL415JJ723753, NOSIN G15AID1125449 beserta kunci kontak 1 lembar STNK mobil merek Suzuki ST 150 Pick Up warna hitam DK 8985 KC, NOKA MHYESL415JJ723753, NOSIN G15AID1125449 nama pemilik a.n. I Kadek Kondrayasa Dikembalikan kepada I Gede Agus Wirayuda 4 buah durian jenis durian kane Dikembalikan kepada I Wayan Sukarene, S.E. 1 lembar nota pembelian buah durian Toko Tiara Durian Dikembalikan kepada Komang Ayu Anggreni 15 buah durian jenis durian kane 1 lembar nota pembelian buah durian Toko Semut Durian Dikembalikan kepada Komang Sujana Uang tunai sebesar Rp487.000,00 (empat ratus delapan puluh tujuh ribu rupiah) Dirampas untuk negara  6. Membebankan kepada Terdakwa membayar biaya perkara sejumlah Rp5.000,00 (lima ribu rupiah)",
         "Terdakwa Gede Darmayasa didakwa telah melakukan tindak pidana pencurian buah durian di tiga lokasi berbeda di wilayah Kintamani, Kabupaten Bangli, pada bulan Mei 2024. Pada hari Selasa, 21 Mei 2024, sekitar pukul 06.00 hingga 06.30 WITA, terdakwa mencuri sebanyak 37 buah durian dari kebun milik I Wayan Sukerena, SE dan 27 buah durian dari kebun milik I Nyoman Susila. Durian-durian tersebut kemudian dijual sebagian kepada saksi Komang Ayu Anggreni dengan harga Rp4.316.000 dan sisanya dibawa pulang. Selanjutnya, pada hari Kamis, 23 Mei 2024, terdakwa menjual lagi 40 buah durian kepada Komang Sujana, di mana 24 di antaranya merupakan hasil pencurian. Kemudian pada hari Sabtu, 25 Mei 2024, sekitar pukul 06.00 WITA, terdakwa kembali melakukan pencurian sebanyak 20 buah durian dari kebun milik I Ketut Tindih dan menjual 15 buah di antaranya seharga Rp1.485.000. Total durian yang dicuri terdakwa berjumlah 67 buah tanpa seizin pemiliknya, dengan maksud untuk dimiliki secara melawan hukum dan hasil penjualannya digunakan untuk kebutuhan sehari-hari. Akibat perbuatan terdakwa, I Wayan Sukerena mengalami kerugian sebesar Rp3.330.000, I Ketut Tindih sebesar Rp3.500.000, dan I Nyoman Susila sebesar Rp2.000.000. Perbuatan terdakwa diancam pidana berdasarkan Pasal 362 KUHP jo. Pasal 65 Ayat (1) KUHP.",
         "GEDE DARMAYASA",
         "5.0"
        ],
        [
         "1",
         "1",
         "1",
         "1",
         "4",
         "1 lembar nota pembelian perhiasan kalung emas tanggal 31 Desember 2021 di Toko Sukerti Gianyar 1 buah kotak handphone merek Samsung Galaxy A04e warna hitam 1 lembar nota pembelian handphone merek Samsung Galaxy A04e tanggal 28 Januari 2024 di Julia Phone Cell Gianyar dikembalikan kepada Ni Wayan Anik Antari 1 lembar surat bukti gadai dari Pegadaian Bangli tanggal 21 Februari 2024 atas nama Ida Bagus Made Darma Wiguna barang jaminan satu kalung model dubai ditaksir perhiasan emas 21 karat dengan berat 24,55 gram 1 lembar nota transaksi penerimaan uang-kredit baru dari Pegadaian Bangli tanggal 21 Februari 2024 barang jaminan satu kalung model dubai ditaksir perhiasan emas 21 karat dengan berat 24,55 gram 1 lembar nota transaksi tunai pelunasan gadai dari Pegadaian Bangli tanggal 21 Februari 2024 dari Pegadaian Bangli barang jaminan satu kalung model dubai ditaksir perhiasan emas 21 karat dengan berat 24,55 gram dikembalikan kepada Terdakwa 1 buah perhiasan emas berupa kalung, dengan berat 22,8 gram dikembalikan kepada Pegadaian Kabupaten Bangli  6. Membebankan kepada Terdakwa membayar biaya perkara sejumlah Rp5.000,00 (lima ribu rupiah)",
         "Pada bulan Februari dan Maret 2024, terdakwa Ida Bagus Made Darma Wiguna alias Gus Manik didakwa melakukan tindak pidana penggelapan secara berlanjut terhadap saksi korban Ni Wayan Anik Artini. Berawal dari perkenalan melalui media sosial TikTok pada Desember 2023, terdakwa dan korban menjalin hubungan hingga pada 13 Februari 2024 korban menyerahkan perhiasan kalung emas 21 karat seberat 24,55 gram untuk disimpan di rumah terdakwa. Pada 17 Februari 2024, terdakwa meminjam kalung tersebut untuk digadaikan dengan janji akan menebusnya dalam dua hari. Kalung itu kemudian digadaikan di Kantor Pegadaian Bangli seharga Rp 8.000.000. Namun, tanpa seizin korban, pada 21 Februari 2024 terdakwa kembali ke Pegadaian dan menambah nilai gadai menjadi Rp 19.600.000, menerima pencairan tambahan sebesar Rp 11.397.000, yang seluruhnya digunakan untuk keperluan pribadi. Kemudian, pada 10 Maret 2024, terdakwa meminjam ponsel Samsung Galaxy A04E milik korban dengan alasan untuk komunikasi, namun ponsel tersebut dijual seharga Rp 600.000 dan hasilnya juga dipakai untuk kebutuhan sehari-hari. Meskipun korban telah beberapa kali meminta barang-barangnya dikembalikan, terdakwa selalu mengelak dengan berbagai alasan. Akibat perbuatan terdakwa, korban mengalami kerugian sebesar Rp 26.000.000. Perbuatan Terdakwa didakwa dengan dakwaan primair Pasal 372 jo. 64 Ayat (1) KUHP, dan dakwaan subsidair Pasal 378 jo. 64 Ayat (1) KUHP.",
         "IDA BAGUS MADE DARMA WIGUNA",
         "24.0"
        ],
        [
         "2",
         "0",
         "0",
         "2",
         "6",
         "1 buah Kotak/Box handphone merk OPPO type A53 warna Hitam, dengan nomor IMEI1/2 867919057365515/867919057365507 1 lembar nota pembelian 1 unit handphone merk OPPO type A53 warna hitam, dengan nomor IMEI1/2 867919057365515/867919057365507 dari Anyelir Ponsel pada tanggal 3 April 2020 senilai Rp3.999.000,00 (tiga juta sembilan ratus sembilan puluh sembilan ribu rupiah). 1 unit handphone merk OPPO type A53 warna hitam, dengan nomor IMEI1/2 867919057365515/867919057365507 Dikembalikan kepada I Nengah Sukadana  6. Membebankan kepada Terdakwa membayar biaya perkara sejumlah Rp5.000,00 (lima ribu rupiah)",
         "Terdakwa Handri Johanes pada Rabu, 24 April 2024 sekitar pukul 03.00 WITA di sebuah kamar di Puri Kanginan, Lingkungan Banjar Puri Kanginan No. 2 Bangli, telah melakukan pencurian satu unit handphone OPPO A53 warna hitam milik I Nengah Sukadana. Kejadian bermula ketika terdakwa yang sebelumnya pernah bekerja di mebel milik Gung Aji Kartika dan terbiasa keluar masuk area puri, datang mencari temannya yang dahulu tinggal di sana. Setelah tidak menemukan temannya dan hendak pulang, terdakwa melihat sebuah handphone sedang diisi daya dalam kamar yang pintunya sedikit terbuka. Ia kemudian mengambil handphone tersebut dengan memasukkan tangan melalui celah pintu. Setelah sampai di bengkel tempat tinggalnya, terdakwa mengetahui bahwa handphone tersebut terkunci, lalu beberapa hari kemudian menjualnya kepada seseorang bernama Denny Firmansyah di Klungkung seharga Rp300.000. Uang hasil penjualan itu kemudian ia kirim ke anaknya di Lombok. Akibat perbuatan tersebut, saksi I Nengah Sukadana mengalami kerugian sebesar Rp3.999.000. Perbuatan terdakwa diancam pidana berdasarkan Pasal 363 Ayat (1) ke-3 KUHP.",
         "HANDRI JOHANAS",
         "4.0"
        ],
        [
         "3",
         "2",
         "2",
         "1",
         "2",
         "1 buah plastik klip bening yang berisi kristal bening yang diduga NarkotikaGolongan I bukan tanaman jenis shabu dengan berat 0,26 (nol koma dua enam) gram bruto atau 0,20 (nol koma dua puluh) gram netto selanjutnya disisihkan seberat 0,02 (nol koma nol dua) gram netto untuk uji labforensik sehingga sisa barang bukti 0,18 (nol koma delapan belas) gram netto 1 buah micro tube 1 buah handphone merk REDMI type 10 C warna Hitam berikut dengan 1 buah simcard 1 buah Tas selempang merk ALOIPFAX warna hitam Dimusnahkan 1 unit sepeda motor merk Yamaha Type Jupiter MX warna Hitam DK-6181-LF berikut kunci kontak Dikembalikan kepada yang berhak melalui Terdakwa 6. Membebankan kepada Terdakwa membayar biaya perkara sejumlah Rp5.000,00 (lima ribu rupiah)",
         "Pada hari Minggu, 14 April 2024 sekitar pukul 16.35 WITA, terdakwa I Gede Ariadi alias Bernad ditangkap di Jl. Brigjen Ngurah Rai, Kelurahan Kawan, Bangli oleh tim Opsnal Satresnarkoba Polres Bangli karena kedapatan membawa narkotika jenis sabu. Kronologi bermula pada 9 April 2024 saat terdakwa berkenalan dengan seseorang bernama Kadek (DPO) melalui Facebook, lalu berkomunikasi intens melalui WhatsApp dan sepakat untuk menggunakan sabu bersama. Pada 14 April 2024 pagi, terdakwa diberi tahu oleh Mang Donal (DPO) bahwa sabu sudah tersedia dan ditempel di bawah tiang listrik di daerah Bendul, Klungkung. Terdakwa mengambil sabu yang dibungkus dalam tabung micro tube dan menyimpannya di tas selempang. Sore harinya, terdakwa berangkat menuju Bangli sesuai petunjuk lokasi dari Kadek. Setibanya di lokasi, terdakwa diamankan polisi dan saat digeledah ditemukan satu plastik klip berisi kristal sabu seberat 0,20 gram netto beserta barang bukti lainnya seperti handphone dan sepeda motor. Berdasarkan hasil uji laboratorium, kristal tersebut positif mengandung Metamfetamina yang tergolong Narkotika Golongan I. Terdakwa tidak memiliki izin dari Menteri Kesehatan atau instansi terkait untuk memiliki narkotika tersebut. Perbuatan Terdakwa didakwa dengan dakwaan primair Pasal 112 Ayat (1) UU RI No. 35 Tahun 2009 tentang Narkotika, dan dakwaan subsidair Pasal 127 Ayat (1) huruf a Undang-Undang RI No. 35 Tahun 2009 Tentang Narkotika.",
         "I GEDE ARIADI alias BERNAD",
         "14.0"
        ],
        [
         "4",
         "2",
         "3",
         "1",
         "2",
         "1 buah plastik klip bening yang berisi kristal bening yang diduga NarkotikaGolongan I bukan tanaman jenis shabu dengan berat 0,26 (nol koma dua enam) gram bruto atau 0,20 (nol koma dua puluh) gram netto selanjutnya disisihkan seberat 0,02 (nol koma nol dua) gram netto untuk uji labforensik sehingga sisa barang bukti 0,18 (nol koma delapan belas) gram netto 1 buah micro tube 1 buah handphone merk REDMI type 10 C warna Hitam berikut dengan 1 buah simcard 1 buah Tas selempang merk ALOIPFAX warna hitam Dimusnahkan 1 unit sepeda motor merk Yamaha Type Jupiter MX warna Hitam DK-6181-LF berikut kunci kontak Dikembalikan kepada yang berhak melalui Terdakwa 6. Membebankan kepada Terdakwa membayar biaya perkara sejumlah Rp5.000,00 (lima ribu rupiah)",
         "Pada hari Minggu, 14 April 2024 sekitar pukul 16.35 WITA, terdakwa I Gede Ariadi alias Bernad ditangkap di Jl. Brigjen Ngurah Rai, Kelurahan Kawan, Bangli oleh tim Opsnal Satresnarkoba Polres Bangli karena kedapatan membawa narkotika jenis sabu. Kronologi bermula pada 9 April 2024 saat terdakwa berkenalan dengan seseorang bernama Kadek (DPO) melalui Facebook, lalu berkomunikasi intens melalui WhatsApp dan sepakat untuk menggunakan sabu bersama. Pada 14 April 2024 pagi, terdakwa diberi tahu oleh Mang Donal (DPO) bahwa sabu sudah tersedia dan ditempel di bawah tiang listrik di daerah Bendul, Klungkung. Terdakwa mengambil sabu yang dibungkus dalam tabung micro tube dan menyimpannya di tas selempang. Sore harinya, terdakwa berangkat menuju Bangli sesuai petunjuk lokasi dari Kadek. Setibanya di lokasi, terdakwa diamankan polisi dan saat digeledah ditemukan satu plastik klip berisi kristal sabu seberat 0,20 gram netto beserta barang bukti lainnya seperti handphone dan sepeda motor. Berdasarkan hasil uji laboratorium, kristal tersebut positif mengandung Metamfetamina yang tergolong Narkotika Golongan I. Terdakwa tidak memiliki izin dari Menteri Kesehatan atau instansi terkait untuk memiliki narkotika tersebut. Perbuatan Terdakwa didakwa dengan dakwaan primair Pasal 112 Ayat (1) UU RI No. 35 Tahun 2009 tentang Narkotika, dan dakwaan subsidair Pasal 127 Ayat (1) huruf a Undang-Undang RI No. 35 Tahun 2009 Tentang Narkotika.",
         "I GEDE ARIADI alias BERNAD",
         "14.0"
        ],
        [
         "5",
         "0",
         "4",
         "1",
         "4",
         "1 unit sepeda motor merk Honda Scoopy warna merah hitam DK 6384 PQ, NOKA MH1JM311XHK071492, NOSIN JM31E-1076227 beserta kunci kontak 1 lembar STNK sepeda motor merk Honda Scoopy warna merah hitam DK 6384 PQ, NOKA MH1JM311XHK071492, NOSIN JM31E-1076227 nama pemilik an. NI WAYAN SRIMERTANADI Dikembalikan kepada korban Ni Wayan Srimertanadi 1 buah helm merk Maxi Yamaha warna hitam 1 buah jaket jeans warna biru langit  Dirampas untuk dimusnahkan 6. Membebankan kepada Terdakwa membayar biaya perkara sejumlah Rp. 5.000,00 (lima ribu rupiah)",
         "Pada hari Selasa, 26 Maret 2024 sekitar pukul 17.10 WITA, bertempat di pinggir Jalan Raya Kintamani, Desa Kintamani, Kecamatan Kintamani, Kabupaten Bangli, Terdakwa melakukan pencurian dengan mengambil satu unit sepeda motor Honda Scoopy warna merah hitam DK 6384 PQ, yang sebagian atau seluruhnya milik orang lain, dengan maksud untuk dimiliki secara melawan hukum. Sebelumnya, pada 25 Maret 2024 pukul 13.00 WITA, Terdakwa berangkat dari Panarukan, Singaraja menuju Terminal Ubung Denpasar dengan menumpang truk, dengan tujuan mencuri sepeda motor. Tiba di Terminal Ubung sekitar pukul 14.30 WITA, Terdakwa menginap semalam karena hujan deras. Esok harinya, Terdakwa dijemput oleh temannya, WAHYU EKA JAYA (DPO), yang datang mengendarai sepeda motor Yamaha Vixion warna hitam. Mereka lalu pergi ke Kintamani untuk jalan-jalan. Sekitar pukul 17.10 WITA, mereka melihat sebuah motor Honda Scoopy terparkir di pinggir jalan dengan kunci masih tergantung. Setelah WAHYU EKA JAYA pergi meninggalkannya, Terdakwa mendekati motor tersebut, lalu mendorongnya sejauh sekitar 10 meter sebelum akhirnya menyalakan mesin dan melarikan diri menuju Denpasar melalui Payangan, Gianyar. Di daerah Ubud, Terdakwa dihentikan oleh seorang petugas Polsek Kintamani bernama I Gede Dipta Wirama Darma dan tidak dapat menunjukkan STNK kendaraan. Terdakwa kemudian diamankan beserta barang bukti ke Polsek Kintamani. Akibat perbuatan tersebut, korban, Ni Wayan Srimertanadi, mengalami kerugian sekitar Rp20.000.000\\. Perbuatan Terdakwa diatur dan diancam pidana dalam Pasal 362 KUHP.",
         "R. Sabirin",
         "14.0"
        ],
        [
         "6",
         "2",
         "4",
         "1",
         "4",
         "1 plastik klip bening yang berisi shabu seberat 0,17 (nol koma tujuh belas) gram netto 1 buah plastik klip kosong 2 potong pipet plastik warna bening 2 buah pipa kaca 2 potong pipet plastik warna putih 1 buah bekas botol merk Yakult 1 buah tutup botol bekas yang dimodifikasi 1 buah plastik warna hitam putih 1 buah Tas Gendong merk Exsport warna merah maroon 1 buah handphone merk Iphone 6S warna Gold berikut dengan 1 buah simcard Dimusnahkan 1 unit sepeda motor merk Honda PCX warna biru dengan No. Pol DK 2905 ADZ berikut kunci kontak 1 lembar STNK sepeda motor merk Honda PCX warna biru dengan No. Pol DK 2905 ADZ a.n pemilik Anita Dewi Rahmawati, S.I. KOM Dikembalikan kepada Anita Dewi Rahmawati  6. Membebankan kepada Terdakwa membayar biaya perkara sejumlah Rp5.000,00 (lima ribu rupiah)",
         "Pada Minggu, 17 Maret 2024 sekitar pukul 18.10 WITA, terdakwa Novani Ari Hifni alias Ari ditangkap di pinggir Jalan Merdeka, Tamanbali, Bangli oleh petugas Satresnarkoba Polres Bangli karena kedapatan membawa narkotika jenis sabu. Sebelumnya, terdakwa menghubungi rekannya bernama Wewe (DPO) melalui Facebook untuk mencari sabu, kemudian diarahkan untuk menghubungi Rizal (DPO). Rizal menyanggupi permintaan terdakwa dengan sistem hutang dan mengirimkan lokasi pengambilan barang di Bangli. Terdakwa lalu mengajak temannya, saksi K. M. Sahrijal Jabar, untuk mengantarkan ke lokasi dengan imbalan uang. Setelah mengambil sabu yang disembunyikan di dekat tembok dengan berpura-pura buang air kecil, terdakwa melanjutkan perjalanan, namun akhirnya dihentikan dan diamankan oleh petugas. Saat digeledah, ditemukan satu plastik berisi sabu dalam botol Yakult serta peralatan hisap lainnya di dalam tas terdakwa, sementara pada saksi Sahrijal tidak ditemukan barang terlarang. Hasil pemeriksaan laboratorium terhadap kristal bening dan urine terdakwa menunjukkan keduanya positif mengandung metamfetamina, yang tergolong Narkotika Golongan I. Perbuatan Terdakwa didakwa dengan dakwaan primair Pasal 112 Ayat (1) Undang-Undang RI No. 35 Tahun 2009 tentang Narkotika, dan dakwaan subsidair Pasal 127 Ayat (1) huruf a Undang-Undang RI No. 35 Tahun 2009 tentang Narkotika.",
         "NOVANI ARI HIFNI Alias ARI",
         "24.0"
        ],
        [
         "7",
         "2",
         "5",
         "1",
         "4",
         "1 plastik klip bening yang berisi shabu seberat 0,17 (nol koma tujuh belas) gram netto 1 buah plastik klip kosong 2 potong pipet plastik warna bening 2 buah pipa kaca 2 potong pipet plastik warna putih 1 buah bekas botol merk Yakult 1 buah tutup botol bekas yang dimodifikasi 1 buah plastik warna hitam putih 1 buah Tas Gendong merk Exsport warna merah maroon 1 buah handphone merk Iphone 6S warna Gold berikut dengan 1 buah simcard Dimusnahkan 1 unit sepeda motor merk Honda PCX warna biru dengan No. Pol DK 2905 ADZ berikut kunci kontak 1 lembar STNK sepeda motor merk Honda PCX warna biru dengan No. Pol DK 2905 ADZ a.n pemilik Anita Dewi Rahmawati, S.I. KOM Dikembalikan kepada Anita Dewi Rahmawati  6. Membebankan kepada Terdakwa membayar biaya perkara sejumlah Rp5.000,00 (lima ribu rupiah)",
         "Pada Minggu, 17 Maret 2024 sekitar pukul 18.10 WITA, terdakwa Novani Ari Hifni alias Ari ditangkap di pinggir Jalan Merdeka, Tamanbali, Bangli oleh petugas Satresnarkoba Polres Bangli karena kedapatan membawa narkotika jenis sabu. Sebelumnya, terdakwa menghubungi rekannya bernama Wewe (DPO) melalui Facebook untuk mencari sabu, kemudian diarahkan untuk menghubungi Rizal (DPO). Rizal menyanggupi permintaan terdakwa dengan sistem hutang dan mengirimkan lokasi pengambilan barang di Bangli. Terdakwa lalu mengajak temannya, saksi K. M. Sahrijal Jabar, untuk mengantarkan ke lokasi dengan imbalan uang. Setelah mengambil sabu yang disembunyikan di dekat tembok dengan berpura-pura buang air kecil, terdakwa melanjutkan perjalanan, namun akhirnya dihentikan dan diamankan oleh petugas. Saat digeledah, ditemukan satu plastik berisi sabu dalam botol Yakult serta peralatan hisap lainnya di dalam tas terdakwa, sementara pada saksi Sahrijal tidak ditemukan barang terlarang. Hasil pemeriksaan laboratorium terhadap kristal bening dan urine terdakwa menunjukkan keduanya positif mengandung metamfetamina, yang tergolong Narkotika Golongan I. Perbuatan Terdakwa didakwa dengan dakwaan primair Pasal 112 Ayat (1) Undang-Undang RI No. 35 Tahun 2009 tentang Narkotika, dan dakwaan subsidair Pasal 127 Ayat (1) huruf a Undang-Undang RI No. 35 Tahun 2009 tentang Narkotika.",
         "NOVANI ARI HIFNI Alias ARI",
         "24.0"
        ],
        [
         "8",
         "2",
         "6",
         "1",
         "4",
         "1 buah plastik klip bening yang berisi kristal bening diduga narkotika golongan I bukan tanaman jenis sabu dengan berat 0,14 (nol koma empat belas) gram bruto atau 0,08 (nol koma nol delapan) gram netto selanjutnya disisihkan seberat 0,02 (nol koma nol dua) gram netto untuk uji labforensik sehingga sisa barang bukti 0,06 (nol koma nol enam) gram netto 1 buah pipa kaca 1 lembar tissue warna putih 1 buah korek api gas yang sudah dimodif 1 buah handphone merek Redmi tipe 7A warna hitam beserta 2 buah sim card 1 buah tas pinggang merek Fashion warna hitam Dimusnahkan 1 unit mobil pick up merek Suzuki warna hitam dengan No. Pol. DK 8445 BQ berikut kunci kontak 1 lembar STNK mobil pick up merek Suzuki warna hitam dengan No. Pol. DK 8445 BQ a.n. PT Wira Mitra Utama Dikembalikan kepada PT Wira Mitra Utama melalui Terdakwa 6. Membebankan kepada Terdakwa membayar biaya perkara sejumlah Rp5.000,00 (lima ribu rupiah)",
         "Pada Selasa, 9 Januari 2024 sekitar pukul 17.30 WITA di Jalan Bima, Kelurahan Cempaga, Bangli, terdakwa Mulyadi alias Mul ditangkap karena tanpa hak menawarkan dan membawa narkotika jenis sabu. Sebelumnya, terdakwa dihubungi oleh rekannya, Kadek (DPO), untuk mengantarkan sabu ke Bangli. Setelah bertemu dengan kurir Kadek di Lapangan Lumintang, Denpasar, terdakwa menerima sabu dalam amplop putih, sempat mencicipinya, dan menyimpannya di dashboard mobil lalu berpindah ke tas pinggang. Sekitar pukul 15.00 WITA, terdakwa berangkat ke Bangli dan tiba di lokasi yang diarahkan Kadek. Saat tiba di kos-kosan milik kakak Kadek, terdakwa diamankan oleh polisi. Dalam penggeledahan, ditemukan sabu, alat isap, korek api modifikasi, dan barang bukti lainnya. Berdasarkan hasil laboratorium, kristal yang disita terbukti mengandung metamfetamina yang termasuk Narkotika Golongan I, sedangkan urine terdakwa tidak mengandung narkotika. Perbuatan Terdakwa didakwa dengan dakwaan primair Pasal 114 Ayat (1) UU RI No. 35 Tahun 2009 tentang Narkotika, dan dakwaan subsidair Pasal 112 Ayat (1) UU RI No. 35 tahun 2009 tentang Narkotika.",
         "MULYADI alias MUL",
         "51.0"
        ],
        [
         "9",
         "0",
         "7",
         "1",
         "6",
         "1 unit Alat timbangan barang merk RADJIN 1 karung bawang merah yang dibungkus menggunakan karung plastik warna putih bertuliskan HI-GRO dengan berat 8,625 (delapan koma enam ratus dua puluh lima) Kg (kilogram) 1 karung bawang putih yang dibungkus menggunakan karung plastic berwarna hijau dengan berat 8,9 (delapan koma Sembilan) Kg (kilogram) Dikembalikan kepada Saksi Ni Nyoman Suwini 1 buah karung plastik warna putih bertulisan gajah bintang tempat menyimpan beras ketan 1 buah karung plastik warna putih polos tempat menyimpan kacang tanah mentah Dimusnahkan 1 unit sepeda motor, no rangka MH1JF12128K521438, no mesin JF12E-1525827 - sepeda motor merk Honda Vario no. pol. DK 5633 MX  1 eksemplar Foto Copy BPKB (Buku Pemilik Kendaraan Bermotor) F No. 1162138 sepeda motor merk Honda Vario, No. Rangka MH1JF12128K521438, No. Mesin JF12E-1525827 no. pol. DK 5633 MX an. RICHARD MULYADI 1 lembar Foto Copy STNK (surat tanda nomor kendaraan) sepeda motor merk Honda Vario, No. Rangka MH1JF12128K521438, No. Mesin JF12E-1525827 no. pol. DK 5633 MX an. RICHARD MULYADI 1 lembar Akta Kelahiran Nomor 5105-LT-20032023-0002 an. I WAYAN ARTAYASA 1 pcs Kunci sepeda motor merk Honda Vario, No. Rangka MH1JF12128K521438, No. Mesin JF12E-1525827 no. pol. DK 5633 MX Dikembalikan kepada yang berhak melalui Terdakwa 6. Membebankan kepada Terdakwa membayar biaya perkara sejumlah Rp. 5.000,00 (lima ribu rupiah)",
         "Terdakwa I Wayan Artayasa didakwa telah melakukan serangkaian pencurian secara berulang di Pasar Kidul Bangli, dengan sasaran utama dagangan milik ibunya sendiri, Ni Nyoman Suwini, serta milik pedagang lain seperti Ni Luh Utari dan Ni Ketut Suci. Perbuatan tersebut dilakukan sejak Desember 2023 hingga Februari 2024, pada dini hari antara pukul 03.00 hingga 04.00 WITA. Modus operandi yang digunakan adalah dengan masuk ke pasar melalui celah jeruji besi, membuka terpal dagangan, dan mengambil berbagai bahan pokok seperti kemiri, kacang tanah, gula merah, kacang hijau, dan beras. Barang-barang hasil curian tersebut kemudian dijual oleh terdakwa di Pasar Kidul Bangli dan Pasar Singamandawa Kintamani untuk memenuhi kebutuhan sehari-hari. Perbuatan terdakwa dilakukan tanpa seizin atau sepengetahuan para pemilik barang, dan telah menyebabkan kerugian bagi para korban. Berdasarkan perbuatannya tersebut, terdakwa didakwa dengan Pasal 362 KUHP jo. Pasal 65 Ayat (1) KUHP pada dakwaan primair dan Pasal 367 Ayat (2) KUHP jo. Pasal 65 Ayat (1) KUHP untuk dakwaan subsidair.",
         "I WAYAN ARTAYASA",
         "12.0"
        ],
        [
         "10",
         "0",
         "4",
         "3",
         "4",
         "1. 3 buah bahan dasar kain (Baju Kaos) masing-masing  - 1 (buah) baju kaos merk U-Right warna abu-abu, - 1 buah baju kaos merk U-Right warna hitam, - 1 buah baju kaos merk Newbalance warna hitam 2. 2 buah case masing-masing  - 1 buah case warna hitam dan, - 1 buah case warna putih bening, 3. 1 pasang kaos kaki merk Nike warna hitam, 4. 1 pasang sandal merk Havaianas warna hitam tulisan putih, 5. 1 buah tas kain Merk HUNGRYCO warna Hitam. 6. 2 buah Dompet masing-masing  - 1 buah Dompet kulit merk MONT BLACN warna coklat dan, - 1 buah dompet kain warna coklat dengan resleting bertulisan LONGCHAMP 7. 1 buah kotak Handphone, 8. 1 buah Handphone merk IPHONE 11 Pro warna gold, 9. Uang tunai sebesar Rp. 5.778.000,- (lima juta tujuh ratus tujuh puluh delapan ribu rupiah). Dikembalikan kepada Saksi Ni Nengah Ngariasih 1. 1 Buah kunci kontak sepeda motor, 2. 1 Unit kendaraan bermotor, DK 2006 AEC, NOKA MH3SEJ710PJ162733, NOSIN E33WE0184543, TH 2023, warna Hitam, 3. 1 lembar Surat Berharga STNK, DK 2006 AEC, NOKA MH3SEJ710PJ162733, NOSIN E33WE0184543, TH 2023, warna hitam, an. RURY HERAWATI , alamat GG. Kaliasem NO. 2B, Sesetan, Denpasar Dikembalikan kepada Terdakwa 6. Membebankan kepada Terdakwa membayar biaya perkara sejumlah Rp5.000,00 (lima ribu rupiah)",
         "Terdakwa Rury Herawati pada tanggal 20 November 2023 sekitar pukul 15.15 WITA telah melakukan pencurian di Toko Ari Kebaya, Jalan Nusantara, Bangli. Terdakwa datang dari Denpasar dengan niat mencuri dan setelah mencari toko yang sepi, ia berpura-pura sebagai pembeli. Saat penjaga toko sedang membelakangi untuk mencarikan sandal, Terdakwa membuka lemari yang tidak terkunci dan mengambil tas kain berisi dua dompet dengan total uang Rp16.500.000,- milik saksi Ni Nengah Ngariasi. Setelah mengambil tas, Terdakwa berpura-pura hendak mengambil uang di ATM dan langsung pergi meninggalkan dua selendang yang sudah dibayar. Uang hasil pencurian digunakan untuk membeli berbagai barang seperti HP, emas, pakaian, serta kebutuhan sehari-hari. Sisa uang yang dicuri masih tersisa sebesar Rp5.778.000. Berdasarkan laporan polisi dan penyelidikan, Terdakwa mengakui perbuatannya dan kini telah diamankan bersama barang bukti untuk proses hukum lebih lanjut. Perbuatannya diancam pidana sesuai Pasal 362 KUHP.",
         "RURY HERAWATI",
         "16.0"
        ],
        [
         "11",
         "3",
         "7",
         "1",
         "8",
         "- 45 (empat puluh lima) lembar nota penjualan PT. PUTRA DEWATA SEJATI cabang/admin Klungkung - 5 lembar nota penjualan PT. PUTRA DEWATA SEJATI cabang/admin Bangli - 2 lembar data piutang titipan UD. SARI MERTA - 2 lembar foto copy surat kesepakatan antara pihak PT PUTRA DEWATA SEJATI yang diwakili oleh ANGGUN BAYU WIKANTO dengan pihak usaha toko/UD. Sari Merta yang diwakili oleh I WAYAN AGUS KERTAYASA dan NI MADE REDIANI Nomor 001/SP//PDS-BALI/III/2019, tanggal 18 Maret 2019 - 2 lembar surat kesepakatan antara pihak PT. PUTRA DEWATA SEJATI yang diwakili oleh ANGGUN BAYU WIKANTO dengan pihak usaha toko/UD. Sari Merta yang diwakili oleh I NENGAH PERIYASA dan NI KOMANG WARSIKI Nomor 002/SP//PDS-BALI/IV/2019, tanggal 06 April 2019 - 1 lembar surat pernyataan yang dibuat oleh I KETUT SUPUTRA tanggal 24 Nopember 2022 Dikembalikan kepada PT. Putra Dewata Sejati melalui Saksi I Putu Pasek Ariana 6. Membebankan kepada Para Terdakwa membayar biaya perkara masing masing sejumlah Rp 5.000,00 (lima ribu rupiah)",
         "Bahwa para Terdakwa, yakni Terdakwa I Ketut Suputra dan Terdakwa II Ni Komang Warsiki, dalam kurun waktu antara bulan Mei 2019 sampai dengan Oktober 2020, bertempat di gudang milik para Terdakwa yang beralamat di Jalan Soekarno, Banjar Dukuh, Desa Bunutin, Kecamatan Bangli, Kabupaten Bangli, telah melakukan perbuatan melawan hukum dengan cara menguasai secara melawan hak barang titipan milik PT. Putra Dewata Sejati. Awalnya, Terdakwa I menjalin kerja sama usaha penjualan produk minuman bermerek Aqua dengan PT. Putra Dewata Sejati di bawah nama usaha UD. Sari Merta berdasarkan Surat Kesepakatan Nomor 002/SP/PDS-BALI/IV/2019 tanggal 6 April 2019. Dalam pelaksanaan kerja sama tersebut, PT. Putra Dewata Sejati menyerahkan sejumlah barang titipan kepada UD. Sari Merta untuk dijual kembali, dengan ketentuan bahwa harga pokok barang harus disetorkan kembali kepada PT. Putra Dewata Sejati setelah barang terjual, sedangkan selisih harga jual menjadi keuntungan bagi UD. Sari Merta. Dalam pelaksanaan usahanya, Terdakwa I selaku penanggung jawab operasional dan Terdakwa II sebagai bagian administrasi bertugas mengelola penjualan, keuangan, dan pembayaran kepada pihak supplier. Akan tetapi, sejak bulan Mei 2019, para Terdakwa mulai tidak menyetorkan secara penuh hasil penjualan barang, dan sejak bulan Oktober 2020 tidak lagi melakukan penyetoran sama sekali, padahal seluruh barang titipan telah terjual. Uang hasil penjualan tersebut justru digunakan oleh para Terdakwa untuk membayar gaji karyawan, menutupi biaya operasional, serta memenuhi kebutuhan hidup pribadi, tanpa seizin atau sepengetahuan PT. Putra Dewata Sejati. Perbuatan para Terdakwa tersebut telah mengakibatkan kerugian keuangan bagi PT. Putra Dewata Sejati sebesar Rp413.883.979,- (empat ratus tiga belas juta delapan ratus delapan puluh tiga ribu sembilan ratus tujuh puluh sembilan rupiah). Perbuatan tersebut dilakukan secara bersama-sama dan berlanjut, serta diatur dan diancam pidana dalam Pasal 372 KUHP jo. Pasal 55 Ayat (1) ke-1 KUHP jo. Pasal 64 Ayat (1) KUHP.",
         "I KETUT SUPUTRA",
         "18.0"
        ],
        [
         "12",
         "3",
         "5",
         "1",
         "8",
         "- 45 (empat puluh lima) lembar nota penjualan PT. PUTRA DEWATA SEJATI cabang/admin Klungkung - 5 lembar nota penjualan PT. PUTRA DEWATA SEJATI cabang/admin Bangli - 2 lembar data piutang titipan UD. SARI MERTA - 2 lembar foto copy surat kesepakatan antara pihak PT PUTRA DEWATA SEJATI yang diwakili oleh ANGGUN BAYU WIKANTO dengan pihak usaha toko/UD. Sari Merta yang diwakili oleh I WAYAN AGUS KERTAYASA dan NI MADE REDIANI Nomor 001/SP//PDS-BALI/III/2019, tanggal 18 Maret 2019 - 2 lembar surat kesepakatan antara pihak PT. PUTRA DEWATA SEJATI yang diwakili oleh ANGGUN BAYU WIKANTO dengan pihak usaha toko/UD. Sari Merta yang diwakili oleh I NENGAH PERIYASA dan NI KOMANG WARSIKI Nomor 002/SP//PDS-BALI/IV/2019, tanggal 06 April 2019 - 1 lembar surat pernyataan yang dibuat oleh I KETUT SUPUTRA tanggal 24 Nopember 2022 Dikembalikan kepada PT. Putra Dewata Sejati melalui Saksi I Putu Pasek Ariana 6. Membebankan kepada Para Terdakwa membayar biaya perkara masing masing sejumlah Rp 5.000,00 (lima ribu rupiah)",
         "Bahwa para Terdakwa, yakni Terdakwa I Ketut Suputra dan Terdakwa II Ni Komang Warsiki, dalam kurun waktu antara bulan Mei 2019 sampai dengan Oktober 2020, bertempat di gudang milik para Terdakwa yang beralamat di Jalan Soekarno, Banjar Dukuh, Desa Bunutin, Kecamatan Bangli, Kabupaten Bangli, telah melakukan perbuatan melawan hukum dengan cara menguasai secara melawan hak barang titipan milik PT. Putra Dewata Sejati. Awalnya, Terdakwa I menjalin kerja sama usaha penjualan produk minuman bermerek Aqua dengan PT. Putra Dewata Sejati di bawah nama usaha UD. Sari Merta berdasarkan Surat Kesepakatan Nomor 002/SP/PDS-BALI/IV/2019 tanggal 6 April 2019. Dalam pelaksanaan kerja sama tersebut, PT. Putra Dewata Sejati menyerahkan sejumlah barang titipan kepada UD. Sari Merta untuk dijual kembali, dengan ketentuan bahwa harga pokok barang harus disetorkan kembali kepada PT. Putra Dewata Sejati setelah barang terjual, sedangkan selisih harga jual menjadi keuntungan bagi UD. Sari Merta. Dalam pelaksanaan usahanya, Terdakwa I selaku penanggung jawab operasional dan Terdakwa II sebagai bagian administrasi bertugas mengelola penjualan, keuangan, dan pembayaran kepada pihak supplier. Akan tetapi, sejak bulan Mei 2019, para Terdakwa mulai tidak menyetorkan secara penuh hasil penjualan barang, dan sejak bulan Oktober 2020 tidak lagi melakukan penyetoran sama sekali, padahal seluruh barang titipan telah terjual. Uang hasil penjualan tersebut justru digunakan oleh para Terdakwa untuk membayar gaji karyawan, menutupi biaya operasional, serta memenuhi kebutuhan hidup pribadi, tanpa seizin atau sepengetahuan PT. Putra Dewata Sejati. Perbuatan para Terdakwa tersebut telah mengakibatkan kerugian keuangan bagi PT. Putra Dewata Sejati sebesar Rp413.883.979,- (empat ratus tiga belas juta delapan ratus delapan puluh tiga ribu sembilan ratus tujuh puluh sembilan rupiah). Perbuatan tersebut dilakukan secara bersama-sama dan berlanjut, serta diatur dan diancam pidana dalam Pasal 372 KUHP jo. Pasal 55 Ayat (1) ke-1 KUHP jo. Pasal 64 Ayat (1) KUHP.",
         "I KETUT SUPUTRA",
         "18.0"
        ],
        [
         "13",
         "3",
         "7",
         "1",
         "8",
         "- 45 (empat puluh lima) lembar nota penjualan PT. PUTRA DEWATA SEJATI cabang/admin Klungkung - 5 lembar nota penjualan PT. PUTRA DEWATA SEJATI cabang/admin Bangli - 2 lembar data piutang titipan UD. SARI MERTA - 2 lembar foto copy surat kesepakatan antara pihak PT PUTRA DEWATA SEJATI yang diwakili oleh ANGGUN BAYU WIKANTO dengan pihak usaha toko/UD. Sari Merta yang diwakili oleh I WAYAN AGUS KERTAYASA dan NI MADE REDIANI Nomor 001/SP//PDS-BALI/III/2019, tanggal 18 Maret 2019 - 2 lembar surat kesepakatan antara pihak PT. PUTRA DEWATA SEJATI yang diwakili oleh ANGGUN BAYU WIKANTO dengan pihak usaha toko/UD. Sari Merta yang diwakili oleh I NENGAH PERIYASA dan NI KOMANG WARSIKI Nomor 002/SP//PDS-BALI/IV/2019, tanggal 06 April 2019 - 1 lembar surat pernyataan yang dibuat oleh I KETUT SUPUTRA tanggal 24 Nopember 2022 Dikembalikan kepada PT. Putra Dewata Sejati melalui Saksi I Putu Pasek Ariana 6. Membebankan kepada Para Terdakwa membayar biaya perkara masing masing sejumlah Rp 5.000,00 (lima ribu rupiah)",
         "Bahwa para Terdakwa, yakni Terdakwa I Ketut Suputra dan Terdakwa II Ni Komang Warsiki, dalam kurun waktu antara bulan Mei 2019 sampai dengan Oktober 2020, bertempat di gudang milik para Terdakwa yang beralamat di Jalan Soekarno, Banjar Dukuh, Desa Bunutin, Kecamatan Bangli, Kabupaten Bangli, telah melakukan perbuatan melawan hukum dengan cara menguasai secara melawan hak barang titipan milik PT. Putra Dewata Sejati. Awalnya, Terdakwa I menjalin kerja sama usaha penjualan produk minuman bermerek Aqua dengan PT. Putra Dewata Sejati di bawah nama usaha UD. Sari Merta berdasarkan Surat Kesepakatan Nomor 002/SP/PDS-BALI/IV/2019 tanggal 6 April 2019. Dalam pelaksanaan kerja sama tersebut, PT. Putra Dewata Sejati menyerahkan sejumlah barang titipan kepada UD. Sari Merta untuk dijual kembali, dengan ketentuan bahwa harga pokok barang harus disetorkan kembali kepada PT. Putra Dewata Sejati setelah barang terjual, sedangkan selisih harga jual menjadi keuntungan bagi UD. Sari Merta. Dalam pelaksanaan usahanya, Terdakwa I selaku penanggung jawab operasional dan Terdakwa II sebagai bagian administrasi bertugas mengelola penjualan, keuangan, dan pembayaran kepada pihak supplier. Akan tetapi, sejak bulan Mei 2019, para Terdakwa mulai tidak menyetorkan secara penuh hasil penjualan barang, dan sejak bulan Oktober 2020 tidak lagi melakukan penyetoran sama sekali, padahal seluruh barang titipan telah terjual. Uang hasil penjualan tersebut justru digunakan oleh para Terdakwa untuk membayar gaji karyawan, menutupi biaya operasional, serta memenuhi kebutuhan hidup pribadi, tanpa seizin atau sepengetahuan PT. Putra Dewata Sejati. Perbuatan para Terdakwa tersebut telah mengakibatkan kerugian keuangan bagi PT. Putra Dewata Sejati sebesar Rp413.883.979,- (empat ratus tiga belas juta delapan ratus delapan puluh tiga ribu sembilan ratus tujuh puluh sembilan rupiah). Perbuatan tersebut dilakukan secara bersama-sama dan berlanjut, serta diatur dan diancam pidana dalam Pasal 372 KUHP jo. Pasal 55 Ayat (1) ke-1 KUHP jo. Pasal 64 Ayat (1) KUHP.",
         "NI KOMANG WARSIKI",
         "10.0"
        ],
        [
         "14",
         "3",
         "5",
         "1",
         "8",
         "- 45 (empat puluh lima) lembar nota penjualan PT. PUTRA DEWATA SEJATI cabang/admin Klungkung - 5 lembar nota penjualan PT. PUTRA DEWATA SEJATI cabang/admin Bangli - 2 lembar data piutang titipan UD. SARI MERTA - 2 lembar foto copy surat kesepakatan antara pihak PT PUTRA DEWATA SEJATI yang diwakili oleh ANGGUN BAYU WIKANTO dengan pihak usaha toko/UD. Sari Merta yang diwakili oleh I WAYAN AGUS KERTAYASA dan NI MADE REDIANI Nomor 001/SP//PDS-BALI/III/2019, tanggal 18 Maret 2019 - 2 lembar surat kesepakatan antara pihak PT. PUTRA DEWATA SEJATI yang diwakili oleh ANGGUN BAYU WIKANTO dengan pihak usaha toko/UD. Sari Merta yang diwakili oleh I NENGAH PERIYASA dan NI KOMANG WARSIKI Nomor 002/SP//PDS-BALI/IV/2019, tanggal 06 April 2019 - 1 lembar surat pernyataan yang dibuat oleh I KETUT SUPUTRA tanggal 24 Nopember 2022 Dikembalikan kepada PT. Putra Dewata Sejati melalui Saksi I Putu Pasek Ariana 6. Membebankan kepada Para Terdakwa membayar biaya perkara masing masing sejumlah Rp 5.000,00 (lima ribu rupiah)",
         "Bahwa para Terdakwa, yakni Terdakwa I Ketut Suputra dan Terdakwa II Ni Komang Warsiki, dalam kurun waktu antara bulan Mei 2019 sampai dengan Oktober 2020, bertempat di gudang milik para Terdakwa yang beralamat di Jalan Soekarno, Banjar Dukuh, Desa Bunutin, Kecamatan Bangli, Kabupaten Bangli, telah melakukan perbuatan melawan hukum dengan cara menguasai secara melawan hak barang titipan milik PT. Putra Dewata Sejati. Awalnya, Terdakwa I menjalin kerja sama usaha penjualan produk minuman bermerek Aqua dengan PT. Putra Dewata Sejati di bawah nama usaha UD. Sari Merta berdasarkan Surat Kesepakatan Nomor 002/SP/PDS-BALI/IV/2019 tanggal 6 April 2019. Dalam pelaksanaan kerja sama tersebut, PT. Putra Dewata Sejati menyerahkan sejumlah barang titipan kepada UD. Sari Merta untuk dijual kembali, dengan ketentuan bahwa harga pokok barang harus disetorkan kembali kepada PT. Putra Dewata Sejati setelah barang terjual, sedangkan selisih harga jual menjadi keuntungan bagi UD. Sari Merta. Dalam pelaksanaan usahanya, Terdakwa I selaku penanggung jawab operasional dan Terdakwa II sebagai bagian administrasi bertugas mengelola penjualan, keuangan, dan pembayaran kepada pihak supplier. Akan tetapi, sejak bulan Mei 2019, para Terdakwa mulai tidak menyetorkan secara penuh hasil penjualan barang, dan sejak bulan Oktober 2020 tidak lagi melakukan penyetoran sama sekali, padahal seluruh barang titipan telah terjual. Uang hasil penjualan tersebut justru digunakan oleh para Terdakwa untuk membayar gaji karyawan, menutupi biaya operasional, serta memenuhi kebutuhan hidup pribadi, tanpa seizin atau sepengetahuan PT. Putra Dewata Sejati. Perbuatan para Terdakwa tersebut telah mengakibatkan kerugian keuangan bagi PT. Putra Dewata Sejati sebesar Rp413.883.979,- (empat ratus tiga belas juta delapan ratus delapan puluh tiga ribu sembilan ratus tujuh puluh sembilan rupiah). Perbuatan tersebut dilakukan secara bersama-sama dan berlanjut, serta diatur dan diancam pidana dalam Pasal 372 KUHP jo. Pasal 55 Ayat (1) ke-1 KUHP jo. Pasal 64 Ayat (1) KUHP.",
         "NI KOMANG WARSIKI",
         "10.0"
        ],
        [
         "15",
         "0",
         "8",
         "0",
         "6",
         "1 unit sepeda motor merek Yamaha N-Max warna hitam DK 3498 PT beserta kunci kontak 1 buah STNK sepeda motor merek Yamaha N-Max DK 3498 PT 1 buah BPKB sepeda motor merek Yamaha N-Max DK 3498 PT Dikembalikan kepada Made Yusa Paramartha 1 unit sepeda motor merek Yamaha N-Max warna hitam DK 6992 LB beserta kunci kontak 1 buah STNK sepeda motor merek Yamaha N-Max DK 6992 LB 1 buah cover under dek bawah kolong sepeda motor merek Yamaha N-Max warna hitam 1 buah cover paru fender inner sepeda motor merek Yamaha N-Max warna hitam 2 buah dek sayap body bawah sepeda motor merek Yamaha N-Max warna ungu Dikembalikan kepada I Kadek Indrawan 1 unit mobil merek Honda Jazz GE8 warna putih DK 1049 WH 1 buah STNK mobil merek Honda Jazz GE8 DK 1049 WH Dikembalikan kepada Ni Luh Putu Suparwati 1 unit sepeda motor merek Yamaha N-Max warna hitam DK 6492 ZY beserta kunci kontak 1 lembar STNK Sepeda Motor Yamaha N-Max DK 4665 TG, Noka MH3SG3190JJ314087, Nosin G3E4E-1103102, nama pemilik a.n. I Ketut Merta Yasa 2 buah plat sepeda motor palsu warna hitam DK 4665 TG 2 buah spion sepeda motor merek Yamaha N-Max warna hitam Dikembalikan kepada Penuntut Umum untuk dijadikan barang bukti dalam perkara lain 1 buah kunci T warna hitam 1 buah obeng dengan gagang warna hitam 1 buah kunci ring pas 12 warna putih merek Wipro 1 buah tang dengan gagang warna merah 1 set kunci L warna putih merek Allwin 1 buah mesin bor tanpa kabel warna merah hitam merek Bitec Dimusnahkan Uang tunai Rp1.000.000,00 (satu juta rupiah) Dirampas untuk negara  6. Membebankan kepada Para Terdakwa membayar biaya perkara masing-masing sejumlah Rp5.000,00 (lima ribu rupiah)",
         "Terdakwa I Ketut Joni Adnyana Adi Putra dan Terdakwa II Rosita Evayanti Dewi melakukan pencurian sepeda motor di dua lokasi berbeda di wilayah Kintamani, Bangli. Aksi pertama dilakukan pada 10 September 2023 sekitar pukul 01.00 WITA di parkiran Sukawana Sunrise, di mana Terdakwa I mengambil sepeda motor Yamaha NMAX DK 3498 PT milik saksi Made Yusa Paramartha dengan cara mendorong motor yang tidak terkunci dan menyalakan mesin menggunakan alat-alat seperti obeng, tang, dan kunci L. Motor hasil curian ini digunakan untuk keperluan sehari-hari. Aksi kedua dilakukan pada 1 Oktober 2023 sekitar pukul 02.00 WITA di parkiran Le Monte Sunrise. Dengan menggunakan mobil sewaan, kedua terdakwa kembali ke Kintamani dan Terdakwa I mencuri motor Yamaha NMAX DK 6992 LB milik I Kadek Indrawan dengan modus serupa. Sepeda motor tersebut kemudian dijual secara daring seharga Rp5.300.000. Akibat perbuatan kedua terdakwa, saksi Made Yusa Paramartha mengalami kerugian sebesar Rp25.500.000,- dan saksi I Kadek Indrawan mengalami kerugian sebesar Rp26.700.000,-. Perbuatan para terdakwa diancam pidana berdasarkan Pasal 363 Ayat (1) ke-4 KUHP jo. Pasal 65 Ayat (1) KUHP.",
         "I KETUT JONI ADNYANA ADI PUTRA",
         "16.0"
        ],
        [
         "16",
         "0",
         "9",
         "0",
         "6",
         "1 unit sepeda motor merek Yamaha N-Max warna hitam DK 3498 PT beserta kunci kontak 1 buah STNK sepeda motor merek Yamaha N-Max DK 3498 PT 1 buah BPKB sepeda motor merek Yamaha N-Max DK 3498 PT Dikembalikan kepada Made Yusa Paramartha 1 unit sepeda motor merek Yamaha N-Max warna hitam DK 6992 LB beserta kunci kontak 1 buah STNK sepeda motor merek Yamaha N-Max DK 6992 LB 1 buah cover under dek bawah kolong sepeda motor merek Yamaha N-Max warna hitam 1 buah cover paru fender inner sepeda motor merek Yamaha N-Max warna hitam 2 buah dek sayap body bawah sepeda motor merek Yamaha N-Max warna ungu Dikembalikan kepada I Kadek Indrawan 1 unit mobil merek Honda Jazz GE8 warna putih DK 1049 WH 1 buah STNK mobil merek Honda Jazz GE8 DK 1049 WH Dikembalikan kepada Ni Luh Putu Suparwati 1 unit sepeda motor merek Yamaha N-Max warna hitam DK 6492 ZY beserta kunci kontak 1 lembar STNK Sepeda Motor Yamaha N-Max DK 4665 TG, Noka MH3SG3190JJ314087, Nosin G3E4E-1103102, nama pemilik a.n. I Ketut Merta Yasa 2 buah plat sepeda motor palsu warna hitam DK 4665 TG 2 buah spion sepeda motor merek Yamaha N-Max warna hitam Dikembalikan kepada Penuntut Umum untuk dijadikan barang bukti dalam perkara lain 1 buah kunci T warna hitam 1 buah obeng dengan gagang warna hitam 1 buah kunci ring pas 12 warna putih merek Wipro 1 buah tang dengan gagang warna merah 1 set kunci L warna putih merek Allwin 1 buah mesin bor tanpa kabel warna merah hitam merek Bitec Dimusnahkan Uang tunai Rp1.000.000,00 (satu juta rupiah) Dirampas untuk negara  6. Membebankan kepada Para Terdakwa membayar biaya perkara masing-masing sejumlah Rp5.000,00 (lima ribu rupiah)",
         "Terdakwa I Ketut Joni Adnyana Adi Putra dan Terdakwa II Rosita Evayanti Dewi melakukan pencurian sepeda motor di dua lokasi berbeda di wilayah Kintamani, Bangli. Aksi pertama dilakukan pada 10 September 2023 sekitar pukul 01.00 WITA di parkiran Sukawana Sunrise, di mana Terdakwa I mengambil sepeda motor Yamaha NMAX DK 3498 PT milik saksi Made Yusa Paramartha dengan cara mendorong motor yang tidak terkunci dan menyalakan mesin menggunakan alat-alat seperti obeng, tang, dan kunci L. Motor hasil curian ini digunakan untuk keperluan sehari-hari. Aksi kedua dilakukan pada 1 Oktober 2023 sekitar pukul 02.00 WITA di parkiran Le Monte Sunrise. Dengan menggunakan mobil sewaan, kedua terdakwa kembali ke Kintamani dan Terdakwa I mencuri motor Yamaha NMAX DK 6992 LB milik I Kadek Indrawan dengan modus serupa. Sepeda motor tersebut kemudian dijual secara daring seharga Rp5.300.000. Akibat perbuatan kedua terdakwa, saksi Made Yusa Paramartha mengalami kerugian sebesar Rp25.500.000,- dan saksi I Kadek Indrawan mengalami kerugian sebesar Rp26.700.000,-. Perbuatan para terdakwa diancam pidana berdasarkan Pasal 363 Ayat (1) ke-4 KUHP jo. Pasal 65 Ayat (1) KUHP.",
         "I KETUT JONI ADNYANA ADI PUTRA",
         "16.0"
        ],
        [
         "17",
         "0",
         "8",
         "0",
         "6",
         "1 unit sepeda motor merek Yamaha N-Max warna hitam DK 3498 PT beserta kunci kontak 1 buah STNK sepeda motor merek Yamaha N-Max DK 3498 PT 1 buah BPKB sepeda motor merek Yamaha N-Max DK 3498 PT Dikembalikan kepada Made Yusa Paramartha 1 unit sepeda motor merek Yamaha N-Max warna hitam DK 6992 LB beserta kunci kontak 1 buah STNK sepeda motor merek Yamaha N-Max DK 6992 LB 1 buah cover under dek bawah kolong sepeda motor merek Yamaha N-Max warna hitam 1 buah cover paru fender inner sepeda motor merek Yamaha N-Max warna hitam 2 buah dek sayap body bawah sepeda motor merek Yamaha N-Max warna ungu Dikembalikan kepada I Kadek Indrawan 1 unit mobil merek Honda Jazz GE8 warna putih DK 1049 WH 1 buah STNK mobil merek Honda Jazz GE8 DK 1049 WH Dikembalikan kepada Ni Luh Putu Suparwati 1 unit sepeda motor merek Yamaha N-Max warna hitam DK 6492 ZY beserta kunci kontak 1 lembar STNK Sepeda Motor Yamaha N-Max DK 4665 TG, Noka MH3SG3190JJ314087, Nosin G3E4E-1103102, nama pemilik a.n. I Ketut Merta Yasa 2 buah plat sepeda motor palsu warna hitam DK 4665 TG 2 buah spion sepeda motor merek Yamaha N-Max warna hitam Dikembalikan kepada Penuntut Umum untuk dijadikan barang bukti dalam perkara lain 1 buah kunci T warna hitam 1 buah obeng dengan gagang warna hitam 1 buah kunci ring pas 12 warna putih merek Wipro 1 buah tang dengan gagang warna merah 1 set kunci L warna putih merek Allwin 1 buah mesin bor tanpa kabel warna merah hitam merek Bitec Dimusnahkan Uang tunai Rp1.000.000,00 (satu juta rupiah) Dirampas untuk negara  6. Membebankan kepada Para Terdakwa membayar biaya perkara masing-masing sejumlah Rp5.000,00 (lima ribu rupiah)",
         "Terdakwa I Ketut Joni Adnyana Adi Putra dan Terdakwa II Rosita Evayanti Dewi melakukan pencurian sepeda motor di dua lokasi berbeda di wilayah Kintamani, Bangli. Aksi pertama dilakukan pada 10 September 2023 sekitar pukul 01.00 WITA di parkiran Sukawana Sunrise, di mana Terdakwa I mengambil sepeda motor Yamaha NMAX DK 3498 PT milik saksi Made Yusa Paramartha dengan cara mendorong motor yang tidak terkunci dan menyalakan mesin menggunakan alat-alat seperti obeng, tang, dan kunci L. Motor hasil curian ini digunakan untuk keperluan sehari-hari. Aksi kedua dilakukan pada 1 Oktober 2023 sekitar pukul 02.00 WITA di parkiran Le Monte Sunrise. Dengan menggunakan mobil sewaan, kedua terdakwa kembali ke Kintamani dan Terdakwa I mencuri motor Yamaha NMAX DK 6992 LB milik I Kadek Indrawan dengan modus serupa. Sepeda motor tersebut kemudian dijual secara daring seharga Rp5.300.000. Akibat perbuatan kedua terdakwa, saksi Made Yusa Paramartha mengalami kerugian sebesar Rp25.500.000,- dan saksi I Kadek Indrawan mengalami kerugian sebesar Rp26.700.000,-. Perbuatan para terdakwa diancam pidana berdasarkan Pasal 363 Ayat (1) ke-4 KUHP jo. Pasal 65 Ayat (1) KUHP.",
         "ROSITA EVAYANTI DEWI",
         "14.0"
        ],
        [
         "18",
         "0",
         "9",
         "0",
         "6",
         "1 unit sepeda motor merek Yamaha N-Max warna hitam DK 3498 PT beserta kunci kontak 1 buah STNK sepeda motor merek Yamaha N-Max DK 3498 PT 1 buah BPKB sepeda motor merek Yamaha N-Max DK 3498 PT Dikembalikan kepada Made Yusa Paramartha 1 unit sepeda motor merek Yamaha N-Max warna hitam DK 6992 LB beserta kunci kontak 1 buah STNK sepeda motor merek Yamaha N-Max DK 6992 LB 1 buah cover under dek bawah kolong sepeda motor merek Yamaha N-Max warna hitam 1 buah cover paru fender inner sepeda motor merek Yamaha N-Max warna hitam 2 buah dek sayap body bawah sepeda motor merek Yamaha N-Max warna ungu Dikembalikan kepada I Kadek Indrawan 1 unit mobil merek Honda Jazz GE8 warna putih DK 1049 WH 1 buah STNK mobil merek Honda Jazz GE8 DK 1049 WH Dikembalikan kepada Ni Luh Putu Suparwati 1 unit sepeda motor merek Yamaha N-Max warna hitam DK 6492 ZY beserta kunci kontak 1 lembar STNK Sepeda Motor Yamaha N-Max DK 4665 TG, Noka MH3SG3190JJ314087, Nosin G3E4E-1103102, nama pemilik a.n. I Ketut Merta Yasa 2 buah plat sepeda motor palsu warna hitam DK 4665 TG 2 buah spion sepeda motor merek Yamaha N-Max warna hitam Dikembalikan kepada Penuntut Umum untuk dijadikan barang bukti dalam perkara lain 1 buah kunci T warna hitam 1 buah obeng dengan gagang warna hitam 1 buah kunci ring pas 12 warna putih merek Wipro 1 buah tang dengan gagang warna merah 1 set kunci L warna putih merek Allwin 1 buah mesin bor tanpa kabel warna merah hitam merek Bitec Dimusnahkan Uang tunai Rp1.000.000,00 (satu juta rupiah) Dirampas untuk negara  6. Membebankan kepada Para Terdakwa membayar biaya perkara masing-masing sejumlah Rp5.000,00 (lima ribu rupiah)",
         "Terdakwa I Ketut Joni Adnyana Adi Putra dan Terdakwa II Rosita Evayanti Dewi melakukan pencurian sepeda motor di dua lokasi berbeda di wilayah Kintamani, Bangli. Aksi pertama dilakukan pada 10 September 2023 sekitar pukul 01.00 WITA di parkiran Sukawana Sunrise, di mana Terdakwa I mengambil sepeda motor Yamaha NMAX DK 3498 PT milik saksi Made Yusa Paramartha dengan cara mendorong motor yang tidak terkunci dan menyalakan mesin menggunakan alat-alat seperti obeng, tang, dan kunci L. Motor hasil curian ini digunakan untuk keperluan sehari-hari. Aksi kedua dilakukan pada 1 Oktober 2023 sekitar pukul 02.00 WITA di parkiran Le Monte Sunrise. Dengan menggunakan mobil sewaan, kedua terdakwa kembali ke Kintamani dan Terdakwa I mencuri motor Yamaha NMAX DK 6992 LB milik I Kadek Indrawan dengan modus serupa. Sepeda motor tersebut kemudian dijual secara daring seharga Rp5.300.000. Akibat perbuatan kedua terdakwa, saksi Made Yusa Paramartha mengalami kerugian sebesar Rp25.500.000,- dan saksi I Kadek Indrawan mengalami kerugian sebesar Rp26.700.000,-. Perbuatan para terdakwa diancam pidana berdasarkan Pasal 363 Ayat (1) ke-4 KUHP jo. Pasal 65 Ayat (1) KUHP.",
         "ROSITA EVAYANTI DEWI",
         "14.0"
        ],
        [
         "19",
         "0",
         "1",
         "0",
         "4",
         "- Uang tunai sebesar Rp. 10.000.000,00(sepuluh juta rupiah). - 1 buah kartu ATM BRI, Nomor Kartu 6013012227516306 dikembalikan kepada Saksi Luh Putu Widiantari, S.E - 1 unit Sepeda Motor Honda Vario 125 warna putih DK 6266 PZ, Noka MH1JMD119PK176948, Nosin JMD1E-1177179 beserta kunci kontak. - 1 lembar STNK Sepeda Motor Honda Vario 125 DK 6266 PZ, Noka MH1JMD119PK176948, Nosin JMD1E-1177179, Nama pemilik an. I NYOMAN BUDIAWAN Dikembalikan kepada Terdakwa - 1 unit Mobil Suzuki ST 150 Pick Up warna hitam DK 8958 HD beserta kunci kontak  Dikembalikan kepada Saksi I Wayan Sarjana 6. Membebankan kepada Terdakwa membayar biaya perkara sejumlah Rp5.000,00 (lima ribu rupiah)",
         "Pada hari Rabu, 25 Oktober 2023 sekitar pukul 13.00 WITA, terdakwa I Nyoman Budiawan alias Sumawan melakukan pencurian kartu ATM BRI milik saksi Luh Putu Widiantari di Toko UD. Langsung Jaya, Jalan Raya Kintamani, Desa Kintamani, Kecamatan Kintamani, Kabupaten Bangli. Awalnya, terdakwa datang ke toko tersebut untuk mentransfer uang, namun saat mengetahui mesin BRI Link rusak dan pegawai toko pergi, terdakwa memanfaatkan situasi sepi untuk mengambil kartu ATM yang berada di atas meja kasir. Terdakwa kemudian pulang ke rumahnya dan menggunakan kartu ATM tersebut di mesin ATM BRI Toya Devasya, dengan memasukkan PIN 020202 yang telah ia ketahui sebelumnya karena sering melihat pegawai toko menggunakannya. Terdakwa melakukan penarikan tunai sebanyak empat kali dengan total Rp10.000.000. Setelah menerima laporan dari korban, pihak kepolisian melakukan olah TKP dan berhasil mengamankan terdakwa di rumahnya pada 28 Oktober 2023. Akibat perbuatannya, korban mengalami kerugian sebesar Rp10.000.000. Perbuatan terdakwa diancam pidana berdasarkan Pasal 362 KUHP.",
         "I NYOMAN BUDIAWAN Als. SUMAWAN",
         "14.0"
        ],
        [
         "20",
         "0",
         "0",
         "0",
         "4",
         "- Uang tunai sebesar Rp. 10.000.000,00(sepuluh juta rupiah). - 1 buah kartu ATM BRI, Nomor Kartu 6013012227516306 dikembalikan kepada Saksi Luh Putu Widiantari, S.E - 1 unit Sepeda Motor Honda Vario 125 warna putih DK 6266 PZ, Noka MH1JMD119PK176948, Nosin JMD1E-1177179 beserta kunci kontak. - 1 lembar STNK Sepeda Motor Honda Vario 125 DK 6266 PZ, Noka MH1JMD119PK176948, Nosin JMD1E-1177179, Nama pemilik an. I NYOMAN BUDIAWAN Dikembalikan kepada Terdakwa - 1 unit Mobil Suzuki ST 150 Pick Up warna hitam DK 8958 HD beserta kunci kontak  Dikembalikan kepada Saksi I Wayan Sarjana 6. Membebankan kepada Terdakwa membayar biaya perkara sejumlah Rp5.000,00 (lima ribu rupiah)",
         "Pada hari Rabu, 25 Oktober 2023 sekitar pukul 13.00 WITA, terdakwa I Nyoman Budiawan alias Sumawan melakukan pencurian kartu ATM BRI milik saksi Luh Putu Widiantari di Toko UD. Langsung Jaya, Jalan Raya Kintamani, Desa Kintamani, Kecamatan Kintamani, Kabupaten Bangli. Awalnya, terdakwa datang ke toko tersebut untuk mentransfer uang, namun saat mengetahui mesin BRI Link rusak dan pegawai toko pergi, terdakwa memanfaatkan situasi sepi untuk mengambil kartu ATM yang berada di atas meja kasir. Terdakwa kemudian pulang ke rumahnya dan menggunakan kartu ATM tersebut di mesin ATM BRI Toya Devasya, dengan memasukkan PIN 020202 yang telah ia ketahui sebelumnya karena sering melihat pegawai toko menggunakannya. Terdakwa melakukan penarikan tunai sebanyak empat kali dengan total Rp10.000.000. Setelah menerima laporan dari korban, pihak kepolisian melakukan olah TKP dan berhasil mengamankan terdakwa di rumahnya pada 28 Oktober 2023. Akibat perbuatannya, korban mengalami kerugian sebesar Rp10.000.000. Perbuatan terdakwa diancam pidana berdasarkan Pasal 362 KUHP.",
         "I NYOMAN BUDIAWAN Als. SUMAWAN",
         "14.0"
        ],
        [
         "21",
         "1",
         "10",
         "0",
         "7",
         "2 lembar cek rekening BRI tertanggal 12 Mei 2023 Rp145.000.000,00 (seratus empat puluh lima juta rupiah) dan 22 Mei 2023 Rp146.000.000,00 (seratus empat puluh enam juta rupiah) 1 lembar foto copy cek rekening BRI tertanggal 10 Mei 2023 Rp100.000.000,00 (seratus juta rupiah) 2 lembar Surat Keterangan Penolakan (SKP) dari PT. BRI (persero) Tbk. tanggal 5 Juni 2023 6 lembar nota dari CV. Yugantara Putra Jaya dengan rincian sebagai berikut pembelian 1000 Tr telur tertanggal 21 April 2023 sejumlah Rp50.000.000,00 (lima puluh juta rupiah) pembelian 1000 Tr telur tertanggal 23 April 2023 sejumlah Rp52.000.000,00 (lima puluh dua juta rupiah) pembelian 2000 Tr telur tertanggal 25 April 2023 sejumlah Rp104.000.000,00 (seratus empat juta rupiah) pembelian 435 Tr telur tertanggal 28 April 2023 sejumlah Rp22.600.000,00 (dua puluh dua juta enam ratus ribu rupiah) pembelian 400 kilogram beras tertanggal 28 April 2023 sejumlah Rp112.000.000,00 (seratus dua belas juta rupiah) pembelian 180 kilogram beras tertanggal 30 April 2023 sejumlah Rp50.400.000,00 (lima puluh juta empat ratus ribu rupiah) dikembalikan kepada I Putu Sutarga 6. Membebankan kepada Terdakwa membayar biaya perkara sejumlah Rp5.000,00 (lima ribu rupiah)",
         "Pada bulan April 2023, terdakwa Desak Made Citrawati didakwa melakukan tindak pidana penipuan secara berlanjut terhadap dua korban, yaitu I Putu Sutarga dan Pande Ketut Suarca, dengan total kerugian mencapai lebih dari Rp 391 juta. Modus operandi terdakwa adalah membeli telur dan beras dalam jumlah besar dari kedua korban dengan dalih pembayaran menggunakan cek mundur, disertai pernyataan palsu bahwa ia memiliki aset tanah di Singaraja yang sedang dalam proses penjualan. Terdakwa memesan telur sebanyak 4.435 krei dari I Putu Sutarga senilai total Rp 228.600.000, dan beras sebanyak 14.500 kg dari Pande Ketut Suarca dengan total nilai Rp 162.400.000. Setiap transaksi dilakukan secara bertahap pada tanggal 21, 23, 25, dan 28 April 2023. Terdakwa meyakinkan para korban dengan janji pelunasan dan surat pengakuan utang, namun setelah cek jatuh tempo, tidak ada dana yang tersedia. Pemeriksaan terhadap klaim kepemilikan tanah menunjukkan bahwa terdakwa hanya memberikan uang muka atas tanah tersebut dan belum ada kepastian transaksi. Perbuatan Terdakwa didakwa dengan dakwaan primair Pasal 378 jo. Pasal 64 Ayat (1) ke-1 KUHP, dan dakwaan subsidair 379a KUHP Jo. Pasal 64 Ayat (1) ke-1 KUHP.",
         "DESAK MADE CITRAWATI",
         "30.0"
        ],
        [
         "22",
         "0",
         "11",
         "4",
         "3",
         "1 lembar surat tanda nomor kendaraan (STNK) sepeda motor merek Honda Scoopy, tipe F1C02N28L0 A/T, tahun 2018, warna hitam, Nopol DK 5807 PS, Noka MH1JM311XJK830213, dan Nosin JM31E1827084 a.n. I Wayan Miyasa yang beralamat di Banjar Tingas, Kecamatan Tembuku, Kabupaten Bangli 1 buah buku pemilik kendaraan bermotor (BPKB) Nomor O-03326115, DK 5807 PS, Honda, Tahun 2018, Hitam, Noka MH1JM311XJK830213, dan Nosin JM31E1827084 a.n. I Wayan Miyasa yang beralamat di Banjar Tingas, Kecamatan Tembuku, Kabupaten Bangli 1 unit sepeda motor merek Honda Scoopy, warna Hitam, Nopol DK 3263 KAQ, Noka MH1JM311XJK830213, dan Nosin JM31E1827084 1 buah kunci kontak sepeda motor merek Honda (duplikat) 1 buah kunci kontak sepeda motor merek Honda Dikembalikan kepada Penuntut Umum untuk dijadikan barang bukti dalam perkara atas nama Dewa Made Sujana 6. Membebankan kepada Terdakwa membayar biaya perkara sejumlah Rp5.000,00 (lima ribu rupiah)",
         "Pada hari Jumat, 5 Februari 2021 sekitar pukul 19.00 WITA, terdakwa I Ketut Dena bersama Dewa Made Sujana (dalam berkas terpisah) melakukan pencurian satu unit sepeda motor Honda Scoopy warna hitam kombinasi merah dengan nomor polisi DK 5807 PS yang terparkir di depan rumah saksi I Nengah Sumerta di Desa Yangapi, Kecamatan Tembuku, Kabupaten Bangli. Sebelumnya, kedua terdakwa sempat pergi ke beberapa lokasi sabung ayam. Saat melintasi lokasi kejadian, Dewa Made Sujana melihat motor dalam keadaan tidak terkunci dan memerintahkan Ketut Dena untuk berjaga sementara dirinya mengambil sepeda motor tersebut. Setelah berhasil menghidupkan dan membawa motor itu, mereka menyembunyikannya di bawah jembatan di Gianyar. Keesokan harinya, motor tersebut diambil kembali dan diganti plat nomornya menggunakan plat dari motor lain, kemudian dibawa ke rumah Dewa Made Sujana. Sore harinya, Dewa Made Sujana ditangkap karena kasus pencurian handphone dan meminta Ketut Dena mengambil motor tersebut. Karena motor terkunci dan kuncinya masih disimpan Dewa Made Sujana, Ketut Dena memanggil tukang kunci untuk membuat duplikat. Motor curian itu lalu digadaikan oleh Ketut Dena kepada saksi Luh Sriani seharga Rp2.000.000 tanpa dokumen STNK atau BPKB. Korban, I Wayan Miyasa, melaporkan kehilangan tersebut ke Polsek Tembuku. Sekitar seminggu kemudian, Ketut Dena ditangkap atas kasus penadahan, mengakui perbuatannya, dan membantu polisi mencari motor dan kunci aslinya yang ditemukan di tas milik Dewa Made Sujana. Akibat perbuatan tersebut, korban mengalami kerugian sekitar Rp15.000.000. Tindak pidana ini diancam dengan 2 dakwaan yaitu dakwaan primair dengan Pasal 363 ayat (1) ke-4 KUHP serta dakwaan subsidair dengan Pasal 326 KUHP.",
         "I KETUT DENA",
         "12.0"
        ],
        [
         "23",
         "0",
         "11",
         "4",
         "6",
         "1 lembar surat tanda nomor kendaraan (STNK) sepeda motor merek Honda Scoopy, tipe F1C02N28L0 A/T, tahun 2018, warna hitam, Nopol DK 5807 PS, Noka MH1JM311XJK830213, dan Nosin JM31E1827084 a.n. I Wayan Miyasa yang beralamat di Banjar Tingas, Kecamatan Tembuku, Kabupaten Bangli 1 buah buku pemilik kendaraan bermotor (BPKB) Nomor O-03326115, DK 5807 PS, Honda, Tahun 2018, Hitam, Noka MH1JM311XJK830213, dan Nosin JM31E1827084 a.n. I Wayan Miyasa yang beralamat di Banjar Tingas, Kecamatan Tembuku, Kabupaten Bangli 1 unit sepeda motor merek Honda Scoopy, warna Hitam, Nopol DK 3263 KAQ, Noka MH1JM311XJK830213, dan Nosin JM31E1827084 1 buah kunci kontak sepeda motor merek Honda Dikembalikan kepada I Wayan Miyasa 1 buah kunci kontak sepeda motor merek Honda (duplikat) Dimusnahkan 4. Membebankan kepada Terdakwa membayar biaya perkara sejumlah Rp5.000,00 (lima ribu rupiah)",
         "Pada hari Jumat, 5 Februari 2021 sekitar pukul 09.30 WITA, Terdakwa Dewa Made Sujana bersama I Ketut Dena (berkas terpisah) pergi ke Nongan, Karangasem untuk menonton sabung ayam dengan mengendarai sepeda motor Honda Scoopy warna coklat hitam. Sekitar pukul 14.30 WITA, mereka mendengar ada sabung ayam di Pulasari, Tembuku, namun karena acara tersebut tidak ada, mereka kembali melewati Banjar Sideparna, Desa Yangapi, Bangli. Di lokasi tersebut, Terdakwa melihat sepeda motor Honda Scoopy warna hitam kombinasi merah yang terparkir dengan kunci masih menggantung, lalu meminta I Ketut Dena berhenti untuk mengawasi sekitar. Setelah merasa aman, Terdakwa menyalakan dan membawa kabur sepeda motor tersebut, sedangkan I Ketut Dena mengikuti dengan motor yang mereka gunakan sebelumnya. Motor hasil curian tersebut disembunyikan di bawah jembatan dekat Pantai Lebih, Gianyar. Keesokan harinya, mereka kembali mengambil motor tersebut dan mengganti plat nomornya dengan yang diambil dari motor lain, kemudian motor dibawa ke rumah Terdakwa di Ubud dan diparkir di garasi. Pada sore harinya, Terdakwa ditangkap oleh Polsek Sukawati atas kasus pencurian handphone. Saat penggeledahan, ditemukan kunci asli motor curian di tas milik Terdakwa yang diserahkan oleh istrinya. Akibat perbuatan tersebut, saksi korban I Wayan Miyasa mengalami kerugian sebesar Rp15.000.000. Perbuatan Terdakwa didakwa dengan dakwaan primair Pasal 363 Ayat (1) ke-4 KUHP, dan dakwaan subsidair Pasal 362 KUHP.",
         "DEWA MADE SUJANA",
         "15.0"
        ],
        [
         "24",
         "2",
         "12",
         "4",
         "2",
         "1 plastik klip bening yang berisi sabu dengan berat 0,10 (nol koma sepuluh) gram netto selanjutnya disisihkan seberat 0,02 (nol koma nol dua) gram netto untuk uji labforensik sehingga sisa barang bukti 0,08 (nol koma nol delapan) gram netto 1 buah gantungan handphone merek Furious warna hitam 1 lembar stiker Furious wana putih 1 buah jaket merek Furious warna biru dongker 1 buah handphone merek Samsung A04 warna biru berikut 1 buah Simcard XL Axiata dimusnahkan 1 unit sepeda motor merek Honda Scoopy warna merah dengan No. Pol DK 5548 PT berikut kunci kontak dikembalikan kepada yang berhak melalui Terdakwa 7. Membebankan kepada Terdakwa membayar biaya perkara sejumlah Rp5.000,00 (lima ribu rupiah)",
         "Pada Selasa, 6 Juni 2023 sekitar pukul 20.10 WITA di Jalan Tirta Geduh, Kelurahan Bebalang, Bangli, terdakwa I Komang Rendi Yana alias Rendi ditangkap karena tanpa hak memiliki dan menyimpan narkotika jenis sabu. Awalnya, terdakwa memesan sabu seharga Rp200.000 kepada seseorang bernama Gus Ucil (DPO), lalu mengambil paket tersebut di bawah pohon mahoni di Jalan Putra Yuda, Bangli, sesuai petunjuk. Setelah dikonsumsi sebagian di rumahnya di Banua, Kintamani, sisa sabu disimpan dalam gantungan handphone yang dibungkus stiker dan diselipkan di jaket. Saat hendak ke alun-alun Bangli, terdakwa diberhentikan oleh polisi dan ditemukan sabu seberat 0,10 gram netto dalam jaketnya. Barang bukti lainnya termasuk bong bekas pakai, handphone, dan sepeda motor juga diamankan. Hasil uji laboratorium menunjukkan sabu mengandung metamfetamina yang tergolong Narkotika Golongan I. Perbuatan Terdakwa didakwa dengan dakwaan primair Pasal 112 Ayat (1) UU RI No. 35 Tahun 2009 tentang Narkotika, dan dakwaan subsidair Pasal 127 Ayat (1) huruf a UU RI No. 35 Tahun 2009 tentang Narkotika.",
         "I KOMANG RENDI YANA alis RENDI",
         "15.0"
        ],
        [
         "25",
         "2",
         "5",
         "4",
         "2",
         "1 plastik klip bening yang berisi sabu dengan berat 0,10 (nol koma sepuluh) gram netto selanjutnya disisihkan seberat 0,02 (nol koma nol dua) gram netto untuk uji labforensik sehingga sisa barang bukti 0,08 (nol koma nol delapan) gram netto 1 buah gantungan handphone merek Furious warna hitam 1 lembar stiker Furious wana putih 1 buah jaket merek Furious warna biru dongker 1 buah handphone merek Samsung A04 warna biru berikut 1 buah Simcard XL Axiata dimusnahkan 1 unit sepeda motor merek Honda Scoopy warna merah dengan No. Pol DK 5548 PT berikut kunci kontak dikembalikan kepada yang berhak melalui Terdakwa 7. Membebankan kepada Terdakwa membayar biaya perkara sejumlah Rp5.000,00 (lima ribu rupiah)",
         "Pada Selasa, 6 Juni 2023 sekitar pukul 20.10 WITA di Jalan Tirta Geduh, Kelurahan Bebalang, Bangli, terdakwa I Komang Rendi Yana alias Rendi ditangkap karena tanpa hak memiliki dan menyimpan narkotika jenis sabu. Awalnya, terdakwa memesan sabu seharga Rp200.000 kepada seseorang bernama Gus Ucil (DPO), lalu mengambil paket tersebut di bawah pohon mahoni di Jalan Putra Yuda, Bangli, sesuai petunjuk. Setelah dikonsumsi sebagian di rumahnya di Banua, Kintamani, sisa sabu disimpan dalam gantungan handphone yang dibungkus stiker dan diselipkan di jaket. Saat hendak ke alun-alun Bangli, terdakwa diberhentikan oleh polisi dan ditemukan sabu seberat 0,10 gram netto dalam jaketnya. Barang bukti lainnya termasuk bong bekas pakai, handphone, dan sepeda motor juga diamankan. Hasil uji laboratorium menunjukkan sabu mengandung metamfetamina yang tergolong Narkotika Golongan I. Perbuatan Terdakwa didakwa dengan dakwaan primair Pasal 112 Ayat (1) UU RI No. 35 Tahun 2009 tentang Narkotika, dan dakwaan subsidair Pasal 127 Ayat (1) huruf a UU RI No. 35 Tahun 2009 tentang Narkotika.",
         "I KOMANG RENDI YANA alis RENDI",
         "15.0"
        ],
        [
         "26",
         "2",
         "13",
         "0",
         "3",
         "1 buah plastik klip bening yang berisi serbuk kristal yang diduga Narkotika golongan I bukan tanaman jenis shabu dengan berat 0,18 (nol koma delapan belas) gram bruto atau 0,10 (nol koma sepuluh) gram netto dan disisihkan 0,02 (nol koma nol dua) gram netto untuk uji labforensik sehingga berat Narkotika 0,08 (nol koma delapan) gram netto 1 buah bungkus rokok merk Dunhill warna putih 1 buah handphone merk OPPO warna ungu lengkap dengan 2 buah simcard dan 1 buah memory card Dimusnahkan 1 unit sepeda motor merk Honda Vario DK 3171 LK warna hitam 1 lembar STNK sepeda motor Honda Vario DK 3171 LK warna hitam atas nama pemilik I WAYAN DARSA alamat Br. Lungsiakan, Kedewatan Ubud Gianyar 1 buah kunci kontak. Dikembalikan kepada yang berhak melalui Terdakwa 7. Membebankan kepada Terdakwa membayar biaya perkara sejumlah Rp5.000,00 (lima ribu rupiah)",
         "Pada Senin, 24 April 2023 sekitar pukul 22.30 WITA di pinggir Jalan Muhamad Hatta, Bebalang, Bangli, terdakwa I Gusti Lanang Made Wijaya alias Lanang tertangkap karena tanpa hak memiliki narkotika jenis sabu. Sebelumnya, terdakwa memesan sabu seharga Rp700.000 dari seseorang bernama Jung Tu (DPO) melalui WhatsApp dan mengambil barang tersebut di bawah pot bunga di Desa Semana, Badung. Setelah mengonsumsinya sebagian di rumahnya di Ubud, terdakwa menyimpan sisa sabu ke dalam bungkus rokok yang dimasukkan ke saku celana. Malam harinya, saat hendak menemui seorang wanita bernama Riena (DPO) di Bangli, terdakwa dihentikan oleh polisi dan dilakukan penggeledahan. Polisi menemukan sabu seberat 0,10 gram netto, satu handphone, dan sepeda motor yang digunakan terdakwa. Berdasarkan hasil pemeriksaan laboratorium, kristal bening tersebut positif mengandung metamfetamina yang tergolong Narkotika Golongan I. Perbuatan Terdakwa didakwa dengan dakwaan primair Pasal 112 Ayat (1) UU RI No. 35 Tahun 2009 Tentang Narkotika, dan dakwaan subsidair Pasal 127 Ayat (1) huruf a UU RI No. 35 Tahun 2009 Tentang Narkotika.",
         "I GUSTI LANANG MADE WIJAYA alias LANANG",
         "16.0"
        ],
        [
         "27",
         "2",
         "10",
         "2",
         "5",
         "1 plastik klip bening yang berisi narkotika golongan I bukan tanaman mengandung sediaan metamfetamina yang terdaftar dalam Narkotika Golongan I Nomor Urut 61 Lampiran I UURI Nomor 35 Tahun 2009 tentang Narkotika dengan berat 0,33 (nol koma tiga puluh tiga) gram bruto atau 0,15 (nol koma lima belas) gram netto selanjutnya disisihkan seberat 0,02 (nol koma nol dua) gram netto untuk uji labforensik sehingga sisa barang bukti 0,13 (nol koma tiga belas) gram netto 1 potong pipet plastik warna bening 1 lembar tissue warna putih 1 buah bungkus snack merek Superco 1 buah bungkus plastik warna hitam putih 1 unit handphone merek Samsung Galaxy Type J2 Prime warna hitam berikut 1 buah sim card IM3 dan 1 buah memory card Dipergunakan dalam perkara atas nama Sodakoh Maliki alias Dakoh  6. Membebankan kepada Terdakwa membayar biaya perkara sejumlah Rp5.000,00 (lima ribu rupiah)",
         "Terdakwa Selamet Harianto alias Selamet bersama Sodakoh Maliki alias Dakoh (dalam berkas terpisah) pada 15 Mei 2023 sekitar pukul 20.45 WITA, bertempat di Jalan Muhammad Hatta, Kelurahan Bebalang, Kecamatan Bangli, kedapatan memiliki narkotika jenis sabu seberat 0,15 gram netto tanpa izin dari pihak berwenang. Perbuatan ini berawal ketika Selamet menghubungi seseorang bernama Rizal (DPO) untuk mencari pekerjaan dan ditawari menjadi \"peluncur\" (PL), yaitu mengambil paket sabu di Bangli. Selamet kemudian mengajak Sodakoh Maliki untuk menemaninya dengan janji akan memakai sabu bersama. Mereka berangkat dari Denpasar ke Bangli dengan motor dan mengambil paket sabu yang disimpan di belakang tiang listrik sesuai petunjuk dari Rizal. Saat dalam perjalanan kembali ke Denpasar, mereka ditangkap oleh polisi di Jalan Muhammad Hatta dan ditemukan barang bukti sabu serta alat-alat konsumsi narkotika. Dalam penggeledahan, ditemukan pula sabu lain seberat 0,02 gram netto milik Sodakoh Maliki yang disimpan dalam tas pinggang, serta berbagai perlengkapan penggunaan sabu. Berdasarkan hasil uji laboratorium, kristal yang ditemukan terbukti mengandung metamfetamina, sedangkan hasil tes urine Selamet negatif narkotika. Selamet sebelumnya juga pernah dihukum dalam kasus serupa berdasarkan putusan PN Denpasar tahun 2019 dan baru bebas pada 7 Maret 2023. Terdakwa didakwa dengan Pasal 112 Ayat (1) UU RI No. 35 Tahun 2009 tentang Narkotika jo. Pasal 55 Ayat (1) ke-1 KUHP.",
         "SELAMET HARIANTO alias SELAMET",
         "75.0"
        ],
        [
         "28",
         "2",
         "13",
         "4",
         "5",
         "Kode A1 1 bungkus yang diduga narkotika golongan I jenis tembakau sintetis yang dibungkus plastik merek Violin warna biru dengan berat 18,85 (delapan belas koma delapan puluh lima) gram bruto atau 14,59 (empat belas koma lima puluh sembilan) gram netto dan disisihkan 1 gram netto untuk uji labforensik sehingga berat narkotika 13,59 (tiga belas koma lima puluh sembilan) gram netto Kode A2 1 bungkus yang diduga narkotika golongan I jenis tembakau sintetis yang dibungkus plastik merek Rhino warna merah dengan berat 43,41 (empat puluh tiga koma empat puluh satu) gram bruto atau 39,41 (tiga puluh sembilan koma empat puluh satu) gram netto dan disisihkan 1 gram netto untuk uji labforensik sehingga berat narkotika 38,41 (tiga puluh delapan koma empat puluh satu) gram netto 1 buah kardus mie instan merek Indomie 1 buah plastik bubble wrap yang tertempel resi JT Express No JND/BNL001 GIA-BNL01 JD0229994349 4 buah kertas papir merek Radja Mas  Dimusnahkan  4. Membebankan kepada Terdakwa membayar biaya perkara sejumlah Rp5.000,00 (lima ribu rupiah)",
         "Terdakwa Raihan Rahadi Azhar alias Raihan, bersama-sama dengan Gungggus Togar Manatar Pangaribuan alias Togar (yang berkas perkaranya terpisah), pada 14 Maret 2023 di Rutan Kelas IIB Bangli, diduga melakukan tindak pidana narkotika dengan tanpa hak atau melawan hukum menjadi perantara dalam jual beli narkotika golongan I berupa tembakau sintetis. Togar meminjam nama Raihan untuk menerima paket berisi tembakau sintetis yang dikirim melalui jasa ekspedisi JT. Raihan menyetujui permintaan tersebut dan menerima paket atas namanya pada 16 Maret 2023. Setelah menerima paket di ruang portir rutan, Raihan langsung diamankan petugas. Pemeriksaan terhadap paket menunjukkan adanya dua bungkus tembakau sintetis dengan total berat bersih 52 gram netto, yang masing-masing dikemas dalam plastik bermerek Violin dan Rhino. Berdasarkan hasil uji laboratorium, daun-daun kering tersebut positif mengandung MDMB-4en PINACA, zat yang termasuk dalam Narkotika Golongan I. Raihan tidak memiliki izin dari Kementerian Kesehatan atau instansi berwenang lainnya untuk memperjualbelikan atau menjadi perantara narkotika tersebut. Perbuatan Terdakwa didakwa dengan dakwaan pertama Pasal 114 Ayat (1) UU RI No. 35 Tahun 2009 tentang Narkotika jo. Pasal 55 Ayat (1) ke-1 KUHP, dakwaan kedua Pasal 112 Ayat (1) UU RI No. 35 Tahun 2009 Tentang Narkotika jo. Pasal 55 Ayat (1) ke-1 KUHP, dan dakwaan ketiga Pasal 111 Ayat (1) UU RI No. 35 Tahun 2009 Tentang Narkotika jo. Pasal 55 Ayat (1) ke-1 KUHP.",
         "RAIHAN RAHADI AZHAR alias RAIHAN",
         "90.0"
        ],
        [
         "29",
         "2",
         "13",
         "4",
         "5",
         "Kode A1 1 bungkus yang diduga narkotika golongan I jenis tembakau sintetis yang dibungkus plastik merek Violin warna biru dengan berat 18,85 (delapan belas koma delapan puluh lima) gram bruto atau 14,59 (empat belas koma lima puluh sembilan) gram netto dan disisihkan 1 gram netto untuk uji labforensik sehingga berat narkotika 13,59 (tiga belas koma lima puluh sembilan) gram netto Kode A2 1 bungkus yang diduga narkotika golongan I jenis tembakau sintetis yang dibungkus plastik merek Rhino warna merah dengan berat 43,41 (empat puluh tiga koma empat puluh satu) gram bruto atau 39,41 (tiga puluh sembilan koma empat puluh satu) gram netto dan disisihkan 1 gram netto untuk uji labforensik sehingga berat narkotika 38,41 (tiga puluh delapan koma empat puluh satu) gram netto 1 buah kardus mie instan merek Indomie 1 buah plastik bubble wrap yang tertempel resi JT Express No JND/BNL001 GIA-BNL01 JD0229994349 4 buah kertas papir merek Radja Mas  Dipergunakan dalam perkara atas nama Raihan Rahadi Azhar alias Raihan  4. Membebankan kepada Terdakwa membayar biaya perkara sejumlah Rp5.000,00 (lima ribu rupiah)",
         "Terdakwa Gunggus Togar Manatar Pangaribuan alias Togar, baik sendiri maupun bersama-sama dengan Raihan Rahadi Azhar alias Raihan (terdakwa dalam berkas terpisah), pada 14 Maret 2023 sekitar pukul 12.00 WITA di kamar tahanan Blok B Rutan Kelas IIB Bangli, memesan narkotika golongan I berupa tembakau sintetis dari seorang bernama Zetas Networking (DPO). Terdakwa meminjam nama Raihan untuk menerima paket narkotika tersebut melalui jasa pengiriman JT. Setelah mentransfer uang sebesar Rp1.400.000 melalui OVO, Terdakwa meminta agar paket dikirim atas nama Raihan. Pada 16 Maret 2023, Raihan diamankan oleh petugas rutan saat menerima paket berisi dua bungkus tembakau sintetis, masing-masing dibungkus plastik bermerek Violin dan Rhino. Setelah diinterogasi, Raihan mengaku bahwa paket tersebut milik Terdakwa. Pemeriksaan barang bukti menunjukkan bahwa tembakau tersebut mengandung senyawa MDMB-4en PINACA yang tergolong dalam Narkotika Golongan I. Terdakwa tidak memiliki izin dari Menteri Kesehatan atau lembaga berwenang lainnya untuk memperjualbelikan atau menerima narkotika tersebut. Perbuatan Terdakwa didakwa dengan dakwaan pertama Pasal 114 Ayat (1) UU RI No. 35 Tahun 2009 tentang Narkotika jo. Pasal 55 Ayat (1) ke-1 KUHP, dakwaan kedua Pasal 112 Ayat (1) UU RI No. 35 Tahun 2009 Tentang Narkotika jo. Pasal 55 Ayat (1) ke-1 KUHP, dan dakwaan ketiga Pasal 111 Ayat (1) UU RI No. 35 Tahun 2009 Tentang Narkotika jo. Pasal 55 Ayat (1) ke-1 KUHP.",
         "GUNGGUS TOGAR MANATAR PANGARIBUAN alias TOGAR",
         "102.0"
        ],
        [
         "30",
         "4",
         "14",
         "0",
         "4",
         "- Uang tunai sebesar Rp 2.370.000,00 (dua juta tiga ratus tujuh puluh ribu rupiah)  Dirampas untuk Negara - 1 buah handuk warna biru  - 12 pasang kartu ceki paito - 4 bundel kartu ceki - 1 buah kotak kaleng/seng warna hitam silver - 1 lembar perlak warna putih  Dimusnahkan 6. Membebankan kepada Para Terdakwa membayar biaya perkara sejumlah Rp. 5.000,- (lima ribu rupiah)",
         "Pada hari Senin, 27 Maret 2023 sekitar pukul 21.30 WITA, terdakwa I Nyoman Rawas bersama I Ketut Sudima menyelenggarakan permainan judi cap jeki di lapangan terbuka di Banjar Kedisan, Desa Kedisan, Kecamatan Kintamani, Kabupaten Bangli. Kegiatan ini telah diberitahukan sebelumnya kepada para penjudi, dan terdakwa menyiapkan berbagai peralatan seperti perlak angka, handuk, kotak kaleng, kartu ceki, dan uang modal sebesar Rp 2.000.000. Dalam permainan tersebut, I Nyoman Rawas bertindak sebagai bandar yang mengendalikan jalannya permainan dan menentukan hasil, sementara I Ketut Sudima berperan sebagai kasir yang membayar kemenangan atau mengambil taruhan yang kalah. Permainan dilakukan dengan dua sistem, yaitu sistem “melok” (seri) dan “nyolot” (menang-kalah), yang masing-masing memiliki ketentuan kemenangan dan pembayarannya sendiri. Pada malam itu, para terdakwa melangsungkan enam putaran permainan dan memperoleh keuntungan sebesar Rp 370.000 sebelum akhirnya ditangkap oleh pihak kepolisian. Dari hasil penyelidikan, diketahui bahwa para terdakwa telah berulang kali menyelenggarakan permainan serupa di berbagai lokasi dan menjadikannya sebagai sumber penghasilan untuk kebutuhan sehari-hari. Seluruh kegiatan perjudian tersebut dilakukan tanpa izin resmi dan merupakan bentuk perjudian yang bersifat untung-untungan. Perbuatan Terdakwa didakwa dengan dakwaan primair Pasal 303 Ayat (1) ke-1 KUHP jo. Pasal 2 Undang-Undang No. 7 Tahun 1974 tentang Penertiban Perjudian, dan dakwaan subsidair Pasal 303 Ayat (1) ke-2 KUHP jo. Pasal 2 Undang-Undang No. 7 Tahun 1974 Tentang Penertiban Perjudian.",
         "I NYOMAN RAWAS",
         "7.0"
        ],
        [
         "31",
         "4",
         "14",
         "0",
         "4",
         "- Uang tunai sebesar Rp 2.370.000,00 (dua juta tiga ratus tujuh puluh ribu rupiah)  Dirampas untuk Negara - 1 buah handuk warna biru  - 12 pasang kartu ceki paito - 4 bundel kartu ceki - 1 buah kotak kaleng/seng warna hitam silver - 1 lembar perlak warna putih  Dimusnahkan 6. Membebankan kepada Para Terdakwa membayar biaya perkara sejumlah Rp. 5.000,- (lima ribu rupiah)",
         "Pada hari Senin, 27 Maret 2023 sekitar pukul 21.30 WITA, terdakwa I Nyoman Rawas bersama I Ketut Sudima menyelenggarakan permainan judi cap jeki di lapangan terbuka di Banjar Kedisan, Desa Kedisan, Kecamatan Kintamani, Kabupaten Bangli. Kegiatan ini telah diberitahukan sebelumnya kepada para penjudi, dan terdakwa menyiapkan berbagai peralatan seperti perlak angka, handuk, kotak kaleng, kartu ceki, dan uang modal sebesar Rp 2.000.000. Dalam permainan tersebut, I Nyoman Rawas bertindak sebagai bandar yang mengendalikan jalannya permainan dan menentukan hasil, sementara I Ketut Sudima berperan sebagai kasir yang membayar kemenangan atau mengambil taruhan yang kalah. Permainan dilakukan dengan dua sistem, yaitu sistem “melok” (seri) dan “nyolot” (menang-kalah), yang masing-masing memiliki ketentuan kemenangan dan pembayarannya sendiri. Pada malam itu, para terdakwa melangsungkan enam putaran permainan dan memperoleh keuntungan sebesar Rp 370.000 sebelum akhirnya ditangkap oleh pihak kepolisian. Dari hasil penyelidikan, diketahui bahwa para terdakwa telah berulang kali menyelenggarakan permainan serupa di berbagai lokasi dan menjadikannya sebagai sumber penghasilan untuk kebutuhan sehari-hari. Seluruh kegiatan perjudian tersebut dilakukan tanpa izin resmi dan merupakan bentuk perjudian yang bersifat untung-untungan. Perbuatan Terdakwa didakwa dengan dakwaan primair Pasal 303 Ayat (1) ke-1 KUHP jo. Pasal 2 Undang-Undang No. 7 Tahun 1974 tentang Penertiban Perjudian, dan dakwaan subsidair Pasal 303 Ayat (1) ke-2 KUHP jo. Pasal 2 Undang-Undang No. 7 Tahun 1974 Tentang Penertiban Perjudian.",
         "I KETUT SUDIMA",
         "6.0"
        ],
        [
         "32",
         "0",
         "13",
         "0",
         "3",
         "3 buah bahan dasar kain (Jaket) dengan rincian a. 1 buah Jaket Kain Merk FLAUA warna Abu-Abu, b. 1 buah Jaket Merk Nike warna Hitam, c. 1 buah Jaket semi parasut Merk ANDEW warna Hijau. 3 potong Tekstil (Celana) dengan rincian a. 1 buah celana panjang warna Abu-abu bertuliskan GINDY, b. 1 buah celana panjang warna Abu-abu bergambar Anjing, c. 1 buah celana panjang warna Hitam garis putih bertulikan ADIDAS. 1 buah Cincin Emas Permata Merah Muda. 1 pasang Sandal Merk Fipper Warna Coklat. 16 lembar Nota Pembelian Emas. 1 buah Kunci Pintu. Dikembalikan kepada Saksi I NYOMAN MAWA 1 buah Kunci Kontak SPM. 1 unit Kendaraan Bermotor DK 2086 PX, NOKA MH1JF13159K008359, NOSIN JF13E-0009553, TH 2009, WARNA PINK PUTIH. 1 lembar Surat Berharga (STNK) DK 2086 PX, NOKA MH1JF13159K008359, NOSIN JF13E-0009553, TH 2009, WARNA PINK PUTIH, AN. I NYOMAN MUSAH, ALAMAT LINGK/BR. KUBU BANGLI. Dikembalikan kepada Terdakwa 8. Membebankan kepada Terdakwa membayar biaya perkara sejumlah Rp5.000,00 (lima ribu rupiah)",
         "Pada hari Minggu, 4 Juli 2021 sekitar pukul 11.00 WITA, Terdakwa Ni Luh Puspa Dewi dalam perjalanan menuju ladang orang tuanya di Desa Suter, Bangli, melewati sebuah rumah kosong di Banjar Munduk Waru, Desa Buahan, Kintamani, dan timbul niat untuk mencuri. Setelah memastikan keadaan sekitar aman, terdakwa masuk ke rumah tersebut dan menemukan kunci di lemari kaca dalam salah satu kamar. Ia kemudian membuka kamar lain dengan kunci tersebut dan menemukan dompet biru bermotif bunga berisi berbagai perhiasan emas, termasuk kalung, gelang, cincin, dan anting-anting dengan total berat puluhan gram. Semua barang tersebut diambil dan disimpan di sakunya, lalu terdakwa meninggalkan lokasi. Perhiasan hasil curian dijual di Pasar Kidul kepada seorang wanita tak dikenal seharga Rp80.000.000, yang kemudian digunakan untuk kebutuhan sehari-hari dan membeli sejumlah pakaian, sandal, serta cincin emas. Berdasarkan laporan polisi tertanggal 6 Februari 2023, terdakwa akhirnya mengakui seluruh perbuatannya. Akibat kejadian ini, korban I Nyoman Mawa mengalami kerugian sekitar Rp80.000.000. Perbuatan Terdakwa didakwa dengan dakwaan primair Pasal 363 Ayat (1) ke-5 KUHP, dan dakwaan subsidair Pasal 362 KUHP.",
         "NI LUH PUSPA DEWI",
         "6.0"
        ],
        [
         "33",
         "0",
         "15",
         "4",
         "5",
         "1 buah kotak handphone Redmi Note 10 S 1 buah handphone merk Redmi Note 10 S warna Onyx Gray  Dikembalikan kepada I Wayan Suardana 1 buah kotak Handphone Redmi Note 7 6 lembar uang Rp100.000,00 (seratus ribu rupiah) dengan total Rp600.000,00 (enam ratus ribu rupiah)  Dikembalikan kepada I Wayan Panggih 1 buah tas pinggang merk Jungle Surf warna abu-abu  Dimusnahkan  6. Membebankan kepada Terdakwa membayar biaya perkara sejumlah Rp5.000,00 (lima ribu rupiah)",
         "Terdakwa I Wayan Nawa didakwa melakukan pencurian pada dua kesempatan berbeda di wilayah Kintamani, Bangli. Pada 2 Oktober 2022, setelah menjual salak, terdakwa menuju ke kebun milik I Wayan Suardana di Banjar Pludu, Desa Bayung Gede, dan berpura-pura menawarkan pupuk ayam. Saat korban lengah, terdakwa mencuri handphone Redmi Note 10S beserta uang tunai sekitar Rp400.000 yang disimpan di kandang sapi. Kemudian, pada 9 November 2022, terdakwa kembali melakukan pencurian di pondokan milik I Wayan Panggih di Desa Binyan dengan modus serupa. Setelah memastikan korban pergi, terdakwa mencuri handphone Redmi Note 7 yang sedang dicas. Kedua handphone tersebut dijual ke konter berbeda dengan total hasil sekitar Rp1.800.000, yang kemudian digunakan untuk kebutuhan sehari-hari. Berdasarkan laporan korban, polisi melakukan penyelidikan dan berhasil menangkap terdakwa pada 9 Februari 2023 di Karangasem. Akibat perbuatannya, korban I Wayan Suardana mengalami kerugian sekitar Rp3.400.000 dan I Wayan Panggih sekitar Rp3.000.000. Terdakwa dijerat dengan Pasal 362 KUHP jo. Pasal 65 Ayat (1) KUHP tentang pencurian yang dilakukan berulang kali.",
         "I Wayan Nawa",
         "6.0"
        ],
        [
         "34",
         "0",
         "13",
         "3",
         "5",
         "2 Gram Cincin emas dengan batu permata berwarna hitam Pecahan uang seratus ribu rupiah sebanyak 57 lembar (Rp.5.700.000,-) 1 Buah tas warna merah maroon bertuliskan Michael Kors 1.600 Gram Cincin emas dengan batu permata berwarna merah 1 Pcs Dompet warna merah muda kombinasi putih bertuliskan Toko Perhiasan Emas Ratna 14.400 Gram Kalung Emas Rantai Bola 2 Lembar Nota Pembelian Perhiasan Emas Toko Ratna 1 Buah Tas warna hitam bertuliskan Steve Madden Dikembalikan kepada Saksi Ni Jro Luh Putri 1 Potong Hoddie warna merah bertuliskan Getting To 90 4th Red Ribbon Flash Mob  Dimusnahkan - 1 Unit sepeda motor Yamaha Xeon warna hitam Dirampas untuk negara 6. Membebankan kepada Terdakwa membayar biaya perkara sejumlah Rp5.000,00 (lima ribu rupiah)",
         "Pada Sabtu, 28 Januari 2023, di Pemandian Tirta Usadha Toya Bungkah, Desa Batur Tengah, Kintamani, Bangli, terdakwa Jro Gede Budi didakwa melakukan pencurian. Setelah selesai berendam, terdakwa melihat sebuah tas hitam bertuliskan \"Steve Madden\" milik korban Ni Jro Luh Putri di bawah loker, lalu mengambilnya dan membawanya pulang menggunakan sepeda motor. Di perjalanan, terdakwa membuka tas tersebut dan menemukan tas merah maroon bertuliskan \"Michael Kors\" berisi uang tunai sebesar Rp5.700.000 serta sebuah dompet berisi perhiasan emas berupa kalung dan cincin, dan dua nota pembelian dari Toko Emas Ratna. Terdakwa mengambil Rp1.000.000 untuk dirinya dan menyembunyikan sisa uang serta perhiasan di bawah pohon di dekat rumahnya, sedangkan tas-tas tersebut disimpan di jok motor. Berdasarkan laporan korban, polisi berhasil mengamankan terdakwa beserta barang-barang bukti, termasuk sepeda motor dan hoodie yang digunakan untuk membungkus barang curian. Atas perbuatannya, korban mengalami kerugian sekitar Rp19.700.000, dan terdakwa dijerat dengan Pasal 362 KUHP tentang pencurian.",
         "JRO GEDE BUDI",
         "5.0"
        ],
        [
         "35",
         "0",
         "1",
         "4",
         "3",
         "1 unit sepeda motor yang sudah dimodifikasi (cetul) tanpa terpasang nomor registrasi / nomor polisi dan tidak dapat terdapat nomor rangka dan nomor mesin kendaraan Dikembalikan kepada I Gede Wiraguna 1 unit sepeda motor merek Kawasaki tipe LX 150 C, warna hitam kombinasi kuning, tahun pembuatan 2010, tanpa terpasang nomor registrasi / nomor polisi, Noka MH4LX150CAKP15705, Nosin LX150CEP19759 1 lembar SNTK sepeda motor merek Kawasaki tipe LX 150 C, warna hijau, tahun pembuatan 2010, nomor registrasi / nomor polisi DK 8164 IQ, Noka MH4LX150CAKP15705, Nosin LX150CEP19759, a.n. Chrisnawati, alamat Jl. Surabaya D, 6/20 Puri Gading, Jimbaran, Kuta Badung dan 1 buah buku BPKB, No H-0 2625520, DK 8164 IQ, merek Kawasaki tipe LX 150 C, Noka MH4LX150CAKP15705, Nosin LX150CEP19759, a.n. Chrisnawati, alamat Jl. Surabaya D, 6/20 Puri Gading, Jimbaran, Kuta Badung Dikembalikan kepada I Wayan Eva Kusuma Putra 6. Membebankan kepada Para Terdakwa membayar biaya perkara masing-masing sejumlah Rp5.000,00 (lima ribu rupiah)",
         "Pada Minggu, 11 Desember 2022 sekitar pukul 00.30 WITA, terdakwa I Rifqi Abdurahman dan terdakwa II Gunawan melakukan pencurian sepeda motor di pinggir Jalan Raya Kayuambua, Bangli. Sebelumnya, pada 10 Desember 2022, terdakwa II meminta terdakwa I mencarikan sepeda motor Kawasaki KLX untuk dibeli seharga Rp3.000.000. Keduanya lalu berangkat ke daerah Kintamani dengan sepeda motor modifikasi tanpa nomor polisi. Saat tiba di lokasi, mereka melihat motor Kawasaki KLX 150 C tanpa nomor polisi dan kunci kontak, lalu terdakwa I mendorong motor tersebut menjauh sementara terdakwa II mengawasi. Karena motor cetul milik terdakwa II rusak, terdakwa I mendorong motor sendirian dan sempat dicegat dua saksi yang curiga. Setelah berhasil menyalakan motor dan mengendarainya sejauh 100 meter, motor mogok karena kehabisan bensin. Terdakwa I lalu mendorong ke SPBU Sekardadi dan tertidur di sana. Sementara itu, saksi korban mengonfirmasi kehilangan motornya dan bersama saksi lainnya serta polisi, menemukan terdakwa I di SPBU. Polisi kemudian menangkap terdakwa II di Desa Dumilih saat tertidur di emper toko. Akibat perbuatan para terdakwa, korban I Wayan Eva Kusuma Putra mengalami kerugian sekitar Rp16.000.000. Perbuatan Terdakwa didakwa dengan dakwaan primair Pasal 363 Ayat (1) ke-4 KUHP, dan dakwaan subsidair Pasal 362 KUHP.",
         "RIFQI ABDURAHMAN",
         "8.0"
        ],
        [
         "36",
         "0",
         "1",
         "4",
         "3",
         "1 unit sepeda motor yang sudah dimodifikasi (cetul) tanpa terpasang nomor registrasi / nomor polisi dan tidak dapat terdapat nomor rangka dan nomor mesin kendaraan Dikembalikan kepada I Gede Wiraguna 1 unit sepeda motor merek Kawasaki tipe LX 150 C, warna hitam kombinasi kuning, tahun pembuatan 2010, tanpa terpasang nomor registrasi / nomor polisi, Noka MH4LX150CAKP15705, Nosin LX150CEP19759 1 lembar SNTK sepeda motor merek Kawasaki tipe LX 150 C, warna hijau, tahun pembuatan 2010, nomor registrasi / nomor polisi DK 8164 IQ, Noka MH4LX150CAKP15705, Nosin LX150CEP19759, a.n. Chrisnawati, alamat Jl. Surabaya D, 6/20 Puri Gading, Jimbaran, Kuta Badung dan 1 buah buku BPKB, No H-0 2625520, DK 8164 IQ, merek Kawasaki tipe LX 150 C, Noka MH4LX150CAKP15705, Nosin LX150CEP19759, a.n. Chrisnawati, alamat Jl. Surabaya D, 6/20 Puri Gading, Jimbaran, Kuta Badung Dikembalikan kepada I Wayan Eva Kusuma Putra 6. Membebankan kepada Para Terdakwa membayar biaya perkara masing-masing sejumlah Rp5.000,00 (lima ribu rupiah)",
         "Pada Minggu, 11 Desember 2022 sekitar pukul 00.30 WITA, terdakwa I Rifqi Abdurahman dan terdakwa II Gunawan melakukan pencurian sepeda motor di pinggir Jalan Raya Kayuambua, Bangli. Sebelumnya, pada 10 Desember 2022, terdakwa II meminta terdakwa I mencarikan sepeda motor Kawasaki KLX untuk dibeli seharga Rp3.000.000. Keduanya lalu berangkat ke daerah Kintamani dengan sepeda motor modifikasi tanpa nomor polisi. Saat tiba di lokasi, mereka melihat motor Kawasaki KLX 150 C tanpa nomor polisi dan kunci kontak, lalu terdakwa I mendorong motor tersebut menjauh sementara terdakwa II mengawasi. Karena motor cetul milik terdakwa II rusak, terdakwa I mendorong motor sendirian dan sempat dicegat dua saksi yang curiga. Setelah berhasil menyalakan motor dan mengendarainya sejauh 100 meter, motor mogok karena kehabisan bensin. Terdakwa I lalu mendorong ke SPBU Sekardadi dan tertidur di sana. Sementara itu, saksi korban mengonfirmasi kehilangan motornya dan bersama saksi lainnya serta polisi, menemukan terdakwa I di SPBU. Polisi kemudian menangkap terdakwa II di Desa Dumilih saat tertidur di emper toko. Akibat perbuatan para terdakwa, korban I Wayan Eva Kusuma Putra mengalami kerugian sekitar Rp16.000.000. Perbuatan Terdakwa didakwa dengan dakwaan primair Pasal 363 Ayat (1) ke-4 KUHP, dan dakwaan subsidair Pasal 362 KUHP.",
         "GUNAWAN",
         "8.0"
        ],
        [
         "37",
         "0",
         "16",
         "0",
         "6",
         "1 unit sepeda motor honda vario tahun 2011, warna merah silver DK 7917 UR, Noka MH1JF8119BK338944, Nosin JF81E-1337110 beserta anak kunci 1 STNK sepeda motor honda vario tahun 2011, warna merah silver DK 7917 UR, Noka MH1JF8119BK338944, Nosin JF81E-1337110 dikembalikan kepada yang berhak melalui Terdakwa 4 ekor ayam aduan warna merah (biying) 1 ekor ayam aduan warna coklat (klau) dikembalikan kepada I WAYAN SUKADA dan I MADE TERUS 4 buah karung warna putih dimusnahkan 6. Membebankan kepada Terdakwa membayar biaya perkara sejumlah Rp5.000,00 (lima ribu rupiah)",
         "Terdakwa Gede Kastawa didakwa melakukan serangkaian tindak pidana pencurian ayam di wilayah Kintamani, Bangli, pada bulan Oktober 2022. Pada 21 Oktober 2022, terdakwa mencuri 6 ekor ayam dari belakang rumah korban I Wayan Sukada di Desa Belantih, lalu menjualnya di Pasar Anyar Singaraja seharga Rp800.000. Hasil penjualan digunakan untuk membeli ayam aduan dan berjudi. Kemudian, pada 28 Oktober 2022, terdakwa mencuri 15 ekor ayam milik korban I Made Terus dari kebun jeruk di Desa Belanga, yang kembali dijual dan hasilnya dipakai untuk berjudi. Selanjutnya, pada 30 Oktober 2022, terdakwa beraksi di pondokan milik korban I Wayan Lusin di Desa Belanga, mencuri seekor ayam namun aksinya diketahui oleh saksi dan warga sehingga berhasil diamankan. Total kerugian para korban mencapai sekitar Rp3.500.000. Terdakwa mengaku melakukan pencurian karena alasan ekonomi. Perbuatannya diancam pidana sesuai Pasal 362 jo. Pasal 65 Ayat (1) KUHP.",
         "Gede Kastawa",
         "30.0"
        ],
        [
         "38",
         "0",
         "17",
         "0",
         "6",
         "1 unit sepeda motor honda vario tahun 2011, warna merah silver DK 7917 UR, Noka MH1JF8119BK338944, Nosin JF81E-1337110 beserta anak kunci 1 STNK sepeda motor honda vario tahun 2011, warna merah silver DK 7917 UR, Noka MH1JF8119BK338944, Nosin JF81E-1337110 dikembalikan kepada yang berhak melalui Terdakwa 4 ekor ayam aduan warna merah (biying) 1 ekor ayam aduan warna coklat (klau) dikembalikan kepada I WAYAN SUKADA dan I MADE TERUS 4 buah karung warna putih dimusnahkan 6. Membebankan kepada Terdakwa membayar biaya perkara sejumlah Rp5.000,00 (lima ribu rupiah)",
         "Terdakwa Gede Kastawa didakwa melakukan serangkaian tindak pidana pencurian ayam di wilayah Kintamani, Bangli, pada bulan Oktober 2022. Pada 21 Oktober 2022, terdakwa mencuri 6 ekor ayam dari belakang rumah korban I Wayan Sukada di Desa Belantih, lalu menjualnya di Pasar Anyar Singaraja seharga Rp800.000. Hasil penjualan digunakan untuk membeli ayam aduan dan berjudi. Kemudian, pada 28 Oktober 2022, terdakwa mencuri 15 ekor ayam milik korban I Made Terus dari kebun jeruk di Desa Belanga, yang kembali dijual dan hasilnya dipakai untuk berjudi. Selanjutnya, pada 30 Oktober 2022, terdakwa beraksi di pondokan milik korban I Wayan Lusin di Desa Belanga, mencuri seekor ayam namun aksinya diketahui oleh saksi dan warga sehingga berhasil diamankan. Total kerugian para korban mencapai sekitar Rp3.500.000. Terdakwa mengaku melakukan pencurian karena alasan ekonomi. Perbuatannya diancam pidana sesuai Pasal 362 jo. Pasal 65 Ayat (1) KUHP.",
         "Gede Kastawa",
         "30.0"
        ],
        [
         "39",
         "0",
         "18",
         "0",
         "5",
         "3 ekor anak babi dengan bulu berwarna putih 1 buah karung plastic merk novo berwarna putih  dikembalikan kepada Saksi Komang Sucitra  6. Membebankan kepada Terdakwa membayar biaya perkara sejumlah Rp5.000,- (lima ribu rupiah)",
         "Terdakwa Elias Fanggi didakwa melakukan pencurian tiga ekor anak babi milik saksi I Komang Sucitra pada Sabtu, 27 Maret 2021 sekitar pukul 22.30 WITA di kandang babi yang terletak di Desa Abuan, Kecamatan Kintamani, Kabupaten Bangli. Awalnya, terdakwa datang ke kandang pada sore hari untuk membersihkan tempat tersebut. Namun pada malam harinya, terdakwa masuk ke dalam kandang melalui pintu yang tidak terkunci, lalu mengambil tiga ekor anak babi dan memasukkannya ke dalam karung plastik yang telah disiapkannya. Ia kemudian membawa hasil curian itu dengan sepeda motor milik saksi Leonardus Pendi dengan maksud untuk dijual. Aksi tersebut diketahui oleh pemilik kandang, yang kemudian melaporkan terdakwa ke pihak berwajib. Akibat perbuatan tersebut, saksi I Komang Sucitra mengalami kerugian sebesar Rp3.600.000. Perbuatan Terdakwa didakwa dengan dakwaan primair Pasal 363 Ayat (1) ke-1 KUHP, dan dakwaan subsidair Pasal 374 KUHP.",
         "Elias Fanggi",
         "6.0"
        ],
        [
         "40",
         "0",
         "19",
         "0",
         "5",
         "3 ekor anak babi dengan bulu berwarna putih 1 buah karung plastic merk novo berwarna putih  dikembalikan kepada Saksi Komang Sucitra  6. Membebankan kepada Terdakwa membayar biaya perkara sejumlah Rp5.000,- (lima ribu rupiah)",
         "Terdakwa Elias Fanggi didakwa melakukan pencurian tiga ekor anak babi milik saksi I Komang Sucitra pada Sabtu, 27 Maret 2021 sekitar pukul 22.30 WITA di kandang babi yang terletak di Desa Abuan, Kecamatan Kintamani, Kabupaten Bangli. Awalnya, terdakwa datang ke kandang pada sore hari untuk membersihkan tempat tersebut. Namun pada malam harinya, terdakwa masuk ke dalam kandang melalui pintu yang tidak terkunci, lalu mengambil tiga ekor anak babi dan memasukkannya ke dalam karung plastik yang telah disiapkannya. Ia kemudian membawa hasil curian itu dengan sepeda motor milik saksi Leonardus Pendi dengan maksud untuk dijual. Aksi tersebut diketahui oleh pemilik kandang, yang kemudian melaporkan terdakwa ke pihak berwajib. Akibat perbuatan tersebut, saksi I Komang Sucitra mengalami kerugian sebesar Rp3.600.000. Perbuatan Terdakwa didakwa dengan dakwaan primair Pasal 363 Ayat (1) ke-1 KUHP, dan dakwaan subsidair Pasal 374 KUHP.",
         "Elias Fanggi",
         "6.0"
        ],
        [
         "41",
         "0",
         "19",
         "0",
         "15",
         "1 buah mesin penggerak pompa air merk GENERAL beserta 1 buah pompa Sanchin 1 buah tali kipas Dikembalikan kepada I WAYAN SUTIANA 1 buah mesin penggerak pompa air merk GENERAL beserta 1 buah pompa Sanchin 1 buah tali kipas 1 pasang sepatu boat warna hijau tua Dikembalikan kepada I NENGAH SAPA 1 buah mesin penggerak pompa air merk GENERAL beserta 1 buah pompa Sanchin 1 buah tali kipas 2 buah selang warna orange Dikembalikan kepada I KETUT SUDADI 1 buah mesin penggerak pompa air merk PRIMA beserta 1 buah pompa Sanchin merk Pro Quip 1 buah tali kipas Dikembalikan kepada I WAYAN RAMANTO 1 buah mesin penggerak pompa air merk PRO QUIP beserta 1 buah pompa Sanchin merk Tanika 1 buah tali kipas DIkembalikan kepada I MADE SADSWADARMA 1 buah mesin pompa air merk Honda lengkap dengan pompa sanchin 1 buah tali kipas Dikembalikan I KETUT CAREM 1 buah mesin pompa air merk Robin lengkap dengan pompa sanchin 1 buah tali kipas Dikembalikan kepada I NYOMAN BIRAWAN 1 buah mesin pompa air merk Robin lengkap dengan pompa sanchin 1 buah tali kipas Dikembalikan kepada NI NENGAH SUANTINI 1 buah mesin pemotong kayu (Senzo) merk Still Dikembalikan kepada I NYOMAN KENEH 1 buah mesin pemotong rumput merk Harry Dikembalikan kepada I WAYAN DARMA 1 buah kompor gas merk Rinai 1 buah tabung gas isi 3 kg Dikembalikan kepada NI KETUT SUPADMI 1 unit sepeda motor Honda Genio warna abu-abu DK 5756 PX beserta kunci kontak 1 lembar STNK sepeda motor Honda Genio warna abu-abu DK 5756 PX nomor rangka MH1JM611XKK105164, nomor mesin JM61E- 1105196, tahun pembuatan 2019 atas nama I WAYAN EDI RUSMAWAN 1 set kunci peralatan bengkel terdiri dari 1 set kunci L, 1 buah tang, 1 buah kunci engkol, 5 buah kunci pas, 1 buah obeng, 2 buah kunci T Dikembalikan kepada Penuntut Umum untuk dijadikan barang bukti dalam perkara lain Uang tunai Rp 250.000,00 (dua ratus lima puluh ribu rupiah) Dirampas untuk negara 3 buah karung plastik (kampil) 1 gulung tali plastik rapia warna merah muda 2 buah selang warna bening Dimusnahkan  6. Membebankan kepada Terdakwa membayar biaya perkara sejumlah Rp5.000,00 (lima ribu rupiah)",
         "Terdakwa I Wayan Edi Rusmawan didakwa melakukan serangkaian pencurian antara bulan Juni 2020 hingga Januari 2021 di berbagai lokasi di wilayah Kecamatan Kintamani, Kabupaten Bangli. Terdakwa mengambil barang-barang milik sejumlah korban di antaranya I Wayan Sutiana, I Ketut Carem, I Ketut Sudadi, I Nyoman Keneh, Ni Nengah Suantini, I Nyoman Birawan, Ni Ketut Supadmi, I Wayan Darma, I Wayan Ramanto, I Nengah Sapa, dan I Made Sadswadarma. Aksi pencurian tersebut dilakukan terdakwa dengan cara merusak, memanjat, atau masuk secara diam-diam ke kebun, pondokan, warung, dan gudang milik para korban, dengan maksud untuk memiliki barang-barang tersebut secara melawan hukum. Karena dilakukan berulang kali di tempat dan waktu yang berbeda, perbuatan terdakwa dianggap sebagai beberapa kejahatan yang berdiri sendiri. Perbuatan Terdakwa didakwa dengan dakwaan primair Pasal 363 Ayat (1) ke-5 KUHP jo. Pasal 65 ayat (1) KUHP, dan dakwaan subsidair Pasal 362 KUHP Jo Pasal 65 Ayat (1) KUHP.",
         "I Wayan Edi Rusmawan",
         "24.0"
        ],
        [
         "42",
         "0",
         "20",
         "0",
         "15",
         "1 buah mesin penggerak pompa air merk GENERAL beserta 1 buah pompa Sanchin 1 buah tali kipas Dikembalikan kepada I WAYAN SUTIANA 1 buah mesin penggerak pompa air merk GENERAL beserta 1 buah pompa Sanchin 1 buah tali kipas 1 pasang sepatu boat warna hijau tua Dikembalikan kepada I NENGAH SAPA 1 buah mesin penggerak pompa air merk GENERAL beserta 1 buah pompa Sanchin 1 buah tali kipas 2 buah selang warna orange Dikembalikan kepada I KETUT SUDADI 1 buah mesin penggerak pompa air merk PRIMA beserta 1 buah pompa Sanchin merk Pro Quip 1 buah tali kipas Dikembalikan kepada I WAYAN RAMANTO 1 buah mesin penggerak pompa air merk PRO QUIP beserta 1 buah pompa Sanchin merk Tanika 1 buah tali kipas DIkembalikan kepada I MADE SADSWADARMA 1 buah mesin pompa air merk Honda lengkap dengan pompa sanchin 1 buah tali kipas Dikembalikan I KETUT CAREM 1 buah mesin pompa air merk Robin lengkap dengan pompa sanchin 1 buah tali kipas Dikembalikan kepada I NYOMAN BIRAWAN 1 buah mesin pompa air merk Robin lengkap dengan pompa sanchin 1 buah tali kipas Dikembalikan kepada NI NENGAH SUANTINI 1 buah mesin pemotong kayu (Senzo) merk Still Dikembalikan kepada I NYOMAN KENEH 1 buah mesin pemotong rumput merk Harry Dikembalikan kepada I WAYAN DARMA 1 buah kompor gas merk Rinai 1 buah tabung gas isi 3 kg Dikembalikan kepada NI KETUT SUPADMI 1 unit sepeda motor Honda Genio warna abu-abu DK 5756 PX beserta kunci kontak 1 lembar STNK sepeda motor Honda Genio warna abu-abu DK 5756 PX nomor rangka MH1JM611XKK105164, nomor mesin JM61E- 1105196, tahun pembuatan 2019 atas nama I WAYAN EDI RUSMAWAN 1 set kunci peralatan bengkel terdiri dari 1 set kunci L, 1 buah tang, 1 buah kunci engkol, 5 buah kunci pas, 1 buah obeng, 2 buah kunci T Dikembalikan kepada Penuntut Umum untuk dijadikan barang bukti dalam perkara lain Uang tunai Rp 250.000,00 (dua ratus lima puluh ribu rupiah) Dirampas untuk negara 3 buah karung plastik (kampil) 1 gulung tali plastik rapia warna merah muda 2 buah selang warna bening Dimusnahkan  6. Membebankan kepada Terdakwa membayar biaya perkara sejumlah Rp5.000,00 (lima ribu rupiah)",
         "Terdakwa I Wayan Edi Rusmawan didakwa melakukan serangkaian pencurian antara bulan Juni 2020 hingga Januari 2021 di berbagai lokasi di wilayah Kecamatan Kintamani, Kabupaten Bangli. Terdakwa mengambil barang-barang milik sejumlah korban di antaranya I Wayan Sutiana, I Ketut Carem, I Ketut Sudadi, I Nyoman Keneh, Ni Nengah Suantini, I Nyoman Birawan, Ni Ketut Supadmi, I Wayan Darma, I Wayan Ramanto, I Nengah Sapa, dan I Made Sadswadarma. Aksi pencurian tersebut dilakukan terdakwa dengan cara merusak, memanjat, atau masuk secara diam-diam ke kebun, pondokan, warung, dan gudang milik para korban, dengan maksud untuk memiliki barang-barang tersebut secara melawan hukum. Karena dilakukan berulang kali di tempat dan waktu yang berbeda, perbuatan terdakwa dianggap sebagai beberapa kejahatan yang berdiri sendiri. Perbuatan Terdakwa didakwa dengan dakwaan primair Pasal 363 Ayat (1) ke-5 KUHP jo. Pasal 65 ayat (1) KUHP, dan dakwaan subsidair Pasal 362 KUHP Jo Pasal 65 Ayat (1) KUHP.",
         "I Wayan Edi Rusmawan",
         "24.0"
        ],
        [
         "43",
         "2",
         "21",
         "5",
         "4",
         "1 buah plastik klip bening yang berisi serbuk kristal yang diduga Narkotika golongan I jenis shabu dengan berat 0,44 bruto atau 0,20 gram netto 1 buah bekas bungkus rokok Marlboro warna putih 1 buah handphone merk XIOMI tipe redmi 4x warna hitam Dimusnahkan 1 unit sepeda motor Honda beat DK 6017 QD warna Hitam 1 buah STNK sepeda Honda beat DK 6017 QD warna Hitam an NI MADE DWI YANTI WIDIANI 1 buah kunci kontak Dikembalikan kepada pemiliknya melalui Terdakwa II. Irga Krisna Haryanto R 6. Membebankan kepada Para Terdakwa membayar biaya perkara masing-masing sejumlah Rp5.000,00 (lima ribu rupiah)",
         "Terdakwa Anjar Ruchimat dan Irga Krisna Haryanto R, pada 4 Februari 2020 sekitar pukul 21.30 WITA di pinggir Jalan Raya Merdeka, Bebalang, Bangli, diduga melakukan permufakatan jahat bersama seorang bernama Made Bleteng (DPO) untuk memiliki, menyimpan, menguasai, atau menyediakan Narkotika Golongan I bukan tanaman tanpa hak. Selain itu, Anjar Ruchimat juga terbukti menggunakan narkotika untuk diri sendiri pada 1 Februari 2020 sekitar pukul 15.00 WITA di sebuah penginapan di Kuta, Badung. Demikian pula, Irga Krisna Haryanto R menggunakan narkotika untuk diri sendiri pada 28 Januari 2020 sekitar pukul 22.30 WITA di kamar kontrakannya di Dalung, Badung. Meskipun tempat kejadian perkara berada di wilayah hukum Pengadilan Negeri Denpasar, perkara ini diperiksa oleh Pengadilan Negeri Bangli berdasarkan ketentuan Pasal 84 ayat (2) KUHAP. Perbuatan para terdakwa diancam pidana berdasarkan Pasal 132 Ayat (1) jo. Pasal 112 Ayat (1), serta Pasal 127 Ayat (1) huruf a UU RI No. 35 Tahun 2009 tentang Narkotika.",
         "ANJAR RUCHIMAT",
         "16.0"
        ],
        [
         "44",
         "2",
         "21",
         "5",
         "4",
         "1 buah plastik klip bening yang berisi serbuk kristal yang diduga Narkotika golongan I jenis shabu dengan berat 0,44 bruto atau 0,20 gram netto 1 buah bekas bungkus rokok Marlboro warna putih 1 buah handphone merk XIOMI tipe redmi 4x warna hitam Dimusnahkan 1 unit sepeda motor Honda beat DK 6017 QD warna Hitam 1 buah STNK sepeda Honda beat DK 6017 QD warna Hitam an NI MADE DWI YANTI WIDIANI 1 buah kunci kontak Dikembalikan kepada pemiliknya melalui Terdakwa II. Irga Krisna Haryanto R 6. Membebankan kepada Para Terdakwa membayar biaya perkara masing-masing sejumlah Rp5.000,00 (lima ribu rupiah)",
         "Terdakwa Anjar Ruchimat dan Irga Krisna Haryanto R, pada 4 Februari 2020 sekitar pukul 21.30 WITA di pinggir Jalan Raya Merdeka, Bebalang, Bangli, diduga melakukan permufakatan jahat bersama seorang bernama Made Bleteng (DPO) untuk memiliki, menyimpan, menguasai, atau menyediakan Narkotika Golongan I bukan tanaman tanpa hak. Selain itu, Anjar Ruchimat juga terbukti menggunakan narkotika untuk diri sendiri pada 1 Februari 2020 sekitar pukul 15.00 WITA di sebuah penginapan di Kuta, Badung. Demikian pula, Irga Krisna Haryanto R menggunakan narkotika untuk diri sendiri pada 28 Januari 2020 sekitar pukul 22.30 WITA di kamar kontrakannya di Dalung, Badung. Meskipun tempat kejadian perkara berada di wilayah hukum Pengadilan Negeri Denpasar, perkara ini diperiksa oleh Pengadilan Negeri Bangli berdasarkan ketentuan Pasal 84 ayat (2) KUHAP. Perbuatan para terdakwa diancam pidana berdasarkan Pasal 132 Ayat (1) jo. Pasal 112 Ayat (1), serta Pasal 127 Ayat (1) huruf a UU RI No. 35 Tahun 2009 tentang Narkotika.",
         "IRGA KRISNA HARYANTO R",
         "16.0"
        ],
        [
         "45",
         "2",
         "21",
         "6",
         "6",
         "1 buah plastik klip bening yang berisi serbuk kristal yang diduga narkotika golongan I jenis shabu dengan berat 0,96 gram bruto atau 0,80 gram netto. 1 buah plastik klip bening yang berisi serbuk kristal yang diduga narkotika golongan I jenis shabu dengan berat 0,21 gram bruto atau 0,05 gram netto. 1 buah tas Pinggang merk OAKLEY warna abu abu. 1 buah selotip kecil bening. 1 Handphone merk IPHONE 5 warna gold. 1 buah gunting. 10 lembar bukti Transfer Bank BCA. 1 potong Lakban warna kuning. 1 buah buku kecil yang berisi catatan utang. 1 lembar kertas aluminium foil. 1 buah kulit rokok sampoerna mild. Dimusnahkan. 1 buah sepeda motor merk Yamaha Xeon warna putih DK 6331 AQ. 1 buah STNK sepeda motor merk Yamaha Xeon warna putih DK 6331 AQ, atas nama KETUT YARIYANI. 1 buah kunci kontak. Dikembalikan kepada yang berhak melalui Terdakwa Fenny Yanthi Esmidar. Uang tunai sebesar Rp. 50.000,- (lima puluh ribu rupiah). Dirampas untuk negara.  6. Membebankan kepada Terdakwa membayar biaya perkara sejumlah Rp 5.000,- (lima ribu rupiah)",
         "Terdakwa Fenny Yanthi Esmidar pada Kamis, 9 Januari 2020 sekitar pukul 23.15 WITA ditangkap di Gang Buntu, belakang Alfamart Jalan Brigjen Ngurah Rai, Bangli, saat baru saja mengambil narkotika jenis sabu yang disembunyikan di semak-semak. Penangkapan dilakukan oleh anggota Satresnarkoba Polres Bangli setelah menerima informasi dari masyarakat. Sebelumnya, terdakwa dihubungi oleh seseorang bernama Desi untuk mengambil narkotika di lokasi tersebut. Dari hasil penggeledahan, ditemukan dua paket sabu dengan berat netto masing-masing 0,08 gram dan 0,05 gram, yang disimpan dalam bungkus rokok dan tas milik terdakwa. Berdasarkan hasil pemeriksaan laboratorium forensik, kedua paket tersebut positif mengandung metamfetamina yang termasuk dalam Narkotika Golongan I. Namun, hasil tes urine terdakwa menunjukkan negatif narkotika/psikotropika. Perbuatan Terdakwa didakwa dengan dakwaan pertama Pasal 114 Ayat (1) UU RI No. 35 Tahun 2009 tentang Narkotika, dan dakwaan kedua Pasal 112 Ayat (1) UU RI No. 35 Tahun 2009 Tentang Narkotika.",
         "FENNY YANTHI ESMIDAR",
         "102.0"
        ],
        [
         "46",
         "0",
         "22",
         "7",
         "4",
         "2 ekor hewan ternak sapi betina, bulu bagian tubuh berwarna coklat, bulu pada bagian kaki dan bokong berwarna putih, berat masing-masing sekira 250 Kg, umur sekira 1 tahun 6 bulan. Uang sebesar Rp. 4.656.000,- (empat juta enam ratus lima puluh enam ribu rupiah). 2 utas tali plastic warna biru dengan panjang masing-masing tali sekira 3 meter .  Dikembalikan kepada korban I WAYAN KASIR. 1 unit mobil Mitsubishi Colt L 300 jenis pick up warna hitam dengan nomor polisi DK 9673 DJ, Noka MH32S6005AK703868, Nosin 2S6-707748 beserta kunci. 1 buah STNK mobil Mitsubishi Colt L 300 warna hitam dengan nomor polisi DK 9673 DJ Noka MH32S6005AK703868, Nosin 2S6-707748 atas nama AGUNG OKA ASTINI.  Dikembalikan kepada I NYOMAN BINTANG. 1 unit sepeda motor Yamaha Jupiter MX 135 warna hitam dengan nomor polisi DK 4664 RI Noka MHML300DP2R288738, Nosin 4D56C226379 beserta kunci. 1 buah STNK sepeda motor Yamaha Jupiter MX 135 warna hitam dengan nomor polisi DK 4664 RI Noka MHML300DP2R288738, Nosin 4D56C226379atas nama SANG PUTU BAOS.   Dikembalikan kepada Terdakwa I WAYAN SUDARPA. uang sebesar Rp. 15.500.000 hasil dari penjualan sapi   Dikembalikan kepada I NYOMAN SUTAPA. 2 lembar surat keterangan jual beli hewan dari pasar hewan bringkit warna hijau tertanggal 12 Februari 2020. Dirampas untuk dimusnahkan 5. Membebankan kepada terdakwa untuk membayar biaya perkara sejumlah Rp. 5.000,- (Lima ribu rupiah).",
         "Terdakwa I Wayan Sudarpa pada Rabu, 12 Februari 2020 sekitar pukul 01.00 WITA melakukan pencurian tiga ekor sapi milik I Wayan Kasir di Br. Tiying Desa, Desa Pengotan, Kecamatan Bangli. Aksi tersebut direncanakan sebelumnya bersama I Nyoman Bintang, dengan dalih ingin menjual sapi miliknya untuk membayar utang. Pada malam hari yang telah disepakati, terdakwa mendatangi kandang sapi korban dan secara bertahap membawa ketiga sapi tersebut ke mobil pick up milik I Nyoman Bintang yang menunggu di dekat lokasi. Sapi-sapi itu kemudian dibawa dan dijual di Pasar Bringkit, Badung. Dari hasil penjualan, terdakwa menerima uang sebesar Rp20.156.000 setelah dikurangi biaya operasional. Namun, diketahui sapi-sapi tersebut bukan milik terdakwa melainkan milik I Wayan Kasir, yang tidak pernah memberikan izin untuk pengambilan maupun penjualan. Akibat perbuatan terdakwa, korban mengalami kerugian sekitar Rp20.500.000. Tindakan terdakwa diancam pidana berdasarkan Pasal 363 Ayat (1) ke-1 KUHP.",
         "I WAYAN SUDARPA",
         "6.0"
        ],
        [
         "47",
         "4",
         "23",
         "8",
         "3",
         "Uang tunai sebesar Rp. 2.665.000,00. (dua juta enam ratus enam puluh lima ribu rupiah)  Dirampas untuk negara. 12 pasang kartu ceki paito  8 bendel kartu ceki  1 lembar handuk kotak-kotak warna hitam coklat  1 lembar perlak warna biru  2 buah kotak kaleng warna hitam  Dimusnahkan. Membebankan kepada para terdakwa untuk membayar biaya perkara masing-masing sebesar Rp. 5.000,00. (lima ribu rupiah)",
         "Pada tanggal 21 November 2018 sekitar pukul 18.00 WITA, terdakwa I Ketut Sarjana dan Wayan Suartaya mengadakan permainan judi cap jeki di halaman rumah Ketut Sarjana di Banjar Merta, Desa Awan, Kecamatan Kintamani, Kabupaten Bangli. Mereka menyiapkan berbagai alat perjudian seperti kotak kaleng, perlak, handuk, kartu ceki, serta menyediakan hadiah uang tunai sebesar Rp 5.000.000 bagi pemenang. Ketut Sarjana bertindak sebagai kasir sekaligus bandar yang membayar kemenangan dan mengambil uang taruhan pemain yang kalah, sedangkan Wayan Suartaya bertugas mengocok kartu ceki. Permainan dilakukan dengan dua sistem, yakni sistem \"melok\" (draw) dan \"nyolot\" (menang-kalah), yang masing-masing memiliki aturan dan hadiah berbeda. Saat permainan berlangsung, petugas dari Dit. Reskrimum POLDA Bali melakukan penggerebekan dan menemukan sejumlah barang bukti, termasuk kartu ceki, handuk, kotak kaleng, perlak, dan uang tunai Rp 2.665.000. Permainan judi cap jeki tersebut dilakukan tanpa izin dari pejabat yang berwenang. Perbuatan Terdakwa didakwa dengan dakwaan primair Pasal 303 Ayat (1) ke-1 KUHP jo. Pasal 2 Undang-Undang RI No. 7 Tahun 1974 tentang Penertiban Perjudian, dan dakwaan subsidair Pasal 303 Ayat (1) ke-2 KUHP, jo. Pasal 2 UU RI No. 7 Tahun 1974 Tentang Penertiban Perjudian.",
         "Wayan Suartaya",
         "5.0"
        ],
        [
         "48",
         "4",
         "24",
         "8",
         "3",
         "Uang tunai sebesar Rp. 2.665.000,00. (dua juta enam ratus enam puluh lima ribu rupiah)  Dirampas untuk negara. 12 pasang kartu ceki paito  8 bendel kartu ceki  1 lembar handuk kotak-kotak warna hitam coklat  1 lembar perlak warna biru  2 buah kotak kaleng warna hitam  Dimusnahkan. Membebankan kepada para terdakwa untuk membayar biaya perkara masing-masing sebesar Rp. 5.000,00. (lima ribu rupiah)",
         "Pada tanggal 21 November 2018 sekitar pukul 18.00 WITA, terdakwa I Ketut Sarjana dan Wayan Suartaya mengadakan permainan judi cap jeki di halaman rumah Ketut Sarjana di Banjar Merta, Desa Awan, Kecamatan Kintamani, Kabupaten Bangli. Mereka menyiapkan berbagai alat perjudian seperti kotak kaleng, perlak, handuk, kartu ceki, serta menyediakan hadiah uang tunai sebesar Rp 5.000.000 bagi pemenang. Ketut Sarjana bertindak sebagai kasir sekaligus bandar yang membayar kemenangan dan mengambil uang taruhan pemain yang kalah, sedangkan Wayan Suartaya bertugas mengocok kartu ceki. Permainan dilakukan dengan dua sistem, yakni sistem \"melok\" (draw) dan \"nyolot\" (menang-kalah), yang masing-masing memiliki aturan dan hadiah berbeda. Saat permainan berlangsung, petugas dari Dit. Reskrimum POLDA Bali melakukan penggerebekan dan menemukan sejumlah barang bukti, termasuk kartu ceki, handuk, kotak kaleng, perlak, dan uang tunai Rp 2.665.000. Permainan judi cap jeki tersebut dilakukan tanpa izin dari pejabat yang berwenang. Perbuatan Terdakwa didakwa dengan dakwaan primair Pasal 303 Ayat (1) ke-1 KUHP jo. Pasal 2 Undang-Undang RI No. 7 Tahun 1974 tentang Penertiban Perjudian, dan dakwaan subsidair Pasal 303 Ayat (1) ke-2 KUHP, jo. Pasal 2 UU RI No. 7 Tahun 1974 Tentang Penertiban Perjudian.",
         "Wayan Suartaya",
         "5.0"
        ],
        [
         "49",
         "4",
         "23",
         "8",
         "3",
         "Uang tunai sebesar Rp. 2.665.000,00. (dua juta enam ratus enam puluh lima ribu rupiah)  Dirampas untuk negara. 12 pasang kartu ceki paito  8 bendel kartu ceki  1 lembar handuk kotak-kotak warna hitam coklat  1 lembar perlak warna biru  2 buah kotak kaleng warna hitam  Dimusnahkan. Membebankan kepada para terdakwa untuk membayar biaya perkara masing-masing sebesar Rp. 5.000,00. (lima ribu rupiah)",
         "Pada tanggal 21 November 2018 sekitar pukul 18.00 WITA, terdakwa I Ketut Sarjana dan Wayan Suartaya mengadakan permainan judi cap jeki di halaman rumah Ketut Sarjana di Banjar Merta, Desa Awan, Kecamatan Kintamani, Kabupaten Bangli. Mereka menyiapkan berbagai alat perjudian seperti kotak kaleng, perlak, handuk, kartu ceki, serta menyediakan hadiah uang tunai sebesar Rp 5.000.000 bagi pemenang. Ketut Sarjana bertindak sebagai kasir sekaligus bandar yang membayar kemenangan dan mengambil uang taruhan pemain yang kalah, sedangkan Wayan Suartaya bertugas mengocok kartu ceki. Permainan dilakukan dengan dua sistem, yakni sistem \"melok\" (draw) dan \"nyolot\" (menang-kalah), yang masing-masing memiliki aturan dan hadiah berbeda. Saat permainan berlangsung, petugas dari Dit. Reskrimum POLDA Bali melakukan penggerebekan dan menemukan sejumlah barang bukti, termasuk kartu ceki, handuk, kotak kaleng, perlak, dan uang tunai Rp 2.665.000. Permainan judi cap jeki tersebut dilakukan tanpa izin dari pejabat yang berwenang. Perbuatan Terdakwa didakwa dengan dakwaan primair Pasal 303 Ayat (1) ke-1 KUHP jo. Pasal 2 Undang-Undang RI No. 7 Tahun 1974 tentang Penertiban Perjudian, dan dakwaan subsidair Pasal 303 Ayat (1) ke-2 KUHP, jo. Pasal 2 UU RI No. 7 Tahun 1974 Tentang Penertiban Perjudian.",
         "I Ketut Sarjana",
         "5.0"
        ]
       ],
       "shape": {
        "columns": 8,
        "rows": 4582
       }
      },
      "text/html": [
       "<div>\n",
       "<style scoped>\n",
       "    .dataframe tbody tr th:only-of-type {\n",
       "        vertical-align: middle;\n",
       "    }\n",
       "\n",
       "    .dataframe tbody tr th {\n",
       "        vertical-align: top;\n",
       "    }\n",
       "\n",
       "    .dataframe thead th {\n",
       "        text-align: right;\n",
       "    }\n",
       "</style>\n",
       "<table border=\"1\" class=\"dataframe\">\n",
       "  <thead>\n",
       "    <tr style=\"text-align: right;\">\n",
       "      <th></th>\n",
       "      <th>klasifikasi_perkara_encoded</th>\n",
       "      <th>penuntut_umum_encoded</th>\n",
       "      <th>hakim_encoded</th>\n",
       "      <th>jumlah_saksi</th>\n",
       "      <th>cleaned_barang_bukti</th>\n",
       "      <th>summarized_dakwaan</th>\n",
       "      <th>terdakwa</th>\n",
       "      <th>total_pidana_penjara_bulan</th>\n",
       "    </tr>\n",
       "  </thead>\n",
       "  <tbody>\n",
       "    <tr>\n",
       "      <th>0</th>\n",
       "      <td>0</td>\n",
       "      <td>0</td>\n",
       "      <td>0</td>\n",
       "      <td>6</td>\n",
       "      <td>1 buah sabit kecil dengan gagang dari kayu 1 b...</td>\n",
       "      <td>Terdakwa Gede Darmayasa didakwa telah melakuka...</td>\n",
       "      <td>GEDE DARMAYASA</td>\n",
       "      <td>5.0</td>\n",
       "    </tr>\n",
       "    <tr>\n",
       "      <th>1</th>\n",
       "      <td>1</td>\n",
       "      <td>1</td>\n",
       "      <td>1</td>\n",
       "      <td>4</td>\n",
       "      <td>1 lembar nota pembelian perhiasan kalung emas ...</td>\n",
       "      <td>Pada bulan Februari dan Maret 2024, terdakwa I...</td>\n",
       "      <td>IDA BAGUS MADE DARMA WIGUNA</td>\n",
       "      <td>24.0</td>\n",
       "    </tr>\n",
       "    <tr>\n",
       "      <th>2</th>\n",
       "      <td>0</td>\n",
       "      <td>0</td>\n",
       "      <td>2</td>\n",
       "      <td>6</td>\n",
       "      <td>1 buah Kotak/Box handphone merk OPPO type A53 ...</td>\n",
       "      <td>Terdakwa Handri Johanes pada Rabu, 24 April 20...</td>\n",
       "      <td>HANDRI JOHANAS</td>\n",
       "      <td>4.0</td>\n",
       "    </tr>\n",
       "    <tr>\n",
       "      <th>3</th>\n",
       "      <td>2</td>\n",
       "      <td>2</td>\n",
       "      <td>1</td>\n",
       "      <td>2</td>\n",
       "      <td>1 buah plastik klip bening yang berisi kristal...</td>\n",
       "      <td>Pada hari Minggu, 14 April 2024 sekitar pukul ...</td>\n",
       "      <td>I GEDE ARIADI alias BERNAD</td>\n",
       "      <td>14.0</td>\n",
       "    </tr>\n",
       "    <tr>\n",
       "      <th>4</th>\n",
       "      <td>2</td>\n",
       "      <td>3</td>\n",
       "      <td>1</td>\n",
       "      <td>2</td>\n",
       "      <td>1 buah plastik klip bening yang berisi kristal...</td>\n",
       "      <td>Pada hari Minggu, 14 April 2024 sekitar pukul ...</td>\n",
       "      <td>I GEDE ARIADI alias BERNAD</td>\n",
       "      <td>14.0</td>\n",
       "    </tr>\n",
       "    <tr>\n",
       "      <th>...</th>\n",
       "      <td>...</td>\n",
       "      <td>...</td>\n",
       "      <td>...</td>\n",
       "      <td>...</td>\n",
       "      <td>...</td>\n",
       "      <td>...</td>\n",
       "      <td>...</td>\n",
       "      <td>...</td>\n",
       "    </tr>\n",
       "    <tr>\n",
       "      <th>4577</th>\n",
       "      <td>2</td>\n",
       "      <td>373</td>\n",
       "      <td>134</td>\n",
       "      <td>2</td>\n",
       "      <td>1 buah kotak hitam di dalamnya ada 1 plastik k...</td>\n",
       "      <td>Pada Jumat, 31 Maret 2023, sekitar pukul 20.30...</td>\n",
       "      <td>NURUL FIQRI SUDIRMAN als KIKI bin SUDIRMAN</td>\n",
       "      <td>72.0</td>\n",
       "    </tr>\n",
       "    <tr>\n",
       "      <th>4578</th>\n",
       "      <td>0</td>\n",
       "      <td>387</td>\n",
       "      <td>123</td>\n",
       "      <td>2</td>\n",
       "      <td>1 unit Handphone Samsung A52 Dikembalikan kepa...</td>\n",
       "      <td>Pada hari Minggu, 28 Mei 2023, sekitar pukul 1...</td>\n",
       "      <td>SUPRIADI BIN RATIM</td>\n",
       "      <td>16.0</td>\n",
       "    </tr>\n",
       "    <tr>\n",
       "      <th>4579</th>\n",
       "      <td>0</td>\n",
       "      <td>389</td>\n",
       "      <td>123</td>\n",
       "      <td>2</td>\n",
       "      <td>1 unit Handphone Samsung A52 Dikembalikan kepa...</td>\n",
       "      <td>Pada hari Minggu, 28 Mei 2023, sekitar pukul 1...</td>\n",
       "      <td>SUPRIADI BIN RATIM</td>\n",
       "      <td>16.0</td>\n",
       "    </tr>\n",
       "    <tr>\n",
       "      <th>4580</th>\n",
       "      <td>0</td>\n",
       "      <td>387</td>\n",
       "      <td>123</td>\n",
       "      <td>2</td>\n",
       "      <td>1 unit Handphone Samsung A52 Dikembalikan kepa...</td>\n",
       "      <td>Pada hari Minggu, 28 Mei 2023, sekitar pukul 1...</td>\n",
       "      <td>ANWAR RURI BIN SYARIFUDIN USMAN</td>\n",
       "      <td>16.0</td>\n",
       "    </tr>\n",
       "    <tr>\n",
       "      <th>4581</th>\n",
       "      <td>0</td>\n",
       "      <td>389</td>\n",
       "      <td>123</td>\n",
       "      <td>2</td>\n",
       "      <td>1 unit Handphone Samsung A52 Dikembalikan kepa...</td>\n",
       "      <td>Pada hari Minggu, 28 Mei 2023, sekitar pukul 1...</td>\n",
       "      <td>ANWAR RURI BIN SYARIFUDIN USMAN</td>\n",
       "      <td>16.0</td>\n",
       "    </tr>\n",
       "  </tbody>\n",
       "</table>\n",
       "<p>4582 rows × 8 columns</p>\n",
       "</div>"
      ],
      "text/plain": [
       "      klasifikasi_perkara_encoded  penuntut_umum_encoded  hakim_encoded  \\\n",
       "0                               0                      0              0   \n",
       "1                               1                      1              1   \n",
       "2                               0                      0              2   \n",
       "3                               2                      2              1   \n",
       "4                               2                      3              1   \n",
       "...                           ...                    ...            ...   \n",
       "4577                            2                    373            134   \n",
       "4578                            0                    387            123   \n",
       "4579                            0                    389            123   \n",
       "4580                            0                    387            123   \n",
       "4581                            0                    389            123   \n",
       "\n",
       "      jumlah_saksi                               cleaned_barang_bukti  \\\n",
       "0                6  1 buah sabit kecil dengan gagang dari kayu 1 b...   \n",
       "1                4  1 lembar nota pembelian perhiasan kalung emas ...   \n",
       "2                6  1 buah Kotak/Box handphone merk OPPO type A53 ...   \n",
       "3                2  1 buah plastik klip bening yang berisi kristal...   \n",
       "4                2  1 buah plastik klip bening yang berisi kristal...   \n",
       "...            ...                                                ...   \n",
       "4577             2  1 buah kotak hitam di dalamnya ada 1 plastik k...   \n",
       "4578             2  1 unit Handphone Samsung A52 Dikembalikan kepa...   \n",
       "4579             2  1 unit Handphone Samsung A52 Dikembalikan kepa...   \n",
       "4580             2  1 unit Handphone Samsung A52 Dikembalikan kepa...   \n",
       "4581             2  1 unit Handphone Samsung A52 Dikembalikan kepa...   \n",
       "\n",
       "                                     summarized_dakwaan  \\\n",
       "0     Terdakwa Gede Darmayasa didakwa telah melakuka...   \n",
       "1     Pada bulan Februari dan Maret 2024, terdakwa I...   \n",
       "2     Terdakwa Handri Johanes pada Rabu, 24 April 20...   \n",
       "3     Pada hari Minggu, 14 April 2024 sekitar pukul ...   \n",
       "4     Pada hari Minggu, 14 April 2024 sekitar pukul ...   \n",
       "...                                                 ...   \n",
       "4577  Pada Jumat, 31 Maret 2023, sekitar pukul 20.30...   \n",
       "4578  Pada hari Minggu, 28 Mei 2023, sekitar pukul 1...   \n",
       "4579  Pada hari Minggu, 28 Mei 2023, sekitar pukul 1...   \n",
       "4580  Pada hari Minggu, 28 Mei 2023, sekitar pukul 1...   \n",
       "4581  Pada hari Minggu, 28 Mei 2023, sekitar pukul 1...   \n",
       "\n",
       "                                        terdakwa  total_pidana_penjara_bulan  \n",
       "0                                 GEDE DARMAYASA                         5.0  \n",
       "1                    IDA BAGUS MADE DARMA WIGUNA                        24.0  \n",
       "2                                 HANDRI JOHANAS                         4.0  \n",
       "3                     I GEDE ARIADI alias BERNAD                        14.0  \n",
       "4                     I GEDE ARIADI alias BERNAD                        14.0  \n",
       "...                                          ...                         ...  \n",
       "4577  NURUL FIQRI SUDIRMAN als KIKI bin SUDIRMAN                        72.0  \n",
       "4578                          SUPRIADI BIN RATIM                        16.0  \n",
       "4579                          SUPRIADI BIN RATIM                        16.0  \n",
       "4580             ANWAR RURI BIN SYARIFUDIN USMAN                        16.0  \n",
       "4581             ANWAR RURI BIN SYARIFUDIN USMAN                        16.0  \n",
       "\n",
       "[4582 rows x 8 columns]"
      ]
     },
     "execution_count": 10,
     "metadata": {},
     "output_type": "execute_result"
    }
   ],
   "source": [
    "df_filtered"
   ]
  },
  {
   "cell_type": "code",
   "execution_count": 11,
   "metadata": {},
   "outputs": [
    {
     "data": {
      "application/vnd.microsoft.datawrangler.viewer.v0+json": {
       "columns": [
        {
         "name": "index",
         "rawType": "int64",
         "type": "integer"
        },
        {
         "name": "klasifikasi_perkara_encoded",
         "rawType": "int64",
         "type": "integer"
        },
        {
         "name": "penuntut_umum_encoded",
         "rawType": "int64",
         "type": "integer"
        },
        {
         "name": "hakim_encoded",
         "rawType": "int64",
         "type": "integer"
        },
        {
         "name": "jumlah_saksi",
         "rawType": "int64",
         "type": "integer"
        },
        {
         "name": "cleaned_barang_bukti",
         "rawType": "object",
         "type": "string"
        },
        {
         "name": "summarized_dakwaan",
         "rawType": "object",
         "type": "string"
        },
        {
         "name": "terdakwa",
         "rawType": "object",
         "type": "string"
        },
        {
         "name": "total_pidana_penjara_bulan",
         "rawType": "float64",
         "type": "float"
        }
       ],
       "conversionMethod": "pd.DataFrame",
       "ref": "a6f0fd0d-fe12-48ac-b16f-c0fde8068984",
       "rows": [
        [
         "0",
         "0",
         "0",
         "0",
         "6",
         "1 buah sabit kecil dengan gagang dari kayu 1 buah jaring plastik paranet warna hitam 1 utas tali plastik warna biru dengan panjang 7,5 meter 20 buah kantong plastik kresek 2 utas tali kain warna merah dengan panjang 80 cm Dimusnahkan 1 unit mobil merek Suzuki ST 150 Pick Up warna hitam DK 8985 KC, NOKA MHYESL415JJ723753, NOSIN G15AID1125449 beserta kunci kontak 1 lembar STNK mobil merek Suzuki ST 150 Pick Up warna hitam DK 8985 KC, NOKA MHYESL415JJ723753, NOSIN G15AID1125449 nama pemilik a.n. I Kadek Kondrayasa Dikembalikan kepada I Gede Agus Wirayuda 4 buah durian jenis durian kane Dikembalikan kepada I Wayan Sukarene, S.E. 1 lembar nota pembelian buah durian Toko Tiara Durian Dikembalikan kepada Komang Ayu Anggreni 15 buah durian jenis durian kane 1 lembar nota pembelian buah durian Toko Semut Durian Dikembalikan kepada Komang Sujana Uang tunai sebesar Rp487.000,00 (empat ratus delapan puluh tujuh ribu rupiah) Dirampas untuk negara  6. Membebankan kepada Terdakwa membayar biaya perkara sejumlah Rp5.000,00 (lima ribu rupiah)",
         "Terdakwa Gede Darmayasa didakwa telah melakukan tindak pidana pencurian buah durian di tiga lokasi berbeda di wilayah Kintamani, Kabupaten Bangli, pada bulan Mei 2024. Pada hari Selasa, 21 Mei 2024, sekitar pukul 06.00 hingga 06.30 WITA, terdakwa mencuri sebanyak 37 buah durian dari kebun milik I Wayan Sukerena, SE dan 27 buah durian dari kebun milik I Nyoman Susila. Durian-durian tersebut kemudian dijual sebagian kepada saksi Komang Ayu Anggreni dengan harga Rp4.316.000 dan sisanya dibawa pulang. Selanjutnya, pada hari Kamis, 23 Mei 2024, terdakwa menjual lagi 40 buah durian kepada Komang Sujana, di mana 24 di antaranya merupakan hasil pencurian. Kemudian pada hari Sabtu, 25 Mei 2024, sekitar pukul 06.00 WITA, terdakwa kembali melakukan pencurian sebanyak 20 buah durian dari kebun milik I Ketut Tindih dan menjual 15 buah di antaranya seharga Rp1.485.000. Total durian yang dicuri terdakwa berjumlah 67 buah tanpa seizin pemiliknya, dengan maksud untuk dimiliki secara melawan hukum dan hasil penjualannya digunakan untuk kebutuhan sehari-hari. Akibat perbuatan terdakwa, I Wayan Sukerena mengalami kerugian sebesar Rp3.330.000, I Ketut Tindih sebesar Rp3.500.000, dan I Nyoman Susila sebesar Rp2.000.000. Perbuatan terdakwa diancam pidana berdasarkan Pasal 362 KUHP jo. Pasal 65 Ayat (1) KUHP.",
         "GEDE DARMAYASA",
         "5.0"
        ],
        [
         "2",
         "0",
         "0",
         "2",
         "6",
         "1 buah Kotak/Box handphone merk OPPO type A53 warna Hitam, dengan nomor IMEI1/2 867919057365515/867919057365507 1 lembar nota pembelian 1 unit handphone merk OPPO type A53 warna hitam, dengan nomor IMEI1/2 867919057365515/867919057365507 dari Anyelir Ponsel pada tanggal 3 April 2020 senilai Rp3.999.000,00 (tiga juta sembilan ratus sembilan puluh sembilan ribu rupiah). 1 unit handphone merk OPPO type A53 warna hitam, dengan nomor IMEI1/2 867919057365515/867919057365507 Dikembalikan kepada I Nengah Sukadana  6. Membebankan kepada Terdakwa membayar biaya perkara sejumlah Rp5.000,00 (lima ribu rupiah)",
         "Terdakwa Handri Johanes pada Rabu, 24 April 2024 sekitar pukul 03.00 WITA di sebuah kamar di Puri Kanginan, Lingkungan Banjar Puri Kanginan No. 2 Bangli, telah melakukan pencurian satu unit handphone OPPO A53 warna hitam milik I Nengah Sukadana. Kejadian bermula ketika terdakwa yang sebelumnya pernah bekerja di mebel milik Gung Aji Kartika dan terbiasa keluar masuk area puri, datang mencari temannya yang dahulu tinggal di sana. Setelah tidak menemukan temannya dan hendak pulang, terdakwa melihat sebuah handphone sedang diisi daya dalam kamar yang pintunya sedikit terbuka. Ia kemudian mengambil handphone tersebut dengan memasukkan tangan melalui celah pintu. Setelah sampai di bengkel tempat tinggalnya, terdakwa mengetahui bahwa handphone tersebut terkunci, lalu beberapa hari kemudian menjualnya kepada seseorang bernama Denny Firmansyah di Klungkung seharga Rp300.000. Uang hasil penjualan itu kemudian ia kirim ke anaknya di Lombok. Akibat perbuatan tersebut, saksi I Nengah Sukadana mengalami kerugian sebesar Rp3.999.000. Perbuatan terdakwa diancam pidana berdasarkan Pasal 363 Ayat (1) ke-3 KUHP.",
         "HANDRI JOHANAS",
         "4.0"
        ],
        [
         "19",
         "0",
         "1",
         "0",
         "4",
         "- Uang tunai sebesar Rp. 10.000.000,00(sepuluh juta rupiah). - 1 buah kartu ATM BRI, Nomor Kartu 6013012227516306 dikembalikan kepada Saksi Luh Putu Widiantari, S.E - 1 unit Sepeda Motor Honda Vario 125 warna putih DK 6266 PZ, Noka MH1JMD119PK176948, Nosin JMD1E-1177179 beserta kunci kontak. - 1 lembar STNK Sepeda Motor Honda Vario 125 DK 6266 PZ, Noka MH1JMD119PK176948, Nosin JMD1E-1177179, Nama pemilik an. I NYOMAN BUDIAWAN Dikembalikan kepada Terdakwa - 1 unit Mobil Suzuki ST 150 Pick Up warna hitam DK 8958 HD beserta kunci kontak  Dikembalikan kepada Saksi I Wayan Sarjana 6. Membebankan kepada Terdakwa membayar biaya perkara sejumlah Rp5.000,00 (lima ribu rupiah)",
         "Pada hari Rabu, 25 Oktober 2023 sekitar pukul 13.00 WITA, terdakwa I Nyoman Budiawan alias Sumawan melakukan pencurian kartu ATM BRI milik saksi Luh Putu Widiantari di Toko UD. Langsung Jaya, Jalan Raya Kintamani, Desa Kintamani, Kecamatan Kintamani, Kabupaten Bangli. Awalnya, terdakwa datang ke toko tersebut untuk mentransfer uang, namun saat mengetahui mesin BRI Link rusak dan pegawai toko pergi, terdakwa memanfaatkan situasi sepi untuk mengambil kartu ATM yang berada di atas meja kasir. Terdakwa kemudian pulang ke rumahnya dan menggunakan kartu ATM tersebut di mesin ATM BRI Toya Devasya, dengan memasukkan PIN 020202 yang telah ia ketahui sebelumnya karena sering melihat pegawai toko menggunakannya. Terdakwa melakukan penarikan tunai sebanyak empat kali dengan total Rp10.000.000. Setelah menerima laporan dari korban, pihak kepolisian melakukan olah TKP dan berhasil mengamankan terdakwa di rumahnya pada 28 Oktober 2023. Akibat perbuatannya, korban mengalami kerugian sebesar Rp10.000.000. Perbuatan terdakwa diancam pidana berdasarkan Pasal 362 KUHP.",
         "I NYOMAN BUDIAWAN Als. SUMAWAN",
         "14.0"
        ],
        [
         "35",
         "0",
         "1",
         "4",
         "3",
         "1 unit sepeda motor yang sudah dimodifikasi (cetul) tanpa terpasang nomor registrasi / nomor polisi dan tidak dapat terdapat nomor rangka dan nomor mesin kendaraan Dikembalikan kepada I Gede Wiraguna 1 unit sepeda motor merek Kawasaki tipe LX 150 C, warna hitam kombinasi kuning, tahun pembuatan 2010, tanpa terpasang nomor registrasi / nomor polisi, Noka MH4LX150CAKP15705, Nosin LX150CEP19759 1 lembar SNTK sepeda motor merek Kawasaki tipe LX 150 C, warna hijau, tahun pembuatan 2010, nomor registrasi / nomor polisi DK 8164 IQ, Noka MH4LX150CAKP15705, Nosin LX150CEP19759, a.n. Chrisnawati, alamat Jl. Surabaya D, 6/20 Puri Gading, Jimbaran, Kuta Badung dan 1 buah buku BPKB, No H-0 2625520, DK 8164 IQ, merek Kawasaki tipe LX 150 C, Noka MH4LX150CAKP15705, Nosin LX150CEP19759, a.n. Chrisnawati, alamat Jl. Surabaya D, 6/20 Puri Gading, Jimbaran, Kuta Badung Dikembalikan kepada I Wayan Eva Kusuma Putra 6. Membebankan kepada Para Terdakwa membayar biaya perkara masing-masing sejumlah Rp5.000,00 (lima ribu rupiah)",
         "Pada Minggu, 11 Desember 2022 sekitar pukul 00.30 WITA, terdakwa I Rifqi Abdurahman dan terdakwa II Gunawan melakukan pencurian sepeda motor di pinggir Jalan Raya Kayuambua, Bangli. Sebelumnya, pada 10 Desember 2022, terdakwa II meminta terdakwa I mencarikan sepeda motor Kawasaki KLX untuk dibeli seharga Rp3.000.000. Keduanya lalu berangkat ke daerah Kintamani dengan sepeda motor modifikasi tanpa nomor polisi. Saat tiba di lokasi, mereka melihat motor Kawasaki KLX 150 C tanpa nomor polisi dan kunci kontak, lalu terdakwa I mendorong motor tersebut menjauh sementara terdakwa II mengawasi. Karena motor cetul milik terdakwa II rusak, terdakwa I mendorong motor sendirian dan sempat dicegat dua saksi yang curiga. Setelah berhasil menyalakan motor dan mengendarainya sejauh 100 meter, motor mogok karena kehabisan bensin. Terdakwa I lalu mendorong ke SPBU Sekardadi dan tertidur di sana. Sementara itu, saksi korban mengonfirmasi kehilangan motornya dan bersama saksi lainnya serta polisi, menemukan terdakwa I di SPBU. Polisi kemudian menangkap terdakwa II di Desa Dumilih saat tertidur di emper toko. Akibat perbuatan para terdakwa, korban I Wayan Eva Kusuma Putra mengalami kerugian sekitar Rp16.000.000. Perbuatan Terdakwa didakwa dengan dakwaan primair Pasal 363 Ayat (1) ke-4 KUHP, dan dakwaan subsidair Pasal 362 KUHP.",
         "RIFQI ABDURAHMAN",
         "8.0"
        ],
        [
         "5",
         "0",
         "4",
         "1",
         "4",
         "1 unit sepeda motor merk Honda Scoopy warna merah hitam DK 6384 PQ, NOKA MH1JM311XHK071492, NOSIN JM31E-1076227 beserta kunci kontak 1 lembar STNK sepeda motor merk Honda Scoopy warna merah hitam DK 6384 PQ, NOKA MH1JM311XHK071492, NOSIN JM31E-1076227 nama pemilik an. NI WAYAN SRIMERTANADI Dikembalikan kepada korban Ni Wayan Srimertanadi 1 buah helm merk Maxi Yamaha warna hitam 1 buah jaket jeans warna biru langit  Dirampas untuk dimusnahkan 6. Membebankan kepada Terdakwa membayar biaya perkara sejumlah Rp. 5.000,00 (lima ribu rupiah)",
         "Pada hari Selasa, 26 Maret 2024 sekitar pukul 17.10 WITA, bertempat di pinggir Jalan Raya Kintamani, Desa Kintamani, Kecamatan Kintamani, Kabupaten Bangli, Terdakwa melakukan pencurian dengan mengambil satu unit sepeda motor Honda Scoopy warna merah hitam DK 6384 PQ, yang sebagian atau seluruhnya milik orang lain, dengan maksud untuk dimiliki secara melawan hukum. Sebelumnya, pada 25 Maret 2024 pukul 13.00 WITA, Terdakwa berangkat dari Panarukan, Singaraja menuju Terminal Ubung Denpasar dengan menumpang truk, dengan tujuan mencuri sepeda motor. Tiba di Terminal Ubung sekitar pukul 14.30 WITA, Terdakwa menginap semalam karena hujan deras. Esok harinya, Terdakwa dijemput oleh temannya, WAHYU EKA JAYA (DPO), yang datang mengendarai sepeda motor Yamaha Vixion warna hitam. Mereka lalu pergi ke Kintamani untuk jalan-jalan. Sekitar pukul 17.10 WITA, mereka melihat sebuah motor Honda Scoopy terparkir di pinggir jalan dengan kunci masih tergantung. Setelah WAHYU EKA JAYA pergi meninggalkannya, Terdakwa mendekati motor tersebut, lalu mendorongnya sejauh sekitar 10 meter sebelum akhirnya menyalakan mesin dan melarikan diri menuju Denpasar melalui Payangan, Gianyar. Di daerah Ubud, Terdakwa dihentikan oleh seorang petugas Polsek Kintamani bernama I Gede Dipta Wirama Darma dan tidak dapat menunjukkan STNK kendaraan. Terdakwa kemudian diamankan beserta barang bukti ke Polsek Kintamani. Akibat perbuatan tersebut, korban, Ni Wayan Srimertanadi, mengalami kerugian sekitar Rp20.000.000\\. Perbuatan Terdakwa diatur dan diancam pidana dalam Pasal 362 KUHP.",
         "R. Sabirin",
         "14.0"
        ],
        [
         "10",
         "0",
         "4",
         "3",
         "4",
         "1. 3 buah bahan dasar kain (Baju Kaos) masing-masing  - 1 (buah) baju kaos merk U-Right warna abu-abu, - 1 buah baju kaos merk U-Right warna hitam, - 1 buah baju kaos merk Newbalance warna hitam 2. 2 buah case masing-masing  - 1 buah case warna hitam dan, - 1 buah case warna putih bening, 3. 1 pasang kaos kaki merk Nike warna hitam, 4. 1 pasang sandal merk Havaianas warna hitam tulisan putih, 5. 1 buah tas kain Merk HUNGRYCO warna Hitam. 6. 2 buah Dompet masing-masing  - 1 buah Dompet kulit merk MONT BLACN warna coklat dan, - 1 buah dompet kain warna coklat dengan resleting bertulisan LONGCHAMP 7. 1 buah kotak Handphone, 8. 1 buah Handphone merk IPHONE 11 Pro warna gold, 9. Uang tunai sebesar Rp. 5.778.000,- (lima juta tujuh ratus tujuh puluh delapan ribu rupiah). Dikembalikan kepada Saksi Ni Nengah Ngariasih 1. 1 Buah kunci kontak sepeda motor, 2. 1 Unit kendaraan bermotor, DK 2006 AEC, NOKA MH3SEJ710PJ162733, NOSIN E33WE0184543, TH 2023, warna Hitam, 3. 1 lembar Surat Berharga STNK, DK 2006 AEC, NOKA MH3SEJ710PJ162733, NOSIN E33WE0184543, TH 2023, warna hitam, an. RURY HERAWATI , alamat GG. Kaliasem NO. 2B, Sesetan, Denpasar Dikembalikan kepada Terdakwa 6. Membebankan kepada Terdakwa membayar biaya perkara sejumlah Rp5.000,00 (lima ribu rupiah)",
         "Terdakwa Rury Herawati pada tanggal 20 November 2023 sekitar pukul 15.15 WITA telah melakukan pencurian di Toko Ari Kebaya, Jalan Nusantara, Bangli. Terdakwa datang dari Denpasar dengan niat mencuri dan setelah mencari toko yang sepi, ia berpura-pura sebagai pembeli. Saat penjaga toko sedang membelakangi untuk mencarikan sandal, Terdakwa membuka lemari yang tidak terkunci dan mengambil tas kain berisi dua dompet dengan total uang Rp16.500.000,- milik saksi Ni Nengah Ngariasi. Setelah mengambil tas, Terdakwa berpura-pura hendak mengambil uang di ATM dan langsung pergi meninggalkan dua selendang yang sudah dibayar. Uang hasil pencurian digunakan untuk membeli berbagai barang seperti HP, emas, pakaian, serta kebutuhan sehari-hari. Sisa uang yang dicuri masih tersisa sebesar Rp5.778.000. Berdasarkan laporan polisi dan penyelidikan, Terdakwa mengakui perbuatannya dan kini telah diamankan bersama barang bukti untuk proses hukum lebih lanjut. Perbuatannya diancam pidana sesuai Pasal 362 KUHP.",
         "RURY HERAWATI",
         "16.0"
        ],
        [
         "9",
         "0",
         "7",
         "1",
         "6",
         "1 unit Alat timbangan barang merk RADJIN 1 karung bawang merah yang dibungkus menggunakan karung plastik warna putih bertuliskan HI-GRO dengan berat 8,625 (delapan koma enam ratus dua puluh lima) Kg (kilogram) 1 karung bawang putih yang dibungkus menggunakan karung plastic berwarna hijau dengan berat 8,9 (delapan koma Sembilan) Kg (kilogram) Dikembalikan kepada Saksi Ni Nyoman Suwini 1 buah karung plastik warna putih bertulisan gajah bintang tempat menyimpan beras ketan 1 buah karung plastik warna putih polos tempat menyimpan kacang tanah mentah Dimusnahkan 1 unit sepeda motor, no rangka MH1JF12128K521438, no mesin JF12E-1525827 - sepeda motor merk Honda Vario no. pol. DK 5633 MX  1 eksemplar Foto Copy BPKB (Buku Pemilik Kendaraan Bermotor) F No. 1162138 sepeda motor merk Honda Vario, No. Rangka MH1JF12128K521438, No. Mesin JF12E-1525827 no. pol. DK 5633 MX an. RICHARD MULYADI 1 lembar Foto Copy STNK (surat tanda nomor kendaraan) sepeda motor merk Honda Vario, No. Rangka MH1JF12128K521438, No. Mesin JF12E-1525827 no. pol. DK 5633 MX an. RICHARD MULYADI 1 lembar Akta Kelahiran Nomor 5105-LT-20032023-0002 an. I WAYAN ARTAYASA 1 pcs Kunci sepeda motor merk Honda Vario, No. Rangka MH1JF12128K521438, No. Mesin JF12E-1525827 no. pol. DK 5633 MX Dikembalikan kepada yang berhak melalui Terdakwa 6. Membebankan kepada Terdakwa membayar biaya perkara sejumlah Rp. 5.000,00 (lima ribu rupiah)",
         "Terdakwa I Wayan Artayasa didakwa telah melakukan serangkaian pencurian secara berulang di Pasar Kidul Bangli, dengan sasaran utama dagangan milik ibunya sendiri, Ni Nyoman Suwini, serta milik pedagang lain seperti Ni Luh Utari dan Ni Ketut Suci. Perbuatan tersebut dilakukan sejak Desember 2023 hingga Februari 2024, pada dini hari antara pukul 03.00 hingga 04.00 WITA. Modus operandi yang digunakan adalah dengan masuk ke pasar melalui celah jeruji besi, membuka terpal dagangan, dan mengambil berbagai bahan pokok seperti kemiri, kacang tanah, gula merah, kacang hijau, dan beras. Barang-barang hasil curian tersebut kemudian dijual oleh terdakwa di Pasar Kidul Bangli dan Pasar Singamandawa Kintamani untuk memenuhi kebutuhan sehari-hari. Perbuatan terdakwa dilakukan tanpa seizin atau sepengetahuan para pemilik barang, dan telah menyebabkan kerugian bagi para korban. Berdasarkan perbuatannya tersebut, terdakwa didakwa dengan Pasal 362 KUHP jo. Pasal 65 Ayat (1) KUHP pada dakwaan primair dan Pasal 367 Ayat (2) KUHP jo. Pasal 65 Ayat (1) KUHP untuk dakwaan subsidair.",
         "I WAYAN ARTAYASA",
         "12.0"
        ],
        [
         "15",
         "0",
         "8",
         "0",
         "6",
         "1 unit sepeda motor merek Yamaha N-Max warna hitam DK 3498 PT beserta kunci kontak 1 buah STNK sepeda motor merek Yamaha N-Max DK 3498 PT 1 buah BPKB sepeda motor merek Yamaha N-Max DK 3498 PT Dikembalikan kepada Made Yusa Paramartha 1 unit sepeda motor merek Yamaha N-Max warna hitam DK 6992 LB beserta kunci kontak 1 buah STNK sepeda motor merek Yamaha N-Max DK 6992 LB 1 buah cover under dek bawah kolong sepeda motor merek Yamaha N-Max warna hitam 1 buah cover paru fender inner sepeda motor merek Yamaha N-Max warna hitam 2 buah dek sayap body bawah sepeda motor merek Yamaha N-Max warna ungu Dikembalikan kepada I Kadek Indrawan 1 unit mobil merek Honda Jazz GE8 warna putih DK 1049 WH 1 buah STNK mobil merek Honda Jazz GE8 DK 1049 WH Dikembalikan kepada Ni Luh Putu Suparwati 1 unit sepeda motor merek Yamaha N-Max warna hitam DK 6492 ZY beserta kunci kontak 1 lembar STNK Sepeda Motor Yamaha N-Max DK 4665 TG, Noka MH3SG3190JJ314087, Nosin G3E4E-1103102, nama pemilik a.n. I Ketut Merta Yasa 2 buah plat sepeda motor palsu warna hitam DK 4665 TG 2 buah spion sepeda motor merek Yamaha N-Max warna hitam Dikembalikan kepada Penuntut Umum untuk dijadikan barang bukti dalam perkara lain 1 buah kunci T warna hitam 1 buah obeng dengan gagang warna hitam 1 buah kunci ring pas 12 warna putih merek Wipro 1 buah tang dengan gagang warna merah 1 set kunci L warna putih merek Allwin 1 buah mesin bor tanpa kabel warna merah hitam merek Bitec Dimusnahkan Uang tunai Rp1.000.000,00 (satu juta rupiah) Dirampas untuk negara  6. Membebankan kepada Para Terdakwa membayar biaya perkara masing-masing sejumlah Rp5.000,00 (lima ribu rupiah)",
         "Terdakwa I Ketut Joni Adnyana Adi Putra dan Terdakwa II Rosita Evayanti Dewi melakukan pencurian sepeda motor di dua lokasi berbeda di wilayah Kintamani, Bangli. Aksi pertama dilakukan pada 10 September 2023 sekitar pukul 01.00 WITA di parkiran Sukawana Sunrise, di mana Terdakwa I mengambil sepeda motor Yamaha NMAX DK 3498 PT milik saksi Made Yusa Paramartha dengan cara mendorong motor yang tidak terkunci dan menyalakan mesin menggunakan alat-alat seperti obeng, tang, dan kunci L. Motor hasil curian ini digunakan untuk keperluan sehari-hari. Aksi kedua dilakukan pada 1 Oktober 2023 sekitar pukul 02.00 WITA di parkiran Le Monte Sunrise. Dengan menggunakan mobil sewaan, kedua terdakwa kembali ke Kintamani dan Terdakwa I mencuri motor Yamaha NMAX DK 6992 LB milik I Kadek Indrawan dengan modus serupa. Sepeda motor tersebut kemudian dijual secara daring seharga Rp5.300.000. Akibat perbuatan kedua terdakwa, saksi Made Yusa Paramartha mengalami kerugian sebesar Rp25.500.000,- dan saksi I Kadek Indrawan mengalami kerugian sebesar Rp26.700.000,-. Perbuatan para terdakwa diancam pidana berdasarkan Pasal 363 Ayat (1) ke-4 KUHP jo. Pasal 65 Ayat (1) KUHP.",
         "I KETUT JONI ADNYANA ADI PUTRA",
         "16.0"
        ],
        [
         "16",
         "0",
         "9",
         "0",
         "6",
         "1 unit sepeda motor merek Yamaha N-Max warna hitam DK 3498 PT beserta kunci kontak 1 buah STNK sepeda motor merek Yamaha N-Max DK 3498 PT 1 buah BPKB sepeda motor merek Yamaha N-Max DK 3498 PT Dikembalikan kepada Made Yusa Paramartha 1 unit sepeda motor merek Yamaha N-Max warna hitam DK 6992 LB beserta kunci kontak 1 buah STNK sepeda motor merek Yamaha N-Max DK 6992 LB 1 buah cover under dek bawah kolong sepeda motor merek Yamaha N-Max warna hitam 1 buah cover paru fender inner sepeda motor merek Yamaha N-Max warna hitam 2 buah dek sayap body bawah sepeda motor merek Yamaha N-Max warna ungu Dikembalikan kepada I Kadek Indrawan 1 unit mobil merek Honda Jazz GE8 warna putih DK 1049 WH 1 buah STNK mobil merek Honda Jazz GE8 DK 1049 WH Dikembalikan kepada Ni Luh Putu Suparwati 1 unit sepeda motor merek Yamaha N-Max warna hitam DK 6492 ZY beserta kunci kontak 1 lembar STNK Sepeda Motor Yamaha N-Max DK 4665 TG, Noka MH3SG3190JJ314087, Nosin G3E4E-1103102, nama pemilik a.n. I Ketut Merta Yasa 2 buah plat sepeda motor palsu warna hitam DK 4665 TG 2 buah spion sepeda motor merek Yamaha N-Max warna hitam Dikembalikan kepada Penuntut Umum untuk dijadikan barang bukti dalam perkara lain 1 buah kunci T warna hitam 1 buah obeng dengan gagang warna hitam 1 buah kunci ring pas 12 warna putih merek Wipro 1 buah tang dengan gagang warna merah 1 set kunci L warna putih merek Allwin 1 buah mesin bor tanpa kabel warna merah hitam merek Bitec Dimusnahkan Uang tunai Rp1.000.000,00 (satu juta rupiah) Dirampas untuk negara  6. Membebankan kepada Para Terdakwa membayar biaya perkara masing-masing sejumlah Rp5.000,00 (lima ribu rupiah)",
         "Terdakwa I Ketut Joni Adnyana Adi Putra dan Terdakwa II Rosita Evayanti Dewi melakukan pencurian sepeda motor di dua lokasi berbeda di wilayah Kintamani, Bangli. Aksi pertama dilakukan pada 10 September 2023 sekitar pukul 01.00 WITA di parkiran Sukawana Sunrise, di mana Terdakwa I mengambil sepeda motor Yamaha NMAX DK 3498 PT milik saksi Made Yusa Paramartha dengan cara mendorong motor yang tidak terkunci dan menyalakan mesin menggunakan alat-alat seperti obeng, tang, dan kunci L. Motor hasil curian ini digunakan untuk keperluan sehari-hari. Aksi kedua dilakukan pada 1 Oktober 2023 sekitar pukul 02.00 WITA di parkiran Le Monte Sunrise. Dengan menggunakan mobil sewaan, kedua terdakwa kembali ke Kintamani dan Terdakwa I mencuri motor Yamaha NMAX DK 6992 LB milik I Kadek Indrawan dengan modus serupa. Sepeda motor tersebut kemudian dijual secara daring seharga Rp5.300.000. Akibat perbuatan kedua terdakwa, saksi Made Yusa Paramartha mengalami kerugian sebesar Rp25.500.000,- dan saksi I Kadek Indrawan mengalami kerugian sebesar Rp26.700.000,-. Perbuatan para terdakwa diancam pidana berdasarkan Pasal 363 Ayat (1) ke-4 KUHP jo. Pasal 65 Ayat (1) KUHP.",
         "I KETUT JONI ADNYANA ADI PUTRA",
         "16.0"
        ],
        [
         "22",
         "0",
         "11",
         "4",
         "3",
         "1 lembar surat tanda nomor kendaraan (STNK) sepeda motor merek Honda Scoopy, tipe F1C02N28L0 A/T, tahun 2018, warna hitam, Nopol DK 5807 PS, Noka MH1JM311XJK830213, dan Nosin JM31E1827084 a.n. I Wayan Miyasa yang beralamat di Banjar Tingas, Kecamatan Tembuku, Kabupaten Bangli 1 buah buku pemilik kendaraan bermotor (BPKB) Nomor O-03326115, DK 5807 PS, Honda, Tahun 2018, Hitam, Noka MH1JM311XJK830213, dan Nosin JM31E1827084 a.n. I Wayan Miyasa yang beralamat di Banjar Tingas, Kecamatan Tembuku, Kabupaten Bangli 1 unit sepeda motor merek Honda Scoopy, warna Hitam, Nopol DK 3263 KAQ, Noka MH1JM311XJK830213, dan Nosin JM31E1827084 1 buah kunci kontak sepeda motor merek Honda (duplikat) 1 buah kunci kontak sepeda motor merek Honda Dikembalikan kepada Penuntut Umum untuk dijadikan barang bukti dalam perkara atas nama Dewa Made Sujana 6. Membebankan kepada Terdakwa membayar biaya perkara sejumlah Rp5.000,00 (lima ribu rupiah)",
         "Pada hari Jumat, 5 Februari 2021 sekitar pukul 19.00 WITA, terdakwa I Ketut Dena bersama Dewa Made Sujana (dalam berkas terpisah) melakukan pencurian satu unit sepeda motor Honda Scoopy warna hitam kombinasi merah dengan nomor polisi DK 5807 PS yang terparkir di depan rumah saksi I Nengah Sumerta di Desa Yangapi, Kecamatan Tembuku, Kabupaten Bangli. Sebelumnya, kedua terdakwa sempat pergi ke beberapa lokasi sabung ayam. Saat melintasi lokasi kejadian, Dewa Made Sujana melihat motor dalam keadaan tidak terkunci dan memerintahkan Ketut Dena untuk berjaga sementara dirinya mengambil sepeda motor tersebut. Setelah berhasil menghidupkan dan membawa motor itu, mereka menyembunyikannya di bawah jembatan di Gianyar. Keesokan harinya, motor tersebut diambil kembali dan diganti plat nomornya menggunakan plat dari motor lain, kemudian dibawa ke rumah Dewa Made Sujana. Sore harinya, Dewa Made Sujana ditangkap karena kasus pencurian handphone dan meminta Ketut Dena mengambil motor tersebut. Karena motor terkunci dan kuncinya masih disimpan Dewa Made Sujana, Ketut Dena memanggil tukang kunci untuk membuat duplikat. Motor curian itu lalu digadaikan oleh Ketut Dena kepada saksi Luh Sriani seharga Rp2.000.000 tanpa dokumen STNK atau BPKB. Korban, I Wayan Miyasa, melaporkan kehilangan tersebut ke Polsek Tembuku. Sekitar seminggu kemudian, Ketut Dena ditangkap atas kasus penadahan, mengakui perbuatannya, dan membantu polisi mencari motor dan kunci aslinya yang ditemukan di tas milik Dewa Made Sujana. Akibat perbuatan tersebut, korban mengalami kerugian sekitar Rp15.000.000. Tindak pidana ini diancam dengan 2 dakwaan yaitu dakwaan primair dengan Pasal 363 ayat (1) ke-4 KUHP serta dakwaan subsidair dengan Pasal 326 KUHP.",
         "I KETUT DENA",
         "12.0"
        ],
        [
         "32",
         "0",
         "13",
         "0",
         "3",
         "3 buah bahan dasar kain (Jaket) dengan rincian a. 1 buah Jaket Kain Merk FLAUA warna Abu-Abu, b. 1 buah Jaket Merk Nike warna Hitam, c. 1 buah Jaket semi parasut Merk ANDEW warna Hijau. 3 potong Tekstil (Celana) dengan rincian a. 1 buah celana panjang warna Abu-abu bertuliskan GINDY, b. 1 buah celana panjang warna Abu-abu bergambar Anjing, c. 1 buah celana panjang warna Hitam garis putih bertulikan ADIDAS. 1 buah Cincin Emas Permata Merah Muda. 1 pasang Sandal Merk Fipper Warna Coklat. 16 lembar Nota Pembelian Emas. 1 buah Kunci Pintu. Dikembalikan kepada Saksi I NYOMAN MAWA 1 buah Kunci Kontak SPM. 1 unit Kendaraan Bermotor DK 2086 PX, NOKA MH1JF13159K008359, NOSIN JF13E-0009553, TH 2009, WARNA PINK PUTIH. 1 lembar Surat Berharga (STNK) DK 2086 PX, NOKA MH1JF13159K008359, NOSIN JF13E-0009553, TH 2009, WARNA PINK PUTIH, AN. I NYOMAN MUSAH, ALAMAT LINGK/BR. KUBU BANGLI. Dikembalikan kepada Terdakwa 8. Membebankan kepada Terdakwa membayar biaya perkara sejumlah Rp5.000,00 (lima ribu rupiah)",
         "Pada hari Minggu, 4 Juli 2021 sekitar pukul 11.00 WITA, Terdakwa Ni Luh Puspa Dewi dalam perjalanan menuju ladang orang tuanya di Desa Suter, Bangli, melewati sebuah rumah kosong di Banjar Munduk Waru, Desa Buahan, Kintamani, dan timbul niat untuk mencuri. Setelah memastikan keadaan sekitar aman, terdakwa masuk ke rumah tersebut dan menemukan kunci di lemari kaca dalam salah satu kamar. Ia kemudian membuka kamar lain dengan kunci tersebut dan menemukan dompet biru bermotif bunga berisi berbagai perhiasan emas, termasuk kalung, gelang, cincin, dan anting-anting dengan total berat puluhan gram. Semua barang tersebut diambil dan disimpan di sakunya, lalu terdakwa meninggalkan lokasi. Perhiasan hasil curian dijual di Pasar Kidul kepada seorang wanita tak dikenal seharga Rp80.000.000, yang kemudian digunakan untuk kebutuhan sehari-hari dan membeli sejumlah pakaian, sandal, serta cincin emas. Berdasarkan laporan polisi tertanggal 6 Februari 2023, terdakwa akhirnya mengakui seluruh perbuatannya. Akibat kejadian ini, korban I Nyoman Mawa mengalami kerugian sekitar Rp80.000.000. Perbuatan Terdakwa didakwa dengan dakwaan primair Pasal 363 Ayat (1) ke-5 KUHP, dan dakwaan subsidair Pasal 362 KUHP.",
         "NI LUH PUSPA DEWI",
         "6.0"
        ],
        [
         "34",
         "0",
         "13",
         "3",
         "5",
         "2 Gram Cincin emas dengan batu permata berwarna hitam Pecahan uang seratus ribu rupiah sebanyak 57 lembar (Rp.5.700.000,-) 1 Buah tas warna merah maroon bertuliskan Michael Kors 1.600 Gram Cincin emas dengan batu permata berwarna merah 1 Pcs Dompet warna merah muda kombinasi putih bertuliskan Toko Perhiasan Emas Ratna 14.400 Gram Kalung Emas Rantai Bola 2 Lembar Nota Pembelian Perhiasan Emas Toko Ratna 1 Buah Tas warna hitam bertuliskan Steve Madden Dikembalikan kepada Saksi Ni Jro Luh Putri 1 Potong Hoddie warna merah bertuliskan Getting To 90 4th Red Ribbon Flash Mob  Dimusnahkan - 1 Unit sepeda motor Yamaha Xeon warna hitam Dirampas untuk negara 6. Membebankan kepada Terdakwa membayar biaya perkara sejumlah Rp5.000,00 (lima ribu rupiah)",
         "Pada Sabtu, 28 Januari 2023, di Pemandian Tirta Usadha Toya Bungkah, Desa Batur Tengah, Kintamani, Bangli, terdakwa Jro Gede Budi didakwa melakukan pencurian. Setelah selesai berendam, terdakwa melihat sebuah tas hitam bertuliskan \"Steve Madden\" milik korban Ni Jro Luh Putri di bawah loker, lalu mengambilnya dan membawanya pulang menggunakan sepeda motor. Di perjalanan, terdakwa membuka tas tersebut dan menemukan tas merah maroon bertuliskan \"Michael Kors\" berisi uang tunai sebesar Rp5.700.000 serta sebuah dompet berisi perhiasan emas berupa kalung dan cincin, dan dua nota pembelian dari Toko Emas Ratna. Terdakwa mengambil Rp1.000.000 untuk dirinya dan menyembunyikan sisa uang serta perhiasan di bawah pohon di dekat rumahnya, sedangkan tas-tas tersebut disimpan di jok motor. Berdasarkan laporan korban, polisi berhasil mengamankan terdakwa beserta barang-barang bukti, termasuk sepeda motor dan hoodie yang digunakan untuk membungkus barang curian. Atas perbuatannya, korban mengalami kerugian sekitar Rp19.700.000, dan terdakwa dijerat dengan Pasal 362 KUHP tentang pencurian.",
         "JRO GEDE BUDI",
         "5.0"
        ],
        [
         "33",
         "0",
         "15",
         "4",
         "5",
         "1 buah kotak handphone Redmi Note 10 S 1 buah handphone merk Redmi Note 10 S warna Onyx Gray  Dikembalikan kepada I Wayan Suardana 1 buah kotak Handphone Redmi Note 7 6 lembar uang Rp100.000,00 (seratus ribu rupiah) dengan total Rp600.000,00 (enam ratus ribu rupiah)  Dikembalikan kepada I Wayan Panggih 1 buah tas pinggang merk Jungle Surf warna abu-abu  Dimusnahkan  6. Membebankan kepada Terdakwa membayar biaya perkara sejumlah Rp5.000,00 (lima ribu rupiah)",
         "Terdakwa I Wayan Nawa didakwa melakukan pencurian pada dua kesempatan berbeda di wilayah Kintamani, Bangli. Pada 2 Oktober 2022, setelah menjual salak, terdakwa menuju ke kebun milik I Wayan Suardana di Banjar Pludu, Desa Bayung Gede, dan berpura-pura menawarkan pupuk ayam. Saat korban lengah, terdakwa mencuri handphone Redmi Note 10S beserta uang tunai sekitar Rp400.000 yang disimpan di kandang sapi. Kemudian, pada 9 November 2022, terdakwa kembali melakukan pencurian di pondokan milik I Wayan Panggih di Desa Binyan dengan modus serupa. Setelah memastikan korban pergi, terdakwa mencuri handphone Redmi Note 7 yang sedang dicas. Kedua handphone tersebut dijual ke konter berbeda dengan total hasil sekitar Rp1.800.000, yang kemudian digunakan untuk kebutuhan sehari-hari. Berdasarkan laporan korban, polisi melakukan penyelidikan dan berhasil menangkap terdakwa pada 9 Februari 2023 di Karangasem. Akibat perbuatannya, korban I Wayan Suardana mengalami kerugian sekitar Rp3.400.000 dan I Wayan Panggih sekitar Rp3.000.000. Terdakwa dijerat dengan Pasal 362 KUHP jo. Pasal 65 Ayat (1) KUHP tentang pencurian yang dilakukan berulang kali.",
         "I Wayan Nawa",
         "6.0"
        ],
        [
         "37",
         "0",
         "16",
         "0",
         "6",
         "1 unit sepeda motor honda vario tahun 2011, warna merah silver DK 7917 UR, Noka MH1JF8119BK338944, Nosin JF81E-1337110 beserta anak kunci 1 STNK sepeda motor honda vario tahun 2011, warna merah silver DK 7917 UR, Noka MH1JF8119BK338944, Nosin JF81E-1337110 dikembalikan kepada yang berhak melalui Terdakwa 4 ekor ayam aduan warna merah (biying) 1 ekor ayam aduan warna coklat (klau) dikembalikan kepada I WAYAN SUKADA dan I MADE TERUS 4 buah karung warna putih dimusnahkan 6. Membebankan kepada Terdakwa membayar biaya perkara sejumlah Rp5.000,00 (lima ribu rupiah)",
         "Terdakwa Gede Kastawa didakwa melakukan serangkaian tindak pidana pencurian ayam di wilayah Kintamani, Bangli, pada bulan Oktober 2022. Pada 21 Oktober 2022, terdakwa mencuri 6 ekor ayam dari belakang rumah korban I Wayan Sukada di Desa Belantih, lalu menjualnya di Pasar Anyar Singaraja seharga Rp800.000. Hasil penjualan digunakan untuk membeli ayam aduan dan berjudi. Kemudian, pada 28 Oktober 2022, terdakwa mencuri 15 ekor ayam milik korban I Made Terus dari kebun jeruk di Desa Belanga, yang kembali dijual dan hasilnya dipakai untuk berjudi. Selanjutnya, pada 30 Oktober 2022, terdakwa beraksi di pondokan milik korban I Wayan Lusin di Desa Belanga, mencuri seekor ayam namun aksinya diketahui oleh saksi dan warga sehingga berhasil diamankan. Total kerugian para korban mencapai sekitar Rp3.500.000. Terdakwa mengaku melakukan pencurian karena alasan ekonomi. Perbuatannya diancam pidana sesuai Pasal 362 jo. Pasal 65 Ayat (1) KUHP.",
         "Gede Kastawa",
         "30.0"
        ],
        [
         "38",
         "0",
         "17",
         "0",
         "6",
         "1 unit sepeda motor honda vario tahun 2011, warna merah silver DK 7917 UR, Noka MH1JF8119BK338944, Nosin JF81E-1337110 beserta anak kunci 1 STNK sepeda motor honda vario tahun 2011, warna merah silver DK 7917 UR, Noka MH1JF8119BK338944, Nosin JF81E-1337110 dikembalikan kepada yang berhak melalui Terdakwa 4 ekor ayam aduan warna merah (biying) 1 ekor ayam aduan warna coklat (klau) dikembalikan kepada I WAYAN SUKADA dan I MADE TERUS 4 buah karung warna putih dimusnahkan 6. Membebankan kepada Terdakwa membayar biaya perkara sejumlah Rp5.000,00 (lima ribu rupiah)",
         "Terdakwa Gede Kastawa didakwa melakukan serangkaian tindak pidana pencurian ayam di wilayah Kintamani, Bangli, pada bulan Oktober 2022. Pada 21 Oktober 2022, terdakwa mencuri 6 ekor ayam dari belakang rumah korban I Wayan Sukada di Desa Belantih, lalu menjualnya di Pasar Anyar Singaraja seharga Rp800.000. Hasil penjualan digunakan untuk membeli ayam aduan dan berjudi. Kemudian, pada 28 Oktober 2022, terdakwa mencuri 15 ekor ayam milik korban I Made Terus dari kebun jeruk di Desa Belanga, yang kembali dijual dan hasilnya dipakai untuk berjudi. Selanjutnya, pada 30 Oktober 2022, terdakwa beraksi di pondokan milik korban I Wayan Lusin di Desa Belanga, mencuri seekor ayam namun aksinya diketahui oleh saksi dan warga sehingga berhasil diamankan. Total kerugian para korban mencapai sekitar Rp3.500.000. Terdakwa mengaku melakukan pencurian karena alasan ekonomi. Perbuatannya diancam pidana sesuai Pasal 362 jo. Pasal 65 Ayat (1) KUHP.",
         "Gede Kastawa",
         "30.0"
        ],
        [
         "440",
         "0",
         "17",
         "14",
         "3",
         "1 buah tas ransel warna abu-abu merk Polo Deger 1 unit Handphone merk Oppo A37 warna putih dengan nomor Imei1 864218035349557 dan Imei2 864218035349540 1 buah kotak Handphonemerk Oppo A37 warna putih dengan nomor Imei1 864218035349557 dan Imei2 864218035349540 1 unit Laptop warna Hitam merk Lenovo type Ideapad 320 beserta 1 buah charger Laptop dan 1 buah Mouse merk K-One Dikembalikan kepada saksi I WAYAN ADI ANTARA 1 unit Sepeda Motor merk Honda Beat tahun 2019 warna merah putih No.Pol DK 4895 KAW dengan No. Rangka MH1JM1121KK044301 dan No. Mesin JM11E2026766 beserta dengan 1 buah kunci sepeda motor 1 buah STNK Sepeda Motor merk Honda Beat tahun 2019 warna merah putih No.Pol DK 4895 KAW dengan No. Rangka MH1JM1121KK044301 dan No. Mesin JM11E2026766. 1 buah baju kaos berkerah warna merah. 1 buah celana panjang warna Coklat muda. Dikembalikan kepada terdakwa KETUT AGUS ADI PUTRA KUSUMA Membebankan kepada Terdakwa untuk membayar biaya perkara sebesar Rp. 5.000,- (lima ribu rupiah)",
         "Bahwa terdakwa KETUT AGUS ADI PUTRA KUSUMA pada hari Jumat tanggal 12 Juni 2020 sekira pukul 16.00 Wita atau setidak-tidaknya pada suatu waktu dalam bulan Juni tahun 2020 bertempat di depan toko emas Pande Murda, di Lingkungan Teges Kaja, Kelurahan Gianyar, Kecamatan Gianyar Kabupaten Gianyar atau setidak-tidaknya pada suatu tempat yang masih dalam daerah hukum Pengadilan Negeri Gianyar, telah mengambil barang sesuatu, yang seluruhnya atau sebagian kepunyaan orang lain, dengan maksud untuk dimiliki secara melawan hukum, yang terdakwa lakukan dengan cara sebagai berikut. Bahwa berawal saat terdakwa melintas di depan toko emas Pande Murda di Lingkungan Banjar Teges Kaja Kelurahan Gianyar Kecamatan Gianyar Kabupaten Gianyar, melihat satu buah tas ransel merk Polo Deger milik saksi I Wayan Adi Antara yang didalamnya berisi satu buah laptop merk Lenovo lengkap dengan charger beserta mouse, satu buah HP merk Oppo A37 warna putih, uang tunai sejumlah Rp.1.300.000,- (satu juta tiga ratus ribu rupiah), berkas-berkas serah terima barang dan satu buah buku tabungan BPD yang diletakkan dipinggir jalan, selanjutnya terdakwa tanpa seijin dari saksi I Wayan Adi Antara mengambil tas ransel merk Polo Deger tersebut lalu membawanya pulang, kemudian terdakwa mengambil uang sejumlah Rp.1.300.000. (satu juta tiga ratus ribu rupiah) tersebut, menjual HP merk Oppo A37 tersebut kepada saksi Pande Kadek Ngurah Wahyu dan menjual laptop merk Lenovo tersebut kepada saksi Dewa Gede Murya. Bahwa akibat perbuatan terdakwa tersebut saksi I Wayan Adi Antara mengalami kerugian sejumlah Rp. 7.000.000. (tujuh juta rupiah) atau setidak-tidaknya sekitar jumlah tersebut. Perbuatan terdakwa tersebut sebagaimana diatur pasal 362 KUHP.",
         "KETUT AGUS ADI PUTRA KUSUMA",
         "16.0"
        ],
        [
         "598",
         "0",
         "17",
         "14",
         "4",
         "1 unit SPM Honda Vario warna hitam Nopol DK 5868 AAN,  1 buah Helm warna putih bertuliskan Sifino,  1 pcs baju kaos warna hitam kombinasi merah yang bertuliskan GATAL dan celana panjang kain warna hitam. Dikembalikan kepada terdakwa Mohammad Hosen 9 lempeng besi masing-masing berbentuk hurup U sebanyak 5 lempeng, berbentuk hurup W sebanyak 4 lempeng,  Baut sebanyak 18 buah,  Mur 21 ( dua puluh satu ) buah .  Ring sebanyak 7 buah,  Besi sebanyak 44 (empat puluh empat) lempeng yang terdiri dari berbentuk hurup U sebanyak 26 ( dua puluh enam ) lempeng dan berbentuk hurup W sebanyak 18 lempeng,  Baut sebanyak 62 (enam puluh dua) buah,  Mur sebanyak 61 (enam puluh satu) buah,  Ring sebanyak 19 buah,  Dikembalikan kepada Dikembalikan kepada kementrian PU dan Perumahan Rakyat (Balai Besar Pelaksanaan Jalan Nasional VIII Surabaya Satker PJN Wilayah III Provinsi Bali) melalui saksi Ida Bagus Putu Jeladi, ST. 5 kampil ukuran 22 KG,  1 buah kampil beras ukuran 5 KG 1 buah kampil beras ukuran 5 KG 1 buah kunci Inggris, Dirampas untuk dimusnahkan Membebani terdakwa untuk membayar biaya perkara sebesar Rp. 5.000,00 (lima ribu rupiah)",
         "Bahwa terdakwa MOHAMMAD HOSEN, pada hari Senin tanggal 10 Juni 2019 sekira pukul 24.30 Wita atau setidak-tidaknya pada suatu waktu dalam bulan Juni 2019, bertempat di Jalan Bay Pass Prof. Ida Bagus Mantra Banjar Pabean Desa Ketewel Kecamatan Sukawati Kabupaten Gianyar atau setidak-tidaknya pada suatu tempat yang masih dalam daerah hukum Pengadilan Negeri Gianyar, telah mengambil barang sesuatu, yang seluruhnya atau sebagian kepunyaan orang lain, dengan maksud untuk dimiliki secara melawan hukum, perbuatan tersebut terdakwa lakukan dengan cara sebagai berikut. Bahwa awalnya pada hari Minggu sekira pukul 23.30 wita terdakwa berangkat dari Denpasar menuju daerah Gianyar menggunakan Sepeda Motor Honda Vario warna hitam Nomor Polisi DK 5868 AAN, sesampainya di Jalan Bay Pass Prof. Ida Bagus Mantra Banjar Pabean Desa Ketewel Kecamatan Sukawati Kabupaten Gianyar sekira pukul 24.30 wita terdakwa merasa situasi dalam keadaan aman lalu terdakwa berhenti dan berjalan menuju besi pembatas jalan yang terpasang memisahkan antara jalan dengan taman jalan, kemudian terdakwa dengan menggunakan kunci inggris yang telah dipersiapkan membuka satu persatu baut-baut besi pembatas jalan tersebut selanjutnya mengambil lempeng-lempeng besi pembatas jalan dan memasukkannya kedalam kampil beras ukuran 5 kg yang terdakwa bawa, selanjutnya setelah berhasil memasukkan 9 lempeng besi kedalam kampil terdakwa melihat saksi I Ketut Jarna alias jarot dan saksi Milkias Menabu berjalan mendekat dan terdakwa karena merasa takut terdakwa lari menuju arah timur.. Bahwa terdakwa telah mengambil besi-besi pembatas jalan di Jalan Bay Pass Prof. Ida Bagus Mantra Banjar Pabean Desa Ketewel Kecamatan Sukawati Kabupaten Gianyar sebanyak 15 kali, lalu menjual besi-besi tersebut kepada saksi Selamet Edi Susanto dan saksi Ainur Kumala Dewi. Bahwa akibat perbuatan terdakwa Pemerintah (Kementrian PU dan Perumahan Rakyat) mengalami kerugian kurang lebih sebesar Rp.4.093.100, (empat juta sembilan puluh tiga ribu seratus rupiah). Perbuatan terdakwa sebagaimana diatur pasal 362 KUHP.",
         "MOHAMMAD HOSEN",
         "17.0"
        ],
        [
         "425",
         "0",
         "17",
         "16",
         "3",
         "1 unit Sepeda Motor Merk Vespa Type Sprint tahun 2018 warna merah, Nomor Polisi DK-3874-MX, nomor rangka RP8M8222IJV010481, nomor mesin M828M5040535, atas nama NI MADE MARIATI, beserta kunci kontaknya. 1 Lembar STNK Sepeda Motor Merk Vespa Type Sprint tahun 2018 warna merah, Nomor Polisi DK-3874-MX, nomor rangka RP8M8222IJV010481, nomor mesin M828M5040535, atas nama NI MADE MARIATI. Dikembalikan kepada saksi I KADEK PUTRA SUARMAHEDI 1 unit Sepeda Motor Merk Honda Beat tahun 2012, warna Putih, Nomor Polisi DK-7563-OM, nomor rangka MH1JF5121CK994533, nomor mesin JF51E2934217, atas nama I NYOMAN SORNA Beserta Kunci kontaknya. 1 Lembar STNK Sepeda Motor Merk Honda Beat tahun 2012, warna Putih, Nomor Polisi DK-7563-OM, nomor rangka MH1JF5121CK994533, nomor mesin JF51E2934217, atas nama I NYOMAN SORNA. Dikembalikan kepada Terdakwa 1 Unit Handphone Merk Xiaomi Type Mi X2 Warna Hitam. Dirampas untuk dimusnahkan Membebankan kepada Terdakwa untuk membayar biaya perkara sebesar Rp5.000,00 (Lima ribu Rupiah).",
         "Bahwa terdakwa M. ZAINAL ARIF bersama sdr. HERI alias HERI ROYAL (Daftar Pencarian Orang) pada hari Selasa tanggal 01 September 2020 atau setidak-tidaknya pada suatu waktu dalam tahun 2020 sekira jam 05.00 Wita atau setidak-tidaknya pada waktu antara matahari terbenam dan matahari terbit, bertempat di rumah kost milik Pak Bolang di Jalan Batu Intan II D Banjar Dinas Tubuh Desa Batubulan Kecamatan Sukawati Kabupaten Gianyar, atau setidak-tidaknya pada suatu tempat yang masih dalam daerah hukum Pengadilan Negeri Gianyar, telah mengambil barang sesuatu, yang seluruhnya atau sebagian kepunyaan orang lain, dengan maksud untuk dimiliki secara melawan hukum, di waktu malam dalam sebuah rumah atau pekarangan tertutup yang ada rumahnya, yang dilakukan oleh orang yang ada di situ tidak diketahui atau tidak dikehendaki oleh yang berhak, yang dilakukan oleh dua orang atau lebih dengan bersekutu, yang terdakwa lakukan dengan cara sebagai berikut. Bahwa awalnya terdakwa bersama sdr. HERI alias HERI ROYAL dengan menggunakan sepeda motor Honda Beat warna putih nomor polisi DK-7563-OM mendatangi rumah kos milik Pak Bolang di jalan Batu Intan II D, Banjar Dinas Tubuh, Desa Batubulan, Kecamatan Sukawati, Kabupaten Gianyar, sesampainya di depan rumah kos tersebut terdakwa menghentikan sepeda motor yang dikendarai lalu menunggu diatas sepeda motor mengawasi situasi sekitar, selanjutnya sdr. HERI alias HERI ROYAL masuk kedalam areal rumah kos melalui pintu gerbang, setelah berada didalam areal rumah kos sdr. HERI alias HERI ROYAL tanpa seijin dari saksi I Kadek Putra Suarmahedi sebagai pemiliknya mengambil satu unit sepeda motor merk Vesva type Sprint warna merah nomor polisi DK-3874-MX beserta STNKnya dan uang tunai sejumlah Rp.300.000,- (tiga ratus ribu rupiah), selanjutnya membawa sepeda motor tersebut dan menyerahkannya kepada terdakwa, kemudian sepeda motor tersebut terdakwa jual kepada saksi Bustomi Abdul Ghoni seharga Rp. 10.000.000,- (sepuluh juta rupiah) dan uang hasil penjualan sepeda motor tersebut diberikan kepada sdr. HERI alias HERI ROYAL sejumlah Rp.3.500.000,- (tiga juta lima ratus ribu rupiah) dan sisanya sejumlah Rp.6.500.000,- (enam juta lima ratus ribu rupiah) telah terdakwa gunakan untuk memenuhi kehidupan sehari-hari.. Perbuatan terdakwa tersebut sebagaimana diatur dan diancam pidana pasal 363 ayat (1) ke-3 dan ke-4 KUHP.",
         "M. ZAINAL ARIF",
         "36.0"
        ],
        [
         "477",
         "0",
         "17",
         "18",
         "2",
         "1 unit Handphone merek Azus warna Abu-abu dengan nomor 083834968210 dan 085829160685, Uang sebesar Rp 500.000,- (lima ratus ribu rupiah), 1 buah Tas warna Merah dalam kondisi robek, 1 buah Jepit Rambut warna Hitam, 1 lembar Nota Pembelian dari SARICELL tgl 21 Agustus 2019 Dikembalikan kepada saksi Ni Nyoman Wardani 1 unit sepeda motor merek Yamaha Lexi warna Hitam Dop dengan Nomor Polisi DK 6827 FAU. Dikembalikan kepada Terdakwa I GDE DIKA PRAYOGA ARINATHA Alias BADAK Membebankan kepada Terdakwa untuk membayar biaya perkara sejumlah Rp5.000,00 (lima ribu rupiah)",
         "Pada hari Jumat, 13 Maret 2020, sekitar pukul 11.00 WITA, terdakwa melakukan tindak pidana pencurian dengan kekerasan di Jalan Tirta Tawar, Banjar Tengah Kauh, Desa Peliatan, Kecamatan Ubud, Kabupaten Gianyar. Terdakwa melihat saksi Ni Nyoman Wardani yang sedang berjalan sambil memegang handphone merk Asus, kemudian menghampiri saksi dan berkata, \"Ngorang Sing Ngaba HP\" (Bilang Tidak Bawa HP), lalu secara paksa mengambil handphone tersebut dari tangan saksi. Ketika saksi berusaha merebut kembali handphone itu, terdakwa memukul saksi hingga jatuh dan menarik tas yang dibawa oleh saksi hingga tali tas tersebut putus. Setelah itu, terdakwa mengambil uang sebesar Rp 500.000,- yang ada di dalam tas saksi dan memasukkannya ke dalam saku celananya. Terdakwa didakwa dengan dakwaan primair berdasarkan Pasal 365 Ayat (1) KUHP, dan dakwaan subsidair berdasarkan Pasal 351 Ayat (1) KUHP.",
         "I GDE DIKA PRAYOGA ARINATHA Alias BADAK",
         "5.5"
        ],
        [
         "787",
         "0",
         "17",
         "19",
         "6",
         "1 buah HP Samsung G7, 1 Pcs baju kemeja kotak2 warna merah kombinasi putih 1 buah topi warna hitam putih 1 lembar selendang warna hitam putih 1 buah tas coklat Merk Giorgio Armani 1 buah HP Xiomi 1 Pcs baju kaos lengan panjang warna abu kombinasi biru 1 Pcs Udeng warna coklat 1 Pcs baju lengan pendek warna hitam kombinasi putih garis2. 1 buah topi warna coklat 1 buah HP Samsung Galaxy Note 4 1 Pcs baju kaos warna abu bertuliskan Mahesa 1 buah HP Samsung Galaxy Note 3 1 Pcs Udeng warna putih 1 Pcs baju kaos warna hitam lengan panjang 1 Pcs topi warna hitam kombinasi abu berisi tulisan Cap 1 buah HP merk BLAU PUNKT 1 Pcs selendang warna coklat 1 lembar bukti transper BCA Rp 500.000 1 Pcs baju lengan pendek warna ungu motif garis-garis 1 buah HP I Cherry warna hitam Uang Rp 260.000 (dua ratus enam puluh ribu rupiah) Uang Rp 300.000 ( tiga ratus ribu rupiah ) Uang Rp 300.000 ( tiga ratus ribu rupiah ) Uang Rp 650.000 ( enam ratus lima puluh ribu rupiah ) Uang Rp 1.300.000 ( satu juta tiga ratus ribu rupiah ) Uang Rp 200.000 ( dua ratus ribu rupiah ) Uang Dolar 3 lembar pecahan 1 Dolar 1 buah HP Samsung S7 dan WIFI Uang 1085 YUAN Uang Rp 100.000 ( seratus ribu rupiah ). 1 Unit mobil Daihatsu terios B 1039 NRJ, kunci dan STNK 1 Unit Mobil Grand Livina Nopol L 1898 PB, Kunci dan STNK digunakan dalam perkara atas nama Terdakwa Tutik Maryati dan Husin Suherman Membebani Para Terdakwa untuk membayar biaya perkara masing masing sebesar Rp5.000,-(lima ribu rupiah)",
         "Bahwa terdakwa I JURI HARNI, terdakwa II MAYA SYAHRIAL, terdakwa III ARIS SUSANTO, dan terdakwa IV HERI HUMAENI, bersama-sama dengan saksi HUSIN SUHERMAN, saksi TUTIK MARYATI, serta dua orang DPO yaitu YOHANA dan EVI, pada tanggal 22 dan 25 Februari 2018 di dua lokasi wisata di Bali, yakni Pura Desa Batuan dan Pasar Seni Guwang, telah melakukan tindak pidana pencurian secara bersama-sama. Para terdakwa menginap di Hotel Viking Denpasar untuk merencanakan aksi pencopetan dengan sasaran para wisatawan, dan membagi peran: terdakwa III dan IV sebagai sopir dan penunggu mobil, terdakwa I dan II serta dua DPO sebagai pengalih perhatian dan pengawas situasi, sedangkan pencurian dilakukan oleh saksi TUTIK MARYATI dan hasilnya diserahkan kepada saksi HUSIN SUHERMAN. Pada tanggal 22 Februari 2018, mereka mencuri uang sejumlah 3.280 Yuan dan Rp100.000 dari tas wisatawan bernama LI XIAOYUAN di Pura Desa Batuan. Selanjutnya, pada 25 Februari 2018, mereka mencuri satu unit handphone Samsung S7 dan satu perangkat WiFi Glocalme milik wisatawan QINGHUA LI di Pasar Seni Guwang. Setelah aksi pencurian, hasil curian dibawa ke mobil dan dibagi-bagi setelah sempat ditukar di money changer. Akibat perbuatan tersebut, kedua korban mengalami kerugian masing-masing sebesar Rp7.000.000 dan Rp6.200.000. Perbuatan para terdakwa diancam pidana berdasarkan Pasal 363 ayat (1) ke-4 KUHP jo. Pasal 65 ayat (1) KUHP.",
         "Juri Harni",
         "36.0"
        ],
        [
         "789",
         "0",
         "17",
         "19",
         "6",
         "1 buah HP Samsung G7, 1 Pcs baju kemeja kotak2 warna merah kombinasi putih 1 buah topi warna hitam putih 1 lembar selendang warna hitam putih 1 buah tas coklat Merk Giorgio Armani 1 buah HP Xiomi 1 Pcs baju kaos lengan panjang warna abu kombinasi biru 1 Pcs Udeng warna coklat 1 Pcs baju lengan pendek warna hitam kombinasi putih garis2. 1 buah topi warna coklat 1 buah HP Samsung Galaxy Note 4 1 Pcs baju kaos warna abu bertuliskan Mahesa 1 buah HP Samsung Galaxy Note 3 1 Pcs Udeng warna putih 1 Pcs baju kaos warna hitam lengan panjang 1 Pcs topi warna hitam kombinasi abu berisi tulisan Cap 1 buah HP merk BLAU PUNKT 1 Pcs selendang warna coklat 1 lembar bukti transper BCA Rp 500.000 1 Pcs baju lengan pendek warna ungu motif garis-garis 1 buah HP I Cherry warna hitam Uang Rp 260.000 (dua ratus enam puluh ribu rupiah) Uang Rp 300.000 ( tiga ratus ribu rupiah ) Uang Rp 300.000 ( tiga ratus ribu rupiah ) Uang Rp 650.000 ( enam ratus lima puluh ribu rupiah ) Uang Rp 1.300.000 ( satu juta tiga ratus ribu rupiah ) Uang Rp 200.000 ( dua ratus ribu rupiah ) Uang Dolar 3 lembar pecahan 1 Dolar 1 buah HP Samsung S7 dan WIFI Uang 1085 YUAN Uang Rp 100.000 ( seratus ribu rupiah ). 1 Unit mobil Daihatsu terios B 1039 NRJ, kunci dan STNK 1 Unit Mobil Grand Livina Nopol L 1898 PB, Kunci dan STNK digunakan dalam perkara atas nama Terdakwa Tutik Maryati dan Husin Suherman Membebani Para Terdakwa untuk membayar biaya perkara masing masing sebesar Rp5.000,-(lima ribu rupiah)",
         "Bahwa terdakwa I JURI HARNI, terdakwa II MAYA SYAHRIAL, terdakwa III ARIS SUSANTO, dan terdakwa IV HERI HUMAENI, bersama-sama dengan saksi HUSIN SUHERMAN, saksi TUTIK MARYATI, serta dua orang DPO yaitu YOHANA dan EVI, pada tanggal 22 dan 25 Februari 2018 di dua lokasi wisata di Bali, yakni Pura Desa Batuan dan Pasar Seni Guwang, telah melakukan tindak pidana pencurian secara bersama-sama. Para terdakwa menginap di Hotel Viking Denpasar untuk merencanakan aksi pencopetan dengan sasaran para wisatawan, dan membagi peran: terdakwa III dan IV sebagai sopir dan penunggu mobil, terdakwa I dan II serta dua DPO sebagai pengalih perhatian dan pengawas situasi, sedangkan pencurian dilakukan oleh saksi TUTIK MARYATI dan hasilnya diserahkan kepada saksi HUSIN SUHERMAN. Pada tanggal 22 Februari 2018, mereka mencuri uang sejumlah 3.280 Yuan dan Rp100.000 dari tas wisatawan bernama LI XIAOYUAN di Pura Desa Batuan. Selanjutnya, pada 25 Februari 2018, mereka mencuri satu unit handphone Samsung S7 dan satu perangkat WiFi Glocalme milik wisatawan QINGHUA LI di Pasar Seni Guwang. Setelah aksi pencurian, hasil curian dibawa ke mobil dan dibagi-bagi setelah sempat ditukar di money changer. Akibat perbuatan tersebut, kedua korban mengalami kerugian masing-masing sebesar Rp7.000.000 dan Rp6.200.000. Perbuatan para terdakwa diancam pidana berdasarkan Pasal 363 ayat (1) ke-4 KUHP jo. Pasal 65 ayat (1) KUHP.",
         "Aris Susanto",
         "36.0"
        ],
        [
         "521",
         "0",
         "17",
         "20",
         "3",
         "1 buah dompet kulit warna coklat. 1 buah pisau besar / blakas. Dikembalikan kepada saksi I MADE DIANA EKA PUTRA. 1 buah HP Merk Oppo type A.37 warna Rose Gold kombinasi putih. Dikembalikan kepada saksi NI KADEK HELLY SUJANI 1 buah dompet warna pink. 1 buah tas selempang cewek warna biru dongker. Dikembalikan kepada saksi NI KADEK DIAN OKTARINA. Membebankan kepada Terdakwa untuk membayar biaya perkara sejumlah Rp5.000,00 (lima ribu rupiah)",
         "Bahwa terdakwa ROSIDIN bersama sdr. IDI (Daftar Pencarian Orang) pada hari Selasa tanggal 10 Desember 2019 sekira jam 01.00 Wita sampai dengan jam 06.00 wita atau setidak-tidaknya pada suatu waktu dalam bulan Desember tahun 2019 bertempat di rumah milik saksi I Made Rentet, di rumah milik saksi I Nyoman Sukarja dan di rumah milik I Nyoman Loki yang berlokasi di Banjar Rangkan, Desa Ketewel, Kecamatan Sukawati, Kabupaten Gianyar atau setidak-tidaknya pada suatu tempat yang masih dalam daerah hukum Pengadilan Negeri Gianyar, telah melakukan perbarengan beberapa perbuatan yang harus dipandang sebagai perbuatan yang berdiri sendiri sehingga merupakan beberapa kejahatan, yang diancam dengan pidana pokok sejenis, yaitu mengambil barang sesuatu, yang seluruhnya atau sebagian kepunyaan orang lain, dengan maksud untuk dimiliki secara melawan hukum, di waktu malam dalam sebuah rumah atau pekarangan tertutup yang ada rumahnya, yang dilakukan oleh orang yang ada di situ tidak diketahui atau tidak dikehendaki oleh yang berhak, yang dilakukan oleh dua orang atau lebih dengan bersekutu, yang terdakwa lakukan dengan cara sebagai berikut. Bahwa berawal sekitar awal bulan Desember 2019 terdakwa dan sdr. IDI bersepakat untuk melakukan pencurian di wilayah Bali, kemudian pada hari Senin tanggal 9 Desember 2019 sekira jam 10.00 wita terdakwa bersama sdr. IDI berangkat dari Lombok menuju Bali dengan menggunakan sepeda motor milik sdr. IDI, selanjutnya sesampainya di Jalan Bay Pas Ida Bagus Mantra wilayah Banjar rangkan Desa Ketewel Kecamatan Gianyar sekira pukul 22.00 wita, terdakwa bersama sdr. IDI minum kopi disebuah warung yang berada di pinggir jalan Bay Pas Ida Bagus Mantra sambil melihat-lihat situasi dan mencari-cari sasaran, kemudian pada hari selasa sekira jam 01.00 wita sdr. IDI masuk ke dalam salah satu Gang tempat pemukiman penduduk sedangkan terdakwa tetap berada di sepeda motor mengawasi situasi, kemudian sdr. IDI masuk kedalam tiga rumah penduduk yakni masuk kedalam rumah saksi I Made Rentet lalu tanpa ijin mengambil barang-barang berupa satu buah blakas dan satu buah dompet kulit warna coklat berisi uang sejumlah Rp.1.000.000, (satu juta rupiah) milik saksi I Made Diana Eka Putra, selanjutnya sdr. IDI masuk kedalam rumah saksi I Nyoman Sukarja mengambil satu buah Hand phone merk OPPO tipe A37 warna rose gold kombinasi putih milik saksi Ni Kadek Helly Sujani, kemudian sdr. IDI menuju rumah saksi I Nyoman Loki lalu masuk kedalam rumah dan mengambil satu buah dompet wanita warna pink serta satu tas wanita warna biru dongker berisi uang sejumlah Rp.50.000, (lima puluh ribu rupiah), kemudian sdr. IDI menghubungi terdakwa untuk menjemput selanjutnya pulang ke tempat kost terdakwa di wilayah Banjar Sema Desa Bitra Gianyar, Kemudian satu buah Hand phone merk OPPO tipe A37 warna rose gold kombinasi putih milik saksi Ni Kadek Helly Sujani yang berhasil diambil oleh terdakwa dijual kepada saksi Herwandi seharga Rp.600.000, (enam ratus ribu rupiah) dan hasil penjualan tersebut terdakwa gunakan untuk beli makan dan minum.. Perbuatan terdakwa tersebut sebagaimana diatur dan diancam pidana pasal 363 ayat (1) ke-3 dan ke-4 KUHP jo. pasal 65 KUHP.",
         "ROSIDIN",
         "18.0"
        ],
        [
         "611",
         "0",
         "17",
         "20",
         "3",
         "1 unit sepeda motor Honda Vario CW, DK 6807 KB warna putih dan kunci kontak beserta STNK atas nama I WAYAN JIMMY alamat Br. Ubud Kelod Kecamatan Ubud Kabupaten Gianyar, Dikembalikan kepada saksi I WAYAN JAPA Membebankan kepada Terdakwa membayar biaya perkara sejumlahRp 5.000,00 (lima ribu rupiah)",
         "Bahwa terdakwa DICKY DARMA SAPUTRA pada hari Kamis tanggal 11 April 2019 sekira pukul 14.00 Wita atau setidak-tidaknya pada suatu waktu dalam bulan April tahun 2019, bertempat di tempat cuci motor di Banjar Yeh Tengah Desa Kelusa Kecamatan Payangan Kabupaten Gianyar atau setidak-tidaknya pada suatu tempat yang masih dalam daerah hukum Pengadilan Negeri Gianyar, telah mengambil barang sesuatu, yang seluruhnya atau sebagian kepunyaan orang lain, dengan maksud untuk dimiliki secara melawan hukum, yang terdakwa lakukan dengan cara sebagai berikut. Berawal ketika terdakwa sedang bekerja sebagai tukang cuci motor di tempat cuci motor milik saksi I Wayan Japa, datang saksi I Made Sarna untuk mencuci sepeda motor Honda Vario CW DK 6807 KB warna putih lalu menyerahkan sepeda motornya kepada terdakwa untuk dicuci dan mengatakan satu jam lagi akan saya ambil, selanjutnya setelah terdakwa selesai mencuci sepeda motor, terdakwa tanpa seijin dari saksi I Made Sarna sebagai pemiliknya membawa sepeda motor tersebut pergi ke Denpasar, kemudian terdakwa menjual sepeda motor tersebut kepada saksi Moh. Lamri seharga Rp. 1.000.000, (satu juta rupiah) dan uang hasil penjualan sepeda motor tersebut telah terdakwa gunakan untuk memenuhi kebutuhan sehari-hari. Bahwa akibat perbuatan terdakwa saksi I Made Sarna mengalami kerugian materiil kurang lebih sebesar Rp. 7.000.000, (tujuh juta rupiah).  Terdakwa didakwa dengan dakwaan primair berdasarkan Pasal 362 KUHP, dan dakwaan subsidair berdasarkan Pasal 372 KUHP.",
         "Dicky Darma Saputra",
         "17.0"
        ],
        [
         "581",
         "0",
         "17",
         "20",
         "3",
         "1 (Satu) unit Sepeda motor Honda Supra warna Biru tahun 2000 dengan Nomor Polisi DK 3614 KR, Nomor Rangka MHIKEY115YK061496 Nomor Mesin KEVIE1061328 1 (Satu) buku BPKB sepeda motor Honda Supra warna Biru tahun 2000 Nomor 9326742, dengan Nomor Polisi DK 3614 KR atas nama NI NYOMAN MERIANI alamat Banjar Ponggang Desa Puhu Payangan Gianyar Dikembalikan kepada saksi I WAYAN DIRGANTARA 1 unit Sepeda motor merk Yamaha Xride warna Hitam merah Tahun 2014 dengan Nomor Polisi DK 2607 FV dengan Nomor Rangka MH32BU001EJ096463 , Nomor Mesin 2BU096471 1 lembar STNK Sepeda motor merk Yamaha Xride warna Hitam merah Tahun 2014 dengan Nomor Polisi DK 2607 FV atas nama SULIANTO alamat Jalan I Wayan Guntuh III/33 Dalung Kuta Utara Badung. Dikembalikan kepada saksi ABDI NUSANTO Alias PAK YUDA. Membebankan kepada Terdakwa membayar biaya perkara sejumlah Rp5.000,00(Lima Ribu Rupiah)",
         "Bahwa terdakwa DEDIK ISWANTO Alias ADIMAN Alias ADI pada hari Selasa tanggal 16 Juli 2019 sekira jam 08.30 Wita atau setidak-tidaknya pada suatu waktu dalam bulan Juli tahun 2019, bertempat di depan rumah saksi I Wayan Dirgantara di Jalan Raya Ponggang Banjar Ponggang Desa Puhu Kecamatan Payangan Kabupaten Gianyar, atau setidak-tidaknya pada suatu tempat yang masih dalam daerah hukum Pengadilan Negeri Gianyar, telah mengambil barang sesuatu, yang seluruhnya atau sebagian kepunyaan orang lain, dengan maksud untuk dimiliki secara melawan hukum, yang terdakwa lakukan dengan cara sebagai berikut. Berawal terdakwa mengendarai sepeda motor Yamaha X-Ride warna hitam merah nomor polisi DK-2607-FV yang dipinjam dari saksi Abdi Nusanto Als Pak Yuda melintas di Jalan Raya Ponggang Banjar Ponggang Desa Puhu Kecamatan Payangan Kabupaten Gianyar melihat satu unit sepeda motor Honda Supra nomor polisi DK-3614-KR milik saksi I Wayan Dirgantara terpakir di pinggir jalan, selanjutnya merasa sepeda motor Yamaha X-Ride yang terdakwa kendarai terasa ngadat lalu terdakwa tanpa ijin dari saksi I Wayan Dirgantara sebagai pemiliknya mengambil sepeda motor Honda Supra nomor polisi DK-3614-KR tersebut, lalu mengendarainya menuju Denpasar dengan maksud akan dijual, sedangkan sepeda motor yang terdakwa kendarai sebelumnya ditinggalkan di pinggir jalan Raya Ponggang Banjar Ponggang Desa Puhu Kecamatan Payangan Kabupaten Gianyar.. Bahwa akibat perbuatan terdakwa tersebut, saksi I Wayan Dirgantara mengalami kerugian kurang lebih sebesar Rp. 3.500.000, (tiga juta lima ratus juta rupiah). Perbuatan terdakwa tersebut sebagaimana diatur pasal 362 KUHP.",
         "Dedik Iswanto alias Adiman alias Adi.",
         "14.0"
        ],
        [
         "749",
         "0",
         "17",
         "20",
         "3",
         "1 unit HP merk Samsung S8 warna biru nomor IMEI 354626/09/010546/5. Dikembalikan kepada Saksi Korban Fagyas Susanne melalui saksi SANG PUTU ARDANA. 1 unit Sepeda Motor Vario Techno warna hitam nopol DK 3880 UAA. 1 lembar STNK Sepeda Motor Vario Techno warna hitam nopol DK 3880 UAA an. NI PUTU AYU EKA CHANDRA serta kunci kontaknya. 1 buah helm Honda warna hitam.  Dikembalikan kepada saksi NI PUTU AYU EKA CHANDRA. Membebankan kepada Terdakwa untuk membayar biaya perkarasebesar Rp5.000,00(Lima Ribu Rupiah)",
         "Bahwa terdakwa pada hari Selasa tanggal 15 Mei 2018 sekira pukul 13.00 Wita atau setidak-tidaknya pada suatu waktu dalam bulan Mei tahun 2018 bertempat di Jalan Raya Tengkulak Desa Kemenuh Kecamatan Sukawati Kabupaten Gianyar atau setidak-tidaknya pada suatu tempat yang masih dalam daerah hukum Pengadilan Negeri Gianyar, telah mengambil barang sesuatu, yang seluruhnya atau sebagian kepunyaan orang lain, dengan maksud untuk dimiliki secara melawan hukum, yang didahului, disertai atau diikuti dengan kekerasan atau ancaman kekerasan, terhadap orang dengan maksud untuk mempersiapkan atau mempermudah pencurian, atau dalam hal tertangkap tangan, untuk memungkinkan melarikan diri sendiri atau peserta lainnya, atau untuk tetap menguasai barang yang dicuri, perbuatan tersebut terdakwa lakukan dengan cara sebagai berikut. Bahwa berawal saat terdakwa mengendarai sepeda motor Honda Vario nomor polisi DK-3880-UAA melintas di Jalan Raya Tengkulak Desa Kemenuh Kecamatan Sukawati Kabupaten Gianyar terdakwa melihat saksi Fagyas Susanne dibonceng oleh saksi Knoepfle sedang memegang satu buah HP merk Samsung S8, melihat hal tersebut timbul niat terdakwa untuk mengambil HP tersebut, selanjutnya terdakwa mengikuti lalu memepet saksi Fagyas Susanne yang dibonceng oleh saksi Knoepfle dari arah sebelah kanan hingga posisi sepeda motor yang terdakwa kendarai sejajar, kemudian dengan menggunakan tangan kiri terdakwa mengambil HP Samsung S8 milik saksi Fagyas Susanne yang dipegang dengan cara menarik secara paksa hingga saksi Fagyas Susanne hampir terjatuh, selanjutnya terdakwa membawa HP tersebut menuju arah Goa Gajah dan kemudian HP Samsung S8 tersebut terdakwa jual kepada saksi Samsul Hadi seharga Rp.4.200.000,- (empat juta dua ratus ribu rupiah) dan hasil penjuallanya terdakwa gunakan untuk memenuhi kebutuhan sehari-hari. Perbuatan terdakwa tersebut sebagaimana diatur dan diancam pidana pasal 365 ayat (1) KUHP.",
         "KADEK AGUS HERMANJAYA",
         "34.0"
        ],
        [
         "642",
         "0",
         "17",
         "21",
         "3",
         "1 buah sangkar burung kenari ukuran 40 cm x 40 cm (empat puluh sentimeter kali empat puluh senti meter 1 buah sangkar burung lovebird yang terbuat dari besi merek well cage 1 ekor burung lovebird warna pastel kuning Dikembalikan kepada saksi I MADE SUDIARTA Alias KADEK PALU 1 buah keramba burung yang terbuat dari besi Dirampas untuk Dimusnahkan 1 buah flashdisk merek sandisk yang berisi rekaman video pada tanggal 06 Maret 2019 Tetap terlampir dalam berkas perkara Membebankan biaya perkara kepada Terdakwa sebesar Rp5.000,00 (lima ribu rupiah)",
         "Bahwa terdakwa JUWENI alias BOTAK pada hari Rabu tanggal 6 Maret 2019 sekira pukul 22.00 Wita atau setidak-tidaknya pada suatu waktu dalam bulan Maret tahun 2019, bertempat di rumah saksi I Made Sudiarta alias Kadek Palu di Banjar Ambengan Desa Peliatan Kecamatan Ubud Kabupaten Gianyar atau setidak-tidaknya pada suatu tempat yang masih dalam daerah hukum Pengadilan Negeri Gianyar, telah mengambil barang sesuatu, yang seluruhnya atau sebagian kepunyaan orang lain, dengan maksud untuk dimiliki secara melawan hukum, di waktu malam dalam sebuah rumah atau pekarangan tertutup yang ada rumahnya, yang dilakukan oleh orang yang ada di situ tidak diketahui atau tidak dikehendaki oleh yang berhak, yang terdakwa lakukan dengan cara sebagai berikut. Bahwa pada waktu dan tempat sebagaimana tersebut diatas, berawal ketika terdakwa melintas di wilayah Banjar Ambengan Desa Peliatan Kecamatan Ubud Kabupaten Gianyar terdakwa mendengar suara burung Lovebird dari rumah saksi I Made Sudiarta alias Pak Palu lalu muncul niat terdakwa untuk melihat burung tersebut, selanjutnya terdakwa masuk kedalam pekarangan rumah saksi I Made Sudiarta alias Pak Palu dan melihat situasi rumah dalam keadaan sepi, kemudian tanpa seijin dari saksi I Made Sudiarta alias Pak Palu sebagai pemiliknya terdakwa mengambil dua ekor burung yakni satu ekor burung Lovebird dan satu ekor burung kenari warna kuning yang tergantung pada bangunan sebelah barat (Bale Dauh), kemudian terdakwa membawa burung tersebut pulang untuk dipelihara. Perbuatan terdakwa sebagaimana diatur dan diancam pidana pasal 363 ayat (1) ke-3 KUHP.",
         "Juweni alias Botak",
         "7.0"
        ],
        [
         "39",
         "0",
         "18",
         "0",
         "5",
         "3 ekor anak babi dengan bulu berwarna putih 1 buah karung plastic merk novo berwarna putih  dikembalikan kepada Saksi Komang Sucitra  6. Membebankan kepada Terdakwa membayar biaya perkara sejumlah Rp5.000,- (lima ribu rupiah)",
         "Terdakwa Elias Fanggi didakwa melakukan pencurian tiga ekor anak babi milik saksi I Komang Sucitra pada Sabtu, 27 Maret 2021 sekitar pukul 22.30 WITA di kandang babi yang terletak di Desa Abuan, Kecamatan Kintamani, Kabupaten Bangli. Awalnya, terdakwa datang ke kandang pada sore hari untuk membersihkan tempat tersebut. Namun pada malam harinya, terdakwa masuk ke dalam kandang melalui pintu yang tidak terkunci, lalu mengambil tiga ekor anak babi dan memasukkannya ke dalam karung plastik yang telah disiapkannya. Ia kemudian membawa hasil curian itu dengan sepeda motor milik saksi Leonardus Pendi dengan maksud untuk dijual. Aksi tersebut diketahui oleh pemilik kandang, yang kemudian melaporkan terdakwa ke pihak berwajib. Akibat perbuatan tersebut, saksi I Komang Sucitra mengalami kerugian sebesar Rp3.600.000. Perbuatan Terdakwa didakwa dengan dakwaan primair Pasal 363 Ayat (1) ke-1 KUHP, dan dakwaan subsidair Pasal 374 KUHP.",
         "Elias Fanggi",
         "6.0"
        ],
        [
         "40",
         "0",
         "19",
         "0",
         "5",
         "3 ekor anak babi dengan bulu berwarna putih 1 buah karung plastic merk novo berwarna putih  dikembalikan kepada Saksi Komang Sucitra  6. Membebankan kepada Terdakwa membayar biaya perkara sejumlah Rp5.000,- (lima ribu rupiah)",
         "Terdakwa Elias Fanggi didakwa melakukan pencurian tiga ekor anak babi milik saksi I Komang Sucitra pada Sabtu, 27 Maret 2021 sekitar pukul 22.30 WITA di kandang babi yang terletak di Desa Abuan, Kecamatan Kintamani, Kabupaten Bangli. Awalnya, terdakwa datang ke kandang pada sore hari untuk membersihkan tempat tersebut. Namun pada malam harinya, terdakwa masuk ke dalam kandang melalui pintu yang tidak terkunci, lalu mengambil tiga ekor anak babi dan memasukkannya ke dalam karung plastik yang telah disiapkannya. Ia kemudian membawa hasil curian itu dengan sepeda motor milik saksi Leonardus Pendi dengan maksud untuk dijual. Aksi tersebut diketahui oleh pemilik kandang, yang kemudian melaporkan terdakwa ke pihak berwajib. Akibat perbuatan tersebut, saksi I Komang Sucitra mengalami kerugian sebesar Rp3.600.000. Perbuatan Terdakwa didakwa dengan dakwaan primair Pasal 363 Ayat (1) ke-1 KUHP, dan dakwaan subsidair Pasal 374 KUHP.",
         "Elias Fanggi",
         "6.0"
        ],
        [
         "42",
         "0",
         "20",
         "0",
         "15",
         "1 buah mesin penggerak pompa air merk GENERAL beserta 1 buah pompa Sanchin 1 buah tali kipas Dikembalikan kepada I WAYAN SUTIANA 1 buah mesin penggerak pompa air merk GENERAL beserta 1 buah pompa Sanchin 1 buah tali kipas 1 pasang sepatu boat warna hijau tua Dikembalikan kepada I NENGAH SAPA 1 buah mesin penggerak pompa air merk GENERAL beserta 1 buah pompa Sanchin 1 buah tali kipas 2 buah selang warna orange Dikembalikan kepada I KETUT SUDADI 1 buah mesin penggerak pompa air merk PRIMA beserta 1 buah pompa Sanchin merk Pro Quip 1 buah tali kipas Dikembalikan kepada I WAYAN RAMANTO 1 buah mesin penggerak pompa air merk PRO QUIP beserta 1 buah pompa Sanchin merk Tanika 1 buah tali kipas DIkembalikan kepada I MADE SADSWADARMA 1 buah mesin pompa air merk Honda lengkap dengan pompa sanchin 1 buah tali kipas Dikembalikan I KETUT CAREM 1 buah mesin pompa air merk Robin lengkap dengan pompa sanchin 1 buah tali kipas Dikembalikan kepada I NYOMAN BIRAWAN 1 buah mesin pompa air merk Robin lengkap dengan pompa sanchin 1 buah tali kipas Dikembalikan kepada NI NENGAH SUANTINI 1 buah mesin pemotong kayu (Senzo) merk Still Dikembalikan kepada I NYOMAN KENEH 1 buah mesin pemotong rumput merk Harry Dikembalikan kepada I WAYAN DARMA 1 buah kompor gas merk Rinai 1 buah tabung gas isi 3 kg Dikembalikan kepada NI KETUT SUPADMI 1 unit sepeda motor Honda Genio warna abu-abu DK 5756 PX beserta kunci kontak 1 lembar STNK sepeda motor Honda Genio warna abu-abu DK 5756 PX nomor rangka MH1JM611XKK105164, nomor mesin JM61E- 1105196, tahun pembuatan 2019 atas nama I WAYAN EDI RUSMAWAN 1 set kunci peralatan bengkel terdiri dari 1 set kunci L, 1 buah tang, 1 buah kunci engkol, 5 buah kunci pas, 1 buah obeng, 2 buah kunci T Dikembalikan kepada Penuntut Umum untuk dijadikan barang bukti dalam perkara lain Uang tunai Rp 250.000,00 (dua ratus lima puluh ribu rupiah) Dirampas untuk negara 3 buah karung plastik (kampil) 1 gulung tali plastik rapia warna merah muda 2 buah selang warna bening Dimusnahkan  6. Membebankan kepada Terdakwa membayar biaya perkara sejumlah Rp5.000,00 (lima ribu rupiah)",
         "Terdakwa I Wayan Edi Rusmawan didakwa melakukan serangkaian pencurian antara bulan Juni 2020 hingga Januari 2021 di berbagai lokasi di wilayah Kecamatan Kintamani, Kabupaten Bangli. Terdakwa mengambil barang-barang milik sejumlah korban di antaranya I Wayan Sutiana, I Ketut Carem, I Ketut Sudadi, I Nyoman Keneh, Ni Nengah Suantini, I Nyoman Birawan, Ni Ketut Supadmi, I Wayan Darma, I Wayan Ramanto, I Nengah Sapa, dan I Made Sadswadarma. Aksi pencurian tersebut dilakukan terdakwa dengan cara merusak, memanjat, atau masuk secara diam-diam ke kebun, pondokan, warung, dan gudang milik para korban, dengan maksud untuk memiliki barang-barang tersebut secara melawan hukum. Karena dilakukan berulang kali di tempat dan waktu yang berbeda, perbuatan terdakwa dianggap sebagai beberapa kejahatan yang berdiri sendiri. Perbuatan Terdakwa didakwa dengan dakwaan primair Pasal 363 Ayat (1) ke-5 KUHP jo. Pasal 65 ayat (1) KUHP, dan dakwaan subsidair Pasal 362 KUHP Jo Pasal 65 Ayat (1) KUHP.",
         "I Wayan Edi Rusmawan",
         "24.0"
        ],
        [
         "46",
         "0",
         "22",
         "7",
         "4",
         "2 ekor hewan ternak sapi betina, bulu bagian tubuh berwarna coklat, bulu pada bagian kaki dan bokong berwarna putih, berat masing-masing sekira 250 Kg, umur sekira 1 tahun 6 bulan. Uang sebesar Rp. 4.656.000,- (empat juta enam ratus lima puluh enam ribu rupiah). 2 utas tali plastic warna biru dengan panjang masing-masing tali sekira 3 meter .  Dikembalikan kepada korban I WAYAN KASIR. 1 unit mobil Mitsubishi Colt L 300 jenis pick up warna hitam dengan nomor polisi DK 9673 DJ, Noka MH32S6005AK703868, Nosin 2S6-707748 beserta kunci. 1 buah STNK mobil Mitsubishi Colt L 300 warna hitam dengan nomor polisi DK 9673 DJ Noka MH32S6005AK703868, Nosin 2S6-707748 atas nama AGUNG OKA ASTINI.  Dikembalikan kepada I NYOMAN BINTANG. 1 unit sepeda motor Yamaha Jupiter MX 135 warna hitam dengan nomor polisi DK 4664 RI Noka MHML300DP2R288738, Nosin 4D56C226379 beserta kunci. 1 buah STNK sepeda motor Yamaha Jupiter MX 135 warna hitam dengan nomor polisi DK 4664 RI Noka MHML300DP2R288738, Nosin 4D56C226379atas nama SANG PUTU BAOS.   Dikembalikan kepada Terdakwa I WAYAN SUDARPA. uang sebesar Rp. 15.500.000 hasil dari penjualan sapi   Dikembalikan kepada I NYOMAN SUTAPA. 2 lembar surat keterangan jual beli hewan dari pasar hewan bringkit warna hijau tertanggal 12 Februari 2020. Dirampas untuk dimusnahkan 5. Membebankan kepada terdakwa untuk membayar biaya perkara sejumlah Rp. 5.000,- (Lima ribu rupiah).",
         "Terdakwa I Wayan Sudarpa pada Rabu, 12 Februari 2020 sekitar pukul 01.00 WITA melakukan pencurian tiga ekor sapi milik I Wayan Kasir di Br. Tiying Desa, Desa Pengotan, Kecamatan Bangli. Aksi tersebut direncanakan sebelumnya bersama I Nyoman Bintang, dengan dalih ingin menjual sapi miliknya untuk membayar utang. Pada malam hari yang telah disepakati, terdakwa mendatangi kandang sapi korban dan secara bertahap membawa ketiga sapi tersebut ke mobil pick up milik I Nyoman Bintang yang menunggu di dekat lokasi. Sapi-sapi itu kemudian dibawa dan dijual di Pasar Bringkit, Badung. Dari hasil penjualan, terdakwa menerima uang sebesar Rp20.156.000 setelah dikurangi biaya operasional. Namun, diketahui sapi-sapi tersebut bukan milik terdakwa melainkan milik I Wayan Kasir, yang tidak pernah memberikan izin untuk pengambilan maupun penjualan. Akibat perbuatan terdakwa, korban mengalami kerugian sekitar Rp20.500.000. Tindakan terdakwa diancam pidana berdasarkan Pasal 363 Ayat (1) ke-1 KUHP.",
         "I WAYAN SUDARPA",
         "6.0"
        ],
        [
         "52",
         "0",
         "26",
         "10",
         "2",
         "1 buah Tas Selempang warna Hitam 1 buah Memori Kamera Webcam yang berisi Rekaman Kamera Webcam di Dapur Villa Tegal Anyar yang berlokasi di Jalan Raya Mawang, Banjar Mawang Kelod, Desa Lodtunduh, Kecamatan Ubud, Kabupaten Gianyar, tanggal 17 Oktober 2023 1 unit TV merk Xiomi warna Hitam 1 unit Kulkas merk Aqua warna Hitam 1 unit Speaker merk Polytron warna Hitam Dikembalikan kepada Saksi Evgenii Verestnikov 1 lembar Screenshot bukti pengiriman uang sebesar Rp 5.000.000,- (lima juta rupiah) dari NI PUTU MEI SAPITRI kepada NI KETUT SUKRAENI, tanggal 18 Oktober 2023 1 lembar Screenshot bukti pengiriman uang sebesar Rp 2.000.000,- (dua juta rupiah) dari NI PUTU MEI SAPITRI kepada NI KETUT SUKRAENI, tanggal 31 Oktober 2023 Dikembalikan kepada Saksi Ni Ketut Sukraeni 1 buah Baju Kaos warna Putih 1 buah Celana Panjang warna Pink Dirampas untuk dimusnahkan 1 unit Sepeda Motor merk Honda Scoopy warna Putih dengan Nomor Polisi DK 6204 KBG beserta STNK Dikembalikan kepada Terdakwa Membebankan kepada Terdakwa untuk membayar biaya perkara sejumlah Rp 5000,00 (lima ribu rupiah)",
         "Pada hari Selasa, 20 Juni 2023 sekitar pukul 14.00 WITA, terdakwa NI PUTU MEI SAPITRI yang bekerja sebagai cleaning service freelance, datang ke Villa Tegal Anyar di Jalan Raya Mawang, Desa Lodtunduh, Kecamatan Ubud, Kabupaten Gianyar, untuk membersihkan villa atas permintaan penghuni bernama EVGENII VERESTNIKOV. Setelah korban meninggalkan villa, terdakwa melihat tas selempang hitam di bawah meja dapur dalam keadaan sedikit terbuka, yang berisi uang Dolar Amerika dan Euro. Tanpa izin, terdakwa mengambil uang tersebut dan menyimpannya di kantung celana. Setelah selesai bekerja dan menerima pembayaran jasa dari korban melalui transfer, terdakwa pergi ke money changer di wilayah Ubud dan menukarkan uang curian tersebut menjadi sekitar Rp35.000.000. Uang tersebut kemudian digunakan untuk membeli barang-barang elektronik seperti kulkas, TV, dan speaker aktif, serta untuk kebutuhan pribadi lainnya. Korban tidak pernah memberikan izin atas pengambilan uang sebesar 1.900 Dolar Amerika dan 300 Euro tersebut, sehingga mengalami kerugian sekitar Rp35.000.000. Perbuatan Terdakwa didakwa dengan dakwaan kesatu berdasarkan Pasal 362 KUHP atau dakwaan kedua berdasarkan Pasal 480 Ayat (2) KUHP.",
         "NI PUTU MEI SAPITRI",
         "18.0"
        ],
        [
         "153",
         "0",
         "27",
         "10",
         "3",
         "1 buah cincin emas dengan permata ada warna merah (untuk perempuan) 1 buah Cincin emas tanpa permata (cincin kawin) 2 (Dua) buah Gelang emas 1 (Satu) buah Giwang emas 1 (Satu) buah Foto copy serifikat tanah/SHM nomor 2986/ Desa Keramas, luas tanah 2949 m2, pemilik an. I GUSTI AGUNG KETUT RAKA, SH. (dilegalisir) 1 (Satu) buah Surat Bukti Kredit nomor 12149-17-01-004448-0, dengan Nomor CIF 1009273052 atas nama NI WAYAN RIBEK, tanggal kredit 24-07-2017, beserta Nota Transaksi yang melekat pada surat tersebut 1 (Satu) buah Surat Bukti Kredit nomor 12149-17-01-001555-5, dengan Nomor CIF 9003433083 atas nama TIRTA NI NYOMAN, tanggal kredit 06-03-2017, beserta Nota Transaksi yang melekat pada surat tersebut 1 (Satu) buah Surat Bukti Kredit nomor 12149-17-01-000799-0, dengan Nomor CIF 1008338275 atas nama I MADE DANA PATI, tanggal Kredit 06-02-2017, beserta Nota Transaksi yang melekat pada surat tersebut 3 (Tiga) lembar Print file data lelang pada Aplikasi PT.Pegadaian Cabang Gianyar. Uang sejumlah Rp 26.000.000,00 (dua puluh enam juta rupiah)  Dikembalikan kepada Saksi I GUSTI AGUNG KETUT RAKA, S.H.  6. Membebani Terdakwa untuk membayar biaya perkara sebesar Rp 5,000,00 (lima ribu rupiah)",
         "Sekitar tahun 2017, Terdakwa Ni Wayan Ribek melakukan pencurian di rumah saksi korban I Gusti Agung Ketut Raka, S.H., yang terletak di Banjar Maspait, Desa Keramas, Blahbatuh, Gianyar. Pada saat itu, terdakwa datang ke rumah korban untuk menemui istri korban, Anak Agung Ayu Adi Suryasih (almarhum), yang sedang mencuci di kamar mandi. Melihat situasi rumah dalam keadaan sepi, terdakwa masuk ke kamar Bale Daje dan mengambil satu buah sertifikat tanah atas nama I Gusti Agung Ketut Raka serta sejumlah perhiasan emas yang disimpan dalam lemari yang tidak terkunci. Perhiasan yang diambil terdiri dari cincin, gelang, kalung, giwang, liontin, dan mainan kalung emas. Sekitar bulan Maret 2018, korban menyuruh istrinya untuk memeriksa perhiasan tersebut, namun seluruh barang yang disimpan di almari sudah tidak ditemukan. Barang-barang tersebut diambil tanpa seizin korban maupun istrinya dan dikuasai oleh terdakwa untuk kepentingan pribadi. Akibat perbuatan tersebut, korban mengalami kerugian sekitar Rp50.000.000. Terdakwa didakwa dengan dakwaan primair berdasarkan Pasal 362 KUHP, dan dakwaan subsidair berdasarkan Pasal 372 KUHP.",
         "NI WAYAN RIBEK",
         "18.0"
        ],
        [
         "173",
         "0",
         "27",
         "10",
         "3",
         "1 anak kunci merek BLG. 1 anak kunci merek SOLID. 1 anak kunci merek YALE. 1 gembok merek BLG. 1 gembok merek SOLID. 1 buah HP IPONE 7 plus warna hitam. 1 buah Carger Hp IPONE. 2 buah buah pembungkus/kotak rokok merek sampoerna Mild dalam keadaan sudah kosong. 1 buah Rokok merek In Mild. 1 buah Nota form setoran kasis Toko Sari Dana. 1 buah Nota Toko Sari Dana.  Dikembalikan kepada Saksi Ni Luh Ade Ayu Antari, S.Sos. 1 buah baju kaos warna hitam. Dikembalikan kepada Terdakwa Kadek Indra Saputra.  8. Membebani Terdakwa untuk membayar biaya perkara sebesar Rp.5,000,00 (lima ribu rupiah)",
         "Pada Rabu, 1 Februari 2023 sekitar pukul 01.53 WITA, terdakwa Kadek Indra Saputra melakukan pencurian di Toko Sari Dana yang berlokasi di Jalan Bypass Ida Bagus Mantra, Desa Keramas, Blahbatuh, Gianyar. Terdakwa mengambil satu ikat kunci dari Pos Satpam yang berjarak sekitar 10 meter dari toko, lalu menggunakan kunci tersebut untuk membuka dua gembok pintu rolling door dan pintu kaca toko. Setelah berhasil masuk, terdakwa membuka dua laci kasir menggunakan kunci yang ada di tempat dan mengambil uang tunai sebesar Rp2.585.000, dua lembar nota, enam bungkus rokok merek Sampoerna, dan lima bungkus rokok merek In Mild tanpa izin pemilik, yakni saksi korban Ni Luh Ade Ayu Antari. Uang hasil curian digunakan untuk membeli sebuah iPhone 7 Plus secara online dan sisanya dipakai untuk kebutuhan sehari-hari. Sebagian rokok digunakan sendiri dan satu bungkus dijual untuk membeli makanan. Dua lembar nota disimpan di rumah kontrakan terdakwa di Denpasar. Akibat perbuatan tersebut, saksi korban mengalami kerugian sekitar Rp2.876.000. Terdakwa didakwa dengan dakwaan primair berdasarkan Pasal 363 Ayat (1) ke-5 KUHP, dan dakwaan subsidair berdasarkan Pasal 362 KUHP.",
         "KADEK INDRA SAPUTRA",
         "14.0"
        ],
        [
         "75",
         "0",
         "27",
         "11",
         "3",
         "1 buah kotak plastik warna putih 1 buah tas plastik kecil warna merah merk Cath Kidston Uang sebesar Rp203.000,00 (dua ratus tiga ribu) rupiah dengan rincian uang Pecahan Rp100.000,00 (seratus ribu) rupiah sebanyak 1 lembar, uang Pecahan Rp50.000,00 (lima puluh ribu) rupiah sebanyak 1 lembar, uang Pecahan Rp10.000,00 (sepuluh ribu) rupiah sebanyak 3 lembar, uang Pecahan Rp5.000,00 (lima ribu) rupiah sebanyak 2 lembar, uang Pecahan Rp2.000,00 (dua ribu) rupiah sebanyak 6 lembar, uang Pecahan Rp1.000,00 (seribu) rupiah sebanyak 1 lembar. Dikembalikan kepada Saksi Korban Asmawi 1 buah Flashdisk yang berisi rekaman CCTV saat Terdakwa melintas di dekat TKP. Dikembalikan kepada Saksi Nasuki Membebankan kepada Terdakwa membayar biaya perkara sejumlah Rp5.000,00 (lima ribu rupiah)",
         "Pada Selasa, 26 Maret 2024 sekitar pukul 02.30 WITA, terdakwa Ferki Ferianata alias Febri melakukan pencurian di gudang rongsokan milik saksi Asmawi yang juga digunakan sebagai tempat tinggal di Kelurahan Samplangan, Gianyar. Setelah selesai bermain game di kosnya, terdakwa berjalan kaki menuju rumah korban dan masuk melalui tembok seng yang rusak. Ia mengendap masuk ke dapur dan mengambil dua bungkus rokok merek Como warna hitam dari etalase. Kemudian, terdakwa masuk ke kamar yang tidak terkunci, saat para penghuni sedang tidur, dan menemukan tas plastik merah berisi uang sebesar Rp8.000.000. Tas tersebut dimasukkan ke dalam kotak plastik putih, lalu dibawa ke dapur dan uangnya diambil, sementara kotak dan tas ditinggalkan. Uang hasil curian rencananya akan digunakan untuk membantu orang tua dan biaya perjalanan, sementara rokok dikonsumsi sendiri. Perbuatan tersebut dilakukan tanpa seizin korban dan menyebabkan kerugian sebesar Rp8.018.000. Terdakwa didakwa dengan dakwaan primair berdasarkan Pasal 363 Ayat (1) ke-3 KUHP, dan dakwaan subsidair berdasarkan Pasal 362 KUHP.",
         "FERKI FERIANATA Als FEBRI",
         "14.0"
        ],
        [
         "174",
         "0",
         "27",
         "12",
         "2",
         "2 lembar fotokopi BPKB sepeda motor No. I-06273341, merk Honda, warna putih, nomor registrasi DK 5273 CN, nomor rangka MH1JF5127BK676186, nomor mesin JF51E2663141, nama pemilik DRA NI KETUT SURYADIANI, alamat JL. GN TAMBORA 3 ALANGKAJENG PEMECUTAN DENPASAR yang sudah dileges  1 buah kunci kontak sepeda motor Honda  1 unit sepeda motor Honda Beat warna Putih nomor polisi DK 5273 CN, nomor rangka MH1JF5127BK676186, nomor mesin JF51E2663141  1 lembar STNK nomor registrasi DK-5273-CN, sepeda motor Merk Honda, type NC11B3C A/T tahun 2011 warna putih, nomor rangka MH1JF5127BK676186, nomor mesin JF51E2663141 a.n. pemilik DRA NI KETUT SURYADIANI alamat Jl. Gn Tambora 3 Alangkajeng, Kel. Pemecutan, Kec. Denpasar Barat Dikembalikan kepadaSaksi I Made Sumardika  1 buah kunci kontak sepeda motor Honda. Dirampas untuk Dimusnahkan Membebankan kepada Terdakwa membayar biaya perkara sejumlah Rp5.000,00 (lima ribu rupiah)",
         "Pada Minggu, 29 Januari 2023 sekitar pukul 02.30 WITA, terdakwa Ari Nur Wahyudi bersama rekannya Yanuar Pungkas Santoso alias Ipung (terdakwa dalam berkas terpisah) melakukan pencurian satu unit sepeda motor Honda Beat warna putih beserta STNK milik saksi korban I Made Sumardika, SE. Kejadian berlangsung di depan sebuah toko milik saksi I Dangin Putu Negara di Jalan Astina Selatan, Gianyar, yang juga digunakan sebagai tempat tinggal. Sebelumnya, pada malam hari tanggal 28 Januari 2023, terdakwa dan Ipung berangkat dari tempat kos adik terdakwa menuju Denpasar. Dalam perjalanan, mereka melewati toko tersebut dan melihat sepeda motor terparkir. Atas permintaan terdakwa, Ipung turun dan mengambil motor yang tidak dikunci stang dan mesinnya tidak menyala, sementara terdakwa menunggu sambil mengawasi situasi. Terdakwa kemudian mendorong motor curian tersebut dengan kaki kirinya sambil tetap mengendarai motor lain hingga sampai di tempat kerja mereka di Renon, Denpasar. Keesokan paginya, mereka membuat kunci kontak palsu untuk motor tersebut yang kemudian digunakan untuk bekerja. Korban tidak pernah memberikan izin atas pengambilan motor dan STNK tersebut, dan mengalami kerugian sekitar Rp7.000.000. Terdakwa didakwa dengan dakwaan primair berdasarkan Pasal 363 Ayat (2) KUHP, dan dakwaan subsidair berdasarkan Pasal 363 Ayat (1) ke-4 KUHP.",
         "ARI NUR WAHYUDI",
         "18.0"
        ],
        [
         "119",
         "0",
         "27",
         "14",
         "3",
         "2 lembar screenshot bukti pembelian 1 unit MacBook Pro-Space Grey 2 lembar screenshot bukti pembelian 1 buah Podcast Microphone merk Shure MV7 USB warna Hitam 1 lembar print out WAARDASIE SERTIFIKAAT 1 buah Cincin Emas Putih dengan 9 butir Berlian 1 lembar print out bukti pembelian 1 buah Cincin Emas Putih dengan 9 butir Berlian 1 unit MacBook Pro-Space Grey 1 unit Headphone merk Pioneer DJ warna Hitam Silver beserta kotaknya 1 buah Podcast Microphone merk Shure MV7 USB warna Hitam 1 buah Tas Kecil warna Putih 1 buah Tas Kecil warna Hitam 1 buah Passport Australia atas nama RORY HALLIDAY, dengan nomor Passport PB6450673 1 buah Passport Switzerland atas nama RORY HALLIDAY, dengan nomor Passport X5058389 1 buah SIM International atas nama RORY HALLIDAY 1 buah Tas Gandong merk Tom Bihn warna Hitam Dikembalikan kepada Saksi RORY HALLIDAY 1 Unit Sepeda Motor merk Suzuki Shogun 110 warna Biru dengan Nomor Polisi DK 3047 GW beserta STNK 1 buah Tas Gandong warna Cokelat Dikembalikan kepada Terdakwa 1 buah Parang Dirampas Untuk Dimusnahkan Membebani Terdakwa untuk membayar biaya perkara sebesar Rp.5.000,00 (lima ribu rupiah)",
         "Pada Rabu, 26 Juli 2023 sekitar pukul 11.45 WITA, Terdakwa Harianto alias Yanto didakwa melakukan pencurian di Villa Queendom, Jalan Tirta Tawar, Ubud, Gianyar. Berawal dari niat mencari burung, terdakwa melihat sebuah headphone di teras belakang villa yang sepi, lalu memanjat tembok untuk masuk dan mengambil headphone tersebut. Saat hendak keluar, terdakwa melihat laptop di dapur dan memutuskan untuk masuk kembali ke villa dengan mencongkel pintu belakang menggunakan parang. Ia kemudian mengambil laptop, tas gandong hitam, microphone, serta beberapa tas kecil dari dalam koper yang terbuka. Semua barang tersebut dimasukkan ke dalam tas gandong dan dibawa keluar lewat jalur semula. Setelah itu, terdakwa mengambil kembali headphone yang sempat disembunyikan di pinggir sawah dan memasukkannya ke dalam tas. Barang-barang hasil curian dibawa ke bedeng milik temannya, saksi Hasim, di Denpasar Utara dan disimpan di kamar tempat ia tidur bersama saksi Suliono. Akibat perbuatannya, saksi Rory Halliday mengalami kerugian sekitar Rp250.000.000. Terdakwa didakwa dengan dakwaan primair berdasarkan Pasal 363 Ayat (1) ke-5 KUHP, dan dakwaan subsidair berdasarkan Pasal 362 KUHP.",
         "HARIANTO Alias YANTO",
         "20.0"
        ],
        [
         "100",
         "0",
         "28",
         "10",
         "3",
         "1 lembar STNK Sepeda Motor Merk Honda, Type NF 100 D (Supra X), Nomor Polisi DK 3185 KZ, Tahun Pembuatan 2003, Warna Hitam Biru, Nomor Rangka MH1KEVA183K623206, Nomor Mesin KEVAE1621290, atas nama NI KETUT SUCIATI dengan alamat Br. Sumampan Kemenuh Sukawati Gianyar 1 buah Buku Pemilik Kendaraan Bermotor (BPKB) Nomor C 65796910 dengan identitas Sepeda Motor Merk Honda, Type NF 100 D (Supra X), Nomor Polisi DK 3185 KZ, Tahun Pembuatan 2003, Warna Hitam Biru, Nomor Rangka MH1KEVA183K623206, Nomor Mesin KEVAE1621290, atas nama NI KETUT SUCIATI dengan alamat Br. Sumampan Kemenuh Sukawati Gianyar 1 unit Sepeda Motor Merk Honda, Type NF 100 D (Supra X), Tahun Pembuatan 2003, Warna Hitam, Nomor Rangka MH1KEVA183K623206, Nomor Mesin KEVAE1621290, tanpa Nomor Polisi. Berikut dengan kunci kontak sepeda motor dimaksud 2 buah plat Nomor Polisi Sepeda Motor dengan Nomor Polisi DK 3185 KZ 1 buah Handle belakang Sepeda Motor Honda Supra X Dikembalikan kepada pemilik yang berhak yaitu saksi Sodikin 1 buah helm warna Hitam berisi lambang HARLEY DAVIDSON di bagian depan helm 1 potong jaket Jeans warna Hitam 1 potong baju kemeja lengan pendek warna putih merk D-TROY 1 potong celana panjang kain warna Krem Dirampas untuk dimusnahkan Membebankan kepada Terdakwa untuk membayar biaya perkara sejumlah Rp 5000,00 (lima ribu rupiah)",
         "Pada Minggu, 17 Desember 2023 sekitar pukul 23.00 WITA, terdakwa Engki Wongu Langu melakukan pencurian sepeda motor milik saksi Sodikin di garasi rumah kos milik I Wayan Arya di Banjar Sumampan, Desa Kemenuh, Sukawati, Gianyar. Saat hendak pulang karena tidak bertemu temannya, terdakwa melihat sepeda motor Honda Supra X DK 3185 KZ dalam keadaan mesin mati, tidak dikunci stang, dan kunci masih tertancap. Terdakwa kemudian mendorong motor tersebut keluar garasi, menyalakan mesin, dan membawanya ke kos sepupunya di daerah Sesetan untuk menginap. Keesokan harinya, terdakwa melepas plat nomor, stiker, dan pegangan belakang sepeda motor agar tidak dikenali, lalu menggunakannya untuk keperluan pribadi. Akibat perbuatan tersebut, korban mengalami kerugian sekitar Rp3.500.000. Terdakwa didakwa dengan dakwaan primair berdasarkan Pasal 363 Ayat (1) ke-3 KUHP, dan dakwaan subsidair berdasarkan Pasal 362 KUHP.",
         "ENGKI WONGU LANGU",
         "12.0"
        ],
        [
         "55",
         "0",
         "28",
         "11",
         "3",
         "1 ekor burung murai batu medan yang berisi ring dikaki kanan dengan tulisn BF 022 1 buah sangkar burung serta tutup kerudung kain warna biru muda Dikembalikan kepada pemiliknya yaitu saksi I Gusti Ngurah Putu Widiantara 1 unit sepeda motor Honda Beat warna merah putih dengan plat nomer DK 3948 UAC serta STNK dan kunci kontak Dikembalikan kepada pemiliknya yaitu yaitu saksi Gede Edi Gunawan Membebankan kepada Terdakwa membayar biaya perkara masing-masing sejumlah Rp5000,00 (lima ribu rupiah)",
         "Pada Sabtu, 20 April 2024 sekitar pukul 01.00 WITA, terdakwa SUBARI mencuri seekor burung murai batu beserta sangkarnya dari rumah saksi I Gusti Ngurah Putu Widiantara di Jalan Raya Ubud, Banjar Taman Kelod, Desa Ubud, Kabupaten Gianyar. Terdakwa masuk ke pekarangan rumah melalui gerbang yang tidak terkunci, kemudian menaiki teras rumah dan mengambil sangkar kayu berisi burung murai yang tergantung di sana tanpa izin pemiliknya. Setelah membawa pulang burung tersebut ke kosnya di Desa Sedang, Kecamatan Abiansemal, terdakwa kemudian memposting burung itu di akun Facebook miliknya untuk dijual seharga Rp1.000.000. Pada 2 Mei 2024, saksi pemilik burung menemukan postingan tersebut dan melakukan transaksi COD di kos terdakwa, di mana saat itu pula terdakwa diamankan oleh pihak Kepolisian Resor Gianyar. Atas kejadian tersebut, saksi mengalami kerugian sekitar Rp4.000.000. Perbuatan Terdakwa didakwa dengan dakwaan primair berdasarkan Pasal 363 Ayat (1) ke-3 KUHP, atau dakwaan subsidair berdasarkan Pasal 362 KUHP.",
         "SUBARI",
         "18.0"
        ],
        [
         "56",
         "0",
         "29",
         "10",
         "2",
         "1 lembar STNK Sepeda Motor Merk Honda, Type N125 D (KARISMA 125 D), Nomor Polisi DK 4606 LD, Tahun Pembuatan 2005, Warna Silver Biru, Nomor Rangka MH1JB22195K366416, Nomor Mesin JB221365610, STNK atas nama NI KADEK SUARTINI dengan alamat Br. Pagutan Klod Batubulan Sukawati Gianyar 1 buah BPKB Sepeda Motor Merk Honda, Type NF125 D (KARISMA 125 D), Nomor Polisi DK 4606 LD, Tahun Pembuatan 2005, Warna Silver Biru, Nomor Rangka MH1JB22195K366416, Nomor Mesin JB221365610, STNK atas nama NI KADEK SUARTINI dengan alamat Br. Pagutan Klod Batubulan Sukawati Gianyar 1 buah Flashdisk yang berisi rekaman CCTV yang terpasang di dekat tempat kejadian pencurian, yang dalam rekaman CCTV tersebut terekam pada saat tersangka mengendarai sepeda motor milik korban yang berhasil tersangka curi 1 unit Sepeda Motor Merk Honda, Type NF125 D (KARISMA 125 D), tanpa Nomor Polisi, Tahun Pembuatan 2005, Warna Silver Biru, Nomor Rangka MH1JB22195K366416, Nomor Mesin JB221365610, STNK atas nama NI KADEK SUARTINI dengan alamat Br. 1 buah helm standard warna hitam Dikembalikan kepada saksi Mohammad Slamet 1 potong baju kaos lengan pendek warna abu abu yang di dada depan berisi tulisan KARMA HAS NO DEADLINE 1 potong celana pendek yang terbuat dari kain warna biru dongker 1 buah tas selempang warna hitam merk FENGBAODAISHU Dirampas untuk dimusnahkan Membebankan kepada Terdakwa untuk membayar biaya perkara sejumlah Rp 5000,00 (lima ribu rupiah)",
         "Pada Jumat, 26 April 2024 sekitar pukul 15.30 WITA, terdakwa Ahmad Marsuki mencuri satu unit sepeda motor Honda Karisma 125 D milik saksi korban Mohamad Slamet yang diparkir di depan kamar kost di Jalan Raya Celuk, Gang Petung, Desa Singapadu, Kecamatan Sukawati, Kabupaten Gianyar. Saat itu, sepeda motor dalam keadaan tidak terkunci dan kuncinya masih tergantung. Terdakwa yang melihat motor tersebut kemudian mendorongnya keluar, menyalakan mesin, dan membawanya pergi ke arah Jalan Raya Celuk tanpa seizin pemilik. Aksi tersebut terekam dalam CCTV yang menunjukkan terdakwa datang dengan berjalan kaki dan pergi dengan mengendarai motor curian. Atas kejadian ini, korban mengalami kerugian sekitar Rp5.000.000. Perbuatan Terdakwa didakwa dengan dakwaan primair berdasarkan Pasal 363 Ayat (1) ke-5 KUHP, atau dakwaan subsidair berdasarkan Pasal 362 KUHP.",
         "AHMAD MARSUKI",
         "22.0"
        ],
        [
         "57",
         "0",
         "30",
         "10",
         "3",
         "1 (unit) HP Merk Redmi 10C warna biru berikut Cargernya 1 buah mesin Bor Merk Maktec warna orange 1 buah mesin serut Merk Makita warna biru Dikembalikan kepada Saksi Korban AGUS SUBAGYONO 1 buah palu besi gagang warna hijau kombinasi hitam 1 Pcs celana panjang kain warna biru dongker Dirampas oleh Negara untuk dimusnahkan Membebankan kepada Terdakwa untuk membayar biaya perkara sejumlah Rp 5000,00 (lima ribu rupiah)",
         "Pada Senin, 8 April 2024 sekitar pukul 01.30 WITA, terdakwa Yoga Saputra memasuki kamar mes PT. Satria Cipta Asta Kencana di Desa Sukawati, Gianyar, melalui semak-semak tanpa izin. Ia masuk ke kamar saksi Agus Subagyono yang tidak memiliki daun pintu, lalu mencuri satu unit HP merk Redmi 10C beserta charger yang berada di samping tempat tidur korban. Setelah itu, terdakwa mengambil palu, mencongkel engsel lemari, dan mencuri satu unit mesin bor serta mesin serut dari dalam lemari. HP tersebut digunakan sendiri oleh terdakwa setelah mengganti kartu SIM milik korban, sedangkan mesin bor dan mesin serut dijual kepada tukang rongsok seharga Rp200.000 yang kemudian digunakan untuk kebutuhan sehari-hari. Akibat perbuatan tersebut, korban mengalami kerugian sekitar Rp3.200.000. Terdakwa akhirnya diamankan oleh petugas pada 27 April 2024 di tempat kerjanya. Perbuatan Terdakwa didakwa dengan dakwaan primair berdasarkan Pasal 363 Ayat (2) KUHP, atau dakwaan subsidair berdasarkan Pasal 363 Ayat (1) ke-5 KUHP, atau lebih subsidair Pasal 362 KUHP",
         "YOGA SAPUTRA",
         "10.0"
        ],
        [
         "90",
         "0",
         "30",
         "12",
         "4",
         "- 1 unit sepeda motor Honda vario 150 warna hitam pembuatan tahun 2015 nomor rangka MH1KF1116FK270913 nomor mesin KF11E1279359 nomor polisi DK 4096 AL atas nama NI KOMANG NANDA RAHAYU - 1 buah kunci sepeda motor merek Honda vario warna hitam. Dikembalikan kepada Saksi Korban Ni Komang Nanda Rahayu - 1 unit sepeda motor merek Honda astrea star warna hitam - 1 buah kunci sepeda motor merek Honda astrea star warna hitam - 1 buah handphone merk infinix warna biru Dikembalikan kepada Terdakwa 6. Membebankan kepada Terdakwa membayar biaya perkara sebesar Rp5.000,00 (lima ribu rupiah)",
         "Pada hari Jumat, 12 Januari 2024 sekitar pukul 16.00 WITA di depan Pura Titiapi, Desa Pejeng, Kecamatan Tampak Siring, Kabupaten Gianyar, terdakwa Ida Bagus Rai Suarna dengan sengaja mengambil satu unit sepeda motor Honda Vario hitam tahun 2015 milik saksi I Made Selamet Sanjaya secara melawan hukum. Sebelumnya, terdakwa menemukan kunci motor lengkap dengan remote di arena sabung ayam Payangan dan menyimpannya. Saat hendak masuk ke arena tajen di depan Pura Titiapi, terdakwa yang tidak mampu membeli tiket teringat pada kunci tersebut, mencobanya pada beberapa motor, dan berhasil menyalakan satu motor Honda Vario. Motor itu kemudian ia sembunyikan, lalu kembali mengambil motornya sendiri untuk bekerja. Setelah bekerja, ia kembali mengambil motor curian dan berniat menjualnya di Denpasar melalui grup Facebook \"STNK Only\". Saat bertemu calon pembeli di Lapangan Lumintang, Denpasar, terdakwa tidak dapat menunjukkan surat-surat kendaraan, sehingga ia dan barang bukti dibawa ke Polda Bali. Akibat perbuatannya, korban mengalami kerugian sekitar Rp22.000.000. Perbuatan terdakwa diancam pidana berdasarkan Pasal 362 KUHP tentang pencurian",
         "IDA BAGUS RAI SUARNA",
         "6.0"
        ],
        [
         "58",
         "0",
         "31",
         "9",
         "3",
         "1 Buah Foto Copy yang dilegalisir BPKB satu unit motor merk Honda Vario 125cc tahun 2019 warna Merah, dengan Noka MH1JM4110KK467749, dengan Nosin JM41E1467138 an. PUTU EKA ATATIKA Surat Penyewaan Motor Vario 125 DK 5352 KAR, tanggal 11 September 2023 1 unit sepeda motor Merek Honda Vario 125 warna merah No. Pol DK 5352 KAR Nosin JM41E1467138 Noka MH1JM4110KK467749 Dikembalikan kepada saksi Putu Eka Atatika 1 buah kunci bertuliskan Honda warna Hitam Dirampas untuk dimusnahkan 6. Membebankan kepada Terdakwa membayar biaya perkara sejumlah Rp5.000,00 (lima ribu rupiah)",
         "Pada Senin, 1 April 2024 sekitar pukul 23.30 WITA, terdakwa Edi Sudadang bersama rekannya Mulasim alias Mul (yang belum tertangkap) mencuri sepeda motor Honda Vario 125 warna merah dengan nomor polisi DK 5352 KAR milik saksi Putu Eka Atatika yang diparkir di Villa Nyoman, Ubud, Gianyar. Sebelumnya, Edi diajak oleh Mulasim dari Probolinggo ke Bali dengan membawa alat berupa kunci T untuk melancarkan aksi pencurian. Setelah berhasil mendorong dan menyalakan sepeda motor menggunakan kunci T, keduanya membawa motor tersebut ke Probolinggo. Di sana, Mulasim menyerahkan motor kepada Edi dan menerima uang sebesar Rp2.500.000 sebagai hasil dari pencurian tersebut. Akibat perbuatan ini, korban mengalami kerugian sekitar Rp20.000.000. Perbuatan terdakwa diancam pidana berdasarkan Pasal 363 Ayat (1) ke-4 dan ke-5 KUHP.",
         "EDI SUDADANG",
         "12.0"
        ],
        [
         "107",
         "0",
         "31",
         "10",
         "5",
         "1 gulung kabel berwarna putih merk perdana sound system 2 x 0,75 m2dengan panjang kabel 48 meter 1 buah obeng (-) dengan gagang warna kuning 1 gulung kabel berwarna putih merk SPC Coaxial System RG59 26/2 dengan Panjang kabel 34 meter 1 gulung kabel berwarna hitam dengan merk miko cable C4/PVC/PVC-1 2 x 1,5mm2 dengan panjang kabel 24 meter 5 buah lampu merk LED Flood Light 100W 3000K 2 buah lampu merk Lanbo 100W LED LP66 3 buah lampu merk Himawari LP65 F x 5100 100W AC190V 265V Dikembalikan kepada PT. JEGHIER melalui Saksi I WAYAN ARJANA 2 buah karung beras bekas warna putih 1 buah Gum/Tang pencabut paku dengan gagang dibalut karet warna hitam Dirampas untuk dimusnahkan 8. Membebankan kepada Para Terdakwa membayar biaya perkara masing-masing sejumlah Rp5000,00 (lima ribu rupiah)",
         "Pada Selasa, 14 November 2023 sekitar pukul 01.00 WITA, Terdakwa I Moh Sholihin alias Lihin dan Terdakwa II Subhan didakwa melakukan pencurian di areal Proyek Hotel Hiliwatu, Banjar Bresela, Desa Bresela, Kecamatan Payangan, Kabupaten Gianyar. Kedua terdakwa sebelumnya merencanakan pencurian tersebut setelah melihat tumpukan lampu dan gulungan kabel di proyek. Pada malam hari, mereka mengambil 10 lampu halogen LED dan 3 gulung kabel dengan memotong kabel menggunakan tang, lalu menyembunyikannya di bawah pohon bambu dalam dua karung putih. Akses mereka ke area proyek tanpa izin melanggar aturan jam kerja yang berlaku. Pada 17 November 2023, kedua terdakwa diamankan oleh saksi pelapor dan dua saksi lainnya saat hendak membawa dua karung berisi barang curian ke Jawa. Setelah diinterogasi, mereka mengakui bahwa barang tersebut milik proyek Hotel Hiliwatu milik PT. Jeghier yang diambil tanpa izin. Akibat perbuatan ini, proyek mengalami kerugian sekitar Rp3.000.000. Terdakwa didakwa dengan dakwaan primair berdasarkan Pasal 363 Ayat (2) KUHP, dan dakwaan subsidair berdasarkan Pasal 363 Ayat (1) ke-4 KUHP.",
         "SUBHAN",
         "10.0"
        ],
        [
         "109",
         "0",
         "31",
         "10",
         "2",
         "1 lembar fotokopi BPKB sepeda motor, Nomor BPKB D 8085897-O, merek Honda, nomor Polisi DK 3601 LG, tahun 2006, warna Hitam, nomor rangka MH1HB41166K225753, nomor mesin HB41E-1239321, nama pemilik JOGO PURWOKO, Alamat Br. Tojan Tegal, Pering, Blahbatuh, Gianyar yang sudah dileges 1 lembar STNK sepeda motor merk Honda, nomor registrasi DK-3601-LG, warna hitam, tahun 2006, nomor rangka MH1HB41166K225753, nomor mesin HB41E1239321, nomor BPKB D 8085897-O, nama pemilik JOGO PURWOKO, Alamat Br. Tojan Tegal Pering Blahbatuh Gianyar 1 unit Sepeda Motor merk Honda Supra Fit warna hitam tanpa plat nomor polisi dengan nomor rangka MH1HB41166K225753, nomor mesin HB41E1239321 beserta kunci kontaknya 1 buah BPKB sepeda motor, Nomor BPKB D 8085897-O, merek Honda, nomor Polisi DK 3601 LG, tahun 2006, warna Hitam, nomor rangka MH1HB41166K225753, nomor mesin HB41E-1239321, nama pemilik JOGO PURWOKO, Alamat Br. Tojan Tegal, Pering, Blahbatuh, Gianyar 1 lembar faktur AHM PT Astra Honda Motor No. FH/AD /002313/E tanggal 15 Februari 2006  Dikembalikan kepada Saksi Jogo Purwoko Membebani Terdakwa untuk membayar biaya perkara sebesar Rp 5,000,00 (lima ribu rupiah)",
         "Pada Jumat, 24 Februari 2023 sekitar pukul 09.45 WITA, Terdakwa I Komang Arimbawa didakwa melakukan pencurian satu unit sepeda motor Honda Supra Fit tahun 2006 milik Jogo Purwoko yang terparkir di pinggir Jalan By Pass Ida Bagus Mantra, Desa Saba, Kecamatan Blahbatuh, Kabupaten Gianyar. Terdakwa melihat motor tersebut dalam keadaan tanpa pengawasan dan dengan kunci masih tergantung, lalu langsung menaikinya dan membawa pergi tanpa izin. Dalam perjalanan pulang ke Pujungan, Terdakwa melepas dan membuang plat nomor polisi motor tersebut untuk menghilangkan jejak. Motor curian tersebut kemudian disimpan di belakang rumahnya dan sempat digunakan untuk keperluan sehari-hari. Terdakwa berniat menjual sepeda motor itu bila diperlukan dan menggunakan hasil penjualannya untuk kebutuhan hidup, namun belum sempat melakukannya. Akibat perbuatan ini, korban mengalami kerugian sekitar Rp4.000.000. Terdakwa didakwa dengan dakwaan primair berdasarkan Pasal 363 Ayat (1) ke-5 KUHP, dan dakwaan subsidair berdasarkan Pasal 362 KUHP.",
         "I KOMANG ARIMBAWA",
         "22.0"
        ],
        [
         "96",
         "0",
         "31",
         "12",
         "1",
         "1 unit sepeda motor jenis honda vario, Nopol DK 2008 LY, Noka MH1JF12187K237665, Nosin JF12E1241100, Warna Hitam, atas nama pemilik DEWA MADE NGURAH beserta kunci kontak 1 lembar STNK sepeda motor jenis honda vario, Nopol DK 2008 LY, Noka MH1JF12187K237665, Nosin JF12E1241100, Warna Hitam, atas nama pemilik DEWA MADE NGURAH Dikembalikan kepada pemiliknya yakni saksi DEWA MADE NGURAH  1 unit sepeda motor jenis honda Scoopy, Nopol DK 5723 PM Noka MH1JFL118FK249651 Nosin JFL1E-1244886, warna krem cokelat tahun 2015 atas nama pemilik I DEWA AYU MADE EVI PADMA YANTI beserta kunci kontak Dikembalikan kepada pemiliknya melalui Terdakwa I BAIHAQI 6. Membebankan kepada Para Terdakwa membayar biaya perkara masing-masing sejumlah Rp5000,00 (lima ribu rupiah)",
         "Pada Senin, 11 Desember 2023 sekitar pukul 22.30 WITA di Jalan Raya Siangan, Banjar Roban, Desa Siangan, Gianyar, Terdakwa I Baihaqi dan Terdakwa II Saddam Husein secara bersama-sama melakukan pencurian satu unit sepeda motor Honda Vario DK 2008 LY milik saksi Dewa Made Ngurah. Saat melintas di depan rumah korban, Terdakwa II melihat deretan sepeda motor terparkir di garasi dan timbul niat untuk mencuri salah satunya. Kedua terdakwa lalu memutar balik, berhenti sekitar 30 meter dari garasi, dan berjalan kaki menuju lokasi. Terdakwa II masuk ke garasi dan mengeluarkan sepeda motor yang tidak dikunci stangnya, sementara Terdakwa I mengawasi sekitar. Setelah motor berhasil dikeluarkan, keduanya menuntunnya ke arah utara. Aksi tersebut diketahui oleh dua saksi, Pande I Kadek Juni Adinata dan Sang Made Widarma, yang curiga karena jawaban para terdakwa tidak jelas. Warga sekitar lalu mengamankan keduanya dan menyerahkannya ke Polsek Gianyar. Akibat perbuatan tersebut, korban mengalami kerugian sekitar Rp4.000.000. Terdakwa didakwa dengan dakwaan primair berdasarkan Pasal 363 Ayat (2) KUHP, dan dakwaan subsidair berdasarkan Pasal 363 Ayat (1) ke-4 KUHP.",
         "BAIHAQI",
         "15.0"
        ],
        [
         "60",
         "0",
         "32",
         "10",
         "3",
         "1 buah kamera GoPro warna hitam 1 buah kotak baterai kamera warna putih 2 buah baterai warna hitam Uang tunai sejumlah Rp. 42.000,00 1 unit I Phone 11 Pro Warna Grey 1 unit mobil toyota avanza DK 1327 IE 1 lembar STNK nomor registrasi DK 1327 IE Atas Nama Huang Szu Feng Dikembalikan kepada saksi Yuji Waki 1 buah batu kali warna cokelat 1 bidang kaca mobil dalam keadaan pecah dengan lapisan ryben warna hitam Dirampas untuk dimusnahkan 1 unit Sepeda Motor honda vario warna hitam dengan DK 4093 SS beserta Kunci Kontak Dikembalikan kepada Terdakwa 1. Yudi Kristianto 1 unit Sepeda Motor honda scoopy warna cream abu-abu Nomor Polisi DK 5628 ADR beserta Kunci Kontak Dikembalikan kepada Tedakwa 2. Kurniadi Prayoga Membebankan kepada Para Terdakwa untuk membayar biaya perkara masing-masing sejumlah Rp 5000,00 (lima ribu rupiah)",
         "Pada Sabtu, 18 Mei 2024 sekitar pukul 09.00 WITA, terdakwa I Yudi Kristanto bersama terdakwa II Kurniadi Prayuda dan terdakwa III Muhammad Rizal alias Iceng melakukan pencurian secara bersekutu di kawasan Pantai Keramas, Blahbatuh, Gianyar. Mereka sebelumnya sepakat untuk berangkat bersama dari kos Kurniadi di Denpasar menuju lokasi menggunakan dua sepeda motor. Setibanya di lokasi, Yudi melihat sebuah mobil Toyota Avanza hitam DK 1327 IE yang terparkir dan mencurigai pemiliknya—seorang warga negara Jepang bernama Yuji Waki—sedang berselancar di pantai. Yudi lalu menghancurkan kaca mobil bagian kiri depan menggunakan batu, sementara Kurniadi dan Rizal mengawasi situasi sekitar. Setelah kaca pecah, Yudi mengambil barang-barang dari dalam mobil berupa tas punggung hitam berisi iPhone 11 Pro, kamera GoPro, dompet berisi uang sekitar Rp300.000, celana pendek, dan dua baterai kamera. Akibat aksi pencurian tersebut, korban mengalami kerugian sekitar Rp14.400.000. Perbuatan Terdakwa didakwa dengan dakwaan primair berdasarkan Pasal 363 Ayat (1) ke-4 dan ke-5 KUHP, atau dakwaan subsidair berdasarkan Pasal 363 Ayat (1) ke-4 KUHP.",
         "KURNIADI PRAYUDA",
         "17.0"
        ],
        [
         "61",
         "0",
         "32",
         "10",
         "3",
         "1 buah kamera GoPro warna hitam 1 buah kotak baterai kamera warna putih 2 buah baterai warna hitam Uang tunai sejumlah Rp. 42.000,00 1 unit I Phone 11 Pro Warna Grey 1 unit mobil toyota avanza DK 1327 IE 1 lembar STNK nomor registrasi DK 1327 IE Atas Nama Huang Szu Feng Dikembalikan kepada saksi Yuji Waki 1 buah batu kali warna cokelat 1 bidang kaca mobil dalam keadaan pecah dengan lapisan ryben warna hitam Dirampas untuk dimusnahkan 1 unit Sepeda Motor honda vario warna hitam dengan DK 4093 SS beserta Kunci Kontak Dikembalikan kepada Terdakwa 1. Yudi Kristianto 1 unit Sepeda Motor honda scoopy warna cream abu-abu Nomor Polisi DK 5628 ADR beserta Kunci Kontak Dikembalikan kepada Tedakwa 2. Kurniadi Prayoga Membebankan kepada Para Terdakwa untuk membayar biaya perkara masing-masing sejumlah Rp 5000,00 (lima ribu rupiah)",
         "Pada Sabtu, 18 Mei 2024 sekitar pukul 09.00 WITA, terdakwa I Yudi Kristanto bersama terdakwa II Kurniadi Prayuda dan terdakwa III Muhammad Rizal alias Iceng melakukan pencurian secara bersekutu di kawasan Pantai Keramas, Blahbatuh, Gianyar. Mereka sebelumnya sepakat untuk berangkat bersama dari kos Kurniadi di Denpasar menuju lokasi menggunakan dua sepeda motor. Setibanya di lokasi, Yudi melihat sebuah mobil Toyota Avanza hitam DK 1327 IE yang terparkir dan mencurigai pemiliknya—seorang warga negara Jepang bernama Yuji Waki—sedang berselancar di pantai. Yudi lalu menghancurkan kaca mobil bagian kiri depan menggunakan batu, sementara Kurniadi dan Rizal mengawasi situasi sekitar. Setelah kaca pecah, Yudi mengambil barang-barang dari dalam mobil berupa tas punggung hitam berisi iPhone 11 Pro, kamera GoPro, dompet berisi uang sekitar Rp300.000, celana pendek, dan dua baterai kamera. Akibat aksi pencurian tersebut, korban mengalami kerugian sekitar Rp14.400.000. Perbuatan Terdakwa didakwa dengan dakwaan primair berdasarkan Pasal 363 Ayat (1) ke-4 dan ke-5 KUHP, atau dakwaan subsidair berdasarkan Pasal 363 Ayat (1) ke-4 KUHP.",
         "MUHAMAD RIZAL Als ICENG",
         "17.0"
        ],
        [
         "101",
         "0",
         "32",
         "12",
         "4",
         "1 buah Amplop warna Putih yang di dalamnya berisi uang EURO sebesar 220 (dua ratus dua puluh EURO) Dikembalikan kepada saksi Rijanti Pahrun 1 buah Obeng dengan Gagang warna Biru. 1 buah Tas Selempang warna Hitam yang berisi tulisan AIGER. Dirampas untuk Dimusnahkan Sepeda Motor merk Honda Scoopy warna Hitam Putih dengan Nomor Polisi DK 6780 FCB beserta Fotokopi STNK atas nama NI WAYAN WIDIASTUTI. 1 buah Buku Pemilik Kendaraan Bermotor (BPKB) Sepeda Motor merk Honda Scoopy warna Hitam Putih dengan Nomor Polisi DK 6780 FCB, Nomor Rangka MH1JFW110GK377966, Nomor Mesin JFW1E1379304 dan nomor BPKB M-0367990 atas nama I WAYAN WIDIASTUTI. 1 buah STNK Sepeda Motor merk Honda Scoopy warna Hitam Putih dengan Nomor Polisi DK 6780 FCB, Nomor Rangka MH1JFW110GK377966, Nomor Mesin JFW1E1379304 atas nama NI WAYAN WIDIASTUTI Dikembalikan kepada saksi Komang Ariawan Membebankan kepada Para Terdakwa membayar biaya perkara masing-masing sejumlah Rp5000,00 (lima ribu rupiah)",
         "Pada Rabu, 6 Desember 2023 sekitar pukul 12.30 WITA, terdakwa Ardi bersama Rikoh Akbar Tanjung alias Riko melakukan pencurian di Puri Ayoga Villa, Ubud, Gianyar. Mereka berangkat dari Denpasar menggunakan sepeda motor sewaan dan sempat membeli obeng di perjalanan. Setelah melihat villa dalam keadaan sepi, keduanya memanjat tembok masuk ke area villa dan mencongkel jendela kamar dengan obeng. Setelah berhasil masuk, Ardi mencongkel lemari dan menemukan tas berisi amplop yang di dalamnya terdapat uang sebesar 220 Euro milik saksi Rijanti Pahrun. Saat hendak kabur, keduanya dipergoki oleh saksi Rijanti dan Maurice Sylvain Dares. Ardi sempat tertangkap setelah dikejar dan terjatuh, sementara Riko berhasil melarikan diri. Ardi kemudian diamankan oleh saksi bersama anggota kepolisian yang datang. Akibat perbuatan para terdakwa, saksi Rijanti Pahrun mengalami kerugian sekitar Rp3.600.000. Terdakwa didakwa dengan dakwaan primair berdasarkan Pasal 363 Ayat (1) ke-4 dan ke-5 KUHP, dan dakwaan subsidair berdasarkan Pasal 363 Ayat (1) ke-4 KUHP.",
         "ARDI",
         "18.0"
        ],
        [
         "175",
         "0",
         "33",
         "10",
         "5",
         "37 (tiga puluh tujuh) dus keramik merk HABITAT warna cream ukuran 60 Cm X 60 Cm Dikembalikan kepada Saksi I Wayan Budiarta 1 unit mobil Mitsubishi Truck Cild Diesel warna kuning tahun pembuatan 2003 dengan nomor Polisi H 1358 B, nomor mesin 4D343962278, nomor rangka MHMFE349E3R056232, nomor BPKB 65113471 a.n. Bambang Priyanto Alamat Jl. Margorejo No. A-12. Rt 2 / Rw 3 Gendongan Salatiga beserta STNK dan kunci kontaknya Dikembalikan kepada Saksi Abuchori 1 unit sepeda motor Yamaha Mio Soul GT warna merah dengan nomor Polisi DK 6334 ABA, dengan nomor rangka MH31KPOO1DK300257, nomor mesen 1KP299473, nomor BPKB J 05499399-O a.n. Bahruddirham Alamat Jl. Diponogoro, Gg. Ulam Kencana, No. 5A Pedungan, Denpasar beserta kunci kontaknya Dikembalikan kepada Bahruddirham Membebankan kepada Terdakwa membayar biaya perkara sejumlah Rp5.000,00 (lima ribu rupiah)",
         "Pada Selasa, 27 Desember 2022 sekitar pukul 06.30 WITA, Terdakwa Didik Supriyanto bersama dua orang lainnya bernama Iwan dan Warto (masuk dalam Daftar Pencarian Orang) melakukan pencurian 37 dus keramik merk HABITAT milik saksi I Wayan Budiarta. Kejadian berlangsung di areal proyek pembangunan toko di Jalan Raya Celuk, Gianyar. Terdakwa sebelumnya merekrut seorang sopir truk bernama Budi Wahyono untuk mengangkut keramik ke Jember dengan imbalan Rp1.000.000, dan juga menyewa dua buruh angkut (Iwan dan Warto) dengan imbalan Rp400.000. Sesampainya di lokasi proyek, keramik diangkut ke atas truk tanpa seizin pemiliknya. Aksi tersebut terhenti setelah saksi I Nyoman Wiasa menanyakan kegiatan tersebut dan mengonfirmasi dengan pemilik keramik bahwa tidak ada perintah pengangkutan. Terdakwa sempat menghilang sebelum akhirnya ditangkap di kampung halamannya di Jember pada 10 Januari 2023. Keramik yang dicuri rencananya akan dijual di Jember untuk membiayai pernikahan sirih terdakwa. Akibat perbuatan tersebut, saksi korban berpotensi mengalami kerugian sebesar Rp4.066.300.",
         "DIDIK SUPRIYANTO",
         "14.0"
        ],
        [
         "178",
         "0",
         "33",
         "14",
         "5",
         "1 unit Sepeda motor merk Honda Beat warna ungu (Stiker), nomor polisi DK 6724 EIB (Palsu), tahun 2018, nomor rangka MH1JFZ126JK872805, nomor mesin JFZ1E-2871308 1 buah buku BPKB sepeda motor Honda Beat tahun 2018, DK 2067 TH, warna hitam, nomor rangka MH1JFZ126JK872805, nomor mesin JFZ1E-2871308, atas nama I MADE KARIADA, alamat Banjar Dinas Kihkian Desa Abang Kecamatan Abang Kabupaten Karangasem, Nomor BPKB O-03371886 1 buah Flasdisk merk Sandisk warna hitam kombinasi merah Dikembalikan kepada Saksi I Made Kariada 1 Unit Sepeda Motor Merk Yamaha/2D-RA A/T TAHUN PEMBUATAN 2018, warna Hitam, nomor polisi DK 4820 FAQ, nomor rangka MH3SG3180JK029708, nomor mesin G3E4E0978325, nomor BPKB 004525988-O, STNK atas nama I MADE DUDI alamat Jl. Raya Kuta Gg. Cempaka No.7 Lingk, Abianbase Kuta Badung 1 Lembar STNK Sepeda Motor Merk Yamaha/2D-RA A/T TAHUN PEMBUATAN 2018, warna Hitam, nomor polisi DK 4820 FAQ, nomor rangka MH3SG3180JK029708, nomor mesin G3E4E0978325, nomor BPKB 004525988-O, STNK atas nama I MADE DUDI alamat Jl. Raya Kuta Gg. Cempaka No.7 Lingk, Abianbase Kuta Badung 1 Buah BPKB Nomor 004525988-O, Sepeda Motor Merk Yamaha/2D-RA A/T TAHUN PEMBUATAN 2018, warna Hitam, nomor polisi DK 4820 FAQ, nomor rangka MH3SG3180JK029708, nomor mesin G3E4E0978325, atas nama I MADE DUDI, alamat Jl. Raya Kuta Gg. Cempaka No.7 Lingk, Abianbase Kuta Badung 1 buah kunci kontak Sepeda Motor Yamaha N-Max. Dikembalikan kepada Saksi I Made Dudi  6. Membebankan kepada Terdakwa membayar biaya perkara sejumlah Rp5.000,00 (Lima ribu Rupiah)",
         "Pada dua kesempatan berbeda, yakni pada Rabu, 21 Desember 2022 dan Kamis, 12 Januari 2023, Terdakwa Yules Umbu Sakala bersama rekannya Petrus (DPO) melakukan pencurian sepeda motor di wilayah Gianyar, Bali. Dalam kejadian pertama, mereka mengambil sepeda motor Honda Beat milik Saksi I Made Kariada dari sebuah rumah kos di Desa Ketewel, Sukawati. Sepeda motor tersebut diambil dalam keadaan tidak terkunci stang, kemudian dibawa ke kos Petrus dan diubah tampilannya untuk digunakan sehari-hari. Pada kejadian kedua, mereka mencuri sepeda motor Yamaha N-Max milik Saksi I Made Dudi yang terparkir di garasi sebuah vila di Desa Lodtunduh, Ubud. Setelah berhasil mendorong motor tersebut keluar, mereka berencana menjualnya. Namun, sebelum sempat dijual, Terdakwa ditangkap oleh anggota Polsek Sukawati karena tidak bisa menunjukkan surat-surat kendaraan, sementara Petrus berhasil melarikan diri. Atas perbuatannya, para korban mengalami kerugian masing-masing sebesar Rp11.000.000 dan Rp28.000.000. Terdakwa didakwa dengan dakwaan primair berdasarkan Pasal 363 Ayat (2) KUHP jo. Pasal 65 Ayat (1) KUHP, dan dakwaan subsidair berdasarkan Pasal 363 Ayat (1) ke-4 KUHP jo. Pasal 65 Ayat (1) KUHP.",
         "YULES UMBU SAKALA",
         "38.0"
        ]
       ],
       "shape": {
        "columns": 8,
        "rows": 3297
       }
      },
      "text/html": [
       "<div>\n",
       "<style scoped>\n",
       "    .dataframe tbody tr th:only-of-type {\n",
       "        vertical-align: middle;\n",
       "    }\n",
       "\n",
       "    .dataframe tbody tr th {\n",
       "        vertical-align: top;\n",
       "    }\n",
       "\n",
       "    .dataframe thead th {\n",
       "        text-align: right;\n",
       "    }\n",
       "</style>\n",
       "<table border=\"1\" class=\"dataframe\">\n",
       "  <thead>\n",
       "    <tr style=\"text-align: right;\">\n",
       "      <th></th>\n",
       "      <th>klasifikasi_perkara_encoded</th>\n",
       "      <th>penuntut_umum_encoded</th>\n",
       "      <th>hakim_encoded</th>\n",
       "      <th>jumlah_saksi</th>\n",
       "      <th>cleaned_barang_bukti</th>\n",
       "      <th>summarized_dakwaan</th>\n",
       "      <th>terdakwa</th>\n",
       "      <th>total_pidana_penjara_bulan</th>\n",
       "    </tr>\n",
       "  </thead>\n",
       "  <tbody>\n",
       "    <tr>\n",
       "      <th>0</th>\n",
       "      <td>0</td>\n",
       "      <td>0</td>\n",
       "      <td>0</td>\n",
       "      <td>6</td>\n",
       "      <td>1 buah sabit kecil dengan gagang dari kayu 1 b...</td>\n",
       "      <td>Terdakwa Gede Darmayasa didakwa telah melakuka...</td>\n",
       "      <td>GEDE DARMAYASA</td>\n",
       "      <td>5.0</td>\n",
       "    </tr>\n",
       "    <tr>\n",
       "      <th>2</th>\n",
       "      <td>0</td>\n",
       "      <td>0</td>\n",
       "      <td>2</td>\n",
       "      <td>6</td>\n",
       "      <td>1 buah Kotak/Box handphone merk OPPO type A53 ...</td>\n",
       "      <td>Terdakwa Handri Johanes pada Rabu, 24 April 20...</td>\n",
       "      <td>HANDRI JOHANAS</td>\n",
       "      <td>4.0</td>\n",
       "    </tr>\n",
       "    <tr>\n",
       "      <th>19</th>\n",
       "      <td>0</td>\n",
       "      <td>1</td>\n",
       "      <td>0</td>\n",
       "      <td>4</td>\n",
       "      <td>- Uang tunai sebesar Rp. 10.000.000,00(sepuluh...</td>\n",
       "      <td>Pada hari Rabu, 25 Oktober 2023 sekitar pukul ...</td>\n",
       "      <td>I NYOMAN BUDIAWAN Als. SUMAWAN</td>\n",
       "      <td>14.0</td>\n",
       "    </tr>\n",
       "    <tr>\n",
       "      <th>35</th>\n",
       "      <td>0</td>\n",
       "      <td>1</td>\n",
       "      <td>4</td>\n",
       "      <td>3</td>\n",
       "      <td>1 unit sepeda motor yang sudah dimodifikasi (c...</td>\n",
       "      <td>Pada Minggu, 11 Desember 2022 sekitar pukul 00...</td>\n",
       "      <td>RIFQI ABDURAHMAN</td>\n",
       "      <td>8.0</td>\n",
       "    </tr>\n",
       "    <tr>\n",
       "      <th>5</th>\n",
       "      <td>0</td>\n",
       "      <td>4</td>\n",
       "      <td>1</td>\n",
       "      <td>4</td>\n",
       "      <td>1 unit sepeda motor merk Honda Scoopy warna me...</td>\n",
       "      <td>Pada hari Selasa, 26 Maret 2024 sekitar pukul ...</td>\n",
       "      <td>R. Sabirin</td>\n",
       "      <td>14.0</td>\n",
       "    </tr>\n",
       "    <tr>\n",
       "      <th>...</th>\n",
       "      <td>...</td>\n",
       "      <td>...</td>\n",
       "      <td>...</td>\n",
       "      <td>...</td>\n",
       "      <td>...</td>\n",
       "      <td>...</td>\n",
       "      <td>...</td>\n",
       "      <td>...</td>\n",
       "    </tr>\n",
       "    <tr>\n",
       "      <th>4351</th>\n",
       "      <td>4</td>\n",
       "      <td>398</td>\n",
       "      <td>135</td>\n",
       "      <td>2</td>\n",
       "      <td>Uang tunai sebesar Rp 2.450.000,- (dua juta em...</td>\n",
       "      <td>Pada hari Minggu, 09 Juli 2023, sekitar pukul ...</td>\n",
       "      <td>JOYO CIPTO alias TOTO Bin SALIMIN</td>\n",
       "      <td>8.0</td>\n",
       "    </tr>\n",
       "    <tr>\n",
       "      <th>4346</th>\n",
       "      <td>4</td>\n",
       "      <td>398</td>\n",
       "      <td>135</td>\n",
       "      <td>2</td>\n",
       "      <td>Uang tunai sebesar Rp 2.450.000,- (dua juta em...</td>\n",
       "      <td>Pada Minggu, 09 Juli 2023, sekitar pukul 00.15...</td>\n",
       "      <td>FERI Bin TAMIN</td>\n",
       "      <td>8.0</td>\n",
       "    </tr>\n",
       "    <tr>\n",
       "      <th>4345</th>\n",
       "      <td>4</td>\n",
       "      <td>398</td>\n",
       "      <td>135</td>\n",
       "      <td>2</td>\n",
       "      <td>Uang tunai sebesar Rp 2.450.000,- (dua juta em...</td>\n",
       "      <td>Pada Minggu, 09 Juli 2023, sekitar pukul 00.15...</td>\n",
       "      <td>AHMAD JUMADI alias MADI Bin SUBUR</td>\n",
       "      <td>8.0</td>\n",
       "    </tr>\n",
       "    <tr>\n",
       "      <th>4348</th>\n",
       "      <td>4</td>\n",
       "      <td>398</td>\n",
       "      <td>135</td>\n",
       "      <td>2</td>\n",
       "      <td>Uang tunai sebesar Rp 2.450.000,- (dua juta em...</td>\n",
       "      <td>Pada hari Minggu, 09 Juli 2023, sekitar pukul ...</td>\n",
       "      <td>SARONI Bin RASKI</td>\n",
       "      <td>8.0</td>\n",
       "    </tr>\n",
       "    <tr>\n",
       "      <th>3542</th>\n",
       "      <td>4</td>\n",
       "      <td>400</td>\n",
       "      <td>136</td>\n",
       "      <td>2</td>\n",
       "      <td>uang tunai sebesar Rp 113.000,- (seratus tiga ...</td>\n",
       "      <td>Pada hari Senin, 25 Desember 2023, sekitar puk...</td>\n",
       "      <td>MUKTAR bin TARKAM</td>\n",
       "      <td>18.0</td>\n",
       "    </tr>\n",
       "  </tbody>\n",
       "</table>\n",
       "<p>3297 rows × 8 columns</p>\n",
       "</div>"
      ],
      "text/plain": [
       "      klasifikasi_perkara_encoded  penuntut_umum_encoded  hakim_encoded  \\\n",
       "0                               0                      0              0   \n",
       "2                               0                      0              2   \n",
       "19                              0                      1              0   \n",
       "35                              0                      1              4   \n",
       "5                               0                      4              1   \n",
       "...                           ...                    ...            ...   \n",
       "4351                            4                    398            135   \n",
       "4346                            4                    398            135   \n",
       "4345                            4                    398            135   \n",
       "4348                            4                    398            135   \n",
       "3542                            4                    400            136   \n",
       "\n",
       "      jumlah_saksi                               cleaned_barang_bukti  \\\n",
       "0                6  1 buah sabit kecil dengan gagang dari kayu 1 b...   \n",
       "2                6  1 buah Kotak/Box handphone merk OPPO type A53 ...   \n",
       "19               4  - Uang tunai sebesar Rp. 10.000.000,00(sepuluh...   \n",
       "35               3  1 unit sepeda motor yang sudah dimodifikasi (c...   \n",
       "5                4  1 unit sepeda motor merk Honda Scoopy warna me...   \n",
       "...            ...                                                ...   \n",
       "4351             2  Uang tunai sebesar Rp 2.450.000,- (dua juta em...   \n",
       "4346             2  Uang tunai sebesar Rp 2.450.000,- (dua juta em...   \n",
       "4345             2  Uang tunai sebesar Rp 2.450.000,- (dua juta em...   \n",
       "4348             2  Uang tunai sebesar Rp 2.450.000,- (dua juta em...   \n",
       "3542             2  uang tunai sebesar Rp 113.000,- (seratus tiga ...   \n",
       "\n",
       "                                     summarized_dakwaan  \\\n",
       "0     Terdakwa Gede Darmayasa didakwa telah melakuka...   \n",
       "2     Terdakwa Handri Johanes pada Rabu, 24 April 20...   \n",
       "19    Pada hari Rabu, 25 Oktober 2023 sekitar pukul ...   \n",
       "35    Pada Minggu, 11 Desember 2022 sekitar pukul 00...   \n",
       "5     Pada hari Selasa, 26 Maret 2024 sekitar pukul ...   \n",
       "...                                                 ...   \n",
       "4351  Pada hari Minggu, 09 Juli 2023, sekitar pukul ...   \n",
       "4346  Pada Minggu, 09 Juli 2023, sekitar pukul 00.15...   \n",
       "4345  Pada Minggu, 09 Juli 2023, sekitar pukul 00.15...   \n",
       "4348  Pada hari Minggu, 09 Juli 2023, sekitar pukul ...   \n",
       "3542  Pada hari Senin, 25 Desember 2023, sekitar puk...   \n",
       "\n",
       "                               terdakwa  total_pidana_penjara_bulan  \n",
       "0                        GEDE DARMAYASA                         5.0  \n",
       "2                        HANDRI JOHANAS                         4.0  \n",
       "19       I NYOMAN BUDIAWAN Als. SUMAWAN                        14.0  \n",
       "35                     RIFQI ABDURAHMAN                         8.0  \n",
       "5                            R. Sabirin                        14.0  \n",
       "...                                 ...                         ...  \n",
       "4351  JOYO CIPTO alias TOTO Bin SALIMIN                         8.0  \n",
       "4346                     FERI Bin TAMIN                         8.0  \n",
       "4345  AHMAD JUMADI alias MADI Bin SUBUR                         8.0  \n",
       "4348                   SARONI Bin RASKI                         8.0  \n",
       "3542                  MUKTAR bin TARKAM                        18.0  \n",
       "\n",
       "[3297 rows x 8 columns]"
      ]
     },
     "execution_count": 11,
     "metadata": {},
     "output_type": "execute_result"
    }
   ],
   "source": [
    "train_df"
   ]
  },
  {
   "cell_type": "markdown",
   "metadata": {},
   "source": [
    "## Model"
   ]
  },
  {
   "cell_type": "markdown",
   "metadata": {},
   "source": [
    "### Model Preprocessing"
   ]
  },
  {
   "cell_type": "code",
   "execution_count": 12,
   "metadata": {},
   "outputs": [],
   "source": [
    "train_df['concat_text'] = train_df[['summarized_dakwaan', 'cleaned_barang_bukti', 'terdakwa']].apply(lambda x: ' '.join(x), axis=1)\n",
    "test_df['concat_text'] = test_df[['summarized_dakwaan', 'cleaned_barang_bukti', 'terdakwa']].apply(lambda x: ' '.join(x), axis=1)"
   ]
  },
  {
   "cell_type": "code",
   "execution_count": 13,
   "metadata": {},
   "outputs": [],
   "source": [
    "y_train = train_df['total_pidana_penjara_bulan']\n",
    "y_test = test_df['total_pidana_penjara_bulan']"
   ]
  },
  {
   "cell_type": "markdown",
   "metadata": {},
   "source": [
    "### Tokenizer"
   ]
  },
  {
   "cell_type": "code",
   "execution_count": 14,
   "metadata": {},
   "outputs": [
    {
     "name": "stdout",
     "output_type": "stream",
     "text": [
      "right\n"
     ]
    }
   ],
   "source": [
    "tokenizer = AutoTokenizer.from_pretrained(\"indolem/indobert-base-uncased\")\n",
    "\n",
    "def tokenize_function(text):\n",
    "    return tokenizer(text['concat_text'], padding='max_length', truncation=True, max_length=512)\n",
    "\n",
    "train_encodings = tokenizer(train_df['concat_text'].tolist(), padding=True, truncation=True, max_length=512)\n",
    "test_encodings = tokenizer(test_df['concat_text'].tolist(), padding=True, truncation=True, max_length=512)\n",
    "\n",
    "print(tokenizer.truncation_side)"
   ]
  },
  {
   "cell_type": "markdown",
   "metadata": {},
   "source": [
    "### Convert to Tensor"
   ]
  },
  {
   "cell_type": "code",
   "execution_count": 15,
   "metadata": {},
   "outputs": [],
   "source": [
    "train_inputs = tf.constant(train_encodings['input_ids'])\n",
    "train_attention_masks = tf.constant(train_encodings['attention_mask'])\n",
    "\n",
    "test_inputs = tf.constant(test_encodings['input_ids'])\n",
    "test_attention_masks = tf.constant(test_encodings['attention_mask'])\n",
    "\n",
    "train_numerical = tf.constant(train_df[['klasifikasi_perkara_encoded', 'penuntut_umum_encoded', 'hakim_encoded', 'jumlah_saksi']].values, dtype=tf.float32)\n",
    "test_numerical = tf.constant(test_df[['klasifikasi_perkara_encoded', 'penuntut_umum_encoded', 'hakim_encoded', 'jumlah_saksi']].values, dtype=tf.float32)\n",
    "\n",
    "train_labels = tf.constant(y_train.values, dtype=tf.float32)\n",
    "test_labels = tf.constant(y_test.values, dtype=tf.float32)"
   ]
  },
  {
   "cell_type": "markdown",
   "metadata": {},
   "source": [
    "### Create Dataset from Tensor"
   ]
  },
  {
   "cell_type": "code",
   "execution_count": 16,
   "metadata": {},
   "outputs": [],
   "source": [
    "import tensorflow as tf\n",
    "\n",
    "def create_bert_regressor_dataset(input_ids, attention_mask, numerical_features, labels):\n",
    "    dataset = tf.data.Dataset.from_tensor_slices(({\n",
    "        'input_ids': input_ids,\n",
    "        'attention_mask': attention_mask,\n",
    "        'numerical_feature': numerical_features\n",
    "    }, labels))\n",
    "    return dataset\n",
    "\n",
    "train_dataset = create_bert_regressor_dataset(train_inputs, train_attention_masks, train_numerical, train_labels)\n",
    "test_dataset = create_bert_regressor_dataset(test_inputs, test_attention_masks, test_numerical, test_labels)\n",
    "\n",
    "train_dataset = train_dataset.batch(2)\n",
    "test_dataset = test_dataset.batch(2)\n"
   ]
  },
  {
   "cell_type": "markdown",
   "metadata": {},
   "source": [
    "### Model Architecture"
   ]
  },
  {
   "cell_type": "code",
   "execution_count": 17,
   "metadata": {},
   "outputs": [
    {
     "name": "stderr",
     "output_type": "stream",
     "text": [
      "Some weights of the PyTorch model were not used when initializing the TF 2.0 model TFBertModel: ['cls.predictions.bias', 'cls.predictions.decoder.bias', 'cls.predictions.transform.dense.bias', 'cls.predictions.transform.LayerNorm.weight', 'cls.predictions.transform.dense.weight', 'cls.predictions.transform.LayerNorm.bias', 'cls.predictions.decoder.weight']\n",
      "- This IS expected if you are initializing TFBertModel from a PyTorch model trained on another task or with another architecture (e.g. initializing a TFBertForSequenceClassification model from a BertForPreTraining model).\n",
      "- This IS NOT expected if you are initializing TFBertModel from a PyTorch model that you expect to be exactly identical (e.g. initializing a TFBertForSequenceClassification model from a BertForSequenceClassification model).\n",
      "All the weights of TFBertModel were initialized from the PyTorch model.\n",
      "If your task is similar to the task the model of the checkpoint was trained on, you can already use TFBertModel for predictions without further training.\n"
     ]
    }
   ],
   "source": [
    "class BERTRegressor(tf.keras.Model):\n",
    "    def __init__(self):\n",
    "        super(BERTRegressor, self).__init__()\n",
    "        self.bert = TFBertModel.from_pretrained(\"indolem/indobert-base-uncased\", from_pt=True)\n",
    "\n",
    "        for layer in self.bert.layers:\n",
    "            layer.trainable = False\n",
    "            \n",
    "        self.regressor = tf.keras.layers.Dense(1)\n",
    "\n",
    "    def call(self, inputs):\n",
    "        input_ids = inputs['input_ids']\n",
    "        attention_mask = inputs['attention_mask']\n",
    "        numerical_features = inputs['numerical_feature']\n",
    "\n",
    "        bert_output = self.bert(input_ids=input_ids, attention_mask=attention_mask)\n",
    "        pooled_output = bert_output.pooler_output\n",
    "\n",
    "        combined_output = tf.concat([pooled_output, numerical_features], axis=1)\n",
    "\n",
    "        return self.regressor(combined_output)\n",
    "\n",
    "model = BERTRegressor()\n"
   ]
  },
  {
   "cell_type": "markdown",
   "metadata": {},
   "source": [
    "### Compile Model"
   ]
  },
  {
   "cell_type": "code",
   "execution_count": 18,
   "metadata": {},
   "outputs": [],
   "source": [
    "model.compile(optimizer='adam',\n",
    "              loss='mean_squared_error', metrics=['mean_absolute_error', tf.keras.metrics.RootMeanSquaredError()])"
   ]
  },
  {
   "cell_type": "markdown",
   "metadata": {},
   "source": [
    "### Train Model"
   ]
  },
  {
   "cell_type": "code",
   "execution_count": 19,
   "metadata": {},
   "outputs": [
    {
     "name": "stdout",
     "output_type": "stream",
     "text": [
      "Epoch 1/20\n",
      "1649/1649 [==============================] - 122s 69ms/step - loss: 441.1583 - mean_absolute_error: 13.7531 - root_mean_squared_error: 21.0038 - val_loss: 1848.8474 - val_mean_absolute_error: 25.4271 - val_root_mean_squared_error: 42.9982\n",
      "Epoch 2/20\n",
      "1649/1649 [==============================] - 112s 68ms/step - loss: 419.7338 - mean_absolute_error: 13.3902 - root_mean_squared_error: 20.4874 - val_loss: 1748.7769 - val_mean_absolute_error: 24.8187 - val_root_mean_squared_error: 41.8184\n",
      "Epoch 3/20\n",
      "1649/1649 [==============================] - 117s 71ms/step - loss: 409.1418 - mean_absolute_error: 13.3353 - root_mean_squared_error: 20.2273 - val_loss: 1681.0265 - val_mean_absolute_error: 24.2799 - val_root_mean_squared_error: 41.0003\n",
      "Epoch 4/20\n",
      "1649/1649 [==============================] - 118s 72ms/step - loss: 402.4201 - mean_absolute_error: 13.3233 - root_mean_squared_error: 20.0604 - val_loss: 1645.4319 - val_mean_absolute_error: 23.9974 - val_root_mean_squared_error: 40.5639\n",
      "Epoch 5/20\n",
      "1649/1649 [==============================] - 119s 72ms/step - loss: 401.1740 - mean_absolute_error: 13.3527 - root_mean_squared_error: 20.0293 - val_loss: 1617.5577 - val_mean_absolute_error: 23.7523 - val_root_mean_squared_error: 40.2189\n",
      "Epoch 6/20\n",
      "1649/1649 [==============================] - 115s 69ms/step - loss: 389.7497 - mean_absolute_error: 13.1554 - root_mean_squared_error: 19.7421 - val_loss: 1584.9181 - val_mean_absolute_error: 23.4915 - val_root_mean_squared_error: 39.8110\n",
      "Epoch 7/20\n",
      "1649/1649 [==============================] - 114s 69ms/step - loss: 392.4861 - mean_absolute_error: 13.2725 - root_mean_squared_error: 19.8113 - val_loss: 1568.8468 - val_mean_absolute_error: 23.3167 - val_root_mean_squared_error: 39.6087\n",
      "Epoch 8/20\n",
      "1649/1649 [==============================] - 112s 68ms/step - loss: 391.2310 - mean_absolute_error: 13.2856 - root_mean_squared_error: 19.7796 - val_loss: 1533.1880 - val_mean_absolute_error: 22.9607 - val_root_mean_squared_error: 39.1559\n",
      "Epoch 9/20\n",
      "1649/1649 [==============================] - 112s 68ms/step - loss: 384.4084 - mean_absolute_error: 13.1647 - root_mean_squared_error: 19.6063 - val_loss: 1521.8666 - val_mean_absolute_error: 22.8538 - val_root_mean_squared_error: 39.0111\n",
      "Epoch 10/20\n",
      "1649/1649 [==============================] - 112s 68ms/step - loss: 381.4454 - mean_absolute_error: 13.0765 - root_mean_squared_error: 19.5306 - val_loss: 1500.5208 - val_mean_absolute_error: 22.6595 - val_root_mean_squared_error: 38.7366\n",
      "Epoch 11/20\n",
      "1649/1649 [==============================] - 113s 68ms/step - loss: 377.4685 - mean_absolute_error: 13.0838 - root_mean_squared_error: 19.4285 - val_loss: 1499.9188 - val_mean_absolute_error: 22.6866 - val_root_mean_squared_error: 38.7288\n",
      "Epoch 12/20\n",
      "1649/1649 [==============================] - 113s 68ms/step - loss: 376.0214 - mean_absolute_error: 13.0754 - root_mean_squared_error: 19.3913 - val_loss: 1475.1348 - val_mean_absolute_error: 22.4788 - val_root_mean_squared_error: 38.4075\n",
      "Epoch 13/20\n",
      "1649/1649 [==============================] - 113s 68ms/step - loss: 375.8273 - mean_absolute_error: 12.9784 - root_mean_squared_error: 19.3863 - val_loss: 1469.9575 - val_mean_absolute_error: 22.4200 - val_root_mean_squared_error: 38.3400\n",
      "Epoch 14/20\n",
      "1649/1649 [==============================] - 113s 68ms/step - loss: 371.4337 - mean_absolute_error: 13.0263 - root_mean_squared_error: 19.2726 - val_loss: 1463.5707 - val_mean_absolute_error: 22.3841 - val_root_mean_squared_error: 38.2566\n",
      "Epoch 15/20\n",
      "1649/1649 [==============================] - 113s 68ms/step - loss: 367.8123 - mean_absolute_error: 12.9210 - root_mean_squared_error: 19.1784 - val_loss: 1441.4136 - val_mean_absolute_error: 22.1816 - val_root_mean_squared_error: 37.9660\n",
      "Epoch 16/20\n",
      "1649/1649 [==============================] - 113s 68ms/step - loss: 370.9345 - mean_absolute_error: 12.9444 - root_mean_squared_error: 19.2597 - val_loss: 1420.6284 - val_mean_absolute_error: 21.9852 - val_root_mean_squared_error: 37.6912\n",
      "Epoch 17/20\n",
      "1649/1649 [==============================] - 113s 69ms/step - loss: 368.5265 - mean_absolute_error: 12.9653 - root_mean_squared_error: 19.1970 - val_loss: 1396.4640 - val_mean_absolute_error: 21.8076 - val_root_mean_squared_error: 37.3693\n",
      "Epoch 18/20\n",
      "1649/1649 [==============================] - 113s 68ms/step - loss: 367.8531 - mean_absolute_error: 12.9413 - root_mean_squared_error: 19.1795 - val_loss: 1388.0732 - val_mean_absolute_error: 21.7764 - val_root_mean_squared_error: 37.2569\n",
      "Epoch 19/20\n",
      "1649/1649 [==============================] - 113s 68ms/step - loss: 368.8585 - mean_absolute_error: 12.9901 - root_mean_squared_error: 19.2057 - val_loss: 1415.7941 - val_mean_absolute_error: 21.9603 - val_root_mean_squared_error: 37.6270\n",
      "Epoch 20/20\n",
      "1649/1649 [==============================] - 113s 68ms/step - loss: 365.8877 - mean_absolute_error: 12.8771 - root_mean_squared_error: 19.1282 - val_loss: 1385.2998 - val_mean_absolute_error: 21.7688 - val_root_mean_squared_error: 37.2196\n"
     ]
    }
   ],
   "source": [
    "history = model.fit(train_dataset, epochs=20, validation_data=test_dataset)"
   ]
  },
  {
   "cell_type": "code",
   "execution_count": 20,
   "metadata": {},
   "outputs": [
    {
     "data": {
      "image/png": "[encoded data removed]",
      "text/plain": [
       "<Figure size 640x480 with 1 Axes>"
      ]
     },
     "metadata": {},
     "output_type": "display_data"
    },
    {
     "data": {
      "image/png": "[encoded data removed]",
      "text/plain": [
       "<Figure size 640x480 with 1 Axes>"
      ]
     },
     "metadata": {},
     "output_type": "display_data"
    },
    {
     "data": {
      "image/png": "[encoded data removed]",
      "text/plain": [
       "<Figure size 640x480 with 1 Axes>"
      ]
     },
     "metadata": {},
     "output_type": "display_data"
    }
   ],
   "source": [
    "plt.plot(history.history['mean_absolute_error'])\n",
    "plt.plot(history.history['val_mean_absolute_error'])\n",
    "plt.title('Model Mean Absolute Error')\n",
    "plt.ylabel('Mean Absolute Error')\n",
    "plt.xlabel('Epoch')\n",
    "plt.legend(['Train', 'Validation'], loc='upper left')\n",
    "plt.show()\n",
    "\n",
    "plt.plot(history.history['loss'])\n",
    "plt.plot(history.history['val_loss'])\n",
    "plt.title('Model Loss')\n",
    "plt.ylabel('Loss')\n",
    "plt.xlabel('Epoch')\n",
    "plt.legend(['Train', 'Validation'], loc='upper left')\n",
    "plt.show()\n",
    "\n",
    "plt.plot(history.history['root_mean_squared_error'])\n",
    "plt.plot(history.history['val_root_mean_squared_error'])\n",
    "plt.title('Model Root Mean Squared Error')\n",
    "plt.ylabel('Root Mean Squared Error')\n",
    "plt.xlabel('Epoch')\n",
    "plt.legend(['Train', 'Validation'], loc='upper left')\n",
    "plt.show()"
   ]
  },
  {
   "cell_type": "markdown",
   "metadata": {},
   "source": [
    "## Inference"
   ]
  },
  {
   "cell_type": "code",
   "execution_count": 24,
   "metadata": {},
   "outputs": [],
   "source": [
    "klasifikasi_perkara_encoded = 2\n",
    "penuntut_umum_encoded = 9\n",
    "hakim_encoded = 3\n",
    "jumlah_saksi_inference = 3\n",
    "# maks_lama_penjara_berdasarkan_pasal = 84\n",
    "\n",
    "inference_text = \"1 (satu) unit sepeda motor yang sudah dimodifikasi (cetul) tanpa terpasang nomor registrasi / nomor polisi dan tidak dapat terdapat nomor rangka dan nomor mesin kendaraan Dikembalikan kepada I Gede Wiraguna 1 (satu) unit sepeda motor merek Kawasaki tipe LX 150 C, warna hitam kombinasi kuning, tahun pembuatan 2010, tanpa terpasang nomor registrasi / nomor polisi, Noka MH4LX150CAKP15705, Nosin LX150CEP19759 1 (satu) lembar SNTK sepeda motor merek Kawasaki tipe LX 150 C, warna hijau, tahun pembuatan 2010, nomor registrasi / nomor polisi DK 8164 IQ, Noka MH4LX150CAKP15705, Nosin LX150CEP19759, a.n. Chrisnawati, alamat Jl. Surabaya D, 6/20 Puri Gading, Jimbaran, Kuta Badung dan 1 (satu) buah buku BPKB, No H-0 2625520, DK 8164 IQ, merek Kawasaki tipe LX 150 C, Noka MH4LX150CAKP15705, Nosin LX150CEP19759, a.n. Chrisnawati, alamat Jl. Surabaya D, 6/20 Puri Gading, Jimbaran, Kuta Badung Dikembalikan kepada I Wayan Eva Kusuma Putra 6. Membebankan kepada Para Terdakwa membayar biaya perkara masing-masing sejumlah Rp5.000,00 (lima ribu rupiah) Terdakwa I, Rifqi Abdurahman, dan Terdakwa II, Gunawan, didakwa melakukan pencurian sepeda motor Kawasaki KLX 150 C di Jalan Raya Kayuambua, Bangli, pada 11 Desember 2022, sekitar pukul 00.30 WITA. Berawal dari permintaan Gunawan untuk mencarikan motor KLX, mereka berdua berangkat dari Denpasar ke Kintamani. Di lokasi kejadian, mereka melihat motor KLX tanpa kunci kontak. Rifqi mengambil motor tersebut dengan mendorongnya, sementara Gunawan mengawasi.  Karena Rifqi tidak bisa menyalakan motor, Gunawan membantu mendorongnya. Namun, motor mereka mengalami kerusakan, dan Rifqi melanjutkan mendorong motor curian sendirian. Saat mendorong, Rifqi bertemu saksi-saksi yang curiga dan menghubungi pemilik motor. Rifqi berhasil menyalakan motor, tetapi kehabisan bensin. Ia melanjutkan mendorong ke SPBU Sekardadi, di mana ia tertidur dan ditangkap polisi.  Gunawan ditangkap di Desa Dumilih. Motor curian dan motor yang digunakan para terdakwa disita. Korban, I Wayan Eva Kusuma Putra, mengalami kerugian Rp16.000.000. Para terdakwa didakwa melanggar Pasal 363 Ayat (1) Ke 4 KUHP sebagai dakwaan primair dan Pasal 362 KUHP sebagai dakwaan subsidair. RIFQI ABDURAHMAN\"\n",
    "inference_numerical_tensor = tf.constant([[klasifikasi_perkara_encoded, penuntut_umum_encoded, hakim_encoded, jumlah_saksi_inference]], dtype=tf.float32)\n",
    "inputs = tokenizer(inference_text, padding=True, truncation=True, return_tensors='tf', max_length=512)\n",
    "\n",
    "input_dict = {\n",
    "    'input_ids': inputs['input_ids'],\n",
    "    'attention_mask': inputs['attention_mask'],\n",
    "    'numerical_feature': inference_numerical_tensor\n",
    "}"
   ]
  },
  {
   "cell_type": "code",
   "execution_count": 25,
   "metadata": {},
   "outputs": [
    {
     "name": "stdout",
     "output_type": "stream",
     "text": [
      "[[19.460064]]\n"
     ]
    }
   ],
   "source": [
    "predictions = model(input_dict)\n",
    "predictions_np = predictions.numpy()\n",
    "\n",
    "print(predictions_np)\n"
   ]
  },
  {
   "cell_type": "code",
   "execution_count": 21,
   "metadata": {},
   "outputs": [
    {
     "name": "stderr",
     "output_type": "stream",
     "text": [
      "WARNING:absl:Found untraced functions such as serving, embeddings_layer_call_fn, embeddings_layer_call_and_return_conditional_losses, encoder_layer_call_fn, encoder_layer_call_and_return_conditional_losses while saving (showing 5 of 421). These functions will not be directly callable after loading.\n"
     ]
    },
    {
     "name": "stdout",
     "output_type": "stream",
     "text": [
      "INFO:tensorflow:Assets written to: ../Model/BERT_NO_PASAL_1\\assets\n"
     ]
    },
    {
     "name": "stderr",
     "output_type": "stream",
     "text": [
      "INFO:tensorflow:Assets written to: ../Model/BERT_NO_PASAL_1\\assets\n"
     ]
    }
   ],
   "source": [
    "model.save('../Model/BERT_NO_PASAL_1')"
   ]
  },
  {
   "cell_type": "markdown",
   "metadata": {},
   "source": [
    "## Saved Model Inference"
   ]
  },
  {
   "cell_type": "code",
   "execution_count": 32,
   "metadata": {},
   "outputs": [
    {
     "name": "stderr",
     "output_type": "stream",
     "text": [
      "Some weights of the PyTorch model were not used when initializing the TF 2.0 model TFBertModel: ['cls.predictions.decoder.bias', 'cls.predictions.bias', 'cls.predictions.decoder.weight', 'cls.predictions.transform.dense.bias', 'cls.predictions.transform.LayerNorm.bias', 'cls.predictions.transform.LayerNorm.weight', 'cls.predictions.transform.dense.weight']\n",
      "- This IS expected if you are initializing TFBertModel from a PyTorch model trained on another task or with another architecture (e.g. initializing a TFBertForSequenceClassification model from a BertForPreTraining model).\n",
      "- This IS NOT expected if you are initializing TFBertModel from a PyTorch model that you expect to be exactly identical (e.g. initializing a TFBertForSequenceClassification model from a BertForSequenceClassification model).\n",
      "All the weights of TFBertModel were initialized from the PyTorch model.\n",
      "If your task is similar to the task the model of the checkpoint was trained on, you can already use TFBertModel for predictions without further training.\n"
     ]
    }
   ],
   "source": [
    "tokenizer = AutoTokenizer.from_pretrained(\"indolem/indobert-base-uncased\")\n",
    "\n",
    "class BERTRegressor(tf.keras.Model):\n",
    "    def __init__(self):\n",
    "        super(BERTRegressor, self).__init__()\n",
    "        self.bert = TFBertModel.from_pretrained(\"indolem/indobert-base-uncased\", from_pt=True)\n",
    "        for layer in self.bert.layers:\n",
    "            layer.trainable = False\n",
    "        self.regressor = tf.keras.layers.Dense(1)\n",
    "\n",
    "    def call(self, inputs):\n",
    "        input_ids = inputs['input_ids']\n",
    "        attention_mask = inputs['attention_mask']\n",
    "        numerical_features = inputs['numerical_feature']\n",
    "\n",
    "        bert_output = self.bert(input_ids=input_ids, attention_mask=attention_mask)\n",
    "        pooled_output = bert_output.pooler_output\n",
    "        combined_output = tf.concat([pooled_output, numerical_features], axis=1)\n",
    "\n",
    "        return self.regressor(combined_output)\n",
    "\n",
    "loaded_model = tf.keras.models.load_model('../Model/dummy_run_BERT_2', custom_objects={'BERTRegressor': BERTRegressor})"
   ]
  },
  {
   "cell_type": "code",
   "execution_count": 33,
   "metadata": {},
   "outputs": [],
   "source": [
    "klasifikasi_perkara_encoded = 2\n",
    "penuntut_umum_encoded = 9\n",
    "hakim_encoded = 3\n",
    "jumlah_saksi_inference = 3\n",
    "maks_lama_penjara_berdasarkan_pasal = 84\n",
    "\n",
    "inference_text = \"1 (satu) unit sepeda motor yang sudah dimodifikasi (cetul) tanpa terpasang nomor registrasi / nomor polisi dan tidak dapat terdapat nomor rangka dan nomor mesin kendaraan Dikembalikan kepada I Gede Wiraguna 1 (satu) unit sepeda motor merek Kawasaki tipe LX 150 C, warna hitam kombinasi kuning, tahun pembuatan 2010, tanpa terpasang nomor registrasi / nomor polisi, Noka MH4LX150CAKP15705, Nosin LX150CEP19759 1 (satu) lembar SNTK sepeda motor merek Kawasaki tipe LX 150 C, warna hijau, tahun pembuatan 2010, nomor registrasi / nomor polisi DK 8164 IQ, Noka MH4LX150CAKP15705, Nosin LX150CEP19759, a.n. Chrisnawati, alamat Jl. Surabaya D, 6/20 Puri Gading, Jimbaran, Kuta Badung dan 1 (satu) buah buku BPKB, No H-0 2625520, DK 8164 IQ, merek Kawasaki tipe LX 150 C, Noka MH4LX150CAKP15705, Nosin LX150CEP19759, a.n. Chrisnawati, alamat Jl. Surabaya D, 6/20 Puri Gading, Jimbaran, Kuta Badung Dikembalikan kepada I Wayan Eva Kusuma Putra 6. Membebankan kepada Para Terdakwa membayar biaya perkara masing-masing sejumlah Rp5.000,00 (lima ribu rupiah) Terdakwa I, Rifqi Abdurahman, dan Terdakwa II, Gunawan, didakwa melakukan pencurian sepeda motor Kawasaki KLX 150 C di Jalan Raya Kayuambua, Bangli, pada 11 Desember 2022, sekitar pukul 00.30 WITA. Berawal dari permintaan Gunawan untuk mencarikan motor KLX, mereka berdua berangkat dari Denpasar ke Kintamani. Di lokasi kejadian, mereka melihat motor KLX tanpa kunci kontak. Rifqi mengambil motor tersebut dengan mendorongnya, sementara Gunawan mengawasi.  Karena Rifqi tidak bisa menyalakan motor, Gunawan membantu mendorongnya. Namun, motor mereka mengalami kerusakan, dan Rifqi melanjutkan mendorong motor curian sendirian. Saat mendorong, Rifqi bertemu saksi-saksi yang curiga dan menghubungi pemilik motor. Rifqi berhasil menyalakan motor, tetapi kehabisan bensin. Ia melanjutkan mendorong ke SPBU Sekardadi, di mana ia tertidur dan ditangkap polisi.  Gunawan ditangkap di Desa Dumilih. Motor curian dan motor yang digunakan para terdakwa disita. Korban, I Wayan Eva Kusuma Putra, mengalami kerugian Rp16.000.000. Para terdakwa didakwa melanggar Pasal 363 Ayat (1) Ke 4 KUHP sebagai dakwaan primair dan Pasal 362 KUHP sebagai dakwaan subsidair. RIFQI ABDURAHMAN\"\n",
    "inference_numerical_tensor = tf.constant([[klasifikasi_perkara_encoded, penuntut_umum_encoded, hakim_encoded, jumlah_saksi_inference, maks_lama_penjara_berdasarkan_pasal]], dtype=tf.float32)\n",
    "inputs = tokenizer(inference_text, padding=True, truncation=True, return_tensors='tf', max_length=512)\n",
    "\n",
    "input_dict = {\n",
    "    'input_ids': inputs['input_ids'],\n",
    "    'attention_mask': inputs['attention_mask'],\n",
    "    'numerical_feature': inference_numerical_tensor\n",
    "}"
   ]
  },
  {
   "cell_type": "code",
   "execution_count": 34,
   "metadata": {},
   "outputs": [
    {
     "name": "stdout",
     "output_type": "stream",
     "text": [
      "tf.Tensor([[15.147672]], shape=(1, 1), dtype=float32)\n",
      "[[15.147672]]\n",
      "15.147672\n"
     ]
    }
   ],
   "source": [
    "predictions = loaded_model(input_dict)\n",
    "predictions_np = predictions.numpy()\n",
    "\n",
    "print(predictions)\n",
    "print(predictions_np)\n",
    "print(predictions_np[0][0])\n"
   ]
  }
 ],
 "metadata": {
  "kernelspec": {
   "display_name": "tf_gpu",
   "language": "python",
   "name": "python3"
  },
  "language_info": {
   "codemirror_mode": {
    "name": "ipython",
    "version": 3
   },
   "file_extension": ".py",
   "mimetype": "text/x-python",
   "name": "python",
   "nbconvert_exporter": "python",
   "pygments_lexer": "ipython3",
   "version": "3.9.20"
  }
 },
 "nbformat": 4,
 "nbformat_minor": 2
}
