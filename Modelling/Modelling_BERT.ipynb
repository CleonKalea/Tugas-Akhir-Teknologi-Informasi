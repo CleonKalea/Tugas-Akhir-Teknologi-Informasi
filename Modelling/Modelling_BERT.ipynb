{
 "cells": [
  {
   "cell_type": "code",
   "execution_count": 1,
   "metadata": {},
   "outputs": [
    {
     "name": "stderr",
     "output_type": "stream",
     "text": [
      "c:\\Users\\Kalea\\miniconda3\\envs\\tf_gpu\\lib\\site-packages\\tqdm\\auto.py:21: TqdmWarning: IProgress not found. Please update jupyter and ipywidgets. See https://ipywidgets.readthedocs.io/en/stable/user_install.html\n",
      "  from .autonotebook import tqdm as notebook_tqdm\n"
     ]
    }
   ],
   "source": [
    "import numpy as np\n",
    "import pandas as pd\n",
    "import matplotlib.pyplot as plt\n",
    "# from datasets import DatasetDict, Datasets\n",
    "from transformers import AutoTokenizer, TFBertModel\n",
    "import tensorflow as tf\n",
    "from sklearn.model_selection import train_test_split\n",
    "import pickle"
   ]
  },
  {
   "cell_type": "markdown",
   "metadata": {},
   "source": [
    "## Data Preparation"
   ]
  },
  {
   "cell_type": "code",
   "execution_count": 2,
   "metadata": {},
   "outputs": [],
   "source": [
    "df = pd.read_csv('../Data/STAGE 4 FINAL MERGED DATA/STAGE_4_MERGED_FINAL_ENCODED.csv')"
   ]
  },
  {
   "cell_type": "code",
   "execution_count": 3,
   "metadata": {},
   "outputs": [
    {
     "data": {
      "application/vnd.microsoft.datawrangler.viewer.v0+json": {
       "columns": [
        {
         "name": "index",
         "rawType": "int64",
         "type": "integer"
        },
        {
         "name": "klasifikasi_perkara_encoded",
         "rawType": "int64",
         "type": "integer"
        },
        {
         "name": "penuntut_umum_encoded",
         "rawType": "int64",
         "type": "integer"
        },
        {
         "name": "hakim_encoded",
         "rawType": "int64",
         "type": "integer"
        },
        {
         "name": "jumlah_saksi",
         "rawType": "int64",
         "type": "integer"
        },
        {
         "name": "maks_penjara_berdasarkan_pasal",
         "rawType": "int64",
         "type": "integer"
        },
        {
         "name": "terdakwa",
         "rawType": "object",
         "type": "string"
        },
        {
         "name": "summarized_dakwaan",
         "rawType": "object",
         "type": "string"
        },
        {
         "name": "total_pidana_penjara_bulan",
         "rawType": "float64",
         "type": "float"
        }
       ],
       "conversionMethod": "pd.DataFrame",
       "ref": "d90d65d7-8b2f-4909-8de7-9d98163c8b2c",
       "rows": [
        [
         "0",
         "0",
         "0",
         "0",
         "6",
         "80",
         "GEDE DARMAYASA",
         "Terdakwa Gede Darmayasa didakwa telah melakukan tindak pidana pencurian buah durian di tiga lokasi berbeda di wilayah Kintamani, Kabupaten Bangli, pada bulan Mei 2024. Pada hari Selasa, 21 Mei 2024, sekitar pukul 06.00 hingga 06.30 WITA, terdakwa mencuri sebanyak 37 buah durian dari kebun milik I Wayan Sukerena, SE dan 27 buah durian dari kebun milik I Nyoman Susila. Durian-durian tersebut kemudian dijual sebagian kepada saksi Komang Ayu Anggreni dengan harga Rp4.316.000 dan sisanya dibawa pulang. Selanjutnya, pada hari Kamis, 23 Mei 2024, terdakwa menjual lagi 40 buah durian kepada Komang Sujana, di mana 24 di antaranya merupakan hasil pencurian. Kemudian pada hari Sabtu, 25 Mei 2024, sekitar pukul 06.00 WITA, terdakwa kembali melakukan pencurian sebanyak 20 buah durian dari kebun milik I Ketut Tindih dan menjual 15 buah di antaranya seharga Rp1.485.000. Total durian yang dicuri terdakwa berjumlah 67 buah tanpa seizin pemiliknya, dengan maksud untuk dimiliki secara melawan hukum dan hasil penjualannya digunakan untuk kebutuhan sehari-hari. Akibat perbuatan terdakwa, I Wayan Sukerena mengalami kerugian sebesar Rp3.330.000, I Ketut Tindih sebesar Rp3.500.000, dan I Nyoman Susila sebesar Rp2.000.000. Perbuatan terdakwa diancam pidana berdasarkan Pasal 362 KUHP jo. Pasal 65 Ayat (1) KUHP.",
         "5.0"
        ],
        [
         "1",
         "1",
         "1",
         "1",
         "4",
         "48",
         "IDA BAGUS MADE DARMA WIGUNA",
         "Pada bulan Februari dan Maret 2024, terdakwa Ida Bagus Made Darma Wiguna alias Gus Manik didakwa melakukan tindak pidana penggelapan secara berlanjut terhadap saksi korban Ni Wayan Anik Artini. Berawal dari perkenalan melalui media sosial TikTok pada Desember 2023, terdakwa dan korban menjalin hubungan hingga pada 13 Februari 2024 korban menyerahkan perhiasan kalung emas 21 karat seberat 24,55 gram untuk disimpan di rumah terdakwa. Pada 17 Februari 2024, terdakwa meminjam kalung tersebut untuk digadaikan dengan janji akan menebusnya dalam dua hari. Kalung itu kemudian digadaikan di Kantor Pegadaian Bangli seharga Rp 8.000.000. Namun, tanpa seizin korban, pada 21 Februari 2024 terdakwa kembali ke Pegadaian dan menambah nilai gadai menjadi Rp 19.600.000, menerima pencairan tambahan sebesar Rp 11.397.000, yang seluruhnya digunakan untuk keperluan pribadi. Kemudian, pada 10 Maret 2024, terdakwa meminjam ponsel Samsung Galaxy A04E milik korban dengan alasan untuk komunikasi, namun ponsel tersebut dijual seharga Rp 600.000 dan hasilnya juga dipakai untuk kebutuhan sehari-hari. Meskipun korban telah beberapa kali meminta barang-barangnya dikembalikan, terdakwa selalu mengelak dengan berbagai alasan. Akibat perbuatan terdakwa, korban mengalami kerugian sebesar Rp 26.000.000. Perbuatan Terdakwa didakwa dengan dakwaan primair Pasal 372 jo. 64 Ayat (1) KUHP, dan dakwaan subsidair Pasal 378 jo. 64 Ayat (1) KUHP.",
         "24.0"
        ],
        [
         "2",
         "0",
         "0",
         "2",
         "6",
         "84",
         "HANDRI JOHANAS",
         "Terdakwa Handri Johanes pada Rabu, 24 April 2024 sekitar pukul 03.00 WITA di sebuah kamar di Puri Kanginan, Lingkungan Banjar Puri Kanginan No. 2 Bangli, telah melakukan pencurian satu unit handphone OPPO A53 warna hitam milik I Nengah Sukadana. Kejadian bermula ketika terdakwa yang sebelumnya pernah bekerja di mebel milik Gung Aji Kartika dan terbiasa keluar masuk area puri, datang mencari temannya yang dahulu tinggal di sana. Setelah tidak menemukan temannya dan hendak pulang, terdakwa melihat sebuah handphone sedang diisi daya dalam kamar yang pintunya sedikit terbuka. Ia kemudian mengambil handphone tersebut dengan memasukkan tangan melalui celah pintu. Setelah sampai di bengkel tempat tinggalnya, terdakwa mengetahui bahwa handphone tersebut terkunci, lalu beberapa hari kemudian menjualnya kepada seseorang bernama Denny Firmansyah di Klungkung seharga Rp300.000. Uang hasil penjualan itu kemudian ia kirim ke anaknya di Lombok. Akibat perbuatan tersebut, saksi I Nengah Sukadana mengalami kerugian sebesar Rp3.999.000. Perbuatan terdakwa diancam pidana berdasarkan Pasal 363 Ayat (1) ke-3 KUHP.",
         "4.0"
        ],
        [
         "3",
         "2",
         "2",
         "1",
         "2",
         "144",
         "I GEDE ARIADI alias BERNAD",
         "Pada hari Minggu, 14 April 2024 sekitar pukul 16.35 WITA, terdakwa I Gede Ariadi alias Bernad ditangkap di Jl. Brigjen Ngurah Rai, Kelurahan Kawan, Bangli oleh tim Opsnal Satresnarkoba Polres Bangli karena kedapatan membawa narkotika jenis sabu. Kronologi bermula pada 9 April 2024 saat terdakwa berkenalan dengan seseorang bernama Kadek (DPO) melalui Facebook, lalu berkomunikasi intens melalui WhatsApp dan sepakat untuk menggunakan sabu bersama. Pada 14 April 2024 pagi, terdakwa diberi tahu oleh Mang Donal (DPO) bahwa sabu sudah tersedia dan ditempel di bawah tiang listrik di daerah Bendul, Klungkung. Terdakwa mengambil sabu yang dibungkus dalam tabung micro tube dan menyimpannya di tas selempang. Sore harinya, terdakwa berangkat menuju Bangli sesuai petunjuk lokasi dari Kadek. Setibanya di lokasi, terdakwa diamankan polisi dan saat digeledah ditemukan satu plastik klip berisi kristal sabu seberat 0,20 gram netto beserta barang bukti lainnya seperti handphone dan sepeda motor. Berdasarkan hasil uji laboratorium, kristal tersebut positif mengandung Metamfetamina yang tergolong Narkotika Golongan I. Terdakwa tidak memiliki izin dari Menteri Kesehatan atau instansi terkait untuk memiliki narkotika tersebut. Perbuatan Terdakwa didakwa dengan dakwaan primair Pasal 112 Ayat (1) UU RI No. 35 Tahun 2009 tentang Narkotika, dan dakwaan subsidair Pasal 127 Ayat (1) huruf a Undang-Undang RI No. 35 Tahun 2009 Tentang Narkotika.",
         "14.0"
        ],
        [
         "4",
         "2",
         "3",
         "1",
         "2",
         "144",
         "I GEDE ARIADI alias BERNAD",
         "Pada hari Minggu, 14 April 2024 sekitar pukul 16.35 WITA, terdakwa I Gede Ariadi alias Bernad ditangkap di Jl. Brigjen Ngurah Rai, Kelurahan Kawan, Bangli oleh tim Opsnal Satresnarkoba Polres Bangli karena kedapatan membawa narkotika jenis sabu. Kronologi bermula pada 9 April 2024 saat terdakwa berkenalan dengan seseorang bernama Kadek (DPO) melalui Facebook, lalu berkomunikasi intens melalui WhatsApp dan sepakat untuk menggunakan sabu bersama. Pada 14 April 2024 pagi, terdakwa diberi tahu oleh Mang Donal (DPO) bahwa sabu sudah tersedia dan ditempel di bawah tiang listrik di daerah Bendul, Klungkung. Terdakwa mengambil sabu yang dibungkus dalam tabung micro tube dan menyimpannya di tas selempang. Sore harinya, terdakwa berangkat menuju Bangli sesuai petunjuk lokasi dari Kadek. Setibanya di lokasi, terdakwa diamankan polisi dan saat digeledah ditemukan satu plastik klip berisi kristal sabu seberat 0,20 gram netto beserta barang bukti lainnya seperti handphone dan sepeda motor. Berdasarkan hasil uji laboratorium, kristal tersebut positif mengandung Metamfetamina yang tergolong Narkotika Golongan I. Terdakwa tidak memiliki izin dari Menteri Kesehatan atau instansi terkait untuk memiliki narkotika tersebut. Perbuatan Terdakwa didakwa dengan dakwaan primair Pasal 112 Ayat (1) UU RI No. 35 Tahun 2009 tentang Narkotika, dan dakwaan subsidair Pasal 127 Ayat (1) huruf a Undang-Undang RI No. 35 Tahun 2009 Tentang Narkotika.",
         "14.0"
        ],
        [
         "5",
         "0",
         "4",
         "1",
         "4",
         "60",
         "R. Sabirin",
         "Pada hari Selasa, 26 Maret 2024 sekitar pukul 17.10 WITA, bertempat di pinggir Jalan Raya Kintamani, Desa Kintamani, Kecamatan Kintamani, Kabupaten Bangli, Terdakwa melakukan pencurian dengan mengambil satu unit sepeda motor Honda Scoopy warna merah hitam DK 6384 PQ, yang sebagian atau seluruhnya milik orang lain, dengan maksud untuk dimiliki secara melawan hukum. Sebelumnya, pada 25 Maret 2024 pukul 13.00 WITA, Terdakwa berangkat dari Panarukan, Singaraja menuju Terminal Ubung Denpasar dengan menumpang truk, dengan tujuan mencuri sepeda motor. Tiba di Terminal Ubung sekitar pukul 14.30 WITA, Terdakwa menginap semalam karena hujan deras. Esok harinya, Terdakwa dijemput oleh temannya, WAHYU EKA JAYA (DPO), yang datang mengendarai sepeda motor Yamaha Vixion warna hitam. Mereka lalu pergi ke Kintamani untuk jalan-jalan. Sekitar pukul 17.10 WITA, mereka melihat sebuah motor Honda Scoopy terparkir di pinggir jalan dengan kunci masih tergantung. Setelah WAHYU EKA JAYA pergi meninggalkannya, Terdakwa mendekati motor tersebut, lalu mendorongnya sejauh sekitar 10 meter sebelum akhirnya menyalakan mesin dan melarikan diri menuju Denpasar melalui Payangan, Gianyar. Di daerah Ubud, Terdakwa dihentikan oleh seorang petugas Polsek Kintamani bernama I Gede Dipta Wirama Darma dan tidak dapat menunjukkan STNK kendaraan. Terdakwa kemudian diamankan beserta barang bukti ke Polsek Kintamani. Akibat perbuatan tersebut, korban, Ni Wayan Srimertanadi, mengalami kerugian sekitar Rp20.000.000\\. Perbuatan Terdakwa diatur dan diancam pidana dalam Pasal 362 KUHP.",
         "14.0"
        ],
        [
         "6",
         "2",
         "4",
         "1",
         "4",
         "144",
         "NOVANI ARI HIFNI Alias ARI",
         "Pada Minggu, 17 Maret 2024 sekitar pukul 18.10 WITA, terdakwa Novani Ari Hifni alias Ari ditangkap di pinggir Jalan Merdeka, Tamanbali, Bangli oleh petugas Satresnarkoba Polres Bangli karena kedapatan membawa narkotika jenis sabu. Sebelumnya, terdakwa menghubungi rekannya bernama Wewe (DPO) melalui Facebook untuk mencari sabu, kemudian diarahkan untuk menghubungi Rizal (DPO). Rizal menyanggupi permintaan terdakwa dengan sistem hutang dan mengirimkan lokasi pengambilan barang di Bangli. Terdakwa lalu mengajak temannya, saksi K. M. Sahrijal Jabar, untuk mengantarkan ke lokasi dengan imbalan uang. Setelah mengambil sabu yang disembunyikan di dekat tembok dengan berpura-pura buang air kecil, terdakwa melanjutkan perjalanan, namun akhirnya dihentikan dan diamankan oleh petugas. Saat digeledah, ditemukan satu plastik berisi sabu dalam botol Yakult serta peralatan hisap lainnya di dalam tas terdakwa, sementara pada saksi Sahrijal tidak ditemukan barang terlarang. Hasil pemeriksaan laboratorium terhadap kristal bening dan urine terdakwa menunjukkan keduanya positif mengandung metamfetamina, yang tergolong Narkotika Golongan I. Perbuatan Terdakwa didakwa dengan dakwaan primair Pasal 112 Ayat (1) Undang-Undang RI No. 35 Tahun 2009 tentang Narkotika, dan dakwaan subsidair Pasal 127 Ayat (1) huruf a Undang-Undang RI No. 35 Tahun 2009 tentang Narkotika.",
         "24.0"
        ],
        [
         "7",
         "2",
         "5",
         "1",
         "4",
         "144",
         "NOVANI ARI HIFNI Alias ARI",
         "Pada Minggu, 17 Maret 2024 sekitar pukul 18.10 WITA, terdakwa Novani Ari Hifni alias Ari ditangkap di pinggir Jalan Merdeka, Tamanbali, Bangli oleh petugas Satresnarkoba Polres Bangli karena kedapatan membawa narkotika jenis sabu. Sebelumnya, terdakwa menghubungi rekannya bernama Wewe (DPO) melalui Facebook untuk mencari sabu, kemudian diarahkan untuk menghubungi Rizal (DPO). Rizal menyanggupi permintaan terdakwa dengan sistem hutang dan mengirimkan lokasi pengambilan barang di Bangli. Terdakwa lalu mengajak temannya, saksi K. M. Sahrijal Jabar, untuk mengantarkan ke lokasi dengan imbalan uang. Setelah mengambil sabu yang disembunyikan di dekat tembok dengan berpura-pura buang air kecil, terdakwa melanjutkan perjalanan, namun akhirnya dihentikan dan diamankan oleh petugas. Saat digeledah, ditemukan satu plastik berisi sabu dalam botol Yakult serta peralatan hisap lainnya di dalam tas terdakwa, sementara pada saksi Sahrijal tidak ditemukan barang terlarang. Hasil pemeriksaan laboratorium terhadap kristal bening dan urine terdakwa menunjukkan keduanya positif mengandung metamfetamina, yang tergolong Narkotika Golongan I. Perbuatan Terdakwa didakwa dengan dakwaan primair Pasal 112 Ayat (1) Undang-Undang RI No. 35 Tahun 2009 tentang Narkotika, dan dakwaan subsidair Pasal 127 Ayat (1) huruf a Undang-Undang RI No. 35 Tahun 2009 tentang Narkotika.",
         "24.0"
        ],
        [
         "8",
         "2",
         "6",
         "1",
         "4",
         "240",
         "MULYADI alias MUL",
         "Pada Selasa, 9 Januari 2024 sekitar pukul 17.30 WITA di Jalan Bima, Kelurahan Cempaga, Bangli, terdakwa Mulyadi alias Mul ditangkap karena tanpa hak menawarkan dan membawa narkotika jenis sabu. Sebelumnya, terdakwa dihubungi oleh rekannya, Kadek (DPO), untuk mengantarkan sabu ke Bangli. Setelah bertemu dengan kurir Kadek di Lapangan Lumintang, Denpasar, terdakwa menerima sabu dalam amplop putih, sempat mencicipinya, dan menyimpannya di dashboard mobil lalu berpindah ke tas pinggang. Sekitar pukul 15.00 WITA, terdakwa berangkat ke Bangli dan tiba di lokasi yang diarahkan Kadek. Saat tiba di kos-kosan milik kakak Kadek, terdakwa diamankan oleh polisi. Dalam penggeledahan, ditemukan sabu, alat isap, korek api modifikasi, dan barang bukti lainnya. Berdasarkan hasil laboratorium, kristal yang disita terbukti mengandung metamfetamina yang termasuk Narkotika Golongan I, sedangkan urine terdakwa tidak mengandung narkotika. Perbuatan Terdakwa didakwa dengan dakwaan primair Pasal 114 Ayat (1) UU RI No. 35 Tahun 2009 tentang Narkotika, dan dakwaan subsidair Pasal 112 Ayat (1) UU RI No. 35 tahun 2009 tentang Narkotika.",
         "51.0"
        ],
        [
         "9",
         "0",
         "7",
         "1",
         "6",
         "80",
         "I WAYAN ARTAYASA",
         "Terdakwa I Wayan Artayasa didakwa telah melakukan serangkaian pencurian secara berulang di Pasar Kidul Bangli, dengan sasaran utama dagangan milik ibunya sendiri, Ni Nyoman Suwini, serta milik pedagang lain seperti Ni Luh Utari dan Ni Ketut Suci. Perbuatan tersebut dilakukan sejak Desember 2023 hingga Februari 2024, pada dini hari antara pukul 03.00 hingga 04.00 WITA. Modus operandi yang digunakan adalah dengan masuk ke pasar melalui celah jeruji besi, membuka terpal dagangan, dan mengambil berbagai bahan pokok seperti kemiri, kacang tanah, gula merah, kacang hijau, dan beras. Barang-barang hasil curian tersebut kemudian dijual oleh terdakwa di Pasar Kidul Bangli dan Pasar Singamandawa Kintamani untuk memenuhi kebutuhan sehari-hari. Perbuatan terdakwa dilakukan tanpa seizin atau sepengetahuan para pemilik barang, dan telah menyebabkan kerugian bagi para korban. Berdasarkan perbuatannya tersebut, terdakwa didakwa dengan Pasal 362 KUHP jo. Pasal 65 Ayat (1) KUHP pada dakwaan primair dan Pasal 367 Ayat (2) KUHP jo. Pasal 65 Ayat (1) KUHP untuk dakwaan subsidair.",
         "12.0"
        ],
        [
         "10",
         "0",
         "4",
         "3",
         "4",
         "60",
         "RURY HERAWATI",
         "Terdakwa Rury Herawati pada tanggal 20 November 2023 sekitar pukul 15.15 WITA telah melakukan pencurian di Toko Ari Kebaya, Jalan Nusantara, Bangli. Terdakwa datang dari Denpasar dengan niat mencuri dan setelah mencari toko yang sepi, ia berpura-pura sebagai pembeli. Saat penjaga toko sedang membelakangi untuk mencarikan sandal, Terdakwa membuka lemari yang tidak terkunci dan mengambil tas kain berisi dua dompet dengan total uang Rp16.500.000,- milik saksi Ni Nengah Ngariasi. Setelah mengambil tas, Terdakwa berpura-pura hendak mengambil uang di ATM dan langsung pergi meninggalkan dua selendang yang sudah dibayar. Uang hasil pencurian digunakan untuk membeli berbagai barang seperti HP, emas, pakaian, serta kebutuhan sehari-hari. Sisa uang yang dicuri masih tersisa sebesar Rp5.778.000. Berdasarkan laporan polisi dan penyelidikan, Terdakwa mengakui perbuatannya dan kini telah diamankan bersama barang bukti untuk proses hukum lebih lanjut. Perbuatannya diancam pidana sesuai Pasal 362 KUHP.",
         "16.0"
        ],
        [
         "11",
         "3",
         "7",
         "1",
         "8",
         "48",
         "I KETUT SUPUTRA",
         "Bahwa para Terdakwa, yakni Terdakwa I Ketut Suputra dan Terdakwa II Ni Komang Warsiki, dalam kurun waktu antara bulan Mei 2019 sampai dengan Oktober 2020, bertempat di gudang milik para Terdakwa yang beralamat di Jalan Soekarno, Banjar Dukuh, Desa Bunutin, Kecamatan Bangli, Kabupaten Bangli, telah melakukan perbuatan melawan hukum dengan cara menguasai secara melawan hak barang titipan milik PT. Putra Dewata Sejati. Awalnya, Terdakwa I menjalin kerja sama usaha penjualan produk minuman bermerek Aqua dengan PT. Putra Dewata Sejati di bawah nama usaha UD. Sari Merta berdasarkan Surat Kesepakatan Nomor 002/SP/PDS-BALI/IV/2019 tanggal 6 April 2019. Dalam pelaksanaan kerja sama tersebut, PT. Putra Dewata Sejati menyerahkan sejumlah barang titipan kepada UD. Sari Merta untuk dijual kembali, dengan ketentuan bahwa harga pokok barang harus disetorkan kembali kepada PT. Putra Dewata Sejati setelah barang terjual, sedangkan selisih harga jual menjadi keuntungan bagi UD. Sari Merta. Dalam pelaksanaan usahanya, Terdakwa I selaku penanggung jawab operasional dan Terdakwa II sebagai bagian administrasi bertugas mengelola penjualan, keuangan, dan pembayaran kepada pihak supplier. Akan tetapi, sejak bulan Mei 2019, para Terdakwa mulai tidak menyetorkan secara penuh hasil penjualan barang, dan sejak bulan Oktober 2020 tidak lagi melakukan penyetoran sama sekali, padahal seluruh barang titipan telah terjual. Uang hasil penjualan tersebut justru digunakan oleh para Terdakwa untuk membayar gaji karyawan, menutupi biaya operasional, serta memenuhi kebutuhan hidup pribadi, tanpa seizin atau sepengetahuan PT. Putra Dewata Sejati. Perbuatan para Terdakwa tersebut telah mengakibatkan kerugian keuangan bagi PT. Putra Dewata Sejati sebesar Rp413.883.979,- (empat ratus tiga belas juta delapan ratus delapan puluh tiga ribu sembilan ratus tujuh puluh sembilan rupiah). Perbuatan tersebut dilakukan secara bersama-sama dan berlanjut, serta diatur dan diancam pidana dalam Pasal 372 KUHP jo. Pasal 55 Ayat (1) ke-1 KUHP jo. Pasal 64 Ayat (1) KUHP.",
         "18.0"
        ],
        [
         "12",
         "3",
         "5",
         "1",
         "8",
         "48",
         "I KETUT SUPUTRA",
         "Bahwa para Terdakwa, yakni Terdakwa I Ketut Suputra dan Terdakwa II Ni Komang Warsiki, dalam kurun waktu antara bulan Mei 2019 sampai dengan Oktober 2020, bertempat di gudang milik para Terdakwa yang beralamat di Jalan Soekarno, Banjar Dukuh, Desa Bunutin, Kecamatan Bangli, Kabupaten Bangli, telah melakukan perbuatan melawan hukum dengan cara menguasai secara melawan hak barang titipan milik PT. Putra Dewata Sejati. Awalnya, Terdakwa I menjalin kerja sama usaha penjualan produk minuman bermerek Aqua dengan PT. Putra Dewata Sejati di bawah nama usaha UD. Sari Merta berdasarkan Surat Kesepakatan Nomor 002/SP/PDS-BALI/IV/2019 tanggal 6 April 2019. Dalam pelaksanaan kerja sama tersebut, PT. Putra Dewata Sejati menyerahkan sejumlah barang titipan kepada UD. Sari Merta untuk dijual kembali, dengan ketentuan bahwa harga pokok barang harus disetorkan kembali kepada PT. Putra Dewata Sejati setelah barang terjual, sedangkan selisih harga jual menjadi keuntungan bagi UD. Sari Merta. Dalam pelaksanaan usahanya, Terdakwa I selaku penanggung jawab operasional dan Terdakwa II sebagai bagian administrasi bertugas mengelola penjualan, keuangan, dan pembayaran kepada pihak supplier. Akan tetapi, sejak bulan Mei 2019, para Terdakwa mulai tidak menyetorkan secara penuh hasil penjualan barang, dan sejak bulan Oktober 2020 tidak lagi melakukan penyetoran sama sekali, padahal seluruh barang titipan telah terjual. Uang hasil penjualan tersebut justru digunakan oleh para Terdakwa untuk membayar gaji karyawan, menutupi biaya operasional, serta memenuhi kebutuhan hidup pribadi, tanpa seizin atau sepengetahuan PT. Putra Dewata Sejati. Perbuatan para Terdakwa tersebut telah mengakibatkan kerugian keuangan bagi PT. Putra Dewata Sejati sebesar Rp413.883.979,- (empat ratus tiga belas juta delapan ratus delapan puluh tiga ribu sembilan ratus tujuh puluh sembilan rupiah). Perbuatan tersebut dilakukan secara bersama-sama dan berlanjut, serta diatur dan diancam pidana dalam Pasal 372 KUHP jo. Pasal 55 Ayat (1) ke-1 KUHP jo. Pasal 64 Ayat (1) KUHP.",
         "18.0"
        ],
        [
         "13",
         "3",
         "7",
         "1",
         "8",
         "48",
         "NI KOMANG WARSIKI",
         "Bahwa para Terdakwa, yakni Terdakwa I Ketut Suputra dan Terdakwa II Ni Komang Warsiki, dalam kurun waktu antara bulan Mei 2019 sampai dengan Oktober 2020, bertempat di gudang milik para Terdakwa yang beralamat di Jalan Soekarno, Banjar Dukuh, Desa Bunutin, Kecamatan Bangli, Kabupaten Bangli, telah melakukan perbuatan melawan hukum dengan cara menguasai secara melawan hak barang titipan milik PT. Putra Dewata Sejati. Awalnya, Terdakwa I menjalin kerja sama usaha penjualan produk minuman bermerek Aqua dengan PT. Putra Dewata Sejati di bawah nama usaha UD. Sari Merta berdasarkan Surat Kesepakatan Nomor 002/SP/PDS-BALI/IV/2019 tanggal 6 April 2019. Dalam pelaksanaan kerja sama tersebut, PT. Putra Dewata Sejati menyerahkan sejumlah barang titipan kepada UD. Sari Merta untuk dijual kembali, dengan ketentuan bahwa harga pokok barang harus disetorkan kembali kepada PT. Putra Dewata Sejati setelah barang terjual, sedangkan selisih harga jual menjadi keuntungan bagi UD. Sari Merta. Dalam pelaksanaan usahanya, Terdakwa I selaku penanggung jawab operasional dan Terdakwa II sebagai bagian administrasi bertugas mengelola penjualan, keuangan, dan pembayaran kepada pihak supplier. Akan tetapi, sejak bulan Mei 2019, para Terdakwa mulai tidak menyetorkan secara penuh hasil penjualan barang, dan sejak bulan Oktober 2020 tidak lagi melakukan penyetoran sama sekali, padahal seluruh barang titipan telah terjual. Uang hasil penjualan tersebut justru digunakan oleh para Terdakwa untuk membayar gaji karyawan, menutupi biaya operasional, serta memenuhi kebutuhan hidup pribadi, tanpa seizin atau sepengetahuan PT. Putra Dewata Sejati. Perbuatan para Terdakwa tersebut telah mengakibatkan kerugian keuangan bagi PT. Putra Dewata Sejati sebesar Rp413.883.979,- (empat ratus tiga belas juta delapan ratus delapan puluh tiga ribu sembilan ratus tujuh puluh sembilan rupiah). Perbuatan tersebut dilakukan secara bersama-sama dan berlanjut, serta diatur dan diancam pidana dalam Pasal 372 KUHP jo. Pasal 55 Ayat (1) ke-1 KUHP jo. Pasal 64 Ayat (1) KUHP.",
         "10.0"
        ],
        [
         "14",
         "3",
         "5",
         "1",
         "8",
         "48",
         "NI KOMANG WARSIKI",
         "Bahwa para Terdakwa, yakni Terdakwa I Ketut Suputra dan Terdakwa II Ni Komang Warsiki, dalam kurun waktu antara bulan Mei 2019 sampai dengan Oktober 2020, bertempat di gudang milik para Terdakwa yang beralamat di Jalan Soekarno, Banjar Dukuh, Desa Bunutin, Kecamatan Bangli, Kabupaten Bangli, telah melakukan perbuatan melawan hukum dengan cara menguasai secara melawan hak barang titipan milik PT. Putra Dewata Sejati. Awalnya, Terdakwa I menjalin kerja sama usaha penjualan produk minuman bermerek Aqua dengan PT. Putra Dewata Sejati di bawah nama usaha UD. Sari Merta berdasarkan Surat Kesepakatan Nomor 002/SP/PDS-BALI/IV/2019 tanggal 6 April 2019. Dalam pelaksanaan kerja sama tersebut, PT. Putra Dewata Sejati menyerahkan sejumlah barang titipan kepada UD. Sari Merta untuk dijual kembali, dengan ketentuan bahwa harga pokok barang harus disetorkan kembali kepada PT. Putra Dewata Sejati setelah barang terjual, sedangkan selisih harga jual menjadi keuntungan bagi UD. Sari Merta. Dalam pelaksanaan usahanya, Terdakwa I selaku penanggung jawab operasional dan Terdakwa II sebagai bagian administrasi bertugas mengelola penjualan, keuangan, dan pembayaran kepada pihak supplier. Akan tetapi, sejak bulan Mei 2019, para Terdakwa mulai tidak menyetorkan secara penuh hasil penjualan barang, dan sejak bulan Oktober 2020 tidak lagi melakukan penyetoran sama sekali, padahal seluruh barang titipan telah terjual. Uang hasil penjualan tersebut justru digunakan oleh para Terdakwa untuk membayar gaji karyawan, menutupi biaya operasional, serta memenuhi kebutuhan hidup pribadi, tanpa seizin atau sepengetahuan PT. Putra Dewata Sejati. Perbuatan para Terdakwa tersebut telah mengakibatkan kerugian keuangan bagi PT. Putra Dewata Sejati sebesar Rp413.883.979,- (empat ratus tiga belas juta delapan ratus delapan puluh tiga ribu sembilan ratus tujuh puluh sembilan rupiah). Perbuatan tersebut dilakukan secara bersama-sama dan berlanjut, serta diatur dan diancam pidana dalam Pasal 372 KUHP jo. Pasal 55 Ayat (1) ke-1 KUHP jo. Pasal 64 Ayat (1) KUHP.",
         "10.0"
        ],
        [
         "15",
         "0",
         "8",
         "0",
         "6",
         "144",
         "I KETUT JONI ADNYANA ADI PUTRA",
         "Terdakwa I Ketut Joni Adnyana Adi Putra dan Terdakwa II Rosita Evayanti Dewi melakukan pencurian sepeda motor di dua lokasi berbeda di wilayah Kintamani, Bangli. Aksi pertama dilakukan pada 10 September 2023 sekitar pukul 01.00 WITA di parkiran Sukawana Sunrise, di mana Terdakwa I mengambil sepeda motor Yamaha NMAX DK 3498 PT milik saksi Made Yusa Paramartha dengan cara mendorong motor yang tidak terkunci dan menyalakan mesin menggunakan alat-alat seperti obeng, tang, dan kunci L. Motor hasil curian ini digunakan untuk keperluan sehari-hari. Aksi kedua dilakukan pada 1 Oktober 2023 sekitar pukul 02.00 WITA di parkiran Le Monte Sunrise. Dengan menggunakan mobil sewaan, kedua terdakwa kembali ke Kintamani dan Terdakwa I mencuri motor Yamaha NMAX DK 6992 LB milik I Kadek Indrawan dengan modus serupa. Sepeda motor tersebut kemudian dijual secara daring seharga Rp5.300.000. Akibat perbuatan kedua terdakwa, saksi Made Yusa Paramartha mengalami kerugian sebesar Rp25.500.000,- dan saksi I Kadek Indrawan mengalami kerugian sebesar Rp26.700.000,-. Perbuatan para terdakwa diancam pidana berdasarkan Pasal 363 Ayat (1) ke-4 KUHP jo. Pasal 65 Ayat (1) KUHP.",
         "16.0"
        ],
        [
         "16",
         "0",
         "9",
         "0",
         "6",
         "144",
         "I KETUT JONI ADNYANA ADI PUTRA",
         "Terdakwa I Ketut Joni Adnyana Adi Putra dan Terdakwa II Rosita Evayanti Dewi melakukan pencurian sepeda motor di dua lokasi berbeda di wilayah Kintamani, Bangli. Aksi pertama dilakukan pada 10 September 2023 sekitar pukul 01.00 WITA di parkiran Sukawana Sunrise, di mana Terdakwa I mengambil sepeda motor Yamaha NMAX DK 3498 PT milik saksi Made Yusa Paramartha dengan cara mendorong motor yang tidak terkunci dan menyalakan mesin menggunakan alat-alat seperti obeng, tang, dan kunci L. Motor hasil curian ini digunakan untuk keperluan sehari-hari. Aksi kedua dilakukan pada 1 Oktober 2023 sekitar pukul 02.00 WITA di parkiran Le Monte Sunrise. Dengan menggunakan mobil sewaan, kedua terdakwa kembali ke Kintamani dan Terdakwa I mencuri motor Yamaha NMAX DK 6992 LB milik I Kadek Indrawan dengan modus serupa. Sepeda motor tersebut kemudian dijual secara daring seharga Rp5.300.000. Akibat perbuatan kedua terdakwa, saksi Made Yusa Paramartha mengalami kerugian sebesar Rp25.500.000,- dan saksi I Kadek Indrawan mengalami kerugian sebesar Rp26.700.000,-. Perbuatan para terdakwa diancam pidana berdasarkan Pasal 363 Ayat (1) ke-4 KUHP jo. Pasal 65 Ayat (1) KUHP.",
         "16.0"
        ],
        [
         "17",
         "0",
         "8",
         "0",
         "6",
         "144",
         "ROSITA EVAYANTI DEWI",
         "Terdakwa I Ketut Joni Adnyana Adi Putra dan Terdakwa II Rosita Evayanti Dewi melakukan pencurian sepeda motor di dua lokasi berbeda di wilayah Kintamani, Bangli. Aksi pertama dilakukan pada 10 September 2023 sekitar pukul 01.00 WITA di parkiran Sukawana Sunrise, di mana Terdakwa I mengambil sepeda motor Yamaha NMAX DK 3498 PT milik saksi Made Yusa Paramartha dengan cara mendorong motor yang tidak terkunci dan menyalakan mesin menggunakan alat-alat seperti obeng, tang, dan kunci L. Motor hasil curian ini digunakan untuk keperluan sehari-hari. Aksi kedua dilakukan pada 1 Oktober 2023 sekitar pukul 02.00 WITA di parkiran Le Monte Sunrise. Dengan menggunakan mobil sewaan, kedua terdakwa kembali ke Kintamani dan Terdakwa I mencuri motor Yamaha NMAX DK 6992 LB milik I Kadek Indrawan dengan modus serupa. Sepeda motor tersebut kemudian dijual secara daring seharga Rp5.300.000. Akibat perbuatan kedua terdakwa, saksi Made Yusa Paramartha mengalami kerugian sebesar Rp25.500.000,- dan saksi I Kadek Indrawan mengalami kerugian sebesar Rp26.700.000,-. Perbuatan para terdakwa diancam pidana berdasarkan Pasal 363 Ayat (1) ke-4 KUHP jo. Pasal 65 Ayat (1) KUHP.",
         "14.0"
        ],
        [
         "18",
         "0",
         "9",
         "0",
         "6",
         "144",
         "ROSITA EVAYANTI DEWI",
         "Terdakwa I Ketut Joni Adnyana Adi Putra dan Terdakwa II Rosita Evayanti Dewi melakukan pencurian sepeda motor di dua lokasi berbeda di wilayah Kintamani, Bangli. Aksi pertama dilakukan pada 10 September 2023 sekitar pukul 01.00 WITA di parkiran Sukawana Sunrise, di mana Terdakwa I mengambil sepeda motor Yamaha NMAX DK 3498 PT milik saksi Made Yusa Paramartha dengan cara mendorong motor yang tidak terkunci dan menyalakan mesin menggunakan alat-alat seperti obeng, tang, dan kunci L. Motor hasil curian ini digunakan untuk keperluan sehari-hari. Aksi kedua dilakukan pada 1 Oktober 2023 sekitar pukul 02.00 WITA di parkiran Le Monte Sunrise. Dengan menggunakan mobil sewaan, kedua terdakwa kembali ke Kintamani dan Terdakwa I mencuri motor Yamaha NMAX DK 6992 LB milik I Kadek Indrawan dengan modus serupa. Sepeda motor tersebut kemudian dijual secara daring seharga Rp5.300.000. Akibat perbuatan kedua terdakwa, saksi Made Yusa Paramartha mengalami kerugian sebesar Rp25.500.000,- dan saksi I Kadek Indrawan mengalami kerugian sebesar Rp26.700.000,-. Perbuatan para terdakwa diancam pidana berdasarkan Pasal 363 Ayat (1) ke-4 KUHP jo. Pasal 65 Ayat (1) KUHP.",
         "14.0"
        ],
        [
         "19",
         "0",
         "1",
         "0",
         "4",
         "60",
         "I NYOMAN BUDIAWAN Als. SUMAWAN",
         "Pada hari Rabu, 25 Oktober 2023 sekitar pukul 13.00 WITA, terdakwa I Nyoman Budiawan alias Sumawan melakukan pencurian kartu ATM BRI milik saksi Luh Putu Widiantari di Toko UD. Langsung Jaya, Jalan Raya Kintamani, Desa Kintamani, Kecamatan Kintamani, Kabupaten Bangli. Awalnya, terdakwa datang ke toko tersebut untuk mentransfer uang, namun saat mengetahui mesin BRI Link rusak dan pegawai toko pergi, terdakwa memanfaatkan situasi sepi untuk mengambil kartu ATM yang berada di atas meja kasir. Terdakwa kemudian pulang ke rumahnya dan menggunakan kartu ATM tersebut di mesin ATM BRI Toya Devasya, dengan memasukkan PIN 020202 yang telah ia ketahui sebelumnya karena sering melihat pegawai toko menggunakannya. Terdakwa melakukan penarikan tunai sebanyak empat kali dengan total Rp10.000.000. Setelah menerima laporan dari korban, pihak kepolisian melakukan olah TKP dan berhasil mengamankan terdakwa di rumahnya pada 28 Oktober 2023. Akibat perbuatannya, korban mengalami kerugian sebesar Rp10.000.000. Perbuatan terdakwa diancam pidana berdasarkan Pasal 362 KUHP.",
         "14.0"
        ],
        [
         "20",
         "0",
         "0",
         "0",
         "4",
         "60",
         "I NYOMAN BUDIAWAN Als. SUMAWAN",
         "Pada hari Rabu, 25 Oktober 2023 sekitar pukul 13.00 WITA, terdakwa I Nyoman Budiawan alias Sumawan melakukan pencurian kartu ATM BRI milik saksi Luh Putu Widiantari di Toko UD. Langsung Jaya, Jalan Raya Kintamani, Desa Kintamani, Kecamatan Kintamani, Kabupaten Bangli. Awalnya, terdakwa datang ke toko tersebut untuk mentransfer uang, namun saat mengetahui mesin BRI Link rusak dan pegawai toko pergi, terdakwa memanfaatkan situasi sepi untuk mengambil kartu ATM yang berada di atas meja kasir. Terdakwa kemudian pulang ke rumahnya dan menggunakan kartu ATM tersebut di mesin ATM BRI Toya Devasya, dengan memasukkan PIN 020202 yang telah ia ketahui sebelumnya karena sering melihat pegawai toko menggunakannya. Terdakwa melakukan penarikan tunai sebanyak empat kali dengan total Rp10.000.000. Setelah menerima laporan dari korban, pihak kepolisian melakukan olah TKP dan berhasil mengamankan terdakwa di rumahnya pada 28 Oktober 2023. Akibat perbuatannya, korban mengalami kerugian sebesar Rp10.000.000. Perbuatan terdakwa diancam pidana berdasarkan Pasal 362 KUHP.",
         "14.0"
        ],
        [
         "21",
         "1",
         "10",
         "0",
         "7",
         "48",
         "DESAK MADE CITRAWATI",
         "Pada bulan April 2023, terdakwa Desak Made Citrawati didakwa melakukan tindak pidana penipuan secara berlanjut terhadap dua korban, yaitu I Putu Sutarga dan Pande Ketut Suarca, dengan total kerugian mencapai lebih dari Rp 391 juta. Modus operandi terdakwa adalah membeli telur dan beras dalam jumlah besar dari kedua korban dengan dalih pembayaran menggunakan cek mundur, disertai pernyataan palsu bahwa ia memiliki aset tanah di Singaraja yang sedang dalam proses penjualan. Terdakwa memesan telur sebanyak 4.435 krei dari I Putu Sutarga senilai total Rp 228.600.000, dan beras sebanyak 14.500 kg dari Pande Ketut Suarca dengan total nilai Rp 162.400.000. Setiap transaksi dilakukan secara bertahap pada tanggal 21, 23, 25, dan 28 April 2023. Terdakwa meyakinkan para korban dengan janji pelunasan dan surat pengakuan utang, namun setelah cek jatuh tempo, tidak ada dana yang tersedia. Pemeriksaan terhadap klaim kepemilikan tanah menunjukkan bahwa terdakwa hanya memberikan uang muka atas tanah tersebut dan belum ada kepastian transaksi. Perbuatan Terdakwa didakwa dengan dakwaan primair Pasal 378 jo. Pasal 64 Ayat (1) ke-1 KUHP, dan dakwaan subsidair 379a KUHP Jo. Pasal 64 Ayat (1) ke-1 KUHP.",
         "30.0"
        ],
        [
         "22",
         "0",
         "11",
         "4",
         "3",
         "108",
         "I KETUT DENA",
         "Pada hari Jumat, 5 Februari 2021 sekitar pukul 19.00 WITA, terdakwa I Ketut Dena bersama Dewa Made Sujana (dalam berkas terpisah) melakukan pencurian satu unit sepeda motor Honda Scoopy warna hitam kombinasi merah dengan nomor polisi DK 5807 PS yang terparkir di depan rumah saksi I Nengah Sumerta di Desa Yangapi, Kecamatan Tembuku, Kabupaten Bangli. Sebelumnya, kedua terdakwa sempat pergi ke beberapa lokasi sabung ayam. Saat melintasi lokasi kejadian, Dewa Made Sujana melihat motor dalam keadaan tidak terkunci dan memerintahkan Ketut Dena untuk berjaga sementara dirinya mengambil sepeda motor tersebut. Setelah berhasil menghidupkan dan membawa motor itu, mereka menyembunyikannya di bawah jembatan di Gianyar. Keesokan harinya, motor tersebut diambil kembali dan diganti plat nomornya menggunakan plat dari motor lain, kemudian dibawa ke rumah Dewa Made Sujana. Sore harinya, Dewa Made Sujana ditangkap karena kasus pencurian handphone dan meminta Ketut Dena mengambil motor tersebut. Karena motor terkunci dan kuncinya masih disimpan Dewa Made Sujana, Ketut Dena memanggil tukang kunci untuk membuat duplikat. Motor curian itu lalu digadaikan oleh Ketut Dena kepada saksi Luh Sriani seharga Rp2.000.000 tanpa dokumen STNK atau BPKB. Korban, I Wayan Miyasa, melaporkan kehilangan tersebut ke Polsek Tembuku. Sekitar seminggu kemudian, Ketut Dena ditangkap atas kasus penadahan, mengakui perbuatannya, dan membantu polisi mencari motor dan kunci aslinya yang ditemukan di tas milik Dewa Made Sujana. Akibat perbuatan tersebut, korban mengalami kerugian sekitar Rp15.000.000. Tindak pidana ini diancam dengan 2 dakwaan yaitu dakwaan primair dengan Pasal 363 ayat (1) ke-4 KUHP serta dakwaan subsidair dengan Pasal 326 KUHP.",
         "12.0"
        ],
        [
         "23",
         "0",
         "11",
         "4",
         "6",
         "84",
         "DEWA MADE SUJANA",
         "Pada hari Jumat, 5 Februari 2021 sekitar pukul 09.30 WITA, Terdakwa Dewa Made Sujana bersama I Ketut Dena (berkas terpisah) pergi ke Nongan, Karangasem untuk menonton sabung ayam dengan mengendarai sepeda motor Honda Scoopy warna coklat hitam. Sekitar pukul 14.30 WITA, mereka mendengar ada sabung ayam di Pulasari, Tembuku, namun karena acara tersebut tidak ada, mereka kembali melewati Banjar Sideparna, Desa Yangapi, Bangli. Di lokasi tersebut, Terdakwa melihat sepeda motor Honda Scoopy warna hitam kombinasi merah yang terparkir dengan kunci masih menggantung, lalu meminta I Ketut Dena berhenti untuk mengawasi sekitar. Setelah merasa aman, Terdakwa menyalakan dan membawa kabur sepeda motor tersebut, sedangkan I Ketut Dena mengikuti dengan motor yang mereka gunakan sebelumnya. Motor hasil curian tersebut disembunyikan di bawah jembatan dekat Pantai Lebih, Gianyar. Keesokan harinya, mereka kembali mengambil motor tersebut dan mengganti plat nomornya dengan yang diambil dari motor lain, kemudian motor dibawa ke rumah Terdakwa di Ubud dan diparkir di garasi. Pada sore harinya, Terdakwa ditangkap oleh Polsek Sukawati atas kasus pencurian handphone. Saat penggeledahan, ditemukan kunci asli motor curian di tas milik Terdakwa yang diserahkan oleh istrinya. Akibat perbuatan tersebut, saksi korban I Wayan Miyasa mengalami kerugian sebesar Rp15.000.000. Perbuatan Terdakwa didakwa dengan dakwaan primair Pasal 363 Ayat (1) ke-4 KUHP, dan dakwaan subsidair Pasal 362 KUHP.",
         "15.0"
        ],
        [
         "24",
         "2",
         "12",
         "4",
         "2",
         "144",
         "I KOMANG RENDI YANA alis RENDI",
         "Pada Selasa, 6 Juni 2023 sekitar pukul 20.10 WITA di Jalan Tirta Geduh, Kelurahan Bebalang, Bangli, terdakwa I Komang Rendi Yana alias Rendi ditangkap karena tanpa hak memiliki dan menyimpan narkotika jenis sabu. Awalnya, terdakwa memesan sabu seharga Rp200.000 kepada seseorang bernama Gus Ucil (DPO), lalu mengambil paket tersebut di bawah pohon mahoni di Jalan Putra Yuda, Bangli, sesuai petunjuk. Setelah dikonsumsi sebagian di rumahnya di Banua, Kintamani, sisa sabu disimpan dalam gantungan handphone yang dibungkus stiker dan diselipkan di jaket. Saat hendak ke alun-alun Bangli, terdakwa diberhentikan oleh polisi dan ditemukan sabu seberat 0,10 gram netto dalam jaketnya. Barang bukti lainnya termasuk bong bekas pakai, handphone, dan sepeda motor juga diamankan. Hasil uji laboratorium menunjukkan sabu mengandung metamfetamina yang tergolong Narkotika Golongan I. Perbuatan Terdakwa didakwa dengan dakwaan primair Pasal 112 Ayat (1) UU RI No. 35 Tahun 2009 tentang Narkotika, dan dakwaan subsidair Pasal 127 Ayat (1) huruf a UU RI No. 35 Tahun 2009 tentang Narkotika.",
         "15.0"
        ],
        [
         "25",
         "2",
         "5",
         "4",
         "2",
         "144",
         "I KOMANG RENDI YANA alis RENDI",
         "Pada Selasa, 6 Juni 2023 sekitar pukul 20.10 WITA di Jalan Tirta Geduh, Kelurahan Bebalang, Bangli, terdakwa I Komang Rendi Yana alias Rendi ditangkap karena tanpa hak memiliki dan menyimpan narkotika jenis sabu. Awalnya, terdakwa memesan sabu seharga Rp200.000 kepada seseorang bernama Gus Ucil (DPO), lalu mengambil paket tersebut di bawah pohon mahoni di Jalan Putra Yuda, Bangli, sesuai petunjuk. Setelah dikonsumsi sebagian di rumahnya di Banua, Kintamani, sisa sabu disimpan dalam gantungan handphone yang dibungkus stiker dan diselipkan di jaket. Saat hendak ke alun-alun Bangli, terdakwa diberhentikan oleh polisi dan ditemukan sabu seberat 0,10 gram netto dalam jaketnya. Barang bukti lainnya termasuk bong bekas pakai, handphone, dan sepeda motor juga diamankan. Hasil uji laboratorium menunjukkan sabu mengandung metamfetamina yang tergolong Narkotika Golongan I. Perbuatan Terdakwa didakwa dengan dakwaan primair Pasal 112 Ayat (1) UU RI No. 35 Tahun 2009 tentang Narkotika, dan dakwaan subsidair Pasal 127 Ayat (1) huruf a UU RI No. 35 Tahun 2009 tentang Narkotika.",
         "15.0"
        ],
        [
         "26",
         "2",
         "13",
         "0",
         "3",
         "144",
         "I GUSTI LANANG MADE WIJAYA alias LANANG",
         "Pada Senin, 24 April 2023 sekitar pukul 22.30 WITA di pinggir Jalan Muhamad Hatta, Bebalang, Bangli, terdakwa I Gusti Lanang Made Wijaya alias Lanang tertangkap karena tanpa hak memiliki narkotika jenis sabu. Sebelumnya, terdakwa memesan sabu seharga Rp700.000 dari seseorang bernama Jung Tu (DPO) melalui WhatsApp dan mengambil barang tersebut di bawah pot bunga di Desa Semana, Badung. Setelah mengonsumsinya sebagian di rumahnya di Ubud, terdakwa menyimpan sisa sabu ke dalam bungkus rokok yang dimasukkan ke saku celana. Malam harinya, saat hendak menemui seorang wanita bernama Riena (DPO) di Bangli, terdakwa dihentikan oleh polisi dan dilakukan penggeledahan. Polisi menemukan sabu seberat 0,10 gram netto, satu handphone, dan sepeda motor yang digunakan terdakwa. Berdasarkan hasil pemeriksaan laboratorium, kristal bening tersebut positif mengandung metamfetamina yang tergolong Narkotika Golongan I. Perbuatan Terdakwa didakwa dengan dakwaan primair Pasal 112 Ayat (1) UU RI No. 35 Tahun 2009 Tentang Narkotika, dan dakwaan subsidair Pasal 127 Ayat (1) huruf a UU RI No. 35 Tahun 2009 Tentang Narkotika.",
         "16.0"
        ],
        [
         "27",
         "2",
         "10",
         "2",
         "5",
         "144",
         "SELAMET HARIANTO alias SELAMET",
         "Terdakwa Selamet Harianto alias Selamet bersama Sodakoh Maliki alias Dakoh (dalam berkas terpisah) pada 15 Mei 2023 sekitar pukul 20.45 WITA, bertempat di Jalan Muhammad Hatta, Kelurahan Bebalang, Kecamatan Bangli, kedapatan memiliki narkotika jenis sabu seberat 0,15 gram netto tanpa izin dari pihak berwenang. Perbuatan ini berawal ketika Selamet menghubungi seseorang bernama Rizal (DPO) untuk mencari pekerjaan dan ditawari menjadi \"peluncur\" (PL), yaitu mengambil paket sabu di Bangli. Selamet kemudian mengajak Sodakoh Maliki untuk menemaninya dengan janji akan memakai sabu bersama. Mereka berangkat dari Denpasar ke Bangli dengan motor dan mengambil paket sabu yang disimpan di belakang tiang listrik sesuai petunjuk dari Rizal. Saat dalam perjalanan kembali ke Denpasar, mereka ditangkap oleh polisi di Jalan Muhammad Hatta dan ditemukan barang bukti sabu serta alat-alat konsumsi narkotika. Dalam penggeledahan, ditemukan pula sabu lain seberat 0,02 gram netto milik Sodakoh Maliki yang disimpan dalam tas pinggang, serta berbagai perlengkapan penggunaan sabu. Berdasarkan hasil uji laboratorium, kristal yang ditemukan terbukti mengandung metamfetamina, sedangkan hasil tes urine Selamet negatif narkotika. Selamet sebelumnya juga pernah dihukum dalam kasus serupa berdasarkan putusan PN Denpasar tahun 2019 dan baru bebas pada 7 Maret 2023. Terdakwa didakwa dengan Pasal 112 Ayat (1) UU RI No. 35 Tahun 2009 tentang Narkotika jo. Pasal 55 Ayat (1) ke-1 KUHP.",
         "75.0"
        ],
        [
         "28",
         "2",
         "13",
         "4",
         "5",
         "240",
         "RAIHAN RAHADI AZHAR alias RAIHAN",
         "Terdakwa Raihan Rahadi Azhar alias Raihan, bersama-sama dengan Gungggus Togar Manatar Pangaribuan alias Togar (yang berkas perkaranya terpisah), pada 14 Maret 2023 di Rutan Kelas IIB Bangli, diduga melakukan tindak pidana narkotika dengan tanpa hak atau melawan hukum menjadi perantara dalam jual beli narkotika golongan I berupa tembakau sintetis. Togar meminjam nama Raihan untuk menerima paket berisi tembakau sintetis yang dikirim melalui jasa ekspedisi JT. Raihan menyetujui permintaan tersebut dan menerima paket atas namanya pada 16 Maret 2023. Setelah menerima paket di ruang portir rutan, Raihan langsung diamankan petugas. Pemeriksaan terhadap paket menunjukkan adanya dua bungkus tembakau sintetis dengan total berat bersih 52 gram netto, yang masing-masing dikemas dalam plastik bermerek Violin dan Rhino. Berdasarkan hasil uji laboratorium, daun-daun kering tersebut positif mengandung MDMB-4en PINACA, zat yang termasuk dalam Narkotika Golongan I. Raihan tidak memiliki izin dari Kementerian Kesehatan atau instansi berwenang lainnya untuk memperjualbelikan atau menjadi perantara narkotika tersebut. Perbuatan Terdakwa didakwa dengan dakwaan pertama Pasal 114 Ayat (1) UU RI No. 35 Tahun 2009 tentang Narkotika jo. Pasal 55 Ayat (1) ke-1 KUHP, dakwaan kedua Pasal 112 Ayat (1) UU RI No. 35 Tahun 2009 Tentang Narkotika jo. Pasal 55 Ayat (1) ke-1 KUHP, dan dakwaan ketiga Pasal 111 Ayat (1) UU RI No. 35 Tahun 2009 Tentang Narkotika jo. Pasal 55 Ayat (1) ke-1 KUHP.",
         "90.0"
        ],
        [
         "29",
         "2",
         "13",
         "4",
         "5",
         "240",
         "GUNGGUS TOGAR MANATAR PANGARIBUAN alias TOGAR",
         "Terdakwa Gunggus Togar Manatar Pangaribuan alias Togar, baik sendiri maupun bersama-sama dengan Raihan Rahadi Azhar alias Raihan (terdakwa dalam berkas terpisah), pada 14 Maret 2023 sekitar pukul 12.00 WITA di kamar tahanan Blok B Rutan Kelas IIB Bangli, memesan narkotika golongan I berupa tembakau sintetis dari seorang bernama Zetas Networking (DPO). Terdakwa meminjam nama Raihan untuk menerima paket narkotika tersebut melalui jasa pengiriman JT. Setelah mentransfer uang sebesar Rp1.400.000 melalui OVO, Terdakwa meminta agar paket dikirim atas nama Raihan. Pada 16 Maret 2023, Raihan diamankan oleh petugas rutan saat menerima paket berisi dua bungkus tembakau sintetis, masing-masing dibungkus plastik bermerek Violin dan Rhino. Setelah diinterogasi, Raihan mengaku bahwa paket tersebut milik Terdakwa. Pemeriksaan barang bukti menunjukkan bahwa tembakau tersebut mengandung senyawa MDMB-4en PINACA yang tergolong dalam Narkotika Golongan I. Terdakwa tidak memiliki izin dari Menteri Kesehatan atau lembaga berwenang lainnya untuk memperjualbelikan atau menerima narkotika tersebut. Perbuatan Terdakwa didakwa dengan dakwaan pertama Pasal 114 Ayat (1) UU RI No. 35 Tahun 2009 tentang Narkotika jo. Pasal 55 Ayat (1) ke-1 KUHP, dakwaan kedua Pasal 112 Ayat (1) UU RI No. 35 Tahun 2009 Tentang Narkotika jo. Pasal 55 Ayat (1) ke-1 KUHP, dan dakwaan ketiga Pasal 111 Ayat (1) UU RI No. 35 Tahun 2009 Tentang Narkotika jo. Pasal 55 Ayat (1) ke-1 KUHP.",
         "102.0"
        ],
        [
         "30",
         "4",
         "14",
         "0",
         "4",
         "120",
         "I NYOMAN RAWAS",
         "Pada hari Senin, 27 Maret 2023 sekitar pukul 21.30 WITA, terdakwa I Nyoman Rawas bersama I Ketut Sudima menyelenggarakan permainan judi cap jeki di lapangan terbuka di Banjar Kedisan, Desa Kedisan, Kecamatan Kintamani, Kabupaten Bangli. Kegiatan ini telah diberitahukan sebelumnya kepada para penjudi, dan terdakwa menyiapkan berbagai peralatan seperti perlak angka, handuk, kotak kaleng, kartu ceki, dan uang modal sebesar Rp 2.000.000. Dalam permainan tersebut, I Nyoman Rawas bertindak sebagai bandar yang mengendalikan jalannya permainan dan menentukan hasil, sementara I Ketut Sudima berperan sebagai kasir yang membayar kemenangan atau mengambil taruhan yang kalah. Permainan dilakukan dengan dua sistem, yaitu sistem “melok” (seri) dan “nyolot” (menang-kalah), yang masing-masing memiliki ketentuan kemenangan dan pembayarannya sendiri. Pada malam itu, para terdakwa melangsungkan enam putaran permainan dan memperoleh keuntungan sebesar Rp 370.000 sebelum akhirnya ditangkap oleh pihak kepolisian. Dari hasil penyelidikan, diketahui bahwa para terdakwa telah berulang kali menyelenggarakan permainan serupa di berbagai lokasi dan menjadikannya sebagai sumber penghasilan untuk kebutuhan sehari-hari. Seluruh kegiatan perjudian tersebut dilakukan tanpa izin resmi dan merupakan bentuk perjudian yang bersifat untung-untungan. Perbuatan Terdakwa didakwa dengan dakwaan primair Pasal 303 Ayat (1) ke-1 KUHP jo. Pasal 2 Undang-Undang No. 7 Tahun 1974 tentang Penertiban Perjudian, dan dakwaan subsidair Pasal 303 Ayat (1) ke-2 KUHP jo. Pasal 2 Undang-Undang No. 7 Tahun 1974 Tentang Penertiban Perjudian.",
         "7.0"
        ],
        [
         "31",
         "4",
         "14",
         "0",
         "4",
         "120",
         "I KETUT SUDIMA",
         "Pada hari Senin, 27 Maret 2023 sekitar pukul 21.30 WITA, terdakwa I Nyoman Rawas bersama I Ketut Sudima menyelenggarakan permainan judi cap jeki di lapangan terbuka di Banjar Kedisan, Desa Kedisan, Kecamatan Kintamani, Kabupaten Bangli. Kegiatan ini telah diberitahukan sebelumnya kepada para penjudi, dan terdakwa menyiapkan berbagai peralatan seperti perlak angka, handuk, kotak kaleng, kartu ceki, dan uang modal sebesar Rp 2.000.000. Dalam permainan tersebut, I Nyoman Rawas bertindak sebagai bandar yang mengendalikan jalannya permainan dan menentukan hasil, sementara I Ketut Sudima berperan sebagai kasir yang membayar kemenangan atau mengambil taruhan yang kalah. Permainan dilakukan dengan dua sistem, yaitu sistem “melok” (seri) dan “nyolot” (menang-kalah), yang masing-masing memiliki ketentuan kemenangan dan pembayarannya sendiri. Pada malam itu, para terdakwa melangsungkan enam putaran permainan dan memperoleh keuntungan sebesar Rp 370.000 sebelum akhirnya ditangkap oleh pihak kepolisian. Dari hasil penyelidikan, diketahui bahwa para terdakwa telah berulang kali menyelenggarakan permainan serupa di berbagai lokasi dan menjadikannya sebagai sumber penghasilan untuk kebutuhan sehari-hari. Seluruh kegiatan perjudian tersebut dilakukan tanpa izin resmi dan merupakan bentuk perjudian yang bersifat untung-untungan. Perbuatan Terdakwa didakwa dengan dakwaan primair Pasal 303 Ayat (1) ke-1 KUHP jo. Pasal 2 Undang-Undang No. 7 Tahun 1974 tentang Penertiban Perjudian, dan dakwaan subsidair Pasal 303 Ayat (1) ke-2 KUHP jo. Pasal 2 Undang-Undang No. 7 Tahun 1974 Tentang Penertiban Perjudian.",
         "6.0"
        ],
        [
         "32",
         "0",
         "13",
         "0",
         "3",
         "84",
         "NI LUH PUSPA DEWI",
         "Pada hari Minggu, 4 Juli 2021 sekitar pukul 11.00 WITA, Terdakwa Ni Luh Puspa Dewi dalam perjalanan menuju ladang orang tuanya di Desa Suter, Bangli, melewati sebuah rumah kosong di Banjar Munduk Waru, Desa Buahan, Kintamani, dan timbul niat untuk mencuri. Setelah memastikan keadaan sekitar aman, terdakwa masuk ke rumah tersebut dan menemukan kunci di lemari kaca dalam salah satu kamar. Ia kemudian membuka kamar lain dengan kunci tersebut dan menemukan dompet biru bermotif bunga berisi berbagai perhiasan emas, termasuk kalung, gelang, cincin, dan anting-anting dengan total berat puluhan gram. Semua barang tersebut diambil dan disimpan di sakunya, lalu terdakwa meninggalkan lokasi. Perhiasan hasil curian dijual di Pasar Kidul kepada seorang wanita tak dikenal seharga Rp80.000.000, yang kemudian digunakan untuk kebutuhan sehari-hari dan membeli sejumlah pakaian, sandal, serta cincin emas. Berdasarkan laporan polisi tertanggal 6 Februari 2023, terdakwa akhirnya mengakui seluruh perbuatannya. Akibat kejadian ini, korban I Nyoman Mawa mengalami kerugian sekitar Rp80.000.000. Perbuatan Terdakwa didakwa dengan dakwaan primair Pasal 363 Ayat (1) ke-5 KUHP, dan dakwaan subsidair Pasal 362 KUHP.",
         "6.0"
        ],
        [
         "33",
         "0",
         "15",
         "4",
         "5",
         "80",
         "I Wayan Nawa",
         "Terdakwa I Wayan Nawa didakwa melakukan pencurian pada dua kesempatan berbeda di wilayah Kintamani, Bangli. Pada 2 Oktober 2022, setelah menjual salak, terdakwa menuju ke kebun milik I Wayan Suardana di Banjar Pludu, Desa Bayung Gede, dan berpura-pura menawarkan pupuk ayam. Saat korban lengah, terdakwa mencuri handphone Redmi Note 10S beserta uang tunai sekitar Rp400.000 yang disimpan di kandang sapi. Kemudian, pada 9 November 2022, terdakwa kembali melakukan pencurian di pondokan milik I Wayan Panggih di Desa Binyan dengan modus serupa. Setelah memastikan korban pergi, terdakwa mencuri handphone Redmi Note 7 yang sedang dicas. Kedua handphone tersebut dijual ke konter berbeda dengan total hasil sekitar Rp1.800.000, yang kemudian digunakan untuk kebutuhan sehari-hari. Berdasarkan laporan korban, polisi melakukan penyelidikan dan berhasil menangkap terdakwa pada 9 Februari 2023 di Karangasem. Akibat perbuatannya, korban I Wayan Suardana mengalami kerugian sekitar Rp3.400.000 dan I Wayan Panggih sekitar Rp3.000.000. Terdakwa dijerat dengan Pasal 362 KUHP jo. Pasal 65 Ayat (1) KUHP tentang pencurian yang dilakukan berulang kali.",
         "6.0"
        ],
        [
         "34",
         "0",
         "13",
         "3",
         "5",
         "60",
         "JRO GEDE BUDI",
         "Pada Sabtu, 28 Januari 2023, di Pemandian Tirta Usadha Toya Bungkah, Desa Batur Tengah, Kintamani, Bangli, terdakwa Jro Gede Budi didakwa melakukan pencurian. Setelah selesai berendam, terdakwa melihat sebuah tas hitam bertuliskan \"Steve Madden\" milik korban Ni Jro Luh Putri di bawah loker, lalu mengambilnya dan membawanya pulang menggunakan sepeda motor. Di perjalanan, terdakwa membuka tas tersebut dan menemukan tas merah maroon bertuliskan \"Michael Kors\" berisi uang tunai sebesar Rp5.700.000 serta sebuah dompet berisi perhiasan emas berupa kalung dan cincin, dan dua nota pembelian dari Toko Emas Ratna. Terdakwa mengambil Rp1.000.000 untuk dirinya dan menyembunyikan sisa uang serta perhiasan di bawah pohon di dekat rumahnya, sedangkan tas-tas tersebut disimpan di jok motor. Berdasarkan laporan korban, polisi berhasil mengamankan terdakwa beserta barang-barang bukti, termasuk sepeda motor dan hoodie yang digunakan untuk membungkus barang curian. Atas perbuatannya, korban mengalami kerugian sekitar Rp19.700.000, dan terdakwa dijerat dengan Pasal 362 KUHP tentang pencurian.",
         "5.0"
        ],
        [
         "35",
         "0",
         "1",
         "4",
         "3",
         "84",
         "RIFQI ABDURAHMAN",
         "Pada Minggu, 11 Desember 2022 sekitar pukul 00.30 WITA, terdakwa I Rifqi Abdurahman dan terdakwa II Gunawan melakukan pencurian sepeda motor di pinggir Jalan Raya Kayuambua, Bangli. Sebelumnya, pada 10 Desember 2022, terdakwa II meminta terdakwa I mencarikan sepeda motor Kawasaki KLX untuk dibeli seharga Rp3.000.000. Keduanya lalu berangkat ke daerah Kintamani dengan sepeda motor modifikasi tanpa nomor polisi. Saat tiba di lokasi, mereka melihat motor Kawasaki KLX 150 C tanpa nomor polisi dan kunci kontak, lalu terdakwa I mendorong motor tersebut menjauh sementara terdakwa II mengawasi. Karena motor cetul milik terdakwa II rusak, terdakwa I mendorong motor sendirian dan sempat dicegat dua saksi yang curiga. Setelah berhasil menyalakan motor dan mengendarainya sejauh 100 meter, motor mogok karena kehabisan bensin. Terdakwa I lalu mendorong ke SPBU Sekardadi dan tertidur di sana. Sementara itu, saksi korban mengonfirmasi kehilangan motornya dan bersama saksi lainnya serta polisi, menemukan terdakwa I di SPBU. Polisi kemudian menangkap terdakwa II di Desa Dumilih saat tertidur di emper toko. Akibat perbuatan para terdakwa, korban I Wayan Eva Kusuma Putra mengalami kerugian sekitar Rp16.000.000. Perbuatan Terdakwa didakwa dengan dakwaan primair Pasal 363 Ayat (1) ke-4 KUHP, dan dakwaan subsidair Pasal 362 KUHP.",
         "8.0"
        ],
        [
         "36",
         "0",
         "1",
         "4",
         "3",
         "84",
         "GUNAWAN",
         "Pada Minggu, 11 Desember 2022 sekitar pukul 00.30 WITA, terdakwa I Rifqi Abdurahman dan terdakwa II Gunawan melakukan pencurian sepeda motor di pinggir Jalan Raya Kayuambua, Bangli. Sebelumnya, pada 10 Desember 2022, terdakwa II meminta terdakwa I mencarikan sepeda motor Kawasaki KLX untuk dibeli seharga Rp3.000.000. Keduanya lalu berangkat ke daerah Kintamani dengan sepeda motor modifikasi tanpa nomor polisi. Saat tiba di lokasi, mereka melihat motor Kawasaki KLX 150 C tanpa nomor polisi dan kunci kontak, lalu terdakwa I mendorong motor tersebut menjauh sementara terdakwa II mengawasi. Karena motor cetul milik terdakwa II rusak, terdakwa I mendorong motor sendirian dan sempat dicegat dua saksi yang curiga. Setelah berhasil menyalakan motor dan mengendarainya sejauh 100 meter, motor mogok karena kehabisan bensin. Terdakwa I lalu mendorong ke SPBU Sekardadi dan tertidur di sana. Sementara itu, saksi korban mengonfirmasi kehilangan motornya dan bersama saksi lainnya serta polisi, menemukan terdakwa I di SPBU. Polisi kemudian menangkap terdakwa II di Desa Dumilih saat tertidur di emper toko. Akibat perbuatan para terdakwa, korban I Wayan Eva Kusuma Putra mengalami kerugian sekitar Rp16.000.000. Perbuatan Terdakwa didakwa dengan dakwaan primair Pasal 363 Ayat (1) ke-4 KUHP, dan dakwaan subsidair Pasal 362 KUHP.",
         "8.0"
        ],
        [
         "37",
         "0",
         "1",
         "0",
         "6",
         "80",
         "Gede Kastawa",
         "Terdakwa Gede Kastawa didakwa melakukan serangkaian tindak pidana pencurian ayam di wilayah Kintamani, Bangli, pada bulan Oktober 2022. Pada 21 Oktober 2022, terdakwa mencuri 6 ekor ayam dari belakang rumah korban I Wayan Sukada di Desa Belantih, lalu menjualnya di Pasar Anyar Singaraja seharga Rp800.000. Hasil penjualan digunakan untuk membeli ayam aduan dan berjudi. Kemudian, pada 28 Oktober 2022, terdakwa mencuri 15 ekor ayam milik korban I Made Terus dari kebun jeruk di Desa Belanga, yang kembali dijual dan hasilnya dipakai untuk berjudi. Selanjutnya, pada 30 Oktober 2022, terdakwa beraksi di pondokan milik korban I Wayan Lusin di Desa Belanga, mencuri seekor ayam namun aksinya diketahui oleh saksi dan warga sehingga berhasil diamankan. Total kerugian para korban mencapai sekitar Rp3.500.000. Terdakwa mengaku melakukan pencurian karena alasan ekonomi. Perbuatannya diancam pidana sesuai Pasal 362 jo. Pasal 65 Ayat (1) KUHP.",
         "30.0"
        ],
        [
         "38",
         "0",
         "14",
         "0",
         "6",
         "80",
         "Gede Kastawa",
         "Terdakwa Gede Kastawa didakwa melakukan serangkaian tindak pidana pencurian ayam di wilayah Kintamani, Bangli, pada bulan Oktober 2022. Pada 21 Oktober 2022, terdakwa mencuri 6 ekor ayam dari belakang rumah korban I Wayan Sukada di Desa Belantih, lalu menjualnya di Pasar Anyar Singaraja seharga Rp800.000. Hasil penjualan digunakan untuk membeli ayam aduan dan berjudi. Kemudian, pada 28 Oktober 2022, terdakwa mencuri 15 ekor ayam milik korban I Made Terus dari kebun jeruk di Desa Belanga, yang kembali dijual dan hasilnya dipakai untuk berjudi. Selanjutnya, pada 30 Oktober 2022, terdakwa beraksi di pondokan milik korban I Wayan Lusin di Desa Belanga, mencuri seekor ayam namun aksinya diketahui oleh saksi dan warga sehingga berhasil diamankan. Total kerugian para korban mencapai sekitar Rp3.500.000. Terdakwa mengaku melakukan pencurian karena alasan ekonomi. Perbuatannya diancam pidana sesuai Pasal 362 jo. Pasal 65 Ayat (1) KUHP.",
         "30.0"
        ],
        [
         "39",
         "0",
         "16",
         "0",
         "5",
         "84",
         "Elias Fanggi",
         "Terdakwa Elias Fanggi didakwa melakukan pencurian tiga ekor anak babi milik saksi I Komang Sucitra pada Sabtu, 27 Maret 2021 sekitar pukul 22.30 WITA di kandang babi yang terletak di Desa Abuan, Kecamatan Kintamani, Kabupaten Bangli. Awalnya, terdakwa datang ke kandang pada sore hari untuk membersihkan tempat tersebut. Namun pada malam harinya, terdakwa masuk ke dalam kandang melalui pintu yang tidak terkunci, lalu mengambil tiga ekor anak babi dan memasukkannya ke dalam karung plastik yang telah disiapkannya. Ia kemudian membawa hasil curian itu dengan sepeda motor milik saksi Leonardus Pendi dengan maksud untuk dijual. Aksi tersebut diketahui oleh pemilik kandang, yang kemudian melaporkan terdakwa ke pihak berwajib. Akibat perbuatan tersebut, saksi I Komang Sucitra mengalami kerugian sebesar Rp3.600.000. Perbuatan Terdakwa didakwa dengan dakwaan primair Pasal 363 Ayat (1) ke-1 KUHP, dan dakwaan subsidair Pasal 374 KUHP.",
         "6.0"
        ],
        [
         "40",
         "0",
         "17",
         "0",
         "5",
         "84",
         "Elias Fanggi",
         "Terdakwa Elias Fanggi didakwa melakukan pencurian tiga ekor anak babi milik saksi I Komang Sucitra pada Sabtu, 27 Maret 2021 sekitar pukul 22.30 WITA di kandang babi yang terletak di Desa Abuan, Kecamatan Kintamani, Kabupaten Bangli. Awalnya, terdakwa datang ke kandang pada sore hari untuk membersihkan tempat tersebut. Namun pada malam harinya, terdakwa masuk ke dalam kandang melalui pintu yang tidak terkunci, lalu mengambil tiga ekor anak babi dan memasukkannya ke dalam karung plastik yang telah disiapkannya. Ia kemudian membawa hasil curian itu dengan sepeda motor milik saksi Leonardus Pendi dengan maksud untuk dijual. Aksi tersebut diketahui oleh pemilik kandang, yang kemudian melaporkan terdakwa ke pihak berwajib. Akibat perbuatan tersebut, saksi I Komang Sucitra mengalami kerugian sebesar Rp3.600.000. Perbuatan Terdakwa didakwa dengan dakwaan primair Pasal 363 Ayat (1) ke-1 KUHP, dan dakwaan subsidair Pasal 374 KUHP.",
         "6.0"
        ],
        [
         "41",
         "0",
         "17",
         "0",
         "15",
         "112",
         "I Wayan Edi Rusmawan",
         "Terdakwa I Wayan Edi Rusmawan didakwa melakukan serangkaian pencurian antara bulan Juni 2020 hingga Januari 2021 di berbagai lokasi di wilayah Kecamatan Kintamani, Kabupaten Bangli. Terdakwa mengambil barang-barang milik sejumlah korban di antaranya I Wayan Sutiana, I Ketut Carem, I Ketut Sudadi, I Nyoman Keneh, Ni Nengah Suantini, I Nyoman Birawan, Ni Ketut Supadmi, I Wayan Darma, I Wayan Ramanto, I Nengah Sapa, dan I Made Sadswadarma. Aksi pencurian tersebut dilakukan terdakwa dengan cara merusak, memanjat, atau masuk secara diam-diam ke kebun, pondokan, warung, dan gudang milik para korban, dengan maksud untuk memiliki barang-barang tersebut secara melawan hukum. Karena dilakukan berulang kali di tempat dan waktu yang berbeda, perbuatan terdakwa dianggap sebagai beberapa kejahatan yang berdiri sendiri. Perbuatan Terdakwa didakwa dengan dakwaan primair Pasal 363 Ayat (1) ke-5 KUHP jo. Pasal 65 ayat (1) KUHP, dan dakwaan subsidair Pasal 362 KUHP Jo Pasal 65 Ayat (1) KUHP.",
         "24.0"
        ],
        [
         "42",
         "0",
         "0",
         "0",
         "15",
         "112",
         "I Wayan Edi Rusmawan",
         "Terdakwa I Wayan Edi Rusmawan didakwa melakukan serangkaian pencurian antara bulan Juni 2020 hingga Januari 2021 di berbagai lokasi di wilayah Kecamatan Kintamani, Kabupaten Bangli. Terdakwa mengambil barang-barang milik sejumlah korban di antaranya I Wayan Sutiana, I Ketut Carem, I Ketut Sudadi, I Nyoman Keneh, Ni Nengah Suantini, I Nyoman Birawan, Ni Ketut Supadmi, I Wayan Darma, I Wayan Ramanto, I Nengah Sapa, dan I Made Sadswadarma. Aksi pencurian tersebut dilakukan terdakwa dengan cara merusak, memanjat, atau masuk secara diam-diam ke kebun, pondokan, warung, dan gudang milik para korban, dengan maksud untuk memiliki barang-barang tersebut secara melawan hukum. Karena dilakukan berulang kali di tempat dan waktu yang berbeda, perbuatan terdakwa dianggap sebagai beberapa kejahatan yang berdiri sendiri. Perbuatan Terdakwa didakwa dengan dakwaan primair Pasal 363 Ayat (1) ke-5 KUHP jo. Pasal 65 ayat (1) KUHP, dan dakwaan subsidair Pasal 362 KUHP Jo Pasal 65 Ayat (1) KUHP.",
         "24.0"
        ],
        [
         "43",
         "2",
         "18",
         "5",
         "4",
         "144",
         "ANJAR RUCHIMAT",
         "Terdakwa Anjar Ruchimat dan Irga Krisna Haryanto R, pada 4 Februari 2020 sekitar pukul 21.30 WITA di pinggir Jalan Raya Merdeka, Bebalang, Bangli, diduga melakukan permufakatan jahat bersama seorang bernama Made Bleteng (DPO) untuk memiliki, menyimpan, menguasai, atau menyediakan Narkotika Golongan I bukan tanaman tanpa hak. Selain itu, Anjar Ruchimat juga terbukti menggunakan narkotika untuk diri sendiri pada 1 Februari 2020 sekitar pukul 15.00 WITA di sebuah penginapan di Kuta, Badung. Demikian pula, Irga Krisna Haryanto R menggunakan narkotika untuk diri sendiri pada 28 Januari 2020 sekitar pukul 22.30 WITA di kamar kontrakannya di Dalung, Badung. Meskipun tempat kejadian perkara berada di wilayah hukum Pengadilan Negeri Denpasar, perkara ini diperiksa oleh Pengadilan Negeri Bangli berdasarkan ketentuan Pasal 84 ayat (2) KUHAP. Perbuatan para terdakwa diancam pidana berdasarkan Pasal 132 Ayat (1) jo. Pasal 112 Ayat (1), serta Pasal 127 Ayat (1) huruf a UU RI No. 35 Tahun 2009 tentang Narkotika.",
         "16.0"
        ],
        [
         "44",
         "2",
         "18",
         "5",
         "4",
         "144",
         "IRGA KRISNA HARYANTO R",
         "Terdakwa Anjar Ruchimat dan Irga Krisna Haryanto R, pada 4 Februari 2020 sekitar pukul 21.30 WITA di pinggir Jalan Raya Merdeka, Bebalang, Bangli, diduga melakukan permufakatan jahat bersama seorang bernama Made Bleteng (DPO) untuk memiliki, menyimpan, menguasai, atau menyediakan Narkotika Golongan I bukan tanaman tanpa hak. Selain itu, Anjar Ruchimat juga terbukti menggunakan narkotika untuk diri sendiri pada 1 Februari 2020 sekitar pukul 15.00 WITA di sebuah penginapan di Kuta, Badung. Demikian pula, Irga Krisna Haryanto R menggunakan narkotika untuk diri sendiri pada 28 Januari 2020 sekitar pukul 22.30 WITA di kamar kontrakannya di Dalung, Badung. Meskipun tempat kejadian perkara berada di wilayah hukum Pengadilan Negeri Denpasar, perkara ini diperiksa oleh Pengadilan Negeri Bangli berdasarkan ketentuan Pasal 84 ayat (2) KUHAP. Perbuatan para terdakwa diancam pidana berdasarkan Pasal 132 Ayat (1) jo. Pasal 112 Ayat (1), serta Pasal 127 Ayat (1) huruf a UU RI No. 35 Tahun 2009 tentang Narkotika.",
         "16.0"
        ],
        [
         "45",
         "2",
         "18",
         "6",
         "6",
         "240",
         "FENNY YANTHI ESMIDAR",
         "Terdakwa Fenny Yanthi Esmidar pada Kamis, 9 Januari 2020 sekitar pukul 23.15 WITA ditangkap di Gang Buntu, belakang Alfamart Jalan Brigjen Ngurah Rai, Bangli, saat baru saja mengambil narkotika jenis sabu yang disembunyikan di semak-semak. Penangkapan dilakukan oleh anggota Satresnarkoba Polres Bangli setelah menerima informasi dari masyarakat. Sebelumnya, terdakwa dihubungi oleh seseorang bernama Desi untuk mengambil narkotika di lokasi tersebut. Dari hasil penggeledahan, ditemukan dua paket sabu dengan berat netto masing-masing 0,08 gram dan 0,05 gram, yang disimpan dalam bungkus rokok dan tas milik terdakwa. Berdasarkan hasil pemeriksaan laboratorium forensik, kedua paket tersebut positif mengandung metamfetamina yang termasuk dalam Narkotika Golongan I. Namun, hasil tes urine terdakwa menunjukkan negatif narkotika/psikotropika. Perbuatan Terdakwa didakwa dengan dakwaan pertama Pasal 114 Ayat (1) UU RI No. 35 Tahun 2009 tentang Narkotika, dan dakwaan kedua Pasal 112 Ayat (1) UU RI No. 35 Tahun 2009 Tentang Narkotika.",
         "102.0"
        ],
        [
         "46",
         "0",
         "19",
         "7",
         "4",
         "84",
         "I WAYAN SUDARPA",
         "Terdakwa I Wayan Sudarpa pada Rabu, 12 Februari 2020 sekitar pukul 01.00 WITA melakukan pencurian tiga ekor sapi milik I Wayan Kasir di Br. Tiying Desa, Desa Pengotan, Kecamatan Bangli. Aksi tersebut direncanakan sebelumnya bersama I Nyoman Bintang, dengan dalih ingin menjual sapi miliknya untuk membayar utang. Pada malam hari yang telah disepakati, terdakwa mendatangi kandang sapi korban dan secara bertahap membawa ketiga sapi tersebut ke mobil pick up milik I Nyoman Bintang yang menunggu di dekat lokasi. Sapi-sapi itu kemudian dibawa dan dijual di Pasar Bringkit, Badung. Dari hasil penjualan, terdakwa menerima uang sebesar Rp20.156.000 setelah dikurangi biaya operasional. Namun, diketahui sapi-sapi tersebut bukan milik terdakwa melainkan milik I Wayan Kasir, yang tidak pernah memberikan izin untuk pengambilan maupun penjualan. Akibat perbuatan terdakwa, korban mengalami kerugian sekitar Rp20.500.000. Tindakan terdakwa diancam pidana berdasarkan Pasal 363 Ayat (1) ke-1 KUHP.",
         "6.0"
        ],
        [
         "47",
         "4",
         "20",
         "8",
         "3",
         "120",
         "Wayan Suartaya",
         "Pada tanggal 21 November 2018 sekitar pukul 18.00 WITA, terdakwa I Ketut Sarjana dan Wayan Suartaya mengadakan permainan judi cap jeki di halaman rumah Ketut Sarjana di Banjar Merta, Desa Awan, Kecamatan Kintamani, Kabupaten Bangli. Mereka menyiapkan berbagai alat perjudian seperti kotak kaleng, perlak, handuk, kartu ceki, serta menyediakan hadiah uang tunai sebesar Rp 5.000.000 bagi pemenang. Ketut Sarjana bertindak sebagai kasir sekaligus bandar yang membayar kemenangan dan mengambil uang taruhan pemain yang kalah, sedangkan Wayan Suartaya bertugas mengocok kartu ceki. Permainan dilakukan dengan dua sistem, yakni sistem \"melok\" (draw) dan \"nyolot\" (menang-kalah), yang masing-masing memiliki aturan dan hadiah berbeda. Saat permainan berlangsung, petugas dari Dit. Reskrimum POLDA Bali melakukan penggerebekan dan menemukan sejumlah barang bukti, termasuk kartu ceki, handuk, kotak kaleng, perlak, dan uang tunai Rp 2.665.000. Permainan judi cap jeki tersebut dilakukan tanpa izin dari pejabat yang berwenang. Perbuatan Terdakwa didakwa dengan dakwaan primair Pasal 303 Ayat (1) ke-1 KUHP jo. Pasal 2 Undang-Undang RI No. 7 Tahun 1974 tentang Penertiban Perjudian, dan dakwaan subsidair Pasal 303 Ayat (1) ke-2 KUHP, jo. Pasal 2 UU RI No. 7 Tahun 1974 Tentang Penertiban Perjudian.",
         "5.0"
        ],
        [
         "48",
         "4",
         "21",
         "8",
         "3",
         "120",
         "Wayan Suartaya",
         "Pada tanggal 21 November 2018 sekitar pukul 18.00 WITA, terdakwa I Ketut Sarjana dan Wayan Suartaya mengadakan permainan judi cap jeki di halaman rumah Ketut Sarjana di Banjar Merta, Desa Awan, Kecamatan Kintamani, Kabupaten Bangli. Mereka menyiapkan berbagai alat perjudian seperti kotak kaleng, perlak, handuk, kartu ceki, serta menyediakan hadiah uang tunai sebesar Rp 5.000.000 bagi pemenang. Ketut Sarjana bertindak sebagai kasir sekaligus bandar yang membayar kemenangan dan mengambil uang taruhan pemain yang kalah, sedangkan Wayan Suartaya bertugas mengocok kartu ceki. Permainan dilakukan dengan dua sistem, yakni sistem \"melok\" (draw) dan \"nyolot\" (menang-kalah), yang masing-masing memiliki aturan dan hadiah berbeda. Saat permainan berlangsung, petugas dari Dit. Reskrimum POLDA Bali melakukan penggerebekan dan menemukan sejumlah barang bukti, termasuk kartu ceki, handuk, kotak kaleng, perlak, dan uang tunai Rp 2.665.000. Permainan judi cap jeki tersebut dilakukan tanpa izin dari pejabat yang berwenang. Perbuatan Terdakwa didakwa dengan dakwaan primair Pasal 303 Ayat (1) ke-1 KUHP jo. Pasal 2 Undang-Undang RI No. 7 Tahun 1974 tentang Penertiban Perjudian, dan dakwaan subsidair Pasal 303 Ayat (1) ke-2 KUHP, jo. Pasal 2 UU RI No. 7 Tahun 1974 Tentang Penertiban Perjudian.",
         "5.0"
        ],
        [
         "49",
         "4",
         "20",
         "8",
         "3",
         "120",
         "I Ketut Sarjana",
         "Pada tanggal 21 November 2018 sekitar pukul 18.00 WITA, terdakwa I Ketut Sarjana dan Wayan Suartaya mengadakan permainan judi cap jeki di halaman rumah Ketut Sarjana di Banjar Merta, Desa Awan, Kecamatan Kintamani, Kabupaten Bangli. Mereka menyiapkan berbagai alat perjudian seperti kotak kaleng, perlak, handuk, kartu ceki, serta menyediakan hadiah uang tunai sebesar Rp 5.000.000 bagi pemenang. Ketut Sarjana bertindak sebagai kasir sekaligus bandar yang membayar kemenangan dan mengambil uang taruhan pemain yang kalah, sedangkan Wayan Suartaya bertugas mengocok kartu ceki. Permainan dilakukan dengan dua sistem, yakni sistem \"melok\" (draw) dan \"nyolot\" (menang-kalah), yang masing-masing memiliki aturan dan hadiah berbeda. Saat permainan berlangsung, petugas dari Dit. Reskrimum POLDA Bali melakukan penggerebekan dan menemukan sejumlah barang bukti, termasuk kartu ceki, handuk, kotak kaleng, perlak, dan uang tunai Rp 2.665.000. Permainan judi cap jeki tersebut dilakukan tanpa izin dari pejabat yang berwenang. Perbuatan Terdakwa didakwa dengan dakwaan primair Pasal 303 Ayat (1) ke-1 KUHP jo. Pasal 2 Undang-Undang RI No. 7 Tahun 1974 tentang Penertiban Perjudian, dan dakwaan subsidair Pasal 303 Ayat (1) ke-2 KUHP, jo. Pasal 2 UU RI No. 7 Tahun 1974 Tentang Penertiban Perjudian.",
         "5.0"
        ]
       ],
       "shape": {
        "columns": 8,
        "rows": 4323
       }
      },
      "text/html": [
       "<div>\n",
       "<style scoped>\n",
       "    .dataframe tbody tr th:only-of-type {\n",
       "        vertical-align: middle;\n",
       "    }\n",
       "\n",
       "    .dataframe tbody tr th {\n",
       "        vertical-align: top;\n",
       "    }\n",
       "\n",
       "    .dataframe thead th {\n",
       "        text-align: right;\n",
       "    }\n",
       "</style>\n",
       "<table border=\"1\" class=\"dataframe\">\n",
       "  <thead>\n",
       "    <tr style=\"text-align: right;\">\n",
       "      <th></th>\n",
       "      <th>klasifikasi_perkara_encoded</th>\n",
       "      <th>penuntut_umum_encoded</th>\n",
       "      <th>hakim_encoded</th>\n",
       "      <th>jumlah_saksi</th>\n",
       "      <th>maks_penjara_berdasarkan_pasal</th>\n",
       "      <th>terdakwa</th>\n",
       "      <th>summarized_dakwaan</th>\n",
       "      <th>total_pidana_penjara_bulan</th>\n",
       "    </tr>\n",
       "  </thead>\n",
       "  <tbody>\n",
       "    <tr>\n",
       "      <th>0</th>\n",
       "      <td>0</td>\n",
       "      <td>0</td>\n",
       "      <td>0</td>\n",
       "      <td>6</td>\n",
       "      <td>80</td>\n",
       "      <td>GEDE DARMAYASA</td>\n",
       "      <td>Terdakwa Gede Darmayasa didakwa telah melakuka...</td>\n",
       "      <td>5.0</td>\n",
       "    </tr>\n",
       "    <tr>\n",
       "      <th>1</th>\n",
       "      <td>1</td>\n",
       "      <td>1</td>\n",
       "      <td>1</td>\n",
       "      <td>4</td>\n",
       "      <td>48</td>\n",
       "      <td>IDA BAGUS MADE DARMA WIGUNA</td>\n",
       "      <td>Pada bulan Februari dan Maret 2024, terdakwa I...</td>\n",
       "      <td>24.0</td>\n",
       "    </tr>\n",
       "    <tr>\n",
       "      <th>2</th>\n",
       "      <td>0</td>\n",
       "      <td>0</td>\n",
       "      <td>2</td>\n",
       "      <td>6</td>\n",
       "      <td>84</td>\n",
       "      <td>HANDRI JOHANAS</td>\n",
       "      <td>Terdakwa Handri Johanes pada Rabu, 24 April 20...</td>\n",
       "      <td>4.0</td>\n",
       "    </tr>\n",
       "    <tr>\n",
       "      <th>3</th>\n",
       "      <td>2</td>\n",
       "      <td>2</td>\n",
       "      <td>1</td>\n",
       "      <td>2</td>\n",
       "      <td>144</td>\n",
       "      <td>I GEDE ARIADI alias BERNAD</td>\n",
       "      <td>Pada hari Minggu, 14 April 2024 sekitar pukul ...</td>\n",
       "      <td>14.0</td>\n",
       "    </tr>\n",
       "    <tr>\n",
       "      <th>4</th>\n",
       "      <td>2</td>\n",
       "      <td>3</td>\n",
       "      <td>1</td>\n",
       "      <td>2</td>\n",
       "      <td>144</td>\n",
       "      <td>I GEDE ARIADI alias BERNAD</td>\n",
       "      <td>Pada hari Minggu, 14 April 2024 sekitar pukul ...</td>\n",
       "      <td>14.0</td>\n",
       "    </tr>\n",
       "    <tr>\n",
       "      <th>...</th>\n",
       "      <td>...</td>\n",
       "      <td>...</td>\n",
       "      <td>...</td>\n",
       "      <td>...</td>\n",
       "      <td>...</td>\n",
       "      <td>...</td>\n",
       "      <td>...</td>\n",
       "      <td>...</td>\n",
       "    </tr>\n",
       "    <tr>\n",
       "      <th>4318</th>\n",
       "      <td>2</td>\n",
       "      <td>276</td>\n",
       "      <td>128</td>\n",
       "      <td>2</td>\n",
       "      <td>240</td>\n",
       "      <td>NURUL FIQRI SUDIRMAN als KIKI bin SUDIRMAN</td>\n",
       "      <td>Pada Jumat, 31 Maret 2023, sekitar pukul 20.30...</td>\n",
       "      <td>72.0</td>\n",
       "    </tr>\n",
       "    <tr>\n",
       "      <th>4319</th>\n",
       "      <td>0</td>\n",
       "      <td>264</td>\n",
       "      <td>117</td>\n",
       "      <td>2</td>\n",
       "      <td>84</td>\n",
       "      <td>SUPRIADI BIN RATIM</td>\n",
       "      <td>Pada hari Minggu, 28 Mei 2023, sekitar pukul 1...</td>\n",
       "      <td>16.0</td>\n",
       "    </tr>\n",
       "    <tr>\n",
       "      <th>4320</th>\n",
       "      <td>0</td>\n",
       "      <td>287</td>\n",
       "      <td>117</td>\n",
       "      <td>2</td>\n",
       "      <td>84</td>\n",
       "      <td>SUPRIADI BIN RATIM</td>\n",
       "      <td>Pada hari Minggu, 28 Mei 2023, sekitar pukul 1...</td>\n",
       "      <td>16.0</td>\n",
       "    </tr>\n",
       "    <tr>\n",
       "      <th>4321</th>\n",
       "      <td>0</td>\n",
       "      <td>264</td>\n",
       "      <td>117</td>\n",
       "      <td>2</td>\n",
       "      <td>84</td>\n",
       "      <td>ANWAR RURI BIN SYARIFUDIN USMAN</td>\n",
       "      <td>Pada hari Minggu, 28 Mei 2023, sekitar pukul 1...</td>\n",
       "      <td>16.0</td>\n",
       "    </tr>\n",
       "    <tr>\n",
       "      <th>4322</th>\n",
       "      <td>0</td>\n",
       "      <td>287</td>\n",
       "      <td>117</td>\n",
       "      <td>2</td>\n",
       "      <td>84</td>\n",
       "      <td>ANWAR RURI BIN SYARIFUDIN USMAN</td>\n",
       "      <td>Pada hari Minggu, 28 Mei 2023, sekitar pukul 1...</td>\n",
       "      <td>16.0</td>\n",
       "    </tr>\n",
       "  </tbody>\n",
       "</table>\n",
       "<p>4323 rows × 8 columns</p>\n",
       "</div>"
      ],
      "text/plain": [
       "      klasifikasi_perkara_encoded  penuntut_umum_encoded  hakim_encoded  \\\n",
       "0                               0                      0              0   \n",
       "1                               1                      1              1   \n",
       "2                               0                      0              2   \n",
       "3                               2                      2              1   \n",
       "4                               2                      3              1   \n",
       "...                           ...                    ...            ...   \n",
       "4318                            2                    276            128   \n",
       "4319                            0                    264            117   \n",
       "4320                            0                    287            117   \n",
       "4321                            0                    264            117   \n",
       "4322                            0                    287            117   \n",
       "\n",
       "      jumlah_saksi  maks_penjara_berdasarkan_pasal  \\\n",
       "0                6                              80   \n",
       "1                4                              48   \n",
       "2                6                              84   \n",
       "3                2                             144   \n",
       "4                2                             144   \n",
       "...            ...                             ...   \n",
       "4318             2                             240   \n",
       "4319             2                              84   \n",
       "4320             2                              84   \n",
       "4321             2                              84   \n",
       "4322             2                              84   \n",
       "\n",
       "                                        terdakwa  \\\n",
       "0                                 GEDE DARMAYASA   \n",
       "1                    IDA BAGUS MADE DARMA WIGUNA   \n",
       "2                                 HANDRI JOHANAS   \n",
       "3                     I GEDE ARIADI alias BERNAD   \n",
       "4                     I GEDE ARIADI alias BERNAD   \n",
       "...                                          ...   \n",
       "4318  NURUL FIQRI SUDIRMAN als KIKI bin SUDIRMAN   \n",
       "4319                          SUPRIADI BIN RATIM   \n",
       "4320                          SUPRIADI BIN RATIM   \n",
       "4321             ANWAR RURI BIN SYARIFUDIN USMAN   \n",
       "4322             ANWAR RURI BIN SYARIFUDIN USMAN   \n",
       "\n",
       "                                     summarized_dakwaan  \\\n",
       "0     Terdakwa Gede Darmayasa didakwa telah melakuka...   \n",
       "1     Pada bulan Februari dan Maret 2024, terdakwa I...   \n",
       "2     Terdakwa Handri Johanes pada Rabu, 24 April 20...   \n",
       "3     Pada hari Minggu, 14 April 2024 sekitar pukul ...   \n",
       "4     Pada hari Minggu, 14 April 2024 sekitar pukul ...   \n",
       "...                                                 ...   \n",
       "4318  Pada Jumat, 31 Maret 2023, sekitar pukul 20.30...   \n",
       "4319  Pada hari Minggu, 28 Mei 2023, sekitar pukul 1...   \n",
       "4320  Pada hari Minggu, 28 Mei 2023, sekitar pukul 1...   \n",
       "4321  Pada hari Minggu, 28 Mei 2023, sekitar pukul 1...   \n",
       "4322  Pada hari Minggu, 28 Mei 2023, sekitar pukul 1...   \n",
       "\n",
       "      total_pidana_penjara_bulan  \n",
       "0                            5.0  \n",
       "1                           24.0  \n",
       "2                            4.0  \n",
       "3                           14.0  \n",
       "4                           14.0  \n",
       "...                          ...  \n",
       "4318                        72.0  \n",
       "4319                        16.0  \n",
       "4320                        16.0  \n",
       "4321                        16.0  \n",
       "4322                        16.0  \n",
       "\n",
       "[4323 rows x 8 columns]"
      ]
     },
     "execution_count": 3,
     "metadata": {},
     "output_type": "execute_result"
    }
   ],
   "source": [
    "df"
   ]
  },
  {
   "cell_type": "code",
   "execution_count": 4,
   "metadata": {},
   "outputs": [],
   "source": [
    "df_filtered = df.copy()"
   ]
  },
  {
   "cell_type": "code",
   "execution_count": 5,
   "metadata": {},
   "outputs": [
    {
     "name": "stdout",
     "output_type": "stream",
     "text": [
      "<class 'pandas.core.frame.DataFrame'>\n",
      "RangeIndex: 4323 entries, 0 to 4322\n",
      "Data columns (total 8 columns):\n",
      " #   Column                          Non-Null Count  Dtype  \n",
      "---  ------                          --------------  -----  \n",
      " 0   klasifikasi_perkara_encoded     4323 non-null   int64  \n",
      " 1   penuntut_umum_encoded           4323 non-null   int64  \n",
      " 2   hakim_encoded                   4323 non-null   int64  \n",
      " 3   jumlah_saksi                    4323 non-null   int64  \n",
      " 4   maks_penjara_berdasarkan_pasal  4323 non-null   int64  \n",
      " 5   terdakwa                        4323 non-null   object \n",
      " 6   summarized_dakwaan              4323 non-null   object \n",
      " 7   total_pidana_penjara_bulan      4323 non-null   float64\n",
      "dtypes: float64(1), int64(5), object(2)\n",
      "memory usage: 270.3+ KB\n"
     ]
    }
   ],
   "source": [
    "df_filtered.info()"
   ]
  },
  {
   "cell_type": "markdown",
   "metadata": {},
   "source": [
    "### Split Data"
   ]
  },
  {
   "cell_type": "code",
   "execution_count": 6,
   "metadata": {},
   "outputs": [],
   "source": [
    "def stratified_split(df: pd.DataFrame, split_size: float = 0.8) -> tuple[pd.DataFrame, pd.DataFrame]:\n",
    "    unique_groups = df.groupby([\"klasifikasi_perkara_encoded\", \"penuntut_umum_encoded\", \"hakim_encoded\"]).apply(lambda x: x.index.tolist()).to_dict()\n",
    "    \n",
    "    print(unique_groups)\n",
    "    train_idx, test_idx = [], []\n",
    "    \n",
    "    for indices in unique_groups.values():        \n",
    "        if len(indices) == 1:\n",
    "            train_idx.extend(indices)\n",
    "        else:\n",
    "            train, test = train_test_split(indices, train_size=split_size, random_state=42)\n",
    "            train_idx.extend(train)\n",
    "            test_idx.extend(test)\n",
    "    \n",
    "    return df.loc[train_idx], df.loc[test_idx]"
   ]
  },
  {
   "cell_type": "code",
   "execution_count": 7,
   "metadata": {},
   "outputs": [
    {
     "name": "stdout",
     "output_type": "stream",
     "text": [
      "{(0, 0, 0): [0, 20, 42], (0, 0, 2): [2], (0, 1, 0): [19, 37], (0, 1, 4): [35, 36], (0, 4, 1): [5], (0, 4, 3): [10], (0, 5, 21): [843], (0, 7, 1): [9], (0, 8, 0): [15, 17], (0, 9, 0): [16, 18], (0, 11, 4): [22, 23], (0, 12, 19): [775, 776, 813], (0, 12, 21): [774], (0, 12, 22): [715], (0, 12, 23): [806], (0, 13, 0): [32], (0, 13, 3): [34], (0, 14, 0): [38], (0, 14, 14): [437, 501, 595, 609], (0, 14, 16): [422], (0, 14, 18): [474, 665], (0, 14, 19): [783, 784, 785, 786], (0, 14, 20): [432, 438, 518, 578, 608, 724, 745], (0, 14, 21): [639, 822], (0, 15, 4): [33], (0, 16, 0): [39], (0, 17, 0): [40, 41], (0, 19, 7): [46], (0, 20, 37): [1051], (0, 21, 55): [1612], (0, 21, 57): [1630, 1632], (0, 22, 10): [241, 268, 269, 270, 271, 303], (0, 22, 14): [259, 381, 415, 416, 538, 545, 577, 621], (0, 22, 16): [308, 314, 315, 383, 386, 417], (0, 22, 18): [654, 655, 656], (0, 22, 19): [548, 762], (0, 22, 20): [446, 570, 571, 572, 573, 690, 725], (0, 22, 22): [719], (0, 23, 10): [52, 54], (0, 24, 10): [136, 152, 172], (0, 24, 11): [75, 104], (0, 24, 12): [173], (0, 24, 14): [119], (0, 25, 10): [100, 147, 196, 369], (0, 25, 11): [55], (0, 25, 14): [374, 403, 449, 450], (0, 25, 16): [402], (0, 25, 19): [584, 585, 769], (0, 25, 20): [737], (0, 25, 21): [586, 815, 816, 817, 842], (0, 26, 10): [56], (0, 27, 10): [57, 94], (0, 27, 12): [90], (0, 28, 9): [58], (0, 28, 10): [106, 107, 109], (0, 28, 12): [96, 97], (0, 29, 10): [59, 60, 61], (0, 29, 12): [101, 102], (0, 30, 10): [174], (0, 30, 14): [144, 162, 163, 164, 166, 177], (0, 31, 10): [63, 91, 92, 93], (0, 31, 11): [65], (0, 31, 12): [80, 175, 176], (0, 32, 12): [70, 71], (0, 34, 10): [78], (0, 34, 11): [73, 81, 89], (0, 35, 12): [110, 111], (0, 35, 15): [170], (0, 36, 12): [105, 128], (0, 37, 15): [183], (0, 38, 10): [153], (0, 39, 10): [294, 360, 387], (0, 39, 16): [291, 320, 329, 365], (0, 39, 19): [722], (0, 40, 10): [141, 165, 178], (0, 40, 12): [112], (0, 40, 14): [120], (0, 41, 10): [289, 312, 316, 348, 349], (0, 41, 14): [186, 187, 420, 421, 574, 587], (0, 41, 16): [304, 305, 306, 331, 346, 347, 362, 363], (0, 41, 17): [388], (0, 41, 18): [442, 657, 664, 711], (0, 41, 19): [495, 604], (0, 41, 20): [493, 636], (0, 41, 21): [700, 701], (0, 42, 10): [206, 212, 261, 264], (0, 42, 12): [142], (0, 42, 13): [288], (0, 45, 12): [133], (0, 46, 10): [134], (0, 46, 14): [260], (0, 47, 10): [211, 242, 243], (0, 47, 12): [145, 236, 237, 238, 239], (0, 47, 14): [149, 151], (0, 48, 10): [352], (0, 48, 16): [324, 325, 326, 384, 385], (0, 50, 12): [179, 195], (0, 52, 14): [148, 150, 430, 533, 554, 555, 556, 590], (0, 52, 18): [651, 652], (0, 52, 19): [425, 426, 429, 547, 580, 635, 643], (0, 52, 20): [448, 480, 481, 513, 514, 530, 531, 607, 622], (0, 52, 21): [628, 647, 771], (0, 54, 10): [199, 250, 251, 252, 253], (0, 54, 12): [200], (0, 54, 14): [232], (0, 54, 16): [265], (0, 55, 15): [182], (0, 56, 10): [330], (0, 56, 16): [296, 389], (0, 56, 17): [366], (0, 57, 10): [198, 282, 283], (0, 57, 12): [201], (0, 57, 17): [364], (0, 58, 10): [380], (0, 58, 14): [327, 328], (0, 58, 16): [338], (0, 59, 14): [221, 222, 223, 224, 517, 614], (0, 59, 19): [459, 460, 461, 509, 510, 511, 632, 781, 782], (0, 59, 20): [433], (0, 59, 21): [645, 746], (0, 59, 23): [810, 834], (0, 59, 48): [1257, 1259], (0, 62, 10): [318, 333, 334, 368], (0, 62, 13): [292], (0, 62, 14): [332, 337, 339, 343, 356, 357, 358, 397, 406, 482, 483], (0, 62, 16): [275, 276, 277, 302, 317, 336, 359, 367], (0, 62, 19): [440, 479, 593, 598], (0, 62, 20): [434, 454, 475, 498, 507, 559, 591, 592, 602, 603, 686], (0, 62, 21): [557], (0, 62, 22): [721], (0, 63, 10): [379], (0, 63, 19): [534, 535, 627, 814], (0, 63, 20): [630], (0, 64, 14): [408, 524, 540], (0, 64, 18): [753, 796], (0, 64, 19): [494, 508, 560, 561, 562, 588], (0, 64, 20): [455, 581], (0, 64, 21): [631, 641], (0, 65, 14): [610], (0, 65, 16): [409], (0, 65, 19): [500, 799, 800], (0, 65, 20): [476], (0, 65, 21): [638], (0, 66, 14): [484, 485], (0, 66, 20): [566, 567, 568, 738, 780], (0, 66, 21): [616, 841], (0, 66, 22): [699], (0, 67, 14): [539, 615], (0, 67, 18): [424, 528], (0, 67, 20): [523, 712], (0, 67, 21): [640, 648, 649], (0, 68, 14): [550], (0, 68, 19): [714, 730, 731, 732, 733, 736], (0, 68, 20): [716, 750], (0, 68, 21): [840], (0, 68, 31): [923], (0, 69, 14): [543], (0, 69, 20): [596, 597, 629, 718, 795], (0, 69, 21): [787, 788], (0, 69, 22): [734], (0, 69, 23): [835], (0, 69, 49): [1380], (0, 71, 18): [653], (0, 71, 21): [791, 792], (0, 72, 19): [831], (0, 72, 20): [759], (0, 73, 19): [765, 766], (0, 73, 20): [740, 741], (0, 73, 21): [767], (0, 73, 75): [2030, 2031], (0, 73, 78): [1994, 1995], (0, 73, 81): [2070], (0, 75, 19): [761, 809], (0, 75, 21): [763, 829], (0, 77, 19): [794], (0, 77, 20): [777], (0, 79, 18): [789], (0, 79, 21): [826], (0, 81, 23): [807], (0, 83, 21): [819], (0, 84, 23): [827], (0, 85, 26): [860], (0, 85, 31): [886, 907], (0, 87, 30): [871, 872], (0, 88, 28): [885], (0, 88, 31): [969, 971], (0, 88, 34): [946], (0, 88, 35): [990], (0, 88, 36): [998], (0, 88, 37): [1025, 1026], (0, 88, 43): [1022], (0, 91, 28): [913], (0, 91, 34): [911, 921], (0, 91, 36): [979, 1001, 1007], (0, 92, 29): [870], (0, 93, 31): [915, 953], (0, 93, 34): [937], (0, 93, 36): [939, 1000], (0, 95, 28): [868], (0, 95, 31): [879], (0, 97, 32): [877], (0, 98, 32): [880], (0, 100, 30): [890], (0, 100, 32): [904], (0, 103, 31): [916], (0, 103, 34): [947, 987], (0, 103, 35): [991], (0, 103, 36): [980, 981, 999], (0, 103, 39): [995], (0, 103, 40): [996], (0, 105, 33): [900, 901, 902, 903], (0, 107, 28): [914], (0, 107, 34): [912, 922, 938], (0, 107, 36): [940], (0, 108, 31): [924], (0, 109, 31): [970, 972], (0, 109, 55): [1523], (0, 110, 36): [956, 958, 960], (0, 112, 31): [943], (0, 113, 31): [944], (0, 114, 31): [945], (0, 115, 36): [955, 957, 959, 1006], (0, 115, 40): [997], (0, 116, 31): [954], (0, 116, 37): [1043], (0, 117, 35): [961], (0, 117, 36): [1008], (0, 117, 37): [992], (0, 118, 35): [962], (0, 118, 36): [1009], (0, 119, 34): [986], (0, 120, 38): [993, 994], (0, 124, 37): [1037, 1042, 1052], (0, 124, 42): [1030], (0, 126, 43): [1035], (0, 127, 37): [1036], (0, 130, 46): [1296, 1320], (0, 130, 47): [1425], (0, 130, 48): [1324, 1435, 1437, 1439, 1441], (0, 130, 49): [1358], (0, 131, 45): [1055], (0, 131, 46): [1080, 1190], (0, 131, 47): [1206, 1207], (0, 131, 48): [1192], (0, 132, 45): [1056], (0, 133, 45): [1057, 1121, 1133, 1135], (0, 133, 46): [1076, 1196, 1198], (0, 134, 45): [1058, 1063, 1122, 1134, 1136], (0, 134, 47): [1075, 1109, 1111], (0, 134, 48): [1117, 1119, 1137], (0, 135, 45): [1105], (0, 135, 47): [1096, 1098, 1395, 1397, 1401], (0, 135, 48): [1139, 1215, 1292, 1298, 1312, 1316, 1427], (0, 135, 49): [1381], (0, 136, 45): [1147], (0, 136, 47): [1061, 1062], (0, 136, 48): [1159, 1195], (0, 137, 45): [1064], (0, 138, 46): [1065], (0, 138, 47): [1225, 1227, 1411], (0, 138, 48): [1143, 1203, 1253], (0, 139, 46): [1066], (0, 140, 45): [1067, 1068, 1069], (0, 140, 46): [1077], (0, 140, 48): [1118, 1120, 1138, 1144], (0, 141, 46): [1256], (0, 141, 47): [1400], (0, 141, 48): [1291], (0, 142, 46): [1174], (0, 142, 47): [1074, 1200], (0, 143, 45): [1106], (0, 143, 46): [1081, 1191], (0, 143, 47): [1097, 1099], (0, 143, 48): [1140, 1405], (0, 143, 49): [1326, 1328, 1330, 1332, 1334, 1423, 1448, 1459], (0, 143, 50): [1451, 1454, 1457], (0, 144, 45): [1150], (0, 144, 48): [1235, 1388, 1434, 1436, 1438, 1440], (0, 146, 45): [1146, 1151], (0, 146, 46): [1197, 1199, 1229, 1295], (0, 146, 47): [1110, 1112], (0, 146, 48): [1194, 1248, 1252, 1255], (0, 147, 46): [1281, 1319], (0, 147, 47): [1410], (0, 147, 48): [1158, 1202, 1254, 1382], (0, 147, 49): [1357], (0, 148, 48): [1168], (0, 149, 48): [1169, 1216, 1236, 1249], (0, 150, 46): [1175, 1228, 1302, 1304], (0, 150, 47): [1201], (0, 150, 48): [1247, 1258, 1260, 1323, 1355, 1389], (0, 150, 50): [1450, 1453, 1456], (0, 151, 47): [1208], (0, 151, 48): [1193], (0, 152, 46): [1282], (0, 152, 47): [1224, 1226], (0, 152, 48): [1383], (0, 154, 48): [1284], (0, 155, 46): [1301, 1303], (0, 155, 47): [1394, 1396], (0, 155, 48): [1283, 1297, 1311, 1315, 1404, 1426], (0, 156, 49): [1325, 1327, 1329, 1331, 1333, 1447, 1458], (0, 156, 50): [1449, 1452, 1455], (0, 157, 47): [1424], (0, 157, 48): [1356, 1390], (0, 157, 49): [1422], (0, 161, 23): [1462], (0, 161, 51): [1531, 1535, 1552, 1554, 1575], (0, 161, 53): [1478, 1480], (0, 162, 23): [1463], (0, 162, 51): [1548], (0, 163, 51): [1464, 1486], (0, 164, 51): [1465, 1596], (0, 164, 54): [1500], (0, 164, 55): [1639, 1641], (0, 165, 51): [1472], (0, 165, 53): [1622], (0, 165, 55): [1614, 1616, 1640, 1642, 1647], (0, 167, 51): [1473, 1507, 1509, 1511, 1520, 1532, 1536], (0, 167, 53): [1479, 1481], (0, 167, 54): [1497, 1501], (0, 168, 51): [1576, 1580, 1593], (0, 168, 54): [1496], (0, 168, 55): [1581, 1599, 1604, 1605], (0, 169, 51): [1487], (0, 169, 55): [1583, 1590, 1600], (0, 170, 51): [1519, 1594], (0, 171, 54): [1544, 1546, 1574], (0, 172, 51): [1506, 1508, 1510], (0, 173, 54): [1543, 1545, 1649], (0, 173, 55): [1578, 1646], (0, 174, 55): [1524], (0, 175, 51): [1547, 1551, 1553], (0, 175, 54): [1559], (0, 175, 55): [1555], (0, 176, 51): [1579, 1595], (0, 176, 53): [1621], (0, 176, 54): [1560, 1573, 1648], (0, 176, 55): [1556, 1561, 1577, 1582, 1589, 1603, 1611, 1613, 1615], (0, 176, 56): [1584], (0, 176, 57): [1629, 1631], (0, 177, 55): [1562], (0, 178, 55): [1606], (0, 183, 62): [1675, 1681], (0, 183, 63): [1679], (0, 184, 62): [1678], (0, 184, 67): [1721, 1727, 1728], (0, 185, 62): [1723, 1733], (0, 186, 62): [1695, 1715], (0, 187, 62): [1708], (0, 187, 63): [1716, 1717, 1718, 1719], (0, 187, 67): [1735], (0, 191, 62): [1725], (0, 191, 65): [1697], (0, 191, 67): [1743], (0, 191, 69): [1710, 1711], (0, 192, 67): [1704], (0, 192, 82): [2152], (0, 192, 83): [2292], (0, 192, 84): [2174, 2205, 2336, 2440], (0, 192, 86): [2426], (0, 192, 87): [2456], (0, 192, 88): [2315, 2320, 2323, 2324, 2335, 2342, 2381, 2392], (0, 192, 89): [2441], (0, 192, 90): [2467], (0, 193, 62): [1705], (0, 197, 71): [1745], (0, 198, 71): [1746], (0, 199, 72): [1749], (0, 199, 73): [1891], (0, 199, 74): [1905, 1906, 1913], (0, 199, 77): [2004], (0, 199, 79): [2015, 2028, 2029, 2032], (0, 199, 80): [2037, 2038], (0, 199, 81): [2113], (0, 199, 82): [2114], (0, 199, 83): [2133, 2253], (0, 199, 84): [2158, 2213, 2214], (0, 199, 86): [2212, 2242], (0, 201, 75): [2020], (0, 201, 77): [2056], (0, 201, 78): [1982], (0, 201, 81): [2119], (0, 202, 73): [1789, 1790, 1791], (0, 202, 77): [1798], (0, 202, 78): [1797], (0, 203, 73): [1804, 1824, 1828, 1842, 1851, 1872, 1873, 1895, 1909, 1940], (0, 203, 74): [1803, 1819, 1825, 1833, 1834, 1835, 1839, 1840, 1845, 1850, 1852, 1871, 1876, 1879, 1885, 1890, 1902, 1907, 1916, 1932], (0, 203, 75): [1771, 1968, 1972, 1973, 1983, 2012, 2017, 2018], (0, 203, 76): [1760], (0, 203, 77): [1967], (0, 203, 78): [1948, 2000], (0, 203, 81): [2078, 2118], (0, 203, 82): [2063, 2172, 2186, 2514], (0, 203, 84): [2209, 2308, 2344, 2448, 2460, 2489], (0, 203, 86): [2217, 2237, 2238, 2463], (0, 203, 88): [2355, 2380, 2418], (0, 203, 90): [2484], (0, 204, 73): [1776, 1784, 1787], (0, 204, 74): [1818, 1820], (0, 204, 75): [1766], (0, 205, 73): [1762, 1763, 1764, 1765, 1779], (0, 206, 74): [1767], (0, 208, 73): [1914, 1915], (0, 208, 74): [1772, 1874, 1894], (0, 208, 75): [2009], (0, 208, 81): [2053, 2071, 2072, 2092, 2093], (0, 208, 82): [2076, 2102, 2115, 2130, 2162], (0, 208, 83): [2203], (0, 208, 84): [2171, 2187, 2517], (0, 208, 86): [2215, 2275, 2515, 2516], (0, 208, 87): [2257, 2452], (0, 209, 73): [1830], (0, 209, 74): [1778, 1794, 1795, 1814, 1815, 1837, 1904], (0, 211, 74): [1888, 1889], (0, 211, 75): [1949, 1981], (0, 211, 77): [2055], (0, 211, 78): [1980], (0, 211, 80): [2062], (0, 211, 81): [2058, 2090], (0, 211, 82): [2057, 2122, 2137], (0, 211, 83): [2235], (0, 211, 84): [2240, 2241, 2299, 2343], (0, 211, 86): [2221, 2236], (0, 212, 18): [2518], (0, 212, 73): [1849, 1930], (0, 212, 74): [1846, 1848, 1899], (0, 212, 75): [1976], (0, 212, 78): [2005], (0, 212, 80): [2046], (0, 212, 81): [2069, 2116], (0, 212, 82): [2079, 2080, 2134, 2135, 2167], (0, 212, 84): [2175, 2190, 2198, 2199, 2284, 2285, 2348, 2349, 2413, 2494, 2510], (0, 212, 86): [2444, 2506, 2511], (0, 212, 87): [2475], (0, 212, 88): [2370, 2438, 2496, 2497], (0, 214, 73): [1928, 1929, 1951, 1952, 1975], (0, 214, 74): [1903], (0, 214, 75): [1963, 1997], (0, 214, 78): [1987, 2003], (0, 214, 79): [2039, 2040, 2041], (0, 214, 81): [2121], (0, 214, 82): [2059, 2060, 2066], (0, 214, 83): [2131, 2239], (0, 214, 84): [2184, 2256, 2319, 2434], (0, 214, 85): [2188], (0, 214, 86): [2216, 2300, 2301, 2312, 2313, 2356], (0, 214, 87): [2362], (0, 214, 88): [2338, 2439], (0, 214, 89): [2422, 2423, 2424], (0, 215, 74): [1926], (0, 216, 73): [1931], (0, 216, 75): [1959, 1971], (0, 216, 81): [2110, 2128], (0, 216, 82): [2067], (0, 216, 83): [2274], (0, 216, 86): [2287], (0, 216, 88): [2351, 2474, 2503, 2504, 2505], (0, 217, 73): [1985], (0, 217, 75): [2016], (0, 217, 77): [1992, 1993], (0, 217, 78): [2010], (0, 217, 80): [2047, 2064], (0, 217, 81): [2061, 2095], (0, 218, 75): [2001], (0, 218, 78): [1996], (0, 218, 81): [2098, 2099, 2100], (0, 218, 82): [2077], (0, 219, 77): [2054], (0, 220, 82): [2068], (0, 221, 84): [2280], (0, 222, 83): [2270], (0, 222, 86): [2478], (0, 223, 84): [2360], (0, 224, 83): [2262, 2309], (0, 224, 84): [2411, 2443], (0, 224, 86): [2276, 2345, 2479, 2485], (0, 224, 87): [2465], (0, 224, 88): [2372, 2390, 2412, 2442, 2471, 2476], (0, 225, 18): [2523], (0, 225, 84): [2266, 2314], (0, 225, 86): [2295, 2296, 2350, 2414, 2508], (0, 225, 88): [2507], (0, 226, 82): [2513], (0, 226, 83): [2289, 2290], (0, 226, 84): [2420], (0, 226, 86): [2427], (0, 226, 88): [2389, 2459], (0, 227, 84): [2294], (0, 227, 86): [2316, 2317, 2318], (0, 228, 84): [2347, 2401], (0, 228, 86): [2337, 2521, 2524], (0, 228, 88): [2371, 2437, 2481], (0, 229, 84): [2361, 2367, 2394, 2432], (0, 229, 86): [2333], (0, 229, 87): [2428, 2429, 2430, 2431], (0, 229, 88): [2415], (0, 230, 84): [2417], (0, 232, 88): [2483], (0, 233, 86): [2509], (0, 235, 92): [2527, 2528], (0, 235, 95): [2545], (0, 235, 100): [2536, 2537], (0, 236, 93): [2529], (0, 236, 97): [2559], (0, 239, 111): [2560], (0, 241, 101): [2538], (0, 242, 99): [2535], (0, 242, 104): [2564, 2565], (0, 243, 95): [2542], (0, 245, 103): [2543], (0, 245, 110): [2558], (0, 248, 100): [2547], (0, 249, 105): [2548], (0, 250, 106): [2549], (0, 251, 98): [2550, 2551], (0, 253, 100): [2567], (0, 254, 112): [2571], (0, 255, 94): [2566], (0, 263, 115): [2583, 3525], (0, 263, 116): [2781, 2783, 2785, 2787, 3500], (0, 263, 117): [2864, 3596], (0, 263, 118): [2894], (0, 263, 119): [3035, 3433], (0, 263, 120): [2673], (0, 263, 121): [2702], (0, 263, 123): [2638], (0, 263, 124): [2850], (0, 263, 126): [2775, 3209, 3385, 3711], (0, 263, 127): [3327, 3329], (0, 263, 128): [2640, 2692], (0, 263, 129): [2677, 2979, 3432, 4027, 4029, 4031, 4033], (0, 263, 131): [3042], (0, 263, 133): [2848], (0, 263, 134): [2860, 3000, 3277, 3447], (0, 263, 135): [3117, 3119, 3523, 3535], (0, 263, 136): [3125], (0, 264, 115): [2584, 3112, 3114, 3564], (0, 264, 116): [2782, 2784, 2786, 2788, 3070, 3318, 3501, 3630, 3632, 3928, 3970, 4182, 4184], (0, 264, 117): [2610, 3193, 3451, 4314, 4319, 4321], (0, 264, 118): [2596, 2598, 2600, 2895, 3281, 3592, 3594], (0, 264, 119): [3036, 3434, 4133, 4135, 4148, 4316], (0, 264, 120): [2674, 3016, 3644, 3646], (0, 264, 122): [2612, 2614, 3149], (0, 264, 123): [2639, 3129, 3131, 3133, 4283], (0, 264, 124): [2732], (0, 264, 126): [2776, 3386, 3712], (0, 264, 127): [3151, 3152, 3328, 3330, 4046], (0, 264, 128): [2641, 2693, 2844, 3092, 3714, 3716, 4281], (0, 264, 129): [2678, 2980, 3697, 3912, 3914], (0, 264, 130): [2772, 3025, 3027], (0, 264, 131): [2897, 3276, 4216, 4218], (0, 264, 133): [2849, 3056, 3355, 3357, 3359], (0, 264, 134): [2861, 3278], (0, 264, 135): [3118, 3120, 3766, 3768, 4202], (0, 264, 136): [3126, 3882], (0, 264, 137): [3774, 4160], (0, 265, 115): [2745, 2969, 2971, 3111, 3113, 3183, 3185, 3547], (0, 265, 116): [2585, 2719, 2721, 3069, 3629, 3631, 3775, 3777, 3927, 3969, 4284], (0, 265, 117): [2629, 3229, 4203, 4313], (0, 265, 118): [3591, 3593], (0, 265, 119): [2823, 2856, 2929], (0, 265, 120): [2880, 3219, 3390, 4262, 4264, 4266], (0, 265, 121): [3157, 3472], (0, 265, 122): [2931, 2933, 2935, 2937, 2975, 2977], (0, 265, 123): [3971, 4246], (0, 265, 124): [2621, 3159, 3161, 3335, 3337, 3339, 3453, 3455], (0, 265, 125): [2623, 4013, 4015, 4139, 4178], (0, 265, 126): [3416, 3418, 3420, 3422], (0, 265, 127): [2749, 2751, 2884, 2886, 2888, 3753], (0, 265, 128): [3425, 3713, 3715, 3989, 4105, 4107], (0, 265, 129): [3431, 4067], (0, 265, 130): [2709, 2711, 3293, 3295], (0, 265, 131): [2669, 2824, 2989, 3001, 3003, 3041, 3275, 4017, 4268, 4270, 4272], (0, 265, 132): [2842], (0, 265, 133): [2987, 3398, 3542], (0, 265, 134): [2999, 3691], (0, 265, 135): [3522, 3534, 3677, 4083, 4201], (0, 265, 136): [3818, 4213], (0, 265, 137): [3896, 3898, 4179], (0, 265, 138): [4307], (0, 265, 139): [4058], (0, 265, 140): [4292], (0, 266, 116): [2586, 2919, 4112], (0, 266, 118): [2743, 3481], (0, 266, 119): [3796], (0, 266, 121): [2763, 2993, 3109], (0, 266, 124): [4042], (0, 266, 125): [2997, 3301, 3872], (0, 266, 127): [2750, 2752, 3679], (0, 266, 129): [2797, 2962, 2964, 2981], (0, 266, 130): [2710, 2712, 2915, 2917], (0, 266, 131): [3681], (0, 266, 133): [3822], (0, 266, 138): [3788, 3790, 3792, 3794], (0, 267, 121): [2671], (0, 267, 123): [2735], (0, 267, 124): [2973, 3336, 3338, 3340], (0, 267, 126): [3417, 3419, 3421, 3423], (0, 267, 127): [3392, 3410], (0, 267, 133): [3545], (0, 267, 134): [3448], (0, 267, 136): [3489], (0, 268, 115): [3548], (0, 268, 117): [3582], (0, 268, 120): [3220], (0, 268, 121): [2672], (0, 268, 123): [3405], (0, 268, 124): [2974], (0, 268, 125): [2875, 3214, 3216], (0, 268, 127): [3074], (0, 268, 133): [3218, 3546], (0, 271, 115): [2852], (0, 271, 116): [3317], (0, 271, 117): [2865, 3089], (0, 271, 118): [2595, 2597, 2599, 2854], (0, 271, 120): [3015], (0, 271, 121): [2703, 3371], (0, 271, 124): [2731], (0, 271, 126): [2866, 3210], (0, 271, 128): [3091], (0, 271, 130): [2771], (0, 272, 115): [2970, 2972], (0, 272, 116): [3776, 3778], (0, 272, 117): [2609, 2630, 2793, 2794], (0, 272, 119): [2601], (0, 272, 120): [2755, 2757, 2759, 2761, 2881, 3650, 4263, 4265, 4267], (0, 272, 121): [2925, 2926, 3158], (0, 272, 122): [2611, 2613, 2932, 2934, 2936, 2938, 2976, 2978], (0, 272, 123): [3319, 3321], (0, 272, 127): [2885, 2887, 2889, 3411, 3664], (0, 272, 132): [2843], (0, 272, 133): [2988, 3055, 3399], (0, 272, 134): [3634, 3636], (0, 272, 135): [3059, 3061], (0, 273, 116): [2661, 3148], (0, 273, 117): [2716, 2718], (0, 273, 118): [3482], (0, 273, 119): [2602, 3176], (0, 273, 121): [2994], (0, 273, 125): [3302], (0, 273, 127): [3811], (0, 273, 129): [2798], (0, 273, 131): [3682], (0, 273, 135): [3884], (0, 273, 136): [2961], (0, 273, 138): [4004], (0, 274, 116): [2660, 2720, 2722, 2920, 3147], (0, 274, 117): [2715, 2717, 3581], (0, 274, 118): [2744], (0, 274, 119): [3175], (0, 274, 120): [2756, 2758, 2760, 2762], (0, 274, 121): [2764, 3110], (0, 274, 125): [2998, 4196], (0, 274, 127): [3754], (0, 274, 129): [2963, 2965, 2982], (0, 274, 130): [2916, 2918], (0, 274, 133): [3823], (0, 274, 135): [3883], (0, 274, 136): [2960, 3881], (0, 274, 138): [4003], (0, 275, 119): [3313], (0, 275, 121): [3372], (0, 275, 123): [2736, 3404], (0, 275, 127): [3073], (0, 275, 130): [3294, 3296], (0, 276, 115): [2928, 3556, 3558], (0, 276, 116): [4111, 4181, 4183], (0, 276, 117): [3230, 3807, 3809], (0, 276, 118): [3950], (0, 276, 119): [2694, 2696, 3930, 4315], (0, 276, 122): [3088], (0, 276, 123): [3856], (0, 276, 124): [4008], (0, 276, 126): [4142], (0, 276, 127): [3978, 3980, 3982], (0, 276, 131): [2990, 4215, 4217], (0, 276, 133): [3858, 3984, 3986], (0, 276, 134): [4158], (0, 276, 135): [2950, 2952, 2954, 3266, 3268], (0, 276, 136): [4051, 4053, 4055, 4057, 4214], (0, 276, 137): [3773, 3805], (0, 276, 139): [4100], (0, 277, 115): [3300], (0, 277, 116): [3699, 3701, 3703, 3705], (0, 277, 117): [3885], (0, 277, 118): [3974, 3976], (0, 277, 123): [4282], (0, 277, 126): [4098], (0, 277, 128): [4280], (0, 277, 129): [3724, 3726], (0, 277, 134): [3920], (0, 277, 135): [3495], (0, 277, 136): [3378, 3380], (0, 278, 117): [3824], (0, 278, 118): [3949], (0, 278, 119): [3795, 3929, 4147], (0, 278, 123): [3855], (0, 278, 124): [3750, 4007], (0, 278, 125): [3871], (0, 278, 126): [4141], (0, 278, 127): [3977, 3979, 3981, 4045], (0, 278, 129): [4028, 4030, 4032, 4034], (0, 278, 130): [3931], (0, 278, 133): [3983, 3985], (0, 278, 135): [3265, 3267, 3765, 3767], (0, 278, 137): [3804], (0, 278, 139): [4099], (0, 279, 115): [2746, 3184, 3186], (0, 279, 117): [4204], (0, 279, 119): [2695, 2697, 2857], (0, 279, 120): [3475], (0, 279, 123): [3320, 3322, 3972, 4247], (0, 279, 124): [2622], (0, 279, 125): [2624], (0, 279, 128): [4106, 4108], (0, 279, 130): [3932, 4020], (0, 279, 131): [2670, 2825, 3002, 3004, 4018], (0, 279, 134): [3692], (0, 279, 135): [3060, 3062], (0, 279, 136): [3490], (0, 280, 125): [2874], (0, 281, 116): [3863], (0, 281, 117): [4143, 4145], (0, 281, 120): [3389], (0, 281, 124): [3735], (0, 281, 125): [4177], (0, 281, 126): [2667, 4235], (0, 281, 127): [4169, 4171], (0, 281, 128): [3424], (0, 281, 129): [3911, 3913, 4066], (0, 281, 130): [4019], (0, 281, 134): [3919, 4157], (0, 281, 135): [3494], (0, 281, 137): [3895, 3897, 4308], (0, 281, 138): [4306], (0, 281, 139): [4173], (0, 281, 140): [4256, 4258, 4260], (0, 282, 116): [3864], (0, 282, 117): [3886], (0, 282, 124): [3736], (0, 282, 126): [2668], (0, 282, 129): [3698], (0, 285, 115): [2927, 3459, 3555, 3557], (0, 285, 117): [3806, 3808], (0, 285, 118): [3708], (0, 285, 122): [3087], (0, 285, 123): [3012], (0, 285, 124): [3749], (0, 285, 125): [3943], (0, 285, 127): [3663], (0, 285, 133): [3857], (0, 285, 135): [2949, 2951, 2953], (0, 285, 136): [3377, 3379, 4050, 4052, 4054, 4056], (0, 286, 117): [3825], (0, 286, 126): [4236], (0, 287, 115): [2853], (0, 287, 117): [3090, 3194, 3452, 4144, 4146, 4320, 4322], (0, 287, 118): [2855, 3282], (0, 287, 119): [3314, 4134, 4136], (0, 287, 122): [3150], (0, 287, 123): [3130, 3132, 3134], (0, 287, 124): [2851, 3160, 3162], (0, 287, 126): [2867, 4279], (0, 287, 127): [4170, 4172], (0, 287, 128): [2845], (0, 287, 130): [3026, 3028], (0, 287, 131): [2898], (0, 287, 133): [3356, 3358, 3360], (0, 287, 135): [4084], (0, 287, 139): [4174], (0, 287, 140): [4257, 4259, 4261], (0, 288, 120): [3689], (0, 288, 128): [4189, 4191], (0, 288, 130): [3641], (0, 288, 133): [3665, 3667], (0, 288, 135): [3678, 4290], (0, 289, 119): [2930], (0, 291, 125): [3213, 3215], (0, 291, 133): [3217], (0, 292, 115): [3299, 3563], (0, 292, 116): [4285], (0, 292, 118): [3007, 3009, 3707, 3973, 3975], (0, 292, 120): [3474, 3649], (0, 292, 121): [3473], (0, 292, 122): [3341, 3408], (0, 292, 123): [3011], (0, 292, 124): [4041], (0, 292, 125): [3412, 4014, 4016, 4140, 4195], (0, 292, 126): [4097, 4278], (0, 292, 127): [3810], (0, 292, 128): [3297, 3990], (0, 292, 129): [3723, 3725], (0, 292, 133): [3543], (0, 292, 134): [3633, 3635], (0, 292, 136): [3819, 3933, 3935], (0, 292, 137): [4159, 4180], (0, 292, 138): [3787, 3789, 3791, 3793, 3945], (0, 292, 139): [4059], (0, 292, 140): [4293], (0, 293, 116): [3700, 3702, 3704, 3706], (0, 293, 118): [3008, 3010], (0, 293, 122): [3409], (0, 293, 124): [3454, 3456], (0, 293, 125): [3413, 3944], (0, 293, 128): [3298], (0, 293, 131): [4269, 4271, 4273], (0, 293, 134): [4219, 4221], (0, 293, 136): [3934, 3936], (0, 293, 138): [3946], (0, 296, 122): [3342], (0, 297, 115): [3524], (0, 297, 117): [3595], (0, 297, 120): [3643, 3645], (0, 299, 120): [3690], (0, 299, 127): [3680], (0, 299, 128): [4190, 4192], (0, 299, 130): [3642], (0, 299, 133): [3666, 3668], (0, 299, 134): [4220, 4222], (0, 299, 135): [4291], (0, 299, 137): [4309], (1, 1, 1): [1], (1, 10, 0): [21], (1, 22, 13): [185], (1, 22, 15): [290], (1, 22, 20): [687, 704], (1, 25, 14): [413], (1, 25, 18): [525, 544], (1, 25, 21): [751], (1, 28, 11): [99], (1, 32, 11): [64], (1, 39, 9): [103], (1, 41, 10): [246], (1, 41, 14): [521], (1, 42, 10): [121], (1, 45, 13): [184], (1, 47, 10): [143], (1, 48, 14): [180], (1, 52, 14): [412], (1, 54, 10): [218], (1, 57, 10): [323], (1, 58, 14): [216, 217], (1, 59, 21): [644, 764], (1, 62, 20): [431, 793], (1, 63, 14): [551], (1, 63, 20): [688], (1, 63, 21): [601, 743], (1, 65, 22): [720], (1, 66, 14): [496, 497], (1, 68, 14): [445], (1, 68, 21): [565], (1, 68, 23): [832], (1, 68, 25): [854], (1, 68, 28): [888], (1, 69, 18): [708], (1, 69, 22): [693], (1, 69, 46): [1233], (1, 69, 48): [1346], (1, 71, 19): [752], (1, 73, 84): [2182], (1, 77, 23): [833], (1, 83, 23): [820], (1, 89, 25): [852], (1, 90, 25): [853], (1, 91, 25): [855], (1, 92, 25): [856], (1, 94, 28): [861], (1, 96, 31): [878], (1, 130, 49): [1340], (1, 135, 46): [1059], (1, 135, 48): [1348], (1, 141, 48): [1347], (1, 143, 46): [1234], (1, 143, 48): [1368], (1, 150, 49): [1339], (1, 155, 48): [1367], (1, 161, 51): [1537], (1, 164, 55): [1650], (1, 165, 55): [1651], (1, 169, 51): [1538], (1, 172, 55): [1667], (1, 178, 57): [1655], (1, 179, 57): [1654], (1, 192, 73): [1831], (1, 194, 64): [1707], (1, 195, 62): [1742], (1, 199, 72): [1748], (1, 201, 73): [1927], (1, 201, 74): [1877, 1878], (1, 201, 78): [1957], (1, 202, 74): [1773, 1774], (1, 210, 74): [1786], (1, 212, 75): [2006], (1, 212, 81): [2104], (1, 214, 74): [1870], (1, 214, 75): [1946, 1990], (1, 214, 78): [1964], (1, 214, 86): [2303], (1, 216, 78): [1991], (1, 216, 83): [2075], (1, 216, 88): [2339], (1, 221, 82): [2155, 2178], (1, 222, 83): [2204], (1, 225, 84): [2493], (1, 225, 86): [2502], (1, 225, 87): [2387], (1, 234, 92): [2525, 2526], (1, 237, 94): [2530], (1, 241, 98): [2534], (1, 253, 113): [2578], (1, 256, 101): [2568], (1, 263, 123): [3638], (1, 263, 131): [3755], (1, 264, 136): [3239], (1, 265, 119): [3573], (1, 265, 121): [2644, 2801], (1, 265, 122): [3441], (1, 265, 124): [3540, 4129], (1, 265, 126): [3797], (1, 265, 127): [3504], (1, 265, 135): [3143], (1, 265, 137): [3733, 3947], (1, 266, 116): [3349], (1, 266, 119): [3083], (1, 266, 123): [2924], (1, 266, 129): [4114], (1, 266, 131): [3506, 3756], (1, 267, 117): [2587], (1, 267, 118): [3173], (1, 267, 129): [3171], (1, 268, 117): [2588], (1, 268, 119): [3584], (1, 268, 135): [3144], (1, 271, 134): [3031], (1, 272, 120): [4121], (1, 272, 121): [2802], (1, 272, 131): [3181], (1, 272, 134): [3426], (1, 272, 136): [3243], (1, 274, 119): [3084], (1, 274, 121): [2645], (1, 274, 131): [3507], (1, 274, 134): [3890], (1, 275, 118): [3174], (1, 275, 129): [3172], (1, 275, 132): [3269], (1, 276, 120): [2666, 4122], (1, 276, 129): [4113], (1, 276, 134): [3427], (1, 276, 136): [3244], (1, 278, 119): [3583], (1, 278, 120): [2665], (1, 278, 123): [2923], (1, 278, 134): [3889], (1, 278, 135): [3669], (1, 279, 115): [3324], (1, 279, 119): [3574], (1, 279, 127): [3505], (1, 279, 131): [3182], (1, 279, 137): [3734, 3948], (1, 281, 119): [3498], (1, 281, 123): [3637, 4035], (1, 281, 128): [2739, 3553], (1, 282, 119): [3499], (1, 282, 123): [4036], (1, 282, 124): [3541], (1, 282, 128): [2740, 3554], (1, 282, 130): [2879], (1, 285, 129): [3414], (1, 287, 122): [3442], (1, 287, 124): [4130], (1, 287, 134): [3032], (1, 287, 135): [3670], (1, 287, 136): [3240], (1, 288, 130): [2878], (1, 292, 123): [3893], (1, 292, 126): [4123, 4125], (1, 293, 126): [4124, 4126], (1, 293, 129): [3415], (1, 294, 116): [3350], (1, 294, 132): [3270], (1, 295, 115): [3323], (1, 299, 123): [3894], (2, 2, 1): [3], (2, 3, 1): [4], (2, 4, 1): [6], (2, 5, 1): [7], (2, 5, 4): [25], (2, 5, 23): [823], (2, 6, 1): [8], (2, 10, 2): [27], (2, 10, 35): [942], (2, 12, 4): [24], (2, 12, 14): [613, 619], (2, 12, 18): [633], (2, 12, 21): [646], (2, 12, 22): [695], (2, 12, 46): [1089], (2, 13, 0): [26], (2, 13, 4): [28, 29], (2, 14, 19): [808], (2, 14, 20): [772], (2, 18, 5): [43, 44], (2, 18, 6): [45], (2, 21, 51): [1489, 1491, 1516], (2, 21, 54): [1499, 1628], (2, 21, 55): [1502, 1504], (2, 21, 60): [1670, 1671], (2, 22, 9): [51], (2, 22, 10): [203, 204, 295, 310, 371, 390], (2, 22, 12): [88, 225], (2, 22, 13): [127, 284], (2, 22, 14): [258, 353, 354, 355, 423, 427, 428, 444, 491], (2, 22, 15): [298], (2, 22, 18): [527, 668], (2, 22, 19): [458, 637], (2, 22, 21): [605, 689, 748], (2, 22, 22): [705], (2, 24, 10): [53], (2, 24, 14): [123, 171], (2, 25, 10): [82], (2, 25, 12): [76], (2, 25, 13): [234, 235], (2, 25, 14): [233], (2, 25, 16): [287], (2, 25, 19): [825], (2, 27, 11): [79], (2, 28, 10): [74], (2, 28, 11): [77], (2, 28, 12): [67, 68], (2, 29, 10): [83], (2, 30, 10): [62, 113, 115], (2, 31, 10): [181], (2, 32, 11): [69], (2, 33, 11): [66], (2, 34, 10): [72], (2, 35, 10): [125], (2, 35, 14): [169], (2, 36, 10): [160], (2, 36, 12): [87], (2, 36, 14): [122], (2, 37, 10): [126], (2, 37, 12): [95, 108], (2, 37, 13): [130], (2, 37, 14): [140, 154], (2, 38, 11): [98], (2, 39, 10): [193, 205, 215, 341, 342], (2, 39, 13): [227, 286, 293], (2, 39, 16): [299, 300, 340], (2, 40, 13): [159], (2, 41, 10): [114, 116, 189, 191, 301, 313, 335], (2, 41, 12): [117, 207], (2, 41, 13): [244, 255, 257], (2, 41, 14): [132, 228, 229, 247, 322, 382, 457, 478, 552, 553, 563, 564], (2, 41, 15): [297], (2, 41, 16): [311, 319], (2, 41, 17): [321, 392, 393, 394, 400, 401], (2, 41, 18): [443, 519, 666], (2, 41, 19): [439, 505], (2, 41, 20): [451, 452, 558], (2, 41, 21): [691], (2, 42, 10): [219, 230], (2, 42, 12): [208, 226], (2, 42, 13): [131, 267], (2, 42, 16): [281], (2, 43, 10): [124], (2, 44, 14): [129], (2, 46, 13): [161], (2, 46, 15): [168], (2, 46, 20): [728], (2, 47, 12): [157], (2, 48, 12): [135], (2, 48, 14): [210], (2, 49, 10): [158], (2, 49, 14): [137, 138, 156], (2, 50, 14): [139], (2, 51, 13): [146], (2, 52, 19): [447, 811], (2, 52, 21): [541, 773], (2, 53, 10): [155, 188], (2, 54, 10): [167, 220, 262], (2, 54, 13): [245, 279, 280], (2, 56, 14): [248], (2, 56, 17): [344, 345], (2, 57, 10): [192, 309], (2, 57, 12): [197], (2, 58, 13): [272, 273, 274], (2, 58, 16): [372, 378, 405], (2, 59, 14): [473, 594], (2, 59, 19): [453], (2, 59, 21): [546], (2, 59, 23): [838], (2, 61, 13): [263], (2, 61, 37): [1027], (2, 62, 19): [536, 821], (2, 62, 21): [537], (2, 63, 14): [373, 532, 612], (2, 63, 21): [694], (2, 64, 14): [623], (2, 64, 16): [410, 411], (2, 64, 18): [599, 600], (2, 64, 21): [611], (2, 64, 22): [729], (2, 64, 23): [803], (2, 65, 14): [526, 549], (2, 65, 20): [456], (2, 65, 21): [698], (2, 65, 22): [697], (2, 65, 23): [837], (2, 66, 14): [620], (2, 66, 16): [414], (2, 66, 18): [492, 702], (2, 66, 19): [502, 845], (2, 66, 20): [489, 503, 504, 606], (2, 66, 21): [589], (2, 67, 16): [419], (2, 67, 18): [499], (2, 68, 20): [727], (2, 68, 29): [881], (2, 68, 31): [931, 933], (2, 69, 18): [650, 801], (2, 69, 19): [579], (2, 69, 20): [760], (2, 69, 21): [798], (2, 69, 47): [1317], (2, 69, 49): [1408], (2, 71, 22): [717], (2, 72, 18): [659], (2, 72, 19): [744], (2, 72, 21): [805], (2, 72, 23): [836], (2, 73, 23): [846], (2, 73, 78): [1999], (2, 73, 79): [2045], (2, 73, 83): [2141, 2202, 2306], (2, 73, 86): [2268, 2269], (2, 73, 87): [2357], (2, 74, 23): [839], (2, 75, 19): [844], (2, 76, 19): [768, 830], (2, 78, 18): [779], (2, 79, 19): [802], (2, 80, 23): [804], (2, 85, 24): [847], (2, 85, 31): [895], (2, 86, 24): [848], (2, 86, 32): [891], (2, 87, 25): [849], (2, 87, 33): [897], (2, 88, 26): [850, 851], (2, 88, 29): [864, 865], (2, 88, 30): [889], (2, 88, 31): [876, 896, 919, 920], (2, 88, 35): [927, 948, 985, 989], (2, 88, 36): [918, 977], (2, 89, 27): [857], (2, 91, 25): [862], (2, 91, 35): [950, 966, 968, 974, 976], (2, 92, 27): [859], (2, 92, 33): [899], (2, 93, 27): [858], (2, 95, 25): [863], (2, 96, 30): [867], (2, 97, 31): [883], (2, 98, 31): [884], (2, 99, 31): [882], (2, 101, 32): [892], (2, 102, 30): [893], (2, 103, 30): [894], (2, 103, 31): [905], (2, 103, 36): [935, 978], (2, 103, 44): [1038, 1039], (2, 104, 33): [898], (2, 106, 31): [906], (2, 106, 36): [936], (2, 108, 31): [932, 934], (2, 109, 35): [928], (2, 109, 55): [1526, 1528], (2, 110, 35): [952], (2, 111, 35): [941], (2, 115, 35): [949, 951, 965, 967, 973, 975, 984, 988, 1002, 1004, 1016], (2, 115, 36): [1012, 1014], (2, 116, 43): [1024], (2, 120, 35): [1003, 1005, 1017], (2, 120, 36): [1013, 1015], (2, 121, 37): [1011], (2, 122, 43): [1040], (2, 125, 37): [1031], (2, 127, 60): [1672], (2, 128, 37): [1041], (2, 130, 46): [1288, 1290], (2, 130, 47): [1415, 1429], (2, 130, 48): [1294, 1370, 1372], (2, 130, 49): [1385, 1387], (2, 131, 46): [1178], (2, 131, 47): [1261, 1263], (2, 131, 48): [1209], (2, 133, 45): [1123], (2, 133, 46): [1164], (2, 133, 47): [1113, 1152, 1211, 1213, 1230, 1239], (2, 133, 48): [1125], (2, 134, 45): [1084, 1107], (2, 134, 47): [1078, 1102, 1142], (2, 135, 45): [1072, 1073], (2, 135, 46): [1177, 1269], (2, 135, 47): [1318, 1443], (2, 135, 48): [1145, 1286, 1300], (2, 135, 49): [1350, 1409, 1413], (2, 136, 45): [1095, 1101, 1124], (2, 136, 46): [1083, 1087, 1088, 1165], (2, 136, 47): [1060, 1079, 1114, 1116, 1167, 1171, 1180], (2, 136, 48): [1126, 1172], (2, 138, 45): [1090, 1092], (2, 138, 46): [1176], (2, 138, 47): [1277, 1279, 1310], (2, 138, 48): [1149, 1205, 1217, 1274, 1276, 1379], (2, 138, 49): [1352, 1354], (2, 139, 45): [1091, 1093], (2, 140, 46): [1071], (2, 140, 47): [1155, 1157], (2, 141, 46): [1070, 1306], (2, 141, 47): [1278, 1280], (2, 141, 48): [1173, 1219, 1285, 1299, 1308], (2, 141, 49): [1349, 1412], (2, 142, 45): [1094, 1100], (2, 142, 46): [1086], (2, 142, 47): [1141, 1220, 1222], (2, 143, 46): [1179, 1270, 1272], (2, 143, 47): [1154, 1156, 1212, 1214, 1314, 1345, 1403, 1417, 1419], (2, 143, 48): [1210, 1360, 1407], (2, 143, 49): [1421], (2, 144, 46): [1082], (2, 144, 47): [1127, 1129, 1131, 1182, 1184, 1186, 1188, 1361, 1363, 1365], (2, 145, 45): [1085], (2, 146, 45): [1104, 1108], (2, 146, 46): [1271], (2, 146, 47): [1103, 1115, 1128, 1130, 1132, 1153, 1166, 1240], (2, 146, 48): [1218], (2, 147, 46): [1305], (2, 147, 47): [1170, 1309, 1414, 1428], (2, 147, 48): [1148, 1204, 1378, 1430, 1432], (2, 147, 49): [1351, 1353], (2, 149, 47): [1181, 1221, 1223], (2, 149, 48): [1251], (2, 150, 46): [1287, 1289], (2, 150, 47): [1232, 1244], (2, 150, 48): [1250, 1293, 1369, 1371, 1377, 1399], (2, 150, 49): [1391], (2, 151, 47): [1183, 1185, 1187, 1189, 1245, 1262, 1264], (2, 152, 48): [1273, 1275, 1431, 1433], (2, 153, 47): [1231], (2, 154, 47): [1246], (2, 155, 47): [1313, 1442], (2, 155, 48): [1307, 1398], (2, 155, 49): [1384, 1386, 1420], (2, 156, 47): [1416, 1418], (2, 156, 48): [1359, 1406], (2, 157, 47): [1344, 1362, 1364, 1366, 1402], (2, 157, 49): [1393], (2, 157, 50): [1445], (2, 158, 49): [1392], (2, 159, 50): [1444], (2, 160, 50): [1446], (2, 161, 51): [1474, 1476, 1495], (2, 161, 52): [1469, 1471], (2, 161, 54): [1483, 1485], (2, 162, 51): [1466], (2, 162, 54): [1512], (2, 163, 51): [1488, 1490, 1539, 1541], (2, 163, 54): [1498], (2, 164, 51): [1585, 1587], (2, 164, 53): [1617], (2, 164, 57): [1634, 1636], (2, 165, 51): [1467, 1586, 1588, 1598, 1626], (2, 165, 54): [1513], (2, 165, 55): [1653], (2, 166, 51): [1494], (2, 166, 52): [1468, 1470], (2, 166, 54): [1482, 1484], (2, 166, 55): [1557], (2, 167, 54): [1493], (2, 168, 51): [1475, 1477, 1607, 1609, 1643], (2, 168, 55): [1569, 1591], (2, 168, 57): [1633, 1635], (2, 169, 51): [1608, 1610], (2, 169, 53): [1530], (2, 170, 53): [1618], (2, 170, 54): [1492], (2, 170, 55): [1652], (2, 171, 51): [1517], (2, 171, 55): [1503, 1505], (2, 172, 51): [1540, 1542], (2, 172, 55): [1570, 1592], (2, 172, 57): [1623], (2, 173, 51): [1597], (2, 173, 55): [1550], (2, 173, 56): [1620], (2, 173, 57): [1624], (2, 174, 55): [1549], (2, 175, 53): [1529], (2, 175, 55): [1525, 1527, 1565], (2, 176, 51): [1563], (2, 176, 54): [1627], (2, 176, 56): [1619], (2, 177, 51): [1564, 1625, 1657], (2, 177, 55): [1558, 1566], (2, 178, 51): [1645], (2, 179, 51): [1644], (2, 179, 59): [1663, 1664], (2, 180, 51): [1656], (2, 180, 56): [1660, 1661], (2, 181, 55): [1665, 1666], (2, 181, 58): [1669], (2, 182, 60): [1673], (2, 184, 62): [1700, 1730, 1741], (2, 184, 63): [1676, 1692, 1693], (2, 184, 65): [1712], (2, 184, 66): [1703], (2, 184, 67): [1726, 1732], (2, 185, 62): [1677, 1738], (2, 185, 63): [1701], (2, 185, 66): [1698, 1699, 1714], (2, 185, 67): [1724, 1734, 1737], (2, 186, 63): [1680], (2, 187, 62): [1682, 1683, 1686, 1687, 1688], (2, 187, 63): [1690], (2, 188, 62): [1684], (2, 188, 64): [1696], (2, 188, 69): [1720], (2, 189, 62): [1689, 1694, 1702], (2, 189, 64): [1713], (2, 190, 62): [1691], (2, 190, 68): [1709], (2, 192, 62): [1729, 1736], (2, 192, 73): [1758, 1759, 1770, 1801, 1802, 1813, 1841], (2, 192, 82): [2161, 2181], (2, 192, 83): [2136, 2160, 2201, 2207, 2208], (2, 192, 86): [2218, 2307], (2, 192, 89): [2352, 2409, 2470], (2, 192, 90): [2512], (2, 194, 63): [1706], (2, 195, 62): [1739, 1740], (2, 196, 70): [1744], (2, 197, 72): [1747], (2, 199, 73): [1908, 1953, 1954, 1962], (2, 199, 77): [1860, 1865, 1974], (2, 199, 79): [2027], (2, 199, 81): [2074, 2085], (2, 199, 82): [2112, 2132, 2146, 2183], (2, 199, 83): [2243], (2, 199, 84): [2197], (2, 200, 73): [1752, 1753], (2, 200, 74): [1867, 1868], (2, 200, 75): [1755, 1756], (2, 200, 77): [1861, 1862], (2, 201, 73): [1857, 1911, 1943, 1944, 1945, 1950], (2, 201, 74): [1754], (2, 201, 75): [1956, 2008], (2, 201, 77): [1863, 1864, 1896, 1898], (2, 201, 78): [2007], (2, 201, 83): [2159], (2, 201, 84): [2200, 2263, 2272], (2, 201, 85): [2189, 2191], (2, 201, 86): [2288, 2332], (2, 201, 87): [2399, 2410], (2, 201, 89): [2382, 2396, 2404, 2405, 2406, 2407, 2416, 2433], (2, 202, 73): [1881, 1882], (2, 202, 74): [1757, 1869], (2, 202, 77): [1796, 1847, 1884], (2, 203, 83): [2250], (2, 203, 85): [2192], (2, 203, 86): [2373], (2, 203, 89): [2499], (2, 204, 74): [1781, 1782], (2, 205, 73): [1775, 1808, 1811, 1812, 1822, 1823], (2, 205, 74): [1777, 1816, 1827], (2, 205, 75): [1780], (2, 205, 77): [1866], (2, 206, 73): [1807], (2, 206, 74): [1810], (2, 206, 77): [1788], (2, 207, 73): [1769], (2, 207, 74): [1768, 1817], (2, 208, 73): [1836, 1942], (2, 208, 74): [1806], (2, 208, 75): [2025], (2, 208, 79): [2013, 2014], (2, 208, 82): [2073, 2117, 2157], (2, 208, 83): [2097], (2, 208, 84): [2273], (2, 208, 86): [2252, 2321, 2322], (2, 208, 89): [2435, 2446, 2453, 2454], (2, 209, 73): [1858, 1859, 1886, 1887], (2, 210, 74): [1829], (2, 211, 73): [1826, 1832, 1892, 1917, 1955, 1969], (2, 211, 74): [1799, 1800, 1855, 1856, 1933], (2, 211, 75): [1986], (2, 211, 77): [1910], (2, 211, 79): [2044], (2, 211, 80): [2042], (2, 211, 82): [2139, 2145], (2, 211, 83): [2105, 2195, 2206, 2251, 2255, 2260, 2261], (2, 211, 84): [2150, 2169, 2170, 2222, 2244], (2, 211, 86): [2245], (2, 212, 73): [1961], (2, 212, 74): [1912], (2, 212, 75): [1988, 1989], (2, 212, 78): [2011], (2, 212, 79): [2026], (2, 212, 82): [2106, 2140], (2, 212, 83): [2153, 2193], (2, 212, 84): [2365, 2386], (2, 212, 87): [2458], (2, 212, 89): [2395, 2520], (2, 212, 90): [2490], (2, 214, 73): [1880], (2, 214, 80): [2043], (2, 214, 81): [2086], (2, 214, 82): [2144, 2165, 2166], (2, 214, 83): [2124, 2125, 2129], (2, 216, 84): [2164, 2179], (2, 216, 86): [2219, 2220, 2297], (2, 216, 87): [2383], (2, 216, 88): [2482], (2, 216, 89): [2449], (2, 217, 73): [1958, 1960, 1984], (2, 217, 75): [1978, 2002, 2023, 2024], (2, 217, 79): [2048], (2, 217, 81): [2051, 2084], (2, 218, 82): [2091], (2, 220, 81): [2083], (2, 221, 82): [2123, 2163], (2, 221, 84): [2147, 2248, 2254, 2305, 2331], (2, 222, 82): [2151], (2, 222, 83): [2180, 2185, 2194], (2, 222, 84): [2148, 2149, 2234, 2425], (2, 222, 86): [2328], (2, 222, 87): [2398, 2455], (2, 222, 89): [2358, 2359, 2408, 2451, 2468], (2, 223, 83): [2265, 2282, 2283, 2310], (2, 223, 84): [2226, 2227, 2228, 2286], (2, 223, 86): [2229, 2230, 2231], (2, 223, 87): [2329], (2, 223, 89): [2391], (2, 224, 84): [2364], (2, 224, 87): [2477], (2, 225, 84): [2403], (2, 225, 86): [2495], (2, 225, 87): [2472], (2, 225, 89): [2469], (2, 226, 86): [2267], (2, 228, 83): [2311], (2, 228, 84): [2302], (2, 228, 87): [2374, 2445], (2, 228, 89): [2457, 2461, 2462, 2487, 2488, 2500, 2501], (2, 228, 90): [2491, 2492], (2, 229, 84): [2363], (2, 230, 88): [2402], (2, 230, 89): [2400], (2, 231, 87): [2450], (2, 237, 98): [2574], (2, 238, 95): [2531], (2, 238, 101): [2576], (2, 238, 108): [2556, 2570], (2, 239, 96): [2532], (2, 240, 97): [2533], (2, 241, 94): [2561], (2, 241, 105): [2563], (2, 243, 99): [2539], (2, 244, 96): [2540], (2, 246, 104): [2544], (2, 246, 112): [2581], (2, 247, 95): [2546], (2, 250, 109): [2557], (2, 251, 94): [2580], (2, 253, 107): [2555], (2, 254, 101): [2562], (2, 257, 97): [2569], (2, 258, 99): [2572, 2573], (2, 259, 103): [2575], (2, 260, 112): [2577], (2, 261, 114): [2579], (2, 262, 109): [2582], (2, 263, 118): [3430], (2, 263, 127): [4012], (2, 263, 129): [3137, 3438, 3440, 3846], (2, 263, 130): [3476], (2, 263, 133): [4252], (2, 264, 115): [3562], (2, 264, 117): [3770], (2, 264, 120): [3772, 3907], (2, 264, 126): [3958], (2, 264, 128): [3960, 3962], (2, 264, 131): [4120], (2, 264, 133): [3463, 3465, 3661], (2, 264, 134): [4116], (2, 264, 135): [3628], (2, 264, 138): [3820], (2, 264, 139): [4312], (2, 265, 115): [2846, 3225, 3388, 3449], (2, 265, 116): [2643, 2700, 3468, 3923, 3925], (2, 265, 117): [2913, 3127, 3721], (2, 265, 118): [2738, 2779, 3751, 4239], (2, 265, 119): [3196, 4298], (2, 265, 120): [2708, 2890, 3237, 3603], (2, 265, 121): [2615, 2955, 3491], (2, 265, 124): [3901], (2, 265, 125): [3169, 3255, 3835], (2, 265, 126): [2658, 3621], (2, 265, 127): [2816, 2818, 3609, 3653, 3747, 3851, 3853], (2, 265, 128): [2725, 3207, 3510], (2, 265, 129): [2807, 2991, 3343, 3345], (2, 265, 130): [3251, 3253, 3354, 3939], (2, 265, 131): [2713, 2939, 3099, 3105, 3395], (2, 265, 132): [3051, 3187, 3189], (2, 265, 133): [3167, 3743, 3745, 3951, 4310], (2, 265, 134): [2947, 3115, 4156], (2, 265, 135): [3577, 3579, 3601, 3991], (2, 265, 136): [3136, 3717, 3759, 3800, 3833, 4240], (2, 265, 138): [3937, 4109], (2, 266, 115): [2896], (2, 266, 119): [2806, 4299], (2, 266, 120): [3604], (2, 266, 121): [2811, 2813, 2956], (2, 266, 123): [2799, 3869], (2, 266, 125): [4231], (2, 266, 127): [3232, 3234], (2, 266, 128): [3657, 3831, 4302], (2, 266, 129): [2647], (2, 266, 131): [2747, 2748, 2837, 3483, 3565], (2, 266, 132): [3038, 3040], (2, 266, 134): [4115, 4300], (2, 266, 135): [3602, 3859], (2, 266, 137): [3761], (2, 266, 138): [3938], (2, 267, 115): [2590, 2698, 3045], (2, 267, 116): [2593], (2, 267, 117): [2591, 2686], (2, 267, 118): [2941], (2, 267, 119): [2627], (2, 267, 120): [3141, 3587], (2, 267, 121): [2607, 3514], (2, 267, 122): [2985], (2, 267, 123): [3145], (2, 267, 126): [2625], (2, 267, 129): [2704, 3259], (2, 267, 131): [2714], (2, 267, 132): [2832, 2834], (2, 267, 136): [3019, 3021], (2, 268, 115): [3046, 3226], (2, 268, 117): [2687], (2, 268, 118): [2831], (2, 268, 119): [3054], (2, 268, 120): [2606, 3588], (2, 268, 121): [2608, 3290, 3292, 3515], (2, 268, 122): [2683, 2986], (2, 268, 124): [2836, 3306, 3479], (2, 268, 127): [2681], (2, 268, 128): [2873], (2, 268, 129): [2766, 2768], (2, 268, 130): [2827, 3165], (2, 268, 131): [3286], (2, 268, 132): [2833, 2835], (2, 268, 136): [3020, 3022], (2, 269, 115): [2589], (2, 270, 116): [2594], (2, 270, 117): [2592], (2, 270, 125): [2656], (2, 270, 129): [2705], (2, 270, 130): [2655], (2, 271, 124): [3163], (2, 271, 125): [3256], (2, 271, 126): [3235], (2, 271, 127): [2773, 3033, 3257], (2, 271, 128): [3208], (2, 271, 129): [3260], (2, 271, 132): [3029], (2, 272, 115): [2699, 3250], (2, 272, 116): [3469, 3763, 3842, 4063, 4167], (2, 272, 117): [2769, 2892, 3569, 3571, 3814], (2, 272, 118): [2780, 3651, 3752], (2, 272, 120): [2891, 2905, 3142, 3576, 4005, 4207], (2, 272, 121): [2616], (2, 272, 122): [3283], (2, 272, 124): [2911, 3305], (2, 272, 125): [2777], (2, 272, 126): [4138], (2, 272, 127): [3654, 3748, 3852, 3854, 4068], (2, 272, 128): [2726, 3511, 3537, 3959, 3961], (2, 272, 129): [2646, 2765, 2767, 2808, 2992, 3916], (2, 272, 130): [3101], (2, 272, 131): [3100, 3106], (2, 272, 132): [3095, 3443, 3445], (2, 272, 133): [3097, 3280, 3744, 3746, 4289, 4311], (2, 272, 134): [3116, 3779, 3843, 3995, 4064, 4186, 4199], (2, 272, 135): [3058, 3578, 3580], (2, 272, 136): [3676, 3760], (2, 272, 137): [4248], (2, 273, 116): [2839], (2, 273, 122): [2959], (2, 273, 125): [4232], (2, 273, 126): [3830], (2, 273, 127): [4226], (2, 273, 128): [3832], (2, 273, 129): [3998], (2, 273, 132): [3364, 3366], (2, 273, 133): [3662], (2, 274, 116): [2838, 2966, 3307, 3918, 4022, 4024], (2, 274, 117): [2914], (2, 274, 119): [3311], (2, 274, 120): [3309, 3876], (2, 274, 121): [2812, 2814], (2, 274, 123): [2800, 2910, 3870, 4305], (2, 274, 124): [2649, 2651, 2653], (2, 274, 125): [3803], (2, 274, 126): [3829], (2, 274, 127): [3610, 4225], (2, 274, 128): [3658, 4303], (2, 274, 129): [3997], (2, 274, 131): [3566, 3612], (2, 274, 132): [3363, 3365, 3486], (2, 274, 133): [4228, 4253], (2, 274, 134): [3261, 3263, 4301], (2, 274, 136): [3370], (2, 274, 137): [3762, 3874], (2, 275, 117): [2691], (2, 275, 118): [2942], (2, 275, 119): [2628, 3493], (2, 275, 120): [2605, 3238], (2, 275, 121): [3492], (2, 275, 123): [3146], (2, 275, 124): [2648, 2650, 2652], (2, 275, 126): [3236], (2, 275, 127): [2680, 3258], (2, 275, 128): [2872], (2, 275, 130): [2826], (2, 275, 131): [2940], (2, 276, 117): [2663, 2863, 3272, 3274, 3406, 3570, 4070], (2, 276, 118): [3608, 4102], (2, 276, 119): [3955, 4072], (2, 276, 120): [3771], (2, 276, 122): [2664, 2796, 3156], (2, 276, 123): [2957, 3626], (2, 276, 124): [4243], (2, 276, 125): [3352, 3730], (2, 276, 126): [2675, 3018, 3154, 4049, 4074], (2, 276, 127): [3231, 3233, 4104, 4118], (2, 276, 128): [3879, 4076, 4318], (2, 276, 129): [3397, 3532, 3892, 3922, 4250], (2, 276, 130): [3539], (2, 276, 132): [3382, 3429], (2, 276, 133): [3906], (2, 276, 134): [4164], (2, 276, 135): [3304], (2, 276, 136): [4165], (2, 276, 138): [3838, 3954], (2, 277, 115): [2847], (2, 277, 116): [3228], (2, 277, 117): [3815, 3840, 4297], (2, 277, 118): [4009], (2, 277, 119): [3956], (2, 277, 122): [3284], (2, 277, 123): [2958, 3727], (2, 277, 124): [3044], (2, 277, 125): [3222], (2, 277, 126): [2659, 3868], (2, 277, 129): [3533], (2, 277, 130): [3783], (2, 277, 133): [3496, 3585], (2, 277, 135): [3224, 3686, 3731, 4295], (2, 277, 136): [3200], (2, 277, 137): [4249], (2, 278, 116): [3924, 3926], (2, 278, 117): [2662, 2690, 2862, 3271, 3273, 3572, 4069, 4296], (2, 278, 118): [2830, 3607, 4101], (2, 278, 119): [2805, 4071, 4206], (2, 278, 120): [3826, 3875, 4208], (2, 278, 122): [2682, 2795, 3155], (2, 278, 123): [4304], (2, 278, 124): [3531, 3567, 3590], (2, 278, 125): [3351, 3729], (2, 278, 126): [2676, 3017, 3153, 4048, 4073], (2, 278, 127): [4078, 4103, 4117], (2, 278, 128): [2679, 2904, 4075], (2, 278, 129): [3921, 4161, 4287], (2, 278, 130): [3102], (2, 278, 131): [3285, 4119], (2, 278, 132): [3381, 3428, 3485], (2, 278, 133): [3781, 3905], (2, 278, 134): [3996, 4163], (2, 278, 135): [3303], (2, 278, 137): [3873], (2, 278, 138): [3953], (2, 279, 115): [3450], (2, 279, 116): [4168], (2, 279, 117): [3722], (2, 279, 118): [3652, 3888], (2, 279, 125): [2778], (2, 279, 126): [3622], (2, 279, 128): [3559, 3624], (2, 279, 129): [3344, 3346, 4162], (2, 279, 130): [3394], (2, 279, 132): [3052, 3096, 3188, 3190, 3444, 3446], (2, 279, 133): [3098], (2, 279, 134): [2948, 3780, 4065], (2, 279, 136): [3801, 3834, 4241], (2, 279, 138): [4255], (2, 280, 117): [2770], (2, 280, 126): [2626], (2, 281, 115): [3387], (2, 281, 116): [2634, 2642, 4021, 4023], (2, 281, 117): [4233], (2, 281, 118): [2737, 3887, 4187], (2, 281, 119): [2868, 2870, 3195, 3613, 3615, 3617, 3619], (2, 281, 120): [2636, 3899, 4153], (2, 281, 122): [3400], (2, 281, 123): [2727, 2729, 3487], (2, 281, 124): [3530, 3719, 4242], (2, 281, 125): [4079], (2, 281, 126): [2821, 3245, 3671, 3957, 4137, 4209], (2, 281, 127): [2815, 2817, 4011, 4077], (2, 281, 128): [3549, 3551, 3623], (2, 281, 129): [3915], (2, 281, 130): [2803, 3353, 3393], (2, 281, 131): [3673], (2, 281, 133): [2945], (2, 281, 134): [3373, 3528, 4025, 4155], (2, 281, 135): [3597], (2, 281, 136): [3135, 3675], (2, 281, 137): [3861, 3941], (2, 281, 138): [4081, 4254], (2, 282, 116): [2635], (2, 282, 117): [4234], (2, 282, 118): [4188], (2, 282, 119): [2869, 2871, 3614, 3616, 3618, 3620], (2, 282, 120): [2637, 3248, 3458, 3900, 3908, 4154], (2, 282, 122): [3401], (2, 282, 123): [2728, 2730, 3488], (2, 282, 124): [3720], (2, 282, 126): [2822, 3246, 3672, 4210], (2, 282, 127): [3904], (2, 282, 128): [3550, 3552, 4128], (2, 282, 129): [3509], (2, 282, 130): [2804], (2, 282, 134): [3374, 3529, 4026], (2, 282, 135): [3992], (2, 282, 136): [4150], (2, 282, 137): [3862, 3942], (2, 282, 138): [4082], (2, 283, 130): [2654], (2, 284, 125): [2657], (2, 285, 115): [3249], (2, 285, 116): [2701, 4062], (2, 285, 117): [3769], (2, 285, 118): [3241], (2, 285, 119): [3333, 3816, 4205], (2, 285, 123): [3625], (2, 285, 124): [3589, 3902], (2, 285, 125): [3221], (2, 285, 127): [3367], (2, 285, 128): [2903, 4317], (2, 285, 129): [3396, 3600, 3891], (2, 285, 130): [3252, 3254], (2, 285, 131): [3964], (2, 285, 133): [4288], (2, 285, 134): [4185], (2, 285, 135): [3057, 3685, 3966, 3968], (2, 285, 136): [3199], (2, 285, 137): [4060], (2, 285, 138): [3837], (2, 286, 116): [3764], (2, 286, 120): [3247, 3457, 3827], (2, 286, 127): [3460, 3903], (2, 286, 128): [4127], (2, 286, 129): [3508], (2, 286, 131): [3674], (2, 286, 133): [2946, 3462, 3464], (2, 286, 135): [3598], (2, 286, 136): [4149, 4166], (2, 287, 117): [3128, 4047], (2, 287, 124): [3164], (2, 287, 125): [3170], (2, 287, 126): [3878], (2, 287, 127): [2774, 3034, 3461], (2, 287, 129): [3138, 4251], (2, 287, 130): [3166, 3477], (2, 287, 131): [3484], (2, 287, 132): [3030], (2, 287, 133): [3168, 3952], (2, 287, 136): [3718], (2, 287, 138): [3821], (2, 288, 116): [3917, 4197], (2, 288, 117): [2893], (2, 288, 118): [3737, 3739], (2, 288, 119): [3053], (2, 288, 123): [2909], (2, 288, 124): [2912], (2, 288, 125): [3836, 4151, 4152], (2, 288, 126): [3877], (2, 288, 129): [4223], (2, 288, 130): [3538], (2, 288, 132): [3037, 3039], (2, 288, 135): [3211], (2, 288, 136): [3369], (2, 289, 120): [2906], (2, 291, 121): [3289, 3291], (2, 291, 124): [3478, 3568], (2, 292, 116): [3093, 3227, 3841, 3993], (2, 292, 117): [3839], (2, 292, 120): [3575], (2, 292, 123): [3999], (2, 292, 124): [3043], (2, 292, 125): [4080], (2, 292, 126): [3867], (2, 292, 128): [3536], (2, 292, 129): [3599, 3865, 4286], (2, 292, 130): [3940, 4274, 4276], (2, 292, 131): [3611, 3655, 3963], (2, 292, 133): [3279, 4227], (2, 292, 135): [3223, 3965, 3967, 4294], (2, 292, 136): [3683], (2, 293, 116): [3094, 3994], (2, 293, 117): [3407], (2, 293, 118): [3242, 4010], (2, 293, 119): [3334, 3817], (2, 293, 120): [4006], (2, 293, 123): [3728, 4000], (2, 293, 128): [3560, 3880], (2, 293, 129): [3866], (2, 293, 130): [3784, 4275, 4277], (2, 293, 131): [3656], (2, 293, 133): [3497, 3586, 3782], (2, 293, 134): [3844, 4200], (2, 293, 135): [3732], (2, 293, 136): [3684], (2, 294, 116): [3308], (2, 294, 119): [3312], (2, 294, 120): [3310], (2, 294, 127): [3368], (2, 294, 134): [3262, 3264], (2, 294, 135): [3212], (2, 297, 115): [3561], (2, 297, 125): [3802], (2, 297, 129): [3437, 3439, 3845], (2, 297, 135): [3627], (2, 299, 116): [4198], (2, 299, 118): [3738, 3740], (2, 299, 129): [4224], (2, 299, 135): [3860], (2, 299, 137): [4061], (2, 299, 138): [4110], (3, 5, 1): [12, 14], (3, 7, 1): [11, 13], (3, 12, 18): [667], (3, 14, 14): [582, 583], (3, 14, 19): [713], (3, 14, 20): [797], (3, 21, 55): [1602], (3, 22, 10): [249], (3, 22, 13): [256], (3, 22, 14): [516], (3, 22, 17): [361], (3, 22, 21): [634], (3, 25, 16): [391], (3, 25, 20): [441], (3, 31, 11): [84], (3, 35, 12): [86], (3, 39, 10): [278], (3, 39, 14): [418], (3, 39, 16): [370], (3, 39, 19): [735], (3, 41, 10): [266], (3, 41, 13): [285], (3, 41, 14): [376, 399, 617, 618], (3, 41, 18): [515], (3, 41, 19): [490], (3, 42, 12): [214], (3, 42, 13): [202], (3, 46, 10): [194], (3, 46, 14): [506], (3, 47, 10): [254], (3, 48, 10): [395], (3, 48, 14): [375], (3, 48, 16): [307], (3, 52, 10): [396], (3, 52, 14): [404, 542], (3, 52, 21): [824], (3, 56, 14): [240], (3, 57, 10): [209], (3, 58, 10): [377], (3, 58, 12): [213], (3, 59, 21): [828], (3, 60, 10): [231], (3, 62, 19): [522], (3, 62, 21): [626], (3, 63, 22): [709], (3, 64, 16): [407], (3, 64, 20): [703], (3, 64, 22): [742], (3, 66, 22): [692], (3, 69, 14): [575], (3, 73, 18): [747], (3, 73, 88): [2334], (3, 78, 23): [812], (3, 91, 34): [925], (3, 91, 36): [964], (3, 104, 31): [908], (3, 104, 32): [910], (3, 107, 31): [909], (3, 107, 34): [926], (3, 115, 36): [963], (3, 116, 36): [1018], (3, 120, 36): [1019], (3, 122, 42): [1023], (3, 125, 44): [1053], (3, 127, 51): [1668], (3, 138, 46): [1321], (3, 141, 46): [1322], (3, 143, 48): [1343], (3, 146, 48): [1266, 1267], (3, 150, 48): [1265, 1341], (3, 154, 48): [1268], (3, 157, 48): [1342], (3, 161, 55): [1514], (3, 163, 53): [1522], (3, 163, 55): [1533], (3, 166, 53): [1521], (3, 168, 55): [1534], (3, 170, 61): [1674], (3, 171, 55): [1515], (3, 176, 55): [1601], (3, 181, 58): [1662], (3, 184, 62): [1722], (3, 189, 63): [1685], (3, 192, 62): [1731], (3, 192, 74): [1793], (3, 192, 75): [1783], (3, 192, 83): [2271], (3, 192, 84): [2210, 2211], (3, 192, 86): [2223], (3, 199, 73): [1925], (3, 199, 83): [2143, 2168], (3, 199, 84): [2177], (3, 201, 73): [1979], (3, 201, 74): [1805, 1875], (3, 201, 79): [2019], (3, 201, 82): [2088], (3, 201, 83): [2176, 2291], (3, 201, 86): [2264], (3, 201, 87): [2397], (3, 202, 74): [1897], (3, 203, 81): [2094], (3, 203, 89): [2366], (3, 203, 90): [2498], (3, 204, 73): [1821], (3, 204, 74): [1785, 1853], (3, 204, 75): [1792], (3, 205, 74): [1809], (3, 207, 74): [1883], (3, 207, 77): [1900], (3, 208, 75): [1947], (3, 208, 78): [1970], (3, 208, 81): [2111], (3, 208, 82): [2087], (3, 209, 75): [1843, 1844], (3, 211, 73): [1838], (3, 213, 74): [1854], (3, 214, 73): [1941], (3, 214, 75): [1998], (3, 214, 81): [2103], (3, 214, 83): [2107], (3, 214, 84): [2142, 2385], (3, 216, 79): [2050], (3, 216, 81): [2052], (3, 216, 82): [2089, 2154, 2173], (3, 216, 83): [2127], (3, 216, 84): [2247, 2281], (3, 216, 86): [2249], (3, 216, 89): [2436, 2519], (3, 217, 80): [2065], (3, 219, 80): [2022], (3, 221, 82): [2138], (3, 221, 84): [2156], (3, 222, 84): [2293], (3, 222, 89): [2447, 2480], (3, 223, 83): [2279], (3, 223, 87): [2330], (3, 224, 86): [2368, 2369], (3, 224, 91): [2522], (3, 228, 86): [2384], (3, 228, 89): [2486], (3, 229, 87): [2346], (3, 234, 102): [2541], (3, 242, 99): [2553], (3, 246, 99): [2552], (3, 252, 99): [2554], (3, 263, 116): [3178, 3180], (3, 263, 118): [2684], (3, 263, 128): [3503], (3, 264, 118): [2685], (3, 264, 126): [3348], (3, 264, 129): [2995], (3, 265, 115): [3201, 3203], (3, 265, 116): [2632, 3177, 3179], (3, 265, 118): [3647, 3849], (3, 265, 120): [2858, 3049], (3, 265, 122): [2741, 3047], (3, 265, 123): [3847], (3, 265, 125): [2828], (3, 265, 126): [3347], (3, 265, 127): [3123], (3, 265, 128): [3502], (3, 265, 129): [3909], (3, 265, 130): [2882], (3, 265, 131): [2688, 2706, 2819], (3, 265, 132): [3376], (3, 265, 136): [3544], (3, 266, 116): [3517, 3519], (3, 266, 120): [4037, 4039], (3, 266, 124): [3606], (3, 266, 126): [2753], (3, 266, 128): [2921], (3, 266, 130): [3435], (3, 266, 131): [2968], (3, 266, 132): [3076], (3, 266, 136): [2984], (3, 267, 115): [3202, 3204], (3, 267, 118): [4131], (3, 267, 129): [3361], (3, 267, 134): [3005], (3, 268, 119): [3480], (3, 268, 124): [2724], (3, 268, 129): [3362], (3, 268, 133): [3403], (3, 268, 134): [3006], (3, 270, 131): [2689], (3, 271, 119): [3103], (3, 271, 126): [2907], (3, 271, 127): [3124], (3, 272, 116): [2633], (3, 272, 117): [3383], (3, 272, 118): [3648, 3850], (3, 272, 120): [2859, 3050], (3, 272, 122): [3048, 3325], (3, 272, 125): [2829], (3, 272, 126): [3988, 4244], (3, 272, 127): [2899, 3741], (3, 272, 128): [3757], (3, 272, 130): [2883], (3, 272, 131): [2820], (3, 272, 138): [4002], (3, 273, 116): [3688], (3, 273, 120): [2604, 4038, 4040], (3, 273, 126): [2754], (3, 273, 128): [2922], (3, 273, 133): [3640, 4176], (3, 273, 135): [3332], (3, 273, 139): [4238], (3, 274, 116): [3527], (3, 274, 120): [2603], (3, 274, 124): [3316], (3, 274, 127): [3742], (3, 274, 129): [3910], (3, 274, 130): [3436], (3, 274, 133): [4175], (3, 274, 135): [3696], (3, 275, 118): [4132], (3, 275, 119): [3104], (3, 275, 124): [2723], (3, 275, 133): [3402], (3, 276, 116): [3660], (3, 276, 121): [2617, 2944], (3, 276, 123): [2620, 2841], (3, 276, 124): [3082, 3605], (3, 276, 127): [2631], (3, 276, 130): [4096], (3, 276, 132): [3075], (3, 276, 133): [3639], (3, 276, 135): [3331], (3, 277, 118): [4212], (3, 277, 121): [2618], (3, 278, 115): [2790], (3, 278, 116): [3526, 3659, 3687], (3, 278, 117): [3384], (3, 278, 118): [4211], (3, 278, 123): [2619, 2840], (3, 278, 124): [3081, 3315], (3, 278, 125): [3086], (3, 278, 128): [3758], (3, 278, 130): [4095], (3, 278, 131): [2707, 3812], (3, 279, 122): [2742, 3326], (3, 280, 127): [2900], (3, 281, 115): [2789], (3, 281, 117): [2901], (3, 281, 118): [3197], (3, 281, 126): [3191], (3, 281, 128): [3798], (3, 281, 130): [3139], (3, 281, 132): [3375], (3, 281, 133): [3693, 3785], (3, 281, 134): [3512], (3, 282, 117): [2902], (3, 282, 118): [3198], (3, 282, 123): [3391], (3, 282, 125): [3521], (3, 282, 133): [3694, 3786], (3, 282, 134): [3513], (3, 285, 121): [2943], (3, 285, 125): [3085], (3, 285, 126): [3987], (3, 287, 123): [3848], (3, 287, 126): [2908, 3192], (3, 287, 129): [2996], (3, 288, 117): [3709], (3, 288, 118): [4043], (3, 290, 131): [2967], (3, 291, 116): [3516, 3518], (3, 291, 125): [3520], (3, 291, 136): [2983], (3, 292, 127): [4193], (3, 292, 128): [3799], (3, 292, 135): [3695], (3, 292, 138): [4001], (3, 292, 139): [4237], (3, 293, 127): [4194], (3, 293, 131): [3813], (3, 294, 130): [3140], (3, 298, 134): [3466], (3, 299, 117): [3710], (3, 299, 118): [4044], (3, 299, 126): [4245], (3, 299, 134): [3467], (4, 12, 20): [790], (4, 12, 22): [696], (4, 14, 0): [30, 31], (4, 14, 18): [477], (4, 20, 8): [47, 49], (4, 20, 37): [1034], (4, 20, 42): [1028], (4, 21, 8): [48, 50], (4, 22, 17): [350], (4, 22, 18): [576, 726], (4, 22, 19): [462, 463, 464, 465, 466], (4, 22, 20): [486, 487, 488], (4, 25, 18): [660, 661, 662, 663], (4, 35, 10): [85], (4, 41, 13): [118], (4, 41, 14): [436], (4, 41, 16): [398], (4, 41, 17): [351], (4, 56, 14): [190], (4, 61, 44): [1045, 1046, 1047, 1048, 1050], (4, 62, 18): [679, 680, 681, 682, 683], (4, 63, 21): [770], (4, 64, 22): [739], (4, 66, 14): [435, 569], (4, 66, 19): [467, 468, 469, 470, 471, 472, 529], (4, 66, 21): [642], (4, 66, 22): [706, 707], (4, 67, 14): [512], (4, 67, 18): [520], (4, 68, 18): [658], (4, 68, 21): [684, 685], (4, 69, 18): [669, 670, 671, 672, 673, 674, 675, 676, 677, 678], (4, 69, 21): [710], (4, 70, 14): [624, 625], (4, 73, 18): [723], (4, 73, 21): [749], (4, 73, 75): [2033, 2034, 2035, 2036], (4, 73, 83): [2232, 2298], (4, 73, 86): [2233], (4, 73, 89): [2353, 2354], (4, 74, 18): [754, 755, 756, 757, 758], (4, 74, 19): [778], (4, 82, 23): [818], (4, 85, 28): [869, 875], (4, 85, 30): [866, 873, 874], (4, 88, 35): [917, 930], (4, 88, 41): [1010], (4, 91, 32): [887], (4, 91, 36): [983], (4, 103, 44): [1044], (4, 110, 35): [929], (4, 115, 36): [982], (4, 122, 42): [1020], (4, 123, 37): [1021, 1032], (4, 123, 42): [1029], (4, 125, 43): [1033], (4, 127, 56): [1658], (4, 129, 43): [1049], (4, 130, 37): [1054], (4, 133, 48): [1237, 1241], (4, 135, 49): [1336], (4, 136, 47): [1161, 1163], (4, 146, 48): [1238, 1243], (4, 147, 47): [1160, 1162], (4, 150, 48): [1242], (4, 150, 49): [1337], (4, 154, 47): [1374, 1376], (4, 155, 47): [1373, 1375], (4, 155, 49): [1335], (4, 155, 50): [1460], (4, 156, 50): [1461], (4, 157, 49): [1338], (4, 164, 54): [1572], (4, 164, 56): [1638], (4, 165, 54): [1568], (4, 168, 56): [1637], (4, 173, 51): [1518], (4, 175, 54): [1567, 1571], (4, 176, 56): [1659], (4, 192, 73): [1750, 1751], (4, 192, 86): [2224, 2225], (4, 192, 88): [2378, 2379], (4, 199, 77): [1901], (4, 199, 82): [2108, 2109], (4, 199, 84): [2196], (4, 201, 73): [1966], (4, 201, 77): [1918, 1919, 1920, 1921, 1922], (4, 201, 83): [2081, 2082], (4, 201, 89): [2419], (4, 203, 86): [2259, 2340, 2341], (4, 204, 76): [1761], (4, 208, 73): [1924, 1977], (4, 208, 74): [1934], (4, 208, 77): [1936, 1937], (4, 208, 82): [2096, 2101, 2120], (4, 208, 83): [2246], (4, 208, 86): [2258], (4, 209, 73): [1893], (4, 211, 73): [1923, 1965], (4, 211, 79): [2021], (4, 211, 84): [2277, 2278], (4, 212, 89): [2393], (4, 214, 77): [1938, 1939], (4, 214, 79): [2049], (4, 216, 77): [1935], (4, 216, 81): [2126], (4, 221, 84): [2304], (4, 221, 88): [2327], (4, 223, 86): [2325, 2326], (4, 223, 89): [2388], (4, 228, 84): [2421], (4, 228, 89): [2464, 2466], (4, 229, 89): [2375, 2376, 2377], (4, 231, 87): [2473], (4, 263, 118): [3071], (4, 263, 130): [2876], (4, 264, 122): [2810], (4, 265, 130): [3287], (4, 265, 133): [3121], (4, 266, 129): [4085, 4086, 4087, 4088, 4089, 4090, 4091, 4092, 4093, 4094], (4, 267, 121): [2791], (4, 271, 118): [3072], (4, 271, 122): [2809], (4, 272, 128): [3471], (4, 272, 130): [3288], (4, 272, 132): [3107], (4, 273, 123): [4230], (4, 275, 121): [2792], (4, 279, 132): [3108], (4, 279, 133): [3122], (4, 281, 120): [2733], (4, 281, 126): [3079], (4, 281, 132): [3077], (4, 285, 116): [3064], (4, 285, 121): [3068], (4, 285, 123): [3024], (4, 285, 127): [3206], (4, 285, 131): [3066], (4, 285, 134): [3014], (4, 286, 120): [2734], (4, 286, 126): [3080], (4, 286, 132): [3078], (4, 287, 117): [3828], (4, 287, 130): [2877], (4, 292, 116): [3063], (4, 292, 121): [3067], (4, 292, 123): [3023, 4229], (4, 292, 127): [3205], (4, 292, 128): [3470], (4, 292, 131): [3065], (4, 292, 134): [3013]}\n"
     ]
    },
    {
     "name": "stderr",
     "output_type": "stream",
     "text": [
      "C:\\Users\\Kalea\\AppData\\Local\\Temp\\ipykernel_39084\\635274658.py:2: DeprecationWarning: DataFrameGroupBy.apply operated on the grouping columns. This behavior is deprecated, and in a future version of pandas the grouping columns will be excluded from the operation. Either pass `include_groups=False` to exclude the groupings or explicitly select the grouping columns after groupby to silence this warning.\n",
      "  unique_groups = df.groupby([\"klasifikasi_perkara_encoded\", \"penuntut_umum_encoded\", \"hakim_encoded\"]).apply(lambda x: x.index.tolist()).to_dict()\n"
     ]
    }
   ],
   "source": [
    "train_df, test_df = stratified_split(df_filtered)"
   ]
  },
  {
   "cell_type": "code",
   "execution_count": 8,
   "metadata": {},
   "outputs": [
    {
     "name": "stdout",
     "output_type": "stream",
     "text": [
      "Jumlah Klasifikasi Perkara: 5\n",
      "Jumlah Data Train:  3273\n",
      "klasifikasi_perkara_encoded\n",
      "0    1378\n",
      "2    1251\n",
      "3     289\n",
      "4     193\n",
      "1     162\n",
      "Name: count, dtype: int64\n"
     ]
    }
   ],
   "source": [
    "jenis_klasifikasi_perkara = train_df['klasifikasi_perkara_encoded'].unique()\n",
    "jumlah_klasifikasi_perkara = len(jenis_klasifikasi_perkara)\n",
    "print(f\"Jumlah Klasifikasi Perkara: {jumlah_klasifikasi_perkara}\")\n",
    "print(f\"Jumlah Data Train:  {len(train_df)}\")\n",
    "\n",
    "klasifikasi_perkara_values = train_df['klasifikasi_perkara_encoded'].value_counts()\n",
    "print(klasifikasi_perkara_values)"
   ]
  },
  {
   "cell_type": "code",
   "execution_count": 9,
   "metadata": {},
   "outputs": [
    {
     "name": "stdout",
     "output_type": "stream",
     "text": [
      "Jumlah Klasifikasi Perkara: 5\n",
      "Jumlah Data Test:  1050\n",
      "klasifikasi_perkara_encoded\n",
      "0    490\n",
      "2    438\n",
      "4     51\n",
      "3     48\n",
      "1     23\n",
      "Name: count, dtype: int64\n"
     ]
    }
   ],
   "source": [
    "jenis_klasifikasi_perkara = test_df['klasifikasi_perkara_encoded'].unique()\n",
    "jumlah_klasifikasi_perkara = len(jenis_klasifikasi_perkara)\n",
    "print(f\"Jumlah Klasifikasi Perkara: {jumlah_klasifikasi_perkara}\")\n",
    "print(f\"Jumlah Data Test:  {len(test_df)}\")\n",
    "\n",
    "klasifikasi_perkara_values = test_df['klasifikasi_perkara_encoded'].value_counts()\n",
    "print(klasifikasi_perkara_values)"
   ]
  },
  {
   "cell_type": "code",
   "execution_count": 10,
   "metadata": {},
   "outputs": [
    {
     "data": {
      "application/vnd.microsoft.datawrangler.viewer.v0+json": {
       "columns": [
        {
         "name": "index",
         "rawType": "int64",
         "type": "integer"
        },
        {
         "name": "klasifikasi_perkara_encoded",
         "rawType": "int64",
         "type": "integer"
        },
        {
         "name": "penuntut_umum_encoded",
         "rawType": "int64",
         "type": "integer"
        },
        {
         "name": "hakim_encoded",
         "rawType": "int64",
         "type": "integer"
        },
        {
         "name": "jumlah_saksi",
         "rawType": "int64",
         "type": "integer"
        },
        {
         "name": "maks_penjara_berdasarkan_pasal",
         "rawType": "int64",
         "type": "integer"
        },
        {
         "name": "terdakwa",
         "rawType": "object",
         "type": "string"
        },
        {
         "name": "summarized_dakwaan",
         "rawType": "object",
         "type": "string"
        },
        {
         "name": "total_pidana_penjara_bulan",
         "rawType": "float64",
         "type": "float"
        }
       ],
       "conversionMethod": "pd.DataFrame",
       "ref": "a04b9cea-7e6e-41f9-ba61-5d1028059470",
       "rows": [
        [
         "0",
         "0",
         "0",
         "0",
         "6",
         "80",
         "GEDE DARMAYASA",
         "Terdakwa Gede Darmayasa didakwa telah melakukan tindak pidana pencurian buah durian di tiga lokasi berbeda di wilayah Kintamani, Kabupaten Bangli, pada bulan Mei 2024. Pada hari Selasa, 21 Mei 2024, sekitar pukul 06.00 hingga 06.30 WITA, terdakwa mencuri sebanyak 37 buah durian dari kebun milik I Wayan Sukerena, SE dan 27 buah durian dari kebun milik I Nyoman Susila. Durian-durian tersebut kemudian dijual sebagian kepada saksi Komang Ayu Anggreni dengan harga Rp4.316.000 dan sisanya dibawa pulang. Selanjutnya, pada hari Kamis, 23 Mei 2024, terdakwa menjual lagi 40 buah durian kepada Komang Sujana, di mana 24 di antaranya merupakan hasil pencurian. Kemudian pada hari Sabtu, 25 Mei 2024, sekitar pukul 06.00 WITA, terdakwa kembali melakukan pencurian sebanyak 20 buah durian dari kebun milik I Ketut Tindih dan menjual 15 buah di antaranya seharga Rp1.485.000. Total durian yang dicuri terdakwa berjumlah 67 buah tanpa seizin pemiliknya, dengan maksud untuk dimiliki secara melawan hukum dan hasil penjualannya digunakan untuk kebutuhan sehari-hari. Akibat perbuatan terdakwa, I Wayan Sukerena mengalami kerugian sebesar Rp3.330.000, I Ketut Tindih sebesar Rp3.500.000, dan I Nyoman Susila sebesar Rp2.000.000. Perbuatan terdakwa diancam pidana berdasarkan Pasal 362 KUHP jo. Pasal 65 Ayat (1) KUHP.",
         "5.0"
        ],
        [
         "1",
         "1",
         "1",
         "1",
         "4",
         "48",
         "IDA BAGUS MADE DARMA WIGUNA",
         "Pada bulan Februari dan Maret 2024, terdakwa Ida Bagus Made Darma Wiguna alias Gus Manik didakwa melakukan tindak pidana penggelapan secara berlanjut terhadap saksi korban Ni Wayan Anik Artini. Berawal dari perkenalan melalui media sosial TikTok pada Desember 2023, terdakwa dan korban menjalin hubungan hingga pada 13 Februari 2024 korban menyerahkan perhiasan kalung emas 21 karat seberat 24,55 gram untuk disimpan di rumah terdakwa. Pada 17 Februari 2024, terdakwa meminjam kalung tersebut untuk digadaikan dengan janji akan menebusnya dalam dua hari. Kalung itu kemudian digadaikan di Kantor Pegadaian Bangli seharga Rp 8.000.000. Namun, tanpa seizin korban, pada 21 Februari 2024 terdakwa kembali ke Pegadaian dan menambah nilai gadai menjadi Rp 19.600.000, menerima pencairan tambahan sebesar Rp 11.397.000, yang seluruhnya digunakan untuk keperluan pribadi. Kemudian, pada 10 Maret 2024, terdakwa meminjam ponsel Samsung Galaxy A04E milik korban dengan alasan untuk komunikasi, namun ponsel tersebut dijual seharga Rp 600.000 dan hasilnya juga dipakai untuk kebutuhan sehari-hari. Meskipun korban telah beberapa kali meminta barang-barangnya dikembalikan, terdakwa selalu mengelak dengan berbagai alasan. Akibat perbuatan terdakwa, korban mengalami kerugian sebesar Rp 26.000.000. Perbuatan Terdakwa didakwa dengan dakwaan primair Pasal 372 jo. 64 Ayat (1) KUHP, dan dakwaan subsidair Pasal 378 jo. 64 Ayat (1) KUHP.",
         "24.0"
        ],
        [
         "2",
         "0",
         "0",
         "2",
         "6",
         "84",
         "HANDRI JOHANAS",
         "Terdakwa Handri Johanes pada Rabu, 24 April 2024 sekitar pukul 03.00 WITA di sebuah kamar di Puri Kanginan, Lingkungan Banjar Puri Kanginan No. 2 Bangli, telah melakukan pencurian satu unit handphone OPPO A53 warna hitam milik I Nengah Sukadana. Kejadian bermula ketika terdakwa yang sebelumnya pernah bekerja di mebel milik Gung Aji Kartika dan terbiasa keluar masuk area puri, datang mencari temannya yang dahulu tinggal di sana. Setelah tidak menemukan temannya dan hendak pulang, terdakwa melihat sebuah handphone sedang diisi daya dalam kamar yang pintunya sedikit terbuka. Ia kemudian mengambil handphone tersebut dengan memasukkan tangan melalui celah pintu. Setelah sampai di bengkel tempat tinggalnya, terdakwa mengetahui bahwa handphone tersebut terkunci, lalu beberapa hari kemudian menjualnya kepada seseorang bernama Denny Firmansyah di Klungkung seharga Rp300.000. Uang hasil penjualan itu kemudian ia kirim ke anaknya di Lombok. Akibat perbuatan tersebut, saksi I Nengah Sukadana mengalami kerugian sebesar Rp3.999.000. Perbuatan terdakwa diancam pidana berdasarkan Pasal 363 Ayat (1) ke-3 KUHP.",
         "4.0"
        ],
        [
         "3",
         "2",
         "2",
         "1",
         "2",
         "144",
         "I GEDE ARIADI alias BERNAD",
         "Pada hari Minggu, 14 April 2024 sekitar pukul 16.35 WITA, terdakwa I Gede Ariadi alias Bernad ditangkap di Jl. Brigjen Ngurah Rai, Kelurahan Kawan, Bangli oleh tim Opsnal Satresnarkoba Polres Bangli karena kedapatan membawa narkotika jenis sabu. Kronologi bermula pada 9 April 2024 saat terdakwa berkenalan dengan seseorang bernama Kadek (DPO) melalui Facebook, lalu berkomunikasi intens melalui WhatsApp dan sepakat untuk menggunakan sabu bersama. Pada 14 April 2024 pagi, terdakwa diberi tahu oleh Mang Donal (DPO) bahwa sabu sudah tersedia dan ditempel di bawah tiang listrik di daerah Bendul, Klungkung. Terdakwa mengambil sabu yang dibungkus dalam tabung micro tube dan menyimpannya di tas selempang. Sore harinya, terdakwa berangkat menuju Bangli sesuai petunjuk lokasi dari Kadek. Setibanya di lokasi, terdakwa diamankan polisi dan saat digeledah ditemukan satu plastik klip berisi kristal sabu seberat 0,20 gram netto beserta barang bukti lainnya seperti handphone dan sepeda motor. Berdasarkan hasil uji laboratorium, kristal tersebut positif mengandung Metamfetamina yang tergolong Narkotika Golongan I. Terdakwa tidak memiliki izin dari Menteri Kesehatan atau instansi terkait untuk memiliki narkotika tersebut. Perbuatan Terdakwa didakwa dengan dakwaan primair Pasal 112 Ayat (1) UU RI No. 35 Tahun 2009 tentang Narkotika, dan dakwaan subsidair Pasal 127 Ayat (1) huruf a Undang-Undang RI No. 35 Tahun 2009 Tentang Narkotika.",
         "14.0"
        ],
        [
         "4",
         "2",
         "3",
         "1",
         "2",
         "144",
         "I GEDE ARIADI alias BERNAD",
         "Pada hari Minggu, 14 April 2024 sekitar pukul 16.35 WITA, terdakwa I Gede Ariadi alias Bernad ditangkap di Jl. Brigjen Ngurah Rai, Kelurahan Kawan, Bangli oleh tim Opsnal Satresnarkoba Polres Bangli karena kedapatan membawa narkotika jenis sabu. Kronologi bermula pada 9 April 2024 saat terdakwa berkenalan dengan seseorang bernama Kadek (DPO) melalui Facebook, lalu berkomunikasi intens melalui WhatsApp dan sepakat untuk menggunakan sabu bersama. Pada 14 April 2024 pagi, terdakwa diberi tahu oleh Mang Donal (DPO) bahwa sabu sudah tersedia dan ditempel di bawah tiang listrik di daerah Bendul, Klungkung. Terdakwa mengambil sabu yang dibungkus dalam tabung micro tube dan menyimpannya di tas selempang. Sore harinya, terdakwa berangkat menuju Bangli sesuai petunjuk lokasi dari Kadek. Setibanya di lokasi, terdakwa diamankan polisi dan saat digeledah ditemukan satu plastik klip berisi kristal sabu seberat 0,20 gram netto beserta barang bukti lainnya seperti handphone dan sepeda motor. Berdasarkan hasil uji laboratorium, kristal tersebut positif mengandung Metamfetamina yang tergolong Narkotika Golongan I. Terdakwa tidak memiliki izin dari Menteri Kesehatan atau instansi terkait untuk memiliki narkotika tersebut. Perbuatan Terdakwa didakwa dengan dakwaan primair Pasal 112 Ayat (1) UU RI No. 35 Tahun 2009 tentang Narkotika, dan dakwaan subsidair Pasal 127 Ayat (1) huruf a Undang-Undang RI No. 35 Tahun 2009 Tentang Narkotika.",
         "14.0"
        ],
        [
         "5",
         "0",
         "4",
         "1",
         "4",
         "60",
         "R. Sabirin",
         "Pada hari Selasa, 26 Maret 2024 sekitar pukul 17.10 WITA, bertempat di pinggir Jalan Raya Kintamani, Desa Kintamani, Kecamatan Kintamani, Kabupaten Bangli, Terdakwa melakukan pencurian dengan mengambil satu unit sepeda motor Honda Scoopy warna merah hitam DK 6384 PQ, yang sebagian atau seluruhnya milik orang lain, dengan maksud untuk dimiliki secara melawan hukum. Sebelumnya, pada 25 Maret 2024 pukul 13.00 WITA, Terdakwa berangkat dari Panarukan, Singaraja menuju Terminal Ubung Denpasar dengan menumpang truk, dengan tujuan mencuri sepeda motor. Tiba di Terminal Ubung sekitar pukul 14.30 WITA, Terdakwa menginap semalam karena hujan deras. Esok harinya, Terdakwa dijemput oleh temannya, WAHYU EKA JAYA (DPO), yang datang mengendarai sepeda motor Yamaha Vixion warna hitam. Mereka lalu pergi ke Kintamani untuk jalan-jalan. Sekitar pukul 17.10 WITA, mereka melihat sebuah motor Honda Scoopy terparkir di pinggir jalan dengan kunci masih tergantung. Setelah WAHYU EKA JAYA pergi meninggalkannya, Terdakwa mendekati motor tersebut, lalu mendorongnya sejauh sekitar 10 meter sebelum akhirnya menyalakan mesin dan melarikan diri menuju Denpasar melalui Payangan, Gianyar. Di daerah Ubud, Terdakwa dihentikan oleh seorang petugas Polsek Kintamani bernama I Gede Dipta Wirama Darma dan tidak dapat menunjukkan STNK kendaraan. Terdakwa kemudian diamankan beserta barang bukti ke Polsek Kintamani. Akibat perbuatan tersebut, korban, Ni Wayan Srimertanadi, mengalami kerugian sekitar Rp20.000.000\\. Perbuatan Terdakwa diatur dan diancam pidana dalam Pasal 362 KUHP.",
         "14.0"
        ],
        [
         "6",
         "2",
         "4",
         "1",
         "4",
         "144",
         "NOVANI ARI HIFNI Alias ARI",
         "Pada Minggu, 17 Maret 2024 sekitar pukul 18.10 WITA, terdakwa Novani Ari Hifni alias Ari ditangkap di pinggir Jalan Merdeka, Tamanbali, Bangli oleh petugas Satresnarkoba Polres Bangli karena kedapatan membawa narkotika jenis sabu. Sebelumnya, terdakwa menghubungi rekannya bernama Wewe (DPO) melalui Facebook untuk mencari sabu, kemudian diarahkan untuk menghubungi Rizal (DPO). Rizal menyanggupi permintaan terdakwa dengan sistem hutang dan mengirimkan lokasi pengambilan barang di Bangli. Terdakwa lalu mengajak temannya, saksi K. M. Sahrijal Jabar, untuk mengantarkan ke lokasi dengan imbalan uang. Setelah mengambil sabu yang disembunyikan di dekat tembok dengan berpura-pura buang air kecil, terdakwa melanjutkan perjalanan, namun akhirnya dihentikan dan diamankan oleh petugas. Saat digeledah, ditemukan satu plastik berisi sabu dalam botol Yakult serta peralatan hisap lainnya di dalam tas terdakwa, sementara pada saksi Sahrijal tidak ditemukan barang terlarang. Hasil pemeriksaan laboratorium terhadap kristal bening dan urine terdakwa menunjukkan keduanya positif mengandung metamfetamina, yang tergolong Narkotika Golongan I. Perbuatan Terdakwa didakwa dengan dakwaan primair Pasal 112 Ayat (1) Undang-Undang RI No. 35 Tahun 2009 tentang Narkotika, dan dakwaan subsidair Pasal 127 Ayat (1) huruf a Undang-Undang RI No. 35 Tahun 2009 tentang Narkotika.",
         "24.0"
        ],
        [
         "7",
         "2",
         "5",
         "1",
         "4",
         "144",
         "NOVANI ARI HIFNI Alias ARI",
         "Pada Minggu, 17 Maret 2024 sekitar pukul 18.10 WITA, terdakwa Novani Ari Hifni alias Ari ditangkap di pinggir Jalan Merdeka, Tamanbali, Bangli oleh petugas Satresnarkoba Polres Bangli karena kedapatan membawa narkotika jenis sabu. Sebelumnya, terdakwa menghubungi rekannya bernama Wewe (DPO) melalui Facebook untuk mencari sabu, kemudian diarahkan untuk menghubungi Rizal (DPO). Rizal menyanggupi permintaan terdakwa dengan sistem hutang dan mengirimkan lokasi pengambilan barang di Bangli. Terdakwa lalu mengajak temannya, saksi K. M. Sahrijal Jabar, untuk mengantarkan ke lokasi dengan imbalan uang. Setelah mengambil sabu yang disembunyikan di dekat tembok dengan berpura-pura buang air kecil, terdakwa melanjutkan perjalanan, namun akhirnya dihentikan dan diamankan oleh petugas. Saat digeledah, ditemukan satu plastik berisi sabu dalam botol Yakult serta peralatan hisap lainnya di dalam tas terdakwa, sementara pada saksi Sahrijal tidak ditemukan barang terlarang. Hasil pemeriksaan laboratorium terhadap kristal bening dan urine terdakwa menunjukkan keduanya positif mengandung metamfetamina, yang tergolong Narkotika Golongan I. Perbuatan Terdakwa didakwa dengan dakwaan primair Pasal 112 Ayat (1) Undang-Undang RI No. 35 Tahun 2009 tentang Narkotika, dan dakwaan subsidair Pasal 127 Ayat (1) huruf a Undang-Undang RI No. 35 Tahun 2009 tentang Narkotika.",
         "24.0"
        ],
        [
         "8",
         "2",
         "6",
         "1",
         "4",
         "240",
         "MULYADI alias MUL",
         "Pada Selasa, 9 Januari 2024 sekitar pukul 17.30 WITA di Jalan Bima, Kelurahan Cempaga, Bangli, terdakwa Mulyadi alias Mul ditangkap karena tanpa hak menawarkan dan membawa narkotika jenis sabu. Sebelumnya, terdakwa dihubungi oleh rekannya, Kadek (DPO), untuk mengantarkan sabu ke Bangli. Setelah bertemu dengan kurir Kadek di Lapangan Lumintang, Denpasar, terdakwa menerima sabu dalam amplop putih, sempat mencicipinya, dan menyimpannya di dashboard mobil lalu berpindah ke tas pinggang. Sekitar pukul 15.00 WITA, terdakwa berangkat ke Bangli dan tiba di lokasi yang diarahkan Kadek. Saat tiba di kos-kosan milik kakak Kadek, terdakwa diamankan oleh polisi. Dalam penggeledahan, ditemukan sabu, alat isap, korek api modifikasi, dan barang bukti lainnya. Berdasarkan hasil laboratorium, kristal yang disita terbukti mengandung metamfetamina yang termasuk Narkotika Golongan I, sedangkan urine terdakwa tidak mengandung narkotika. Perbuatan Terdakwa didakwa dengan dakwaan primair Pasal 114 Ayat (1) UU RI No. 35 Tahun 2009 tentang Narkotika, dan dakwaan subsidair Pasal 112 Ayat (1) UU RI No. 35 tahun 2009 tentang Narkotika.",
         "51.0"
        ],
        [
         "9",
         "0",
         "7",
         "1",
         "6",
         "80",
         "I WAYAN ARTAYASA",
         "Terdakwa I Wayan Artayasa didakwa telah melakukan serangkaian pencurian secara berulang di Pasar Kidul Bangli, dengan sasaran utama dagangan milik ibunya sendiri, Ni Nyoman Suwini, serta milik pedagang lain seperti Ni Luh Utari dan Ni Ketut Suci. Perbuatan tersebut dilakukan sejak Desember 2023 hingga Februari 2024, pada dini hari antara pukul 03.00 hingga 04.00 WITA. Modus operandi yang digunakan adalah dengan masuk ke pasar melalui celah jeruji besi, membuka terpal dagangan, dan mengambil berbagai bahan pokok seperti kemiri, kacang tanah, gula merah, kacang hijau, dan beras. Barang-barang hasil curian tersebut kemudian dijual oleh terdakwa di Pasar Kidul Bangli dan Pasar Singamandawa Kintamani untuk memenuhi kebutuhan sehari-hari. Perbuatan terdakwa dilakukan tanpa seizin atau sepengetahuan para pemilik barang, dan telah menyebabkan kerugian bagi para korban. Berdasarkan perbuatannya tersebut, terdakwa didakwa dengan Pasal 362 KUHP jo. Pasal 65 Ayat (1) KUHP pada dakwaan primair dan Pasal 367 Ayat (2) KUHP jo. Pasal 65 Ayat (1) KUHP untuk dakwaan subsidair.",
         "12.0"
        ],
        [
         "10",
         "0",
         "4",
         "3",
         "4",
         "60",
         "RURY HERAWATI",
         "Terdakwa Rury Herawati pada tanggal 20 November 2023 sekitar pukul 15.15 WITA telah melakukan pencurian di Toko Ari Kebaya, Jalan Nusantara, Bangli. Terdakwa datang dari Denpasar dengan niat mencuri dan setelah mencari toko yang sepi, ia berpura-pura sebagai pembeli. Saat penjaga toko sedang membelakangi untuk mencarikan sandal, Terdakwa membuka lemari yang tidak terkunci dan mengambil tas kain berisi dua dompet dengan total uang Rp16.500.000,- milik saksi Ni Nengah Ngariasi. Setelah mengambil tas, Terdakwa berpura-pura hendak mengambil uang di ATM dan langsung pergi meninggalkan dua selendang yang sudah dibayar. Uang hasil pencurian digunakan untuk membeli berbagai barang seperti HP, emas, pakaian, serta kebutuhan sehari-hari. Sisa uang yang dicuri masih tersisa sebesar Rp5.778.000. Berdasarkan laporan polisi dan penyelidikan, Terdakwa mengakui perbuatannya dan kini telah diamankan bersama barang bukti untuk proses hukum lebih lanjut. Perbuatannya diancam pidana sesuai Pasal 362 KUHP.",
         "16.0"
        ],
        [
         "11",
         "3",
         "7",
         "1",
         "8",
         "48",
         "I KETUT SUPUTRA",
         "Bahwa para Terdakwa, yakni Terdakwa I Ketut Suputra dan Terdakwa II Ni Komang Warsiki, dalam kurun waktu antara bulan Mei 2019 sampai dengan Oktober 2020, bertempat di gudang milik para Terdakwa yang beralamat di Jalan Soekarno, Banjar Dukuh, Desa Bunutin, Kecamatan Bangli, Kabupaten Bangli, telah melakukan perbuatan melawan hukum dengan cara menguasai secara melawan hak barang titipan milik PT. Putra Dewata Sejati. Awalnya, Terdakwa I menjalin kerja sama usaha penjualan produk minuman bermerek Aqua dengan PT. Putra Dewata Sejati di bawah nama usaha UD. Sari Merta berdasarkan Surat Kesepakatan Nomor 002/SP/PDS-BALI/IV/2019 tanggal 6 April 2019. Dalam pelaksanaan kerja sama tersebut, PT. Putra Dewata Sejati menyerahkan sejumlah barang titipan kepada UD. Sari Merta untuk dijual kembali, dengan ketentuan bahwa harga pokok barang harus disetorkan kembali kepada PT. Putra Dewata Sejati setelah barang terjual, sedangkan selisih harga jual menjadi keuntungan bagi UD. Sari Merta. Dalam pelaksanaan usahanya, Terdakwa I selaku penanggung jawab operasional dan Terdakwa II sebagai bagian administrasi bertugas mengelola penjualan, keuangan, dan pembayaran kepada pihak supplier. Akan tetapi, sejak bulan Mei 2019, para Terdakwa mulai tidak menyetorkan secara penuh hasil penjualan barang, dan sejak bulan Oktober 2020 tidak lagi melakukan penyetoran sama sekali, padahal seluruh barang titipan telah terjual. Uang hasil penjualan tersebut justru digunakan oleh para Terdakwa untuk membayar gaji karyawan, menutupi biaya operasional, serta memenuhi kebutuhan hidup pribadi, tanpa seizin atau sepengetahuan PT. Putra Dewata Sejati. Perbuatan para Terdakwa tersebut telah mengakibatkan kerugian keuangan bagi PT. Putra Dewata Sejati sebesar Rp413.883.979,- (empat ratus tiga belas juta delapan ratus delapan puluh tiga ribu sembilan ratus tujuh puluh sembilan rupiah). Perbuatan tersebut dilakukan secara bersama-sama dan berlanjut, serta diatur dan diancam pidana dalam Pasal 372 KUHP jo. Pasal 55 Ayat (1) ke-1 KUHP jo. Pasal 64 Ayat (1) KUHP.",
         "18.0"
        ],
        [
         "12",
         "3",
         "5",
         "1",
         "8",
         "48",
         "I KETUT SUPUTRA",
         "Bahwa para Terdakwa, yakni Terdakwa I Ketut Suputra dan Terdakwa II Ni Komang Warsiki, dalam kurun waktu antara bulan Mei 2019 sampai dengan Oktober 2020, bertempat di gudang milik para Terdakwa yang beralamat di Jalan Soekarno, Banjar Dukuh, Desa Bunutin, Kecamatan Bangli, Kabupaten Bangli, telah melakukan perbuatan melawan hukum dengan cara menguasai secara melawan hak barang titipan milik PT. Putra Dewata Sejati. Awalnya, Terdakwa I menjalin kerja sama usaha penjualan produk minuman bermerek Aqua dengan PT. Putra Dewata Sejati di bawah nama usaha UD. Sari Merta berdasarkan Surat Kesepakatan Nomor 002/SP/PDS-BALI/IV/2019 tanggal 6 April 2019. Dalam pelaksanaan kerja sama tersebut, PT. Putra Dewata Sejati menyerahkan sejumlah barang titipan kepada UD. Sari Merta untuk dijual kembali, dengan ketentuan bahwa harga pokok barang harus disetorkan kembali kepada PT. Putra Dewata Sejati setelah barang terjual, sedangkan selisih harga jual menjadi keuntungan bagi UD. Sari Merta. Dalam pelaksanaan usahanya, Terdakwa I selaku penanggung jawab operasional dan Terdakwa II sebagai bagian administrasi bertugas mengelola penjualan, keuangan, dan pembayaran kepada pihak supplier. Akan tetapi, sejak bulan Mei 2019, para Terdakwa mulai tidak menyetorkan secara penuh hasil penjualan barang, dan sejak bulan Oktober 2020 tidak lagi melakukan penyetoran sama sekali, padahal seluruh barang titipan telah terjual. Uang hasil penjualan tersebut justru digunakan oleh para Terdakwa untuk membayar gaji karyawan, menutupi biaya operasional, serta memenuhi kebutuhan hidup pribadi, tanpa seizin atau sepengetahuan PT. Putra Dewata Sejati. Perbuatan para Terdakwa tersebut telah mengakibatkan kerugian keuangan bagi PT. Putra Dewata Sejati sebesar Rp413.883.979,- (empat ratus tiga belas juta delapan ratus delapan puluh tiga ribu sembilan ratus tujuh puluh sembilan rupiah). Perbuatan tersebut dilakukan secara bersama-sama dan berlanjut, serta diatur dan diancam pidana dalam Pasal 372 KUHP jo. Pasal 55 Ayat (1) ke-1 KUHP jo. Pasal 64 Ayat (1) KUHP.",
         "18.0"
        ],
        [
         "13",
         "3",
         "7",
         "1",
         "8",
         "48",
         "NI KOMANG WARSIKI",
         "Bahwa para Terdakwa, yakni Terdakwa I Ketut Suputra dan Terdakwa II Ni Komang Warsiki, dalam kurun waktu antara bulan Mei 2019 sampai dengan Oktober 2020, bertempat di gudang milik para Terdakwa yang beralamat di Jalan Soekarno, Banjar Dukuh, Desa Bunutin, Kecamatan Bangli, Kabupaten Bangli, telah melakukan perbuatan melawan hukum dengan cara menguasai secara melawan hak barang titipan milik PT. Putra Dewata Sejati. Awalnya, Terdakwa I menjalin kerja sama usaha penjualan produk minuman bermerek Aqua dengan PT. Putra Dewata Sejati di bawah nama usaha UD. Sari Merta berdasarkan Surat Kesepakatan Nomor 002/SP/PDS-BALI/IV/2019 tanggal 6 April 2019. Dalam pelaksanaan kerja sama tersebut, PT. Putra Dewata Sejati menyerahkan sejumlah barang titipan kepada UD. Sari Merta untuk dijual kembali, dengan ketentuan bahwa harga pokok barang harus disetorkan kembali kepada PT. Putra Dewata Sejati setelah barang terjual, sedangkan selisih harga jual menjadi keuntungan bagi UD. Sari Merta. Dalam pelaksanaan usahanya, Terdakwa I selaku penanggung jawab operasional dan Terdakwa II sebagai bagian administrasi bertugas mengelola penjualan, keuangan, dan pembayaran kepada pihak supplier. Akan tetapi, sejak bulan Mei 2019, para Terdakwa mulai tidak menyetorkan secara penuh hasil penjualan barang, dan sejak bulan Oktober 2020 tidak lagi melakukan penyetoran sama sekali, padahal seluruh barang titipan telah terjual. Uang hasil penjualan tersebut justru digunakan oleh para Terdakwa untuk membayar gaji karyawan, menutupi biaya operasional, serta memenuhi kebutuhan hidup pribadi, tanpa seizin atau sepengetahuan PT. Putra Dewata Sejati. Perbuatan para Terdakwa tersebut telah mengakibatkan kerugian keuangan bagi PT. Putra Dewata Sejati sebesar Rp413.883.979,- (empat ratus tiga belas juta delapan ratus delapan puluh tiga ribu sembilan ratus tujuh puluh sembilan rupiah). Perbuatan tersebut dilakukan secara bersama-sama dan berlanjut, serta diatur dan diancam pidana dalam Pasal 372 KUHP jo. Pasal 55 Ayat (1) ke-1 KUHP jo. Pasal 64 Ayat (1) KUHP.",
         "10.0"
        ],
        [
         "14",
         "3",
         "5",
         "1",
         "8",
         "48",
         "NI KOMANG WARSIKI",
         "Bahwa para Terdakwa, yakni Terdakwa I Ketut Suputra dan Terdakwa II Ni Komang Warsiki, dalam kurun waktu antara bulan Mei 2019 sampai dengan Oktober 2020, bertempat di gudang milik para Terdakwa yang beralamat di Jalan Soekarno, Banjar Dukuh, Desa Bunutin, Kecamatan Bangli, Kabupaten Bangli, telah melakukan perbuatan melawan hukum dengan cara menguasai secara melawan hak barang titipan milik PT. Putra Dewata Sejati. Awalnya, Terdakwa I menjalin kerja sama usaha penjualan produk minuman bermerek Aqua dengan PT. Putra Dewata Sejati di bawah nama usaha UD. Sari Merta berdasarkan Surat Kesepakatan Nomor 002/SP/PDS-BALI/IV/2019 tanggal 6 April 2019. Dalam pelaksanaan kerja sama tersebut, PT. Putra Dewata Sejati menyerahkan sejumlah barang titipan kepada UD. Sari Merta untuk dijual kembali, dengan ketentuan bahwa harga pokok barang harus disetorkan kembali kepada PT. Putra Dewata Sejati setelah barang terjual, sedangkan selisih harga jual menjadi keuntungan bagi UD. Sari Merta. Dalam pelaksanaan usahanya, Terdakwa I selaku penanggung jawab operasional dan Terdakwa II sebagai bagian administrasi bertugas mengelola penjualan, keuangan, dan pembayaran kepada pihak supplier. Akan tetapi, sejak bulan Mei 2019, para Terdakwa mulai tidak menyetorkan secara penuh hasil penjualan barang, dan sejak bulan Oktober 2020 tidak lagi melakukan penyetoran sama sekali, padahal seluruh barang titipan telah terjual. Uang hasil penjualan tersebut justru digunakan oleh para Terdakwa untuk membayar gaji karyawan, menutupi biaya operasional, serta memenuhi kebutuhan hidup pribadi, tanpa seizin atau sepengetahuan PT. Putra Dewata Sejati. Perbuatan para Terdakwa tersebut telah mengakibatkan kerugian keuangan bagi PT. Putra Dewata Sejati sebesar Rp413.883.979,- (empat ratus tiga belas juta delapan ratus delapan puluh tiga ribu sembilan ratus tujuh puluh sembilan rupiah). Perbuatan tersebut dilakukan secara bersama-sama dan berlanjut, serta diatur dan diancam pidana dalam Pasal 372 KUHP jo. Pasal 55 Ayat (1) ke-1 KUHP jo. Pasal 64 Ayat (1) KUHP.",
         "10.0"
        ],
        [
         "15",
         "0",
         "8",
         "0",
         "6",
         "144",
         "I KETUT JONI ADNYANA ADI PUTRA",
         "Terdakwa I Ketut Joni Adnyana Adi Putra dan Terdakwa II Rosita Evayanti Dewi melakukan pencurian sepeda motor di dua lokasi berbeda di wilayah Kintamani, Bangli. Aksi pertama dilakukan pada 10 September 2023 sekitar pukul 01.00 WITA di parkiran Sukawana Sunrise, di mana Terdakwa I mengambil sepeda motor Yamaha NMAX DK 3498 PT milik saksi Made Yusa Paramartha dengan cara mendorong motor yang tidak terkunci dan menyalakan mesin menggunakan alat-alat seperti obeng, tang, dan kunci L. Motor hasil curian ini digunakan untuk keperluan sehari-hari. Aksi kedua dilakukan pada 1 Oktober 2023 sekitar pukul 02.00 WITA di parkiran Le Monte Sunrise. Dengan menggunakan mobil sewaan, kedua terdakwa kembali ke Kintamani dan Terdakwa I mencuri motor Yamaha NMAX DK 6992 LB milik I Kadek Indrawan dengan modus serupa. Sepeda motor tersebut kemudian dijual secara daring seharga Rp5.300.000. Akibat perbuatan kedua terdakwa, saksi Made Yusa Paramartha mengalami kerugian sebesar Rp25.500.000,- dan saksi I Kadek Indrawan mengalami kerugian sebesar Rp26.700.000,-. Perbuatan para terdakwa diancam pidana berdasarkan Pasal 363 Ayat (1) ke-4 KUHP jo. Pasal 65 Ayat (1) KUHP.",
         "16.0"
        ],
        [
         "16",
         "0",
         "9",
         "0",
         "6",
         "144",
         "I KETUT JONI ADNYANA ADI PUTRA",
         "Terdakwa I Ketut Joni Adnyana Adi Putra dan Terdakwa II Rosita Evayanti Dewi melakukan pencurian sepeda motor di dua lokasi berbeda di wilayah Kintamani, Bangli. Aksi pertama dilakukan pada 10 September 2023 sekitar pukul 01.00 WITA di parkiran Sukawana Sunrise, di mana Terdakwa I mengambil sepeda motor Yamaha NMAX DK 3498 PT milik saksi Made Yusa Paramartha dengan cara mendorong motor yang tidak terkunci dan menyalakan mesin menggunakan alat-alat seperti obeng, tang, dan kunci L. Motor hasil curian ini digunakan untuk keperluan sehari-hari. Aksi kedua dilakukan pada 1 Oktober 2023 sekitar pukul 02.00 WITA di parkiran Le Monte Sunrise. Dengan menggunakan mobil sewaan, kedua terdakwa kembali ke Kintamani dan Terdakwa I mencuri motor Yamaha NMAX DK 6992 LB milik I Kadek Indrawan dengan modus serupa. Sepeda motor tersebut kemudian dijual secara daring seharga Rp5.300.000. Akibat perbuatan kedua terdakwa, saksi Made Yusa Paramartha mengalami kerugian sebesar Rp25.500.000,- dan saksi I Kadek Indrawan mengalami kerugian sebesar Rp26.700.000,-. Perbuatan para terdakwa diancam pidana berdasarkan Pasal 363 Ayat (1) ke-4 KUHP jo. Pasal 65 Ayat (1) KUHP.",
         "16.0"
        ],
        [
         "17",
         "0",
         "8",
         "0",
         "6",
         "144",
         "ROSITA EVAYANTI DEWI",
         "Terdakwa I Ketut Joni Adnyana Adi Putra dan Terdakwa II Rosita Evayanti Dewi melakukan pencurian sepeda motor di dua lokasi berbeda di wilayah Kintamani, Bangli. Aksi pertama dilakukan pada 10 September 2023 sekitar pukul 01.00 WITA di parkiran Sukawana Sunrise, di mana Terdakwa I mengambil sepeda motor Yamaha NMAX DK 3498 PT milik saksi Made Yusa Paramartha dengan cara mendorong motor yang tidak terkunci dan menyalakan mesin menggunakan alat-alat seperti obeng, tang, dan kunci L. Motor hasil curian ini digunakan untuk keperluan sehari-hari. Aksi kedua dilakukan pada 1 Oktober 2023 sekitar pukul 02.00 WITA di parkiran Le Monte Sunrise. Dengan menggunakan mobil sewaan, kedua terdakwa kembali ke Kintamani dan Terdakwa I mencuri motor Yamaha NMAX DK 6992 LB milik I Kadek Indrawan dengan modus serupa. Sepeda motor tersebut kemudian dijual secara daring seharga Rp5.300.000. Akibat perbuatan kedua terdakwa, saksi Made Yusa Paramartha mengalami kerugian sebesar Rp25.500.000,- dan saksi I Kadek Indrawan mengalami kerugian sebesar Rp26.700.000,-. Perbuatan para terdakwa diancam pidana berdasarkan Pasal 363 Ayat (1) ke-4 KUHP jo. Pasal 65 Ayat (1) KUHP.",
         "14.0"
        ],
        [
         "18",
         "0",
         "9",
         "0",
         "6",
         "144",
         "ROSITA EVAYANTI DEWI",
         "Terdakwa I Ketut Joni Adnyana Adi Putra dan Terdakwa II Rosita Evayanti Dewi melakukan pencurian sepeda motor di dua lokasi berbeda di wilayah Kintamani, Bangli. Aksi pertama dilakukan pada 10 September 2023 sekitar pukul 01.00 WITA di parkiran Sukawana Sunrise, di mana Terdakwa I mengambil sepeda motor Yamaha NMAX DK 3498 PT milik saksi Made Yusa Paramartha dengan cara mendorong motor yang tidak terkunci dan menyalakan mesin menggunakan alat-alat seperti obeng, tang, dan kunci L. Motor hasil curian ini digunakan untuk keperluan sehari-hari. Aksi kedua dilakukan pada 1 Oktober 2023 sekitar pukul 02.00 WITA di parkiran Le Monte Sunrise. Dengan menggunakan mobil sewaan, kedua terdakwa kembali ke Kintamani dan Terdakwa I mencuri motor Yamaha NMAX DK 6992 LB milik I Kadek Indrawan dengan modus serupa. Sepeda motor tersebut kemudian dijual secara daring seharga Rp5.300.000. Akibat perbuatan kedua terdakwa, saksi Made Yusa Paramartha mengalami kerugian sebesar Rp25.500.000,- dan saksi I Kadek Indrawan mengalami kerugian sebesar Rp26.700.000,-. Perbuatan para terdakwa diancam pidana berdasarkan Pasal 363 Ayat (1) ke-4 KUHP jo. Pasal 65 Ayat (1) KUHP.",
         "14.0"
        ],
        [
         "19",
         "0",
         "1",
         "0",
         "4",
         "60",
         "I NYOMAN BUDIAWAN Als. SUMAWAN",
         "Pada hari Rabu, 25 Oktober 2023 sekitar pukul 13.00 WITA, terdakwa I Nyoman Budiawan alias Sumawan melakukan pencurian kartu ATM BRI milik saksi Luh Putu Widiantari di Toko UD. Langsung Jaya, Jalan Raya Kintamani, Desa Kintamani, Kecamatan Kintamani, Kabupaten Bangli. Awalnya, terdakwa datang ke toko tersebut untuk mentransfer uang, namun saat mengetahui mesin BRI Link rusak dan pegawai toko pergi, terdakwa memanfaatkan situasi sepi untuk mengambil kartu ATM yang berada di atas meja kasir. Terdakwa kemudian pulang ke rumahnya dan menggunakan kartu ATM tersebut di mesin ATM BRI Toya Devasya, dengan memasukkan PIN 020202 yang telah ia ketahui sebelumnya karena sering melihat pegawai toko menggunakannya. Terdakwa melakukan penarikan tunai sebanyak empat kali dengan total Rp10.000.000. Setelah menerima laporan dari korban, pihak kepolisian melakukan olah TKP dan berhasil mengamankan terdakwa di rumahnya pada 28 Oktober 2023. Akibat perbuatannya, korban mengalami kerugian sebesar Rp10.000.000. Perbuatan terdakwa diancam pidana berdasarkan Pasal 362 KUHP.",
         "14.0"
        ],
        [
         "20",
         "0",
         "0",
         "0",
         "4",
         "60",
         "I NYOMAN BUDIAWAN Als. SUMAWAN",
         "Pada hari Rabu, 25 Oktober 2023 sekitar pukul 13.00 WITA, terdakwa I Nyoman Budiawan alias Sumawan melakukan pencurian kartu ATM BRI milik saksi Luh Putu Widiantari di Toko UD. Langsung Jaya, Jalan Raya Kintamani, Desa Kintamani, Kecamatan Kintamani, Kabupaten Bangli. Awalnya, terdakwa datang ke toko tersebut untuk mentransfer uang, namun saat mengetahui mesin BRI Link rusak dan pegawai toko pergi, terdakwa memanfaatkan situasi sepi untuk mengambil kartu ATM yang berada di atas meja kasir. Terdakwa kemudian pulang ke rumahnya dan menggunakan kartu ATM tersebut di mesin ATM BRI Toya Devasya, dengan memasukkan PIN 020202 yang telah ia ketahui sebelumnya karena sering melihat pegawai toko menggunakannya. Terdakwa melakukan penarikan tunai sebanyak empat kali dengan total Rp10.000.000. Setelah menerima laporan dari korban, pihak kepolisian melakukan olah TKP dan berhasil mengamankan terdakwa di rumahnya pada 28 Oktober 2023. Akibat perbuatannya, korban mengalami kerugian sebesar Rp10.000.000. Perbuatan terdakwa diancam pidana berdasarkan Pasal 362 KUHP.",
         "14.0"
        ],
        [
         "21",
         "1",
         "10",
         "0",
         "7",
         "48",
         "DESAK MADE CITRAWATI",
         "Pada bulan April 2023, terdakwa Desak Made Citrawati didakwa melakukan tindak pidana penipuan secara berlanjut terhadap dua korban, yaitu I Putu Sutarga dan Pande Ketut Suarca, dengan total kerugian mencapai lebih dari Rp 391 juta. Modus operandi terdakwa adalah membeli telur dan beras dalam jumlah besar dari kedua korban dengan dalih pembayaran menggunakan cek mundur, disertai pernyataan palsu bahwa ia memiliki aset tanah di Singaraja yang sedang dalam proses penjualan. Terdakwa memesan telur sebanyak 4.435 krei dari I Putu Sutarga senilai total Rp 228.600.000, dan beras sebanyak 14.500 kg dari Pande Ketut Suarca dengan total nilai Rp 162.400.000. Setiap transaksi dilakukan secara bertahap pada tanggal 21, 23, 25, dan 28 April 2023. Terdakwa meyakinkan para korban dengan janji pelunasan dan surat pengakuan utang, namun setelah cek jatuh tempo, tidak ada dana yang tersedia. Pemeriksaan terhadap klaim kepemilikan tanah menunjukkan bahwa terdakwa hanya memberikan uang muka atas tanah tersebut dan belum ada kepastian transaksi. Perbuatan Terdakwa didakwa dengan dakwaan primair Pasal 378 jo. Pasal 64 Ayat (1) ke-1 KUHP, dan dakwaan subsidair 379a KUHP Jo. Pasal 64 Ayat (1) ke-1 KUHP.",
         "30.0"
        ],
        [
         "22",
         "0",
         "11",
         "4",
         "3",
         "108",
         "I KETUT DENA",
         "Pada hari Jumat, 5 Februari 2021 sekitar pukul 19.00 WITA, terdakwa I Ketut Dena bersama Dewa Made Sujana (dalam berkas terpisah) melakukan pencurian satu unit sepeda motor Honda Scoopy warna hitam kombinasi merah dengan nomor polisi DK 5807 PS yang terparkir di depan rumah saksi I Nengah Sumerta di Desa Yangapi, Kecamatan Tembuku, Kabupaten Bangli. Sebelumnya, kedua terdakwa sempat pergi ke beberapa lokasi sabung ayam. Saat melintasi lokasi kejadian, Dewa Made Sujana melihat motor dalam keadaan tidak terkunci dan memerintahkan Ketut Dena untuk berjaga sementara dirinya mengambil sepeda motor tersebut. Setelah berhasil menghidupkan dan membawa motor itu, mereka menyembunyikannya di bawah jembatan di Gianyar. Keesokan harinya, motor tersebut diambil kembali dan diganti plat nomornya menggunakan plat dari motor lain, kemudian dibawa ke rumah Dewa Made Sujana. Sore harinya, Dewa Made Sujana ditangkap karena kasus pencurian handphone dan meminta Ketut Dena mengambil motor tersebut. Karena motor terkunci dan kuncinya masih disimpan Dewa Made Sujana, Ketut Dena memanggil tukang kunci untuk membuat duplikat. Motor curian itu lalu digadaikan oleh Ketut Dena kepada saksi Luh Sriani seharga Rp2.000.000 tanpa dokumen STNK atau BPKB. Korban, I Wayan Miyasa, melaporkan kehilangan tersebut ke Polsek Tembuku. Sekitar seminggu kemudian, Ketut Dena ditangkap atas kasus penadahan, mengakui perbuatannya, dan membantu polisi mencari motor dan kunci aslinya yang ditemukan di tas milik Dewa Made Sujana. Akibat perbuatan tersebut, korban mengalami kerugian sekitar Rp15.000.000. Tindak pidana ini diancam dengan 2 dakwaan yaitu dakwaan primair dengan Pasal 363 ayat (1) ke-4 KUHP serta dakwaan subsidair dengan Pasal 326 KUHP.",
         "12.0"
        ],
        [
         "23",
         "0",
         "11",
         "4",
         "6",
         "84",
         "DEWA MADE SUJANA",
         "Pada hari Jumat, 5 Februari 2021 sekitar pukul 09.30 WITA, Terdakwa Dewa Made Sujana bersama I Ketut Dena (berkas terpisah) pergi ke Nongan, Karangasem untuk menonton sabung ayam dengan mengendarai sepeda motor Honda Scoopy warna coklat hitam. Sekitar pukul 14.30 WITA, mereka mendengar ada sabung ayam di Pulasari, Tembuku, namun karena acara tersebut tidak ada, mereka kembali melewati Banjar Sideparna, Desa Yangapi, Bangli. Di lokasi tersebut, Terdakwa melihat sepeda motor Honda Scoopy warna hitam kombinasi merah yang terparkir dengan kunci masih menggantung, lalu meminta I Ketut Dena berhenti untuk mengawasi sekitar. Setelah merasa aman, Terdakwa menyalakan dan membawa kabur sepeda motor tersebut, sedangkan I Ketut Dena mengikuti dengan motor yang mereka gunakan sebelumnya. Motor hasil curian tersebut disembunyikan di bawah jembatan dekat Pantai Lebih, Gianyar. Keesokan harinya, mereka kembali mengambil motor tersebut dan mengganti plat nomornya dengan yang diambil dari motor lain, kemudian motor dibawa ke rumah Terdakwa di Ubud dan diparkir di garasi. Pada sore harinya, Terdakwa ditangkap oleh Polsek Sukawati atas kasus pencurian handphone. Saat penggeledahan, ditemukan kunci asli motor curian di tas milik Terdakwa yang diserahkan oleh istrinya. Akibat perbuatan tersebut, saksi korban I Wayan Miyasa mengalami kerugian sebesar Rp15.000.000. Perbuatan Terdakwa didakwa dengan dakwaan primair Pasal 363 Ayat (1) ke-4 KUHP, dan dakwaan subsidair Pasal 362 KUHP.",
         "15.0"
        ],
        [
         "24",
         "2",
         "12",
         "4",
         "2",
         "144",
         "I KOMANG RENDI YANA alis RENDI",
         "Pada Selasa, 6 Juni 2023 sekitar pukul 20.10 WITA di Jalan Tirta Geduh, Kelurahan Bebalang, Bangli, terdakwa I Komang Rendi Yana alias Rendi ditangkap karena tanpa hak memiliki dan menyimpan narkotika jenis sabu. Awalnya, terdakwa memesan sabu seharga Rp200.000 kepada seseorang bernama Gus Ucil (DPO), lalu mengambil paket tersebut di bawah pohon mahoni di Jalan Putra Yuda, Bangli, sesuai petunjuk. Setelah dikonsumsi sebagian di rumahnya di Banua, Kintamani, sisa sabu disimpan dalam gantungan handphone yang dibungkus stiker dan diselipkan di jaket. Saat hendak ke alun-alun Bangli, terdakwa diberhentikan oleh polisi dan ditemukan sabu seberat 0,10 gram netto dalam jaketnya. Barang bukti lainnya termasuk bong bekas pakai, handphone, dan sepeda motor juga diamankan. Hasil uji laboratorium menunjukkan sabu mengandung metamfetamina yang tergolong Narkotika Golongan I. Perbuatan Terdakwa didakwa dengan dakwaan primair Pasal 112 Ayat (1) UU RI No. 35 Tahun 2009 tentang Narkotika, dan dakwaan subsidair Pasal 127 Ayat (1) huruf a UU RI No. 35 Tahun 2009 tentang Narkotika.",
         "15.0"
        ],
        [
         "25",
         "2",
         "5",
         "4",
         "2",
         "144",
         "I KOMANG RENDI YANA alis RENDI",
         "Pada Selasa, 6 Juni 2023 sekitar pukul 20.10 WITA di Jalan Tirta Geduh, Kelurahan Bebalang, Bangli, terdakwa I Komang Rendi Yana alias Rendi ditangkap karena tanpa hak memiliki dan menyimpan narkotika jenis sabu. Awalnya, terdakwa memesan sabu seharga Rp200.000 kepada seseorang bernama Gus Ucil (DPO), lalu mengambil paket tersebut di bawah pohon mahoni di Jalan Putra Yuda, Bangli, sesuai petunjuk. Setelah dikonsumsi sebagian di rumahnya di Banua, Kintamani, sisa sabu disimpan dalam gantungan handphone yang dibungkus stiker dan diselipkan di jaket. Saat hendak ke alun-alun Bangli, terdakwa diberhentikan oleh polisi dan ditemukan sabu seberat 0,10 gram netto dalam jaketnya. Barang bukti lainnya termasuk bong bekas pakai, handphone, dan sepeda motor juga diamankan. Hasil uji laboratorium menunjukkan sabu mengandung metamfetamina yang tergolong Narkotika Golongan I. Perbuatan Terdakwa didakwa dengan dakwaan primair Pasal 112 Ayat (1) UU RI No. 35 Tahun 2009 tentang Narkotika, dan dakwaan subsidair Pasal 127 Ayat (1) huruf a UU RI No. 35 Tahun 2009 tentang Narkotika.",
         "15.0"
        ],
        [
         "26",
         "2",
         "13",
         "0",
         "3",
         "144",
         "I GUSTI LANANG MADE WIJAYA alias LANANG",
         "Pada Senin, 24 April 2023 sekitar pukul 22.30 WITA di pinggir Jalan Muhamad Hatta, Bebalang, Bangli, terdakwa I Gusti Lanang Made Wijaya alias Lanang tertangkap karena tanpa hak memiliki narkotika jenis sabu. Sebelumnya, terdakwa memesan sabu seharga Rp700.000 dari seseorang bernama Jung Tu (DPO) melalui WhatsApp dan mengambil barang tersebut di bawah pot bunga di Desa Semana, Badung. Setelah mengonsumsinya sebagian di rumahnya di Ubud, terdakwa menyimpan sisa sabu ke dalam bungkus rokok yang dimasukkan ke saku celana. Malam harinya, saat hendak menemui seorang wanita bernama Riena (DPO) di Bangli, terdakwa dihentikan oleh polisi dan dilakukan penggeledahan. Polisi menemukan sabu seberat 0,10 gram netto, satu handphone, dan sepeda motor yang digunakan terdakwa. Berdasarkan hasil pemeriksaan laboratorium, kristal bening tersebut positif mengandung metamfetamina yang tergolong Narkotika Golongan I. Perbuatan Terdakwa didakwa dengan dakwaan primair Pasal 112 Ayat (1) UU RI No. 35 Tahun 2009 Tentang Narkotika, dan dakwaan subsidair Pasal 127 Ayat (1) huruf a UU RI No. 35 Tahun 2009 Tentang Narkotika.",
         "16.0"
        ],
        [
         "27",
         "2",
         "10",
         "2",
         "5",
         "144",
         "SELAMET HARIANTO alias SELAMET",
         "Terdakwa Selamet Harianto alias Selamet bersama Sodakoh Maliki alias Dakoh (dalam berkas terpisah) pada 15 Mei 2023 sekitar pukul 20.45 WITA, bertempat di Jalan Muhammad Hatta, Kelurahan Bebalang, Kecamatan Bangli, kedapatan memiliki narkotika jenis sabu seberat 0,15 gram netto tanpa izin dari pihak berwenang. Perbuatan ini berawal ketika Selamet menghubungi seseorang bernama Rizal (DPO) untuk mencari pekerjaan dan ditawari menjadi \"peluncur\" (PL), yaitu mengambil paket sabu di Bangli. Selamet kemudian mengajak Sodakoh Maliki untuk menemaninya dengan janji akan memakai sabu bersama. Mereka berangkat dari Denpasar ke Bangli dengan motor dan mengambil paket sabu yang disimpan di belakang tiang listrik sesuai petunjuk dari Rizal. Saat dalam perjalanan kembali ke Denpasar, mereka ditangkap oleh polisi di Jalan Muhammad Hatta dan ditemukan barang bukti sabu serta alat-alat konsumsi narkotika. Dalam penggeledahan, ditemukan pula sabu lain seberat 0,02 gram netto milik Sodakoh Maliki yang disimpan dalam tas pinggang, serta berbagai perlengkapan penggunaan sabu. Berdasarkan hasil uji laboratorium, kristal yang ditemukan terbukti mengandung metamfetamina, sedangkan hasil tes urine Selamet negatif narkotika. Selamet sebelumnya juga pernah dihukum dalam kasus serupa berdasarkan putusan PN Denpasar tahun 2019 dan baru bebas pada 7 Maret 2023. Terdakwa didakwa dengan Pasal 112 Ayat (1) UU RI No. 35 Tahun 2009 tentang Narkotika jo. Pasal 55 Ayat (1) ke-1 KUHP.",
         "75.0"
        ],
        [
         "28",
         "2",
         "13",
         "4",
         "5",
         "240",
         "RAIHAN RAHADI AZHAR alias RAIHAN",
         "Terdakwa Raihan Rahadi Azhar alias Raihan, bersama-sama dengan Gungggus Togar Manatar Pangaribuan alias Togar (yang berkas perkaranya terpisah), pada 14 Maret 2023 di Rutan Kelas IIB Bangli, diduga melakukan tindak pidana narkotika dengan tanpa hak atau melawan hukum menjadi perantara dalam jual beli narkotika golongan I berupa tembakau sintetis. Togar meminjam nama Raihan untuk menerima paket berisi tembakau sintetis yang dikirim melalui jasa ekspedisi JT. Raihan menyetujui permintaan tersebut dan menerima paket atas namanya pada 16 Maret 2023. Setelah menerima paket di ruang portir rutan, Raihan langsung diamankan petugas. Pemeriksaan terhadap paket menunjukkan adanya dua bungkus tembakau sintetis dengan total berat bersih 52 gram netto, yang masing-masing dikemas dalam plastik bermerek Violin dan Rhino. Berdasarkan hasil uji laboratorium, daun-daun kering tersebut positif mengandung MDMB-4en PINACA, zat yang termasuk dalam Narkotika Golongan I. Raihan tidak memiliki izin dari Kementerian Kesehatan atau instansi berwenang lainnya untuk memperjualbelikan atau menjadi perantara narkotika tersebut. Perbuatan Terdakwa didakwa dengan dakwaan pertama Pasal 114 Ayat (1) UU RI No. 35 Tahun 2009 tentang Narkotika jo. Pasal 55 Ayat (1) ke-1 KUHP, dakwaan kedua Pasal 112 Ayat (1) UU RI No. 35 Tahun 2009 Tentang Narkotika jo. Pasal 55 Ayat (1) ke-1 KUHP, dan dakwaan ketiga Pasal 111 Ayat (1) UU RI No. 35 Tahun 2009 Tentang Narkotika jo. Pasal 55 Ayat (1) ke-1 KUHP.",
         "90.0"
        ],
        [
         "29",
         "2",
         "13",
         "4",
         "5",
         "240",
         "GUNGGUS TOGAR MANATAR PANGARIBUAN alias TOGAR",
         "Terdakwa Gunggus Togar Manatar Pangaribuan alias Togar, baik sendiri maupun bersama-sama dengan Raihan Rahadi Azhar alias Raihan (terdakwa dalam berkas terpisah), pada 14 Maret 2023 sekitar pukul 12.00 WITA di kamar tahanan Blok B Rutan Kelas IIB Bangli, memesan narkotika golongan I berupa tembakau sintetis dari seorang bernama Zetas Networking (DPO). Terdakwa meminjam nama Raihan untuk menerima paket narkotika tersebut melalui jasa pengiriman JT. Setelah mentransfer uang sebesar Rp1.400.000 melalui OVO, Terdakwa meminta agar paket dikirim atas nama Raihan. Pada 16 Maret 2023, Raihan diamankan oleh petugas rutan saat menerima paket berisi dua bungkus tembakau sintetis, masing-masing dibungkus plastik bermerek Violin dan Rhino. Setelah diinterogasi, Raihan mengaku bahwa paket tersebut milik Terdakwa. Pemeriksaan barang bukti menunjukkan bahwa tembakau tersebut mengandung senyawa MDMB-4en PINACA yang tergolong dalam Narkotika Golongan I. Terdakwa tidak memiliki izin dari Menteri Kesehatan atau lembaga berwenang lainnya untuk memperjualbelikan atau menerima narkotika tersebut. Perbuatan Terdakwa didakwa dengan dakwaan pertama Pasal 114 Ayat (1) UU RI No. 35 Tahun 2009 tentang Narkotika jo. Pasal 55 Ayat (1) ke-1 KUHP, dakwaan kedua Pasal 112 Ayat (1) UU RI No. 35 Tahun 2009 Tentang Narkotika jo. Pasal 55 Ayat (1) ke-1 KUHP, dan dakwaan ketiga Pasal 111 Ayat (1) UU RI No. 35 Tahun 2009 Tentang Narkotika jo. Pasal 55 Ayat (1) ke-1 KUHP.",
         "102.0"
        ],
        [
         "30",
         "4",
         "14",
         "0",
         "4",
         "120",
         "I NYOMAN RAWAS",
         "Pada hari Senin, 27 Maret 2023 sekitar pukul 21.30 WITA, terdakwa I Nyoman Rawas bersama I Ketut Sudima menyelenggarakan permainan judi cap jeki di lapangan terbuka di Banjar Kedisan, Desa Kedisan, Kecamatan Kintamani, Kabupaten Bangli. Kegiatan ini telah diberitahukan sebelumnya kepada para penjudi, dan terdakwa menyiapkan berbagai peralatan seperti perlak angka, handuk, kotak kaleng, kartu ceki, dan uang modal sebesar Rp 2.000.000. Dalam permainan tersebut, I Nyoman Rawas bertindak sebagai bandar yang mengendalikan jalannya permainan dan menentukan hasil, sementara I Ketut Sudima berperan sebagai kasir yang membayar kemenangan atau mengambil taruhan yang kalah. Permainan dilakukan dengan dua sistem, yaitu sistem “melok” (seri) dan “nyolot” (menang-kalah), yang masing-masing memiliki ketentuan kemenangan dan pembayarannya sendiri. Pada malam itu, para terdakwa melangsungkan enam putaran permainan dan memperoleh keuntungan sebesar Rp 370.000 sebelum akhirnya ditangkap oleh pihak kepolisian. Dari hasil penyelidikan, diketahui bahwa para terdakwa telah berulang kali menyelenggarakan permainan serupa di berbagai lokasi dan menjadikannya sebagai sumber penghasilan untuk kebutuhan sehari-hari. Seluruh kegiatan perjudian tersebut dilakukan tanpa izin resmi dan merupakan bentuk perjudian yang bersifat untung-untungan. Perbuatan Terdakwa didakwa dengan dakwaan primair Pasal 303 Ayat (1) ke-1 KUHP jo. Pasal 2 Undang-Undang No. 7 Tahun 1974 tentang Penertiban Perjudian, dan dakwaan subsidair Pasal 303 Ayat (1) ke-2 KUHP jo. Pasal 2 Undang-Undang No. 7 Tahun 1974 Tentang Penertiban Perjudian.",
         "7.0"
        ],
        [
         "31",
         "4",
         "14",
         "0",
         "4",
         "120",
         "I KETUT SUDIMA",
         "Pada hari Senin, 27 Maret 2023 sekitar pukul 21.30 WITA, terdakwa I Nyoman Rawas bersama I Ketut Sudima menyelenggarakan permainan judi cap jeki di lapangan terbuka di Banjar Kedisan, Desa Kedisan, Kecamatan Kintamani, Kabupaten Bangli. Kegiatan ini telah diberitahukan sebelumnya kepada para penjudi, dan terdakwa menyiapkan berbagai peralatan seperti perlak angka, handuk, kotak kaleng, kartu ceki, dan uang modal sebesar Rp 2.000.000. Dalam permainan tersebut, I Nyoman Rawas bertindak sebagai bandar yang mengendalikan jalannya permainan dan menentukan hasil, sementara I Ketut Sudima berperan sebagai kasir yang membayar kemenangan atau mengambil taruhan yang kalah. Permainan dilakukan dengan dua sistem, yaitu sistem “melok” (seri) dan “nyolot” (menang-kalah), yang masing-masing memiliki ketentuan kemenangan dan pembayarannya sendiri. Pada malam itu, para terdakwa melangsungkan enam putaran permainan dan memperoleh keuntungan sebesar Rp 370.000 sebelum akhirnya ditangkap oleh pihak kepolisian. Dari hasil penyelidikan, diketahui bahwa para terdakwa telah berulang kali menyelenggarakan permainan serupa di berbagai lokasi dan menjadikannya sebagai sumber penghasilan untuk kebutuhan sehari-hari. Seluruh kegiatan perjudian tersebut dilakukan tanpa izin resmi dan merupakan bentuk perjudian yang bersifat untung-untungan. Perbuatan Terdakwa didakwa dengan dakwaan primair Pasal 303 Ayat (1) ke-1 KUHP jo. Pasal 2 Undang-Undang No. 7 Tahun 1974 tentang Penertiban Perjudian, dan dakwaan subsidair Pasal 303 Ayat (1) ke-2 KUHP jo. Pasal 2 Undang-Undang No. 7 Tahun 1974 Tentang Penertiban Perjudian.",
         "6.0"
        ],
        [
         "32",
         "0",
         "13",
         "0",
         "3",
         "84",
         "NI LUH PUSPA DEWI",
         "Pada hari Minggu, 4 Juli 2021 sekitar pukul 11.00 WITA, Terdakwa Ni Luh Puspa Dewi dalam perjalanan menuju ladang orang tuanya di Desa Suter, Bangli, melewati sebuah rumah kosong di Banjar Munduk Waru, Desa Buahan, Kintamani, dan timbul niat untuk mencuri. Setelah memastikan keadaan sekitar aman, terdakwa masuk ke rumah tersebut dan menemukan kunci di lemari kaca dalam salah satu kamar. Ia kemudian membuka kamar lain dengan kunci tersebut dan menemukan dompet biru bermotif bunga berisi berbagai perhiasan emas, termasuk kalung, gelang, cincin, dan anting-anting dengan total berat puluhan gram. Semua barang tersebut diambil dan disimpan di sakunya, lalu terdakwa meninggalkan lokasi. Perhiasan hasil curian dijual di Pasar Kidul kepada seorang wanita tak dikenal seharga Rp80.000.000, yang kemudian digunakan untuk kebutuhan sehari-hari dan membeli sejumlah pakaian, sandal, serta cincin emas. Berdasarkan laporan polisi tertanggal 6 Februari 2023, terdakwa akhirnya mengakui seluruh perbuatannya. Akibat kejadian ini, korban I Nyoman Mawa mengalami kerugian sekitar Rp80.000.000. Perbuatan Terdakwa didakwa dengan dakwaan primair Pasal 363 Ayat (1) ke-5 KUHP, dan dakwaan subsidair Pasal 362 KUHP.",
         "6.0"
        ],
        [
         "33",
         "0",
         "15",
         "4",
         "5",
         "80",
         "I Wayan Nawa",
         "Terdakwa I Wayan Nawa didakwa melakukan pencurian pada dua kesempatan berbeda di wilayah Kintamani, Bangli. Pada 2 Oktober 2022, setelah menjual salak, terdakwa menuju ke kebun milik I Wayan Suardana di Banjar Pludu, Desa Bayung Gede, dan berpura-pura menawarkan pupuk ayam. Saat korban lengah, terdakwa mencuri handphone Redmi Note 10S beserta uang tunai sekitar Rp400.000 yang disimpan di kandang sapi. Kemudian, pada 9 November 2022, terdakwa kembali melakukan pencurian di pondokan milik I Wayan Panggih di Desa Binyan dengan modus serupa. Setelah memastikan korban pergi, terdakwa mencuri handphone Redmi Note 7 yang sedang dicas. Kedua handphone tersebut dijual ke konter berbeda dengan total hasil sekitar Rp1.800.000, yang kemudian digunakan untuk kebutuhan sehari-hari. Berdasarkan laporan korban, polisi melakukan penyelidikan dan berhasil menangkap terdakwa pada 9 Februari 2023 di Karangasem. Akibat perbuatannya, korban I Wayan Suardana mengalami kerugian sekitar Rp3.400.000 dan I Wayan Panggih sekitar Rp3.000.000. Terdakwa dijerat dengan Pasal 362 KUHP jo. Pasal 65 Ayat (1) KUHP tentang pencurian yang dilakukan berulang kali.",
         "6.0"
        ],
        [
         "34",
         "0",
         "13",
         "3",
         "5",
         "60",
         "JRO GEDE BUDI",
         "Pada Sabtu, 28 Januari 2023, di Pemandian Tirta Usadha Toya Bungkah, Desa Batur Tengah, Kintamani, Bangli, terdakwa Jro Gede Budi didakwa melakukan pencurian. Setelah selesai berendam, terdakwa melihat sebuah tas hitam bertuliskan \"Steve Madden\" milik korban Ni Jro Luh Putri di bawah loker, lalu mengambilnya dan membawanya pulang menggunakan sepeda motor. Di perjalanan, terdakwa membuka tas tersebut dan menemukan tas merah maroon bertuliskan \"Michael Kors\" berisi uang tunai sebesar Rp5.700.000 serta sebuah dompet berisi perhiasan emas berupa kalung dan cincin, dan dua nota pembelian dari Toko Emas Ratna. Terdakwa mengambil Rp1.000.000 untuk dirinya dan menyembunyikan sisa uang serta perhiasan di bawah pohon di dekat rumahnya, sedangkan tas-tas tersebut disimpan di jok motor. Berdasarkan laporan korban, polisi berhasil mengamankan terdakwa beserta barang-barang bukti, termasuk sepeda motor dan hoodie yang digunakan untuk membungkus barang curian. Atas perbuatannya, korban mengalami kerugian sekitar Rp19.700.000, dan terdakwa dijerat dengan Pasal 362 KUHP tentang pencurian.",
         "5.0"
        ],
        [
         "35",
         "0",
         "1",
         "4",
         "3",
         "84",
         "RIFQI ABDURAHMAN",
         "Pada Minggu, 11 Desember 2022 sekitar pukul 00.30 WITA, terdakwa I Rifqi Abdurahman dan terdakwa II Gunawan melakukan pencurian sepeda motor di pinggir Jalan Raya Kayuambua, Bangli. Sebelumnya, pada 10 Desember 2022, terdakwa II meminta terdakwa I mencarikan sepeda motor Kawasaki KLX untuk dibeli seharga Rp3.000.000. Keduanya lalu berangkat ke daerah Kintamani dengan sepeda motor modifikasi tanpa nomor polisi. Saat tiba di lokasi, mereka melihat motor Kawasaki KLX 150 C tanpa nomor polisi dan kunci kontak, lalu terdakwa I mendorong motor tersebut menjauh sementara terdakwa II mengawasi. Karena motor cetul milik terdakwa II rusak, terdakwa I mendorong motor sendirian dan sempat dicegat dua saksi yang curiga. Setelah berhasil menyalakan motor dan mengendarainya sejauh 100 meter, motor mogok karena kehabisan bensin. Terdakwa I lalu mendorong ke SPBU Sekardadi dan tertidur di sana. Sementara itu, saksi korban mengonfirmasi kehilangan motornya dan bersama saksi lainnya serta polisi, menemukan terdakwa I di SPBU. Polisi kemudian menangkap terdakwa II di Desa Dumilih saat tertidur di emper toko. Akibat perbuatan para terdakwa, korban I Wayan Eva Kusuma Putra mengalami kerugian sekitar Rp16.000.000. Perbuatan Terdakwa didakwa dengan dakwaan primair Pasal 363 Ayat (1) ke-4 KUHP, dan dakwaan subsidair Pasal 362 KUHP.",
         "8.0"
        ],
        [
         "36",
         "0",
         "1",
         "4",
         "3",
         "84",
         "GUNAWAN",
         "Pada Minggu, 11 Desember 2022 sekitar pukul 00.30 WITA, terdakwa I Rifqi Abdurahman dan terdakwa II Gunawan melakukan pencurian sepeda motor di pinggir Jalan Raya Kayuambua, Bangli. Sebelumnya, pada 10 Desember 2022, terdakwa II meminta terdakwa I mencarikan sepeda motor Kawasaki KLX untuk dibeli seharga Rp3.000.000. Keduanya lalu berangkat ke daerah Kintamani dengan sepeda motor modifikasi tanpa nomor polisi. Saat tiba di lokasi, mereka melihat motor Kawasaki KLX 150 C tanpa nomor polisi dan kunci kontak, lalu terdakwa I mendorong motor tersebut menjauh sementara terdakwa II mengawasi. Karena motor cetul milik terdakwa II rusak, terdakwa I mendorong motor sendirian dan sempat dicegat dua saksi yang curiga. Setelah berhasil menyalakan motor dan mengendarainya sejauh 100 meter, motor mogok karena kehabisan bensin. Terdakwa I lalu mendorong ke SPBU Sekardadi dan tertidur di sana. Sementara itu, saksi korban mengonfirmasi kehilangan motornya dan bersama saksi lainnya serta polisi, menemukan terdakwa I di SPBU. Polisi kemudian menangkap terdakwa II di Desa Dumilih saat tertidur di emper toko. Akibat perbuatan para terdakwa, korban I Wayan Eva Kusuma Putra mengalami kerugian sekitar Rp16.000.000. Perbuatan Terdakwa didakwa dengan dakwaan primair Pasal 363 Ayat (1) ke-4 KUHP, dan dakwaan subsidair Pasal 362 KUHP.",
         "8.0"
        ],
        [
         "37",
         "0",
         "1",
         "0",
         "6",
         "80",
         "Gede Kastawa",
         "Terdakwa Gede Kastawa didakwa melakukan serangkaian tindak pidana pencurian ayam di wilayah Kintamani, Bangli, pada bulan Oktober 2022. Pada 21 Oktober 2022, terdakwa mencuri 6 ekor ayam dari belakang rumah korban I Wayan Sukada di Desa Belantih, lalu menjualnya di Pasar Anyar Singaraja seharga Rp800.000. Hasil penjualan digunakan untuk membeli ayam aduan dan berjudi. Kemudian, pada 28 Oktober 2022, terdakwa mencuri 15 ekor ayam milik korban I Made Terus dari kebun jeruk di Desa Belanga, yang kembali dijual dan hasilnya dipakai untuk berjudi. Selanjutnya, pada 30 Oktober 2022, terdakwa beraksi di pondokan milik korban I Wayan Lusin di Desa Belanga, mencuri seekor ayam namun aksinya diketahui oleh saksi dan warga sehingga berhasil diamankan. Total kerugian para korban mencapai sekitar Rp3.500.000. Terdakwa mengaku melakukan pencurian karena alasan ekonomi. Perbuatannya diancam pidana sesuai Pasal 362 jo. Pasal 65 Ayat (1) KUHP.",
         "30.0"
        ],
        [
         "38",
         "0",
         "14",
         "0",
         "6",
         "80",
         "Gede Kastawa",
         "Terdakwa Gede Kastawa didakwa melakukan serangkaian tindak pidana pencurian ayam di wilayah Kintamani, Bangli, pada bulan Oktober 2022. Pada 21 Oktober 2022, terdakwa mencuri 6 ekor ayam dari belakang rumah korban I Wayan Sukada di Desa Belantih, lalu menjualnya di Pasar Anyar Singaraja seharga Rp800.000. Hasil penjualan digunakan untuk membeli ayam aduan dan berjudi. Kemudian, pada 28 Oktober 2022, terdakwa mencuri 15 ekor ayam milik korban I Made Terus dari kebun jeruk di Desa Belanga, yang kembali dijual dan hasilnya dipakai untuk berjudi. Selanjutnya, pada 30 Oktober 2022, terdakwa beraksi di pondokan milik korban I Wayan Lusin di Desa Belanga, mencuri seekor ayam namun aksinya diketahui oleh saksi dan warga sehingga berhasil diamankan. Total kerugian para korban mencapai sekitar Rp3.500.000. Terdakwa mengaku melakukan pencurian karena alasan ekonomi. Perbuatannya diancam pidana sesuai Pasal 362 jo. Pasal 65 Ayat (1) KUHP.",
         "30.0"
        ],
        [
         "39",
         "0",
         "16",
         "0",
         "5",
         "84",
         "Elias Fanggi",
         "Terdakwa Elias Fanggi didakwa melakukan pencurian tiga ekor anak babi milik saksi I Komang Sucitra pada Sabtu, 27 Maret 2021 sekitar pukul 22.30 WITA di kandang babi yang terletak di Desa Abuan, Kecamatan Kintamani, Kabupaten Bangli. Awalnya, terdakwa datang ke kandang pada sore hari untuk membersihkan tempat tersebut. Namun pada malam harinya, terdakwa masuk ke dalam kandang melalui pintu yang tidak terkunci, lalu mengambil tiga ekor anak babi dan memasukkannya ke dalam karung plastik yang telah disiapkannya. Ia kemudian membawa hasil curian itu dengan sepeda motor milik saksi Leonardus Pendi dengan maksud untuk dijual. Aksi tersebut diketahui oleh pemilik kandang, yang kemudian melaporkan terdakwa ke pihak berwajib. Akibat perbuatan tersebut, saksi I Komang Sucitra mengalami kerugian sebesar Rp3.600.000. Perbuatan Terdakwa didakwa dengan dakwaan primair Pasal 363 Ayat (1) ke-1 KUHP, dan dakwaan subsidair Pasal 374 KUHP.",
         "6.0"
        ],
        [
         "40",
         "0",
         "17",
         "0",
         "5",
         "84",
         "Elias Fanggi",
         "Terdakwa Elias Fanggi didakwa melakukan pencurian tiga ekor anak babi milik saksi I Komang Sucitra pada Sabtu, 27 Maret 2021 sekitar pukul 22.30 WITA di kandang babi yang terletak di Desa Abuan, Kecamatan Kintamani, Kabupaten Bangli. Awalnya, terdakwa datang ke kandang pada sore hari untuk membersihkan tempat tersebut. Namun pada malam harinya, terdakwa masuk ke dalam kandang melalui pintu yang tidak terkunci, lalu mengambil tiga ekor anak babi dan memasukkannya ke dalam karung plastik yang telah disiapkannya. Ia kemudian membawa hasil curian itu dengan sepeda motor milik saksi Leonardus Pendi dengan maksud untuk dijual. Aksi tersebut diketahui oleh pemilik kandang, yang kemudian melaporkan terdakwa ke pihak berwajib. Akibat perbuatan tersebut, saksi I Komang Sucitra mengalami kerugian sebesar Rp3.600.000. Perbuatan Terdakwa didakwa dengan dakwaan primair Pasal 363 Ayat (1) ke-1 KUHP, dan dakwaan subsidair Pasal 374 KUHP.",
         "6.0"
        ],
        [
         "41",
         "0",
         "17",
         "0",
         "15",
         "112",
         "I Wayan Edi Rusmawan",
         "Terdakwa I Wayan Edi Rusmawan didakwa melakukan serangkaian pencurian antara bulan Juni 2020 hingga Januari 2021 di berbagai lokasi di wilayah Kecamatan Kintamani, Kabupaten Bangli. Terdakwa mengambil barang-barang milik sejumlah korban di antaranya I Wayan Sutiana, I Ketut Carem, I Ketut Sudadi, I Nyoman Keneh, Ni Nengah Suantini, I Nyoman Birawan, Ni Ketut Supadmi, I Wayan Darma, I Wayan Ramanto, I Nengah Sapa, dan I Made Sadswadarma. Aksi pencurian tersebut dilakukan terdakwa dengan cara merusak, memanjat, atau masuk secara diam-diam ke kebun, pondokan, warung, dan gudang milik para korban, dengan maksud untuk memiliki barang-barang tersebut secara melawan hukum. Karena dilakukan berulang kali di tempat dan waktu yang berbeda, perbuatan terdakwa dianggap sebagai beberapa kejahatan yang berdiri sendiri. Perbuatan Terdakwa didakwa dengan dakwaan primair Pasal 363 Ayat (1) ke-5 KUHP jo. Pasal 65 ayat (1) KUHP, dan dakwaan subsidair Pasal 362 KUHP Jo Pasal 65 Ayat (1) KUHP.",
         "24.0"
        ],
        [
         "42",
         "0",
         "0",
         "0",
         "15",
         "112",
         "I Wayan Edi Rusmawan",
         "Terdakwa I Wayan Edi Rusmawan didakwa melakukan serangkaian pencurian antara bulan Juni 2020 hingga Januari 2021 di berbagai lokasi di wilayah Kecamatan Kintamani, Kabupaten Bangli. Terdakwa mengambil barang-barang milik sejumlah korban di antaranya I Wayan Sutiana, I Ketut Carem, I Ketut Sudadi, I Nyoman Keneh, Ni Nengah Suantini, I Nyoman Birawan, Ni Ketut Supadmi, I Wayan Darma, I Wayan Ramanto, I Nengah Sapa, dan I Made Sadswadarma. Aksi pencurian tersebut dilakukan terdakwa dengan cara merusak, memanjat, atau masuk secara diam-diam ke kebun, pondokan, warung, dan gudang milik para korban, dengan maksud untuk memiliki barang-barang tersebut secara melawan hukum. Karena dilakukan berulang kali di tempat dan waktu yang berbeda, perbuatan terdakwa dianggap sebagai beberapa kejahatan yang berdiri sendiri. Perbuatan Terdakwa didakwa dengan dakwaan primair Pasal 363 Ayat (1) ke-5 KUHP jo. Pasal 65 ayat (1) KUHP, dan dakwaan subsidair Pasal 362 KUHP Jo Pasal 65 Ayat (1) KUHP.",
         "24.0"
        ],
        [
         "43",
         "2",
         "18",
         "5",
         "4",
         "144",
         "ANJAR RUCHIMAT",
         "Terdakwa Anjar Ruchimat dan Irga Krisna Haryanto R, pada 4 Februari 2020 sekitar pukul 21.30 WITA di pinggir Jalan Raya Merdeka, Bebalang, Bangli, diduga melakukan permufakatan jahat bersama seorang bernama Made Bleteng (DPO) untuk memiliki, menyimpan, menguasai, atau menyediakan Narkotika Golongan I bukan tanaman tanpa hak. Selain itu, Anjar Ruchimat juga terbukti menggunakan narkotika untuk diri sendiri pada 1 Februari 2020 sekitar pukul 15.00 WITA di sebuah penginapan di Kuta, Badung. Demikian pula, Irga Krisna Haryanto R menggunakan narkotika untuk diri sendiri pada 28 Januari 2020 sekitar pukul 22.30 WITA di kamar kontrakannya di Dalung, Badung. Meskipun tempat kejadian perkara berada di wilayah hukum Pengadilan Negeri Denpasar, perkara ini diperiksa oleh Pengadilan Negeri Bangli berdasarkan ketentuan Pasal 84 ayat (2) KUHAP. Perbuatan para terdakwa diancam pidana berdasarkan Pasal 132 Ayat (1) jo. Pasal 112 Ayat (1), serta Pasal 127 Ayat (1) huruf a UU RI No. 35 Tahun 2009 tentang Narkotika.",
         "16.0"
        ],
        [
         "44",
         "2",
         "18",
         "5",
         "4",
         "144",
         "IRGA KRISNA HARYANTO R",
         "Terdakwa Anjar Ruchimat dan Irga Krisna Haryanto R, pada 4 Februari 2020 sekitar pukul 21.30 WITA di pinggir Jalan Raya Merdeka, Bebalang, Bangli, diduga melakukan permufakatan jahat bersama seorang bernama Made Bleteng (DPO) untuk memiliki, menyimpan, menguasai, atau menyediakan Narkotika Golongan I bukan tanaman tanpa hak. Selain itu, Anjar Ruchimat juga terbukti menggunakan narkotika untuk diri sendiri pada 1 Februari 2020 sekitar pukul 15.00 WITA di sebuah penginapan di Kuta, Badung. Demikian pula, Irga Krisna Haryanto R menggunakan narkotika untuk diri sendiri pada 28 Januari 2020 sekitar pukul 22.30 WITA di kamar kontrakannya di Dalung, Badung. Meskipun tempat kejadian perkara berada di wilayah hukum Pengadilan Negeri Denpasar, perkara ini diperiksa oleh Pengadilan Negeri Bangli berdasarkan ketentuan Pasal 84 ayat (2) KUHAP. Perbuatan para terdakwa diancam pidana berdasarkan Pasal 132 Ayat (1) jo. Pasal 112 Ayat (1), serta Pasal 127 Ayat (1) huruf a UU RI No. 35 Tahun 2009 tentang Narkotika.",
         "16.0"
        ],
        [
         "45",
         "2",
         "18",
         "6",
         "6",
         "240",
         "FENNY YANTHI ESMIDAR",
         "Terdakwa Fenny Yanthi Esmidar pada Kamis, 9 Januari 2020 sekitar pukul 23.15 WITA ditangkap di Gang Buntu, belakang Alfamart Jalan Brigjen Ngurah Rai, Bangli, saat baru saja mengambil narkotika jenis sabu yang disembunyikan di semak-semak. Penangkapan dilakukan oleh anggota Satresnarkoba Polres Bangli setelah menerima informasi dari masyarakat. Sebelumnya, terdakwa dihubungi oleh seseorang bernama Desi untuk mengambil narkotika di lokasi tersebut. Dari hasil penggeledahan, ditemukan dua paket sabu dengan berat netto masing-masing 0,08 gram dan 0,05 gram, yang disimpan dalam bungkus rokok dan tas milik terdakwa. Berdasarkan hasil pemeriksaan laboratorium forensik, kedua paket tersebut positif mengandung metamfetamina yang termasuk dalam Narkotika Golongan I. Namun, hasil tes urine terdakwa menunjukkan negatif narkotika/psikotropika. Perbuatan Terdakwa didakwa dengan dakwaan pertama Pasal 114 Ayat (1) UU RI No. 35 Tahun 2009 tentang Narkotika, dan dakwaan kedua Pasal 112 Ayat (1) UU RI No. 35 Tahun 2009 Tentang Narkotika.",
         "102.0"
        ],
        [
         "46",
         "0",
         "19",
         "7",
         "4",
         "84",
         "I WAYAN SUDARPA",
         "Terdakwa I Wayan Sudarpa pada Rabu, 12 Februari 2020 sekitar pukul 01.00 WITA melakukan pencurian tiga ekor sapi milik I Wayan Kasir di Br. Tiying Desa, Desa Pengotan, Kecamatan Bangli. Aksi tersebut direncanakan sebelumnya bersama I Nyoman Bintang, dengan dalih ingin menjual sapi miliknya untuk membayar utang. Pada malam hari yang telah disepakati, terdakwa mendatangi kandang sapi korban dan secara bertahap membawa ketiga sapi tersebut ke mobil pick up milik I Nyoman Bintang yang menunggu di dekat lokasi. Sapi-sapi itu kemudian dibawa dan dijual di Pasar Bringkit, Badung. Dari hasil penjualan, terdakwa menerima uang sebesar Rp20.156.000 setelah dikurangi biaya operasional. Namun, diketahui sapi-sapi tersebut bukan milik terdakwa melainkan milik I Wayan Kasir, yang tidak pernah memberikan izin untuk pengambilan maupun penjualan. Akibat perbuatan terdakwa, korban mengalami kerugian sekitar Rp20.500.000. Tindakan terdakwa diancam pidana berdasarkan Pasal 363 Ayat (1) ke-1 KUHP.",
         "6.0"
        ],
        [
         "47",
         "4",
         "20",
         "8",
         "3",
         "120",
         "Wayan Suartaya",
         "Pada tanggal 21 November 2018 sekitar pukul 18.00 WITA, terdakwa I Ketut Sarjana dan Wayan Suartaya mengadakan permainan judi cap jeki di halaman rumah Ketut Sarjana di Banjar Merta, Desa Awan, Kecamatan Kintamani, Kabupaten Bangli. Mereka menyiapkan berbagai alat perjudian seperti kotak kaleng, perlak, handuk, kartu ceki, serta menyediakan hadiah uang tunai sebesar Rp 5.000.000 bagi pemenang. Ketut Sarjana bertindak sebagai kasir sekaligus bandar yang membayar kemenangan dan mengambil uang taruhan pemain yang kalah, sedangkan Wayan Suartaya bertugas mengocok kartu ceki. Permainan dilakukan dengan dua sistem, yakni sistem \"melok\" (draw) dan \"nyolot\" (menang-kalah), yang masing-masing memiliki aturan dan hadiah berbeda. Saat permainan berlangsung, petugas dari Dit. Reskrimum POLDA Bali melakukan penggerebekan dan menemukan sejumlah barang bukti, termasuk kartu ceki, handuk, kotak kaleng, perlak, dan uang tunai Rp 2.665.000. Permainan judi cap jeki tersebut dilakukan tanpa izin dari pejabat yang berwenang. Perbuatan Terdakwa didakwa dengan dakwaan primair Pasal 303 Ayat (1) ke-1 KUHP jo. Pasal 2 Undang-Undang RI No. 7 Tahun 1974 tentang Penertiban Perjudian, dan dakwaan subsidair Pasal 303 Ayat (1) ke-2 KUHP, jo. Pasal 2 UU RI No. 7 Tahun 1974 Tentang Penertiban Perjudian.",
         "5.0"
        ],
        [
         "48",
         "4",
         "21",
         "8",
         "3",
         "120",
         "Wayan Suartaya",
         "Pada tanggal 21 November 2018 sekitar pukul 18.00 WITA, terdakwa I Ketut Sarjana dan Wayan Suartaya mengadakan permainan judi cap jeki di halaman rumah Ketut Sarjana di Banjar Merta, Desa Awan, Kecamatan Kintamani, Kabupaten Bangli. Mereka menyiapkan berbagai alat perjudian seperti kotak kaleng, perlak, handuk, kartu ceki, serta menyediakan hadiah uang tunai sebesar Rp 5.000.000 bagi pemenang. Ketut Sarjana bertindak sebagai kasir sekaligus bandar yang membayar kemenangan dan mengambil uang taruhan pemain yang kalah, sedangkan Wayan Suartaya bertugas mengocok kartu ceki. Permainan dilakukan dengan dua sistem, yakni sistem \"melok\" (draw) dan \"nyolot\" (menang-kalah), yang masing-masing memiliki aturan dan hadiah berbeda. Saat permainan berlangsung, petugas dari Dit. Reskrimum POLDA Bali melakukan penggerebekan dan menemukan sejumlah barang bukti, termasuk kartu ceki, handuk, kotak kaleng, perlak, dan uang tunai Rp 2.665.000. Permainan judi cap jeki tersebut dilakukan tanpa izin dari pejabat yang berwenang. Perbuatan Terdakwa didakwa dengan dakwaan primair Pasal 303 Ayat (1) ke-1 KUHP jo. Pasal 2 Undang-Undang RI No. 7 Tahun 1974 tentang Penertiban Perjudian, dan dakwaan subsidair Pasal 303 Ayat (1) ke-2 KUHP, jo. Pasal 2 UU RI No. 7 Tahun 1974 Tentang Penertiban Perjudian.",
         "5.0"
        ],
        [
         "49",
         "4",
         "20",
         "8",
         "3",
         "120",
         "I Ketut Sarjana",
         "Pada tanggal 21 November 2018 sekitar pukul 18.00 WITA, terdakwa I Ketut Sarjana dan Wayan Suartaya mengadakan permainan judi cap jeki di halaman rumah Ketut Sarjana di Banjar Merta, Desa Awan, Kecamatan Kintamani, Kabupaten Bangli. Mereka menyiapkan berbagai alat perjudian seperti kotak kaleng, perlak, handuk, kartu ceki, serta menyediakan hadiah uang tunai sebesar Rp 5.000.000 bagi pemenang. Ketut Sarjana bertindak sebagai kasir sekaligus bandar yang membayar kemenangan dan mengambil uang taruhan pemain yang kalah, sedangkan Wayan Suartaya bertugas mengocok kartu ceki. Permainan dilakukan dengan dua sistem, yakni sistem \"melok\" (draw) dan \"nyolot\" (menang-kalah), yang masing-masing memiliki aturan dan hadiah berbeda. Saat permainan berlangsung, petugas dari Dit. Reskrimum POLDA Bali melakukan penggerebekan dan menemukan sejumlah barang bukti, termasuk kartu ceki, handuk, kotak kaleng, perlak, dan uang tunai Rp 2.665.000. Permainan judi cap jeki tersebut dilakukan tanpa izin dari pejabat yang berwenang. Perbuatan Terdakwa didakwa dengan dakwaan primair Pasal 303 Ayat (1) ke-1 KUHP jo. Pasal 2 Undang-Undang RI No. 7 Tahun 1974 tentang Penertiban Perjudian, dan dakwaan subsidair Pasal 303 Ayat (1) ke-2 KUHP, jo. Pasal 2 UU RI No. 7 Tahun 1974 Tentang Penertiban Perjudian.",
         "5.0"
        ]
       ],
       "shape": {
        "columns": 8,
        "rows": 4323
       }
      },
      "text/html": [
       "<div>\n",
       "<style scoped>\n",
       "    .dataframe tbody tr th:only-of-type {\n",
       "        vertical-align: middle;\n",
       "    }\n",
       "\n",
       "    .dataframe tbody tr th {\n",
       "        vertical-align: top;\n",
       "    }\n",
       "\n",
       "    .dataframe thead th {\n",
       "        text-align: right;\n",
       "    }\n",
       "</style>\n",
       "<table border=\"1\" class=\"dataframe\">\n",
       "  <thead>\n",
       "    <tr style=\"text-align: right;\">\n",
       "      <th></th>\n",
       "      <th>klasifikasi_perkara_encoded</th>\n",
       "      <th>penuntut_umum_encoded</th>\n",
       "      <th>hakim_encoded</th>\n",
       "      <th>jumlah_saksi</th>\n",
       "      <th>maks_penjara_berdasarkan_pasal</th>\n",
       "      <th>terdakwa</th>\n",
       "      <th>summarized_dakwaan</th>\n",
       "      <th>total_pidana_penjara_bulan</th>\n",
       "    </tr>\n",
       "  </thead>\n",
       "  <tbody>\n",
       "    <tr>\n",
       "      <th>0</th>\n",
       "      <td>0</td>\n",
       "      <td>0</td>\n",
       "      <td>0</td>\n",
       "      <td>6</td>\n",
       "      <td>80</td>\n",
       "      <td>GEDE DARMAYASA</td>\n",
       "      <td>Terdakwa Gede Darmayasa didakwa telah melakuka...</td>\n",
       "      <td>5.0</td>\n",
       "    </tr>\n",
       "    <tr>\n",
       "      <th>1</th>\n",
       "      <td>1</td>\n",
       "      <td>1</td>\n",
       "      <td>1</td>\n",
       "      <td>4</td>\n",
       "      <td>48</td>\n",
       "      <td>IDA BAGUS MADE DARMA WIGUNA</td>\n",
       "      <td>Pada bulan Februari dan Maret 2024, terdakwa I...</td>\n",
       "      <td>24.0</td>\n",
       "    </tr>\n",
       "    <tr>\n",
       "      <th>2</th>\n",
       "      <td>0</td>\n",
       "      <td>0</td>\n",
       "      <td>2</td>\n",
       "      <td>6</td>\n",
       "      <td>84</td>\n",
       "      <td>HANDRI JOHANAS</td>\n",
       "      <td>Terdakwa Handri Johanes pada Rabu, 24 April 20...</td>\n",
       "      <td>4.0</td>\n",
       "    </tr>\n",
       "    <tr>\n",
       "      <th>3</th>\n",
       "      <td>2</td>\n",
       "      <td>2</td>\n",
       "      <td>1</td>\n",
       "      <td>2</td>\n",
       "      <td>144</td>\n",
       "      <td>I GEDE ARIADI alias BERNAD</td>\n",
       "      <td>Pada hari Minggu, 14 April 2024 sekitar pukul ...</td>\n",
       "      <td>14.0</td>\n",
       "    </tr>\n",
       "    <tr>\n",
       "      <th>4</th>\n",
       "      <td>2</td>\n",
       "      <td>3</td>\n",
       "      <td>1</td>\n",
       "      <td>2</td>\n",
       "      <td>144</td>\n",
       "      <td>I GEDE ARIADI alias BERNAD</td>\n",
       "      <td>Pada hari Minggu, 14 April 2024 sekitar pukul ...</td>\n",
       "      <td>14.0</td>\n",
       "    </tr>\n",
       "    <tr>\n",
       "      <th>...</th>\n",
       "      <td>...</td>\n",
       "      <td>...</td>\n",
       "      <td>...</td>\n",
       "      <td>...</td>\n",
       "      <td>...</td>\n",
       "      <td>...</td>\n",
       "      <td>...</td>\n",
       "      <td>...</td>\n",
       "    </tr>\n",
       "    <tr>\n",
       "      <th>4318</th>\n",
       "      <td>2</td>\n",
       "      <td>276</td>\n",
       "      <td>128</td>\n",
       "      <td>2</td>\n",
       "      <td>240</td>\n",
       "      <td>NURUL FIQRI SUDIRMAN als KIKI bin SUDIRMAN</td>\n",
       "      <td>Pada Jumat, 31 Maret 2023, sekitar pukul 20.30...</td>\n",
       "      <td>72.0</td>\n",
       "    </tr>\n",
       "    <tr>\n",
       "      <th>4319</th>\n",
       "      <td>0</td>\n",
       "      <td>264</td>\n",
       "      <td>117</td>\n",
       "      <td>2</td>\n",
       "      <td>84</td>\n",
       "      <td>SUPRIADI BIN RATIM</td>\n",
       "      <td>Pada hari Minggu, 28 Mei 2023, sekitar pukul 1...</td>\n",
       "      <td>16.0</td>\n",
       "    </tr>\n",
       "    <tr>\n",
       "      <th>4320</th>\n",
       "      <td>0</td>\n",
       "      <td>287</td>\n",
       "      <td>117</td>\n",
       "      <td>2</td>\n",
       "      <td>84</td>\n",
       "      <td>SUPRIADI BIN RATIM</td>\n",
       "      <td>Pada hari Minggu, 28 Mei 2023, sekitar pukul 1...</td>\n",
       "      <td>16.0</td>\n",
       "    </tr>\n",
       "    <tr>\n",
       "      <th>4321</th>\n",
       "      <td>0</td>\n",
       "      <td>264</td>\n",
       "      <td>117</td>\n",
       "      <td>2</td>\n",
       "      <td>84</td>\n",
       "      <td>ANWAR RURI BIN SYARIFUDIN USMAN</td>\n",
       "      <td>Pada hari Minggu, 28 Mei 2023, sekitar pukul 1...</td>\n",
       "      <td>16.0</td>\n",
       "    </tr>\n",
       "    <tr>\n",
       "      <th>4322</th>\n",
       "      <td>0</td>\n",
       "      <td>287</td>\n",
       "      <td>117</td>\n",
       "      <td>2</td>\n",
       "      <td>84</td>\n",
       "      <td>ANWAR RURI BIN SYARIFUDIN USMAN</td>\n",
       "      <td>Pada hari Minggu, 28 Mei 2023, sekitar pukul 1...</td>\n",
       "      <td>16.0</td>\n",
       "    </tr>\n",
       "  </tbody>\n",
       "</table>\n",
       "<p>4323 rows × 8 columns</p>\n",
       "</div>"
      ],
      "text/plain": [
       "      klasifikasi_perkara_encoded  penuntut_umum_encoded  hakim_encoded  \\\n",
       "0                               0                      0              0   \n",
       "1                               1                      1              1   \n",
       "2                               0                      0              2   \n",
       "3                               2                      2              1   \n",
       "4                               2                      3              1   \n",
       "...                           ...                    ...            ...   \n",
       "4318                            2                    276            128   \n",
       "4319                            0                    264            117   \n",
       "4320                            0                    287            117   \n",
       "4321                            0                    264            117   \n",
       "4322                            0                    287            117   \n",
       "\n",
       "      jumlah_saksi  maks_penjara_berdasarkan_pasal  \\\n",
       "0                6                              80   \n",
       "1                4                              48   \n",
       "2                6                              84   \n",
       "3                2                             144   \n",
       "4                2                             144   \n",
       "...            ...                             ...   \n",
       "4318             2                             240   \n",
       "4319             2                              84   \n",
       "4320             2                              84   \n",
       "4321             2                              84   \n",
       "4322             2                              84   \n",
       "\n",
       "                                        terdakwa  \\\n",
       "0                                 GEDE DARMAYASA   \n",
       "1                    IDA BAGUS MADE DARMA WIGUNA   \n",
       "2                                 HANDRI JOHANAS   \n",
       "3                     I GEDE ARIADI alias BERNAD   \n",
       "4                     I GEDE ARIADI alias BERNAD   \n",
       "...                                          ...   \n",
       "4318  NURUL FIQRI SUDIRMAN als KIKI bin SUDIRMAN   \n",
       "4319                          SUPRIADI BIN RATIM   \n",
       "4320                          SUPRIADI BIN RATIM   \n",
       "4321             ANWAR RURI BIN SYARIFUDIN USMAN   \n",
       "4322             ANWAR RURI BIN SYARIFUDIN USMAN   \n",
       "\n",
       "                                     summarized_dakwaan  \\\n",
       "0     Terdakwa Gede Darmayasa didakwa telah melakuka...   \n",
       "1     Pada bulan Februari dan Maret 2024, terdakwa I...   \n",
       "2     Terdakwa Handri Johanes pada Rabu, 24 April 20...   \n",
       "3     Pada hari Minggu, 14 April 2024 sekitar pukul ...   \n",
       "4     Pada hari Minggu, 14 April 2024 sekitar pukul ...   \n",
       "...                                                 ...   \n",
       "4318  Pada Jumat, 31 Maret 2023, sekitar pukul 20.30...   \n",
       "4319  Pada hari Minggu, 28 Mei 2023, sekitar pukul 1...   \n",
       "4320  Pada hari Minggu, 28 Mei 2023, sekitar pukul 1...   \n",
       "4321  Pada hari Minggu, 28 Mei 2023, sekitar pukul 1...   \n",
       "4322  Pada hari Minggu, 28 Mei 2023, sekitar pukul 1...   \n",
       "\n",
       "      total_pidana_penjara_bulan  \n",
       "0                            5.0  \n",
       "1                           24.0  \n",
       "2                            4.0  \n",
       "3                           14.0  \n",
       "4                           14.0  \n",
       "...                          ...  \n",
       "4318                        72.0  \n",
       "4319                        16.0  \n",
       "4320                        16.0  \n",
       "4321                        16.0  \n",
       "4322                        16.0  \n",
       "\n",
       "[4323 rows x 8 columns]"
      ]
     },
     "execution_count": 10,
     "metadata": {},
     "output_type": "execute_result"
    }
   ],
   "source": [
    "df_filtered"
   ]
  },
  {
   "cell_type": "code",
   "execution_count": 11,
   "metadata": {},
   "outputs": [
    {
     "data": {
      "application/vnd.microsoft.datawrangler.viewer.v0+json": {
       "columns": [
        {
         "name": "index",
         "rawType": "int64",
         "type": "integer"
        },
        {
         "name": "klasifikasi_perkara_encoded",
         "rawType": "int64",
         "type": "integer"
        },
        {
         "name": "penuntut_umum_encoded",
         "rawType": "int64",
         "type": "integer"
        },
        {
         "name": "hakim_encoded",
         "rawType": "int64",
         "type": "integer"
        },
        {
         "name": "jumlah_saksi",
         "rawType": "int64",
         "type": "integer"
        },
        {
         "name": "maks_penjara_berdasarkan_pasal",
         "rawType": "int64",
         "type": "integer"
        },
        {
         "name": "terdakwa",
         "rawType": "object",
         "type": "string"
        },
        {
         "name": "summarized_dakwaan",
         "rawType": "object",
         "type": "string"
        },
        {
         "name": "total_pidana_penjara_bulan",
         "rawType": "float64",
         "type": "float"
        }
       ],
       "conversionMethod": "pd.DataFrame",
       "ref": "c361e842-d82b-4589-8b96-0c6ef2a86808",
       "rows": [
        [
         "20",
         "0",
         "0",
         "0",
         "4",
         "60",
         "I NYOMAN BUDIAWAN Als. SUMAWAN",
         "Pada hari Rabu, 25 Oktober 2023 sekitar pukul 13.00 WITA, terdakwa I Nyoman Budiawan alias Sumawan melakukan pencurian kartu ATM BRI milik saksi Luh Putu Widiantari di Toko UD. Langsung Jaya, Jalan Raya Kintamani, Desa Kintamani, Kecamatan Kintamani, Kabupaten Bangli. Awalnya, terdakwa datang ke toko tersebut untuk mentransfer uang, namun saat mengetahui mesin BRI Link rusak dan pegawai toko pergi, terdakwa memanfaatkan situasi sepi untuk mengambil kartu ATM yang berada di atas meja kasir. Terdakwa kemudian pulang ke rumahnya dan menggunakan kartu ATM tersebut di mesin ATM BRI Toya Devasya, dengan memasukkan PIN 020202 yang telah ia ketahui sebelumnya karena sering melihat pegawai toko menggunakannya. Terdakwa melakukan penarikan tunai sebanyak empat kali dengan total Rp10.000.000. Setelah menerima laporan dari korban, pihak kepolisian melakukan olah TKP dan berhasil mengamankan terdakwa di rumahnya pada 28 Oktober 2023. Akibat perbuatannya, korban mengalami kerugian sebesar Rp10.000.000. Perbuatan terdakwa diancam pidana berdasarkan Pasal 362 KUHP.",
         "14.0"
        ],
        [
         "42",
         "0",
         "0",
         "0",
         "15",
         "112",
         "I Wayan Edi Rusmawan",
         "Terdakwa I Wayan Edi Rusmawan didakwa melakukan serangkaian pencurian antara bulan Juni 2020 hingga Januari 2021 di berbagai lokasi di wilayah Kecamatan Kintamani, Kabupaten Bangli. Terdakwa mengambil barang-barang milik sejumlah korban di antaranya I Wayan Sutiana, I Ketut Carem, I Ketut Sudadi, I Nyoman Keneh, Ni Nengah Suantini, I Nyoman Birawan, Ni Ketut Supadmi, I Wayan Darma, I Wayan Ramanto, I Nengah Sapa, dan I Made Sadswadarma. Aksi pencurian tersebut dilakukan terdakwa dengan cara merusak, memanjat, atau masuk secara diam-diam ke kebun, pondokan, warung, dan gudang milik para korban, dengan maksud untuk memiliki barang-barang tersebut secara melawan hukum. Karena dilakukan berulang kali di tempat dan waktu yang berbeda, perbuatan terdakwa dianggap sebagai beberapa kejahatan yang berdiri sendiri. Perbuatan Terdakwa didakwa dengan dakwaan primair Pasal 363 Ayat (1) ke-5 KUHP jo. Pasal 65 ayat (1) KUHP, dan dakwaan subsidair Pasal 362 KUHP Jo Pasal 65 Ayat (1) KUHP.",
         "24.0"
        ],
        [
         "2",
         "0",
         "0",
         "2",
         "6",
         "84",
         "HANDRI JOHANAS",
         "Terdakwa Handri Johanes pada Rabu, 24 April 2024 sekitar pukul 03.00 WITA di sebuah kamar di Puri Kanginan, Lingkungan Banjar Puri Kanginan No. 2 Bangli, telah melakukan pencurian satu unit handphone OPPO A53 warna hitam milik I Nengah Sukadana. Kejadian bermula ketika terdakwa yang sebelumnya pernah bekerja di mebel milik Gung Aji Kartika dan terbiasa keluar masuk area puri, datang mencari temannya yang dahulu tinggal di sana. Setelah tidak menemukan temannya dan hendak pulang, terdakwa melihat sebuah handphone sedang diisi daya dalam kamar yang pintunya sedikit terbuka. Ia kemudian mengambil handphone tersebut dengan memasukkan tangan melalui celah pintu. Setelah sampai di bengkel tempat tinggalnya, terdakwa mengetahui bahwa handphone tersebut terkunci, lalu beberapa hari kemudian menjualnya kepada seseorang bernama Denny Firmansyah di Klungkung seharga Rp300.000. Uang hasil penjualan itu kemudian ia kirim ke anaknya di Lombok. Akibat perbuatan tersebut, saksi I Nengah Sukadana mengalami kerugian sebesar Rp3.999.000. Perbuatan terdakwa diancam pidana berdasarkan Pasal 363 Ayat (1) ke-3 KUHP.",
         "4.0"
        ],
        [
         "19",
         "0",
         "1",
         "0",
         "4",
         "60",
         "I NYOMAN BUDIAWAN Als. SUMAWAN",
         "Pada hari Rabu, 25 Oktober 2023 sekitar pukul 13.00 WITA, terdakwa I Nyoman Budiawan alias Sumawan melakukan pencurian kartu ATM BRI milik saksi Luh Putu Widiantari di Toko UD. Langsung Jaya, Jalan Raya Kintamani, Desa Kintamani, Kecamatan Kintamani, Kabupaten Bangli. Awalnya, terdakwa datang ke toko tersebut untuk mentransfer uang, namun saat mengetahui mesin BRI Link rusak dan pegawai toko pergi, terdakwa memanfaatkan situasi sepi untuk mengambil kartu ATM yang berada di atas meja kasir. Terdakwa kemudian pulang ke rumahnya dan menggunakan kartu ATM tersebut di mesin ATM BRI Toya Devasya, dengan memasukkan PIN 020202 yang telah ia ketahui sebelumnya karena sering melihat pegawai toko menggunakannya. Terdakwa melakukan penarikan tunai sebanyak empat kali dengan total Rp10.000.000. Setelah menerima laporan dari korban, pihak kepolisian melakukan olah TKP dan berhasil mengamankan terdakwa di rumahnya pada 28 Oktober 2023. Akibat perbuatannya, korban mengalami kerugian sebesar Rp10.000.000. Perbuatan terdakwa diancam pidana berdasarkan Pasal 362 KUHP.",
         "14.0"
        ],
        [
         "35",
         "0",
         "1",
         "4",
         "3",
         "84",
         "RIFQI ABDURAHMAN",
         "Pada Minggu, 11 Desember 2022 sekitar pukul 00.30 WITA, terdakwa I Rifqi Abdurahman dan terdakwa II Gunawan melakukan pencurian sepeda motor di pinggir Jalan Raya Kayuambua, Bangli. Sebelumnya, pada 10 Desember 2022, terdakwa II meminta terdakwa I mencarikan sepeda motor Kawasaki KLX untuk dibeli seharga Rp3.000.000. Keduanya lalu berangkat ke daerah Kintamani dengan sepeda motor modifikasi tanpa nomor polisi. Saat tiba di lokasi, mereka melihat motor Kawasaki KLX 150 C tanpa nomor polisi dan kunci kontak, lalu terdakwa I mendorong motor tersebut menjauh sementara terdakwa II mengawasi. Karena motor cetul milik terdakwa II rusak, terdakwa I mendorong motor sendirian dan sempat dicegat dua saksi yang curiga. Setelah berhasil menyalakan motor dan mengendarainya sejauh 100 meter, motor mogok karena kehabisan bensin. Terdakwa I lalu mendorong ke SPBU Sekardadi dan tertidur di sana. Sementara itu, saksi korban mengonfirmasi kehilangan motornya dan bersama saksi lainnya serta polisi, menemukan terdakwa I di SPBU. Polisi kemudian menangkap terdakwa II di Desa Dumilih saat tertidur di emper toko. Akibat perbuatan para terdakwa, korban I Wayan Eva Kusuma Putra mengalami kerugian sekitar Rp16.000.000. Perbuatan Terdakwa didakwa dengan dakwaan primair Pasal 363 Ayat (1) ke-4 KUHP, dan dakwaan subsidair Pasal 362 KUHP.",
         "8.0"
        ],
        [
         "5",
         "0",
         "4",
         "1",
         "4",
         "60",
         "R. Sabirin",
         "Pada hari Selasa, 26 Maret 2024 sekitar pukul 17.10 WITA, bertempat di pinggir Jalan Raya Kintamani, Desa Kintamani, Kecamatan Kintamani, Kabupaten Bangli, Terdakwa melakukan pencurian dengan mengambil satu unit sepeda motor Honda Scoopy warna merah hitam DK 6384 PQ, yang sebagian atau seluruhnya milik orang lain, dengan maksud untuk dimiliki secara melawan hukum. Sebelumnya, pada 25 Maret 2024 pukul 13.00 WITA, Terdakwa berangkat dari Panarukan, Singaraja menuju Terminal Ubung Denpasar dengan menumpang truk, dengan tujuan mencuri sepeda motor. Tiba di Terminal Ubung sekitar pukul 14.30 WITA, Terdakwa menginap semalam karena hujan deras. Esok harinya, Terdakwa dijemput oleh temannya, WAHYU EKA JAYA (DPO), yang datang mengendarai sepeda motor Yamaha Vixion warna hitam. Mereka lalu pergi ke Kintamani untuk jalan-jalan. Sekitar pukul 17.10 WITA, mereka melihat sebuah motor Honda Scoopy terparkir di pinggir jalan dengan kunci masih tergantung. Setelah WAHYU EKA JAYA pergi meninggalkannya, Terdakwa mendekati motor tersebut, lalu mendorongnya sejauh sekitar 10 meter sebelum akhirnya menyalakan mesin dan melarikan diri menuju Denpasar melalui Payangan, Gianyar. Di daerah Ubud, Terdakwa dihentikan oleh seorang petugas Polsek Kintamani bernama I Gede Dipta Wirama Darma dan tidak dapat menunjukkan STNK kendaraan. Terdakwa kemudian diamankan beserta barang bukti ke Polsek Kintamani. Akibat perbuatan tersebut, korban, Ni Wayan Srimertanadi, mengalami kerugian sekitar Rp20.000.000\\. Perbuatan Terdakwa diatur dan diancam pidana dalam Pasal 362 KUHP.",
         "14.0"
        ],
        [
         "10",
         "0",
         "4",
         "3",
         "4",
         "60",
         "RURY HERAWATI",
         "Terdakwa Rury Herawati pada tanggal 20 November 2023 sekitar pukul 15.15 WITA telah melakukan pencurian di Toko Ari Kebaya, Jalan Nusantara, Bangli. Terdakwa datang dari Denpasar dengan niat mencuri dan setelah mencari toko yang sepi, ia berpura-pura sebagai pembeli. Saat penjaga toko sedang membelakangi untuk mencarikan sandal, Terdakwa membuka lemari yang tidak terkunci dan mengambil tas kain berisi dua dompet dengan total uang Rp16.500.000,- milik saksi Ni Nengah Ngariasi. Setelah mengambil tas, Terdakwa berpura-pura hendak mengambil uang di ATM dan langsung pergi meninggalkan dua selendang yang sudah dibayar. Uang hasil pencurian digunakan untuk membeli berbagai barang seperti HP, emas, pakaian, serta kebutuhan sehari-hari. Sisa uang yang dicuri masih tersisa sebesar Rp5.778.000. Berdasarkan laporan polisi dan penyelidikan, Terdakwa mengakui perbuatannya dan kini telah diamankan bersama barang bukti untuk proses hukum lebih lanjut. Perbuatannya diancam pidana sesuai Pasal 362 KUHP.",
         "16.0"
        ],
        [
         "843",
         "0",
         "5",
         "21",
         "3",
         "84",
         "I Nyoman Kinsan Alias Nyoman",
         "Bahwa ia terdakwa I NYOMAN KINSAN als. NYOMAN pada hari Senin tanggal 31 Juli 2017 sekira jam 09.30 Wita atau setidak-tidaknya pada waktu tertentu dalam bulan Juli tahun 2017 atau setidak-tidaknya dalam Tahun 2017, bertempat di pinggir Jalan Arjuna di depan rumah saksi korban I WAYAN SUTA als. PAK SUTA yang terletak di Lingkungan Ubud Kelod, Kelurahan dan Kecamatan Ubud, Kabupaten Gianyar atau setidak-tidaknya pada suatu tempat tertentu yang masih termasuk dalam Daerah Hukum Pengadilan Negeri Gianyar telah mengambil sesuatu barang berupa 1 (satu) unit sepeda motor Honda Supra Fit warna hitam merah dengan nomor polisi DK 3490 KG yang seluruhnya atau sebagian kepunyaan orang lain yakni saksi korban I WAYAN SUTA als. PAK SUTA atau setidak-tidaknya milik orang lain selain milik ia terdakwa dengan maksud untuk dimiliki secara melawan hukum, yang dilakukan oleh terdakwa dengan masuk ke tempat kejahatan itu atau dapat mencapai barang untuk diambilnya dengan jalan membongkar, memecah atau memanjat atau dengan jalan memakai kunci palsu, perintah palsu atau pakaian jabatan palsu, yang terdakwa lakukan dengan cara-cara sebagai berikut. Bahwa terdakwa yang sering nongkrong minum kopi di sebuah warung yang ada di sekitar rumah saksi korban I WAYAN SUTA als. PAK SUTA, pada hari Senin tanggal 31 Juli 2017 sekira jam 09.00 Wita melihat ada 1 (satu) unit sepeda motor Honda Supra Fit warna hitam merah DK 3490 LG milik saksi korban I WAYAN SUTA als. PAK SUTA yang terparkir di pinggir Jalan Arjuna di depan rumah saksi korban I WAAN SUTA als. PAK SUTA yang terletak di Lingkungan Ubud Kelod, Kelurahan dan Kecamatan Ubud, Kabupaten Gianyar, selanjutnya terdakwa mendekati sepeda motor tersebut, lalu terdakwa memasukkan anak kunci yang telah terdakwa persiapkan sebelumnya ke lubang starter sepeda motor tersebut, kemudian dengan menggunakan pedal starter kaki terdakwa berusaha menyalakan sepeda motor tersebut hingga menyala, setelah menyala terdakwa menaiki dan mengendarai sepeda motor tersebut menuju arah utara di Jalan Arjuna. Bahwa terdakwa kemudian menggunakan sepeda motor tersebut untuk keperluan terdakwa seolah-olah sepeda motor tersebut adalah milik terdakwa sendiri tanpa meminta ijin terlebih dahulu kepada pemiliknya yaitu saksi korban I WAYAN SUTA als. PAK SUTA. Bahwa setelah sekian lama terdakwa menggunakan sepeda motor milik saksi korban I WAYAN SUTA als. PAK SUTA tersebut, kemudian pada hari Jumat tanggal 25 Agustus 2017 sekira jam 21.00 Wita terdakwa mengendarai sepeda motor tersebut ke Lapangan Astina Ubud yang terletak di Jalan Monkey Forest, Lingkungan Ubud Kelod, Kelurahan dan Kecamatan Ubud, Kabupaten Gianyar untuk menonton pameran dan pementasan musik hingga dini hari, lalu terdakwa duduk-duduk di atas sepeda motor tersebut, beberapa lama kemudian datang petugas kepolisian dari Polsek Ubud mengamankan terdakwa beserta sepeda motor tersebut. Bahwa akibat perbuatan terdakwa tersebut, saksi korban I WAYAN SUTA als. PAK SUTA mengalami kerugian materiil kurang lebih sebesar Rp 7.500.000,- (tujuh juta lima ratus ribu rupiah) atau setidak-tidaknya lebih dari Rp 2.500.000,- (dua juta lima ratus ribu rupiah). Perbuatan terdakwa sebagaimana diatur dan diancam pidana dalam Pasal 363 ayat (1) ke 5 KUHP.",
         "6.0"
        ],
        [
         "9",
         "0",
         "7",
         "1",
         "6",
         "80",
         "I WAYAN ARTAYASA",
         "Terdakwa I Wayan Artayasa didakwa telah melakukan serangkaian pencurian secara berulang di Pasar Kidul Bangli, dengan sasaran utama dagangan milik ibunya sendiri, Ni Nyoman Suwini, serta milik pedagang lain seperti Ni Luh Utari dan Ni Ketut Suci. Perbuatan tersebut dilakukan sejak Desember 2023 hingga Februari 2024, pada dini hari antara pukul 03.00 hingga 04.00 WITA. Modus operandi yang digunakan adalah dengan masuk ke pasar melalui celah jeruji besi, membuka terpal dagangan, dan mengambil berbagai bahan pokok seperti kemiri, kacang tanah, gula merah, kacang hijau, dan beras. Barang-barang hasil curian tersebut kemudian dijual oleh terdakwa di Pasar Kidul Bangli dan Pasar Singamandawa Kintamani untuk memenuhi kebutuhan sehari-hari. Perbuatan terdakwa dilakukan tanpa seizin atau sepengetahuan para pemilik barang, dan telah menyebabkan kerugian bagi para korban. Berdasarkan perbuatannya tersebut, terdakwa didakwa dengan Pasal 362 KUHP jo. Pasal 65 Ayat (1) KUHP pada dakwaan primair dan Pasal 367 Ayat (2) KUHP jo. Pasal 65 Ayat (1) KUHP untuk dakwaan subsidair.",
         "12.0"
        ],
        [
         "15",
         "0",
         "8",
         "0",
         "6",
         "144",
         "I KETUT JONI ADNYANA ADI PUTRA",
         "Terdakwa I Ketut Joni Adnyana Adi Putra dan Terdakwa II Rosita Evayanti Dewi melakukan pencurian sepeda motor di dua lokasi berbeda di wilayah Kintamani, Bangli. Aksi pertama dilakukan pada 10 September 2023 sekitar pukul 01.00 WITA di parkiran Sukawana Sunrise, di mana Terdakwa I mengambil sepeda motor Yamaha NMAX DK 3498 PT milik saksi Made Yusa Paramartha dengan cara mendorong motor yang tidak terkunci dan menyalakan mesin menggunakan alat-alat seperti obeng, tang, dan kunci L. Motor hasil curian ini digunakan untuk keperluan sehari-hari. Aksi kedua dilakukan pada 1 Oktober 2023 sekitar pukul 02.00 WITA di parkiran Le Monte Sunrise. Dengan menggunakan mobil sewaan, kedua terdakwa kembali ke Kintamani dan Terdakwa I mencuri motor Yamaha NMAX DK 6992 LB milik I Kadek Indrawan dengan modus serupa. Sepeda motor tersebut kemudian dijual secara daring seharga Rp5.300.000. Akibat perbuatan kedua terdakwa, saksi Made Yusa Paramartha mengalami kerugian sebesar Rp25.500.000,- dan saksi I Kadek Indrawan mengalami kerugian sebesar Rp26.700.000,-. Perbuatan para terdakwa diancam pidana berdasarkan Pasal 363 Ayat (1) ke-4 KUHP jo. Pasal 65 Ayat (1) KUHP.",
         "16.0"
        ],
        [
         "16",
         "0",
         "9",
         "0",
         "6",
         "144",
         "I KETUT JONI ADNYANA ADI PUTRA",
         "Terdakwa I Ketut Joni Adnyana Adi Putra dan Terdakwa II Rosita Evayanti Dewi melakukan pencurian sepeda motor di dua lokasi berbeda di wilayah Kintamani, Bangli. Aksi pertama dilakukan pada 10 September 2023 sekitar pukul 01.00 WITA di parkiran Sukawana Sunrise, di mana Terdakwa I mengambil sepeda motor Yamaha NMAX DK 3498 PT milik saksi Made Yusa Paramartha dengan cara mendorong motor yang tidak terkunci dan menyalakan mesin menggunakan alat-alat seperti obeng, tang, dan kunci L. Motor hasil curian ini digunakan untuk keperluan sehari-hari. Aksi kedua dilakukan pada 1 Oktober 2023 sekitar pukul 02.00 WITA di parkiran Le Monte Sunrise. Dengan menggunakan mobil sewaan, kedua terdakwa kembali ke Kintamani dan Terdakwa I mencuri motor Yamaha NMAX DK 6992 LB milik I Kadek Indrawan dengan modus serupa. Sepeda motor tersebut kemudian dijual secara daring seharga Rp5.300.000. Akibat perbuatan kedua terdakwa, saksi Made Yusa Paramartha mengalami kerugian sebesar Rp25.500.000,- dan saksi I Kadek Indrawan mengalami kerugian sebesar Rp26.700.000,-. Perbuatan para terdakwa diancam pidana berdasarkan Pasal 363 Ayat (1) ke-4 KUHP jo. Pasal 65 Ayat (1) KUHP.",
         "16.0"
        ],
        [
         "22",
         "0",
         "11",
         "4",
         "3",
         "108",
         "I KETUT DENA",
         "Pada hari Jumat, 5 Februari 2021 sekitar pukul 19.00 WITA, terdakwa I Ketut Dena bersama Dewa Made Sujana (dalam berkas terpisah) melakukan pencurian satu unit sepeda motor Honda Scoopy warna hitam kombinasi merah dengan nomor polisi DK 5807 PS yang terparkir di depan rumah saksi I Nengah Sumerta di Desa Yangapi, Kecamatan Tembuku, Kabupaten Bangli. Sebelumnya, kedua terdakwa sempat pergi ke beberapa lokasi sabung ayam. Saat melintasi lokasi kejadian, Dewa Made Sujana melihat motor dalam keadaan tidak terkunci dan memerintahkan Ketut Dena untuk berjaga sementara dirinya mengambil sepeda motor tersebut. Setelah berhasil menghidupkan dan membawa motor itu, mereka menyembunyikannya di bawah jembatan di Gianyar. Keesokan harinya, motor tersebut diambil kembali dan diganti plat nomornya menggunakan plat dari motor lain, kemudian dibawa ke rumah Dewa Made Sujana. Sore harinya, Dewa Made Sujana ditangkap karena kasus pencurian handphone dan meminta Ketut Dena mengambil motor tersebut. Karena motor terkunci dan kuncinya masih disimpan Dewa Made Sujana, Ketut Dena memanggil tukang kunci untuk membuat duplikat. Motor curian itu lalu digadaikan oleh Ketut Dena kepada saksi Luh Sriani seharga Rp2.000.000 tanpa dokumen STNK atau BPKB. Korban, I Wayan Miyasa, melaporkan kehilangan tersebut ke Polsek Tembuku. Sekitar seminggu kemudian, Ketut Dena ditangkap atas kasus penadahan, mengakui perbuatannya, dan membantu polisi mencari motor dan kunci aslinya yang ditemukan di tas milik Dewa Made Sujana. Akibat perbuatan tersebut, korban mengalami kerugian sekitar Rp15.000.000. Tindak pidana ini diancam dengan 2 dakwaan yaitu dakwaan primair dengan Pasal 363 ayat (1) ke-4 KUHP serta dakwaan subsidair dengan Pasal 326 KUHP.",
         "12.0"
        ],
        [
         "776",
         "0",
         "12",
         "19",
         "6",
         "56",
         "Spas Rumenov Mihaylov",
         "Bahwa terdakwa I DIMITAR STOYANOV ATANASOV bersama-sama dengan terdakwa II SPAS RUMENOV MIHAYLOV pada hari Rabu tanggal 04 April 2018 sekitar pukul 03.00 WITA, atau setidak-tidaknya pada suatu waktu dalam bulan April 2018, bertempat di ATM CIMB Niaga yang berlokasi di Jalan Bisma, Kelurahan Ubud, Kecamatan Ubud, Kabupaten Gianyar, atau tempat lain yang masih berada dalam wilayah hukum Pengadilan Negeri Gianyar, telah melakukan percobaan pencurian yang dilakukan oleh dua orang atau lebih dengan bersekutu, dan untuk masuk ke tempat melakukan kejahatan tersebut dilakukan dengan merusak serta menggunakan alat bantu berupa master key. Perbuatan tersebut dimulai ketika terdakwa II memasuki ruang mesin ATM dengan membawa tas berisi kabel yang terhubung ke stop kontak, kemudian menutup kamera CCTV menggunakan lakban hitam. Setelah itu, terdakwa I masuk dan membuka layar atas mesin ATM (fascia), memasukkan tangan ke dalam, lalu menutupnya kembali, sebelum akhirnya membuka paksa bagian atas mesin ATM (booth) dan mencoba membuka bagian bawah yang merupakan tempat penyimpanan uang. Sementara itu, terdakwa II mengawasi situasi sambil menelepon. Aksi para terdakwa tidak berhasil karena tertangkap oleh petugas kepolisian dari Polsek Ubud yang saat itu datang dan mengamankan kedua terdakwa di lokasi. Akibat tindakan tersebut, meskipun tidak berhasil mengambil uang, bagian kunci booth ATM mengalami kerusakan dengan total kerugian materiil yang diderita pihak Bank CIMB Niaga sebesar kurang lebih Rp 3.500.000,- (tiga juta lima ratus ribu rupiah). Perbuatan para terdakwa diancam pidana dalam Pasal 363 Ayat (1) ke-4 dan ke-5 KUHP Jo Pasal 53 Ayat (1) KUHP.",
         "9.0"
        ],
        [
         "813",
         "0",
         "12",
         "19",
         "5",
         "112",
         "Samsul Arifin",
         "Bahwa Terdakwa Samsul Arifin pada bulan Juli dan November 2017 telah melakukan serangkaian pencurian yang berdiri sendiri namun saling berhubungan. Pada tanggal 18 Juli 2017 sekitar pukul 03.00 WITA, terdakwa mencuri satu unit speaker pasif dari wantilan Pura Desa Guwang, Kecamatan Sukawati, Gianyar, dan seminggu kemudian kembali mengambil satu speaker lainnya dari tempat yang sama tanpa izin dari pihak desa. Selanjutnya, pada tanggal 24 November 2017 sekitar pukul 03.00 WITA, terdakwa mencuri seekor burung beo beserta sangkarnya dari rumah saksi Cokorda Dalem Sukawati di Banjar Buluh, Desa Guwang. Pada 25 November 2017 sekitar pukul 02.30 WITA, terdakwa kembali ke rumah yang sama dan mencuri satu ekor burung lagi dari dalam sangkar di halaman rumah. Namun saat hendak melarikan diri, aksinya diketahui dan ia ditangkap oleh warga setelah diteriaki maling. Akibat perbuatan terdakwa, Desa Guwang mengalami kerugian sebesar Rp7.000.000 dan saksi Cokorda Dalem Sukawati mengalami kerugian sebesar Rp3.000.000. Terdakwa didakwa dengan dakwaan primair berdasarkan Pasal 363 Ayat (1) ke-3 KUHP jo. Pasal 65 Ayat (1) KUHP, dan dakwaan subsidair berdasarkan Pasal 362 KUHP jo. Pasal 65 Ayat (1) KUHP.",
         "18.0"
        ],
        [
         "774",
         "0",
         "12",
         "21",
         "4",
         "112",
         "Samsul Arifin",
         "Bahwa terdakwa SAMSUL ARIFIN pada hari Jumat tanggal 06 Oktober 2017 sekitar pukul 04.00 WITA, atau setidak-tidaknya pada suatu waktu dalam bulan Oktober 2017, bertempat di Kafe Tuak Enjoy, Jalan Bypass Ida Bagus Mantra, Br. Siyut, Desa Tulikup, Kecamatan dan Kabupaten Gianyar, serta pada hari Senin tanggal 06 November 2017 sekitar pukul 04.00 WITA, atau setidak-tidaknya pada suatu waktu dalam bulan November 2017, bertempat di Kafe Romeo, Jalan Bypass Dharma Giri, Kabupaten Gianyar, atau tempat lain yang masih termasuk dalam daerah hukum Pengadilan Negeri Gianyar, telah melakukan perbarengan beberapa perbuatan yang harus dipandang sebagai perbuatan yang berdiri sendiri sehingga merupakan beberapa kejahatan, yaitu mengambil barang milik orang lain dengan maksud untuk dimiliki secara melawan hukum, yang dilakukan dengan cara merusak atau memasuki tempat dengan cara tidak sah. Pada kejadian di Kafe Tuak Enjoy, terdakwa datang menggunakan sepeda motor Honda Vario warna hitam silver DK 3931 LW miliknya sendiri saat kafe dalam keadaan tutup dan sepi, kemudian menarik paksa dinding dari batang bambu hingga terbuka, lalu masuk dan mengambil tanpa izin dua buah speaker yang terletak di depan pintu ruangan kasir, dibawa ke rumah kos dengan cara dibonceng dan diikat menggunakan karet ban dalam dalam dua kali perjalanan. Selanjutnya, pada kejadian di Kafe Romeo, terdakwa juga datang menggunakan motor yang sama dan masuk melalui pintu barat yang tidak terkunci, hanya diganjal kerat bir, lalu terdakwa masuk dan mengambil tanpa izin 1 unit power merek Bell, 1 unit power merek Thunder, 1 unit tune control merek ADVANCED, 1 unit equalizer merek Seico, 1 unit amplifier merek TOA, dan 1 unit stavolt warna merah merek Matsunaga, yang diangkut dalam dua kali perjalanan ke rumah kos. Akibat perbuatan terdakwa, saksi YANTI MARYANI selaku pemilik Kafe Tuak Enjoy mengalami kerugian sekitar Rp 4.000.000,- (empat juta rupiah) dan saksi DEWA GEDE SUMERTA selaku pemilik Kafe Romeo mengalami kerugian sekitar Rp 12.000.000,- (dua belas juta rupiah). Terdakwa didakwa dengan dakwaan primair berdasarkan Pasal 363 Ayat (1) ke-5 KUHP jo. Pasal 65 KUHP, dan dakwaan subsidair berdasarkan Pasal 362 KUHP jo. Pasal 65 Ayat (1) KUHP.",
         "18.0"
        ],
        [
         "715",
         "0",
         "12",
         "22",
         "3",
         "60",
         "Kadek Adi Anto Ariawan",
         "Terdakwa Kadek Adi Anto Ariawan pada hari Rabu tanggal 12 September 2018 sekitar pukul 10.00 WITA, bertempat di Alfamart Singapadu, Banjar Mukti, Desa Singapadu, Kecamatan Sukawati, Kabupaten Gianyar, telah melakukan pencurian dengan maksud memiliki secara melawan hukum barang milik orang lain. Perbuatan tersebut dilakukan dengan cara berpura-pura berbelanja dan membeli minuman, kemudian menuju ke bagian belakang toko dekat kamar mandi, tempat terdakwa melihat sebuah tas hitam milik saksi korban Ni Nyoman Widiantari. Terdakwa lalu mengambil tas tersebut tanpa izin, membawanya masuk ke dalam kamar mandi, membuka isinya, dan mengambil sebuah dompet berisi uang tunai Rp1.500.000,-, KTP, SIM C, kartu BPJS Kesehatan, kartu BPJS Ketenagakerjaan, kartu ATM BCA, serta STNK sepeda motor Honda Vario DK 7476 LJ atas nama korban. Setelah mengambil dompet dan isinya, terdakwa membuang tas tersebut di lantai kamar mandi lalu meninggalkan lokasi. Akibat perbuatan terdakwa, korban mengalami kerugian sekitar Rp2.800.000,-. Perbuatan ini diatur dan diancam pidana dalam Pasal 362 KUHP.",
         "5.0"
        ],
        [
         "806",
         "0",
         "12",
         "23",
         "3",
         "56",
         "Kadek Suastawan alias Pak Alek",
         "Bahwa pada hari Selasa, 2 Januari 2018 sekitar pukul 15.00 WITA, bertempat di River Villa, Banjar Payogan, Desa Kedewatan, Ubud, Gianyar, Terdakwa Kadek Suastawan alias Pak Alek melakukan percobaan pencurian dengan cara memanjat tembok belakang dan turun melalui pohon kamboja untuk masuk ke dalam vila. Terdakwa lalu menuju lantai dua, masuk ke salah satu kamar yang tidak terkunci, dan menemukan tas hitam merk Wenger milik saksi Valeri Erisiani di dalam lemari. Terdakwa kemudian memeriksa isi tas tersebut yang berisi beberapa pakaian. Namun, aksi tersebut dipergoki oleh saksi Sedletska Tetiana yang langsung berteriak dan memanggil saksi Valeri Erisiani serta David Musaev. Terdakwa sempat melarikan diri, namun berhasil ditangkap saat hendak memanjat pagar vila. Akibat perbuatannya, saksi Valeri Erisiani mengalami kerugian sekitar Rp3.000.000. Perbuatan Terdakwa merupakan percobaan pencurian dengan pemberatan sebagaimana diatur dan diancam pidana dalam Pasal 363 ayat (1) ke-5 jo Pasal 53 ayat (1) KUHP.",
         "8.0"
        ],
        [
         "32",
         "0",
         "13",
         "0",
         "3",
         "84",
         "NI LUH PUSPA DEWI",
         "Pada hari Minggu, 4 Juli 2021 sekitar pukul 11.00 WITA, Terdakwa Ni Luh Puspa Dewi dalam perjalanan menuju ladang orang tuanya di Desa Suter, Bangli, melewati sebuah rumah kosong di Banjar Munduk Waru, Desa Buahan, Kintamani, dan timbul niat untuk mencuri. Setelah memastikan keadaan sekitar aman, terdakwa masuk ke rumah tersebut dan menemukan kunci di lemari kaca dalam salah satu kamar. Ia kemudian membuka kamar lain dengan kunci tersebut dan menemukan dompet biru bermotif bunga berisi berbagai perhiasan emas, termasuk kalung, gelang, cincin, dan anting-anting dengan total berat puluhan gram. Semua barang tersebut diambil dan disimpan di sakunya, lalu terdakwa meninggalkan lokasi. Perhiasan hasil curian dijual di Pasar Kidul kepada seorang wanita tak dikenal seharga Rp80.000.000, yang kemudian digunakan untuk kebutuhan sehari-hari dan membeli sejumlah pakaian, sandal, serta cincin emas. Berdasarkan laporan polisi tertanggal 6 Februari 2023, terdakwa akhirnya mengakui seluruh perbuatannya. Akibat kejadian ini, korban I Nyoman Mawa mengalami kerugian sekitar Rp80.000.000. Perbuatan Terdakwa didakwa dengan dakwaan primair Pasal 363 Ayat (1) ke-5 KUHP, dan dakwaan subsidair Pasal 362 KUHP.",
         "6.0"
        ],
        [
         "34",
         "0",
         "13",
         "3",
         "5",
         "60",
         "JRO GEDE BUDI",
         "Pada Sabtu, 28 Januari 2023, di Pemandian Tirta Usadha Toya Bungkah, Desa Batur Tengah, Kintamani, Bangli, terdakwa Jro Gede Budi didakwa melakukan pencurian. Setelah selesai berendam, terdakwa melihat sebuah tas hitam bertuliskan \"Steve Madden\" milik korban Ni Jro Luh Putri di bawah loker, lalu mengambilnya dan membawanya pulang menggunakan sepeda motor. Di perjalanan, terdakwa membuka tas tersebut dan menemukan tas merah maroon bertuliskan \"Michael Kors\" berisi uang tunai sebesar Rp5.700.000 serta sebuah dompet berisi perhiasan emas berupa kalung dan cincin, dan dua nota pembelian dari Toko Emas Ratna. Terdakwa mengambil Rp1.000.000 untuk dirinya dan menyembunyikan sisa uang serta perhiasan di bawah pohon di dekat rumahnya, sedangkan tas-tas tersebut disimpan di jok motor. Berdasarkan laporan korban, polisi berhasil mengamankan terdakwa beserta barang-barang bukti, termasuk sepeda motor dan hoodie yang digunakan untuk membungkus barang curian. Atas perbuatannya, korban mengalami kerugian sekitar Rp19.700.000, dan terdakwa dijerat dengan Pasal 362 KUHP tentang pencurian.",
         "5.0"
        ],
        [
         "38",
         "0",
         "14",
         "0",
         "6",
         "80",
         "Gede Kastawa",
         "Terdakwa Gede Kastawa didakwa melakukan serangkaian tindak pidana pencurian ayam di wilayah Kintamani, Bangli, pada bulan Oktober 2022. Pada 21 Oktober 2022, terdakwa mencuri 6 ekor ayam dari belakang rumah korban I Wayan Sukada di Desa Belantih, lalu menjualnya di Pasar Anyar Singaraja seharga Rp800.000. Hasil penjualan digunakan untuk membeli ayam aduan dan berjudi. Kemudian, pada 28 Oktober 2022, terdakwa mencuri 15 ekor ayam milik korban I Made Terus dari kebun jeruk di Desa Belanga, yang kembali dijual dan hasilnya dipakai untuk berjudi. Selanjutnya, pada 30 Oktober 2022, terdakwa beraksi di pondokan milik korban I Wayan Lusin di Desa Belanga, mencuri seekor ayam namun aksinya diketahui oleh saksi dan warga sehingga berhasil diamankan. Total kerugian para korban mencapai sekitar Rp3.500.000. Terdakwa mengaku melakukan pencurian karena alasan ekonomi. Perbuatannya diancam pidana sesuai Pasal 362 jo. Pasal 65 Ayat (1) KUHP.",
         "30.0"
        ],
        [
         "609",
         "0",
         "14",
         "14",
         "3",
         "84",
         "I Made Murta Adi als. Gedu",
         "Bahwa terdakwa I MADE MURTA ADI Alias GEDU pada hari Rabu tanggal 15 Mei 2019 sekira Pukul 00.30 Wita atau setidak-tidaknya pada suatu waktu dalam bulan Mei tahun 2019, bertempat di Villa milik Sang Made Parmana di Banjar Roban, Desa Kelusa, Kecamatan Payangan, Kabupaten Gianyar, atau setidak-tidaknya pada suatu tempat yang masih dalam daerah hukum Pengadilan Negeri Gianyar, telah mengambil barang sesuatu, yang seluruhnya atau sebagian kepunyaan orang lain, dengan maksud untuk dimiliki secara melawan hukum, yang untuk masuk ke tempat melakukan kejahatan atau untuk sampai pada barang yang diambil dilakukan dengan merusak, memotong atau memanjat, atau dengan memakai anak kunci palsu, perintah palsu atau pakaian jabatan palsu yang terdakwa lakukan dengan cara sebagai berikut. Pada waktu dan tempat sebagaimana tersebut diatas, berawal terdakwa mendatangi Villa milik Sang Made Parmana menggunakan mobil Pick Up warna hitam DK 9887 UW, sesampainya di areal Villa tersebut terdakwa masuk kedalam dapur dengan cara membuka jendela dapur yang dalam keadaan tidak terkunci, selanjutnya terdakwa memanjat naik keatas kusen jendela dan setelah berada didalam dapur, terdakwa tanpa ijin dari yang berhak mengambil satu unit kulkas (lemari es) merk Toshiba Glacio dengan cara awalnya terdakwa menggeser kulkas tersebut menuju jendela lalu secara pelan-pelan menaikkan kulkas tersebut keatas jendela lalu menariknya hingga sampai di bagian teras dapur, selanjutnya terdakwa menggendong kulkas tersebut menuju mobil Pick Up yang terdakwa bawa, kemudian terdakwa memberikan kulkas tersebut kepada saksi Ni Ketut Sriasih.. Bahwa akibat perbuatan terdakwa tersebut, keluarga Sang Made Parmana mengalami kerugian kurang lebih sebesar Rp. 5.000.000, (lima juta rupiah).  Terdakwa didakwa dengan dakwaan primair berdasarkan Pasal 363 Ayat (1) ke-5 KUHP, dan dakwaan subsidair berdasarkan Pasal 362 KUHP.",
         "6.0"
        ],
        [
         "437",
         "0",
         "14",
         "14",
         "3",
         "60",
         "KETUT AGUS ADI PUTRA KUSUMA",
         "Bahwa terdakwa KETUT AGUS ADI PUTRA KUSUMA pada hari Jumat tanggal 12 Juni 2020 sekira pukul 16.00 Wita atau setidak-tidaknya pada suatu waktu dalam bulan Juni tahun 2020 bertempat di depan toko emas Pande Murda, di Lingkungan Teges Kaja, Kelurahan Gianyar, Kecamatan Gianyar Kabupaten Gianyar atau setidak-tidaknya pada suatu tempat yang masih dalam daerah hukum Pengadilan Negeri Gianyar, telah mengambil barang sesuatu, yang seluruhnya atau sebagian kepunyaan orang lain, dengan maksud untuk dimiliki secara melawan hukum, yang terdakwa lakukan dengan cara sebagai berikut. Bahwa berawal saat terdakwa melintas di depan toko emas Pande Murda di Lingkungan Banjar Teges Kaja Kelurahan Gianyar Kecamatan Gianyar Kabupaten Gianyar, melihat satu buah tas ransel merk Polo Deger milik saksi I Wayan Adi Antara yang didalamnya berisi satu buah laptop merk Lenovo lengkap dengan charger beserta mouse, satu buah HP merk Oppo A37 warna putih, uang tunai sejumlah Rp.1.300.000,- (satu juta tiga ratus ribu rupiah), berkas-berkas serah terima barang dan satu buah buku tabungan BPD yang diletakkan dipinggir jalan, selanjutnya terdakwa tanpa seijin dari saksi I Wayan Adi Antara mengambil tas ransel merk Polo Deger tersebut lalu membawanya pulang, kemudian terdakwa mengambil uang sejumlah Rp.1.300.000. (satu juta tiga ratus ribu rupiah) tersebut, menjual HP merk Oppo A37 tersebut kepada saksi Pande Kadek Ngurah Wahyu dan menjual laptop merk Lenovo tersebut kepada saksi Dewa Gede Murya. Bahwa akibat perbuatan terdakwa tersebut saksi I Wayan Adi Antara mengalami kerugian sejumlah Rp. 7.000.000. (tujuh juta rupiah) atau setidak-tidaknya sekitar jumlah tersebut. Perbuatan terdakwa tersebut sebagaimana diatur pasal 362 KUHP.",
         "16.0"
        ],
        [
         "595",
         "0",
         "14",
         "14",
         "4",
         "60",
         "MOHAMMAD HOSEN",
         "Bahwa terdakwa MOHAMMAD HOSEN, pada hari Senin tanggal 10 Juni 2019 sekira pukul 24.30 Wita atau setidak-tidaknya pada suatu waktu dalam bulan Juni 2019, bertempat di Jalan Bay Pass Prof. Ida Bagus Mantra Banjar Pabean Desa Ketewel Kecamatan Sukawati Kabupaten Gianyar atau setidak-tidaknya pada suatu tempat yang masih dalam daerah hukum Pengadilan Negeri Gianyar, telah mengambil barang sesuatu, yang seluruhnya atau sebagian kepunyaan orang lain, dengan maksud untuk dimiliki secara melawan hukum, perbuatan tersebut terdakwa lakukan dengan cara sebagai berikut. Bahwa awalnya pada hari Minggu sekira pukul 23.30 wita terdakwa berangkat dari Denpasar menuju daerah Gianyar menggunakan Sepeda Motor Honda Vario warna hitam Nomor Polisi DK 5868 AAN, sesampainya di Jalan Bay Pass Prof. Ida Bagus Mantra Banjar Pabean Desa Ketewel Kecamatan Sukawati Kabupaten Gianyar sekira pukul 24.30 wita terdakwa merasa situasi dalam keadaan aman lalu terdakwa berhenti dan berjalan menuju besi pembatas jalan yang terpasang memisahkan antara jalan dengan taman jalan, kemudian terdakwa dengan menggunakan kunci inggris yang telah dipersiapkan membuka satu persatu baut-baut besi pembatas jalan tersebut selanjutnya mengambil lempeng-lempeng besi pembatas jalan dan memasukkannya kedalam kampil beras ukuran 5 kg yang terdakwa bawa, selanjutnya setelah berhasil memasukkan 9 lempeng besi kedalam kampil terdakwa melihat saksi I Ketut Jarna alias jarot dan saksi Milkias Menabu berjalan mendekat dan terdakwa karena merasa takut terdakwa lari menuju arah timur.. Bahwa terdakwa telah mengambil besi-besi pembatas jalan di Jalan Bay Pass Prof. Ida Bagus Mantra Banjar Pabean Desa Ketewel Kecamatan Sukawati Kabupaten Gianyar sebanyak 15 kali, lalu menjual besi-besi tersebut kepada saksi Selamet Edi Susanto dan saksi Ainur Kumala Dewi. Bahwa akibat perbuatan terdakwa Pemerintah (Kementrian PU dan Perumahan Rakyat) mengalami kerugian kurang lebih sebesar Rp.4.093.100, (empat juta sembilan puluh tiga ribu seratus rupiah). Perbuatan terdakwa sebagaimana diatur pasal 362 KUHP.",
         "17.0"
        ],
        [
         "422",
         "0",
         "14",
         "16",
         "3",
         "108",
         "M. ZAINAL ARIF",
         "Bahwa terdakwa M. ZAINAL ARIF bersama sdr. HERI alias HERI ROYAL (Daftar Pencarian Orang) pada hari Selasa tanggal 01 September 2020 atau setidak-tidaknya pada suatu waktu dalam tahun 2020 sekira jam 05.00 Wita atau setidak-tidaknya pada waktu antara matahari terbenam dan matahari terbit, bertempat di rumah kost milik Pak Bolang di Jalan Batu Intan II D Banjar Dinas Tubuh Desa Batubulan Kecamatan Sukawati Kabupaten Gianyar, atau setidak-tidaknya pada suatu tempat yang masih dalam daerah hukum Pengadilan Negeri Gianyar, telah mengambil barang sesuatu, yang seluruhnya atau sebagian kepunyaan orang lain, dengan maksud untuk dimiliki secara melawan hukum, di waktu malam dalam sebuah rumah atau pekarangan tertutup yang ada rumahnya, yang dilakukan oleh orang yang ada di situ tidak diketahui atau tidak dikehendaki oleh yang berhak, yang dilakukan oleh dua orang atau lebih dengan bersekutu, yang terdakwa lakukan dengan cara sebagai berikut. Bahwa awalnya terdakwa bersama sdr. HERI alias HERI ROYAL dengan menggunakan sepeda motor Honda Beat warna putih nomor polisi DK-7563-OM mendatangi rumah kos milik Pak Bolang di jalan Batu Intan II D, Banjar Dinas Tubuh, Desa Batubulan, Kecamatan Sukawati, Kabupaten Gianyar, sesampainya di depan rumah kos tersebut terdakwa menghentikan sepeda motor yang dikendarai lalu menunggu diatas sepeda motor mengawasi situasi sekitar, selanjutnya sdr. HERI alias HERI ROYAL masuk kedalam areal rumah kos melalui pintu gerbang, setelah berada didalam areal rumah kos sdr. HERI alias HERI ROYAL tanpa seijin dari saksi I Kadek Putra Suarmahedi sebagai pemiliknya mengambil satu unit sepeda motor merk Vesva type Sprint warna merah nomor polisi DK-3874-MX beserta STNKnya dan uang tunai sejumlah Rp.300.000,- (tiga ratus ribu rupiah), selanjutnya membawa sepeda motor tersebut dan menyerahkannya kepada terdakwa, kemudian sepeda motor tersebut terdakwa jual kepada saksi Bustomi Abdul Ghoni seharga Rp. 10.000.000,- (sepuluh juta rupiah) dan uang hasil penjualan sepeda motor tersebut diberikan kepada sdr. HERI alias HERI ROYAL sejumlah Rp.3.500.000,- (tiga juta lima ratus ribu rupiah) dan sisanya sejumlah Rp.6.500.000,- (enam juta lima ratus ribu rupiah) telah terdakwa gunakan untuk memenuhi kehidupan sehari-hari.. Perbuatan terdakwa tersebut sebagaimana diatur dan diancam pidana pasal 363 ayat (1) ke-3 dan ke-4 KUHP.",
         "36.0"
        ],
        [
         "474",
         "0",
         "14",
         "18",
         "2",
         "108",
         "I GDE DIKA PRAYOGA ARINATHA Alias BADAK",
         "Pada hari Jumat, 13 Maret 2020, sekitar pukul 11.00 WITA, terdakwa melakukan tindak pidana pencurian dengan kekerasan di Jalan Tirta Tawar, Banjar Tengah Kauh, Desa Peliatan, Kecamatan Ubud, Kabupaten Gianyar. Terdakwa melihat saksi Ni Nyoman Wardani yang sedang berjalan sambil memegang handphone merk Asus, kemudian menghampiri saksi dan berkata, \"Ngorang Sing Ngaba HP\" (Bilang Tidak Bawa HP), lalu secara paksa mengambil handphone tersebut dari tangan saksi. Ketika saksi berusaha merebut kembali handphone itu, terdakwa memukul saksi hingga jatuh dan menarik tas yang dibawa oleh saksi hingga tali tas tersebut putus. Setelah itu, terdakwa mengambil uang sebesar Rp 500.000,- yang ada di dalam tas saksi dan memasukkannya ke dalam saku celananya. Terdakwa didakwa dengan dakwaan primair berdasarkan Pasal 365 Ayat (1) KUHP, dan dakwaan subsidair berdasarkan Pasal 351 Ayat (1) KUHP.",
         "5.5"
        ],
        [
         "786",
         "0",
         "14",
         "19",
         "6",
         "144",
         "Heri Humaeni",
         "Bahwa terdakwa I JURI HARNI, terdakwa II MAYA SYAHRIAL, terdakwa III ARIS SUSANTO, dan terdakwa IV HERI HUMAENI, bersama-sama dengan saksi HUSIN SUHERMAN, saksi TUTIK MARYATI, serta dua orang DPO yaitu YOHANA dan EVI, pada tanggal 22 dan 25 Februari 2018 di dua lokasi wisata di Bali, yakni Pura Desa Batuan dan Pasar Seni Guwang, telah melakukan tindak pidana pencurian secara bersama-sama. Para terdakwa menginap di Hotel Viking Denpasar untuk merencanakan aksi pencopetan dengan sasaran para wisatawan, dan membagi peran: terdakwa III dan IV sebagai sopir dan penunggu mobil, terdakwa I dan II serta dua DPO sebagai pengalih perhatian dan pengawas situasi, sedangkan pencurian dilakukan oleh saksi TUTIK MARYATI dan hasilnya diserahkan kepada saksi HUSIN SUHERMAN. Pada tanggal 22 Februari 2018, mereka mencuri uang sejumlah 3.280 Yuan dan Rp100.000 dari tas wisatawan bernama LI XIAOYUAN di Pura Desa Batuan. Selanjutnya, pada 25 Februari 2018, mereka mencuri satu unit handphone Samsung S7 dan satu perangkat WiFi Glocalme milik wisatawan QINGHUA LI di Pasar Seni Guwang. Setelah aksi pencurian, hasil curian dibawa ke mobil dan dibagi-bagi setelah sempat ditukar di money changer. Akibat perbuatan tersebut, kedua korban mengalami kerugian masing-masing sebesar Rp7.000.000 dan Rp6.200.000. Perbuatan para terdakwa diancam pidana berdasarkan Pasal 363 ayat (1) ke-4 KUHP jo. Pasal 65 ayat (1) KUHP.",
         "36.0"
        ],
        [
         "783",
         "0",
         "14",
         "19",
         "6",
         "144",
         "Juri Harni",
         "Bahwa terdakwa I JURI HARNI, terdakwa II MAYA SYAHRIAL, terdakwa III ARIS SUSANTO, dan terdakwa IV HERI HUMAENI, bersama-sama dengan saksi HUSIN SUHERMAN, saksi TUTIK MARYATI, serta dua orang DPO yaitu YOHANA dan EVI, pada tanggal 22 dan 25 Februari 2018 di dua lokasi wisata di Bali, yakni Pura Desa Batuan dan Pasar Seni Guwang, telah melakukan tindak pidana pencurian secara bersama-sama. Para terdakwa menginap di Hotel Viking Denpasar untuk merencanakan aksi pencopetan dengan sasaran para wisatawan, dan membagi peran: terdakwa III dan IV sebagai sopir dan penunggu mobil, terdakwa I dan II serta dua DPO sebagai pengalih perhatian dan pengawas situasi, sedangkan pencurian dilakukan oleh saksi TUTIK MARYATI dan hasilnya diserahkan kepada saksi HUSIN SUHERMAN. Pada tanggal 22 Februari 2018, mereka mencuri uang sejumlah 3.280 Yuan dan Rp100.000 dari tas wisatawan bernama LI XIAOYUAN di Pura Desa Batuan. Selanjutnya, pada 25 Februari 2018, mereka mencuri satu unit handphone Samsung S7 dan satu perangkat WiFi Glocalme milik wisatawan QINGHUA LI di Pasar Seni Guwang. Setelah aksi pencurian, hasil curian dibawa ke mobil dan dibagi-bagi setelah sempat ditukar di money changer. Akibat perbuatan tersebut, kedua korban mengalami kerugian masing-masing sebesar Rp7.000.000 dan Rp6.200.000. Perbuatan para terdakwa diancam pidana berdasarkan Pasal 363 ayat (1) ke-4 KUHP jo. Pasal 65 ayat (1) KUHP.",
         "36.0"
        ],
        [
         "785",
         "0",
         "14",
         "19",
         "6",
         "144",
         "Aris Susanto",
         "Bahwa terdakwa I JURI HARNI, terdakwa II MAYA SYAHRIAL, terdakwa III ARIS SUSANTO, dan terdakwa IV HERI HUMAENI, bersama-sama dengan saksi HUSIN SUHERMAN, saksi TUTIK MARYATI, serta dua orang DPO yaitu YOHANA dan EVI, pada tanggal 22 dan 25 Februari 2018 di dua lokasi wisata di Bali, yakni Pura Desa Batuan dan Pasar Seni Guwang, telah melakukan tindak pidana pencurian secara bersama-sama. Para terdakwa menginap di Hotel Viking Denpasar untuk merencanakan aksi pencopetan dengan sasaran para wisatawan, dan membagi peran: terdakwa III dan IV sebagai sopir dan penunggu mobil, terdakwa I dan II serta dua DPO sebagai pengalih perhatian dan pengawas situasi, sedangkan pencurian dilakukan oleh saksi TUTIK MARYATI dan hasilnya diserahkan kepada saksi HUSIN SUHERMAN. Pada tanggal 22 Februari 2018, mereka mencuri uang sejumlah 3.280 Yuan dan Rp100.000 dari tas wisatawan bernama LI XIAOYUAN di Pura Desa Batuan. Selanjutnya, pada 25 Februari 2018, mereka mencuri satu unit handphone Samsung S7 dan satu perangkat WiFi Glocalme milik wisatawan QINGHUA LI di Pasar Seni Guwang. Setelah aksi pencurian, hasil curian dibawa ke mobil dan dibagi-bagi setelah sempat ditukar di money changer. Akibat perbuatan tersebut, kedua korban mengalami kerugian masing-masing sebesar Rp7.000.000 dan Rp6.200.000. Perbuatan para terdakwa diancam pidana berdasarkan Pasal 363 ayat (1) ke-4 KUHP jo. Pasal 65 ayat (1) KUHP.",
         "36.0"
        ],
        [
         "724",
         "0",
         "14",
         "20",
         "5",
         "144",
         "I Gede Miko Widodo alias Jerki",
         "Terdakwa I Gede Miko Widodo alias Jerki bersama rekannya I Wayan Mupu (yang dituntut dalam berkas terpisah) didakwa telah melakukan tindak pidana pencurian dengan kekerasan (penjambretan) terhadap seorang wisatawan asing bernama Erba Marco pada hari Rabu, 8 Agustus 2018 sekitar pukul 14.30 WITA di Jalan Raya Pujung Kaja, Desa Sebatu, Kecamatan Tegallalang, Kabupaten Gianyar. Keduanya sebelumnya sepakat untuk melakukan penjambretan dan berangkat dari wilayah Kuta menuju Gianyar menggunakan sepeda motor, dengan posisi terdakwa dibonceng oleh I Wayan Mupu. Saat melintas di Ubud, mereka melihat korban mengendarai motor sambil memegang handphone Sony Xperia XZ1, kemudian membuntutinya dan memepet korban hingga posisi motor sejajar. Terdakwa lalu merampas paksa handphone tersebut menggunakan tangan kirinya. Selanjutnya, barang hasil jambretan dijual kepada seseorang bernama Jro Komang Sumadi seharga Rp1.500.000, dan hasilnya dibagi dua, di mana terdakwa menerima Rp750.000 yang digunakannya untuk kebutuhan sehari-hari. Terdakwa didakwa dengan dakwaan primair berdasarkan Pasal 365 Ayat (2) ke-2 KUHP, dan dakwaan subsidair berdasarkan Pasal 363 Ayat (1) ke-4 KUHP.",
         "36.0"
        ],
        [
         "518",
         "0",
         "14",
         "20",
         "3",
         "144",
         "ROSIDIN",
         "Bahwa terdakwa ROSIDIN bersama sdr. IDI (Daftar Pencarian Orang) pada hari Selasa tanggal 10 Desember 2019 sekira jam 01.00 Wita sampai dengan jam 06.00 wita atau setidak-tidaknya pada suatu waktu dalam bulan Desember tahun 2019 bertempat di rumah milik saksi I Made Rentet, di rumah milik saksi I Nyoman Sukarja dan di rumah milik I Nyoman Loki yang berlokasi di Banjar Rangkan, Desa Ketewel, Kecamatan Sukawati, Kabupaten Gianyar atau setidak-tidaknya pada suatu tempat yang masih dalam daerah hukum Pengadilan Negeri Gianyar, telah melakukan perbarengan beberapa perbuatan yang harus dipandang sebagai perbuatan yang berdiri sendiri sehingga merupakan beberapa kejahatan, yang diancam dengan pidana pokok sejenis, yaitu mengambil barang sesuatu, yang seluruhnya atau sebagian kepunyaan orang lain, dengan maksud untuk dimiliki secara melawan hukum, di waktu malam dalam sebuah rumah atau pekarangan tertutup yang ada rumahnya, yang dilakukan oleh orang yang ada di situ tidak diketahui atau tidak dikehendaki oleh yang berhak, yang dilakukan oleh dua orang atau lebih dengan bersekutu, yang terdakwa lakukan dengan cara sebagai berikut. Bahwa berawal sekitar awal bulan Desember 2019 terdakwa dan sdr. IDI bersepakat untuk melakukan pencurian di wilayah Bali, kemudian pada hari Senin tanggal 9 Desember 2019 sekira jam 10.00 wita terdakwa bersama sdr. IDI berangkat dari Lombok menuju Bali dengan menggunakan sepeda motor milik sdr. IDI, selanjutnya sesampainya di Jalan Bay Pas Ida Bagus Mantra wilayah Banjar rangkan Desa Ketewel Kecamatan Gianyar sekira pukul 22.00 wita, terdakwa bersama sdr. IDI minum kopi disebuah warung yang berada di pinggir jalan Bay Pas Ida Bagus Mantra sambil melihat-lihat situasi dan mencari-cari sasaran, kemudian pada hari selasa sekira jam 01.00 wita sdr. IDI masuk ke dalam salah satu Gang tempat pemukiman penduduk sedangkan terdakwa tetap berada di sepeda motor mengawasi situasi, kemudian sdr. IDI masuk kedalam tiga rumah penduduk yakni masuk kedalam rumah saksi I Made Rentet lalu tanpa ijin mengambil barang-barang berupa satu buah blakas dan satu buah dompet kulit warna coklat berisi uang sejumlah Rp.1.000.000, (satu juta rupiah) milik saksi I Made Diana Eka Putra, selanjutnya sdr. IDI masuk kedalam rumah saksi I Nyoman Sukarja mengambil satu buah Hand phone merk OPPO tipe A37 warna rose gold kombinasi putih milik saksi Ni Kadek Helly Sujani, kemudian sdr. IDI menuju rumah saksi I Nyoman Loki lalu masuk kedalam rumah dan mengambil satu buah dompet wanita warna pink serta satu tas wanita warna biru dongker berisi uang sejumlah Rp.50.000, (lima puluh ribu rupiah), kemudian sdr. IDI menghubungi terdakwa untuk menjemput selanjutnya pulang ke tempat kost terdakwa di wilayah Banjar Sema Desa Bitra Gianyar, Kemudian satu buah Hand phone merk OPPO tipe A37 warna rose gold kombinasi putih milik saksi Ni Kadek Helly Sujani yang berhasil diambil oleh terdakwa dijual kepada saksi Herwandi seharga Rp.600.000, (enam ratus ribu rupiah) dan hasil penjualan tersebut terdakwa gunakan untuk beli makan dan minum.. Perbuatan terdakwa tersebut sebagaimana diatur dan diancam pidana pasal 363 ayat (1) ke-3 dan ke-4 KUHP jo. pasal 65 KUHP.",
         "18.0"
        ],
        [
         "608",
         "0",
         "14",
         "20",
         "3",
         "60",
         "Dicky Darma Saputra",
         "Bahwa terdakwa DICKY DARMA SAPUTRA pada hari Kamis tanggal 11 April 2019 sekira pukul 14.00 Wita atau setidak-tidaknya pada suatu waktu dalam bulan April tahun 2019, bertempat di tempat cuci motor di Banjar Yeh Tengah Desa Kelusa Kecamatan Payangan Kabupaten Gianyar atau setidak-tidaknya pada suatu tempat yang masih dalam daerah hukum Pengadilan Negeri Gianyar, telah mengambil barang sesuatu, yang seluruhnya atau sebagian kepunyaan orang lain, dengan maksud untuk dimiliki secara melawan hukum, yang terdakwa lakukan dengan cara sebagai berikut. Berawal ketika terdakwa sedang bekerja sebagai tukang cuci motor di tempat cuci motor milik saksi I Wayan Japa, datang saksi I Made Sarna untuk mencuci sepeda motor Honda Vario CW DK 6807 KB warna putih lalu menyerahkan sepeda motornya kepada terdakwa untuk dicuci dan mengatakan satu jam lagi akan saya ambil, selanjutnya setelah terdakwa selesai mencuci sepeda motor, terdakwa tanpa seijin dari saksi I Made Sarna sebagai pemiliknya membawa sepeda motor tersebut pergi ke Denpasar, kemudian terdakwa menjual sepeda motor tersebut kepada saksi Moh. Lamri seharga Rp. 1.000.000, (satu juta rupiah) dan uang hasil penjualan sepeda motor tersebut telah terdakwa gunakan untuk memenuhi kebutuhan sehari-hari. Bahwa akibat perbuatan terdakwa saksi I Made Sarna mengalami kerugian materiil kurang lebih sebesar Rp. 7.000.000, (tujuh juta rupiah).  Terdakwa didakwa dengan dakwaan primair berdasarkan Pasal 362 KUHP, dan dakwaan subsidair berdasarkan Pasal 372 KUHP.",
         "17.0"
        ],
        [
         "578",
         "0",
         "14",
         "20",
         "3",
         "60",
         "Dedik Iswanto alias Adiman alias Adi.",
         "Bahwa terdakwa DEDIK ISWANTO Alias ADIMAN Alias ADI pada hari Selasa tanggal 16 Juli 2019 sekira jam 08.30 Wita atau setidak-tidaknya pada suatu waktu dalam bulan Juli tahun 2019, bertempat di depan rumah saksi I Wayan Dirgantara di Jalan Raya Ponggang Banjar Ponggang Desa Puhu Kecamatan Payangan Kabupaten Gianyar, atau setidak-tidaknya pada suatu tempat yang masih dalam daerah hukum Pengadilan Negeri Gianyar, telah mengambil barang sesuatu, yang seluruhnya atau sebagian kepunyaan orang lain, dengan maksud untuk dimiliki secara melawan hukum, yang terdakwa lakukan dengan cara sebagai berikut. Berawal terdakwa mengendarai sepeda motor Yamaha X-Ride warna hitam merah nomor polisi DK-2607-FV yang dipinjam dari saksi Abdi Nusanto Als Pak Yuda melintas di Jalan Raya Ponggang Banjar Ponggang Desa Puhu Kecamatan Payangan Kabupaten Gianyar melihat satu unit sepeda motor Honda Supra nomor polisi DK-3614-KR milik saksi I Wayan Dirgantara terpakir di pinggir jalan, selanjutnya merasa sepeda motor Yamaha X-Ride yang terdakwa kendarai terasa ngadat lalu terdakwa tanpa ijin dari saksi I Wayan Dirgantara sebagai pemiliknya mengambil sepeda motor Honda Supra nomor polisi DK-3614-KR tersebut, lalu mengendarainya menuju Denpasar dengan maksud akan dijual, sedangkan sepeda motor yang terdakwa kendarai sebelumnya ditinggalkan di pinggir jalan Raya Ponggang Banjar Ponggang Desa Puhu Kecamatan Payangan Kabupaten Gianyar.. Bahwa akibat perbuatan terdakwa tersebut, saksi I Wayan Dirgantara mengalami kerugian kurang lebih sebesar Rp. 3.500.000, (tiga juta lima ratus juta rupiah). Perbuatan terdakwa tersebut sebagaimana diatur pasal 362 KUHP.",
         "14.0"
        ],
        [
         "745",
         "0",
         "14",
         "20",
         "3",
         "108",
         "KADEK AGUS HERMANJAYA",
         "Bahwa terdakwa pada hari Selasa tanggal 15 Mei 2018 sekira pukul 13.00 Wita atau setidak-tidaknya pada suatu waktu dalam bulan Mei tahun 2018 bertempat di Jalan Raya Tengkulak Desa Kemenuh Kecamatan Sukawati Kabupaten Gianyar atau setidak-tidaknya pada suatu tempat yang masih dalam daerah hukum Pengadilan Negeri Gianyar, telah mengambil barang sesuatu, yang seluruhnya atau sebagian kepunyaan orang lain, dengan maksud untuk dimiliki secara melawan hukum, yang didahului, disertai atau diikuti dengan kekerasan atau ancaman kekerasan, terhadap orang dengan maksud untuk mempersiapkan atau mempermudah pencurian, atau dalam hal tertangkap tangan, untuk memungkinkan melarikan diri sendiri atau peserta lainnya, atau untuk tetap menguasai barang yang dicuri, perbuatan tersebut terdakwa lakukan dengan cara sebagai berikut. Bahwa berawal saat terdakwa mengendarai sepeda motor Honda Vario nomor polisi DK-3880-UAA melintas di Jalan Raya Tengkulak Desa Kemenuh Kecamatan Sukawati Kabupaten Gianyar terdakwa melihat saksi Fagyas Susanne dibonceng oleh saksi Knoepfle sedang memegang satu buah HP merk Samsung S8, melihat hal tersebut timbul niat terdakwa untuk mengambil HP tersebut, selanjutnya terdakwa mengikuti lalu memepet saksi Fagyas Susanne yang dibonceng oleh saksi Knoepfle dari arah sebelah kanan hingga posisi sepeda motor yang terdakwa kendarai sejajar, kemudian dengan menggunakan tangan kiri terdakwa mengambil HP Samsung S8 milik saksi Fagyas Susanne yang dipegang dengan cara menarik secara paksa hingga saksi Fagyas Susanne hampir terjatuh, selanjutnya terdakwa membawa HP tersebut menuju arah Goa Gajah dan kemudian HP Samsung S8 tersebut terdakwa jual kepada saksi Samsul Hadi seharga Rp.4.200.000,- (empat juta dua ratus ribu rupiah) dan hasil penjuallanya terdakwa gunakan untuk memenuhi kebutuhan sehari-hari. Perbuatan terdakwa tersebut sebagaimana diatur dan diancam pidana pasal 365 ayat (1) KUHP.",
         "34.0"
        ],
        [
         "639",
         "0",
         "14",
         "21",
         "3",
         "84",
         "Juweni alias Botak",
         "Bahwa terdakwa JUWENI alias BOTAK pada hari Rabu tanggal 6 Maret 2019 sekira pukul 22.00 Wita atau setidak-tidaknya pada suatu waktu dalam bulan Maret tahun 2019, bertempat di rumah saksi I Made Sudiarta alias Kadek Palu di Banjar Ambengan Desa Peliatan Kecamatan Ubud Kabupaten Gianyar atau setidak-tidaknya pada suatu tempat yang masih dalam daerah hukum Pengadilan Negeri Gianyar, telah mengambil barang sesuatu, yang seluruhnya atau sebagian kepunyaan orang lain, dengan maksud untuk dimiliki secara melawan hukum, di waktu malam dalam sebuah rumah atau pekarangan tertutup yang ada rumahnya, yang dilakukan oleh orang yang ada di situ tidak diketahui atau tidak dikehendaki oleh yang berhak, yang terdakwa lakukan dengan cara sebagai berikut. Bahwa pada waktu dan tempat sebagaimana tersebut diatas, berawal ketika terdakwa melintas di wilayah Banjar Ambengan Desa Peliatan Kecamatan Ubud Kabupaten Gianyar terdakwa mendengar suara burung Lovebird dari rumah saksi I Made Sudiarta alias Pak Palu lalu muncul niat terdakwa untuk melihat burung tersebut, selanjutnya terdakwa masuk kedalam pekarangan rumah saksi I Made Sudiarta alias Pak Palu dan melihat situasi rumah dalam keadaan sepi, kemudian tanpa seijin dari saksi I Made Sudiarta alias Pak Palu sebagai pemiliknya terdakwa mengambil dua ekor burung yakni satu ekor burung Lovebird dan satu ekor burung kenari warna kuning yang tergantung pada bangunan sebelah barat (Bale Dauh), kemudian terdakwa membawa burung tersebut pulang untuk dipelihara. Perbuatan terdakwa sebagaimana diatur dan diancam pidana pasal 363 ayat (1) ke-3 KUHP.",
         "7.0"
        ],
        [
         "33",
         "0",
         "15",
         "4",
         "5",
         "80",
         "I Wayan Nawa",
         "Terdakwa I Wayan Nawa didakwa melakukan pencurian pada dua kesempatan berbeda di wilayah Kintamani, Bangli. Pada 2 Oktober 2022, setelah menjual salak, terdakwa menuju ke kebun milik I Wayan Suardana di Banjar Pludu, Desa Bayung Gede, dan berpura-pura menawarkan pupuk ayam. Saat korban lengah, terdakwa mencuri handphone Redmi Note 10S beserta uang tunai sekitar Rp400.000 yang disimpan di kandang sapi. Kemudian, pada 9 November 2022, terdakwa kembali melakukan pencurian di pondokan milik I Wayan Panggih di Desa Binyan dengan modus serupa. Setelah memastikan korban pergi, terdakwa mencuri handphone Redmi Note 7 yang sedang dicas. Kedua handphone tersebut dijual ke konter berbeda dengan total hasil sekitar Rp1.800.000, yang kemudian digunakan untuk kebutuhan sehari-hari. Berdasarkan laporan korban, polisi melakukan penyelidikan dan berhasil menangkap terdakwa pada 9 Februari 2023 di Karangasem. Akibat perbuatannya, korban I Wayan Suardana mengalami kerugian sekitar Rp3.400.000 dan I Wayan Panggih sekitar Rp3.000.000. Terdakwa dijerat dengan Pasal 362 KUHP jo. Pasal 65 Ayat (1) KUHP tentang pencurian yang dilakukan berulang kali.",
         "6.0"
        ],
        [
         "39",
         "0",
         "16",
         "0",
         "5",
         "84",
         "Elias Fanggi",
         "Terdakwa Elias Fanggi didakwa melakukan pencurian tiga ekor anak babi milik saksi I Komang Sucitra pada Sabtu, 27 Maret 2021 sekitar pukul 22.30 WITA di kandang babi yang terletak di Desa Abuan, Kecamatan Kintamani, Kabupaten Bangli. Awalnya, terdakwa datang ke kandang pada sore hari untuk membersihkan tempat tersebut. Namun pada malam harinya, terdakwa masuk ke dalam kandang melalui pintu yang tidak terkunci, lalu mengambil tiga ekor anak babi dan memasukkannya ke dalam karung plastik yang telah disiapkannya. Ia kemudian membawa hasil curian itu dengan sepeda motor milik saksi Leonardus Pendi dengan maksud untuk dijual. Aksi tersebut diketahui oleh pemilik kandang, yang kemudian melaporkan terdakwa ke pihak berwajib. Akibat perbuatan tersebut, saksi I Komang Sucitra mengalami kerugian sebesar Rp3.600.000. Perbuatan Terdakwa didakwa dengan dakwaan primair Pasal 363 Ayat (1) ke-1 KUHP, dan dakwaan subsidair Pasal 374 KUHP.",
         "6.0"
        ],
        [
         "40",
         "0",
         "17",
         "0",
         "5",
         "84",
         "Elias Fanggi",
         "Terdakwa Elias Fanggi didakwa melakukan pencurian tiga ekor anak babi milik saksi I Komang Sucitra pada Sabtu, 27 Maret 2021 sekitar pukul 22.30 WITA di kandang babi yang terletak di Desa Abuan, Kecamatan Kintamani, Kabupaten Bangli. Awalnya, terdakwa datang ke kandang pada sore hari untuk membersihkan tempat tersebut. Namun pada malam harinya, terdakwa masuk ke dalam kandang melalui pintu yang tidak terkunci, lalu mengambil tiga ekor anak babi dan memasukkannya ke dalam karung plastik yang telah disiapkannya. Ia kemudian membawa hasil curian itu dengan sepeda motor milik saksi Leonardus Pendi dengan maksud untuk dijual. Aksi tersebut diketahui oleh pemilik kandang, yang kemudian melaporkan terdakwa ke pihak berwajib. Akibat perbuatan tersebut, saksi I Komang Sucitra mengalami kerugian sebesar Rp3.600.000. Perbuatan Terdakwa didakwa dengan dakwaan primair Pasal 363 Ayat (1) ke-1 KUHP, dan dakwaan subsidair Pasal 374 KUHP.",
         "6.0"
        ],
        [
         "46",
         "0",
         "19",
         "7",
         "4",
         "84",
         "I WAYAN SUDARPA",
         "Terdakwa I Wayan Sudarpa pada Rabu, 12 Februari 2020 sekitar pukul 01.00 WITA melakukan pencurian tiga ekor sapi milik I Wayan Kasir di Br. Tiying Desa, Desa Pengotan, Kecamatan Bangli. Aksi tersebut direncanakan sebelumnya bersama I Nyoman Bintang, dengan dalih ingin menjual sapi miliknya untuk membayar utang. Pada malam hari yang telah disepakati, terdakwa mendatangi kandang sapi korban dan secara bertahap membawa ketiga sapi tersebut ke mobil pick up milik I Nyoman Bintang yang menunggu di dekat lokasi. Sapi-sapi itu kemudian dibawa dan dijual di Pasar Bringkit, Badung. Dari hasil penjualan, terdakwa menerima uang sebesar Rp20.156.000 setelah dikurangi biaya operasional. Namun, diketahui sapi-sapi tersebut bukan milik terdakwa melainkan milik I Wayan Kasir, yang tidak pernah memberikan izin untuk pengambilan maupun penjualan. Akibat perbuatan terdakwa, korban mengalami kerugian sekitar Rp20.500.000. Tindakan terdakwa diancam pidana berdasarkan Pasal 363 Ayat (1) ke-1 KUHP.",
         "6.0"
        ],
        [
         "1051",
         "0",
         "20",
         "37",
         "3",
         "112",
         "MOH. HASAN BASRI Als. TUKUL",
         "Terdakwa Moh. Hasan Basri alias Tukul telah melakukan serangkaian pencurian di Warung Aditya Cell milik saksi korban Saripi di Jalan Kenyeri, Semarapura Kelod, Klungkung, antara Januari 2016 hingga 3 Januari 2017. Dalam setiap aksinya, terdakwa masuk ke dalam warung dengan cara merusak atau memanjat tembok, memperbesar lubang angin, dan mengambil berbagai barang milik saksi korban, termasuk rokok, pampers, jajanan, cincin permata, handphone, uang tunai, serta barang-barang lainnya. Pada 3 Januari 2017, saat tertangkap oleh polisi, terdakwa telah mengambil barang-barang dari warung dan melarikan diri setelah diketahui oleh saksi. Barang yang dicuri telah dijual oleh terdakwa untuk memenuhi kebutuhan sehari-hari, dengan kerugian materiil yang diderita oleh saksi korban sebesar Rp. 8.065.000. Terdakwa didakwa dengan dakwaan primair berdasarkan Pasal 363 Ayat (1) ke-5 KUHP jo. Pasal 65 Ayat (1) KUHP, dan dakwaan subsidair berdasarkan Pasal 362 KUHP jo. Pasal 65 Ayat (1) KUHP.",
         "10.0"
        ],
        [
         "1612",
         "0",
         "21",
         "55",
         "3",
         "84",
         "I GUSTI PUTU HARTAWAN",
         "Pada hari Sabtu, 3 Juni 2023, sekitar pukul 14.30 WITA, terdakwa I GUSTI PUTU HARTAWAN melakukan tindak pidana pencurian di SD Negeri 4 Lelateng yang beralamat di Lingkungan Awen Lelateng, Kelurahan Lelateng, Kecamatan Negara, Kabupaten Jembrana. Terdakwa, yang bekerja sebagai karyawan dan pernah mengantarkan buku paket sekolah di SD tersebut, mengetahui keadaan sekitar dan berencana untuk mencuri. Terdakwa datang mengendarai sepeda motor Honda Supra X 125 dan memarkirkan motornya di sisi barat SD, lalu masuk ke dalam sekolah dan menuju ruang guru. Terdakwa membuka pintu ruang guru dengan menarik gagang pintu secara paksa hingga pintu tersebut rusak. Setelah gagal menemukan kunci ruangan Kepala Sekolah, terdakwa masuk ke ruang Kepala Sekolah dengan cara yang sama dan mengambil 1 unit laptop merk Acer beserta chargernya. Terdakwa juga berhasil membuka almari terkunci menggunakan obeng yang ditemukan di dalam laci meja, dan mengambil uang tunai sebesar Rp 12.950.000,- yang terdiri dari uang sesari dan tabungan guru. Setelah mengambil barang-barang tersebut, terdakwa meninggalkan SD dan menghabiskan uang hasil curian untuk kebutuhan sehari-hari, sementara laptop masih disimpannya di rumah. Akibat perbuatan terdakwa, SD Negeri 4 Lelateng mengalami kerugian sebesar Rp 25.950.000,-. Perbuatan terdakwa diatur dan diancam pidana dalam Pasal 363 Ayat (1) Ke-5 KUHP.",
         "5.0"
        ],
        [
         "1630",
         "0",
         "21",
         "57",
         "3",
         "84",
         "HERMAN, Dkk",
         "Pada hari Jumat, 5 Mei 2023, sekitar pukul 08.30 WITA, terdakwa Herman dan terdakwa Andrik Sukisno yang sedang mencari pekerjaan, tinggal di rumah kos milik saksi I Ketut Nawa Puja di Jalan Pulau Batam, Gang I, Lingkungan Menega, Kecamatan Jembrana, Kabupaten Jembrana, melihat kondisi rumah kos yang sepi dan memutuskan untuk melakukan tindak pidana pencurian. Terdakwa Herman, yang membawa obeng, membuka paksa pintu rumah saksi dengan merusak baut gembok, kemudian masuk ke dalam kamar dan mengambil STNK, BPKB, dan dua kunci kontak mobil Suzuki dan Mitsubishi yang disimpan di bawah tempat tidur saksi. Setelah itu, terdakwa Herman keluar untuk menghidupkan mobil Mitsubishi Colt T120 Pick Up yang terparkir di garasi menggunakan kunci yang berhasil diperoleh dan membuka pagar dengan cara yang sama. Keduanya kemudian membawa mobil tersebut menuju Pelabuhan Gilimanuk untuk menyeberang ke Jawa. Akibat tindakan tersebut, saksi I Ketut Nawa Puja mengalami kerugian sebesar Rp 38.000.000,-. Perbuatan terdakwa Herman dan terdakwa Andrik Sukisno diatur dan diancam pidana dalam Pasal 363 Ayat (1) ke-4 dan 5 KUHP.",
         "10.0"
        ],
        [
         "303",
         "0",
         "22",
         "10",
         "5",
         "80",
         "Gede Mega Krisna Nanda",
         "Terdakwa Gede Mega Krisna Nanda didakwa telah melakukan serangkaian tindak pidana pencurian sebanyak tiga kali dalam kurun waktu Agustus hingga September 2021 di wilayah hukum Pengadilan Negeri Gianyar. Aksi pertama terjadi pada 18 Agustus 2021 sekitar pukul 20.00 WITA di depan SMPN 2 Gianyar, di mana terdakwa mencuri 54 ekor bebek milik saksi Nyoman Ariawan setelah sebelumnya memancing di dekat lokasi dan melihat bebek-bebek tersebut. Bebek-bebek itu dibawa ke rumah terdakwa di Banjar Bucuan, Desa Batuan, dan dijual secara online menggunakan akun bernama Dersita Dewi. Selanjutnya, pada 7 September 2021 sekitar pukul 20.00 WITA, terdakwa mencuri 102 ekor bebek milik saksi I Nyoman Wartana di Banjar Bandung, Desa Siangan, dengan cara serupa dan menjual sebagian besar bebek tersebut secara daring. Kemudian, pada 8 September 2021 sekitar pukul 20.00 WITA, terdakwa kembali melakukan pencurian 96 ekor bebek milik saksi Nyoman Ariawan di sawah Banjar Lokaserana, Desa Siangan, sebelum akhirnya diamankan oleh polisi saat hendak menjual bebek hasil curian. Akibat perbuatan terdakwa, saksi Nyoman Ariawan mengalami kerugian sekitar Rp4.800.000, dan saksi Nyoman Wartana mengalami kerugian sekitar Rp5.610.000. Perbuatan Terdakwa diancam pidana berdasarkan Pasal 362 KUHP jo. Pasal 65 Ayat (1) KUHP.",
         "7.0"
        ],
        [
         "269",
         "0",
         "22",
         "10",
         "6",
         "84",
         "I Ketut Ariana Als. Beruk",
         "Pada suatu waktu di bulan November 2021 sekitar pukul 14.00 WITA, bertempat di Pura Dalem Pekung Banjar Payangan Desa, Kecamatan Payangan, Kabupaten Gianyar, para terdakwa I Komang Gede Suardana alias Srogag, I Ketut Ariana alias Beruk, I Putu Arga alias Putu Liong, dan I Kadek Sugiantara alias Kadek Bogor, yang saat itu sedang bekerja membangun tembok penyengker, diduga telah melakukan pencurian secara bersama-sama. Para terdakwa awalnya mencari uang sesajen di area pura, kemudian menemukan satu keranjang bambu berisi uang kepeng bolong sebanyak 1.000 keping di atas tembok bangunan pengaruman. Terdakwa Komang Gede Suardana dan Ketut Ariana naik ke lantai bangunan dan mengambil keranjang tersebut, sementara terdakwa Putu Arga dan Kadek Sugiantara berjaga di bawah untuk mengawasi situasi. Setelah berhasil menurunkan keranjang, mereka membuka ikatannya dengan pisau kecil dan secara bersama-sama membagi uang kepeng tersebut, yang kemudian dibawa pulang dan direncanakan untuk dijual demi kepentingan pribadi masing-masing. Atas perbuatan tersebut, Desa Adat Payangan sebagai pemilik mengalami kerugian sekitar Rp5.000.000,00. Perbuatan Terdakwa diancam pidana berdasarkan Pasal 363 Ayat (1) ke-4 KUHP.",
         "7.0"
        ],
        [
         "271",
         "0",
         "22",
         "10",
         "6",
         "84",
         "I Kadek Sugiantara Als. Kadek Bogor",
         "Pada suatu waktu di bulan November 2021 sekitar pukul 14.00 WITA, bertempat di Pura Dalem Pekung Banjar Payangan Desa, Kecamatan Payangan, Kabupaten Gianyar, para terdakwa I Komang Gede Suardana alias Srogag, I Ketut Ariana alias Beruk, I Putu Arga alias Putu Liong, dan I Kadek Sugiantara alias Kadek Bogor, yang saat itu sedang bekerja membangun tembok penyengker, diduga telah melakukan pencurian secara bersama-sama. Para terdakwa awalnya mencari uang sesajen di area pura, kemudian menemukan satu keranjang bambu berisi uang kepeng bolong sebanyak 1.000 keping di atas tembok bangunan pengaruman. Terdakwa Komang Gede Suardana dan Ketut Ariana naik ke lantai bangunan dan mengambil keranjang tersebut, sementara terdakwa Putu Arga dan Kadek Sugiantara berjaga di bawah untuk mengawasi situasi. Setelah berhasil menurunkan keranjang, mereka membuka ikatannya dengan pisau kecil dan secara bersama-sama membagi uang kepeng tersebut, yang kemudian dibawa pulang dan direncanakan untuk dijual demi kepentingan pribadi masing-masing. Atas perbuatan tersebut, Desa Adat Payangan sebagai pemilik mengalami kerugian sekitar Rp5.000.000,00. Perbuatan Terdakwa diancam pidana berdasarkan Pasal 363 Ayat (1) ke-4 KUHP.",
         "7.0"
        ],
        [
         "270",
         "0",
         "22",
         "10",
         "6",
         "84",
         "I Putu Arga Als. Putu Liong",
         "Pada suatu waktu di bulan November 2021 sekitar pukul 14.00 WITA, bertempat di Pura Dalem Pekung Banjar Payangan Desa, Kecamatan Payangan, Kabupaten Gianyar, para terdakwa I Komang Gede Suardana alias Srogag, I Ketut Ariana alias Beruk, I Putu Arga alias Putu Liong, dan I Kadek Sugiantara alias Kadek Bogor, yang saat itu sedang bekerja membangun tembok penyengker, diduga telah melakukan pencurian secara bersama-sama. Para terdakwa awalnya mencari uang sesajen di area pura, kemudian menemukan satu keranjang bambu berisi uang kepeng bolong sebanyak 1.000 keping di atas tembok bangunan pengaruman. Terdakwa Komang Gede Suardana dan Ketut Ariana naik ke lantai bangunan dan mengambil keranjang tersebut, sementara terdakwa Putu Arga dan Kadek Sugiantara berjaga di bawah untuk mengawasi situasi. Setelah berhasil menurunkan keranjang, mereka membuka ikatannya dengan pisau kecil dan secara bersama-sama membagi uang kepeng tersebut, yang kemudian dibawa pulang dan direncanakan untuk dijual demi kepentingan pribadi masing-masing. Atas perbuatan tersebut, Desa Adat Payangan sebagai pemilik mengalami kerugian sekitar Rp5.000.000,00. Perbuatan Terdakwa diancam pidana berdasarkan Pasal 363 Ayat (1) ke-4 KUHP.",
         "7.0"
        ],
        [
         "259",
         "0",
         "22",
         "14",
         "3",
         "108",
         "RODY PRANATA",
         "Bahwa Terdakwa Rody Pranata pada hari Sabtu tanggal 26 Februari 2022 sekitar pukul 01.00 WITA, bertempat di rumah saksi I Ketut Murdita di Desa Pejeng, Kecamatan Tampaksiring, Kabupaten Gianyar, telah melakukan pencurian dengan cara masuk ke dalam rumah korban pada malam hari dengan memanjat jendela kamar tamu yang terbuka. Setelah berhasil masuk secara diam-diam ke dalam rumah saat pemilik rumah sedang tertidur, terdakwa mengambil tiga buah handphone yaitu VIVO Y33S, Samsung J4, dan OPPO A12 serta sebuah dompet berisi uang Rp10.000, SIM C, dan kartu ATM BNI milik korban. Handphone VIVO disimpan oleh terdakwa, sedangkan dua lainnya dijual di Lombok Tengah dengan total harga Rp1.000.000 untuk membayar utang dan kebutuhan sehari-hari. Aksi pencurian tersebut dilakukan tanpa seizin pemilik dan menyebabkan kerugian materiil sebesar kurang lebih Rp8.198.000. Perbuatan Terdakwa diancam pidana berdasarkan Pasal 363 Ayat (1) ke-3 dan ke-5 KUHP.",
         "18.0"
        ],
        [
         "621",
         "0",
         "22",
         "14",
         "2",
         "60",
         "Muhlis",
         "Bahwa ia terdakwa MUHLIS, pada hari Rabu tanggal 1 Mei 2019 Sekira Jam 17.30 WITA atau pada waktu lain dalam Mei 2019 atau pada waktu lain dalam tahun 2019, bertempat areal pasar senggol Gianyar Link.Teges kaja Kec/Kab.Gianyar atau pada suatu tempat yang masih termasuk dalam daerah hukum Pengadilan Negeri Gianyar, telah melakukan, Mengambil barang sesuatu, yang seluruhnya atau sebagian kepunyaan orang lain,dengan maksud untuk dimiliki secara melawan hukum, perbuatan tersebut dilakukan oleh terdakwa dengan cara-cara antara lain sebagai berikut. Berawal pada hari Rabu tanggal 1 Mei 2019 sekira jam 17.30 WITA bertempat di areal pasar senggol Gianyar Link.Teges kaja Kec/Kab.Gianyar terdakwa Muhlis yang berjualan gorengan di tempat tersebut menemukan dan kemudian mengambil 1(satu ) buah HP Merk Oppo A7 warna biru dengan nomor 087865377296 yang berada di bawah bangku dagangan Bakso tanpa sepengetahuan atau seizin pemiliknya yaitu saksi Gusti Ayu Putu Naida Rafina Dewi, setelah itu terdakwa menyimpan 1(satu ) HP Merk Oppo A7 tersebut didalam jok sepeda motor Honda Supra Warna Hitam Nopol DK 2721LL milik terdakwa dan beberapa lama kemudian terdakwa memindahkan 1(satu ) HP Merk Oppo A7 diatas di atas rombong jualan terdakwa dan terdakwa lanjut menggoreng.. Bahwa tidak lama setelah itu saksi Gusti Ayu Putu Naida Rafina Dewi dan ibunya yaitu saksi Niwayan Sulastini yang menyadari bahwa HP Merk Oppo A7 milik Gusti Ayu Putu Naida Rafina Dewi telah hilang langsung mencari keberadaan HP tersebut di sekitar Warung Bakso tersebut dan mencoba menghubungi no telepon pada Hp Merk Oppo A7 milik Gusti Ayu Putu Naida beberapa kali, namun terdakwa yang melihat dan mendengar ada panggilan masuk ke HP Merk Oppo A7 tersebut sengaja tidak terdakwa angkat.. Bahwa setelah terdakwa selesai berjualan dan menaruh rombong, kemudian terdakwa pulang menggunakan sepeda motor Honda Supra Warna Hitam Nopol DK 2721LL, sedangkan HP Merk Oppo A7 yang terdakwa ambil ,terdakwa simpan didalam Jok motor dan nantinya akan terdakwa pergunakan sendiri,. Bahwa akibat perbuatan terdakwa saksi Gusti Ayu Putu Naida Rafina Dewi megalami kerugian lebih kurang sebesar Rp. 3.070.000, (tiga juta tujuh puluh ribu rupiah). Perbuatan terdakwa sebagaimana diatur dan diancam pidana dalam Pasal 362 KUHP.",
         "5.0"
        ],
        [
         "415",
         "0",
         "22",
         "14",
         "4",
         "84",
         "Prilman Subaya Als Jon",
         "Pada tanggal 12 hingga 13 September 2020, terdakwa I Prilman Subaya alias Jon, terdakwa II Cecep Juarsa, bersama dengan Anas (DPO) dan Riki (DPO), melakukan pencurian di kantor PT Alove Bali yang berlokasi di Banjar Tengah Bonbiyu, Desa Saba, Kecamatan Blahbatuh, Kabupaten Gianyar. Setelah berunding di rumah kontrakan terdakwa I, mereka merencanakan aksi tersebut dan pada malam hari menggunakan mobil sewaan untuk menuju kantor tersebut. Tiba di lokasi, mereka memantau keadaan dan kemudian memanjat tembok pembatas kantor. Anas (DPO) membuka pintu belakang jendela dengan alat obeng dan pisau besar, kemudian mereka masuk ke dalam kantor. Di dalam, terdakwa I mengambil uang dari laci meja, Anas (DPO) mengambil laptop ASUS, sementara Riki (DPO) mengambil kamera dan uang di sekitar brankas. Setelah membuka brankas dengan kunci inggris, mereka juga mengambil uang, buku tabungan, serta buku cek. Setelah barang-barang tersebut dimasukkan ke dalam tas, mereka keluar dan pergi ke tempat tinggal terdakwa II Cecep Juarsa di Denpasar untuk membagi hasil curian. Terdakwa I menggadaikan kamera Nikon yang dicuri dengan harga Rp1.500.000. Akibat pencurian ini, saksi Ni Ketut Arini, selaku direktur PT Alove Bali, mengalami kerugian sekitar Rp60.000.000. Perbuatan Terdakwa diancam pidana berdasarkan Pasal 363 Ayat (1) ke-4 dan ke-5 KUHP.",
         "36.0"
        ],
        [
         "538",
         "0",
         "22",
         "14",
         "3",
         "144",
         "I Made Suka Artana Als Bentar",
         "Terdakwa I Made Suka Artana alias Bentar, pada malam hari antara bulan September dan Oktober 2019, melakukan pencurian di rumah milik saksi I Made Bun Setia Wirahady alias Dudek di Banjar Kalah, Desa Peliatan, Kecamatan Ubud, Kabupaten Gianyar, tanpa izin dari saksi. Perbuatan ini dilakukan dengan menggunakan kunci duplikat yang dibuat oleh terdakwa setelah ia mendapatkannya dari saksi pada Agustus 2019. Pada malam bulan September 2019, terdakwa masuk ke rumah saksi dengan memanjat tembok dan membuka kamar menggunakan kunci duplikat, lalu mengambil barang-barang berharga seperti cincin berlian, jam tangan, liontin emas, dan uang dari celengan. Tindak pidana tersebut dilakukan lagi pada 4 Oktober 2019, dengan cara yang sama, di mana terdakwa kembali mengambil cincin emas dan uang. Terdakwa bertindak untuk menggunakan atau menjual barang-barang yang dicuri untuk kebutuhan pribadi, yang menyebabkan kerugian material kepada saksi lebih kurang sebesar Rp 100.000.000, (seratus juta rupiah). Perbuatan Terdakwa diancam pidana berdasarkan Pasal 363 Ayat (1) ke-3 dan ke-5 KUHP jo. Pasal 65 Ayat (1) KUHP.",
         "6.0"
        ],
        [
         "416",
         "0",
         "22",
         "14",
         "4",
         "84",
         "Cecep Juarsa",
         "Pada tanggal 12 hingga 13 September 2020, terdakwa I Prilman Subaya alias Jon, terdakwa II Cecep Juarsa, bersama dengan Anas (DPO) dan Riki (DPO), melakukan pencurian di kantor PT Alove Bali yang berlokasi di Banjar Tengah Bonbiyu, Desa Saba, Kecamatan Blahbatuh, Kabupaten Gianyar. Setelah berunding di rumah kontrakan terdakwa I, mereka merencanakan aksi tersebut dan pada malam hari menggunakan mobil sewaan untuk menuju kantor tersebut. Tiba di lokasi, mereka memantau keadaan dan kemudian memanjat tembok pembatas kantor. Anas (DPO) membuka pintu belakang jendela dengan alat obeng dan pisau besar, kemudian mereka masuk ke dalam kantor. Di dalam, terdakwa I mengambil uang dari laci meja, Anas (DPO) mengambil laptop ASUS, sementara Riki (DPO) mengambil kamera dan uang di sekitar brankas. Setelah membuka brankas dengan kunci inggris, mereka juga mengambil uang, buku tabungan, serta buku cek. Setelah barang-barang tersebut dimasukkan ke dalam tas, mereka keluar dan pergi ke tempat tinggal terdakwa II Cecep Juarsa di Denpasar untuk membagi hasil curian. Terdakwa I menggadaikan kamera Nikon yang dicuri dengan harga Rp1.500.000. Akibat pencurian ini, saksi Ni Ketut Arini, selaku direktur PT Alove Bali, mengalami kerugian sekitar Rp60.000.000. Perbuatan Terdakwa diancam pidana berdasarkan Pasal 363 Ayat (1) ke-4 dan ke-5 KUHP.",
         "36.0"
        ]
       ],
       "shape": {
        "columns": 8,
        "rows": 3273
       }
      },
      "text/html": [
       "<div>\n",
       "<style scoped>\n",
       "    .dataframe tbody tr th:only-of-type {\n",
       "        vertical-align: middle;\n",
       "    }\n",
       "\n",
       "    .dataframe tbody tr th {\n",
       "        vertical-align: top;\n",
       "    }\n",
       "\n",
       "    .dataframe thead th {\n",
       "        text-align: right;\n",
       "    }\n",
       "</style>\n",
       "<table border=\"1\" class=\"dataframe\">\n",
       "  <thead>\n",
       "    <tr style=\"text-align: right;\">\n",
       "      <th></th>\n",
       "      <th>klasifikasi_perkara_encoded</th>\n",
       "      <th>penuntut_umum_encoded</th>\n",
       "      <th>hakim_encoded</th>\n",
       "      <th>jumlah_saksi</th>\n",
       "      <th>maks_penjara_berdasarkan_pasal</th>\n",
       "      <th>terdakwa</th>\n",
       "      <th>summarized_dakwaan</th>\n",
       "      <th>total_pidana_penjara_bulan</th>\n",
       "    </tr>\n",
       "  </thead>\n",
       "  <tbody>\n",
       "    <tr>\n",
       "      <th>20</th>\n",
       "      <td>0</td>\n",
       "      <td>0</td>\n",
       "      <td>0</td>\n",
       "      <td>4</td>\n",
       "      <td>60</td>\n",
       "      <td>I NYOMAN BUDIAWAN Als. SUMAWAN</td>\n",
       "      <td>Pada hari Rabu, 25 Oktober 2023 sekitar pukul ...</td>\n",
       "      <td>14.0</td>\n",
       "    </tr>\n",
       "    <tr>\n",
       "      <th>42</th>\n",
       "      <td>0</td>\n",
       "      <td>0</td>\n",
       "      <td>0</td>\n",
       "      <td>15</td>\n",
       "      <td>112</td>\n",
       "      <td>I Wayan Edi Rusmawan</td>\n",
       "      <td>Terdakwa I Wayan Edi Rusmawan didakwa melakuka...</td>\n",
       "      <td>24.0</td>\n",
       "    </tr>\n",
       "    <tr>\n",
       "      <th>2</th>\n",
       "      <td>0</td>\n",
       "      <td>0</td>\n",
       "      <td>2</td>\n",
       "      <td>6</td>\n",
       "      <td>84</td>\n",
       "      <td>HANDRI JOHANAS</td>\n",
       "      <td>Terdakwa Handri Johanes pada Rabu, 24 April 20...</td>\n",
       "      <td>4.0</td>\n",
       "    </tr>\n",
       "    <tr>\n",
       "      <th>19</th>\n",
       "      <td>0</td>\n",
       "      <td>1</td>\n",
       "      <td>0</td>\n",
       "      <td>4</td>\n",
       "      <td>60</td>\n",
       "      <td>I NYOMAN BUDIAWAN Als. SUMAWAN</td>\n",
       "      <td>Pada hari Rabu, 25 Oktober 2023 sekitar pukul ...</td>\n",
       "      <td>14.0</td>\n",
       "    </tr>\n",
       "    <tr>\n",
       "      <th>35</th>\n",
       "      <td>0</td>\n",
       "      <td>1</td>\n",
       "      <td>4</td>\n",
       "      <td>3</td>\n",
       "      <td>84</td>\n",
       "      <td>RIFQI ABDURAHMAN</td>\n",
       "      <td>Pada Minggu, 11 Desember 2022 sekitar pukul 00...</td>\n",
       "      <td>8.0</td>\n",
       "    </tr>\n",
       "    <tr>\n",
       "      <th>...</th>\n",
       "      <td>...</td>\n",
       "      <td>...</td>\n",
       "      <td>...</td>\n",
       "      <td>...</td>\n",
       "      <td>...</td>\n",
       "      <td>...</td>\n",
       "      <td>...</td>\n",
       "      <td>...</td>\n",
       "    </tr>\n",
       "    <tr>\n",
       "      <th>3023</th>\n",
       "      <td>4</td>\n",
       "      <td>292</td>\n",
       "      <td>123</td>\n",
       "      <td>2</td>\n",
       "      <td>120</td>\n",
       "      <td>NUR ZAENI BIN SAKIDIN</td>\n",
       "      <td>Terdakwa NUR ZAENI Bin SAKIDIN pada hari Selas...</td>\n",
       "      <td>12.0</td>\n",
       "    </tr>\n",
       "    <tr>\n",
       "      <th>3205</th>\n",
       "      <td>4</td>\n",
       "      <td>292</td>\n",
       "      <td>127</td>\n",
       "      <td>2</td>\n",
       "      <td>120</td>\n",
       "      <td>SUKADI BIN ALM. BUAH</td>\n",
       "      <td>Pada hari Selasa, 16 Januari 2024, sekitar puk...</td>\n",
       "      <td>15.0</td>\n",
       "    </tr>\n",
       "    <tr>\n",
       "      <th>3470</th>\n",
       "      <td>4</td>\n",
       "      <td>292</td>\n",
       "      <td>128</td>\n",
       "      <td>2</td>\n",
       "      <td>120</td>\n",
       "      <td>SLAMET BIN ALM. NASHERI</td>\n",
       "      <td>Pada Senin, 13 November 2023, sekitar pukul 10...</td>\n",
       "      <td>14.0</td>\n",
       "    </tr>\n",
       "    <tr>\n",
       "      <th>3065</th>\n",
       "      <td>4</td>\n",
       "      <td>292</td>\n",
       "      <td>131</td>\n",
       "      <td>2</td>\n",
       "      <td>120</td>\n",
       "      <td>MUHAMMAD WITRIYANTO DWI RUSSENO alias WIWIT bi...</td>\n",
       "      <td>Terdakwa MUHAMMAD WITRIYANTO DWI RUSSENO alias...</td>\n",
       "      <td>12.0</td>\n",
       "    </tr>\n",
       "    <tr>\n",
       "      <th>3013</th>\n",
       "      <td>4</td>\n",
       "      <td>292</td>\n",
       "      <td>134</td>\n",
       "      <td>2</td>\n",
       "      <td>120</td>\n",
       "      <td>MUHAMAD SALEH BIN JUMARI</td>\n",
       "      <td>Terdakwa MUHAMAD SALEH Bin JUMARI pada hari Se...</td>\n",
       "      <td>14.0</td>\n",
       "    </tr>\n",
       "  </tbody>\n",
       "</table>\n",
       "<p>3273 rows × 8 columns</p>\n",
       "</div>"
      ],
      "text/plain": [
       "      klasifikasi_perkara_encoded  penuntut_umum_encoded  hakim_encoded  \\\n",
       "20                              0                      0              0   \n",
       "42                              0                      0              0   \n",
       "2                               0                      0              2   \n",
       "19                              0                      1              0   \n",
       "35                              0                      1              4   \n",
       "...                           ...                    ...            ...   \n",
       "3023                            4                    292            123   \n",
       "3205                            4                    292            127   \n",
       "3470                            4                    292            128   \n",
       "3065                            4                    292            131   \n",
       "3013                            4                    292            134   \n",
       "\n",
       "      jumlah_saksi  maks_penjara_berdasarkan_pasal  \\\n",
       "20               4                              60   \n",
       "42              15                             112   \n",
       "2                6                              84   \n",
       "19               4                              60   \n",
       "35               3                              84   \n",
       "...            ...                             ...   \n",
       "3023             2                             120   \n",
       "3205             2                             120   \n",
       "3470             2                             120   \n",
       "3065             2                             120   \n",
       "3013             2                             120   \n",
       "\n",
       "                                               terdakwa  \\\n",
       "20                       I NYOMAN BUDIAWAN Als. SUMAWAN   \n",
       "42                                 I Wayan Edi Rusmawan   \n",
       "2                                        HANDRI JOHANAS   \n",
       "19                       I NYOMAN BUDIAWAN Als. SUMAWAN   \n",
       "35                                     RIFQI ABDURAHMAN   \n",
       "...                                                 ...   \n",
       "3023                              NUR ZAENI BIN SAKIDIN   \n",
       "3205                               SUKADI BIN ALM. BUAH   \n",
       "3470                            SLAMET BIN ALM. NASHERI   \n",
       "3065  MUHAMMAD WITRIYANTO DWI RUSSENO alias WIWIT bi...   \n",
       "3013                           MUHAMAD SALEH BIN JUMARI   \n",
       "\n",
       "                                     summarized_dakwaan  \\\n",
       "20    Pada hari Rabu, 25 Oktober 2023 sekitar pukul ...   \n",
       "42    Terdakwa I Wayan Edi Rusmawan didakwa melakuka...   \n",
       "2     Terdakwa Handri Johanes pada Rabu, 24 April 20...   \n",
       "19    Pada hari Rabu, 25 Oktober 2023 sekitar pukul ...   \n",
       "35    Pada Minggu, 11 Desember 2022 sekitar pukul 00...   \n",
       "...                                                 ...   \n",
       "3023  Terdakwa NUR ZAENI Bin SAKIDIN pada hari Selas...   \n",
       "3205  Pada hari Selasa, 16 Januari 2024, sekitar puk...   \n",
       "3470  Pada Senin, 13 November 2023, sekitar pukul 10...   \n",
       "3065  Terdakwa MUHAMMAD WITRIYANTO DWI RUSSENO alias...   \n",
       "3013  Terdakwa MUHAMAD SALEH Bin JUMARI pada hari Se...   \n",
       "\n",
       "      total_pidana_penjara_bulan  \n",
       "20                          14.0  \n",
       "42                          24.0  \n",
       "2                            4.0  \n",
       "19                          14.0  \n",
       "35                           8.0  \n",
       "...                          ...  \n",
       "3023                        12.0  \n",
       "3205                        15.0  \n",
       "3470                        14.0  \n",
       "3065                        12.0  \n",
       "3013                        14.0  \n",
       "\n",
       "[3273 rows x 8 columns]"
      ]
     },
     "execution_count": 11,
     "metadata": {},
     "output_type": "execute_result"
    }
   ],
   "source": [
    "train_df"
   ]
  },
  {
   "cell_type": "markdown",
   "metadata": {},
   "source": [
    "## Model"
   ]
  },
  {
   "cell_type": "markdown",
   "metadata": {},
   "source": [
    "### Model Preprocessing"
   ]
  },
  {
   "cell_type": "code",
   "execution_count": 12,
   "metadata": {},
   "outputs": [],
   "source": [
    "train_df['concat_text'] = train_df[['terdakwa','summarized_dakwaan']].apply(lambda x: '. '.join(x), axis=1)\n",
    "test_df['concat_text'] = test_df[['terdakwa','summarized_dakwaan']].apply(lambda x: '. '.join(x), axis=1)"
   ]
  },
  {
   "cell_type": "code",
   "execution_count": 13,
   "metadata": {},
   "outputs": [],
   "source": [
    "y_train = train_df['total_pidana_penjara_bulan']\n",
    "y_test = test_df['total_pidana_penjara_bulan']"
   ]
  },
  {
   "cell_type": "code",
   "execution_count": 14,
   "metadata": {},
   "outputs": [],
   "source": [
    "# LOG TRANSFORMATION\n",
    "# y_train = np.log1p(y_train)\n",
    "# y_test = np.log1p(y_test)"
   ]
  },
  {
   "cell_type": "markdown",
   "metadata": {},
   "source": [
    "### Tokenizer"
   ]
  },
  {
   "cell_type": "code",
   "execution_count": 15,
   "metadata": {},
   "outputs": [
    {
     "name": "stdout",
     "output_type": "stream",
     "text": [
      "right\n"
     ]
    }
   ],
   "source": [
    "tokenizer = AutoTokenizer.from_pretrained(\"indolem/indobert-base-uncased\")\n",
    "\n",
    "def tokenize_function(text):\n",
    "    return tokenizer(text['concat_text'], padding='max_length', truncation=True, max_length=512)\n",
    "\n",
    "train_encodings = tokenizer(train_df['concat_text'].tolist(), padding=True, truncation=True, max_length=512)\n",
    "test_encodings = tokenizer(test_df['concat_text'].tolist(), padding=True, truncation=True, max_length=512)\n",
    "\n",
    "print(tokenizer.truncation_side)"
   ]
  },
  {
   "cell_type": "markdown",
   "metadata": {},
   "source": [
    "### Convert to Tensor"
   ]
  },
  {
   "cell_type": "code",
   "execution_count": 16,
   "metadata": {},
   "outputs": [],
   "source": [
    "train_inputs = tf.constant(train_encodings['input_ids'])\n",
    "train_attention_masks = tf.constant(train_encodings['attention_mask'])\n",
    "\n",
    "test_inputs = tf.constant(test_encodings['input_ids'])\n",
    "test_attention_masks = tf.constant(test_encodings['attention_mask'])\n",
    "\n",
    "train_numerical = tf.constant(train_df[['klasifikasi_perkara_encoded', 'penuntut_umum_encoded', 'hakim_encoded', 'jumlah_saksi', 'maks_penjara_berdasarkan_pasal']].values, dtype=tf.float32)\n",
    "test_numerical = tf.constant(test_df[['klasifikasi_perkara_encoded', 'penuntut_umum_encoded', 'hakim_encoded', 'jumlah_saksi', 'maks_penjara_berdasarkan_pasal']].values, dtype=tf.float32)\n",
    "\n",
    "train_labels = tf.constant(y_train.values, dtype=tf.float32)\n",
    "test_labels = tf.constant(y_test.values, dtype=tf.float32)"
   ]
  },
  {
   "cell_type": "markdown",
   "metadata": {},
   "source": [
    "### Create Tensor Dataset"
   ]
  },
  {
   "cell_type": "code",
   "execution_count": 17,
   "metadata": {},
   "outputs": [],
   "source": [
    "import tensorflow as tf\n",
    "\n",
    "def create_bert_regressor_dataset(input_ids, attention_mask, numerical_features, labels):\n",
    "    dataset = tf.data.Dataset.from_tensor_slices(({\n",
    "        'input_ids': input_ids,\n",
    "        'attention_mask': attention_mask,\n",
    "        'numerical_feature': numerical_features\n",
    "    }, labels))\n",
    "    return dataset\n",
    "\n",
    "train_dataset = create_bert_regressor_dataset(train_inputs, train_attention_masks, train_numerical, train_labels)\n",
    "test_dataset = create_bert_regressor_dataset(test_inputs, test_attention_masks, test_numerical, test_labels)\n",
    "\n",
    "train_dataset = train_dataset.batch(2)\n",
    "test_dataset = test_dataset.batch(2)\n"
   ]
  },
  {
   "cell_type": "markdown",
   "metadata": {},
   "source": [
    "### Model Architecture"
   ]
  },
  {
   "cell_type": "code",
   "execution_count": 18,
   "metadata": {},
   "outputs": [],
   "source": [
    "# bert = TFBertModel.from_pretrained(\"indolem/indobert-base-uncased\", from_pt=True)\n",
    "\n",
    "# encoder = bert.bert.encoder\n",
    "\n",
    "# for i, encoder_layer in enumerate(encoder.layer):\n",
    "#     print(f\"Encoder Layer {i}\")"
   ]
  },
  {
   "cell_type": "code",
   "execution_count": null,
   "metadata": {},
   "outputs": [
    {
     "name": "stderr",
     "output_type": "stream",
     "text": [
      "Some weights of the PyTorch model were not used when initializing the TF 2.0 model TFBertModel: ['cls.predictions.transform.LayerNorm.bias', 'cls.predictions.decoder.weight', 'cls.predictions.transform.dense.weight', 'cls.predictions.transform.LayerNorm.weight', 'cls.predictions.decoder.bias', 'cls.predictions.transform.dense.bias', 'cls.predictions.bias']\n",
      "- This IS expected if you are initializing TFBertModel from a PyTorch model trained on another task or with another architecture (e.g. initializing a TFBertForSequenceClassification model from a BertForPreTraining model).\n",
      "- This IS NOT expected if you are initializing TFBertModel from a PyTorch model that you expect to be exactly identical (e.g. initializing a TFBertForSequenceClassification model from a BertForSequenceClassification model).\n",
      "All the weights of TFBertModel were initialized from the PyTorch model.\n",
      "If your task is similar to the task the model of the checkpoint was trained on, you can already use TFBertModel for predictions without further training.\n"
     ]
    }
   ],
   "source": [
    "class BERTRegressor(tf.keras.Model):\n",
    "    def __init__(self):\n",
    "        super(BERTRegressor, self).__init__()\n",
    "        self.bert = TFBertModel.from_pretrained(\"indolem/indobert-base-uncased\", from_pt=True)\n",
    "\n",
    "        for layer in self.bert.layers:\n",
    "            layer.trainable = True\n",
    "\n",
    "        # for i in range(12):\n",
    "        #     layer = self.bert.bert.encoder.layer[i]\n",
    "        #     layer.trainable = i >= 6\n",
    "            \n",
    "        self.regressor = tf.keras.layers.Dense(1)\n",
    "\n",
    "    def call(self, inputs):\n",
    "        input_ids = inputs['input_ids']\n",
    "        attention_mask = inputs['attention_mask']\n",
    "        numerical_features = inputs['numerical_feature']\n",
    "\n",
    "        bert_output = self.bert(input_ids=input_ids, attention_mask=attention_mask)\n",
    "        pooled_output = bert_output.pooler_output\n",
    "\n",
    "        combined_output = tf.concat([pooled_output, numerical_features], axis=1)\n",
    "\n",
    "        return self.regressor(combined_output)\n",
    "\n",
    "model = BERTRegressor()\n"
   ]
  },
  {
   "cell_type": "code",
   "execution_count": 20,
   "metadata": {},
   "outputs": [
    {
     "name": "stdout",
     "output_type": "stream",
     "text": [
      "Encoder Layer 0 — trainable: True\n",
      "Encoder Layer 1 — trainable: True\n",
      "Encoder Layer 2 — trainable: True\n",
      "Encoder Layer 3 — trainable: True\n",
      "Encoder Layer 4 — trainable: True\n",
      "Encoder Layer 5 — trainable: True\n",
      "Encoder Layer 6 — trainable: True\n",
      "Encoder Layer 7 — trainable: True\n",
      "Encoder Layer 8 — trainable: True\n",
      "Encoder Layer 9 — trainable: True\n",
      "Encoder Layer 10 — trainable: True\n",
      "Encoder Layer 11 — trainable: True\n"
     ]
    }
   ],
   "source": [
    "encoder = model.bert.bert.encoder\n",
    "\n",
    "for i, encoder_layer in enumerate(encoder.layer):\n",
    "    print(f\"Encoder Layer {i} — trainable: {encoder_layer.trainable}\")"
   ]
  },
  {
   "cell_type": "markdown",
   "metadata": {},
   "source": [
    "### Compile Model"
   ]
  },
  {
   "cell_type": "code",
   "execution_count": 21,
   "metadata": {},
   "outputs": [],
   "source": [
    "reduce_lr_on_plateau = tf.keras.callbacks.ReduceLROnPlateau(monitor='val_loss', patience=5, factor=0.5)"
   ]
  },
  {
   "cell_type": "code",
   "execution_count": 22,
   "metadata": {},
   "outputs": [],
   "source": [
    "model.compile(optimizer=tf.keras.optimizers.Adam(learning_rate=1e-4), loss=tf.keras.losses.Huber(), metrics=['mean_absolute_error', tf.keras.metrics.RootMeanSquaredError(), tf.keras.metrics.MeanAbsolutePercentageError()])"
   ]
  },
  {
   "cell_type": "markdown",
   "metadata": {},
   "source": [
    "### Train Model"
   ]
  },
  {
   "cell_type": "code",
   "execution_count": 23,
   "metadata": {},
   "outputs": [
    {
     "name": "stdout",
     "output_type": "stream",
     "text": [
      "Epoch 1/50\n",
      "1637/1637 [==============================] - 280s 165ms/step - loss: 12.8704 - mean_absolute_error: 13.3557 - root_mean_squared_error: 20.0637 - mean_absolute_percentage_error: 91.8613 - val_loss: 22.3196 - val_mean_absolute_error: 22.8089 - val_root_mean_squared_error: 34.1219 - val_mean_absolute_percentage_error: 69.1598 - lr: 1.0000e-04\n",
      "Epoch 2/50\n",
      "1637/1637 [==============================] - 269s 165ms/step - loss: 12.1891 - mean_absolute_error: 12.6782 - root_mean_squared_error: 19.4905 - mean_absolute_percentage_error: 91.6682 - val_loss: 26.1934 - val_mean_absolute_error: 26.6899 - val_root_mean_squared_error: 37.1060 - val_mean_absolute_percentage_error: 76.2224 - lr: 1.0000e-04\n",
      "Epoch 3/50\n",
      "1637/1637 [==============================] - 268s 164ms/step - loss: 12.5675 - mean_absolute_error: 13.0540 - root_mean_squared_error: 19.5169 - mean_absolute_percentage_error: 88.9154 - val_loss: 23.6608 - val_mean_absolute_error: 24.1533 - val_root_mean_squared_error: 34.5659 - val_mean_absolute_percentage_error: 70.6529 - lr: 1.0000e-04\n",
      "Epoch 4/50\n",
      "1637/1637 [==============================] - 269s 164ms/step - loss: 12.0936 - mean_absolute_error: 12.5811 - root_mean_squared_error: 18.8043 - mean_absolute_percentage_error: 91.9960 - val_loss: 25.6152 - val_mean_absolute_error: 26.1134 - val_root_mean_squared_error: 35.5026 - val_mean_absolute_percentage_error: 79.7094 - lr: 1.0000e-04\n",
      "Epoch 5/50\n",
      "1637/1637 [==============================] - 268s 164ms/step - loss: 11.8133 - mean_absolute_error: 12.2996 - root_mean_squared_error: 18.4390 - mean_absolute_percentage_error: 85.6548 - val_loss: 23.5299 - val_mean_absolute_error: 24.0256 - val_root_mean_squared_error: 33.0794 - val_mean_absolute_percentage_error: 75.5775 - lr: 1.0000e-04\n",
      "Epoch 6/50\n",
      "1637/1637 [==============================] - 268s 164ms/step - loss: 11.8726 - mean_absolute_error: 12.3604 - root_mean_squared_error: 18.4237 - mean_absolute_percentage_error: 86.2707 - val_loss: 24.7243 - val_mean_absolute_error: 25.2211 - val_root_mean_squared_error: 33.6910 - val_mean_absolute_percentage_error: 82.6130 - lr: 1.0000e-04\n",
      "Epoch 7/50\n",
      "1637/1637 [==============================] - 268s 164ms/step - loss: 12.4768 - mean_absolute_error: 12.9637 - root_mean_squared_error: 18.8372 - mean_absolute_percentage_error: 93.9140 - val_loss: 23.9279 - val_mean_absolute_error: 24.4242 - val_root_mean_squared_error: 32.9190 - val_mean_absolute_percentage_error: 80.1003 - lr: 5.0000e-05\n",
      "Epoch 8/50\n",
      "1637/1637 [==============================] - 268s 164ms/step - loss: 12.8994 - mean_absolute_error: 13.3880 - root_mean_squared_error: 19.0358 - mean_absolute_percentage_error: 105.3900 - val_loss: 18.9241 - val_mean_absolute_error: 19.4131 - val_root_mean_squared_error: 28.2151 - val_mean_absolute_percentage_error: 69.9865 - lr: 5.0000e-05\n",
      "Epoch 9/50\n",
      "1637/1637 [==============================] - 267s 163ms/step - loss: 12.4358 - mean_absolute_error: 12.9220 - root_mean_squared_error: 18.7396 - mean_absolute_percentage_error: 106.2874 - val_loss: 16.4372 - val_mean_absolute_error: 16.9302 - val_root_mean_squared_error: 24.4846 - val_mean_absolute_percentage_error: 93.1191 - lr: 5.0000e-05\n",
      "Epoch 10/50\n",
      "1637/1637 [==============================] - 268s 164ms/step - loss: 12.1388 - mean_absolute_error: 12.6241 - root_mean_squared_error: 18.7332 - mean_absolute_percentage_error: 90.2419 - val_loss: 21.8156 - val_mean_absolute_error: 22.3102 - val_root_mean_squared_error: 30.7435 - val_mean_absolute_percentage_error: 75.8236 - lr: 5.0000e-05\n",
      "Epoch 11/50\n",
      "1637/1637 [==============================] - 268s 164ms/step - loss: 12.3759 - mean_absolute_error: 12.8649 - root_mean_squared_error: 18.5868 - mean_absolute_percentage_error: 96.9795 - val_loss: 20.0296 - val_mean_absolute_error: 20.5218 - val_root_mean_squared_error: 28.9535 - val_mean_absolute_percentage_error: 72.8537 - lr: 5.0000e-05\n",
      "Epoch 12/50\n",
      "1637/1637 [==============================] - 268s 164ms/step - loss: 12.4600 - mean_absolute_error: 12.9470 - root_mean_squared_error: 18.7427 - mean_absolute_percentage_error: 102.6632 - val_loss: 15.8533 - val_mean_absolute_error: 16.3438 - val_root_mean_squared_error: 23.7800 - val_mean_absolute_percentage_error: 89.6325 - lr: 5.0000e-05\n",
      "Epoch 13/50\n",
      "1637/1637 [==============================] - 268s 164ms/step - loss: 11.9906 - mean_absolute_error: 12.4784 - root_mean_squared_error: 18.3664 - mean_absolute_percentage_error: 94.3380 - val_loss: 22.8553 - val_mean_absolute_error: 23.3498 - val_root_mean_squared_error: 31.1549 - val_mean_absolute_percentage_error: 82.0790 - lr: 5.0000e-05\n",
      "Epoch 14/50\n",
      "1637/1637 [==============================] - 268s 164ms/step - loss: 11.9474 - mean_absolute_error: 12.4351 - root_mean_squared_error: 18.3375 - mean_absolute_percentage_error: 90.4890 - val_loss: 21.8928 - val_mean_absolute_error: 22.3905 - val_root_mean_squared_error: 30.1461 - val_mean_absolute_percentage_error: 80.0367 - lr: 5.0000e-05\n",
      "Epoch 15/50\n",
      "1637/1637 [==============================] - 268s 164ms/step - loss: 12.3608 - mean_absolute_error: 12.8490 - root_mean_squared_error: 18.5349 - mean_absolute_percentage_error: 100.9384 - val_loss: 19.1331 - val_mean_absolute_error: 19.6269 - val_root_mean_squared_error: 27.5331 - val_mean_absolute_percentage_error: 73.8913 - lr: 5.0000e-05\n",
      "Epoch 16/50\n",
      "1637/1637 [==============================] - 269s 164ms/step - loss: 12.6667 - mean_absolute_error: 13.1536 - root_mean_squared_error: 18.8786 - mean_absolute_percentage_error: 112.4555 - val_loss: 15.3872 - val_mean_absolute_error: 15.8787 - val_root_mean_squared_error: 22.4219 - val_mean_absolute_percentage_error: 103.5771 - lr: 5.0000e-05\n",
      "Epoch 17/50\n",
      "1637/1637 [==============================] - 268s 164ms/step - loss: 13.0134 - mean_absolute_error: 13.5008 - root_mean_squared_error: 19.3327 - mean_absolute_percentage_error: 108.1551 - val_loss: 15.2103 - val_mean_absolute_error: 15.7015 - val_root_mean_squared_error: 22.0133 - val_mean_absolute_percentage_error: 106.6437 - lr: 5.0000e-05\n",
      "Epoch 18/50\n",
      "1637/1637 [==============================] - 268s 164ms/step - loss: 12.0212 - mean_absolute_error: 12.5091 - root_mean_squared_error: 18.4269 - mean_absolute_percentage_error: 89.4842 - val_loss: 20.4241 - val_mean_absolute_error: 20.9170 - val_root_mean_squared_error: 28.3432 - val_mean_absolute_percentage_error: 79.1752 - lr: 5.0000e-05\n",
      "Epoch 19/50\n",
      "1637/1637 [==============================] - 268s 164ms/step - loss: 13.0372 - mean_absolute_error: 13.5241 - root_mean_squared_error: 19.1429 - mean_absolute_percentage_error: 112.7590 - val_loss: 14.9777 - val_mean_absolute_error: 15.4707 - val_root_mean_squared_error: 21.6853 - val_mean_absolute_percentage_error: 107.4255 - lr: 5.0000e-05\n",
      "Epoch 20/50\n",
      "1637/1637 [==============================] - 268s 164ms/step - loss: 12.4196 - mean_absolute_error: 12.9065 - root_mean_squared_error: 18.6472 - mean_absolute_percentage_error: 107.2580 - val_loss: 16.0917 - val_mean_absolute_error: 16.5848 - val_root_mean_squared_error: 24.0586 - val_mean_absolute_percentage_error: 76.6263 - lr: 5.0000e-05\n",
      "Epoch 21/50\n",
      "1637/1637 [==============================] - 268s 164ms/step - loss: 12.1414 - mean_absolute_error: 12.6296 - root_mean_squared_error: 18.3313 - mean_absolute_percentage_error: 100.6500 - val_loss: 18.4601 - val_mean_absolute_error: 18.9546 - val_root_mean_squared_error: 26.4871 - val_mean_absolute_percentage_error: 75.8767 - lr: 5.0000e-05\n",
      "Epoch 22/50\n",
      "1637/1637 [==============================] - 268s 164ms/step - loss: 11.7018 - mean_absolute_error: 12.1897 - root_mean_squared_error: 17.9691 - mean_absolute_percentage_error: 94.6947 - val_loss: 20.2663 - val_mean_absolute_error: 20.7595 - val_root_mean_squared_error: 28.2252 - val_mean_absolute_percentage_error: 79.3393 - lr: 5.0000e-05\n",
      "Epoch 23/50\n",
      "1637/1637 [==============================] - 269s 164ms/step - loss: 12.3683 - mean_absolute_error: 12.8565 - root_mean_squared_error: 18.4658 - mean_absolute_percentage_error: 99.7775 - val_loss: 17.7775 - val_mean_absolute_error: 18.2730 - val_root_mean_squared_error: 25.7133 - val_mean_absolute_percentage_error: 75.9307 - lr: 5.0000e-05\n",
      "Epoch 24/50\n",
      "1637/1637 [==============================] - 268s 164ms/step - loss: 12.2841 - mean_absolute_error: 12.7722 - root_mean_squared_error: 18.4608 - mean_absolute_percentage_error: 105.6137 - val_loss: 15.4677 - val_mean_absolute_error: 15.9552 - val_root_mean_squared_error: 23.3388 - val_mean_absolute_percentage_error: 80.5927 - lr: 5.0000e-05\n",
      "Epoch 25/50\n",
      "1637/1637 [==============================] - 268s 164ms/step - loss: 12.6388 - mean_absolute_error: 13.1245 - root_mean_squared_error: 18.8520 - mean_absolute_percentage_error: 99.2492 - val_loss: 14.5901 - val_mean_absolute_error: 15.0797 - val_root_mean_squared_error: 21.7763 - val_mean_absolute_percentage_error: 94.8111 - lr: 2.5000e-05\n",
      "Epoch 26/50\n",
      "1637/1637 [==============================] - 269s 164ms/step - loss: 12.6727 - mean_absolute_error: 13.1604 - root_mean_squared_error: 18.9263 - mean_absolute_percentage_error: 115.4457 - val_loss: 14.6539 - val_mean_absolute_error: 15.1456 - val_root_mean_squared_error: 21.5093 - val_mean_absolute_percentage_error: 104.1956 - lr: 2.5000e-05\n",
      "Epoch 27/50\n",
      "1637/1637 [==============================] - 268s 164ms/step - loss: 12.2715 - mean_absolute_error: 12.7583 - root_mean_squared_error: 18.4000 - mean_absolute_percentage_error: 105.4547 - val_loss: 14.5807 - val_mean_absolute_error: 15.0740 - val_root_mean_squared_error: 21.6057 - val_mean_absolute_percentage_error: 99.1680 - lr: 2.5000e-05\n",
      "Epoch 28/50\n",
      "1637/1637 [==============================] - 268s 164ms/step - loss: 11.8375 - mean_absolute_error: 12.3261 - root_mean_squared_error: 18.0319 - mean_absolute_percentage_error: 100.9926 - val_loss: 17.9962 - val_mean_absolute_error: 18.4914 - val_root_mean_squared_error: 25.8422 - val_mean_absolute_percentage_error: 77.2144 - lr: 2.5000e-05\n",
      "Epoch 29/50\n",
      "1637/1637 [==============================] - 269s 164ms/step - loss: 11.9601 - mean_absolute_error: 12.4452 - root_mean_squared_error: 18.1436 - mean_absolute_percentage_error: 97.7404 - val_loss: 17.1522 - val_mean_absolute_error: 17.6448 - val_root_mean_squared_error: 25.0015 - val_mean_absolute_percentage_error: 76.5079 - lr: 2.5000e-05\n",
      "Epoch 30/50\n",
      "1637/1637 [==============================] - 268s 164ms/step - loss: 12.4460 - mean_absolute_error: 12.9330 - root_mean_squared_error: 18.5868 - mean_absolute_percentage_error: 109.8321 - val_loss: 14.8436 - val_mean_absolute_error: 15.3358 - val_root_mean_squared_error: 22.4109 - val_mean_absolute_percentage_error: 86.4718 - lr: 2.5000e-05\n",
      "Epoch 31/50\n",
      "1637/1637 [==============================] - 268s 164ms/step - loss: 12.8271 - mean_absolute_error: 13.3157 - root_mean_squared_error: 19.0740 - mean_absolute_percentage_error: 108.8943 - val_loss: 14.4890 - val_mean_absolute_error: 14.9817 - val_root_mean_squared_error: 21.5088 - val_mean_absolute_percentage_error: 98.6991 - lr: 2.5000e-05\n",
      "Epoch 32/50\n",
      "1637/1637 [==============================] - 269s 164ms/step - loss: 11.7998 - mean_absolute_error: 12.2884 - root_mean_squared_error: 17.9678 - mean_absolute_percentage_error: 93.8760 - val_loss: 17.3703 - val_mean_absolute_error: 17.8623 - val_root_mean_squared_error: 25.1726 - val_mean_absolute_percentage_error: 77.1481 - lr: 2.5000e-05\n",
      "Epoch 33/50\n",
      "1637/1637 [==============================] - 268s 164ms/step - loss: 12.6689 - mean_absolute_error: 13.1551 - root_mean_squared_error: 18.9009 - mean_absolute_percentage_error: 112.1772 - val_loss: 14.5711 - val_mean_absolute_error: 15.0620 - val_root_mean_squared_error: 21.4134 - val_mean_absolute_percentage_error: 104.5518 - lr: 2.5000e-05\n",
      "Epoch 34/50\n",
      "1637/1637 [==============================] - 268s 164ms/step - loss: 12.6848 - mean_absolute_error: 13.1739 - root_mean_squared_error: 18.8932 - mean_absolute_percentage_error: 111.8788 - val_loss: 14.7219 - val_mean_absolute_error: 15.2133 - val_root_mean_squared_error: 21.2523 - val_mean_absolute_percentage_error: 113.4340 - lr: 2.5000e-05\n",
      "Epoch 35/50\n",
      "1637/1637 [==============================] - 269s 164ms/step - loss: 11.9685 - mean_absolute_error: 12.4555 - root_mean_squared_error: 18.1101 - mean_absolute_percentage_error: 99.0213 - val_loss: 16.0315 - val_mean_absolute_error: 16.5239 - val_root_mean_squared_error: 23.7597 - val_mean_absolute_percentage_error: 77.7037 - lr: 2.5000e-05\n",
      "Epoch 36/50\n",
      "1637/1637 [==============================] - 268s 164ms/step - loss: 12.7714 - mean_absolute_error: 13.2607 - root_mean_squared_error: 18.8991 - mean_absolute_percentage_error: 110.3807 - val_loss: 14.5976 - val_mean_absolute_error: 15.0894 - val_root_mean_squared_error: 21.1362 - val_mean_absolute_percentage_error: 112.4964 - lr: 2.5000e-05\n",
      "Epoch 37/50\n",
      "1637/1637 [==============================] - 268s 164ms/step - loss: 12.6160 - mean_absolute_error: 13.1048 - root_mean_squared_error: 18.7691 - mean_absolute_percentage_error: 116.2550 - val_loss: 14.3930 - val_mean_absolute_error: 14.8867 - val_root_mean_squared_error: 21.2462 - val_mean_absolute_percentage_error: 102.8134 - lr: 1.2500e-05\n",
      "Epoch 38/50\n",
      "1637/1637 [==============================] - 269s 164ms/step - loss: 12.4095 - mean_absolute_error: 12.8996 - root_mean_squared_error: 18.4856 - mean_absolute_percentage_error: 102.7481 - val_loss: 15.6970 - val_mean_absolute_error: 16.1885 - val_root_mean_squared_error: 23.3828 - val_mean_absolute_percentage_error: 78.9389 - lr: 1.2500e-05\n",
      "Epoch 39/50\n",
      "1637/1637 [==============================] - 268s 164ms/step - loss: 12.8148 - mean_absolute_error: 13.3033 - root_mean_squared_error: 19.1241 - mean_absolute_percentage_error: 112.5444 - val_loss: 15.3417 - val_mean_absolute_error: 15.8363 - val_root_mean_squared_error: 21.4445 - val_mean_absolute_percentage_error: 130.9421 - lr: 1.2500e-05\n",
      "Epoch 40/50\n",
      "1637/1637 [==============================] - 268s 164ms/step - loss: 12.4620 - mean_absolute_error: 12.9489 - root_mean_squared_error: 18.6394 - mean_absolute_percentage_error: 108.5587 - val_loss: 14.2901 - val_mean_absolute_error: 14.7827 - val_root_mean_squared_error: 21.1956 - val_mean_absolute_percentage_error: 100.4154 - lr: 1.2500e-05\n",
      "Epoch 41/50\n",
      "1637/1637 [==============================] - 269s 164ms/step - loss: 13.1947 - mean_absolute_error: 13.6833 - root_mean_squared_error: 19.5158 - mean_absolute_percentage_error: 107.9781 - val_loss: 14.5413 - val_mean_absolute_error: 15.0319 - val_root_mean_squared_error: 21.9576 - val_mean_absolute_percentage_error: 85.3599 - lr: 1.2500e-05\n",
      "Epoch 42/50\n",
      "1637/1637 [==============================] - 268s 164ms/step - loss: 12.7088 - mean_absolute_error: 13.1959 - root_mean_squared_error: 18.9509 - mean_absolute_percentage_error: 112.5793 - val_loss: 14.5482 - val_mean_absolute_error: 15.0408 - val_root_mean_squared_error: 21.0367 - val_mean_absolute_percentage_error: 114.4926 - lr: 1.2500e-05\n",
      "Epoch 43/50\n",
      "1637/1637 [==============================] - 268s 164ms/step - loss: 12.7239 - mean_absolute_error: 13.2119 - root_mean_squared_error: 18.9315 - mean_absolute_percentage_error: 111.6406 - val_loss: 14.3524 - val_mean_absolute_error: 14.8440 - val_root_mean_squared_error: 20.9882 - val_mean_absolute_percentage_error: 108.6942 - lr: 1.2500e-05\n",
      "Epoch 44/50\n",
      "1637/1637 [==============================] - 269s 164ms/step - loss: 12.3897 - mean_absolute_error: 12.8802 - root_mean_squared_error: 18.5038 - mean_absolute_percentage_error: 102.9364 - val_loss: 14.2403 - val_mean_absolute_error: 14.7335 - val_root_mean_squared_error: 21.0023 - val_mean_absolute_percentage_error: 103.9914 - lr: 1.2500e-05\n",
      "Epoch 45/50\n",
      "1637/1637 [==============================] - 268s 164ms/step - loss: 12.8764 - mean_absolute_error: 13.3654 - root_mean_squared_error: 19.0882 - mean_absolute_percentage_error: 110.4793 - val_loss: 14.1818 - val_mean_absolute_error: 14.6744 - val_root_mean_squared_error: 21.2107 - val_mean_absolute_percentage_error: 96.2536 - lr: 1.2500e-05\n",
      "Epoch 46/50\n",
      "1637/1637 [==============================] - 269s 164ms/step - loss: 12.4541 - mean_absolute_error: 12.9435 - root_mean_squared_error: 18.6700 - mean_absolute_percentage_error: 100.2503 - val_loss: 15.1891 - val_mean_absolute_error: 15.6804 - val_root_mean_squared_error: 22.7332 - val_mean_absolute_percentage_error: 80.5044 - lr: 1.2500e-05\n",
      "Epoch 47/50\n",
      "1637/1637 [==============================] - 269s 164ms/step - loss: 12.5456 - mean_absolute_error: 13.0330 - root_mean_squared_error: 18.8083 - mean_absolute_percentage_error: 112.0198 - val_loss: 14.5218 - val_mean_absolute_error: 15.0143 - val_root_mean_squared_error: 21.0021 - val_mean_absolute_percentage_error: 115.2631 - lr: 1.2500e-05\n",
      "Epoch 48/50\n",
      "1637/1637 [==============================] - 269s 164ms/step - loss: 12.6815 - mean_absolute_error: 13.1702 - root_mean_squared_error: 18.8603 - mean_absolute_percentage_error: 110.6112 - val_loss: 14.1362 - val_mean_absolute_error: 14.6285 - val_root_mean_squared_error: 21.0698 - val_mean_absolute_percentage_error: 98.5489 - lr: 1.2500e-05\n",
      "Epoch 49/50\n",
      "1637/1637 [==============================] - 268s 164ms/step - loss: 12.3901 - mean_absolute_error: 12.8790 - root_mean_squared_error: 18.5692 - mean_absolute_percentage_error: 109.2738 - val_loss: 14.1987 - val_mean_absolute_error: 14.6885 - val_root_mean_squared_error: 21.3558 - val_mean_absolute_percentage_error: 92.2897 - lr: 1.2500e-05\n",
      "Epoch 50/50\n",
      "1637/1637 [==============================] - 269s 164ms/step - loss: 12.6121 - mean_absolute_error: 13.0980 - root_mean_squared_error: 19.0029 - mean_absolute_percentage_error: 112.1010 - val_loss: 15.0181 - val_mean_absolute_error: 15.5109 - val_root_mean_squared_error: 21.2236 - val_mean_absolute_percentage_error: 127.3417 - lr: 1.2500e-05\n"
     ]
    }
   ],
   "source": [
    "history = model.fit(train_dataset, epochs=50, batch_size=32, \n",
    "                    validation_data=test_dataset,\n",
    "                    callbacks=[reduce_lr_on_plateau])"
   ]
  },
  {
   "cell_type": "code",
   "execution_count": 24,
   "metadata": {},
   "outputs": [
    {
     "name": "stdout",
     "output_type": "stream",
     "text": [
      "525/525 [==============================] - 23s 43ms/step - loss: 15.0181 - mean_absolute_error: 15.5109 - root_mean_squared_error: 21.2236 - mean_absolute_percentage_error: 127.3417\n",
      "Model Loss: [15.018132209777832, 15.510895729064941, 21.2236328125, 127.3416976928711]\n"
     ]
    }
   ],
   "source": [
    "loss = model.evaluate(test_dataset)\n",
    "print(f'Model Loss: {loss}')"
   ]
  },
  {
   "cell_type": "code",
   "execution_count": 25,
   "metadata": {},
   "outputs": [
    {
     "data": {
      "image/png": "[encoded data removed]",
      "text/plain": [
       "<Figure size 640x480 with 1 Axes>"
      ]
     },
     "metadata": {},
     "output_type": "display_data"
    },
    {
     "data": {
      "image/png": "[encoded data removed]",
      "text/plain": [
       "<Figure size 640x480 with 1 Axes>"
      ]
     },
     "metadata": {},
     "output_type": "display_data"
    },
    {
     "data": {
      "image/png": "[encoded data removed]",
      "text/plain": [
       "<Figure size 640x480 with 1 Axes>"
      ]
     },
     "metadata": {},
     "output_type": "display_data"
    },
    {
     "data": {
      "image/png": "[encoded data removed]",
      "text/plain": [
       "<Figure size 640x480 with 1 Axes>"
      ]
     },
     "metadata": {},
     "output_type": "display_data"
    }
   ],
   "source": [
    "plt.plot(history.history['mean_absolute_error'])\n",
    "plt.plot(history.history['val_mean_absolute_error'])\n",
    "plt.title('Model Mean Absolute Error')\n",
    "plt.ylabel('Mean Absolute Error')\n",
    "plt.xlabel('Epoch')\n",
    "plt.legend(['Train', 'Validation'], loc='upper left')\n",
    "plt.show()\n",
    "\n",
    "plt.plot(history.history['loss'])\n",
    "plt.plot(history.history['val_loss'])\n",
    "plt.title('Model Loss')\n",
    "plt.ylabel('Loss')\n",
    "plt.xlabel('Epoch')\n",
    "plt.legend(['Train', 'Validation'], loc='upper left')\n",
    "plt.show()\n",
    "\n",
    "plt.plot(history.history['root_mean_squared_error'])\n",
    "plt.plot(history.history['val_root_mean_squared_error'])\n",
    "plt.title('Model Root Mean Squared Error')\n",
    "plt.ylabel('Root Mean Squared Error')\n",
    "plt.xlabel('Epoch')\n",
    "plt.legend(['Train', 'Validation'], loc='upper left')\n",
    "plt.show()\n",
    "\n",
    "plt.plot(history.history['mean_absolute_percentage_error'])\n",
    "plt.plot(history.history['val_mean_absolute_percentage_error'])\n",
    "plt.title('Model MAPE')\n",
    "plt.ylabel('MAPE')\n",
    "plt.xlabel('Epoch')\n",
    "plt.legend(['Train', 'Validation'], loc='upper left')\n",
    "plt.show()"
   ]
  },
  {
   "cell_type": "markdown",
   "metadata": {},
   "source": [
    "## Inference"
   ]
  },
  {
   "cell_type": "code",
   "execution_count": 26,
   "metadata": {},
   "outputs": [
    {
     "name": "stdout",
     "output_type": "stream",
     "text": [
      "[[18.57662]]\n"
     ]
    }
   ],
   "source": [
    "klasifikasi_perkara_encoded = 0\n",
    "penuntut_umum_encoded = 0\n",
    "hakim_encoded = 7\n",
    "jumlah_saksi_inference = 6\n",
    "maks_penjara_berdasarkan_pasal = 84\n",
    "\n",
    "\n",
    "inference_text = [\"buah sabit gagang kayu buah jare plastik paranet warna hitam uta tali plastik warna biru meter puluh buah kantong plastik kresek uta tali kain warna merah cm dimusnahkan unit mobil merek suzuki st pick up warna hitam dk kc noka mhyesljj nosin gaid beserta kunci kontak lembar stnk mobil merek suzuki st pick up warna hitam dk kc noka mhyesljj nosin gaid nama pemilik an i kadek kondrayasa dikembalikan i gede agu wirayuda buah durian jeni durian kane dikembalikan i wayan sukaren lembar nota pembelian buah durian toko tiara durian dikembalikan komang ayu anggreni bela buah durian jeni durian kane lembar nota pembelian buah durian toko semut durian dikembalikan komang sujana uang tunai rp ratu delapan puluh tujuh ribu rupiah dirampa negara membebankan terdakwa membayar biaya perkara rp ribu rupiah terdakwa gede darmayasa selasa tanggal mei sekira jam wita selasa tanggal mei sekira jam wita sabtu tanggal mei sekira jam wita setidaktidaknya mei setidaktidaknya kebun milik i wayan sukerena banjar desa bunutin kecamatan kintamani kab bangli kebun milik i nyoman susila banjar desa bunutin kecamatan kintamani kab bangli kebun milik i ketut tindih banjar desa pengejaran kecamatan kintamani kab bangli setidaktidaknya daerah hukum pengadilan negeri bangli perbuatan dipandang perbuatan berdiri kejahatan mengambil barang kepunyaan orang maksud dimiliki melawan hukum terdakwa caracara selasa tanggal mei sekira wita terdakwa berangkat rumah terdakwa br dina pudeh ds tajun kec kubutambahan kab buleleng mobil suzuki carri pick up warna hitam dk kc pergi brd bunutin kec kintamani kab bangli melewati simpang pasar tenten kintamani tujuan memb menawarkan buah durian dipohonnya sesampainya terdakwa brd bunutin kec kintamani kab bangli sekira wita terdakwa pohon durian berbuah kebun milik i wayan sukerena dipinggir jalan raya ds bunutin kec kintamani kab bangli situasi sepi terdakwa melihatlihat buah durian menemukan buah dipetik terdakwa memetik buah durian memanjat pohon durian sabit memotong buah durian pohon bergiliran buah durian terdakwa petik puluh tujuh buahsetelah terkumpul buah durian terdakwa naikan mobil suzuki carri pick up warna hitam dk kc terdakwa kendarai buah durian diata mobil terdakwa meninggalkan kebun milik i wayan sukerena perjalanan terdakwa dipinggir jalan raya ds bunutin kintamani pohon durian berbuah terdakwa turun memarkir mobil suzuki carri pick up warna hitam dk kc dipinggir jalan raya berjalan kaki terdakwa kebun milik i nyoman susila brd bunutin kec kintamani kab bangli sekira wita pohon durian berbuah terdakwa memanjat pohon durian pohon bergantian memetik sabit menurunkan buah durian puluh tujuh buah buah durian turun terkumpul terdakwa naikan mobil suzuki carri pick up warna hitam dk kc terdakwa tutupi buah durian diata mobil jare plastik warna hitam terdakwa ikat tali plastik warna biru buah durian aman diata mobil terdakwa meninggalkan brd bunutin kec kintamani kab bangli rumah terdakwa br dina pudeh ds tajun kac kubutambahan kab buleleng dirumah wita terdakwa langsung menjual durian saksi komang ayu anggreni batu barak desa tajun kec kubutambahan kab buleleng puluh buah berat seratu delapan puluh kg harga rp juta ratu enam bela ribu rupiah sisa buah durian puluh tujuh buah terdakwa bawa pulang kerumah kami tanggal mei sekira wita terdakwa menjual durian jeni durian kane komang sujana gudang milik komang sujana puluh buah durian berat kg buah durian hasil mencuri selasa tanggal mei brd bunutin kec kintamani kab bangli buah durian hasil terdakwa memb petani terdakwa jual harga total rp juta ratu ribu rupiah sabtu tanggal mei sekira wita terdakwa berangkat rumah terdakwa br dina pudeh ds tajun kec kubutambahan kab buleleng mobil suzuki carri pick up warna hitam dk kc pergi brd pengejaran kec kintamani kab bangli sesampainya terdakwa brd pengejaran kec kintamani kab bangli sekira wita melewati simpang lampu terdakwa dikebun milik i ketut tindih berlokasi pinggir jalan raya ds pengejaran situasi sepi terdakwa memanjat pohon durian pohon bergantian memetik buah durian sabit buah menjatuhkan buah durian ketanah terdakwa mengumpulkan buah durian terdakwa petik terdakwa menaikan buah durian mobil carri terdakwa bawa buah durian terdakwa tutupi buah durian diata mobil jare plastik warna hitam terdakwa ikat tali plastik warna biru buah durian aman diata mobil terdakwa meninggalkan brd pengejaran kec kintamani kab bangli rumah terdakwa br dina pudeh ds tajun kac kubutambahan kab buleleng pulang kerumahnya terdakwa pergi desa tajun menjual buah durian komang ayu anggreni buah harga rp juta ratu delapan puluh ribu rupiah menjual buah durian terdakwa langsung pulang rumah terdakwa br dina pudeh ds tajun kac kubutambahan kab buleleng terdakwa mengambil enam puluh tujuh buah durian kane ijin saksi i wayan sukerena saksi i nyoman susila saksi i ketut tindih memiliki buah durian menjualnya uang hasil penjualan biaya hidup seharihari akibat perbuatan terdakwa mengakibatkan saksi i wayan sukerena mengalami kerugian rp juta ratu puluh ribu rupiah saksi i ketut tindih mengalami kerugian rp juta ratu ribu rupiah saksi i nyoman susila mengalami kerugian rp juta rupiah setidaktidaknya rp ratu puluh rupiah diatur diancam pidana pasal kuhp jo pasal ayat kuhp gede darmayasa\"]\n",
    "inference_numerical_tensor = tf.constant([[klasifikasi_perkara_encoded, penuntut_umum_encoded, hakim_encoded, jumlah_saksi_inference, maks_penjara_berdasarkan_pasal]], dtype=tf.float32)\n",
    "inputs = tokenizer(inference_text, padding=True, truncation=True, return_tensors='tf', max_length=512)\n",
    "\n",
    "input_dict = {\n",
    "    'input_ids': inputs['input_ids'],\n",
    "    'attention_mask': inputs['attention_mask'],\n",
    "    'numerical_feature': inference_numerical_tensor\n",
    "}\n",
    "\n",
    "predictions = model(input_dict)\n",
    "predictions_np = predictions.numpy()\n",
    "print(predictions_np)\n",
    "\n",
    "# pred_log = predictions_np[0].astype(float)  # Log transformation\n",
    "# predictions = np.expm1(pred_log)  \n",
    "# print(f'Predicted Putusan: {predictions}')\n"
   ]
  },
  {
   "cell_type": "code",
   "execution_count": 27,
   "metadata": {},
   "outputs": [
    {
     "name": "stderr",
     "output_type": "stream",
     "text": [
      "WARNING:absl:Found untraced functions such as serving, embeddings_layer_call_fn, embeddings_layer_call_and_return_conditional_losses, encoder_layer_call_fn, encoder_layer_call_and_return_conditional_losses while saving (showing 5 of 421). These functions will not be directly callable after loading.\n"
     ]
    },
    {
     "name": "stdout",
     "output_type": "stream",
     "text": [
      "INFO:tensorflow:Assets written to: ../Model/indolem_indobert-base-uncased_FineTuning_Layer0\\assets\n"
     ]
    },
    {
     "name": "stderr",
     "output_type": "stream",
     "text": [
      "INFO:tensorflow:Assets written to: ../Model/indolem_indobert-base-uncased_FineTuning_Layer0\\assets\n"
     ]
    }
   ],
   "source": [
    "model_scenario_name = \"indolem_indobert-base-uncased_FineTuning_Layer0\"\n",
    "\n",
    "model_save_path = f'../Model/{model_scenario_name}'\n",
    "history_training_save_path = f'../Model/{model_scenario_name}_training_history.pkl'\n",
    "\n",
    "model.save(model_save_path)\n",
    "\n",
    "with open(history_training_save_path, 'wb') as f:\n",
    "    pickle.dump(history.history, f)"
   ]
  },
  {
   "cell_type": "markdown",
   "metadata": {},
   "source": [
    "## Saved Model Inference (CHANGE ARCH BEFORE USE!)"
   ]
  },
  {
   "cell_type": "code",
   "execution_count": 28,
   "metadata": {},
   "outputs": [
    {
     "name": "stderr",
     "output_type": "stream",
     "text": [
      "Some weights of the PyTorch model were not used when initializing the TF 2.0 model TFBertModel: ['cls.predictions.transform.LayerNorm.bias', 'cls.predictions.decoder.weight', 'cls.predictions.transform.dense.weight', 'cls.predictions.transform.LayerNorm.weight', 'cls.predictions.decoder.bias', 'cls.predictions.transform.dense.bias', 'cls.predictions.bias']\n",
      "- This IS expected if you are initializing TFBertModel from a PyTorch model trained on another task or with another architecture (e.g. initializing a TFBertForSequenceClassification model from a BertForPreTraining model).\n",
      "- This IS NOT expected if you are initializing TFBertModel from a PyTorch model that you expect to be exactly identical (e.g. initializing a TFBertForSequenceClassification model from a BertForSequenceClassification model).\n",
      "All the weights of TFBertModel were initialized from the PyTorch model.\n",
      "If your task is similar to the task the model of the checkpoint was trained on, you can already use TFBertModel for predictions without further training.\n"
     ]
    }
   ],
   "source": [
    "tokenizer = AutoTokenizer.from_pretrained(\"indolem/indobert-base-uncased\")\n",
    "\n",
    "class BERTRegressor(tf.keras.Model):\n",
    "    def __init__(self):\n",
    "        super(BERTRegressor, self).__init__()\n",
    "        self.bert = TFBertModel.from_pretrained(\"indolem/indobert-base-uncased\", from_pt=True)\n",
    "        for layer in self.bert.layers:\n",
    "                layer.trainable = True\n",
    "\n",
    "        # for i in range(12):\n",
    "        #     layer = self.bert.bert.encoder.layer[i]\n",
    "        #     layer.trainable = i >= 6\n",
    "            \n",
    "        self.regressor = tf.keras.layers.Dense(1)\n",
    "\n",
    "    def call(self, inputs):\n",
    "        input_ids = inputs['input_ids']\n",
    "        attention_mask = inputs['attention_mask']\n",
    "        numerical_features = inputs['numerical_feature']\n",
    "\n",
    "        bert_output = self.bert(input_ids=input_ids, attention_mask=attention_mask)\n",
    "        pooled_output = bert_output.pooler_output\n",
    "        combined_output = tf.concat([pooled_output, numerical_features], axis=1)\n",
    "\n",
    "        return self.regressor(combined_output)\n",
    "\n",
    "model_scenario_name = \"indolem_indobert-base-uncased_FineTuning_Layer0\"\n",
    "model_save_path = f'../Model/{model_scenario_name}'\n",
    "\n",
    "loaded_model = tf.keras.models.load_model(model_save_path, custom_objects={'BERTRegressor': BERTRegressor})"
   ]
  },
  {
   "cell_type": "code",
   "execution_count": 29,
   "metadata": {},
   "outputs": [
    {
     "name": "stdout",
     "output_type": "stream",
     "text": [
      "[[18.57662]]\n"
     ]
    }
   ],
   "source": [
    "klasifikasi_perkara_encoded = 0\n",
    "penuntut_umum_encoded = 0\n",
    "hakim_encoded = 7\n",
    "jumlah_saksi_inference = 6\n",
    "maks_penjara_berdasarkan_pasal = 84\n",
    "\n",
    "\n",
    "inference_text = [\"buah sabit gagang kayu buah jare plastik paranet warna hitam uta tali plastik warna biru meter puluh buah kantong plastik kresek uta tali kain warna merah cm dimusnahkan unit mobil merek suzuki st pick up warna hitam dk kc noka mhyesljj nosin gaid beserta kunci kontak lembar stnk mobil merek suzuki st pick up warna hitam dk kc noka mhyesljj nosin gaid nama pemilik an i kadek kondrayasa dikembalikan i gede agu wirayuda buah durian jeni durian kane dikembalikan i wayan sukaren lembar nota pembelian buah durian toko tiara durian dikembalikan komang ayu anggreni bela buah durian jeni durian kane lembar nota pembelian buah durian toko semut durian dikembalikan komang sujana uang tunai rp ratu delapan puluh tujuh ribu rupiah dirampa negara membebankan terdakwa membayar biaya perkara rp ribu rupiah terdakwa gede darmayasa selasa tanggal mei sekira jam wita selasa tanggal mei sekira jam wita sabtu tanggal mei sekira jam wita setidaktidaknya mei setidaktidaknya kebun milik i wayan sukerena banjar desa bunutin kecamatan kintamani kab bangli kebun milik i nyoman susila banjar desa bunutin kecamatan kintamani kab bangli kebun milik i ketut tindih banjar desa pengejaran kecamatan kintamani kab bangli setidaktidaknya daerah hukum pengadilan negeri bangli perbuatan dipandang perbuatan berdiri kejahatan mengambil barang kepunyaan orang maksud dimiliki melawan hukum terdakwa caracara selasa tanggal mei sekira wita terdakwa berangkat rumah terdakwa br dina pudeh ds tajun kec kubutambahan kab buleleng mobil suzuki carri pick up warna hitam dk kc pergi brd bunutin kec kintamani kab bangli melewati simpang pasar tenten kintamani tujuan memb menawarkan buah durian dipohonnya sesampainya terdakwa brd bunutin kec kintamani kab bangli sekira wita terdakwa pohon durian berbuah kebun milik i wayan sukerena dipinggir jalan raya ds bunutin kec kintamani kab bangli situasi sepi terdakwa melihatlihat buah durian menemukan buah dipetik terdakwa memetik buah durian memanjat pohon durian sabit memotong buah durian pohon bergiliran buah durian terdakwa petik puluh tujuh buahsetelah terkumpul buah durian terdakwa naikan mobil suzuki carri pick up warna hitam dk kc terdakwa kendarai buah durian diata mobil terdakwa meninggalkan kebun milik i wayan sukerena perjalanan terdakwa dipinggir jalan raya ds bunutin kintamani pohon durian berbuah terdakwa turun memarkir mobil suzuki carri pick up warna hitam dk kc dipinggir jalan raya berjalan kaki terdakwa kebun milik i nyoman susila brd bunutin kec kintamani kab bangli sekira wita pohon durian berbuah terdakwa memanjat pohon durian pohon bergantian memetik sabit menurunkan buah durian puluh tujuh buah buah durian turun terkumpul terdakwa naikan mobil suzuki carri pick up warna hitam dk kc terdakwa tutupi buah durian diata mobil jare plastik warna hitam terdakwa ikat tali plastik warna biru buah durian aman diata mobil terdakwa meninggalkan brd bunutin kec kintamani kab bangli rumah terdakwa br dina pudeh ds tajun kac kubutambahan kab buleleng dirumah wita terdakwa langsung menjual durian saksi komang ayu anggreni batu barak desa tajun kec kubutambahan kab buleleng puluh buah berat seratu delapan puluh kg harga rp juta ratu enam bela ribu rupiah sisa buah durian puluh tujuh buah terdakwa bawa pulang kerumah kami tanggal mei sekira wita terdakwa menjual durian jeni durian kane komang sujana gudang milik komang sujana puluh buah durian berat kg buah durian hasil mencuri selasa tanggal mei brd bunutin kec kintamani kab bangli buah durian hasil terdakwa memb petani terdakwa jual harga total rp juta ratu ribu rupiah sabtu tanggal mei sekira wita terdakwa berangkat rumah terdakwa br dina pudeh ds tajun kec kubutambahan kab buleleng mobil suzuki carri pick up warna hitam dk kc pergi brd pengejaran kec kintamani kab bangli sesampainya terdakwa brd pengejaran kec kintamani kab bangli sekira wita melewati simpang lampu terdakwa dikebun milik i ketut tindih berlokasi pinggir jalan raya ds pengejaran situasi sepi terdakwa memanjat pohon durian pohon bergantian memetik buah durian sabit buah menjatuhkan buah durian ketanah terdakwa mengumpulkan buah durian terdakwa petik terdakwa menaikan buah durian mobil carri terdakwa bawa buah durian terdakwa tutupi buah durian diata mobil jare plastik warna hitam terdakwa ikat tali plastik warna biru buah durian aman diata mobil terdakwa meninggalkan brd pengejaran kec kintamani kab bangli rumah terdakwa br dina pudeh ds tajun kac kubutambahan kab buleleng pulang kerumahnya terdakwa pergi desa tajun menjual buah durian komang ayu anggreni buah harga rp juta ratu delapan puluh ribu rupiah menjual buah durian terdakwa langsung pulang rumah terdakwa br dina pudeh ds tajun kac kubutambahan kab buleleng terdakwa mengambil enam puluh tujuh buah durian kane ijin saksi i wayan sukerena saksi i nyoman susila saksi i ketut tindih memiliki buah durian menjualnya uang hasil penjualan biaya hidup seharihari akibat perbuatan terdakwa mengakibatkan saksi i wayan sukerena mengalami kerugian rp juta ratu puluh ribu rupiah saksi i ketut tindih mengalami kerugian rp juta ratu ribu rupiah saksi i nyoman susila mengalami kerugian rp juta rupiah setidaktidaknya rp ratu puluh rupiah diatur diancam pidana pasal kuhp jo pasal ayat kuhp gede darmayasa\"]\n",
    "inference_numerical_tensor = tf.constant([[klasifikasi_perkara_encoded, penuntut_umum_encoded, hakim_encoded, jumlah_saksi_inference, maks_penjara_berdasarkan_pasal]], dtype=tf.float32)\n",
    "inputs = tokenizer(inference_text, padding=True, truncation=True, return_tensors='tf', max_length=512)\n",
    "\n",
    "input_dict = {\n",
    "    'input_ids': inputs['input_ids'],\n",
    "    'attention_mask': inputs['attention_mask'],\n",
    "    'numerical_feature': inference_numerical_tensor\n",
    "}\n",
    "\n",
    "predictions = loaded_model(input_dict)\n",
    "predictions_np = predictions.numpy()\n",
    "print(predictions_np)\n",
    "\n",
    "# pred_log = predictions_np[0].astype(float)  # Log transformation\n",
    "# predictions = np.expm1(pred_log)  \n",
    "# print(f'Predicted Putusan: {predictions}')\n"
   ]
  },
  {
   "cell_type": "markdown",
   "metadata": {},
   "source": [
    "### Count Inverse-Log MAPE"
   ]
  },
  {
   "cell_type": "code",
   "execution_count": 30,
   "metadata": {},
   "outputs": [],
   "source": [
    "# from sklearn.metrics import mean_absolute_percentage_error, mean_absolute_error, root_mean_squared_error\n",
    "\n",
    "# y_pred_log = loaded_model.predict(test_dataset)\n",
    "\n",
    "# # Inverse Log\n",
    "# y_true_real = np.expm1(y_test)\n",
    "# y_pred_real = np.expm1(y_pred_log)\n",
    "\n",
    "# mape_real = mean_absolute_percentage_error(y_true_real, y_pred_real) * 100\n",
    "\n",
    "# print(f\"MAPE: {mape_real}%\")\n"
   ]
  },
  {
   "cell_type": "code",
   "execution_count": 31,
   "metadata": {},
   "outputs": [],
   "source": [
    "# mae_real = mean_absolute_error(y_true_real, y_pred_real)\n",
    "# print(f\"MAE: {mae_real}\")"
   ]
  },
  {
   "cell_type": "code",
   "execution_count": 32,
   "metadata": {},
   "outputs": [],
   "source": [
    "# rmse_real = root_mean_squared_error(y_true_real, y_pred_real)\n",
    "# print(f\"RMSE: {rmse_real} \")"
   ]
  },
  {
   "cell_type": "code",
   "execution_count": 33,
   "metadata": {},
   "outputs": [],
   "source": [
    "# y_true_real = np.expm1(y_test).ravel()\n",
    "# y_pred_real = np.expm1(y_pred_log).ravel()\n",
    "\n",
    "# def huber_loss(y_true, y_pred, delta=1.0):\n",
    "#     error = y_true - y_pred\n",
    "#     is_small_error = np.abs(error) <= delta\n",
    "#     squared_loss = 0.5 * (error[is_small_error]) ** 2\n",
    "#     linear_loss = delta * (np.abs(error[~is_small_error]) - 0.5 * delta)\n",
    "#     return np.mean(np.concatenate([squared_loss, linear_loss]))\n",
    "\n",
    "# loss = huber_loss(y_true_real, y_pred_real)\n",
    "# print(f\"Huber loss (real scale): {loss}\")"
   ]
  }
 ],
 "metadata": {
  "kernelspec": {
   "display_name": "tf_gpu",
   "language": "python",
   "name": "python3"
  },
  "language_info": {
   "codemirror_mode": {
    "name": "ipython",
    "version": 3
   },
   "file_extension": ".py",
   "mimetype": "text/x-python",
   "name": "python",
   "nbconvert_exporter": "python",
   "pygments_lexer": "ipython3",
   "version": "3.9.20"
  }
 },
 "nbformat": 4,
 "nbformat_minor": 2
}
