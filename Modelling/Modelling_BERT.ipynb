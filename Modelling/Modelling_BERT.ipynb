{
 "cells": [
  {
   "cell_type": "code",
   "execution_count": 1,
   "metadata": {},
   "outputs": [
    {
     "name": "stderr",
     "output_type": "stream",
     "text": [
      "c:\\Users\\Kalea\\miniconda3\\envs\\tf_gpu\\lib\\site-packages\\tqdm\\auto.py:21: TqdmWarning: IProgress not found. Please update jupyter and ipywidgets. See https://ipywidgets.readthedocs.io/en/stable/user_install.html\n",
      "  from .autonotebook import tqdm as notebook_tqdm\n"
     ]
    }
   ],
   "source": [
    "import numpy as np\n",
    "import pandas as pd\n",
    "import matplotlib.pyplot as plt\n",
    "from datasets import DatasetDict, Dataset\n",
    "from transformers import AutoTokenizer, AutoModelForMaskedLM\n",
    "import tensorflow as tf\n",
    "from sklearn.model_selection import train_test_split"
   ]
  },
  {
   "cell_type": "markdown",
   "metadata": {},
   "source": [
    "## Data Preparation"
   ]
  },
  {
   "cell_type": "code",
   "execution_count": 2,
   "metadata": {},
   "outputs": [],
   "source": [
    "df = pd.read_csv('../Data/STAGE 4 FINAL MERGED DATA/STAGE_4_MERGED_FINAL_ENCODED.csv')"
   ]
  },
  {
   "cell_type": "code",
   "execution_count": 3,
   "metadata": {},
   "outputs": [
    {
     "data": {
      "application/vnd.microsoft.datawrangler.viewer.v0+json": {
       "columns": [
        {
         "name": "index",
         "rawType": "int64",
         "type": "integer"
        },
        {
         "name": "klasifikasi_perkara_encoded",
         "rawType": "int64",
         "type": "integer"
        },
        {
         "name": "penuntut_umum_encoded",
         "rawType": "int64",
         "type": "integer"
        },
        {
         "name": "hakim_encoded",
         "rawType": "int64",
         "type": "integer"
        },
        {
         "name": "jumlah_saksi",
         "rawType": "int64",
         "type": "integer"
        },
        {
         "name": "cleaned_barang_bukti",
         "rawType": "object",
         "type": "string"
        },
        {
         "name": "summarized_dakwaan",
         "rawType": "object",
         "type": "string"
        },
        {
         "name": "extracted_pasal",
         "rawType": "object",
         "type": "string"
        },
        {
         "name": "terdakwa",
         "rawType": "object",
         "type": "string"
        },
        {
         "name": "total_pidana_penjara_bulan",
         "rawType": "float64",
         "type": "float"
        }
       ],
       "conversionMethod": "pd.DataFrame",
       "ref": "89015a16-dbb3-4888-a463-d6d2260eab3d",
       "rows": [
        [
         "0",
         "0",
         "0",
         "0",
         "6",
         "1 (satu) buah sabit kecil dengan gagang dari kayu 1 (satu) buah jaring plastik paranet warna hitam 1 (satu) utas tali plastik warna biru dengan panjang 7,5 meter 20 (dua puluh) buah kantong plastik kresek 2 (dua) utas tali kain warna merah dengan panjang 80 cm Dimusnahkan 1 (satu) unit mobil merek Suzuki ST 150 Pick Up warna hitam DK 8985 KC, NOKA MHYESL415JJ723753, NOSIN G15AID1125449 beserta kunci kontak 1 (satu) lembar STNK mobil merek Suzuki ST 150 Pick Up warna hitam DK 8985 KC, NOKA MHYESL415JJ723753, NOSIN G15AID1125449 nama pemilik a.n. I Kadek Kondrayasa Dikembalikan kepada I Gede Agus Wirayuda 4 (empat) buah durian jenis durian kane Dikembalikan kepada I Wayan Sukarene, S.E. 1 (satu) lembar nota pembelian buah durian Toko Tiara Durian Dikembalikan kepada Komang Ayu Anggreni 15 (lima belas) buah durian jenis durian kane 1 (satu) lembar nota pembelian buah durian Toko Semut Durian Dikembalikan kepada Komang Sujana Uang tunai sebesar Rp487.000,00 (empat ratus delapan puluh tujuh ribu rupiah) Dirampas untuk negara  6. Membebankan kepada Terdakwa membayar biaya perkara sejumlah Rp5.000,00 (lima ribu rupiah)",
         "Bahwa ia terdakwa Gede Darmayasa pada hari selasa tanggal 21 Mei 2024 sekira jam 06.00 WITA, hari Selasa tanggal 21 Mei 2024 sekira jam 06.30 WITA dan hari Sabtu tanggal 25 Mei 2024 sekira jam 06.00 WITA atau setidak-tidaknya pada waktu lain dalam Bulan Mei tahun 2024 atau setidak-tidaknya pada waktu lain dalam tahun 2024, di kebun milik I Wayan Sukerena, SE di Banjar / Desa Bunutin, Kecamatan Kintamani, Kab. Bangli, di kebun milik I Nyoman Susila di Banjar / Desa Bunutin, Kecamatan Kintamani, Kab. Bangli, dan di kebun milik I Ketut Tindih di Banjar / Desa Pengejaran, Kecamatan Kintamani, Kab. Bangli, atau setidak-tidaknya pada suatu tempat tertentu yang masih termasuk dalam daerah hukum Pengadilan Negeri Bangli, telah melakukan beberapa perbuatan yang harus dipandang sebagai perbuatan yang berdiri sendiri sehingga merupakan beberapa kejahatan yaitu mengambil barang sesuatu yang seluruhnya atau sebagian kepunyaan orang lain, dengan maksud untuk dimiliki secara melawan hukum, yang dilakukan terdakwa dengan cara-cara sebagai berikut. Bahwa pada hari Selasa tanggal 21 Mei 2024 sekira pukul 04.00 WITA terdakwa berangkat dari rumah terdakwa di Br. Dinas Pudeh, Ds. Tajun, Kec. Kubutambahan, Kab. Buleleng dengan menggunakan mobil Suzuki Carry Pick Up warna hitam DK 8985 KC untuk pergi ke Br./Ds. Bunutin, Kec. Kintamani, Kab. Bangli dengan melewati simpang tiga Pasar Tenten Kintamani dengan tujuan untuk membeli dan menawarkan buah durian yang masih ada dipohonnya sesampainya terdakwa di Br./Ds. Bunutin, Kec. Kintamani, Kab. Bangli sekira pukul 06.00 WITA terdakwa melihat pohon durian yang sudah berbuah di kebun milik I WAYAN SUKERENA, S.E. dipinggir Jalan Raya Ds. Bunutin, Kec. Kintamani, Kab. Bangli, karena situasi saat itu sepi selanjutnya terdakwa melihatlihat buah durian tersebut, setelah menemukan buah yang akan dipetik, selanjutnya terdakwa memetik buah durian tersebut dengan memanjat pohon durian tersebut dan dengan menggunakan sabit kecil untuk memotong buah durian tersebut sebanyak 2 (dua) pohon secara bergiliran dengan jumlah buah durian yang terdakwa petik sekitar 37 (tiga puluh tujuh) buah,setelah terkumpul lanjut buah durian tersebut terdakwa naikan di mobil Suzuki Carry Pick Up warna hitam DK 8985 KC yang terdakwa kendarai tersebut, setelah buah durian semua diatas mobil lanjut terdakwa meninggalkan kebun milik I WAYAN SUKERENA, S.E. tersebut. Kemudian dalam perjalanan terdakwa melihat lagi dipinggir Jalan Raya Ds. Bunutin Kintamani ada beberapa pohon durian yang sudah berbuah kemudian terdakwa turun memarkir mobil Suzuki Carry Pick Up warna hitam DK 8985 KC dipinggir jalan raya, setelah itu dengan berjalan kaki terdakwa menuju ke kebun milik I NYOMAN SUSILA di Br./Ds. Bunutin, Kec. Kintamani, Kab. Bangli sekira pukul 06.30 WITA karena melihat pohon durian berbuah cukup banyak akhirnya terdakwa memanjat pohon durian tersebut sebanyak 2 (dua) pohon secara bergantian kemudian memetik dengan menggunakan sabit kecil dan menurunkan buah durian sebanyak 27 (dua puluh tujuh) buah, setelah buah durian turun dan terkumpul kemudian terdakwa naikan ke atas mobil Suzuki Carry Pick Up warna hitam DK 8985 KC setelah itu terdakwa tutupi buah durian diatas mobil tersebut dengan menggunakan jaring plastik warna hitam dan terdakwa ikat dengan tali plastik warna biru supaya buah durian tersebut aman diatas mobil selanjutnya terdakwa meninggalkan Br./Ds. Bunutin, Kec. Kintamani, Kab. Bangli menuju rumah terdakwa di Br. Dinas Pudeh, Ds. Tajun, Kac. Kubutambahan, Kab. Buleleng, namun sebelum sampai dirumah sekitar pukul 14.30 WITA terdakwa langsung menjual durian tersebut kepada saksi Komang Ayu Anggreni di Batu Barak Desa Tajun Kec. Kubutambahan Kab. Buleleng sebanyak 40 (empat puluh) buah dengan berat kurang lebih 180 (seratus delapan puluh) Kg dengan harga Rp. 4.316.000 (empat juta tiga ratus enam belas ribu rupiah), selanjutnya sisa buah durian sebanyak 27 (dua puluh tujuh) buah terdakwa bawa pulang kerumah. Pada hari Kamis tanggal 23 Mei 2024 sekira pukul 18.00 WITA terdakwa menjual durian jenis durian Kane kepada KOMANG SUJANA di Gudang milik KOMANG SUJANA sebanyak 40 (empat puluh) buah durian dengan berat sekitar 200 Kg yang mana 24 buah durian hasil saya mencuri pada hari Selasa tanggal 21 Mei 2024 di Br./Ds. Bunutin, Kec. Kintamani, Kab. Bangli sedangkan 16 buah durian tersebut hasil dari terdakwa membeli di petani yang terdakwa jual dengan harga total Rp. 5.200.000, (lima juta dua ratus ribu rupiah). Selanjutnya pada hari Sabtu tanggal 25 Mei 2024 sekira pukul 04.00 WITA terdakwa berangkat dari rumah terdakwa di Br. Dinas Pudeh, Ds. Tajun. Kec. Kubutambahan, Kab. Buleleng dengan menggunakan mobil Suzuki Carry Pick Up warna hitam DK 8985 KC untuk pergi ke Br./Ds. Pengejaran, Kec. Kintamani, Kab. Bangli, sesampainya terdakwa di Br./Ds. Pengejaran, Kec. Kintamani, Kab. Bangli sekira pukul 06.00 wita dengan melewati simpang tiga Lampu terdakwa tiba dikebun milik I KETUT TINDIH yang berlokasi di pinggir Jalan Raya Ds, Pengejaran, karena situasi sepi terdakwa memanjat pohon durian tersebut sebanyak 2 (dua) pohon secara bergantian selanjutnya memetik buah durian tersebut dengan menggunakan sabit kecil sebanyak 20 (dua) buah dan menjatuhkan buah durian tersebut ketanah setelah itu terdakwa mengumpulkan buah durian yang sudah terdakwa petik selanjutnya terdakwa menaikan buah durian tersebut ke atas mobil carry yang terdakwa bawa selanjutnya buah durian tersebut terdakwa tutupi buah durian diatas mobil tersebut dengan menggunakan jaring plastik warna hitam dan terdakwa ikat dengan tali plastik warna biru supaya buah durian tersebut aman diatas mobil selanjutnya terdakwa meninggalkan Br./Ds. Pengejaran, Kec. Kintamani, Kab. Bangli menuju rumah terdakwa di Br. Dinas Pudeh, Ds. Tajun, Kac. Kubutambahan, Kab. Buleleng, tetapi sebelum pulang kerumahnya terdakwa pergi ke Desa Tajun untuk menjual buah durian tersebut kepada Komang Ayu Anggreni sebanyak 15 buah dengan harga Rp. 1.485.000 (satu juta empat ratus delapan puluh lima ribu rupiah), setelah menjual buah durian tersebut terdakwa langsung pulang menuju rumah terdakwa di Br. Dinas Pudeh, Ds. Tajun, Kac. Kubutambahan, Kab. Buleleng. Bahwa terdakwa mengambil kurang lebih 67 (enam puluh tujuh) buah durian kane tersebut tanpa ijin dari saksi I Wayan Sukerena, SE, saksi I Nyoman Susila, saksi I Ketut Tindih, dan bermaksud untuk memiliki buah durian tersebut dengan menjualnya dan uang hasil penjualan dipergunakan untuk biaya hidup sehari-hari. Akibat dari perbuatan terdakwa tersebut, mengakibatkan saksi I Wayan Sukerena, SE mengalami kerugian sebesar Rp.3.330.000,- (tiga juta tiga ratus tiga puluh ribu rupiah) , saksi I Ketut Tindih mengalami kerugian sebesar Rp.3.500.000,- (tiga juta lima ratus ribu rupiah), dan saksi I Nyoman Susila mengalami kerugian sebesar Rp. 2.000.000,- (dua juta rupiah) atau setidak-tidaknya lebih dari Rp.250,- (dua ratus lima puluh rupiah). - sebagaimana diatur dan diancam pidana dalam Pasal 362 KUHP jo Pasal 65 Ayat (1) KUHP.",
         "['Pasal 362 KUHP jo. Pasal 65 Ayat (1) KUHP']",
         "GEDE DARMAYASA",
         "5.0"
        ],
        [
         "1",
         "0",
         "0",
         "1",
         "6",
         "1 (satu) buah Kotak/Box handphone merk OPPO type A53 warna Hitam, dengan nomor IMEI1/2 867919057365515/867919057365507 1 (satu) lembar nota pembelian 1 (satu) unit handphone merk OPPO type A53 warna hitam, dengan nomor IMEI1/2 867919057365515/867919057365507 dari Anyelir Ponsel pada tanggal 3 April 2020 senilai Rp3.999.000,00 (tiga juta sembilan ratus sembilan puluh sembilan ribu rupiah). 1 (satu) unit handphone merk OPPO type A53 warna hitam, dengan nomor IMEI1/2 867919057365515/867919057365507 Dikembalikan kepada I Nengah Sukadana  6. Membebankan kepada Terdakwa membayar biaya perkara sejumlah Rp5.000,00 (lima ribu rupiah)",
         "Terdakwa Handri Johanes didakwa melakukan pencurian satu unit handphone OPPO A53 warna hitam pada 24 April 2024 sekitar pukul 03.00 WITA di Puri Kanginan, Bangli.Terdakwa yang sebelumnya bekerja di mebel UD. Wisnu, sering keluar masuk area Puri Kanginan.Pada hari kejadian, terdakwa masuk ke dalam Puri mencari teman, namun tidak menemukannya.Saat hendak pulang, ia melihat sebuah handphone sedang dicas di kamar dengan pintu sedikit terbuka.Ia kemudian mengambil handphone tersebut dan pergi.Handphone tersebut dalam keadaan terkunci, sehingga beberapa hari kemudian terdakwa menjualnya kepada Denny Firmansyah di Klungkung seharga Rp300.000, yang kemudian dikirim kepada anaknya di Lombok melalui transfer.Akibat perbuatannya, saksi I Nengah Sukadana mengalami kerugian sebesar Rp3.999.000.Perbuatan terdakwa diancam pidana berdasarkan Pasal 363 Ayat (1) ke-3 KUHP.",
         "['Pasal 363 Ayat (1)']",
         "HANDRI JOHANAS",
         "4.0"
        ],
        [
         "2",
         "1",
         "1",
         "2",
         "2",
         "1 (satu) buah plastik klip bening yang berisi kristal bening yang diduga NarkotikaGolongan I bukan tanaman jenis shabu dengan berat 0,26 (nol koma dua enam) gram bruto atau 0,20 (nol koma dua puluh) gram netto selanjutnya disisihkan seberat 0,02 (nol koma nol dua) gram netto untuk uji labforensik sehingga sisa barang bukti 0,18 (nol koma delapan belas) gram netto 1 (satu) buah micro tube 1 (satu) buah handphone merk REDMI type 10 C warna Hitam berikut dengan 1 (satu) buah simcard 1 (satu) buah Tas selempang merk ALOIPFAX warna hitam Dimusnahkan 1 (satu) unit sepeda motor merk Yamaha Type Jupiter MX warna Hitam DK-6181-LF berikut kunci kontak Dikembalikan kepada yang berhak melalui Terdakwa 6. Membebankan kepada Terdakwa membayar biaya perkara sejumlah Rp5.000,00 (lima ribu rupiah)",
         "Dakwaan Pertama: Pada 14 April 2024, sekitar pukul 16.35 WITA, terdakwa secara tanpa hak atau melawan hukum memiliki, menyimpan, menguasai, atau menyediakan narkotika golongan I bukan tanaman jenis sabu. Perbuatan ini dilakukan setelah terdakwa berkenalan dengan seseorang bernama Kadek (DPO) di Facebook dan melanjutkan percakapan via WhatsApp, yang mengarah pada kesepakatan menggunakan sabu bersama. Terdakwa kemudian menghubungi Mang Donal (DPO) untuk mendapatkan sabu pada 12 April 2024 dan mengambil barang tersebut di Klungkung pada 14 April 2024, sebelum berangkat ke Bangli menggunakan sepeda motor.  Pada saat menghubungi Kadek di Jl. Brigjen Ngurah Rai, Bangli, sekitar pukul 16.35 WITA, terdakwa diamankan oleh tim Opsnal Satresnarkoba Polres Bangli. Saat digeledah, ditemukan barang bukti berupa 0,20 gram sabu yang dibungkus dalam tabung micro tube, disimpan dalam tas selempang, serta barang bukti lain seperti handphone dan sepeda motor. Berdasarkan hasil laboratorium, kristal yang ditemukan mengandung Metamfetamina, yang termasuk dalam narkotika golongan I.  Tindakannya diatur dan diancam pidana dalam Pasal 112 ayat (1) UU No. 35 Tahun 2009 tentang Narkotika.  Dakwaan Kedua: Terdakwa juga didakwa atas penyalahgunaan narkotika untuk konsumsi pribadi pada 11 April 2024, dengan cara menggunakan sabu secara pribadi di garasi mobil rumahnya. Terdakwa menyiapkan alat bong dan menghisap sabu hingga habis. Penggunaan sabu tersebut terjadi dalam kondisi rumah yang sedang sepi dan setelah membeli teh kotak. Tindakannya diatur dan diancam pidana dalam Pasal 127 ayat (1) huruf a UU No. 35 Tahun 2009 tentang Narkotika.",
         "['Pasal 112 Ayat (1) UU No. 35 Tahun 2009 tentang Narkotika', 'Pasal 127 ayat (1) huruf a UU No. 35 Tahun 2009 tentang Narkotika']",
         "I GEDE ARIADI alias BERNAD",
         "14.0"
        ],
        [
         "3",
         "1",
         "2",
         "2",
         "2",
         "1 (satu) buah plastik klip bening yang berisi kristal bening yang diduga NarkotikaGolongan I bukan tanaman jenis shabu dengan berat 0,26 (nol koma dua enam) gram bruto atau 0,20 (nol koma dua puluh) gram netto selanjutnya disisihkan seberat 0,02 (nol koma nol dua) gram netto untuk uji labforensik sehingga sisa barang bukti 0,18 (nol koma delapan belas) gram netto 1 (satu) buah micro tube 1 (satu) buah handphone merk REDMI type 10 C warna Hitam berikut dengan 1 (satu) buah simcard 1 (satu) buah Tas selempang merk ALOIPFAX warna hitam Dimusnahkan 1 (satu) unit sepeda motor merk Yamaha Type Jupiter MX warna Hitam DK-6181-LF berikut kunci kontak Dikembalikan kepada yang berhak melalui Terdakwa 6. Membebankan kepada Terdakwa membayar biaya perkara sejumlah Rp5.000,00 (lima ribu rupiah)",
         "Dakwaan Pertama: Pada 14 April 2024, sekitar pukul 16.35 WITA, terdakwa secara tanpa hak atau melawan hukum memiliki, menyimpan, menguasai, atau menyediakan narkotika golongan I bukan tanaman jenis sabu. Perbuatan ini dilakukan setelah terdakwa berkenalan dengan seseorang bernama Kadek (DPO) di Facebook dan melanjutkan percakapan via WhatsApp, yang mengarah pada kesepakatan menggunakan sabu bersama. Terdakwa kemudian menghubungi Mang Donal (DPO) untuk mendapatkan sabu pada 12 April 2024 dan mengambil barang tersebut di Klungkung pada 14 April 2024, sebelum berangkat ke Bangli menggunakan sepeda motor.  Pada saat menghubungi Kadek di Jl. Brigjen Ngurah Rai, Bangli, sekitar pukul 16.35 WITA, terdakwa diamankan oleh tim Opsnal Satresnarkoba Polres Bangli. Saat digeledah, ditemukan barang bukti berupa 0,20 gram sabu yang dibungkus dalam tabung micro tube, disimpan dalam tas selempang, serta barang bukti lain seperti handphone dan sepeda motor. Berdasarkan hasil laboratorium, kristal yang ditemukan mengandung Metamfetamina, yang termasuk dalam narkotika golongan I.  Tindakannya diatur dan diancam pidana dalam Pasal 112 ayat (1) UU No. 35 Tahun 2009 tentang Narkotika.  Dakwaan Kedua: Terdakwa juga didakwa atas penyalahgunaan narkotika untuk konsumsi pribadi pada 11 April 2024, dengan cara menggunakan sabu secara pribadi di garasi mobil rumahnya. Terdakwa menyiapkan alat bong dan menghisap sabu hingga habis. Penggunaan sabu tersebut terjadi dalam kondisi rumah yang sedang sepi dan setelah membeli teh kotak. Tindakannya diatur dan diancam pidana dalam Pasal 127 ayat (1) huruf a UU No. 35 Tahun 2009 tentang Narkotika.",
         "['Pasal 112 Ayat (1) UU No. 35 Tahun 2009 tentang Narkotika', 'Pasal 127 ayat (1) huruf a UU No. 35 Tahun 2009 tentang Narkotika']",
         "I GEDE ARIADI alias BERNAD",
         "14.0"
        ],
        [
         "4",
         "0",
         "3",
         "2",
         "4",
         "1 (satu) unit sepeda motor merk Honda Scoopy warna merah hitam DK 6384 PQ, NOKA MH1JM311XHK071492, NOSIN JM31E-1076227 beserta kunci kontak 1 (satu) lembar STNK sepeda motor merk Honda Scoopy warna merah hitam DK 6384 PQ, NOKA MH1JM311XHK071492, NOSIN JM31E-1076227 nama pemilik an. NI WAYAN SRIMERTANADI Dikembalikan kepada korban Ni Wayan Srimertanadi 1 (satu) buah helm merk Maxi Yamaha warna hitam 1 (satu) buah jaket jeans warna biru langit  Dirampas untuk dimusnahkan 6. Membebankan kepada Terdakwa membayar biaya perkara sejumlah Rp. 5.000,00 (lima ribu rupiah)",
         "Pada 26 Maret 2024 pukul 17.10 WITA di pinggir Jalan Raya Kintamani, Terdakwa mencuri sepeda motor Honda Scoopy DK 6384 PQ yang terparkir dengan kunci masih menempel. Sehari sebelumnya, Terdakwa berangkat dari Panarukan, Singaraja, menuju Terminal Ubung Denpasar dengan menumpang truk, berniat mencuri motor. Setelah menginap di terminal, keesokan harinya sekitar pukul 11.30 WITA, Terdakwa menghubungi WAHYU EKA JAYA (DPO) yang kemudian menjemputnya dengan Yamaha Vixion hitam dan mengajaknya ke Kintamani. Sekitar pukul 17.10 WITA, saat melintas di Jalan Raya Kintamani, mereka melihat sepeda motor korban terparkir dengan kunci masih terpasang. WAHYU EKA JAYA (DPO) lalu meninggalkan Terdakwa, yang kemudian mendorong motor sejauh 10 meter sebelum menyalakan mesinnya dan melarikan diri menuju Denpasar melalui Payangan Gianyar. Sesampainya di Ubud, Terdakwa dihentikan oleh I GEDE DIPTA WIRAMA DARMA, yang mengaku sebagai petugas Polsek Kintamani dan meminta STNK, namun Terdakwa tidak dapat menunjukkannya. Ia kemudian diamankan bersama barang bukti ke Polsek Kintamani. Akibat perbuatannya, korban NI WAYAN SRIMERTANADI mengalami kerugian sekitar Rp 20.000.000,-. Perbuatan Terdakwa melanggar Pasal 362 KUHP.",
         "['Pasal 362 KUHP']",
         "R. Sabirin",
         "14.0"
        ],
        [
         "5",
         "1",
         "3",
         "2",
         "4",
         "1 (satu) plastik klip bening yang berisi shabu seberat 0,17 (nol koma tujuh belas) gram netto 1 (satu) buah plastik klip kosong 2 (dua) potong pipet plastik warna bening 2 (dua) buah pipa kaca 2 (dua) potong pipet plastik warna putih 1 (satu) buah bekas botol merk Yakult 1 (satu) buah tutup botol bekas yang dimodifikasi 1 (satu) buah plastik warna hitam putih 1 (satu) buah Tas Gendong merk Exsport warna merah maroon 1 (satu) buah handphone merk Iphone 6S warna Gold berikut dengan 1 (satu) buah simcard Dimusnahkan 1 (satu) unit sepeda motor merk Honda PCX warna biru dengan No. Pol DK 2905 ADZ berikut kunci kontak 1 (satu) lembar STNK sepeda motor merk Honda PCX warna biru dengan No. Pol DK 2905 ADZ a.n pemilik Anita Dewi Rahmawati, S.I. KOM Dikembalikan kepada Anita Dewi Rahmawati  6. Membebankan kepada Terdakwa membayar biaya perkara sejumlah Rp5.000,00 (lima ribu rupiah)",
         "Dakwaan Pertama: Pada 17 Maret 2024, sekitar pukul 18.10 WITA, terdakwa Novani Ari Hifni alias Ari secara tanpa hak atau melawan hukum memiliki, menyimpan, menguasai, atau menyediakan narkotika golongan I jenis shabu. Perbuatan ini diawali dengan percakapan di Facebook dengan temannya Wewe (DPO) yang menghubungkannya dengan Rizal (DPO) untuk membeli shabu. Pada 16 Maret 2024, terdakwa menghubungi Rizal melalui WhatsApp untuk memesan shabu, kemudian berangkat ke Bangli pada 17 Maret 2024. Setelah menerima lokasi pengambilan sabu melalui Google Maps, terdakwa bersama temannya, K. M. Sahrijal Jabar, mencari dan mengambil shabu yang disembunyikan di pinggir jalan. Terdakwa ditangkap oleh tim Opsnal Satresnarkoba Polres Bangli dan ditemukan barang bukti berupa plastik klip berisi shabu seberat 0,17 gram netto. Berdasarkan hasil pemeriksaan laboratorium, barang bukti tersebut mengandung Metamfetamina, yang termasuk dalam narkotika golongan I.  Tindakannya diatur dan diancam pidana dalam Pasal 112 ayat (1) UU No. 35 Tahun 2009 tentang Narkotika. Dakwaan Kedua: Pada 7 Maret 2024, sekitar pukul 22.00 WITA, terdakwa diduga menggunakan narkotika jenis shabu secara pribadi di rumahnya di Denpasar Selatan. Terdakwa merakit alat bong dari botol mineral dan menghisap shabu sebanyak 16 kali dalam satu sesi. Penggunaan sabu ini dilakukan dalam keadaan rumah yang sedang sepi dan tanpa ada kebutuhan medis. Tindakannya diatur dan diancam pidana dalam Pasal 127 ayat (1) huruf a UU No. 35 Tahun 2009 tentang Narkotika.",
         "['Pasal 112 Ayat (1) UU No. 35 Tahun 2009 tentang Narkotika', 'Pasal 127 ayat (1) huruf a UU No. 35 Tahun 2009 tentang Narkotika']",
         "NOVANI ARI HIFNI Alias ARI",
         "24.0"
        ],
        [
         "6",
         "1",
         "4",
         "2",
         "4",
         "1 (satu) plastik klip bening yang berisi shabu seberat 0,17 (nol koma tujuh belas) gram netto 1 (satu) buah plastik klip kosong 2 (dua) potong pipet plastik warna bening 2 (dua) buah pipa kaca 2 (dua) potong pipet plastik warna putih 1 (satu) buah bekas botol merk Yakult 1 (satu) buah tutup botol bekas yang dimodifikasi 1 (satu) buah plastik warna hitam putih 1 (satu) buah Tas Gendong merk Exsport warna merah maroon 1 (satu) buah handphone merk Iphone 6S warna Gold berikut dengan 1 (satu) buah simcard Dimusnahkan 1 (satu) unit sepeda motor merk Honda PCX warna biru dengan No. Pol DK 2905 ADZ berikut kunci kontak 1 (satu) lembar STNK sepeda motor merk Honda PCX warna biru dengan No. Pol DK 2905 ADZ a.n pemilik Anita Dewi Rahmawati, S.I. KOM Dikembalikan kepada Anita Dewi Rahmawati  6. Membebankan kepada Terdakwa membayar biaya perkara sejumlah Rp5.000,00 (lima ribu rupiah)",
         "Dakwaan Pertama: Pada 17 Maret 2024, sekitar pukul 18.10 WITA, terdakwa Novani Ari Hifni alias Ari secara tanpa hak atau melawan hukum memiliki, menyimpan, menguasai, atau menyediakan narkotika golongan I jenis shabu. Perbuatan ini diawali dengan percakapan di Facebook dengan temannya Wewe (DPO) yang menghubungkannya dengan Rizal (DPO) untuk membeli shabu. Pada 16 Maret 2024, terdakwa menghubungi Rizal melalui WhatsApp untuk memesan shabu, kemudian berangkat ke Bangli pada 17 Maret 2024. Setelah menerima lokasi pengambilan sabu melalui Google Maps, terdakwa bersama temannya, K. M. Sahrijal Jabar, mencari dan mengambil shabu yang disembunyikan di pinggir jalan. Terdakwa ditangkap oleh tim Opsnal Satresnarkoba Polres Bangli dan ditemukan barang bukti berupa plastik klip berisi shabu seberat 0,17 gram netto. Berdasarkan hasil pemeriksaan laboratorium, barang bukti tersebut mengandung Metamfetamina, yang termasuk dalam narkotika golongan I.  Tindakannya diatur dan diancam pidana dalam Pasal 112 ayat (1) UU No. 35 Tahun 2009 tentang Narkotika. Dakwaan Kedua: Pada 7 Maret 2024, sekitar pukul 22.00 WITA, terdakwa diduga menggunakan narkotika jenis shabu secara pribadi di rumahnya di Denpasar Selatan. Terdakwa merakit alat bong dari botol mineral dan menghisap shabu sebanyak 16 kali dalam satu sesi. Penggunaan sabu ini dilakukan dalam keadaan rumah yang sedang sepi dan tanpa ada kebutuhan medis. Tindakannya diatur dan diancam pidana dalam Pasal 127 ayat (1) huruf a UU No. 35 Tahun 2009 tentang Narkotika.",
         "['Pasal 112 Ayat (1) UU No. 35 Tahun 2009 tentang Narkotika', 'Pasal 127 ayat (1) huruf a UU No. 35 Tahun 2009 tentang Narkotika']",
         "NOVANI ARI HIFNI Alias ARI",
         "24.0"
        ],
        [
         "7",
         "1",
         "5",
         "2",
         "4",
         "1 (satu) buah plastik klip bening yang berisi kristal bening diduga narkotika golongan I bukan tanaman jenis sabu dengan berat 0,14 (nol koma empat belas) gram bruto atau 0,08 (nol koma nol delapan) gram netto selanjutnya disisihkan seberat 0,02 (nol koma nol dua) gram netto untuk uji labforensik sehingga sisa barang bukti 0,06 (nol koma nol enam) gram netto 1 (satu) buah pipa kaca 1 (satu) lembar tissue warna putih 1 (satu) buah korek api gas yang sudah dimodif 1 (satu) buah handphone merek Redmi tipe 7A warna hitam beserta 2 (dua) buah sim card 1 (satu) buah tas pinggang merek Fashion warna hitam Dimusnahkan 1 (satu) unit mobil pick up merek Suzuki warna hitam dengan No. Pol. DK 8445 BQ berikut kunci kontak 1 (satu) lembar STNK mobil pick up merek Suzuki warna hitam dengan No. Pol. DK 8445 BQ a.n. PT Wira Mitra Utama Dikembalikan kepada PT Wira Mitra Utama melalui Terdakwa 6. Membebankan kepada Terdakwa membayar biaya perkara sejumlah Rp5.000,00 (lima ribu rupiah)",
         "Pada Selasa, 9 Januari 2024, sekitar pukul 17.30 WITA, terdakwa Mulyadi alias Mul tanpa hak atau melawan hukum menawarkan, menjual, membeli, menerima, menjadi perantara dalam jual beli, menukar, atau menyerahkan narkotika golongan I jenis sabu. Perbuatan tersebut bermula ketika terdakwa dihubungi oleh temannya, KADEK (DPO), pada pukul 08.00 WITA, yang meminta terdakwa untuk mengantarkan narkotika jenis sabu ke Bangli. Terdakwa kemudian menyanggupi permintaan tersebut dan berangkat ke Lapangan Lumintang, Denpasar, untuk bertemu dengan teman KADEK (DPO) dan menerima narkotika tersebut dalam sebuah amplop putih.  Setelah menerima narkotika jenis sabu, terdakwa sempat mencicipinya, kemudian menyimpannya di dalam amplop dan diletakkan di laci dashboard mobil yang digunakan. Terdakwa kemudian melanjutkan perjalanan ke Bangli, dan setibanya di lokasi yang dituju, yaitu di Jalan Bima, Kelurahan Cempaga, terdakwa dihadang dan diamankan oleh anggota Polres Bangli bersama beberapa saksi.  Saat dilakukan penggeledahan, ditemukan barang bukti berupa plastic klip berisi sabu, pipa kaca, korek api gas yang telah dimodifikasi, handphone, serta barang-barang lainnya yang berkaitan dengan narkotika. Terdakwa tidak memiliki izin untuk melakukan pengadaan, penyimpanan, atau penyaluran narkotika dari Kementerian Kesehatan RI.  Berdasarkan hasil pemeriksaan laboratorium, barang bukti sabu mengandung Metamfetamina, yang merupakan narkotika golongan I sesuai dengan Undang-Undang No. 35 Tahun 2009 tentang Narkotika. Tindakannya diatur dan diancam pidana dalam Pasal 114 ayat (1) UU No. 35 Tahun 2009 tentang Narkotika atau Pasal 112 ayat (1) UU No. 35 Tahun 2009 tentang Narkotika.",
         "['Pasal 114 Ayat (1) UU No. 35 Tahun 2009 tentang Narkotika', 'Pasal 112 Ayat (1) UU No. 35 Tahun 2009 tentang Narkotika']",
         "MULYADI alias MUL",
         "48.0"
        ],
        [
         "8",
         "0",
         "3",
         "3",
         "4",
         "1. 3 (tiga) buah bahan dasar kain (Baju Kaos) masing-masing  - 1 (buah) baju kaos merk U-Right warna abu-abu, - 1 (satu) buah baju kaos merk U-Right warna hitam, - 1 (satu) buah baju kaos merk Newbalance warna hitam 2. 2 (dua) buah case masing-masing  - 1 (satu) buah case warna hitam dan, - 1 (satu) buah case warna putih bening, 3. 1 (satu) pasang kaos kaki merk Nike warna hitam, 4. 1 (satu) pasang sandal merk Havaianas warna hitam tulisan putih, 5. 1 (satu) buah tas kain Merk HUNGRYCO warna Hitam. 6. 2 (dua) buah Dompet masing-masing  - 1 (satu) buah Dompet kulit merk MONT BLACN warna coklat dan, - 1 (satu) buah dompet kain warna coklat dengan resleting bertulisan LONGCHAMP 7. 1 (satu) buah kotak Handphone, 8. 1 (satu) buah Handphone merk IPHONE 11 Pro warna gold, 9. Uang tunai sebesar Rp. 5.778.000,- (lima juta tujuh ratus tujuh puluh delapan ribu rupiah). Dikembalikan kepada Saksi Ni Nengah Ngariasih 1. 1 (satu) Buah kunci kontak sepeda motor, 2. 1 (satu) Unit kendaraan bermotor, DK 2006 AEC, NOKA MH3SEJ710PJ162733, NOSIN E33WE0184543, TH 2023, warna Hitam, 3. 1 (satu) lembar Surat Berharga STNK, DK 2006 AEC, NOKA MH3SEJ710PJ162733, NOSIN E33WE0184543, TH 2023, warna hitam, an. RURY HERAWATI , alamat GG. Kaliasem NO. 2B, Sesetan, Denpasar Dikembalikan kepada Terdakwa 6. Membebankan kepada Terdakwa membayar biaya perkara sejumlah Rp5.000,00 (lima ribu rupiah)",
         "Terdakwa RURY HERAWATI pada 20 November 2023 sekitar pukul 15.15 WITA di Toko ARI KEBAYA, Jalan Nusantara, Kelurahan Cempaga, Kecamatan Bangli, Kabupaten Bangli, melakukan tindak pidana pencurian dengan mengambil barang milik orang lain tanpa izin untuk dimiliki secara melawan hukum. Terdakwa berangkat dari kosnya di Denpasar menuju Bangli dengan niat mencuri tanpa target tempat tertentu. Setelah mengamati situasi, Terdakwa masuk ke Toko ARI KEBAYA, berpura-pura berbelanja dengan membeli dua selendang dan meminta penjaga toko, NI NENGAH NGARIASIH, untuk mencari sandal, sehingga membuatnya membelakangi meja kasir. Saat itulah Terdakwa mengambil satu tas kain merk HUNGRYCO warna hitam dari lemari plastik yang tidak terkunci, yang berisi dompet kulit merk MONT BLANC warna coklat dan dompet kain warna coklat dengan resleting bertulisan LONGCHAMP, berisi uang tunai Rp16.500.000. Setelah berpura-pura hendak mengambil uang di ATM, Terdakwa meninggalkan toko dan membawa barang curian ke kosnya. Uang hasil pencurian digunakan untuk membeli iPhone 11 Pro seharga Rp7.000.000, membayar DP emas Rp1.000.000, serta kebutuhan sehari-hari, dengan sisa uang Rp5.778.000. Berdasarkan laporan polisi LP/B/31/XI/2023/SPKT/POLRES BANGLI/POLDA BALI tanggal 25 November 2023, pihak kepolisian melakukan penyelidikan hingga mengamankan Terdakwa beserta barang bukti di Polres Bangli. Perbuatan Terdakwa menyebabkan saksi NI NENGAH NGARIASIH mengalami kerugian Rp16.500.000 dan diancam pidana dalam Pasal 362 KUHP.",
         "['Pasal 362 KUHP']",
         "RURY HERAWATI",
         "16.0"
        ],
        [
         "9",
         "2",
         "6",
         "2",
         "8",
         "- 45 (empat puluh lima) lembar nota penjualan PT. PUTRA DEWATA SEJATI cabang/admin Klungkung - 5 (lima) lembar nota penjualan PT. PUTRA DEWATA SEJATI cabang/admin Bangli - 2 (dua) lembar data piutang titipan UD. SARI MERTA - 2 (dua) lembar foto copy surat kesepakatan antara pihak PT PUTRA DEWATA SEJATI yang diwakili oleh ANGGUN BAYU WIKANTO dengan pihak usaha toko/UD. Sari Merta yang diwakili oleh I WAYAN AGUS KERTAYASA dan NI MADE REDIANI Nomor 001/SP//PDS-BALI/III/2019, tanggal 18 Maret 2019 - 2 (dua) lembar surat kesepakatan antara pihak PT. PUTRA DEWATA SEJATI yang diwakili oleh ANGGUN BAYU WIKANTO dengan pihak usaha toko/UD. Sari Merta yang diwakili oleh I NENGAH PERIYASA dan NI KOMANG WARSIKI Nomor 002/SP//PDS-BALI/IV/2019, tanggal 06 April 2019 - 1 (satu) lembar surat pernyataan yang dibuat oleh I KETUT SUPUTRA tanggal 24 Nopember 2022 Dikembalikan kepada PT. Putra Dewata Sejati melalui Saksi I Putu Pasek Ariana 6. Membebankan kepada Para Terdakwa membayar biaya perkara masing masing sejumlah Rp 5.000,00 (lima ribu rupiah)",
         "Tentu, berikut ringkasan dakwaan terhadap I Ketut Suputra dan Ni Komang Warsiki dalam format paragraf:  Ringkasan Dakwaan I Ketut Suputra dan Ni Komang Warsiki:  I Ketut Suputra dan Ni Komang Warsiki, pasangan suami istri, didakwa atas tindak pidana penggelapan dalam jabatan yang terjadi antara bulan Mei 2019 hingga Oktober 2020 di gudang mereka di Bangli. I Ketut Suputra, melalui UD. Sri Dana, awalnya membeli produk Aqua dari PT. Putra Dewata Sejati secara tunai. Kerjasama berlanjut dengan UD. Sari Merta, di mana PT. Putra Dewata Sejati menitipkan barang untuk dijual kembali. Ni Komang Warsiki, sebagai bagian administrasi, bertugas mencatat penjualan dan melakukan pembayaran ke PT. Putra Dewata Sejati.  Namun, sejak Mei 2019, pembayaran ke PT. Putra Dewata Sejati tidak dilakukan secara penuh. Pada Oktober 2020, pengiriman barang dihentikan karena tidak ada pembayaran. Padahal, semua barang titipan telah terjual. Pasangan terdakwa menggunakan uang hasil penjualan untuk gaji karyawan, biaya operasional, dan kebutuhan sehari-hari tanpa izin PT. Putra Dewata Sejati. Akibatnya, PT. Putra Dewata Sejati mengalami kerugian sekitar Rp 413.883.979.  Atas perbuatan mereka, I Ketut Suputra dan Ni Komang Warsiki didakwa dengan Pasal 372 KUHP jo. Pasal 55 ayat (1) ke-1 KUHP jo. Pasal 64 ayat (1) KUHP tentang penggelapan dalam jabatan yang dilakukan secara bersama-sama dan berlanjut.",
         "['Pasal 372 KUHP jo. Pasal 55 Ayat (1) Ke-1 KUHP jo. Pasal 64 Ayat (1) KUHP']",
         "I KETUT SUPUTRA",
         "18.0"
        ],
        [
         "10",
         "2",
         "4",
         "2",
         "8",
         "- 45 (empat puluh lima) lembar nota penjualan PT. PUTRA DEWATA SEJATI cabang/admin Klungkung - 5 (lima) lembar nota penjualan PT. PUTRA DEWATA SEJATI cabang/admin Bangli - 2 (dua) lembar data piutang titipan UD. SARI MERTA - 2 (dua) lembar foto copy surat kesepakatan antara pihak PT PUTRA DEWATA SEJATI yang diwakili oleh ANGGUN BAYU WIKANTO dengan pihak usaha toko/UD. Sari Merta yang diwakili oleh I WAYAN AGUS KERTAYASA dan NI MADE REDIANI Nomor 001/SP//PDS-BALI/III/2019, tanggal 18 Maret 2019 - 2 (dua) lembar surat kesepakatan antara pihak PT. PUTRA DEWATA SEJATI yang diwakili oleh ANGGUN BAYU WIKANTO dengan pihak usaha toko/UD. Sari Merta yang diwakili oleh I NENGAH PERIYASA dan NI KOMANG WARSIKI Nomor 002/SP//PDS-BALI/IV/2019, tanggal 06 April 2019 - 1 (satu) lembar surat pernyataan yang dibuat oleh I KETUT SUPUTRA tanggal 24 Nopember 2022 Dikembalikan kepada PT. Putra Dewata Sejati melalui Saksi I Putu Pasek Ariana 6. Membebankan kepada Para Terdakwa membayar biaya perkara masing masing sejumlah Rp 5.000,00 (lima ribu rupiah)",
         "Tentu, berikut ringkasan dakwaan terhadap I Ketut Suputra dan Ni Komang Warsiki dalam format paragraf:  Ringkasan Dakwaan I Ketut Suputra dan Ni Komang Warsiki:  I Ketut Suputra dan Ni Komang Warsiki, pasangan suami istri, didakwa atas tindak pidana penggelapan dalam jabatan yang terjadi antara bulan Mei 2019 hingga Oktober 2020 di gudang mereka di Bangli. I Ketut Suputra, melalui UD. Sri Dana, awalnya membeli produk Aqua dari PT. Putra Dewata Sejati secara tunai. Kerjasama berlanjut dengan UD. Sari Merta, di mana PT. Putra Dewata Sejati menitipkan barang untuk dijual kembali. Ni Komang Warsiki, sebagai bagian administrasi, bertugas mencatat penjualan dan melakukan pembayaran ke PT. Putra Dewata Sejati.  Namun, sejak Mei 2019, pembayaran ke PT. Putra Dewata Sejati tidak dilakukan secara penuh. Pada Oktober 2020, pengiriman barang dihentikan karena tidak ada pembayaran. Padahal, semua barang titipan telah terjual. Pasangan terdakwa menggunakan uang hasil penjualan untuk gaji karyawan, biaya operasional, dan kebutuhan sehari-hari tanpa izin PT. Putra Dewata Sejati. Akibatnya, PT. Putra Dewata Sejati mengalami kerugian sekitar Rp 413.883.979.  Atas perbuatan mereka, I Ketut Suputra dan Ni Komang Warsiki didakwa dengan Pasal 372 KUHP jo. Pasal 55 ayat (1) ke-1 KUHP jo. Pasal 64 ayat (1) KUHP tentang penggelapan dalam jabatan yang dilakukan secara bersama-sama dan berlanjut.",
         "['Pasal 372 KUHP jo. Pasal 55 Ayat (1) Ke-1 KUHP jo. Pasal 64 Ayat (1) KUHP']",
         "I KETUT SUPUTRA",
         "18.0"
        ],
        [
         "11",
         "2",
         "6",
         "2",
         "8",
         "- 45 (empat puluh lima) lembar nota penjualan PT. PUTRA DEWATA SEJATI cabang/admin Klungkung - 5 (lima) lembar nota penjualan PT. PUTRA DEWATA SEJATI cabang/admin Bangli - 2 (dua) lembar data piutang titipan UD. SARI MERTA - 2 (dua) lembar foto copy surat kesepakatan antara pihak PT PUTRA DEWATA SEJATI yang diwakili oleh ANGGUN BAYU WIKANTO dengan pihak usaha toko/UD. Sari Merta yang diwakili oleh I WAYAN AGUS KERTAYASA dan NI MADE REDIANI Nomor 001/SP//PDS-BALI/III/2019, tanggal 18 Maret 2019 - 2 (dua) lembar surat kesepakatan antara pihak PT. PUTRA DEWATA SEJATI yang diwakili oleh ANGGUN BAYU WIKANTO dengan pihak usaha toko/UD. Sari Merta yang diwakili oleh I NENGAH PERIYASA dan NI KOMANG WARSIKI Nomor 002/SP//PDS-BALI/IV/2019, tanggal 06 April 2019 - 1 (satu) lembar surat pernyataan yang dibuat oleh I KETUT SUPUTRA tanggal 24 Nopember 2022 Dikembalikan kepada PT. Putra Dewata Sejati melalui Saksi I Putu Pasek Ariana 6. Membebankan kepada Para Terdakwa membayar biaya perkara masing masing sejumlah Rp 5.000,00 (lima ribu rupiah)",
         "Tentu, berikut ringkasan dakwaan terhadap I Ketut Suputra dan Ni Komang Warsiki dalam format paragraf:  Ringkasan Dakwaan I Ketut Suputra dan Ni Komang Warsiki:  I Ketut Suputra dan Ni Komang Warsiki, pasangan suami istri, didakwa atas tindak pidana penggelapan dalam jabatan yang terjadi antara bulan Mei 2019 hingga Oktober 2020 di gudang mereka di Bangli. I Ketut Suputra, melalui UD. Sri Dana, awalnya membeli produk Aqua dari PT. Putra Dewata Sejati secara tunai. Kerjasama berlanjut dengan UD. Sari Merta, di mana PT. Putra Dewata Sejati menitipkan barang untuk dijual kembali. Ni Komang Warsiki, sebagai bagian administrasi, bertugas mencatat penjualan dan melakukan pembayaran ke PT. Putra Dewata Sejati.  Namun, sejak Mei 2019, pembayaran ke PT. Putra Dewata Sejati tidak dilakukan secara penuh. Pada Oktober 2020, pengiriman barang dihentikan karena tidak ada pembayaran. Padahal, semua barang titipan telah terjual. Pasangan terdakwa menggunakan uang hasil penjualan untuk gaji karyawan, biaya operasional, dan kebutuhan sehari-hari tanpa izin PT. Putra Dewata Sejati. Akibatnya, PT. Putra Dewata Sejati mengalami kerugian sekitar Rp 413.883.979.  Atas perbuatan mereka, I Ketut Suputra dan Ni Komang Warsiki didakwa dengan Pasal 372 KUHP jo. Pasal 55 ayat (1) ke-1 KUHP jo. Pasal 64 ayat (1) KUHP tentang penggelapan dalam jabatan yang dilakukan secara bersama-sama dan berlanjut.",
         "['Pasal 372 KUHP jo. Pasal 55 Ayat (1) Ke-1 KUHP jo. Pasal 64 Ayat (1) KUHP']",
         "NI KOMANG WARSIKI",
         "10.0"
        ],
        [
         "12",
         "2",
         "4",
         "2",
         "8",
         "- 45 (empat puluh lima) lembar nota penjualan PT. PUTRA DEWATA SEJATI cabang/admin Klungkung - 5 (lima) lembar nota penjualan PT. PUTRA DEWATA SEJATI cabang/admin Bangli - 2 (dua) lembar data piutang titipan UD. SARI MERTA - 2 (dua) lembar foto copy surat kesepakatan antara pihak PT PUTRA DEWATA SEJATI yang diwakili oleh ANGGUN BAYU WIKANTO dengan pihak usaha toko/UD. Sari Merta yang diwakili oleh I WAYAN AGUS KERTAYASA dan NI MADE REDIANI Nomor 001/SP//PDS-BALI/III/2019, tanggal 18 Maret 2019 - 2 (dua) lembar surat kesepakatan antara pihak PT. PUTRA DEWATA SEJATI yang diwakili oleh ANGGUN BAYU WIKANTO dengan pihak usaha toko/UD. Sari Merta yang diwakili oleh I NENGAH PERIYASA dan NI KOMANG WARSIKI Nomor 002/SP//PDS-BALI/IV/2019, tanggal 06 April 2019 - 1 (satu) lembar surat pernyataan yang dibuat oleh I KETUT SUPUTRA tanggal 24 Nopember 2022 Dikembalikan kepada PT. Putra Dewata Sejati melalui Saksi I Putu Pasek Ariana 6. Membebankan kepada Para Terdakwa membayar biaya perkara masing masing sejumlah Rp 5.000,00 (lima ribu rupiah)",
         "Tentu, berikut ringkasan dakwaan terhadap I Ketut Suputra dan Ni Komang Warsiki dalam format paragraf:  Ringkasan Dakwaan I Ketut Suputra dan Ni Komang Warsiki:  I Ketut Suputra dan Ni Komang Warsiki, pasangan suami istri, didakwa atas tindak pidana penggelapan dalam jabatan yang terjadi antara bulan Mei 2019 hingga Oktober 2020 di gudang mereka di Bangli. I Ketut Suputra, melalui UD. Sri Dana, awalnya membeli produk Aqua dari PT. Putra Dewata Sejati secara tunai. Kerjasama berlanjut dengan UD. Sari Merta, di mana PT. Putra Dewata Sejati menitipkan barang untuk dijual kembali. Ni Komang Warsiki, sebagai bagian administrasi, bertugas mencatat penjualan dan melakukan pembayaran ke PT. Putra Dewata Sejati.  Namun, sejak Mei 2019, pembayaran ke PT. Putra Dewata Sejati tidak dilakukan secara penuh. Pada Oktober 2020, pengiriman barang dihentikan karena tidak ada pembayaran. Padahal, semua barang titipan telah terjual. Pasangan terdakwa menggunakan uang hasil penjualan untuk gaji karyawan, biaya operasional, dan kebutuhan sehari-hari tanpa izin PT. Putra Dewata Sejati. Akibatnya, PT. Putra Dewata Sejati mengalami kerugian sekitar Rp 413.883.979.  Atas perbuatan mereka, I Ketut Suputra dan Ni Komang Warsiki didakwa dengan Pasal 372 KUHP jo. Pasal 55 ayat (1) ke-1 KUHP jo. Pasal 64 ayat (1) KUHP tentang penggelapan dalam jabatan yang dilakukan secara bersama-sama dan berlanjut.",
         "['Pasal 372 KUHP jo. Pasal 55 Ayat (1) Ke-1 KUHP jo. Pasal 64 Ayat (1) KUHP']",
         "NI KOMANG WARSIKI",
         "10.0"
        ],
        [
         "13",
         "0",
         "7",
         "0",
         "6",
         "1 (satu) unit sepeda motor merek Yamaha N-Max warna hitam DK 3498 PT beserta kunci kontak 1 (satu) buah STNK sepeda motor merek Yamaha N-Max DK 3498 PT 1 (satu) buah BPKB sepeda motor merek Yamaha N-Max DK 3498 PT Dikembalikan kepada Made Yusa Paramartha 1 (satu) unit sepeda motor merek Yamaha N-Max warna hitam DK 6992 LB beserta kunci kontak 1 (satu) buah STNK sepeda motor merek Yamaha N-Max DK 6992 LB 1 (satu) buah cover under dek bawah kolong sepeda motor merek Yamaha N-Max warna hitam 1 (satu) buah cover paru fender inner sepeda motor merek Yamaha N-Max warna hitam 2 (dua) buah dek sayap body bawah sepeda motor merek Yamaha N-Max warna ungu Dikembalikan kepada I Kadek Indrawan 1 (satu) unit mobil merek Honda Jazz GE8 warna putih DK 1049 WH 1 (satu) buah STNK mobil merek Honda Jazz GE8 DK 1049 WH Dikembalikan kepada Ni Luh Putu Suparwati 1 (satu) unit sepeda motor merek Yamaha N-Max warna hitam DK 6492 ZY beserta kunci kontak 1 (satu) lembar STNK Sepeda Motor Yamaha N-Max DK 4665 TG, Noka MH3SG3190JJ314087, Nosin G3E4E-1103102, nama pemilik a.n. I Ketut Merta Yasa 2 (dua) buah plat sepeda motor palsu warna hitam DK 4665 TG 2 (dua) buah spion sepeda motor merek Yamaha N-Max warna hitam Dikembalikan kepada Penuntut Umum untuk dijadikan barang bukti dalam perkara lain 1 (satu) buah kunci T warna hitam 1 (satu) buah obeng dengan gagang warna hitam 1 (satu) buah kunci ring pas 12 warna putih merek Wipro 1 (satu) buah tang dengan gagang warna merah 1 (satu) set kunci L warna putih merek Allwin 1 (satu) buah mesin bor tanpa kabel warna merah hitam merek Bitec Dimusnahkan Uang tunai Rp1.000.000,00 (satu juta rupiah) Dirampas untuk negara  6. Membebankan kepada Para Terdakwa membayar biaya perkara masing-masing sejumlah Rp5.000,00 (lima ribu rupiah)",
         "Terdakwa I KETUT JONI ADNYANA ADI PUTRA dan Terdakwa II ROSITA EVAYANTI DEWI pada 10 September 2023 pukul 01.00 WITA dan 1 Oktober 2023 pukul 02.00 WITA di parkiran Sukawana Sunrise dan Le Monte Sunrise, Desa Sukawana, Kecamatan Kintamani, Kabupaten Bangli, melakukan pencurian secara bersekutu. Pada 9 September 2023 pukul 21.00 WITA, Terdakwa berangkat dari Jembrana menuju Sukawana Sunrise menggunakan sepeda motor Yamaha NMAX warna hitam DK 6492 ZY milik saksi I KETUT MERTA YASA. Pada 10 September 2023 pukul 01.00 WITA, mereka tiba di parkiran dan melihat sepeda motor Yamaha NMAX hitam DK 3498 PT milik saksi MADE YUSA PARAMARTHA. Terdakwa I masuk ke parkiran, sementara Terdakwa II menunggu di Desa Pinggan. Terdakwa I mengambil sepeda motor yang tidak terkunci stang, mendorongnya sejauh 100 meter, lalu menyambungkan kabel stop kontak untuk menyalakan mesin sebelum membawa sepeda motor tersebut ke Jembrana untuk digunakan sebagai transportasi sehari-hari. Pada 30 September 2023, Terdakwa kembali merencanakan pencurian dan berangkat dari Jembrana menggunakan mobil Honda Jazz putih DK 1049 WH yang disewa dari saksi NI LUH PUTU SUPARWATI. Pada 1 Oktober 2023 pukul 01.00 WITA, mereka tiba di parkiran Le Monte Sunrise dan menunggu di mobil hingga pukul 02.00 WITA. Terdakwa I kemudian mengambil sepeda motor Yamaha NMAX warna abu lembayung ungu DK 6992 LB milik saksi I KADEK INDRAWAN dengan cara mendorongnya keluar dari parkiran, membuka bodi depan, dan menyambungkan kabel stop kontak agar mesin menyala. Sepeda motor tersebut dibawa ke Jembrana dan dijual melalui Facebook Marketplace seharga Rp5.300.000. Akibat perbuatan tersebut, saksi MADE YUSA PARAMARTHA mengalami kerugian Rp25.500.000 dan saksi I KADEK INDRAWAN mengalami kerugian Rp26.700.000. Para Terdakwa diancam pidana berdasarkan Pasal 363 ayat (1) ke-4 KUHP Jo Pasal 65 ayat (1) KUHP.",
         "['Pasal 363 Ayat (1) ke-4 KUHP jo. Pasal 65 ayat (1) KUHP']",
         "I KETUT JONI ADNYANA ADI PUTRA",
         "16.0"
        ],
        [
         "14",
         "0",
         "8",
         "0",
         "6",
         "1 (satu) unit sepeda motor merek Yamaha N-Max warna hitam DK 3498 PT beserta kunci kontak 1 (satu) buah STNK sepeda motor merek Yamaha N-Max DK 3498 PT 1 (satu) buah BPKB sepeda motor merek Yamaha N-Max DK 3498 PT Dikembalikan kepada Made Yusa Paramartha 1 (satu) unit sepeda motor merek Yamaha N-Max warna hitam DK 6992 LB beserta kunci kontak 1 (satu) buah STNK sepeda motor merek Yamaha N-Max DK 6992 LB 1 (satu) buah cover under dek bawah kolong sepeda motor merek Yamaha N-Max warna hitam 1 (satu) buah cover paru fender inner sepeda motor merek Yamaha N-Max warna hitam 2 (dua) buah dek sayap body bawah sepeda motor merek Yamaha N-Max warna ungu Dikembalikan kepada I Kadek Indrawan 1 (satu) unit mobil merek Honda Jazz GE8 warna putih DK 1049 WH 1 (satu) buah STNK mobil merek Honda Jazz GE8 DK 1049 WH Dikembalikan kepada Ni Luh Putu Suparwati 1 (satu) unit sepeda motor merek Yamaha N-Max warna hitam DK 6492 ZY beserta kunci kontak 1 (satu) lembar STNK Sepeda Motor Yamaha N-Max DK 4665 TG, Noka MH3SG3190JJ314087, Nosin G3E4E-1103102, nama pemilik a.n. I Ketut Merta Yasa 2 (dua) buah plat sepeda motor palsu warna hitam DK 4665 TG 2 (dua) buah spion sepeda motor merek Yamaha N-Max warna hitam Dikembalikan kepada Penuntut Umum untuk dijadikan barang bukti dalam perkara lain 1 (satu) buah kunci T warna hitam 1 (satu) buah obeng dengan gagang warna hitam 1 (satu) buah kunci ring pas 12 warna putih merek Wipro 1 (satu) buah tang dengan gagang warna merah 1 (satu) set kunci L warna putih merek Allwin 1 (satu) buah mesin bor tanpa kabel warna merah hitam merek Bitec Dimusnahkan Uang tunai Rp1.000.000,00 (satu juta rupiah) Dirampas untuk negara  6. Membebankan kepada Para Terdakwa membayar biaya perkara masing-masing sejumlah Rp5.000,00 (lima ribu rupiah)",
         "Terdakwa I KETUT JONI ADNYANA ADI PUTRA dan Terdakwa II ROSITA EVAYANTI DEWI pada 10 September 2023 pukul 01.00 WITA dan 1 Oktober 2023 pukul 02.00 WITA di parkiran Sukawana Sunrise dan Le Monte Sunrise, Desa Sukawana, Kecamatan Kintamani, Kabupaten Bangli, melakukan pencurian secara bersekutu. Pada 9 September 2023 pukul 21.00 WITA, Terdakwa berangkat dari Jembrana menuju Sukawana Sunrise menggunakan sepeda motor Yamaha NMAX warna hitam DK 6492 ZY milik saksi I KETUT MERTA YASA. Pada 10 September 2023 pukul 01.00 WITA, mereka tiba di parkiran dan melihat sepeda motor Yamaha NMAX hitam DK 3498 PT milik saksi MADE YUSA PARAMARTHA. Terdakwa I masuk ke parkiran, sementara Terdakwa II menunggu di Desa Pinggan. Terdakwa I mengambil sepeda motor yang tidak terkunci stang, mendorongnya sejauh 100 meter, lalu menyambungkan kabel stop kontak untuk menyalakan mesin sebelum membawa sepeda motor tersebut ke Jembrana untuk digunakan sebagai transportasi sehari-hari. Pada 30 September 2023, Terdakwa kembali merencanakan pencurian dan berangkat dari Jembrana menggunakan mobil Honda Jazz putih DK 1049 WH yang disewa dari saksi NI LUH PUTU SUPARWATI. Pada 1 Oktober 2023 pukul 01.00 WITA, mereka tiba di parkiran Le Monte Sunrise dan menunggu di mobil hingga pukul 02.00 WITA. Terdakwa I kemudian mengambil sepeda motor Yamaha NMAX warna abu lembayung ungu DK 6992 LB milik saksi I KADEK INDRAWAN dengan cara mendorongnya keluar dari parkiran, membuka bodi depan, dan menyambungkan kabel stop kontak agar mesin menyala. Sepeda motor tersebut dibawa ke Jembrana dan dijual melalui Facebook Marketplace seharga Rp5.300.000. Akibat perbuatan tersebut, saksi MADE YUSA PARAMARTHA mengalami kerugian Rp25.500.000 dan saksi I KADEK INDRAWAN mengalami kerugian Rp26.700.000. Para Terdakwa diancam pidana berdasarkan Pasal 363 ayat (1) ke-4 KUHP Jo Pasal 65 ayat (1) KUHP.",
         "['Pasal 363 Ayat (1) ke-4 KUHP jo. Pasal 65 ayat (1) KUHP']",
         "I KETUT JONI ADNYANA ADI PUTRA",
         "16.0"
        ],
        [
         "15",
         "0",
         "7",
         "0",
         "6",
         "1 (satu) unit sepeda motor merek Yamaha N-Max warna hitam DK 3498 PT beserta kunci kontak 1 (satu) buah STNK sepeda motor merek Yamaha N-Max DK 3498 PT 1 (satu) buah BPKB sepeda motor merek Yamaha N-Max DK 3498 PT Dikembalikan kepada Made Yusa Paramartha 1 (satu) unit sepeda motor merek Yamaha N-Max warna hitam DK 6992 LB beserta kunci kontak 1 (satu) buah STNK sepeda motor merek Yamaha N-Max DK 6992 LB 1 (satu) buah cover under dek bawah kolong sepeda motor merek Yamaha N-Max warna hitam 1 (satu) buah cover paru fender inner sepeda motor merek Yamaha N-Max warna hitam 2 (dua) buah dek sayap body bawah sepeda motor merek Yamaha N-Max warna ungu Dikembalikan kepada I Kadek Indrawan 1 (satu) unit mobil merek Honda Jazz GE8 warna putih DK 1049 WH 1 (satu) buah STNK mobil merek Honda Jazz GE8 DK 1049 WH Dikembalikan kepada Ni Luh Putu Suparwati 1 (satu) unit sepeda motor merek Yamaha N-Max warna hitam DK 6492 ZY beserta kunci kontak 1 (satu) lembar STNK Sepeda Motor Yamaha N-Max DK 4665 TG, Noka MH3SG3190JJ314087, Nosin G3E4E-1103102, nama pemilik a.n. I Ketut Merta Yasa 2 (dua) buah plat sepeda motor palsu warna hitam DK 4665 TG 2 (dua) buah spion sepeda motor merek Yamaha N-Max warna hitam Dikembalikan kepada Penuntut Umum untuk dijadikan barang bukti dalam perkara lain 1 (satu) buah kunci T warna hitam 1 (satu) buah obeng dengan gagang warna hitam 1 (satu) buah kunci ring pas 12 warna putih merek Wipro 1 (satu) buah tang dengan gagang warna merah 1 (satu) set kunci L warna putih merek Allwin 1 (satu) buah mesin bor tanpa kabel warna merah hitam merek Bitec Dimusnahkan Uang tunai Rp1.000.000,00 (satu juta rupiah) Dirampas untuk negara  6. Membebankan kepada Para Terdakwa membayar biaya perkara masing-masing sejumlah Rp5.000,00 (lima ribu rupiah)",
         "Terdakwa I KETUT JONI ADNYANA ADI PUTRA dan Terdakwa II ROSITA EVAYANTI DEWI pada 10 September 2023 pukul 01.00 WITA dan 1 Oktober 2023 pukul 02.00 WITA di parkiran Sukawana Sunrise dan Le Monte Sunrise, Desa Sukawana, Kecamatan Kintamani, Kabupaten Bangli, melakukan pencurian secara bersekutu. Pada 9 September 2023 pukul 21.00 WITA, Terdakwa berangkat dari Jembrana menuju Sukawana Sunrise menggunakan sepeda motor Yamaha NMAX warna hitam DK 6492 ZY milik saksi I KETUT MERTA YASA. Pada 10 September 2023 pukul 01.00 WITA, mereka tiba di parkiran dan melihat sepeda motor Yamaha NMAX hitam DK 3498 PT milik saksi MADE YUSA PARAMARTHA. Terdakwa I masuk ke parkiran, sementara Terdakwa II menunggu di Desa Pinggan. Terdakwa I mengambil sepeda motor yang tidak terkunci stang, mendorongnya sejauh 100 meter, lalu menyambungkan kabel stop kontak untuk menyalakan mesin sebelum membawa sepeda motor tersebut ke Jembrana untuk digunakan sebagai transportasi sehari-hari. Pada 30 September 2023, Terdakwa kembali merencanakan pencurian dan berangkat dari Jembrana menggunakan mobil Honda Jazz putih DK 1049 WH yang disewa dari saksi NI LUH PUTU SUPARWATI. Pada 1 Oktober 2023 pukul 01.00 WITA, mereka tiba di parkiran Le Monte Sunrise dan menunggu di mobil hingga pukul 02.00 WITA. Terdakwa I kemudian mengambil sepeda motor Yamaha NMAX warna abu lembayung ungu DK 6992 LB milik saksi I KADEK INDRAWAN dengan cara mendorongnya keluar dari parkiran, membuka bodi depan, dan menyambungkan kabel stop kontak agar mesin menyala. Sepeda motor tersebut dibawa ke Jembrana dan dijual melalui Facebook Marketplace seharga Rp5.300.000. Akibat perbuatan tersebut, saksi MADE YUSA PARAMARTHA mengalami kerugian Rp25.500.000 dan saksi I KADEK INDRAWAN mengalami kerugian Rp26.700.000. Para Terdakwa diancam pidana berdasarkan Pasal 363 ayat (1) ke-4 KUHP Jo Pasal 65 ayat (1) KUHP.",
         "['Pasal 363 Ayat (1) ke-4 KUHP jo. Pasal 65 ayat (1) KUHP']",
         "ROSITA EVAYANTI DEWI",
         "14.0"
        ],
        [
         "16",
         "0",
         "8",
         "0",
         "6",
         "1 (satu) unit sepeda motor merek Yamaha N-Max warna hitam DK 3498 PT beserta kunci kontak 1 (satu) buah STNK sepeda motor merek Yamaha N-Max DK 3498 PT 1 (satu) buah BPKB sepeda motor merek Yamaha N-Max DK 3498 PT Dikembalikan kepada Made Yusa Paramartha 1 (satu) unit sepeda motor merek Yamaha N-Max warna hitam DK 6992 LB beserta kunci kontak 1 (satu) buah STNK sepeda motor merek Yamaha N-Max DK 6992 LB 1 (satu) buah cover under dek bawah kolong sepeda motor merek Yamaha N-Max warna hitam 1 (satu) buah cover paru fender inner sepeda motor merek Yamaha N-Max warna hitam 2 (dua) buah dek sayap body bawah sepeda motor merek Yamaha N-Max warna ungu Dikembalikan kepada I Kadek Indrawan 1 (satu) unit mobil merek Honda Jazz GE8 warna putih DK 1049 WH 1 (satu) buah STNK mobil merek Honda Jazz GE8 DK 1049 WH Dikembalikan kepada Ni Luh Putu Suparwati 1 (satu) unit sepeda motor merek Yamaha N-Max warna hitam DK 6492 ZY beserta kunci kontak 1 (satu) lembar STNK Sepeda Motor Yamaha N-Max DK 4665 TG, Noka MH3SG3190JJ314087, Nosin G3E4E-1103102, nama pemilik a.n. I Ketut Merta Yasa 2 (dua) buah plat sepeda motor palsu warna hitam DK 4665 TG 2 (dua) buah spion sepeda motor merek Yamaha N-Max warna hitam Dikembalikan kepada Penuntut Umum untuk dijadikan barang bukti dalam perkara lain 1 (satu) buah kunci T warna hitam 1 (satu) buah obeng dengan gagang warna hitam 1 (satu) buah kunci ring pas 12 warna putih merek Wipro 1 (satu) buah tang dengan gagang warna merah 1 (satu) set kunci L warna putih merek Allwin 1 (satu) buah mesin bor tanpa kabel warna merah hitam merek Bitec Dimusnahkan Uang tunai Rp1.000.000,00 (satu juta rupiah) Dirampas untuk negara  6. Membebankan kepada Para Terdakwa membayar biaya perkara masing-masing sejumlah Rp5.000,00 (lima ribu rupiah)",
         "Terdakwa I KETUT JONI ADNYANA ADI PUTRA dan Terdakwa II ROSITA EVAYANTI DEWI pada 10 September 2023 pukul 01.00 WITA dan 1 Oktober 2023 pukul 02.00 WITA di parkiran Sukawana Sunrise dan Le Monte Sunrise, Desa Sukawana, Kecamatan Kintamani, Kabupaten Bangli, melakukan pencurian secara bersekutu. Pada 9 September 2023 pukul 21.00 WITA, Terdakwa berangkat dari Jembrana menuju Sukawana Sunrise menggunakan sepeda motor Yamaha NMAX warna hitam DK 6492 ZY milik saksi I KETUT MERTA YASA. Pada 10 September 2023 pukul 01.00 WITA, mereka tiba di parkiran dan melihat sepeda motor Yamaha NMAX hitam DK 3498 PT milik saksi MADE YUSA PARAMARTHA. Terdakwa I masuk ke parkiran, sementara Terdakwa II menunggu di Desa Pinggan. Terdakwa I mengambil sepeda motor yang tidak terkunci stang, mendorongnya sejauh 100 meter, lalu menyambungkan kabel stop kontak untuk menyalakan mesin sebelum membawa sepeda motor tersebut ke Jembrana untuk digunakan sebagai transportasi sehari-hari. Pada 30 September 2023, Terdakwa kembali merencanakan pencurian dan berangkat dari Jembrana menggunakan mobil Honda Jazz putih DK 1049 WH yang disewa dari saksi NI LUH PUTU SUPARWATI. Pada 1 Oktober 2023 pukul 01.00 WITA, mereka tiba di parkiran Le Monte Sunrise dan menunggu di mobil hingga pukul 02.00 WITA. Terdakwa I kemudian mengambil sepeda motor Yamaha NMAX warna abu lembayung ungu DK 6992 LB milik saksi I KADEK INDRAWAN dengan cara mendorongnya keluar dari parkiran, membuka bodi depan, dan menyambungkan kabel stop kontak agar mesin menyala. Sepeda motor tersebut dibawa ke Jembrana dan dijual melalui Facebook Marketplace seharga Rp5.300.000. Akibat perbuatan tersebut, saksi MADE YUSA PARAMARTHA mengalami kerugian Rp25.500.000 dan saksi I KADEK INDRAWAN mengalami kerugian Rp26.700.000. Para Terdakwa diancam pidana berdasarkan Pasal 363 ayat (1) ke-4 KUHP Jo Pasal 65 ayat (1) KUHP.",
         "['Pasal 363 Ayat (1) ke-4 KUHP jo. Pasal 65 ayat (1) KUHP']",
         "ROSITA EVAYANTI DEWI",
         "14.0"
        ],
        [
         "17",
         "0",
         "9",
         "0",
         "4",
         "- Uang tunai sebesar Rp. 10.000.000,00(sepuluh juta rupiah). - 1 (satu) buah kartu ATM BRI, Nomor Kartu 6013012227516306 dikembalikan kepada Saksi Luh Putu Widiantari, S.E - 1 (satu) unit Sepeda Motor Honda Vario 125 warna putih DK 6266 PZ, Noka MH1JMD119PK176948, Nosin JMD1E-1177179 beserta kunci kontak. - 1 (satu) lembar STNK Sepeda Motor Honda Vario 125 DK 6266 PZ, Noka MH1JMD119PK176948, Nosin JMD1E-1177179, Nama pemilik an. I NYOMAN BUDIAWAN Dikembalikan kepada Terdakwa - 1 (satu) unit Mobil Suzuki ST 150 Pick Up warna hitam DK 8958 HD beserta kunci kontak  Dikembalikan kepada Saksi I Wayan Sarjana 6. Membebankan kepada Terdakwa membayar biaya perkara sejumlah Rp5.000,00 (lima ribu rupiah)",
         "Terdakwa I Nyoman Budiawan als. Sumawan pada 25 Oktober 2023 pukul 13.00 WITA di Toko UD. Langsung Jaya, Jalan Raya Kintamani, Desa Kintamani, Kecamatan Kintamani, melakukan pencurian dengan mengambil kartu ATM BRI warna biru nomor 6013 0122 2751 6306 milik saksi Luh Putu Widiantari tanpa izin. Sebelumnya, terdakwa datang ke toko untuk mentransfer uang tetapi diberitahu bahwa mesin BRI Link rusak. Saat pegawai toko meninggalkan tempat, terdakwa kembali masuk dan mengambil kartu ATM yang terletak di atas meja kasir. Setelah itu, terdakwa pulang ke rumah di Br./Ds. Siakin, Kecamatan Kintamani, Kabupaten Bangli, lalu menggunakan sepeda motor Vario 125 DK 6266 PZ menuju ATM BRI Toya Devasya di Desa Batur Tengah. Terdakwa mengetahui PIN ATM karena sering melihat pegawai toko memasukkannya saat melakukan transaksi. Terdakwa melakukan empat kali penarikan tunai masing-masing Rp2.500.000, dengan total Rp10.000.000, kemudian kembali ke rumah. Setelah menerima laporan dari saksi Luh Putu Widiantari pada 29 Oktober 2023, tim Kepolisian Sektor Kintamani melakukan penyelidikan dan menangkap terdakwa di rumahnya pada 28 Oktober 2023. Akibat perbuatan terdakwa, saksi mengalami kerugian sebesar Rp10.000.000. Perbuatan terdakwa diatur dan diancam pidana berdasarkan Pasal 362 KUHP.",
         "['Pasal 362 KUHP']",
         "I NYOMAN BUDIAWAN Als. SUMAWAN",
         "14.0"
        ],
        [
         "18",
         "0",
         "0",
         "0",
         "4",
         "- Uang tunai sebesar Rp. 10.000.000,00(sepuluh juta rupiah). - 1 (satu) buah kartu ATM BRI, Nomor Kartu 6013012227516306 dikembalikan kepada Saksi Luh Putu Widiantari, S.E - 1 (satu) unit Sepeda Motor Honda Vario 125 warna putih DK 6266 PZ, Noka MH1JMD119PK176948, Nosin JMD1E-1177179 beserta kunci kontak. - 1 (satu) lembar STNK Sepeda Motor Honda Vario 125 DK 6266 PZ, Noka MH1JMD119PK176948, Nosin JMD1E-1177179, Nama pemilik an. I NYOMAN BUDIAWAN Dikembalikan kepada Terdakwa - 1 (satu) unit Mobil Suzuki ST 150 Pick Up warna hitam DK 8958 HD beserta kunci kontak  Dikembalikan kepada Saksi I Wayan Sarjana 6. Membebankan kepada Terdakwa membayar biaya perkara sejumlah Rp5.000,00 (lima ribu rupiah)",
         "Terdakwa I Nyoman Budiawan als. Sumawan pada 25 Oktober 2023 pukul 13.00 WITA di Toko UD. Langsung Jaya, Jalan Raya Kintamani, Desa Kintamani, Kecamatan Kintamani, melakukan pencurian dengan mengambil kartu ATM BRI warna biru nomor 6013 0122 2751 6306 milik saksi Luh Putu Widiantari tanpa izin. Sebelumnya, terdakwa datang ke toko untuk mentransfer uang tetapi diberitahu bahwa mesin BRI Link rusak. Saat pegawai toko meninggalkan tempat, terdakwa kembali masuk dan mengambil kartu ATM yang terletak di atas meja kasir. Setelah itu, terdakwa pulang ke rumah di Br./Ds. Siakin, Kecamatan Kintamani, Kabupaten Bangli, lalu menggunakan sepeda motor Vario 125 DK 6266 PZ menuju ATM BRI Toya Devasya di Desa Batur Tengah. Terdakwa mengetahui PIN ATM karena sering melihat pegawai toko memasukkannya saat melakukan transaksi. Terdakwa melakukan empat kali penarikan tunai masing-masing Rp2.500.000, dengan total Rp10.000.000, kemudian kembali ke rumah. Setelah menerima laporan dari saksi Luh Putu Widiantari pada 29 Oktober 2023, tim Kepolisian Sektor Kintamani melakukan penyelidikan dan menangkap terdakwa di rumahnya pada 28 Oktober 2023. Akibat perbuatan terdakwa, saksi mengalami kerugian sebesar Rp10.000.000. Perbuatan terdakwa diatur dan diancam pidana berdasarkan Pasal 362 KUHP.",
         "['Pasal 362 KUHP']",
         "I NYOMAN BUDIAWAN Als. SUMAWAN",
         "14.0"
        ],
        [
         "19",
         "1",
         "10",
         "4",
         "2",
         "1 (satu) plastik klip bening yang berisi sabu dengan berat 0,10 (nol koma sepuluh) gram netto selanjutnya disisihkan seberat 0,02 (nol koma nol dua) gram netto untuk uji labforensik sehingga sisa barang bukti 0,08 (nol koma nol delapan) gram netto 1 (satu) buah gantungan handphone merek Furious warna hitam 1 (satu) lembar stiker Furious wana putih 1 (satu) buah jaket merek Furious warna biru dongker 1 (satu) buah handphone merek Samsung A04 warna biru berikut 1 (satu) buah Simcard XL Axiata dimusnahkan 1 (satu) unit sepeda motor merek Honda Scoopy warna merah dengan No. Pol DK 5548 PT berikut kunci kontak dikembalikan kepada yang berhak melalui Terdakwa 7. Membebankan kepada Terdakwa membayar biaya perkara sejumlah Rp5.000,00 (lima ribu rupiah)",
         "Terdakwa I Komang Rendi Yana (Rendi) pada tanggal 6 Juni 2023, sekitar pukul 16.00 WITA, membeli shabu seharga Rp 200.000,- dari seseorang bernama Gus Ucil. Setelah mengambil barang tersebut di lokasi yang telah disepakati, terdakwa menggunakan shabu tersebut di rumahnya dengan membuat bong dari barang-barang seadanya. Setelah menggunakan shabu, terdakwa menyimpan sisa barang bukti di jaketnya.  Sekitar pukul 19.00 WITA, terdakwa hendak pergi ke lapangan alun-alun Bangli, namun saat melintas di Jalan Tirta Geduh, terdakwa diberhentikan oleh petugas kepolisian. Dalam penggeledahan, petugas menemukan shabu yang disembunyikan di dalam gantungan handphone di saku jaket terdakwa. Polisi juga mengamankan barang bukti berupa handphone dan sepeda motor.  Hasil pemeriksaan laboratorium menunjukkan bahwa kristal yang ditemukan mengandung metamphetamine, yang merupakan narkotika golongan I. Terdakwa mengaku menggunakan shabu untuk mengurangi kesedihan akibat perpisahan dengan istri dan anaknya.  Perbuatan terdakwa diancam pidana sesuai dengan Pasal 112 ayat (1) dan Pasal 127 ayat (1) huruf a UU No. 35 Tahun 2009 tentang Narkotika.",
         "['Pasal 112 Ayat (1) UU No. 35 Tahun 2009 tentang Narkotika', 'Pasal 127 Ayat (1) UU No. 35 Tahun 2009 tentang Narkotika']",
         "I KOMANG RENDI YANA alis RENDI",
         "15.0"
        ],
        [
         "20",
         "1",
         "4",
         "4",
         "2",
         "1 (satu) plastik klip bening yang berisi sabu dengan berat 0,10 (nol koma sepuluh) gram netto selanjutnya disisihkan seberat 0,02 (nol koma nol dua) gram netto untuk uji labforensik sehingga sisa barang bukti 0,08 (nol koma nol delapan) gram netto 1 (satu) buah gantungan handphone merek Furious warna hitam 1 (satu) lembar stiker Furious wana putih 1 (satu) buah jaket merek Furious warna biru dongker 1 (satu) buah handphone merek Samsung A04 warna biru berikut 1 (satu) buah Simcard XL Axiata dimusnahkan 1 (satu) unit sepeda motor merek Honda Scoopy warna merah dengan No. Pol DK 5548 PT berikut kunci kontak dikembalikan kepada yang berhak melalui Terdakwa 7. Membebankan kepada Terdakwa membayar biaya perkara sejumlah Rp5.000,00 (lima ribu rupiah)",
         "Terdakwa I Komang Rendi Yana (Rendi) pada tanggal 6 Juni 2023, sekitar pukul 16.00 WITA, membeli shabu seharga Rp 200.000,- dari seseorang bernama Gus Ucil. Setelah mengambil barang tersebut di lokasi yang telah disepakati, terdakwa menggunakan shabu tersebut di rumahnya dengan membuat bong dari barang-barang seadanya. Setelah menggunakan shabu, terdakwa menyimpan sisa barang bukti di jaketnya.  Sekitar pukul 19.00 WITA, terdakwa hendak pergi ke lapangan alun-alun Bangli, namun saat melintas di Jalan Tirta Geduh, terdakwa diberhentikan oleh petugas kepolisian. Dalam penggeledahan, petugas menemukan shabu yang disembunyikan di dalam gantungan handphone di saku jaket terdakwa. Polisi juga mengamankan barang bukti berupa handphone dan sepeda motor.  Hasil pemeriksaan laboratorium menunjukkan bahwa kristal yang ditemukan mengandung metamphetamine, yang merupakan narkotika golongan I. Terdakwa mengaku menggunakan shabu untuk mengurangi kesedihan akibat perpisahan dengan istri dan anaknya.  Perbuatan terdakwa diancam pidana sesuai dengan Pasal 112 ayat (1) dan Pasal 127 ayat (1) huruf a UU No. 35 Tahun 2009 tentang Narkotika.",
         "['Pasal 112 Ayat (1) UU No. 35 Tahun 2009 tentang Narkotika', 'Pasal 127 Ayat (1) UU No. 35 Tahun 2009 tentang Narkotika']",
         "I KOMANG RENDI YANA alis RENDI",
         "15.0"
        ],
        [
         "21",
         "1",
         "11",
         "0",
         "3",
         "1 (satu) buah plastik klip bening yang berisi serbuk kristal yang diduga Narkotika golongan I bukan tanaman jenis shabu dengan berat 0,18 (nol koma delapan belas) gram bruto atau 0,10 (nol koma sepuluh) gram netto dan disisihkan 0,02 (nol koma nol dua) gram netto untuk uji labforensik sehingga berat Narkotika 0,08 (nol koma delapan) gram netto 1 (satu) buah bungkus rokok merk Dunhill warna putih 1 (satu) buah handphone merk OPPO warna ungu lengkap dengan 2 (dua) buah simcard dan 1 (satu) buah memory card Dimusnahkan 1 (satu) unit sepeda motor merk Honda Vario DK 3171 LK warna hitam 1 (satu) lembar STNK sepeda motor Honda Vario DK 3171 LK warna hitam atas nama pemilik I WAYAN DARSA alamat Br. Lungsiakan, Kedewatan Ubud Gianyar 1 (satu) buah kunci kontak. Dikembalikan kepada yang berhak melalui Terdakwa 7. Membebankan kepada Terdakwa membayar biaya perkara sejumlah Rp5.000,00 (lima ribu rupiah)",
         "Terdakwa I Gusti Lanang Made Wijaya (Lanang) pada tanggal 24 April 2023, sekitar pukul 19.00 WITA, merasa gelisah dan memutuskan untuk menggunakan shabu. Terdakwa menghubungi seseorang bernama Jung Tu (DPO) untuk membeli shabu seharga Rp 700.000,-, yang kemudian diambil oleh terdakwa di lokasi yang ditunjukkan di Desa Semana, Kabupaten Badung. Terdakwa membawa shabu tersebut pulang dan menggunakannya sekitar enam kali sedotan.  Pada pukul 19.30 WITA, terdakwa dihubungi oleh Riena (DPO), yang mengajaknya untuk menggunakan shabu bersama di Bangli. Sebelum berangkat, terdakwa membakar alat bong yang digunakan. Terdakwa kemudian berangkat ke Bangli dan tiba di pinggir Jalan Muhamad Hatta sekitar pukul 22.30 WITA. Saat itu, terdakwa dihentikan oleh petugas kepolisian yang menggeledah dirinya dan menemukan barang bukti berupa plastik klip berisi shabu seberat 0,08 gram netto, sebuah handphone, dan sepeda motor.  Berdasarkan pemeriksaan laboratorium, shabu tersebut terkonfirmasi mengandung metamphetamine, termasuk narkotika golongan I. Terdakwa tidak memiliki izin untuk memiliki, menyimpan, atau menggunakan narkotika tersebut. Perbuatannya melanggar Pasal 112 Ayat (1) dan Pasal 127 Ayat (1) Huruf a UU No. 35 Tahun 2009 tentang Narkotika.",
         "['Pasal 112 Ayat (1) UU No. 35 Tahun 2009 tentang Narkotika', 'Pasal 127 Ayat (1) UU No. 35 Tahun 2009 tentang Narkotika']",
         "I GUSTI LANANG MADE WIJAYA alias LANANG",
         "16.0"
        ],
        [
         "22",
         "1",
         "12",
         "1",
         "5",
         "1 (satu) plastik klip bening yang berisi narkotika golongan I bukan tanaman mengandung sediaan metamfetamina yang terdaftar dalam Narkotika Golongan I Nomor Urut 61 Lampiran I UURI Nomor 35 Tahun 2009 tentang Narkotika dengan berat 0,33 (nol koma tiga puluh tiga) gram bruto atau 0,15 (nol koma lima belas) gram netto selanjutnya disisihkan seberat 0,02 (nol koma nol dua) gram netto untuk uji labforensik sehingga sisa barang bukti 0,13 (nol koma tiga belas) gram netto 1 (satu) potong pipet plastik warna bening 1 (satu) lembar tissue warna putih 1 (satu) buah bungkus snack merek Superco 1 (satu) buah bungkus plastik warna hitam putih 1 (satu) unit handphone merek Samsung Galaxy Type J2 Prime warna hitam berikut 1 (satu) buah sim card IM3 dan 1 (satu) buah memory card Dipergunakan dalam perkara atas nama Sodakoh Maliki alias Dakoh  6. Membebankan kepada Terdakwa membayar biaya perkara sejumlah Rp5.000,00 (lima ribu rupiah)",
         "Dakwaan terhadap terdakwa Selamet Harianto alias Selamet dan Sodakoh Maliki alias Dakoh adalah sebagai berikut:  Pada tanggal 15 Mei 2023, sekitar pukul 20.45 WITA, di Jalan Muhammad Hatta, Kelurahan Bebalang, Kabupaten Bangli, mereka bersama-sama melakukan tindakan tanpa hak atau melawan hukum dengan memiliki, menyimpan, menguasai, atau menyediakan narkotika jenis sabu (Metamfetamina) dengan berat 0,33 gram bruto (0,15 gram netto), yang ditemukan di dalam bungkusan plastik yang dibalut tissue dan disimpan dalam kemasan snack.  Peristiwa ini bermula ketika terdakwa Selamet menghubungi Rizal (DPO) melalui WhatsApp untuk meminta pekerjaan, yang kemudian disetujui. Terdakwa dan Sodakoh berangkat ke Bangli untuk mengambil narkotika yang telah disiapkan oleh Rizal. Tiba di lokasi, mereka mengambil paket sabu yang disembunyikan di bawah tiang listrik. Saat itu, terdakwa merasa jumlah sabu yang diterimanya sedikit.  Setelah itu, mereka berdua kembali ke Denpasar dan dihentikan oleh petugas kepolisian di Jalan Muhammad Hatta, Bebalang, Bangli. Dari penggeledahan, ditemukan narkotika jenis sabu seberat 0,33 gram bruto (0,13 gram netto setelah disisihkan untuk uji lab), serta barang bukti lain berupa handphone, SIM card, dan kartu memori.  Sodakoh juga ditemukan memiliki narkotika jenis sabu seberat 0,10 gram bruto dan peralatan yang digunakan untuk mengonsumsi narkoba. Mereka berdua kemudian diamankan dan dibawa ke Polres Bangli.  Hasil uji forensik membuktikan bahwa sabu yang ditemukan mengandung Metamfetamina, yang termasuk dalam Narkotika Golongan I. Terdakwa Selamet juga diketahui pernah dihukum dalam kasus serupa pada tahun 2019.",
         "['Pasal 112 Ayat (1) UU RI No. 35 Tahun 2009 tentang Narkotika jo. Pasal 55 Ayat (1) Ke-1 KUHP']",
         "SELAMET HARIANTO alias SELAMET",
         "72.0"
        ],
        [
         "23",
         "1",
         "11",
         "4",
         "5",
         "Kode A1 1 (satu) bungkus yang diduga narkotika golongan I jenis tembakau sintetis yang dibungkus plastik merek Violin warna biru dengan berat 18,85 (delapan belas koma delapan puluh lima) gram bruto atau 14,59 (empat belas koma lima puluh sembilan) gram netto dan disisihkan 1 (satu) gram netto untuk uji labforensik sehingga berat narkotika 13,59 (tiga belas koma lima puluh sembilan) gram netto Kode A2 1 (satu) bungkus yang diduga narkotika golongan I jenis tembakau sintetis yang dibungkus plastik merek Rhino warna merah dengan berat 43,41 (empat puluh tiga koma empat puluh satu) gram bruto atau 39,41 (tiga puluh sembilan koma empat puluh satu) gram netto dan disisihkan 1 (satu) gram netto untuk uji labforensik sehingga berat narkotika 38,41 (tiga puluh delapan koma empat puluh satu) gram netto 1 (satu) buah kardus mie instan merek Indomie 1 (satu) buah plastik bubble wrap yang tertempel resi JT Express No JND/BNL001 GIA-BNL01 JD0229994349 4 (empat) buah kertas papir merek Radja Mas  Dimusnahkan  4. Membebankan kepada Terdakwa membayar biaya perkara sejumlah Rp5.000,00 (lima ribu rupiah)",
         "Pada hari Selasa, 14 Maret 2023, sekitar pukul 12.00 WITA, Terdakwa Raihan Rahadi Azhar alias Raihan, yang tengah berada di dalam kamar tahanan Blok B Rutan Kelas IIB Bangli, Desa Bebalang, Kecamatan Bangli, Kabupaten Bangli, menerima kunjungan dari seorang pria bernama Gunggus Togar Manatar Pangaribuan, alias Togar. Togar datang untuk meminjam nama Raihan dalam sebuah transaksi yang berkaitan dengan pengiriman barang. Togar meminta izin untuk menggunakan nama Raihan agar bisa menerima paket tembakau sintetis yang dikirim melalui layanan pengiriman J&T Express. Togar meyakinkan Raihan bahwa semuanya akan aman, meskipun Raihan sempat bertanya dengan khawatir, \"Aman nggak?\". Togar menjawab dengan percaya diri, \"Aman.\"  Setelah mendengar penjelasan tersebut, Raihan pun akhirnya menyetujui permintaan Togar dan memberikan nama dirinya untuk digunakan dalam penerimaan paket tersebut, meskipun ia tidak tahu persis dari mana asal tembakau sintetis itu. Dua hari kemudian, pada Kamis, 16 Maret 2023, sekitar pukul 11.10 WITA, Raihan sedang duduk membaca buku di dalam kamarnya, yang terletak di kamar nomor 6 Blok B Rutan Kelas IIB Bangli, ketika seorang petugas tamping datang memanggilnya. Petugas tersebut menginformasikan bahwa ada paket yang datang atas nama Raihan Rahadi dengan nomor telepon dan alamat yang sesuai.  Tanpa curiga, Raihan menuju ke ruang portir untuk mengambil paket tersebut. Ia menerima paket itu dengan kedua tangannya, tidak tahu apa yang ada di dalamnya. Tak lama setelah menerima paket itu, Raihan langsung diamankan oleh petugas beserta barang bukti paket yang ia terima. Dalam paket yang dibawa Raihan, petugas menemukan dua bungkus tembakau sintetis yang disembunyikan di dalam plastik. Tembakau sintetis tersebut terbungkus rapat dengan kardus mie instan merek Indomie dan dibungkus lagi dengan plastik bubble wrap. Setelah dilakukan pemeriksaan lebih lanjut, ditemukan dua jenis tembakau sintetis, yaitu tembakau dengan merek Violin dan Rhino, masing-masing dengan berat bruto 18,85 gram dan 43,41 gram.  Petugas kepolisian kemudian melakukan pemeriksaan terhadap isi paket, disaksikan oleh petugas Rutan. Hasil pemeriksaan laboratorium menunjukkan bahwa kedua bungkus tembakau sintetis tersebut mengandung senyawa MDMB-4en-PINACA, yang termasuk dalam jenis narkotika golongan I, berdasarkan Peraturan Menteri Kesehatan No. 36 Tahun 2022. Senyawa ini telah terdaftar dalam Undang-Undang Republik Indonesia No. 35 Tahun 2009 tentang Narkotika.  Dengan temuan tersebut, Raihan kemudian didakwa telah melanggar undang-undang tentang narkotika, meskipun ia tidak mengetahui asal muasal barang tersebut. Tindak pidana yang dilakukannya termasuk menawarkan, menjual, membeli, menerima, menjadi perantara jual beli, atau menukar narkotika golongan I. Raihan juga diduga melanggar Pasal 114 Ayat (1) dari Undang-Undang No. 35 Tahun 2009, yang berhubungan dengan kepemilikan, penyimpanan, dan penguasaan narkotika golongan I yang bukan merupakan tanaman.",
         "['Pasal 114 Ayat (1) UU No. 35 Tahun 2009 tentang Narkotika']",
         "RAIHAN RAHADI AZHAR alias RAIHAN",
         "84.0"
        ],
        [
         "24",
         "0",
         "13",
         "4",
         "5",
         "1 (satu) buah kotak handphone Redmi Note 10 S 1 (satu) buah handphone merk Redmi Note 10 S warna Onyx Gray  Dikembalikan kepada I Wayan Suardana 1 (satu) buah kotak Handphone Redmi Note 7 6 (enam) lembar uang Rp100.000,00 (seratus ribu rupiah) dengan total Rp600.000,00 (enam ratus ribu rupiah)  Dikembalikan kepada I Wayan Panggih 1 buah tas pinggang merk Jungle Surf warna abu-abu  Dimusnahkan  6. Membebankan kepada Terdakwa membayar biaya perkara sejumlah Rp5.000,00 (lima ribu rupiah)",
         "Terdakwa, I Wayan Nawa, didakwa melakukan serangkaian tindak pidana pencurian yang terjadi di wilayah Kintamani, Kabupaten Bangli, pada bulan Oktober dan November 2022. Pada hari Minggu, 2 Oktober 2022, sekitar pukul 12.30 WITA, terdakwa melakukan pencurian di kebun milik I Wayan Suardana di Desa Bayung Gede. Dengan berpura-pura menawarkan pupuk kandang, terdakwa mengalihkan perhatian korban dan mencuri sebuah ponsel Redmi Note 10S beserta uang tunai Rp400.000 yang disimpan dalam wadah ponsel tersebut.  Selanjutnya, pada hari Rabu, 9 November 2022, sekitar pukul 12.00 WITA, terdakwa kembali melakukan pencurian di sebuah pondokan milik I Wayan Panggih di Desa Binyan. Dengan modus yang sama, yaitu menawarkan pupuk kandang, terdakwa berhasil mencuri sebuah ponsel Redmi Note 7 milik korban. Setelah melakukan pencurian, terdakwa menjual kedua ponsel tersebut. Ponsel milik I Wayan Suardana dijual seharga Rp1.400.000, sedangkan ponsel milik I Wayan Panggih dijual seharga Rp400.000. Uang hasil penjualan tersebut digunakan oleh terdakwa untuk memenuhi kebutuhan sehari-hari.  Akibat perbuatan terdakwa, I Wayan Suardana mengalami kerugian sebesar Rp3.400.000, sedangkan I Wayan Panggih mengalami kerugian sebesar Rp3.000.000. Setelah menerima laporan dari para korban, pihak kepolisian melakukan penyelidikan dan berhasil menangkap terdakwa pada tanggal 9 Februari 2023 di wilayah Karangasem. Atas perbuatannya, terdakwa didakwa melanggar Pasal 362 KUHP jo Pasal 65 ayat (1) KUHP, yang mengatur tentang tindak pidana pencurian yang dilakukan secara berulang.",
         "['Pasal 362 KUHP jo. Pasal 65 Ayat (1) KUHP']",
         "I Wayan Nawa",
         "6.0"
        ],
        [
         "25",
         "0",
         "11",
         "3",
         "5",
         "2 (dua) Gram Cincin emas dengan batu permata berwarna hitam Pecahan uang seratus ribu rupiah sebanyak 57 lembar (Rp.5.700.000,-) 1 (satu) Buah tas warna merah maroon bertuliskan Michael Kors 1.600 Gram Cincin emas dengan batu permata berwarna merah 1 (satu) Pcs Dompet warna merah muda kombinasi putih bertuliskan Toko Perhiasan Emas Ratna 14.400 Gram Kalung Emas Rantai Bola 2 (dua) Lembar Nota Pembelian Perhiasan Emas Toko Ratna 1 (satu) Buah Tas warna hitam bertuliskan Steve Madden Dikembalikan kepada Saksi Ni Jro Luh Putri 1 (satu) Potong Hoddie warna merah bertuliskan Getting To 90 4th Red Ribbon Flash Mob  Dimusnahkan - 1 (satu) Unit sepeda motor Yamaha Xeon warna hitam Dirampas untuk negara 6. Membebankan kepada Terdakwa membayar biaya perkara sejumlah Rp5.000,00 (lima ribu rupiah)",
         "Terdakwa, JRO GEDE BUDI, didakwa melakukan tindak pidana pencurian di Pemandian Tirta Usadha Toya Bungkah, Bangli, pada 28 Januari 2023. Terdakwa, yang datang untuk berendam, melihat tas milik NI JRO LUH PUTRI di loker terbuka. Timbul niat untuk mencuri, terdakwa mengambil tas tersebut dan membawanya ke parkiran motor.  Setelah pergi, terdakwa memeriksa isi tas dan menemukan uang Rp5.700.000 dan perhiasan emas. Terdakwa mengambil Rp1.000.000 dan menyembunyikan sisanya beserta perhiasan di dekat rumahnya. Terdakwa kemudian pulang dengan uang curian.  Polisi menangkap terdakwa setelah laporan korban. Barang bukti ditemukan, termasuk tas, uang, dan perhiasan. Korban mengalami kerugian Rp19.700.000. Terdakwa didakwa melanggar Pasal 362 KUHP.",
         "['Pasal 362 KUHP']",
         "JRO GEDE BUDI",
         "5.0"
        ],
        [
         "26",
         "0",
         "9",
         "4",
         "3",
         "1 (satu) unit sepeda motor yang sudah dimodifikasi (cetul) tanpa terpasang nomor registrasi / nomor polisi dan tidak dapat terdapat nomor rangka dan nomor mesin kendaraan Dikembalikan kepada I Gede Wiraguna 1 (satu) unit sepeda motor merek Kawasaki tipe LX 150 C, warna hitam kombinasi kuning, tahun pembuatan 2010, tanpa terpasang nomor registrasi / nomor polisi, Noka MH4LX150CAKP15705, Nosin LX150CEP19759 1 (satu) lembar SNTK sepeda motor merek Kawasaki tipe LX 150 C, warna hijau, tahun pembuatan 2010, nomor registrasi / nomor polisi DK 8164 IQ, Noka MH4LX150CAKP15705, Nosin LX150CEP19759, a.n. Chrisnawati, alamat Jl. Surabaya D, 6/20 Puri Gading, Jimbaran, Kuta Badung dan 1 (satu) buah buku BPKB, No H-0 2625520, DK 8164 IQ, merek Kawasaki tipe LX 150 C, Noka MH4LX150CAKP15705, Nosin LX150CEP19759, a.n. Chrisnawati, alamat Jl. Surabaya D, 6/20 Puri Gading, Jimbaran, Kuta Badung Dikembalikan kepada I Wayan Eva Kusuma Putra 6. Membebankan kepada Para Terdakwa membayar biaya perkara masing-masing sejumlah Rp5.000,00 (lima ribu rupiah)",
         "Terdakwa I, Rifqi Abdurahman, dan Terdakwa II, Gunawan, didakwa melakukan pencurian sepeda motor Kawasaki KLX 150 C di Jalan Raya Kayuambua, Bangli, pada 11 Desember 2022, sekitar pukul 00.30 WITA. Berawal dari permintaan Gunawan untuk mencarikan motor KLX, mereka berdua berangkat dari Denpasar ke Kintamani. Di lokasi kejadian, mereka melihat motor KLX tanpa kunci kontak. Rifqi mengambil motor tersebut dengan mendorongnya, sementara Gunawan mengawasi.  Karena Rifqi tidak bisa menyalakan motor, Gunawan membantu mendorongnya. Namun, motor mereka mengalami kerusakan, dan Rifqi melanjutkan mendorong motor curian sendirian. Saat mendorong, Rifqi bertemu saksi-saksi yang curiga dan menghubungi pemilik motor. Rifqi berhasil menyalakan motor, tetapi kehabisan bensin. Ia melanjutkan mendorong ke SPBU Sekardadi, di mana ia tertidur dan ditangkap polisi.  Gunawan ditangkap di Desa Dumilih. Motor curian dan motor yang digunakan para terdakwa disita. Korban, I Wayan Eva Kusuma Putra, mengalami kerugian Rp16.000.000. Para terdakwa didakwa melanggar Pasal 363 Ayat (1) Ke 4 KUHP sebagai dakwaan primair dan Pasal 362 KUHP sebagai dakwaan subsidair.",
         "['Pasal 363 Ayat (1) ke-4 KUHP', 'Pasal 362 KUHP']",
         "RIFQI ABDURAHMAN",
         "8.0"
        ],
        [
         "27",
         "0",
         "9",
         "4",
         "3",
         "1 (satu) unit sepeda motor yang sudah dimodifikasi (cetul) tanpa terpasang nomor registrasi / nomor polisi dan tidak dapat terdapat nomor rangka dan nomor mesin kendaraan Dikembalikan kepada I Gede Wiraguna 1 (satu) unit sepeda motor merek Kawasaki tipe LX 150 C, warna hitam kombinasi kuning, tahun pembuatan 2010, tanpa terpasang nomor registrasi / nomor polisi, Noka MH4LX150CAKP15705, Nosin LX150CEP19759 1 (satu) lembar SNTK sepeda motor merek Kawasaki tipe LX 150 C, warna hijau, tahun pembuatan 2010, nomor registrasi / nomor polisi DK 8164 IQ, Noka MH4LX150CAKP15705, Nosin LX150CEP19759, a.n. Chrisnawati, alamat Jl. Surabaya D, 6/20 Puri Gading, Jimbaran, Kuta Badung dan 1 (satu) buah buku BPKB, No H-0 2625520, DK 8164 IQ, merek Kawasaki tipe LX 150 C, Noka MH4LX150CAKP15705, Nosin LX150CEP19759, a.n. Chrisnawati, alamat Jl. Surabaya D, 6/20 Puri Gading, Jimbaran, Kuta Badung Dikembalikan kepada I Wayan Eva Kusuma Putra 6. Membebankan kepada Para Terdakwa membayar biaya perkara masing-masing sejumlah Rp5.000,00 (lima ribu rupiah)",
         "Terdakwa I, Rifqi Abdurahman, dan Terdakwa II, Gunawan, didakwa melakukan pencurian sepeda motor Kawasaki KLX 150 C di Jalan Raya Kayuambua, Bangli, pada 11 Desember 2022, sekitar pukul 00.30 WITA. Berawal dari permintaan Gunawan untuk mencarikan motor KLX, mereka berdua berangkat dari Denpasar ke Kintamani. Di lokasi kejadian, mereka melihat motor KLX tanpa kunci kontak. Rifqi mengambil motor tersebut dengan mendorongnya, sementara Gunawan mengawasi.  Karena Rifqi tidak bisa menyalakan motor, Gunawan membantu mendorongnya. Namun, motor mereka mengalami kerusakan, dan Rifqi melanjutkan mendorong motor curian sendirian. Saat mendorong, Rifqi bertemu saksi-saksi yang curiga dan menghubungi pemilik motor. Rifqi berhasil menyalakan motor, tetapi kehabisan bensin. Ia melanjutkan mendorong ke SPBU Sekardadi, di mana ia tertidur dan ditangkap polisi.  Gunawan ditangkap di Desa Dumilih. Motor curian dan motor yang digunakan para terdakwa disita. Korban, I Wayan Eva Kusuma Putra, mengalami kerugian Rp16.000.000. Para terdakwa didakwa melanggar Pasal 363 Ayat (1) Ke 4 KUHP sebagai dakwaan primair dan Pasal 362 KUHP sebagai dakwaan subsidair.",
         "['Pasal 363 Ayat (1) ke-4 KUHP', 'Pasal 362 KUHP']",
         "GUNAWAN",
         "8.0"
        ],
        [
         "28",
         "0",
         "14",
         "0",
         "6",
         "1 (satu) unit sepeda motor honda vario tahun 2011, warna merah silver DK 7917 UR, Noka MH1JF8119BK338944, Nosin JF81E-1337110 beserta anak kunci 1 (satu) STNK sepeda motor honda vario tahun 2011, warna merah silver DK 7917 UR, Noka MH1JF8119BK338944, Nosin JF81E-1337110 dikembalikan kepada yang berhak melalui Terdakwa 4 (empat) ekor ayam aduan warna merah (biying) 1 (satu) ekor ayam aduan warna coklat (klau) dikembalikan kepada I WAYAN SUKADA dan I MADE TERUS 4 (empat) buah karung warna putih dimusnahkan 6. Membebankan kepada Terdakwa membayar biaya perkara sejumlah Rp5.000,00 (lima ribu rupiah)",
         "Terdakwa, Gede Kastawa, didakwa melakukan serangkaian tindak pidana pencurian ayam di wilayah Kintamani, Bangli, pada bulan Oktober 2022. Pada 21 Oktober, sekitar pukul 20.00 WITA, ia mencuri 6 ekor ayam milik I Wayan Sukada di Desa Belantih. Pada 28 Oktober, sekitar pukul 18.00 WITA, ia mencuri 15 ekor ayam milik I Made Terus di Desa Belanga. Pada 30 Oktober, sekitar pukul 16.30 WITA, ia mencoba mencuri 1 ekor ayam milik I Wayan Lusin di Desa Belanga, namun gagal dan berhasil diamankan warga.  Dalam setiap aksinya, terdakwa menggunakan modus yang sama, yaitu memanfaatkan kelengahan korban. Ia menjual ayam curian di Singaraja dan menggunakan uangnya untuk judi sabung ayam dan kebutuhan sehari-hari. Akibat perbuatannya, para korban mengalami kerugian total Rp3.500.000. Terdakwa didakwa melanggar Pasal 362 KUHP Jo Pasal 65 ayat (1) KUHP, yang mengatur tentang tindak pidana pencurian yang dilakukan secara berulang..",
         "['Pasal 362 KUHP jo. Pasal 65 Ayat (1) KUHP']",
         "Gede Kastawa",
         "30.0"
        ],
        [
         "29",
         "0",
         "15",
         "0",
         "6",
         "1 (satu) unit sepeda motor honda vario tahun 2011, warna merah silver DK 7917 UR, Noka MH1JF8119BK338944, Nosin JF81E-1337110 beserta anak kunci 1 (satu) STNK sepeda motor honda vario tahun 2011, warna merah silver DK 7917 UR, Noka MH1JF8119BK338944, Nosin JF81E-1337110 dikembalikan kepada yang berhak melalui Terdakwa 4 (empat) ekor ayam aduan warna merah (biying) 1 (satu) ekor ayam aduan warna coklat (klau) dikembalikan kepada I WAYAN SUKADA dan I MADE TERUS 4 (empat) buah karung warna putih dimusnahkan 6. Membebankan kepada Terdakwa membayar biaya perkara sejumlah Rp5.000,00 (lima ribu rupiah)",
         "Terdakwa, Gede Kastawa, didakwa melakukan serangkaian tindak pidana pencurian ayam di wilayah Kintamani, Bangli, pada bulan Oktober 2022. Pada 21 Oktober, sekitar pukul 20.00 WITA, ia mencuri 6 ekor ayam milik I Wayan Sukada di Desa Belantih. Pada 28 Oktober, sekitar pukul 18.00 WITA, ia mencuri 15 ekor ayam milik I Made Terus di Desa Belanga. Pada 30 Oktober, sekitar pukul 16.30 WITA, ia mencoba mencuri 1 ekor ayam milik I Wayan Lusin di Desa Belanga, namun gagal dan berhasil diamankan warga.  Dalam setiap aksinya, terdakwa menggunakan modus yang sama, yaitu memanfaatkan kelengahan korban. Ia menjual ayam curian di Singaraja dan menggunakan uangnya untuk judi sabung ayam dan kebutuhan sehari-hari. Akibat perbuatannya, para korban mengalami kerugian total Rp3.500.000. Terdakwa didakwa melanggar Pasal 362 KUHP Jo Pasal 65 ayat (1) KUHP, yang mengatur tentang tindak pidana pencurian yang dilakukan secara berulang..",
         "['Pasal 362 KUHP jo. Pasal 65 Ayat (1) KUHP']",
         "Gede Kastawa",
         "30.0"
        ],
        [
         "30",
         "0",
         "16",
         "0",
         "5",
         "3 (tiga) ekor anak babi dengan bulu berwarna putih 1 (satu) buah karung plastic merk novo berwarna putih  dikembalikan kepada Saksi Komang Sucitra  6. Membebankan kepada Terdakwa membayar biaya perkara sejumlah Rp5.000,- (lima ribu rupiah)",
         "Terdakwa, Elias Fanggi, dihadapkan pada dakwaan atas tindak pidana pencurian dengan pemberatan dan penggelapan dalam jabatan yang terjadi di kandang babi milik I Komang Sucitra di Desa Abuan, Kecamatan Kintamani, Kabupaten Bangli. Pada hari Sabtu, 27 Maret 2021, sekitar pukul 22.30 WITA, Elias Fanggi, yang bekerja sebagai pembersih kandang babi milik korban sejak 6 Januari 2021, melakukan serangkaian tindakan yang mengakibatkan hilangnya tiga ekor anak babi. Pada hari itu, sekitar pukul 16.00 WITA, terdakwa datang ke kandang babi untuk melaksanakan tugasnya. Namun, pada malam harinya, sekitar pukul 22.30 WITA, ia memasuki kandang babi melalui pintu yang tidak terkunci dan mengambil karung plastik yang ada di dalam kandang. Tanpa izin dan sepengetahuan I Komang Sucitra, Elias Fanggi mengambil tiga ekor anak babi dan memasukkannya ke dalam karung plastik yang telah ia siapkan. Ia kemudian membawa anak babi tersebut keluar dari kandang menggunakan sepeda motor milik saksi Leonardus Pendi dengan maksud untuk menjualnya.  Perbuatan Elias Fanggi diketahui oleh I Komang Sucitra, yang kemudian melaporkan kejadian tersebut kepada pihak berwajib. Akibat perbuatan terdakwa, I Komang Sucitra mengalami kerugian sekitar Rp3.600.000. Atas perbuatannya, Elias Fanggi didakwa dengan dakwaan primair Pasal 363 Ayat (1) Ke 1 KUHP, yaitu pencurian dengan pemberatan, karena ia memasuki kandang babi yang merupakan tempat tertutup dengan maksud untuk melakukan pencurian. Sebagai dakwaan subsidair, ia juga didakwa dengan Pasal 374 KUHP, yaitu penggelapan dalam jabatan, karena ia memiliki hubungan kerja dengan korban dan tanggung jawab terhadap hewan ternak tersebut.",
         "['Pasal 363 Ayat (1) KUHP', 'Pasal 374 KUHP']",
         "Elias Fanggi",
         "6.0"
        ],
        [
         "31",
         "0",
         "17",
         "0",
         "5",
         "3 (tiga) ekor anak babi dengan bulu berwarna putih 1 (satu) buah karung plastic merk novo berwarna putih  dikembalikan kepada Saksi Komang Sucitra  6. Membebankan kepada Terdakwa membayar biaya perkara sejumlah Rp5.000,- (lima ribu rupiah)",
         "Terdakwa, Elias Fanggi, dihadapkan pada dakwaan atas tindak pidana pencurian dengan pemberatan dan penggelapan dalam jabatan yang terjadi di kandang babi milik I Komang Sucitra di Desa Abuan, Kecamatan Kintamani, Kabupaten Bangli. Pada hari Sabtu, 27 Maret 2021, sekitar pukul 22.30 WITA, Elias Fanggi, yang bekerja sebagai pembersih kandang babi milik korban sejak 6 Januari 2021, melakukan serangkaian tindakan yang mengakibatkan hilangnya tiga ekor anak babi. Pada hari itu, sekitar pukul 16.00 WITA, terdakwa datang ke kandang babi untuk melaksanakan tugasnya. Namun, pada malam harinya, sekitar pukul 22.30 WITA, ia memasuki kandang babi melalui pintu yang tidak terkunci dan mengambil karung plastik yang ada di dalam kandang. Tanpa izin dan sepengetahuan I Komang Sucitra, Elias Fanggi mengambil tiga ekor anak babi dan memasukkannya ke dalam karung plastik yang telah ia siapkan. Ia kemudian membawa anak babi tersebut keluar dari kandang menggunakan sepeda motor milik saksi Leonardus Pendi dengan maksud untuk menjualnya.  Perbuatan Elias Fanggi diketahui oleh I Komang Sucitra, yang kemudian melaporkan kejadian tersebut kepada pihak berwajib. Akibat perbuatan terdakwa, I Komang Sucitra mengalami kerugian sekitar Rp3.600.000. Atas perbuatannya, Elias Fanggi didakwa dengan dakwaan primair Pasal 363 Ayat (1) Ke 1 KUHP, yaitu pencurian dengan pemberatan, karena ia memasuki kandang babi yang merupakan tempat tertutup dengan maksud untuk melakukan pencurian. Sebagai dakwaan subsidair, ia juga didakwa dengan Pasal 374 KUHP, yaitu penggelapan dalam jabatan, karena ia memiliki hubungan kerja dengan korban dan tanggung jawab terhadap hewan ternak tersebut.",
         "['Pasal 363 Ayat (1) KUHP', 'Pasal 374 KUHP']",
         "Elias Fanggi",
         "6.0"
        ],
        [
         "32",
         "0",
         "17",
         "0",
         "15",
         "1 (satu) buah mesin penggerak pompa air merk GENERAL beserta 1 (satu) buah pompa Sanchin 1 (satu) buah tali kipas Dikembalikan kepada I WAYAN SUTIANA 1 (satu) buah mesin penggerak pompa air merk GENERAL beserta 1 (satu) buah pompa Sanchin 1 (satu) buah tali kipas 1 (satu) pasang sepatu boat warna hijau tua Dikembalikan kepada I NENGAH SAPA 1 (satu) buah mesin penggerak pompa air merk GENERAL beserta 1 (satu) buah pompa Sanchin 1 (satu) buah tali kipas 2 (dua) buah selang warna orange Dikembalikan kepada I KETUT SUDADI 1 (satu) buah mesin penggerak pompa air merk PRIMA beserta 1 (satu) buah pompa Sanchin merk Pro Quip 1 (satu) buah tali kipas Dikembalikan kepada I WAYAN RAMANTO 1 (satu) buah mesin penggerak pompa air merk PRO QUIP beserta 1 (satu) buah pompa Sanchin merk Tanika 1 (satu) buah tali kipas DIkembalikan kepada I MADE SADSWADARMA 1 (satu) buah mesin pompa air merk Honda lengkap dengan pompa sanchin 1 (satu) buah tali kipas Dikembalikan I KETUT CAREM 1 (satu) buah mesin pompa air merk Robin lengkap dengan pompa sanchin 1 (satu) buah tali kipas Dikembalikan kepada I NYOMAN BIRAWAN 1 (satu) buah mesin pompa air merk Robin lengkap dengan pompa sanchin 1 (satu) buah tali kipas Dikembalikan kepada NI NENGAH SUANTINI 1 (satu) buah mesin pemotong kayu (Senzo) merk Still Dikembalikan kepada I NYOMAN KENEH 1 (satu) buah mesin pemotong rumput merk Harry Dikembalikan kepada I WAYAN DARMA 1 (satu) buah kompor gas merk Rinai 1 (satu) buah tabung gas isi 3 kg Dikembalikan kepada NI KETUT SUPADMI 1 (satu) unit sepeda motor Honda Genio warna abu-abu DK 5756 PX beserta kunci kontak 1 (satu) lembar STNK sepeda motor Honda Genio warna abu-abu DK 5756 PX nomor rangka MH1JM611XKK105164, nomor mesin JM61E- 1105196, tahun pembuatan 2019 atas nama I WAYAN EDI RUSMAWAN 1 (satu) set kunci peralatan bengkel terdiri dari 1 set kunci L, 1 buah tang, 1 buah kunci engkol, 5 buah kunci pas, 1 buah obeng, 2 buah kunci T Dikembalikan kepada Penuntut Umum untuk dijadikan barang bukti dalam perkara lain Uang tunai Rp 250.000,00 (dua ratus lima puluh ribu rupiah) Dirampas untuk negara 3 (tiga) buah karung plastik (kampil) 1 (satu) gulung tali plastik rapia warna merah muda 2 (dua) buah selang warna bening Dimusnahkan  6. Membebankan kepada Terdakwa membayar biaya perkara sejumlah Rp5.000,00 (lima ribu rupiah)",
         "Terdakwa I Wayan Edi Rusmawan didakwa melakukan pencurian terhadap barang milik orang lain secara melawan hukum di berbagai lokasi di Kintamani, Bangli, antara Juni 2020 hingga Januari 2021. Kejadian-kejadian tersebut terjadi pada berbagai waktu dan tempat, termasuk kebun dan gudang milik beberapa individu di daerah tersebut. Tindakannya dilakukan dengan cara merusak, memanjat, atau menggunakan alat seperti anak kunci palsu untuk mengakses tempat dan barang yang dicuri. Tindakannya termasuk dalam beberapa perbuatan yang harus dipandang sebagai kejahatan terpisah. Perbuatan tersebut diancam pidana sesuai dengan Pasal 362 KUHP Jo Pasal 65 ayat (1) KUHP.",
         "['Pasal 362 KUHP jo Pasal 65 ayat (1) KUHP']",
         "I Wayan Edi Rusmawan",
         "24.0"
        ],
        [
         "33",
         "0",
         "18",
         "0",
         "15",
         "1 (satu) buah mesin penggerak pompa air merk GENERAL beserta 1 (satu) buah pompa Sanchin 1 (satu) buah tali kipas Dikembalikan kepada I WAYAN SUTIANA 1 (satu) buah mesin penggerak pompa air merk GENERAL beserta 1 (satu) buah pompa Sanchin 1 (satu) buah tali kipas 1 (satu) pasang sepatu boat warna hijau tua Dikembalikan kepada I NENGAH SAPA 1 (satu) buah mesin penggerak pompa air merk GENERAL beserta 1 (satu) buah pompa Sanchin 1 (satu) buah tali kipas 2 (dua) buah selang warna orange Dikembalikan kepada I KETUT SUDADI 1 (satu) buah mesin penggerak pompa air merk PRIMA beserta 1 (satu) buah pompa Sanchin merk Pro Quip 1 (satu) buah tali kipas Dikembalikan kepada I WAYAN RAMANTO 1 (satu) buah mesin penggerak pompa air merk PRO QUIP beserta 1 (satu) buah pompa Sanchin merk Tanika 1 (satu) buah tali kipas DIkembalikan kepada I MADE SADSWADARMA 1 (satu) buah mesin pompa air merk Honda lengkap dengan pompa sanchin 1 (satu) buah tali kipas Dikembalikan I KETUT CAREM 1 (satu) buah mesin pompa air merk Robin lengkap dengan pompa sanchin 1 (satu) buah tali kipas Dikembalikan kepada I NYOMAN BIRAWAN 1 (satu) buah mesin pompa air merk Robin lengkap dengan pompa sanchin 1 (satu) buah tali kipas Dikembalikan kepada NI NENGAH SUANTINI 1 (satu) buah mesin pemotong kayu (Senzo) merk Still Dikembalikan kepada I NYOMAN KENEH 1 (satu) buah mesin pemotong rumput merk Harry Dikembalikan kepada I WAYAN DARMA 1 (satu) buah kompor gas merk Rinai 1 (satu) buah tabung gas isi 3 kg Dikembalikan kepada NI KETUT SUPADMI 1 (satu) unit sepeda motor Honda Genio warna abu-abu DK 5756 PX beserta kunci kontak 1 (satu) lembar STNK sepeda motor Honda Genio warna abu-abu DK 5756 PX nomor rangka MH1JM611XKK105164, nomor mesin JM61E- 1105196, tahun pembuatan 2019 atas nama I WAYAN EDI RUSMAWAN 1 (satu) set kunci peralatan bengkel terdiri dari 1 set kunci L, 1 buah tang, 1 buah kunci engkol, 5 buah kunci pas, 1 buah obeng, 2 buah kunci T Dikembalikan kepada Penuntut Umum untuk dijadikan barang bukti dalam perkara lain Uang tunai Rp 250.000,00 (dua ratus lima puluh ribu rupiah) Dirampas untuk negara 3 (tiga) buah karung plastik (kampil) 1 (satu) gulung tali plastik rapia warna merah muda 2 (dua) buah selang warna bening Dimusnahkan  6. Membebankan kepada Terdakwa membayar biaya perkara sejumlah Rp5.000,00 (lima ribu rupiah)",
         "Terdakwa I Wayan Edi Rusmawan didakwa melakukan pencurian terhadap barang milik orang lain secara melawan hukum di berbagai lokasi di Kintamani, Bangli, antara Juni 2020 hingga Januari 2021. Kejadian-kejadian tersebut terjadi pada berbagai waktu dan tempat, termasuk kebun dan gudang milik beberapa individu di daerah tersebut. Tindakannya dilakukan dengan cara merusak, memanjat, atau menggunakan alat seperti anak kunci palsu untuk mengakses tempat dan barang yang dicuri. Tindakannya termasuk dalam beberapa perbuatan yang harus dipandang sebagai kejahatan terpisah. Perbuatan tersebut diancam pidana sesuai dengan Pasal 362 KUHP Jo Pasal 65 ayat (1) KUHP.",
         "['Pasal 362 KUHP jo Pasal 65 ayat (1) KUHP']",
         "I Wayan Edi Rusmawan",
         "24.0"
        ],
        [
         "34",
         "1",
         "19",
         "5",
         "4",
         "1 (satu) buah plastik klip bening yang berisi serbuk kristal yang diduga Narkotika golongan I jenis shabu dengan berat 0,44 bruto atau 0,20 gram netto 1 (satu) buah bekas bungkus rokok Marlboro warna putih 1 (satu) buah handphone merk XIOMI tipe redmi 4x warna hitam Dimusnahkan 1 (satu) unit sepeda motor Honda beat DK 6017 QD warna Hitam 1 (satu) buah STNK sepeda Honda beat DK 6017 QD warna Hitam an NI MADE DWI YANTI WIDIANI 1 (satu) buah kunci kontak Dikembalikan kepada pemiliknya melalui Terdakwa II. Irga Krisna Haryanto R 6. Membebankan kepada Para Terdakwa membayar biaya perkara masing-masing sejumlah Rp5.000,00 (lima ribu rupiah)",
         "Bahwa ia Terdakwa Anjar Ruchimat dan Irga Krisna Haryanto R pada hari Selasa tanggal 04 Februari 2020 sekira pukul 21.30 wita atau setidak-tidaknya pada suatu waktu dalam tahun dua ribu duapuluh, bertempat di pinggir jalan raya Merdeka, Lingkungan/Kelurahan Bebalang, Kecamatan Bangli, Kabupaten Bangli atau setidak-tidaknya pada suatu tempat tertentu yang masih termasuk dalam daerah hukum Pengadilan Negeri Bangli, melakukan melakukan percobaan atau permufakatan jahat, bersekongkol atau bersependapat dengan sdra. Made Bleteng (dalam Daftar Pencarian Orang) untuk melakukan, melaksanakan, membantu, turut serta melakukan, menyuruh, menganjurkan, memfasilitasi, memberi konsultasi, menjadi anggota suatu organisasi kejahatan Narkotika, atau mengorganisasikan suatu tindak pidana Narkotika, untuk melakukan tindak pidana Narkotika yang tanpa haka tau melawan hukum memiliki, menyimpan, menguasai, atau menyediakan Narkotika Golongan I bukan tanaman. Pasal 132 Ayat (1) jo. Pasal 112 Ayat (1) Undang-Undang Republik Indonesia Nomor 35 Tahun 2009 Tentang Narkotika atau. Khusus terdakwa Anjar Ruchimat. -Bahwa ia terdakwa Anjar Ruchimat pada hari Sabtu tanggal 1 Februari 2020 sekitar pukul 15.00 WITA atau setidak-tidaknya pada suatu hari di bulan Februari 2020 atau pada waktu lain dalam tahun 2020, bertempat di salah satu home stay/penginapan di daerah Kuta, Kabupaten Badung atau setidak-tidaknya pada suatu tempat yang masih termasuk wilayah hukum Pengadilan Negeri Denpasar yang berwenang memeriksa dan mengadili perkara ini, tetapi berdasarkan ketentuan Pasal 84 ayat (2) KUHAP yang berbunyi Pengadilan Negeri yang di dalam daerah hukumnya terdakwa bertempat tinggal, berdiam terakhir, di tempat ia diketemukan atau ditahan, hanya berwenang mengadili perkara terdakwa tersebut, apabila tempat kediaman sebagian saksi yang dipanggil lebih dekat pada tempat Pengadilan Negeri itu daripada tempat kedudukan Pengadilan Negeri yang di dalam daerahnya tindak pidana itu dilakukan Pengadilan Negeri Bangli berwenang memeriksa dan mengadili perkara ini, yang menggunakan Narkotika Golongan I bagi diri sendiri tanpa hak atau melawan hukum,. Perbuatan terdakwa Anjar Ruchimat merupakan tindak pidana sebagaimana diatur dan diancam pidana dalam Pasal 127 ayat (1) huruf a Undang - Undang R.I. No. 35 Tahun 2009 Tentang Narkotika.. Khusus terdakwa Irga Krisna Haryanto R. -Bahwa ia terdakwa Irga Krisna Haryanto R pada hari Selasa tanggal 28 Januari 2020 sekitar pukul 22.30 WITA atau setidak-tidaknya pada suatu hari di bulan Januari 2020 atau pada waktu lain dalam tahun 2020, bertempat di kamar kontrakan terdakwa, jalan Buana Graha Dawas, Dalung, Kecamatan Kuta Utara, Kabupaten Badung atau setidak-tidaknya pada suatu tempat yang masih termasuk wilayah hukum Pengadilan Negeri Denpasar yang berwenang memeriksa dan mengadili perkara ini, tetapi berdasarkan ketentuan Pasal 84 ayat (2) KUHAP yang berbunyi Pengadilan Negeri yang di dalam daerah hukumnya terdakwa bertempat tinggal, berdiam terakhir, di tempat ia diketemukan atau ditahan, hanya berwenang mengadili perkara terdakwa tersebut, apabila tempat kediaman sebagian saksi yang dipanggil lebih dekat pada tempat Pengadilan Negeri itu daripada tempat kedudukan Pengadilan Negeri yang di dalam daerahnya tindak pidana itu dilakukan Pengadilan Negeri Bangli berwenang memeriksa dan mengadili perkara ini, yang menggunakan Narkotika Golongan I bagi diri sendiri tanpa hak atau melawan hukum. Perbuatan terdakwa Irga Krisna Haryanto R merupakan tindak pidana sebagaimana diatur dan diancam pidana dalam Pasal 127 ayat (1) huruf a Undang - Undang R.I. No. 35 Tahun 2009 Tentang Narkotika",
         "['Pasal 127 Ayat (1) UU RI No. 35 Tahun 2009 tentang Narkotika']",
         "ANJAR RUCHIMAT",
         "16.0"
        ],
        [
         "35",
         "1",
         "19",
         "5",
         "4",
         "1 (satu) buah plastik klip bening yang berisi serbuk kristal yang diduga Narkotika golongan I jenis shabu dengan berat 0,44 bruto atau 0,20 gram netto 1 (satu) buah bekas bungkus rokok Marlboro warna putih 1 (satu) buah handphone merk XIOMI tipe redmi 4x warna hitam Dimusnahkan 1 (satu) unit sepeda motor Honda beat DK 6017 QD warna Hitam 1 (satu) buah STNK sepeda Honda beat DK 6017 QD warna Hitam an NI MADE DWI YANTI WIDIANI 1 (satu) buah kunci kontak Dikembalikan kepada pemiliknya melalui Terdakwa II. Irga Krisna Haryanto R 6. Membebankan kepada Para Terdakwa membayar biaya perkara masing-masing sejumlah Rp5.000,00 (lima ribu rupiah)",
         "Bahwa ia Terdakwa Anjar Ruchimat dan Irga Krisna Haryanto R pada hari Selasa tanggal 04 Februari 2020 sekira pukul 21.30 wita atau setidak-tidaknya pada suatu waktu dalam tahun dua ribu duapuluh, bertempat di pinggir jalan raya Merdeka, Lingkungan/Kelurahan Bebalang, Kecamatan Bangli, Kabupaten Bangli atau setidak-tidaknya pada suatu tempat tertentu yang masih termasuk dalam daerah hukum Pengadilan Negeri Bangli, melakukan melakukan percobaan atau permufakatan jahat, bersekongkol atau bersependapat dengan sdra. Made Bleteng (dalam Daftar Pencarian Orang) untuk melakukan, melaksanakan, membantu, turut serta melakukan, menyuruh, menganjurkan, memfasilitasi, memberi konsultasi, menjadi anggota suatu organisasi kejahatan Narkotika, atau mengorganisasikan suatu tindak pidana Narkotika, untuk melakukan tindak pidana Narkotika yang tanpa haka tau melawan hukum memiliki, menyimpan, menguasai, atau menyediakan Narkotika Golongan I bukan tanaman. Pasal 132 Ayat (1) jo. Pasal 112 Ayat (1) Undang-Undang Republik Indonesia Nomor 35 Tahun 2009 Tentang Narkotika atau. Khusus terdakwa Anjar Ruchimat. -Bahwa ia terdakwa Anjar Ruchimat pada hari Sabtu tanggal 1 Februari 2020 sekitar pukul 15.00 WITA atau setidak-tidaknya pada suatu hari di bulan Februari 2020 atau pada waktu lain dalam tahun 2020, bertempat di salah satu home stay/penginapan di daerah Kuta, Kabupaten Badung atau setidak-tidaknya pada suatu tempat yang masih termasuk wilayah hukum Pengadilan Negeri Denpasar yang berwenang memeriksa dan mengadili perkara ini, tetapi berdasarkan ketentuan Pasal 84 ayat (2) KUHAP yang berbunyi Pengadilan Negeri yang di dalam daerah hukumnya terdakwa bertempat tinggal, berdiam terakhir, di tempat ia diketemukan atau ditahan, hanya berwenang mengadili perkara terdakwa tersebut, apabila tempat kediaman sebagian saksi yang dipanggil lebih dekat pada tempat Pengadilan Negeri itu daripada tempat kedudukan Pengadilan Negeri yang di dalam daerahnya tindak pidana itu dilakukan Pengadilan Negeri Bangli berwenang memeriksa dan mengadili perkara ini, yang menggunakan Narkotika Golongan I bagi diri sendiri tanpa hak atau melawan hukum,. Perbuatan terdakwa Anjar Ruchimat merupakan tindak pidana sebagaimana diatur dan diancam pidana dalam Pasal 127 ayat (1) huruf a Undang - Undang R.I. No. 35 Tahun 2009 Tentang Narkotika.. Khusus terdakwa Irga Krisna Haryanto R. -Bahwa ia terdakwa Irga Krisna Haryanto R pada hari Selasa tanggal 28 Januari 2020 sekitar pukul 22.30 WITA atau setidak-tidaknya pada suatu hari di bulan Januari 2020 atau pada waktu lain dalam tahun 2020, bertempat di kamar kontrakan terdakwa, jalan Buana Graha Dawas, Dalung, Kecamatan Kuta Utara, Kabupaten Badung atau setidak-tidaknya pada suatu tempat yang masih termasuk wilayah hukum Pengadilan Negeri Denpasar yang berwenang memeriksa dan mengadili perkara ini, tetapi berdasarkan ketentuan Pasal 84 ayat (2) KUHAP yang berbunyi Pengadilan Negeri yang di dalam daerah hukumnya terdakwa bertempat tinggal, berdiam terakhir, di tempat ia diketemukan atau ditahan, hanya berwenang mengadili perkara terdakwa tersebut, apabila tempat kediaman sebagian saksi yang dipanggil lebih dekat pada tempat Pengadilan Negeri itu daripada tempat kedudukan Pengadilan Negeri yang di dalam daerahnya tindak pidana itu dilakukan Pengadilan Negeri Bangli berwenang memeriksa dan mengadili perkara ini, yang menggunakan Narkotika Golongan I bagi diri sendiri tanpa hak atau melawan hukum. Perbuatan terdakwa Irga Krisna Haryanto R merupakan tindak pidana sebagaimana diatur dan diancam pidana dalam Pasal 127 ayat (1) huruf a Undang - Undang R.I. No. 35 Tahun 2009 Tentang Narkotika",
         "['Pasal 127 Ayat (1) UU RI No. 35 Tahun 2009 tentang Narkotika']",
         "IRGA KRISNA HARYANTO R",
         "16.0"
        ],
        [
         "36",
         "1",
         "19",
         "6",
         "6",
         "1 (satu) buah plastik klip bening yang berisi serbuk kristal yang diduga narkotika golongan I jenis shabu dengan berat 0,96 gram bruto atau 0,80 gram netto. 1 (satu) buah plastik klip bening yang berisi serbuk kristal yang diduga narkotika golongan I jenis shabu dengan berat 0,21 gram bruto atau 0,05 gram netto. 1 (satu) buah tas Pinggang merk OAKLEY warna abu abu. 1 (satu) buah selotip kecil bening. 1 (satu) Handphone merk IPHONE 5 warna gold. 1 (satu) buah gunting. 10 (sepuluh) lembar bukti Transfer Bank BCA. 1 (satu) potong Lakban warna kuning. 1 (satu) buah buku kecil yang berisi catatan utang. 1 (satu) lembar kertas aluminium foil. 1 (satu) buah kulit rokok sampoerna mild. Dimusnahkan. 1 (satu) buah sepeda motor merk Yamaha Xeon warna putih DK 6331 AQ. 1 (satu) buah STNK sepeda motor merk Yamaha Xeon warna putih DK 6331 AQ, atas nama KETUT YARIYANI. 1 (satu) buah kunci kontak. Dikembalikan kepada yang berhak melalui Terdakwa Fenny Yanthi Esmidar. Uang tunai sebesar Rp. 50.000,- (lima puluh ribu rupiah). Dirampas untuk negara.  6. Membebankan kepada Terdakwa membayar biaya perkara sejumlah Rp 5.000,- (lima ribu rupiah)",
         "Terdakwa, Fenny Yanthi Esmidar, didakwa atas tindak pidana narkotika yang terjadi di Gang Buntu, Belakang Alfamart, Bangli, pada 9 Januari 2020, sekitar pukul 23.15 WITA. Berawal dari permintaan Desi melalui telepon untuk mengambil narkotika jenis sabu-sabu di Bangli, terdakwa berangkat dari Nusa Dua menuju lokasi yang dikirimkan melalui WhatsApp. Di lokasi tersebut, terdakwa ditangkap oleh anggota Sat Resnarkoba Polres Bangli yang telah memperoleh informasi dari masyarakat tentang adanya kurir narkotika di area tersebut.  Saat penangkapan, ditemukan barang bukti berupa dua paket sabu-sabu dengan berat netto 0,08 gram dan 0,05 gram yang disembunyikan di semak-semak belakang tembok Alfamart. Setelah dilakukan pemeriksaan laboratorium forensik, barang bukti tersebut dipastikan mengandung metamfetamina, yang tergolong narkotika golongan I. Namun, hasil pemeriksaan urine terdakwa negatif narkotika.  Atas perbuatannya, Fenny Yanthi Esmidar didakwa dengan dakwaan primair Pasal 114 ayat (1) UU RI Nomor 35 Tahun 2009 tentang Narkotika, karena tanpa hak atau melawan hukum menawarkan, menjual, membeli, menerima, menjadi perantara, menukar, atau menyerahkan narkotika golongan I. Sebagai dakwaan subsidair, terdakwa didakwa dengan Pasal 112 ayat (1) UU RI Nomor 35 Tahun 2009 tentang Narkotika, karena tanpa hak atau melawan hukum memiliki, menyimpan, menguasai, atau menyediakan narkotika golongan I. ",
         "['Pasal 114 Ayat (1) UU No. 35 Tahun 2009 tentang Narkotika', 'Pasal 112 Ayat (1) UU No. 35 Tahun 2009 tentang Narkotika']",
         "FENNY YANTHI ESMIDAR",
         "96.0"
        ],
        [
         "37",
         "0",
         "20",
         "7",
         "4",
         "2 ( dua ) ekor hewan ternak sapi betina, bulu bagian tubuh berwarna coklat, bulu pada bagian kaki dan bokong berwarna putih, berat masing-masing sekira 250 Kg, umur sekira 1 ( satu ) tahun 6 (enam) bulan. Uang sebesar Rp. 4.656.000,- (empat juta enam ratus lima puluh enam ribu rupiah). 2 ( dua ) utas tali plastic warna biru dengan panjang masing-masing tali sekira 3 ( tiga ) meter .  Dikembalikan kepada korban I WAYAN KASIR. 1 ( satu ) unit mobil Mitsubishi Colt L 300 jenis pick up warna hitam dengan nomor polisi DK 9673 DJ, Noka MH32S6005AK703868, Nosin 2S6-707748 beserta kunci. 1 ( satu ) buah STNK mobil Mitsubishi Colt L 300 warna hitam dengan nomor polisi DK 9673 DJ Noka MH32S6005AK703868, Nosin 2S6-707748 atas nama AGUNG OKA ASTINI.  Dikembalikan kepada I NYOMAN BINTANG. 1 ( satu ) unit sepeda motor Yamaha Jupiter MX 135 warna hitam dengan nomor polisi DK 4664 RI Noka MHML300DP2R288738, Nosin 4D56C226379 beserta kunci. 1 ( satu ) buah STNK sepeda motor Yamaha Jupiter MX 135 warna hitam dengan nomor polisi DK 4664 RI Noka MHML300DP2R288738, Nosin 4D56C226379atas nama SANG PUTU BAOS.   Dikembalikan kepada Terdakwa I WAYAN SUDARPA. uang sebesar Rp. 15.500.000 hasil dari penjualan sapi   Dikembalikan kepada I NYOMAN SUTAPA. 2 ( dua ) lembar surat keterangan jual beli hewan dari pasar hewan bringkit warna hijau tertanggal 12 Februari 2020. Dirampas untuk dimusnahkan 5. Membebankan kepada terdakwa untuk membayar biaya perkara sejumlah Rp. 5.000,- (Lima ribu rupiah).",
         "Terdakwa I Wayan Sudarpa didakwa melakukan pencurian terhadap tiga ekor sapi milik I Wayan Kasir pada Rabu, 12 Februari 2020, sekitar pukul 01.00 WITA, di kandang sapi milik I Wayan Kasir di Desa Pengotan, Bangli. Terdakwa, yang sebelumnya meminta bantuan I Nyoman Bintang untuk menjualkan sapi-sapi tersebut, kemudian mengambil sapi tersebut dengan cara melepas ikatan tali pada sapi dan membawanya ke mobil milik I Nyoman Bintang. Setelah ketiga sapi berhasil dibawa ke mobil, I Nyoman Bintang membawa sapi tersebut ke Pasar Bringkit Badung untuk dijual, dan hasil penjualan sebesar Rp. 20.156.000 diserahkan kepada terdakwa.  Perbuatan ini dilakukan tanpa izin dari pemilik sapi, I Wayan Kasir, yang mengalami kerugian sekitar Rp. 20.500.000. Tindakannya diatur dan diancam pidana berdasarkan Pasal 363 ayat (1) ke-1 KUHP.",
         "['Pasal 363 Ayat (1) ke-1 KUHP']",
         "I WAYAN SUDARPA",
         "6.0"
        ],
        [
         "38",
         "0",
         "21",
         "8",
         "2",
         "1 (satu) buah Tas Selempang warna Hitam 1 (satu) buah Memori Kamera Webcam yang berisi Rekaman Kamera Webcam di Dapur Villa Tegal Anyar yang berlokasi di Jalan Raya Mawang, Banjar Mawang Kelod, Desa Lodtunduh, Kecamatan Ubud, Kabupaten Gianyar, tanggal 17 Oktober 2023 1 (satu) unit TV merk Xiomi warna Hitam 1 (satu) unit Kulkas merk Aqua warna Hitam 1 (satu) unit Speaker merk Polytron warna Hitam Dikembalikan kepada Saksi Evgenii Verestnikov 1 (satu) lembar Screenshot bukti pengiriman uang sebesar Rp 5.000.000,- (lima juta rupiah) dari NI PUTU MEI SAPITRI kepada NI KETUT SUKRAENI, tanggal 18 Oktober 2023 1 (satu) lembar Screenshot bukti pengiriman uang sebesar Rp 2.000.000,- (dua juta rupiah) dari NI PUTU MEI SAPITRI kepada NI KETUT SUKRAENI, tanggal 31 Oktober 2023 Dikembalikan kepada Saksi Ni Ketut Sukraeni 1 (satu) buah Baju Kaos warna Putih 1 (satu) buah Celana Panjang warna Pink Dirampas untuk dimusnahkan 1 (satu) unit Sepeda Motor merk Honda Scoopy warna Putih dengan Nomor Polisi DK 6204 KBG beserta STNK Dikembalikan kepada Terdakwa Membebankan kepada Terdakwa untuk membayar biaya perkara sejumlah Rp 5000,00 (lima ribu rupiah)",
         "Ni Putu Mei Sapitri didakwa atas tindak pidana pencurian dan penadahan yang terjadi pada hari Selasa, 20 Juni 2023, sekitar pukul 14.00 WITA di Villa Tegal Anyar, Ubud. Terdakwa, yang bekerja sebagai petugas kebersihan lepas, mengambil uang tunai milik korban, Evgenii Verestnikov, yang terdiri dari 300 Euro dan 1.900 Dolar Amerika.  Saat membersihkan villa, terdakwa melihat tas selempang berisi uang di bawah meja dapur. Tanpa izin, ia mengambil uang tersebut, menyembunyikannya di kantong celana, dan kemudian menukarkannya di money changer, memperoleh sekitar Rp 35.000.000. Uang tersebut digunakan untuk membeli barang elektronik dan keperluan sehari-hari.  Atas perbuatannya, Ni Putu Mei Sapitri didakwa dengan dakwaan primair Pasal 362 KUHP tentang pencurian. Sebagai dakwaan subsidair, ia didakwa dengan Pasal 480 Ayat (2) KUHP tentang penadahan, karena menikmati keuntungan dari barang yang diketahui atau patut diduga diperoleh dari kejahatan. Akibat perbuatan terdakwa, Evgenii Verestnikov mengalami kerugian sekitar Rp 35.000.000.",
         "['Pasal 362 KUHP', 'Pasal 480 Ayat (2) KUHP']",
         "NI PUTU MEI SAPITRI",
         "18.0"
        ],
        [
         "39",
         "0",
         "22",
         "8",
         "4",
         "1 (satu) Unit Sepeda Motor Merk Suzuki FU warna hitam ungu dengan nomor polisi N 2359 TBA, nomor rangka tidak ada dan Nomor Mesin G420ID404501 Dirampas untuk negara 1 (satu) buah helm warna putih tanpa kaca 1 (satu) buah HP merk Vivo warna casing biru glosy 1 (satu) buah baju kaos warna putih bertuliskan relawan jaya giri 1 (satu) buah celana pendek warna hitam Dirampas untuk dimusnahkan 1 (satu) buah buku BPKB No. K-13109959 atas nama pemilik I MADE WERDI GUNA untuk kendaraan Sepeda Motor Honda Vario Warna White Silver DK 3493 KAM, Nomor rangka MH1JFB122EK302944, Nomor Mesin JFB1E2250553 Dikembalikan kepada Saksi I GEDE WERDI GUNA, ST Membebankan kepada Terdakwa untuk membayar biaya perkara sejumlah Rp 5000,00 (lima ribu rupiah)",
         "Leonardo Mautede alias Ronal didakwa atas tindak pidana pencurian dengan pemberatan dan penadahan. Pada hari Kamis, 4 Januari 2024, korban I Made Werdi Guna, ST mencuci motornya di Kumba Car Wash dengan kunci kontak masih terpasang. Keesokan harinya, 5 Januari 2024, sekitar pukul 19.00 WITA, terdakwa yang bekerja di tempat cuci motor tersebut mengambil motor korban tanpa izin dan membawanya ke kos temannya, Antonius Tauwaleku Praing alias Toni. Di sana, terdakwa melepas plat nomor, kaca spion, dan merusak bagian motor.  Terdakwa bermaksud menukar motor curian tersebut dengan motor Suzuki FU milik Feriyanto alias Wahyu. Pada 7 Januari 2024, sekitar pukul 22.00 WITA, terdakwa dan Feriyanto bertemu di Denpasar Utara dan melakukan pertukaran. Motor curian tersebut kemudian dijual oleh Feriyanto.  Atas perbuatannya, Leonardo Mautede didakwa dengan dakwaan primair Pasal 363 Ayat (1) ke-5 KUHP tentang pencurian dengan pemberatan. Sebagai dakwaan subsidair, ia didakwa dengan Pasal 362 KUHP tentang pencurian. Selain itu, ia juga didakwa dengan Pasal 480 ke-1 KUHP tentang penadahan. Akibat perbuatan terdakwa, I Made Werdi Guna, ST mengalami kerugian sebesar Rp 16.000.000.",
         "['Pasal 363 Ayat (1) ke-5 KUHP', 'Pasal 362 KUHP']",
         "LEONARDO MAUTEDE Als. RONAL",
         "14.0"
        ],
        [
         "40",
         "0",
         "21",
         "8",
         "3",
         "1 (satu) unit sepeda motor Honda Scoppy tahun 2014 warna Hitam, Noka MH1JFG118EK266794, No. Pol DK3728ZD berserta Kuncinya Dikembalikan kepada Saksi I Ketut Dita 1 (satu) sepeda motor Merek Honda scoopy warna putih, Nosin JM31EX2402367 Noka MH1JM3122KK402367, No. Pol DK8686OK beserta kuncinya Dikembalikan kepada Saksi Dewa Gede Artawa Membebankan kepada Terdakwa untuk membayar biaya perkara sejumlah Rp 5000,00 (lima ribu rupiah)",
         "Paulus Pati Kondo didakwa atas tindak pidana pencurian dengan pemberatan yang dilakukan bersama-sama dengan Wilem Woro (DPO). Pada hari Sabtu, 13 Januari 2024, sekitar pukul 19.30 WITA, di depan bengkel cat Banjar Pujung, Tegalalang, mereka mencuri sepeda motor Honda Scoopy milik I Ketut Dita. Kemudian, pada hari Senin, 29 Januari 2024, sekitar pukul 19.30 WITA, di parkiran warung DPojok Banjar Tarukan Kaja, Tampaksiring, mereka kembali mencuri sepeda motor Honda Scoopy milik Dewa Gede Artawa.  Dalam kedua kejadian tersebut, Wilem Woro (DPO) melihat sepeda motor dengan kunci yang masih terpasang, lalu mengambilnya. Paulus Pati Kondo, yang membonceng Wilem Woro, bertugas mengawasi dan kemudian mengganti plat nomor sepeda motor curian. Kedua sepeda motor tersebut kemudian dibawa ke kos Paulus Pati Kondo di Denpasar Selatan untuk dijual.  Atas perbuatannya, Paulus Pati Kondo didakwa dengan dakwaan primair Pasal 363 Ayat (1) ke-4 KUHP jo Pasal 65 Ayat (1) KUHP tentang pencurian dengan pemberatan yang dilakukan secara bersama-sama dan berlanjut. Sebagai dakwaan subsidair, ia didakwa dengan Pasal 362 KUHP jo Pasal 65 Ayat (1) KUHP tentang pencurian yang dilakukan secara berlanjut. Akibat perbuatan terdakwa, I Ketut Dita mengalami kerugian Rp 13.000.000 dan Dewa Gede Artawa mengalami kerugian Rp 18.000.000.",
         "['Pasal 363 Ayat (1) ke-4 KUHP jo Pasal 65 Ayat (1) KUHP', 'Pasal 362 KUHP jo Pasal 65 ayat (1) KUHP']",
         "PAULUS PATI KONDO",
         "24.0"
        ],
        [
         "41",
         "0",
         "23",
         "9",
         "3",
         "1 (satu) ekor burung murai batu medan yang berisi ring dikaki kanan dengan tulisn BF 022 1 (satu) buah sangkar burung serta tutup kerudung kain warna biru muda Dikembalikan kepada pemiliknya yaitu saksi I Gusti Ngurah Putu Widiantara 1 (satu) unit sepeda motor Honda Beat warna merah putih dengan plat nomer DK 3948 UAC serta STNK dan kunci kontak Dikembalikan kepada pemiliknya yaitu yaitu saksi Gede Edi Gunawan Membebankan kepada Terdakwa membayar biaya perkara masing-masing sejumlah Rp5000,00 (lima ribu rupiah)",
         "Terdakwa, Subari, didakwa atas tindak pidana pencurian yang terjadi pada hari Sabtu, 20 April 2024, sekitar pukul 01.00 WITA di rumah I Gusti Ngurah Putu Widiantara di Ubud. Terdakwa, yang datang dari tempat kosnya di Badung, memasuki halaman rumah korban melalui gerbang yang tidak terkunci. Kemudian, ia mengambil sangkar burung murai batu milik korban yang tergantung di teras rumah.  Setelah mengambil burung tersebut, terdakwa membawanya ke tempat kosnya. Pada tanggal 1 Mei 2024, terdakwa memposting burung murai batu curian tersebut di Facebook untuk dijual seharga Rp 1.000.000. Korban, yang mencari burungnya di media sosial, menemukan postingan tersebut dan berpura-pura membeli burung tersebut. Saat transaksi COD (Cash On Delivery) di tempat kos terdakwa, petugas kepolisian menangkap terdakwa.  Atas perbuatannya, Subari didakwa dengan dakwaan primair Pasal 363 ayat (1) ke-3 KUHP tentang pencurian dengan pemberatan. Sebagai dakwaan subsidair, ia didakwa dengan Pasal 362 KUHP tentang pencurian. Akibat perbuatan terdakwa, I Gusti Ngurah Putu Widiantara mengalami kerugian sekitar Rp 4.000.000.",
         "['Pasal 363 Ayat (1) ke-3 KUHP', 'Pasal 362 KUHP']",
         "SUBARI",
         "18.0"
        ],
        [
         "42",
         "0",
         "24",
         "8",
         "2",
         "1 (satu) lembar STNK Sepeda Motor Merk Honda, Type N125 D (KARISMA 125 D), Nomor Polisi DK 4606 LD, Tahun Pembuatan 2005, Warna Silver Biru, Nomor Rangka MH1JB22195K366416, Nomor Mesin JB221365610, STNK atas nama NI KADEK SUARTINI dengan alamat Br. Pagutan Klod Batubulan Sukawati Gianyar 1 (satu) buah BPKB Sepeda Motor Merk Honda, Type NF125 D (KARISMA 125 D), Nomor Polisi DK 4606 LD, Tahun Pembuatan 2005, Warna Silver Biru, Nomor Rangka MH1JB22195K366416, Nomor Mesin JB221365610, STNK atas nama NI KADEK SUARTINI dengan alamat Br. Pagutan Klod Batubulan Sukawati Gianyar 1 (satu) buah Flashdisk yang berisi rekaman CCTV yang terpasang di dekat tempat kejadian pencurian, yang dalam rekaman CCTV tersebut terekam pada saat tersangka mengendarai sepeda motor milik korban yang berhasil tersangka curi 1 (satu) unit Sepeda Motor Merk Honda, Type NF125 D (KARISMA 125 D), tanpa Nomor Polisi, Tahun Pembuatan 2005, Warna Silver Biru, Nomor Rangka MH1JB22195K366416, Nomor Mesin JB221365610, STNK atas nama NI KADEK SUARTINI dengan alamat Br. 1 (satu) buah helm standard warna hitam Dikembalikan kepada saksi Mohammad Slamet 1 (satu) potong baju kaos lengan pendek warna abu abu yang di dada depan berisi tulisan KARMA HAS NO DEADLINE 1 (satu) potong celana pendek yang terbuat dari kain warna biru dongker 1 (satu) buah tas selempang warna hitam merk FENGBAODAISHU Dirampas untuk dimusnahkan Membebankan kepada Terdakwa untuk membayar biaya perkara sejumlah Rp 5000,00 (lima ribu rupiah)",
         "Terdakwa, Ahmad Marsuki, didakwa atas tindak pidana pencurian dengan pemberatan yang terjadi pada hari Jumat, 26 April 2024, sekitar pukul 15.30 WITA di sebuah rumah kost di Singapadu, Sukawati, Gianyar. Terdakwa mengambil sepeda motor Honda Karisma 125 milik Mohamad Slamet yang terparkir di depan kamar kost korban.  Saat korban sedang tidur, terdakwa melihat sepeda motor dengan kunci yang masih terpasang. Timbul niat untuk mengambilnya, terdakwa langsung menaiki motor dan membawanya kabur. Aksi terdakwa terekam oleh CCTV yang terpasang di tempat kost tersebut.  Atas perbuatannya, Ahmad Marsuki didakwa dengan dakwaan primair Pasal 363 Ayat (1) ke-5 KUHP tentang pencurian dengan pemberatan. Sebagai dakwaan subsidair, ia didakwa dengan Pasal 362 KUHP tentang pencurian. Akibat perbuatan terdakwa, Mohamad Slamet mengalami kerugian sekitar Rp 5.000.000.",
         "['Pasal 363 Ayat (1) ke-5 KUHP', 'Pasal 362 KUHP']",
         "AHMAD MARSUKI",
         "22.0"
        ],
        [
         "43",
         "0",
         "25",
         "8",
         "3",
         "1 (unit) HP Merk Redmi 10C warna biru berikut Cargernya 1 (satu) buah mesin Bor Merk Maktec warna orange 1 (satu) buah mesin serut Merk Makita warna biru Dikembalikan kepada Saksi Korban AGUS SUBAGYONO 1 (satu) buah palu besi gagang warna hijau kombinasi hitam 1 (satu) Pcs celana panjang kain warna biru dongker Dirampas oleh Negara untuk dimusnahkan Membebankan kepada Terdakwa untuk membayar biaya perkara sejumlah Rp 5000,00 (lima ribu rupiah)",
         "Yoga Saputra didakwa atas tindak pidana pencurian dengan pemberatan yang terjadi pada hari Senin, 8 April 2024, sekitar pukul 01.30 WITA di kamar mes PT. Satria Cipta Asta Kencana, Sukawati, Gianyar. Terdakwa memasuki area perusahaan melalui semak-semak dan menuju kamar Agus Subagyono yang tidak memiliki pintu.  Di dalam kamar, terdakwa mengambil ponsel Redmi 10C milik Agus Subagyono beserta pengisi dayanya, serta mesin bor dan mesin serut dari dalam lemari. Terdakwa mencongkel engsel lemari menggunakan palu agar korban tidak terbangun.  Ponsel tersebut kemudian digunakan oleh terdakwa setelah mengganti kartu SIM, sementara mesin bor dan serut dijual kepada tukang rongsokan seharga Rp 200.000. Uang hasil penjualan digunakan untuk keperluan sehari-hari. Terdakwa ditangkap pada 27 April 2024 di mes rumah makan tempatnya bekerja.  Atas perbuatannya, Yoga Saputra didakwa dengan dakwaan primair Pasal 363 Ayat (2) KUHP tentang pencurian dengan pemberatan. Sebagai dakwaan subsidair, ia didakwa dengan Pasal 363 Ayat (1) ke-5 KUHP, dan lebih subsidair dengan Pasal 362 KUHP tentang pencurian. Akibat perbuatan terdakwa, Agus Subagyono mengalami kerugian sekitar Rp 3.200.000.",
         "['Pasal 363 Ayat (2) KUHP', 'Pasal 362 KUHP']",
         "YOGA SAPUTRA",
         "10.0"
        ],
        [
         "44",
         "0",
         "26",
         "10",
         "3",
         "1 (satu) Buah Foto Copy yang dilegalisir BPKB satu unit motor merk Honda Vario 125cc tahun 2019 warna Merah, dengan Noka MH1JM4110KK467749, dengan Nosin JM41E1467138 an. PUTU EKA ATATIKA Surat Penyewaan Motor Vario 125 DK 5352 KAR, tanggal 11 September 2023 1 (satu) unit sepeda motor Merek Honda Vario 125 warna merah No. Pol DK 5352 KAR Nosin JM41E1467138 Noka MH1JM4110KK467749 Dikembalikan kepada saksi Putu Eka Atatika 1 (satu) buah kunci bertuliskan Honda warna Hitam Dirampas untuk dimusnahkan 6. Membebankan kepada Terdakwa membayar biaya perkara sejumlah Rp5.000,00 (lima ribu rupiah)",
         "Edi Sudadang didakwa atas tindak pidana pencurian dengan pemberatan yang dilakukan bersama-sama dengan Mulasim alias Mul (DPO). Pada hari Senin, 1 April 2024, sekitar pukul 23.30 WITA, di area parkir Villa Nyoman, Ubud, Gianyar, mereka mencuri sepeda motor Honda Vario 125 milik Putu Eka Atatika.  Sebelumnya, Edi Sudadang diajak oleh Mulasim (DPO) untuk mencuri sepeda motor di Bali. Edi Sudadang membawa kunci T dari rumah Mulasim di Probolinggo, Jawa Timur. Mereka kemudian bersama-sama mendorong motor korban dari tempat parkir, dan Edi Sudadang menghidupkan motor tersebut dengan kunci T.  Setelah berhasil mencuri motor, mereka membawanya ke Probolinggo. Di sana, motor tersebut diserahkan kepada Edi Sudadang, dan ia memberikan uang sebesar Rp 2.500.000 kepada Mulasim (DPO).  Atas perbuatannya, Edi Sudadang didakwa dengan Pasal 363 ayat (1) ke-4 dan ke-5 KUHP tentang pencurian dengan pemberatan yang dilakukan oleh dua orang atau lebih dengan bersekutu, dan menggunakan kunci palsu. Akibat perbuatan terdakwa, Putu Eka Atatika mengalami kerugian sekitar Rp 20.000.000.",
         "['Pasal 363 Ayat (1) ke-4', 'Pasal 363 Ayat (1) ke-5 KUHP']",
         "EDI SUDADANG",
         "12.0"
        ],
        [
         "45",
         "0",
         "27",
         "8",
         "3",
         "1 buah kamera GoPro warna hitam 1 buah kotak baterai kamera warna putih 2 buah baterai warna hitam Uang tunai sejumlah Rp. 42.000,00 1 unit I Phone 11 Pro Warna Grey 1 unit mobil toyota avanza DK 1327 IE 1 lembar STNK nomor registrasi DK 1327 IE Atas Nama Huang Szu Feng Dikembalikan kepada saksi Yuji Waki 1 buah batu kali warna cokelat 1 bidang kaca mobil dalam keadaan pecah dengan lapisan ryben warna hitam Dirampas untuk dimusnahkan 1 (satu) unit Sepeda Motor honda vario warna hitam dengan DK 4093 SS beserta Kunci Kontak Dikembalikan kepada Terdakwa 1. Yudi Kristianto 1 (satu) unit Sepeda Motor honda scoopy warna cream abu-abu Nomor Polisi DK 5628 ADR beserta Kunci Kontak Dikembalikan kepada Tedakwa 2. Kurniadi Prayoga Membebankan kepada Para Terdakwa untuk membayar biaya perkara masing-masing sejumlah Rp 5000,00 (lima ribu rupiah)",
         "Ketiga terdakwa didakwa atas tindak pidana pencurian dengan pemberatan yang dilakukan secara bersama-sama. Pada hari Sabtu, 18 Mei 2024, sekitar pukul 09.00 WITA, di Pantai Keramas, Gianyar, mereka mencuri barang-barang dari sebuah mobil Toyota Avanza milik Yuji Waki, seorang warga negara Jepang.  Para terdakwa berangkat dari kos Kurniadi Prayuda di Denpasar menuju Pantai Keramas. Setibanya di sana, Yudi Kristanto melihat mobil korban yang terparkir dan korban sedang berselancar di pantai. Yudi Kristanto kemudian memecahkan kaca mobil dengan batu dan mengambil barang-barang di dalamnya, yaitu tas berisi ponsel, kamera Go Pro, dompet berisi uang, celana pendek, dan baterai kamera.  Kurniadi Prayuda bertugas mengawasi situasi di atas sepeda motor, sementara Muhammad Rizal alias Iceng mengawasi situasi di jalan masuk pantai.  Atas perbuatannya, ketiga terdakwa didakwa dengan dakwaan primair Pasal 363 Ayat (1) ke-4 dan ke-5 KUHP tentang pencurian dengan pemberatan yang dilakukan secara bersama-sama. Sebagai dakwaan subsidair, mereka didakwa dengan Pasal 363 Ayat (1) ke-4 KUHP. Akibat perbuatan terdakwa, Yuji Waki mengalami kerugian sekitar Rp 14.400.000.",
         "['Pasal 363 Ayat (1) ke-4 KUHP', 'Pasal 363 Ayat (1) ke-5 KUHP']",
         "YUDI KRISTANTO",
         "24.0"
        ],
        [
         "46",
         "0",
         "27",
         "8",
         "3",
         "1 buah kamera GoPro warna hitam 1 buah kotak baterai kamera warna putih 2 buah baterai warna hitam Uang tunai sejumlah Rp. 42.000,00 1 unit I Phone 11 Pro Warna Grey 1 unit mobil toyota avanza DK 1327 IE 1 lembar STNK nomor registrasi DK 1327 IE Atas Nama Huang Szu Feng Dikembalikan kepada saksi Yuji Waki 1 buah batu kali warna cokelat 1 bidang kaca mobil dalam keadaan pecah dengan lapisan ryben warna hitam Dirampas untuk dimusnahkan 1 (satu) unit Sepeda Motor honda vario warna hitam dengan DK 4093 SS beserta Kunci Kontak Dikembalikan kepada Terdakwa 1. Yudi Kristianto 1 (satu) unit Sepeda Motor honda scoopy warna cream abu-abu Nomor Polisi DK 5628 ADR beserta Kunci Kontak Dikembalikan kepada Tedakwa 2. Kurniadi Prayoga Membebankan kepada Para Terdakwa untuk membayar biaya perkara masing-masing sejumlah Rp 5000,00 (lima ribu rupiah)",
         "Ketiga terdakwa didakwa atas tindak pidana pencurian dengan pemberatan yang dilakukan secara bersama-sama. Pada hari Sabtu, 18 Mei 2024, sekitar pukul 09.00 WITA, di Pantai Keramas, Gianyar, mereka mencuri barang-barang dari sebuah mobil Toyota Avanza milik Yuji Waki, seorang warga negara Jepang.  Para terdakwa berangkat dari kos Kurniadi Prayuda di Denpasar menuju Pantai Keramas. Setibanya di sana, Yudi Kristanto melihat mobil korban yang terparkir dan korban sedang berselancar di pantai. Yudi Kristanto kemudian memecahkan kaca mobil dengan batu dan mengambil barang-barang di dalamnya, yaitu tas berisi ponsel, kamera Go Pro, dompet berisi uang, celana pendek, dan baterai kamera.  Kurniadi Prayuda bertugas mengawasi situasi di atas sepeda motor, sementara Muhammad Rizal alias Iceng mengawasi situasi di jalan masuk pantai.  Atas perbuatannya, ketiga terdakwa didakwa dengan dakwaan primair Pasal 363 Ayat (1) ke-4 dan ke-5 KUHP tentang pencurian dengan pemberatan yang dilakukan secara bersama-sama. Sebagai dakwaan subsidair, mereka didakwa dengan Pasal 363 Ayat (1) ke-4 KUHP. Akibat perbuatan terdakwa, Yuji Waki mengalami kerugian sekitar Rp 14.400.000.",
         "['Pasal 363 Ayat (1) ke-4 KUHP', 'Pasal 363 Ayat (1) ke-5 KUHP']",
         "KURNIADI PRAYUDA",
         "17.0"
        ],
        [
         "47",
         "0",
         "27",
         "8",
         "3",
         "1 buah kamera GoPro warna hitam 1 buah kotak baterai kamera warna putih 2 buah baterai warna hitam Uang tunai sejumlah Rp. 42.000,00 1 unit I Phone 11 Pro Warna Grey 1 unit mobil toyota avanza DK 1327 IE 1 lembar STNK nomor registrasi DK 1327 IE Atas Nama Huang Szu Feng Dikembalikan kepada saksi Yuji Waki 1 buah batu kali warna cokelat 1 bidang kaca mobil dalam keadaan pecah dengan lapisan ryben warna hitam Dirampas untuk dimusnahkan 1 (satu) unit Sepeda Motor honda vario warna hitam dengan DK 4093 SS beserta Kunci Kontak Dikembalikan kepada Terdakwa 1. Yudi Kristianto 1 (satu) unit Sepeda Motor honda scoopy warna cream abu-abu Nomor Polisi DK 5628 ADR beserta Kunci Kontak Dikembalikan kepada Tedakwa 2. Kurniadi Prayoga Membebankan kepada Para Terdakwa untuk membayar biaya perkara masing-masing sejumlah Rp 5000,00 (lima ribu rupiah)",
         "Ketiga terdakwa didakwa atas tindak pidana pencurian dengan pemberatan yang dilakukan secara bersama-sama. Pada hari Sabtu, 18 Mei 2024, sekitar pukul 09.00 WITA, di Pantai Keramas, Gianyar, mereka mencuri barang-barang dari sebuah mobil Toyota Avanza milik Yuji Waki, seorang warga negara Jepang.  Para terdakwa berangkat dari kos Kurniadi Prayuda di Denpasar menuju Pantai Keramas. Setibanya di sana, Yudi Kristanto melihat mobil korban yang terparkir dan korban sedang berselancar di pantai. Yudi Kristanto kemudian memecahkan kaca mobil dengan batu dan mengambil barang-barang di dalamnya, yaitu tas berisi ponsel, kamera Go Pro, dompet berisi uang, celana pendek, dan baterai kamera.  Kurniadi Prayuda bertugas mengawasi situasi di atas sepeda motor, sementara Muhammad Rizal alias Iceng mengawasi situasi di jalan masuk pantai.  Atas perbuatannya, ketiga terdakwa didakwa dengan dakwaan primair Pasal 363 Ayat (1) ke-4 dan ke-5 KUHP tentang pencurian dengan pemberatan yang dilakukan secara bersama-sama. Sebagai dakwaan subsidair, mereka didakwa dengan Pasal 363 Ayat (1) ke-4 KUHP. Akibat perbuatan terdakwa, Yuji Waki mengalami kerugian sekitar Rp 14.400.000.",
         "['Pasal 363 Ayat (1) ke-4 KUHP', 'Pasal 363 Ayat (1) ke-5 KUHP']",
         "MUHAMAD RIZAL Als ICENG",
         "17.0"
        ],
        [
         "48",
         "0",
         "28",
         "8",
         "3",
         "- 1 (satu) buah Kotak Iphone 13 merek Apple dengan nomor Imei 352094679433646 - 1 (satu) lembar Nota Pembelian 1 (satu) unit Iphone 13 merek Apple warna Putih dengan nomor Imei 352094679433646 dari Toko RA GADGET tertanggal 25 Mei 2023 - 1 (satu) unit Iphone 13 merek Apple warna Putih dengan nomor Imei 352094679433646 Dikembalikan kepada Saksi I Kadek Saputra - 1 (satu) buah Kotak Iphone 12 Pro merek Apple Dirampas untuk dimusnahkan - 1 (satu) unit Handphone merek Samsung A04 warna Rose Gold dengan Pelindung warna Hitam Dikembalikan kepada Saksi I Wayan Windra - 1 (satu) buah Flashdisk merek V-GEN warna Hitam yang berisi rekaman kamera CCTV di Toko JS Phone yang berlokasi di Jalan Cok Gde Rai nomor 6, Desa Peliatan, Kecamatan Ubud, Kabupaten Gianyar pada hari Jumat, tanggal 03 November 2023 Tetap terlampir dalam berkas perkara 6. Membebankan kepada Terdakwa untuk membayar biaya perkara sejumlah Rp 5000,00 (lima ribu rupiah)",
         "Putu Baskara Putra didakwa atas dua tindak pidana: pencurian dan penadahan. Pada hari Jumat, 3 November 2023, sekitar pukul 05.30 WITA, di BSK INK Tatto, Ubud, Gianyar, terdakwa mengambil ponsel iPhone 13 milik I Kadek Saputra yang sedang diisi daya di atas meja studio. Saat itu, korban sedang tertidur.  Setelah mengambil ponsel tersebut, terdakwa menyembunyikannya di kamarnya, menonaktifkannya, dan membuang kartu SIM agar tidak terlacak. Ketika korban mencari ponselnya, terdakwa berpura-pura membantu mencari. Setelah korban pergi, terdakwa menggadaikan ponsel tersebut di Toko JS Phone sekitar pukul 12.52 WITA.  Atas perbuatannya, Putu Baskara Putra didakwa dengan dakwaan pertama Pasal 362 KUHP tentang pencurian. Sebagai alternatif, ia didakwa dengan dakwaan kedua Pasal 480 ke-1 KUHP tentang penadahan. Akibat perbuatan terdakwa, I Kadek Saputra mengalami kerugian sekitar Rp 13.000.000.",
         "['Pasal 362 KUHP', 'Pasal 480 Ke-1 KUHP']",
         "PUTU BASKARA PUTRA",
         "12.0"
        ],
        [
         "49",
         "0",
         "28",
         "9",
         "2",
         "(dua) buah dus/kotak HP antara lain 1 (satu) buah dus/kotak HP Merk Infinix Note 30 Pro warna Gold dengan Nomor Imei 1 350880533662822 dan Nomor Imei 2 350880533662830 dan 1 (satu) buah dus/kotak HP Merk Infinix Note 30 Pro warna Hitam dengan Nomor Imei 1 350880533630126 dan Nomor Imei 2 350880533630134 2 (dua) Unit Hp antara lain 1 (satu) Unit HP Merk Infinix Note 30 Pro warna Gold dengan Nomor Imei 1 350880533662822 dan Nomor Imei 2 350880533662830 dan 1 (satu) Unit HP Merk Infinix Note 30 Pro warna Hitam dengan Nomor Imei 1 350880533630126 dan Nomor Imei 2 350880533630134 Barang bukti nomor 1 sampai dengan nomor 2 dikembalikan kepada Saksi Korban Eka Diana Mahira 1 (satu) unit Sepeda Motor Merk Honda PCX, Type V1J02Q32LO A/T, Nomor Polisi DK 6850 FAV, Tahun Pembuatan 2018, Warna Putih, Nomor Rangka MH1KF221XJK045360, Nomor Mesin KF22E1045441, atas nama DOY SAFANDO alamat Jl. Teras Bukit 4 No. 2 Jimbaran Kuta Selatan Badung berikut dengan remote kontak dan STNK sepeda motor dimaksud serta BPKBnya 1 (satu) potong baju kaos lengan pendek warna putih merk RIPCURL yang di dada kanan ada tulisan RIPCURL warna biru 1 (satu) potong celana pendek merk KENDY berdasar hitam bercorak garis menyilang berwarna silver Barang bukti nomor 3 sampai dengan nomor 5 dikembalikan kepada Terdakwa Membebankan kepada Terdakwa membayar biaya perkara sejumlah Rp5.000,00 (lima ribu rupiah)",
         "Saiful Rohman didakwa atas tindak pidana pencurian dengan pemberatan. Pada hari Sabtu, 10 Februari 2024, sekitar pukul 00.30 WITA, di rumah Eka Diana Mahira di Ketewel, Sukawati, Gianyar, terdakwa mengambil dua unit ponsel Infinix Note 30 Pro milik korban.  Terdakwa datang ke rumah korban tanpa izin. Setelah melihat seorang pria di taman depan rumah, terdakwa memanjat tembok setinggi 2,5 meter dan masuk ke dalam rumah melalui bagian belakang ruang tamu yang tidak berpintu. Di dalam rumah, terdakwa mengambil dua ponsel yang sedang diisi daya dan membawanya kabur.  Atas perbuatannya, Saiful Rohman didakwa dengan dakwaan primair Pasal 363 ayat (2) KUHP tentang pencurian dengan pemberatan. Sebagai dakwaan subsidair, ia didakwa dengan Pasal 362 KUHP tentang pencurian. Akibat perbuatan terdakwa, Eka Diana Mahira mengalami kerugian sekitar Rp 6.000.000.",
         "['Pasal 363 Ayat (2) KUHP', 'Pasal 362 KUHP']",
         "SAIFUL ROHMAN",
         "14.0"
        ]
       ],
       "shape": {
        "columns": 9,
        "rows": 159
       }
      },
      "text/html": [
       "<div>\n",
       "<style scoped>\n",
       "    .dataframe tbody tr th:only-of-type {\n",
       "        vertical-align: middle;\n",
       "    }\n",
       "\n",
       "    .dataframe tbody tr th {\n",
       "        vertical-align: top;\n",
       "    }\n",
       "\n",
       "    .dataframe thead th {\n",
       "        text-align: right;\n",
       "    }\n",
       "</style>\n",
       "<table border=\"1\" class=\"dataframe\">\n",
       "  <thead>\n",
       "    <tr style=\"text-align: right;\">\n",
       "      <th></th>\n",
       "      <th>klasifikasi_perkara_encoded</th>\n",
       "      <th>penuntut_umum_encoded</th>\n",
       "      <th>hakim_encoded</th>\n",
       "      <th>jumlah_saksi</th>\n",
       "      <th>cleaned_barang_bukti</th>\n",
       "      <th>summarized_dakwaan</th>\n",
       "      <th>extracted_pasal</th>\n",
       "      <th>terdakwa</th>\n",
       "      <th>total_pidana_penjara_bulan</th>\n",
       "    </tr>\n",
       "  </thead>\n",
       "  <tbody>\n",
       "    <tr>\n",
       "      <th>0</th>\n",
       "      <td>0</td>\n",
       "      <td>0</td>\n",
       "      <td>0</td>\n",
       "      <td>6</td>\n",
       "      <td>1 (satu) buah sabit kecil dengan gagang dari k...</td>\n",
       "      <td>Bahwa ia terdakwa Gede Darmayasa pada hari sel...</td>\n",
       "      <td>['Pasal 362 KUHP jo. Pasal 65 Ayat (1) KUHP']</td>\n",
       "      <td>GEDE DARMAYASA</td>\n",
       "      <td>5.0</td>\n",
       "    </tr>\n",
       "    <tr>\n",
       "      <th>1</th>\n",
       "      <td>0</td>\n",
       "      <td>0</td>\n",
       "      <td>1</td>\n",
       "      <td>6</td>\n",
       "      <td>1 (satu) buah Kotak/Box handphone merk OPPO ty...</td>\n",
       "      <td>Terdakwa Handri Johanes didakwa melakukan penc...</td>\n",
       "      <td>['Pasal 363 Ayat (1)']</td>\n",
       "      <td>HANDRI JOHANAS</td>\n",
       "      <td>4.0</td>\n",
       "    </tr>\n",
       "    <tr>\n",
       "      <th>2</th>\n",
       "      <td>1</td>\n",
       "      <td>1</td>\n",
       "      <td>2</td>\n",
       "      <td>2</td>\n",
       "      <td>1 (satu) buah plastik klip bening yang berisi ...</td>\n",
       "      <td>Dakwaan Pertama: Pada 14 April 2024, sekitar p...</td>\n",
       "      <td>['Pasal 112 Ayat (1) UU No. 35 Tahun 2009 tent...</td>\n",
       "      <td>I GEDE ARIADI alias BERNAD</td>\n",
       "      <td>14.0</td>\n",
       "    </tr>\n",
       "    <tr>\n",
       "      <th>3</th>\n",
       "      <td>1</td>\n",
       "      <td>2</td>\n",
       "      <td>2</td>\n",
       "      <td>2</td>\n",
       "      <td>1 (satu) buah plastik klip bening yang berisi ...</td>\n",
       "      <td>Dakwaan Pertama: Pada 14 April 2024, sekitar p...</td>\n",
       "      <td>['Pasal 112 Ayat (1) UU No. 35 Tahun 2009 tent...</td>\n",
       "      <td>I GEDE ARIADI alias BERNAD</td>\n",
       "      <td>14.0</td>\n",
       "    </tr>\n",
       "    <tr>\n",
       "      <th>4</th>\n",
       "      <td>0</td>\n",
       "      <td>3</td>\n",
       "      <td>2</td>\n",
       "      <td>4</td>\n",
       "      <td>1 (satu) unit sepeda motor merk Honda Scoopy w...</td>\n",
       "      <td>Pada 26 Maret 2024 pukul 17.10 WITA di pinggir...</td>\n",
       "      <td>['Pasal 362 KUHP']</td>\n",
       "      <td>R. Sabirin</td>\n",
       "      <td>14.0</td>\n",
       "    </tr>\n",
       "    <tr>\n",
       "      <th>...</th>\n",
       "      <td>...</td>\n",
       "      <td>...</td>\n",
       "      <td>...</td>\n",
       "      <td>...</td>\n",
       "      <td>...</td>\n",
       "      <td>...</td>\n",
       "      <td>...</td>\n",
       "      <td>...</td>\n",
       "      <td>...</td>\n",
       "    </tr>\n",
       "    <tr>\n",
       "      <th>154</th>\n",
       "      <td>0</td>\n",
       "      <td>56</td>\n",
       "      <td>14</td>\n",
       "      <td>4</td>\n",
       "      <td>2 (dua) buah MacBook Air merk Apple warna Grey...</td>\n",
       "      <td>I Gede Wahyu Arianta dan Feri Mananue didakwa ...</td>\n",
       "      <td>['Pasal 363 Ayat (1) ke-4 dan ke-5 KUHP']</td>\n",
       "      <td>GEDE WAHYU ARIANTA</td>\n",
       "      <td>26.0</td>\n",
       "    </tr>\n",
       "    <tr>\n",
       "      <th>155</th>\n",
       "      <td>0</td>\n",
       "      <td>56</td>\n",
       "      <td>14</td>\n",
       "      <td>4</td>\n",
       "      <td>2 (dua) buah MacBook Air merk Apple warna Grey...</td>\n",
       "      <td>I Gede Wahyu Arianta dan Feri Mananue didakwa ...</td>\n",
       "      <td>['Pasal 363 Ayat (1) ke-4 dan ke-5 KUHP']</td>\n",
       "      <td>FERI MANANUE</td>\n",
       "      <td>26.0</td>\n",
       "    </tr>\n",
       "    <tr>\n",
       "      <th>156</th>\n",
       "      <td>0</td>\n",
       "      <td>47</td>\n",
       "      <td>8</td>\n",
       "      <td>4</td>\n",
       "      <td>1 (satu) unit sepeda motor Yamaha RXS tahun 19...</td>\n",
       "      <td>Reza Aditya Pratama dan Kadek Agus Yudi Pranat...</td>\n",
       "      <td>['Pasal 363 Ayat (1) ke-3 dan ke-4 KUHP']</td>\n",
       "      <td>Reza Aditya Pratama Als Reza</td>\n",
       "      <td>20.0</td>\n",
       "    </tr>\n",
       "    <tr>\n",
       "      <th>157</th>\n",
       "      <td>0</td>\n",
       "      <td>47</td>\n",
       "      <td>8</td>\n",
       "      <td>4</td>\n",
       "      <td>1 (satu) unit sepeda motor Yamaha RXS tahun 19...</td>\n",
       "      <td>Reza Aditya Pratama dan Kadek Agus Yudi Pranat...</td>\n",
       "      <td>['Pasal 363 Ayat (1) ke-3 dan ke-4 KUHP']</td>\n",
       "      <td>Kadek Agus Yudi Pranata Als Agus</td>\n",
       "      <td>20.0</td>\n",
       "    </tr>\n",
       "    <tr>\n",
       "      <th>158</th>\n",
       "      <td>0</td>\n",
       "      <td>38</td>\n",
       "      <td>15</td>\n",
       "      <td>2</td>\n",
       "      <td>1 (satu) Unit Handphone merek Redmi Note 10S w...</td>\n",
       "      <td>Tentu, berikut ringkasan dakwaan terhadap Agus...</td>\n",
       "      <td>['Pasal 363 Ayat (1) ke-3 KUHP']</td>\n",
       "      <td>AGUS JAENUDIN</td>\n",
       "      <td>4.0</td>\n",
       "    </tr>\n",
       "  </tbody>\n",
       "</table>\n",
       "<p>159 rows × 9 columns</p>\n",
       "</div>"
      ],
      "text/plain": [
       "     klasifikasi_perkara_encoded  penuntut_umum_encoded  hakim_encoded  \\\n",
       "0                              0                      0              0   \n",
       "1                              0                      0              1   \n",
       "2                              1                      1              2   \n",
       "3                              1                      2              2   \n",
       "4                              0                      3              2   \n",
       "..                           ...                    ...            ...   \n",
       "154                            0                     56             14   \n",
       "155                            0                     56             14   \n",
       "156                            0                     47              8   \n",
       "157                            0                     47              8   \n",
       "158                            0                     38             15   \n",
       "\n",
       "     jumlah_saksi                               cleaned_barang_bukti  \\\n",
       "0               6  1 (satu) buah sabit kecil dengan gagang dari k...   \n",
       "1               6  1 (satu) buah Kotak/Box handphone merk OPPO ty...   \n",
       "2               2  1 (satu) buah plastik klip bening yang berisi ...   \n",
       "3               2  1 (satu) buah plastik klip bening yang berisi ...   \n",
       "4               4  1 (satu) unit sepeda motor merk Honda Scoopy w...   \n",
       "..            ...                                                ...   \n",
       "154             4  2 (dua) buah MacBook Air merk Apple warna Grey...   \n",
       "155             4  2 (dua) buah MacBook Air merk Apple warna Grey...   \n",
       "156             4  1 (satu) unit sepeda motor Yamaha RXS tahun 19...   \n",
       "157             4  1 (satu) unit sepeda motor Yamaha RXS tahun 19...   \n",
       "158             2  1 (satu) Unit Handphone merek Redmi Note 10S w...   \n",
       "\n",
       "                                    summarized_dakwaan  \\\n",
       "0    Bahwa ia terdakwa Gede Darmayasa pada hari sel...   \n",
       "1    Terdakwa Handri Johanes didakwa melakukan penc...   \n",
       "2    Dakwaan Pertama: Pada 14 April 2024, sekitar p...   \n",
       "3    Dakwaan Pertama: Pada 14 April 2024, sekitar p...   \n",
       "4    Pada 26 Maret 2024 pukul 17.10 WITA di pinggir...   \n",
       "..                                                 ...   \n",
       "154  I Gede Wahyu Arianta dan Feri Mananue didakwa ...   \n",
       "155  I Gede Wahyu Arianta dan Feri Mananue didakwa ...   \n",
       "156  Reza Aditya Pratama dan Kadek Agus Yudi Pranat...   \n",
       "157  Reza Aditya Pratama dan Kadek Agus Yudi Pranat...   \n",
       "158  Tentu, berikut ringkasan dakwaan terhadap Agus...   \n",
       "\n",
       "                                       extracted_pasal  \\\n",
       "0        ['Pasal 362 KUHP jo. Pasal 65 Ayat (1) KUHP']   \n",
       "1                               ['Pasal 363 Ayat (1)']   \n",
       "2    ['Pasal 112 Ayat (1) UU No. 35 Tahun 2009 tent...   \n",
       "3    ['Pasal 112 Ayat (1) UU No. 35 Tahun 2009 tent...   \n",
       "4                                   ['Pasal 362 KUHP']   \n",
       "..                                                 ...   \n",
       "154          ['Pasal 363 Ayat (1) ke-4 dan ke-5 KUHP']   \n",
       "155          ['Pasal 363 Ayat (1) ke-4 dan ke-5 KUHP']   \n",
       "156          ['Pasal 363 Ayat (1) ke-3 dan ke-4 KUHP']   \n",
       "157          ['Pasal 363 Ayat (1) ke-3 dan ke-4 KUHP']   \n",
       "158                   ['Pasal 363 Ayat (1) ke-3 KUHP']   \n",
       "\n",
       "                             terdakwa  total_pidana_penjara_bulan  \n",
       "0                      GEDE DARMAYASA                         5.0  \n",
       "1                      HANDRI JOHANAS                         4.0  \n",
       "2          I GEDE ARIADI alias BERNAD                        14.0  \n",
       "3          I GEDE ARIADI alias BERNAD                        14.0  \n",
       "4                          R. Sabirin                        14.0  \n",
       "..                                ...                         ...  \n",
       "154                GEDE WAHYU ARIANTA                        26.0  \n",
       "155                      FERI MANANUE                        26.0  \n",
       "156      Reza Aditya Pratama Als Reza                        20.0  \n",
       "157  Kadek Agus Yudi Pranata Als Agus                        20.0  \n",
       "158                     AGUS JAENUDIN                         4.0  \n",
       "\n",
       "[159 rows x 9 columns]"
      ]
     },
     "execution_count": 3,
     "metadata": {},
     "output_type": "execute_result"
    }
   ],
   "source": [
    "df"
   ]
  },
  {
   "cell_type": "code",
   "execution_count": 4,
   "metadata": {},
   "outputs": [],
   "source": [
    "df_filtered = df.drop(columns=['extracted_pasal'])"
   ]
  },
  {
   "cell_type": "code",
   "execution_count": 5,
   "metadata": {},
   "outputs": [
    {
     "name": "stdout",
     "output_type": "stream",
     "text": [
      "<class 'pandas.core.frame.DataFrame'>\n",
      "RangeIndex: 159 entries, 0 to 158\n",
      "Data columns (total 8 columns):\n",
      " #   Column                       Non-Null Count  Dtype  \n",
      "---  ------                       --------------  -----  \n",
      " 0   klasifikasi_perkara_encoded  159 non-null    int64  \n",
      " 1   penuntut_umum_encoded        159 non-null    int64  \n",
      " 2   hakim_encoded                159 non-null    int64  \n",
      " 3   jumlah_saksi                 159 non-null    int64  \n",
      " 4   cleaned_barang_bukti         159 non-null    object \n",
      " 5   summarized_dakwaan           159 non-null    object \n",
      " 6   terdakwa                     159 non-null    object \n",
      " 7   total_pidana_penjara_bulan   159 non-null    float64\n",
      "dtypes: float64(1), int64(4), object(3)\n",
      "memory usage: 10.1+ KB\n"
     ]
    }
   ],
   "source": [
    "df_filtered.info()"
   ]
  },
  {
   "cell_type": "markdown",
   "metadata": {},
   "source": [
    "### Split Data"
   ]
  },
  {
   "cell_type": "code",
   "execution_count": 6,
   "metadata": {},
   "outputs": [],
   "source": [
    "def stratified_split(df: pd.DataFrame, split_size: float = 0.7) -> tuple[pd.DataFrame, pd.DataFrame]:\n",
    "    unique_groups = df.groupby([\"klasifikasi_perkara_encoded\", \"penuntut_umum_encoded\", \"hakim_encoded\"]).apply(lambda x: x.index.tolist()).to_dict()\n",
    "    \n",
    "    print(unique_groups)\n",
    "    train_idx, test_idx = [], []\n",
    "    \n",
    "    for indices in unique_groups.values():        \n",
    "        if len(indices) == 1:\n",
    "            train_idx.extend(indices)\n",
    "        else:\n",
    "            train, test = train_test_split(indices, train_size=split_size, random_state=42)\n",
    "            train_idx.extend(train)\n",
    "            test_idx.extend(test)\n",
    "    \n",
    "    return df.loc[train_idx], df.loc[test_idx]"
   ]
  },
  {
   "cell_type": "code",
   "execution_count": 7,
   "metadata": {},
   "outputs": [
    {
     "name": "stdout",
     "output_type": "stream",
     "text": [
      "{(0, 0, 0): [0, 18], (0, 0, 1): [1], (0, 3, 2): [4], (0, 3, 3): [8], (0, 7, 0): [13, 15], (0, 8, 0): [14, 16], (0, 9, 0): [17], (0, 9, 4): [26, 27], (0, 11, 3): [25], (0, 13, 4): [24], (0, 14, 0): [28], (0, 15, 0): [29], (0, 16, 0): [30], (0, 17, 0): [31, 32], (0, 18, 0): [33], (0, 20, 7): [37], (0, 21, 8): [38, 40], (0, 22, 8): [39, 103], (0, 22, 12): [85, 95, 96, 97, 99, 106], (0, 23, 8): [65, 87], (0, 23, 9): [41], (0, 24, 8): [42], (0, 25, 8): [43, 62], (0, 25, 11): [58], (0, 26, 8): [71, 72, 73], (0, 26, 10): [44], (0, 26, 11): [63, 64], (0, 27, 8): [45, 46, 47], (0, 27, 11): [67, 68], (0, 28, 8): [48, 59, 60, 61], (0, 28, 9): [49], (0, 28, 11): [55, 104, 105], (0, 29, 11): [50, 51], (0, 30, 8): [54], (0, 30, 9): [52, 56, 57], (0, 31, 8): [82, 92, 101], (0, 31, 9): [53, 69], (0, 31, 11): [102], (0, 31, 12): [77], (0, 32, 9): [66], (0, 33, 11): [70, 79], (0, 34, 11): [74, 75], (0, 34, 13): [100], (0, 35, 8): [83, 98, 107], (0, 35, 11): [76], (0, 35, 12): [78, 94], (0, 36, 11): [80], (0, 37, 8): [81], (0, 38, 8): [123, 126, 146, 147], (0, 38, 11): [84], (0, 38, 15): [158], (0, 39, 11): [86], (0, 39, 12): [89, 91], (0, 40, 12): [88, 90], (0, 41, 8): [93], (0, 42, 11): [108], (0, 43, 13): [109], (0, 44, 13): [110], (0, 45, 8): [124], (0, 45, 12): [111, 112, 131], (0, 46, 8): [113], (0, 47, 8): [114, 119, 156, 157], (0, 47, 11): [122], (0, 48, 12): [115, 116], (0, 49, 11): [117], (0, 50, 8): [118], (0, 51, 8): [120, 140, 141, 142, 143], (0, 51, 11): [121], (0, 51, 12): [132], (0, 51, 14): [148], (0, 52, 8): [125, 138, 139], (0, 52, 11): [133, 134, 135, 136], (0, 53, 12): [127, 128, 129, 130], (0, 54, 8): [137, 149, 150, 151, 152], (0, 54, 12): [144], (0, 55, 12): [145], (0, 56, 14): [153, 154, 155], (1, 1, 2): [2], (1, 2, 2): [3], (1, 3, 2): [5], (1, 4, 2): [6], (1, 4, 4): [20], (1, 5, 2): [7], (1, 10, 4): [19], (1, 11, 0): [21], (1, 11, 4): [23], (1, 12, 1): [22], (1, 19, 5): [34, 35], (1, 19, 6): [36], (2, 4, 2): [10, 12], (2, 6, 2): [9, 11]}\n"
     ]
    },
    {
     "name": "stderr",
     "output_type": "stream",
     "text": [
      "C:\\Users\\Kalea\\AppData\\Local\\Temp\\ipykernel_46900\\1615946564.py:2: DeprecationWarning: DataFrameGroupBy.apply operated on the grouping columns. This behavior is deprecated, and in a future version of pandas the grouping columns will be excluded from the operation. Either pass `include_groups=False` to exclude the groupings or explicitly select the grouping columns after groupby to silence this warning.\n",
      "  unique_groups = df.groupby([\"klasifikasi_perkara_encoded\", \"penuntut_umum_encoded\", \"hakim_encoded\"]).apply(lambda x: x.index.tolist()).to_dict()\n"
     ]
    }
   ],
   "source": [
    "train_df, test_df = stratified_split(df_filtered)"
   ]
  },
  {
   "cell_type": "code",
   "execution_count": 8,
   "metadata": {},
   "outputs": [
    {
     "name": "stdout",
     "output_type": "stream",
     "text": [
      "Jumlah Klasifikasi Perkara: 3\n",
      "Jumlah Data Train:  112\n",
      "klasifikasi_perkara_encoded\n",
      "0    98\n",
      "1    12\n",
      "2     2\n",
      "Name: count, dtype: int64\n"
     ]
    }
   ],
   "source": [
    "jenis_klasifikasi_perkara = train_df['klasifikasi_perkara_encoded'].unique()\n",
    "jumlah_klasifikasi_perkara = len(jenis_klasifikasi_perkara)\n",
    "print(f\"Jumlah Klasifikasi Perkara: {jumlah_klasifikasi_perkara}\")\n",
    "print(f\"Jumlah Data Train:  {len(train_df)}\")\n",
    "\n",
    "klasifikasi_perkara_values = train_df['klasifikasi_perkara_encoded'].value_counts()\n",
    "print(klasifikasi_perkara_values)"
   ]
  },
  {
   "cell_type": "code",
   "execution_count": 9,
   "metadata": {},
   "outputs": [
    {
     "name": "stdout",
     "output_type": "stream",
     "text": [
      "Jumlah Klasifikasi Perkara: 3\n",
      "Jumlah Data Test:  47\n",
      "klasifikasi_perkara_encoded\n",
      "0    44\n",
      "2     2\n",
      "1     1\n",
      "Name: count, dtype: int64\n"
     ]
    }
   ],
   "source": [
    "jenis_klasifikasi_perkara = test_df['klasifikasi_perkara_encoded'].unique()\n",
    "jumlah_klasifikasi_perkara = len(jenis_klasifikasi_perkara)\n",
    "print(f\"Jumlah Klasifikasi Perkara: {jumlah_klasifikasi_perkara}\")\n",
    "print(f\"Jumlah Data Test:  {len(test_df)}\")\n",
    "\n",
    "klasifikasi_perkara_values = test_df['klasifikasi_perkara_encoded'].value_counts()\n",
    "print(klasifikasi_perkara_values)"
   ]
  },
  {
   "cell_type": "code",
   "execution_count": 10,
   "metadata": {},
   "outputs": [
    {
     "data": {
      "application/vnd.microsoft.datawrangler.viewer.v0+json": {
       "columns": [
        {
         "name": "index",
         "rawType": "int64",
         "type": "integer"
        },
        {
         "name": "klasifikasi_perkara_encoded",
         "rawType": "int64",
         "type": "integer"
        },
        {
         "name": "penuntut_umum_encoded",
         "rawType": "int64",
         "type": "integer"
        },
        {
         "name": "hakim_encoded",
         "rawType": "int64",
         "type": "integer"
        },
        {
         "name": "jumlah_saksi",
         "rawType": "int64",
         "type": "integer"
        },
        {
         "name": "cleaned_barang_bukti",
         "rawType": "object",
         "type": "string"
        },
        {
         "name": "summarized_dakwaan",
         "rawType": "object",
         "type": "string"
        },
        {
         "name": "terdakwa",
         "rawType": "object",
         "type": "string"
        },
        {
         "name": "total_pidana_penjara_bulan",
         "rawType": "float64",
         "type": "float"
        }
       ],
       "conversionMethod": "pd.DataFrame",
       "ref": "5fc443bb-5e8b-4be3-a360-dc59b87cbb3b",
       "rows": [
        [
         "0",
         "0",
         "0",
         "0",
         "6",
         "1 (satu) buah sabit kecil dengan gagang dari kayu 1 (satu) buah jaring plastik paranet warna hitam 1 (satu) utas tali plastik warna biru dengan panjang 7,5 meter 20 (dua puluh) buah kantong plastik kresek 2 (dua) utas tali kain warna merah dengan panjang 80 cm Dimusnahkan 1 (satu) unit mobil merek Suzuki ST 150 Pick Up warna hitam DK 8985 KC, NOKA MHYESL415JJ723753, NOSIN G15AID1125449 beserta kunci kontak 1 (satu) lembar STNK mobil merek Suzuki ST 150 Pick Up warna hitam DK 8985 KC, NOKA MHYESL415JJ723753, NOSIN G15AID1125449 nama pemilik a.n. I Kadek Kondrayasa Dikembalikan kepada I Gede Agus Wirayuda 4 (empat) buah durian jenis durian kane Dikembalikan kepada I Wayan Sukarene, S.E. 1 (satu) lembar nota pembelian buah durian Toko Tiara Durian Dikembalikan kepada Komang Ayu Anggreni 15 (lima belas) buah durian jenis durian kane 1 (satu) lembar nota pembelian buah durian Toko Semut Durian Dikembalikan kepada Komang Sujana Uang tunai sebesar Rp487.000,00 (empat ratus delapan puluh tujuh ribu rupiah) Dirampas untuk negara  6. Membebankan kepada Terdakwa membayar biaya perkara sejumlah Rp5.000,00 (lima ribu rupiah)",
         "Bahwa ia terdakwa Gede Darmayasa pada hari selasa tanggal 21 Mei 2024 sekira jam 06.00 WITA, hari Selasa tanggal 21 Mei 2024 sekira jam 06.30 WITA dan hari Sabtu tanggal 25 Mei 2024 sekira jam 06.00 WITA atau setidak-tidaknya pada waktu lain dalam Bulan Mei tahun 2024 atau setidak-tidaknya pada waktu lain dalam tahun 2024, di kebun milik I Wayan Sukerena, SE di Banjar / Desa Bunutin, Kecamatan Kintamani, Kab. Bangli, di kebun milik I Nyoman Susila di Banjar / Desa Bunutin, Kecamatan Kintamani, Kab. Bangli, dan di kebun milik I Ketut Tindih di Banjar / Desa Pengejaran, Kecamatan Kintamani, Kab. Bangli, atau setidak-tidaknya pada suatu tempat tertentu yang masih termasuk dalam daerah hukum Pengadilan Negeri Bangli, telah melakukan beberapa perbuatan yang harus dipandang sebagai perbuatan yang berdiri sendiri sehingga merupakan beberapa kejahatan yaitu mengambil barang sesuatu yang seluruhnya atau sebagian kepunyaan orang lain, dengan maksud untuk dimiliki secara melawan hukum, yang dilakukan terdakwa dengan cara-cara sebagai berikut. Bahwa pada hari Selasa tanggal 21 Mei 2024 sekira pukul 04.00 WITA terdakwa berangkat dari rumah terdakwa di Br. Dinas Pudeh, Ds. Tajun, Kec. Kubutambahan, Kab. Buleleng dengan menggunakan mobil Suzuki Carry Pick Up warna hitam DK 8985 KC untuk pergi ke Br./Ds. Bunutin, Kec. Kintamani, Kab. Bangli dengan melewati simpang tiga Pasar Tenten Kintamani dengan tujuan untuk membeli dan menawarkan buah durian yang masih ada dipohonnya sesampainya terdakwa di Br./Ds. Bunutin, Kec. Kintamani, Kab. Bangli sekira pukul 06.00 WITA terdakwa melihat pohon durian yang sudah berbuah di kebun milik I WAYAN SUKERENA, S.E. dipinggir Jalan Raya Ds. Bunutin, Kec. Kintamani, Kab. Bangli, karena situasi saat itu sepi selanjutnya terdakwa melihatlihat buah durian tersebut, setelah menemukan buah yang akan dipetik, selanjutnya terdakwa memetik buah durian tersebut dengan memanjat pohon durian tersebut dan dengan menggunakan sabit kecil untuk memotong buah durian tersebut sebanyak 2 (dua) pohon secara bergiliran dengan jumlah buah durian yang terdakwa petik sekitar 37 (tiga puluh tujuh) buah,setelah terkumpul lanjut buah durian tersebut terdakwa naikan di mobil Suzuki Carry Pick Up warna hitam DK 8985 KC yang terdakwa kendarai tersebut, setelah buah durian semua diatas mobil lanjut terdakwa meninggalkan kebun milik I WAYAN SUKERENA, S.E. tersebut. Kemudian dalam perjalanan terdakwa melihat lagi dipinggir Jalan Raya Ds. Bunutin Kintamani ada beberapa pohon durian yang sudah berbuah kemudian terdakwa turun memarkir mobil Suzuki Carry Pick Up warna hitam DK 8985 KC dipinggir jalan raya, setelah itu dengan berjalan kaki terdakwa menuju ke kebun milik I NYOMAN SUSILA di Br./Ds. Bunutin, Kec. Kintamani, Kab. Bangli sekira pukul 06.30 WITA karena melihat pohon durian berbuah cukup banyak akhirnya terdakwa memanjat pohon durian tersebut sebanyak 2 (dua) pohon secara bergantian kemudian memetik dengan menggunakan sabit kecil dan menurunkan buah durian sebanyak 27 (dua puluh tujuh) buah, setelah buah durian turun dan terkumpul kemudian terdakwa naikan ke atas mobil Suzuki Carry Pick Up warna hitam DK 8985 KC setelah itu terdakwa tutupi buah durian diatas mobil tersebut dengan menggunakan jaring plastik warna hitam dan terdakwa ikat dengan tali plastik warna biru supaya buah durian tersebut aman diatas mobil selanjutnya terdakwa meninggalkan Br./Ds. Bunutin, Kec. Kintamani, Kab. Bangli menuju rumah terdakwa di Br. Dinas Pudeh, Ds. Tajun, Kac. Kubutambahan, Kab. Buleleng, namun sebelum sampai dirumah sekitar pukul 14.30 WITA terdakwa langsung menjual durian tersebut kepada saksi Komang Ayu Anggreni di Batu Barak Desa Tajun Kec. Kubutambahan Kab. Buleleng sebanyak 40 (empat puluh) buah dengan berat kurang lebih 180 (seratus delapan puluh) Kg dengan harga Rp. 4.316.000 (empat juta tiga ratus enam belas ribu rupiah), selanjutnya sisa buah durian sebanyak 27 (dua puluh tujuh) buah terdakwa bawa pulang kerumah. Pada hari Kamis tanggal 23 Mei 2024 sekira pukul 18.00 WITA terdakwa menjual durian jenis durian Kane kepada KOMANG SUJANA di Gudang milik KOMANG SUJANA sebanyak 40 (empat puluh) buah durian dengan berat sekitar 200 Kg yang mana 24 buah durian hasil saya mencuri pada hari Selasa tanggal 21 Mei 2024 di Br./Ds. Bunutin, Kec. Kintamani, Kab. Bangli sedangkan 16 buah durian tersebut hasil dari terdakwa membeli di petani yang terdakwa jual dengan harga total Rp. 5.200.000, (lima juta dua ratus ribu rupiah). Selanjutnya pada hari Sabtu tanggal 25 Mei 2024 sekira pukul 04.00 WITA terdakwa berangkat dari rumah terdakwa di Br. Dinas Pudeh, Ds. Tajun. Kec. Kubutambahan, Kab. Buleleng dengan menggunakan mobil Suzuki Carry Pick Up warna hitam DK 8985 KC untuk pergi ke Br./Ds. Pengejaran, Kec. Kintamani, Kab. Bangli, sesampainya terdakwa di Br./Ds. Pengejaran, Kec. Kintamani, Kab. Bangli sekira pukul 06.00 wita dengan melewati simpang tiga Lampu terdakwa tiba dikebun milik I KETUT TINDIH yang berlokasi di pinggir Jalan Raya Ds, Pengejaran, karena situasi sepi terdakwa memanjat pohon durian tersebut sebanyak 2 (dua) pohon secara bergantian selanjutnya memetik buah durian tersebut dengan menggunakan sabit kecil sebanyak 20 (dua) buah dan menjatuhkan buah durian tersebut ketanah setelah itu terdakwa mengumpulkan buah durian yang sudah terdakwa petik selanjutnya terdakwa menaikan buah durian tersebut ke atas mobil carry yang terdakwa bawa selanjutnya buah durian tersebut terdakwa tutupi buah durian diatas mobil tersebut dengan menggunakan jaring plastik warna hitam dan terdakwa ikat dengan tali plastik warna biru supaya buah durian tersebut aman diatas mobil selanjutnya terdakwa meninggalkan Br./Ds. Pengejaran, Kec. Kintamani, Kab. Bangli menuju rumah terdakwa di Br. Dinas Pudeh, Ds. Tajun, Kac. Kubutambahan, Kab. Buleleng, tetapi sebelum pulang kerumahnya terdakwa pergi ke Desa Tajun untuk menjual buah durian tersebut kepada Komang Ayu Anggreni sebanyak 15 buah dengan harga Rp. 1.485.000 (satu juta empat ratus delapan puluh lima ribu rupiah), setelah menjual buah durian tersebut terdakwa langsung pulang menuju rumah terdakwa di Br. Dinas Pudeh, Ds. Tajun, Kac. Kubutambahan, Kab. Buleleng. Bahwa terdakwa mengambil kurang lebih 67 (enam puluh tujuh) buah durian kane tersebut tanpa ijin dari saksi I Wayan Sukerena, SE, saksi I Nyoman Susila, saksi I Ketut Tindih, dan bermaksud untuk memiliki buah durian tersebut dengan menjualnya dan uang hasil penjualan dipergunakan untuk biaya hidup sehari-hari. Akibat dari perbuatan terdakwa tersebut, mengakibatkan saksi I Wayan Sukerena, SE mengalami kerugian sebesar Rp.3.330.000,- (tiga juta tiga ratus tiga puluh ribu rupiah) , saksi I Ketut Tindih mengalami kerugian sebesar Rp.3.500.000,- (tiga juta lima ratus ribu rupiah), dan saksi I Nyoman Susila mengalami kerugian sebesar Rp. 2.000.000,- (dua juta rupiah) atau setidak-tidaknya lebih dari Rp.250,- (dua ratus lima puluh rupiah). - sebagaimana diatur dan diancam pidana dalam Pasal 362 KUHP jo Pasal 65 Ayat (1) KUHP.",
         "GEDE DARMAYASA",
         "5.0"
        ],
        [
         "1",
         "0",
         "0",
         "1",
         "6",
         "1 (satu) buah Kotak/Box handphone merk OPPO type A53 warna Hitam, dengan nomor IMEI1/2 867919057365515/867919057365507 1 (satu) lembar nota pembelian 1 (satu) unit handphone merk OPPO type A53 warna hitam, dengan nomor IMEI1/2 867919057365515/867919057365507 dari Anyelir Ponsel pada tanggal 3 April 2020 senilai Rp3.999.000,00 (tiga juta sembilan ratus sembilan puluh sembilan ribu rupiah). 1 (satu) unit handphone merk OPPO type A53 warna hitam, dengan nomor IMEI1/2 867919057365515/867919057365507 Dikembalikan kepada I Nengah Sukadana  6. Membebankan kepada Terdakwa membayar biaya perkara sejumlah Rp5.000,00 (lima ribu rupiah)",
         "Terdakwa Handri Johanes didakwa melakukan pencurian satu unit handphone OPPO A53 warna hitam pada 24 April 2024 sekitar pukul 03.00 WITA di Puri Kanginan, Bangli.Terdakwa yang sebelumnya bekerja di mebel UD. Wisnu, sering keluar masuk area Puri Kanginan.Pada hari kejadian, terdakwa masuk ke dalam Puri mencari teman, namun tidak menemukannya.Saat hendak pulang, ia melihat sebuah handphone sedang dicas di kamar dengan pintu sedikit terbuka.Ia kemudian mengambil handphone tersebut dan pergi.Handphone tersebut dalam keadaan terkunci, sehingga beberapa hari kemudian terdakwa menjualnya kepada Denny Firmansyah di Klungkung seharga Rp300.000, yang kemudian dikirim kepada anaknya di Lombok melalui transfer.Akibat perbuatannya, saksi I Nengah Sukadana mengalami kerugian sebesar Rp3.999.000.Perbuatan terdakwa diancam pidana berdasarkan Pasal 363 Ayat (1) ke-3 KUHP.",
         "HANDRI JOHANAS",
         "4.0"
        ],
        [
         "2",
         "1",
         "1",
         "2",
         "2",
         "1 (satu) buah plastik klip bening yang berisi kristal bening yang diduga NarkotikaGolongan I bukan tanaman jenis shabu dengan berat 0,26 (nol koma dua enam) gram bruto atau 0,20 (nol koma dua puluh) gram netto selanjutnya disisihkan seberat 0,02 (nol koma nol dua) gram netto untuk uji labforensik sehingga sisa barang bukti 0,18 (nol koma delapan belas) gram netto 1 (satu) buah micro tube 1 (satu) buah handphone merk REDMI type 10 C warna Hitam berikut dengan 1 (satu) buah simcard 1 (satu) buah Tas selempang merk ALOIPFAX warna hitam Dimusnahkan 1 (satu) unit sepeda motor merk Yamaha Type Jupiter MX warna Hitam DK-6181-LF berikut kunci kontak Dikembalikan kepada yang berhak melalui Terdakwa 6. Membebankan kepada Terdakwa membayar biaya perkara sejumlah Rp5.000,00 (lima ribu rupiah)",
         "Dakwaan Pertama: Pada 14 April 2024, sekitar pukul 16.35 WITA, terdakwa secara tanpa hak atau melawan hukum memiliki, menyimpan, menguasai, atau menyediakan narkotika golongan I bukan tanaman jenis sabu. Perbuatan ini dilakukan setelah terdakwa berkenalan dengan seseorang bernama Kadek (DPO) di Facebook dan melanjutkan percakapan via WhatsApp, yang mengarah pada kesepakatan menggunakan sabu bersama. Terdakwa kemudian menghubungi Mang Donal (DPO) untuk mendapatkan sabu pada 12 April 2024 dan mengambil barang tersebut di Klungkung pada 14 April 2024, sebelum berangkat ke Bangli menggunakan sepeda motor.  Pada saat menghubungi Kadek di Jl. Brigjen Ngurah Rai, Bangli, sekitar pukul 16.35 WITA, terdakwa diamankan oleh tim Opsnal Satresnarkoba Polres Bangli. Saat digeledah, ditemukan barang bukti berupa 0,20 gram sabu yang dibungkus dalam tabung micro tube, disimpan dalam tas selempang, serta barang bukti lain seperti handphone dan sepeda motor. Berdasarkan hasil laboratorium, kristal yang ditemukan mengandung Metamfetamina, yang termasuk dalam narkotika golongan I.  Tindakannya diatur dan diancam pidana dalam Pasal 112 ayat (1) UU No. 35 Tahun 2009 tentang Narkotika.  Dakwaan Kedua: Terdakwa juga didakwa atas penyalahgunaan narkotika untuk konsumsi pribadi pada 11 April 2024, dengan cara menggunakan sabu secara pribadi di garasi mobil rumahnya. Terdakwa menyiapkan alat bong dan menghisap sabu hingga habis. Penggunaan sabu tersebut terjadi dalam kondisi rumah yang sedang sepi dan setelah membeli teh kotak. Tindakannya diatur dan diancam pidana dalam Pasal 127 ayat (1) huruf a UU No. 35 Tahun 2009 tentang Narkotika.",
         "I GEDE ARIADI alias BERNAD",
         "14.0"
        ],
        [
         "3",
         "1",
         "2",
         "2",
         "2",
         "1 (satu) buah plastik klip bening yang berisi kristal bening yang diduga NarkotikaGolongan I bukan tanaman jenis shabu dengan berat 0,26 (nol koma dua enam) gram bruto atau 0,20 (nol koma dua puluh) gram netto selanjutnya disisihkan seberat 0,02 (nol koma nol dua) gram netto untuk uji labforensik sehingga sisa barang bukti 0,18 (nol koma delapan belas) gram netto 1 (satu) buah micro tube 1 (satu) buah handphone merk REDMI type 10 C warna Hitam berikut dengan 1 (satu) buah simcard 1 (satu) buah Tas selempang merk ALOIPFAX warna hitam Dimusnahkan 1 (satu) unit sepeda motor merk Yamaha Type Jupiter MX warna Hitam DK-6181-LF berikut kunci kontak Dikembalikan kepada yang berhak melalui Terdakwa 6. Membebankan kepada Terdakwa membayar biaya perkara sejumlah Rp5.000,00 (lima ribu rupiah)",
         "Dakwaan Pertama: Pada 14 April 2024, sekitar pukul 16.35 WITA, terdakwa secara tanpa hak atau melawan hukum memiliki, menyimpan, menguasai, atau menyediakan narkotika golongan I bukan tanaman jenis sabu. Perbuatan ini dilakukan setelah terdakwa berkenalan dengan seseorang bernama Kadek (DPO) di Facebook dan melanjutkan percakapan via WhatsApp, yang mengarah pada kesepakatan menggunakan sabu bersama. Terdakwa kemudian menghubungi Mang Donal (DPO) untuk mendapatkan sabu pada 12 April 2024 dan mengambil barang tersebut di Klungkung pada 14 April 2024, sebelum berangkat ke Bangli menggunakan sepeda motor.  Pada saat menghubungi Kadek di Jl. Brigjen Ngurah Rai, Bangli, sekitar pukul 16.35 WITA, terdakwa diamankan oleh tim Opsnal Satresnarkoba Polres Bangli. Saat digeledah, ditemukan barang bukti berupa 0,20 gram sabu yang dibungkus dalam tabung micro tube, disimpan dalam tas selempang, serta barang bukti lain seperti handphone dan sepeda motor. Berdasarkan hasil laboratorium, kristal yang ditemukan mengandung Metamfetamina, yang termasuk dalam narkotika golongan I.  Tindakannya diatur dan diancam pidana dalam Pasal 112 ayat (1) UU No. 35 Tahun 2009 tentang Narkotika.  Dakwaan Kedua: Terdakwa juga didakwa atas penyalahgunaan narkotika untuk konsumsi pribadi pada 11 April 2024, dengan cara menggunakan sabu secara pribadi di garasi mobil rumahnya. Terdakwa menyiapkan alat bong dan menghisap sabu hingga habis. Penggunaan sabu tersebut terjadi dalam kondisi rumah yang sedang sepi dan setelah membeli teh kotak. Tindakannya diatur dan diancam pidana dalam Pasal 127 ayat (1) huruf a UU No. 35 Tahun 2009 tentang Narkotika.",
         "I GEDE ARIADI alias BERNAD",
         "14.0"
        ],
        [
         "4",
         "0",
         "3",
         "2",
         "4",
         "1 (satu) unit sepeda motor merk Honda Scoopy warna merah hitam DK 6384 PQ, NOKA MH1JM311XHK071492, NOSIN JM31E-1076227 beserta kunci kontak 1 (satu) lembar STNK sepeda motor merk Honda Scoopy warna merah hitam DK 6384 PQ, NOKA MH1JM311XHK071492, NOSIN JM31E-1076227 nama pemilik an. NI WAYAN SRIMERTANADI Dikembalikan kepada korban Ni Wayan Srimertanadi 1 (satu) buah helm merk Maxi Yamaha warna hitam 1 (satu) buah jaket jeans warna biru langit  Dirampas untuk dimusnahkan 6. Membebankan kepada Terdakwa membayar biaya perkara sejumlah Rp. 5.000,00 (lima ribu rupiah)",
         "Pada 26 Maret 2024 pukul 17.10 WITA di pinggir Jalan Raya Kintamani, Terdakwa mencuri sepeda motor Honda Scoopy DK 6384 PQ yang terparkir dengan kunci masih menempel. Sehari sebelumnya, Terdakwa berangkat dari Panarukan, Singaraja, menuju Terminal Ubung Denpasar dengan menumpang truk, berniat mencuri motor. Setelah menginap di terminal, keesokan harinya sekitar pukul 11.30 WITA, Terdakwa menghubungi WAHYU EKA JAYA (DPO) yang kemudian menjemputnya dengan Yamaha Vixion hitam dan mengajaknya ke Kintamani. Sekitar pukul 17.10 WITA, saat melintas di Jalan Raya Kintamani, mereka melihat sepeda motor korban terparkir dengan kunci masih terpasang. WAHYU EKA JAYA (DPO) lalu meninggalkan Terdakwa, yang kemudian mendorong motor sejauh 10 meter sebelum menyalakan mesinnya dan melarikan diri menuju Denpasar melalui Payangan Gianyar. Sesampainya di Ubud, Terdakwa dihentikan oleh I GEDE DIPTA WIRAMA DARMA, yang mengaku sebagai petugas Polsek Kintamani dan meminta STNK, namun Terdakwa tidak dapat menunjukkannya. Ia kemudian diamankan bersama barang bukti ke Polsek Kintamani. Akibat perbuatannya, korban NI WAYAN SRIMERTANADI mengalami kerugian sekitar Rp 20.000.000,-. Perbuatan Terdakwa melanggar Pasal 362 KUHP.",
         "R. Sabirin",
         "14.0"
        ],
        [
         "5",
         "1",
         "3",
         "2",
         "4",
         "1 (satu) plastik klip bening yang berisi shabu seberat 0,17 (nol koma tujuh belas) gram netto 1 (satu) buah plastik klip kosong 2 (dua) potong pipet plastik warna bening 2 (dua) buah pipa kaca 2 (dua) potong pipet plastik warna putih 1 (satu) buah bekas botol merk Yakult 1 (satu) buah tutup botol bekas yang dimodifikasi 1 (satu) buah plastik warna hitam putih 1 (satu) buah Tas Gendong merk Exsport warna merah maroon 1 (satu) buah handphone merk Iphone 6S warna Gold berikut dengan 1 (satu) buah simcard Dimusnahkan 1 (satu) unit sepeda motor merk Honda PCX warna biru dengan No. Pol DK 2905 ADZ berikut kunci kontak 1 (satu) lembar STNK sepeda motor merk Honda PCX warna biru dengan No. Pol DK 2905 ADZ a.n pemilik Anita Dewi Rahmawati, S.I. KOM Dikembalikan kepada Anita Dewi Rahmawati  6. Membebankan kepada Terdakwa membayar biaya perkara sejumlah Rp5.000,00 (lima ribu rupiah)",
         "Dakwaan Pertama: Pada 17 Maret 2024, sekitar pukul 18.10 WITA, terdakwa Novani Ari Hifni alias Ari secara tanpa hak atau melawan hukum memiliki, menyimpan, menguasai, atau menyediakan narkotika golongan I jenis shabu. Perbuatan ini diawali dengan percakapan di Facebook dengan temannya Wewe (DPO) yang menghubungkannya dengan Rizal (DPO) untuk membeli shabu. Pada 16 Maret 2024, terdakwa menghubungi Rizal melalui WhatsApp untuk memesan shabu, kemudian berangkat ke Bangli pada 17 Maret 2024. Setelah menerima lokasi pengambilan sabu melalui Google Maps, terdakwa bersama temannya, K. M. Sahrijal Jabar, mencari dan mengambil shabu yang disembunyikan di pinggir jalan. Terdakwa ditangkap oleh tim Opsnal Satresnarkoba Polres Bangli dan ditemukan barang bukti berupa plastik klip berisi shabu seberat 0,17 gram netto. Berdasarkan hasil pemeriksaan laboratorium, barang bukti tersebut mengandung Metamfetamina, yang termasuk dalam narkotika golongan I.  Tindakannya diatur dan diancam pidana dalam Pasal 112 ayat (1) UU No. 35 Tahun 2009 tentang Narkotika. Dakwaan Kedua: Pada 7 Maret 2024, sekitar pukul 22.00 WITA, terdakwa diduga menggunakan narkotika jenis shabu secara pribadi di rumahnya di Denpasar Selatan. Terdakwa merakit alat bong dari botol mineral dan menghisap shabu sebanyak 16 kali dalam satu sesi. Penggunaan sabu ini dilakukan dalam keadaan rumah yang sedang sepi dan tanpa ada kebutuhan medis. Tindakannya diatur dan diancam pidana dalam Pasal 127 ayat (1) huruf a UU No. 35 Tahun 2009 tentang Narkotika.",
         "NOVANI ARI HIFNI Alias ARI",
         "24.0"
        ],
        [
         "6",
         "1",
         "4",
         "2",
         "4",
         "1 (satu) plastik klip bening yang berisi shabu seberat 0,17 (nol koma tujuh belas) gram netto 1 (satu) buah plastik klip kosong 2 (dua) potong pipet plastik warna bening 2 (dua) buah pipa kaca 2 (dua) potong pipet plastik warna putih 1 (satu) buah bekas botol merk Yakult 1 (satu) buah tutup botol bekas yang dimodifikasi 1 (satu) buah plastik warna hitam putih 1 (satu) buah Tas Gendong merk Exsport warna merah maroon 1 (satu) buah handphone merk Iphone 6S warna Gold berikut dengan 1 (satu) buah simcard Dimusnahkan 1 (satu) unit sepeda motor merk Honda PCX warna biru dengan No. Pol DK 2905 ADZ berikut kunci kontak 1 (satu) lembar STNK sepeda motor merk Honda PCX warna biru dengan No. Pol DK 2905 ADZ a.n pemilik Anita Dewi Rahmawati, S.I. KOM Dikembalikan kepada Anita Dewi Rahmawati  6. Membebankan kepada Terdakwa membayar biaya perkara sejumlah Rp5.000,00 (lima ribu rupiah)",
         "Dakwaan Pertama: Pada 17 Maret 2024, sekitar pukul 18.10 WITA, terdakwa Novani Ari Hifni alias Ari secara tanpa hak atau melawan hukum memiliki, menyimpan, menguasai, atau menyediakan narkotika golongan I jenis shabu. Perbuatan ini diawali dengan percakapan di Facebook dengan temannya Wewe (DPO) yang menghubungkannya dengan Rizal (DPO) untuk membeli shabu. Pada 16 Maret 2024, terdakwa menghubungi Rizal melalui WhatsApp untuk memesan shabu, kemudian berangkat ke Bangli pada 17 Maret 2024. Setelah menerima lokasi pengambilan sabu melalui Google Maps, terdakwa bersama temannya, K. M. Sahrijal Jabar, mencari dan mengambil shabu yang disembunyikan di pinggir jalan. Terdakwa ditangkap oleh tim Opsnal Satresnarkoba Polres Bangli dan ditemukan barang bukti berupa plastik klip berisi shabu seberat 0,17 gram netto. Berdasarkan hasil pemeriksaan laboratorium, barang bukti tersebut mengandung Metamfetamina, yang termasuk dalam narkotika golongan I.  Tindakannya diatur dan diancam pidana dalam Pasal 112 ayat (1) UU No. 35 Tahun 2009 tentang Narkotika. Dakwaan Kedua: Pada 7 Maret 2024, sekitar pukul 22.00 WITA, terdakwa diduga menggunakan narkotika jenis shabu secara pribadi di rumahnya di Denpasar Selatan. Terdakwa merakit alat bong dari botol mineral dan menghisap shabu sebanyak 16 kali dalam satu sesi. Penggunaan sabu ini dilakukan dalam keadaan rumah yang sedang sepi dan tanpa ada kebutuhan medis. Tindakannya diatur dan diancam pidana dalam Pasal 127 ayat (1) huruf a UU No. 35 Tahun 2009 tentang Narkotika.",
         "NOVANI ARI HIFNI Alias ARI",
         "24.0"
        ],
        [
         "7",
         "1",
         "5",
         "2",
         "4",
         "1 (satu) buah plastik klip bening yang berisi kristal bening diduga narkotika golongan I bukan tanaman jenis sabu dengan berat 0,14 (nol koma empat belas) gram bruto atau 0,08 (nol koma nol delapan) gram netto selanjutnya disisihkan seberat 0,02 (nol koma nol dua) gram netto untuk uji labforensik sehingga sisa barang bukti 0,06 (nol koma nol enam) gram netto 1 (satu) buah pipa kaca 1 (satu) lembar tissue warna putih 1 (satu) buah korek api gas yang sudah dimodif 1 (satu) buah handphone merek Redmi tipe 7A warna hitam beserta 2 (dua) buah sim card 1 (satu) buah tas pinggang merek Fashion warna hitam Dimusnahkan 1 (satu) unit mobil pick up merek Suzuki warna hitam dengan No. Pol. DK 8445 BQ berikut kunci kontak 1 (satu) lembar STNK mobil pick up merek Suzuki warna hitam dengan No. Pol. DK 8445 BQ a.n. PT Wira Mitra Utama Dikembalikan kepada PT Wira Mitra Utama melalui Terdakwa 6. Membebankan kepada Terdakwa membayar biaya perkara sejumlah Rp5.000,00 (lima ribu rupiah)",
         "Pada Selasa, 9 Januari 2024, sekitar pukul 17.30 WITA, terdakwa Mulyadi alias Mul tanpa hak atau melawan hukum menawarkan, menjual, membeli, menerima, menjadi perantara dalam jual beli, menukar, atau menyerahkan narkotika golongan I jenis sabu. Perbuatan tersebut bermula ketika terdakwa dihubungi oleh temannya, KADEK (DPO), pada pukul 08.00 WITA, yang meminta terdakwa untuk mengantarkan narkotika jenis sabu ke Bangli. Terdakwa kemudian menyanggupi permintaan tersebut dan berangkat ke Lapangan Lumintang, Denpasar, untuk bertemu dengan teman KADEK (DPO) dan menerima narkotika tersebut dalam sebuah amplop putih.  Setelah menerima narkotika jenis sabu, terdakwa sempat mencicipinya, kemudian menyimpannya di dalam amplop dan diletakkan di laci dashboard mobil yang digunakan. Terdakwa kemudian melanjutkan perjalanan ke Bangli, dan setibanya di lokasi yang dituju, yaitu di Jalan Bima, Kelurahan Cempaga, terdakwa dihadang dan diamankan oleh anggota Polres Bangli bersama beberapa saksi.  Saat dilakukan penggeledahan, ditemukan barang bukti berupa plastic klip berisi sabu, pipa kaca, korek api gas yang telah dimodifikasi, handphone, serta barang-barang lainnya yang berkaitan dengan narkotika. Terdakwa tidak memiliki izin untuk melakukan pengadaan, penyimpanan, atau penyaluran narkotika dari Kementerian Kesehatan RI.  Berdasarkan hasil pemeriksaan laboratorium, barang bukti sabu mengandung Metamfetamina, yang merupakan narkotika golongan I sesuai dengan Undang-Undang No. 35 Tahun 2009 tentang Narkotika. Tindakannya diatur dan diancam pidana dalam Pasal 114 ayat (1) UU No. 35 Tahun 2009 tentang Narkotika atau Pasal 112 ayat (1) UU No. 35 Tahun 2009 tentang Narkotika.",
         "MULYADI alias MUL",
         "48.0"
        ],
        [
         "8",
         "0",
         "3",
         "3",
         "4",
         "1. 3 (tiga) buah bahan dasar kain (Baju Kaos) masing-masing  - 1 (buah) baju kaos merk U-Right warna abu-abu, - 1 (satu) buah baju kaos merk U-Right warna hitam, - 1 (satu) buah baju kaos merk Newbalance warna hitam 2. 2 (dua) buah case masing-masing  - 1 (satu) buah case warna hitam dan, - 1 (satu) buah case warna putih bening, 3. 1 (satu) pasang kaos kaki merk Nike warna hitam, 4. 1 (satu) pasang sandal merk Havaianas warna hitam tulisan putih, 5. 1 (satu) buah tas kain Merk HUNGRYCO warna Hitam. 6. 2 (dua) buah Dompet masing-masing  - 1 (satu) buah Dompet kulit merk MONT BLACN warna coklat dan, - 1 (satu) buah dompet kain warna coklat dengan resleting bertulisan LONGCHAMP 7. 1 (satu) buah kotak Handphone, 8. 1 (satu) buah Handphone merk IPHONE 11 Pro warna gold, 9. Uang tunai sebesar Rp. 5.778.000,- (lima juta tujuh ratus tujuh puluh delapan ribu rupiah). Dikembalikan kepada Saksi Ni Nengah Ngariasih 1. 1 (satu) Buah kunci kontak sepeda motor, 2. 1 (satu) Unit kendaraan bermotor, DK 2006 AEC, NOKA MH3SEJ710PJ162733, NOSIN E33WE0184543, TH 2023, warna Hitam, 3. 1 (satu) lembar Surat Berharga STNK, DK 2006 AEC, NOKA MH3SEJ710PJ162733, NOSIN E33WE0184543, TH 2023, warna hitam, an. RURY HERAWATI , alamat GG. Kaliasem NO. 2B, Sesetan, Denpasar Dikembalikan kepada Terdakwa 6. Membebankan kepada Terdakwa membayar biaya perkara sejumlah Rp5.000,00 (lima ribu rupiah)",
         "Terdakwa RURY HERAWATI pada 20 November 2023 sekitar pukul 15.15 WITA di Toko ARI KEBAYA, Jalan Nusantara, Kelurahan Cempaga, Kecamatan Bangli, Kabupaten Bangli, melakukan tindak pidana pencurian dengan mengambil barang milik orang lain tanpa izin untuk dimiliki secara melawan hukum. Terdakwa berangkat dari kosnya di Denpasar menuju Bangli dengan niat mencuri tanpa target tempat tertentu. Setelah mengamati situasi, Terdakwa masuk ke Toko ARI KEBAYA, berpura-pura berbelanja dengan membeli dua selendang dan meminta penjaga toko, NI NENGAH NGARIASIH, untuk mencari sandal, sehingga membuatnya membelakangi meja kasir. Saat itulah Terdakwa mengambil satu tas kain merk HUNGRYCO warna hitam dari lemari plastik yang tidak terkunci, yang berisi dompet kulit merk MONT BLANC warna coklat dan dompet kain warna coklat dengan resleting bertulisan LONGCHAMP, berisi uang tunai Rp16.500.000. Setelah berpura-pura hendak mengambil uang di ATM, Terdakwa meninggalkan toko dan membawa barang curian ke kosnya. Uang hasil pencurian digunakan untuk membeli iPhone 11 Pro seharga Rp7.000.000, membayar DP emas Rp1.000.000, serta kebutuhan sehari-hari, dengan sisa uang Rp5.778.000. Berdasarkan laporan polisi LP/B/31/XI/2023/SPKT/POLRES BANGLI/POLDA BALI tanggal 25 November 2023, pihak kepolisian melakukan penyelidikan hingga mengamankan Terdakwa beserta barang bukti di Polres Bangli. Perbuatan Terdakwa menyebabkan saksi NI NENGAH NGARIASIH mengalami kerugian Rp16.500.000 dan diancam pidana dalam Pasal 362 KUHP.",
         "RURY HERAWATI",
         "16.0"
        ],
        [
         "9",
         "2",
         "6",
         "2",
         "8",
         "- 45 (empat puluh lima) lembar nota penjualan PT. PUTRA DEWATA SEJATI cabang/admin Klungkung - 5 (lima) lembar nota penjualan PT. PUTRA DEWATA SEJATI cabang/admin Bangli - 2 (dua) lembar data piutang titipan UD. SARI MERTA - 2 (dua) lembar foto copy surat kesepakatan antara pihak PT PUTRA DEWATA SEJATI yang diwakili oleh ANGGUN BAYU WIKANTO dengan pihak usaha toko/UD. Sari Merta yang diwakili oleh I WAYAN AGUS KERTAYASA dan NI MADE REDIANI Nomor 001/SP//PDS-BALI/III/2019, tanggal 18 Maret 2019 - 2 (dua) lembar surat kesepakatan antara pihak PT. PUTRA DEWATA SEJATI yang diwakili oleh ANGGUN BAYU WIKANTO dengan pihak usaha toko/UD. Sari Merta yang diwakili oleh I NENGAH PERIYASA dan NI KOMANG WARSIKI Nomor 002/SP//PDS-BALI/IV/2019, tanggal 06 April 2019 - 1 (satu) lembar surat pernyataan yang dibuat oleh I KETUT SUPUTRA tanggal 24 Nopember 2022 Dikembalikan kepada PT. Putra Dewata Sejati melalui Saksi I Putu Pasek Ariana 6. Membebankan kepada Para Terdakwa membayar biaya perkara masing masing sejumlah Rp 5.000,00 (lima ribu rupiah)",
         "Tentu, berikut ringkasan dakwaan terhadap I Ketut Suputra dan Ni Komang Warsiki dalam format paragraf:  Ringkasan Dakwaan I Ketut Suputra dan Ni Komang Warsiki:  I Ketut Suputra dan Ni Komang Warsiki, pasangan suami istri, didakwa atas tindak pidana penggelapan dalam jabatan yang terjadi antara bulan Mei 2019 hingga Oktober 2020 di gudang mereka di Bangli. I Ketut Suputra, melalui UD. Sri Dana, awalnya membeli produk Aqua dari PT. Putra Dewata Sejati secara tunai. Kerjasama berlanjut dengan UD. Sari Merta, di mana PT. Putra Dewata Sejati menitipkan barang untuk dijual kembali. Ni Komang Warsiki, sebagai bagian administrasi, bertugas mencatat penjualan dan melakukan pembayaran ke PT. Putra Dewata Sejati.  Namun, sejak Mei 2019, pembayaran ke PT. Putra Dewata Sejati tidak dilakukan secara penuh. Pada Oktober 2020, pengiriman barang dihentikan karena tidak ada pembayaran. Padahal, semua barang titipan telah terjual. Pasangan terdakwa menggunakan uang hasil penjualan untuk gaji karyawan, biaya operasional, dan kebutuhan sehari-hari tanpa izin PT. Putra Dewata Sejati. Akibatnya, PT. Putra Dewata Sejati mengalami kerugian sekitar Rp 413.883.979.  Atas perbuatan mereka, I Ketut Suputra dan Ni Komang Warsiki didakwa dengan Pasal 372 KUHP jo. Pasal 55 ayat (1) ke-1 KUHP jo. Pasal 64 ayat (1) KUHP tentang penggelapan dalam jabatan yang dilakukan secara bersama-sama dan berlanjut.",
         "I KETUT SUPUTRA",
         "18.0"
        ],
        [
         "10",
         "2",
         "4",
         "2",
         "8",
         "- 45 (empat puluh lima) lembar nota penjualan PT. PUTRA DEWATA SEJATI cabang/admin Klungkung - 5 (lima) lembar nota penjualan PT. PUTRA DEWATA SEJATI cabang/admin Bangli - 2 (dua) lembar data piutang titipan UD. SARI MERTA - 2 (dua) lembar foto copy surat kesepakatan antara pihak PT PUTRA DEWATA SEJATI yang diwakili oleh ANGGUN BAYU WIKANTO dengan pihak usaha toko/UD. Sari Merta yang diwakili oleh I WAYAN AGUS KERTAYASA dan NI MADE REDIANI Nomor 001/SP//PDS-BALI/III/2019, tanggal 18 Maret 2019 - 2 (dua) lembar surat kesepakatan antara pihak PT. PUTRA DEWATA SEJATI yang diwakili oleh ANGGUN BAYU WIKANTO dengan pihak usaha toko/UD. Sari Merta yang diwakili oleh I NENGAH PERIYASA dan NI KOMANG WARSIKI Nomor 002/SP//PDS-BALI/IV/2019, tanggal 06 April 2019 - 1 (satu) lembar surat pernyataan yang dibuat oleh I KETUT SUPUTRA tanggal 24 Nopember 2022 Dikembalikan kepada PT. Putra Dewata Sejati melalui Saksi I Putu Pasek Ariana 6. Membebankan kepada Para Terdakwa membayar biaya perkara masing masing sejumlah Rp 5.000,00 (lima ribu rupiah)",
         "Tentu, berikut ringkasan dakwaan terhadap I Ketut Suputra dan Ni Komang Warsiki dalam format paragraf:  Ringkasan Dakwaan I Ketut Suputra dan Ni Komang Warsiki:  I Ketut Suputra dan Ni Komang Warsiki, pasangan suami istri, didakwa atas tindak pidana penggelapan dalam jabatan yang terjadi antara bulan Mei 2019 hingga Oktober 2020 di gudang mereka di Bangli. I Ketut Suputra, melalui UD. Sri Dana, awalnya membeli produk Aqua dari PT. Putra Dewata Sejati secara tunai. Kerjasama berlanjut dengan UD. Sari Merta, di mana PT. Putra Dewata Sejati menitipkan barang untuk dijual kembali. Ni Komang Warsiki, sebagai bagian administrasi, bertugas mencatat penjualan dan melakukan pembayaran ke PT. Putra Dewata Sejati.  Namun, sejak Mei 2019, pembayaran ke PT. Putra Dewata Sejati tidak dilakukan secara penuh. Pada Oktober 2020, pengiriman barang dihentikan karena tidak ada pembayaran. Padahal, semua barang titipan telah terjual. Pasangan terdakwa menggunakan uang hasil penjualan untuk gaji karyawan, biaya operasional, dan kebutuhan sehari-hari tanpa izin PT. Putra Dewata Sejati. Akibatnya, PT. Putra Dewata Sejati mengalami kerugian sekitar Rp 413.883.979.  Atas perbuatan mereka, I Ketut Suputra dan Ni Komang Warsiki didakwa dengan Pasal 372 KUHP jo. Pasal 55 ayat (1) ke-1 KUHP jo. Pasal 64 ayat (1) KUHP tentang penggelapan dalam jabatan yang dilakukan secara bersama-sama dan berlanjut.",
         "I KETUT SUPUTRA",
         "18.0"
        ],
        [
         "11",
         "2",
         "6",
         "2",
         "8",
         "- 45 (empat puluh lima) lembar nota penjualan PT. PUTRA DEWATA SEJATI cabang/admin Klungkung - 5 (lima) lembar nota penjualan PT. PUTRA DEWATA SEJATI cabang/admin Bangli - 2 (dua) lembar data piutang titipan UD. SARI MERTA - 2 (dua) lembar foto copy surat kesepakatan antara pihak PT PUTRA DEWATA SEJATI yang diwakili oleh ANGGUN BAYU WIKANTO dengan pihak usaha toko/UD. Sari Merta yang diwakili oleh I WAYAN AGUS KERTAYASA dan NI MADE REDIANI Nomor 001/SP//PDS-BALI/III/2019, tanggal 18 Maret 2019 - 2 (dua) lembar surat kesepakatan antara pihak PT. PUTRA DEWATA SEJATI yang diwakili oleh ANGGUN BAYU WIKANTO dengan pihak usaha toko/UD. Sari Merta yang diwakili oleh I NENGAH PERIYASA dan NI KOMANG WARSIKI Nomor 002/SP//PDS-BALI/IV/2019, tanggal 06 April 2019 - 1 (satu) lembar surat pernyataan yang dibuat oleh I KETUT SUPUTRA tanggal 24 Nopember 2022 Dikembalikan kepada PT. Putra Dewata Sejati melalui Saksi I Putu Pasek Ariana 6. Membebankan kepada Para Terdakwa membayar biaya perkara masing masing sejumlah Rp 5.000,00 (lima ribu rupiah)",
         "Tentu, berikut ringkasan dakwaan terhadap I Ketut Suputra dan Ni Komang Warsiki dalam format paragraf:  Ringkasan Dakwaan I Ketut Suputra dan Ni Komang Warsiki:  I Ketut Suputra dan Ni Komang Warsiki, pasangan suami istri, didakwa atas tindak pidana penggelapan dalam jabatan yang terjadi antara bulan Mei 2019 hingga Oktober 2020 di gudang mereka di Bangli. I Ketut Suputra, melalui UD. Sri Dana, awalnya membeli produk Aqua dari PT. Putra Dewata Sejati secara tunai. Kerjasama berlanjut dengan UD. Sari Merta, di mana PT. Putra Dewata Sejati menitipkan barang untuk dijual kembali. Ni Komang Warsiki, sebagai bagian administrasi, bertugas mencatat penjualan dan melakukan pembayaran ke PT. Putra Dewata Sejati.  Namun, sejak Mei 2019, pembayaran ke PT. Putra Dewata Sejati tidak dilakukan secara penuh. Pada Oktober 2020, pengiriman barang dihentikan karena tidak ada pembayaran. Padahal, semua barang titipan telah terjual. Pasangan terdakwa menggunakan uang hasil penjualan untuk gaji karyawan, biaya operasional, dan kebutuhan sehari-hari tanpa izin PT. Putra Dewata Sejati. Akibatnya, PT. Putra Dewata Sejati mengalami kerugian sekitar Rp 413.883.979.  Atas perbuatan mereka, I Ketut Suputra dan Ni Komang Warsiki didakwa dengan Pasal 372 KUHP jo. Pasal 55 ayat (1) ke-1 KUHP jo. Pasal 64 ayat (1) KUHP tentang penggelapan dalam jabatan yang dilakukan secara bersama-sama dan berlanjut.",
         "NI KOMANG WARSIKI",
         "10.0"
        ],
        [
         "12",
         "2",
         "4",
         "2",
         "8",
         "- 45 (empat puluh lima) lembar nota penjualan PT. PUTRA DEWATA SEJATI cabang/admin Klungkung - 5 (lima) lembar nota penjualan PT. PUTRA DEWATA SEJATI cabang/admin Bangli - 2 (dua) lembar data piutang titipan UD. SARI MERTA - 2 (dua) lembar foto copy surat kesepakatan antara pihak PT PUTRA DEWATA SEJATI yang diwakili oleh ANGGUN BAYU WIKANTO dengan pihak usaha toko/UD. Sari Merta yang diwakili oleh I WAYAN AGUS KERTAYASA dan NI MADE REDIANI Nomor 001/SP//PDS-BALI/III/2019, tanggal 18 Maret 2019 - 2 (dua) lembar surat kesepakatan antara pihak PT. PUTRA DEWATA SEJATI yang diwakili oleh ANGGUN BAYU WIKANTO dengan pihak usaha toko/UD. Sari Merta yang diwakili oleh I NENGAH PERIYASA dan NI KOMANG WARSIKI Nomor 002/SP//PDS-BALI/IV/2019, tanggal 06 April 2019 - 1 (satu) lembar surat pernyataan yang dibuat oleh I KETUT SUPUTRA tanggal 24 Nopember 2022 Dikembalikan kepada PT. Putra Dewata Sejati melalui Saksi I Putu Pasek Ariana 6. Membebankan kepada Para Terdakwa membayar biaya perkara masing masing sejumlah Rp 5.000,00 (lima ribu rupiah)",
         "Tentu, berikut ringkasan dakwaan terhadap I Ketut Suputra dan Ni Komang Warsiki dalam format paragraf:  Ringkasan Dakwaan I Ketut Suputra dan Ni Komang Warsiki:  I Ketut Suputra dan Ni Komang Warsiki, pasangan suami istri, didakwa atas tindak pidana penggelapan dalam jabatan yang terjadi antara bulan Mei 2019 hingga Oktober 2020 di gudang mereka di Bangli. I Ketut Suputra, melalui UD. Sri Dana, awalnya membeli produk Aqua dari PT. Putra Dewata Sejati secara tunai. Kerjasama berlanjut dengan UD. Sari Merta, di mana PT. Putra Dewata Sejati menitipkan barang untuk dijual kembali. Ni Komang Warsiki, sebagai bagian administrasi, bertugas mencatat penjualan dan melakukan pembayaran ke PT. Putra Dewata Sejati.  Namun, sejak Mei 2019, pembayaran ke PT. Putra Dewata Sejati tidak dilakukan secara penuh. Pada Oktober 2020, pengiriman barang dihentikan karena tidak ada pembayaran. Padahal, semua barang titipan telah terjual. Pasangan terdakwa menggunakan uang hasil penjualan untuk gaji karyawan, biaya operasional, dan kebutuhan sehari-hari tanpa izin PT. Putra Dewata Sejati. Akibatnya, PT. Putra Dewata Sejati mengalami kerugian sekitar Rp 413.883.979.  Atas perbuatan mereka, I Ketut Suputra dan Ni Komang Warsiki didakwa dengan Pasal 372 KUHP jo. Pasal 55 ayat (1) ke-1 KUHP jo. Pasal 64 ayat (1) KUHP tentang penggelapan dalam jabatan yang dilakukan secara bersama-sama dan berlanjut.",
         "NI KOMANG WARSIKI",
         "10.0"
        ],
        [
         "13",
         "0",
         "7",
         "0",
         "6",
         "1 (satu) unit sepeda motor merek Yamaha N-Max warna hitam DK 3498 PT beserta kunci kontak 1 (satu) buah STNK sepeda motor merek Yamaha N-Max DK 3498 PT 1 (satu) buah BPKB sepeda motor merek Yamaha N-Max DK 3498 PT Dikembalikan kepada Made Yusa Paramartha 1 (satu) unit sepeda motor merek Yamaha N-Max warna hitam DK 6992 LB beserta kunci kontak 1 (satu) buah STNK sepeda motor merek Yamaha N-Max DK 6992 LB 1 (satu) buah cover under dek bawah kolong sepeda motor merek Yamaha N-Max warna hitam 1 (satu) buah cover paru fender inner sepeda motor merek Yamaha N-Max warna hitam 2 (dua) buah dek sayap body bawah sepeda motor merek Yamaha N-Max warna ungu Dikembalikan kepada I Kadek Indrawan 1 (satu) unit mobil merek Honda Jazz GE8 warna putih DK 1049 WH 1 (satu) buah STNK mobil merek Honda Jazz GE8 DK 1049 WH Dikembalikan kepada Ni Luh Putu Suparwati 1 (satu) unit sepeda motor merek Yamaha N-Max warna hitam DK 6492 ZY beserta kunci kontak 1 (satu) lembar STNK Sepeda Motor Yamaha N-Max DK 4665 TG, Noka MH3SG3190JJ314087, Nosin G3E4E-1103102, nama pemilik a.n. I Ketut Merta Yasa 2 (dua) buah plat sepeda motor palsu warna hitam DK 4665 TG 2 (dua) buah spion sepeda motor merek Yamaha N-Max warna hitam Dikembalikan kepada Penuntut Umum untuk dijadikan barang bukti dalam perkara lain 1 (satu) buah kunci T warna hitam 1 (satu) buah obeng dengan gagang warna hitam 1 (satu) buah kunci ring pas 12 warna putih merek Wipro 1 (satu) buah tang dengan gagang warna merah 1 (satu) set kunci L warna putih merek Allwin 1 (satu) buah mesin bor tanpa kabel warna merah hitam merek Bitec Dimusnahkan Uang tunai Rp1.000.000,00 (satu juta rupiah) Dirampas untuk negara  6. Membebankan kepada Para Terdakwa membayar biaya perkara masing-masing sejumlah Rp5.000,00 (lima ribu rupiah)",
         "Terdakwa I KETUT JONI ADNYANA ADI PUTRA dan Terdakwa II ROSITA EVAYANTI DEWI pada 10 September 2023 pukul 01.00 WITA dan 1 Oktober 2023 pukul 02.00 WITA di parkiran Sukawana Sunrise dan Le Monte Sunrise, Desa Sukawana, Kecamatan Kintamani, Kabupaten Bangli, melakukan pencurian secara bersekutu. Pada 9 September 2023 pukul 21.00 WITA, Terdakwa berangkat dari Jembrana menuju Sukawana Sunrise menggunakan sepeda motor Yamaha NMAX warna hitam DK 6492 ZY milik saksi I KETUT MERTA YASA. Pada 10 September 2023 pukul 01.00 WITA, mereka tiba di parkiran dan melihat sepeda motor Yamaha NMAX hitam DK 3498 PT milik saksi MADE YUSA PARAMARTHA. Terdakwa I masuk ke parkiran, sementara Terdakwa II menunggu di Desa Pinggan. Terdakwa I mengambil sepeda motor yang tidak terkunci stang, mendorongnya sejauh 100 meter, lalu menyambungkan kabel stop kontak untuk menyalakan mesin sebelum membawa sepeda motor tersebut ke Jembrana untuk digunakan sebagai transportasi sehari-hari. Pada 30 September 2023, Terdakwa kembali merencanakan pencurian dan berangkat dari Jembrana menggunakan mobil Honda Jazz putih DK 1049 WH yang disewa dari saksi NI LUH PUTU SUPARWATI. Pada 1 Oktober 2023 pukul 01.00 WITA, mereka tiba di parkiran Le Monte Sunrise dan menunggu di mobil hingga pukul 02.00 WITA. Terdakwa I kemudian mengambil sepeda motor Yamaha NMAX warna abu lembayung ungu DK 6992 LB milik saksi I KADEK INDRAWAN dengan cara mendorongnya keluar dari parkiran, membuka bodi depan, dan menyambungkan kabel stop kontak agar mesin menyala. Sepeda motor tersebut dibawa ke Jembrana dan dijual melalui Facebook Marketplace seharga Rp5.300.000. Akibat perbuatan tersebut, saksi MADE YUSA PARAMARTHA mengalami kerugian Rp25.500.000 dan saksi I KADEK INDRAWAN mengalami kerugian Rp26.700.000. Para Terdakwa diancam pidana berdasarkan Pasal 363 ayat (1) ke-4 KUHP Jo Pasal 65 ayat (1) KUHP.",
         "I KETUT JONI ADNYANA ADI PUTRA",
         "16.0"
        ],
        [
         "14",
         "0",
         "8",
         "0",
         "6",
         "1 (satu) unit sepeda motor merek Yamaha N-Max warna hitam DK 3498 PT beserta kunci kontak 1 (satu) buah STNK sepeda motor merek Yamaha N-Max DK 3498 PT 1 (satu) buah BPKB sepeda motor merek Yamaha N-Max DK 3498 PT Dikembalikan kepada Made Yusa Paramartha 1 (satu) unit sepeda motor merek Yamaha N-Max warna hitam DK 6992 LB beserta kunci kontak 1 (satu) buah STNK sepeda motor merek Yamaha N-Max DK 6992 LB 1 (satu) buah cover under dek bawah kolong sepeda motor merek Yamaha N-Max warna hitam 1 (satu) buah cover paru fender inner sepeda motor merek Yamaha N-Max warna hitam 2 (dua) buah dek sayap body bawah sepeda motor merek Yamaha N-Max warna ungu Dikembalikan kepada I Kadek Indrawan 1 (satu) unit mobil merek Honda Jazz GE8 warna putih DK 1049 WH 1 (satu) buah STNK mobil merek Honda Jazz GE8 DK 1049 WH Dikembalikan kepada Ni Luh Putu Suparwati 1 (satu) unit sepeda motor merek Yamaha N-Max warna hitam DK 6492 ZY beserta kunci kontak 1 (satu) lembar STNK Sepeda Motor Yamaha N-Max DK 4665 TG, Noka MH3SG3190JJ314087, Nosin G3E4E-1103102, nama pemilik a.n. I Ketut Merta Yasa 2 (dua) buah plat sepeda motor palsu warna hitam DK 4665 TG 2 (dua) buah spion sepeda motor merek Yamaha N-Max warna hitam Dikembalikan kepada Penuntut Umum untuk dijadikan barang bukti dalam perkara lain 1 (satu) buah kunci T warna hitam 1 (satu) buah obeng dengan gagang warna hitam 1 (satu) buah kunci ring pas 12 warna putih merek Wipro 1 (satu) buah tang dengan gagang warna merah 1 (satu) set kunci L warna putih merek Allwin 1 (satu) buah mesin bor tanpa kabel warna merah hitam merek Bitec Dimusnahkan Uang tunai Rp1.000.000,00 (satu juta rupiah) Dirampas untuk negara  6. Membebankan kepada Para Terdakwa membayar biaya perkara masing-masing sejumlah Rp5.000,00 (lima ribu rupiah)",
         "Terdakwa I KETUT JONI ADNYANA ADI PUTRA dan Terdakwa II ROSITA EVAYANTI DEWI pada 10 September 2023 pukul 01.00 WITA dan 1 Oktober 2023 pukul 02.00 WITA di parkiran Sukawana Sunrise dan Le Monte Sunrise, Desa Sukawana, Kecamatan Kintamani, Kabupaten Bangli, melakukan pencurian secara bersekutu. Pada 9 September 2023 pukul 21.00 WITA, Terdakwa berangkat dari Jembrana menuju Sukawana Sunrise menggunakan sepeda motor Yamaha NMAX warna hitam DK 6492 ZY milik saksi I KETUT MERTA YASA. Pada 10 September 2023 pukul 01.00 WITA, mereka tiba di parkiran dan melihat sepeda motor Yamaha NMAX hitam DK 3498 PT milik saksi MADE YUSA PARAMARTHA. Terdakwa I masuk ke parkiran, sementara Terdakwa II menunggu di Desa Pinggan. Terdakwa I mengambil sepeda motor yang tidak terkunci stang, mendorongnya sejauh 100 meter, lalu menyambungkan kabel stop kontak untuk menyalakan mesin sebelum membawa sepeda motor tersebut ke Jembrana untuk digunakan sebagai transportasi sehari-hari. Pada 30 September 2023, Terdakwa kembali merencanakan pencurian dan berangkat dari Jembrana menggunakan mobil Honda Jazz putih DK 1049 WH yang disewa dari saksi NI LUH PUTU SUPARWATI. Pada 1 Oktober 2023 pukul 01.00 WITA, mereka tiba di parkiran Le Monte Sunrise dan menunggu di mobil hingga pukul 02.00 WITA. Terdakwa I kemudian mengambil sepeda motor Yamaha NMAX warna abu lembayung ungu DK 6992 LB milik saksi I KADEK INDRAWAN dengan cara mendorongnya keluar dari parkiran, membuka bodi depan, dan menyambungkan kabel stop kontak agar mesin menyala. Sepeda motor tersebut dibawa ke Jembrana dan dijual melalui Facebook Marketplace seharga Rp5.300.000. Akibat perbuatan tersebut, saksi MADE YUSA PARAMARTHA mengalami kerugian Rp25.500.000 dan saksi I KADEK INDRAWAN mengalami kerugian Rp26.700.000. Para Terdakwa diancam pidana berdasarkan Pasal 363 ayat (1) ke-4 KUHP Jo Pasal 65 ayat (1) KUHP.",
         "I KETUT JONI ADNYANA ADI PUTRA",
         "16.0"
        ],
        [
         "15",
         "0",
         "7",
         "0",
         "6",
         "1 (satu) unit sepeda motor merek Yamaha N-Max warna hitam DK 3498 PT beserta kunci kontak 1 (satu) buah STNK sepeda motor merek Yamaha N-Max DK 3498 PT 1 (satu) buah BPKB sepeda motor merek Yamaha N-Max DK 3498 PT Dikembalikan kepada Made Yusa Paramartha 1 (satu) unit sepeda motor merek Yamaha N-Max warna hitam DK 6992 LB beserta kunci kontak 1 (satu) buah STNK sepeda motor merek Yamaha N-Max DK 6992 LB 1 (satu) buah cover under dek bawah kolong sepeda motor merek Yamaha N-Max warna hitam 1 (satu) buah cover paru fender inner sepeda motor merek Yamaha N-Max warna hitam 2 (dua) buah dek sayap body bawah sepeda motor merek Yamaha N-Max warna ungu Dikembalikan kepada I Kadek Indrawan 1 (satu) unit mobil merek Honda Jazz GE8 warna putih DK 1049 WH 1 (satu) buah STNK mobil merek Honda Jazz GE8 DK 1049 WH Dikembalikan kepada Ni Luh Putu Suparwati 1 (satu) unit sepeda motor merek Yamaha N-Max warna hitam DK 6492 ZY beserta kunci kontak 1 (satu) lembar STNK Sepeda Motor Yamaha N-Max DK 4665 TG, Noka MH3SG3190JJ314087, Nosin G3E4E-1103102, nama pemilik a.n. I Ketut Merta Yasa 2 (dua) buah plat sepeda motor palsu warna hitam DK 4665 TG 2 (dua) buah spion sepeda motor merek Yamaha N-Max warna hitam Dikembalikan kepada Penuntut Umum untuk dijadikan barang bukti dalam perkara lain 1 (satu) buah kunci T warna hitam 1 (satu) buah obeng dengan gagang warna hitam 1 (satu) buah kunci ring pas 12 warna putih merek Wipro 1 (satu) buah tang dengan gagang warna merah 1 (satu) set kunci L warna putih merek Allwin 1 (satu) buah mesin bor tanpa kabel warna merah hitam merek Bitec Dimusnahkan Uang tunai Rp1.000.000,00 (satu juta rupiah) Dirampas untuk negara  6. Membebankan kepada Para Terdakwa membayar biaya perkara masing-masing sejumlah Rp5.000,00 (lima ribu rupiah)",
         "Terdakwa I KETUT JONI ADNYANA ADI PUTRA dan Terdakwa II ROSITA EVAYANTI DEWI pada 10 September 2023 pukul 01.00 WITA dan 1 Oktober 2023 pukul 02.00 WITA di parkiran Sukawana Sunrise dan Le Monte Sunrise, Desa Sukawana, Kecamatan Kintamani, Kabupaten Bangli, melakukan pencurian secara bersekutu. Pada 9 September 2023 pukul 21.00 WITA, Terdakwa berangkat dari Jembrana menuju Sukawana Sunrise menggunakan sepeda motor Yamaha NMAX warna hitam DK 6492 ZY milik saksi I KETUT MERTA YASA. Pada 10 September 2023 pukul 01.00 WITA, mereka tiba di parkiran dan melihat sepeda motor Yamaha NMAX hitam DK 3498 PT milik saksi MADE YUSA PARAMARTHA. Terdakwa I masuk ke parkiran, sementara Terdakwa II menunggu di Desa Pinggan. Terdakwa I mengambil sepeda motor yang tidak terkunci stang, mendorongnya sejauh 100 meter, lalu menyambungkan kabel stop kontak untuk menyalakan mesin sebelum membawa sepeda motor tersebut ke Jembrana untuk digunakan sebagai transportasi sehari-hari. Pada 30 September 2023, Terdakwa kembali merencanakan pencurian dan berangkat dari Jembrana menggunakan mobil Honda Jazz putih DK 1049 WH yang disewa dari saksi NI LUH PUTU SUPARWATI. Pada 1 Oktober 2023 pukul 01.00 WITA, mereka tiba di parkiran Le Monte Sunrise dan menunggu di mobil hingga pukul 02.00 WITA. Terdakwa I kemudian mengambil sepeda motor Yamaha NMAX warna abu lembayung ungu DK 6992 LB milik saksi I KADEK INDRAWAN dengan cara mendorongnya keluar dari parkiran, membuka bodi depan, dan menyambungkan kabel stop kontak agar mesin menyala. Sepeda motor tersebut dibawa ke Jembrana dan dijual melalui Facebook Marketplace seharga Rp5.300.000. Akibat perbuatan tersebut, saksi MADE YUSA PARAMARTHA mengalami kerugian Rp25.500.000 dan saksi I KADEK INDRAWAN mengalami kerugian Rp26.700.000. Para Terdakwa diancam pidana berdasarkan Pasal 363 ayat (1) ke-4 KUHP Jo Pasal 65 ayat (1) KUHP.",
         "ROSITA EVAYANTI DEWI",
         "14.0"
        ],
        [
         "16",
         "0",
         "8",
         "0",
         "6",
         "1 (satu) unit sepeda motor merek Yamaha N-Max warna hitam DK 3498 PT beserta kunci kontak 1 (satu) buah STNK sepeda motor merek Yamaha N-Max DK 3498 PT 1 (satu) buah BPKB sepeda motor merek Yamaha N-Max DK 3498 PT Dikembalikan kepada Made Yusa Paramartha 1 (satu) unit sepeda motor merek Yamaha N-Max warna hitam DK 6992 LB beserta kunci kontak 1 (satu) buah STNK sepeda motor merek Yamaha N-Max DK 6992 LB 1 (satu) buah cover under dek bawah kolong sepeda motor merek Yamaha N-Max warna hitam 1 (satu) buah cover paru fender inner sepeda motor merek Yamaha N-Max warna hitam 2 (dua) buah dek sayap body bawah sepeda motor merek Yamaha N-Max warna ungu Dikembalikan kepada I Kadek Indrawan 1 (satu) unit mobil merek Honda Jazz GE8 warna putih DK 1049 WH 1 (satu) buah STNK mobil merek Honda Jazz GE8 DK 1049 WH Dikembalikan kepada Ni Luh Putu Suparwati 1 (satu) unit sepeda motor merek Yamaha N-Max warna hitam DK 6492 ZY beserta kunci kontak 1 (satu) lembar STNK Sepeda Motor Yamaha N-Max DK 4665 TG, Noka MH3SG3190JJ314087, Nosin G3E4E-1103102, nama pemilik a.n. I Ketut Merta Yasa 2 (dua) buah plat sepeda motor palsu warna hitam DK 4665 TG 2 (dua) buah spion sepeda motor merek Yamaha N-Max warna hitam Dikembalikan kepada Penuntut Umum untuk dijadikan barang bukti dalam perkara lain 1 (satu) buah kunci T warna hitam 1 (satu) buah obeng dengan gagang warna hitam 1 (satu) buah kunci ring pas 12 warna putih merek Wipro 1 (satu) buah tang dengan gagang warna merah 1 (satu) set kunci L warna putih merek Allwin 1 (satu) buah mesin bor tanpa kabel warna merah hitam merek Bitec Dimusnahkan Uang tunai Rp1.000.000,00 (satu juta rupiah) Dirampas untuk negara  6. Membebankan kepada Para Terdakwa membayar biaya perkara masing-masing sejumlah Rp5.000,00 (lima ribu rupiah)",
         "Terdakwa I KETUT JONI ADNYANA ADI PUTRA dan Terdakwa II ROSITA EVAYANTI DEWI pada 10 September 2023 pukul 01.00 WITA dan 1 Oktober 2023 pukul 02.00 WITA di parkiran Sukawana Sunrise dan Le Monte Sunrise, Desa Sukawana, Kecamatan Kintamani, Kabupaten Bangli, melakukan pencurian secara bersekutu. Pada 9 September 2023 pukul 21.00 WITA, Terdakwa berangkat dari Jembrana menuju Sukawana Sunrise menggunakan sepeda motor Yamaha NMAX warna hitam DK 6492 ZY milik saksi I KETUT MERTA YASA. Pada 10 September 2023 pukul 01.00 WITA, mereka tiba di parkiran dan melihat sepeda motor Yamaha NMAX hitam DK 3498 PT milik saksi MADE YUSA PARAMARTHA. Terdakwa I masuk ke parkiran, sementara Terdakwa II menunggu di Desa Pinggan. Terdakwa I mengambil sepeda motor yang tidak terkunci stang, mendorongnya sejauh 100 meter, lalu menyambungkan kabel stop kontak untuk menyalakan mesin sebelum membawa sepeda motor tersebut ke Jembrana untuk digunakan sebagai transportasi sehari-hari. Pada 30 September 2023, Terdakwa kembali merencanakan pencurian dan berangkat dari Jembrana menggunakan mobil Honda Jazz putih DK 1049 WH yang disewa dari saksi NI LUH PUTU SUPARWATI. Pada 1 Oktober 2023 pukul 01.00 WITA, mereka tiba di parkiran Le Monte Sunrise dan menunggu di mobil hingga pukul 02.00 WITA. Terdakwa I kemudian mengambil sepeda motor Yamaha NMAX warna abu lembayung ungu DK 6992 LB milik saksi I KADEK INDRAWAN dengan cara mendorongnya keluar dari parkiran, membuka bodi depan, dan menyambungkan kabel stop kontak agar mesin menyala. Sepeda motor tersebut dibawa ke Jembrana dan dijual melalui Facebook Marketplace seharga Rp5.300.000. Akibat perbuatan tersebut, saksi MADE YUSA PARAMARTHA mengalami kerugian Rp25.500.000 dan saksi I KADEK INDRAWAN mengalami kerugian Rp26.700.000. Para Terdakwa diancam pidana berdasarkan Pasal 363 ayat (1) ke-4 KUHP Jo Pasal 65 ayat (1) KUHP.",
         "ROSITA EVAYANTI DEWI",
         "14.0"
        ],
        [
         "17",
         "0",
         "9",
         "0",
         "4",
         "- Uang tunai sebesar Rp. 10.000.000,00(sepuluh juta rupiah). - 1 (satu) buah kartu ATM BRI, Nomor Kartu 6013012227516306 dikembalikan kepada Saksi Luh Putu Widiantari, S.E - 1 (satu) unit Sepeda Motor Honda Vario 125 warna putih DK 6266 PZ, Noka MH1JMD119PK176948, Nosin JMD1E-1177179 beserta kunci kontak. - 1 (satu) lembar STNK Sepeda Motor Honda Vario 125 DK 6266 PZ, Noka MH1JMD119PK176948, Nosin JMD1E-1177179, Nama pemilik an. I NYOMAN BUDIAWAN Dikembalikan kepada Terdakwa - 1 (satu) unit Mobil Suzuki ST 150 Pick Up warna hitam DK 8958 HD beserta kunci kontak  Dikembalikan kepada Saksi I Wayan Sarjana 6. Membebankan kepada Terdakwa membayar biaya perkara sejumlah Rp5.000,00 (lima ribu rupiah)",
         "Terdakwa I Nyoman Budiawan als. Sumawan pada 25 Oktober 2023 pukul 13.00 WITA di Toko UD. Langsung Jaya, Jalan Raya Kintamani, Desa Kintamani, Kecamatan Kintamani, melakukan pencurian dengan mengambil kartu ATM BRI warna biru nomor 6013 0122 2751 6306 milik saksi Luh Putu Widiantari tanpa izin. Sebelumnya, terdakwa datang ke toko untuk mentransfer uang tetapi diberitahu bahwa mesin BRI Link rusak. Saat pegawai toko meninggalkan tempat, terdakwa kembali masuk dan mengambil kartu ATM yang terletak di atas meja kasir. Setelah itu, terdakwa pulang ke rumah di Br./Ds. Siakin, Kecamatan Kintamani, Kabupaten Bangli, lalu menggunakan sepeda motor Vario 125 DK 6266 PZ menuju ATM BRI Toya Devasya di Desa Batur Tengah. Terdakwa mengetahui PIN ATM karena sering melihat pegawai toko memasukkannya saat melakukan transaksi. Terdakwa melakukan empat kali penarikan tunai masing-masing Rp2.500.000, dengan total Rp10.000.000, kemudian kembali ke rumah. Setelah menerima laporan dari saksi Luh Putu Widiantari pada 29 Oktober 2023, tim Kepolisian Sektor Kintamani melakukan penyelidikan dan menangkap terdakwa di rumahnya pada 28 Oktober 2023. Akibat perbuatan terdakwa, saksi mengalami kerugian sebesar Rp10.000.000. Perbuatan terdakwa diatur dan diancam pidana berdasarkan Pasal 362 KUHP.",
         "I NYOMAN BUDIAWAN Als. SUMAWAN",
         "14.0"
        ],
        [
         "18",
         "0",
         "0",
         "0",
         "4",
         "- Uang tunai sebesar Rp. 10.000.000,00(sepuluh juta rupiah). - 1 (satu) buah kartu ATM BRI, Nomor Kartu 6013012227516306 dikembalikan kepada Saksi Luh Putu Widiantari, S.E - 1 (satu) unit Sepeda Motor Honda Vario 125 warna putih DK 6266 PZ, Noka MH1JMD119PK176948, Nosin JMD1E-1177179 beserta kunci kontak. - 1 (satu) lembar STNK Sepeda Motor Honda Vario 125 DK 6266 PZ, Noka MH1JMD119PK176948, Nosin JMD1E-1177179, Nama pemilik an. I NYOMAN BUDIAWAN Dikembalikan kepada Terdakwa - 1 (satu) unit Mobil Suzuki ST 150 Pick Up warna hitam DK 8958 HD beserta kunci kontak  Dikembalikan kepada Saksi I Wayan Sarjana 6. Membebankan kepada Terdakwa membayar biaya perkara sejumlah Rp5.000,00 (lima ribu rupiah)",
         "Terdakwa I Nyoman Budiawan als. Sumawan pada 25 Oktober 2023 pukul 13.00 WITA di Toko UD. Langsung Jaya, Jalan Raya Kintamani, Desa Kintamani, Kecamatan Kintamani, melakukan pencurian dengan mengambil kartu ATM BRI warna biru nomor 6013 0122 2751 6306 milik saksi Luh Putu Widiantari tanpa izin. Sebelumnya, terdakwa datang ke toko untuk mentransfer uang tetapi diberitahu bahwa mesin BRI Link rusak. Saat pegawai toko meninggalkan tempat, terdakwa kembali masuk dan mengambil kartu ATM yang terletak di atas meja kasir. Setelah itu, terdakwa pulang ke rumah di Br./Ds. Siakin, Kecamatan Kintamani, Kabupaten Bangli, lalu menggunakan sepeda motor Vario 125 DK 6266 PZ menuju ATM BRI Toya Devasya di Desa Batur Tengah. Terdakwa mengetahui PIN ATM karena sering melihat pegawai toko memasukkannya saat melakukan transaksi. Terdakwa melakukan empat kali penarikan tunai masing-masing Rp2.500.000, dengan total Rp10.000.000, kemudian kembali ke rumah. Setelah menerima laporan dari saksi Luh Putu Widiantari pada 29 Oktober 2023, tim Kepolisian Sektor Kintamani melakukan penyelidikan dan menangkap terdakwa di rumahnya pada 28 Oktober 2023. Akibat perbuatan terdakwa, saksi mengalami kerugian sebesar Rp10.000.000. Perbuatan terdakwa diatur dan diancam pidana berdasarkan Pasal 362 KUHP.",
         "I NYOMAN BUDIAWAN Als. SUMAWAN",
         "14.0"
        ],
        [
         "19",
         "1",
         "10",
         "4",
         "2",
         "1 (satu) plastik klip bening yang berisi sabu dengan berat 0,10 (nol koma sepuluh) gram netto selanjutnya disisihkan seberat 0,02 (nol koma nol dua) gram netto untuk uji labforensik sehingga sisa barang bukti 0,08 (nol koma nol delapan) gram netto 1 (satu) buah gantungan handphone merek Furious warna hitam 1 (satu) lembar stiker Furious wana putih 1 (satu) buah jaket merek Furious warna biru dongker 1 (satu) buah handphone merek Samsung A04 warna biru berikut 1 (satu) buah Simcard XL Axiata dimusnahkan 1 (satu) unit sepeda motor merek Honda Scoopy warna merah dengan No. Pol DK 5548 PT berikut kunci kontak dikembalikan kepada yang berhak melalui Terdakwa 7. Membebankan kepada Terdakwa membayar biaya perkara sejumlah Rp5.000,00 (lima ribu rupiah)",
         "Terdakwa I Komang Rendi Yana (Rendi) pada tanggal 6 Juni 2023, sekitar pukul 16.00 WITA, membeli shabu seharga Rp 200.000,- dari seseorang bernama Gus Ucil. Setelah mengambil barang tersebut di lokasi yang telah disepakati, terdakwa menggunakan shabu tersebut di rumahnya dengan membuat bong dari barang-barang seadanya. Setelah menggunakan shabu, terdakwa menyimpan sisa barang bukti di jaketnya.  Sekitar pukul 19.00 WITA, terdakwa hendak pergi ke lapangan alun-alun Bangli, namun saat melintas di Jalan Tirta Geduh, terdakwa diberhentikan oleh petugas kepolisian. Dalam penggeledahan, petugas menemukan shabu yang disembunyikan di dalam gantungan handphone di saku jaket terdakwa. Polisi juga mengamankan barang bukti berupa handphone dan sepeda motor.  Hasil pemeriksaan laboratorium menunjukkan bahwa kristal yang ditemukan mengandung metamphetamine, yang merupakan narkotika golongan I. Terdakwa mengaku menggunakan shabu untuk mengurangi kesedihan akibat perpisahan dengan istri dan anaknya.  Perbuatan terdakwa diancam pidana sesuai dengan Pasal 112 ayat (1) dan Pasal 127 ayat (1) huruf a UU No. 35 Tahun 2009 tentang Narkotika.",
         "I KOMANG RENDI YANA alis RENDI",
         "15.0"
        ],
        [
         "20",
         "1",
         "4",
         "4",
         "2",
         "1 (satu) plastik klip bening yang berisi sabu dengan berat 0,10 (nol koma sepuluh) gram netto selanjutnya disisihkan seberat 0,02 (nol koma nol dua) gram netto untuk uji labforensik sehingga sisa barang bukti 0,08 (nol koma nol delapan) gram netto 1 (satu) buah gantungan handphone merek Furious warna hitam 1 (satu) lembar stiker Furious wana putih 1 (satu) buah jaket merek Furious warna biru dongker 1 (satu) buah handphone merek Samsung A04 warna biru berikut 1 (satu) buah Simcard XL Axiata dimusnahkan 1 (satu) unit sepeda motor merek Honda Scoopy warna merah dengan No. Pol DK 5548 PT berikut kunci kontak dikembalikan kepada yang berhak melalui Terdakwa 7. Membebankan kepada Terdakwa membayar biaya perkara sejumlah Rp5.000,00 (lima ribu rupiah)",
         "Terdakwa I Komang Rendi Yana (Rendi) pada tanggal 6 Juni 2023, sekitar pukul 16.00 WITA, membeli shabu seharga Rp 200.000,- dari seseorang bernama Gus Ucil. Setelah mengambil barang tersebut di lokasi yang telah disepakati, terdakwa menggunakan shabu tersebut di rumahnya dengan membuat bong dari barang-barang seadanya. Setelah menggunakan shabu, terdakwa menyimpan sisa barang bukti di jaketnya.  Sekitar pukul 19.00 WITA, terdakwa hendak pergi ke lapangan alun-alun Bangli, namun saat melintas di Jalan Tirta Geduh, terdakwa diberhentikan oleh petugas kepolisian. Dalam penggeledahan, petugas menemukan shabu yang disembunyikan di dalam gantungan handphone di saku jaket terdakwa. Polisi juga mengamankan barang bukti berupa handphone dan sepeda motor.  Hasil pemeriksaan laboratorium menunjukkan bahwa kristal yang ditemukan mengandung metamphetamine, yang merupakan narkotika golongan I. Terdakwa mengaku menggunakan shabu untuk mengurangi kesedihan akibat perpisahan dengan istri dan anaknya.  Perbuatan terdakwa diancam pidana sesuai dengan Pasal 112 ayat (1) dan Pasal 127 ayat (1) huruf a UU No. 35 Tahun 2009 tentang Narkotika.",
         "I KOMANG RENDI YANA alis RENDI",
         "15.0"
        ],
        [
         "21",
         "1",
         "11",
         "0",
         "3",
         "1 (satu) buah plastik klip bening yang berisi serbuk kristal yang diduga Narkotika golongan I bukan tanaman jenis shabu dengan berat 0,18 (nol koma delapan belas) gram bruto atau 0,10 (nol koma sepuluh) gram netto dan disisihkan 0,02 (nol koma nol dua) gram netto untuk uji labforensik sehingga berat Narkotika 0,08 (nol koma delapan) gram netto 1 (satu) buah bungkus rokok merk Dunhill warna putih 1 (satu) buah handphone merk OPPO warna ungu lengkap dengan 2 (dua) buah simcard dan 1 (satu) buah memory card Dimusnahkan 1 (satu) unit sepeda motor merk Honda Vario DK 3171 LK warna hitam 1 (satu) lembar STNK sepeda motor Honda Vario DK 3171 LK warna hitam atas nama pemilik I WAYAN DARSA alamat Br. Lungsiakan, Kedewatan Ubud Gianyar 1 (satu) buah kunci kontak. Dikembalikan kepada yang berhak melalui Terdakwa 7. Membebankan kepada Terdakwa membayar biaya perkara sejumlah Rp5.000,00 (lima ribu rupiah)",
         "Terdakwa I Gusti Lanang Made Wijaya (Lanang) pada tanggal 24 April 2023, sekitar pukul 19.00 WITA, merasa gelisah dan memutuskan untuk menggunakan shabu. Terdakwa menghubungi seseorang bernama Jung Tu (DPO) untuk membeli shabu seharga Rp 700.000,-, yang kemudian diambil oleh terdakwa di lokasi yang ditunjukkan di Desa Semana, Kabupaten Badung. Terdakwa membawa shabu tersebut pulang dan menggunakannya sekitar enam kali sedotan.  Pada pukul 19.30 WITA, terdakwa dihubungi oleh Riena (DPO), yang mengajaknya untuk menggunakan shabu bersama di Bangli. Sebelum berangkat, terdakwa membakar alat bong yang digunakan. Terdakwa kemudian berangkat ke Bangli dan tiba di pinggir Jalan Muhamad Hatta sekitar pukul 22.30 WITA. Saat itu, terdakwa dihentikan oleh petugas kepolisian yang menggeledah dirinya dan menemukan barang bukti berupa plastik klip berisi shabu seberat 0,08 gram netto, sebuah handphone, dan sepeda motor.  Berdasarkan pemeriksaan laboratorium, shabu tersebut terkonfirmasi mengandung metamphetamine, termasuk narkotika golongan I. Terdakwa tidak memiliki izin untuk memiliki, menyimpan, atau menggunakan narkotika tersebut. Perbuatannya melanggar Pasal 112 Ayat (1) dan Pasal 127 Ayat (1) Huruf a UU No. 35 Tahun 2009 tentang Narkotika.",
         "I GUSTI LANANG MADE WIJAYA alias LANANG",
         "16.0"
        ],
        [
         "22",
         "1",
         "12",
         "1",
         "5",
         "1 (satu) plastik klip bening yang berisi narkotika golongan I bukan tanaman mengandung sediaan metamfetamina yang terdaftar dalam Narkotika Golongan I Nomor Urut 61 Lampiran I UURI Nomor 35 Tahun 2009 tentang Narkotika dengan berat 0,33 (nol koma tiga puluh tiga) gram bruto atau 0,15 (nol koma lima belas) gram netto selanjutnya disisihkan seberat 0,02 (nol koma nol dua) gram netto untuk uji labforensik sehingga sisa barang bukti 0,13 (nol koma tiga belas) gram netto 1 (satu) potong pipet plastik warna bening 1 (satu) lembar tissue warna putih 1 (satu) buah bungkus snack merek Superco 1 (satu) buah bungkus plastik warna hitam putih 1 (satu) unit handphone merek Samsung Galaxy Type J2 Prime warna hitam berikut 1 (satu) buah sim card IM3 dan 1 (satu) buah memory card Dipergunakan dalam perkara atas nama Sodakoh Maliki alias Dakoh  6. Membebankan kepada Terdakwa membayar biaya perkara sejumlah Rp5.000,00 (lima ribu rupiah)",
         "Dakwaan terhadap terdakwa Selamet Harianto alias Selamet dan Sodakoh Maliki alias Dakoh adalah sebagai berikut:  Pada tanggal 15 Mei 2023, sekitar pukul 20.45 WITA, di Jalan Muhammad Hatta, Kelurahan Bebalang, Kabupaten Bangli, mereka bersama-sama melakukan tindakan tanpa hak atau melawan hukum dengan memiliki, menyimpan, menguasai, atau menyediakan narkotika jenis sabu (Metamfetamina) dengan berat 0,33 gram bruto (0,15 gram netto), yang ditemukan di dalam bungkusan plastik yang dibalut tissue dan disimpan dalam kemasan snack.  Peristiwa ini bermula ketika terdakwa Selamet menghubungi Rizal (DPO) melalui WhatsApp untuk meminta pekerjaan, yang kemudian disetujui. Terdakwa dan Sodakoh berangkat ke Bangli untuk mengambil narkotika yang telah disiapkan oleh Rizal. Tiba di lokasi, mereka mengambil paket sabu yang disembunyikan di bawah tiang listrik. Saat itu, terdakwa merasa jumlah sabu yang diterimanya sedikit.  Setelah itu, mereka berdua kembali ke Denpasar dan dihentikan oleh petugas kepolisian di Jalan Muhammad Hatta, Bebalang, Bangli. Dari penggeledahan, ditemukan narkotika jenis sabu seberat 0,33 gram bruto (0,13 gram netto setelah disisihkan untuk uji lab), serta barang bukti lain berupa handphone, SIM card, dan kartu memori.  Sodakoh juga ditemukan memiliki narkotika jenis sabu seberat 0,10 gram bruto dan peralatan yang digunakan untuk mengonsumsi narkoba. Mereka berdua kemudian diamankan dan dibawa ke Polres Bangli.  Hasil uji forensik membuktikan bahwa sabu yang ditemukan mengandung Metamfetamina, yang termasuk dalam Narkotika Golongan I. Terdakwa Selamet juga diketahui pernah dihukum dalam kasus serupa pada tahun 2019.",
         "SELAMET HARIANTO alias SELAMET",
         "72.0"
        ],
        [
         "23",
         "1",
         "11",
         "4",
         "5",
         "Kode A1 1 (satu) bungkus yang diduga narkotika golongan I jenis tembakau sintetis yang dibungkus plastik merek Violin warna biru dengan berat 18,85 (delapan belas koma delapan puluh lima) gram bruto atau 14,59 (empat belas koma lima puluh sembilan) gram netto dan disisihkan 1 (satu) gram netto untuk uji labforensik sehingga berat narkotika 13,59 (tiga belas koma lima puluh sembilan) gram netto Kode A2 1 (satu) bungkus yang diduga narkotika golongan I jenis tembakau sintetis yang dibungkus plastik merek Rhino warna merah dengan berat 43,41 (empat puluh tiga koma empat puluh satu) gram bruto atau 39,41 (tiga puluh sembilan koma empat puluh satu) gram netto dan disisihkan 1 (satu) gram netto untuk uji labforensik sehingga berat narkotika 38,41 (tiga puluh delapan koma empat puluh satu) gram netto 1 (satu) buah kardus mie instan merek Indomie 1 (satu) buah plastik bubble wrap yang tertempel resi JT Express No JND/BNL001 GIA-BNL01 JD0229994349 4 (empat) buah kertas papir merek Radja Mas  Dimusnahkan  4. Membebankan kepada Terdakwa membayar biaya perkara sejumlah Rp5.000,00 (lima ribu rupiah)",
         "Pada hari Selasa, 14 Maret 2023, sekitar pukul 12.00 WITA, Terdakwa Raihan Rahadi Azhar alias Raihan, yang tengah berada di dalam kamar tahanan Blok B Rutan Kelas IIB Bangli, Desa Bebalang, Kecamatan Bangli, Kabupaten Bangli, menerima kunjungan dari seorang pria bernama Gunggus Togar Manatar Pangaribuan, alias Togar. Togar datang untuk meminjam nama Raihan dalam sebuah transaksi yang berkaitan dengan pengiriman barang. Togar meminta izin untuk menggunakan nama Raihan agar bisa menerima paket tembakau sintetis yang dikirim melalui layanan pengiriman J&T Express. Togar meyakinkan Raihan bahwa semuanya akan aman, meskipun Raihan sempat bertanya dengan khawatir, \"Aman nggak?\". Togar menjawab dengan percaya diri, \"Aman.\"  Setelah mendengar penjelasan tersebut, Raihan pun akhirnya menyetujui permintaan Togar dan memberikan nama dirinya untuk digunakan dalam penerimaan paket tersebut, meskipun ia tidak tahu persis dari mana asal tembakau sintetis itu. Dua hari kemudian, pada Kamis, 16 Maret 2023, sekitar pukul 11.10 WITA, Raihan sedang duduk membaca buku di dalam kamarnya, yang terletak di kamar nomor 6 Blok B Rutan Kelas IIB Bangli, ketika seorang petugas tamping datang memanggilnya. Petugas tersebut menginformasikan bahwa ada paket yang datang atas nama Raihan Rahadi dengan nomor telepon dan alamat yang sesuai.  Tanpa curiga, Raihan menuju ke ruang portir untuk mengambil paket tersebut. Ia menerima paket itu dengan kedua tangannya, tidak tahu apa yang ada di dalamnya. Tak lama setelah menerima paket itu, Raihan langsung diamankan oleh petugas beserta barang bukti paket yang ia terima. Dalam paket yang dibawa Raihan, petugas menemukan dua bungkus tembakau sintetis yang disembunyikan di dalam plastik. Tembakau sintetis tersebut terbungkus rapat dengan kardus mie instan merek Indomie dan dibungkus lagi dengan plastik bubble wrap. Setelah dilakukan pemeriksaan lebih lanjut, ditemukan dua jenis tembakau sintetis, yaitu tembakau dengan merek Violin dan Rhino, masing-masing dengan berat bruto 18,85 gram dan 43,41 gram.  Petugas kepolisian kemudian melakukan pemeriksaan terhadap isi paket, disaksikan oleh petugas Rutan. Hasil pemeriksaan laboratorium menunjukkan bahwa kedua bungkus tembakau sintetis tersebut mengandung senyawa MDMB-4en-PINACA, yang termasuk dalam jenis narkotika golongan I, berdasarkan Peraturan Menteri Kesehatan No. 36 Tahun 2022. Senyawa ini telah terdaftar dalam Undang-Undang Republik Indonesia No. 35 Tahun 2009 tentang Narkotika.  Dengan temuan tersebut, Raihan kemudian didakwa telah melanggar undang-undang tentang narkotika, meskipun ia tidak mengetahui asal muasal barang tersebut. Tindak pidana yang dilakukannya termasuk menawarkan, menjual, membeli, menerima, menjadi perantara jual beli, atau menukar narkotika golongan I. Raihan juga diduga melanggar Pasal 114 Ayat (1) dari Undang-Undang No. 35 Tahun 2009, yang berhubungan dengan kepemilikan, penyimpanan, dan penguasaan narkotika golongan I yang bukan merupakan tanaman.",
         "RAIHAN RAHADI AZHAR alias RAIHAN",
         "84.0"
        ],
        [
         "24",
         "0",
         "13",
         "4",
         "5",
         "1 (satu) buah kotak handphone Redmi Note 10 S 1 (satu) buah handphone merk Redmi Note 10 S warna Onyx Gray  Dikembalikan kepada I Wayan Suardana 1 (satu) buah kotak Handphone Redmi Note 7 6 (enam) lembar uang Rp100.000,00 (seratus ribu rupiah) dengan total Rp600.000,00 (enam ratus ribu rupiah)  Dikembalikan kepada I Wayan Panggih 1 buah tas pinggang merk Jungle Surf warna abu-abu  Dimusnahkan  6. Membebankan kepada Terdakwa membayar biaya perkara sejumlah Rp5.000,00 (lima ribu rupiah)",
         "Terdakwa, I Wayan Nawa, didakwa melakukan serangkaian tindak pidana pencurian yang terjadi di wilayah Kintamani, Kabupaten Bangli, pada bulan Oktober dan November 2022. Pada hari Minggu, 2 Oktober 2022, sekitar pukul 12.30 WITA, terdakwa melakukan pencurian di kebun milik I Wayan Suardana di Desa Bayung Gede. Dengan berpura-pura menawarkan pupuk kandang, terdakwa mengalihkan perhatian korban dan mencuri sebuah ponsel Redmi Note 10S beserta uang tunai Rp400.000 yang disimpan dalam wadah ponsel tersebut.  Selanjutnya, pada hari Rabu, 9 November 2022, sekitar pukul 12.00 WITA, terdakwa kembali melakukan pencurian di sebuah pondokan milik I Wayan Panggih di Desa Binyan. Dengan modus yang sama, yaitu menawarkan pupuk kandang, terdakwa berhasil mencuri sebuah ponsel Redmi Note 7 milik korban. Setelah melakukan pencurian, terdakwa menjual kedua ponsel tersebut. Ponsel milik I Wayan Suardana dijual seharga Rp1.400.000, sedangkan ponsel milik I Wayan Panggih dijual seharga Rp400.000. Uang hasil penjualan tersebut digunakan oleh terdakwa untuk memenuhi kebutuhan sehari-hari.  Akibat perbuatan terdakwa, I Wayan Suardana mengalami kerugian sebesar Rp3.400.000, sedangkan I Wayan Panggih mengalami kerugian sebesar Rp3.000.000. Setelah menerima laporan dari para korban, pihak kepolisian melakukan penyelidikan dan berhasil menangkap terdakwa pada tanggal 9 Februari 2023 di wilayah Karangasem. Atas perbuatannya, terdakwa didakwa melanggar Pasal 362 KUHP jo Pasal 65 ayat (1) KUHP, yang mengatur tentang tindak pidana pencurian yang dilakukan secara berulang.",
         "I Wayan Nawa",
         "6.0"
        ],
        [
         "25",
         "0",
         "11",
         "3",
         "5",
         "2 (dua) Gram Cincin emas dengan batu permata berwarna hitam Pecahan uang seratus ribu rupiah sebanyak 57 lembar (Rp.5.700.000,-) 1 (satu) Buah tas warna merah maroon bertuliskan Michael Kors 1.600 Gram Cincin emas dengan batu permata berwarna merah 1 (satu) Pcs Dompet warna merah muda kombinasi putih bertuliskan Toko Perhiasan Emas Ratna 14.400 Gram Kalung Emas Rantai Bola 2 (dua) Lembar Nota Pembelian Perhiasan Emas Toko Ratna 1 (satu) Buah Tas warna hitam bertuliskan Steve Madden Dikembalikan kepada Saksi Ni Jro Luh Putri 1 (satu) Potong Hoddie warna merah bertuliskan Getting To 90 4th Red Ribbon Flash Mob  Dimusnahkan - 1 (satu) Unit sepeda motor Yamaha Xeon warna hitam Dirampas untuk negara 6. Membebankan kepada Terdakwa membayar biaya perkara sejumlah Rp5.000,00 (lima ribu rupiah)",
         "Terdakwa, JRO GEDE BUDI, didakwa melakukan tindak pidana pencurian di Pemandian Tirta Usadha Toya Bungkah, Bangli, pada 28 Januari 2023. Terdakwa, yang datang untuk berendam, melihat tas milik NI JRO LUH PUTRI di loker terbuka. Timbul niat untuk mencuri, terdakwa mengambil tas tersebut dan membawanya ke parkiran motor.  Setelah pergi, terdakwa memeriksa isi tas dan menemukan uang Rp5.700.000 dan perhiasan emas. Terdakwa mengambil Rp1.000.000 dan menyembunyikan sisanya beserta perhiasan di dekat rumahnya. Terdakwa kemudian pulang dengan uang curian.  Polisi menangkap terdakwa setelah laporan korban. Barang bukti ditemukan, termasuk tas, uang, dan perhiasan. Korban mengalami kerugian Rp19.700.000. Terdakwa didakwa melanggar Pasal 362 KUHP.",
         "JRO GEDE BUDI",
         "5.0"
        ],
        [
         "26",
         "0",
         "9",
         "4",
         "3",
         "1 (satu) unit sepeda motor yang sudah dimodifikasi (cetul) tanpa terpasang nomor registrasi / nomor polisi dan tidak dapat terdapat nomor rangka dan nomor mesin kendaraan Dikembalikan kepada I Gede Wiraguna 1 (satu) unit sepeda motor merek Kawasaki tipe LX 150 C, warna hitam kombinasi kuning, tahun pembuatan 2010, tanpa terpasang nomor registrasi / nomor polisi, Noka MH4LX150CAKP15705, Nosin LX150CEP19759 1 (satu) lembar SNTK sepeda motor merek Kawasaki tipe LX 150 C, warna hijau, tahun pembuatan 2010, nomor registrasi / nomor polisi DK 8164 IQ, Noka MH4LX150CAKP15705, Nosin LX150CEP19759, a.n. Chrisnawati, alamat Jl. Surabaya D, 6/20 Puri Gading, Jimbaran, Kuta Badung dan 1 (satu) buah buku BPKB, No H-0 2625520, DK 8164 IQ, merek Kawasaki tipe LX 150 C, Noka MH4LX150CAKP15705, Nosin LX150CEP19759, a.n. Chrisnawati, alamat Jl. Surabaya D, 6/20 Puri Gading, Jimbaran, Kuta Badung Dikembalikan kepada I Wayan Eva Kusuma Putra 6. Membebankan kepada Para Terdakwa membayar biaya perkara masing-masing sejumlah Rp5.000,00 (lima ribu rupiah)",
         "Terdakwa I, Rifqi Abdurahman, dan Terdakwa II, Gunawan, didakwa melakukan pencurian sepeda motor Kawasaki KLX 150 C di Jalan Raya Kayuambua, Bangli, pada 11 Desember 2022, sekitar pukul 00.30 WITA. Berawal dari permintaan Gunawan untuk mencarikan motor KLX, mereka berdua berangkat dari Denpasar ke Kintamani. Di lokasi kejadian, mereka melihat motor KLX tanpa kunci kontak. Rifqi mengambil motor tersebut dengan mendorongnya, sementara Gunawan mengawasi.  Karena Rifqi tidak bisa menyalakan motor, Gunawan membantu mendorongnya. Namun, motor mereka mengalami kerusakan, dan Rifqi melanjutkan mendorong motor curian sendirian. Saat mendorong, Rifqi bertemu saksi-saksi yang curiga dan menghubungi pemilik motor. Rifqi berhasil menyalakan motor, tetapi kehabisan bensin. Ia melanjutkan mendorong ke SPBU Sekardadi, di mana ia tertidur dan ditangkap polisi.  Gunawan ditangkap di Desa Dumilih. Motor curian dan motor yang digunakan para terdakwa disita. Korban, I Wayan Eva Kusuma Putra, mengalami kerugian Rp16.000.000. Para terdakwa didakwa melanggar Pasal 363 Ayat (1) Ke 4 KUHP sebagai dakwaan primair dan Pasal 362 KUHP sebagai dakwaan subsidair.",
         "RIFQI ABDURAHMAN",
         "8.0"
        ],
        [
         "27",
         "0",
         "9",
         "4",
         "3",
         "1 (satu) unit sepeda motor yang sudah dimodifikasi (cetul) tanpa terpasang nomor registrasi / nomor polisi dan tidak dapat terdapat nomor rangka dan nomor mesin kendaraan Dikembalikan kepada I Gede Wiraguna 1 (satu) unit sepeda motor merek Kawasaki tipe LX 150 C, warna hitam kombinasi kuning, tahun pembuatan 2010, tanpa terpasang nomor registrasi / nomor polisi, Noka MH4LX150CAKP15705, Nosin LX150CEP19759 1 (satu) lembar SNTK sepeda motor merek Kawasaki tipe LX 150 C, warna hijau, tahun pembuatan 2010, nomor registrasi / nomor polisi DK 8164 IQ, Noka MH4LX150CAKP15705, Nosin LX150CEP19759, a.n. Chrisnawati, alamat Jl. Surabaya D, 6/20 Puri Gading, Jimbaran, Kuta Badung dan 1 (satu) buah buku BPKB, No H-0 2625520, DK 8164 IQ, merek Kawasaki tipe LX 150 C, Noka MH4LX150CAKP15705, Nosin LX150CEP19759, a.n. Chrisnawati, alamat Jl. Surabaya D, 6/20 Puri Gading, Jimbaran, Kuta Badung Dikembalikan kepada I Wayan Eva Kusuma Putra 6. Membebankan kepada Para Terdakwa membayar biaya perkara masing-masing sejumlah Rp5.000,00 (lima ribu rupiah)",
         "Terdakwa I, Rifqi Abdurahman, dan Terdakwa II, Gunawan, didakwa melakukan pencurian sepeda motor Kawasaki KLX 150 C di Jalan Raya Kayuambua, Bangli, pada 11 Desember 2022, sekitar pukul 00.30 WITA. Berawal dari permintaan Gunawan untuk mencarikan motor KLX, mereka berdua berangkat dari Denpasar ke Kintamani. Di lokasi kejadian, mereka melihat motor KLX tanpa kunci kontak. Rifqi mengambil motor tersebut dengan mendorongnya, sementara Gunawan mengawasi.  Karena Rifqi tidak bisa menyalakan motor, Gunawan membantu mendorongnya. Namun, motor mereka mengalami kerusakan, dan Rifqi melanjutkan mendorong motor curian sendirian. Saat mendorong, Rifqi bertemu saksi-saksi yang curiga dan menghubungi pemilik motor. Rifqi berhasil menyalakan motor, tetapi kehabisan bensin. Ia melanjutkan mendorong ke SPBU Sekardadi, di mana ia tertidur dan ditangkap polisi.  Gunawan ditangkap di Desa Dumilih. Motor curian dan motor yang digunakan para terdakwa disita. Korban, I Wayan Eva Kusuma Putra, mengalami kerugian Rp16.000.000. Para terdakwa didakwa melanggar Pasal 363 Ayat (1) Ke 4 KUHP sebagai dakwaan primair dan Pasal 362 KUHP sebagai dakwaan subsidair.",
         "GUNAWAN",
         "8.0"
        ],
        [
         "28",
         "0",
         "14",
         "0",
         "6",
         "1 (satu) unit sepeda motor honda vario tahun 2011, warna merah silver DK 7917 UR, Noka MH1JF8119BK338944, Nosin JF81E-1337110 beserta anak kunci 1 (satu) STNK sepeda motor honda vario tahun 2011, warna merah silver DK 7917 UR, Noka MH1JF8119BK338944, Nosin JF81E-1337110 dikembalikan kepada yang berhak melalui Terdakwa 4 (empat) ekor ayam aduan warna merah (biying) 1 (satu) ekor ayam aduan warna coklat (klau) dikembalikan kepada I WAYAN SUKADA dan I MADE TERUS 4 (empat) buah karung warna putih dimusnahkan 6. Membebankan kepada Terdakwa membayar biaya perkara sejumlah Rp5.000,00 (lima ribu rupiah)",
         "Terdakwa, Gede Kastawa, didakwa melakukan serangkaian tindak pidana pencurian ayam di wilayah Kintamani, Bangli, pada bulan Oktober 2022. Pada 21 Oktober, sekitar pukul 20.00 WITA, ia mencuri 6 ekor ayam milik I Wayan Sukada di Desa Belantih. Pada 28 Oktober, sekitar pukul 18.00 WITA, ia mencuri 15 ekor ayam milik I Made Terus di Desa Belanga. Pada 30 Oktober, sekitar pukul 16.30 WITA, ia mencoba mencuri 1 ekor ayam milik I Wayan Lusin di Desa Belanga, namun gagal dan berhasil diamankan warga.  Dalam setiap aksinya, terdakwa menggunakan modus yang sama, yaitu memanfaatkan kelengahan korban. Ia menjual ayam curian di Singaraja dan menggunakan uangnya untuk judi sabung ayam dan kebutuhan sehari-hari. Akibat perbuatannya, para korban mengalami kerugian total Rp3.500.000. Terdakwa didakwa melanggar Pasal 362 KUHP Jo Pasal 65 ayat (1) KUHP, yang mengatur tentang tindak pidana pencurian yang dilakukan secara berulang..",
         "Gede Kastawa",
         "30.0"
        ],
        [
         "29",
         "0",
         "15",
         "0",
         "6",
         "1 (satu) unit sepeda motor honda vario tahun 2011, warna merah silver DK 7917 UR, Noka MH1JF8119BK338944, Nosin JF81E-1337110 beserta anak kunci 1 (satu) STNK sepeda motor honda vario tahun 2011, warna merah silver DK 7917 UR, Noka MH1JF8119BK338944, Nosin JF81E-1337110 dikembalikan kepada yang berhak melalui Terdakwa 4 (empat) ekor ayam aduan warna merah (biying) 1 (satu) ekor ayam aduan warna coklat (klau) dikembalikan kepada I WAYAN SUKADA dan I MADE TERUS 4 (empat) buah karung warna putih dimusnahkan 6. Membebankan kepada Terdakwa membayar biaya perkara sejumlah Rp5.000,00 (lima ribu rupiah)",
         "Terdakwa, Gede Kastawa, didakwa melakukan serangkaian tindak pidana pencurian ayam di wilayah Kintamani, Bangli, pada bulan Oktober 2022. Pada 21 Oktober, sekitar pukul 20.00 WITA, ia mencuri 6 ekor ayam milik I Wayan Sukada di Desa Belantih. Pada 28 Oktober, sekitar pukul 18.00 WITA, ia mencuri 15 ekor ayam milik I Made Terus di Desa Belanga. Pada 30 Oktober, sekitar pukul 16.30 WITA, ia mencoba mencuri 1 ekor ayam milik I Wayan Lusin di Desa Belanga, namun gagal dan berhasil diamankan warga.  Dalam setiap aksinya, terdakwa menggunakan modus yang sama, yaitu memanfaatkan kelengahan korban. Ia menjual ayam curian di Singaraja dan menggunakan uangnya untuk judi sabung ayam dan kebutuhan sehari-hari. Akibat perbuatannya, para korban mengalami kerugian total Rp3.500.000. Terdakwa didakwa melanggar Pasal 362 KUHP Jo Pasal 65 ayat (1) KUHP, yang mengatur tentang tindak pidana pencurian yang dilakukan secara berulang..",
         "Gede Kastawa",
         "30.0"
        ],
        [
         "30",
         "0",
         "16",
         "0",
         "5",
         "3 (tiga) ekor anak babi dengan bulu berwarna putih 1 (satu) buah karung plastic merk novo berwarna putih  dikembalikan kepada Saksi Komang Sucitra  6. Membebankan kepada Terdakwa membayar biaya perkara sejumlah Rp5.000,- (lima ribu rupiah)",
         "Terdakwa, Elias Fanggi, dihadapkan pada dakwaan atas tindak pidana pencurian dengan pemberatan dan penggelapan dalam jabatan yang terjadi di kandang babi milik I Komang Sucitra di Desa Abuan, Kecamatan Kintamani, Kabupaten Bangli. Pada hari Sabtu, 27 Maret 2021, sekitar pukul 22.30 WITA, Elias Fanggi, yang bekerja sebagai pembersih kandang babi milik korban sejak 6 Januari 2021, melakukan serangkaian tindakan yang mengakibatkan hilangnya tiga ekor anak babi. Pada hari itu, sekitar pukul 16.00 WITA, terdakwa datang ke kandang babi untuk melaksanakan tugasnya. Namun, pada malam harinya, sekitar pukul 22.30 WITA, ia memasuki kandang babi melalui pintu yang tidak terkunci dan mengambil karung plastik yang ada di dalam kandang. Tanpa izin dan sepengetahuan I Komang Sucitra, Elias Fanggi mengambil tiga ekor anak babi dan memasukkannya ke dalam karung plastik yang telah ia siapkan. Ia kemudian membawa anak babi tersebut keluar dari kandang menggunakan sepeda motor milik saksi Leonardus Pendi dengan maksud untuk menjualnya.  Perbuatan Elias Fanggi diketahui oleh I Komang Sucitra, yang kemudian melaporkan kejadian tersebut kepada pihak berwajib. Akibat perbuatan terdakwa, I Komang Sucitra mengalami kerugian sekitar Rp3.600.000. Atas perbuatannya, Elias Fanggi didakwa dengan dakwaan primair Pasal 363 Ayat (1) Ke 1 KUHP, yaitu pencurian dengan pemberatan, karena ia memasuki kandang babi yang merupakan tempat tertutup dengan maksud untuk melakukan pencurian. Sebagai dakwaan subsidair, ia juga didakwa dengan Pasal 374 KUHP, yaitu penggelapan dalam jabatan, karena ia memiliki hubungan kerja dengan korban dan tanggung jawab terhadap hewan ternak tersebut.",
         "Elias Fanggi",
         "6.0"
        ],
        [
         "31",
         "0",
         "17",
         "0",
         "5",
         "3 (tiga) ekor anak babi dengan bulu berwarna putih 1 (satu) buah karung plastic merk novo berwarna putih  dikembalikan kepada Saksi Komang Sucitra  6. Membebankan kepada Terdakwa membayar biaya perkara sejumlah Rp5.000,- (lima ribu rupiah)",
         "Terdakwa, Elias Fanggi, dihadapkan pada dakwaan atas tindak pidana pencurian dengan pemberatan dan penggelapan dalam jabatan yang terjadi di kandang babi milik I Komang Sucitra di Desa Abuan, Kecamatan Kintamani, Kabupaten Bangli. Pada hari Sabtu, 27 Maret 2021, sekitar pukul 22.30 WITA, Elias Fanggi, yang bekerja sebagai pembersih kandang babi milik korban sejak 6 Januari 2021, melakukan serangkaian tindakan yang mengakibatkan hilangnya tiga ekor anak babi. Pada hari itu, sekitar pukul 16.00 WITA, terdakwa datang ke kandang babi untuk melaksanakan tugasnya. Namun, pada malam harinya, sekitar pukul 22.30 WITA, ia memasuki kandang babi melalui pintu yang tidak terkunci dan mengambil karung plastik yang ada di dalam kandang. Tanpa izin dan sepengetahuan I Komang Sucitra, Elias Fanggi mengambil tiga ekor anak babi dan memasukkannya ke dalam karung plastik yang telah ia siapkan. Ia kemudian membawa anak babi tersebut keluar dari kandang menggunakan sepeda motor milik saksi Leonardus Pendi dengan maksud untuk menjualnya.  Perbuatan Elias Fanggi diketahui oleh I Komang Sucitra, yang kemudian melaporkan kejadian tersebut kepada pihak berwajib. Akibat perbuatan terdakwa, I Komang Sucitra mengalami kerugian sekitar Rp3.600.000. Atas perbuatannya, Elias Fanggi didakwa dengan dakwaan primair Pasal 363 Ayat (1) Ke 1 KUHP, yaitu pencurian dengan pemberatan, karena ia memasuki kandang babi yang merupakan tempat tertutup dengan maksud untuk melakukan pencurian. Sebagai dakwaan subsidair, ia juga didakwa dengan Pasal 374 KUHP, yaitu penggelapan dalam jabatan, karena ia memiliki hubungan kerja dengan korban dan tanggung jawab terhadap hewan ternak tersebut.",
         "Elias Fanggi",
         "6.0"
        ],
        [
         "32",
         "0",
         "17",
         "0",
         "15",
         "1 (satu) buah mesin penggerak pompa air merk GENERAL beserta 1 (satu) buah pompa Sanchin 1 (satu) buah tali kipas Dikembalikan kepada I WAYAN SUTIANA 1 (satu) buah mesin penggerak pompa air merk GENERAL beserta 1 (satu) buah pompa Sanchin 1 (satu) buah tali kipas 1 (satu) pasang sepatu boat warna hijau tua Dikembalikan kepada I NENGAH SAPA 1 (satu) buah mesin penggerak pompa air merk GENERAL beserta 1 (satu) buah pompa Sanchin 1 (satu) buah tali kipas 2 (dua) buah selang warna orange Dikembalikan kepada I KETUT SUDADI 1 (satu) buah mesin penggerak pompa air merk PRIMA beserta 1 (satu) buah pompa Sanchin merk Pro Quip 1 (satu) buah tali kipas Dikembalikan kepada I WAYAN RAMANTO 1 (satu) buah mesin penggerak pompa air merk PRO QUIP beserta 1 (satu) buah pompa Sanchin merk Tanika 1 (satu) buah tali kipas DIkembalikan kepada I MADE SADSWADARMA 1 (satu) buah mesin pompa air merk Honda lengkap dengan pompa sanchin 1 (satu) buah tali kipas Dikembalikan I KETUT CAREM 1 (satu) buah mesin pompa air merk Robin lengkap dengan pompa sanchin 1 (satu) buah tali kipas Dikembalikan kepada I NYOMAN BIRAWAN 1 (satu) buah mesin pompa air merk Robin lengkap dengan pompa sanchin 1 (satu) buah tali kipas Dikembalikan kepada NI NENGAH SUANTINI 1 (satu) buah mesin pemotong kayu (Senzo) merk Still Dikembalikan kepada I NYOMAN KENEH 1 (satu) buah mesin pemotong rumput merk Harry Dikembalikan kepada I WAYAN DARMA 1 (satu) buah kompor gas merk Rinai 1 (satu) buah tabung gas isi 3 kg Dikembalikan kepada NI KETUT SUPADMI 1 (satu) unit sepeda motor Honda Genio warna abu-abu DK 5756 PX beserta kunci kontak 1 (satu) lembar STNK sepeda motor Honda Genio warna abu-abu DK 5756 PX nomor rangka MH1JM611XKK105164, nomor mesin JM61E- 1105196, tahun pembuatan 2019 atas nama I WAYAN EDI RUSMAWAN 1 (satu) set kunci peralatan bengkel terdiri dari 1 set kunci L, 1 buah tang, 1 buah kunci engkol, 5 buah kunci pas, 1 buah obeng, 2 buah kunci T Dikembalikan kepada Penuntut Umum untuk dijadikan barang bukti dalam perkara lain Uang tunai Rp 250.000,00 (dua ratus lima puluh ribu rupiah) Dirampas untuk negara 3 (tiga) buah karung plastik (kampil) 1 (satu) gulung tali plastik rapia warna merah muda 2 (dua) buah selang warna bening Dimusnahkan  6. Membebankan kepada Terdakwa membayar biaya perkara sejumlah Rp5.000,00 (lima ribu rupiah)",
         "Terdakwa I Wayan Edi Rusmawan didakwa melakukan pencurian terhadap barang milik orang lain secara melawan hukum di berbagai lokasi di Kintamani, Bangli, antara Juni 2020 hingga Januari 2021. Kejadian-kejadian tersebut terjadi pada berbagai waktu dan tempat, termasuk kebun dan gudang milik beberapa individu di daerah tersebut. Tindakannya dilakukan dengan cara merusak, memanjat, atau menggunakan alat seperti anak kunci palsu untuk mengakses tempat dan barang yang dicuri. Tindakannya termasuk dalam beberapa perbuatan yang harus dipandang sebagai kejahatan terpisah. Perbuatan tersebut diancam pidana sesuai dengan Pasal 362 KUHP Jo Pasal 65 ayat (1) KUHP.",
         "I Wayan Edi Rusmawan",
         "24.0"
        ],
        [
         "33",
         "0",
         "18",
         "0",
         "15",
         "1 (satu) buah mesin penggerak pompa air merk GENERAL beserta 1 (satu) buah pompa Sanchin 1 (satu) buah tali kipas Dikembalikan kepada I WAYAN SUTIANA 1 (satu) buah mesin penggerak pompa air merk GENERAL beserta 1 (satu) buah pompa Sanchin 1 (satu) buah tali kipas 1 (satu) pasang sepatu boat warna hijau tua Dikembalikan kepada I NENGAH SAPA 1 (satu) buah mesin penggerak pompa air merk GENERAL beserta 1 (satu) buah pompa Sanchin 1 (satu) buah tali kipas 2 (dua) buah selang warna orange Dikembalikan kepada I KETUT SUDADI 1 (satu) buah mesin penggerak pompa air merk PRIMA beserta 1 (satu) buah pompa Sanchin merk Pro Quip 1 (satu) buah tali kipas Dikembalikan kepada I WAYAN RAMANTO 1 (satu) buah mesin penggerak pompa air merk PRO QUIP beserta 1 (satu) buah pompa Sanchin merk Tanika 1 (satu) buah tali kipas DIkembalikan kepada I MADE SADSWADARMA 1 (satu) buah mesin pompa air merk Honda lengkap dengan pompa sanchin 1 (satu) buah tali kipas Dikembalikan I KETUT CAREM 1 (satu) buah mesin pompa air merk Robin lengkap dengan pompa sanchin 1 (satu) buah tali kipas Dikembalikan kepada I NYOMAN BIRAWAN 1 (satu) buah mesin pompa air merk Robin lengkap dengan pompa sanchin 1 (satu) buah tali kipas Dikembalikan kepada NI NENGAH SUANTINI 1 (satu) buah mesin pemotong kayu (Senzo) merk Still Dikembalikan kepada I NYOMAN KENEH 1 (satu) buah mesin pemotong rumput merk Harry Dikembalikan kepada I WAYAN DARMA 1 (satu) buah kompor gas merk Rinai 1 (satu) buah tabung gas isi 3 kg Dikembalikan kepada NI KETUT SUPADMI 1 (satu) unit sepeda motor Honda Genio warna abu-abu DK 5756 PX beserta kunci kontak 1 (satu) lembar STNK sepeda motor Honda Genio warna abu-abu DK 5756 PX nomor rangka MH1JM611XKK105164, nomor mesin JM61E- 1105196, tahun pembuatan 2019 atas nama I WAYAN EDI RUSMAWAN 1 (satu) set kunci peralatan bengkel terdiri dari 1 set kunci L, 1 buah tang, 1 buah kunci engkol, 5 buah kunci pas, 1 buah obeng, 2 buah kunci T Dikembalikan kepada Penuntut Umum untuk dijadikan barang bukti dalam perkara lain Uang tunai Rp 250.000,00 (dua ratus lima puluh ribu rupiah) Dirampas untuk negara 3 (tiga) buah karung plastik (kampil) 1 (satu) gulung tali plastik rapia warna merah muda 2 (dua) buah selang warna bening Dimusnahkan  6. Membebankan kepada Terdakwa membayar biaya perkara sejumlah Rp5.000,00 (lima ribu rupiah)",
         "Terdakwa I Wayan Edi Rusmawan didakwa melakukan pencurian terhadap barang milik orang lain secara melawan hukum di berbagai lokasi di Kintamani, Bangli, antara Juni 2020 hingga Januari 2021. Kejadian-kejadian tersebut terjadi pada berbagai waktu dan tempat, termasuk kebun dan gudang milik beberapa individu di daerah tersebut. Tindakannya dilakukan dengan cara merusak, memanjat, atau menggunakan alat seperti anak kunci palsu untuk mengakses tempat dan barang yang dicuri. Tindakannya termasuk dalam beberapa perbuatan yang harus dipandang sebagai kejahatan terpisah. Perbuatan tersebut diancam pidana sesuai dengan Pasal 362 KUHP Jo Pasal 65 ayat (1) KUHP.",
         "I Wayan Edi Rusmawan",
         "24.0"
        ],
        [
         "34",
         "1",
         "19",
         "5",
         "4",
         "1 (satu) buah plastik klip bening yang berisi serbuk kristal yang diduga Narkotika golongan I jenis shabu dengan berat 0,44 bruto atau 0,20 gram netto 1 (satu) buah bekas bungkus rokok Marlboro warna putih 1 (satu) buah handphone merk XIOMI tipe redmi 4x warna hitam Dimusnahkan 1 (satu) unit sepeda motor Honda beat DK 6017 QD warna Hitam 1 (satu) buah STNK sepeda Honda beat DK 6017 QD warna Hitam an NI MADE DWI YANTI WIDIANI 1 (satu) buah kunci kontak Dikembalikan kepada pemiliknya melalui Terdakwa II. Irga Krisna Haryanto R 6. Membebankan kepada Para Terdakwa membayar biaya perkara masing-masing sejumlah Rp5.000,00 (lima ribu rupiah)",
         "Bahwa ia Terdakwa Anjar Ruchimat dan Irga Krisna Haryanto R pada hari Selasa tanggal 04 Februari 2020 sekira pukul 21.30 wita atau setidak-tidaknya pada suatu waktu dalam tahun dua ribu duapuluh, bertempat di pinggir jalan raya Merdeka, Lingkungan/Kelurahan Bebalang, Kecamatan Bangli, Kabupaten Bangli atau setidak-tidaknya pada suatu tempat tertentu yang masih termasuk dalam daerah hukum Pengadilan Negeri Bangli, melakukan melakukan percobaan atau permufakatan jahat, bersekongkol atau bersependapat dengan sdra. Made Bleteng (dalam Daftar Pencarian Orang) untuk melakukan, melaksanakan, membantu, turut serta melakukan, menyuruh, menganjurkan, memfasilitasi, memberi konsultasi, menjadi anggota suatu organisasi kejahatan Narkotika, atau mengorganisasikan suatu tindak pidana Narkotika, untuk melakukan tindak pidana Narkotika yang tanpa haka tau melawan hukum memiliki, menyimpan, menguasai, atau menyediakan Narkotika Golongan I bukan tanaman. Pasal 132 Ayat (1) jo. Pasal 112 Ayat (1) Undang-Undang Republik Indonesia Nomor 35 Tahun 2009 Tentang Narkotika atau. Khusus terdakwa Anjar Ruchimat. -Bahwa ia terdakwa Anjar Ruchimat pada hari Sabtu tanggal 1 Februari 2020 sekitar pukul 15.00 WITA atau setidak-tidaknya pada suatu hari di bulan Februari 2020 atau pada waktu lain dalam tahun 2020, bertempat di salah satu home stay/penginapan di daerah Kuta, Kabupaten Badung atau setidak-tidaknya pada suatu tempat yang masih termasuk wilayah hukum Pengadilan Negeri Denpasar yang berwenang memeriksa dan mengadili perkara ini, tetapi berdasarkan ketentuan Pasal 84 ayat (2) KUHAP yang berbunyi Pengadilan Negeri yang di dalam daerah hukumnya terdakwa bertempat tinggal, berdiam terakhir, di tempat ia diketemukan atau ditahan, hanya berwenang mengadili perkara terdakwa tersebut, apabila tempat kediaman sebagian saksi yang dipanggil lebih dekat pada tempat Pengadilan Negeri itu daripada tempat kedudukan Pengadilan Negeri yang di dalam daerahnya tindak pidana itu dilakukan Pengadilan Negeri Bangli berwenang memeriksa dan mengadili perkara ini, yang menggunakan Narkotika Golongan I bagi diri sendiri tanpa hak atau melawan hukum,. Perbuatan terdakwa Anjar Ruchimat merupakan tindak pidana sebagaimana diatur dan diancam pidana dalam Pasal 127 ayat (1) huruf a Undang - Undang R.I. No. 35 Tahun 2009 Tentang Narkotika.. Khusus terdakwa Irga Krisna Haryanto R. -Bahwa ia terdakwa Irga Krisna Haryanto R pada hari Selasa tanggal 28 Januari 2020 sekitar pukul 22.30 WITA atau setidak-tidaknya pada suatu hari di bulan Januari 2020 atau pada waktu lain dalam tahun 2020, bertempat di kamar kontrakan terdakwa, jalan Buana Graha Dawas, Dalung, Kecamatan Kuta Utara, Kabupaten Badung atau setidak-tidaknya pada suatu tempat yang masih termasuk wilayah hukum Pengadilan Negeri Denpasar yang berwenang memeriksa dan mengadili perkara ini, tetapi berdasarkan ketentuan Pasal 84 ayat (2) KUHAP yang berbunyi Pengadilan Negeri yang di dalam daerah hukumnya terdakwa bertempat tinggal, berdiam terakhir, di tempat ia diketemukan atau ditahan, hanya berwenang mengadili perkara terdakwa tersebut, apabila tempat kediaman sebagian saksi yang dipanggil lebih dekat pada tempat Pengadilan Negeri itu daripada tempat kedudukan Pengadilan Negeri yang di dalam daerahnya tindak pidana itu dilakukan Pengadilan Negeri Bangli berwenang memeriksa dan mengadili perkara ini, yang menggunakan Narkotika Golongan I bagi diri sendiri tanpa hak atau melawan hukum. Perbuatan terdakwa Irga Krisna Haryanto R merupakan tindak pidana sebagaimana diatur dan diancam pidana dalam Pasal 127 ayat (1) huruf a Undang - Undang R.I. No. 35 Tahun 2009 Tentang Narkotika",
         "ANJAR RUCHIMAT",
         "16.0"
        ],
        [
         "35",
         "1",
         "19",
         "5",
         "4",
         "1 (satu) buah plastik klip bening yang berisi serbuk kristal yang diduga Narkotika golongan I jenis shabu dengan berat 0,44 bruto atau 0,20 gram netto 1 (satu) buah bekas bungkus rokok Marlboro warna putih 1 (satu) buah handphone merk XIOMI tipe redmi 4x warna hitam Dimusnahkan 1 (satu) unit sepeda motor Honda beat DK 6017 QD warna Hitam 1 (satu) buah STNK sepeda Honda beat DK 6017 QD warna Hitam an NI MADE DWI YANTI WIDIANI 1 (satu) buah kunci kontak Dikembalikan kepada pemiliknya melalui Terdakwa II. Irga Krisna Haryanto R 6. Membebankan kepada Para Terdakwa membayar biaya perkara masing-masing sejumlah Rp5.000,00 (lima ribu rupiah)",
         "Bahwa ia Terdakwa Anjar Ruchimat dan Irga Krisna Haryanto R pada hari Selasa tanggal 04 Februari 2020 sekira pukul 21.30 wita atau setidak-tidaknya pada suatu waktu dalam tahun dua ribu duapuluh, bertempat di pinggir jalan raya Merdeka, Lingkungan/Kelurahan Bebalang, Kecamatan Bangli, Kabupaten Bangli atau setidak-tidaknya pada suatu tempat tertentu yang masih termasuk dalam daerah hukum Pengadilan Negeri Bangli, melakukan melakukan percobaan atau permufakatan jahat, bersekongkol atau bersependapat dengan sdra. Made Bleteng (dalam Daftar Pencarian Orang) untuk melakukan, melaksanakan, membantu, turut serta melakukan, menyuruh, menganjurkan, memfasilitasi, memberi konsultasi, menjadi anggota suatu organisasi kejahatan Narkotika, atau mengorganisasikan suatu tindak pidana Narkotika, untuk melakukan tindak pidana Narkotika yang tanpa haka tau melawan hukum memiliki, menyimpan, menguasai, atau menyediakan Narkotika Golongan I bukan tanaman. Pasal 132 Ayat (1) jo. Pasal 112 Ayat (1) Undang-Undang Republik Indonesia Nomor 35 Tahun 2009 Tentang Narkotika atau. Khusus terdakwa Anjar Ruchimat. -Bahwa ia terdakwa Anjar Ruchimat pada hari Sabtu tanggal 1 Februari 2020 sekitar pukul 15.00 WITA atau setidak-tidaknya pada suatu hari di bulan Februari 2020 atau pada waktu lain dalam tahun 2020, bertempat di salah satu home stay/penginapan di daerah Kuta, Kabupaten Badung atau setidak-tidaknya pada suatu tempat yang masih termasuk wilayah hukum Pengadilan Negeri Denpasar yang berwenang memeriksa dan mengadili perkara ini, tetapi berdasarkan ketentuan Pasal 84 ayat (2) KUHAP yang berbunyi Pengadilan Negeri yang di dalam daerah hukumnya terdakwa bertempat tinggal, berdiam terakhir, di tempat ia diketemukan atau ditahan, hanya berwenang mengadili perkara terdakwa tersebut, apabila tempat kediaman sebagian saksi yang dipanggil lebih dekat pada tempat Pengadilan Negeri itu daripada tempat kedudukan Pengadilan Negeri yang di dalam daerahnya tindak pidana itu dilakukan Pengadilan Negeri Bangli berwenang memeriksa dan mengadili perkara ini, yang menggunakan Narkotika Golongan I bagi diri sendiri tanpa hak atau melawan hukum,. Perbuatan terdakwa Anjar Ruchimat merupakan tindak pidana sebagaimana diatur dan diancam pidana dalam Pasal 127 ayat (1) huruf a Undang - Undang R.I. No. 35 Tahun 2009 Tentang Narkotika.. Khusus terdakwa Irga Krisna Haryanto R. -Bahwa ia terdakwa Irga Krisna Haryanto R pada hari Selasa tanggal 28 Januari 2020 sekitar pukul 22.30 WITA atau setidak-tidaknya pada suatu hari di bulan Januari 2020 atau pada waktu lain dalam tahun 2020, bertempat di kamar kontrakan terdakwa, jalan Buana Graha Dawas, Dalung, Kecamatan Kuta Utara, Kabupaten Badung atau setidak-tidaknya pada suatu tempat yang masih termasuk wilayah hukum Pengadilan Negeri Denpasar yang berwenang memeriksa dan mengadili perkara ini, tetapi berdasarkan ketentuan Pasal 84 ayat (2) KUHAP yang berbunyi Pengadilan Negeri yang di dalam daerah hukumnya terdakwa bertempat tinggal, berdiam terakhir, di tempat ia diketemukan atau ditahan, hanya berwenang mengadili perkara terdakwa tersebut, apabila tempat kediaman sebagian saksi yang dipanggil lebih dekat pada tempat Pengadilan Negeri itu daripada tempat kedudukan Pengadilan Negeri yang di dalam daerahnya tindak pidana itu dilakukan Pengadilan Negeri Bangli berwenang memeriksa dan mengadili perkara ini, yang menggunakan Narkotika Golongan I bagi diri sendiri tanpa hak atau melawan hukum. Perbuatan terdakwa Irga Krisna Haryanto R merupakan tindak pidana sebagaimana diatur dan diancam pidana dalam Pasal 127 ayat (1) huruf a Undang - Undang R.I. No. 35 Tahun 2009 Tentang Narkotika",
         "IRGA KRISNA HARYANTO R",
         "16.0"
        ],
        [
         "36",
         "1",
         "19",
         "6",
         "6",
         "1 (satu) buah plastik klip bening yang berisi serbuk kristal yang diduga narkotika golongan I jenis shabu dengan berat 0,96 gram bruto atau 0,80 gram netto. 1 (satu) buah plastik klip bening yang berisi serbuk kristal yang diduga narkotika golongan I jenis shabu dengan berat 0,21 gram bruto atau 0,05 gram netto. 1 (satu) buah tas Pinggang merk OAKLEY warna abu abu. 1 (satu) buah selotip kecil bening. 1 (satu) Handphone merk IPHONE 5 warna gold. 1 (satu) buah gunting. 10 (sepuluh) lembar bukti Transfer Bank BCA. 1 (satu) potong Lakban warna kuning. 1 (satu) buah buku kecil yang berisi catatan utang. 1 (satu) lembar kertas aluminium foil. 1 (satu) buah kulit rokok sampoerna mild. Dimusnahkan. 1 (satu) buah sepeda motor merk Yamaha Xeon warna putih DK 6331 AQ. 1 (satu) buah STNK sepeda motor merk Yamaha Xeon warna putih DK 6331 AQ, atas nama KETUT YARIYANI. 1 (satu) buah kunci kontak. Dikembalikan kepada yang berhak melalui Terdakwa Fenny Yanthi Esmidar. Uang tunai sebesar Rp. 50.000,- (lima puluh ribu rupiah). Dirampas untuk negara.  6. Membebankan kepada Terdakwa membayar biaya perkara sejumlah Rp 5.000,- (lima ribu rupiah)",
         "Terdakwa, Fenny Yanthi Esmidar, didakwa atas tindak pidana narkotika yang terjadi di Gang Buntu, Belakang Alfamart, Bangli, pada 9 Januari 2020, sekitar pukul 23.15 WITA. Berawal dari permintaan Desi melalui telepon untuk mengambil narkotika jenis sabu-sabu di Bangli, terdakwa berangkat dari Nusa Dua menuju lokasi yang dikirimkan melalui WhatsApp. Di lokasi tersebut, terdakwa ditangkap oleh anggota Sat Resnarkoba Polres Bangli yang telah memperoleh informasi dari masyarakat tentang adanya kurir narkotika di area tersebut.  Saat penangkapan, ditemukan barang bukti berupa dua paket sabu-sabu dengan berat netto 0,08 gram dan 0,05 gram yang disembunyikan di semak-semak belakang tembok Alfamart. Setelah dilakukan pemeriksaan laboratorium forensik, barang bukti tersebut dipastikan mengandung metamfetamina, yang tergolong narkotika golongan I. Namun, hasil pemeriksaan urine terdakwa negatif narkotika.  Atas perbuatannya, Fenny Yanthi Esmidar didakwa dengan dakwaan primair Pasal 114 ayat (1) UU RI Nomor 35 Tahun 2009 tentang Narkotika, karena tanpa hak atau melawan hukum menawarkan, menjual, membeli, menerima, menjadi perantara, menukar, atau menyerahkan narkotika golongan I. Sebagai dakwaan subsidair, terdakwa didakwa dengan Pasal 112 ayat (1) UU RI Nomor 35 Tahun 2009 tentang Narkotika, karena tanpa hak atau melawan hukum memiliki, menyimpan, menguasai, atau menyediakan narkotika golongan I. ",
         "FENNY YANTHI ESMIDAR",
         "96.0"
        ],
        [
         "37",
         "0",
         "20",
         "7",
         "4",
         "2 ( dua ) ekor hewan ternak sapi betina, bulu bagian tubuh berwarna coklat, bulu pada bagian kaki dan bokong berwarna putih, berat masing-masing sekira 250 Kg, umur sekira 1 ( satu ) tahun 6 (enam) bulan. Uang sebesar Rp. 4.656.000,- (empat juta enam ratus lima puluh enam ribu rupiah). 2 ( dua ) utas tali plastic warna biru dengan panjang masing-masing tali sekira 3 ( tiga ) meter .  Dikembalikan kepada korban I WAYAN KASIR. 1 ( satu ) unit mobil Mitsubishi Colt L 300 jenis pick up warna hitam dengan nomor polisi DK 9673 DJ, Noka MH32S6005AK703868, Nosin 2S6-707748 beserta kunci. 1 ( satu ) buah STNK mobil Mitsubishi Colt L 300 warna hitam dengan nomor polisi DK 9673 DJ Noka MH32S6005AK703868, Nosin 2S6-707748 atas nama AGUNG OKA ASTINI.  Dikembalikan kepada I NYOMAN BINTANG. 1 ( satu ) unit sepeda motor Yamaha Jupiter MX 135 warna hitam dengan nomor polisi DK 4664 RI Noka MHML300DP2R288738, Nosin 4D56C226379 beserta kunci. 1 ( satu ) buah STNK sepeda motor Yamaha Jupiter MX 135 warna hitam dengan nomor polisi DK 4664 RI Noka MHML300DP2R288738, Nosin 4D56C226379atas nama SANG PUTU BAOS.   Dikembalikan kepada Terdakwa I WAYAN SUDARPA. uang sebesar Rp. 15.500.000 hasil dari penjualan sapi   Dikembalikan kepada I NYOMAN SUTAPA. 2 ( dua ) lembar surat keterangan jual beli hewan dari pasar hewan bringkit warna hijau tertanggal 12 Februari 2020. Dirampas untuk dimusnahkan 5. Membebankan kepada terdakwa untuk membayar biaya perkara sejumlah Rp. 5.000,- (Lima ribu rupiah).",
         "Terdakwa I Wayan Sudarpa didakwa melakukan pencurian terhadap tiga ekor sapi milik I Wayan Kasir pada Rabu, 12 Februari 2020, sekitar pukul 01.00 WITA, di kandang sapi milik I Wayan Kasir di Desa Pengotan, Bangli. Terdakwa, yang sebelumnya meminta bantuan I Nyoman Bintang untuk menjualkan sapi-sapi tersebut, kemudian mengambil sapi tersebut dengan cara melepas ikatan tali pada sapi dan membawanya ke mobil milik I Nyoman Bintang. Setelah ketiga sapi berhasil dibawa ke mobil, I Nyoman Bintang membawa sapi tersebut ke Pasar Bringkit Badung untuk dijual, dan hasil penjualan sebesar Rp. 20.156.000 diserahkan kepada terdakwa.  Perbuatan ini dilakukan tanpa izin dari pemilik sapi, I Wayan Kasir, yang mengalami kerugian sekitar Rp. 20.500.000. Tindakannya diatur dan diancam pidana berdasarkan Pasal 363 ayat (1) ke-1 KUHP.",
         "I WAYAN SUDARPA",
         "6.0"
        ],
        [
         "38",
         "0",
         "21",
         "8",
         "2",
         "1 (satu) buah Tas Selempang warna Hitam 1 (satu) buah Memori Kamera Webcam yang berisi Rekaman Kamera Webcam di Dapur Villa Tegal Anyar yang berlokasi di Jalan Raya Mawang, Banjar Mawang Kelod, Desa Lodtunduh, Kecamatan Ubud, Kabupaten Gianyar, tanggal 17 Oktober 2023 1 (satu) unit TV merk Xiomi warna Hitam 1 (satu) unit Kulkas merk Aqua warna Hitam 1 (satu) unit Speaker merk Polytron warna Hitam Dikembalikan kepada Saksi Evgenii Verestnikov 1 (satu) lembar Screenshot bukti pengiriman uang sebesar Rp 5.000.000,- (lima juta rupiah) dari NI PUTU MEI SAPITRI kepada NI KETUT SUKRAENI, tanggal 18 Oktober 2023 1 (satu) lembar Screenshot bukti pengiriman uang sebesar Rp 2.000.000,- (dua juta rupiah) dari NI PUTU MEI SAPITRI kepada NI KETUT SUKRAENI, tanggal 31 Oktober 2023 Dikembalikan kepada Saksi Ni Ketut Sukraeni 1 (satu) buah Baju Kaos warna Putih 1 (satu) buah Celana Panjang warna Pink Dirampas untuk dimusnahkan 1 (satu) unit Sepeda Motor merk Honda Scoopy warna Putih dengan Nomor Polisi DK 6204 KBG beserta STNK Dikembalikan kepada Terdakwa Membebankan kepada Terdakwa untuk membayar biaya perkara sejumlah Rp 5000,00 (lima ribu rupiah)",
         "Ni Putu Mei Sapitri didakwa atas tindak pidana pencurian dan penadahan yang terjadi pada hari Selasa, 20 Juni 2023, sekitar pukul 14.00 WITA di Villa Tegal Anyar, Ubud. Terdakwa, yang bekerja sebagai petugas kebersihan lepas, mengambil uang tunai milik korban, Evgenii Verestnikov, yang terdiri dari 300 Euro dan 1.900 Dolar Amerika.  Saat membersihkan villa, terdakwa melihat tas selempang berisi uang di bawah meja dapur. Tanpa izin, ia mengambil uang tersebut, menyembunyikannya di kantong celana, dan kemudian menukarkannya di money changer, memperoleh sekitar Rp 35.000.000. Uang tersebut digunakan untuk membeli barang elektronik dan keperluan sehari-hari.  Atas perbuatannya, Ni Putu Mei Sapitri didakwa dengan dakwaan primair Pasal 362 KUHP tentang pencurian. Sebagai dakwaan subsidair, ia didakwa dengan Pasal 480 Ayat (2) KUHP tentang penadahan, karena menikmati keuntungan dari barang yang diketahui atau patut diduga diperoleh dari kejahatan. Akibat perbuatan terdakwa, Evgenii Verestnikov mengalami kerugian sekitar Rp 35.000.000.",
         "NI PUTU MEI SAPITRI",
         "18.0"
        ],
        [
         "39",
         "0",
         "22",
         "8",
         "4",
         "1 (satu) Unit Sepeda Motor Merk Suzuki FU warna hitam ungu dengan nomor polisi N 2359 TBA, nomor rangka tidak ada dan Nomor Mesin G420ID404501 Dirampas untuk negara 1 (satu) buah helm warna putih tanpa kaca 1 (satu) buah HP merk Vivo warna casing biru glosy 1 (satu) buah baju kaos warna putih bertuliskan relawan jaya giri 1 (satu) buah celana pendek warna hitam Dirampas untuk dimusnahkan 1 (satu) buah buku BPKB No. K-13109959 atas nama pemilik I MADE WERDI GUNA untuk kendaraan Sepeda Motor Honda Vario Warna White Silver DK 3493 KAM, Nomor rangka MH1JFB122EK302944, Nomor Mesin JFB1E2250553 Dikembalikan kepada Saksi I GEDE WERDI GUNA, ST Membebankan kepada Terdakwa untuk membayar biaya perkara sejumlah Rp 5000,00 (lima ribu rupiah)",
         "Leonardo Mautede alias Ronal didakwa atas tindak pidana pencurian dengan pemberatan dan penadahan. Pada hari Kamis, 4 Januari 2024, korban I Made Werdi Guna, ST mencuci motornya di Kumba Car Wash dengan kunci kontak masih terpasang. Keesokan harinya, 5 Januari 2024, sekitar pukul 19.00 WITA, terdakwa yang bekerja di tempat cuci motor tersebut mengambil motor korban tanpa izin dan membawanya ke kos temannya, Antonius Tauwaleku Praing alias Toni. Di sana, terdakwa melepas plat nomor, kaca spion, dan merusak bagian motor.  Terdakwa bermaksud menukar motor curian tersebut dengan motor Suzuki FU milik Feriyanto alias Wahyu. Pada 7 Januari 2024, sekitar pukul 22.00 WITA, terdakwa dan Feriyanto bertemu di Denpasar Utara dan melakukan pertukaran. Motor curian tersebut kemudian dijual oleh Feriyanto.  Atas perbuatannya, Leonardo Mautede didakwa dengan dakwaan primair Pasal 363 Ayat (1) ke-5 KUHP tentang pencurian dengan pemberatan. Sebagai dakwaan subsidair, ia didakwa dengan Pasal 362 KUHP tentang pencurian. Selain itu, ia juga didakwa dengan Pasal 480 ke-1 KUHP tentang penadahan. Akibat perbuatan terdakwa, I Made Werdi Guna, ST mengalami kerugian sebesar Rp 16.000.000.",
         "LEONARDO MAUTEDE Als. RONAL",
         "14.0"
        ],
        [
         "40",
         "0",
         "21",
         "8",
         "3",
         "1 (satu) unit sepeda motor Honda Scoppy tahun 2014 warna Hitam, Noka MH1JFG118EK266794, No. Pol DK3728ZD berserta Kuncinya Dikembalikan kepada Saksi I Ketut Dita 1 (satu) sepeda motor Merek Honda scoopy warna putih, Nosin JM31EX2402367 Noka MH1JM3122KK402367, No. Pol DK8686OK beserta kuncinya Dikembalikan kepada Saksi Dewa Gede Artawa Membebankan kepada Terdakwa untuk membayar biaya perkara sejumlah Rp 5000,00 (lima ribu rupiah)",
         "Paulus Pati Kondo didakwa atas tindak pidana pencurian dengan pemberatan yang dilakukan bersama-sama dengan Wilem Woro (DPO). Pada hari Sabtu, 13 Januari 2024, sekitar pukul 19.30 WITA, di depan bengkel cat Banjar Pujung, Tegalalang, mereka mencuri sepeda motor Honda Scoopy milik I Ketut Dita. Kemudian, pada hari Senin, 29 Januari 2024, sekitar pukul 19.30 WITA, di parkiran warung DPojok Banjar Tarukan Kaja, Tampaksiring, mereka kembali mencuri sepeda motor Honda Scoopy milik Dewa Gede Artawa.  Dalam kedua kejadian tersebut, Wilem Woro (DPO) melihat sepeda motor dengan kunci yang masih terpasang, lalu mengambilnya. Paulus Pati Kondo, yang membonceng Wilem Woro, bertugas mengawasi dan kemudian mengganti plat nomor sepeda motor curian. Kedua sepeda motor tersebut kemudian dibawa ke kos Paulus Pati Kondo di Denpasar Selatan untuk dijual.  Atas perbuatannya, Paulus Pati Kondo didakwa dengan dakwaan primair Pasal 363 Ayat (1) ke-4 KUHP jo Pasal 65 Ayat (1) KUHP tentang pencurian dengan pemberatan yang dilakukan secara bersama-sama dan berlanjut. Sebagai dakwaan subsidair, ia didakwa dengan Pasal 362 KUHP jo Pasal 65 Ayat (1) KUHP tentang pencurian yang dilakukan secara berlanjut. Akibat perbuatan terdakwa, I Ketut Dita mengalami kerugian Rp 13.000.000 dan Dewa Gede Artawa mengalami kerugian Rp 18.000.000.",
         "PAULUS PATI KONDO",
         "24.0"
        ],
        [
         "41",
         "0",
         "23",
         "9",
         "3",
         "1 (satu) ekor burung murai batu medan yang berisi ring dikaki kanan dengan tulisn BF 022 1 (satu) buah sangkar burung serta tutup kerudung kain warna biru muda Dikembalikan kepada pemiliknya yaitu saksi I Gusti Ngurah Putu Widiantara 1 (satu) unit sepeda motor Honda Beat warna merah putih dengan plat nomer DK 3948 UAC serta STNK dan kunci kontak Dikembalikan kepada pemiliknya yaitu yaitu saksi Gede Edi Gunawan Membebankan kepada Terdakwa membayar biaya perkara masing-masing sejumlah Rp5000,00 (lima ribu rupiah)",
         "Terdakwa, Subari, didakwa atas tindak pidana pencurian yang terjadi pada hari Sabtu, 20 April 2024, sekitar pukul 01.00 WITA di rumah I Gusti Ngurah Putu Widiantara di Ubud. Terdakwa, yang datang dari tempat kosnya di Badung, memasuki halaman rumah korban melalui gerbang yang tidak terkunci. Kemudian, ia mengambil sangkar burung murai batu milik korban yang tergantung di teras rumah.  Setelah mengambil burung tersebut, terdakwa membawanya ke tempat kosnya. Pada tanggal 1 Mei 2024, terdakwa memposting burung murai batu curian tersebut di Facebook untuk dijual seharga Rp 1.000.000. Korban, yang mencari burungnya di media sosial, menemukan postingan tersebut dan berpura-pura membeli burung tersebut. Saat transaksi COD (Cash On Delivery) di tempat kos terdakwa, petugas kepolisian menangkap terdakwa.  Atas perbuatannya, Subari didakwa dengan dakwaan primair Pasal 363 ayat (1) ke-3 KUHP tentang pencurian dengan pemberatan. Sebagai dakwaan subsidair, ia didakwa dengan Pasal 362 KUHP tentang pencurian. Akibat perbuatan terdakwa, I Gusti Ngurah Putu Widiantara mengalami kerugian sekitar Rp 4.000.000.",
         "SUBARI",
         "18.0"
        ],
        [
         "42",
         "0",
         "24",
         "8",
         "2",
         "1 (satu) lembar STNK Sepeda Motor Merk Honda, Type N125 D (KARISMA 125 D), Nomor Polisi DK 4606 LD, Tahun Pembuatan 2005, Warna Silver Biru, Nomor Rangka MH1JB22195K366416, Nomor Mesin JB221365610, STNK atas nama NI KADEK SUARTINI dengan alamat Br. Pagutan Klod Batubulan Sukawati Gianyar 1 (satu) buah BPKB Sepeda Motor Merk Honda, Type NF125 D (KARISMA 125 D), Nomor Polisi DK 4606 LD, Tahun Pembuatan 2005, Warna Silver Biru, Nomor Rangka MH1JB22195K366416, Nomor Mesin JB221365610, STNK atas nama NI KADEK SUARTINI dengan alamat Br. Pagutan Klod Batubulan Sukawati Gianyar 1 (satu) buah Flashdisk yang berisi rekaman CCTV yang terpasang di dekat tempat kejadian pencurian, yang dalam rekaman CCTV tersebut terekam pada saat tersangka mengendarai sepeda motor milik korban yang berhasil tersangka curi 1 (satu) unit Sepeda Motor Merk Honda, Type NF125 D (KARISMA 125 D), tanpa Nomor Polisi, Tahun Pembuatan 2005, Warna Silver Biru, Nomor Rangka MH1JB22195K366416, Nomor Mesin JB221365610, STNK atas nama NI KADEK SUARTINI dengan alamat Br. 1 (satu) buah helm standard warna hitam Dikembalikan kepada saksi Mohammad Slamet 1 (satu) potong baju kaos lengan pendek warna abu abu yang di dada depan berisi tulisan KARMA HAS NO DEADLINE 1 (satu) potong celana pendek yang terbuat dari kain warna biru dongker 1 (satu) buah tas selempang warna hitam merk FENGBAODAISHU Dirampas untuk dimusnahkan Membebankan kepada Terdakwa untuk membayar biaya perkara sejumlah Rp 5000,00 (lima ribu rupiah)",
         "Terdakwa, Ahmad Marsuki, didakwa atas tindak pidana pencurian dengan pemberatan yang terjadi pada hari Jumat, 26 April 2024, sekitar pukul 15.30 WITA di sebuah rumah kost di Singapadu, Sukawati, Gianyar. Terdakwa mengambil sepeda motor Honda Karisma 125 milik Mohamad Slamet yang terparkir di depan kamar kost korban.  Saat korban sedang tidur, terdakwa melihat sepeda motor dengan kunci yang masih terpasang. Timbul niat untuk mengambilnya, terdakwa langsung menaiki motor dan membawanya kabur. Aksi terdakwa terekam oleh CCTV yang terpasang di tempat kost tersebut.  Atas perbuatannya, Ahmad Marsuki didakwa dengan dakwaan primair Pasal 363 Ayat (1) ke-5 KUHP tentang pencurian dengan pemberatan. Sebagai dakwaan subsidair, ia didakwa dengan Pasal 362 KUHP tentang pencurian. Akibat perbuatan terdakwa, Mohamad Slamet mengalami kerugian sekitar Rp 5.000.000.",
         "AHMAD MARSUKI",
         "22.0"
        ],
        [
         "43",
         "0",
         "25",
         "8",
         "3",
         "1 (unit) HP Merk Redmi 10C warna biru berikut Cargernya 1 (satu) buah mesin Bor Merk Maktec warna orange 1 (satu) buah mesin serut Merk Makita warna biru Dikembalikan kepada Saksi Korban AGUS SUBAGYONO 1 (satu) buah palu besi gagang warna hijau kombinasi hitam 1 (satu) Pcs celana panjang kain warna biru dongker Dirampas oleh Negara untuk dimusnahkan Membebankan kepada Terdakwa untuk membayar biaya perkara sejumlah Rp 5000,00 (lima ribu rupiah)",
         "Yoga Saputra didakwa atas tindak pidana pencurian dengan pemberatan yang terjadi pada hari Senin, 8 April 2024, sekitar pukul 01.30 WITA di kamar mes PT. Satria Cipta Asta Kencana, Sukawati, Gianyar. Terdakwa memasuki area perusahaan melalui semak-semak dan menuju kamar Agus Subagyono yang tidak memiliki pintu.  Di dalam kamar, terdakwa mengambil ponsel Redmi 10C milik Agus Subagyono beserta pengisi dayanya, serta mesin bor dan mesin serut dari dalam lemari. Terdakwa mencongkel engsel lemari menggunakan palu agar korban tidak terbangun.  Ponsel tersebut kemudian digunakan oleh terdakwa setelah mengganti kartu SIM, sementara mesin bor dan serut dijual kepada tukang rongsokan seharga Rp 200.000. Uang hasil penjualan digunakan untuk keperluan sehari-hari. Terdakwa ditangkap pada 27 April 2024 di mes rumah makan tempatnya bekerja.  Atas perbuatannya, Yoga Saputra didakwa dengan dakwaan primair Pasal 363 Ayat (2) KUHP tentang pencurian dengan pemberatan. Sebagai dakwaan subsidair, ia didakwa dengan Pasal 363 Ayat (1) ke-5 KUHP, dan lebih subsidair dengan Pasal 362 KUHP tentang pencurian. Akibat perbuatan terdakwa, Agus Subagyono mengalami kerugian sekitar Rp 3.200.000.",
         "YOGA SAPUTRA",
         "10.0"
        ],
        [
         "44",
         "0",
         "26",
         "10",
         "3",
         "1 (satu) Buah Foto Copy yang dilegalisir BPKB satu unit motor merk Honda Vario 125cc tahun 2019 warna Merah, dengan Noka MH1JM4110KK467749, dengan Nosin JM41E1467138 an. PUTU EKA ATATIKA Surat Penyewaan Motor Vario 125 DK 5352 KAR, tanggal 11 September 2023 1 (satu) unit sepeda motor Merek Honda Vario 125 warna merah No. Pol DK 5352 KAR Nosin JM41E1467138 Noka MH1JM4110KK467749 Dikembalikan kepada saksi Putu Eka Atatika 1 (satu) buah kunci bertuliskan Honda warna Hitam Dirampas untuk dimusnahkan 6. Membebankan kepada Terdakwa membayar biaya perkara sejumlah Rp5.000,00 (lima ribu rupiah)",
         "Edi Sudadang didakwa atas tindak pidana pencurian dengan pemberatan yang dilakukan bersama-sama dengan Mulasim alias Mul (DPO). Pada hari Senin, 1 April 2024, sekitar pukul 23.30 WITA, di area parkir Villa Nyoman, Ubud, Gianyar, mereka mencuri sepeda motor Honda Vario 125 milik Putu Eka Atatika.  Sebelumnya, Edi Sudadang diajak oleh Mulasim (DPO) untuk mencuri sepeda motor di Bali. Edi Sudadang membawa kunci T dari rumah Mulasim di Probolinggo, Jawa Timur. Mereka kemudian bersama-sama mendorong motor korban dari tempat parkir, dan Edi Sudadang menghidupkan motor tersebut dengan kunci T.  Setelah berhasil mencuri motor, mereka membawanya ke Probolinggo. Di sana, motor tersebut diserahkan kepada Edi Sudadang, dan ia memberikan uang sebesar Rp 2.500.000 kepada Mulasim (DPO).  Atas perbuatannya, Edi Sudadang didakwa dengan Pasal 363 ayat (1) ke-4 dan ke-5 KUHP tentang pencurian dengan pemberatan yang dilakukan oleh dua orang atau lebih dengan bersekutu, dan menggunakan kunci palsu. Akibat perbuatan terdakwa, Putu Eka Atatika mengalami kerugian sekitar Rp 20.000.000.",
         "EDI SUDADANG",
         "12.0"
        ],
        [
         "45",
         "0",
         "27",
         "8",
         "3",
         "1 buah kamera GoPro warna hitam 1 buah kotak baterai kamera warna putih 2 buah baterai warna hitam Uang tunai sejumlah Rp. 42.000,00 1 unit I Phone 11 Pro Warna Grey 1 unit mobil toyota avanza DK 1327 IE 1 lembar STNK nomor registrasi DK 1327 IE Atas Nama Huang Szu Feng Dikembalikan kepada saksi Yuji Waki 1 buah batu kali warna cokelat 1 bidang kaca mobil dalam keadaan pecah dengan lapisan ryben warna hitam Dirampas untuk dimusnahkan 1 (satu) unit Sepeda Motor honda vario warna hitam dengan DK 4093 SS beserta Kunci Kontak Dikembalikan kepada Terdakwa 1. Yudi Kristianto 1 (satu) unit Sepeda Motor honda scoopy warna cream abu-abu Nomor Polisi DK 5628 ADR beserta Kunci Kontak Dikembalikan kepada Tedakwa 2. Kurniadi Prayoga Membebankan kepada Para Terdakwa untuk membayar biaya perkara masing-masing sejumlah Rp 5000,00 (lima ribu rupiah)",
         "Ketiga terdakwa didakwa atas tindak pidana pencurian dengan pemberatan yang dilakukan secara bersama-sama. Pada hari Sabtu, 18 Mei 2024, sekitar pukul 09.00 WITA, di Pantai Keramas, Gianyar, mereka mencuri barang-barang dari sebuah mobil Toyota Avanza milik Yuji Waki, seorang warga negara Jepang.  Para terdakwa berangkat dari kos Kurniadi Prayuda di Denpasar menuju Pantai Keramas. Setibanya di sana, Yudi Kristanto melihat mobil korban yang terparkir dan korban sedang berselancar di pantai. Yudi Kristanto kemudian memecahkan kaca mobil dengan batu dan mengambil barang-barang di dalamnya, yaitu tas berisi ponsel, kamera Go Pro, dompet berisi uang, celana pendek, dan baterai kamera.  Kurniadi Prayuda bertugas mengawasi situasi di atas sepeda motor, sementara Muhammad Rizal alias Iceng mengawasi situasi di jalan masuk pantai.  Atas perbuatannya, ketiga terdakwa didakwa dengan dakwaan primair Pasal 363 Ayat (1) ke-4 dan ke-5 KUHP tentang pencurian dengan pemberatan yang dilakukan secara bersama-sama. Sebagai dakwaan subsidair, mereka didakwa dengan Pasal 363 Ayat (1) ke-4 KUHP. Akibat perbuatan terdakwa, Yuji Waki mengalami kerugian sekitar Rp 14.400.000.",
         "YUDI KRISTANTO",
         "24.0"
        ],
        [
         "46",
         "0",
         "27",
         "8",
         "3",
         "1 buah kamera GoPro warna hitam 1 buah kotak baterai kamera warna putih 2 buah baterai warna hitam Uang tunai sejumlah Rp. 42.000,00 1 unit I Phone 11 Pro Warna Grey 1 unit mobil toyota avanza DK 1327 IE 1 lembar STNK nomor registrasi DK 1327 IE Atas Nama Huang Szu Feng Dikembalikan kepada saksi Yuji Waki 1 buah batu kali warna cokelat 1 bidang kaca mobil dalam keadaan pecah dengan lapisan ryben warna hitam Dirampas untuk dimusnahkan 1 (satu) unit Sepeda Motor honda vario warna hitam dengan DK 4093 SS beserta Kunci Kontak Dikembalikan kepada Terdakwa 1. Yudi Kristianto 1 (satu) unit Sepeda Motor honda scoopy warna cream abu-abu Nomor Polisi DK 5628 ADR beserta Kunci Kontak Dikembalikan kepada Tedakwa 2. Kurniadi Prayoga Membebankan kepada Para Terdakwa untuk membayar biaya perkara masing-masing sejumlah Rp 5000,00 (lima ribu rupiah)",
         "Ketiga terdakwa didakwa atas tindak pidana pencurian dengan pemberatan yang dilakukan secara bersama-sama. Pada hari Sabtu, 18 Mei 2024, sekitar pukul 09.00 WITA, di Pantai Keramas, Gianyar, mereka mencuri barang-barang dari sebuah mobil Toyota Avanza milik Yuji Waki, seorang warga negara Jepang.  Para terdakwa berangkat dari kos Kurniadi Prayuda di Denpasar menuju Pantai Keramas. Setibanya di sana, Yudi Kristanto melihat mobil korban yang terparkir dan korban sedang berselancar di pantai. Yudi Kristanto kemudian memecahkan kaca mobil dengan batu dan mengambil barang-barang di dalamnya, yaitu tas berisi ponsel, kamera Go Pro, dompet berisi uang, celana pendek, dan baterai kamera.  Kurniadi Prayuda bertugas mengawasi situasi di atas sepeda motor, sementara Muhammad Rizal alias Iceng mengawasi situasi di jalan masuk pantai.  Atas perbuatannya, ketiga terdakwa didakwa dengan dakwaan primair Pasal 363 Ayat (1) ke-4 dan ke-5 KUHP tentang pencurian dengan pemberatan yang dilakukan secara bersama-sama. Sebagai dakwaan subsidair, mereka didakwa dengan Pasal 363 Ayat (1) ke-4 KUHP. Akibat perbuatan terdakwa, Yuji Waki mengalami kerugian sekitar Rp 14.400.000.",
         "KURNIADI PRAYUDA",
         "17.0"
        ],
        [
         "47",
         "0",
         "27",
         "8",
         "3",
         "1 buah kamera GoPro warna hitam 1 buah kotak baterai kamera warna putih 2 buah baterai warna hitam Uang tunai sejumlah Rp. 42.000,00 1 unit I Phone 11 Pro Warna Grey 1 unit mobil toyota avanza DK 1327 IE 1 lembar STNK nomor registrasi DK 1327 IE Atas Nama Huang Szu Feng Dikembalikan kepada saksi Yuji Waki 1 buah batu kali warna cokelat 1 bidang kaca mobil dalam keadaan pecah dengan lapisan ryben warna hitam Dirampas untuk dimusnahkan 1 (satu) unit Sepeda Motor honda vario warna hitam dengan DK 4093 SS beserta Kunci Kontak Dikembalikan kepada Terdakwa 1. Yudi Kristianto 1 (satu) unit Sepeda Motor honda scoopy warna cream abu-abu Nomor Polisi DK 5628 ADR beserta Kunci Kontak Dikembalikan kepada Tedakwa 2. Kurniadi Prayoga Membebankan kepada Para Terdakwa untuk membayar biaya perkara masing-masing sejumlah Rp 5000,00 (lima ribu rupiah)",
         "Ketiga terdakwa didakwa atas tindak pidana pencurian dengan pemberatan yang dilakukan secara bersama-sama. Pada hari Sabtu, 18 Mei 2024, sekitar pukul 09.00 WITA, di Pantai Keramas, Gianyar, mereka mencuri barang-barang dari sebuah mobil Toyota Avanza milik Yuji Waki, seorang warga negara Jepang.  Para terdakwa berangkat dari kos Kurniadi Prayuda di Denpasar menuju Pantai Keramas. Setibanya di sana, Yudi Kristanto melihat mobil korban yang terparkir dan korban sedang berselancar di pantai. Yudi Kristanto kemudian memecahkan kaca mobil dengan batu dan mengambil barang-barang di dalamnya, yaitu tas berisi ponsel, kamera Go Pro, dompet berisi uang, celana pendek, dan baterai kamera.  Kurniadi Prayuda bertugas mengawasi situasi di atas sepeda motor, sementara Muhammad Rizal alias Iceng mengawasi situasi di jalan masuk pantai.  Atas perbuatannya, ketiga terdakwa didakwa dengan dakwaan primair Pasal 363 Ayat (1) ke-4 dan ke-5 KUHP tentang pencurian dengan pemberatan yang dilakukan secara bersama-sama. Sebagai dakwaan subsidair, mereka didakwa dengan Pasal 363 Ayat (1) ke-4 KUHP. Akibat perbuatan terdakwa, Yuji Waki mengalami kerugian sekitar Rp 14.400.000.",
         "MUHAMAD RIZAL Als ICENG",
         "17.0"
        ],
        [
         "48",
         "0",
         "28",
         "8",
         "3",
         "- 1 (satu) buah Kotak Iphone 13 merek Apple dengan nomor Imei 352094679433646 - 1 (satu) lembar Nota Pembelian 1 (satu) unit Iphone 13 merek Apple warna Putih dengan nomor Imei 352094679433646 dari Toko RA GADGET tertanggal 25 Mei 2023 - 1 (satu) unit Iphone 13 merek Apple warna Putih dengan nomor Imei 352094679433646 Dikembalikan kepada Saksi I Kadek Saputra - 1 (satu) buah Kotak Iphone 12 Pro merek Apple Dirampas untuk dimusnahkan - 1 (satu) unit Handphone merek Samsung A04 warna Rose Gold dengan Pelindung warna Hitam Dikembalikan kepada Saksi I Wayan Windra - 1 (satu) buah Flashdisk merek V-GEN warna Hitam yang berisi rekaman kamera CCTV di Toko JS Phone yang berlokasi di Jalan Cok Gde Rai nomor 6, Desa Peliatan, Kecamatan Ubud, Kabupaten Gianyar pada hari Jumat, tanggal 03 November 2023 Tetap terlampir dalam berkas perkara 6. Membebankan kepada Terdakwa untuk membayar biaya perkara sejumlah Rp 5000,00 (lima ribu rupiah)",
         "Putu Baskara Putra didakwa atas dua tindak pidana: pencurian dan penadahan. Pada hari Jumat, 3 November 2023, sekitar pukul 05.30 WITA, di BSK INK Tatto, Ubud, Gianyar, terdakwa mengambil ponsel iPhone 13 milik I Kadek Saputra yang sedang diisi daya di atas meja studio. Saat itu, korban sedang tertidur.  Setelah mengambil ponsel tersebut, terdakwa menyembunyikannya di kamarnya, menonaktifkannya, dan membuang kartu SIM agar tidak terlacak. Ketika korban mencari ponselnya, terdakwa berpura-pura membantu mencari. Setelah korban pergi, terdakwa menggadaikan ponsel tersebut di Toko JS Phone sekitar pukul 12.52 WITA.  Atas perbuatannya, Putu Baskara Putra didakwa dengan dakwaan pertama Pasal 362 KUHP tentang pencurian. Sebagai alternatif, ia didakwa dengan dakwaan kedua Pasal 480 ke-1 KUHP tentang penadahan. Akibat perbuatan terdakwa, I Kadek Saputra mengalami kerugian sekitar Rp 13.000.000.",
         "PUTU BASKARA PUTRA",
         "12.0"
        ],
        [
         "49",
         "0",
         "28",
         "9",
         "2",
         "(dua) buah dus/kotak HP antara lain 1 (satu) buah dus/kotak HP Merk Infinix Note 30 Pro warna Gold dengan Nomor Imei 1 350880533662822 dan Nomor Imei 2 350880533662830 dan 1 (satu) buah dus/kotak HP Merk Infinix Note 30 Pro warna Hitam dengan Nomor Imei 1 350880533630126 dan Nomor Imei 2 350880533630134 2 (dua) Unit Hp antara lain 1 (satu) Unit HP Merk Infinix Note 30 Pro warna Gold dengan Nomor Imei 1 350880533662822 dan Nomor Imei 2 350880533662830 dan 1 (satu) Unit HP Merk Infinix Note 30 Pro warna Hitam dengan Nomor Imei 1 350880533630126 dan Nomor Imei 2 350880533630134 Barang bukti nomor 1 sampai dengan nomor 2 dikembalikan kepada Saksi Korban Eka Diana Mahira 1 (satu) unit Sepeda Motor Merk Honda PCX, Type V1J02Q32LO A/T, Nomor Polisi DK 6850 FAV, Tahun Pembuatan 2018, Warna Putih, Nomor Rangka MH1KF221XJK045360, Nomor Mesin KF22E1045441, atas nama DOY SAFANDO alamat Jl. Teras Bukit 4 No. 2 Jimbaran Kuta Selatan Badung berikut dengan remote kontak dan STNK sepeda motor dimaksud serta BPKBnya 1 (satu) potong baju kaos lengan pendek warna putih merk RIPCURL yang di dada kanan ada tulisan RIPCURL warna biru 1 (satu) potong celana pendek merk KENDY berdasar hitam bercorak garis menyilang berwarna silver Barang bukti nomor 3 sampai dengan nomor 5 dikembalikan kepada Terdakwa Membebankan kepada Terdakwa membayar biaya perkara sejumlah Rp5.000,00 (lima ribu rupiah)",
         "Saiful Rohman didakwa atas tindak pidana pencurian dengan pemberatan. Pada hari Sabtu, 10 Februari 2024, sekitar pukul 00.30 WITA, di rumah Eka Diana Mahira di Ketewel, Sukawati, Gianyar, terdakwa mengambil dua unit ponsel Infinix Note 30 Pro milik korban.  Terdakwa datang ke rumah korban tanpa izin. Setelah melihat seorang pria di taman depan rumah, terdakwa memanjat tembok setinggi 2,5 meter dan masuk ke dalam rumah melalui bagian belakang ruang tamu yang tidak berpintu. Di dalam rumah, terdakwa mengambil dua ponsel yang sedang diisi daya dan membawanya kabur.  Atas perbuatannya, Saiful Rohman didakwa dengan dakwaan primair Pasal 363 ayat (2) KUHP tentang pencurian dengan pemberatan. Sebagai dakwaan subsidair, ia didakwa dengan Pasal 362 KUHP tentang pencurian. Akibat perbuatan terdakwa, Eka Diana Mahira mengalami kerugian sekitar Rp 6.000.000.",
         "SAIFUL ROHMAN",
         "14.0"
        ]
       ],
       "shape": {
        "columns": 8,
        "rows": 159
       }
      },
      "text/html": [
       "<div>\n",
       "<style scoped>\n",
       "    .dataframe tbody tr th:only-of-type {\n",
       "        vertical-align: middle;\n",
       "    }\n",
       "\n",
       "    .dataframe tbody tr th {\n",
       "        vertical-align: top;\n",
       "    }\n",
       "\n",
       "    .dataframe thead th {\n",
       "        text-align: right;\n",
       "    }\n",
       "</style>\n",
       "<table border=\"1\" class=\"dataframe\">\n",
       "  <thead>\n",
       "    <tr style=\"text-align: right;\">\n",
       "      <th></th>\n",
       "      <th>klasifikasi_perkara_encoded</th>\n",
       "      <th>penuntut_umum_encoded</th>\n",
       "      <th>hakim_encoded</th>\n",
       "      <th>jumlah_saksi</th>\n",
       "      <th>cleaned_barang_bukti</th>\n",
       "      <th>summarized_dakwaan</th>\n",
       "      <th>terdakwa</th>\n",
       "      <th>total_pidana_penjara_bulan</th>\n",
       "    </tr>\n",
       "  </thead>\n",
       "  <tbody>\n",
       "    <tr>\n",
       "      <th>0</th>\n",
       "      <td>0</td>\n",
       "      <td>0</td>\n",
       "      <td>0</td>\n",
       "      <td>6</td>\n",
       "      <td>1 (satu) buah sabit kecil dengan gagang dari k...</td>\n",
       "      <td>Bahwa ia terdakwa Gede Darmayasa pada hari sel...</td>\n",
       "      <td>GEDE DARMAYASA</td>\n",
       "      <td>5.0</td>\n",
       "    </tr>\n",
       "    <tr>\n",
       "      <th>1</th>\n",
       "      <td>0</td>\n",
       "      <td>0</td>\n",
       "      <td>1</td>\n",
       "      <td>6</td>\n",
       "      <td>1 (satu) buah Kotak/Box handphone merk OPPO ty...</td>\n",
       "      <td>Terdakwa Handri Johanes didakwa melakukan penc...</td>\n",
       "      <td>HANDRI JOHANAS</td>\n",
       "      <td>4.0</td>\n",
       "    </tr>\n",
       "    <tr>\n",
       "      <th>2</th>\n",
       "      <td>1</td>\n",
       "      <td>1</td>\n",
       "      <td>2</td>\n",
       "      <td>2</td>\n",
       "      <td>1 (satu) buah plastik klip bening yang berisi ...</td>\n",
       "      <td>Dakwaan Pertama: Pada 14 April 2024, sekitar p...</td>\n",
       "      <td>I GEDE ARIADI alias BERNAD</td>\n",
       "      <td>14.0</td>\n",
       "    </tr>\n",
       "    <tr>\n",
       "      <th>3</th>\n",
       "      <td>1</td>\n",
       "      <td>2</td>\n",
       "      <td>2</td>\n",
       "      <td>2</td>\n",
       "      <td>1 (satu) buah plastik klip bening yang berisi ...</td>\n",
       "      <td>Dakwaan Pertama: Pada 14 April 2024, sekitar p...</td>\n",
       "      <td>I GEDE ARIADI alias BERNAD</td>\n",
       "      <td>14.0</td>\n",
       "    </tr>\n",
       "    <tr>\n",
       "      <th>4</th>\n",
       "      <td>0</td>\n",
       "      <td>3</td>\n",
       "      <td>2</td>\n",
       "      <td>4</td>\n",
       "      <td>1 (satu) unit sepeda motor merk Honda Scoopy w...</td>\n",
       "      <td>Pada 26 Maret 2024 pukul 17.10 WITA di pinggir...</td>\n",
       "      <td>R. Sabirin</td>\n",
       "      <td>14.0</td>\n",
       "    </tr>\n",
       "    <tr>\n",
       "      <th>...</th>\n",
       "      <td>...</td>\n",
       "      <td>...</td>\n",
       "      <td>...</td>\n",
       "      <td>...</td>\n",
       "      <td>...</td>\n",
       "      <td>...</td>\n",
       "      <td>...</td>\n",
       "      <td>...</td>\n",
       "    </tr>\n",
       "    <tr>\n",
       "      <th>154</th>\n",
       "      <td>0</td>\n",
       "      <td>56</td>\n",
       "      <td>14</td>\n",
       "      <td>4</td>\n",
       "      <td>2 (dua) buah MacBook Air merk Apple warna Grey...</td>\n",
       "      <td>I Gede Wahyu Arianta dan Feri Mananue didakwa ...</td>\n",
       "      <td>GEDE WAHYU ARIANTA</td>\n",
       "      <td>26.0</td>\n",
       "    </tr>\n",
       "    <tr>\n",
       "      <th>155</th>\n",
       "      <td>0</td>\n",
       "      <td>56</td>\n",
       "      <td>14</td>\n",
       "      <td>4</td>\n",
       "      <td>2 (dua) buah MacBook Air merk Apple warna Grey...</td>\n",
       "      <td>I Gede Wahyu Arianta dan Feri Mananue didakwa ...</td>\n",
       "      <td>FERI MANANUE</td>\n",
       "      <td>26.0</td>\n",
       "    </tr>\n",
       "    <tr>\n",
       "      <th>156</th>\n",
       "      <td>0</td>\n",
       "      <td>47</td>\n",
       "      <td>8</td>\n",
       "      <td>4</td>\n",
       "      <td>1 (satu) unit sepeda motor Yamaha RXS tahun 19...</td>\n",
       "      <td>Reza Aditya Pratama dan Kadek Agus Yudi Pranat...</td>\n",
       "      <td>Reza Aditya Pratama Als Reza</td>\n",
       "      <td>20.0</td>\n",
       "    </tr>\n",
       "    <tr>\n",
       "      <th>157</th>\n",
       "      <td>0</td>\n",
       "      <td>47</td>\n",
       "      <td>8</td>\n",
       "      <td>4</td>\n",
       "      <td>1 (satu) unit sepeda motor Yamaha RXS tahun 19...</td>\n",
       "      <td>Reza Aditya Pratama dan Kadek Agus Yudi Pranat...</td>\n",
       "      <td>Kadek Agus Yudi Pranata Als Agus</td>\n",
       "      <td>20.0</td>\n",
       "    </tr>\n",
       "    <tr>\n",
       "      <th>158</th>\n",
       "      <td>0</td>\n",
       "      <td>38</td>\n",
       "      <td>15</td>\n",
       "      <td>2</td>\n",
       "      <td>1 (satu) Unit Handphone merek Redmi Note 10S w...</td>\n",
       "      <td>Tentu, berikut ringkasan dakwaan terhadap Agus...</td>\n",
       "      <td>AGUS JAENUDIN</td>\n",
       "      <td>4.0</td>\n",
       "    </tr>\n",
       "  </tbody>\n",
       "</table>\n",
       "<p>159 rows × 8 columns</p>\n",
       "</div>"
      ],
      "text/plain": [
       "     klasifikasi_perkara_encoded  penuntut_umum_encoded  hakim_encoded  \\\n",
       "0                              0                      0              0   \n",
       "1                              0                      0              1   \n",
       "2                              1                      1              2   \n",
       "3                              1                      2              2   \n",
       "4                              0                      3              2   \n",
       "..                           ...                    ...            ...   \n",
       "154                            0                     56             14   \n",
       "155                            0                     56             14   \n",
       "156                            0                     47              8   \n",
       "157                            0                     47              8   \n",
       "158                            0                     38             15   \n",
       "\n",
       "     jumlah_saksi                               cleaned_barang_bukti  \\\n",
       "0               6  1 (satu) buah sabit kecil dengan gagang dari k...   \n",
       "1               6  1 (satu) buah Kotak/Box handphone merk OPPO ty...   \n",
       "2               2  1 (satu) buah plastik klip bening yang berisi ...   \n",
       "3               2  1 (satu) buah plastik klip bening yang berisi ...   \n",
       "4               4  1 (satu) unit sepeda motor merk Honda Scoopy w...   \n",
       "..            ...                                                ...   \n",
       "154             4  2 (dua) buah MacBook Air merk Apple warna Grey...   \n",
       "155             4  2 (dua) buah MacBook Air merk Apple warna Grey...   \n",
       "156             4  1 (satu) unit sepeda motor Yamaha RXS tahun 19...   \n",
       "157             4  1 (satu) unit sepeda motor Yamaha RXS tahun 19...   \n",
       "158             2  1 (satu) Unit Handphone merek Redmi Note 10S w...   \n",
       "\n",
       "                                    summarized_dakwaan  \\\n",
       "0    Bahwa ia terdakwa Gede Darmayasa pada hari sel...   \n",
       "1    Terdakwa Handri Johanes didakwa melakukan penc...   \n",
       "2    Dakwaan Pertama: Pada 14 April 2024, sekitar p...   \n",
       "3    Dakwaan Pertama: Pada 14 April 2024, sekitar p...   \n",
       "4    Pada 26 Maret 2024 pukul 17.10 WITA di pinggir...   \n",
       "..                                                 ...   \n",
       "154  I Gede Wahyu Arianta dan Feri Mananue didakwa ...   \n",
       "155  I Gede Wahyu Arianta dan Feri Mananue didakwa ...   \n",
       "156  Reza Aditya Pratama dan Kadek Agus Yudi Pranat...   \n",
       "157  Reza Aditya Pratama dan Kadek Agus Yudi Pranat...   \n",
       "158  Tentu, berikut ringkasan dakwaan terhadap Agus...   \n",
       "\n",
       "                             terdakwa  total_pidana_penjara_bulan  \n",
       "0                      GEDE DARMAYASA                         5.0  \n",
       "1                      HANDRI JOHANAS                         4.0  \n",
       "2          I GEDE ARIADI alias BERNAD                        14.0  \n",
       "3          I GEDE ARIADI alias BERNAD                        14.0  \n",
       "4                          R. Sabirin                        14.0  \n",
       "..                                ...                         ...  \n",
       "154                GEDE WAHYU ARIANTA                        26.0  \n",
       "155                      FERI MANANUE                        26.0  \n",
       "156      Reza Aditya Pratama Als Reza                        20.0  \n",
       "157  Kadek Agus Yudi Pranata Als Agus                        20.0  \n",
       "158                     AGUS JAENUDIN                         4.0  \n",
       "\n",
       "[159 rows x 8 columns]"
      ]
     },
     "execution_count": 10,
     "metadata": {},
     "output_type": "execute_result"
    }
   ],
   "source": [
    "df_filtered"
   ]
  },
  {
   "cell_type": "code",
   "execution_count": 11,
   "metadata": {},
   "outputs": [
    {
     "data": {
      "application/vnd.microsoft.datawrangler.viewer.v0+json": {
       "columns": [
        {
         "name": "index",
         "rawType": "int64",
         "type": "integer"
        },
        {
         "name": "klasifikasi_perkara_encoded",
         "rawType": "int64",
         "type": "integer"
        },
        {
         "name": "penuntut_umum_encoded",
         "rawType": "int64",
         "type": "integer"
        },
        {
         "name": "hakim_encoded",
         "rawType": "int64",
         "type": "integer"
        },
        {
         "name": "jumlah_saksi",
         "rawType": "int64",
         "type": "integer"
        },
        {
         "name": "cleaned_barang_bukti",
         "rawType": "object",
         "type": "string"
        },
        {
         "name": "summarized_dakwaan",
         "rawType": "object",
         "type": "string"
        },
        {
         "name": "terdakwa",
         "rawType": "object",
         "type": "string"
        },
        {
         "name": "total_pidana_penjara_bulan",
         "rawType": "float64",
         "type": "float"
        }
       ],
       "conversionMethod": "pd.DataFrame",
       "ref": "4f5f2bfc-81cb-4e46-9d26-3ab64f0705ff",
       "rows": [
        [
         "0",
         "0",
         "0",
         "0",
         "6",
         "1 (satu) buah sabit kecil dengan gagang dari kayu 1 (satu) buah jaring plastik paranet warna hitam 1 (satu) utas tali plastik warna biru dengan panjang 7,5 meter 20 (dua puluh) buah kantong plastik kresek 2 (dua) utas tali kain warna merah dengan panjang 80 cm Dimusnahkan 1 (satu) unit mobil merek Suzuki ST 150 Pick Up warna hitam DK 8985 KC, NOKA MHYESL415JJ723753, NOSIN G15AID1125449 beserta kunci kontak 1 (satu) lembar STNK mobil merek Suzuki ST 150 Pick Up warna hitam DK 8985 KC, NOKA MHYESL415JJ723753, NOSIN G15AID1125449 nama pemilik a.n. I Kadek Kondrayasa Dikembalikan kepada I Gede Agus Wirayuda 4 (empat) buah durian jenis durian kane Dikembalikan kepada I Wayan Sukarene, S.E. 1 (satu) lembar nota pembelian buah durian Toko Tiara Durian Dikembalikan kepada Komang Ayu Anggreni 15 (lima belas) buah durian jenis durian kane 1 (satu) lembar nota pembelian buah durian Toko Semut Durian Dikembalikan kepada Komang Sujana Uang tunai sebesar Rp487.000,00 (empat ratus delapan puluh tujuh ribu rupiah) Dirampas untuk negara  6. Membebankan kepada Terdakwa membayar biaya perkara sejumlah Rp5.000,00 (lima ribu rupiah)",
         "Bahwa ia terdakwa Gede Darmayasa pada hari selasa tanggal 21 Mei 2024 sekira jam 06.00 WITA, hari Selasa tanggal 21 Mei 2024 sekira jam 06.30 WITA dan hari Sabtu tanggal 25 Mei 2024 sekira jam 06.00 WITA atau setidak-tidaknya pada waktu lain dalam Bulan Mei tahun 2024 atau setidak-tidaknya pada waktu lain dalam tahun 2024, di kebun milik I Wayan Sukerena, SE di Banjar / Desa Bunutin, Kecamatan Kintamani, Kab. Bangli, di kebun milik I Nyoman Susila di Banjar / Desa Bunutin, Kecamatan Kintamani, Kab. Bangli, dan di kebun milik I Ketut Tindih di Banjar / Desa Pengejaran, Kecamatan Kintamani, Kab. Bangli, atau setidak-tidaknya pada suatu tempat tertentu yang masih termasuk dalam daerah hukum Pengadilan Negeri Bangli, telah melakukan beberapa perbuatan yang harus dipandang sebagai perbuatan yang berdiri sendiri sehingga merupakan beberapa kejahatan yaitu mengambil barang sesuatu yang seluruhnya atau sebagian kepunyaan orang lain, dengan maksud untuk dimiliki secara melawan hukum, yang dilakukan terdakwa dengan cara-cara sebagai berikut. Bahwa pada hari Selasa tanggal 21 Mei 2024 sekira pukul 04.00 WITA terdakwa berangkat dari rumah terdakwa di Br. Dinas Pudeh, Ds. Tajun, Kec. Kubutambahan, Kab. Buleleng dengan menggunakan mobil Suzuki Carry Pick Up warna hitam DK 8985 KC untuk pergi ke Br./Ds. Bunutin, Kec. Kintamani, Kab. Bangli dengan melewati simpang tiga Pasar Tenten Kintamani dengan tujuan untuk membeli dan menawarkan buah durian yang masih ada dipohonnya sesampainya terdakwa di Br./Ds. Bunutin, Kec. Kintamani, Kab. Bangli sekira pukul 06.00 WITA terdakwa melihat pohon durian yang sudah berbuah di kebun milik I WAYAN SUKERENA, S.E. dipinggir Jalan Raya Ds. Bunutin, Kec. Kintamani, Kab. Bangli, karena situasi saat itu sepi selanjutnya terdakwa melihatlihat buah durian tersebut, setelah menemukan buah yang akan dipetik, selanjutnya terdakwa memetik buah durian tersebut dengan memanjat pohon durian tersebut dan dengan menggunakan sabit kecil untuk memotong buah durian tersebut sebanyak 2 (dua) pohon secara bergiliran dengan jumlah buah durian yang terdakwa petik sekitar 37 (tiga puluh tujuh) buah,setelah terkumpul lanjut buah durian tersebut terdakwa naikan di mobil Suzuki Carry Pick Up warna hitam DK 8985 KC yang terdakwa kendarai tersebut, setelah buah durian semua diatas mobil lanjut terdakwa meninggalkan kebun milik I WAYAN SUKERENA, S.E. tersebut. Kemudian dalam perjalanan terdakwa melihat lagi dipinggir Jalan Raya Ds. Bunutin Kintamani ada beberapa pohon durian yang sudah berbuah kemudian terdakwa turun memarkir mobil Suzuki Carry Pick Up warna hitam DK 8985 KC dipinggir jalan raya, setelah itu dengan berjalan kaki terdakwa menuju ke kebun milik I NYOMAN SUSILA di Br./Ds. Bunutin, Kec. Kintamani, Kab. Bangli sekira pukul 06.30 WITA karena melihat pohon durian berbuah cukup banyak akhirnya terdakwa memanjat pohon durian tersebut sebanyak 2 (dua) pohon secara bergantian kemudian memetik dengan menggunakan sabit kecil dan menurunkan buah durian sebanyak 27 (dua puluh tujuh) buah, setelah buah durian turun dan terkumpul kemudian terdakwa naikan ke atas mobil Suzuki Carry Pick Up warna hitam DK 8985 KC setelah itu terdakwa tutupi buah durian diatas mobil tersebut dengan menggunakan jaring plastik warna hitam dan terdakwa ikat dengan tali plastik warna biru supaya buah durian tersebut aman diatas mobil selanjutnya terdakwa meninggalkan Br./Ds. Bunutin, Kec. Kintamani, Kab. Bangli menuju rumah terdakwa di Br. Dinas Pudeh, Ds. Tajun, Kac. Kubutambahan, Kab. Buleleng, namun sebelum sampai dirumah sekitar pukul 14.30 WITA terdakwa langsung menjual durian tersebut kepada saksi Komang Ayu Anggreni di Batu Barak Desa Tajun Kec. Kubutambahan Kab. Buleleng sebanyak 40 (empat puluh) buah dengan berat kurang lebih 180 (seratus delapan puluh) Kg dengan harga Rp. 4.316.000 (empat juta tiga ratus enam belas ribu rupiah), selanjutnya sisa buah durian sebanyak 27 (dua puluh tujuh) buah terdakwa bawa pulang kerumah. Pada hari Kamis tanggal 23 Mei 2024 sekira pukul 18.00 WITA terdakwa menjual durian jenis durian Kane kepada KOMANG SUJANA di Gudang milik KOMANG SUJANA sebanyak 40 (empat puluh) buah durian dengan berat sekitar 200 Kg yang mana 24 buah durian hasil saya mencuri pada hari Selasa tanggal 21 Mei 2024 di Br./Ds. Bunutin, Kec. Kintamani, Kab. Bangli sedangkan 16 buah durian tersebut hasil dari terdakwa membeli di petani yang terdakwa jual dengan harga total Rp. 5.200.000, (lima juta dua ratus ribu rupiah). Selanjutnya pada hari Sabtu tanggal 25 Mei 2024 sekira pukul 04.00 WITA terdakwa berangkat dari rumah terdakwa di Br. Dinas Pudeh, Ds. Tajun. Kec. Kubutambahan, Kab. Buleleng dengan menggunakan mobil Suzuki Carry Pick Up warna hitam DK 8985 KC untuk pergi ke Br./Ds. Pengejaran, Kec. Kintamani, Kab. Bangli, sesampainya terdakwa di Br./Ds. Pengejaran, Kec. Kintamani, Kab. Bangli sekira pukul 06.00 wita dengan melewati simpang tiga Lampu terdakwa tiba dikebun milik I KETUT TINDIH yang berlokasi di pinggir Jalan Raya Ds, Pengejaran, karena situasi sepi terdakwa memanjat pohon durian tersebut sebanyak 2 (dua) pohon secara bergantian selanjutnya memetik buah durian tersebut dengan menggunakan sabit kecil sebanyak 20 (dua) buah dan menjatuhkan buah durian tersebut ketanah setelah itu terdakwa mengumpulkan buah durian yang sudah terdakwa petik selanjutnya terdakwa menaikan buah durian tersebut ke atas mobil carry yang terdakwa bawa selanjutnya buah durian tersebut terdakwa tutupi buah durian diatas mobil tersebut dengan menggunakan jaring plastik warna hitam dan terdakwa ikat dengan tali plastik warna biru supaya buah durian tersebut aman diatas mobil selanjutnya terdakwa meninggalkan Br./Ds. Pengejaran, Kec. Kintamani, Kab. Bangli menuju rumah terdakwa di Br. Dinas Pudeh, Ds. Tajun, Kac. Kubutambahan, Kab. Buleleng, tetapi sebelum pulang kerumahnya terdakwa pergi ke Desa Tajun untuk menjual buah durian tersebut kepada Komang Ayu Anggreni sebanyak 15 buah dengan harga Rp. 1.485.000 (satu juta empat ratus delapan puluh lima ribu rupiah), setelah menjual buah durian tersebut terdakwa langsung pulang menuju rumah terdakwa di Br. Dinas Pudeh, Ds. Tajun, Kac. Kubutambahan, Kab. Buleleng. Bahwa terdakwa mengambil kurang lebih 67 (enam puluh tujuh) buah durian kane tersebut tanpa ijin dari saksi I Wayan Sukerena, SE, saksi I Nyoman Susila, saksi I Ketut Tindih, dan bermaksud untuk memiliki buah durian tersebut dengan menjualnya dan uang hasil penjualan dipergunakan untuk biaya hidup sehari-hari. Akibat dari perbuatan terdakwa tersebut, mengakibatkan saksi I Wayan Sukerena, SE mengalami kerugian sebesar Rp.3.330.000,- (tiga juta tiga ratus tiga puluh ribu rupiah) , saksi I Ketut Tindih mengalami kerugian sebesar Rp.3.500.000,- (tiga juta lima ratus ribu rupiah), dan saksi I Nyoman Susila mengalami kerugian sebesar Rp. 2.000.000,- (dua juta rupiah) atau setidak-tidaknya lebih dari Rp.250,- (dua ratus lima puluh rupiah). - sebagaimana diatur dan diancam pidana dalam Pasal 362 KUHP jo Pasal 65 Ayat (1) KUHP.",
         "GEDE DARMAYASA",
         "5.0"
        ],
        [
         "1",
         "0",
         "0",
         "1",
         "6",
         "1 (satu) buah Kotak/Box handphone merk OPPO type A53 warna Hitam, dengan nomor IMEI1/2 867919057365515/867919057365507 1 (satu) lembar nota pembelian 1 (satu) unit handphone merk OPPO type A53 warna hitam, dengan nomor IMEI1/2 867919057365515/867919057365507 dari Anyelir Ponsel pada tanggal 3 April 2020 senilai Rp3.999.000,00 (tiga juta sembilan ratus sembilan puluh sembilan ribu rupiah). 1 (satu) unit handphone merk OPPO type A53 warna hitam, dengan nomor IMEI1/2 867919057365515/867919057365507 Dikembalikan kepada I Nengah Sukadana  6. Membebankan kepada Terdakwa membayar biaya perkara sejumlah Rp5.000,00 (lima ribu rupiah)",
         "Terdakwa Handri Johanes didakwa melakukan pencurian satu unit handphone OPPO A53 warna hitam pada 24 April 2024 sekitar pukul 03.00 WITA di Puri Kanginan, Bangli.Terdakwa yang sebelumnya bekerja di mebel UD. Wisnu, sering keluar masuk area Puri Kanginan.Pada hari kejadian, terdakwa masuk ke dalam Puri mencari teman, namun tidak menemukannya.Saat hendak pulang, ia melihat sebuah handphone sedang dicas di kamar dengan pintu sedikit terbuka.Ia kemudian mengambil handphone tersebut dan pergi.Handphone tersebut dalam keadaan terkunci, sehingga beberapa hari kemudian terdakwa menjualnya kepada Denny Firmansyah di Klungkung seharga Rp300.000, yang kemudian dikirim kepada anaknya di Lombok melalui transfer.Akibat perbuatannya, saksi I Nengah Sukadana mengalami kerugian sebesar Rp3.999.000.Perbuatan terdakwa diancam pidana berdasarkan Pasal 363 Ayat (1) ke-3 KUHP.",
         "HANDRI JOHANAS",
         "4.0"
        ],
        [
         "4",
         "0",
         "3",
         "2",
         "4",
         "1 (satu) unit sepeda motor merk Honda Scoopy warna merah hitam DK 6384 PQ, NOKA MH1JM311XHK071492, NOSIN JM31E-1076227 beserta kunci kontak 1 (satu) lembar STNK sepeda motor merk Honda Scoopy warna merah hitam DK 6384 PQ, NOKA MH1JM311XHK071492, NOSIN JM31E-1076227 nama pemilik an. NI WAYAN SRIMERTANADI Dikembalikan kepada korban Ni Wayan Srimertanadi 1 (satu) buah helm merk Maxi Yamaha warna hitam 1 (satu) buah jaket jeans warna biru langit  Dirampas untuk dimusnahkan 6. Membebankan kepada Terdakwa membayar biaya perkara sejumlah Rp. 5.000,00 (lima ribu rupiah)",
         "Pada 26 Maret 2024 pukul 17.10 WITA di pinggir Jalan Raya Kintamani, Terdakwa mencuri sepeda motor Honda Scoopy DK 6384 PQ yang terparkir dengan kunci masih menempel. Sehari sebelumnya, Terdakwa berangkat dari Panarukan, Singaraja, menuju Terminal Ubung Denpasar dengan menumpang truk, berniat mencuri motor. Setelah menginap di terminal, keesokan harinya sekitar pukul 11.30 WITA, Terdakwa menghubungi WAHYU EKA JAYA (DPO) yang kemudian menjemputnya dengan Yamaha Vixion hitam dan mengajaknya ke Kintamani. Sekitar pukul 17.10 WITA, saat melintas di Jalan Raya Kintamani, mereka melihat sepeda motor korban terparkir dengan kunci masih terpasang. WAHYU EKA JAYA (DPO) lalu meninggalkan Terdakwa, yang kemudian mendorong motor sejauh 10 meter sebelum menyalakan mesinnya dan melarikan diri menuju Denpasar melalui Payangan Gianyar. Sesampainya di Ubud, Terdakwa dihentikan oleh I GEDE DIPTA WIRAMA DARMA, yang mengaku sebagai petugas Polsek Kintamani dan meminta STNK, namun Terdakwa tidak dapat menunjukkannya. Ia kemudian diamankan bersama barang bukti ke Polsek Kintamani. Akibat perbuatannya, korban NI WAYAN SRIMERTANADI mengalami kerugian sekitar Rp 20.000.000,-. Perbuatan Terdakwa melanggar Pasal 362 KUHP.",
         "R. Sabirin",
         "14.0"
        ],
        [
         "8",
         "0",
         "3",
         "3",
         "4",
         "1. 3 (tiga) buah bahan dasar kain (Baju Kaos) masing-masing  - 1 (buah) baju kaos merk U-Right warna abu-abu, - 1 (satu) buah baju kaos merk U-Right warna hitam, - 1 (satu) buah baju kaos merk Newbalance warna hitam 2. 2 (dua) buah case masing-masing  - 1 (satu) buah case warna hitam dan, - 1 (satu) buah case warna putih bening, 3. 1 (satu) pasang kaos kaki merk Nike warna hitam, 4. 1 (satu) pasang sandal merk Havaianas warna hitam tulisan putih, 5. 1 (satu) buah tas kain Merk HUNGRYCO warna Hitam. 6. 2 (dua) buah Dompet masing-masing  - 1 (satu) buah Dompet kulit merk MONT BLACN warna coklat dan, - 1 (satu) buah dompet kain warna coklat dengan resleting bertulisan LONGCHAMP 7. 1 (satu) buah kotak Handphone, 8. 1 (satu) buah Handphone merk IPHONE 11 Pro warna gold, 9. Uang tunai sebesar Rp. 5.778.000,- (lima juta tujuh ratus tujuh puluh delapan ribu rupiah). Dikembalikan kepada Saksi Ni Nengah Ngariasih 1. 1 (satu) Buah kunci kontak sepeda motor, 2. 1 (satu) Unit kendaraan bermotor, DK 2006 AEC, NOKA MH3SEJ710PJ162733, NOSIN E33WE0184543, TH 2023, warna Hitam, 3. 1 (satu) lembar Surat Berharga STNK, DK 2006 AEC, NOKA MH3SEJ710PJ162733, NOSIN E33WE0184543, TH 2023, warna hitam, an. RURY HERAWATI , alamat GG. Kaliasem NO. 2B, Sesetan, Denpasar Dikembalikan kepada Terdakwa 6. Membebankan kepada Terdakwa membayar biaya perkara sejumlah Rp5.000,00 (lima ribu rupiah)",
         "Terdakwa RURY HERAWATI pada 20 November 2023 sekitar pukul 15.15 WITA di Toko ARI KEBAYA, Jalan Nusantara, Kelurahan Cempaga, Kecamatan Bangli, Kabupaten Bangli, melakukan tindak pidana pencurian dengan mengambil barang milik orang lain tanpa izin untuk dimiliki secara melawan hukum. Terdakwa berangkat dari kosnya di Denpasar menuju Bangli dengan niat mencuri tanpa target tempat tertentu. Setelah mengamati situasi, Terdakwa masuk ke Toko ARI KEBAYA, berpura-pura berbelanja dengan membeli dua selendang dan meminta penjaga toko, NI NENGAH NGARIASIH, untuk mencari sandal, sehingga membuatnya membelakangi meja kasir. Saat itulah Terdakwa mengambil satu tas kain merk HUNGRYCO warna hitam dari lemari plastik yang tidak terkunci, yang berisi dompet kulit merk MONT BLANC warna coklat dan dompet kain warna coklat dengan resleting bertulisan LONGCHAMP, berisi uang tunai Rp16.500.000. Setelah berpura-pura hendak mengambil uang di ATM, Terdakwa meninggalkan toko dan membawa barang curian ke kosnya. Uang hasil pencurian digunakan untuk membeli iPhone 11 Pro seharga Rp7.000.000, membayar DP emas Rp1.000.000, serta kebutuhan sehari-hari, dengan sisa uang Rp5.778.000. Berdasarkan laporan polisi LP/B/31/XI/2023/SPKT/POLRES BANGLI/POLDA BALI tanggal 25 November 2023, pihak kepolisian melakukan penyelidikan hingga mengamankan Terdakwa beserta barang bukti di Polres Bangli. Perbuatan Terdakwa menyebabkan saksi NI NENGAH NGARIASIH mengalami kerugian Rp16.500.000 dan diancam pidana dalam Pasal 362 KUHP.",
         "RURY HERAWATI",
         "16.0"
        ],
        [
         "13",
         "0",
         "7",
         "0",
         "6",
         "1 (satu) unit sepeda motor merek Yamaha N-Max warna hitam DK 3498 PT beserta kunci kontak 1 (satu) buah STNK sepeda motor merek Yamaha N-Max DK 3498 PT 1 (satu) buah BPKB sepeda motor merek Yamaha N-Max DK 3498 PT Dikembalikan kepada Made Yusa Paramartha 1 (satu) unit sepeda motor merek Yamaha N-Max warna hitam DK 6992 LB beserta kunci kontak 1 (satu) buah STNK sepeda motor merek Yamaha N-Max DK 6992 LB 1 (satu) buah cover under dek bawah kolong sepeda motor merek Yamaha N-Max warna hitam 1 (satu) buah cover paru fender inner sepeda motor merek Yamaha N-Max warna hitam 2 (dua) buah dek sayap body bawah sepeda motor merek Yamaha N-Max warna ungu Dikembalikan kepada I Kadek Indrawan 1 (satu) unit mobil merek Honda Jazz GE8 warna putih DK 1049 WH 1 (satu) buah STNK mobil merek Honda Jazz GE8 DK 1049 WH Dikembalikan kepada Ni Luh Putu Suparwati 1 (satu) unit sepeda motor merek Yamaha N-Max warna hitam DK 6492 ZY beserta kunci kontak 1 (satu) lembar STNK Sepeda Motor Yamaha N-Max DK 4665 TG, Noka MH3SG3190JJ314087, Nosin G3E4E-1103102, nama pemilik a.n. I Ketut Merta Yasa 2 (dua) buah plat sepeda motor palsu warna hitam DK 4665 TG 2 (dua) buah spion sepeda motor merek Yamaha N-Max warna hitam Dikembalikan kepada Penuntut Umum untuk dijadikan barang bukti dalam perkara lain 1 (satu) buah kunci T warna hitam 1 (satu) buah obeng dengan gagang warna hitam 1 (satu) buah kunci ring pas 12 warna putih merek Wipro 1 (satu) buah tang dengan gagang warna merah 1 (satu) set kunci L warna putih merek Allwin 1 (satu) buah mesin bor tanpa kabel warna merah hitam merek Bitec Dimusnahkan Uang tunai Rp1.000.000,00 (satu juta rupiah) Dirampas untuk negara  6. Membebankan kepada Para Terdakwa membayar biaya perkara masing-masing sejumlah Rp5.000,00 (lima ribu rupiah)",
         "Terdakwa I KETUT JONI ADNYANA ADI PUTRA dan Terdakwa II ROSITA EVAYANTI DEWI pada 10 September 2023 pukul 01.00 WITA dan 1 Oktober 2023 pukul 02.00 WITA di parkiran Sukawana Sunrise dan Le Monte Sunrise, Desa Sukawana, Kecamatan Kintamani, Kabupaten Bangli, melakukan pencurian secara bersekutu. Pada 9 September 2023 pukul 21.00 WITA, Terdakwa berangkat dari Jembrana menuju Sukawana Sunrise menggunakan sepeda motor Yamaha NMAX warna hitam DK 6492 ZY milik saksi I KETUT MERTA YASA. Pada 10 September 2023 pukul 01.00 WITA, mereka tiba di parkiran dan melihat sepeda motor Yamaha NMAX hitam DK 3498 PT milik saksi MADE YUSA PARAMARTHA. Terdakwa I masuk ke parkiran, sementara Terdakwa II menunggu di Desa Pinggan. Terdakwa I mengambil sepeda motor yang tidak terkunci stang, mendorongnya sejauh 100 meter, lalu menyambungkan kabel stop kontak untuk menyalakan mesin sebelum membawa sepeda motor tersebut ke Jembrana untuk digunakan sebagai transportasi sehari-hari. Pada 30 September 2023, Terdakwa kembali merencanakan pencurian dan berangkat dari Jembrana menggunakan mobil Honda Jazz putih DK 1049 WH yang disewa dari saksi NI LUH PUTU SUPARWATI. Pada 1 Oktober 2023 pukul 01.00 WITA, mereka tiba di parkiran Le Monte Sunrise dan menunggu di mobil hingga pukul 02.00 WITA. Terdakwa I kemudian mengambil sepeda motor Yamaha NMAX warna abu lembayung ungu DK 6992 LB milik saksi I KADEK INDRAWAN dengan cara mendorongnya keluar dari parkiran, membuka bodi depan, dan menyambungkan kabel stop kontak agar mesin menyala. Sepeda motor tersebut dibawa ke Jembrana dan dijual melalui Facebook Marketplace seharga Rp5.300.000. Akibat perbuatan tersebut, saksi MADE YUSA PARAMARTHA mengalami kerugian Rp25.500.000 dan saksi I KADEK INDRAWAN mengalami kerugian Rp26.700.000. Para Terdakwa diancam pidana berdasarkan Pasal 363 ayat (1) ke-4 KUHP Jo Pasal 65 ayat (1) KUHP.",
         "I KETUT JONI ADNYANA ADI PUTRA",
         "16.0"
        ],
        [
         "14",
         "0",
         "8",
         "0",
         "6",
         "1 (satu) unit sepeda motor merek Yamaha N-Max warna hitam DK 3498 PT beserta kunci kontak 1 (satu) buah STNK sepeda motor merek Yamaha N-Max DK 3498 PT 1 (satu) buah BPKB sepeda motor merek Yamaha N-Max DK 3498 PT Dikembalikan kepada Made Yusa Paramartha 1 (satu) unit sepeda motor merek Yamaha N-Max warna hitam DK 6992 LB beserta kunci kontak 1 (satu) buah STNK sepeda motor merek Yamaha N-Max DK 6992 LB 1 (satu) buah cover under dek bawah kolong sepeda motor merek Yamaha N-Max warna hitam 1 (satu) buah cover paru fender inner sepeda motor merek Yamaha N-Max warna hitam 2 (dua) buah dek sayap body bawah sepeda motor merek Yamaha N-Max warna ungu Dikembalikan kepada I Kadek Indrawan 1 (satu) unit mobil merek Honda Jazz GE8 warna putih DK 1049 WH 1 (satu) buah STNK mobil merek Honda Jazz GE8 DK 1049 WH Dikembalikan kepada Ni Luh Putu Suparwati 1 (satu) unit sepeda motor merek Yamaha N-Max warna hitam DK 6492 ZY beserta kunci kontak 1 (satu) lembar STNK Sepeda Motor Yamaha N-Max DK 4665 TG, Noka MH3SG3190JJ314087, Nosin G3E4E-1103102, nama pemilik a.n. I Ketut Merta Yasa 2 (dua) buah plat sepeda motor palsu warna hitam DK 4665 TG 2 (dua) buah spion sepeda motor merek Yamaha N-Max warna hitam Dikembalikan kepada Penuntut Umum untuk dijadikan barang bukti dalam perkara lain 1 (satu) buah kunci T warna hitam 1 (satu) buah obeng dengan gagang warna hitam 1 (satu) buah kunci ring pas 12 warna putih merek Wipro 1 (satu) buah tang dengan gagang warna merah 1 (satu) set kunci L warna putih merek Allwin 1 (satu) buah mesin bor tanpa kabel warna merah hitam merek Bitec Dimusnahkan Uang tunai Rp1.000.000,00 (satu juta rupiah) Dirampas untuk negara  6. Membebankan kepada Para Terdakwa membayar biaya perkara masing-masing sejumlah Rp5.000,00 (lima ribu rupiah)",
         "Terdakwa I KETUT JONI ADNYANA ADI PUTRA dan Terdakwa II ROSITA EVAYANTI DEWI pada 10 September 2023 pukul 01.00 WITA dan 1 Oktober 2023 pukul 02.00 WITA di parkiran Sukawana Sunrise dan Le Monte Sunrise, Desa Sukawana, Kecamatan Kintamani, Kabupaten Bangli, melakukan pencurian secara bersekutu. Pada 9 September 2023 pukul 21.00 WITA, Terdakwa berangkat dari Jembrana menuju Sukawana Sunrise menggunakan sepeda motor Yamaha NMAX warna hitam DK 6492 ZY milik saksi I KETUT MERTA YASA. Pada 10 September 2023 pukul 01.00 WITA, mereka tiba di parkiran dan melihat sepeda motor Yamaha NMAX hitam DK 3498 PT milik saksi MADE YUSA PARAMARTHA. Terdakwa I masuk ke parkiran, sementara Terdakwa II menunggu di Desa Pinggan. Terdakwa I mengambil sepeda motor yang tidak terkunci stang, mendorongnya sejauh 100 meter, lalu menyambungkan kabel stop kontak untuk menyalakan mesin sebelum membawa sepeda motor tersebut ke Jembrana untuk digunakan sebagai transportasi sehari-hari. Pada 30 September 2023, Terdakwa kembali merencanakan pencurian dan berangkat dari Jembrana menggunakan mobil Honda Jazz putih DK 1049 WH yang disewa dari saksi NI LUH PUTU SUPARWATI. Pada 1 Oktober 2023 pukul 01.00 WITA, mereka tiba di parkiran Le Monte Sunrise dan menunggu di mobil hingga pukul 02.00 WITA. Terdakwa I kemudian mengambil sepeda motor Yamaha NMAX warna abu lembayung ungu DK 6992 LB milik saksi I KADEK INDRAWAN dengan cara mendorongnya keluar dari parkiran, membuka bodi depan, dan menyambungkan kabel stop kontak agar mesin menyala. Sepeda motor tersebut dibawa ke Jembrana dan dijual melalui Facebook Marketplace seharga Rp5.300.000. Akibat perbuatan tersebut, saksi MADE YUSA PARAMARTHA mengalami kerugian Rp25.500.000 dan saksi I KADEK INDRAWAN mengalami kerugian Rp26.700.000. Para Terdakwa diancam pidana berdasarkan Pasal 363 ayat (1) ke-4 KUHP Jo Pasal 65 ayat (1) KUHP.",
         "I KETUT JONI ADNYANA ADI PUTRA",
         "16.0"
        ],
        [
         "17",
         "0",
         "9",
         "0",
         "4",
         "- Uang tunai sebesar Rp. 10.000.000,00(sepuluh juta rupiah). - 1 (satu) buah kartu ATM BRI, Nomor Kartu 6013012227516306 dikembalikan kepada Saksi Luh Putu Widiantari, S.E - 1 (satu) unit Sepeda Motor Honda Vario 125 warna putih DK 6266 PZ, Noka MH1JMD119PK176948, Nosin JMD1E-1177179 beserta kunci kontak. - 1 (satu) lembar STNK Sepeda Motor Honda Vario 125 DK 6266 PZ, Noka MH1JMD119PK176948, Nosin JMD1E-1177179, Nama pemilik an. I NYOMAN BUDIAWAN Dikembalikan kepada Terdakwa - 1 (satu) unit Mobil Suzuki ST 150 Pick Up warna hitam DK 8958 HD beserta kunci kontak  Dikembalikan kepada Saksi I Wayan Sarjana 6. Membebankan kepada Terdakwa membayar biaya perkara sejumlah Rp5.000,00 (lima ribu rupiah)",
         "Terdakwa I Nyoman Budiawan als. Sumawan pada 25 Oktober 2023 pukul 13.00 WITA di Toko UD. Langsung Jaya, Jalan Raya Kintamani, Desa Kintamani, Kecamatan Kintamani, melakukan pencurian dengan mengambil kartu ATM BRI warna biru nomor 6013 0122 2751 6306 milik saksi Luh Putu Widiantari tanpa izin. Sebelumnya, terdakwa datang ke toko untuk mentransfer uang tetapi diberitahu bahwa mesin BRI Link rusak. Saat pegawai toko meninggalkan tempat, terdakwa kembali masuk dan mengambil kartu ATM yang terletak di atas meja kasir. Setelah itu, terdakwa pulang ke rumah di Br./Ds. Siakin, Kecamatan Kintamani, Kabupaten Bangli, lalu menggunakan sepeda motor Vario 125 DK 6266 PZ menuju ATM BRI Toya Devasya di Desa Batur Tengah. Terdakwa mengetahui PIN ATM karena sering melihat pegawai toko memasukkannya saat melakukan transaksi. Terdakwa melakukan empat kali penarikan tunai masing-masing Rp2.500.000, dengan total Rp10.000.000, kemudian kembali ke rumah. Setelah menerima laporan dari saksi Luh Putu Widiantari pada 29 Oktober 2023, tim Kepolisian Sektor Kintamani melakukan penyelidikan dan menangkap terdakwa di rumahnya pada 28 Oktober 2023. Akibat perbuatan terdakwa, saksi mengalami kerugian sebesar Rp10.000.000. Perbuatan terdakwa diatur dan diancam pidana berdasarkan Pasal 362 KUHP.",
         "I NYOMAN BUDIAWAN Als. SUMAWAN",
         "14.0"
        ],
        [
         "26",
         "0",
         "9",
         "4",
         "3",
         "1 (satu) unit sepeda motor yang sudah dimodifikasi (cetul) tanpa terpasang nomor registrasi / nomor polisi dan tidak dapat terdapat nomor rangka dan nomor mesin kendaraan Dikembalikan kepada I Gede Wiraguna 1 (satu) unit sepeda motor merek Kawasaki tipe LX 150 C, warna hitam kombinasi kuning, tahun pembuatan 2010, tanpa terpasang nomor registrasi / nomor polisi, Noka MH4LX150CAKP15705, Nosin LX150CEP19759 1 (satu) lembar SNTK sepeda motor merek Kawasaki tipe LX 150 C, warna hijau, tahun pembuatan 2010, nomor registrasi / nomor polisi DK 8164 IQ, Noka MH4LX150CAKP15705, Nosin LX150CEP19759, a.n. Chrisnawati, alamat Jl. Surabaya D, 6/20 Puri Gading, Jimbaran, Kuta Badung dan 1 (satu) buah buku BPKB, No H-0 2625520, DK 8164 IQ, merek Kawasaki tipe LX 150 C, Noka MH4LX150CAKP15705, Nosin LX150CEP19759, a.n. Chrisnawati, alamat Jl. Surabaya D, 6/20 Puri Gading, Jimbaran, Kuta Badung Dikembalikan kepada I Wayan Eva Kusuma Putra 6. Membebankan kepada Para Terdakwa membayar biaya perkara masing-masing sejumlah Rp5.000,00 (lima ribu rupiah)",
         "Terdakwa I, Rifqi Abdurahman, dan Terdakwa II, Gunawan, didakwa melakukan pencurian sepeda motor Kawasaki KLX 150 C di Jalan Raya Kayuambua, Bangli, pada 11 Desember 2022, sekitar pukul 00.30 WITA. Berawal dari permintaan Gunawan untuk mencarikan motor KLX, mereka berdua berangkat dari Denpasar ke Kintamani. Di lokasi kejadian, mereka melihat motor KLX tanpa kunci kontak. Rifqi mengambil motor tersebut dengan mendorongnya, sementara Gunawan mengawasi.  Karena Rifqi tidak bisa menyalakan motor, Gunawan membantu mendorongnya. Namun, motor mereka mengalami kerusakan, dan Rifqi melanjutkan mendorong motor curian sendirian. Saat mendorong, Rifqi bertemu saksi-saksi yang curiga dan menghubungi pemilik motor. Rifqi berhasil menyalakan motor, tetapi kehabisan bensin. Ia melanjutkan mendorong ke SPBU Sekardadi, di mana ia tertidur dan ditangkap polisi.  Gunawan ditangkap di Desa Dumilih. Motor curian dan motor yang digunakan para terdakwa disita. Korban, I Wayan Eva Kusuma Putra, mengalami kerugian Rp16.000.000. Para terdakwa didakwa melanggar Pasal 363 Ayat (1) Ke 4 KUHP sebagai dakwaan primair dan Pasal 362 KUHP sebagai dakwaan subsidair.",
         "RIFQI ABDURAHMAN",
         "8.0"
        ],
        [
         "25",
         "0",
         "11",
         "3",
         "5",
         "2 (dua) Gram Cincin emas dengan batu permata berwarna hitam Pecahan uang seratus ribu rupiah sebanyak 57 lembar (Rp.5.700.000,-) 1 (satu) Buah tas warna merah maroon bertuliskan Michael Kors 1.600 Gram Cincin emas dengan batu permata berwarna merah 1 (satu) Pcs Dompet warna merah muda kombinasi putih bertuliskan Toko Perhiasan Emas Ratna 14.400 Gram Kalung Emas Rantai Bola 2 (dua) Lembar Nota Pembelian Perhiasan Emas Toko Ratna 1 (satu) Buah Tas warna hitam bertuliskan Steve Madden Dikembalikan kepada Saksi Ni Jro Luh Putri 1 (satu) Potong Hoddie warna merah bertuliskan Getting To 90 4th Red Ribbon Flash Mob  Dimusnahkan - 1 (satu) Unit sepeda motor Yamaha Xeon warna hitam Dirampas untuk negara 6. Membebankan kepada Terdakwa membayar biaya perkara sejumlah Rp5.000,00 (lima ribu rupiah)",
         "Terdakwa, JRO GEDE BUDI, didakwa melakukan tindak pidana pencurian di Pemandian Tirta Usadha Toya Bungkah, Bangli, pada 28 Januari 2023. Terdakwa, yang datang untuk berendam, melihat tas milik NI JRO LUH PUTRI di loker terbuka. Timbul niat untuk mencuri, terdakwa mengambil tas tersebut dan membawanya ke parkiran motor.  Setelah pergi, terdakwa memeriksa isi tas dan menemukan uang Rp5.700.000 dan perhiasan emas. Terdakwa mengambil Rp1.000.000 dan menyembunyikan sisanya beserta perhiasan di dekat rumahnya. Terdakwa kemudian pulang dengan uang curian.  Polisi menangkap terdakwa setelah laporan korban. Barang bukti ditemukan, termasuk tas, uang, dan perhiasan. Korban mengalami kerugian Rp19.700.000. Terdakwa didakwa melanggar Pasal 362 KUHP.",
         "JRO GEDE BUDI",
         "5.0"
        ],
        [
         "24",
         "0",
         "13",
         "4",
         "5",
         "1 (satu) buah kotak handphone Redmi Note 10 S 1 (satu) buah handphone merk Redmi Note 10 S warna Onyx Gray  Dikembalikan kepada I Wayan Suardana 1 (satu) buah kotak Handphone Redmi Note 7 6 (enam) lembar uang Rp100.000,00 (seratus ribu rupiah) dengan total Rp600.000,00 (enam ratus ribu rupiah)  Dikembalikan kepada I Wayan Panggih 1 buah tas pinggang merk Jungle Surf warna abu-abu  Dimusnahkan  6. Membebankan kepada Terdakwa membayar biaya perkara sejumlah Rp5.000,00 (lima ribu rupiah)",
         "Terdakwa, I Wayan Nawa, didakwa melakukan serangkaian tindak pidana pencurian yang terjadi di wilayah Kintamani, Kabupaten Bangli, pada bulan Oktober dan November 2022. Pada hari Minggu, 2 Oktober 2022, sekitar pukul 12.30 WITA, terdakwa melakukan pencurian di kebun milik I Wayan Suardana di Desa Bayung Gede. Dengan berpura-pura menawarkan pupuk kandang, terdakwa mengalihkan perhatian korban dan mencuri sebuah ponsel Redmi Note 10S beserta uang tunai Rp400.000 yang disimpan dalam wadah ponsel tersebut.  Selanjutnya, pada hari Rabu, 9 November 2022, sekitar pukul 12.00 WITA, terdakwa kembali melakukan pencurian di sebuah pondokan milik I Wayan Panggih di Desa Binyan. Dengan modus yang sama, yaitu menawarkan pupuk kandang, terdakwa berhasil mencuri sebuah ponsel Redmi Note 7 milik korban. Setelah melakukan pencurian, terdakwa menjual kedua ponsel tersebut. Ponsel milik I Wayan Suardana dijual seharga Rp1.400.000, sedangkan ponsel milik I Wayan Panggih dijual seharga Rp400.000. Uang hasil penjualan tersebut digunakan oleh terdakwa untuk memenuhi kebutuhan sehari-hari.  Akibat perbuatan terdakwa, I Wayan Suardana mengalami kerugian sebesar Rp3.400.000, sedangkan I Wayan Panggih mengalami kerugian sebesar Rp3.000.000. Setelah menerima laporan dari para korban, pihak kepolisian melakukan penyelidikan dan berhasil menangkap terdakwa pada tanggal 9 Februari 2023 di wilayah Karangasem. Atas perbuatannya, terdakwa didakwa melanggar Pasal 362 KUHP jo Pasal 65 ayat (1) KUHP, yang mengatur tentang tindak pidana pencurian yang dilakukan secara berulang.",
         "I Wayan Nawa",
         "6.0"
        ],
        [
         "28",
         "0",
         "14",
         "0",
         "6",
         "1 (satu) unit sepeda motor honda vario tahun 2011, warna merah silver DK 7917 UR, Noka MH1JF8119BK338944, Nosin JF81E-1337110 beserta anak kunci 1 (satu) STNK sepeda motor honda vario tahun 2011, warna merah silver DK 7917 UR, Noka MH1JF8119BK338944, Nosin JF81E-1337110 dikembalikan kepada yang berhak melalui Terdakwa 4 (empat) ekor ayam aduan warna merah (biying) 1 (satu) ekor ayam aduan warna coklat (klau) dikembalikan kepada I WAYAN SUKADA dan I MADE TERUS 4 (empat) buah karung warna putih dimusnahkan 6. Membebankan kepada Terdakwa membayar biaya perkara sejumlah Rp5.000,00 (lima ribu rupiah)",
         "Terdakwa, Gede Kastawa, didakwa melakukan serangkaian tindak pidana pencurian ayam di wilayah Kintamani, Bangli, pada bulan Oktober 2022. Pada 21 Oktober, sekitar pukul 20.00 WITA, ia mencuri 6 ekor ayam milik I Wayan Sukada di Desa Belantih. Pada 28 Oktober, sekitar pukul 18.00 WITA, ia mencuri 15 ekor ayam milik I Made Terus di Desa Belanga. Pada 30 Oktober, sekitar pukul 16.30 WITA, ia mencoba mencuri 1 ekor ayam milik I Wayan Lusin di Desa Belanga, namun gagal dan berhasil diamankan warga.  Dalam setiap aksinya, terdakwa menggunakan modus yang sama, yaitu memanfaatkan kelengahan korban. Ia menjual ayam curian di Singaraja dan menggunakan uangnya untuk judi sabung ayam dan kebutuhan sehari-hari. Akibat perbuatannya, para korban mengalami kerugian total Rp3.500.000. Terdakwa didakwa melanggar Pasal 362 KUHP Jo Pasal 65 ayat (1) KUHP, yang mengatur tentang tindak pidana pencurian yang dilakukan secara berulang..",
         "Gede Kastawa",
         "30.0"
        ],
        [
         "29",
         "0",
         "15",
         "0",
         "6",
         "1 (satu) unit sepeda motor honda vario tahun 2011, warna merah silver DK 7917 UR, Noka MH1JF8119BK338944, Nosin JF81E-1337110 beserta anak kunci 1 (satu) STNK sepeda motor honda vario tahun 2011, warna merah silver DK 7917 UR, Noka MH1JF8119BK338944, Nosin JF81E-1337110 dikembalikan kepada yang berhak melalui Terdakwa 4 (empat) ekor ayam aduan warna merah (biying) 1 (satu) ekor ayam aduan warna coklat (klau) dikembalikan kepada I WAYAN SUKADA dan I MADE TERUS 4 (empat) buah karung warna putih dimusnahkan 6. Membebankan kepada Terdakwa membayar biaya perkara sejumlah Rp5.000,00 (lima ribu rupiah)",
         "Terdakwa, Gede Kastawa, didakwa melakukan serangkaian tindak pidana pencurian ayam di wilayah Kintamani, Bangli, pada bulan Oktober 2022. Pada 21 Oktober, sekitar pukul 20.00 WITA, ia mencuri 6 ekor ayam milik I Wayan Sukada di Desa Belantih. Pada 28 Oktober, sekitar pukul 18.00 WITA, ia mencuri 15 ekor ayam milik I Made Terus di Desa Belanga. Pada 30 Oktober, sekitar pukul 16.30 WITA, ia mencoba mencuri 1 ekor ayam milik I Wayan Lusin di Desa Belanga, namun gagal dan berhasil diamankan warga.  Dalam setiap aksinya, terdakwa menggunakan modus yang sama, yaitu memanfaatkan kelengahan korban. Ia menjual ayam curian di Singaraja dan menggunakan uangnya untuk judi sabung ayam dan kebutuhan sehari-hari. Akibat perbuatannya, para korban mengalami kerugian total Rp3.500.000. Terdakwa didakwa melanggar Pasal 362 KUHP Jo Pasal 65 ayat (1) KUHP, yang mengatur tentang tindak pidana pencurian yang dilakukan secara berulang..",
         "Gede Kastawa",
         "30.0"
        ],
        [
         "30",
         "0",
         "16",
         "0",
         "5",
         "3 (tiga) ekor anak babi dengan bulu berwarna putih 1 (satu) buah karung plastic merk novo berwarna putih  dikembalikan kepada Saksi Komang Sucitra  6. Membebankan kepada Terdakwa membayar biaya perkara sejumlah Rp5.000,- (lima ribu rupiah)",
         "Terdakwa, Elias Fanggi, dihadapkan pada dakwaan atas tindak pidana pencurian dengan pemberatan dan penggelapan dalam jabatan yang terjadi di kandang babi milik I Komang Sucitra di Desa Abuan, Kecamatan Kintamani, Kabupaten Bangli. Pada hari Sabtu, 27 Maret 2021, sekitar pukul 22.30 WITA, Elias Fanggi, yang bekerja sebagai pembersih kandang babi milik korban sejak 6 Januari 2021, melakukan serangkaian tindakan yang mengakibatkan hilangnya tiga ekor anak babi. Pada hari itu, sekitar pukul 16.00 WITA, terdakwa datang ke kandang babi untuk melaksanakan tugasnya. Namun, pada malam harinya, sekitar pukul 22.30 WITA, ia memasuki kandang babi melalui pintu yang tidak terkunci dan mengambil karung plastik yang ada di dalam kandang. Tanpa izin dan sepengetahuan I Komang Sucitra, Elias Fanggi mengambil tiga ekor anak babi dan memasukkannya ke dalam karung plastik yang telah ia siapkan. Ia kemudian membawa anak babi tersebut keluar dari kandang menggunakan sepeda motor milik saksi Leonardus Pendi dengan maksud untuk menjualnya.  Perbuatan Elias Fanggi diketahui oleh I Komang Sucitra, yang kemudian melaporkan kejadian tersebut kepada pihak berwajib. Akibat perbuatan terdakwa, I Komang Sucitra mengalami kerugian sekitar Rp3.600.000. Atas perbuatannya, Elias Fanggi didakwa dengan dakwaan primair Pasal 363 Ayat (1) Ke 1 KUHP, yaitu pencurian dengan pemberatan, karena ia memasuki kandang babi yang merupakan tempat tertutup dengan maksud untuk melakukan pencurian. Sebagai dakwaan subsidair, ia juga didakwa dengan Pasal 374 KUHP, yaitu penggelapan dalam jabatan, karena ia memiliki hubungan kerja dengan korban dan tanggung jawab terhadap hewan ternak tersebut.",
         "Elias Fanggi",
         "6.0"
        ],
        [
         "31",
         "0",
         "17",
         "0",
         "5",
         "3 (tiga) ekor anak babi dengan bulu berwarna putih 1 (satu) buah karung plastic merk novo berwarna putih  dikembalikan kepada Saksi Komang Sucitra  6. Membebankan kepada Terdakwa membayar biaya perkara sejumlah Rp5.000,- (lima ribu rupiah)",
         "Terdakwa, Elias Fanggi, dihadapkan pada dakwaan atas tindak pidana pencurian dengan pemberatan dan penggelapan dalam jabatan yang terjadi di kandang babi milik I Komang Sucitra di Desa Abuan, Kecamatan Kintamani, Kabupaten Bangli. Pada hari Sabtu, 27 Maret 2021, sekitar pukul 22.30 WITA, Elias Fanggi, yang bekerja sebagai pembersih kandang babi milik korban sejak 6 Januari 2021, melakukan serangkaian tindakan yang mengakibatkan hilangnya tiga ekor anak babi. Pada hari itu, sekitar pukul 16.00 WITA, terdakwa datang ke kandang babi untuk melaksanakan tugasnya. Namun, pada malam harinya, sekitar pukul 22.30 WITA, ia memasuki kandang babi melalui pintu yang tidak terkunci dan mengambil karung plastik yang ada di dalam kandang. Tanpa izin dan sepengetahuan I Komang Sucitra, Elias Fanggi mengambil tiga ekor anak babi dan memasukkannya ke dalam karung plastik yang telah ia siapkan. Ia kemudian membawa anak babi tersebut keluar dari kandang menggunakan sepeda motor milik saksi Leonardus Pendi dengan maksud untuk menjualnya.  Perbuatan Elias Fanggi diketahui oleh I Komang Sucitra, yang kemudian melaporkan kejadian tersebut kepada pihak berwajib. Akibat perbuatan terdakwa, I Komang Sucitra mengalami kerugian sekitar Rp3.600.000. Atas perbuatannya, Elias Fanggi didakwa dengan dakwaan primair Pasal 363 Ayat (1) Ke 1 KUHP, yaitu pencurian dengan pemberatan, karena ia memasuki kandang babi yang merupakan tempat tertutup dengan maksud untuk melakukan pencurian. Sebagai dakwaan subsidair, ia juga didakwa dengan Pasal 374 KUHP, yaitu penggelapan dalam jabatan, karena ia memiliki hubungan kerja dengan korban dan tanggung jawab terhadap hewan ternak tersebut.",
         "Elias Fanggi",
         "6.0"
        ],
        [
         "33",
         "0",
         "18",
         "0",
         "15",
         "1 (satu) buah mesin penggerak pompa air merk GENERAL beserta 1 (satu) buah pompa Sanchin 1 (satu) buah tali kipas Dikembalikan kepada I WAYAN SUTIANA 1 (satu) buah mesin penggerak pompa air merk GENERAL beserta 1 (satu) buah pompa Sanchin 1 (satu) buah tali kipas 1 (satu) pasang sepatu boat warna hijau tua Dikembalikan kepada I NENGAH SAPA 1 (satu) buah mesin penggerak pompa air merk GENERAL beserta 1 (satu) buah pompa Sanchin 1 (satu) buah tali kipas 2 (dua) buah selang warna orange Dikembalikan kepada I KETUT SUDADI 1 (satu) buah mesin penggerak pompa air merk PRIMA beserta 1 (satu) buah pompa Sanchin merk Pro Quip 1 (satu) buah tali kipas Dikembalikan kepada I WAYAN RAMANTO 1 (satu) buah mesin penggerak pompa air merk PRO QUIP beserta 1 (satu) buah pompa Sanchin merk Tanika 1 (satu) buah tali kipas DIkembalikan kepada I MADE SADSWADARMA 1 (satu) buah mesin pompa air merk Honda lengkap dengan pompa sanchin 1 (satu) buah tali kipas Dikembalikan I KETUT CAREM 1 (satu) buah mesin pompa air merk Robin lengkap dengan pompa sanchin 1 (satu) buah tali kipas Dikembalikan kepada I NYOMAN BIRAWAN 1 (satu) buah mesin pompa air merk Robin lengkap dengan pompa sanchin 1 (satu) buah tali kipas Dikembalikan kepada NI NENGAH SUANTINI 1 (satu) buah mesin pemotong kayu (Senzo) merk Still Dikembalikan kepada I NYOMAN KENEH 1 (satu) buah mesin pemotong rumput merk Harry Dikembalikan kepada I WAYAN DARMA 1 (satu) buah kompor gas merk Rinai 1 (satu) buah tabung gas isi 3 kg Dikembalikan kepada NI KETUT SUPADMI 1 (satu) unit sepeda motor Honda Genio warna abu-abu DK 5756 PX beserta kunci kontak 1 (satu) lembar STNK sepeda motor Honda Genio warna abu-abu DK 5756 PX nomor rangka MH1JM611XKK105164, nomor mesin JM61E- 1105196, tahun pembuatan 2019 atas nama I WAYAN EDI RUSMAWAN 1 (satu) set kunci peralatan bengkel terdiri dari 1 set kunci L, 1 buah tang, 1 buah kunci engkol, 5 buah kunci pas, 1 buah obeng, 2 buah kunci T Dikembalikan kepada Penuntut Umum untuk dijadikan barang bukti dalam perkara lain Uang tunai Rp 250.000,00 (dua ratus lima puluh ribu rupiah) Dirampas untuk negara 3 (tiga) buah karung plastik (kampil) 1 (satu) gulung tali plastik rapia warna merah muda 2 (dua) buah selang warna bening Dimusnahkan  6. Membebankan kepada Terdakwa membayar biaya perkara sejumlah Rp5.000,00 (lima ribu rupiah)",
         "Terdakwa I Wayan Edi Rusmawan didakwa melakukan pencurian terhadap barang milik orang lain secara melawan hukum di berbagai lokasi di Kintamani, Bangli, antara Juni 2020 hingga Januari 2021. Kejadian-kejadian tersebut terjadi pada berbagai waktu dan tempat, termasuk kebun dan gudang milik beberapa individu di daerah tersebut. Tindakannya dilakukan dengan cara merusak, memanjat, atau menggunakan alat seperti anak kunci palsu untuk mengakses tempat dan barang yang dicuri. Tindakannya termasuk dalam beberapa perbuatan yang harus dipandang sebagai kejahatan terpisah. Perbuatan tersebut diancam pidana sesuai dengan Pasal 362 KUHP Jo Pasal 65 ayat (1) KUHP.",
         "I Wayan Edi Rusmawan",
         "24.0"
        ],
        [
         "37",
         "0",
         "20",
         "7",
         "4",
         "2 ( dua ) ekor hewan ternak sapi betina, bulu bagian tubuh berwarna coklat, bulu pada bagian kaki dan bokong berwarna putih, berat masing-masing sekira 250 Kg, umur sekira 1 ( satu ) tahun 6 (enam) bulan. Uang sebesar Rp. 4.656.000,- (empat juta enam ratus lima puluh enam ribu rupiah). 2 ( dua ) utas tali plastic warna biru dengan panjang masing-masing tali sekira 3 ( tiga ) meter .  Dikembalikan kepada korban I WAYAN KASIR. 1 ( satu ) unit mobil Mitsubishi Colt L 300 jenis pick up warna hitam dengan nomor polisi DK 9673 DJ, Noka MH32S6005AK703868, Nosin 2S6-707748 beserta kunci. 1 ( satu ) buah STNK mobil Mitsubishi Colt L 300 warna hitam dengan nomor polisi DK 9673 DJ Noka MH32S6005AK703868, Nosin 2S6-707748 atas nama AGUNG OKA ASTINI.  Dikembalikan kepada I NYOMAN BINTANG. 1 ( satu ) unit sepeda motor Yamaha Jupiter MX 135 warna hitam dengan nomor polisi DK 4664 RI Noka MHML300DP2R288738, Nosin 4D56C226379 beserta kunci. 1 ( satu ) buah STNK sepeda motor Yamaha Jupiter MX 135 warna hitam dengan nomor polisi DK 4664 RI Noka MHML300DP2R288738, Nosin 4D56C226379atas nama SANG PUTU BAOS.   Dikembalikan kepada Terdakwa I WAYAN SUDARPA. uang sebesar Rp. 15.500.000 hasil dari penjualan sapi   Dikembalikan kepada I NYOMAN SUTAPA. 2 ( dua ) lembar surat keterangan jual beli hewan dari pasar hewan bringkit warna hijau tertanggal 12 Februari 2020. Dirampas untuk dimusnahkan 5. Membebankan kepada terdakwa untuk membayar biaya perkara sejumlah Rp. 5.000,- (Lima ribu rupiah).",
         "Terdakwa I Wayan Sudarpa didakwa melakukan pencurian terhadap tiga ekor sapi milik I Wayan Kasir pada Rabu, 12 Februari 2020, sekitar pukul 01.00 WITA, di kandang sapi milik I Wayan Kasir di Desa Pengotan, Bangli. Terdakwa, yang sebelumnya meminta bantuan I Nyoman Bintang untuk menjualkan sapi-sapi tersebut, kemudian mengambil sapi tersebut dengan cara melepas ikatan tali pada sapi dan membawanya ke mobil milik I Nyoman Bintang. Setelah ketiga sapi berhasil dibawa ke mobil, I Nyoman Bintang membawa sapi tersebut ke Pasar Bringkit Badung untuk dijual, dan hasil penjualan sebesar Rp. 20.156.000 diserahkan kepada terdakwa.  Perbuatan ini dilakukan tanpa izin dari pemilik sapi, I Wayan Kasir, yang mengalami kerugian sekitar Rp. 20.500.000. Tindakannya diatur dan diancam pidana berdasarkan Pasal 363 ayat (1) ke-1 KUHP.",
         "I WAYAN SUDARPA",
         "6.0"
        ],
        [
         "38",
         "0",
         "21",
         "8",
         "2",
         "1 (satu) buah Tas Selempang warna Hitam 1 (satu) buah Memori Kamera Webcam yang berisi Rekaman Kamera Webcam di Dapur Villa Tegal Anyar yang berlokasi di Jalan Raya Mawang, Banjar Mawang Kelod, Desa Lodtunduh, Kecamatan Ubud, Kabupaten Gianyar, tanggal 17 Oktober 2023 1 (satu) unit TV merk Xiomi warna Hitam 1 (satu) unit Kulkas merk Aqua warna Hitam 1 (satu) unit Speaker merk Polytron warna Hitam Dikembalikan kepada Saksi Evgenii Verestnikov 1 (satu) lembar Screenshot bukti pengiriman uang sebesar Rp 5.000.000,- (lima juta rupiah) dari NI PUTU MEI SAPITRI kepada NI KETUT SUKRAENI, tanggal 18 Oktober 2023 1 (satu) lembar Screenshot bukti pengiriman uang sebesar Rp 2.000.000,- (dua juta rupiah) dari NI PUTU MEI SAPITRI kepada NI KETUT SUKRAENI, tanggal 31 Oktober 2023 Dikembalikan kepada Saksi Ni Ketut Sukraeni 1 (satu) buah Baju Kaos warna Putih 1 (satu) buah Celana Panjang warna Pink Dirampas untuk dimusnahkan 1 (satu) unit Sepeda Motor merk Honda Scoopy warna Putih dengan Nomor Polisi DK 6204 KBG beserta STNK Dikembalikan kepada Terdakwa Membebankan kepada Terdakwa untuk membayar biaya perkara sejumlah Rp 5000,00 (lima ribu rupiah)",
         "Ni Putu Mei Sapitri didakwa atas tindak pidana pencurian dan penadahan yang terjadi pada hari Selasa, 20 Juni 2023, sekitar pukul 14.00 WITA di Villa Tegal Anyar, Ubud. Terdakwa, yang bekerja sebagai petugas kebersihan lepas, mengambil uang tunai milik korban, Evgenii Verestnikov, yang terdiri dari 300 Euro dan 1.900 Dolar Amerika.  Saat membersihkan villa, terdakwa melihat tas selempang berisi uang di bawah meja dapur. Tanpa izin, ia mengambil uang tersebut, menyembunyikannya di kantong celana, dan kemudian menukarkannya di money changer, memperoleh sekitar Rp 35.000.000. Uang tersebut digunakan untuk membeli barang elektronik dan keperluan sehari-hari.  Atas perbuatannya, Ni Putu Mei Sapitri didakwa dengan dakwaan primair Pasal 362 KUHP tentang pencurian. Sebagai dakwaan subsidair, ia didakwa dengan Pasal 480 Ayat (2) KUHP tentang penadahan, karena menikmati keuntungan dari barang yang diketahui atau patut diduga diperoleh dari kejahatan. Akibat perbuatan terdakwa, Evgenii Verestnikov mengalami kerugian sekitar Rp 35.000.000.",
         "NI PUTU MEI SAPITRI",
         "18.0"
        ],
        [
         "39",
         "0",
         "22",
         "8",
         "4",
         "1 (satu) Unit Sepeda Motor Merk Suzuki FU warna hitam ungu dengan nomor polisi N 2359 TBA, nomor rangka tidak ada dan Nomor Mesin G420ID404501 Dirampas untuk negara 1 (satu) buah helm warna putih tanpa kaca 1 (satu) buah HP merk Vivo warna casing biru glosy 1 (satu) buah baju kaos warna putih bertuliskan relawan jaya giri 1 (satu) buah celana pendek warna hitam Dirampas untuk dimusnahkan 1 (satu) buah buku BPKB No. K-13109959 atas nama pemilik I MADE WERDI GUNA untuk kendaraan Sepeda Motor Honda Vario Warna White Silver DK 3493 KAM, Nomor rangka MH1JFB122EK302944, Nomor Mesin JFB1E2250553 Dikembalikan kepada Saksi I GEDE WERDI GUNA, ST Membebankan kepada Terdakwa untuk membayar biaya perkara sejumlah Rp 5000,00 (lima ribu rupiah)",
         "Leonardo Mautede alias Ronal didakwa atas tindak pidana pencurian dengan pemberatan dan penadahan. Pada hari Kamis, 4 Januari 2024, korban I Made Werdi Guna, ST mencuci motornya di Kumba Car Wash dengan kunci kontak masih terpasang. Keesokan harinya, 5 Januari 2024, sekitar pukul 19.00 WITA, terdakwa yang bekerja di tempat cuci motor tersebut mengambil motor korban tanpa izin dan membawanya ke kos temannya, Antonius Tauwaleku Praing alias Toni. Di sana, terdakwa melepas plat nomor, kaca spion, dan merusak bagian motor.  Terdakwa bermaksud menukar motor curian tersebut dengan motor Suzuki FU milik Feriyanto alias Wahyu. Pada 7 Januari 2024, sekitar pukul 22.00 WITA, terdakwa dan Feriyanto bertemu di Denpasar Utara dan melakukan pertukaran. Motor curian tersebut kemudian dijual oleh Feriyanto.  Atas perbuatannya, Leonardo Mautede didakwa dengan dakwaan primair Pasal 363 Ayat (1) ke-5 KUHP tentang pencurian dengan pemberatan. Sebagai dakwaan subsidair, ia didakwa dengan Pasal 362 KUHP tentang pencurian. Selain itu, ia juga didakwa dengan Pasal 480 ke-1 KUHP tentang penadahan. Akibat perbuatan terdakwa, I Made Werdi Guna, ST mengalami kerugian sebesar Rp 16.000.000.",
         "LEONARDO MAUTEDE Als. RONAL",
         "14.0"
        ],
        [
         "106",
         "0",
         "22",
         "12",
         "5",
         "1 (satu) unit Sepeda motor merk Honda Beat warna ungu (Stiker), nomor polisi DK 6724 EIB (Palsu), tahun 2018, nomor rangka MH1JFZ126JK872805, nomor mesin JFZ1E-2871308 1 (satu) buah buku BPKB sepeda motor Honda Beat tahun 2018, DK 2067 TH, warna hitam, nomor rangka MH1JFZ126JK872805, nomor mesin JFZ1E-2871308, atas nama I MADE KARIADA, alamat Banjar Dinas Kihkian Desa Abang Kecamatan Abang Kabupaten Karangasem, Nomor BPKB O-03371886 1 (satu) buah Flasdisk merk Sandisk warna hitam kombinasi merah Dikembalikan kepada Saksi I Made Kariada 1 (satu) Unit Sepeda Motor Merk Yamaha/2D-RA A/T TAHUN PEMBUATAN 2018, warna Hitam, nomor polisi DK 4820 FAQ, nomor rangka MH3SG3180JK029708, nomor mesin G3E4E0978325, nomor BPKB 004525988-O, STNK atas nama I MADE DUDI alamat Jl. Raya Kuta Gg. Cempaka No.7 Lingk, Abianbase Kuta Badung 1 (satu) Lembar STNK Sepeda Motor Merk Yamaha/2D-RA A/T TAHUN PEMBUATAN 2018, warna Hitam, nomor polisi DK 4820 FAQ, nomor rangka MH3SG3180JK029708, nomor mesin G3E4E0978325, nomor BPKB 004525988-O, STNK atas nama I MADE DUDI alamat Jl. Raya Kuta Gg. Cempaka No.7 Lingk, Abianbase Kuta Badung 1 (satu) Buah BPKB Nomor 004525988-O, Sepeda Motor Merk Yamaha/2D-RA A/T TAHUN PEMBUATAN 2018, warna Hitam, nomor polisi DK 4820 FAQ, nomor rangka MH3SG3180JK029708, nomor mesin G3E4E0978325, atas nama I MADE DUDI, alamat Jl. Raya Kuta Gg. Cempaka No.7 Lingk, Abianbase Kuta Badung 1 (satu) buah kunci kontak Sepeda Motor Yamaha N-Max. Dikembalikan kepada Saksi I Made Dudi  6. Membebankan kepada Terdakwa membayar biaya perkara sejumlah Rp5.000,00 (Lima ribu Rupiah)",
         "Yules Umbu Sakala didakwa atas tindak pidana pencurian dengan pemberatan yang dilakukan secara bersama-sama dalam dua kejadian terpisah. Kejadian pertama terjadi pada hari Rabu, 21 Desember 2022, sekitar pukul 01.00 WITA, di sebuah rumah kos di Ketewel, Sukawati, Gianyar. Terdakwa bersama Petrus (DPO) mengambil sepeda motor Honda Beat milik I Made Kariada.  Mereka melihat gerbang rumah kos terbuka dan sepeda motor dalam keadaan tidak terkunci stang. Terdakwa mengambil sepeda motor tersebut dengan cara mendorongnya keluar dari rumah kos. Sepeda motor tersebut kemudian dibawa ke kos Petrus dan diubah penampilannya dengan stiker dan penggantian pelat nomor polisi.  Kejadian kedua terjadi pada hari Kamis, 12 Januari 2023, sekitar pukul 02.00 WITA, di Villa Padi, Lodtunduh, Ubud, Gianyar. Terdakwa bersama Petrus mengambil sepeda motor Yamaha N-Max milik I Made Dudi.  Mereka melihat sepeda motor tersebut terparkir di garasi villa tanpa kunci stang. Terdakwa mendorong sepeda motor tersebut keluar dari garasi. Saat hendak menjual sepeda motor tersebut, terdakwa ditangkap oleh polisi, sementara Petrus berhasil melarikan diri.  Tujuan terdakwa mengambil sepeda motor pertama adalah untuk digunakan sehari-hari, sedangkan sepeda motor kedua rencananya akan dijual. Perbuatan terdakwa dilakukan tanpa izin dari pemilik sepeda motor.  Akibat perbuatan terdakwa, I Made Kariada mengalami kerugian Rp 11.000.000, dan I Made Dudi mengalami kerugian Rp 28.000.000.  Atas perbuatannya, Yules Umbu Sakala didakwa dengan dakwaan primair Pasal 363 Ayat (2) KUHP Jo. Pasal 65 Ayat (1) KUHP tentang pencurian dengan pemberatan yang dilakukan berulang. Sebagai dakwaan subsidair, ia didakwa dengan Pasal 363 Ayat (1) Ke-4 KUHP Jo. Pasal 65 Ayat (1) KUHP tentang pencurian dengan pemberatan yang dilakukan berulang.",
         "YULES UMBU SAKALA",
         "38.0"
        ],
        [
         "96",
         "0",
         "22",
         "12",
         "3",
         "1 (satu) buah gunting besi 1 (satu) buah alat pemotong besi merk Maktec 115 (seratus lima belas) batang besi ukuran 16 ulir panjang 12 (dua belas) meter 44 (empat puluh empat) batang besi ukuran 8 polos panjang 12 (dua belas) meter 4 (empat) buah cakar ayam 1 (satu) roll kawat bendrat 2 (dua) buah ember water proofing 1 (satu) buah Stamper/alat pemadat tanah 18 (delapan belas ) lembar triplek ukuran 9 mm 2 (dua) sak semen merk Dynamix 1 (satu) buah besi kolom yang sudah dirangkai dengan panjang 4 (empat) meter 1 (satu) buah HP merk realme C 20, warna biru Dikembalikan kepada CV. BUDI DARMA PUTRA melalui Saksi I PUTU ARI PURNAWAN, S.T., Membebankan kepada Para Terdakwa untuk membayar biaya perkara masing-masing sebesar Rp.5.000,00 (Lima ribu Rupiah)",
         "Ramdan, Robi Mulyana, dan Aldi Syiaputra didakwa atas tindak pidana pencurian dengan pemberatan yang dilakukan secara bersama-sama. Pada hari Selasa, 28 Februari 2023, sekitar pukul 23.30 WITA, di proyek bangunan Villa Casa Home Villa, Singapadu, Sukawati, Gianyar, mereka mengambil sejumlah barang milik CV. Budi Darma Putra.  Para terdakwa yang bekerja sebagai buruh di proyek tersebut, bersama dengan rekan kerja lainnya (DPO), sepakat untuk mengambil barang-barang proyek karena gaji mereka belum dibayar. Barang-barang yang diambil antara lain besi, triplek, semen, dan alat-alat proyek lainnya.  Barang-barang tersebut kemudian dijual kepada seorang tukang rongsokan seharga Rp 13.000.000, yang kemudian dibagi rata. Setiap terdakwa mendapatkan Rp 2.000.000, yang digunakan untuk membeli barang pribadi dan kebutuhan sehari-hari.  Perbuatan para terdakwa dilakukan tanpa izin dari pemilik barang, yaitu CV. Budi Darma Putra. Akibat perbuatan mereka, CV. Budi Darma Putra mengalami kerugian sekitar Rp 40.000.000.  Atas perbuatannya, Ramdan, Robi Mulyana, dan Aldi Syiaputra didakwa dengan dakwaan primair Pasal 363 Ayat (2) KUHP tentang pencurian dengan pemberatan. Sebagai dakwaan subsidair, mereka didakwa dengan Pasal 363 Ayat (1) Ke-4 KUHP tentang pencurian dengan pemberatan.",
         "ROBI MULYANA",
         "12.0"
        ],
        [
         "99",
         "0",
         "22",
         "12",
         "5",
         "1 (satu) unit sepeda motor Yamaha Mio Warna Hitam No. Pol DK 2162 LI, tahun 2006, Nomor Rangka MH35TL0046K376167, Nomor Mesin 5TL376215 1 (satu) buah kunci kontak sepeda motor Merk Yamaha Mio warna hitam Nopol DK 2162 LI, Tahun 2006 Nosin 5TL376215 Noka MH35TL0046K376167 1 (satu) buah STNK sepeda motor Yamaha Mio Warna Hitam No. Pol DK 2162 LI, tahun 2006, Nomor Rangka MH35TL0046K376167, Nomor Mesin 5TL376215, STNK atas nama NI WAYAN DARSINI. Dikembalikan kepada saksi I Ketut Sugitra 1 (satu) buah kunci kontak duplikat sepeda motor. Dirampas Untuk Dimusnahkan  6. Membebankan kepada Terdakwa untuk membayar biaya perkara sebesar Rp5.000,00 (Lima ribu Rupiah).",
         "Ardian Narendra Saputra didakwa atas tindak pidana pencurian dengan pemberatan yang dilakukan secara bersama-sama. Pada hari Minggu, 22 Januari 2023, sekitar pukul 01.00 WITA, di area parkir RSUD Sanjiwani, Gianyar, terdakwa bersama Yanuar Pungkas Santoso alias Ipung (dalam berkas perkara terpisah) mengambil sepeda motor Yamaha Mio milik I Ketut Sugitra.  Awalnya, setelah selesai bekerja, terdakwa dan Ipung berencana membeli makan. Saat melintas di depan RSUD Sanjiwani, Ipung mengajak terdakwa untuk masuk ke area parkir rumah sakit. Ipung kemudian mengambil sepeda motor Yamaha Mio yang kuncinya longgar dengan menggunakan kunci sepeda motor Mio Soul yang dibawanya.  Terdakwa berperan mengawasi situasi di depan pintu gerbang area parkir. Setelah Ipung berhasil menyalakan sepeda motor curian, mereka pergi ke tempat tinggal proyek di Denpasar.  Perbuatan mereka dilakukan tanpa izin dari pemilik sepeda motor. Akibat perbuatan tersebut, I Ketut Sugitra mengalami kerugian sebesar Rp 3.500.000.  Atas perbuatannya, Ardian Narendra Saputra didakwa dengan dakwaan primair Pasal 363 Ayat (1) ke-4 dan ke-5 KUHP tentang pencurian dengan pemberatan. Sebagai dakwaan subsidair, ia didakwa dengan Pasal 362 Jo. Pasal 56 Ke-2 KUHP tentang membantu melakukan pencurian.",
         "ARDIAN NARENDRA SAPUTRA",
         "19.0"
        ],
        [
         "97",
         "0",
         "22",
         "12",
         "3",
         "1 (satu) buah gunting besi 1 (satu) buah alat pemotong besi merk Maktec 115 (seratus lima belas) batang besi ukuran 16 ulir panjang 12 (dua belas) meter 44 (empat puluh empat) batang besi ukuran 8 polos panjang 12 (dua belas) meter 4 (empat) buah cakar ayam 1 (satu) roll kawat bendrat 2 (dua) buah ember water proofing 1 (satu) buah Stamper/alat pemadat tanah 18 (delapan belas ) lembar triplek ukuran 9 mm 2 (dua) sak semen merk Dynamix 1 (satu) buah besi kolom yang sudah dirangkai dengan panjang 4 (empat) meter 1 (satu) buah HP merk realme C 20, warna biru Dikembalikan kepada CV. BUDI DARMA PUTRA melalui Saksi I PUTU ARI PURNAWAN, S.T., Membebankan kepada Para Terdakwa untuk membayar biaya perkara masing-masing sebesar Rp.5.000,00 (Lima ribu Rupiah)",
         "Ramdan, Robi Mulyana, dan Aldi Syiaputra didakwa atas tindak pidana pencurian dengan pemberatan yang dilakukan secara bersama-sama. Pada hari Selasa, 28 Februari 2023, sekitar pukul 23.30 WITA, di proyek bangunan Villa Casa Home Villa, Singapadu, Sukawati, Gianyar, mereka mengambil sejumlah barang milik CV. Budi Darma Putra.  Para terdakwa yang bekerja sebagai buruh di proyek tersebut, bersama dengan rekan kerja lainnya (DPO), sepakat untuk mengambil barang-barang proyek karena gaji mereka belum dibayar. Barang-barang yang diambil antara lain besi, triplek, semen, dan alat-alat proyek lainnya.  Barang-barang tersebut kemudian dijual kepada seorang tukang rongsokan seharga Rp 13.000.000, yang kemudian dibagi rata. Setiap terdakwa mendapatkan Rp 2.000.000, yang digunakan untuk membeli barang pribadi dan kebutuhan sehari-hari.  Perbuatan para terdakwa dilakukan tanpa izin dari pemilik barang, yaitu CV. Budi Darma Putra. Akibat perbuatan mereka, CV. Budi Darma Putra mengalami kerugian sekitar Rp 40.000.000.  Atas perbuatannya, Ramdan, Robi Mulyana, dan Aldi Syiaputra didakwa dengan dakwaan primair Pasal 363 Ayat (2) KUHP tentang pencurian dengan pemberatan. Sebagai dakwaan subsidair, mereka didakwa dengan Pasal 363 Ayat (1) Ke-4 KUHP tentang pencurian dengan pemberatan.",
         "ALDI SYIAPUTRA",
         "12.0"
        ],
        [
         "65",
         "0",
         "23",
         "8",
         "3",
         "1 (satu) lembar STNK Sepeda Motor Merk Honda, Type NF 100 D (Supra X), Nomor Polisi DK 3185 KZ, Tahun Pembuatan 2003, Warna Hitam Biru, Nomor Rangka MH1KEVA183K623206, Nomor Mesin KEVAE1621290, atas nama NI KETUT SUCIATI dengan alamat Br. Sumampan Kemenuh Sukawati Gianyar 1 (satu) buah Buku Pemilik Kendaraan Bermotor (BPKB) Nomor C 65796910 dengan identitas Sepeda Motor Merk Honda, Type NF 100 D (Supra X), Nomor Polisi DK 3185 KZ, Tahun Pembuatan 2003, Warna Hitam Biru, Nomor Rangka MH1KEVA183K623206, Nomor Mesin KEVAE1621290, atas nama NI KETUT SUCIATI dengan alamat Br. Sumampan Kemenuh Sukawati Gianyar 1 (satu) unit Sepeda Motor Merk Honda, Type NF 100 D (Supra X), Tahun Pembuatan 2003, Warna Hitam, Nomor Rangka MH1KEVA183K623206, Nomor Mesin KEVAE1621290, tanpa Nomor Polisi. Berikut dengan kunci kontak sepeda motor dimaksud 2 (dua) buah plat Nomor Polisi Sepeda Motor dengan Nomor Polisi DK 3185 KZ 1 (satu) buah Handle belakang Sepeda Motor Honda Supra X Dikembalikan kepada pemilik yang berhak yaitu saksi Sodikin 1 (satu) buah helm warna Hitam berisi lambang HARLEY DAVIDSON di bagian depan helm 1 (satu) potong jaket Jeans warna Hitam 1 (satu) potong baju kemeja lengan pendek warna putih merk D-TROY 1 (satu) potong celana panjang kain warna Krem Dirampas untuk dimusnahkan Membebankan kepada Terdakwa untuk membayar biaya perkara sejumlah Rp 5000,00 (lima ribu rupiah)",
         "Engki Wongu Langu didakwa atas tindak pidana pencurian dengan pemberatan. Pada hari Minggu, 17 Desember 2023, sekitar pukul 23.00 WITA, di garasi rumah kos di Kemenuh, Sukawati, Gianyar, terdakwa mengambil sepeda motor Honda Supra X milik Sodikin.  Terdakwa datang ke rumah kos tersebut untuk menemui temannya. Saat melewati garasi, ia melihat sepeda motor korban terparkir dengan kunci masih menempel. Terdakwa kemudian mendorong sepeda motor tersebut keluar dari garasi dan menyalakannya.  Setelah berhasil membawa kabur sepeda motor tersebut, terdakwa membawanya ke kos sepupunya di Sesetan. Keesokan harinya, terdakwa melepas plat nomor polisi, stiker, dan pegangan belakang sepeda motor tersebut. Ia kemudian menggunakan sepeda motor tersebut untuk kegiatan sehari-hari.  Atas perbuatannya, Engki Wongu Langu didakwa dengan dakwaan primair Pasal 363 ayat (1) ke-3 KUHP tentang pencurian dengan pemberatan. Sebagai dakwaan subsidair, ia didakwa dengan Pasal 362 KUHP tentang pencurian. Akibat perbuatan terdakwa, Sodikin mengalami kerugian sekitar Rp 3.500.000.",
         "ENGKI WONGU LANGU",
         "12.0"
        ],
        [
         "41",
         "0",
         "23",
         "9",
         "3",
         "1 (satu) ekor burung murai batu medan yang berisi ring dikaki kanan dengan tulisn BF 022 1 (satu) buah sangkar burung serta tutup kerudung kain warna biru muda Dikembalikan kepada pemiliknya yaitu saksi I Gusti Ngurah Putu Widiantara 1 (satu) unit sepeda motor Honda Beat warna merah putih dengan plat nomer DK 3948 UAC serta STNK dan kunci kontak Dikembalikan kepada pemiliknya yaitu yaitu saksi Gede Edi Gunawan Membebankan kepada Terdakwa membayar biaya perkara masing-masing sejumlah Rp5000,00 (lima ribu rupiah)",
         "Terdakwa, Subari, didakwa atas tindak pidana pencurian yang terjadi pada hari Sabtu, 20 April 2024, sekitar pukul 01.00 WITA di rumah I Gusti Ngurah Putu Widiantara di Ubud. Terdakwa, yang datang dari tempat kosnya di Badung, memasuki halaman rumah korban melalui gerbang yang tidak terkunci. Kemudian, ia mengambil sangkar burung murai batu milik korban yang tergantung di teras rumah.  Setelah mengambil burung tersebut, terdakwa membawanya ke tempat kosnya. Pada tanggal 1 Mei 2024, terdakwa memposting burung murai batu curian tersebut di Facebook untuk dijual seharga Rp 1.000.000. Korban, yang mencari burungnya di media sosial, menemukan postingan tersebut dan berpura-pura membeli burung tersebut. Saat transaksi COD (Cash On Delivery) di tempat kos terdakwa, petugas kepolisian menangkap terdakwa.  Atas perbuatannya, Subari didakwa dengan dakwaan primair Pasal 363 ayat (1) ke-3 KUHP tentang pencurian dengan pemberatan. Sebagai dakwaan subsidair, ia didakwa dengan Pasal 362 KUHP tentang pencurian. Akibat perbuatan terdakwa, I Gusti Ngurah Putu Widiantara mengalami kerugian sekitar Rp 4.000.000.",
         "SUBARI",
         "18.0"
        ],
        [
         "42",
         "0",
         "24",
         "8",
         "2",
         "1 (satu) lembar STNK Sepeda Motor Merk Honda, Type N125 D (KARISMA 125 D), Nomor Polisi DK 4606 LD, Tahun Pembuatan 2005, Warna Silver Biru, Nomor Rangka MH1JB22195K366416, Nomor Mesin JB221365610, STNK atas nama NI KADEK SUARTINI dengan alamat Br. Pagutan Klod Batubulan Sukawati Gianyar 1 (satu) buah BPKB Sepeda Motor Merk Honda, Type NF125 D (KARISMA 125 D), Nomor Polisi DK 4606 LD, Tahun Pembuatan 2005, Warna Silver Biru, Nomor Rangka MH1JB22195K366416, Nomor Mesin JB221365610, STNK atas nama NI KADEK SUARTINI dengan alamat Br. Pagutan Klod Batubulan Sukawati Gianyar 1 (satu) buah Flashdisk yang berisi rekaman CCTV yang terpasang di dekat tempat kejadian pencurian, yang dalam rekaman CCTV tersebut terekam pada saat tersangka mengendarai sepeda motor milik korban yang berhasil tersangka curi 1 (satu) unit Sepeda Motor Merk Honda, Type NF125 D (KARISMA 125 D), tanpa Nomor Polisi, Tahun Pembuatan 2005, Warna Silver Biru, Nomor Rangka MH1JB22195K366416, Nomor Mesin JB221365610, STNK atas nama NI KADEK SUARTINI dengan alamat Br. 1 (satu) buah helm standard warna hitam Dikembalikan kepada saksi Mohammad Slamet 1 (satu) potong baju kaos lengan pendek warna abu abu yang di dada depan berisi tulisan KARMA HAS NO DEADLINE 1 (satu) potong celana pendek yang terbuat dari kain warna biru dongker 1 (satu) buah tas selempang warna hitam merk FENGBAODAISHU Dirampas untuk dimusnahkan Membebankan kepada Terdakwa untuk membayar biaya perkara sejumlah Rp 5000,00 (lima ribu rupiah)",
         "Terdakwa, Ahmad Marsuki, didakwa atas tindak pidana pencurian dengan pemberatan yang terjadi pada hari Jumat, 26 April 2024, sekitar pukul 15.30 WITA di sebuah rumah kost di Singapadu, Sukawati, Gianyar. Terdakwa mengambil sepeda motor Honda Karisma 125 milik Mohamad Slamet yang terparkir di depan kamar kost korban.  Saat korban sedang tidur, terdakwa melihat sepeda motor dengan kunci yang masih terpasang. Timbul niat untuk mengambilnya, terdakwa langsung menaiki motor dan membawanya kabur. Aksi terdakwa terekam oleh CCTV yang terpasang di tempat kost tersebut.  Atas perbuatannya, Ahmad Marsuki didakwa dengan dakwaan primair Pasal 363 Ayat (1) ke-5 KUHP tentang pencurian dengan pemberatan. Sebagai dakwaan subsidair, ia didakwa dengan Pasal 362 KUHP tentang pencurian. Akibat perbuatan terdakwa, Mohamad Slamet mengalami kerugian sekitar Rp 5.000.000.",
         "AHMAD MARSUKI",
         "22.0"
        ],
        [
         "43",
         "0",
         "25",
         "8",
         "3",
         "1 (unit) HP Merk Redmi 10C warna biru berikut Cargernya 1 (satu) buah mesin Bor Merk Maktec warna orange 1 (satu) buah mesin serut Merk Makita warna biru Dikembalikan kepada Saksi Korban AGUS SUBAGYONO 1 (satu) buah palu besi gagang warna hijau kombinasi hitam 1 (satu) Pcs celana panjang kain warna biru dongker Dirampas oleh Negara untuk dimusnahkan Membebankan kepada Terdakwa untuk membayar biaya perkara sejumlah Rp 5000,00 (lima ribu rupiah)",
         "Yoga Saputra didakwa atas tindak pidana pencurian dengan pemberatan yang terjadi pada hari Senin, 8 April 2024, sekitar pukul 01.30 WITA di kamar mes PT. Satria Cipta Asta Kencana, Sukawati, Gianyar. Terdakwa memasuki area perusahaan melalui semak-semak dan menuju kamar Agus Subagyono yang tidak memiliki pintu.  Di dalam kamar, terdakwa mengambil ponsel Redmi 10C milik Agus Subagyono beserta pengisi dayanya, serta mesin bor dan mesin serut dari dalam lemari. Terdakwa mencongkel engsel lemari menggunakan palu agar korban tidak terbangun.  Ponsel tersebut kemudian digunakan oleh terdakwa setelah mengganti kartu SIM, sementara mesin bor dan serut dijual kepada tukang rongsokan seharga Rp 200.000. Uang hasil penjualan digunakan untuk keperluan sehari-hari. Terdakwa ditangkap pada 27 April 2024 di mes rumah makan tempatnya bekerja.  Atas perbuatannya, Yoga Saputra didakwa dengan dakwaan primair Pasal 363 Ayat (2) KUHP tentang pencurian dengan pemberatan. Sebagai dakwaan subsidair, ia didakwa dengan Pasal 363 Ayat (1) ke-5 KUHP, dan lebih subsidair dengan Pasal 362 KUHP tentang pencurian. Akibat perbuatan terdakwa, Agus Subagyono mengalami kerugian sekitar Rp 3.200.000.",
         "YOGA SAPUTRA",
         "10.0"
        ],
        [
         "58",
         "0",
         "25",
         "11",
         "4",
         "- 1 (satu) unit sepeda motor Honda vario 150 warna hitam pembuatan tahun 2015 nomor rangka MH1KF1116FK270913 nomor mesin KF11E1279359 nomor polisi DK 4096 AL atas nama NI KOMANG NANDA RAHAYU - 1 (satu) buah kunci sepeda motor merek Honda vario warna hitam. Dikembalikan kepada Saksi Korban Ni Komang Nanda Rahayu - 1 (satu) unit sepeda motor merek Honda astrea star warna hitam - 1 (satu) buah kunci sepeda motor merek Honda astrea star warna hitam - 1 (satu) buah handphone merk infinix warna biru Dikembalikan kepada Terdakwa 6. Membebankan kepada Terdakwa membayar biaya perkara sebesar Rp5.000,00 (lima ribu rupiah)",
         "Ida Bagus Rai Suarna didakwa atas tindak pidana pencurian. Pada hari Jumat, 12 Januari 2024, sekitar pukul 16.00 WITA, di depan Pura Titiapi, Tampaksiring, Gianyar, terdakwa mengambil sepeda motor Honda Vario milik I Made Selamet Sanjaya.  Seminggu sebelumnya, terdakwa menemukan kunci kontak dengan remote di arena sabung ayam Payangan. Pada 12 Januari 2024, ia pergi ke arena tajen di depan Pura Titiapi. Karena tiket masuknya terlalu mahal, terdakwa teringat kunci kontak yang ia temukan. Ia mencoba menekan remote dan menemukan sepeda motor yang cocok.  Terdakwa kemudian membawa sepeda motor tersebut dan menyembunyikannya. Setelah itu, ia kembali ke arena tajen untuk mengambil sepeda motornya sendiri. Terdakwa berencana menjual sepeda motor curian tersebut di Denpasar. Namun, saat bertemu dengan calon pembeli, ia tidak dapat menunjukkan surat-surat kendaraan, dan akhirnya diamankan oleh pihak kepolisian.  Atas perbuatannya, Ida Bagus Rai Suarna didakwa dengan Pasal 362 KUHP tentang pencurian. Akibat perbuatan terdakwa, I Made Selamet Sanjaya mengalami kerugian sekitar Rp 22.000.000.",
         "IDA BAGUS RAI SUARNA",
         "6.0"
        ],
        [
         "72",
         "0",
         "26",
         "8",
         "5",
         "1 (satu ) gulung kabel berwarna putih merk perdana sound system 2 x 0,75 m2dengan panjang kabel 48 meter 1 (satu) buah obeng (-) dengan gagang warna kuning 1 (satu) gulung kabel berwarna putih merk SPC Coaxial System RG59 26/2 dengan Panjang kabel 34 meter 1 (satu) gulung kabel berwarna hitam dengan merk miko cable C4/PVC/PVC-1 2 x 1,5mm2 dengan panjang kabel 24 meter 5 (lima) buah lampu merk LED Flood Light 100W 3000K 2 (dua) buah lampu merk Lanbo 100W LED LP66 3 (tiga) buah lampu merk Himawari LP65 F x 5100 100W AC190V 265V Dikembalikan kepada PT. JEGHIER melalui Saksi I WAYAN ARJANA 2 (dua) buah karung beras bekas warna putih 1 (satu) buah Gum/Tang pencabut paku dengan gagang dibalut karet warna hitam Dirampas untuk dimusnahkan 8. Membebankan kepada Para Terdakwa membayar biaya perkara masing-masing sejumlah Rp5000,00 (lima ribu rupiah)",
         "Moh Sholihin Alias Lihin dan Subhan didakwa atas tindak pidana pencurian dengan pemberatan yang dilakukan secara bersama-sama. Pada hari Selasa, 14 November 2023, sekitar pukul 01.00 WITA, di Areal Proyek Hotel Hiliwatu, Payangan, Gianyar, mereka mencuri lampu halogen LED dan gulungan kabel milik PT. JEGHIER.  Kedua terdakwa, yang bekerja sebagai buruh proyek, merencanakan pencurian tersebut pada malam sebelumnya. Mereka mengambil barang-barang tersebut dengan cara memotong kabel lampu menggunakan tang dan memasukkan gulungan kabel ke dalam karung. Barang-barang curian tersebut disembunyikan di bawah pohon bambu.  Pada tanggal 17 November 2023, kedua terdakwa diamankan oleh saksi-saksi karena dicurigai membawa karung berisi barang-barang curian. Setelah diinterogasi, mereka mengakui perbuatannya.  Atas perbuatannya, Moh Sholihin Alias Lihin dan Subhan didakwa dengan dakwaan primair Pasal 363 Ayat (2) KUHP tentang pencurian dengan pemberatan. Sebagai dakwaan subsidair, mereka didakwa dengan Pasal 363 Ayat (1) Ke-4 KUHP. Akibat perbuatan terdakwa, PT. JEGHIER mengalami kerugian sekitar Rp 3.000.000.",
         "SUBHAN",
         "10.0"
        ],
        [
         "73",
         "0",
         "26",
         "8",
         "2",
         "1 (satu) lembar fotokopi BPKB sepeda motor, Nomor BPKB D 8085897-O, merek Honda, nomor Polisi DK 3601 LG, tahun 2006, warna Hitam, nomor rangka MH1HB41166K225753, nomor mesin HB41E-1239321, nama pemilik JOGO PURWOKO, Alamat Br. Tojan Tegal, Pering, Blahbatuh, Gianyar yang sudah dileges 1 (satu) lembar STNK sepeda motor merk Honda, nomor registrasi DK-3601-LG, warna hitam, tahun 2006, nomor rangka MH1HB41166K225753, nomor mesin HB41E1239321, nomor BPKB D 8085897-O, nama pemilik JOGO PURWOKO, Alamat Br. Tojan Tegal Pering Blahbatuh Gianyar 1 (satu) unit Sepeda Motor merk Honda Supra Fit warna hitam tanpa plat nomor polisi dengan nomor rangka MH1HB41166K225753, nomor mesin HB41E1239321 beserta kunci kontaknya 1 (satu) buah BPKB sepeda motor, Nomor BPKB D 8085897-O, merek Honda, nomor Polisi DK 3601 LG, tahun 2006, warna Hitam, nomor rangka MH1HB41166K225753, nomor mesin HB41E-1239321, nama pemilik JOGO PURWOKO, Alamat Br. Tojan Tegal, Pering, Blahbatuh, Gianyar 1 (satu) lembar faktur AHM PT Astra Honda Motor No. FH/AD /002313/E tanggal 15 Februari 2006  Dikembalikan kepada Saksi Jogo Purwoko Membebani Terdakwa untuk membayar biaya perkara sebesar Rp 5,000,00 (lima ribu rupiah)",
         "Komang Arimbawa didakwa atas tindak pidana pencurian dengan pemberatan. Pada hari Jumat, 24 Februari 2023, sekitar pukul 09.45 WITA, di pinggir jalan Baypass Ida Bagus Mantra, Saba, Gianyar, terdakwa mengambil sepeda motor Honda Supra Fit milik Jogo Purwoko.  Terdakwa melihat sepeda motor korban terparkir di pinggir jalan dengan kunci kontak masih menempel. Ia kemudian menyeberang jalan dan mengambil sepeda motor tersebut.  Setelah membawa kabur sepeda motor tersebut, terdakwa melepas plat nomor polisi dan membuangnya ke saluran air. Ia kemudian membawa sepeda motor tersebut ke rumahnya di Pujungan, Tabanan.  Terdakwa berencana menggunakan sepeda motor tersebut untuk kegiatan sehari-hari atau menjualnya untuk memenuhi kebutuhan hidup.  Atas perbuatannya, Komang Arimbawa didakwa dengan dakwaan primair Pasal 363 Ayat (1) Ke-5 KUHP tentang pencurian dengan pemberatan. Sebagai dakwaan subsidair, ia didakwa dengan Pasal 362 KUHP tentang pencurian. Akibat perbuatan terdakwa, Jogo Purwoko mengalami kerugian sekitar Rp 4.000.000.",
         "I KOMANG ARIMBAWA",
         "22.0"
        ],
        [
         "44",
         "0",
         "26",
         "10",
         "3",
         "1 (satu) Buah Foto Copy yang dilegalisir BPKB satu unit motor merk Honda Vario 125cc tahun 2019 warna Merah, dengan Noka MH1JM4110KK467749, dengan Nosin JM41E1467138 an. PUTU EKA ATATIKA Surat Penyewaan Motor Vario 125 DK 5352 KAR, tanggal 11 September 2023 1 (satu) unit sepeda motor Merek Honda Vario 125 warna merah No. Pol DK 5352 KAR Nosin JM41E1467138 Noka MH1JM4110KK467749 Dikembalikan kepada saksi Putu Eka Atatika 1 (satu) buah kunci bertuliskan Honda warna Hitam Dirampas untuk dimusnahkan 6. Membebankan kepada Terdakwa membayar biaya perkara sejumlah Rp5.000,00 (lima ribu rupiah)",
         "Edi Sudadang didakwa atas tindak pidana pencurian dengan pemberatan yang dilakukan bersama-sama dengan Mulasim alias Mul (DPO). Pada hari Senin, 1 April 2024, sekitar pukul 23.30 WITA, di area parkir Villa Nyoman, Ubud, Gianyar, mereka mencuri sepeda motor Honda Vario 125 milik Putu Eka Atatika.  Sebelumnya, Edi Sudadang diajak oleh Mulasim (DPO) untuk mencuri sepeda motor di Bali. Edi Sudadang membawa kunci T dari rumah Mulasim di Probolinggo, Jawa Timur. Mereka kemudian bersama-sama mendorong motor korban dari tempat parkir, dan Edi Sudadang menghidupkan motor tersebut dengan kunci T.  Setelah berhasil mencuri motor, mereka membawanya ke Probolinggo. Di sana, motor tersebut diserahkan kepada Edi Sudadang, dan ia memberikan uang sebesar Rp 2.500.000 kepada Mulasim (DPO).  Atas perbuatannya, Edi Sudadang didakwa dengan Pasal 363 ayat (1) ke-4 dan ke-5 KUHP tentang pencurian dengan pemberatan yang dilakukan oleh dua orang atau lebih dengan bersekutu, dan menggunakan kunci palsu. Akibat perbuatan terdakwa, Putu Eka Atatika mengalami kerugian sekitar Rp 20.000.000.",
         "EDI SUDADANG",
         "12.0"
        ],
        [
         "63",
         "0",
         "26",
         "11",
         "1",
         "1 (satu) unit sepeda motor jenis honda vario, Nopol DK 2008 LY, Noka MH1JF12187K237665, Nosin JF12E1241100, Warna Hitam, atas nama pemilik DEWA MADE NGURAH beserta kunci kontak 1 (satu) lembar STNK sepeda motor jenis honda vario, Nopol DK 2008 LY, Noka MH1JF12187K237665, Nosin JF12E1241100, Warna Hitam, atas nama pemilik DEWA MADE NGURAH Dikembalikan kepada pemiliknya yakni saksi DEWA MADE NGURAH  1 (satu) unit sepeda motor jenis honda Scoopy, Nopol DK 5723 PM Noka MH1JFL118FK249651 Nosin JFL1E-1244886, warna krem cokelat tahun 2015 atas nama pemilik I DEWA AYU MADE EVI PADMA YANTI beserta kunci kontak Dikembalikan kepada pemiliknya melalui Terdakwa I BAIHAQI 6. Membebankan kepada Para Terdakwa membayar biaya perkara masing-masing sejumlah Rp5000,00 (lima ribu rupiah)",
         "Baihaqi dan Saddam Husein didakwa atas tindak pidana pencurian dengan pemberatan yang dilakukan secara bersama-sama. Pada hari Senin, 11 Desember 2023, sekitar pukul 22.30 WITA, di Jalan Raya Siangan, Gianyar, mereka mencoba mencuri sepeda motor Honda Vario milik Dewa Made Ngurah.  Kedua terdakwa, yang sedang dalam perjalanan pulang dari Pasar Pejeng, melihat deretan sepeda motor terparkir di garasi Dewa Made Ngurah. Saddam Husein kemudian berinisiatif untuk mengambil salah satu sepeda motor tersebut.  Mereka berbalik arah dan berhenti di dekat garasi. Saddam Husein masuk ke garasi dan mencoba menyalakan sepeda motor Honda Vario, sementara Baihaqi mengawasi situasi. Karena gagal menyalakan sepeda motor, mereka menuntun sepeda motor tersebut keluar dari garasi dan membawanya pergi.  Aksi mereka diketahui oleh saksi Pande I Kadek Juni Adinata dan Sang Made Widarma. Setelah memberikan jawaban yang berbelit-belit, kedua terdakwa diamankan oleh warga dan dibawa ke Polsek Gianyar.  Atas perbuatannya, Baihaqi dan Saddam Husein didakwa dengan dakwaan primair Pasal 363 Ayat (2) KUHP tentang pencurian dengan pemberatan. Sebagai dakwaan subsidair, mereka didakwa dengan Pasal 363 Ayat (1) Ke-4 KUHP. Akibat perbuatan terdakwa, Dewa Made Ngurah mengalami kerugian sekitar Rp 4.000.000.",
         "BAIHAQI",
         "15.0"
        ],
        [
         "46",
         "0",
         "27",
         "8",
         "3",
         "1 buah kamera GoPro warna hitam 1 buah kotak baterai kamera warna putih 2 buah baterai warna hitam Uang tunai sejumlah Rp. 42.000,00 1 unit I Phone 11 Pro Warna Grey 1 unit mobil toyota avanza DK 1327 IE 1 lembar STNK nomor registrasi DK 1327 IE Atas Nama Huang Szu Feng Dikembalikan kepada saksi Yuji Waki 1 buah batu kali warna cokelat 1 bidang kaca mobil dalam keadaan pecah dengan lapisan ryben warna hitam Dirampas untuk dimusnahkan 1 (satu) unit Sepeda Motor honda vario warna hitam dengan DK 4093 SS beserta Kunci Kontak Dikembalikan kepada Terdakwa 1. Yudi Kristianto 1 (satu) unit Sepeda Motor honda scoopy warna cream abu-abu Nomor Polisi DK 5628 ADR beserta Kunci Kontak Dikembalikan kepada Tedakwa 2. Kurniadi Prayoga Membebankan kepada Para Terdakwa untuk membayar biaya perkara masing-masing sejumlah Rp 5000,00 (lima ribu rupiah)",
         "Ketiga terdakwa didakwa atas tindak pidana pencurian dengan pemberatan yang dilakukan secara bersama-sama. Pada hari Sabtu, 18 Mei 2024, sekitar pukul 09.00 WITA, di Pantai Keramas, Gianyar, mereka mencuri barang-barang dari sebuah mobil Toyota Avanza milik Yuji Waki, seorang warga negara Jepang.  Para terdakwa berangkat dari kos Kurniadi Prayuda di Denpasar menuju Pantai Keramas. Setibanya di sana, Yudi Kristanto melihat mobil korban yang terparkir dan korban sedang berselancar di pantai. Yudi Kristanto kemudian memecahkan kaca mobil dengan batu dan mengambil barang-barang di dalamnya, yaitu tas berisi ponsel, kamera Go Pro, dompet berisi uang, celana pendek, dan baterai kamera.  Kurniadi Prayuda bertugas mengawasi situasi di atas sepeda motor, sementara Muhammad Rizal alias Iceng mengawasi situasi di jalan masuk pantai.  Atas perbuatannya, ketiga terdakwa didakwa dengan dakwaan primair Pasal 363 Ayat (1) ke-4 dan ke-5 KUHP tentang pencurian dengan pemberatan yang dilakukan secara bersama-sama. Sebagai dakwaan subsidair, mereka didakwa dengan Pasal 363 Ayat (1) ke-4 KUHP. Akibat perbuatan terdakwa, Yuji Waki mengalami kerugian sekitar Rp 14.400.000.",
         "KURNIADI PRAYUDA",
         "17.0"
        ],
        [
         "47",
         "0",
         "27",
         "8",
         "3",
         "1 buah kamera GoPro warna hitam 1 buah kotak baterai kamera warna putih 2 buah baterai warna hitam Uang tunai sejumlah Rp. 42.000,00 1 unit I Phone 11 Pro Warna Grey 1 unit mobil toyota avanza DK 1327 IE 1 lembar STNK nomor registrasi DK 1327 IE Atas Nama Huang Szu Feng Dikembalikan kepada saksi Yuji Waki 1 buah batu kali warna cokelat 1 bidang kaca mobil dalam keadaan pecah dengan lapisan ryben warna hitam Dirampas untuk dimusnahkan 1 (satu) unit Sepeda Motor honda vario warna hitam dengan DK 4093 SS beserta Kunci Kontak Dikembalikan kepada Terdakwa 1. Yudi Kristianto 1 (satu) unit Sepeda Motor honda scoopy warna cream abu-abu Nomor Polisi DK 5628 ADR beserta Kunci Kontak Dikembalikan kepada Tedakwa 2. Kurniadi Prayoga Membebankan kepada Para Terdakwa untuk membayar biaya perkara masing-masing sejumlah Rp 5000,00 (lima ribu rupiah)",
         "Ketiga terdakwa didakwa atas tindak pidana pencurian dengan pemberatan yang dilakukan secara bersama-sama. Pada hari Sabtu, 18 Mei 2024, sekitar pukul 09.00 WITA, di Pantai Keramas, Gianyar, mereka mencuri barang-barang dari sebuah mobil Toyota Avanza milik Yuji Waki, seorang warga negara Jepang.  Para terdakwa berangkat dari kos Kurniadi Prayuda di Denpasar menuju Pantai Keramas. Setibanya di sana, Yudi Kristanto melihat mobil korban yang terparkir dan korban sedang berselancar di pantai. Yudi Kristanto kemudian memecahkan kaca mobil dengan batu dan mengambil barang-barang di dalamnya, yaitu tas berisi ponsel, kamera Go Pro, dompet berisi uang, celana pendek, dan baterai kamera.  Kurniadi Prayuda bertugas mengawasi situasi di atas sepeda motor, sementara Muhammad Rizal alias Iceng mengawasi situasi di jalan masuk pantai.  Atas perbuatannya, ketiga terdakwa didakwa dengan dakwaan primair Pasal 363 Ayat (1) ke-4 dan ke-5 KUHP tentang pencurian dengan pemberatan yang dilakukan secara bersama-sama. Sebagai dakwaan subsidair, mereka didakwa dengan Pasal 363 Ayat (1) ke-4 KUHP. Akibat perbuatan terdakwa, Yuji Waki mengalami kerugian sekitar Rp 14.400.000.",
         "MUHAMAD RIZAL Als ICENG",
         "17.0"
        ],
        [
         "67",
         "0",
         "27",
         "11",
         "4",
         "1 (satu) buah Amplop warna Putih yang di dalamnya berisi uang EURO sebesar 220 (dua ratus dua puluh EURO) Dikembalikan kepada saksi Rijanti Pahrun 1 (satu) buah Obeng dengan Gagang warna Biru. 1 (satu) buah Tas Selempang warna Hitam yang berisi tulisan AIGER. Dirampas untuk Dimusnahkan Sepeda Motor merk Honda Scoopy warna Hitam Putih dengan Nomor Polisi DK 6780 FCB beserta Fotokopi STNK atas nama NI WAYAN WIDIASTUTI. 1 (satu) buah Buku Pemilik Kendaraan Bermotor (BPKB) Sepeda Motor merk Honda Scoopy warna Hitam Putih dengan Nomor Polisi DK 6780 FCB, Nomor Rangka MH1JFW110GK377966, Nomor Mesin JFW1E1379304 dan nomor BPKB M-0367990 atas nama I WAYAN WIDIASTUTI. 1 (satu) buah STNK Sepeda Motor merk Honda Scoopy warna Hitam Putih dengan Nomor Polisi DK 6780 FCB, Nomor Rangka MH1JFW110GK377966, Nomor Mesin JFW1E1379304 atas nama NI WAYAN WIDIASTUTI Dikembalikan kepada saksi Komang Ariawan Membebankan kepada Para Terdakwa membayar biaya perkara masing-masing sejumlah Rp5000,00 (lima ribu rupiah)",
         "Ardi dan Rikoh Akbar Tanjung Alias Riko didakwa atas tindak pidana pencurian dengan pemberatan yang dilakukan secara bersama-sama. Pada hari Rabu, 6 Desember 2023, sekitar pukul 12.30 WITA, di Puri Ayoga Villa, Ubud, Gianyar, mereka mencuri uang sebesar 220 Euro milik Rijanti Pahrun.  Kedua terdakwa berangkat dari tempat tinggal Ardi menuju Ubud dengan sepeda motor sewaan. Mereka membeli obeng di toko bangunan dalam perjalanan. Setibanya di Puri Ayoga Villa, mereka memanjat tembok pembatas untuk masuk ke dalam.  Mereka mencongkel jendela kamar villa dengan obeng, dan setelah masuk, mereka mencari barang berharga. Ardi menemukan amplop berisi uang di dalam tas ransel dan mengambilnya. Saat akan keluar, mereka bertemu dengan Rijanti Pahrun dan Maurice Sylvain Dares.  Ardi berusaha melarikan diri, tetapi berhasil ditangkap oleh Maurice Sylvain Dares. Rikoh Akbar Tanjung Alias Riko berhasil melarikan diri. Ardi kemudian menyerahkan tas selempangnya yang berisi uang curian.  Atas perbuatannya, Ardi dan Rikoh Akbar Tanjung Alias Riko didakwa dengan dakwaan primair Pasal 363 Ayat (1) ke-4 dan ke-5 KUHP tentang pencurian dengan pemberatan. Sebagai dakwaan subsidair, mereka didakwa dengan Pasal 363 Ayat (1) ke-4 KUHP. Akibat perbuatan terdakwa, Rijanti Pahrun mengalami kerugian sekitar 220 Euro atau sekitar Rp 3.600.000.",
         "ARDI",
         "18.0"
        ],
        [
         "48",
         "0",
         "28",
         "8",
         "3",
         "- 1 (satu) buah Kotak Iphone 13 merek Apple dengan nomor Imei 352094679433646 - 1 (satu) lembar Nota Pembelian 1 (satu) unit Iphone 13 merek Apple warna Putih dengan nomor Imei 352094679433646 dari Toko RA GADGET tertanggal 25 Mei 2023 - 1 (satu) unit Iphone 13 merek Apple warna Putih dengan nomor Imei 352094679433646 Dikembalikan kepada Saksi I Kadek Saputra - 1 (satu) buah Kotak Iphone 12 Pro merek Apple Dirampas untuk dimusnahkan - 1 (satu) unit Handphone merek Samsung A04 warna Rose Gold dengan Pelindung warna Hitam Dikembalikan kepada Saksi I Wayan Windra - 1 (satu) buah Flashdisk merek V-GEN warna Hitam yang berisi rekaman kamera CCTV di Toko JS Phone yang berlokasi di Jalan Cok Gde Rai nomor 6, Desa Peliatan, Kecamatan Ubud, Kabupaten Gianyar pada hari Jumat, tanggal 03 November 2023 Tetap terlampir dalam berkas perkara 6. Membebankan kepada Terdakwa untuk membayar biaya perkara sejumlah Rp 5000,00 (lima ribu rupiah)",
         "Putu Baskara Putra didakwa atas dua tindak pidana: pencurian dan penadahan. Pada hari Jumat, 3 November 2023, sekitar pukul 05.30 WITA, di BSK INK Tatto, Ubud, Gianyar, terdakwa mengambil ponsel iPhone 13 milik I Kadek Saputra yang sedang diisi daya di atas meja studio. Saat itu, korban sedang tertidur.  Setelah mengambil ponsel tersebut, terdakwa menyembunyikannya di kamarnya, menonaktifkannya, dan membuang kartu SIM agar tidak terlacak. Ketika korban mencari ponselnya, terdakwa berpura-pura membantu mencari. Setelah korban pergi, terdakwa menggadaikan ponsel tersebut di Toko JS Phone sekitar pukul 12.52 WITA.  Atas perbuatannya, Putu Baskara Putra didakwa dengan dakwaan pertama Pasal 362 KUHP tentang pencurian. Sebagai alternatif, ia didakwa dengan dakwaan kedua Pasal 480 ke-1 KUHP tentang penadahan. Akibat perbuatan terdakwa, I Kadek Saputra mengalami kerugian sekitar Rp 13.000.000.",
         "PUTU BASKARA PUTRA",
         "12.0"
        ],
        [
         "60",
         "0",
         "28",
         "8",
         "3",
         "1 (satu) kantong plastik yang berisi potongan kawat tembaga yang telah terkupas dengan berat 5 (lima) kilogram 1 (satu) kantong plastik yang berisi kupasan kulit kabel tembaga dengan berat 3 (tiga) kilogram 1 (satu) buah nota pembelian kabel 1 (satu) buah pisau cutter dengan gagang berwarna merah Dikembalikan kepada Penuntut Umum untuk digunakan dalam perkara Terdakwa Diki Janwar Membebankan kepada Pata Terdakwa untuk membayar biaya perkara sejumlah Rp 5000,00 (lima ribu rupiah)",
         "Beni, Rahmat Kholidaen, dan Ahmad Maulana didakwa atas tindak pidana pencurian yang dilakukan secara bersama-sama. Pada hari Sabtu, 13 Januari 2024, sekitar pukul 17.30 WITA, di sebuah rumah di Jalan Pantai Pering, Blahbatuh, Gianyar, mereka mencuri kabel-kabel milik I Gusti Ngurah Made Oka.  Para terdakwa, yang bekerja sebagai tukang di proyek pembangunan rumah tersebut, mengambil kabel-kabel dari gudang material proyek setelah selesai bekerja. Mereka menggulung dan memasukkan kabel-kabel tersebut ke dalam karung, lalu membawanya keluar dari gudang.  Ahmad Maulana membawa karung berisi kabel-kabel tersebut keluar dari gudang. Kemudian para terdakwa membawa kabel-kabel tersebut ke kos-kosan di Angantaka, Badung. Di sana, Diki Janwar (terdakwa dalam berkas perkara terpisah) mengupas kabel-kabel tersebut untuk mengambil tembaganya.  Para terdakwa dan Diki Janwar berencana menjual tembaga hasil curian tersebut dan membagi rata hasil penjualannya.  Atas perbuatannya, Beni, Rahmat Kholidaen, dan Ahmad Maulana didakwa dengan Pasal 363 ayat (1) ke-4 KUHP tentang pencurian yang dilakukan secara bersama-sama. Akibat perbuatan terdakwa, I Gusti Ngurah Made Oka mengalami kerugian sekitar Rp 3.000.000.",
         "RAHMAT KHOLIDAEN",
         "10.0"
        ],
        [
         "49",
         "0",
         "28",
         "9",
         "2",
         "(dua) buah dus/kotak HP antara lain 1 (satu) buah dus/kotak HP Merk Infinix Note 30 Pro warna Gold dengan Nomor Imei 1 350880533662822 dan Nomor Imei 2 350880533662830 dan 1 (satu) buah dus/kotak HP Merk Infinix Note 30 Pro warna Hitam dengan Nomor Imei 1 350880533630126 dan Nomor Imei 2 350880533630134 2 (dua) Unit Hp antara lain 1 (satu) Unit HP Merk Infinix Note 30 Pro warna Gold dengan Nomor Imei 1 350880533662822 dan Nomor Imei 2 350880533662830 dan 1 (satu) Unit HP Merk Infinix Note 30 Pro warna Hitam dengan Nomor Imei 1 350880533630126 dan Nomor Imei 2 350880533630134 Barang bukti nomor 1 sampai dengan nomor 2 dikembalikan kepada Saksi Korban Eka Diana Mahira 1 (satu) unit Sepeda Motor Merk Honda PCX, Type V1J02Q32LO A/T, Nomor Polisi DK 6850 FAV, Tahun Pembuatan 2018, Warna Putih, Nomor Rangka MH1KF221XJK045360, Nomor Mesin KF22E1045441, atas nama DOY SAFANDO alamat Jl. Teras Bukit 4 No. 2 Jimbaran Kuta Selatan Badung berikut dengan remote kontak dan STNK sepeda motor dimaksud serta BPKBnya 1 (satu) potong baju kaos lengan pendek warna putih merk RIPCURL yang di dada kanan ada tulisan RIPCURL warna biru 1 (satu) potong celana pendek merk KENDY berdasar hitam bercorak garis menyilang berwarna silver Barang bukti nomor 3 sampai dengan nomor 5 dikembalikan kepada Terdakwa Membebankan kepada Terdakwa membayar biaya perkara sejumlah Rp5.000,00 (lima ribu rupiah)",
         "Saiful Rohman didakwa atas tindak pidana pencurian dengan pemberatan. Pada hari Sabtu, 10 Februari 2024, sekitar pukul 00.30 WITA, di rumah Eka Diana Mahira di Ketewel, Sukawati, Gianyar, terdakwa mengambil dua unit ponsel Infinix Note 30 Pro milik korban.  Terdakwa datang ke rumah korban tanpa izin. Setelah melihat seorang pria di taman depan rumah, terdakwa memanjat tembok setinggi 2,5 meter dan masuk ke dalam rumah melalui bagian belakang ruang tamu yang tidak berpintu. Di dalam rumah, terdakwa mengambil dua ponsel yang sedang diisi daya dan membawanya kabur.  Atas perbuatannya, Saiful Rohman didakwa dengan dakwaan primair Pasal 363 ayat (2) KUHP tentang pencurian dengan pemberatan. Sebagai dakwaan subsidair, ia didakwa dengan Pasal 362 KUHP tentang pencurian. Akibat perbuatan terdakwa, Eka Diana Mahira mengalami kerugian sekitar Rp 6.000.000.",
         "SAIFUL ROHMAN",
         "14.0"
        ],
        [
         "104",
         "0",
         "28",
         "11",
         "3",
         "1 (satu) unit sepeda motor Yamaha NMAX, warna hitam variasi skotlet warna merah dengan motif doraemon, nomor rangka MH3SG3120HK4144405, nomor mesin G3E4E-0578360 1 (satu) lembar STNK sepeda motor Yamaha NMAX, warna hitam, Tahun 2017, nomor polisi DK 6814 LZ nomor rangka MH3SG3120HK4144405, nomor mesin G3E4E-0578360 1 (satu) pasang plat kendaraan bermotor dengan Nomor Polisi DK 6814 LZ 3 (lembar) foto copy Buku Pemilik Kendaraan Bermotor (BPKB) Sepeda Motor Yamaha NMAX , warna hitam, Tahun 2017, nomor polisi DK 6814 LZ nomor rangka MH3SG3120HK4144405, nomor mesin G3E4E-0578360 atas nama I Made Lastra 1 (satu) lembar surat keterangan dari Lembaga Perkreditan Desa (LPD) Desa Pakraman Demayu, tanggal 10 Desember 2022 Dikembalikan kepada Saksi I MADE WIRA ANTARAYANA 1 (satu) buah Plat Nomor Kendaraan Palsu N 3955 OA Dirampas untuk dimusnahkan.  4. Membebankan Para Terdakwa untuk membayar biaya perkara masing-masing sebesar Rp.5.000,00 (lima ribu rupiah)",
         "Sainul Amin dan Moch Didin didakwa atas tindak pidana pencurian dengan pemberatan yang dilakukan secara bersama-sama. Pada hari Kamis, 15 September 2022, sekitar pukul 02.00 WITA, di Jalan Sok Wayah, Ubud, Gianyar, terdakwa bersama Firtus alias Firdaus (DPO) mengambil sepeda motor Yamaha NMAX milik I Made Wira Antarayana.  Para terdakwa tiba di Ubud menggunakan sepeda motor curian lainnya. Moch Didin berperan mengawasi situasi di pertigaan gang, Sainul Amin mengawasi di dalam gang, dan Firtus yang mengambil sepeda motor Yamaha NMAX yang terparkir di depan rumah Ni Wayan Muliati.  Firtus memindahkan sepeda motor tersebut dalam keadaan mesin mati, merusak kabel kontak, dan menyambungkan kabel tersebut agar mesin dapat dihidupkan. Para terdakwa kemudian membawa sepeda motor curian tersebut ke tempat tinggal mereka di Denpasar.  Akibat perbuatan para terdakwa, I Made Wira Antarayana mengalami kerugian sekitar Rp 23.000.000.  Atas perbuatannya, Sainul Amin dan Moch Didin didakwa dengan dakwaan primair Pasal 363 ayat (1) ke-4 dan ke-5 KUHP tentang pencurian dengan pemberatan. Sebagai dakwaan subsidair, mereka didakwa dengan Pasal 362 KUHP tentang pencurian.",
         "SAINUL AMIN Alias SEN",
         "42.0"
        ],
        [
         "105",
         "0",
         "28",
         "11",
         "3",
         "1 (satu) unit sepeda motor Yamaha NMAX, warna hitam variasi skotlet warna merah dengan motif doraemon, nomor rangka MH3SG3120HK4144405, nomor mesin G3E4E-0578360 1 (satu) lembar STNK sepeda motor Yamaha NMAX, warna hitam, Tahun 2017, nomor polisi DK 6814 LZ nomor rangka MH3SG3120HK4144405, nomor mesin G3E4E-0578360 1 (satu) pasang plat kendaraan bermotor dengan Nomor Polisi DK 6814 LZ 3 (lembar) foto copy Buku Pemilik Kendaraan Bermotor (BPKB) Sepeda Motor Yamaha NMAX , warna hitam, Tahun 2017, nomor polisi DK 6814 LZ nomor rangka MH3SG3120HK4144405, nomor mesin G3E4E-0578360 atas nama I Made Lastra 1 (satu) lembar surat keterangan dari Lembaga Perkreditan Desa (LPD) Desa Pakraman Demayu, tanggal 10 Desember 2022 Dikembalikan kepada Saksi I MADE WIRA ANTARAYANA 1 (satu) buah Plat Nomor Kendaraan Palsu N 3955 OA Dirampas untuk dimusnahkan.  4. Membebankan Para Terdakwa untuk membayar biaya perkara masing-masing sebesar Rp.5.000,00 (lima ribu rupiah)",
         "Sainul Amin dan Moch Didin didakwa atas tindak pidana pencurian dengan pemberatan yang dilakukan secara bersama-sama. Pada hari Kamis, 15 September 2022, sekitar pukul 02.00 WITA, di Jalan Sok Wayah, Ubud, Gianyar, terdakwa bersama Firtus alias Firdaus (DPO) mengambil sepeda motor Yamaha NMAX milik I Made Wira Antarayana.  Para terdakwa tiba di Ubud menggunakan sepeda motor curian lainnya. Moch Didin berperan mengawasi situasi di pertigaan gang, Sainul Amin mengawasi di dalam gang, dan Firtus yang mengambil sepeda motor Yamaha NMAX yang terparkir di depan rumah Ni Wayan Muliati.  Firtus memindahkan sepeda motor tersebut dalam keadaan mesin mati, merusak kabel kontak, dan menyambungkan kabel tersebut agar mesin dapat dihidupkan. Para terdakwa kemudian membawa sepeda motor curian tersebut ke tempat tinggal mereka di Denpasar.  Akibat perbuatan para terdakwa, I Made Wira Antarayana mengalami kerugian sekitar Rp 23.000.000.  Atas perbuatannya, Sainul Amin dan Moch Didin didakwa dengan dakwaan primair Pasal 363 ayat (1) ke-4 dan ke-5 KUHP tentang pencurian dengan pemberatan. Sebagai dakwaan subsidair, mereka didakwa dengan Pasal 362 KUHP tentang pencurian.",
         "MOCH DIDIN Alias DIDIN",
         "42.0"
        ],
        [
         "50",
         "0",
         "29",
         "11",
         "2",
         "1 (satu) buah tabung gas LPG 3 KG. Dikembalikan kepada Saksi NI WAYAN SUKARMINI 1 (satu) unit sepeda motor merk Honda Tipe Supra 125 Nopol DK 8647 EN, tahun pembuatan 2006, warna Hitam, Noka MH1JB51176K518780, Nosin JB51E-1515297, No. BPKB R/20475/IV-O, atas nama Pemilik KETUT NINA ARSINI, SE. AK. Beserta kunci kontak. 1 (SATU) lembar STNK sepeda motor merk Honda Tipe Supra 125 Nopol DK 8647 EN, tahun pembuatan 2006, warna Hitam, Noka MH1JB51176K518780, Nosin JB51E-1515297, No. BPKB R/20475/IV-O, atas nama Pemilik KETUT NINA ARSINI, SE. AK. Dikembalikan kepada yang berhak melalui Terdakwa II FERKI FERIANATA Als FEBRI Membebankan kepada Para Terdakwa untuk membayar biaya perkara masing-masing sejumlah Rp 5.000,00 (lima ribu rupiah)",
         "Dimas Firmansyah dan Ferki Ferianata alias Febri didakwa atas tindak pidana pencurian dengan pemberatan yang dilakukan secara bersama-sama. Pada hari Senin, 11 Maret 2024, sekitar pukul 01.30 WITA, di sebuah warung milik Ni Wayan Sukarmini di Lebih, Gianyar, mereka mencuri sebuah tabung gas 3 kg.  Pada hari Minggu, 10 Maret 2024, sekitar pukul 09.00 WITA, kedua terdakwa bertemu di alun-alun Kota Gianyar dan berencana melakukan pencurian. Mereka kemudian pergi ke daerah Lebih, Gianyar, dan melihat warung milik korban. Ferki Ferianata memanjat pagar warung dengan bantuan Dimas Firmansyah, mengambil tabung gas, dan kemudian menyerahkannya kepada Dimas Firmansyah.  Kedua terdakwa kemudian menjual tabung gas tersebut kepada Hasan Basri seharga Rp 100.000 dan membagi hasil penjualan. Mereka menggunakan uang tersebut untuk membeli rokok dan makanan.  Atas perbuatannya, Dimas Firmansyah dan Ferki Ferianata didakwa dengan dakwaan primair Pasal 363 ayat (2) KUHP tentang pencurian dengan pemberatan yang dilakukan secara bersama-sama. Sebagai dakwaan subsidair, mereka didakwa dengan Pasal 363 ayat (1) ke-4 KUHP. Akibat perbuatan terdakwa, Ni Wayan Sukarmini mengalami kerugian sebesar Rp 150.000.",
         "DIMAS FIRMASYAH",
         "10.0"
        ],
        [
         "54",
         "0",
         "30",
         "8",
         "5",
         "1 (satu) buah Flashdisk yang berisi rekaman Kamera CCTV di Toko Minuman Bottle Avenue yang berlokasi di Jalan Raya Ubud, Lingkungan Taman Kaja, Kelurahan Ubud, Kecamatan Ubud, Kabupaten Gianyar, tanggal 06 Februari 2024 dan rekaman Kamera CCTV di Apotek Kimia Farma yang berlokasi di Jalan Raya Ubud, Lingkungan Taman Kaja, Kelurahan Ubud, Kecamatan Ubud, Kabupaten Gianyar, tanggal 06 Februari 2024 Tetap terlampir dalam berkas perkara 1 (satu) lembar bukti kepemilikan uang yang hilang, tanggal 06 Februari 2024 15 (lima belas) lembar bukti kepemilikan barang di Toko Minuman Bottle Avenue, tanggal 06 Februari 2024 1 (satu) buah kunci Toko Minuman Bottle Avenue Dikembalikan kepada Saksi Ni Putu Sudarmini 3 (tiga) botol Minuman merk Bacardi Spiced Rum 700 ml 4 (empat) botol Minuman merk Captain Morgan Original Spiced Gold Rum 750 ml 2 (dua) buah Goodie Bag Kuning Kecil Tebal berisi tulisan Bottle Avenue Dikembalikan kepada Saksi I Nengah Sukiana 1 (satu) unit Sepeda Motor merk Honda Beat warna Hitam dengan Nomor Polisi DK 2696 AAH beserta STNK atas nama TJOKORDA MADE ARNAWA Dikembalikan kepada Nii Made Eri Suputri 1 (satu) buah Jas Hujan warna Ungu motif Bola-bola 1 (satu) buah Helm warna Cream 1 (satu) buah Baju Kaos Lengan Panjang warna Hitam Dirampas untuk dimusnahkan Membebankan kepada Terdakwa untuk membayar biaya perkara sejumlah Rp 5000,00 (lima ribu rupiah)",
         "Dewa Gede Ariana Putra didakwa atas tindak pidana pencurian dengan pemberatan. Pada hari Selasa, 6 Februari 2024, sekitar pukul 04.48 WITA, di Toko Minuman Bottle Avenue, Ubud, Gianyar, terdakwa mengambil uang tunai sebesar Rp 496.000, uang hasil penjualan sebesar Rp 6.680.400, serta beberapa botol minuman beralkohol dan dua buah goodie bag.  Terdakwa, yang merupakan mantan karyawan toko tersebut, menggunakan kunci duplikat yang ia buat saat masih bekerja untuk masuk ke dalam toko. Ia mematikan listrik toko agar tidak terekam CCTV, lalu mengambil uang dan minuman beralkohol. Setelah itu, ia membuang kunci duplikat tersebut di Sungai Petanu untuk menghilangkan jejak.  Atas perbuatannya, Dewa Gede Ariana Putra didakwa dengan dakwaan primair Pasal 363 ayat (2) KUHP tentang pencurian dengan pemberatan. Sebagai dakwaan subsidair, ia didakwa dengan Pasal 363 ayat (1) ke-5 KUHP, dan lebih subsidair dengan Pasal 362 KUHP tentang pencurian. Akibat perbuatan terdakwa, Toko Minuman Bottle Avenue mengalami kerugian sekitar Rp 9.985.400.",
         "DEWA GEDE ARIANA PUTRA",
         "12.0"
        ],
        [
         "56",
         "0",
         "30",
         "9",
         "3",
         "1 (satu) buah kunci kontak sepeda motor 1 (satu) unit Sepeda Motor merk Honda type Beat berwarna Hitam Nomor Polisi DK 5110 AAK, Nomor Rangka MH1JM2117HK634590, Nomor Mesin JM21E1622407 Dikembalikan kepada saksi H. Abd Baqi Membebankan kepada Terdakwa membayar biaya perkara sejumlah Rp5.000,00 (lima ribu rupiah)",
         "Rohman Alias Abdul Rohman didakwa atas tindak pidana pencurian yang dilakukan secara berulang. Pada hari Sabtu, 29 Juli 2023, sekitar pukul 21.00 WITA, di Bitera, Gianyar, terdakwa mengambil sebuah ponsel Infinix Smart 7 milik Muis dan sebuah sepeda motor Honda Beat milik H. Abd Baqi.  Terdakwa, yang bekerja di rumah H. Abd Baqi, mengambil ponsel Muis yang sedang diisi daya di kamar. Setelah itu, ia mengambil sepeda motor H. Abd Baqi yang terparkir di halaman rumah dengan kunci yang masih terpasang. Terdakwa membawa sepeda motor tersebut ke Denpasar dan menjual ponsel Muis di Tabanan.  Atas perbuatannya, Rohman Alias Abdul Rohman didakwa dengan dakwaan primair Pasal 363 Ayat (1) ke-3 KUHP jo. Pasal 65 Ayat (1) KUHP tentang pencurian dengan pemberatan yang dilakukan secara berulang. Sebagai dakwaan subsidair, ia didakwa dengan Pasal 362 KUHP jo. Pasal 65 Ayat (1) KUHP tentang pencurian yang dilakukan secara berulang. Akibat perbuatan terdakwa, H. Abd Baqi mengalami kerugian sekitar Rp 11.000.000 dan Muis mengalami kerugian sekitar Rp 1.600.000.",
         "ROHMAN",
         "18.0"
        ],
        [
         "57",
         "0",
         "30",
         "9",
         "4",
         "1 (satu) unit Handphone merk Iphone 13 warna Green dengan No. Imei 1 355178630574700 dan Imei 2 355178630272230 1 (satu) buah box Iphone 13 serial No. JYX06FW6GF 1 (satu) lembar invoice No. 100013134, tanggal 11/11/2022 1 (satu) lembar bukti pembayaran BCA senilai 16.274.000 (enam belas juta dua ratus tujuh puluh empat ribu rupiah), tanggal 11 November 2022. Dikembalikan kepada Saksi I Made Yoga Sudarma Tirta 5. Membebankan kepada Terdakwa membayar biaya perkara sejumlah Rp5.000,00 (lima ribu rupiah)",
         "Jeri Patoni Lambi didakwa atas tindak pidana pencurian. Pada hari Sabtu, 11 Februari 2023, sekitar pukul 11.00 WITA, di sebuah warung Madura di Gianyar, terdakwa mengambil sebuah ponsel iPhone 13 milik I Made Yoga Sudarma Tirta.  Terdakwa datang ke warung tersebut untuk membeli air mineral. Saat membayar, ia melihat ponsel korban tergeletak di atas rak etalase yang terhalang kardus kecil. Setelah membayar, terdakwa mengambil ponsel tersebut dan membawanya ke kosnya.  Selama sekitar 11 bulan, terdakwa menyimpan ponsel tersebut di dalam tasnya. Pada 13 Januari 2024, ia berencana membawa ponsel tersebut ke konter untuk dibuka kuncinya. Di konter, terdakwa mengaku menemukan ponsel tersebut.  Pada 15 Januari 2024, terdakwa dihubungi oleh pihak konter dan diminta untuk mengambil ponsel tersebut. Saat mengambil, terdakwa diamankan oleh pihak kepolisian.  Atas perbuatannya, Jeri Patoni Lambi didakwa dengan Pasal 362 KUHP tentang pencurian. Akibat perbuatan terdakwa, I Made Yoga Sudarma Tirta mengalami kerugian sekitar Rp 13.000.000.",
         "JERI PATONI LAMBI",
         "10.0"
        ],
        [
         "92",
         "0",
         "31",
         "8",
         "3",
         "1 (satu) buah cincin emas dengan permata ada warna merah (untuk perempuan) 1 (satu) buah Cincin emas tanpa permata (cincin kawin) 2 (Dua) buah Gelang emas 1 (Satu) buah Giwang emas 1 (Satu) buah Foto copy serifikat tanah/SHM nomor 2986/ Desa Keramas, luas tanah 2949 m2, pemilik an. I GUSTI AGUNG KETUT RAKA, SH. (dilegalisir) 1 (Satu) buah Surat Bukti Kredit nomor 12149-17-01-004448-0, dengan Nomor CIF 1009273052 atas nama NI WAYAN RIBEK, tanggal kredit 24-07-2017, beserta Nota Transaksi yang melekat pada surat tersebut 1 (Satu) buah Surat Bukti Kredit nomor 12149-17-01-001555-5, dengan Nomor CIF 9003433083 atas nama TIRTA NI NYOMAN, tanggal kredit 06-03-2017, beserta Nota Transaksi yang melekat pada surat tersebut 1 (Satu) buah Surat Bukti Kredit nomor 12149-17-01-000799-0, dengan Nomor CIF 1008338275 atas nama I MADE DANA PATI, tanggal Kredit 06-02-2017, beserta Nota Transaksi yang melekat pada surat tersebut 3 (Tiga) lembar Print file data lelang pada Aplikasi PT.Pegadaian Cabang Gianyar. Uang sejumlah Rp 26.000.000,00 (dua puluh enam juta rupiah)  Dikembalikan kepada Saksi I GUSTI AGUNG KETUT RAKA, S.H.  6. Membebani Terdakwa untuk membayar biaya perkara sebesar Rp 5,000,00 (lima ribu rupiah)",
         "Ni Wayan Ribek didakwa atas dua tindak pidana alternatif, yaitu pencurian dan penggelapan. Pada tahun 2017, di rumah I Gusti Agung Ketut Raka, Keramas, Gianyar, terdakwa mengambil sertifikat tanah dan sejumlah perhiasan emas.  Pada dakwaan pertama, disebutkan bahwa terdakwa datang ke rumah korban dan mengambil barang-barang tersebut dari lemari yang tidak terkunci tanpa izin. Korban baru menyadari kehilangan tersebut pada Maret 2018.  Pada dakwaan kedua, disebutkan bahwa istri korban meminjamkan sertifikat tanah dan perhiasan emas kepada terdakwa. Namun, terdakwa kemudian menggadaikan barang-barang tersebut tanpa izin untuk menutupi hutangnya.  Atas perbuatannya, Ni Wayan Ribek didakwa dengan dakwaan pertama Pasal 362 KUHP tentang pencurian. Sebagai dakwaan kedua, ia didakwa dengan Pasal 372 KUHP tentang penggelapan. Akibat perbuatan terdakwa, I Gusti Agung Ketut Raka mengalami kerugian sekitar Rp 50.000.000.",
         "NI WAYAN RIBEK",
         "18.0"
        ],
        [
         "101",
         "0",
         "31",
         "8",
         "3",
         "1 (satu) anak kunci merek BLG. 1 (satu) anak kunci merek SOLID. 1(satu) anak kunci merek YALE. 1 (satu) gembok merek BLG. 1 (satu) gembok merek SOLID. 1 (satu) buah HP IPONE 7 plus warna hitam. 1 (satu) buah Carger Hp IPONE. 2 (dua) buah buah pembungkus/kotak rokok merek sampoerna Mild dalam keadaan sudah kosong. 1 (satu) buah Rokok merek In Mild. 1 (satu) buah Nota form setoran kasis Toko Sari Dana. 1 (satu) buah Nota Toko Sari Dana.  Dikembalikan kepada Saksi Ni Luh Ade Ayu Antari, S.Sos. 1 (satu) buah baju kaos warna hitam. Dikembalikan kepada Terdakwa Kadek Indra Saputra.  8. Membebani Terdakwa untuk membayar biaya perkara sebesar Rp.5,000,00 (lima ribu rupiah)",
         "Kadek Indra Saputra didakwa atas tindak pidana pencurian dengan pemberatan. Pada hari Rabu, 1 Februari 2023, sekitar pukul 01.53 WITA, di Toko Sari Dana, Keramas, Blahbatuh, Gianyar, terdakwa mengambil uang tunai, rokok, dan nota milik Ni Luh Ade Ayu Antari.  Awalnya, saat toko sudah tutup, terdakwa mengambil kunci toko yang disimpan di pos satpam. Ia kemudian membuka rolling door dan pintu kaca toko menggunakan kunci tersebut.  Setelah masuk, terdakwa membuka laci kasir menggunakan kunci yang ada di sana dan mengambil uang tunai sebesar Rp 2.585.000, rokok, dan nota.  Uang hasil curian digunakan untuk membeli iPhone 7 Plus secara online dan kebutuhan sehari-hari. Rokok digunakan sendiri dan dijual sebagian. Nota disimpan di kos terdakwa.  Akibat perbuatan terdakwa, korban mengalami kerugian materiil sekitar Rp 2.876.000.  Atas perbuatannya, Kadek Indra Saputra didakwa dengan dakwaan primair Pasal 363 Ayat (1) Ke-5 KUHP tentang pencurian dengan pemberatan. Sebagai dakwaan subsidair, ia didakwa dengan Pasal 362 KUHP tentang pencurian.",
         "KADEK INDRA SAPUTRA",
         "14.0"
        ],
        [
         "53",
         "0",
         "31",
         "9",
         "3",
         "1 (satu) buah kotak plastik warna putih 1 (satu) buah tas plastik kecil warna merah merk Cath Kidston Uang sebesar Rp203.000,00 (dua ratus tiga ribu) rupiah dengan rincian uang Pecahan Rp100.000,00 (seratus ribu) rupiah sebanyak 1 (satu) lembar, uang Pecahan Rp50.000,00 (lima puluh ribu) rupiah sebanyak 1 (satu) lembar, uang Pecahan Rp10.000,00 (sepuluh ribu) rupiah sebanyak 3 (tiga) lembar, uang Pecahan Rp5.000,00 (lima ribu) rupiah sebanyak 2 (dua) lembar, uang Pecahan Rp2.000,00 (dua ribu) rupiah sebanyak 6 (enam) lembar, uang Pecahan Rp1.000,00 (seribu) rupiah sebanyak 1 (satu) lembar. Dikembalikan kepada Saksi Korban Asmawi 1 (satu) buah Flashdisk yang berisi rekaman CCTV saat Terdakwa melintas di dekat TKP. Dikembalikan kepada Saksi Nasuki Membebankan kepada Terdakwa membayar biaya perkara sejumlah Rp5.000,00 (lima ribu rupiah)",
         "Ferki Ferianata alias Febri didakwa atas tindak pidana pencurian dengan pemberatan. Pada hari Selasa, 26 Maret 2024, sekitar pukul 02.30 WITA, di gudang rongsokan milik Asmawi di Samplangan, Gianyar, terdakwa mengambil dua bungkus rokok Como dan uang Rp 8.000.000.  Setelah bermain game di kosnya, terdakwa berjalan kaki menuju tempat tinggal Asmawi yang berjarak sekitar 20 meter. Ia masuk melalui tembok seng yang rusak, mengambil rokok dari etalase, dan masuk ke kamar Asmawi. Di dalam kamar, terdakwa mengambil tas berisi uang Rp 8.000.000.  Terdakwa keluar dari rumah Asmawi melalui jalan yang sama. Uang tersebut rencananya akan digunakan untuk diberikan kepada orang tua dan biaya perjalanan. Rokok tersebut dikonsumsi sendiri.  Atas perbuatannya, Ferki Ferianata didakwa dengan dakwaan primair Pasal 363 ayat (1) ke-3 KUHP tentang pencurian dengan pemberatan. Sebagai dakwaan subsidair, ia didakwa dengan Pasal 362 KUHP tentang pencurian. Akibat perbuatan terdakwa, Asmawi mengalami kerugian sekitar Rp 8.018.000.",
         "FERKI FERIANATA Als FEBRI",
         "14.0"
        ],
        [
         "102",
         "0",
         "31",
         "11",
         "2",
         "2 (dua) lembar fotokopi BPKB sepeda motor No. I-06273341, merk Honda, warna putih, nomor registrasi DK 5273 CN, nomor rangka MH1JF5127BK676186, nomor mesin JF51E2663141, nama pemilik DRA NI KETUT SURYADIANI, alamat JL. GN TAMBORA 3 ALANGKAJENG PEMECUTAN DENPASAR yang sudah dileges  1 (satu) buah kunci kontak sepeda motor Honda  1 (satu) unit sepeda motor Honda Beat warna Putih nomor polisi DK 5273 CN, nomor rangka MH1JF5127BK676186, nomor mesin JF51E2663141  1 (satu) lembar STNK nomor registrasi DK-5273-CN, sepeda motor Merk Honda, type NC11B3C A/T tahun 2011 warna putih, nomor rangka MH1JF5127BK676186, nomor mesin JF51E2663141 a.n. pemilik DRA NI KETUT SURYADIANI alamat Jl. Gn Tambora 3 Alangkajeng, Kel. Pemecutan, Kec. Denpasar Barat Dikembalikan kepadaSaksi I Made Sumardika  1 (satu) buah kunci kontak sepeda motor Honda. Dirampas untuk Dimusnahkan Membebankan kepada Terdakwa membayar biaya perkara sejumlah Rp5.000,00 (lima ribu rupiah)",
         "Ari Nur Wahyudi didakwa atas tindak pidana pencurian dengan pemberatan yang dilakukan secara bersama-sama. Pada hari Minggu, 29 Januari 2023, sekitar pukul 02.30 WITA, di depan toko milik I Dangin Putu Negara, Abianbase, Gianyar, terdakwa bersama Yanuar Pungkas Santoso alias Ipung (dalam berkas perkara terpisah) mengambil sepeda motor Honda Beat milik I Made Sumardika.  Awalnya, setelah selesai bekerja, terdakwa dan Ipung pergi ke kos adik terdakwa di Gianyar. Saat hendak kembali ke Denpasar, mereka melihat sepeda motor Honda Beat terparkir di depan toko. Ipung kemudian mengambil sepeda motor tersebut, sementara terdakwa mengawasi situasi.  Terdakwa kemudian mendorong sepeda motor curian tersebut dengan kaki kirinya hingga sampai di tempat kerja mereka di Denpasar. Sepeda motor tersebut kemudian digunakan untuk bekerja.  Perbuatan mereka dilakukan tanpa izin dari pemilik sepeda motor, yaitu I Made Sumardika. Akibat perbuatan tersebut, I Made Sumardika mengalami kerugian sekitar Rp 7.000.000.  Atas perbuatannya, Ari Nur Wahyudi didakwa dengan dakwaan primair Pasal 363 ayat (2) KUHP tentang pencurian dengan pemberatan. Sebagai dakwaan subsidair, ia didakwa dengan Pasal 363 ayat (1) ke-4 KUHP tentang pencurian dengan pemberatan.",
         "ARI NUR WAHYUDI",
         "18.0"
        ],
        [
         "77",
         "0",
         "31",
         "12",
         "3",
         "2 (dua) lembar screenshot bukti pembelian 1 (satu) unit MacBook Pro-Space Grey 2 (dua) lembar screenshot bukti pembelian 1 (satu) buah Podcast Microphone merk Shure MV7 USB warna Hitam 1 (satu) lembar print out WAARDASIE SERTIFIKAAT 1 (satu) buah Cincin Emas Putih dengan 9 (sembilan) butir Berlian 1 (satu) lembar print out bukti pembelian 1 (satu) buah Cincin Emas Putih dengan 9 (sembilan) butir Berlian 1 (satu) unit MacBook Pro-Space Grey 1 (satu) unit Headphone merk Pioneer DJ warna Hitam Silver beserta kotaknya 1 (satu) buah Podcast Microphone merk Shure MV7 USB warna Hitam 1 (satu) buah Tas Kecil warna Putih 1 (satu) buah Tas Kecil warna Hitam 1 (satu) buah Passport Australia atas nama RORY HALLIDAY, dengan nomor Passport PB6450673 1 (satu) buah Passport Switzerland atas nama RORY HALLIDAY, dengan nomor Passport X5058389 1 (satu) buah SIM International atas nama RORY HALLIDAY 1 (satu) buah Tas Gandong merk Tom Bihn warna Hitam Dikembalikan kepada Saksi RORY HALLIDAY 1 (satu) Unit Sepeda Motor merk Suzuki Shogun 110 warna Biru dengan Nomor Polisi DK 3047 GW beserta STNK 1 (satu) buah Tas Gandong warna Cokelat Dikembalikan kepada Terdakwa 1 (satu) buah Parang Dirampas Untuk Dimusnahkan Membebani Terdakwa untuk membayar biaya perkara sebesar Rp.5.000,00 (lima ribu rupiah)",
         "Harianto alias Yanto didakwa atas tindak pidana pencurian dengan pemberatan. Pada hari Rabu, 26 Juli 2023, sekitar pukul 11.45 WITA, di Villa Queendom, Ubud, Gianyar, terdakwa mengambil barang-barang berharga milik Rory Halliday.  Terdakwa berangkat dari bedeng temannya di Denpasar dengan tujuan mencari burung di Ubud. Ia memasang jaring burung di dekat Villa Queendom dan melihat headphone di teras belakang villa.  Terdakwa masuk ke villa dengan memanjat tembok pembatas dan mengambil headphone tersebut. Saat akan keluar, ia melihat laptop di dapur dan memutuskan untuk mengambilnya juga. Ia mencongkel pintu belakang villa yang terkunci dengan parang.  Terdakwa kemudian mengambil laptop, tas gandong, mikrofon, dan tas kecil dari dalam villa. Ia memasukkan semua barang curian ke dalam tas gandong.  Atas perbuatannya, Harianto alias Yanto didakwa dengan dakwaan primair Pasal 363 ayat (1) ke-5 KUHP tentang pencurian dengan pemberatan. Sebagai dakwaan subsidair, ia didakwa dengan Pasal 362 KUHP tentang pencurian. Akibat perbuatan terdakwa, Rory Halliday mengalami kerugian sekitar Rp 250.000.000.",
         "HARIANTO Alias YANTO",
         "20.0"
        ],
        [
         "66",
         "0",
         "32",
         "9",
         "4",
         "1 (satu) lembar asli cek Bank BTN No. TO 647254 tanggal 25 Maret 2022 sebesar Rp. 37 150.000,- (tiga puluh tujuh juta seratus lima puluh ribu rupiah). 1 (satu) lembar asli cek Bank BTN No. TO 647255 tanggal 29 Maret 2022 sebesar Rp. 39.450.000,- (tiga puluh Sembilan juta empat ratus lima puluh ribu rupiah). 1 (satu) lembar asli cek Bank BTN No. TO 647256 tanggal 28 Maret 2022 sebesar Rp. 42.750.000,- (empat puluh dua juta tujuh ratus lima puluh ribu rupiah). 1 (satu) lembar asli bilyet giro (BG) Bank BTN No. TP 168834 Rp. 50.000.000,- (lima puluh juta rupiah) tanggal 01 Maret 2022. 1 (satu) lembar asli rekening koran dengan nomor rekening 00000099-01-30-000054-7 atas nama PT. GRIYA SADEWA PROPERTYNDO tanggal 31 Maret 2022. Dikembalikan kepada PT. GRIYA SADEWA PROPERTYNDO melalui Saksi IRENE ALFU ALFIS SAADAH Membebankan kepada Terdakwa untuk membayar biaya perkara sejumlah Rp5.000,00 (lima ribu rupiah)",
         "Putu Ayu Shantika Pradnya Paramita didakwa atas dua tindak pidana. Pertama, pencurian surat berharga, dan kedua, penggunaan surat palsu. Pada suatu waktu di bulan Maret 2023, di Batubulan, Gianyar, terdakwa mengambil 3 lembar cek dan 1 lembar bilyet giro milik PT. Griya Sadewa Propertyndo.  Terdakwa mengambil surat berharga tersebut dari dashboard mobil milik Irene Alfu Alfis Saadah, yang saat itu dibawa oleh suami terdakwa. Terdakwa kemudian menggunakan bilyet giro tersebut untuk mencairkan uang sebesar Rp 50.000.000 di Bank BCA, dan mentransfer sebagian uang tersebut ke rekeningnya sendiri.  Selanjutnya, terdakwa mencairkan 3 lembar cek di Bank BTN dengan total nilai Rp 119.350.000. Uang tersebut digunakan untuk membayar hutang dan kebutuhan sehari-hari terdakwa.  Terdakwa juga didakwa karena memalsukan tanda tangan Suseno, Direktur Utama PT. Griya Sadewa Propertyndo, pada 3 lembar cek tersebut. Berdasarkan pemeriksaan laboratorium, tanda tangan pada cek tersebut adalah hasil pemindaian dari tanda tangan asli pada bilyet giro.  Atas perbuatannya, Putu Ayu Shantika Pradnya Paramita didakwa dengan dakwaan kesatu Pasal 362 KUHP tentang pencurian. Dakwaan kedua adalah Pasal 263 Ayat 2 KUHP tentang penggunaan surat palsu. Akibat perbuatan terdakwa, PT. Griya Sadewa Propertyndo mengalami kerugian sebesar Rp 169.350.000.",
         "PUTU AYU SHANTIKA PRADNYA PARAMITHA",
         "14.0"
        ],
        [
         "70",
         "0",
         "33",
         "11",
         "4",
         "a. 58 (Lima Puluh Delapan) bungkus rokok merk Marlboro warna merah b. 54 (Lima Puluh Empat) bungkus rokok merk Marlboro warna putih c. Uang tunai Rp. 1.280.000,- (satu juta dua ratus delapan puluh ribu rupiah). Dikembalikan kepada saksi Dwi Agus Sanjaya a. 1 (Satu) keping CD berisi rekaman CCTV. Dirampas untuk dimusnahkan 6. Menetapkan agar Terdakwa membayar biaya perkara sebesar Rp. 5.000,- (lima ribu rupiah)",
         "Ni Luh Made Suarni didakwa atas dua tindak pidana. Pertama, pencurian, dan kedua, penadahan barang hasil kejahatan. Pada hari Senin, 23 Oktober 2023, sekitar pukul 10.00 WITA, di Toko Sari Agung, Gianyar, terdakwa mengambil 12 slop rokok milik Dwi Agus Sanjaya.  Terdakwa, yang bekerja di toko tersebut, mengambil rokok dari rak belakang meja kasir dan menyembunyikannya di gudang. Ia kemudian membawa pulang rokok tersebut secara bertahap.  Terdakwa menjual 4 slop rokok kepada Nur Halima dengan harga Rp 32.000 per bungkus, sehingga total hasil penjualan sebesar Rp 1.280.000.  Atas perbuatannya, Ni Luh Made Suarni didakwa dengan dakwaan pertama Pasal 362 KUHP tentang pencurian. Sebagai dakwaan kedua, ia didakwa dengan Pasal 480 Ke-1 KUHP tentang penadahan barang hasil kejahatan. Akibat perbuatan terdakwa, Dwi Agus Sanjaya mengalami kerugian sebesar Rp 4.200.000.",
         "NI LUH MADE SUARNI Als. SOPI",
         "10.0"
        ]
       ],
       "shape": {
        "columns": 8,
        "rows": 112
       }
      },
      "text/html": [
       "<div>\n",
       "<style scoped>\n",
       "    .dataframe tbody tr th:only-of-type {\n",
       "        vertical-align: middle;\n",
       "    }\n",
       "\n",
       "    .dataframe tbody tr th {\n",
       "        vertical-align: top;\n",
       "    }\n",
       "\n",
       "    .dataframe thead th {\n",
       "        text-align: right;\n",
       "    }\n",
       "</style>\n",
       "<table border=\"1\" class=\"dataframe\">\n",
       "  <thead>\n",
       "    <tr style=\"text-align: right;\">\n",
       "      <th></th>\n",
       "      <th>klasifikasi_perkara_encoded</th>\n",
       "      <th>penuntut_umum_encoded</th>\n",
       "      <th>hakim_encoded</th>\n",
       "      <th>jumlah_saksi</th>\n",
       "      <th>cleaned_barang_bukti</th>\n",
       "      <th>summarized_dakwaan</th>\n",
       "      <th>terdakwa</th>\n",
       "      <th>total_pidana_penjara_bulan</th>\n",
       "    </tr>\n",
       "  </thead>\n",
       "  <tbody>\n",
       "    <tr>\n",
       "      <th>0</th>\n",
       "      <td>0</td>\n",
       "      <td>0</td>\n",
       "      <td>0</td>\n",
       "      <td>6</td>\n",
       "      <td>1 (satu) buah sabit kecil dengan gagang dari k...</td>\n",
       "      <td>Bahwa ia terdakwa Gede Darmayasa pada hari sel...</td>\n",
       "      <td>GEDE DARMAYASA</td>\n",
       "      <td>5.0</td>\n",
       "    </tr>\n",
       "    <tr>\n",
       "      <th>1</th>\n",
       "      <td>0</td>\n",
       "      <td>0</td>\n",
       "      <td>1</td>\n",
       "      <td>6</td>\n",
       "      <td>1 (satu) buah Kotak/Box handphone merk OPPO ty...</td>\n",
       "      <td>Terdakwa Handri Johanes didakwa melakukan penc...</td>\n",
       "      <td>HANDRI JOHANAS</td>\n",
       "      <td>4.0</td>\n",
       "    </tr>\n",
       "    <tr>\n",
       "      <th>4</th>\n",
       "      <td>0</td>\n",
       "      <td>3</td>\n",
       "      <td>2</td>\n",
       "      <td>4</td>\n",
       "      <td>1 (satu) unit sepeda motor merk Honda Scoopy w...</td>\n",
       "      <td>Pada 26 Maret 2024 pukul 17.10 WITA di pinggir...</td>\n",
       "      <td>R. Sabirin</td>\n",
       "      <td>14.0</td>\n",
       "    </tr>\n",
       "    <tr>\n",
       "      <th>8</th>\n",
       "      <td>0</td>\n",
       "      <td>3</td>\n",
       "      <td>3</td>\n",
       "      <td>4</td>\n",
       "      <td>1. 3 (tiga) buah bahan dasar kain (Baju Kaos) ...</td>\n",
       "      <td>Terdakwa RURY HERAWATI pada 20 November 2023 s...</td>\n",
       "      <td>RURY HERAWATI</td>\n",
       "      <td>16.0</td>\n",
       "    </tr>\n",
       "    <tr>\n",
       "      <th>13</th>\n",
       "      <td>0</td>\n",
       "      <td>7</td>\n",
       "      <td>0</td>\n",
       "      <td>6</td>\n",
       "      <td>1 (satu) unit sepeda motor merek Yamaha N-Max ...</td>\n",
       "      <td>Terdakwa I KETUT JONI ADNYANA ADI PUTRA dan Te...</td>\n",
       "      <td>I KETUT JONI ADNYANA ADI PUTRA</td>\n",
       "      <td>16.0</td>\n",
       "    </tr>\n",
       "    <tr>\n",
       "      <th>...</th>\n",
       "      <td>...</td>\n",
       "      <td>...</td>\n",
       "      <td>...</td>\n",
       "      <td>...</td>\n",
       "      <td>...</td>\n",
       "      <td>...</td>\n",
       "      <td>...</td>\n",
       "      <td>...</td>\n",
       "    </tr>\n",
       "    <tr>\n",
       "      <th>22</th>\n",
       "      <td>1</td>\n",
       "      <td>12</td>\n",
       "      <td>1</td>\n",
       "      <td>5</td>\n",
       "      <td>1 (satu) plastik klip bening yang berisi narko...</td>\n",
       "      <td>Dakwaan terhadap terdakwa Selamet Harianto ali...</td>\n",
       "      <td>SELAMET HARIANTO alias SELAMET</td>\n",
       "      <td>72.0</td>\n",
       "    </tr>\n",
       "    <tr>\n",
       "      <th>34</th>\n",
       "      <td>1</td>\n",
       "      <td>19</td>\n",
       "      <td>5</td>\n",
       "      <td>4</td>\n",
       "      <td>1 (satu) buah plastik klip bening yang berisi ...</td>\n",
       "      <td>Bahwa ia Terdakwa Anjar Ruchimat dan Irga Kris...</td>\n",
       "      <td>ANJAR RUCHIMAT</td>\n",
       "      <td>16.0</td>\n",
       "    </tr>\n",
       "    <tr>\n",
       "      <th>36</th>\n",
       "      <td>1</td>\n",
       "      <td>19</td>\n",
       "      <td>6</td>\n",
       "      <td>6</td>\n",
       "      <td>1 (satu) buah plastik klip bening yang berisi ...</td>\n",
       "      <td>Terdakwa, Fenny Yanthi Esmidar, didakwa atas t...</td>\n",
       "      <td>FENNY YANTHI ESMIDAR</td>\n",
       "      <td>96.0</td>\n",
       "    </tr>\n",
       "    <tr>\n",
       "      <th>10</th>\n",
       "      <td>2</td>\n",
       "      <td>4</td>\n",
       "      <td>2</td>\n",
       "      <td>8</td>\n",
       "      <td>- 45 (empat puluh lima) lembar nota penjualan ...</td>\n",
       "      <td>Tentu, berikut ringkasan dakwaan terhadap I Ke...</td>\n",
       "      <td>I KETUT SUPUTRA</td>\n",
       "      <td>18.0</td>\n",
       "    </tr>\n",
       "    <tr>\n",
       "      <th>9</th>\n",
       "      <td>2</td>\n",
       "      <td>6</td>\n",
       "      <td>2</td>\n",
       "      <td>8</td>\n",
       "      <td>- 45 (empat puluh lima) lembar nota penjualan ...</td>\n",
       "      <td>Tentu, berikut ringkasan dakwaan terhadap I Ke...</td>\n",
       "      <td>I KETUT SUPUTRA</td>\n",
       "      <td>18.0</td>\n",
       "    </tr>\n",
       "  </tbody>\n",
       "</table>\n",
       "<p>112 rows × 8 columns</p>\n",
       "</div>"
      ],
      "text/plain": [
       "    klasifikasi_perkara_encoded  penuntut_umum_encoded  hakim_encoded  \\\n",
       "0                             0                      0              0   \n",
       "1                             0                      0              1   \n",
       "4                             0                      3              2   \n",
       "8                             0                      3              3   \n",
       "13                            0                      7              0   \n",
       "..                          ...                    ...            ...   \n",
       "22                            1                     12              1   \n",
       "34                            1                     19              5   \n",
       "36                            1                     19              6   \n",
       "10                            2                      4              2   \n",
       "9                             2                      6              2   \n",
       "\n",
       "    jumlah_saksi                               cleaned_barang_bukti  \\\n",
       "0              6  1 (satu) buah sabit kecil dengan gagang dari k...   \n",
       "1              6  1 (satu) buah Kotak/Box handphone merk OPPO ty...   \n",
       "4              4  1 (satu) unit sepeda motor merk Honda Scoopy w...   \n",
       "8              4  1. 3 (tiga) buah bahan dasar kain (Baju Kaos) ...   \n",
       "13             6  1 (satu) unit sepeda motor merek Yamaha N-Max ...   \n",
       "..           ...                                                ...   \n",
       "22             5  1 (satu) plastik klip bening yang berisi narko...   \n",
       "34             4  1 (satu) buah plastik klip bening yang berisi ...   \n",
       "36             6  1 (satu) buah plastik klip bening yang berisi ...   \n",
       "10             8  - 45 (empat puluh lima) lembar nota penjualan ...   \n",
       "9              8  - 45 (empat puluh lima) lembar nota penjualan ...   \n",
       "\n",
       "                                   summarized_dakwaan  \\\n",
       "0   Bahwa ia terdakwa Gede Darmayasa pada hari sel...   \n",
       "1   Terdakwa Handri Johanes didakwa melakukan penc...   \n",
       "4   Pada 26 Maret 2024 pukul 17.10 WITA di pinggir...   \n",
       "8   Terdakwa RURY HERAWATI pada 20 November 2023 s...   \n",
       "13  Terdakwa I KETUT JONI ADNYANA ADI PUTRA dan Te...   \n",
       "..                                                ...   \n",
       "22  Dakwaan terhadap terdakwa Selamet Harianto ali...   \n",
       "34  Bahwa ia Terdakwa Anjar Ruchimat dan Irga Kris...   \n",
       "36  Terdakwa, Fenny Yanthi Esmidar, didakwa atas t...   \n",
       "10  Tentu, berikut ringkasan dakwaan terhadap I Ke...   \n",
       "9   Tentu, berikut ringkasan dakwaan terhadap I Ke...   \n",
       "\n",
       "                          terdakwa  total_pidana_penjara_bulan  \n",
       "0                   GEDE DARMAYASA                         5.0  \n",
       "1                   HANDRI JOHANAS                         4.0  \n",
       "4                       R. Sabirin                        14.0  \n",
       "8                    RURY HERAWATI                        16.0  \n",
       "13  I KETUT JONI ADNYANA ADI PUTRA                        16.0  \n",
       "..                             ...                         ...  \n",
       "22  SELAMET HARIANTO alias SELAMET                        72.0  \n",
       "34                  ANJAR RUCHIMAT                        16.0  \n",
       "36            FENNY YANTHI ESMIDAR                        96.0  \n",
       "10                 I KETUT SUPUTRA                        18.0  \n",
       "9                  I KETUT SUPUTRA                        18.0  \n",
       "\n",
       "[112 rows x 8 columns]"
      ]
     },
     "execution_count": 11,
     "metadata": {},
     "output_type": "execute_result"
    }
   ],
   "source": [
    "train_df"
   ]
  },
  {
   "cell_type": "markdown",
   "metadata": {},
   "source": [
    "## Model"
   ]
  },
  {
   "cell_type": "markdown",
   "metadata": {},
   "source": [
    "### Model Preprocessing"
   ]
  },
  {
   "cell_type": "code",
   "execution_count": 12,
   "metadata": {},
   "outputs": [],
   "source": [
    "train_df['concat_text'] = train_df[['cleaned_barang_bukti', 'summarized_dakwaan', 'terdakwa']].apply(lambda x: ' '.join(x), axis=1)\n",
    "test_df['concat_text'] = test_df[['cleaned_barang_bukti', 'summarized_dakwaan', 'terdakwa']].apply(lambda x: ' '.join(x), axis=1)"
   ]
  },
  {
   "cell_type": "code",
   "execution_count": 13,
   "metadata": {},
   "outputs": [],
   "source": [
    "y_train = train_df['total_pidana_penjara_bulan']\n",
    "y_test = test_df['total_pidana_penjara_bulan']"
   ]
  },
  {
   "cell_type": "markdown",
   "metadata": {},
   "source": [
    "### Tokenizer"
   ]
  },
  {
   "cell_type": "code",
   "execution_count": 14,
   "metadata": {},
   "outputs": [],
   "source": [
    "tokenizer = AutoTokenizer.from_pretrained(\"indolem/indobert-base-uncased\")\n",
    "\n",
    "def tokenize_function(text):\n",
    "    return tokenizer(text['concat_text'], padding='max_length', truncation=True, max_length=512)\n",
    "\n",
    "train_encodings = tokenizer(train_df['concat_text'].tolist(), padding=True, truncation=True, max_length=512)\n",
    "test_encodings = tokenizer(test_df['concat_text'].tolist(), padding=True, truncation=True, max_length=512)"
   ]
  },
  {
   "cell_type": "markdown",
   "metadata": {},
   "source": [
    "### Convert to Tensor"
   ]
  },
  {
   "cell_type": "code",
   "execution_count": 15,
   "metadata": {},
   "outputs": [],
   "source": [
    "train_inputs = tf.constant(train_encodings['input_ids'])\n",
    "train_attention_masks = tf.constant(train_encodings['attention_mask'])\n",
    "\n",
    "test_inputs = tf.constant(test_encodings['input_ids'])\n",
    "test_attention_masks = tf.constant(test_encodings['attention_mask'])\n",
    "\n",
    "train_numerical = tf.constant(train_df[['klasifikasi_perkara_encoded', 'penuntut_umum_encoded', 'hakim_encoded', 'jumlah_saksi']].values, dtype=tf.float32)\n",
    "test_numerical = tf.constant(test_df[['klasifikasi_perkara_encoded', 'penuntut_umum_encoded', 'hakim_encoded', 'jumlah_saksi']].values, dtype=tf.float32)\n",
    "\n",
    "train_labels = tf.constant(y_train.values, dtype=tf.float32)\n",
    "test_labels = tf.constant(y_test.values, dtype=tf.float32)"
   ]
  },
  {
   "cell_type": "markdown",
   "metadata": {},
   "source": [
    "### Create Dataset from Tensor"
   ]
  },
  {
   "cell_type": "code",
   "execution_count": 16,
   "metadata": {},
   "outputs": [],
   "source": [
    "import tensorflow as tf\n",
    "\n",
    "def create_bert_regressor_dataset(input_ids, attention_mask, numerical_features, labels):\n",
    "    dataset = tf.data.Dataset.from_tensor_slices(({\n",
    "        'input_ids': input_ids,\n",
    "        'attention_mask': attention_mask,\n",
    "        'numerical_feature': numerical_features\n",
    "    }, labels))\n",
    "    return dataset\n",
    "\n",
    "train_dataset = create_bert_regressor_dataset(train_inputs, train_attention_masks, train_numerical, train_labels)\n",
    "test_dataset = create_bert_regressor_dataset(test_inputs, test_attention_masks, test_numerical, test_labels)\n",
    "\n",
    "train_dataset = train_dataset.batch(2)\n",
    "test_dataset = test_dataset.batch(2)\n"
   ]
  },
  {
   "cell_type": "markdown",
   "metadata": {},
   "source": [
    "### Model Architecture"
   ]
  },
  {
   "cell_type": "code",
   "execution_count": 17,
   "metadata": {},
   "outputs": [
    {
     "name": "stderr",
     "output_type": "stream",
     "text": [
      "Some weights of the PyTorch model were not used when initializing the TF 2.0 model TFBertModel: ['cls.predictions.bias', 'cls.predictions.decoder.weight', 'cls.predictions.transform.LayerNorm.bias', 'cls.predictions.transform.dense.bias', 'cls.predictions.transform.LayerNorm.weight', 'cls.predictions.transform.dense.weight', 'cls.predictions.decoder.bias']\n",
      "- This IS expected if you are initializing TFBertModel from a PyTorch model trained on another task or with another architecture (e.g. initializing a TFBertForSequenceClassification model from a BertForPreTraining model).\n",
      "- This IS NOT expected if you are initializing TFBertModel from a PyTorch model that you expect to be exactly identical (e.g. initializing a TFBertForSequenceClassification model from a BertForSequenceClassification model).\n",
      "All the weights of TFBertModel were initialized from the PyTorch model.\n",
      "If your task is similar to the task the model of the checkpoint was trained on, you can already use TFBertModel for predictions without further training.\n"
     ]
    }
   ],
   "source": [
    "from transformers import TFBertModel\n",
    "import tensorflow as tf\n",
    "\n",
    "class BERTRegressor(tf.keras.Model):\n",
    "    def __init__(self):\n",
    "        super(BERTRegressor, self).__init__()\n",
    "        self.bert = TFBertModel.from_pretrained(\"indolem/indobert-base-uncased\", from_pt=True)\n",
    "\n",
    "        for layer in self.bert.layers:\n",
    "            layer.trainable = False\n",
    "            \n",
    "        self.regressor = tf.keras.layers.Dense(1)\n",
    "\n",
    "    def call(self, inputs):\n",
    "        input_ids = inputs['input_ids']\n",
    "        attention_mask = inputs['attention_mask']\n",
    "        numerical_features = inputs['numerical_feature']\n",
    "\n",
    "        bert_output = self.bert(input_ids=input_ids, attention_mask=attention_mask)\n",
    "        pooled_output = bert_output.pooler_output\n",
    "\n",
    "        combined_output = tf.concat([pooled_output, numerical_features], axis=1)\n",
    "\n",
    "        return self.regressor(combined_output)\n",
    "\n",
    "model = BERTRegressor()\n"
   ]
  },
  {
   "cell_type": "markdown",
   "metadata": {},
   "source": [
    "### Compile Model"
   ]
  },
  {
   "cell_type": "code",
   "execution_count": 18,
   "metadata": {},
   "outputs": [],
   "source": [
    "model.compile(optimizer='adam',\n",
    "              loss='mean_squared_error', metrics=['mean_absolute_error', tf.keras.metrics.RootMeanSquaredError()])"
   ]
  },
  {
   "cell_type": "markdown",
   "metadata": {},
   "source": [
    "### Train Model"
   ]
  },
  {
   "cell_type": "code",
   "execution_count": 19,
   "metadata": {},
   "outputs": [
    {
     "name": "stdout",
     "output_type": "stream",
     "text": [
      "Epoch 1/10\n",
      "56/56 [==============================] - 14s 101ms/step - loss: 388.8733 - mean_absolute_error: 14.3114 - root_mean_squared_error: 19.7199 - val_loss: 84.1871 - val_mean_absolute_error: 6.9498 - val_root_mean_squared_error: 9.1754\n",
      "Epoch 2/10\n",
      "56/56 [==============================] - 4s 71ms/step - loss: 235.0043 - mean_absolute_error: 8.7598 - root_mean_squared_error: 15.3299 - val_loss: 53.4399 - val_mean_absolute_error: 5.6612 - val_root_mean_squared_error: 7.3103\n",
      "Epoch 3/10\n",
      "56/56 [==============================] - 4s 70ms/step - loss: 215.3257 - mean_absolute_error: 8.5852 - root_mean_squared_error: 14.6740 - val_loss: 55.4666 - val_mean_absolute_error: 6.1782 - val_root_mean_squared_error: 7.4476\n",
      "Epoch 4/10\n",
      "56/56 [==============================] - 4s 70ms/step - loss: 211.3221 - mean_absolute_error: 8.7519 - root_mean_squared_error: 14.5369 - val_loss: 57.7617 - val_mean_absolute_error: 6.4160 - val_root_mean_squared_error: 7.6001\n",
      "Epoch 5/10\n",
      "56/56 [==============================] - 4s 70ms/step - loss: 210.8916 - mean_absolute_error: 8.8472 - root_mean_squared_error: 14.5221 - val_loss: 58.8532 - val_mean_absolute_error: 6.5218 - val_root_mean_squared_error: 7.6716\n",
      "Epoch 6/10\n",
      "56/56 [==============================] - 4s 72ms/step - loss: 206.3470 - mean_absolute_error: 8.9614 - root_mean_squared_error: 14.3648 - val_loss: 58.8630 - val_mean_absolute_error: 6.5300 - val_root_mean_squared_error: 7.6722\n",
      "Epoch 7/10\n",
      "56/56 [==============================] - 4s 73ms/step - loss: 203.7663 - mean_absolute_error: 8.9000 - root_mean_squared_error: 14.2747 - val_loss: 58.9786 - val_mean_absolute_error: 6.5425 - val_root_mean_squared_error: 7.6798\n",
      "Epoch 8/10\n",
      "56/56 [==============================] - 4s 73ms/step - loss: 202.7592 - mean_absolute_error: 8.9215 - root_mean_squared_error: 14.2394 - val_loss: 59.3257 - val_mean_absolute_error: 6.5710 - val_root_mean_squared_error: 7.7023\n",
      "Epoch 9/10\n",
      "56/56 [==============================] - 4s 72ms/step - loss: 201.3488 - mean_absolute_error: 8.8702 - root_mean_squared_error: 14.1897 - val_loss: 59.3229 - val_mean_absolute_error: 6.5668 - val_root_mean_squared_error: 7.7021\n",
      "Epoch 10/10\n",
      "56/56 [==============================] - 4s 72ms/step - loss: 195.3756 - mean_absolute_error: 8.7780 - root_mean_squared_error: 13.9777 - val_loss: 59.2871 - val_mean_absolute_error: 6.5579 - val_root_mean_squared_error: 7.6998\n"
     ]
    }
   ],
   "source": [
    "history = model.fit(train_dataset, epochs=10, validation_data=test_dataset)"
   ]
  },
  {
   "cell_type": "code",
   "execution_count": 20,
   "metadata": {},
   "outputs": [
    {
     "data": {
      "image/png": "[encoded data removed]",
      "text/plain": [
       "<Figure size 640x480 with 1 Axes>"
      ]
     },
     "metadata": {},
     "output_type": "display_data"
    },
    {
     "data": {
      "image/png": "[encoded data removed]",
      "text/plain": [
       "<Figure size 640x480 with 1 Axes>"
      ]
     },
     "metadata": {},
     "output_type": "display_data"
    },
    {
     "data": {
      "image/png": "[encoded data removed]",
      "text/plain": [
       "<Figure size 640x480 with 1 Axes>"
      ]
     },
     "metadata": {},
     "output_type": "display_data"
    }
   ],
   "source": [
    "plt.plot(history.history['mean_absolute_error'])\n",
    "plt.plot(history.history['val_mean_absolute_error'])\n",
    "plt.title('Model Mean Absolute Error')\n",
    "plt.ylabel('Mean Absolute Error')\n",
    "plt.xlabel('Epoch')\n",
    "plt.legend(['Train', 'Validation'], loc='upper left')\n",
    "plt.show()\n",
    "\n",
    "plt.plot(history.history['loss'])\n",
    "plt.plot(history.history['val_loss'])\n",
    "plt.title('Model Loss')\n",
    "plt.ylabel('Loss')\n",
    "plt.xlabel('Epoch')\n",
    "plt.legend(['Train', 'Validation'], loc='upper left')\n",
    "plt.show()\n",
    "\n",
    "plt.plot(history.history['root_mean_squared_error'])\n",
    "plt.plot(history.history['val_root_mean_squared_error'])\n",
    "plt.title('Model Root Mean Squared Error')\n",
    "plt.ylabel('Root Mean Squared Error')\n",
    "plt.xlabel('Epoch')\n",
    "plt.legend(['Train', 'Validation'], loc='upper left')\n",
    "plt.show()"
   ]
  },
  {
   "cell_type": "markdown",
   "metadata": {},
   "source": [
    "## Inference"
   ]
  },
  {
   "cell_type": "code",
   "execution_count": 21,
   "metadata": {},
   "outputs": [],
   "source": [
    "klasifikasi_perkara_encoded = 2\n",
    "penuntut_umum_encoded = 9\n",
    "hakim_encoded = 3\n",
    "jumlah_saksi_inference = 3\n",
    "\n",
    "inference_text = \"1 (satu) unit sepeda motor yang sudah dimodifikasi (cetul) tanpa terpasang nomor registrasi / nomor polisi dan tidak dapat terdapat nomor rangka dan nomor mesin kendaraan Dikembalikan kepada I Gede Wiraguna 1 (satu) unit sepeda motor merek Kawasaki tipe LX 150 C, warna hitam kombinasi kuning, tahun pembuatan 2010, tanpa terpasang nomor registrasi / nomor polisi, Noka MH4LX150CAKP15705, Nosin LX150CEP19759 1 (satu) lembar SNTK sepeda motor merek Kawasaki tipe LX 150 C, warna hijau, tahun pembuatan 2010, nomor registrasi / nomor polisi DK 8164 IQ, Noka MH4LX150CAKP15705, Nosin LX150CEP19759, a.n. Chrisnawati, alamat Jl. Surabaya D, 6/20 Puri Gading, Jimbaran, Kuta Badung dan 1 (satu) buah buku BPKB, No H-0 2625520, DK 8164 IQ, merek Kawasaki tipe LX 150 C, Noka MH4LX150CAKP15705, Nosin LX150CEP19759, a.n. Chrisnawati, alamat Jl. Surabaya D, 6/20 Puri Gading, Jimbaran, Kuta Badung Dikembalikan kepada I Wayan Eva Kusuma Putra 6. Membebankan kepada Para Terdakwa membayar biaya perkara masing-masing sejumlah Rp5.000,00 (lima ribu rupiah) Terdakwa I, Rifqi Abdurahman, dan Terdakwa II, Gunawan, didakwa melakukan pencurian sepeda motor Kawasaki KLX 150 C di Jalan Raya Kayuambua, Bangli, pada 11 Desember 2022, sekitar pukul 00.30 WITA. Berawal dari permintaan Gunawan untuk mencarikan motor KLX, mereka berdua berangkat dari Denpasar ke Kintamani. Di lokasi kejadian, mereka melihat motor KLX tanpa kunci kontak. Rifqi mengambil motor tersebut dengan mendorongnya, sementara Gunawan mengawasi.  Karena Rifqi tidak bisa menyalakan motor, Gunawan membantu mendorongnya. Namun, motor mereka mengalami kerusakan, dan Rifqi melanjutkan mendorong motor curian sendirian. Saat mendorong, Rifqi bertemu saksi-saksi yang curiga dan menghubungi pemilik motor. Rifqi berhasil menyalakan motor, tetapi kehabisan bensin. Ia melanjutkan mendorong ke SPBU Sekardadi, di mana ia tertidur dan ditangkap polisi.  Gunawan ditangkap di Desa Dumilih. Motor curian dan motor yang digunakan para terdakwa disita. Korban, I Wayan Eva Kusuma Putra, mengalami kerugian Rp16.000.000. Para terdakwa didakwa melanggar Pasal 363 Ayat (1) Ke 4 KUHP sebagai dakwaan primair dan Pasal 362 KUHP sebagai dakwaan subsidair. RIFQI ABDURAHMAN\"\n",
    "inference_numerical_tensor = tf.constant([[klasifikasi_perkara_encoded, penuntut_umum_encoded, hakim_encoded, jumlah_saksi_inference]], dtype=tf.float32)\n",
    "inputs = tokenizer(inference_text, padding=True, truncation=True, return_tensors='tf', max_length=512)\n",
    "\n",
    "input_dict = {\n",
    "    'input_ids': inputs['input_ids'],\n",
    "    'attention_mask': inputs['attention_mask'],\n",
    "    'numerical_feature': inference_numerical_tensor\n",
    "}"
   ]
  },
  {
   "cell_type": "code",
   "execution_count": 22,
   "metadata": {},
   "outputs": [
    {
     "name": "stdout",
     "output_type": "stream",
     "text": [
      "[[19.095009]]\n"
     ]
    }
   ],
   "source": [
    "\n",
    "predictions = model(input_dict)\n",
    "predictions_np = predictions.numpy()\n",
    "\n",
    "print(predictions_np)\n"
   ]
  },
  {
   "cell_type": "code",
   "execution_count": 23,
   "metadata": {},
   "outputs": [
    {
     "name": "stderr",
     "output_type": "stream",
     "text": [
      "WARNING:absl:Found untraced functions such as serving, embeddings_layer_call_fn, embeddings_layer_call_and_return_conditional_losses, encoder_layer_call_fn, encoder_layer_call_and_return_conditional_losses while saving (showing 5 of 421). These functions will not be directly callable after loading.\n"
     ]
    },
    {
     "name": "stdout",
     "output_type": "stream",
     "text": [
      "INFO:tensorflow:Assets written to: ../Model/dummy_run_BERT\\assets\n"
     ]
    },
    {
     "name": "stderr",
     "output_type": "stream",
     "text": [
      "INFO:tensorflow:Assets written to: ../Model/dummy_run_BERT\\assets\n"
     ]
    }
   ],
   "source": [
    "model.save('../Model/dummy_run_BERT')"
   ]
  },
  {
   "cell_type": "markdown",
   "metadata": {},
   "source": [
    "## Saved Model Inference"
   ]
  },
  {
   "cell_type": "code",
   "execution_count": 24,
   "metadata": {},
   "outputs": [
    {
     "name": "stderr",
     "output_type": "stream",
     "text": [
      "Some weights of the PyTorch model were not used when initializing the TF 2.0 model TFBertModel: ['cls.predictions.bias', 'cls.predictions.decoder.weight', 'cls.predictions.transform.LayerNorm.bias', 'cls.predictions.transform.dense.bias', 'cls.predictions.transform.LayerNorm.weight', 'cls.predictions.transform.dense.weight', 'cls.predictions.decoder.bias']\n",
      "- This IS expected if you are initializing TFBertModel from a PyTorch model trained on another task or with another architecture (e.g. initializing a TFBertForSequenceClassification model from a BertForPreTraining model).\n",
      "- This IS NOT expected if you are initializing TFBertModel from a PyTorch model that you expect to be exactly identical (e.g. initializing a TFBertForSequenceClassification model from a BertForSequenceClassification model).\n",
      "All the weights of TFBertModel were initialized from the PyTorch model.\n",
      "If your task is similar to the task the model of the checkpoint was trained on, you can already use TFBertModel for predictions without further training.\n"
     ]
    }
   ],
   "source": [
    "tokenizer = AutoTokenizer.from_pretrained(\"indolem/indobert-base-uncased\")\n",
    "\n",
    "class BERTRegressor(tf.keras.Model):\n",
    "    def __init__(self):\n",
    "        super(BERTRegressor, self).__init__()\n",
    "        self.bert = TFBertModel.from_pretrained(\"indolem/indobert-base-uncased\", from_pt=True)\n",
    "        for layer in self.bert.layers:\n",
    "            layer.trainable = False\n",
    "        self.regressor = tf.keras.layers.Dense(1)\n",
    "\n",
    "    def call(self, inputs):\n",
    "        input_ids = inputs['input_ids']\n",
    "        attention_mask = inputs['attention_mask']\n",
    "        numerical_features = inputs['numerical_feature']\n",
    "\n",
    "        bert_output = self.bert(input_ids=input_ids, attention_mask=attention_mask)\n",
    "        pooled_output = bert_output.pooler_output\n",
    "        combined_output = tf.concat([pooled_output, numerical_features], axis=1)\n",
    "\n",
    "        return self.regressor(combined_output)\n",
    "\n",
    "loaded_model = tf.keras.models.load_model('../Model/dummy_run_BERT', custom_objects={'BERTRegressor': BERTRegressor})"
   ]
  },
  {
   "cell_type": "code",
   "execution_count": 25,
   "metadata": {},
   "outputs": [],
   "source": [
    "klasifikasi_perkara_encoded = 2\n",
    "penuntut_umum_encoded = 4\n",
    "hakim_encoded = 3\n",
    "jumlah_saksi_inference = 3\n",
    "\n",
    "inference_text = \"1 (satu) unit sepeda motor yang sudah dimodifikasi (cetul) tanpa terpasang nomor registrasi / nomor polisi dan tidak dapat terdapat nomor rangka dan nomor mesin kendaraan Dikembalikan kepada I Gede Wiraguna 1 (satu) unit sepeda motor merek Kawasaki tipe LX 150 C, warna hitam kombinasi kuning, tahun pembuatan 2010, tanpa terpasang nomor registrasi / nomor polisi, Noka MH4LX150CAKP15705, Nosin LX150CEP19759 1 (satu) lembar SNTK sepeda motor merek Kawasaki tipe LX 150 C, warna hijau, tahun pembuatan 2010, nomor registrasi / nomor polisi DK 8164 IQ, Noka MH4LX150CAKP15705, Nosin LX150CEP19759, a.n. Chrisnawati, alamat Jl. Surabaya D, 6/20 Puri Gading, Jimbaran, Kuta Badung dan 1 (satu) buah buku BPKB, No H-0 2625520, DK 8164 IQ, merek Kawasaki tipe LX 150 C, Noka MH4LX150CAKP15705, Nosin LX150CEP19759, a.n. Chrisnawati, alamat Jl. Surabaya D, 6/20 Puri Gading, Jimbaran, Kuta Badung Dikembalikan kepada I Wayan Eva Kusuma Putra 6. Membebankan kepada Para Terdakwa membayar biaya perkara masing-masing sejumlah Rp5.000,00 (lima ribu rupiah) Terdakwa I, Rifqi Abdurahman, dan Terdakwa II, Gunawan, didakwa melakukan pencurian sepeda motor Kawasaki KLX 150 C di Jalan Raya Kayuambua, Bangli, pada 11 Desember 2022, sekitar pukul 00.30 WITA. Berawal dari permintaan Gunawan untuk mencarikan motor KLX, mereka berdua berangkat dari Denpasar ke Kintamani. Di lokasi kejadian, mereka melihat motor KLX tanpa kunci kontak. Rifqi mengambil motor tersebut dengan mendorongnya, sementara Gunawan mengawasi.  Karena Rifqi tidak bisa menyalakan motor, Gunawan membantu mendorongnya. Namun, motor mereka mengalami kerusakan, dan Rifqi melanjutkan mendorong motor curian sendirian. Saat mendorong, Rifqi bertemu saksi-saksi yang curiga dan menghubungi pemilik motor. Rifqi berhasil menyalakan motor, tetapi kehabisan bensin. Ia melanjutkan mendorong ke SPBU Sekardadi, di mana ia tertidur dan ditangkap polisi.  Gunawan ditangkap di Desa Dumilih. Motor curian dan motor yang digunakan para terdakwa disita. Korban, I Wayan Eva Kusuma Putra, mengalami kerugian Rp16.000.000. Para terdakwa didakwa melanggar Pasal 363 Ayat (1) Ke 4 KUHP sebagai dakwaan primair dan Pasal 362 KUHP sebagai dakwaan subsidair. RIFQI ABDURAHMAN\"\n",
    "inference_numerical_tensor = tf.constant([[klasifikasi_perkara_encoded, penuntut_umum_encoded, hakim_encoded, jumlah_saksi_inference]], dtype=tf.float32)\n",
    "inputs = tokenizer(inference_text, padding=True, truncation=True, return_tensors='tf', max_length=512)\n",
    "\n",
    "input_dict = {\n",
    "    'input_ids': inputs['input_ids'],\n",
    "    'attention_mask': inputs['attention_mask'],\n",
    "    'numerical_feature': inference_numerical_tensor\n",
    "}"
   ]
  },
  {
   "cell_type": "code",
   "execution_count": 26,
   "metadata": {},
   "outputs": [
    {
     "name": "stdout",
     "output_type": "stream",
     "text": [
      "[[18.834372]]\n"
     ]
    }
   ],
   "source": [
    "\n",
    "predictions = loaded_model(input_dict)\n",
    "predictions_np = predictions.numpy()\n",
    "\n",
    "print(predictions_np)\n"
   ]
  },
  {
   "cell_type": "code",
   "execution_count": null,
   "metadata": {},
   "outputs": [],
   "source": []
  }
 ],
 "metadata": {
  "kernelspec": {
   "display_name": "tf_gpu",
   "language": "python",
   "name": "python3"
  },
  "language_info": {
   "codemirror_mode": {
    "name": "ipython",
    "version": 3
   },
   "file_extension": ".py",
   "mimetype": "text/x-python",
   "name": "python",
   "nbconvert_exporter": "python",
   "pygments_lexer": "ipython3",
   "version": "3.9.20"
  }
 },
 "nbformat": 4,
 "nbformat_minor": 2
}
