{
 "cells": [
  {
   "cell_type": "code",
   "execution_count": 1,
   "metadata": {},
   "outputs": [
    {
     "name": "stderr",
     "output_type": "stream",
     "text": [
      "c:\\Users\\Kalea\\miniconda3\\envs\\tf_gpu\\lib\\site-packages\\tqdm\\auto.py:21: TqdmWarning: IProgress not found. Please update jupyter and ipywidgets. See https://ipywidgets.readthedocs.io/en/stable/user_install.html\n",
      "  from .autonotebook import tqdm as notebook_tqdm\n"
     ]
    }
   ],
   "source": [
    "import pandas as pd\n",
    "import tensorflow as tf\n",
    "from sklearn.model_selection import train_test_split\n",
    "from transformers import BertTokenizer, TFBertModel\n",
    "from transformers import AutoTokenizer, AutoModelForMaskedLM, TFBertForMaskedLM"
   ]
  },
  {
   "cell_type": "code",
   "execution_count": 2,
   "metadata": {},
   "outputs": [],
   "source": [
    "## cahya/t5-base-indonesian-summarization-cased_summarization_dakwaan\n",
    "# df = pd.read_csv(f'../Data/STAGE 3 PREPROCESSING/T5 BASE_SINGARAJA_TEST_STAGE_3_PREPROCESSING_20241206_145728.csv')\n",
    "\n",
    "## panggi/t5-small-indonesian-summarization-cased_summarization_dakwaan\n",
    "## interstellarx95/mt5-small-finetuned-indonesian-text-summarization-one-epoch_summarization_dakwaan\n",
    "## interstellarx95/mt5-small-finetuned-indonesian-text-summarization-v3_summarization_dakwaan\n",
    "## rayendito/mt5-small-finetuned-xl-sum-indonesia_summarization_dakwaan\n",
    "## interstellarx95/mt5-small-finetuned-indonesian-text-summarization-three-epochs_summarization_dakwaan\n",
    "# df = pd.read_csv(f'../Data/STAGE 3 PREPROCESSING/T5 2ND_SINGARAJA_TEST_STAGE_3_PREPROCESSING_20241207_001236.csv')\n",
    "\n",
    "# \"cahya/bert2bert-indonesian-summarization\",\n",
    "# \"rowjak/bert-indonesian-news-summarization\"\n",
    "# \"cahya/bert2gpt-indonesian-summarization\",\n",
    "df = pd.read_csv(f'../Data/STAGE 3 PREPROCESSING/BERT SINGARAJA_TEST_STAGE_3_PREPROCESSING_20241207_122142.csv')\n"
   ]
  },
  {
   "cell_type": "code",
   "execution_count": 3,
   "metadata": {},
   "outputs": [
    {
     "data": {
      "text/html": [
       "<div>\n",
       "<style scoped>\n",
       "    .dataframe tbody tr th:only-of-type {\n",
       "        vertical-align: middle;\n",
       "    }\n",
       "\n",
       "    .dataframe tbody tr th {\n",
       "        vertical-align: top;\n",
       "    }\n",
       "\n",
       "    .dataframe thead th {\n",
       "        text-align: right;\n",
       "    }\n",
       "</style>\n",
       "<table border=\"1\" class=\"dataframe\">\n",
       "  <thead>\n",
       "    <tr style=\"text-align: right;\">\n",
       "      <th></th>\n",
       "      <th>klasifikasi_perkara</th>\n",
       "      <th>terdakwa</th>\n",
       "      <th>hakim</th>\n",
       "      <th>jumlah_saksi</th>\n",
       "      <th>cleaned_barang_bukti</th>\n",
       "      <th>cleaned_dakwaan</th>\n",
       "      <th>total_pidana_penjara_bulan</th>\n",
       "      <th>cahya_bert2bert_summarization_dakwaan</th>\n",
       "      <th>rowjak/bert-indonesian-news-summarization</th>\n",
       "      <th>cahya_bert2gpt_summarization_dakwaan</th>\n",
       "    </tr>\n",
       "  </thead>\n",
       "  <tbody>\n",
       "    <tr>\n",
       "      <th>0</th>\n",
       "      <td>Kejahatan Perjudian</td>\n",
       "      <td>KETUT SUBAGIA</td>\n",
       "      <td>I Made Bagiarta</td>\n",
       "      <td>3</td>\n",
       "      <td>1 (satu) buah papan bola bergambar 1 (satu) bu...</td>\n",
       "      <td>DAKWAAN   PERTAMA  - Bahwa Terdakwa KETUT SUBA...</td>\n",
       "      <td>4</td>\n",
       "      <td>dakwaan pertama - kedua terdakwa ketut subagia...</td>\n",
       "      <td>dakwaan pertama - kedua terdakwa ketut subagia...</td>\n",
       "      <td>dakwaan pertama - bahwa terdakwa ketut subagia...</td>\n",
       "    </tr>\n",
       "    <tr>\n",
       "      <th>1</th>\n",
       "      <td>Kejahatan Perjudian</td>\n",
       "      <td>KOMANG ADITYA</td>\n",
       "      <td>I Made Bagiarta</td>\n",
       "      <td>3</td>\n",
       "      <td>1 (satu) buah papan bola bergambar 1 (satu) bu...</td>\n",
       "      <td>DAKWAAN   PERTAMA  - Bahwa Terdakwa KETUT SUBA...</td>\n",
       "      <td>4</td>\n",
       "      <td>dakwaan pertama - kedua terdakwa ketut subagia...</td>\n",
       "      <td>dakwaan pertama - kedua terdakwa ketut subagia...</td>\n",
       "      <td>dakwaan pertama - bahwa terdakwa ketut subuku ...</td>\n",
       "    </tr>\n",
       "    <tr>\n",
       "      <th>2</th>\n",
       "      <td>Narkotika</td>\n",
       "      <td>I NYOMAN SUARTA</td>\n",
       "      <td>I Made Bagiarta</td>\n",
       "      <td>3</td>\n",
       "      <td>38 (tiga puluh delapan) potongan pipet plastik...</td>\n",
       "      <td>DAKWAAN   KESATU             Bahwa ia Terdakwa...</td>\n",
       "      <td>52</td>\n",
       "      <td>dakwaan kesatu bahwa ia terdakwa i nyoman suar...</td>\n",
       "      <td>dakwaan kesatu bahwa ia terdakwa i nyoman suar...</td>\n",
       "      <td>dakwaan kesatu bahwa terdakwa i nyoman suarta ...</td>\n",
       "    </tr>\n",
       "    <tr>\n",
       "      <th>3</th>\n",
       "      <td>Narkotika</td>\n",
       "      <td>RICO JAYADI</td>\n",
       "      <td>I Made Bagiarta</td>\n",
       "      <td>3</td>\n",
       "      <td>1 (satu) buah dompet warna hijau 20 (dua puluh...</td>\n",
       "      <td>DAKWAAN   KESATU                              ...</td>\n",
       "      <td>72</td>\n",
       "      <td>dakwaan kesatu bahwa ia terdakwa rico jayadi p...</td>\n",
       "      <td>dakwaan kesatu bahwa ia terdakwa rico jayadi p...</td>\n",
       "      <td>dakwaan kesatu bahwa ia terdakwa rico jayadi p...</td>\n",
       "    </tr>\n",
       "    <tr>\n",
       "      <th>4</th>\n",
       "      <td>Narkotika</td>\n",
       "      <td>SANG PUTU WIDIANA</td>\n",
       "      <td>I Gusti Made Juliartawan</td>\n",
       "      <td>4</td>\n",
       "      <td>1(satu) buah HP merk Realme warna hitam putih</td>\n",
       "      <td>Dakwaan Ke Satu - Bahwa  terdakwa  SANG PUTU W...</td>\n",
       "      <td>48</td>\n",
       "      <td>dakwaan ke satu - satunya tentang terdakwa san...</td>\n",
       "      <td>dakwaan ke satu - satunya ditujukan terhadap t...</td>\n",
       "      <td>dakwaan terhadap terdakwa sang putu widiana be...</td>\n",
       "    </tr>\n",
       "    <tr>\n",
       "      <th>...</th>\n",
       "      <td>...</td>\n",
       "      <td>...</td>\n",
       "      <td>...</td>\n",
       "      <td>...</td>\n",
       "      <td>...</td>\n",
       "      <td>...</td>\n",
       "      <td>...</td>\n",
       "      <td>...</td>\n",
       "      <td>...</td>\n",
       "      <td>...</td>\n",
       "    </tr>\n",
       "    <tr>\n",
       "      <th>1191</th>\n",
       "      <td>Perlindungan dan Pengelolaan Lingkungan Hidup</td>\n",
       "      <td>Jumat Ariyanto</td>\n",
       "      <td>Ida Bagus Bama Dewa. P</td>\n",
       "      <td>3</td>\n",
       "      <td>1 (satu) 1 (satu) batang kayu balang-balang be...</td>\n",
       "      <td>Kesatu  Pasal 83 ayat (1) huruf b UU RI No. 18...</td>\n",
       "      <td>12</td>\n",
       "      <td>kesatu pasal 83 ayat ( 1 ) huruf b uu ri no. 1...</td>\n",
       "      <td>dua pasal dalam uu ri nomor 18 tahun 2013 tent...</td>\n",
       "      <td>kesatu pasal 83 ayat ( 1 ) huruf b undang - un...</td>\n",
       "    </tr>\n",
       "    <tr>\n",
       "      <th>1192</th>\n",
       "      <td>Kejahatan Perjudian</td>\n",
       "      <td>I KETUT ANA SAPUTRA Alias BENCUT</td>\n",
       "      <td>Sudar</td>\n",
       "      <td>1</td>\n",
       "      <td>36 (tiga puluh enam) lembar kertas rekapan</td>\n",
       "      <td>Perbuatan terdakwa sebagaimana diatur dan dian...</td>\n",
       "      <td>4</td>\n",
       "      <td>perbuatan terdakwa sebagaimana diatur dan dian...</td>\n",
       "      <td>terdakwa kasus penyekapan perjudian didakwa pa...</td>\n",
       "      <td>perbuatan terdakwa sebagaimana diatur dan dian...</td>\n",
       "    </tr>\n",
       "    <tr>\n",
       "      <th>1193</th>\n",
       "      <td>Penganiayaan</td>\n",
       "      <td>Sahabudin Alias Udin</td>\n",
       "      <td>Ni Luh Suantini</td>\n",
       "      <td>2</td>\n",
       "      <td>1. 1 (satu) buah tabung gas elpiji ukuran 3 (t...</td>\n",
       "      <td>Pasal 351 ayat (1) Kitab Undang-undang Hukum p...</td>\n",
       "      <td>9</td>\n",
       "      <td>pasal 351 ayat 1 kitab undang - undang hukum p...</td>\n",
       "      <td>kasak kusario ayat ( 1 ) menyebutkan pasal 351...</td>\n",
       "      <td>pasal 351 ayat ( 1 / 1 ), undang - undang huku...</td>\n",
       "    </tr>\n",
       "    <tr>\n",
       "      <th>1194</th>\n",
       "      <td>Kejahatan yang Membahayakan Keamananan Umum Ba...</td>\n",
       "      <td>Putu Kristian Damanta</td>\n",
       "      <td>A.A. Sagung Yuni Wulantrisna</td>\n",
       "      <td>4</td>\n",
       "      <td>-1 (satu)unit sepeda motor merk Yamaha Jupiter...</td>\n",
       "      <td>Pertama  Pasal 187 ayat (1) KUHP dan Kedua  Pa...</td>\n",
       "      <td>24</td>\n",
       "      <td>kabar buruk bagi guus hiddink. dua gol yang di...</td>\n",
       "      <td>satu lagi kado tak menyenangkan bagi tom hiyos...</td>\n",
       "      <td>akhir pekan ke - 25, jumat dinihari ( wib ), b...</td>\n",
       "    </tr>\n",
       "    <tr>\n",
       "      <th>1195</th>\n",
       "      <td>Pencurian</td>\n",
       "      <td>Ketut Gelgel Astrea</td>\n",
       "      <td>Ni Luh Suantini</td>\n",
       "      <td>2</td>\n",
       "      <td>1 (satu) unit sepeda motor Yamaha Jupiter Z wa...</td>\n",
       "      <td>Pasal 362 Kitab Undang-undang Hukum Pidana.</td>\n",
       "      <td>12</td>\n",
       "      <td>pasal 362 kitab undang - undang hukum pidana u...</td>\n",
       "      <td>sidang paripurna dpr kasus pidana korupsi deng...</td>\n",
       "      <td>pasal 362 undang - undang hukum pidana, tindak...</td>\n",
       "    </tr>\n",
       "  </tbody>\n",
       "</table>\n",
       "<p>1196 rows × 10 columns</p>\n",
       "</div>"
      ],
      "text/plain": [
       "                                    klasifikasi_perkara  \\\n",
       "0                                   Kejahatan Perjudian   \n",
       "1                                   Kejahatan Perjudian   \n",
       "2                                             Narkotika   \n",
       "3                                             Narkotika   \n",
       "4                                             Narkotika   \n",
       "...                                                 ...   \n",
       "1191      Perlindungan dan Pengelolaan Lingkungan Hidup   \n",
       "1192                                Kejahatan Perjudian   \n",
       "1193                                       Penganiayaan   \n",
       "1194  Kejahatan yang Membahayakan Keamananan Umum Ba...   \n",
       "1195                                          Pencurian   \n",
       "\n",
       "                              terdakwa                         hakim  \\\n",
       "0                        KETUT SUBAGIA               I Made Bagiarta   \n",
       "1                        KOMANG ADITYA               I Made Bagiarta   \n",
       "2                      I NYOMAN SUARTA               I Made Bagiarta   \n",
       "3                          RICO JAYADI               I Made Bagiarta   \n",
       "4                    SANG PUTU WIDIANA      I Gusti Made Juliartawan   \n",
       "...                                ...                           ...   \n",
       "1191                    Jumat Ariyanto        Ida Bagus Bama Dewa. P   \n",
       "1192  I KETUT ANA SAPUTRA Alias BENCUT                         Sudar   \n",
       "1193              Sahabudin Alias Udin               Ni Luh Suantini   \n",
       "1194             Putu Kristian Damanta  A.A. Sagung Yuni Wulantrisna   \n",
       "1195               Ketut Gelgel Astrea               Ni Luh Suantini   \n",
       "\n",
       "      jumlah_saksi                               cleaned_barang_bukti  \\\n",
       "0                3  1 (satu) buah papan bola bergambar 1 (satu) bu...   \n",
       "1                3  1 (satu) buah papan bola bergambar 1 (satu) bu...   \n",
       "2                3  38 (tiga puluh delapan) potongan pipet plastik...   \n",
       "3                3  1 (satu) buah dompet warna hijau 20 (dua puluh...   \n",
       "4                4      1(satu) buah HP merk Realme warna hitam putih   \n",
       "...            ...                                                ...   \n",
       "1191             3  1 (satu) 1 (satu) batang kayu balang-balang be...   \n",
       "1192             1         36 (tiga puluh enam) lembar kertas rekapan   \n",
       "1193             2  1. 1 (satu) buah tabung gas elpiji ukuran 3 (t...   \n",
       "1194             4  -1 (satu)unit sepeda motor merk Yamaha Jupiter...   \n",
       "1195             2  1 (satu) unit sepeda motor Yamaha Jupiter Z wa...   \n",
       "\n",
       "                                        cleaned_dakwaan  \\\n",
       "0     DAKWAAN   PERTAMA  - Bahwa Terdakwa KETUT SUBA...   \n",
       "1     DAKWAAN   PERTAMA  - Bahwa Terdakwa KETUT SUBA...   \n",
       "2     DAKWAAN   KESATU             Bahwa ia Terdakwa...   \n",
       "3     DAKWAAN   KESATU                              ...   \n",
       "4     Dakwaan Ke Satu - Bahwa  terdakwa  SANG PUTU W...   \n",
       "...                                                 ...   \n",
       "1191  Kesatu  Pasal 83 ayat (1) huruf b UU RI No. 18...   \n",
       "1192  Perbuatan terdakwa sebagaimana diatur dan dian...   \n",
       "1193  Pasal 351 ayat (1) Kitab Undang-undang Hukum p...   \n",
       "1194  Pertama  Pasal 187 ayat (1) KUHP dan Kedua  Pa...   \n",
       "1195        Pasal 362 Kitab Undang-undang Hukum Pidana.   \n",
       "\n",
       "      total_pidana_penjara_bulan  \\\n",
       "0                              4   \n",
       "1                              4   \n",
       "2                             52   \n",
       "3                             72   \n",
       "4                             48   \n",
       "...                          ...   \n",
       "1191                          12   \n",
       "1192                           4   \n",
       "1193                           9   \n",
       "1194                          24   \n",
       "1195                          12   \n",
       "\n",
       "                  cahya_bert2bert_summarization_dakwaan  \\\n",
       "0     dakwaan pertama - kedua terdakwa ketut subagia...   \n",
       "1     dakwaan pertama - kedua terdakwa ketut subagia...   \n",
       "2     dakwaan kesatu bahwa ia terdakwa i nyoman suar...   \n",
       "3     dakwaan kesatu bahwa ia terdakwa rico jayadi p...   \n",
       "4     dakwaan ke satu - satunya tentang terdakwa san...   \n",
       "...                                                 ...   \n",
       "1191  kesatu pasal 83 ayat ( 1 ) huruf b uu ri no. 1...   \n",
       "1192  perbuatan terdakwa sebagaimana diatur dan dian...   \n",
       "1193  pasal 351 ayat 1 kitab undang - undang hukum p...   \n",
       "1194  kabar buruk bagi guus hiddink. dua gol yang di...   \n",
       "1195  pasal 362 kitab undang - undang hukum pidana u...   \n",
       "\n",
       "              rowjak/bert-indonesian-news-summarization  \\\n",
       "0     dakwaan pertama - kedua terdakwa ketut subagia...   \n",
       "1     dakwaan pertama - kedua terdakwa ketut subagia...   \n",
       "2     dakwaan kesatu bahwa ia terdakwa i nyoman suar...   \n",
       "3     dakwaan kesatu bahwa ia terdakwa rico jayadi p...   \n",
       "4     dakwaan ke satu - satunya ditujukan terhadap t...   \n",
       "...                                                 ...   \n",
       "1191  dua pasal dalam uu ri nomor 18 tahun 2013 tent...   \n",
       "1192  terdakwa kasus penyekapan perjudian didakwa pa...   \n",
       "1193  kasak kusario ayat ( 1 ) menyebutkan pasal 351...   \n",
       "1194  satu lagi kado tak menyenangkan bagi tom hiyos...   \n",
       "1195  sidang paripurna dpr kasus pidana korupsi deng...   \n",
       "\n",
       "                   cahya_bert2gpt_summarization_dakwaan  \n",
       "0     dakwaan pertama - bahwa terdakwa ketut subagia...  \n",
       "1     dakwaan pertama - bahwa terdakwa ketut subuku ...  \n",
       "2     dakwaan kesatu bahwa terdakwa i nyoman suarta ...  \n",
       "3     dakwaan kesatu bahwa ia terdakwa rico jayadi p...  \n",
       "4     dakwaan terhadap terdakwa sang putu widiana be...  \n",
       "...                                                 ...  \n",
       "1191  kesatu pasal 83 ayat ( 1 ) huruf b undang - un...  \n",
       "1192  perbuatan terdakwa sebagaimana diatur dan dian...  \n",
       "1193  pasal 351 ayat ( 1 / 1 ), undang - undang huku...  \n",
       "1194  akhir pekan ke - 25, jumat dinihari ( wib ), b...  \n",
       "1195  pasal 362 undang - undang hukum pidana, tindak...  \n",
       "\n",
       "[1196 rows x 10 columns]"
      ]
     },
     "execution_count": 3,
     "metadata": {},
     "output_type": "execute_result"
    }
   ],
   "source": [
    "df"
   ]
  },
  {
   "cell_type": "code",
   "execution_count": 4,
   "metadata": {},
   "outputs": [
    {
     "data": {
      "text/plain": [
       "Index(['klasifikasi_perkara', 'terdakwa', 'hakim', 'jumlah_saksi',\n",
       "       'cleaned_barang_bukti', 'cleaned_dakwaan', 'total_pidana_penjara_bulan',\n",
       "       'cahya_bert2bert_summarization_dakwaan',\n",
       "       'rowjak/bert-indonesian-news-summarization',\n",
       "       'cahya_bert2gpt_summarization_dakwaan'],\n",
       "      dtype='object')"
      ]
     },
     "execution_count": 4,
     "metadata": {},
     "output_type": "execute_result"
    }
   ],
   "source": [
    "df.columns"
   ]
  },
  {
   "cell_type": "code",
   "execution_count": 5,
   "metadata": {},
   "outputs": [],
   "source": [
    "# use_summarize = \"cahya/t5-base-indonesian-summarization-cased_summarization_dakwaan\"\n",
    "# use_summarize = \"panggi/t5-small-indonesian-summarization-cased_summarization_dakwaan\"\n",
    "# use_summarize = \"interstellarx95/mt5-small-finetuned-indonesian-text-summarization-one-epoch_summarization_dakwaan\"\n",
    "# use_summarize = \"interstellarx95/mt5-small-finetuned-indonesian-text-summarization-v3_summarization_dakwaan\"\n",
    "# use_summarize = \"rayendito/mt5-small-finetuned-xl-sum-indonesia_summarization_dakwaan\"\n",
    "# use_summarize = \"interstellarx95/mt5-small-finetuned-indonesian-text-summarization-three-epochs_summarization_dakwaan\"\n",
    "# use_summarize = \"cahya/bert2bert-indonesian-summarization\"\n",
    "# use_summarize = \"rowjak/bert-indonesian-news-summarization\"\n",
    "use_summarize = \"cahya/bert2gpt-indonesian-summarization\"\n",
    "\n"
   ]
  },
  {
   "cell_type": "markdown",
   "metadata": {},
   "source": []
  },
  {
   "cell_type": "code",
   "execution_count": 6,
   "metadata": {},
   "outputs": [],
   "source": [
    "# # SINGLE DATA SUM\n",
    "# # Drop the 'cleaned_dakwaan' column\n",
    "# df = df.drop(columns=['cleaned_dakwaan'])\n",
    "\n",
    "# # Rename the column\n",
    "# df = df.rename(columns={\n",
    "#     'cahya/t5-base-indonesian-summarization-cased_summarization_dakwaan': 'summarized_dakwaan'\n",
    "# })\n",
    "\n",
    "# # Print updated DataFrame\n",
    "# print(df.columns)\n"
   ]
  },
  {
   "cell_type": "code",
   "execution_count": 8,
   "metadata": {},
   "outputs": [
    {
     "name": "stdout",
     "output_type": "stream",
     "text": [
      "Index(['klasifikasi_perkara', 'terdakwa', 'hakim', 'jumlah_saksi',\n",
      "       'cleaned_barang_bukti', 'total_pidana_penjara_bulan',\n",
      "       'summarized_dakwaan'],\n",
      "      dtype='object')\n"
     ]
    }
   ],
   "source": [
    "# Drop the 'cleaned_dakwaan' column\n",
    "column_list = [\n",
    "    'klasifikasi_perkara',\n",
    "    'terdakwa',\n",
    "    'hakim',\n",
    "    'jumlah_saksi',\n",
    "    'cleaned_barang_bukti',\n",
    "    'total_pidana_penjara_bulan',\n",
    "    'cahya_bert2gpt_summarization_dakwaan'\n",
    "]\n",
    "\n",
    "df_copy = df[column_list]\n",
    "# Rename the column\n",
    "df_copy = df_copy.rename(columns={\n",
    "    'cahya_bert2gpt_summarization_dakwaan': 'summarized_dakwaan'\n",
    "})\n",
    "\n",
    "# Print updated DataFrame\n",
    "print(df_copy.columns)\n"
   ]
  },
  {
   "cell_type": "code",
   "execution_count": 9,
   "metadata": {},
   "outputs": [
    {
     "name": "stdout",
     "output_type": "stream",
     "text": [
      "Index(['klasifikasi_perkara', 'terdakwa', 'hakim', 'jumlah_saksi',\n",
      "       'cleaned_barang_bukti', 'total_pidana_penjara_bulan',\n",
      "       'summarized_dakwaan'],\n",
      "      dtype='object')\n"
     ]
    }
   ],
   "source": [
    "print(df_copy.columns)"
   ]
  },
  {
   "cell_type": "code",
   "execution_count": 10,
   "metadata": {},
   "outputs": [],
   "source": [
    "# Use all columns except 'total_pidana_penjara_bulan' as features and set it as the target\n",
    "X = df_copy.drop(columns=['total_pidana_penjara_bulan'])\n",
    "y = df_copy['total_pidana_penjara_bulan']\n",
    "\n",
    "# Train-test split\n",
    "train_X, val_X, train_y, val_y = train_test_split(X, y, test_size=0.2, random_state=42)"
   ]
  },
  {
   "cell_type": "code",
   "execution_count": 11,
   "metadata": {},
   "outputs": [],
   "source": [
    "tokenizer = AutoTokenizer.from_pretrained(\"indolem/indobert-base-uncased\")"
   ]
  },
  {
   "cell_type": "code",
   "execution_count": 12,
   "metadata": {},
   "outputs": [],
   "source": [
    "# Tokenize each feature column independently\n",
    "def tokenize_features(features_df, tokenizer, max_len=128):\n",
    "    tokenized_data = {}\n",
    "    for column in features_df.columns:\n",
    "        encodings = tokenizer(\n",
    "            features_df[column].astype(str).tolist(),\n",
    "            max_length=max_len,\n",
    "            padding=\"max_length\",\n",
    "            truncation=True,\n",
    "            return_tensors=\"tf\",\n",
    "        )\n",
    "        tokenized_data[f\"{column}_input_ids\"] = encodings[\"input_ids\"]\n",
    "        tokenized_data[f\"{column}_attention_mask\"] = encodings[\"attention_mask\"]\n",
    "    return tokenized_data"
   ]
  },
  {
   "cell_type": "code",
   "execution_count": 13,
   "metadata": {},
   "outputs": [],
   "source": [
    "train_tokenized = tokenize_features(train_X, tokenizer)\n",
    "val_tokenized = tokenize_features(val_X, tokenizer)"
   ]
  },
  {
   "cell_type": "code",
   "execution_count": 14,
   "metadata": {},
   "outputs": [],
   "source": [
    "train_y = tf.convert_to_tensor(train_y.values, dtype=tf.float32)\n",
    "val_y = tf.convert_to_tensor(val_y.values, dtype=tf.float32)"
   ]
  },
  {
   "cell_type": "code",
   "execution_count": 15,
   "metadata": {},
   "outputs": [],
   "source": [
    "# Create TensorFlow datasets\n",
    "train_dataset = tf.data.Dataset.from_tensor_slices((train_tokenized, train_y)).batch(16)\n",
    "val_dataset = tf.data.Dataset.from_tensor_slices((val_tokenized, val_y)).batch(16)"
   ]
  },
  {
   "cell_type": "code",
   "execution_count": 16,
   "metadata": {},
   "outputs": [
    {
     "name": "stderr",
     "output_type": "stream",
     "text": [
      "Some weights of the PyTorch model were not used when initializing the TF 2.0 model TFBertForMaskedLM: ['cls.predictions.decoder.bias']\n",
      "- This IS expected if you are initializing TFBertForMaskedLM from a PyTorch model trained on another task or with another architecture (e.g. initializing a TFBertForSequenceClassification model from a BertForPreTraining model).\n",
      "- This IS NOT expected if you are initializing TFBertForMaskedLM from a PyTorch model that you expect to be exactly identical (e.g. initializing a TFBertForSequenceClassification model from a BertForSequenceClassification model).\n",
      "All the weights of TFBertForMaskedLM were initialized from the PyTorch model.\n",
      "If your task is similar to the task the model of the checkpoint was trained on, you can already use TFBertForMaskedLM for predictions without further training.\n"
     ]
    }
   ],
   "source": [
    "# Define BERT-based model\n",
    "bert_model = TFBertForMaskedLM.from_pretrained('indolem/indobert-base-uncased', from_pt=True)"
   ]
  },
  {
   "cell_type": "code",
   "execution_count": 17,
   "metadata": {},
   "outputs": [],
   "source": [
    "# Freeze the BERT layers if you don't want to fine-tune them\n",
    "for layer in bert_model.layers:\n",
    "    layer.trainable = False\n"
   ]
  },
  {
   "cell_type": "code",
   "execution_count": 18,
   "metadata": {},
   "outputs": [],
   "source": [
    "# Process each feature through BERT\n",
    "feature_inputs = {}\n",
    "bert_outputs = []\n",
    "for column in train_X.columns:\n",
    "    # Create input layers for input_ids and attention_mask\n",
    "    input_ids = tf.keras.layers.Input(shape=(128,), dtype=tf.int32, name=f\"{column}_input_ids\")\n",
    "    attention_mask = tf.keras.layers.Input(shape=(128,), dtype=tf.int32, name=f\"{column}_attention_mask\")\n",
    "    \n",
    "    # Pass through BERT model\n",
    "    bert_output = bert_model(input_ids, attention_mask=attention_mask)\n",
    "    \n",
    "    # BERT output contains multiple items, where the first is the last hidden state\n",
    "    last_hidden_state = bert_output[0]  # This is the last_hidden_state\n",
    "    \n",
    "    # Apply pooling to get a fixed-length representation of the sequence\n",
    "    pooled_output = tf.keras.layers.GlobalAveragePooling1D()(last_hidden_state)\n",
    "    \n",
    "    # Store the input layers and outputs\n",
    "    feature_inputs[f\"{column}_input_ids\"] = input_ids\n",
    "    feature_inputs[f\"{column}_attention_mask\"] = attention_mask\n",
    "    bert_outputs.append(pooled_output)"
   ]
  },
  {
   "cell_type": "code",
   "execution_count": 19,
   "metadata": {},
   "outputs": [
    {
     "name": "stdout",
     "output_type": "stream",
     "text": [
      "Epoch 1/20\n",
      "60/60 [==============================] - 91s 835ms/step - loss: 1344.8839 - mae: 21.2341 - val_loss: 736.9052 - val_mae: 22.6709\n",
      "Epoch 2/20\n",
      "60/60 [==============================] - 40s 665ms/step - loss: 1280.2122 - mae: 20.3188 - val_loss: 730.3505 - val_mae: 22.5782\n",
      "Epoch 3/20\n",
      "60/60 [==============================] - 38s 641ms/step - loss: 1268.8971 - mae: 20.3300 - val_loss: 749.1930 - val_mae: 22.8939\n",
      "Epoch 4/20\n",
      "60/60 [==============================] - 38s 643ms/step - loss: 1241.5654 - mae: 20.1093 - val_loss: 746.7938 - val_mae: 22.7466\n",
      "Epoch 5/20\n",
      "60/60 [==============================] - 38s 637ms/step - loss: 1248.0219 - mae: 20.3736 - val_loss: 691.1351 - val_mae: 21.0848\n",
      "Epoch 6/20\n",
      "60/60 [==============================] - 39s 647ms/step - loss: 1191.8325 - mae: 19.4118 - val_loss: 718.9481 - val_mae: 21.6005\n",
      "Epoch 7/20\n",
      "60/60 [==============================] - 39s 658ms/step - loss: 1215.2079 - mae: 19.9595 - val_loss: 676.2579 - val_mae: 20.3306\n",
      "Epoch 8/20\n",
      "60/60 [==============================] - 38s 643ms/step - loss: 1192.9276 - mae: 19.5938 - val_loss: 659.7531 - val_mae: 19.8129\n",
      "Epoch 9/20\n",
      "60/60 [==============================] - 38s 638ms/step - loss: 1173.6267 - mae: 19.4367 - val_loss: 635.0263 - val_mae: 19.0644\n",
      "Epoch 10/20\n",
      "60/60 [==============================] - 39s 646ms/step - loss: 1168.1633 - mae: 19.4476 - val_loss: 698.3050 - val_mae: 20.6542\n",
      "Epoch 11/20\n",
      "60/60 [==============================] - 39s 655ms/step - loss: 1168.3234 - mae: 19.4175 - val_loss: 723.1650 - val_mae: 21.1879\n",
      "Epoch 12/20\n",
      "60/60 [==============================] - 39s 654ms/step - loss: 1133.5452 - mae: 18.9544 - val_loss: 667.4550 - val_mae: 19.7073\n",
      "Epoch 13/20\n",
      "60/60 [==============================] - 39s 645ms/step - loss: 1102.7732 - mae: 18.5798 - val_loss: 680.7316 - val_mae: 20.0156\n",
      "Epoch 14/20\n",
      "60/60 [==============================] - 38s 640ms/step - loss: 1129.6896 - mae: 19.0530 - val_loss: 642.3945 - val_mae: 18.8950\n",
      "Epoch 15/20\n",
      "60/60 [==============================] - 39s 647ms/step - loss: 1123.9977 - mae: 18.9035 - val_loss: 603.2902 - val_mae: 17.7267\n",
      "Epoch 16/20\n",
      "60/60 [==============================] - 39s 648ms/step - loss: 1090.8895 - mae: 18.5016 - val_loss: 597.4578 - val_mae: 17.4832\n",
      "Epoch 17/20\n",
      "60/60 [==============================] - 39s 645ms/step - loss: 1116.6101 - mae: 18.9637 - val_loss: 641.8757 - val_mae: 18.8214\n",
      "Epoch 18/20\n",
      "60/60 [==============================] - 39s 647ms/step - loss: 1095.7302 - mae: 18.7224 - val_loss: 607.9759 - val_mae: 17.8887\n",
      "Epoch 19/20\n",
      "60/60 [==============================] - 38s 644ms/step - loss: 1125.2834 - mae: 19.2633 - val_loss: 692.4726 - val_mae: 20.1357\n",
      "Epoch 20/20\n",
      "60/60 [==============================] - 39s 644ms/step - loss: 1112.5150 - mae: 19.2845 - val_loss: 606.2333 - val_mae: 17.7326\n"
     ]
    }
   ],
   "source": [
    "# Concatenate BERT outputs from all features\n",
    "concatenated_features = tf.keras.layers.Concatenate()(bert_outputs)\n",
    "\n",
    "# Add a regression head\n",
    "output = tf.keras.layers.Dense(1, activation=\"linear\")(concatenated_features)\n",
    "\n",
    "# Build the model\n",
    "model = tf.keras.Model(inputs=feature_inputs, outputs=output)\n",
    "\n",
    "# Compile the model\n",
    "model.compile(optimizer=tf.keras.optimizers.Adam(learning_rate=3e-5), loss=\"mse\", metrics=[\"mae\"])\n",
    "\n",
    "# Train the model\n",
    "history = model.fit(train_dataset, validation_data=val_dataset, epochs=20)"
   ]
  },
  {
   "cell_type": "code",
   "execution_count": 20,
   "metadata": {},
   "outputs": [
    {
     "data": {
      "image/png": "[encoded data removed]",
      "text/plain": [
       "<Figure size 1200x600 with 2 Axes>"
      ]
     },
     "metadata": {},
     "output_type": "display_data"
    }
   ],
   "source": [
    "import matplotlib.pyplot as plt\n",
    "\n",
    "# Get the training and validation metrics\n",
    "train_loss = history.history['loss']\n",
    "val_loss = history.history['val_loss']\n",
    "train_mae = history.history['mae']\n",
    "val_mae = history.history['val_mae']\n",
    "\n",
    "# Plot training and validation loss\n",
    "plt.figure(figsize=(12, 6))\n",
    "\n",
    "plt.subplot(1, 2, 1)\n",
    "plt.plot(range(1, len(train_loss) + 1), train_loss, label='Training Loss')\n",
    "plt.plot(range(1, len(val_loss) + 1), val_loss, label='Validation Loss')\n",
    "plt.xlabel('Epochs')\n",
    "plt.ylabel('Loss')\n",
    "plt.title('Training vs Validation Loss')\n",
    "plt.legend()\n",
    "\n",
    "# Plot training and validation MAE\n",
    "plt.subplot(1, 2, 2)\n",
    "plt.plot(range(1, len(train_mae) + 1), train_mae, label='Training MAE')\n",
    "plt.plot(range(1, len(val_mae) + 1), val_mae, label='Validation MAE')\n",
    "plt.xlabel('Epochs')\n",
    "plt.ylabel('Mean Absolute Error')\n",
    "plt.title('Training vs Validation MAE')\n",
    "plt.legend()\n",
    "\n",
    "# Show the plots\n",
    "plt.tight_layout()\n",
    "plt.show()"
   ]
  },
  {
   "cell_type": "code",
   "execution_count": 21,
   "metadata": {},
   "outputs": [
    {
     "name": "stdout",
     "output_type": "stream",
     "text": [
      "1/1 [==============================] - 10s 10s/step\n",
      "Actual Kurungan Penjara: [4]\n",
      "Predicted Kurungan Penjara: [[37.851852]]\n"
     ]
    }
   ],
   "source": [
    "# Tokenize the new data (you can use the same tokenizer as in training)\n",
    "actual_sentence = y.iloc[0:1].values\n",
    "new_data = X.iloc[0:1]  # Extracting the first row (1 row, hence 0:1)\n",
    "\n",
    "new_tokenized = tokenize_features(new_data, tokenizer)\n",
    "\n",
    "# Make predictions using the trained model\n",
    "predictions = model.predict(new_tokenized)\n",
    "\n",
    "print(f\"Actual Kurungan Penjara: {actual_sentence}\")\n",
    "print(f\"Predicted Kurungan Penjara: {predictions}\")"
   ]
  },
  {
   "cell_type": "code",
   "execution_count": 21,
   "metadata": {},
   "outputs": [
    {
     "data": {
      "text/plain": [
       "array([4], dtype=int64)"
      ]
     },
     "execution_count": 21,
     "metadata": {},
     "output_type": "execute_result"
    }
   ],
   "source": [
    "actual_sentence"
   ]
  },
  {
   "cell_type": "code",
   "execution_count": null,
   "metadata": {},
   "outputs": [],
   "source": []
  }
 ],
 "metadata": {
  "kernelspec": {
   "display_name": "tf_gpu",
   "language": "python",
   "name": "python3"
  },
  "language_info": {
   "codemirror_mode": {
    "name": "ipython",
    "version": 3
   },
   "file_extension": ".py",
   "mimetype": "text/x-python",
   "name": "python",
   "nbconvert_exporter": "python",
   "pygments_lexer": "ipython3",
   "version": "3.9.20"
  }
 },
 "nbformat": 4,
 "nbformat_minor": 2
}
