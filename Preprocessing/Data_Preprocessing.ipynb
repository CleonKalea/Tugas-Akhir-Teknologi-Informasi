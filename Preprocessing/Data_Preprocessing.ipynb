{
 "cells": [
  {
   "cell_type": "markdown",
   "metadata": {},
   "source": [
    "# Import Library"
   ]
  },
  {
   "cell_type": "code",
   "execution_count": 74,
   "metadata": {},
   "outputs": [],
   "source": [
    "import pandas as pd\n",
    "import numpy as np\n",
    "import re\n",
    "from pymongo import MongoClient\n",
    "import sys\n",
    "import os\n",
    "\n",
    "code_path = os.path.abspath('../')\n",
    "sys.path.append(code_path)\n",
    "\n",
    "from credentials import connection_string"
   ]
  },
  {
   "cell_type": "markdown",
   "metadata": {},
   "source": [
    "# Import Data"
   ]
  },
  {
   "cell_type": "markdown",
   "metadata": {},
   "source": [
    "## Connect to MongoDB Cluster"
   ]
  },
  {
   "cell_type": "code",
   "execution_count": 27,
   "metadata": {},
   "outputs": [],
   "source": [
    "database_name = \"Singaraja\"\n",
    "collection_name = f\"{database_name}_Raw\""
   ]
  },
  {
   "cell_type": "code",
   "execution_count": 28,
   "metadata": {},
   "outputs": [],
   "source": [
    "client = MongoClient(connection_string)\n",
    "db = client[database_name]\n",
    "collection = db[collection_name]"
   ]
  },
  {
   "cell_type": "markdown",
   "metadata": {},
   "source": [
    "## Get All Documents from Selected Collection"
   ]
  },
  {
   "cell_type": "code",
   "execution_count": 29,
   "metadata": {},
   "outputs": [],
   "source": [
    "all_documents = collection.find()"
   ]
  },
  {
   "cell_type": "markdown",
   "metadata": {},
   "source": [
    "## Convert to DataFrame"
   ]
  },
  {
   "cell_type": "code",
   "execution_count": 30,
   "metadata": {},
   "outputs": [],
   "source": [
    "df = pd.DataFrame(list(all_documents))\n",
    "\n",
    "# drop _id\n",
    "if '_id' in df.columns:\n",
    "    df.drop(columns=['_id'], inplace=True)"
   ]
  },
  {
   "cell_type": "code",
   "execution_count": 31,
   "metadata": {},
   "outputs": [
    {
     "data": {
      "text/html": [
       "<div>\n",
       "<style scoped>\n",
       "    .dataframe tbody tr th:only-of-type {\n",
       "        vertical-align: middle;\n",
       "    }\n",
       "\n",
       "    .dataframe tbody tr th {\n",
       "        vertical-align: top;\n",
       "    }\n",
       "\n",
       "    .dataframe thead th {\n",
       "        text-align: right;\n",
       "    }\n",
       "</style>\n",
       "<table border=\"1\" class=\"dataframe\">\n",
       "  <thead>\n",
       "    <tr style=\"text-align: right;\">\n",
       "      <th></th>\n",
       "      <th>status_perkara</th>\n",
       "      <th>nomor_perkara</th>\n",
       "      <th>klasifikasi_perkara</th>\n",
       "      <th>tanggal_pendaftaran</th>\n",
       "      <th>lama_proses</th>\n",
       "      <th>terdakwa</th>\n",
       "      <th>penuntut_umum</th>\n",
       "      <th>hakim</th>\n",
       "      <th>jumlah_saksi</th>\n",
       "      <th>putusan_hukuman</th>\n",
       "      <th>barang_bukti</th>\n",
       "      <th>dakwaan</th>\n",
       "    </tr>\n",
       "  </thead>\n",
       "  <tbody>\n",
       "    <tr>\n",
       "      <th>0</th>\n",
       "      <td>Minutasi</td>\n",
       "      <td>122/Pid.B/2024/PN Sgr</td>\n",
       "      <td>Kejahatan Perjudian</td>\n",
       "      <td>Kamis, 08 Agu. 2024</td>\n",
       "      <td>41 Hari</td>\n",
       "      <td>['KETUT SUBAGIA', 'KOMANG ADITYA']</td>\n",
       "      <td>['Kadek Adi Pramarta, S.H.']</td>\n",
       "      <td>['I Made Bagiarta~Hakim Ketua~Ya', 'Anak Agung...</td>\n",
       "      <td>3</td>\n",
       "      <td>['KOMANG ADITYA~Pidana Penjara Waktu Tertentu ...</td>\n",
       "      <td>MENGADILI:\\nMenyatakan Terdakwa I. Ketut Subag...</td>\n",
       "      <td>KEJAKSAAN REPUBLIK INDONESIA\\nKEJAKSAAN TINGGI...</td>\n",
       "    </tr>\n",
       "    <tr>\n",
       "      <th>1</th>\n",
       "      <td>Minutasi</td>\n",
       "      <td>118/Pid.Sus/2024/PN Sgr</td>\n",
       "      <td>Narkotika</td>\n",
       "      <td>Senin, 05 Agu. 2024</td>\n",
       "      <td>44 Hari</td>\n",
       "      <td>['I NYOMAN SUARTA']</td>\n",
       "      <td>['I MADE SUTAPA,S.H.']</td>\n",
       "      <td>['I Made Bagiarta~Hakim Ketua~Tidak', 'Ni Made...</td>\n",
       "      <td>3</td>\n",
       "      <td>['I NYOMAN SUARTA~Subsider Penjara (2 Bulan )\\...</td>\n",
       "      <td>MENGADILI:\\nMenyatakan Terdakwa I NYOMAN SUART...</td>\n",
       "      <td>KEJAKSAAN REPUBLIK INDONESIA\\nKEJAKSAAN TINGGI...</td>\n",
       "    </tr>\n",
       "    <tr>\n",
       "      <th>2</th>\n",
       "      <td>Minutasi</td>\n",
       "      <td>114/Pid.Sus/2024/PN Sgr</td>\n",
       "      <td>Narkotika</td>\n",
       "      <td>Kamis, 01 Agu. 2024</td>\n",
       "      <td>48 Hari</td>\n",
       "      <td>['RICO JAYADI']</td>\n",
       "      <td>['I MADE SUTAPA,S.H.']</td>\n",
       "      <td>['I Made Bagiarta~Hakim Ketua~Ya', 'I Gusti Ay...</td>\n",
       "      <td>3</td>\n",
       "      <td>['RICO JAYADI~Subsider Penjara (3 Bulan )\\nPid...</td>\n",
       "      <td>MENGADILI:\\nMenyatakan Terdakwa Rico Jayadi te...</td>\n",
       "      <td>KEJAKSAAN REPUBLIK INDONESIA\\nKEJAKSAAN TINGGI...</td>\n",
       "    </tr>\n",
       "    <tr>\n",
       "      <th>3</th>\n",
       "      <td>Minutasi</td>\n",
       "      <td>115/Pid.Sus/2024/PN Sgr</td>\n",
       "      <td>Narkotika</td>\n",
       "      <td>Kamis, 01 Agu. 2024</td>\n",
       "      <td>53 Hari</td>\n",
       "      <td>['SANG PUTU WIDIANA']</td>\n",
       "      <td>['Isnarti Jayaningsih, S.H.']</td>\n",
       "      <td>['I Gusti Made Juliartawan~Hakim Ketua~Tidak',...</td>\n",
       "      <td>4</td>\n",
       "      <td>['SANG PUTU WIDIANA~Subsider Penjara (2 Bulan ...</td>\n",
       "      <td>MENGADILI:\\nMenyatakan Terdakwa SANG PUTU WIDI...</td>\n",
       "      <td>KEJAKSAAN REPUBLIK INDONESIA\\nKEJAKSAAN TINGGI...</td>\n",
       "    </tr>\n",
       "    <tr>\n",
       "      <th>4</th>\n",
       "      <td>Minutasi</td>\n",
       "      <td>116/Pid.Sus/2024/PN Sgr</td>\n",
       "      <td>Narkotika</td>\n",
       "      <td>Kamis, 01 Agu. 2024</td>\n",
       "      <td>53 Hari</td>\n",
       "      <td>['WAYAN DARNA MASTONO']</td>\n",
       "      <td>['Isnarti Jayaningsih, S.H.']</td>\n",
       "      <td>['I Gusti Made Juliartawan~Hakim Ketua~Tidak',...</td>\n",
       "      <td>4</td>\n",
       "      <td>['WAYAN DARNA MASTONO~Subsider Penjara (2 Bula...</td>\n",
       "      <td>MENGADILI:\\nMenyatakan Terdakwa WAYAN DARNA MA...</td>\n",
       "      <td>KEJAKSAAN REPUBLIK INDONESIA\\nKEJAKSAAN TINGGI...</td>\n",
       "    </tr>\n",
       "    <tr>\n",
       "      <th>...</th>\n",
       "      <td>...</td>\n",
       "      <td>...</td>\n",
       "      <td>...</td>\n",
       "      <td>...</td>\n",
       "      <td>...</td>\n",
       "      <td>...</td>\n",
       "      <td>...</td>\n",
       "      <td>...</td>\n",
       "      <td>...</td>\n",
       "      <td>...</td>\n",
       "      <td>...</td>\n",
       "      <td>...</td>\n",
       "    </tr>\n",
       "    <tr>\n",
       "      <th>1265</th>\n",
       "      <td>Minutasi</td>\n",
       "      <td>223/Pid.Sus/2017/PN Sgr</td>\n",
       "      <td>Perlindungan dan Pengelolaan Lingkungan Hidup</td>\n",
       "      <td>Kamis, 07 Des. 2017</td>\n",
       "      <td>60 Hari</td>\n",
       "      <td>[Jumat Ariyanto]</td>\n",
       "      <td>[I Nyoman Sulitra, SH.,MH.]</td>\n",
       "      <td>[Ida Bagus Bama Dewa. P~Hakim Ketua~Ya, I Made...</td>\n",
       "      <td>3</td>\n",
       "      <td>[Jumat Ariyanto~Pidana Kurungan (1 Tahun )\\nSu...</td>\n",
       "      <td>M E N G A D I L I\\nÂ \\nMenyatakan Terdakwa Jum...</td>\n",
       "      <td>Kesatu : Pasal 83 ayat (1) huruf b UU RI No. 1...</td>\n",
       "    </tr>\n",
       "    <tr>\n",
       "      <th>1266</th>\n",
       "      <td>Minutasi</td>\n",
       "      <td>224/Pid.B/2017/PN Sgr</td>\n",
       "      <td>Kejahatan Perjudian</td>\n",
       "      <td>Kamis, 07 Des. 2017</td>\n",
       "      <td>48 Hari</td>\n",
       "      <td>[I KETUT ANA SAPUTRA Alias BENCUT]</td>\n",
       "      <td>[MADE ASTINI, SH.]</td>\n",
       "      <td>[Sudar~Hakim Ketua~Ya, Ni Luh Suantini~Hakim A...</td>\n",
       "      <td>1</td>\n",
       "      <td>[I KETUT ANA SAPUTRA Alias BENCUT~Pidana Penja...</td>\n",
       "      <td>Menyatakan Terdakwa I Ketut Ana Saputra Alias ...</td>\n",
       "      <td>Perbuatan terdakwa sebagaimana diatur dan dian...</td>\n",
       "    </tr>\n",
       "    <tr>\n",
       "      <th>1267</th>\n",
       "      <td>Minutasi</td>\n",
       "      <td>220/Pid.B/2017/PN Sgr</td>\n",
       "      <td>Penganiayaan</td>\n",
       "      <td>Rabu, 06 Des. 2017</td>\n",
       "      <td>57 Hari</td>\n",
       "      <td>[Sahabudin Alias Udin]</td>\n",
       "      <td>[I KETUT KINDRA, SH]</td>\n",
       "      <td>[Ni Luh Suantini~Hakim Ketua~Ya, I Gede Karang...</td>\n",
       "      <td>2</td>\n",
       "      <td>[Sahabudin Alias Udin~Pidana Penjara Waktu Ter...</td>\n",
       "      <td>M E N G A D I L I :\\nÂ \\n1. Menyatakan terdakw...</td>\n",
       "      <td>Pasal 351 ayat (1) Kitab Undang-undang Hukum p...</td>\n",
       "    </tr>\n",
       "    <tr>\n",
       "      <th>1268</th>\n",
       "      <td>Minutasi</td>\n",
       "      <td>219/Pid.B/2017/PN Sgr</td>\n",
       "      <td>Kejahatan yang Membahayakan Keamananan Umum Ba...</td>\n",
       "      <td>Rabu, 06 Des. 2017</td>\n",
       "      <td>91 Hari</td>\n",
       "      <td>[Putu Kristian Damanta]</td>\n",
       "      <td>[I GUSTI ARYA WIDNYANA, SH.]</td>\n",
       "      <td>[A.A. Sagung Yuni Wulantrisna~Hakim Ketua~Ya, ...</td>\n",
       "      <td>4</td>\n",
       "      <td>[Putu Kristian Damanta~Pidana Penjara Waktu Te...</td>\n",
       "      <td>1. Menyatakan Terdakwa Putu Kristian Damanta ,...</td>\n",
       "      <td>Pertama : Pasal 187 ayat (1) KUHP\\ndan\\nKedua ...</td>\n",
       "    </tr>\n",
       "    <tr>\n",
       "      <th>1269</th>\n",
       "      <td>Minutasi</td>\n",
       "      <td>216/Pid.B/2017/PN Sgr</td>\n",
       "      <td>Pencurian</td>\n",
       "      <td>Senin, 04 Des. 2017</td>\n",
       "      <td>59 Hari</td>\n",
       "      <td>[Ketut Gelgel Astrea]</td>\n",
       "      <td>[MADE ASTINI, SH.]</td>\n",
       "      <td>[Ni Luh Suantini~Hakim Ketua~Ya, I Gede Karang...</td>\n",
       "      <td>2</td>\n",
       "      <td>[Ketut Gelgel Astrea~Pidana Penjara Waktu Tert...</td>\n",
       "      <td>M E N G A D I L I\\nMenyatakan Terdakwa KETUT G...</td>\n",
       "      <td>Pasal 362 Kitab Undang-undang Hukum Pidana.</td>\n",
       "    </tr>\n",
       "  </tbody>\n",
       "</table>\n",
       "<p>1270 rows × 12 columns</p>\n",
       "</div>"
      ],
      "text/plain": [
       "     status_perkara            nomor_perkara  \\\n",
       "0          Minutasi    122/Pid.B/2024/PN Sgr   \n",
       "1          Minutasi  118/Pid.Sus/2024/PN Sgr   \n",
       "2          Minutasi  114/Pid.Sus/2024/PN Sgr   \n",
       "3          Minutasi  115/Pid.Sus/2024/PN Sgr   \n",
       "4          Minutasi  116/Pid.Sus/2024/PN Sgr   \n",
       "...             ...                      ...   \n",
       "1265       Minutasi  223/Pid.Sus/2017/PN Sgr   \n",
       "1266       Minutasi    224/Pid.B/2017/PN Sgr   \n",
       "1267       Minutasi    220/Pid.B/2017/PN Sgr   \n",
       "1268       Minutasi    219/Pid.B/2017/PN Sgr   \n",
       "1269       Minutasi    216/Pid.B/2017/PN Sgr   \n",
       "\n",
       "                                    klasifikasi_perkara  tanggal_pendaftaran  \\\n",
       "0                                   Kejahatan Perjudian  Kamis, 08 Agu. 2024   \n",
       "1                                             Narkotika  Senin, 05 Agu. 2024   \n",
       "2                                             Narkotika  Kamis, 01 Agu. 2024   \n",
       "3                                             Narkotika  Kamis, 01 Agu. 2024   \n",
       "4                                             Narkotika  Kamis, 01 Agu. 2024   \n",
       "...                                                 ...                  ...   \n",
       "1265      Perlindungan dan Pengelolaan Lingkungan Hidup  Kamis, 07 Des. 2017   \n",
       "1266                                Kejahatan Perjudian  Kamis, 07 Des. 2017   \n",
       "1267                                       Penganiayaan   Rabu, 06 Des. 2017   \n",
       "1268  Kejahatan yang Membahayakan Keamananan Umum Ba...   Rabu, 06 Des. 2017   \n",
       "1269                                          Pencurian  Senin, 04 Des. 2017   \n",
       "\n",
       "     lama_proses                            terdakwa  \\\n",
       "0        41 Hari  ['KETUT SUBAGIA', 'KOMANG ADITYA']   \n",
       "1        44 Hari                 ['I NYOMAN SUARTA']   \n",
       "2        48 Hari                     ['RICO JAYADI']   \n",
       "3        53 Hari               ['SANG PUTU WIDIANA']   \n",
       "4        53 Hari             ['WAYAN DARNA MASTONO']   \n",
       "...          ...                                 ...   \n",
       "1265     60 Hari                    [Jumat Ariyanto]   \n",
       "1266     48 Hari  [I KETUT ANA SAPUTRA Alias BENCUT]   \n",
       "1267     57 Hari              [Sahabudin Alias Udin]   \n",
       "1268     91 Hari             [Putu Kristian Damanta]   \n",
       "1269     59 Hari               [Ketut Gelgel Astrea]   \n",
       "\n",
       "                      penuntut_umum  \\\n",
       "0      ['Kadek Adi Pramarta, S.H.']   \n",
       "1            ['I MADE SUTAPA,S.H.']   \n",
       "2            ['I MADE SUTAPA,S.H.']   \n",
       "3     ['Isnarti Jayaningsih, S.H.']   \n",
       "4     ['Isnarti Jayaningsih, S.H.']   \n",
       "...                             ...   \n",
       "1265    [I Nyoman Sulitra, SH.,MH.]   \n",
       "1266             [MADE ASTINI, SH.]   \n",
       "1267           [I KETUT KINDRA, SH]   \n",
       "1268   [I GUSTI ARYA WIDNYANA, SH.]   \n",
       "1269             [MADE ASTINI, SH.]   \n",
       "\n",
       "                                                  hakim  jumlah_saksi  \\\n",
       "0     ['I Made Bagiarta~Hakim Ketua~Ya', 'Anak Agung...             3   \n",
       "1     ['I Made Bagiarta~Hakim Ketua~Tidak', 'Ni Made...             3   \n",
       "2     ['I Made Bagiarta~Hakim Ketua~Ya', 'I Gusti Ay...             3   \n",
       "3     ['I Gusti Made Juliartawan~Hakim Ketua~Tidak',...             4   \n",
       "4     ['I Gusti Made Juliartawan~Hakim Ketua~Tidak',...             4   \n",
       "...                                                 ...           ...   \n",
       "1265  [Ida Bagus Bama Dewa. P~Hakim Ketua~Ya, I Made...             3   \n",
       "1266  [Sudar~Hakim Ketua~Ya, Ni Luh Suantini~Hakim A...             1   \n",
       "1267  [Ni Luh Suantini~Hakim Ketua~Ya, I Gede Karang...             2   \n",
       "1268  [A.A. Sagung Yuni Wulantrisna~Hakim Ketua~Ya, ...             4   \n",
       "1269  [Ni Luh Suantini~Hakim Ketua~Ya, I Gede Karang...             2   \n",
       "\n",
       "                                        putusan_hukuman  \\\n",
       "0     ['KOMANG ADITYA~Pidana Penjara Waktu Tertentu ...   \n",
       "1     ['I NYOMAN SUARTA~Subsider Penjara (2 Bulan )\\...   \n",
       "2     ['RICO JAYADI~Subsider Penjara (3 Bulan )\\nPid...   \n",
       "3     ['SANG PUTU WIDIANA~Subsider Penjara (2 Bulan ...   \n",
       "4     ['WAYAN DARNA MASTONO~Subsider Penjara (2 Bula...   \n",
       "...                                                 ...   \n",
       "1265  [Jumat Ariyanto~Pidana Kurungan (1 Tahun )\\nSu...   \n",
       "1266  [I KETUT ANA SAPUTRA Alias BENCUT~Pidana Penja...   \n",
       "1267  [Sahabudin Alias Udin~Pidana Penjara Waktu Ter...   \n",
       "1268  [Putu Kristian Damanta~Pidana Penjara Waktu Te...   \n",
       "1269  [Ketut Gelgel Astrea~Pidana Penjara Waktu Tert...   \n",
       "\n",
       "                                           barang_bukti  \\\n",
       "0     MENGADILI:\\nMenyatakan Terdakwa I. Ketut Subag...   \n",
       "1     MENGADILI:\\nMenyatakan Terdakwa I NYOMAN SUART...   \n",
       "2     MENGADILI:\\nMenyatakan Terdakwa Rico Jayadi te...   \n",
       "3     MENGADILI:\\nMenyatakan Terdakwa SANG PUTU WIDI...   \n",
       "4     MENGADILI:\\nMenyatakan Terdakwa WAYAN DARNA MA...   \n",
       "...                                                 ...   \n",
       "1265  M E N G A D I L I\\nÂ \\nMenyatakan Terdakwa Jum...   \n",
       "1266  Menyatakan Terdakwa I Ketut Ana Saputra Alias ...   \n",
       "1267  M E N G A D I L I :\\nÂ \\n1. Menyatakan terdakw...   \n",
       "1268  1. Menyatakan Terdakwa Putu Kristian Damanta ,...   \n",
       "1269  M E N G A D I L I\\nMenyatakan Terdakwa KETUT G...   \n",
       "\n",
       "                                                dakwaan  \n",
       "0     KEJAKSAAN REPUBLIK INDONESIA\\nKEJAKSAAN TINGGI...  \n",
       "1     KEJAKSAAN REPUBLIK INDONESIA\\nKEJAKSAAN TINGGI...  \n",
       "2     KEJAKSAAN REPUBLIK INDONESIA\\nKEJAKSAAN TINGGI...  \n",
       "3     KEJAKSAAN REPUBLIK INDONESIA\\nKEJAKSAAN TINGGI...  \n",
       "4     KEJAKSAAN REPUBLIK INDONESIA\\nKEJAKSAAN TINGGI...  \n",
       "...                                                 ...  \n",
       "1265  Kesatu : Pasal 83 ayat (1) huruf b UU RI No. 1...  \n",
       "1266  Perbuatan terdakwa sebagaimana diatur dan dian...  \n",
       "1267  Pasal 351 ayat (1) Kitab Undang-undang Hukum p...  \n",
       "1268  Pertama : Pasal 187 ayat (1) KUHP\\ndan\\nKedua ...  \n",
       "1269        Pasal 362 Kitab Undang-undang Hukum Pidana.  \n",
       "\n",
       "[1270 rows x 12 columns]"
      ]
     },
     "execution_count": 31,
     "metadata": {},
     "output_type": "execute_result"
    }
   ],
   "source": [
    "df"
   ]
  },
  {
   "cell_type": "code",
   "execution_count": 32,
   "metadata": {},
   "outputs": [
    {
     "name": "stdout",
     "output_type": "stream",
     "text": [
      "<class 'pandas.core.frame.DataFrame'>\n",
      "RangeIndex: 1270 entries, 0 to 1269\n",
      "Data columns (total 12 columns):\n",
      " #   Column               Non-Null Count  Dtype \n",
      "---  ------               --------------  ----- \n",
      " 0   status_perkara       1270 non-null   object\n",
      " 1   nomor_perkara        1270 non-null   object\n",
      " 2   klasifikasi_perkara  1270 non-null   object\n",
      " 3   tanggal_pendaftaran  1270 non-null   object\n",
      " 4   lama_proses          1270 non-null   object\n",
      " 5   terdakwa             1270 non-null   object\n",
      " 6   penuntut_umum        1270 non-null   object\n",
      " 7   hakim                1270 non-null   object\n",
      " 8   jumlah_saksi         1270 non-null   int64 \n",
      " 9   putusan_hukuman      1270 non-null   object\n",
      " 10  barang_bukti         1270 non-null   object\n",
      " 11  dakwaan              1267 non-null   object\n",
      "dtypes: int64(1), object(11)\n",
      "memory usage: 119.2+ KB\n"
     ]
    }
   ],
   "source": [
    "df.info()"
   ]
  },
  {
   "cell_type": "markdown",
   "metadata": {},
   "source": [
    "# Data Understanding"
   ]
  },
  {
   "cell_type": "code",
   "execution_count": 33,
   "metadata": {},
   "outputs": [
    {
     "data": {
      "text/html": [
       "<div>\n",
       "<style scoped>\n",
       "    .dataframe tbody tr th:only-of-type {\n",
       "        vertical-align: middle;\n",
       "    }\n",
       "\n",
       "    .dataframe tbody tr th {\n",
       "        vertical-align: top;\n",
       "    }\n",
       "\n",
       "    .dataframe thead th {\n",
       "        text-align: right;\n",
       "    }\n",
       "</style>\n",
       "<table border=\"1\" class=\"dataframe\">\n",
       "  <thead>\n",
       "    <tr style=\"text-align: right;\">\n",
       "      <th></th>\n",
       "      <th>status_perkara</th>\n",
       "      <th>nomor_perkara</th>\n",
       "      <th>klasifikasi_perkara</th>\n",
       "      <th>tanggal_pendaftaran</th>\n",
       "      <th>lama_proses</th>\n",
       "      <th>terdakwa</th>\n",
       "      <th>penuntut_umum</th>\n",
       "      <th>hakim</th>\n",
       "      <th>jumlah_saksi</th>\n",
       "      <th>putusan_hukuman</th>\n",
       "      <th>barang_bukti</th>\n",
       "      <th>dakwaan</th>\n",
       "    </tr>\n",
       "  </thead>\n",
       "  <tbody>\n",
       "    <tr>\n",
       "      <th>0</th>\n",
       "      <td>Minutasi</td>\n",
       "      <td>122/Pid.B/2024/PN Sgr</td>\n",
       "      <td>Kejahatan Perjudian</td>\n",
       "      <td>Kamis, 08 Agu. 2024</td>\n",
       "      <td>41 Hari</td>\n",
       "      <td>['KETUT SUBAGIA', 'KOMANG ADITYA']</td>\n",
       "      <td>['Kadek Adi Pramarta, S.H.']</td>\n",
       "      <td>['I Made Bagiarta~Hakim Ketua~Ya', 'Anak Agung...</td>\n",
       "      <td>3</td>\n",
       "      <td>['KOMANG ADITYA~Pidana Penjara Waktu Tertentu ...</td>\n",
       "      <td>MENGADILI:\\nMenyatakan Terdakwa I. Ketut Subag...</td>\n",
       "      <td>KEJAKSAAN REPUBLIK INDONESIA\\nKEJAKSAAN TINGGI...</td>\n",
       "    </tr>\n",
       "    <tr>\n",
       "      <th>1</th>\n",
       "      <td>Minutasi</td>\n",
       "      <td>118/Pid.Sus/2024/PN Sgr</td>\n",
       "      <td>Narkotika</td>\n",
       "      <td>Senin, 05 Agu. 2024</td>\n",
       "      <td>44 Hari</td>\n",
       "      <td>['I NYOMAN SUARTA']</td>\n",
       "      <td>['I MADE SUTAPA,S.H.']</td>\n",
       "      <td>['I Made Bagiarta~Hakim Ketua~Tidak', 'Ni Made...</td>\n",
       "      <td>3</td>\n",
       "      <td>['I NYOMAN SUARTA~Subsider Penjara (2 Bulan )\\...</td>\n",
       "      <td>MENGADILI:\\nMenyatakan Terdakwa I NYOMAN SUART...</td>\n",
       "      <td>KEJAKSAAN REPUBLIK INDONESIA\\nKEJAKSAAN TINGGI...</td>\n",
       "    </tr>\n",
       "    <tr>\n",
       "      <th>2</th>\n",
       "      <td>Minutasi</td>\n",
       "      <td>114/Pid.Sus/2024/PN Sgr</td>\n",
       "      <td>Narkotika</td>\n",
       "      <td>Kamis, 01 Agu. 2024</td>\n",
       "      <td>48 Hari</td>\n",
       "      <td>['RICO JAYADI']</td>\n",
       "      <td>['I MADE SUTAPA,S.H.']</td>\n",
       "      <td>['I Made Bagiarta~Hakim Ketua~Ya', 'I Gusti Ay...</td>\n",
       "      <td>3</td>\n",
       "      <td>['RICO JAYADI~Subsider Penjara (3 Bulan )\\nPid...</td>\n",
       "      <td>MENGADILI:\\nMenyatakan Terdakwa Rico Jayadi te...</td>\n",
       "      <td>KEJAKSAAN REPUBLIK INDONESIA\\nKEJAKSAAN TINGGI...</td>\n",
       "    </tr>\n",
       "    <tr>\n",
       "      <th>3</th>\n",
       "      <td>Minutasi</td>\n",
       "      <td>115/Pid.Sus/2024/PN Sgr</td>\n",
       "      <td>Narkotika</td>\n",
       "      <td>Kamis, 01 Agu. 2024</td>\n",
       "      <td>53 Hari</td>\n",
       "      <td>['SANG PUTU WIDIANA']</td>\n",
       "      <td>['Isnarti Jayaningsih, S.H.']</td>\n",
       "      <td>['I Gusti Made Juliartawan~Hakim Ketua~Tidak',...</td>\n",
       "      <td>4</td>\n",
       "      <td>['SANG PUTU WIDIANA~Subsider Penjara (2 Bulan ...</td>\n",
       "      <td>MENGADILI:\\nMenyatakan Terdakwa SANG PUTU WIDI...</td>\n",
       "      <td>KEJAKSAAN REPUBLIK INDONESIA\\nKEJAKSAAN TINGGI...</td>\n",
       "    </tr>\n",
       "    <tr>\n",
       "      <th>4</th>\n",
       "      <td>Minutasi</td>\n",
       "      <td>116/Pid.Sus/2024/PN Sgr</td>\n",
       "      <td>Narkotika</td>\n",
       "      <td>Kamis, 01 Agu. 2024</td>\n",
       "      <td>53 Hari</td>\n",
       "      <td>['WAYAN DARNA MASTONO']</td>\n",
       "      <td>['Isnarti Jayaningsih, S.H.']</td>\n",
       "      <td>['I Gusti Made Juliartawan~Hakim Ketua~Tidak',...</td>\n",
       "      <td>4</td>\n",
       "      <td>['WAYAN DARNA MASTONO~Subsider Penjara (2 Bula...</td>\n",
       "      <td>MENGADILI:\\nMenyatakan Terdakwa WAYAN DARNA MA...</td>\n",
       "      <td>KEJAKSAAN REPUBLIK INDONESIA\\nKEJAKSAAN TINGGI...</td>\n",
       "    </tr>\n",
       "  </tbody>\n",
       "</table>\n",
       "</div>"
      ],
      "text/plain": [
       "  status_perkara            nomor_perkara  klasifikasi_perkara  \\\n",
       "0       Minutasi    122/Pid.B/2024/PN Sgr  Kejahatan Perjudian   \n",
       "1       Minutasi  118/Pid.Sus/2024/PN Sgr            Narkotika   \n",
       "2       Minutasi  114/Pid.Sus/2024/PN Sgr            Narkotika   \n",
       "3       Minutasi  115/Pid.Sus/2024/PN Sgr            Narkotika   \n",
       "4       Minutasi  116/Pid.Sus/2024/PN Sgr            Narkotika   \n",
       "\n",
       "   tanggal_pendaftaran lama_proses                            terdakwa  \\\n",
       "0  Kamis, 08 Agu. 2024     41 Hari  ['KETUT SUBAGIA', 'KOMANG ADITYA']   \n",
       "1  Senin, 05 Agu. 2024     44 Hari                 ['I NYOMAN SUARTA']   \n",
       "2  Kamis, 01 Agu. 2024     48 Hari                     ['RICO JAYADI']   \n",
       "3  Kamis, 01 Agu. 2024     53 Hari               ['SANG PUTU WIDIANA']   \n",
       "4  Kamis, 01 Agu. 2024     53 Hari             ['WAYAN DARNA MASTONO']   \n",
       "\n",
       "                   penuntut_umum  \\\n",
       "0   ['Kadek Adi Pramarta, S.H.']   \n",
       "1         ['I MADE SUTAPA,S.H.']   \n",
       "2         ['I MADE SUTAPA,S.H.']   \n",
       "3  ['Isnarti Jayaningsih, S.H.']   \n",
       "4  ['Isnarti Jayaningsih, S.H.']   \n",
       "\n",
       "                                               hakim  jumlah_saksi  \\\n",
       "0  ['I Made Bagiarta~Hakim Ketua~Ya', 'Anak Agung...             3   \n",
       "1  ['I Made Bagiarta~Hakim Ketua~Tidak', 'Ni Made...             3   \n",
       "2  ['I Made Bagiarta~Hakim Ketua~Ya', 'I Gusti Ay...             3   \n",
       "3  ['I Gusti Made Juliartawan~Hakim Ketua~Tidak',...             4   \n",
       "4  ['I Gusti Made Juliartawan~Hakim Ketua~Tidak',...             4   \n",
       "\n",
       "                                     putusan_hukuman  \\\n",
       "0  ['KOMANG ADITYA~Pidana Penjara Waktu Tertentu ...   \n",
       "1  ['I NYOMAN SUARTA~Subsider Penjara (2 Bulan )\\...   \n",
       "2  ['RICO JAYADI~Subsider Penjara (3 Bulan )\\nPid...   \n",
       "3  ['SANG PUTU WIDIANA~Subsider Penjara (2 Bulan ...   \n",
       "4  ['WAYAN DARNA MASTONO~Subsider Penjara (2 Bula...   \n",
       "\n",
       "                                        barang_bukti  \\\n",
       "0  MENGADILI:\\nMenyatakan Terdakwa I. Ketut Subag...   \n",
       "1  MENGADILI:\\nMenyatakan Terdakwa I NYOMAN SUART...   \n",
       "2  MENGADILI:\\nMenyatakan Terdakwa Rico Jayadi te...   \n",
       "3  MENGADILI:\\nMenyatakan Terdakwa SANG PUTU WIDI...   \n",
       "4  MENGADILI:\\nMenyatakan Terdakwa WAYAN DARNA MA...   \n",
       "\n",
       "                                             dakwaan  \n",
       "0  KEJAKSAAN REPUBLIK INDONESIA\\nKEJAKSAAN TINGGI...  \n",
       "1  KEJAKSAAN REPUBLIK INDONESIA\\nKEJAKSAAN TINGGI...  \n",
       "2  KEJAKSAAN REPUBLIK INDONESIA\\nKEJAKSAAN TINGGI...  \n",
       "3  KEJAKSAAN REPUBLIK INDONESIA\\nKEJAKSAAN TINGGI...  \n",
       "4  KEJAKSAAN REPUBLIK INDONESIA\\nKEJAKSAAN TINGGI...  "
      ]
     },
     "execution_count": 33,
     "metadata": {},
     "output_type": "execute_result"
    }
   ],
   "source": [
    "df.head(5)"
   ]
  },
  {
   "cell_type": "markdown",
   "metadata": {},
   "source": [
    "**Dataset Features**\n",
    "| Fitur | Deskripsi | Tipe Data |\n",
    "|-----------------------|-----------------------------------------------------------------------|:------------:|\n",
    "| `status_perkara` | Status dari perkara.| `str` |\n",
    "| `nomor_perkara` | Nomor identifikasi unik untuk perkara.| `str` |\n",
    "| `klasifikasi_perkara` | Kategori atau jenis perkara.| `str` |\n",
    "| `tanggal_pendaftaran` | Tanggal ketika perkara didaftarkan di pengadilan.| `str` |\n",
    "| `lama_proses` | Durasi waktu yang dibutuhkan untuk memproses perkara.| `str` |\n",
    "| `terdakwa` | Nama individu yang didakwa dalam perkara tersebut.| `list[str]` |\n",
    "| `penuntut_umum` | Nama jaksa atau penuntut yang menangani perkara.| `list[str]`  |\n",
    "| `hakim` | Nama hakim yang memimpin sidang perkara.| `list[str]` |\n",
    "| `jumlah_saksi` | Total jumlah saksi yang dihadirkan dalam sidang.| `int` |\n",
    "| `putusan_hukuman` | Putusan atau keputusan yang dijatuhkan oleh hakim.| `list[str]` |\n",
    "| `barang_bukti` | Amar Putusan yang berisi tentang barang bukti perkara.| `str` |\n",
    "| `dakwaan`| Uraian mengenai tuduhan atau dakwaan yang diajukan terhadap terdakwa.| `str` |\n",
    "\n",
    "\n",
    "\n",
    "\n",
    "\n"
   ]
  },
  {
   "cell_type": "markdown",
   "metadata": {},
   "source": [
    "# Data Preprocessing"
   ]
  },
  {
   "cell_type": "markdown",
   "metadata": {},
   "source": [
    "## Data Cleaning"
   ]
  },
  {
   "cell_type": "markdown",
   "metadata": {},
   "source": [
    "### Data Cleaning: Null Values"
   ]
  },
  {
   "cell_type": "code",
   "execution_count": 53,
   "metadata": {},
   "outputs": [
    {
     "name": "stdout",
     "output_type": "stream",
     "text": [
      "Number of null values in each column:\n",
      "status_perkara         0\n",
      "nomor_perkara          0\n",
      "klasifikasi_perkara    0\n",
      "tanggal_pendaftaran    0\n",
      "lama_proses            0\n",
      "terdakwa               0\n",
      "penuntut_umum          0\n",
      "hakim                  0\n",
      "jumlah_saksi           0\n",
      "putusan_hukuman        0\n",
      "barang_bukti           0\n",
      "dakwaan                3\n",
      "dtype: int64\n"
     ]
    }
   ],
   "source": [
    "# Check for null values in the entire DataFrame\n",
    "null_counts = df.isnull().sum()\n",
    "\n",
    "print(\"Number of null values in each column:\")\n",
    "print(null_counts)"
   ]
  },
  {
   "cell_type": "code",
   "execution_count": 54,
   "metadata": {},
   "outputs": [],
   "source": [
    "df_copy = df.dropna()"
   ]
  },
  {
   "cell_type": "markdown",
   "metadata": {},
   "source": [
    "### Data Cleaning: Status Perkara"
   ]
  },
  {
   "cell_type": "code",
   "execution_count": 57,
   "metadata": {},
   "outputs": [
    {
     "name": "stdout",
     "output_type": "stream",
     "text": [
      "Number of unique values in 'status_perkara': 1\n",
      "Unique values: ['Minutasi']\n"
     ]
    }
   ],
   "source": [
    "unique_status_perkara_values = df_copy['status_perkara'].unique()\n",
    "num_unique_status_perkara = len(unique_status_perkara_values)\n",
    "\n",
    "print(f\"Number of unique values in 'status_perkara': {num_unique_status_perkara}\")\n",
    "print(\"Unique values:\", unique_status_perkara_values)\n"
   ]
  },
  {
   "cell_type": "markdown",
   "metadata": {},
   "source": [
    "### Data Cleaning: Nomor Perkara"
   ]
  },
  {
   "cell_type": "code",
   "execution_count": 59,
   "metadata": {},
   "outputs": [
    {
     "name": "stdout",
     "output_type": "stream",
     "text": [
      "Jumlah Data: 1267\n",
      "Jumlah Nilai Unique pada Kolom 'nomor_perkara': 1267\n"
     ]
    }
   ],
   "source": [
    "unique_nomor_perkara_values = df_copy['nomor_perkara'].unique()\n",
    "num_unique_nomor_perkara = len(unique_nomor_perkara_values)\n",
    "\n",
    "print(f\"Jumlah Data: {len(df_copy)}\")\n",
    "print(f\"Jumlah Nilai Unique pada Kolom 'nomor_perkara': {num_unique_nomor_perkara}\")"
   ]
  },
  {
   "cell_type": "markdown",
   "metadata": {},
   "source": [
    "### Data Cleaning: Klasifikasi Perkara"
   ]
  },
  {
   "cell_type": "code",
   "execution_count": 60,
   "metadata": {},
   "outputs": [
    {
     "name": "stdout",
     "output_type": "stream",
     "text": [
      "Number of unique values in 'status_perkara': 38\n",
      "klasifikasi_perkara\n",
      "Pencurian                                                                                               332\n",
      "Narkotika                                                                                               324\n",
      "Penganiayaan                                                                                            104\n",
      "Penggelapan                                                                                              88\n",
      "Perlindungan Anak                                                                                        81\n",
      "Lalu Lintas                                                                                              76\n",
      "Kejahatan Perjudian                                                                                      63\n",
      "Lain-Lain                                                                                                55\n",
      "Penipuan                                                                                                 28\n",
      "Kekerasan Dalam Rumah Tangga                                                                             18\n",
      "Pembunuhan                                                                                               11\n",
      "Tindak Pidana Senjata Api atau Benda Tajam                                                               10\n",
      "Kejahatan Terhadap Ketertiban Umum                                                                        9\n",
      "Informasi dan Transaksi Elektronik                                                                        9\n",
      "Pengeroyokan yang menyebabkan luka ringan, luka berat                                                     6\n",
      "Kejahatan terhadap Kesusilaan                                                                             5\n",
      "Penghancuran atau Perusakan Barang                                                                        5\n",
      "Pertambangan Mineral dan Batubara                                                                         4\n",
      "Konservasi Sumber Daya Alam                                                                               4\n",
      "Pemalsuan Surat                                                                                           4\n",
      "Kejahatan yang Membahayakan Keamananan Umum Bagi Orang atau Barang                                        3\n",
      "Kerusakan Lingkungan Akibat Kegiatan Pertambangan(Mineral,Batu Bara), Minyak dan Gas Bumi                 3\n",
      "Kesehatan                                                                                                 3\n",
      "Penadahan, Penerbitan, dan Pencetakan                                                                     3\n",
      "Sumpah Palsu dan Keterangan Palsu                                                                         2\n",
      "Kejahatan terhadap Nyawa                                                                                  2\n",
      "Perubahan atas Undang-Undang Nomor 31 tahun 2004 tentang Perikanan                                        2\n",
      "Pengeroyokan yang menyebabkan kematian                                                                    2\n",
      "Kejahatan terhadap Kemerdekaan Orang                                                                      2\n",
      "Pemerasan dan Pengancaman                                                                                 1\n",
      "Perkelahian Tanding                                                                                       1\n",
      "Pemalsuan Mata Uang dan Uang Kertas                                                                       1\n",
      "Hal-hal yang mengakibatkan kerusakan dan pencemaran lingkungan                                            1\n",
      "Perubahan Ketiga atas Undang-Undang Nomor 6 Tahun 1983 Tentang Ketentuan Umum Dan Tata Cara Perpajak      1\n",
      "Pemberantasan Tindak Pidana Perdagangan Orang                                                             1\n",
      "Penebangan Kayu                                                                                           1\n",
      "Perbuatan Tidak Menyenangkan                                                                              1\n",
      "Perlindungan dan Pengelolaan Lingkungan Hidup                                                             1\n",
      "Name: count, dtype: int64\n"
     ]
    }
   ],
   "source": [
    "unique_klasifikasi_perkara_values = df_copy['klasifikasi_perkara'].unique()\n",
    "num_unique_klasifikasi_perkara = len(unique_klasifikasi_perkara_values)\n",
    "unique_klasifikasi_counts = df_copy['klasifikasi_perkara'].value_counts()\n",
    "\n",
    "print(f\"Number of unique values in 'status_perkara': {num_unique_klasifikasi_perkara}\")\n",
    "print(unique_klasifikasi_counts)"
   ]
  },
  {
   "cell_type": "markdown",
   "metadata": {},
   "source": [
    "### Data Cleaning: Barang Bukti"
   ]
  },
  {
   "cell_type": "code",
   "execution_count": 85,
   "metadata": {},
   "outputs": [
    {
     "name": "stdout",
     "output_type": "stream",
     "text": [
      "M E N G A D I L I\n",
      "Menyatakan Terdakwa KETUT GELGEL ASTREA identitas seperti tersebut diatas telah terbukti secara sah dan meyakinkan bersalah melakukan tindak pidana Â â€Pencurianâ€ ;\n",
      "Menjatuhkan pidana kepada Terdakwa oleh karenanya Â dengan pidana penjara Â selama Â 1 (satu) tahun;\n",
      "Menetapkan masa penangkapan dan penahanan yang telah dijalani Terdakwa dikurangkan seluruhnya dari pidana yang dijatuhkan ;\n",
      "Menetapkan Terdakwa tetap berada dalam tahanan ;\n",
      "Menetapkan barang bukti berupa ;\n",
      "1 (satu) unit sepeda motor Yamaha Jupiter Z warna hitam tahun 2006 , Nomor Polisi DK 6540 UN,Noka :MH32P20026K154375, Nosin :2P2-154118;\n",
      "1 (satu) lembar surat kendaraan STNK atas nama HENDRA;\n",
      "Dikembalikan kepada saksi korbanÂ  GEDE AGUS DIKA ANDRIANA Â atau yang berhak;\n",
      "Membebankan kepada Terdakwa untuk membayar biaya perkara sebesar Rp. 5000,- (lima ribu rupiah);Â\n"
     ]
    }
   ],
   "source": [
    "# for index, row in df_copy.iterrows():\n",
    "#     print(f\"Index: {index}, Terdakwa: {row['barang_bukti']}\")\n",
    "\n",
    "text = df_copy.iloc[-1]['barang_bukti']\n",
    "print(text)"
   ]
  },
  {
   "cell_type": "code",
   "execution_count": 104,
   "metadata": {},
   "outputs": [],
   "source": [
    "# cleaned_text = re.sub(r'[^a-zA-Z0-9., /\\\\()\\\"\\'-]+', '', text)\n",
    "cleaned_text = re.sub(r'[^a-zA-Z0-9., /\\\\()\\\"\\'\\n-]+', '', text)"
   ]
  },
  {
   "cell_type": "code",
   "execution_count": 105,
   "metadata": {},
   "outputs": [
    {
     "name": "stdout",
     "output_type": "stream",
     "text": [
      "M E N G A D I L I\n",
      "Menyatakan Terdakwa KETUT GELGEL ASTREA identitas seperti tersebut diatas telah terbukti secara sah dan meyakinkan bersalah melakukan tindak pidana  Pencurian \n",
      "Menjatuhkan pidana kepada Terdakwa oleh karenanya  dengan pidana penjara  selama  1 (satu) tahun\n",
      "Menetapkan masa penangkapan dan penahanan yang telah dijalani Terdakwa dikurangkan seluruhnya dari pidana yang dijatuhkan \n",
      "Menetapkan Terdakwa tetap berada dalam tahanan \n",
      "Menetapkan barang bukti berupa \n",
      "1 (satu) unit sepeda motor Yamaha Jupiter Z warna hitam tahun 2006 , Nomor Polisi DK 6540 UN,Noka MH32P20026K154375, Nosin 2P2-154118\n",
      "1 (satu) lembar surat kendaraan STNK atas nama HENDRA\n",
      "Dikembalikan kepada saksi korban  GEDE AGUS DIKA ANDRIANA  atau yang berhak\n",
      "Membebankan kepada Terdakwa untuk membayar biaya perkara sebesar Rp. 5000,- (lima ribu rupiah)\n"
     ]
    }
   ],
   "source": [
    "print(cleaned_text)"
   ]
  },
  {
   "cell_type": "code",
   "execution_count": 106,
   "metadata": {},
   "outputs": [
    {
     "data": {
      "text/plain": [
       "'M E N G A D I L I\\nMenyatakan Terdakwa KETUT GELGEL ASTREA identitas seperti tersebut diatas telah terbukti secara sah dan meyakinkan bersalah melakukan tindak pidana  Pencurian \\nMenjatuhkan pidana kepada Terdakwa oleh karenanya  dengan pidana penjara  selama  1 (satu) tahun\\nMenetapkan masa penangkapan dan penahanan yang telah dijalani Terdakwa dikurangkan seluruhnya dari pidana yang dijatuhkan \\nMenetapkan Terdakwa tetap berada dalam tahanan \\nMenetapkan barang bukti berupa \\n1 (satu) unit sepeda motor Yamaha Jupiter Z warna hitam tahun 2006 , Nomor Polisi DK 6540 UN,Noka MH32P20026K154375, Nosin 2P2-154118\\n1 (satu) lembar surat kendaraan STNK atas nama HENDRA\\nDikembalikan kepada saksi korban  GEDE AGUS DIKA ANDRIANA  atau yang berhak\\nMembebankan kepada Terdakwa untuk membayar biaya perkara sebesar Rp. 5000,- (lima ribu rupiah)'"
      ]
     },
     "execution_count": 106,
     "metadata": {},
     "output_type": "execute_result"
    }
   ],
   "source": [
    "cleaned_text"
   ]
  },
  {
   "cell_type": "code",
   "execution_count": 107,
   "metadata": {},
   "outputs": [],
   "source": [
    "cleaned_text = re.sub(r' +', ' ', cleaned_text)\n",
    "# cleaned_text = re.sub(r'\\s+', ' ', cleaned_text)\n",
    "# cleaned_text = cleaned_text.strip()"
   ]
  },
  {
   "cell_type": "code",
   "execution_count": 118,
   "metadata": {},
   "outputs": [
    {
     "name": "stdout",
     "output_type": "stream",
     "text": [
      "M E N G A D I L I\n",
      "Menyatakan Terdakwa KETUT GELGEL ASTREA identitas seperti tersebut diatas telah terbukti secara sah dan meyakinkan bersalah melakukan tindak pidana Pencurian \n",
      "Menjatuhkan pidana kepada Terdakwa oleh karenanya dengan pidana penjara selama 1 (satu) tahun\n",
      "Menetapkan masa penangkapan dan penahanan yang telah dijalani Terdakwa dikurangkan seluruhnya dari pidana yang dijatuhkan \n",
      "Menetapkan Terdakwa tetap berada dalam tahanan \n",
      "Menetapkan barang bukti berupa \n",
      "1 (satu) unit sepeda motor Yamaha Jupiter Z warna hitam tahun 2006 , Nomor Polisi DK 6540 UN,Noka MH32P20026K154375, Nosin 2P2-154118\n",
      "1 (satu) lembar surat kendaraan STNK atas nama HENDRA\n",
      "Dikembalikan kepada saksi korban GEDE AGUS DIKA ANDRIANA atau yang berhak\n",
      "Membebankan kepada Terdakwa untuk membayar biaya perkara sebesar Rp. 5000,- (lima ribu rupiah)\n"
     ]
    }
   ],
   "source": [
    "print(cleaned_text)"
   ]
  },
  {
   "cell_type": "code",
   "execution_count": 119,
   "metadata": {},
   "outputs": [
    {
     "name": "stdout",
     "output_type": "stream",
     "text": [
      "Menetapkan barang bukti berupa \n",
      "1 (satu) unit sepeda motor Yamaha Jupiter Z warna hitam tahun 2006 , Nomor Polisi DK 6540 UN,Noka MH32P20026K154375, Nosin 2P2-154118\n",
      "1 (satu) lembar surat kendaraan STNK atas nama HENDRA\n"
     ]
    }
   ],
   "source": [
    "pattern = r\"Menetapkan barang bukti berupa\\s*(.*?)(?=\\n\\s*[A-Z]|$)\"\n",
    "# pattern = r\"Menetapkan barang bukti berupa\\s*(.*?)(?=\\n[A-Z])\"\n",
    "match = re.search(pattern, cleaned_text, re.DOTALL)\n",
    "\n",
    "if match:\n",
    "    print(match.group().strip())\n",
    "else:\n",
    "    print(\"Tidak ada kecocokan ditemukan.\")"
   ]
  },
  {
   "cell_type": "markdown",
   "metadata": {},
   "source": [
    "### Data Cleaning: Dakwaan"
   ]
  },
  {
   "cell_type": "code",
   "execution_count": 133,
   "metadata": {},
   "outputs": [
    {
     "name": "stdout",
     "output_type": "stream",
     "text": [
      "KEJAKSAAN REPUBLIK INDONESIA\n",
      "KEJAKSAAN TINGGI BALI\n",
      "KEJAKSAAN  NEGERI  BULELENG\n",
      "Jl. Dewi Sartika No. 23, Kaliuntu, Kec. Buleleng, Kab. Buleleng, Bali\n",
      "Telp. (0362) 22580. www.kejari-buleleng.go.id.\n",
      "\"Demi Keadilan dan Kebenaran Berdasarkan Ketuhanan Yang Maha Esa\"\n",
      "P-29\n",
      "          SURAT DAKWAAN\n",
      "NOMOR REG. PERKARA : PDM- 19/Eku.2/Bll/07/2024.\n",
      "  IDENTITAS TERDAKWA :\n",
      "Nama Lengkap\n",
      ":\n",
      "KETUT SUBAGIA\n",
      "Nomor Identitas\n",
      ":\n",
      "5108010205860005\n",
      "Tempat lahir\n",
      ":\n",
      "Gondol\n",
      "Umur/tanggal lahir\n",
      ":\n",
      "38 Tahun/ 02 Mei 1986\n",
      "Jenis Kelamin\n",
      ":\n",
      "Laki-laki\n",
      "Kebangsaan/Kewarganegaraan\n",
      ":\n",
      "Indonesia\n",
      "Tempat Tinggal\n",
      ":\n",
      "Banjar Dinas Gondol, Desa Penyabangan, Kecamatan Gerokgak, Kabupaten Buleleng\n",
      "A g a m a\n",
      ":\n",
      "Hindu\n",
      "Pekerjaan\n",
      ":\n",
      "Karyawan Swasta\n",
      "Pendidikan\n",
      ":\n",
      "SD\n",
      "      Nama Lengkap\n",
      ":\n",
      "KOMANG ADITYA\n",
      "Nomor Identitas\n",
      ":\n",
      "5108010107020184\n",
      "Tempat lahir\n",
      ":\n",
      "Penyabangan\n",
      "Umur/tanggal lahir\n",
      ":\n",
      "22  Tahun/ 01 November 2001\n",
      "Jenis Kelamin\n",
      ":\n",
      "Laki-laki\n",
      "Kebangsaan/Kewarganegaraan\n",
      ":\n",
      "Indonesia\n",
      "Tempat Tinggal\n",
      ":\n",
      "Banjar Dinas Triamerta, RT/RW:-/-, Desa Penyabangan, Kecamatan Gerokgak, Kabupaten Buleleng\n",
      "A g a m a\n",
      ":\n",
      "Hindu\n",
      "Pekerjaan\n",
      ":\n",
      "Wiraswasta (KTP. Pelajar/Mahasiswa)\n",
      "Pendidikan\n",
      ":\n",
      "SMK\n",
      "  STATUS PENANGKAPAN DAN PENAHANAN :\n",
      "Tahap Penyidikan :\n",
      "    Ditangkap\n",
      ":\n",
      "Para Terdakwa ditangkap Tanggal 02 Juni 2024 s/d Tanggal 03 Juni 2024\n",
      "Ditahan oleh penyidik\n",
      ":\n",
      "Para Terdakwa ditahan di Rutan Polda Bali : sejak tanggal. 02 Juni 2024  s/d tanggal  21 Juni 2024.        \n",
      "Diperpanjang oleh PU\n",
      ":\n",
      "Para Terdakwa ditahan di Rutan Polda Bali  sejak Tanggal 22 Juni 2024 s/d Tanggal 31 Juli 2024.\n",
      "Tahap Penuntutan :\n",
      "    Ditahan oleh Penuntut Umum\n",
      ":\n",
      "Para Terdakwa ditahan di RUTAN/Lembaga Pemasyarakatan Klas II B Singaraja sejak tanggal 29 Juli 2024 s/d Tanggal 17 Agustus 2024.\n",
      "  DAKWAAN\n",
      "  PERTAMA :\n",
      "--------- Bahwa Terdakwa KETUT SUBAGIA bersama dengan Terdakwa KOMANG ADITYA pada hari Minggu tanggal 02 Juni 2024 sekitar jam 00.30 Wita atau pada suatu waktu dalam bulan Juni 2024 atau setidak-tidaknya dalam tahun 2024 bertempat di pesisir pantai Gondol, Desa Penyabangan, Kec. Gerokgak, Kab. Buleleng, Prov. Bali, atau setidak-tidaknya di suatu tempat yang masih termasuk dalam daerah hukum Pengadilan Negeri Singaraja, dengan sengaja menawarkan atau memberi kesempatan untuk permainan judi yaitu judi bola adil dan menjadikan sebagai pencaharian, atau dengan sengaja turut serta dalam suatu perusahaan untuk itu, yang dilakukan antara lain dengan cara sebagai berikut  : ----------------------------------------------------------------------------------------\n",
      "Bahwa pada waktu dan tempat seperti tersebut diatas, pada saat saksi Polisi Dandik Danny Saputra dan saksi I Made Yogi Mahendra melakukan penyelidikan Pesisir Pantai Gerokgak rawan terjadi adanya tindak pidana, selanjutnya melakukan penangkapan terhadap Terdakwa KETUT SUBAGIA bersama dengan Terdakwa KOMANG ADITYA pada saat terdakwa KETUT SUBAGIA dan Terdakwa KOMANG ADITYA  sedang berlangsung permainan perjudian bola adil di pesisir pantai Gondol, Desa Penyabangan, Kec. Gerokgak, Kab. Buleleng, Prov. Bali pada hari Minggu tanggal 2 Juni 2024 sekira pukul 00.30 WITA dimana Terdakwa KETUT SUBAGIA duduk dibawah di belakang perlak bergambar sedangkan Terdakwa KOMANG ADITYA duduk di belakang papan bola adil, dan sudah ada yang bermain bola adil kurang lebih ada 20 (dua puluh) orang pemain selanjutnya diamankan barang berupa 1 (satu) buah papan bola bergambar, 1 (satu) buah tas kain warna abu-abu, 1 (satu) buah perlak bergambar, 1 (satu) buah tas karung warna biru garis merah, 2 (dua)  buah bola karet warna hitam, 1 (satu) buah bola karet warna cokelat, 1 (satu) buah bola karet warna hijau, 1 (satu) buah tas kain warna hitam, 4 (empat) buah kayu penyeimbang, 1 (satu) botol bedak bayi, 48 (empat puluh delapan) buah papan cek kayu berwarna hijau dengan nomor 5 (lima), 68 (enam puluh delapan) buah papan cek kayu berwarna merah dengan nomor 10 (sepuluh), 44 (empat puluh empat) buah papan cek kayu berwarna biru dengan nomor 20 (duapuluh), 17 (tujuh belas) buah papan cek kayu berwarna abu-abu dengan nomor 30 (tigapuluh), 17 (tujuh belas) buah papan cek kayu berwarna ungu dengan nomor 50 (limapuluh), 1 (satu) buah lap warna orange, 1 (satu) buah lap warna putih kotak warna biru, uang sejumlah Rp. 1.108.000,- (satu juta seratus delapan ribu rupiah) terdiri dari :\n",
      "8 (delapan) lembar uang pecahan Rp. 100.000,- (Seratus ribu rupiah);\n",
      "2 (dua) lembar uang pecahan Rp. 50.000,- (lima puluh ribu rupiah);\n",
      "4 (empat) lembar uang pecahan Rp. 20.000,- (duapuluh ribu rupiah);\n",
      "7 (tujuh) lembar uang pecahan Rp. 10.000,- (sepuluh ribu rupiah);\n",
      "6 (enam) lembar uang pecahan Rp. 5.000,- (lima ribu rupiah);\n",
      "12 (dua belas) lembar uang pecahan Rp. 2.000,- (dua ribu rupiah);\n",
      "4 (empat) lembar uang pecahan Rp. 1.000,- (seribu rupiah).\n",
      "Bahwa Terdakwa KETUT SUBAGIA dalam permainan judi bola adil tersebut berperan sebagai penyelenggara yang mengadakan permainan judi bola adil dan juga sebagai pemodal, mengambil uang - uang taruhan yang berada di atas perlak, menggelindingkan bola, sedangkan Terdakwa KOMANG ADITYA    sebagai pekerja dan merapikan uang serta memberikan  uang kepada pemenang permainan bola adil.\n",
      "Bahwa dalam permainan judi bola adil  tersebut sarana yang digunakan yakni :\n",
      "1 (satu) buah papan bola bergambar digunakan sebagai tempat glindingan bola dan menentukan kemenangan dalam gambar yang tertera pada perlak pasangan;\n",
      "1 (satu) buah tas kain warna abu-abu digunakan untuk pembungkus papan bola adil;\n",
      "1 (satu) buah perlak bergambar digunakan untuk pasangan uang taruhan judi bola adil;\n",
      "1 (satu) buah tas karung warna biru garis merah dipergunakan untuk tempat menyimpan cek dan perlak;\n",
      "2 (dua)  buah bola karet warna hitam untuk sebagai petunjuk atau penentuan kemenangan dalam gambar;\n",
      "1 (satu) buah bola karet warna cokelat untuk sebagai petunjuk atau penentuan kemenangan dalam gambar;\n",
      "1 (satu) buah bola karet warna hijau untuk sebagai petunjuk atau penentuan kemenangan dalam gambar;\n",
      "1 (satu) buah tas kain warna hitam digunakan untuk penyimpan bola;\n",
      "4 (empat) buah kayu penyeimbang digunakan untuk menyeimbangkan papan bola adil;\n",
      "1 (satu) botol bedak bayi sebagai pelicin bola saat diglindingkan diatas papan bola adil;\n",
      "48 (empat puluh delapan) buah papan cek kayu berwarna hijau dengan nomor 5 (lima) digunakan untuk pengganti uang pasangan pecahan Rp. 5.000.000 (lima ribu rupiah);\n",
      "68 (enam puluh delapan) buah papan cek kayu berwarna merah dengan nomor 10 (sepuluh) digunakan untuk pengganti uang pasangan pecahan Rp. 10.000.000 (sepuluh ribu rupiah);\n",
      "44 (empat puluh empat) buah papan cek kayu berwarna biru dengan nomor 20 (duapuluh) digunakan untuk pengganti uang pasangan pecahan Rp. 20.000.000 (dua puluh ribu rupiah);\n",
      "17 (tujuh belas) buah papan cek kayu berwarna abu-abu dengan nomor 30 (tigapuluh) digunakan untuk pengganti uang pasangan pecahan Rp. 30.000.000 (tiga puluh ribu rupiah);\n",
      "17 (tujuh belas) buah papan cek kayu berwarna ungu dengan nomor 50 (limapuluh) digunakan untuk pengganti uang pasangan pecahan Rp. 50.000.000 (lima puluh ribu rupiah);\n",
      "1 (satu) buah lap warna orange digunakan untuk mengelap meja bola adil;\n",
      "1 (satu) buah lap warna putih kotak warna biru digunakan untuk mengelap meja bola adil;\n",
      "Bahwa dari pihak penyelenggara permainan judi bola adil, menyiapkan papan berbentuk segi empat dengan ukuran sisinya kurang lebih 60 Cm, didalamnya bergambar pojok, palang dan bola. Warna hitam, merah, hijau dan kuning sehingga jumlah gambar pada papan menjadi 12 jenis. Pada setiap gambar di papan agak cekung sebagai tempat bola berhenti. Digelar pada tanah sama rata diukur dengan water pass.  Didepan papan bola adil digelar perlak bergambar yang sama dengan gambar yang ada pada papan bola adil namun gambarnya hanya 12 gambar sebagai tempat menaruh uang untuk pasangan sesuai yang diinginkan. Pemain permainan judi bola adil bisa memilih memasang dengan menggunakan uang ataupun menggunakan cek (pengganti uang taruhan sementara dalam permainan judi bola adil) yang sesuai nominal uang yang di pasangkan dan pemain permainan judi bola adil bisa sebelum melakukan permainan judi bola adil pemain bisa menukarkan uangnya terlebih dahulu ke Terdakwa KETUT SUBAGIA dan Terdakwa KOMANG ADITYA untuk ditukarkan menjadi nominal uang pecahan kecil, contohnya calon pemain membawa uang Rp. 100.000 (seratus ribu rupiah) ditukarkan ke Terdakwa KETUT SUBAGIA selaku pengada permainan judi bola adil kemudian diberikan cek (pengganti uang taruhan sementara dalam permainan judi bola adil)  yang terbuat dari:\n",
      "papan kayu berwarna hijau dengan nomor 5 (lima);\n",
      "papan kayu berwarna merah dengan nomor 10 (sepuluh);\n",
      "papan kayu berwarna biru dengan nomor 20 (dua puluh);\n",
      "papan kayu berwarna abu-abu dengan nomor 30 (tiga puluh); dan\n",
      "papan kayu berwarna ungu dengan nomor 50 (lima puluh).\n",
      "Bahwa dalam permainan judi bola adil tersebut  pembayaran yang telah dinyatakan menang  bagi para pemain yang telah menaruh pasangannya atau taruhannya di perlak yang bergambar  yaitu mendapatkan  hadiah berupa  uang rupiah  contoh :\n",
      "pemain memasang taruhan Rp.5.000.,- (lima ribu rupiah) atau cek (pengganti uang taruhan sementara dalam permainan judi bola adil) yang terbuat dari papan kayu berwarna hijau dengan nomor 5 (lima) maka pemain akan mendapatkan uang kemenangan 9 (sembilan) kali lipat x Rp. 5.000,- = Rp. 45.000,- (empat puluh lima ribu rupiah) dan ditambah uang taruhan Rp.5.000.,- (lima ribu rupiah) yang sudah dipasang dikembalikan ke pemain. Sehingga uang yang diberikan ke pemain  berjumlah total Rp. 50.000,- (lima puluh ribu rupiah) termasuk uang taruhan yang dipasang;\n",
      "pemain masang taruhan Rp.10.000.,- (sepuluh ribu rupiah) atau cek (pengganti uang taruhan sementara dalam permainan judi bola adil) yang terbuat dari papan kayu berwarna merah dengan nomor 10 (sepuluh) maka pemain akan mendapatkan uang kemenangan 9 (sembilan) kali lipat x Rp. 10.000,- = Rp. 90.000,- (sembilan puluh ribu rupiah) dan ditambah uang taruhan Rp.10.000.,- (sepuluh ribu rupiah) yang sudah dipasang dikembalikan ke pemain. Sehingga uang yang diberikan ke pemain  berjumlah total Rp. 100.000,- (seratus ribu rupiah) termasuk uang taruhan yang dipasang.\n",
      "dan apabila pemain yang telah dipasang atau ditaruh diatas perlak bergambar tidak tidak cocok dinyatakan kalah.\n",
      "Bahwa di papan bola adil tersebut terdapat 4 warna yaitu merah, kuning hijau dan hitam adapun gambarnya yaitu berbentuk segitiga, palang, bola, sedangkan diperlak bergambar terdapat 4 warna yaitu merah, kuning, hijau, dan hitam sedangkan gambarnya segitiga, bola, dan palang\n",
      "Bahwa ada pemain kurang lebih 20 (dua puluh) orang dan sudah berlangsung kurang lebih 100 (seratus)  kali permainan serta jumlah modal dalam permainan saat dilakukan penangkapan kurang lebih Rp 1.000.000,- (satu juta rupiah), yang dikeluarkan oleh Terdakwa KETUT SUBAGIA sejumlah Rp 1.000.000,- (satu juta rupiah) diperoleh dari pengumpulan dari hasil kemenangan sebelumnya dan dalam kurun waktu permainan dari jam 22.00 WITA sampai ditangkapnya sekira jam 00.30 WITA sudah mendapat kemenangan sebanyak kurang lebih Rp 108.000,- (seratus delapan ribu rupiah);\n",
      "Bahwa tujuan menyelenggarakan judi bola adil tersebut untuk kebutuhan sehari - hari Terdakwa KETUT SUBAGIA dan keluarga, rata - rata keuntungan bersih yang diperoleh setiap tiga kali mengadakan permainan judi bola adil kurang lebih Rp. 1.000.000,- (satu juta rupiah) dimana  Terdakwa KETUT SUBAGIA memberikan Terdakwa KOMANG ADITYA memperoleh setiap mengadakan permainan judi bola adil rata - rata Rp. 100.000 (seratus ribu rupiah) menyesuaikan hasil kemenangan pada saat itu namun jika mengadakan permainan judi bola adil tersebut mengalami kalah tidak mendapatkan kenuntungan atau bagianyang nantinya keuntungan tersebut dipergunakan untuk menambah kebutuhan sehari hari.\n",
      "Bahwa sifat permainan  tersebut adalah  untung-untungan , dengan kepintaran dari para pemain untuk menebak bola yang akan berhenti dengan  menggunakan uang sebagai taruhannya dan dalam hal penyelenggaraan judi bola adil sudah ada yang kalah dan yang menang.\n",
      "Bahwa dalam penyelenggaraan judi bola adil tersebut tempatnya terbuka untuk umum dan mudah dijangkau serta dilihat oleh masyarakat ramai karena  tempatnya di di pesisir pantai Gondol, Desa Penyabangan, Kec. Gerokgak, Kab. Buleleng, Prov. Bali dan Terdakwa KETUT SUBAGIA bersama dengan Terdakwa KOMANG ADITYA tidak memiliki ijin dari pihak yang berwenang untuk menyelenggarakan judi bola adil kepada masyarakat karena yang namanya judi apapun dilarang oleh pemerintah.\n",
      "  --------- Perbuatan terdakwa sebagaimana diatur dan diancam pidana dalam Pasal 303 ayat (1) ke-1 KUHP. Jo. Pasal 2 U.U. R.I.  No. 7 tahun 1974 tentang Penertiban Perjudian -------\n",
      "  -------------------------------------------------------- ATAU -----------------------------------------------------\n",
      "  KEDUA :\n",
      "  ---------- Bahwa Terdakwa KETUT SUBAGIA bersama dengan Terdakwa KOMANG ADITYA pada hari Minggu tanggal 02 Juni 2024 sekitar jam 00.30 Wita atau pada suatu waktu dalam bulan Juni 2024 atau setidak-tidaknya dalam tahun 2024 bertempat di pesisir pantai Gondol, Desa Penyabangan, Kec. Gerokgak, Kab. Buleleng, Prov. Bali, atau setidak-tidaknya di suatu tempat yang masih termasuk dalam daerah hukum Pengadilan Negeri Singaraja, dengan sengaja menawarkan atau memberi kesempatan kepada khalayak umum untuk permainan judi atau dengan sengaja turut serta dalam suatu perusahaan untuk itu, dengan tidak perduli apakah untuk menggunakan kesempatan adanya sesuatu syarat atau dipenuhinya sesuatu tata cara, yang dilakukan antara lain dengan cara sebagai  berikut  :\n",
      "Bahwa pada waktu dan tempat seperti tersebut diatas, pada saat saksi Polisi Dandik Danny Saputra dan saksi I Made Yogi Mahendra melakukan penyelidikan Pesisir Pantai Gerokgak rawan terjadi adanya tindak pidana, selanjutnya melakukan penangkapan terhadap Terdakwa KETUT SUBAGIA bersama dengan Terdakwa KOMANG ADITYA pada saat terdakwa KETUT SUBAGIA dan Terdakwa KOMANG ADITYA  sedang berlangsung permainan perjudian bola adil di pesisir pantai Gondol, Desa Penyabangan, Kec. Gerokgak, Kab. Buleleng, Prov. Bali pada hari Minggu tanggal 2 Juni 2024 sekira pukul 00.30 WITA dimana Terdakwa KETUT SUBAGIA duduk dibawah di belakang perlak bergambar sedangkan Terdakwa KOMANG ADITYA duduk di belakang papan bola adil, dan sudah ada yang bermain bola adil kurang lebih ada 20 (dua puluh) orang pemain selanjutnya diamankan barang berupa 1 (satu) buah papan bola bergambar, 1 (satu) buah tas kain warna abu-abu, 1 (satu) buah perlak bergambar, 1 (satu) buah tas karung warna biru garis merah, 2 (dua)  buah bola karet warna hitam, 1 (satu) buah bola karet warna cokelat, 1 (satu) buah bola karet warna hijau, 1 (satu) buah tas kain warna hitam, 4 (empat) buah kayu penyeimbang, 1 (satu) botol bedak bayi, 48 (empat puluh delapan) buah papan cek kayu berwarna hijau dengan nomor 5 (lima), 68 (enam puluh delapan) buah papan cek kayu berwarna merah dengan nomor 10 (sepuluh), 44 (empat puluh empat) buah papan cek kayu berwarna biru dengan nomor 20 (duapuluh), 17 (tujuh belas) buah papan cek kayu berwarna abu-abu dengan nomor 30 (tigapuluh), 17 (tujuh belas) buah papan cek kayu berwarna ungu dengan nomor 50 (limapuluh), 1 (satu) buah lap warna orange, 1 (satu) buah lap warna putih kotak warna biru, uang sejumlah Rp. 1.108.000,- (satu juta seratus delapan ribu rupiah) terdiri dari :\n",
      "8 (delapan) lembar uang pecahan Rp. 100.000,- (Seratus ribu rupiah);\n",
      "2 (dua) lembar uang pecahan Rp. 50.000,- (lima puluh ribu rupiah);\n",
      "4 (empat) lembar uang pecahan Rp. 20.000,- (duapuluh ribu rupiah);\n",
      "7 (tujuh) lembar uang pecahan Rp. 10.000,- (sepuluh ribu rupiah);\n",
      "6 (enam) lembar uang pecahan Rp. 5.000,- (lima ribu rupiah);\n",
      "12 (dua belas) lembar uang pecahan Rp. 2.000,- (dua ribu rupiah);\n",
      "4 (empat) lembar uang pecahan Rp. 1.000,- (seribu rupiah).\n",
      "Bahwa Terdakwa KETUT SUBAGIA dalam permainan judi bola adil tersebut berperan sebagai penyelenggara yang mengadakan permainan judi bola adil dan juga sebagai pemodal, mengambil uang - uang taruhan yang berada di atas perlak, menggelindingkan bola, sedangkan Terdakwa KOMANG ADITYA    sebagai pekerja dan merapikan uang serta memberikan  uang kepada pemenang permainan bola adil.\n",
      "Bahwa dalam permainan judi bola adil  tersebut sarana yang digunakan yakni :\n",
      "1 (satu) buah papan bola bergambar digunakan sebagai tempat glindingan bola dan menentukan kemenangan dalam gambar yang tertera pada perlak pasangan;\n",
      "1 (satu) buah tas kain warna abu-abu digunakan untuk pembungkus papan bola adil;\n",
      "1 (satu) buah perlak bergambar digunakan untuk pasangan uang taruhan judi bola adil;\n",
      "1 (satu) buah tas karung warna biru garis merah dipergunakan untuk tempat menyimpan cek dan perlak;\n",
      "2 (dua)  buah bola karet warna hitam untuk sebagai petunjuk atau penentuan kemenangan dalam gambar;\n",
      "1 (satu) buah bola karet warna cokelat untuk sebagai petunjuk atau penentuan kemenangan dalam gambar;\n",
      "1 (satu) buah bola karet warna hijau untuk sebagai petunjuk atau penentuan kemenangan dalam gambar;\n",
      "1 (satu) buah tas kain warna hitam digunakan untuk penyimpan bola;\n",
      "4 (empat) buah kayu penyeimbang digunakan untuk menyeimbangkan papan bola adil;\n",
      "1 (satu) botol bedak bayi sebagai pelicin bola saat diglindingkan diatas papan bola adil;\n",
      "48 (empat puluh delapan) buah papan cek kayu berwarna hijau dengan nomor 5 (lima) digunakan untuk pengganti uang pasangan pecahan Rp. 5.000.000 (lima ribu rupiah);\n",
      "68 (enam puluh delapan) buah papan cek kayu berwarna merah dengan nomor 10 (sepuluh) digunakan untuk pengganti uang pasangan pecahan Rp. 10.000.000 (sepuluh ribu rupiah);\n",
      "44 (empat puluh empat) buah papan cek kayu berwarna biru dengan nomor 20 (duapuluh) digunakan untuk pengganti uang pasangan pecahan Rp. 20.000.000 (dua puluh ribu rupiah);\n",
      "17 (tujuh belas) buah papan cek kayu berwarna abu-abu dengan nomor 30 (tigapuluh) digunakan untuk pengganti uang pasangan pecahan Rp. 30.000.000 (tiga puluh ribu rupiah);\n",
      "17 (tujuh belas) buah papan cek kayu berwarna ungu dengan nomor 50 (limapuluh) digunakan untuk pengganti uang pasangan pecahan Rp. 50.000.000 (lima puluh ribu rupiah);\n",
      "1 (satu) buah lap warna orange digunakan untuk mengelap meja bola adil;\n",
      "1 (satu) buah lap warna putih kotak warna biru digunakan untuk mengelap meja bola adil;\n",
      "Bahwa dari pihak penyelenggara permainan judi bola adil, menyiapkan papan berbentuk segi empat dengan ukuran sisinya kurang lebih 60 Cm, didalamnya bergambar pojok, palang dan bola. Warna hitam, merah, hijau dan kuning sehingga jumlah gambar pada papan menjadi 12 jenis. Pada setiap gambar di papan agak cekung sebagai tempat bola berhenti. Digelar pada tanah sama rata diukur dengan water pass.  Didepan papan bola adil digelar perlak bergambar yang sama dengan gambar yang ada pada papan bola adil namun gambarnya hanya 12 gambar sebagai tempat menaruh uang untuk pasangan sesuai yang diinginkan. Pemain permainan judi bola adil bisa memilih memasang dengan menggunakan uang ataupun menggunakan cek (pengganti uang taruhan sementara dalam permainan judi bola adil) yang sesuai nominal uang yang di pasangkan dan pemain permainan judi bola adil bisa sebelum melakukan permainan judi bola adil pemain bisa menukarkan uangnya terlebih dahulu ke Terdakwa KETUT SUBAGIA dan Terdakwa KOMANG ADITYA untuk ditukarkan menjadi nominal uang pecahan kecil, contohnya calon pemain membawa uang Rp. 100.000 (seratus ribu rupiah) ditukarkan ke Terdakwa KETUT SUBAGIA selaku pengada permainan judi bola adil kemudian diberikan cek (pengganti uang taruhan sementara dalam permainan judi bola adil)  yang terbuat dari:\n",
      "papan kayu berwarna hijau dengan nomor 5 (lima);\n",
      "papan kayu berwarna merah dengan nomor 10 (sepuluh);\n",
      "papan kayu berwarna biru dengan nomor 20 (dua puluh);\n",
      "papan kayu berwarna abu-abu dengan nomor 30 (tiga puluh); dan\n",
      "papan kayu berwarna ungu dengan nomor 50 (lima puluh).\n",
      "Bahwa dalam permainan judi bola adil tersebut  pembayaran yang telah dinyatakan menang  bagi para pemain yang telah menaruh pasangannya atau taruhannya di perlak yang bergambar  yaitu mendapatkan  hadiah berupa  uang rupiah  contoh :\n",
      "pemain memasang taruhan Rp.5.000.,- (lima ribu rupiah) atau cek (pengganti uang taruhan sementara dalam permainan judi bola adil) yang terbuat dari papan kayu berwarna hijau dengan nomor 5 (lima) maka pemain akan mendapatkan uang kemenangan 9 (sembilan) kali lipat x Rp. 5.000,- = Rp. 45.000,- (empat puluh lima ribu rupiah) dan ditambah uang taruhan Rp.5.000.,- (lima ribu rupiah) yang sudah dipasang dikembalikan ke pemain. Sehingga uang yang diberikan ke pemain  berjumlah total Rp. 50.000,- (lima puluh ribu rupiah) termasuk uang taruhan yang dipasang;\n",
      "pemain masang taruhan Rp.10.000.,- (sepuluh ribu rupiah) atau cek (pengganti uang taruhan sementara dalam permainan judi bola adil) yang terbuat dari papan kayu berwarna merah dengan nomor 10 (sepuluh) maka pemain akan mendapatkan uang kemenangan 9 (sembilan) kali lipat x Rp. 10.000,- = Rp. 90.000,- (sembilan puluh ribu rupiah) dan ditambah uang taruhan Rp.10.000.,- (sepuluh ribu rupiah) yang sudah dipasang dikembalikan ke pemain. Sehingga uang yang diberikan ke pemain  berjumlah total Rp. 100.000,- (seratus ribu rupiah) termasuk uang taruhan yang dipasang.\n",
      "dan apabila pemain yang telah dipasang atau ditaruh diatas perlak bergambar tidak tidak cocok dinyatakan kalah.\n",
      "Bahwa di papan bola adil tersebut terdapat 4 warna yaitu merah, kuning hijau dan hitam adapun gambarnya yaitu berbentuk segitiga, palang, bola, sedangkan diperlak bergambar terdapat 4 warna yaitu merah, kuning, hijau, dan hitam sedangkan gambarnya segitiga, bola, dan palang\n",
      "Bahwa ada pemain kurang lebih 20 (dua puluh) orang dan sudah berlangsung kurang lebih 100 (seratus)  kali permainan serta jumlah modal dalam permainan saat dilakukan penangkapan kurang lebih Rp 1.000.000,- (satu juta rupiah), yang dikeluarkan oleh Terdakwa KETUT SUBAGIA sejumlah Rp 1.000.000,- (satu juta rupiah) diperoleh dari pengumpulan dari hasil kemenangan sebelumnya dan dalam kurun waktu permainan dari jam 22.00 WITA sampai ditangkapnya sekira jam 00.30 WITA sudah mendapat kemenangan sebanyak kurang lebih Rp 108.000,- (seratus delapan ribu rupiah);\n",
      "Bahwa tujuan menyelenggarakan judi bola adil tersebut untuk kebutuhan sehari - hari Terdakwa KETUT SUBAGIA dan keluarga, rata - rata keuntungan bersih yang diperoleh setiap tiga kali mengadakan permainan judi bola adil kurang lebih Rp. 1.000.000,- (satu juta rupiah) dimana  Terdakwa KETUT SUBAGIA memberikan Terdakwa KOMANG ADITYA memperoleh setiap mengadakan permainan judi bola adil rata - rata Rp. 100.000 (seratus ribu rupiah) menyesuaikan hasil kemenangan pada saat itu namun jika mengadakan permainan judi bola adil tersebut mengalami kalah tidak mendapatkan kenuntungan atau bagianyang nantinya keuntungan tersebut dipergunakan untuk menambah kebutuhan sehari hari.\n",
      "Bahwa sifat permainan  tersebut adalah  untung-untungan , dengan kepintaran dari para pemain untuk menebak bola yang akan berhenti dengan  menggunakan uang sebagai taruhannya dan dalam hal penyelenggaraan judi bola adil sudah ada yang kalah dan yang menang.\n",
      "Bahwa dalam penyelenggaraan judi bola adil tersebut tempatnya terbuka untuk umum dan mudah dijangkau serta dilihat oleh masyarakat ramai karena  tempatnya di di pesisir pantai Gondol, Desa Penyabangan, Kec. Gerokgak, Kab. Buleleng, Prov. Bali dan Terdakwa KETUT SUBAGIA bersama dengan Terdakwa KOMANG ADITYA tidak memiliki ijin dari pihak yang berwenang untuk menyelenggarakan judi bola adil kepada masyarakat karena yang namanya judi apapun dilarang oleh pemerintah.\n",
      "  --------- Perbuatan terdakwa sebagaimana diatur dan diancam pidana dalam Pasal 303 ayat (1) ke-2 KUHP. Jo. Pasal 2 U.U. R.I.  No. 7 tahun 1974 tentang Penertiban Perjudian. ----------\n",
      "      Singaraja, 07 Juni 2024\n",
      "JAKSA PENUNTUT UMUM\n",
      "      KADEK ADI PRAMARTA, S.H.\n",
      "Jaksa Muda NIP. 198305172007121001\n",
      "        GEDE DEWANGGA PRAHASTA DYATMIKA, S.H.\n",
      "Ajun Jaksa NIP. 199304012018011001\n"
     ]
    }
   ],
   "source": [
    "dakwaan = df_copy.iloc[0]['dakwaan']\n",
    "print(dakwaan)"
   ]
  },
  {
   "cell_type": "code",
   "execution_count": 132,
   "metadata": {},
   "outputs": [
    {
     "name": "stdout",
     "output_type": "stream",
     "text": [
      "Pertama : Pasal 112 ayat (1) UU RI No. 35 tahun 2009 tentang Narkotika.\n",
      "atau\n",
      "Kedua : Pasal 127 ayat (1) huruf a UU RI No. 35 tahun 2009 tentang Narkotika.\n"
     ]
    }
   ],
   "source": [
    "dakwaan = df_copy.iloc[-10]['dakwaan']\n",
    "print(dakwaan)"
   ]
  },
  {
   "cell_type": "code",
   "execution_count": 134,
   "metadata": {},
   "outputs": [
    {
     "name": "stdout",
     "output_type": "stream",
     "text": [
      "Jumlah teks dengan panjang di bawah 100 karakter: 107\n"
     ]
    }
   ],
   "source": [
    "count_short_texts = sum(1 for text in df_copy['dakwaan'] if len(text) < 100)\n",
    "print(f\"Jumlah teks dengan panjang di bawah 100 karakter: {count_short_texts}\")"
   ]
  },
  {
   "cell_type": "code",
   "execution_count": 135,
   "metadata": {},
   "outputs": [
    {
     "name": "stdout",
     "output_type": "stream",
     "text": [
      "Index: 36, Teks: Disamarkan\n",
      "Index: 44, Teks: Disamarkan\n",
      "Index: 67, Teks: Disamarkan\n",
      "Index: 76, Teks: Disamarkan\n",
      "Index: 102, Teks: Disamarkan\n",
      "Index: 103, Teks: Disamarkan\n",
      "Index: 104, Teks: Disamarkan\n",
      "Index: 109, Teks: Disamarkan\n",
      "Index: 119, Teks: Disamarkan\n",
      "Index: 121, Teks: Disamarkan\n",
      "Index: 125, Teks: Disamarkan\n",
      "Index: 126, Teks: Disamarkan\n",
      "Index: 127, Teks: Disamarkan\n",
      "Index: 141, Teks: Disamarkan\n",
      "Index: 142, Teks: Disamarkan\n",
      "Index: 147, Teks: Disamarkan\n",
      "Index: 148, Teks: Disamarkan\n",
      "Index: 160, Teks: Disamarkan\n",
      "Index: 186, Teks: Disamarkan\n",
      "Index: 196, Teks: Disamarkan\n",
      "Index: 199, Teks: Disamarkan\n",
      "Index: 208, Teks: Disamarkan\n",
      "Index: 209, Teks: Disamarkan\n",
      "Index: 218, Teks: Disamarkan\n",
      "Index: 224, Teks: Disamarkan\n",
      "Index: 232, Teks: Disamarkan\n",
      "Index: 252, Teks: Disamarkan\n",
      "Index: 266, Teks: Disamarkan\n",
      "Index: 267, Teks: Disamarkan\n",
      "Index: 270, Teks: Disamarkan\n",
      "Index: 275, Teks: Disamarkan\n",
      "Index: 285, Teks: Disamarkan\n",
      "Index: 286, Teks: Disamarkan\n",
      "Index: 295, Teks: Disamarkan\n",
      "Index: 327, Teks: Disamarkan\n",
      "Index: 329, Teks: Disamarkan\n",
      "Index: 351, Teks: Disamarkan\n",
      "Index: 357, Teks: Disamarkan\n",
      "Index: 373, Teks: Disamarkan\n",
      "Index: 386, Teks: Disamarkan\n",
      "Index: 393, Teks: Disamarkan\n",
      "Index: 413, Teks: Disamarkan\n",
      "Index: 435, Teks: Disamarkan\n",
      "Index: 436, Teks: Disamarkan\n",
      "Index: 444, Teks: Disamarkan\n",
      "Index: 445, Teks: Disamarkan\n",
      "Index: 466, Teks: Disamarkan\n",
      "Index: 473, Teks: Disamarkan\n",
      "Index: 477, Teks: Disamarkan\n",
      "Index: 480, Teks: Disamarkan\n",
      "Index: 481, Teks: Disamarkan\n",
      "Index: 482, Teks: Disamarkan\n",
      "Index: 484, Teks: Disamarkan\n",
      "Index: 503, Teks: Disamarkan\n",
      "Index: 505, Teks: Disamarkan\n",
      "Index: 506, Teks: Disamarkan\n",
      "Index: 536, Teks: Disamarkan\n",
      "Index: 552, Teks: Disamarkan\n",
      "Index: 576, Teks: Disamarkan\n",
      "Index: 581, Teks: Disamarkan\n",
      "Index: 584, Teks: Disamarkan\n",
      "Index: 674, Teks: Disamarkan\n",
      "Index: 675, Teks: Disamarkan\n",
      "Index: 685, Teks: Disamarkan\n",
      "Index: 731, Teks: Disamarkan\n",
      "Index: 754, Teks: Disamarkan\n",
      "Index: 755, Teks: Disamarkan\n",
      "Index: 760, Teks: Disamarkan\n",
      "Index: 761, Teks: Disamarkan\n",
      "Index: 767, Teks: Disamarkan\n",
      "Index: 768, Teks: Disamarkan\n",
      "Index: 771, Teks: Disamarkan\n",
      "Index: 772, Teks: Disamarkan\n",
      "Index: 837, Teks: Disamarkan\n",
      "Index: 851, Teks: Disamarkan\n",
      "Index: 875, Teks: Disamarkan\n",
      "Index: 884, Teks: Disamarkan\n",
      "Index: 892, Teks: Disamarkan\n",
      "Index: 893, Teks: Disamarkan\n",
      "Index: 894, Teks: Disamarkan\n",
      "Index: 908, Teks: Disamarkan\n",
      "Index: 924, Teks: Disamarkan\n",
      "Index: 925, Teks: Disamarkan\n",
      "Index: 936, Teks: Disamarkan\n",
      "Index: 937, Teks: Disamarkan\n",
      "Index: 938, Teks: Disamarkan\n",
      "Index: 939, Teks: Disamarkan\n",
      "Index: 948, Teks: Disamarkan\n",
      "Index: 954, Teks: Disamarkan\n",
      "Index: 970, Teks: Disamarkan\n",
      "Index: 986, Teks: Disamarkan\n",
      "Index: 1002, Teks: Disamarkan\n",
      "Index: 1035, Teks: Disamarkan\n",
      "Index: 1073, Teks: Disamarkan\n",
      "Index: 1101, Teks: Disamarkan\n",
      "Index: 1113, Teks: Disamarkan\n",
      "Index: 1180, Teks: Disamarkan\n",
      "Index: 1228, Teks: Disamarkan\n",
      "Index: 1241, Teks: Disamarkan\n",
      "Index: 1250, Teks: Disamarkan\n",
      "Index: 1255, Teks: Diancam pidana dalam pasal 363 ayat (1) ke-4 dan ke-5 KUHP\n",
      "Index: 1259, Teks: Pasal 374 Kitab Undang-undang Hukum Pidana.\n",
      "Index: 1260, Teks: Pasal 362 Kitab Undang-undang Hukum Pidana Jo. Pasal 64 ayat (1) Kitab Undang-undang Hukum Pidana.\n",
      "Index: 1261, Teks: Kesatu : Pasal 2 ayat (1) UU Drt No. 12 tahun 1951\n",
      "dan\n",
      "Kedua : Pasal 351 ayat (1) KUHP\n",
      "Index: 1264, Teks: Pasal 351 ayat (1) Kitab Undang-undang Hukum pidana.\n",
      "Index: 1265, Teks: Pertama : Pasal 187 ayat (1) KUHP\n",
      "dan\n",
      "Kedua : Pasal 363 ayat (1) ke- 5 KUHP\n",
      "Index: 1266, Teks: Pasal 362 Kitab Undang-undang Hukum Pidana.\n"
     ]
    }
   ],
   "source": [
    "short_texts_with_index = [(index, text) for index, text in enumerate(df_copy['dakwaan']) if len(text) < 100]\n",
    "\n",
    "# Menampilkan hasil\n",
    "for index, text in short_texts_with_index:\n",
    "    print(f\"Index: {index}, Teks: {text}\")"
   ]
  },
  {
   "cell_type": "markdown",
   "metadata": {},
   "source": [
    "## Data Transformation"
   ]
  },
  {
   "cell_type": "markdown",
   "metadata": {},
   "source": []
  },
  {
   "cell_type": "markdown",
   "metadata": {},
   "source": [
    "## Data Validation"
   ]
  },
  {
   "cell_type": "markdown",
   "metadata": {},
   "source": []
  },
  {
   "cell_type": "markdown",
   "metadata": {},
   "source": [
    "# Exploratory Data Analysis"
   ]
  },
  {
   "cell_type": "markdown",
   "metadata": {},
   "source": []
  },
  {
   "cell_type": "markdown",
   "metadata": {},
   "source": [
    "# Model Preprocessing"
   ]
  },
  {
   "cell_type": "markdown",
   "metadata": {},
   "source": [
    "## Data Normalization"
   ]
  },
  {
   "cell_type": "markdown",
   "metadata": {},
   "source": []
  },
  {
   "cell_type": "markdown",
   "metadata": {},
   "source": [
    "## Text Summarization"
   ]
  },
  {
   "cell_type": "markdown",
   "metadata": {},
   "source": []
  }
 ],
 "metadata": {
  "kernelspec": {
   "display_name": "Python 3",
   "language": "python",
   "name": "python3"
  },
  "language_info": {
   "codemirror_mode": {
    "name": "ipython",
    "version": 3
   },
   "file_extension": ".py",
   "mimetype": "text/x-python",
   "name": "python",
   "nbconvert_exporter": "python",
   "pygments_lexer": "ipython3",
   "version": "3.10.8"
  }
 },
 "nbformat": 4,
 "nbformat_minor": 2
}
